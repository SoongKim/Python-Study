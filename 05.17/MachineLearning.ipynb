{
 "cells": [
  {
   "cell_type": "markdown",
   "id": "24252abf-1502-4452-be52-8dd31409ec37",
   "metadata": {},
   "source": [
    "## 01. 모듈 호출"
   ]
  },
  {
   "cell_type": "code",
   "execution_count": 1,
   "id": "9280a5db-0aad-458a-b165-1dfd3c4d024e",
   "metadata": {},
   "outputs": [],
   "source": [
    "import pandas as pd\n",
    "# pandas 모듈 호출"
   ]
  },
  {
   "cell_type": "code",
   "execution_count": 2,
   "id": "56dd6971-8166-4c44-bf6c-8c12e9ac165c",
   "metadata": {},
   "outputs": [],
   "source": [
    "import numpy as np\n",
    "# numpy 모듈 호출"
   ]
  },
  {
   "cell_type": "code",
   "execution_count": 4,
   "id": "d88d39ae-1c0c-4808-95c5-6e3e11fc2b82",
   "metadata": {},
   "outputs": [],
   "source": [
    "from sklearn import datasets, tree\n",
    "from sklearn.metrics import mean_squared_error\n",
    "from sklearn.metrics import mean_absolute_error"
   ]
  },
  {
   "cell_type": "markdown",
   "id": "a99f9722-879f-4e19-90e3-c8a84e49edbf",
   "metadata": {},
   "source": [
    "## 02. 대상 데이터 불러오기"
   ]
  },
  {
   "cell_type": "code",
   "execution_count": 5,
   "id": "cf39c5fc-89fa-4866-b394-7992408eaf27",
   "metadata": {},
   "outputs": [],
   "source": [
    "featuresData = \\\n",
    "pd.read_csv(\"../../../stdcode6/dataset/feature_regression_example.csv\")"
   ]
  },
  {
   "cell_type": "code",
   "execution_count": 6,
   "id": "1f22f19b-7daa-453b-a715-8fe22fc62699",
   "metadata": {},
   "outputs": [
    {
     "data": {
      "text/html": [
       "<div>\n",
       "<style scoped>\n",
       "    .dataframe tbody tr th:only-of-type {\n",
       "        vertical-align: middle;\n",
       "    }\n",
       "\n",
       "    .dataframe tbody tr th {\n",
       "        vertical-align: top;\n",
       "    }\n",
       "\n",
       "    .dataframe thead th {\n",
       "        text-align: right;\n",
       "    }\n",
       "</style>\n",
       "<table border=\"1\" class=\"dataframe\">\n",
       "  <thead>\n",
       "    <tr style=\"text-align: right;\">\n",
       "      <th></th>\n",
       "      <th>REGIONID</th>\n",
       "      <th>PRODUCTGROUP</th>\n",
       "      <th>PRODUCT</th>\n",
       "      <th>ITEM</th>\n",
       "      <th>YEARWEEK</th>\n",
       "      <th>YEAR</th>\n",
       "      <th>WEEK</th>\n",
       "      <th>QTY</th>\n",
       "      <th>HOLIDAY</th>\n",
       "      <th>HCLUS</th>\n",
       "      <th>PROMOTION</th>\n",
       "      <th>PRO_PERCENT</th>\n",
       "    </tr>\n",
       "  </thead>\n",
       "  <tbody>\n",
       "    <tr>\n",
       "      <th>0</th>\n",
       "      <td>SEOUL_BANK_001</td>\n",
       "      <td>PG02</td>\n",
       "      <td>PRODUCT0010</td>\n",
       "      <td>ITEM0115</td>\n",
       "      <td>201501</td>\n",
       "      <td>2015</td>\n",
       "      <td>1</td>\n",
       "      <td>1225</td>\n",
       "      <td>Y</td>\n",
       "      <td>1</td>\n",
       "      <td>Y</td>\n",
       "      <td>0.209442</td>\n",
       "    </tr>\n",
       "    <tr>\n",
       "      <th>1</th>\n",
       "      <td>SEOUL_BANK_001</td>\n",
       "      <td>PG02</td>\n",
       "      <td>PRODUCT0010</td>\n",
       "      <td>ITEM0115</td>\n",
       "      <td>201502</td>\n",
       "      <td>2015</td>\n",
       "      <td>2</td>\n",
       "      <td>968</td>\n",
       "      <td>N</td>\n",
       "      <td>4</td>\n",
       "      <td>Y</td>\n",
       "      <td>0.209442</td>\n",
       "    </tr>\n",
       "    <tr>\n",
       "      <th>2</th>\n",
       "      <td>SEOUL_BANK_001</td>\n",
       "      <td>PG02</td>\n",
       "      <td>PRODUCT0010</td>\n",
       "      <td>ITEM0115</td>\n",
       "      <td>201503</td>\n",
       "      <td>2015</td>\n",
       "      <td>3</td>\n",
       "      <td>1209</td>\n",
       "      <td>N</td>\n",
       "      <td>4</td>\n",
       "      <td>Y</td>\n",
       "      <td>0.208155</td>\n",
       "    </tr>\n",
       "    <tr>\n",
       "      <th>3</th>\n",
       "      <td>SEOUL_BANK_001</td>\n",
       "      <td>PG02</td>\n",
       "      <td>PRODUCT0010</td>\n",
       "      <td>ITEM0115</td>\n",
       "      <td>201504</td>\n",
       "      <td>2015</td>\n",
       "      <td>4</td>\n",
       "      <td>1810</td>\n",
       "      <td>Y</td>\n",
       "      <td>2</td>\n",
       "      <td>Y</td>\n",
       "      <td>0.208155</td>\n",
       "    </tr>\n",
       "    <tr>\n",
       "      <th>4</th>\n",
       "      <td>SEOUL_BANK_001</td>\n",
       "      <td>PG02</td>\n",
       "      <td>PRODUCT0010</td>\n",
       "      <td>ITEM0115</td>\n",
       "      <td>201505</td>\n",
       "      <td>2015</td>\n",
       "      <td>5</td>\n",
       "      <td>1773</td>\n",
       "      <td>N</td>\n",
       "      <td>4</td>\n",
       "      <td>Y</td>\n",
       "      <td>0.208155</td>\n",
       "    </tr>\n",
       "  </tbody>\n",
       "</table>\n",
       "</div>"
      ],
      "text/plain": [
       "         REGIONID PRODUCTGROUP      PRODUCT      ITEM  YEARWEEK  YEAR  WEEK  \\\n",
       "0  SEOUL_BANK_001         PG02  PRODUCT0010  ITEM0115    201501  2015     1   \n",
       "1  SEOUL_BANK_001         PG02  PRODUCT0010  ITEM0115    201502  2015     2   \n",
       "2  SEOUL_BANK_001         PG02  PRODUCT0010  ITEM0115    201503  2015     3   \n",
       "3  SEOUL_BANK_001         PG02  PRODUCT0010  ITEM0115    201504  2015     4   \n",
       "4  SEOUL_BANK_001         PG02  PRODUCT0010  ITEM0115    201505  2015     5   \n",
       "\n",
       "    QTY HOLIDAY  HCLUS PROMOTION  PRO_PERCENT  \n",
       "0  1225       Y      1         Y     0.209442  \n",
       "1   968       N      4         Y     0.209442  \n",
       "2  1209       N      4         Y     0.208155  \n",
       "3  1810       Y      2         Y     0.208155  \n",
       "4  1773       N      4         Y     0.208155  "
      ]
     },
     "execution_count": 6,
     "metadata": {},
     "output_type": "execute_result"
    }
   ],
   "source": [
    "featuresData.head(5)"
   ]
  },
  {
   "cell_type": "markdown",
   "id": "58cae2c5-33d3-4ada-9e61-ba4ebd578173",
   "metadata": {},
   "source": [
    "## 03. 데이터 형변환"
   ]
  },
  {
   "cell_type": "code",
   "execution_count": 8,
   "id": "6ccdb724-de5f-4324-a747-e3ef5c0be46d",
   "metadata": {},
   "outputs": [
    {
     "data": {
      "text/plain": [
       "REGIONID         object\n",
       "PRODUCTGROUP     object\n",
       "PRODUCT          object\n",
       "ITEM             object\n",
       "YEARWEEK          int64\n",
       "YEAR              int64\n",
       "WEEK              int64\n",
       "QTY               int64\n",
       "HOLIDAY          object\n",
       "HCLUS             int64\n",
       "PROMOTION        object\n",
       "PRO_PERCENT     float64\n",
       "dtype: object"
      ]
     },
     "execution_count": 8,
     "metadata": {},
     "output_type": "execute_result"
    }
   ],
   "source": [
    "featuresData.dtypes"
   ]
  },
  {
   "cell_type": "code",
   "execution_count": 9,
   "id": "59504d7e-7992-4c92-b2b1-aaa79323328e",
   "metadata": {},
   "outputs": [],
   "source": [
    "featuresData[\"YEARWEEK\"] = featuresData.YEARWEEK.astype(int)"
   ]
  },
  {
   "cell_type": "code",
   "execution_count": 10,
   "id": "2dfa074f-e7d7-44b7-85a9-97fce2a69329",
   "metadata": {},
   "outputs": [],
   "source": [
    "featuresData[\"YEAR\"] = featuresData.YEARWEEK.astype(int)"
   ]
  },
  {
   "cell_type": "code",
   "execution_count": 11,
   "id": "2d1330ea-2ac5-4f38-8be4-137c2b52b171",
   "metadata": {},
   "outputs": [],
   "source": [
    "featuresData[\"WEEK\"] = featuresData.WEEK.astype(int)"
   ]
  },
  {
   "cell_type": "code",
   "execution_count": 12,
   "id": "7bc10df6-717e-4b19-b8b7-8533af3e0c74",
   "metadata": {
    "tags": []
   },
   "outputs": [
    {
     "data": {
      "text/plain": [
       "REGIONID         object\n",
       "PRODUCTGROUP     object\n",
       "PRODUCT          object\n",
       "ITEM             object\n",
       "YEARWEEK          int32\n",
       "YEAR              int32\n",
       "WEEK              int32\n",
       "QTY               int64\n",
       "HOLIDAY          object\n",
       "HCLUS             int64\n",
       "PROMOTION        object\n",
       "PRO_PERCENT     float64\n",
       "dtype: object"
      ]
     },
     "execution_count": 12,
     "metadata": {},
     "output_type": "execute_result"
    }
   ],
   "source": [
    "featuresData.dtypes"
   ]
  },
  {
   "cell_type": "code",
   "execution_count": null,
   "id": "f0bd68e5-c527-4403-943f-278735a930ef",
   "metadata": {},
   "outputs": [],
   "source": [
    "# 데이터 형변환을 통해 int64에서 int32로 YEARWEEK, YEAR, WEEK 컬럼 데이터 타입을 변환."
   ]
  },
  {
   "cell_type": "markdown",
   "id": "1211d8a6-e757-425a-aa8b-4ef0b9db3005",
   "metadata": {},
   "source": [
    "## 04. 특성 타입 추가. 컬럼 신설"
   ]
  },
  {
   "cell_type": "code",
   "execution_count": 13,
   "id": "e1b0f24b-ee78-45fe-8a1e-1a27747b1369",
   "metadata": {},
   "outputs": [],
   "source": [
    "featuresData[\"HO_YN\"] = \\\n",
    "np.where(featuresData.HOLIDAY == \"Y\", 1, 0)\n",
    "# HO_YN 컬럼을 신설. HOLIDAY가 Y라면 1, 아니라면 0 값을 산입"
   ]
  },
  {
   "cell_type": "code",
   "execution_count": 14,
   "id": "d8708c1b-00ff-4c7f-b0ef-576c90350514",
   "metadata": {},
   "outputs": [],
   "source": [
    "featuresData[\"PRO_YN\"] =\\\n",
    "np.where(featuresData.PROMOTION == \"Y\", 1, 0)\n",
    "# PRO_YN 컬럼을 신설. PROMOTION이 Y라면 1, 아니라면 0 값을 산입"
   ]
  },
  {
   "cell_type": "code",
   "execution_count": 17,
   "id": "719db18c-2d46-44dc-8948-e797aea731e3",
   "metadata": {},
   "outputs": [
    {
     "data": {
      "text/html": [
       "<div>\n",
       "<style scoped>\n",
       "    .dataframe tbody tr th:only-of-type {\n",
       "        vertical-align: middle;\n",
       "    }\n",
       "\n",
       "    .dataframe tbody tr th {\n",
       "        vertical-align: top;\n",
       "    }\n",
       "\n",
       "    .dataframe thead th {\n",
       "        text-align: right;\n",
       "    }\n",
       "</style>\n",
       "<table border=\"1\" class=\"dataframe\">\n",
       "  <thead>\n",
       "    <tr style=\"text-align: right;\">\n",
       "      <th></th>\n",
       "      <th>REGIONID</th>\n",
       "      <th>PRODUCTGROUP</th>\n",
       "      <th>PRODUCT</th>\n",
       "      <th>ITEM</th>\n",
       "      <th>YEARWEEK</th>\n",
       "      <th>YEAR</th>\n",
       "      <th>WEEK</th>\n",
       "      <th>QTY</th>\n",
       "      <th>HOLIDAY</th>\n",
       "      <th>HCLUS</th>\n",
       "      <th>PROMOTION</th>\n",
       "      <th>PRO_PERCENT</th>\n",
       "      <th>HO_YN</th>\n",
       "      <th>PRO_YN</th>\n",
       "    </tr>\n",
       "  </thead>\n",
       "  <tbody>\n",
       "    <tr>\n",
       "      <th>0</th>\n",
       "      <td>SEOUL_BANK_001</td>\n",
       "      <td>PG02</td>\n",
       "      <td>PRODUCT0010</td>\n",
       "      <td>ITEM0115</td>\n",
       "      <td>201501</td>\n",
       "      <td>201501</td>\n",
       "      <td>1</td>\n",
       "      <td>1225</td>\n",
       "      <td>Y</td>\n",
       "      <td>1</td>\n",
       "      <td>Y</td>\n",
       "      <td>0.209442</td>\n",
       "      <td>1</td>\n",
       "      <td>1</td>\n",
       "    </tr>\n",
       "  </tbody>\n",
       "</table>\n",
       "</div>"
      ],
      "text/plain": [
       "         REGIONID PRODUCTGROUP      PRODUCT      ITEM  YEARWEEK    YEAR  WEEK  \\\n",
       "0  SEOUL_BANK_001         PG02  PRODUCT0010  ITEM0115    201501  201501     1   \n",
       "\n",
       "    QTY HOLIDAY  HCLUS PROMOTION  PRO_PERCENT  HO_YN  PRO_YN  \n",
       "0  1225       Y      1         Y     0.209442      1       1  "
      ]
     },
     "execution_count": 17,
     "metadata": {},
     "output_type": "execute_result"
    }
   ],
   "source": [
    "featuresData.head(1)\n",
    "# 컬럼 두 개가 생성되었음을 확인"
   ]
  },
  {
   "cell_type": "markdown",
   "id": "b84794c4-52d4-4b2a-a044-f91fcb910935",
   "metadata": {},
   "source": [
    "### 04-1. 반증 사례 검증"
   ]
  },
  {
   "cell_type": "code",
   "execution_count": 19,
   "id": "28c9d030-e708-40bd-a03e-b0fe9f8b54c2",
   "metadata": {
    "tags": []
   },
   "outputs": [
    {
     "data": {
      "text/html": [
       "<div>\n",
       "<style scoped>\n",
       "    .dataframe tbody tr th:only-of-type {\n",
       "        vertical-align: middle;\n",
       "    }\n",
       "\n",
       "    .dataframe tbody tr th {\n",
       "        vertical-align: top;\n",
       "    }\n",
       "\n",
       "    .dataframe thead th {\n",
       "        text-align: right;\n",
       "    }\n",
       "</style>\n",
       "<table border=\"1\" class=\"dataframe\">\n",
       "  <thead>\n",
       "    <tr style=\"text-align: right;\">\n",
       "      <th></th>\n",
       "      <th>REGIONID</th>\n",
       "      <th>PRODUCTGROUP</th>\n",
       "      <th>PRODUCT</th>\n",
       "      <th>ITEM</th>\n",
       "      <th>YEARWEEK</th>\n",
       "      <th>YEAR</th>\n",
       "      <th>WEEK</th>\n",
       "      <th>QTY</th>\n",
       "      <th>HOLIDAY</th>\n",
       "      <th>HCLUS</th>\n",
       "      <th>PROMOTION</th>\n",
       "      <th>PRO_PERCENT</th>\n",
       "      <th>HO_YN</th>\n",
       "      <th>PRO_YN</th>\n",
       "    </tr>\n",
       "  </thead>\n",
       "  <tbody>\n",
       "  </tbody>\n",
       "</table>\n",
       "</div>"
      ],
      "text/plain": [
       "Empty DataFrame\n",
       "Columns: [REGIONID, PRODUCTGROUP, PRODUCT, ITEM, YEARWEEK, YEAR, WEEK, QTY, HOLIDAY, HCLUS, PROMOTION, PRO_PERCENT, HO_YN, PRO_YN]\n",
       "Index: []"
      ]
     },
     "execution_count": 19,
     "metadata": {},
     "output_type": "execute_result"
    }
   ],
   "source": [
    "featuresData.loc[(featuresData.HO_YN == 1) \\\n",
    "                 & (featuresData.HOLIDAY == \"N\")]"
   ]
  },
  {
   "cell_type": "code",
   "execution_count": 20,
   "id": "2a5712a7-19ec-4f60-948a-2547c1a72963",
   "metadata": {},
   "outputs": [
    {
     "data": {
      "text/html": [
       "<div>\n",
       "<style scoped>\n",
       "    .dataframe tbody tr th:only-of-type {\n",
       "        vertical-align: middle;\n",
       "    }\n",
       "\n",
       "    .dataframe tbody tr th {\n",
       "        vertical-align: top;\n",
       "    }\n",
       "\n",
       "    .dataframe thead th {\n",
       "        text-align: right;\n",
       "    }\n",
       "</style>\n",
       "<table border=\"1\" class=\"dataframe\">\n",
       "  <thead>\n",
       "    <tr style=\"text-align: right;\">\n",
       "      <th></th>\n",
       "      <th>REGIONID</th>\n",
       "      <th>PRODUCTGROUP</th>\n",
       "      <th>PRODUCT</th>\n",
       "      <th>ITEM</th>\n",
       "      <th>YEARWEEK</th>\n",
       "      <th>YEAR</th>\n",
       "      <th>WEEK</th>\n",
       "      <th>QTY</th>\n",
       "      <th>HOLIDAY</th>\n",
       "      <th>HCLUS</th>\n",
       "      <th>PROMOTION</th>\n",
       "      <th>PRO_PERCENT</th>\n",
       "      <th>HO_YN</th>\n",
       "      <th>PRO_YN</th>\n",
       "    </tr>\n",
       "  </thead>\n",
       "  <tbody>\n",
       "  </tbody>\n",
       "</table>\n",
       "</div>"
      ],
      "text/plain": [
       "Empty DataFrame\n",
       "Columns: [REGIONID, PRODUCTGROUP, PRODUCT, ITEM, YEARWEEK, YEAR, WEEK, QTY, HOLIDAY, HCLUS, PROMOTION, PRO_PERCENT, HO_YN, PRO_YN]\n",
       "Index: []"
      ]
     },
     "execution_count": 20,
     "metadata": {},
     "output_type": "execute_result"
    }
   ],
   "source": [
    "featuresData.loc[(featuresData.HO_YN == 0) \\\n",
    "                 & (featuresData.HOLIDAY == \"Y\")]"
   ]
  },
  {
   "cell_type": "code",
   "execution_count": 21,
   "id": "b8cac6b9-f8a7-4e08-b04a-e2836a338668",
   "metadata": {},
   "outputs": [
    {
     "data": {
      "text/html": [
       "<div>\n",
       "<style scoped>\n",
       "    .dataframe tbody tr th:only-of-type {\n",
       "        vertical-align: middle;\n",
       "    }\n",
       "\n",
       "    .dataframe tbody tr th {\n",
       "        vertical-align: top;\n",
       "    }\n",
       "\n",
       "    .dataframe thead th {\n",
       "        text-align: right;\n",
       "    }\n",
       "</style>\n",
       "<table border=\"1\" class=\"dataframe\">\n",
       "  <thead>\n",
       "    <tr style=\"text-align: right;\">\n",
       "      <th></th>\n",
       "      <th>REGIONID</th>\n",
       "      <th>PRODUCTGROUP</th>\n",
       "      <th>PRODUCT</th>\n",
       "      <th>ITEM</th>\n",
       "      <th>YEARWEEK</th>\n",
       "      <th>YEAR</th>\n",
       "      <th>WEEK</th>\n",
       "      <th>QTY</th>\n",
       "      <th>HOLIDAY</th>\n",
       "      <th>HCLUS</th>\n",
       "      <th>PROMOTION</th>\n",
       "      <th>PRO_PERCENT</th>\n",
       "      <th>HO_YN</th>\n",
       "      <th>PRO_YN</th>\n",
       "    </tr>\n",
       "  </thead>\n",
       "  <tbody>\n",
       "  </tbody>\n",
       "</table>\n",
       "</div>"
      ],
      "text/plain": [
       "Empty DataFrame\n",
       "Columns: [REGIONID, PRODUCTGROUP, PRODUCT, ITEM, YEARWEEK, YEAR, WEEK, QTY, HOLIDAY, HCLUS, PROMOTION, PRO_PERCENT, HO_YN, PRO_YN]\n",
       "Index: []"
      ]
     },
     "execution_count": 21,
     "metadata": {},
     "output_type": "execute_result"
    }
   ],
   "source": [
    "featuresData.loc[(featuresData.PRO_YN == 1) \\\n",
    "                 & (featuresData.PROMOTION == \"N\")]"
   ]
  },
  {
   "cell_type": "code",
   "execution_count": 22,
   "id": "bd66d4b7-2835-4573-8527-fff347b85c0b",
   "metadata": {},
   "outputs": [
    {
     "data": {
      "text/html": [
       "<div>\n",
       "<style scoped>\n",
       "    .dataframe tbody tr th:only-of-type {\n",
       "        vertical-align: middle;\n",
       "    }\n",
       "\n",
       "    .dataframe tbody tr th {\n",
       "        vertical-align: top;\n",
       "    }\n",
       "\n",
       "    .dataframe thead th {\n",
       "        text-align: right;\n",
       "    }\n",
       "</style>\n",
       "<table border=\"1\" class=\"dataframe\">\n",
       "  <thead>\n",
       "    <tr style=\"text-align: right;\">\n",
       "      <th></th>\n",
       "      <th>REGIONID</th>\n",
       "      <th>PRODUCTGROUP</th>\n",
       "      <th>PRODUCT</th>\n",
       "      <th>ITEM</th>\n",
       "      <th>YEARWEEK</th>\n",
       "      <th>YEAR</th>\n",
       "      <th>WEEK</th>\n",
       "      <th>QTY</th>\n",
       "      <th>HOLIDAY</th>\n",
       "      <th>HCLUS</th>\n",
       "      <th>PROMOTION</th>\n",
       "      <th>PRO_PERCENT</th>\n",
       "      <th>HO_YN</th>\n",
       "      <th>PRO_YN</th>\n",
       "    </tr>\n",
       "  </thead>\n",
       "  <tbody>\n",
       "  </tbody>\n",
       "</table>\n",
       "</div>"
      ],
      "text/plain": [
       "Empty DataFrame\n",
       "Columns: [REGIONID, PRODUCTGROUP, PRODUCT, ITEM, YEARWEEK, YEAR, WEEK, QTY, HOLIDAY, HCLUS, PROMOTION, PRO_PERCENT, HO_YN, PRO_YN]\n",
       "Index: []"
      ]
     },
     "execution_count": 22,
     "metadata": {},
     "output_type": "execute_result"
    }
   ],
   "source": [
    "featuresData.loc[(featuresData.PRO_YN == 0) \\\n",
    "                 & (featuresData.PROMOTION == \"Y\")]"
   ]
  },
  {
   "cell_type": "code",
   "execution_count": null,
   "id": "af583618-676f-4d7a-836e-89fe3933c6a6",
   "metadata": {},
   "outputs": [],
   "source": [
    "# HOLIDAY와 PROMOTION이 Y일 시 1, 아닐 시 0 값을 산입하였으므로\n",
    "# HOLIDAY와 PROMOTION이 Y이며 신설 컬럼에 0이 들어간 컬럼이 존재하는지,\n",
    "# HOLIDAY와 PROMOTION이 N이며 신설 컬럼에 1이 들어간 컬럼이 존재하는지 확인.\n",
    "# 네 가지 사례 모두 해당하는 데이터가 존재하지 않으므로, 올바르게 입력되었음을 확인."
   ]
  },
  {
   "cell_type": "markdown",
   "id": "6e78d092-b1c3-4aac-b4ed-3cd14d958471",
   "metadata": {},
   "source": [
    "## 05. 상관관계 확인 DataFrame 생성"
   ]
  },
  {
   "cell_type": "code",
   "execution_count": 23,
   "id": "5a145101-91c8-4db4-a778-6753f6402b42",
   "metadata": {},
   "outputs": [],
   "source": [
    "corrDf = featuresData.corr()"
   ]
  },
  {
   "cell_type": "code",
   "execution_count": 24,
   "id": "660f4eaa-8923-43d0-8ef7-16e0e1a161b1",
   "metadata": {
    "collapsed": true,
    "jupyter": {
     "outputs_hidden": true
    },
    "tags": []
   },
   "outputs": [
    {
     "data": {
      "text/html": [
       "<div>\n",
       "<style scoped>\n",
       "    .dataframe tbody tr th:only-of-type {\n",
       "        vertical-align: middle;\n",
       "    }\n",
       "\n",
       "    .dataframe tbody tr th {\n",
       "        vertical-align: top;\n",
       "    }\n",
       "\n",
       "    .dataframe thead th {\n",
       "        text-align: right;\n",
       "    }\n",
       "</style>\n",
       "<table border=\"1\" class=\"dataframe\">\n",
       "  <thead>\n",
       "    <tr style=\"text-align: right;\">\n",
       "      <th></th>\n",
       "      <th>YEARWEEK</th>\n",
       "      <th>YEAR</th>\n",
       "      <th>WEEK</th>\n",
       "      <th>QTY</th>\n",
       "      <th>HCLUS</th>\n",
       "      <th>PRO_PERCENT</th>\n",
       "      <th>HO_YN</th>\n",
       "      <th>PRO_YN</th>\n",
       "    </tr>\n",
       "  </thead>\n",
       "  <tbody>\n",
       "    <tr>\n",
       "      <th>YEARWEEK</th>\n",
       "      <td>1.000000</td>\n",
       "      <td>1.000000</td>\n",
       "      <td>0.275593</td>\n",
       "      <td>0.112267</td>\n",
       "      <td>-0.071586</td>\n",
       "      <td>0.404889</td>\n",
       "      <td>0.049867</td>\n",
       "      <td>0.205916</td>\n",
       "    </tr>\n",
       "    <tr>\n",
       "      <th>YEAR</th>\n",
       "      <td>1.000000</td>\n",
       "      <td>1.000000</td>\n",
       "      <td>0.275593</td>\n",
       "      <td>0.112267</td>\n",
       "      <td>-0.071586</td>\n",
       "      <td>0.404889</td>\n",
       "      <td>0.049867</td>\n",
       "      <td>0.205916</td>\n",
       "    </tr>\n",
       "    <tr>\n",
       "      <th>WEEK</th>\n",
       "      <td>0.275593</td>\n",
       "      <td>0.275593</td>\n",
       "      <td>1.000000</td>\n",
       "      <td>0.289766</td>\n",
       "      <td>-0.339943</td>\n",
       "      <td>0.329705</td>\n",
       "      <td>0.273710</td>\n",
       "      <td>0.060206</td>\n",
       "    </tr>\n",
       "    <tr>\n",
       "      <th>QTY</th>\n",
       "      <td>0.112267</td>\n",
       "      <td>0.112267</td>\n",
       "      <td>0.289766</td>\n",
       "      <td>1.000000</td>\n",
       "      <td>-0.537230</td>\n",
       "      <td>0.700195</td>\n",
       "      <td>0.505932</td>\n",
       "      <td>0.612451</td>\n",
       "    </tr>\n",
       "    <tr>\n",
       "      <th>HCLUS</th>\n",
       "      <td>-0.071586</td>\n",
       "      <td>-0.071586</td>\n",
       "      <td>-0.339943</td>\n",
       "      <td>-0.537230</td>\n",
       "      <td>1.000000</td>\n",
       "      <td>-0.545619</td>\n",
       "      <td>-0.974601</td>\n",
       "      <td>-0.374072</td>\n",
       "    </tr>\n",
       "    <tr>\n",
       "      <th>PRO_PERCENT</th>\n",
       "      <td>0.404889</td>\n",
       "      <td>0.404889</td>\n",
       "      <td>0.329705</td>\n",
       "      <td>0.700195</td>\n",
       "      <td>-0.545619</td>\n",
       "      <td>1.000000</td>\n",
       "      <td>0.487062</td>\n",
       "      <td>0.898554</td>\n",
       "    </tr>\n",
       "    <tr>\n",
       "      <th>HO_YN</th>\n",
       "      <td>0.049867</td>\n",
       "      <td>0.049867</td>\n",
       "      <td>0.273710</td>\n",
       "      <td>0.505932</td>\n",
       "      <td>-0.974601</td>\n",
       "      <td>0.487062</td>\n",
       "      <td>1.000000</td>\n",
       "      <td>0.365148</td>\n",
       "    </tr>\n",
       "    <tr>\n",
       "      <th>PRO_YN</th>\n",
       "      <td>0.205916</td>\n",
       "      <td>0.205916</td>\n",
       "      <td>0.060206</td>\n",
       "      <td>0.612451</td>\n",
       "      <td>-0.374072</td>\n",
       "      <td>0.898554</td>\n",
       "      <td>0.365148</td>\n",
       "      <td>1.000000</td>\n",
       "    </tr>\n",
       "  </tbody>\n",
       "</table>\n",
       "</div>"
      ],
      "text/plain": [
       "             YEARWEEK      YEAR      WEEK       QTY     HCLUS  PRO_PERCENT  \\\n",
       "YEARWEEK     1.000000  1.000000  0.275593  0.112267 -0.071586     0.404889   \n",
       "YEAR         1.000000  1.000000  0.275593  0.112267 -0.071586     0.404889   \n",
       "WEEK         0.275593  0.275593  1.000000  0.289766 -0.339943     0.329705   \n",
       "QTY          0.112267  0.112267  0.289766  1.000000 -0.537230     0.700195   \n",
       "HCLUS       -0.071586 -0.071586 -0.339943 -0.537230  1.000000    -0.545619   \n",
       "PRO_PERCENT  0.404889  0.404889  0.329705  0.700195 -0.545619     1.000000   \n",
       "HO_YN        0.049867  0.049867  0.273710  0.505932 -0.974601     0.487062   \n",
       "PRO_YN       0.205916  0.205916  0.060206  0.612451 -0.374072     0.898554   \n",
       "\n",
       "                HO_YN    PRO_YN  \n",
       "YEARWEEK     0.049867  0.205916  \n",
       "YEAR         0.049867  0.205916  \n",
       "WEEK         0.273710  0.060206  \n",
       "QTY          0.505932  0.612451  \n",
       "HCLUS       -0.974601 -0.374072  \n",
       "PRO_PERCENT  0.487062  0.898554  \n",
       "HO_YN        1.000000  0.365148  \n",
       "PRO_YN       0.365148  1.000000  "
      ]
     },
     "execution_count": 24,
     "metadata": {},
     "output_type": "execute_result"
    }
   ],
   "source": [
    "corrDf"
   ]
  },
  {
   "cell_type": "code",
   "execution_count": null,
   "id": "5f33a23c-bedc-4648-b978-fa7e5c5f31fd",
   "metadata": {},
   "outputs": [],
   "source": [
    "# corr은 Co-rellation의 약자로, 두 데이터 간의 상관계수를 의미합니다.\n",
    "# 계수는 -1 이상 ~ +1 이하의 값을 지닙니다.\n",
    "# 값이 1에 수렴할 수록 유사한 움직임을 지닌다는 의미이며, 강한 양의 상관관계를 지닌다고 합니다.\n",
    "# 값이 -1에 수렴할 수록 서로 반대되는 움직임을 지닌다는 의미이며, 강한 음의 상관관계를 지닌다고 합니다.\n",
    "# 값이 0인 경우에는, 서로 상관 없이 움직인다는 의미를 지닙니다."
   ]
  },
  {
   "cell_type": "markdown",
   "id": "7ba4b212-c8ff-4cea-bdb1-1d5cd08c5740",
   "metadata": {},
   "source": [
    "## 06. 특성 선정 / 데이터의 분리"
   ]
  },
  {
   "cell_type": "markdown",
   "id": "0e2c2f99-92a9-4d63-a040-417192d56662",
   "metadata": {},
   "source": [
    "### 06-1. 특성의 선정"
   ]
  },
  {
   "cell_type": "code",
   "execution_count": 25,
   "id": "639ef4f4-a254-4686-b5cc-2d4ad6c5110e",
   "metadata": {},
   "outputs": [],
   "source": [
    "featuresStd = 0.5\n",
    "# 유의성을 지니는 상관계수 기준을 0.5로 설정하였습니다."
   ]
  },
  {
   "cell_type": "code",
   "execution_count": 26,
   "id": "4fe52b3e-d498-4916-970f-5f92d3e8c69a",
   "metadata": {},
   "outputs": [],
   "source": [
    "features = list(corrDf[(abs(corrDf.QTY) > featuresStd) & \\\n",
    "                       (abs(corrDf.QTY) != 1)].index)\n",
    "# QTY와의 상관관계가 0.5 이상인 데이터를 추립니다.\n",
    "# 상관관계가 1인 데이터는 자신을 의미하므로, 함께 추려내줍니다."
   ]
  },
  {
   "cell_type": "code",
   "execution_count": 27,
   "id": "651461a8-0923-40af-9e2a-d636f9cc30a1",
   "metadata": {},
   "outputs": [
    {
     "data": {
      "text/plain": [
       "['HCLUS', 'PRO_PERCENT', 'HO_YN', 'PRO_YN']"
      ]
     },
     "execution_count": 27,
     "metadata": {},
     "output_type": "execute_result"
    }
   ],
   "source": [
    "features\n",
    "# QTY와 유의성을 지니는 데이터의 컬럼명을 담은 list\n",
    "# 여기 담긴 친구들은 앞으로 features로 활용됩니다."
   ]
  },
  {
   "cell_type": "code",
   "execution_count": 28,
   "id": "20545fda-5e45-4cc3-80ec-4b130a10a5d2",
   "metadata": {},
   "outputs": [],
   "source": [
    "label = [\"QTY\"]\n",
    "# 머신러닝 간 분석 대상으로 삼을 데이터를 선언합니다.\n",
    "# 이 친구는 앞으로 label로 사용할 것입니다."
   ]
  },
  {
   "cell_type": "markdown",
   "id": "3e6aea09-5969-4553-b5ff-5108a9c9c229",
   "metadata": {},
   "source": [
    "### 06-2. 데이터의 분리"
   ]
  },
  {
   "cell_type": "code",
   "execution_count": 29,
   "id": "28617d78-fd20-414d-8395-7ae815a6d4ab",
   "metadata": {},
   "outputs": [],
   "source": [
    "yearweekStd = 201630\n",
    "# 2016년 30주차 데이터를 기준으로 Training-Data와 Test-Data를 구분합니다.\n",
    "# 보통 적합한 비율은 약 7-80 : 2-30 수준이라고 합니다."
   ]
  },
  {
   "cell_type": "code",
   "execution_count": 30,
   "id": "86ffac02-2c3c-409b-bd57-e189d2eb69e4",
   "metadata": {},
   "outputs": [],
   "source": [
    "trainingData_features = featuresData[featuresData.YEARWEEK <= yearweekStd][features]"
   ]
  },
  {
   "cell_type": "code",
   "execution_count": 31,
   "id": "a71d6751-65f5-403e-adcf-e22b88413298",
   "metadata": {},
   "outputs": [],
   "source": [
    "trainingData_label = featuresData[featuresData.YEARWEEK <= yearweekStd][label]"
   ]
  },
  {
   "cell_type": "code",
   "execution_count": 33,
   "id": "dc08aaa1-0b2d-4c77-8796-1115b259d597",
   "metadata": {},
   "outputs": [],
   "source": [
    "testData_features = featuresData[featuresData.YEARWEEK > yearweekStd][features]"
   ]
  },
  {
   "cell_type": "code",
   "execution_count": 55,
   "id": "a3dd71b3-eff5-4d19-8d69-9ab1598ab733",
   "metadata": {},
   "outputs": [],
   "source": [
    "testData_label = featuresData[featuresData.YEARWEEK > yearweekStd][label]"
   ]
  },
  {
   "cell_type": "code",
   "execution_count": null,
   "id": "cbfbbd66-2088-43d2-8f31-86735dfaaf8c",
   "metadata": {},
   "outputs": [],
   "source": [
    "# trainingData와 testData를 구분합니다. 구분의 기준은 기설정한 yearweekStd 입니다.\n",
    "# 즉, 2016년 30주차 이전 / 이후로 훈련용 데이터와 테스트 데이터를 구분한다는 이야기입니다."
   ]
  },
  {
   "cell_type": "code",
   "execution_count": null,
   "id": "88f751bf-f5f4-4026-8206-ae165fc127b6",
   "metadata": {},
   "outputs": [],
   "source": [
    "# features와 label은 06-1에서 설정한 features list와 label list를 의미합니다.\n",
    "# features list에는 HCLUS, PRO_PERCENT, HO_YN, PRO_YN이 담겨있으며,\n",
    "# label list에는 QTY가 담겨있습니다."
   ]
  },
  {
   "cell_type": "markdown",
   "id": "54aae064-800c-4570-830f-efb46d8de0ec",
   "metadata": {},
   "source": [
    "#### 06-2-1. 반례 사례 검증"
   ]
  },
  {
   "cell_type": "code",
   "execution_count": 35,
   "id": "c4c64336-1b80-4772-8eac-7897982140c5",
   "metadata": {},
   "outputs": [
    {
     "data": {
      "text/html": [
       "<div>\n",
       "<style scoped>\n",
       "    .dataframe tbody tr th:only-of-type {\n",
       "        vertical-align: middle;\n",
       "    }\n",
       "\n",
       "    .dataframe tbody tr th {\n",
       "        vertical-align: top;\n",
       "    }\n",
       "\n",
       "    .dataframe thead th {\n",
       "        text-align: right;\n",
       "    }\n",
       "</style>\n",
       "<table border=\"1\" class=\"dataframe\">\n",
       "  <thead>\n",
       "    <tr style=\"text-align: right;\">\n",
       "      <th></th>\n",
       "      <th>HCLUS</th>\n",
       "      <th>PRO_PERCENT</th>\n",
       "      <th>HO_YN</th>\n",
       "      <th>PRO_YN</th>\n",
       "    </tr>\n",
       "  </thead>\n",
       "  <tbody>\n",
       "  </tbody>\n",
       "</table>\n",
       "</div>"
      ],
      "text/plain": [
       "Empty DataFrame\n",
       "Columns: [HCLUS, PRO_PERCENT, HO_YN, PRO_YN]\n",
       "Index: []"
      ]
     },
     "execution_count": 35,
     "metadata": {},
     "output_type": "execute_result"
    }
   ],
   "source": [
    "trainingData_features.loc[featuresData.YEARWEEK > yearweekStd]"
   ]
  },
  {
   "cell_type": "code",
   "execution_count": 36,
   "id": "9c057a1e-3bc0-4451-8579-5ad94bf4f19e",
   "metadata": {},
   "outputs": [
    {
     "data": {
      "text/html": [
       "<div>\n",
       "<style scoped>\n",
       "    .dataframe tbody tr th:only-of-type {\n",
       "        vertical-align: middle;\n",
       "    }\n",
       "\n",
       "    .dataframe tbody tr th {\n",
       "        vertical-align: top;\n",
       "    }\n",
       "\n",
       "    .dataframe thead th {\n",
       "        text-align: right;\n",
       "    }\n",
       "</style>\n",
       "<table border=\"1\" class=\"dataframe\">\n",
       "  <thead>\n",
       "    <tr style=\"text-align: right;\">\n",
       "      <th></th>\n",
       "      <th>QTY</th>\n",
       "    </tr>\n",
       "  </thead>\n",
       "  <tbody>\n",
       "  </tbody>\n",
       "</table>\n",
       "</div>"
      ],
      "text/plain": [
       "Empty DataFrame\n",
       "Columns: [QTY]\n",
       "Index: []"
      ]
     },
     "execution_count": 36,
     "metadata": {},
     "output_type": "execute_result"
    }
   ],
   "source": [
    "trainingData_label.loc[featuresData.YEARWEEK > yearweekStd]"
   ]
  },
  {
   "cell_type": "code",
   "execution_count": 37,
   "id": "7023a7e4-c987-454e-8ba8-31256ac8a1f3",
   "metadata": {},
   "outputs": [
    {
     "data": {
      "text/html": [
       "<div>\n",
       "<style scoped>\n",
       "    .dataframe tbody tr th:only-of-type {\n",
       "        vertical-align: middle;\n",
       "    }\n",
       "\n",
       "    .dataframe tbody tr th {\n",
       "        vertical-align: top;\n",
       "    }\n",
       "\n",
       "    .dataframe thead th {\n",
       "        text-align: right;\n",
       "    }\n",
       "</style>\n",
       "<table border=\"1\" class=\"dataframe\">\n",
       "  <thead>\n",
       "    <tr style=\"text-align: right;\">\n",
       "      <th></th>\n",
       "      <th>HCLUS</th>\n",
       "      <th>PRO_PERCENT</th>\n",
       "      <th>HO_YN</th>\n",
       "      <th>PRO_YN</th>\n",
       "    </tr>\n",
       "  </thead>\n",
       "  <tbody>\n",
       "  </tbody>\n",
       "</table>\n",
       "</div>"
      ],
      "text/plain": [
       "Empty DataFrame\n",
       "Columns: [HCLUS, PRO_PERCENT, HO_YN, PRO_YN]\n",
       "Index: []"
      ]
     },
     "execution_count": 37,
     "metadata": {},
     "output_type": "execute_result"
    }
   ],
   "source": [
    "testData_features.loc[featuresData.YEARWEEK <= yearweekStd]"
   ]
  },
  {
   "cell_type": "code",
   "execution_count": 38,
   "id": "ea22feb3-8bcd-471f-a19c-8cc4b6f310d3",
   "metadata": {},
   "outputs": [
    {
     "data": {
      "text/html": [
       "<div>\n",
       "<style scoped>\n",
       "    .dataframe tbody tr th:only-of-type {\n",
       "        vertical-align: middle;\n",
       "    }\n",
       "\n",
       "    .dataframe tbody tr th {\n",
       "        vertical-align: top;\n",
       "    }\n",
       "\n",
       "    .dataframe thead th {\n",
       "        text-align: right;\n",
       "    }\n",
       "</style>\n",
       "<table border=\"1\" class=\"dataframe\">\n",
       "  <thead>\n",
       "    <tr style=\"text-align: right;\">\n",
       "      <th></th>\n",
       "      <th>HCLUS</th>\n",
       "      <th>PRO_PERCENT</th>\n",
       "      <th>HO_YN</th>\n",
       "      <th>PRO_YN</th>\n",
       "    </tr>\n",
       "  </thead>\n",
       "  <tbody>\n",
       "  </tbody>\n",
       "</table>\n",
       "</div>"
      ],
      "text/plain": [
       "Empty DataFrame\n",
       "Columns: [HCLUS, PRO_PERCENT, HO_YN, PRO_YN]\n",
       "Index: []"
      ]
     },
     "execution_count": 38,
     "metadata": {},
     "output_type": "execute_result"
    }
   ],
   "source": [
    "testData_features.loc[featuresData.YEARWEEK <= yearweekStd]"
   ]
  },
  {
   "cell_type": "code",
   "execution_count": null,
   "id": "f019b52d-2a60-45ee-8cb0-36883dec75d2",
   "metadata": {},
   "outputs": [],
   "source": [
    "# 반대 괄호값을 지닌 값들을 검증합니다.\n",
    "# 현재는 존재하지 않음을 확인하였으며, 이를 통해 정확히 데이터가 담겼음을 확인할 수 있습니다."
   ]
  },
  {
   "cell_type": "markdown",
   "id": "41a169f0-cc63-4048-bbc8-7f01e3e4f538",
   "metadata": {},
   "source": [
    "## 07. 모델의 선언과 학습"
   ]
  },
  {
   "cell_type": "code",
   "execution_count": 40,
   "id": "01723d86-e66d-42f4-ad13-5d59b22dfe97",
   "metadata": {},
   "outputs": [],
   "source": [
    "model_method = \\\n",
    "tree.DecisionTreeRegressor(random_state = 1)\n",
    "# tree Decision 모델을 설정하였습니다."
   ]
  },
  {
   "cell_type": "code",
   "execution_count": 41,
   "id": "f3761f8b-735e-4b11-b414-586ead5bfbb7",
   "metadata": {},
   "outputs": [],
   "source": [
    "model = model_method.fit(trainingData_features, \\\n",
    "                         trainingData_label)\n",
    "# 설정한 모델에게 trainingData_features와 trainingData-label을 주고 학습시킵니다."
   ]
  },
  {
   "cell_type": "markdown",
   "id": "d2f4dfbb-1348-4a8c-ae7c-571e8cd7b087",
   "metadata": {},
   "source": [
    "## 08. 예측 수행"
   ]
  },
  {
   "cell_type": "code",
   "execution_count": 44,
   "id": "92506758-ce92-42e9-b1cb-608047c03ff4",
   "metadata": {},
   "outputs": [],
   "source": [
    "predict = model.predict(testData_features)\n",
    "# 학습이 완료된 모델에게 testData_features 데이터를 던져줬습니다."
   ]
  },
  {
   "cell_type": "code",
   "execution_count": 45,
   "id": "7267f428-8736-42ab-b57f-c936f55f1970",
   "metadata": {},
   "outputs": [
    {
     "data": {
      "text/plain": [
       "array([1606.5       , 1606.5       ,  350.71428571, 1434.6       ,\n",
       "       1434.6       , 1434.6       , 1434.6       , 1434.6       ,\n",
       "       1606.5       , 1606.5       , 2620.42857143, 1606.5       ,\n",
       "        350.71428571, 2193.8       , 2193.8       , 2193.8       ,\n",
       "       2193.8       , 2193.8       , 2193.8       , 2193.8       ,\n",
       "       2193.8       , 2193.8       ])"
      ]
     },
     "execution_count": 45,
     "metadata": {},
     "output_type": "execute_result"
    }
   ],
   "source": [
    "predict\n",
    "# 모델이 예측한 판매량 데이터"
   ]
  },
  {
   "cell_type": "markdown",
   "id": "b6ee6e21-4990-4e81-a51d-e25805ebe539",
   "metadata": {},
   "source": [
    "## 09. 데이터 테이블 합산"
   ]
  },
  {
   "cell_type": "code",
   "execution_count": 56,
   "id": "64c84a13-81f6-4eb4-b5e6-ddda7a4ee10b",
   "metadata": {
    "collapsed": true,
    "jupyter": {
     "outputs_hidden": true
    },
    "tags": []
   },
   "outputs": [
    {
     "data": {
      "text/html": [
       "<div>\n",
       "<style scoped>\n",
       "    .dataframe tbody tr th:only-of-type {\n",
       "        vertical-align: middle;\n",
       "    }\n",
       "\n",
       "    .dataframe tbody tr th {\n",
       "        vertical-align: top;\n",
       "    }\n",
       "\n",
       "    .dataframe thead th {\n",
       "        text-align: right;\n",
       "    }\n",
       "</style>\n",
       "<table border=\"1\" class=\"dataframe\">\n",
       "  <thead>\n",
       "    <tr style=\"text-align: right;\">\n",
       "      <th></th>\n",
       "      <th>QTY</th>\n",
       "    </tr>\n",
       "  </thead>\n",
       "  <tbody>\n",
       "    <tr>\n",
       "      <th>83</th>\n",
       "      <td>1522</td>\n",
       "    </tr>\n",
       "    <tr>\n",
       "      <th>84</th>\n",
       "      <td>2100</td>\n",
       "    </tr>\n",
       "    <tr>\n",
       "      <th>85</th>\n",
       "      <td>43</td>\n",
       "    </tr>\n",
       "    <tr>\n",
       "      <th>86</th>\n",
       "      <td>1700</td>\n",
       "    </tr>\n",
       "    <tr>\n",
       "      <th>87</th>\n",
       "      <td>1514</td>\n",
       "    </tr>\n",
       "    <tr>\n",
       "      <th>88</th>\n",
       "      <td>1501</td>\n",
       "    </tr>\n",
       "    <tr>\n",
       "      <th>89</th>\n",
       "      <td>1491</td>\n",
       "    </tr>\n",
       "    <tr>\n",
       "      <th>90</th>\n",
       "      <td>806</td>\n",
       "    </tr>\n",
       "    <tr>\n",
       "      <th>91</th>\n",
       "      <td>2111</td>\n",
       "    </tr>\n",
       "    <tr>\n",
       "      <th>92</th>\n",
       "      <td>2400</td>\n",
       "    </tr>\n",
       "    <tr>\n",
       "      <th>93</th>\n",
       "      <td>2010</td>\n",
       "    </tr>\n",
       "    <tr>\n",
       "      <th>94</th>\n",
       "      <td>1900</td>\n",
       "    </tr>\n",
       "    <tr>\n",
       "      <th>95</th>\n",
       "      <td>141</td>\n",
       "    </tr>\n",
       "    <tr>\n",
       "      <th>96</th>\n",
       "      <td>1615</td>\n",
       "    </tr>\n",
       "    <tr>\n",
       "      <th>97</th>\n",
       "      <td>1574</td>\n",
       "    </tr>\n",
       "    <tr>\n",
       "      <th>98</th>\n",
       "      <td>1800</td>\n",
       "    </tr>\n",
       "    <tr>\n",
       "      <th>99</th>\n",
       "      <td>2600</td>\n",
       "    </tr>\n",
       "    <tr>\n",
       "      <th>100</th>\n",
       "      <td>2412</td>\n",
       "    </tr>\n",
       "    <tr>\n",
       "      <th>101</th>\n",
       "      <td>1955</td>\n",
       "    </tr>\n",
       "    <tr>\n",
       "      <th>102</th>\n",
       "      <td>1800</td>\n",
       "    </tr>\n",
       "    <tr>\n",
       "      <th>103</th>\n",
       "      <td>1173</td>\n",
       "    </tr>\n",
       "    <tr>\n",
       "      <th>104</th>\n",
       "      <td>332</td>\n",
       "    </tr>\n",
       "  </tbody>\n",
       "</table>\n",
       "</div>"
      ],
      "text/plain": [
       "      QTY\n",
       "83   1522\n",
       "84   2100\n",
       "85     43\n",
       "86   1700\n",
       "87   1514\n",
       "88   1501\n",
       "89   1491\n",
       "90    806\n",
       "91   2111\n",
       "92   2400\n",
       "93   2010\n",
       "94   1900\n",
       "95    141\n",
       "96   1615\n",
       "97   1574\n",
       "98   1800\n",
       "99   2600\n",
       "100  2412\n",
       "101  1955\n",
       "102  1800\n",
       "103  1173\n",
       "104   332"
      ]
     },
     "execution_count": 56,
     "metadata": {},
     "output_type": "execute_result"
    }
   ],
   "source": [
    "testData_label\n",
    "# 실제 발생하였던 판매량 데이터"
   ]
  },
  {
   "cell_type": "code",
   "execution_count": 62,
   "id": "a14accad-a7ea-4163-a37d-bac876effd7a",
   "metadata": {},
   "outputs": [],
   "source": [
    "predictData = pd.DataFrame(predict, columns = [\"PREDICT\"])\n",
    "# 비교를 위해 predict를 DataFrame으로 말아줍니다."
   ]
  },
  {
   "cell_type": "code",
   "execution_count": 68,
   "id": "6e21892e-7ca4-4a2a-9000-57af298be3b0",
   "metadata": {
    "collapsed": true,
    "jupyter": {
     "outputs_hidden": true
    },
    "tags": []
   },
   "outputs": [
    {
     "data": {
      "text/html": [
       "<div>\n",
       "<style scoped>\n",
       "    .dataframe tbody tr th:only-of-type {\n",
       "        vertical-align: middle;\n",
       "    }\n",
       "\n",
       "    .dataframe tbody tr th {\n",
       "        vertical-align: top;\n",
       "    }\n",
       "\n",
       "    .dataframe thead th {\n",
       "        text-align: right;\n",
       "    }\n",
       "</style>\n",
       "<table border=\"1\" class=\"dataframe\">\n",
       "  <thead>\n",
       "    <tr style=\"text-align: right;\">\n",
       "      <th></th>\n",
       "      <th>PREDICT</th>\n",
       "    </tr>\n",
       "  </thead>\n",
       "  <tbody>\n",
       "    <tr>\n",
       "      <th>0</th>\n",
       "      <td>1606.500000</td>\n",
       "    </tr>\n",
       "    <tr>\n",
       "      <th>1</th>\n",
       "      <td>1606.500000</td>\n",
       "    </tr>\n",
       "    <tr>\n",
       "      <th>2</th>\n",
       "      <td>350.714286</td>\n",
       "    </tr>\n",
       "    <tr>\n",
       "      <th>3</th>\n",
       "      <td>1434.600000</td>\n",
       "    </tr>\n",
       "    <tr>\n",
       "      <th>4</th>\n",
       "      <td>1434.600000</td>\n",
       "    </tr>\n",
       "    <tr>\n",
       "      <th>5</th>\n",
       "      <td>1434.600000</td>\n",
       "    </tr>\n",
       "    <tr>\n",
       "      <th>6</th>\n",
       "      <td>1434.600000</td>\n",
       "    </tr>\n",
       "    <tr>\n",
       "      <th>7</th>\n",
       "      <td>1434.600000</td>\n",
       "    </tr>\n",
       "    <tr>\n",
       "      <th>8</th>\n",
       "      <td>1606.500000</td>\n",
       "    </tr>\n",
       "    <tr>\n",
       "      <th>9</th>\n",
       "      <td>1606.500000</td>\n",
       "    </tr>\n",
       "    <tr>\n",
       "      <th>10</th>\n",
       "      <td>2620.428571</td>\n",
       "    </tr>\n",
       "    <tr>\n",
       "      <th>11</th>\n",
       "      <td>1606.500000</td>\n",
       "    </tr>\n",
       "    <tr>\n",
       "      <th>12</th>\n",
       "      <td>350.714286</td>\n",
       "    </tr>\n",
       "    <tr>\n",
       "      <th>13</th>\n",
       "      <td>2193.800000</td>\n",
       "    </tr>\n",
       "    <tr>\n",
       "      <th>14</th>\n",
       "      <td>2193.800000</td>\n",
       "    </tr>\n",
       "    <tr>\n",
       "      <th>15</th>\n",
       "      <td>2193.800000</td>\n",
       "    </tr>\n",
       "    <tr>\n",
       "      <th>16</th>\n",
       "      <td>2193.800000</td>\n",
       "    </tr>\n",
       "    <tr>\n",
       "      <th>17</th>\n",
       "      <td>2193.800000</td>\n",
       "    </tr>\n",
       "    <tr>\n",
       "      <th>18</th>\n",
       "      <td>2193.800000</td>\n",
       "    </tr>\n",
       "    <tr>\n",
       "      <th>19</th>\n",
       "      <td>2193.800000</td>\n",
       "    </tr>\n",
       "    <tr>\n",
       "      <th>20</th>\n",
       "      <td>2193.800000</td>\n",
       "    </tr>\n",
       "    <tr>\n",
       "      <th>21</th>\n",
       "      <td>2193.800000</td>\n",
       "    </tr>\n",
       "  </tbody>\n",
       "</table>\n",
       "</div>"
      ],
      "text/plain": [
       "        PREDICT\n",
       "0   1606.500000\n",
       "1   1606.500000\n",
       "2    350.714286\n",
       "3   1434.600000\n",
       "4   1434.600000\n",
       "5   1434.600000\n",
       "6   1434.600000\n",
       "7   1434.600000\n",
       "8   1606.500000\n",
       "9   1606.500000\n",
       "10  2620.428571\n",
       "11  1606.500000\n",
       "12   350.714286\n",
       "13  2193.800000\n",
       "14  2193.800000\n",
       "15  2193.800000\n",
       "16  2193.800000\n",
       "17  2193.800000\n",
       "18  2193.800000\n",
       "19  2193.800000\n",
       "20  2193.800000\n",
       "21  2193.800000"
      ]
     },
     "execution_count": 68,
     "metadata": {},
     "output_type": "execute_result"
    }
   ],
   "source": [
    "predictData"
   ]
  },
  {
   "cell_type": "code",
   "execution_count": 64,
   "id": "82ebd4c1-c8cf-41e1-9ebb-092de38646a0",
   "metadata": {},
   "outputs": [],
   "source": [
    "testData_label = testData_label.reset_index(drop = True, inplace = False)\n",
    "# 컬럼 수 비교를 위해 testData_label의 인덱스 번호를 초기화해줍니다."
   ]
  },
  {
   "cell_type": "code",
   "execution_count": 65,
   "id": "ea30afce-2468-46c4-99a0-22db3e3c6075",
   "metadata": {
    "collapsed": true,
    "jupyter": {
     "outputs_hidden": true
    },
    "tags": []
   },
   "outputs": [
    {
     "data": {
      "text/html": [
       "<div>\n",
       "<style scoped>\n",
       "    .dataframe tbody tr th:only-of-type {\n",
       "        vertical-align: middle;\n",
       "    }\n",
       "\n",
       "    .dataframe tbody tr th {\n",
       "        vertical-align: top;\n",
       "    }\n",
       "\n",
       "    .dataframe thead th {\n",
       "        text-align: right;\n",
       "    }\n",
       "</style>\n",
       "<table border=\"1\" class=\"dataframe\">\n",
       "  <thead>\n",
       "    <tr style=\"text-align: right;\">\n",
       "      <th></th>\n",
       "      <th>QTY</th>\n",
       "    </tr>\n",
       "  </thead>\n",
       "  <tbody>\n",
       "    <tr>\n",
       "      <th>0</th>\n",
       "      <td>1522</td>\n",
       "    </tr>\n",
       "    <tr>\n",
       "      <th>1</th>\n",
       "      <td>2100</td>\n",
       "    </tr>\n",
       "    <tr>\n",
       "      <th>2</th>\n",
       "      <td>43</td>\n",
       "    </tr>\n",
       "    <tr>\n",
       "      <th>3</th>\n",
       "      <td>1700</td>\n",
       "    </tr>\n",
       "    <tr>\n",
       "      <th>4</th>\n",
       "      <td>1514</td>\n",
       "    </tr>\n",
       "    <tr>\n",
       "      <th>5</th>\n",
       "      <td>1501</td>\n",
       "    </tr>\n",
       "    <tr>\n",
       "      <th>6</th>\n",
       "      <td>1491</td>\n",
       "    </tr>\n",
       "    <tr>\n",
       "      <th>7</th>\n",
       "      <td>806</td>\n",
       "    </tr>\n",
       "    <tr>\n",
       "      <th>8</th>\n",
       "      <td>2111</td>\n",
       "    </tr>\n",
       "    <tr>\n",
       "      <th>9</th>\n",
       "      <td>2400</td>\n",
       "    </tr>\n",
       "    <tr>\n",
       "      <th>10</th>\n",
       "      <td>2010</td>\n",
       "    </tr>\n",
       "    <tr>\n",
       "      <th>11</th>\n",
       "      <td>1900</td>\n",
       "    </tr>\n",
       "    <tr>\n",
       "      <th>12</th>\n",
       "      <td>141</td>\n",
       "    </tr>\n",
       "    <tr>\n",
       "      <th>13</th>\n",
       "      <td>1615</td>\n",
       "    </tr>\n",
       "    <tr>\n",
       "      <th>14</th>\n",
       "      <td>1574</td>\n",
       "    </tr>\n",
       "    <tr>\n",
       "      <th>15</th>\n",
       "      <td>1800</td>\n",
       "    </tr>\n",
       "    <tr>\n",
       "      <th>16</th>\n",
       "      <td>2600</td>\n",
       "    </tr>\n",
       "    <tr>\n",
       "      <th>17</th>\n",
       "      <td>2412</td>\n",
       "    </tr>\n",
       "    <tr>\n",
       "      <th>18</th>\n",
       "      <td>1955</td>\n",
       "    </tr>\n",
       "    <tr>\n",
       "      <th>19</th>\n",
       "      <td>1800</td>\n",
       "    </tr>\n",
       "    <tr>\n",
       "      <th>20</th>\n",
       "      <td>1173</td>\n",
       "    </tr>\n",
       "    <tr>\n",
       "      <th>21</th>\n",
       "      <td>332</td>\n",
       "    </tr>\n",
       "  </tbody>\n",
       "</table>\n",
       "</div>"
      ],
      "text/plain": [
       "     QTY\n",
       "0   1522\n",
       "1   2100\n",
       "2     43\n",
       "3   1700\n",
       "4   1514\n",
       "5   1501\n",
       "6   1491\n",
       "7    806\n",
       "8   2111\n",
       "9   2400\n",
       "10  2010\n",
       "11  1900\n",
       "12   141\n",
       "13  1615\n",
       "14  1574\n",
       "15  1800\n",
       "16  2600\n",
       "17  2412\n",
       "18  1955\n",
       "19  1800\n",
       "20  1173\n",
       "21   332"
      ]
     },
     "execution_count": 65,
     "metadata": {},
     "output_type": "execute_result"
    }
   ],
   "source": [
    "testData_label"
   ]
  },
  {
   "cell_type": "code",
   "execution_count": 69,
   "id": "ee400283-09d4-49e8-958c-bea2925a4462",
   "metadata": {},
   "outputs": [],
   "source": [
    "finalResult = pd.concat( [testData_label, predictData], axis=1 )\n",
    "# 실측치 QTY와 예측치 PREDICT를 concat을 사용하여 합쳐줍니다.\n",
    "# 합쳐진 DataFrame을 finalResult라고 명명합니다."
   ]
  },
  {
   "cell_type": "code",
   "execution_count": 70,
   "id": "ea7df3bd-ab1d-47b9-a524-f204ed151f40",
   "metadata": {
    "collapsed": true,
    "jupyter": {
     "outputs_hidden": true
    },
    "tags": []
   },
   "outputs": [
    {
     "data": {
      "text/html": [
       "<div>\n",
       "<style scoped>\n",
       "    .dataframe tbody tr th:only-of-type {\n",
       "        vertical-align: middle;\n",
       "    }\n",
       "\n",
       "    .dataframe tbody tr th {\n",
       "        vertical-align: top;\n",
       "    }\n",
       "\n",
       "    .dataframe thead th {\n",
       "        text-align: right;\n",
       "    }\n",
       "</style>\n",
       "<table border=\"1\" class=\"dataframe\">\n",
       "  <thead>\n",
       "    <tr style=\"text-align: right;\">\n",
       "      <th></th>\n",
       "      <th>QTY</th>\n",
       "      <th>PREDICT</th>\n",
       "    </tr>\n",
       "  </thead>\n",
       "  <tbody>\n",
       "    <tr>\n",
       "      <th>0</th>\n",
       "      <td>1522</td>\n",
       "      <td>1606.500000</td>\n",
       "    </tr>\n",
       "    <tr>\n",
       "      <th>1</th>\n",
       "      <td>2100</td>\n",
       "      <td>1606.500000</td>\n",
       "    </tr>\n",
       "    <tr>\n",
       "      <th>2</th>\n",
       "      <td>43</td>\n",
       "      <td>350.714286</td>\n",
       "    </tr>\n",
       "    <tr>\n",
       "      <th>3</th>\n",
       "      <td>1700</td>\n",
       "      <td>1434.600000</td>\n",
       "    </tr>\n",
       "    <tr>\n",
       "      <th>4</th>\n",
       "      <td>1514</td>\n",
       "      <td>1434.600000</td>\n",
       "    </tr>\n",
       "    <tr>\n",
       "      <th>5</th>\n",
       "      <td>1501</td>\n",
       "      <td>1434.600000</td>\n",
       "    </tr>\n",
       "    <tr>\n",
       "      <th>6</th>\n",
       "      <td>1491</td>\n",
       "      <td>1434.600000</td>\n",
       "    </tr>\n",
       "    <tr>\n",
       "      <th>7</th>\n",
       "      <td>806</td>\n",
       "      <td>1434.600000</td>\n",
       "    </tr>\n",
       "    <tr>\n",
       "      <th>8</th>\n",
       "      <td>2111</td>\n",
       "      <td>1606.500000</td>\n",
       "    </tr>\n",
       "    <tr>\n",
       "      <th>9</th>\n",
       "      <td>2400</td>\n",
       "      <td>1606.500000</td>\n",
       "    </tr>\n",
       "    <tr>\n",
       "      <th>10</th>\n",
       "      <td>2010</td>\n",
       "      <td>2620.428571</td>\n",
       "    </tr>\n",
       "    <tr>\n",
       "      <th>11</th>\n",
       "      <td>1900</td>\n",
       "      <td>1606.500000</td>\n",
       "    </tr>\n",
       "    <tr>\n",
       "      <th>12</th>\n",
       "      <td>141</td>\n",
       "      <td>350.714286</td>\n",
       "    </tr>\n",
       "    <tr>\n",
       "      <th>13</th>\n",
       "      <td>1615</td>\n",
       "      <td>2193.800000</td>\n",
       "    </tr>\n",
       "    <tr>\n",
       "      <th>14</th>\n",
       "      <td>1574</td>\n",
       "      <td>2193.800000</td>\n",
       "    </tr>\n",
       "    <tr>\n",
       "      <th>15</th>\n",
       "      <td>1800</td>\n",
       "      <td>2193.800000</td>\n",
       "    </tr>\n",
       "    <tr>\n",
       "      <th>16</th>\n",
       "      <td>2600</td>\n",
       "      <td>2193.800000</td>\n",
       "    </tr>\n",
       "    <tr>\n",
       "      <th>17</th>\n",
       "      <td>2412</td>\n",
       "      <td>2193.800000</td>\n",
       "    </tr>\n",
       "    <tr>\n",
       "      <th>18</th>\n",
       "      <td>1955</td>\n",
       "      <td>2193.800000</td>\n",
       "    </tr>\n",
       "    <tr>\n",
       "      <th>19</th>\n",
       "      <td>1800</td>\n",
       "      <td>2193.800000</td>\n",
       "    </tr>\n",
       "    <tr>\n",
       "      <th>20</th>\n",
       "      <td>1173</td>\n",
       "      <td>2193.800000</td>\n",
       "    </tr>\n",
       "    <tr>\n",
       "      <th>21</th>\n",
       "      <td>332</td>\n",
       "      <td>2193.800000</td>\n",
       "    </tr>\n",
       "  </tbody>\n",
       "</table>\n",
       "</div>"
      ],
      "text/plain": [
       "     QTY      PREDICT\n",
       "0   1522  1606.500000\n",
       "1   2100  1606.500000\n",
       "2     43   350.714286\n",
       "3   1700  1434.600000\n",
       "4   1514  1434.600000\n",
       "5   1501  1434.600000\n",
       "6   1491  1434.600000\n",
       "7    806  1434.600000\n",
       "8   2111  1606.500000\n",
       "9   2400  1606.500000\n",
       "10  2010  2620.428571\n",
       "11  1900  1606.500000\n",
       "12   141   350.714286\n",
       "13  1615  2193.800000\n",
       "14  1574  2193.800000\n",
       "15  1800  2193.800000\n",
       "16  2600  2193.800000\n",
       "17  2412  2193.800000\n",
       "18  1955  2193.800000\n",
       "19  1800  2193.800000\n",
       "20  1173  2193.800000\n",
       "21   332  2193.800000"
      ]
     },
     "execution_count": 70,
     "metadata": {},
     "output_type": "execute_result"
    }
   ],
   "source": [
    "finalResult"
   ]
  },
  {
   "cell_type": "markdown",
   "id": "6747a50a-2311-4d9a-b74d-4d0f2b18e4db",
   "metadata": {},
   "source": [
    "## 10. 결과 검증"
   ]
  },
  {
   "cell_type": "code",
   "execution_count": 71,
   "id": "20157ace-ac92-4c39-8145-af13fcf31614",
   "metadata": {},
   "outputs": [
    {
     "data": {
      "text/plain": [
       "460.25259740259736"
      ]
     },
     "execution_count": 71,
     "metadata": {},
     "output_type": "execute_result"
    }
   ],
   "source": [
    "mean_absolute_error(finalResult[\"QTY\"], finalResult[\"PREDICT\"])\n",
    "# MAE 지표 검증"
   ]
  },
  {
   "cell_type": "code",
   "execution_count": 72,
   "id": "8dfda19c-740b-4427-b582-ce41786da61d",
   "metadata": {},
   "outputs": [
    {
     "data": {
      "text/plain": [
       "364501.50973098335"
      ]
     },
     "execution_count": 72,
     "metadata": {},
     "output_type": "execute_result"
    }
   ],
   "source": [
    "mean_squared_error(finalResult[\"QTY\"], finalResult[\"PREDICT\"])\n",
    "#MSE 지표 검증"
   ]
  }
 ],
 "metadata": {
  "kernelspec": {
   "display_name": "Python 3 (ipykernel)",
   "language": "python",
   "name": "python3"
  },
  "language_info": {
   "codemirror_mode": {
    "name": "ipython",
    "version": 3
   },
   "file_extension": ".py",
   "mimetype": "text/x-python",
   "name": "python",
   "nbconvert_exporter": "python",
   "pygments_lexer": "ipython3",
   "version": "3.9.13"
  }
 },
 "nbformat": 4,
 "nbformat_minor": 5
}
