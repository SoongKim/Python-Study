{
 "cells": [
  {
   "cell_type": "code",
   "execution_count": 1,
   "id": "5e886158-c0f2-4105-bcac-adefa1b14885",
   "metadata": {},
   "outputs": [],
   "source": [
    "#1. Pickle을 사용한 문자열 작업물의 저장 및 불러오기."
   ]
  },
  {
   "cell_type": "code",
   "execution_count": 2,
   "id": "5c14f6d2-e1ea-42e6-a1d0-428fa4d5e0e9",
   "metadata": {},
   "outputs": [],
   "source": [
    "inPass = \"dfdfdfdfdfdfdf\"\n",
    "# inPass라는 변수에 \"dfdfdfdfdfdfdf\"라는 문자열을 입력"
   ]
  },
  {
   "cell_type": "code",
   "execution_count": 3,
   "id": "1876e30d-b399-4418-8a16-051c9586c923",
   "metadata": {},
   "outputs": [],
   "source": [
    "import pickle\n",
    "# pickle 모듈 호출"
   ]
  },
  {
   "cell_type": "code",
   "execution_count": 4,
   "id": "f11fcd01-6515-4bb8-8c4d-463456f9f9e5",
   "metadata": {},
   "outputs": [],
   "source": [
    "with open(\"./pw.pickle\", \"wb\") as fw:\n",
    "    pickle.dump(inPass, fw)\n",
    "    \n",
    "## pw.pickle이라는 이름으로 파일을 저장할거다."
   ]
  },
  {
   "cell_type": "code",
   "execution_count": 5,
   "id": "ca139fc8-2e9b-44fc-8446-e96e6b2e761f",
   "metadata": {},
   "outputs": [],
   "source": [
    "with open(\"./pw.pickle\", \"rb\") as fr:\n",
    "    data = pickle.load(fr)\n",
    "## data 라는 변수에 fr로 선언한 pw.pickle이라는 데이터를 불러올거야\n",
    "## 저장했던 타입을 그대로 유지한다."
   ]
  },
  {
   "cell_type": "code",
   "execution_count": 6,
   "id": "af1d8ad0-790e-45d2-80d5-3467dfbf7b23",
   "metadata": {},
   "outputs": [
    {
     "name": "stdout",
     "output_type": "stream",
     "text": [
      "dfdfdfdfdfdfdf\n"
     ]
    }
   ],
   "source": [
    "print(data)\n",
    "# 기존에 작업하였던 \"dfdfdfdfdfdfdf\"를 확인할 수 있다."
   ]
  },
  {
   "cell_type": "code",
   "execution_count": 7,
   "id": "74b2eec9-e05a-4adc-9cad-1a5373a0582c",
   "metadata": {},
   "outputs": [
    {
     "data": {
      "text/plain": [
       "str"
      ]
     },
     "execution_count": 7,
     "metadata": {},
     "output_type": "execute_result"
    }
   ],
   "source": [
    "type(data)\n",
    "# 입력하였던 문자열의 타입이 유지되고 있음을 확인할 수 있다."
   ]
  },
  {
   "cell_type": "code",
   "execution_count": null,
   "id": "d124968c-4cce-4cb1-8440-329636a5258b",
   "metadata": {},
   "outputs": [],
   "source": []
  },
  {
   "cell_type": "code",
   "execution_count": 8,
   "id": "3c4dcedb-eb4b-4ca4-8872-74743f222931",
   "metadata": {},
   "outputs": [],
   "source": [
    "# 2. Pickle을 사용한 list 형 데이터의 저장과 불러오기."
   ]
  },
  {
   "cell_type": "code",
   "execution_count": 9,
   "id": "c49a4b06-fef3-4137-8c9c-4cfee943ad69",
   "metadata": {},
   "outputs": [],
   "source": [
    "testList = [\"aa\", \"bb\", \"cc\", \"dd\"]\n",
    "# testList를 만들고, \"aa\", \"bb\", \"cc\", \"dd\" 라는 데이터를 입력"
   ]
  },
  {
   "cell_type": "code",
   "execution_count": 10,
   "id": "a385a105-f581-4ae6-9e02-e9b286289976",
   "metadata": {},
   "outputs": [],
   "source": [
    "with open(\"./pw2.pickle\", \"wb\") as fw2:\n",
    "    pickle.dump(testList, fw2)\n",
    "# 이름은 pw2, 확장자는 pickle testList를 저장.\n",
    "# \"wb\" : write binary. 대강 파일을 저장한다는 이야기."
   ]
  },
  {
   "cell_type": "code",
   "execution_count": 11,
   "id": "f68ca9c3-0606-42fd-827a-ec7539593cb8",
   "metadata": {},
   "outputs": [],
   "source": [
    "with open(\"./pw2.pickle\", \"rb\") as fr2:\n",
    "    data02 = pickle.load(fr2)\n",
    "# 이름이 pw2, 확장자는 pickle인 파일을 불러오겠다.\n",
    "# 불러온 파일은 data02 라는 이름으로 인식하겠다."
   ]
  },
  {
   "cell_type": "code",
   "execution_count": 12,
   "id": "d6d1a49f-59a1-4811-b9bb-643e3656a1c0",
   "metadata": {},
   "outputs": [
    {
     "name": "stdout",
     "output_type": "stream",
     "text": [
      "['aa', 'bb', 'cc', 'dd']\n"
     ]
    }
   ],
   "source": [
    "print(data02)\n",
    "# 기존에 리스트에 삽입하였던 \"aa\", \"bb\", \"cc\", \"dd\"가 잔존하고 있음을 확인할 수 있다."
   ]
  },
  {
   "cell_type": "code",
   "execution_count": 13,
   "id": "39cd5ca1-3090-4dcd-8d15-1fdab9635069",
   "metadata": {},
   "outputs": [
    {
     "data": {
      "text/plain": [
       "list"
      ]
     },
     "execution_count": 13,
     "metadata": {},
     "output_type": "execute_result"
    }
   ],
   "source": [
    "type(data02)\n",
    "# 기존에 만들었던 testList는 list형 자료 타입을 가지고 있었다.\n",
    "# 불러온 data02 역시 list로 타입을 유지하고 있음을 확인할 수 있다."
   ]
  },
  {
   "cell_type": "code",
   "execution_count": null,
   "id": "e5c53c9f-3aef-4f90-8bfe-9ebe00ffd414",
   "metadata": {},
   "outputs": [],
   "source": []
  },
  {
   "cell_type": "code",
   "execution_count": null,
   "id": "94aab871-cf93-47a7-b7c5-7327bc55f221",
   "metadata": {},
   "outputs": [],
   "source": [
    "#03. Pickle을 사용한 DataFrame 형 데이터의 저장과 불러오기."
   ]
  },
  {
   "cell_type": "code",
   "execution_count": 27,
   "id": "22821f85-c945-44af-9c3b-a7a0c1b23d32",
   "metadata": {},
   "outputs": [],
   "source": [
    "exList01 = [\"김효관\", \"교수\", \"님\"]"
   ]
  },
  {
   "cell_type": "code",
   "execution_count": 28,
   "id": "4bdaf84b-f029-4e7d-8f58-32e2ba785ef2",
   "metadata": {},
   "outputs": [],
   "source": [
    "exList02 = [\"TRUE\", \"TRUE\", \"TRUE\"]"
   ]
  },
  {
   "cell_type": "code",
   "execution_count": 29,
   "id": "7eef018e-9b21-405c-a953-3a6705ccba09",
   "metadata": {},
   "outputs": [],
   "source": [
    "import pandas as pd"
   ]
  },
  {
   "cell_type": "code",
   "execution_count": 30,
   "id": "10f25c51-e673-4bbc-9615-1c75cfa48131",
   "metadata": {},
   "outputs": [],
   "source": [
    "testDf = pd.DataFrame(exList01, exList02)"
   ]
  },
  {
   "cell_type": "code",
   "execution_count": 31,
   "id": "269c0551-9389-4af1-b83b-8b7801f4993d",
   "metadata": {
    "tags": []
   },
   "outputs": [
    {
     "data": {
      "text/html": [
       "<div>\n",
       "<style scoped>\n",
       "    .dataframe tbody tr th:only-of-type {\n",
       "        vertical-align: middle;\n",
       "    }\n",
       "\n",
       "    .dataframe tbody tr th {\n",
       "        vertical-align: top;\n",
       "    }\n",
       "\n",
       "    .dataframe thead th {\n",
       "        text-align: right;\n",
       "    }\n",
       "</style>\n",
       "<table border=\"1\" class=\"dataframe\">\n",
       "  <thead>\n",
       "    <tr style=\"text-align: right;\">\n",
       "      <th></th>\n",
       "      <th>0</th>\n",
       "    </tr>\n",
       "  </thead>\n",
       "  <tbody>\n",
       "    <tr>\n",
       "      <th>TRUE</th>\n",
       "      <td>김효관</td>\n",
       "    </tr>\n",
       "    <tr>\n",
       "      <th>TRUE</th>\n",
       "      <td>교수</td>\n",
       "    </tr>\n",
       "    <tr>\n",
       "      <th>TRUE</th>\n",
       "      <td>님</td>\n",
       "    </tr>\n",
       "  </tbody>\n",
       "</table>\n",
       "</div>"
      ],
      "text/plain": [
       "        0\n",
       "TRUE  김효관\n",
       "TRUE   교수\n",
       "TRUE    님"
      ]
     },
     "execution_count": 31,
     "metadata": {},
     "output_type": "execute_result"
    }
   ],
   "source": [
    "testDf"
   ]
  },
  {
   "cell_type": "code",
   "execution_count": 19,
   "id": "8739ae83-1fba-4187-b3b2-e80c8f65b2d2",
   "metadata": {},
   "outputs": [],
   "source": [
    "# exList01과 exList02를 pandas를 사용하여 DataFrame화 하였다."
   ]
  },
  {
   "cell_type": "code",
   "execution_count": 32,
   "id": "1002c405-add2-4ab9-9a8c-8a25802545f6",
   "metadata": {},
   "outputs": [],
   "source": [
    "testDf.columns = [\"아오\"]"
   ]
  },
  {
   "cell_type": "code",
   "execution_count": 33,
   "id": "1e94928f-eefb-4b55-a847-a1922acba373",
   "metadata": {
    "tags": []
   },
   "outputs": [
    {
     "data": {
      "text/html": [
       "<div>\n",
       "<style scoped>\n",
       "    .dataframe tbody tr th:only-of-type {\n",
       "        vertical-align: middle;\n",
       "    }\n",
       "\n",
       "    .dataframe tbody tr th {\n",
       "        vertical-align: top;\n",
       "    }\n",
       "\n",
       "    .dataframe thead th {\n",
       "        text-align: right;\n",
       "    }\n",
       "</style>\n",
       "<table border=\"1\" class=\"dataframe\">\n",
       "  <thead>\n",
       "    <tr style=\"text-align: right;\">\n",
       "      <th></th>\n",
       "      <th>아오</th>\n",
       "    </tr>\n",
       "  </thead>\n",
       "  <tbody>\n",
       "    <tr>\n",
       "      <th>TRUE</th>\n",
       "      <td>김효관</td>\n",
       "    </tr>\n",
       "    <tr>\n",
       "      <th>TRUE</th>\n",
       "      <td>교수</td>\n",
       "    </tr>\n",
       "    <tr>\n",
       "      <th>TRUE</th>\n",
       "      <td>님</td>\n",
       "    </tr>\n",
       "  </tbody>\n",
       "</table>\n",
       "</div>"
      ],
      "text/plain": [
       "       아오\n",
       "TRUE  김효관\n",
       "TRUE   교수\n",
       "TRUE    님"
      ]
     },
     "execution_count": 33,
     "metadata": {},
     "output_type": "execute_result"
    }
   ],
   "source": [
    "testDf"
   ]
  },
  {
   "cell_type": "code",
   "execution_count": 22,
   "id": "1be7a17b-f0b0-49fa-a28b-8327ced731a1",
   "metadata": {},
   "outputs": [],
   "source": [
    "# testDf의 새 열(column) 명으로 \"레알\"을 설정하였다."
   ]
  },
  {
   "cell_type": "code",
   "execution_count": 34,
   "id": "cbd93add-455b-4464-96a4-2b9957f999e9",
   "metadata": {},
   "outputs": [],
   "source": [
    "with open(\"./true.pickle\", \"wb\") as fww:\n",
    "    pickle.dump(testDf, fww)\n",
    "# 파일 이름은 true, 확장자는 pickle로 해당 testDf를 저장하였다."
   ]
  },
  {
   "cell_type": "code",
   "execution_count": 35,
   "id": "f589d23e-3456-4370-8737-ce657ec04838",
   "metadata": {},
   "outputs": [],
   "source": [
    "with open(\"./true.pickle\", \"rb\") as frr:\n",
    "    Dfs = pickle.load(frr)\n",
    "# 파일 이름은 true, 확장자 명은 pickle인 파일을 가져왔다.\n",
    "# 가져온 파일은 앞으로 Dfs라는 이름으로 취급할 것이다."
   ]
  },
  {
   "cell_type": "code",
   "execution_count": 36,
   "id": "d17509d8-7190-4add-b410-0b629ea27843",
   "metadata": {},
   "outputs": [
    {
     "data": {
      "text/html": [
       "<div>\n",
       "<style scoped>\n",
       "    .dataframe tbody tr th:only-of-type {\n",
       "        vertical-align: middle;\n",
       "    }\n",
       "\n",
       "    .dataframe tbody tr th {\n",
       "        vertical-align: top;\n",
       "    }\n",
       "\n",
       "    .dataframe thead th {\n",
       "        text-align: right;\n",
       "    }\n",
       "</style>\n",
       "<table border=\"1\" class=\"dataframe\">\n",
       "  <thead>\n",
       "    <tr style=\"text-align: right;\">\n",
       "      <th></th>\n",
       "      <th>아오</th>\n",
       "    </tr>\n",
       "  </thead>\n",
       "  <tbody>\n",
       "    <tr>\n",
       "      <th>TRUE</th>\n",
       "      <td>김효관</td>\n",
       "    </tr>\n",
       "    <tr>\n",
       "      <th>TRUE</th>\n",
       "      <td>교수</td>\n",
       "    </tr>\n",
       "    <tr>\n",
       "      <th>TRUE</th>\n",
       "      <td>님</td>\n",
       "    </tr>\n",
       "  </tbody>\n",
       "</table>\n",
       "</div>"
      ],
      "text/plain": [
       "       아오\n",
       "TRUE  김효관\n",
       "TRUE   교수\n",
       "TRUE    님"
      ]
     },
     "execution_count": 36,
     "metadata": {},
     "output_type": "execute_result"
    }
   ],
   "source": [
    "Dfs\n",
    "# 기존에 저장하였던 testDf가 동일한 형태로 저장되었음을 확인할 수 있다."
   ]
  },
  {
   "cell_type": "code",
   "execution_count": 37,
   "id": "cea8e9bd-f5ab-49fa-a50e-1a3a51844904",
   "metadata": {},
   "outputs": [
    {
     "data": {
      "text/plain": [
       "pandas.core.frame.DataFrame"
      ]
     },
     "execution_count": 37,
     "metadata": {},
     "output_type": "execute_result"
    }
   ],
   "source": [
    "type(Dfs)\n",
    "# 타입 역시 데이터프레임 형으로 저장되었음을 확인할 수 있다."
   ]
  },
  {
   "cell_type": "code",
   "execution_count": null,
   "id": "7a9eb508-fc6c-4b6c-bc37-3d292fc0b8ed",
   "metadata": {},
   "outputs": [],
   "source": []
  }
 ],
 "metadata": {
  "kernelspec": {
   "display_name": "Python 3 (ipykernel)",
   "language": "python",
   "name": "python3"
  },
  "language_info": {
   "codemirror_mode": {
    "name": "ipython",
    "version": 3
   },
   "file_extension": ".py",
   "mimetype": "text/x-python",
   "name": "python",
   "nbconvert_exporter": "python",
   "pygments_lexer": "ipython3",
   "version": "3.9.13"
  }
 },
 "nbformat": 4,
 "nbformat_minor": 5
}
