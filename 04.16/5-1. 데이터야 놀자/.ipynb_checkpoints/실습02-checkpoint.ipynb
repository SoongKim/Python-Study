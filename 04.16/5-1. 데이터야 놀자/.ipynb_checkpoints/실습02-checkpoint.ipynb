{
 "cells": [
  {
   "cell_type": "code",
   "execution_count": 1,
   "id": "14f32d00-dd12-48f0-ad9c-bb7b518129dd",
   "metadata": {},
   "outputs": [],
   "source": [
    "import pandas as pd"
   ]
  },
  {
   "cell_type": "code",
   "execution_count": 2,
   "id": "9df67fbd-9aad-4559-9ce6-95cea06c7985",
   "metadata": {},
   "outputs": [],
   "source": [
    "kopo_customerData = pd.read_csv(\"../../../Python_Script/dataset/kopo_customerdata.csv\")"
   ]
  },
  {
   "cell_type": "code",
   "execution_count": 4,
   "id": "9f4d7d67-84d0-4fad-b18c-dcb77245e8f5",
   "metadata": {},
   "outputs": [
    {
     "data": {
      "text/plain": [
       "Index(['CUSTOMERCODE', 'STATENAME', 'ST', 'GENDER', 'DOB', 'GENDER1', 'EMAIL',\n",
       "       'FEST_CNT', 'TOTAL_AMOUNT', 'AC_AMOUNT', 'AV_AMOUNT', 'HA_AMOUNT',\n",
       "       'EMI_CE_AMOUNT', 'IS_HIGHEND', 'CNT_VIST', 'GAP_VISIT'],\n",
       "      dtype='object')"
      ]
     },
     "execution_count": 4,
     "metadata": {},
     "output_type": "execute_result"
    }
   ],
   "source": [
    "kopo_customerData.columns"
   ]
  },
  {
   "cell_type": "code",
   "execution_count": 5,
   "id": "2ce09317-6530-4c33-a714-6486cdec520c",
   "metadata": {},
   "outputs": [],
   "source": [
    "stnameNo = kopo_customerData.columns.get_loc(\"STATENAME\")"
   ]
  },
  {
   "cell_type": "code",
   "execution_count": 7,
   "id": "d722a537-22a4-4756-9227-60c93f2ee155",
   "metadata": {},
   "outputs": [],
   "source": [
    "genderNo = kopo_customerData.columns.get_loc(\"GENDER\")"
   ]
  },
  {
   "cell_type": "code",
   "execution_count": 14,
   "id": "45187860-ff36-4c4e-8a17-f493c3c187ff",
   "metadata": {},
   "outputs": [
    {
     "data": {
      "text/html": [
       "<div>\n",
       "<style scoped>\n",
       "    .dataframe tbody tr th:only-of-type {\n",
       "        vertical-align: middle;\n",
       "    }\n",
       "\n",
       "    .dataframe tbody tr th {\n",
       "        vertical-align: top;\n",
       "    }\n",
       "\n",
       "    .dataframe thead th {\n",
       "        text-align: right;\n",
       "    }\n",
       "</style>\n",
       "<table border=\"1\" class=\"dataframe\">\n",
       "  <thead>\n",
       "    <tr style=\"text-align: right;\">\n",
       "      <th></th>\n",
       "      <th>STATENAME</th>\n",
       "      <th>GENDER</th>\n",
       "    </tr>\n",
       "  </thead>\n",
       "  <tbody>\n",
       "    <tr>\n",
       "      <th>0</th>\n",
       "      <td>State2</td>\n",
       "      <td>Male</td>\n",
       "    </tr>\n",
       "    <tr>\n",
       "      <th>1</th>\n",
       "      <td>State2</td>\n",
       "      <td>Male</td>\n",
       "    </tr>\n",
       "    <tr>\n",
       "      <th>2</th>\n",
       "      <td>State2</td>\n",
       "      <td>Female</td>\n",
       "    </tr>\n",
       "    <tr>\n",
       "      <th>3</th>\n",
       "      <td>State2</td>\n",
       "      <td>Male</td>\n",
       "    </tr>\n",
       "    <tr>\n",
       "      <th>4</th>\n",
       "      <td>State2</td>\n",
       "      <td>Male</td>\n",
       "    </tr>\n",
       "  </tbody>\n",
       "</table>\n",
       "</div>"
      ],
      "text/plain": [
       "  STATENAME  GENDER\n",
       "0    State2    Male\n",
       "1    State2    Male\n",
       "2    State2  Female\n",
       "3    State2    Male\n",
       "4    State2    Male"
      ]
     },
     "execution_count": 14,
     "metadata": {},
     "output_type": "execute_result"
    }
   ],
   "source": [
    "kopo_customerData.iloc[0:5, [stnameNo, genderNo]]"
   ]
  }
 ],
 "metadata": {
  "kernelspec": {
   "display_name": "Python 3 (ipykernel)",
   "language": "python",
   "name": "python3"
  },
  "language_info": {
   "codemirror_mode": {
    "name": "ipython",
    "version": 3
   },
   "file_extension": ".py",
   "mimetype": "text/x-python",
   "name": "python",
   "nbconvert_exporter": "python",
   "pygments_lexer": "ipython3",
   "version": "3.9.13"
  }
 },
 "nbformat": 4,
 "nbformat_minor": 5
}
