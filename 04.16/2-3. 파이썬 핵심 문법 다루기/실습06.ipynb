{
 "cells": [
  {
   "cell_type": "markdown",
   "id": "d3c6793f-24b9-44d8-ab2d-98ec223a8c9d",
   "metadata": {},
   "source": [
    "함수 입력변수에 따라 소수점 2자리수, 3자리 등의 반올림\n",
    "이 가능하도록 함수를 구현하세요\n",
    "(예: roundFunction(12.2225,3) -> 3번째자리 반올림)"
   ]
  },
  {
   "cell_type": "code",
   "execution_count": 3,
   "id": "e31ea3bc-ef51-4b82-b0db-10b28503ef14",
   "metadata": {},
   "outputs": [],
   "source": [
    "import math\n",
    "def roundFunction(targetNum, targetDigit):\n",
    "\n",
    "    # targetNum = 100.2536\n",
    "    # targetDigit = 2\n",
    "\n",
    "    stdVal = 0.5\n",
    "    step1 = targetNum * math.pow(10, targetDigit)\n",
    "    step2 = int(step1 + stdVal)\n",
    "    step3 = step2 / math.pow(10, targetDigit)\n",
    "    \n",
    "    return step3"
   ]
  },
  {
   "cell_type": "code",
   "execution_count": 4,
   "id": "3190e47a-b8ef-4ea7-b893-c2057417a363",
   "metadata": {},
   "outputs": [
    {
     "data": {
      "text/plain": [
       "103.34"
      ]
     },
     "execution_count": 4,
     "metadata": {},
     "output_type": "execute_result"
    }
   ],
   "source": [
    "roundFunction(103.342856, 2)"
   ]
  }
 ],
 "metadata": {
  "kernelspec": {
   "display_name": "Python 3 (ipykernel)",
   "language": "python",
   "name": "python3"
  },
  "language_info": {
   "codemirror_mode": {
    "name": "ipython",
    "version": 3
   },
   "file_extension": ".py",
   "mimetype": "text/x-python",
   "name": "python",
   "nbconvert_exporter": "python",
   "pygments_lexer": "ipython3",
   "version": "3.9.13"
  }
 },
 "nbformat": 4,
 "nbformat_minor": 5
}
