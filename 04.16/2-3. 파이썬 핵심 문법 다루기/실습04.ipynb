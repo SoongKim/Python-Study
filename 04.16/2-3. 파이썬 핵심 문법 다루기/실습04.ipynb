{
 "cells": [
  {
   "cell_type": "markdown",
   "id": "295be9d5-9410-4efc-aeb6-588910c1e7ea",
   "metadata": {},
   "source": [
    "SCORE 변수를 80으로 선언 후\n",
    "90점이상 A, 80~90점 B, 이외 C 점수로\n",
    "GRADE변수에 할당하는 프로그램을 구현하세요"
   ]
  },
  {
   "cell_type": "code",
   "execution_count": 1,
   "id": "c9fcb748-fe65-44b0-924e-b9434f4f29a6",
   "metadata": {},
   "outputs": [],
   "source": [
    "SCORE = 80"
   ]
  },
  {
   "cell_type": "code",
   "execution_count": 3,
   "id": "fb4415a7-4d76-4f9e-8161-5145a0af110a",
   "metadata": {},
   "outputs": [
    {
     "name": "stdout",
     "output_type": "stream",
     "text": [
      "B\n"
     ]
    }
   ],
   "source": [
    "if(SCORE >=90):\n",
    "    print(\"A\")\n",
    "elif(SCORE >= 80):\n",
    "    print(\"B\")\n",
    "else:\n",
    "    print(\"C\")"
   ]
  }
 ],
 "metadata": {
  "kernelspec": {
   "display_name": "Python 3 (ipykernel)",
   "language": "python",
   "name": "python3"
  },
  "language_info": {
   "codemirror_mode": {
    "name": "ipython",
    "version": 3
   },
   "file_extension": ".py",
   "mimetype": "text/x-python",
   "name": "python",
   "nbconvert_exporter": "python",
   "pygments_lexer": "ipython3",
   "version": "3.9.13"
  }
 },
 "nbformat": 4,
 "nbformat_minor": 5
}
