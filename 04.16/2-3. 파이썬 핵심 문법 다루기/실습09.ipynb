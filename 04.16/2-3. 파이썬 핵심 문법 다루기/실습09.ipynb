{
 "cells": [
  {
   "cell_type": "code",
   "execution_count": 1,
   "id": "95f453fc-ea9e-4401-97da-ad51d46b95e3",
   "metadata": {},
   "outputs": [],
   "source": [
    "import pandas as pd"
   ]
  },
  {
   "cell_type": "code",
   "execution_count": 2,
   "id": "b7e1d6b5-0593-4668-9140-5b83ca85e44e",
   "metadata": {},
   "outputs": [],
   "source": [
    "customerData = pd.read_csv(\"../../../Python_Script/dataset/kopo_customerdata.csv\")"
   ]
  },
  {
   "cell_type": "code",
   "execution_count": 3,
   "id": "9d4c9d25-3c25-4cd4-9213-49c9bbfe98a7",
   "metadata": {},
   "outputs": [],
   "source": [
    "customerTotalList = customerData[\"TOTAL_AMOUNT\"].tolist()"
   ]
  },
  {
   "cell_type": "code",
   "execution_count": 4,
   "id": "e8553edb-14a4-4896-bfdc-e54bad4b0bb9",
   "metadata": {},
   "outputs": [],
   "source": [
    "maxList = max(customerTotalList)"
   ]
  },
  {
   "cell_type": "code",
   "execution_count": 5,
   "id": "e349ee21-b54f-4239-9923-0a4f39135397",
   "metadata": {},
   "outputs": [
    {
     "data": {
      "text/plain": [
       "3103500"
      ]
     },
     "execution_count": 5,
     "metadata": {},
     "output_type": "execute_result"
    }
   ],
   "source": [
    "maxList"
   ]
  },
  {
   "cell_type": "code",
   "execution_count": 6,
   "id": "8863cfb8-8d07-4756-951b-8979e741a334",
   "metadata": {},
   "outputs": [],
   "source": [
    "maxCount = customerTotalList.count(maxList)"
   ]
  },
  {
   "cell_type": "code",
   "execution_count": 7,
   "id": "241d4896-f9b2-471d-bb07-5bdf7a3a7ab3",
   "metadata": {},
   "outputs": [
    {
     "data": {
      "text/plain": [
       "1"
      ]
     },
     "execution_count": 7,
     "metadata": {},
     "output_type": "execute_result"
    }
   ],
   "source": [
    "maxCount"
   ]
  },
  {
   "cell_type": "code",
   "execution_count": 8,
   "id": "33149de0-b629-45c0-a53a-163e8cc68b19",
   "metadata": {},
   "outputs": [],
   "source": [
    "minList = min(customerTotalList)"
   ]
  },
  {
   "cell_type": "code",
   "execution_count": 9,
   "id": "7961d226-748d-4a0e-be4e-d8e822591467",
   "metadata": {},
   "outputs": [
    {
     "data": {
      "text/plain": [
       "0"
      ]
     },
     "execution_count": 9,
     "metadata": {},
     "output_type": "execute_result"
    }
   ],
   "source": [
    "minList"
   ]
  },
  {
   "cell_type": "code",
   "execution_count": 10,
   "id": "3714eff9-884d-4b86-a5bc-c9bed25f87c8",
   "metadata": {},
   "outputs": [],
   "source": [
    "minCount = customerTotalList.count(minList)"
   ]
  },
  {
   "cell_type": "code",
   "execution_count": 11,
   "id": "d08024f6-9b87-484c-9ee3-df547423cec5",
   "metadata": {},
   "outputs": [
    {
     "data": {
      "text/plain": [
       "256"
      ]
     },
     "execution_count": 11,
     "metadata": {},
     "output_type": "execute_result"
    }
   ],
   "source": [
    "minCount"
   ]
  },
  {
   "cell_type": "code",
   "execution_count": 13,
   "id": "9f5becf3-1be0-45d5-966d-8b37bd74447e",
   "metadata": {
    "tags": []
   },
   "outputs": [],
   "source": [
    "customerTotalList.sort()"
   ]
  },
  {
   "cell_type": "code",
   "execution_count": 15,
   "id": "2c9f6fa8-5f62-49ed-83d7-36e972c0f7f4",
   "metadata": {},
   "outputs": [],
   "source": [
    "customerTotalList = customerTotalList[minCount:]"
   ]
  },
  {
   "cell_type": "code",
   "execution_count": 17,
   "id": "5d762e6a-3ee4-4954-a05d-5149a58b1567",
   "metadata": {},
   "outputs": [],
   "source": [
    "customerTotalList.sort(reverse = True)"
   ]
  },
  {
   "cell_type": "code",
   "execution_count": 19,
   "id": "6ebfd303-e674-4684-8515-8101aae72dbe",
   "metadata": {},
   "outputs": [],
   "source": [
    "customerTotalList = customerTotalList[maxCount:]"
   ]
  },
  {
   "cell_type": "code",
   "execution_count": 21,
   "id": "26dcf39c-5504-45a0-911d-6fda0d3585d3",
   "metadata": {},
   "outputs": [],
   "source": [
    "sumTotalList = sum(customerTotalList)"
   ]
  },
  {
   "cell_type": "code",
   "execution_count": 23,
   "id": "7c6f440d-2625-4818-a673-a60a41b3ebbb",
   "metadata": {},
   "outputs": [],
   "source": [
    "lenTotalList = len(customerTotalList)"
   ]
  },
  {
   "cell_type": "code",
   "execution_count": 27,
   "id": "2e098f6a-64c8-4a29-a1db-639d19d42b7a",
   "metadata": {},
   "outputs": [],
   "source": [
    "average = sumTotalList / lenTotalList"
   ]
  },
  {
   "cell_type": "code",
   "execution_count": 33,
   "id": "c4b3a66e-30e8-4471-801d-751761007a72",
   "metadata": {},
   "outputs": [
    {
     "data": {
      "text/plain": [
       "35248.91490376756"
      ]
     },
     "execution_count": 33,
     "metadata": {},
     "output_type": "execute_result"
    }
   ],
   "source": [
    "average"
   ]
  },
  {
   "cell_type": "code",
   "execution_count": 38,
   "id": "4412aa19-0919-4ba1-b976-41571c7f3e05",
   "metadata": {},
   "outputs": [],
   "source": [
    "step1 = average * 100"
   ]
  },
  {
   "cell_type": "code",
   "execution_count": 42,
   "id": "aec609c7-d010-4130-95b7-b09dd54ec4c6",
   "metadata": {},
   "outputs": [
    {
     "data": {
      "text/plain": [
       "3524891.490376756"
      ]
     },
     "execution_count": 42,
     "metadata": {},
     "output_type": "execute_result"
    }
   ],
   "source": [
    "step1"
   ]
  },
  {
   "cell_type": "code",
   "execution_count": 46,
   "id": "001db615-8098-47d3-b1ee-3d038ae2420d",
   "metadata": {},
   "outputs": [],
   "source": [
    "step2 = int(step1 + 0.5)"
   ]
  },
  {
   "cell_type": "code",
   "execution_count": 47,
   "id": "6aa7942d-3ae0-4b5f-82d1-fa31bb186c0e",
   "metadata": {},
   "outputs": [
    {
     "data": {
      "text/plain": [
       "3524891"
      ]
     },
     "execution_count": 47,
     "metadata": {},
     "output_type": "execute_result"
    }
   ],
   "source": [
    "step2"
   ]
  },
  {
   "cell_type": "code",
   "execution_count": 48,
   "id": "30c09c26-049d-49ef-af26-e0573ff28462",
   "metadata": {},
   "outputs": [],
   "source": [
    "step3 = step2 / 100"
   ]
  },
  {
   "cell_type": "code",
   "execution_count": 49,
   "id": "da400900-8b8b-4c9e-abaa-c85b1beff05a",
   "metadata": {},
   "outputs": [
    {
     "data": {
      "text/plain": [
       "35248.91"
      ]
     },
     "execution_count": 49,
     "metadata": {},
     "output_type": "execute_result"
    }
   ],
   "source": [
    "step3"
   ]
  },
  {
   "cell_type": "markdown",
   "id": "4829e41b-d88a-432b-a453-36c400c47428",
   "metadata": {},
   "source": [
    "답은 35248.91 입니다."
   ]
  }
 ],
 "metadata": {
  "kernelspec": {
   "display_name": "Python 3 (ipykernel)",
   "language": "python",
   "name": "python3"
  },
  "language_info": {
   "codemirror_mode": {
    "name": "ipython",
    "version": 3
   },
   "file_extension": ".py",
   "mimetype": "text/x-python",
   "name": "python",
   "nbconvert_exporter": "python",
   "pygments_lexer": "ipython3",
   "version": "3.9.13"
  }
 },
 "nbformat": 4,
 "nbformat_minor": 5
}
