{
 "cells": [
  {
   "cell_type": "code",
   "execution_count": null,
   "id": "e94373cc-24a9-4196-99c5-8dc3de9c91ed",
   "metadata": {},
   "outputs": [],
   "source": [
    "def listAverage(targetList):\n",
    "    \n",
    "    \"\"\"\n",
    "    리스트 내 값의 최대, 최소값을 모두 제거하고\n",
    "    평균을 출력하는 함수입니다.\n",
    "    targetList : 숫자 타입의 값을 지닌 리스트\n",
    "    \"\"\"\n",
    "    \n",
    "    # targetList = [120, 150, 300, 500, 1000, 100, 200]\n",
    "    \n",
    "    maxTargetList = max(targetList)\n",
    "\n",
    "    # maxTargetList\n",
    "\n",
    "    countMax = targetList.count(maxTargetList)\n",
    "\n",
    "    # countMax\n",
    "\n",
    "    minTargetList = min(targetList)\n",
    "\n",
    "    # minTargetList\n",
    "\n",
    "    countMin = targetList.count(minTargetList)\n",
    "\n",
    "    # countMin\n",
    "\n",
    "    targetList.sort(reverse = False)\n",
    "\n",
    "    targetList = targetList[countMin:]\n",
    "    # 최소값 개수만큼 리스트 내 값을 제거\n",
    "\n",
    "    targetList.sort(reverse = True)\n",
    "\n",
    "    targetList = targetList[countMax:]\n",
    "    # 최대값 개수만큼 리스트 내 값을 제거\n",
    "\n",
    "    avgList = sum(targetList)\n",
    "    lenList = len(targetList)\n",
    "    average = avgList / lenList\n",
    "\n",
    "    return average"
   ]
  }
 ],
 "metadata": {
  "kernelspec": {
   "display_name": "Python 3 (ipykernel)",
   "language": "python",
   "name": "python3"
  },
  "language_info": {
   "codemirror_mode": {
    "name": "ipython",
    "version": 3
   },
   "file_extension": ".py",
   "mimetype": "text/x-python",
   "name": "python",
   "nbconvert_exporter": "python",
   "pygments_lexer": "ipython3",
   "version": "3.9.13"
  }
 },
 "nbformat": 4,
 "nbformat_minor": 5
}
