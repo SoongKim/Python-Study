{
 "cells": [
  {
   "cell_type": "markdown",
   "id": "69f77a13-8c39-429f-990f-bffc1076ece5",
   "metadata": {},
   "source": [
    "문자열로 구성된 리스트의\n",
    "합계를 구하는 함수를 생성하세요"
   ]
  },
  {
   "cell_type": "code",
   "execution_count": 2,
   "id": "993899cc-9270-4fed-b391-58246a236734",
   "metadata": {},
   "outputs": [],
   "source": [
    "listA = [\"가\", \"나\", \"다\"]"
   ]
  },
  {
   "cell_type": "code",
   "execution_count": 5,
   "id": "641933f4-73cf-4b3f-9cd0-d5240cf7934d",
   "metadata": {},
   "outputs": [],
   "source": [
    "def strSumation(listA):\n",
    "    # listA = [\"가\", \"나\", \"다\"]\n",
    "    sumation = \"\"\n",
    "    for i in range(0, len(listA)):\n",
    "        sumation = sumation + listA[i]\n",
    "\n",
    "    return sumation"
   ]
  },
  {
   "cell_type": "code",
   "execution_count": 7,
   "id": "721f477e-e7ad-435b-8ed1-fd71b1b45e19",
   "metadata": {},
   "outputs": [
    {
     "data": {
      "text/plain": [
       "'안녕하세요 만나서 반갑습니다.방가방가'"
      ]
     },
     "execution_count": 7,
     "metadata": {},
     "output_type": "execute_result"
    }
   ],
   "source": [
    "strSumation([\"안녕하세요 \", \"만나서 \", \"반갑습니다.\", \"방가방가\"])"
   ]
  }
 ],
 "metadata": {
  "kernelspec": {
   "display_name": "Python 3 (ipykernel)",
   "language": "python",
   "name": "python3"
  },
  "language_info": {
   "codemirror_mode": {
    "name": "ipython",
    "version": 3
   },
   "file_extension": ".py",
   "mimetype": "text/x-python",
   "name": "python",
   "nbconvert_exporter": "python",
   "pygments_lexer": "ipython3",
   "version": "3.9.13"
  }
 },
 "nbformat": 4,
 "nbformat_minor": 5
}
