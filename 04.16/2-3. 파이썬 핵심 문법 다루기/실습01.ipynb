{
 "cells": [
  {
   "cell_type": "markdown",
   "id": "baee813e-eb34-406e-b11d-2656b514c8ed",
   "metadata": {},
   "source": [
    "tvList2 = [ 'UN40EN001', 'UN40EN002’,\n",
    "'UN40EN003', 'UN40EN004’]\n",
    "리스트가 출력되도록 하세요"
   ]
  },
  {
   "cell_type": "code",
   "execution_count": 2,
   "id": "f4ff68e1-86e9-46bd-a641-7d25f4303e99",
   "metadata": {},
   "outputs": [],
   "source": [
    "tvList2 = [ 'UN40EN001', 'UN40EN002', \\\n",
    "           'UN40EN003', 'UN40EN004']"
   ]
  },
  {
   "cell_type": "code",
   "execution_count": 3,
   "id": "75fb730d-638a-4ad3-b591-04dae9c85b58",
   "metadata": {},
   "outputs": [
    {
     "data": {
      "text/plain": [
       "['UN40EN001', 'UN40EN002', 'UN40EN003', 'UN40EN004']"
      ]
     },
     "execution_count": 3,
     "metadata": {},
     "output_type": "execute_result"
    }
   ],
   "source": [
    "tvList2"
   ]
  }
 ],
 "metadata": {
  "kernelspec": {
   "display_name": "Python 3 (ipykernel)",
   "language": "python",
   "name": "python3"
  },
  "language_info": {
   "codemirror_mode": {
    "name": "ipython",
    "version": 3
   },
   "file_extension": ".py",
   "mimetype": "text/x-python",
   "name": "python",
   "nbconvert_exporter": "python",
   "pygments_lexer": "ipython3",
   "version": "3.9.13"
  }
 },
 "nbformat": 4,
 "nbformat_minor": 5
}
