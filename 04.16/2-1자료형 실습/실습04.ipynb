{
 "cells": [
  {
   "cell_type": "markdown",
   "id": "9c9683f1-a3f0-493e-af51-498727c34b0f",
   "metadata": {},
   "source": [
    "dic = {\"name\":\"sec\",\"id\":\"300000\",\"address\":\"suwon\"}\n",
    "에서 “id”:”300000” 삭제하여 출력하세요"
   ]
  },
  {
   "cell_type": "code",
   "execution_count": 1,
   "id": "d76d18f1-a94e-40d7-bdbc-6e3d05dfd15e",
   "metadata": {},
   "outputs": [],
   "source": [
    "dic = {\"name\":\"sec\",\"id\":\"300000\",\"address\":\"suwon\"}"
   ]
  },
  {
   "cell_type": "code",
   "execution_count": 2,
   "id": "4f0d3953-d7fc-473c-80f9-80acf3f289ab",
   "metadata": {},
   "outputs": [
    {
     "data": {
      "text/plain": [
       "dict_keys(['name', 'id', 'address'])"
      ]
     },
     "execution_count": 2,
     "metadata": {},
     "output_type": "execute_result"
    }
   ],
   "source": [
    "dic.keys()"
   ]
  },
  {
   "cell_type": "code",
   "execution_count": 3,
   "id": "4a9cf04f-6180-40be-8716-b7cf4196a5b3",
   "metadata": {},
   "outputs": [
    {
     "data": {
      "text/plain": [
       "'300000'"
      ]
     },
     "execution_count": 3,
     "metadata": {},
     "output_type": "execute_result"
    }
   ],
   "source": [
    "dic.pop(\"id\")"
   ]
  },
  {
   "cell_type": "code",
   "execution_count": null,
   "id": "f8720a55-1c78-4691-ac34-8bb93922a57e",
   "metadata": {},
   "outputs": [],
   "source": [
    "# pop은 리스트 내 대상 값만을 뽑아내는 명령어"
   ]
  },
  {
   "cell_type": "code",
   "execution_count": 4,
   "id": "5e665b02-dac9-4c90-a8b0-1472402afa47",
   "metadata": {},
   "outputs": [
    {
     "data": {
      "text/plain": [
       "{'name': 'sec', 'address': 'suwon'}"
      ]
     },
     "execution_count": 4,
     "metadata": {},
     "output_type": "execute_result"
    }
   ],
   "source": [
    "dic"
   ]
  }
 ],
 "metadata": {
  "kernelspec": {
   "display_name": "Python 3 (ipykernel)",
   "language": "python",
   "name": "python3"
  },
  "language_info": {
   "codemirror_mode": {
    "name": "ipython",
    "version": 3
   },
   "file_extension": ".py",
   "mimetype": "text/x-python",
   "name": "python",
   "nbconvert_exporter": "python",
   "pygments_lexer": "ipython3",
   "version": "3.9.13"
  }
 },
 "nbformat": 4,
 "nbformat_minor": 5
}
