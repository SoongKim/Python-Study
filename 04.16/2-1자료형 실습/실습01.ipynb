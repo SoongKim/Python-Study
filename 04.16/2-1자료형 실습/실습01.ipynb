{
 "cells": [
  {
   "cell_type": "code",
   "execution_count": null,
   "id": "16e526e1-5c18-48d5-b3ca-5c6d2d40855a",
   "metadata": {},
   "outputs": [],
   "source": [
    "# 현재 시간과 분을 입력받아\n",
    "# 두 개의 값을 더하는 연산을 수행하라."
   ]
  },
  {
   "cell_type": "code",
   "execution_count": 1,
   "id": "e9f432e6-6e6e-405c-a6eb-97a1558f83a4",
   "metadata": {},
   "outputs": [],
   "source": [
    "import datetime as dt"
   ]
  },
  {
   "cell_type": "code",
   "execution_count": 2,
   "id": "1039abb0-8490-40ab-b09a-833a3848f82a",
   "metadata": {},
   "outputs": [],
   "source": [
    "presentTime = dt.datetime.now()"
   ]
  },
  {
   "cell_type": "code",
   "execution_count": 3,
   "id": "64613735-a2b3-4bc1-8394-0f7b2bd6de80",
   "metadata": {},
   "outputs": [
    {
     "data": {
      "text/plain": [
       "datetime.datetime(2023, 4, 16, 16, 35, 26, 245586)"
      ]
     },
     "execution_count": 3,
     "metadata": {},
     "output_type": "execute_result"
    }
   ],
   "source": [
    "presentTime"
   ]
  },
  {
   "cell_type": "code",
   "execution_count": 4,
   "id": "e20c4362-fd61-442c-9e16-07d6d5135db7",
   "metadata": {},
   "outputs": [],
   "source": [
    "presentHour = presentTime.hour"
   ]
  },
  {
   "cell_type": "code",
   "execution_count": 5,
   "id": "7ab19308-ca80-404f-833c-b2e4cbedf67e",
   "metadata": {},
   "outputs": [
    {
     "data": {
      "text/plain": [
       "16"
      ]
     },
     "execution_count": 5,
     "metadata": {},
     "output_type": "execute_result"
    }
   ],
   "source": [
    "presentHour"
   ]
  },
  {
   "cell_type": "code",
   "execution_count": 8,
   "id": "67b213a7-bfe2-471e-a850-fb9bcdeaf8d6",
   "metadata": {},
   "outputs": [],
   "source": [
    "presentMinutes = presentTime.minute"
   ]
  },
  {
   "cell_type": "code",
   "execution_count": 9,
   "id": "dd7ba0a4-7f4b-4560-a4de-4f65ca409902",
   "metadata": {},
   "outputs": [
    {
     "data": {
      "text/plain": [
       "35"
      ]
     },
     "execution_count": 9,
     "metadata": {},
     "output_type": "execute_result"
    }
   ],
   "source": [
    "presentMinutes"
   ]
  },
  {
   "cell_type": "code",
   "execution_count": 10,
   "id": "54f3b637-c03a-446c-94e5-f1ced7af0a31",
   "metadata": {},
   "outputs": [],
   "source": [
    "sumation = presentHour + presentMinutes"
   ]
  },
  {
   "cell_type": "code",
   "execution_count": 11,
   "id": "88e96cc5-0b6d-4dfd-9495-15720275c2e9",
   "metadata": {},
   "outputs": [
    {
     "data": {
      "text/plain": [
       "51"
      ]
     },
     "execution_count": 11,
     "metadata": {},
     "output_type": "execute_result"
    }
   ],
   "source": [
    "sumation"
   ]
  }
 ],
 "metadata": {
  "kernelspec": {
   "display_name": "Python 3 (ipykernel)",
   "language": "python",
   "name": "python3"
  },
  "language_info": {
   "codemirror_mode": {
    "name": "ipython",
    "version": 3
   },
   "file_extension": ".py",
   "mimetype": "text/x-python",
   "name": "python",
   "nbconvert_exporter": "python",
   "pygments_lexer": "ipython3",
   "version": "3.9.13"
  }
 },
 "nbformat": 4,
 "nbformat_minor": 5
}
