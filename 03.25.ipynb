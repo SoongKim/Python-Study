{
 "cells": [
  {
   "cell_type": "code",
   "execution_count": null,
   "id": "cdadbc1e-83d6-4101-99dc-d2a2aa1581d1",
   "metadata": {},
   "outputs": [],
   "source": [
    "# 01번"
   ]
  },
  {
   "cell_type": "code",
   "execution_count": 366,
   "id": "622b7bd3-2771-4b7a-a36b-6f7812787c43",
   "metadata": {},
   "outputs": [
    {
     "name": "stdout",
     "output_type": "stream",
     "text": [
      "\n",
      "*\n",
      "**\n",
      "***\n",
      "****\n",
      "*****\n",
      "******\n",
      "*******\n",
      "********\n",
      "*********\n"
     ]
    }
   ],
   "source": [
    "for i in range(0, 10):\n",
    "    print(\"*\"*i)"
   ]
  },
  {
   "cell_type": "code",
   "execution_count": null,
   "id": "f9591fc6-3c39-4af0-9429-e1711a712d43",
   "metadata": {},
   "outputs": [],
   "source": [
    "# 02번"
   ]
  },
  {
   "cell_type": "code",
   "execution_count": 367,
   "id": "5d69e5de-1818-48d6-aa81-e5e85561477f",
   "metadata": {},
   "outputs": [
    {
     "name": "stdout",
     "output_type": "stream",
     "text": [
      "*********\n",
      "********\n",
      "*******\n",
      "******\n",
      "*****\n",
      "****\n",
      "***\n",
      "**\n",
      "*\n"
     ]
    }
   ],
   "source": [
    "for i in range(9, 0, -1):\n",
    "    print(\"*\"*(i))"
   ]
  },
  {
   "cell_type": "code",
   "execution_count": null,
   "id": "51bf04d8-9760-41d1-8d13-c8e8d3931d6f",
   "metadata": {},
   "outputs": [],
   "source": [
    "# 03번"
   ]
  },
  {
   "cell_type": "code",
   "execution_count": 368,
   "id": "ddc576e0-a058-47c2-9ae1-26a2d71ac476",
   "metadata": {},
   "outputs": [
    {
     "name": "stdout",
     "output_type": "stream",
     "text": [
      "*********\n",
      "*       *\n",
      "*       *\n",
      "*       *\n",
      "*       *\n",
      "*       *\n",
      "*       *\n",
      "*       *\n",
      "*       *\n",
      "*********\n"
     ]
    }
   ],
   "source": [
    "for i in range(0, 9):\n",
    "    if(i == 0):\n",
    "        print(\"*\"*9)\n",
    "    elif(i > 0 & i < 9):\n",
    "        print(\"*\"*1, \" \"*5, \"*\"*1)\n",
    "print(\"*\"*9)\n",
    "\n",
    "## 자바와 파이썬의 공백 인식 크기가 다른지 내부 공백 갯수를 임의를 조정하여야만\n",
    "## 문제와 같은 형태가 출력되었습니다.\n",
    "## if문의 경우 i == 0 | i == 8 로 조건을 달 경우 처음, 혹은 마지막 줄 출력을 인식하지 못해\n",
    "## 부득이하게 print 문을 추가로 설정하였습니다."
   ]
  },
  {
   "cell_type": "code",
   "execution_count": null,
   "id": "cc868654-1a0f-4c23-9ac9-e78df41694b0",
   "metadata": {},
   "outputs": [],
   "source": [
    "# 04번"
   ]
  },
  {
   "cell_type": "code",
   "execution_count": 43,
   "id": "ca76de48-4a9c-44a2-a45f-3a4896077a9c",
   "metadata": {},
   "outputs": [
    {
     "name": "stdout",
     "output_type": "stream",
     "text": [
      "        *\n",
      "       ***\n",
      "      *****\n",
      "     *******\n",
      "    *********\n",
      "   ***********\n",
      "  *************\n",
      " ***************\n"
     ]
    }
   ],
   "source": [
    "for i in range(0, 8):\n",
    "    print(\" \"*(8-i) + \"*\" * ((2*i)+1))"
   ]
  },
  {
   "cell_type": "code",
   "execution_count": null,
   "id": "52d50bfa-4f36-4db7-a6d7-5e29b0d16161",
   "metadata": {},
   "outputs": [],
   "source": [
    "# 05번"
   ]
  },
  {
   "cell_type": "code",
   "execution_count": 67,
   "id": "7c4bf895-87c7-477d-a671-a302263d8d55",
   "metadata": {},
   "outputs": [
    {
     "name": "stdout",
     "output_type": "stream",
     "text": [
      "        *\n",
      "       ***\n",
      "      *****\n",
      "     *******\n",
      "    *********\n",
      "   ***********\n",
      "  *************\n",
      " ***************\n",
      "  *************\n",
      "   ***********\n",
      "    *********\n",
      "     *******\n",
      "      *****\n",
      "       ***\n",
      "        *\n"
     ]
    }
   ],
   "source": [
    "for i in range(0, 8):\n",
    "    print(\" \"*(8-i) + \"*\" * ((2*i)+1))\n",
    "for j in range(7, 0, -1):\n",
    "    print(\" \"*(9-j) + \"*\" * ((2*j)-1))"
   ]
  },
  {
   "cell_type": "code",
   "execution_count": null,
   "id": "1a8a2d7e-79d3-4fd7-85f6-885796a4872f",
   "metadata": {},
   "outputs": [],
   "source": [
    "# 06번"
   ]
  },
  {
   "cell_type": "code",
   "execution_count": 75,
   "id": "edf441ce-6186-4768-bc72-d8f6e43c5c97",
   "metadata": {
    "tags": []
   },
   "outputs": [
    {
     "name": "stdout",
     "output_type": "stream",
     "text": [
      "***************\n",
      " *************\n",
      "  ***********\n",
      "   *********\n",
      "    *******\n",
      "     *****\n",
      "      ***\n",
      "       *\n",
      "      ***\n",
      "     *****\n",
      "    *******\n",
      "   *********\n",
      "  ***********\n",
      " *************\n",
      "***************\n"
     ]
    }
   ],
   "source": [
    "for i in range(8, 0, -1):\n",
    "    print(\" \"*(8-i) + \"*\"*(2*i-1))\n",
    "for j in range(1, 8):\n",
    "    print(\" \"*(7-j) + \"*\" * (2*j+1))"
   ]
  },
  {
   "cell_type": "code",
   "execution_count": null,
   "id": "9470b97f-cf4c-4dfd-a176-dc2d5f99f1c6",
   "metadata": {},
   "outputs": [],
   "source": [
    "# 07번"
   ]
  },
  {
   "cell_type": "code",
   "execution_count": 365,
   "id": "3016bd67-cd0f-48ff-9652-7df6ae2a8329",
   "metadata": {},
   "outputs": [
    {
     "name": "stdout",
     "output_type": "stream",
     "text": [
      "0부터 ~임의의 숫자 53 까지의 소수는 다음과 같습니다.\n",
      "2 3 5 7 11 13 17 19 23 29 31 37 41 43 47 53 \n",
      "입니다.\n"
     ]
    }
   ],
   "source": [
    "import random\n",
    "\n",
    "ranNum = random.randrange(0, 101)\n",
    "\n",
    "primeNum = 0\n",
    "print(\"0부터 ~임의의 숫자\", ranNum, \"까지의 소수는 다음과 같습니다.\")\n",
    "\n",
    "for i in range(0, ranNum+1):\n",
    "    if(i < 2):\n",
    "        continue\n",
    "    if(i == 2):\n",
    "        primeNum = 1;\n",
    "        \n",
    "    for j in range(2, i):\n",
    "        if (i % j != 0):\n",
    "            primeNum = 1;\n",
    "        else:\n",
    "            primeNum = 2;\n",
    "            break\n",
    "    \n",
    "    if(primeNum == 1):\n",
    "        print(i, end = ' ')\n",
    "print()\n",
    "print(\"입니다.\")"
   ]
  },
  {
   "cell_type": "code",
   "execution_count": null,
   "id": "a6fb5f3c-4338-4450-b1fa-0ccf1b619642",
   "metadata": {},
   "outputs": [],
   "source": [
    "# 09번"
   ]
  },
  {
   "cell_type": "code",
   "execution_count": 374,
   "id": "64f09c97-45fb-45cc-a6a8-dead58c1d798",
   "metadata": {},
   "outputs": [
    {
     "name": "stdout",
     "output_type": "stream",
     "text": [
      "listA : ['!$#^1!%#@', '#$@!^2!#$^', '!$#^3', '4!$#^', '!#$^5']\n",
      "인덱스 0 번째의 값은 1 입니다.\n",
      "인덱스 1 번째의 값은 2 입니다.\n",
      "인덱스 2 번째의 값은 3 입니다.\n",
      "인덱스 3 번째의 값은 4 입니다.\n",
      "인덱스 4 번째의 값은 5 입니다.\n"
     ]
    }
   ],
   "source": [
    "listA = [\"!$#^1!%#@\", \"#$@!^2!#$^\", \"!$#^3\", \"4!$#^\", \"!#$^5\"]\n",
    "\n",
    "print(\"listA :\", listA)\n",
    "\n",
    "listB = []\n",
    "for i in range(0, len(listA)):\n",
    "    listA[i] = listA[i].replace(\"!\", \"\")\n",
    "    listA[i] = listA[i].replace(\"@\", \"\")\n",
    "    listA[i] = listA[i].replace(\"#\", \"\")\n",
    "    listA[i] = listA[i].replace(\"$\", \"\")\n",
    "    listA[i] = listA[i].replace(\"%\", \"\")\n",
    "    listB.append(listA[i].replace(\"^\", \"\"))\n",
    "    print(\"인덱스\", i, \"번째의 값은\", listB[i], \"입니다.\")"
   ]
  },
  {
   "cell_type": "code",
   "execution_count": null,
   "id": "635d7f71-3360-4078-896d-937f921e8c10",
   "metadata": {},
   "outputs": [],
   "source": [
    "# 10번"
   ]
  },
  {
   "cell_type": "code",
   "execution_count": 182,
   "id": "2bf8c191-a7af-4e51-922c-6441fb619538",
   "metadata": {},
   "outputs": [
    {
     "name": "stdout",
     "output_type": "stream",
     "text": [
      "7개의 숫자를 입력해주세요.\n"
     ]
    },
    {
     "name": "stdin",
     "output_type": "stream",
     "text": [
      " 1\n",
      " 2\n",
      " 3\n",
      " 4\n",
      " 5\n",
      " 6\n",
      " 7\n"
     ]
    },
    {
     "name": "stdout",
     "output_type": "stream",
     "text": [
      "가장 높은 점수는 :  7\n",
      "가장 낮은 점수는 :  1\n",
      "최소값과 최대값을 제외한 평균은 4.0 입니다.\n"
     ]
    }
   ],
   "source": [
    "print(\"7개의 숫자를 입력해주세요.\")\n",
    "numList = []\n",
    "\n",
    "for i in range(0, 7):\n",
    "    numList.append(int(input()))\n",
    "maxList = max(numList)\n",
    "minList = min(numList)\n",
    "\n",
    "print(\"가장 높은 점수는 : \", maxList)\n",
    "print(\"가장 낮은 점수는 : \", minList)\n",
    "\n",
    "numList.remove(maxList)\n",
    "numList.remove(minList)\n",
    "\n",
    "sumList = sum(numList)\n",
    "lenList = len(numList)\n",
    "\n",
    "avgList = sumList/lenList\n",
    "print(\"최소값과 최대값을 제외한 평균은\", avgList, \"입니다.\")"
   ]
  }
 ],
 "metadata": {
  "kernelspec": {
   "display_name": "Python 3 (ipykernel)",
   "language": "python",
   "name": "python3"
  },
  "language_info": {
   "codemirror_mode": {
    "name": "ipython",
    "version": 3
   },
   "file_extension": ".py",
   "mimetype": "text/x-python",
   "name": "python",
   "nbconvert_exporter": "python",
   "pygments_lexer": "ipython3",
   "version": "3.9.13"
  }
 },
 "nbformat": 4,
 "nbformat_minor": 5
}
