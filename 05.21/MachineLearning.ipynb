{
 "cells": [
  {
   "cell_type": "code",
   "execution_count": 39,
   "id": "bb9eacd8-2741-494c-a7ac-e36ea287190d",
   "metadata": {},
   "outputs": [],
   "source": [
    "import pandas as pd\n",
    "import numpy as np\n",
    "from sklearn import tree\n",
    "from sklearn.metrics import mean_squared_error\n",
    "from sklearn.metrics import mean_absolute_error\n",
    "from sklearn.preprocessing import LabelEncoder\n",
    "from sklearn.tree import DecisionTreeRegressor"
   ]
  },
  {
   "cell_type": "code",
   "execution_count": 2,
   "id": "2c0f9f0a-a96d-4f31-a427-b343b1ab6ce5",
   "metadata": {},
   "outputs": [],
   "source": [
    "targetData = pd.read_csv(\"../../Python_Script/dataset/feature_regression_example.csv\")"
   ]
  },
  {
   "cell_type": "code",
   "execution_count": 3,
   "id": "a9db138d-09e4-4b37-9319-57cfba31fd99",
   "metadata": {},
   "outputs": [
    {
     "data": {
      "text/html": [
       "<div>\n",
       "<style scoped>\n",
       "    .dataframe tbody tr th:only-of-type {\n",
       "        vertical-align: middle;\n",
       "    }\n",
       "\n",
       "    .dataframe tbody tr th {\n",
       "        vertical-align: top;\n",
       "    }\n",
       "\n",
       "    .dataframe thead th {\n",
       "        text-align: right;\n",
       "    }\n",
       "</style>\n",
       "<table border=\"1\" class=\"dataframe\">\n",
       "  <thead>\n",
       "    <tr style=\"text-align: right;\">\n",
       "      <th></th>\n",
       "      <th>REGIONID</th>\n",
       "      <th>PRODUCTGROUP</th>\n",
       "      <th>PRODUCT</th>\n",
       "      <th>ITEM</th>\n",
       "      <th>YEARWEEK</th>\n",
       "      <th>YEAR</th>\n",
       "      <th>WEEK</th>\n",
       "      <th>QTY</th>\n",
       "      <th>HOLIDAY</th>\n",
       "      <th>HCLUS</th>\n",
       "      <th>PROMOTION</th>\n",
       "      <th>PRO_PERCENT</th>\n",
       "    </tr>\n",
       "  </thead>\n",
       "  <tbody>\n",
       "    <tr>\n",
       "      <th>0</th>\n",
       "      <td>SEOUL_BANK_001</td>\n",
       "      <td>PG02</td>\n",
       "      <td>PRODUCT0010</td>\n",
       "      <td>ITEM0115</td>\n",
       "      <td>201501</td>\n",
       "      <td>2015</td>\n",
       "      <td>1</td>\n",
       "      <td>1225</td>\n",
       "      <td>Y</td>\n",
       "      <td>1</td>\n",
       "      <td>Y</td>\n",
       "      <td>0.209442</td>\n",
       "    </tr>\n",
       "    <tr>\n",
       "      <th>1</th>\n",
       "      <td>SEOUL_BANK_001</td>\n",
       "      <td>PG02</td>\n",
       "      <td>PRODUCT0010</td>\n",
       "      <td>ITEM0115</td>\n",
       "      <td>201502</td>\n",
       "      <td>2015</td>\n",
       "      <td>2</td>\n",
       "      <td>968</td>\n",
       "      <td>N</td>\n",
       "      <td>4</td>\n",
       "      <td>Y</td>\n",
       "      <td>0.209442</td>\n",
       "    </tr>\n",
       "    <tr>\n",
       "      <th>2</th>\n",
       "      <td>SEOUL_BANK_001</td>\n",
       "      <td>PG02</td>\n",
       "      <td>PRODUCT0010</td>\n",
       "      <td>ITEM0115</td>\n",
       "      <td>201503</td>\n",
       "      <td>2015</td>\n",
       "      <td>3</td>\n",
       "      <td>1209</td>\n",
       "      <td>N</td>\n",
       "      <td>4</td>\n",
       "      <td>Y</td>\n",
       "      <td>0.208155</td>\n",
       "    </tr>\n",
       "    <tr>\n",
       "      <th>3</th>\n",
       "      <td>SEOUL_BANK_001</td>\n",
       "      <td>PG02</td>\n",
       "      <td>PRODUCT0010</td>\n",
       "      <td>ITEM0115</td>\n",
       "      <td>201504</td>\n",
       "      <td>2015</td>\n",
       "      <td>4</td>\n",
       "      <td>1810</td>\n",
       "      <td>Y</td>\n",
       "      <td>2</td>\n",
       "      <td>Y</td>\n",
       "      <td>0.208155</td>\n",
       "    </tr>\n",
       "    <tr>\n",
       "      <th>4</th>\n",
       "      <td>SEOUL_BANK_001</td>\n",
       "      <td>PG02</td>\n",
       "      <td>PRODUCT0010</td>\n",
       "      <td>ITEM0115</td>\n",
       "      <td>201505</td>\n",
       "      <td>2015</td>\n",
       "      <td>5</td>\n",
       "      <td>1773</td>\n",
       "      <td>N</td>\n",
       "      <td>4</td>\n",
       "      <td>Y</td>\n",
       "      <td>0.208155</td>\n",
       "    </tr>\n",
       "  </tbody>\n",
       "</table>\n",
       "</div>"
      ],
      "text/plain": [
       "         REGIONID PRODUCTGROUP      PRODUCT      ITEM  YEARWEEK  YEAR  WEEK  \\\n",
       "0  SEOUL_BANK_001         PG02  PRODUCT0010  ITEM0115    201501  2015     1   \n",
       "1  SEOUL_BANK_001         PG02  PRODUCT0010  ITEM0115    201502  2015     2   \n",
       "2  SEOUL_BANK_001         PG02  PRODUCT0010  ITEM0115    201503  2015     3   \n",
       "3  SEOUL_BANK_001         PG02  PRODUCT0010  ITEM0115    201504  2015     4   \n",
       "4  SEOUL_BANK_001         PG02  PRODUCT0010  ITEM0115    201505  2015     5   \n",
       "\n",
       "    QTY HOLIDAY  HCLUS PROMOTION  PRO_PERCENT  \n",
       "0  1225       Y      1         Y     0.209442  \n",
       "1   968       N      4         Y     0.209442  \n",
       "2  1209       N      4         Y     0.208155  \n",
       "3  1810       Y      2         Y     0.208155  \n",
       "4  1773       N      4         Y     0.208155  "
      ]
     },
     "execution_count": 3,
     "metadata": {},
     "output_type": "execute_result"
    }
   ],
   "source": [
    "targetData.head()"
   ]
  },
  {
   "cell_type": "code",
   "execution_count": 4,
   "id": "4965075b-9601-4b5f-9b53-b7f66ef390e8",
   "metadata": {},
   "outputs": [
    {
     "data": {
      "text/plain": [
       "REGIONID         object\n",
       "PRODUCTGROUP     object\n",
       "PRODUCT          object\n",
       "ITEM             object\n",
       "YEARWEEK          int64\n",
       "YEAR              int64\n",
       "WEEK              int64\n",
       "QTY               int64\n",
       "HOLIDAY          object\n",
       "HCLUS             int64\n",
       "PROMOTION        object\n",
       "PRO_PERCENT     float64\n",
       "dtype: object"
      ]
     },
     "execution_count": 4,
     "metadata": {},
     "output_type": "execute_result"
    }
   ],
   "source": [
    "targetData.dtypes"
   ]
  },
  {
   "cell_type": "code",
   "execution_count": 5,
   "id": "6ea26c24-4018-416d-b96c-b8ef80d75cf0",
   "metadata": {},
   "outputs": [],
   "source": [
    "ynLabelEn = LabelEncoder()"
   ]
  },
  {
   "cell_type": "code",
   "execution_count": 6,
   "id": "9fbff9fe-37e4-4de7-9b16-12dee16b6763",
   "metadata": {},
   "outputs": [],
   "source": [
    "targetData[\"HO_YN\"] = ynLabelEn.fit_transform(targetData[\"HOLIDAY\"])"
   ]
  },
  {
   "cell_type": "code",
   "execution_count": 7,
   "id": "14d8cdc8-60fa-49d5-a1d4-c48b842da780",
   "metadata": {},
   "outputs": [],
   "source": [
    "targetData[\"PRO_YN\"] = ynLabelEn.fit_transform(targetData[\"PROMOTION\"])"
   ]
  },
  {
   "cell_type": "code",
   "execution_count": 8,
   "id": "52cfb23b-2cf0-4d93-adac-8580c32e3647",
   "metadata": {},
   "outputs": [
    {
     "data": {
      "text/html": [
       "<div>\n",
       "<style scoped>\n",
       "    .dataframe tbody tr th:only-of-type {\n",
       "        vertical-align: middle;\n",
       "    }\n",
       "\n",
       "    .dataframe tbody tr th {\n",
       "        vertical-align: top;\n",
       "    }\n",
       "\n",
       "    .dataframe thead th {\n",
       "        text-align: right;\n",
       "    }\n",
       "</style>\n",
       "<table border=\"1\" class=\"dataframe\">\n",
       "  <thead>\n",
       "    <tr style=\"text-align: right;\">\n",
       "      <th></th>\n",
       "      <th>REGIONID</th>\n",
       "      <th>PRODUCTGROUP</th>\n",
       "      <th>PRODUCT</th>\n",
       "      <th>ITEM</th>\n",
       "      <th>YEARWEEK</th>\n",
       "      <th>YEAR</th>\n",
       "      <th>WEEK</th>\n",
       "      <th>QTY</th>\n",
       "      <th>HOLIDAY</th>\n",
       "      <th>HCLUS</th>\n",
       "      <th>PROMOTION</th>\n",
       "      <th>PRO_PERCENT</th>\n",
       "      <th>HO_YN</th>\n",
       "      <th>PRO_YN</th>\n",
       "    </tr>\n",
       "  </thead>\n",
       "  <tbody>\n",
       "    <tr>\n",
       "      <th>0</th>\n",
       "      <td>SEOUL_BANK_001</td>\n",
       "      <td>PG02</td>\n",
       "      <td>PRODUCT0010</td>\n",
       "      <td>ITEM0115</td>\n",
       "      <td>201501</td>\n",
       "      <td>2015</td>\n",
       "      <td>1</td>\n",
       "      <td>1225</td>\n",
       "      <td>Y</td>\n",
       "      <td>1</td>\n",
       "      <td>Y</td>\n",
       "      <td>0.209442</td>\n",
       "      <td>1</td>\n",
       "      <td>1</td>\n",
       "    </tr>\n",
       "    <tr>\n",
       "      <th>1</th>\n",
       "      <td>SEOUL_BANK_001</td>\n",
       "      <td>PG02</td>\n",
       "      <td>PRODUCT0010</td>\n",
       "      <td>ITEM0115</td>\n",
       "      <td>201502</td>\n",
       "      <td>2015</td>\n",
       "      <td>2</td>\n",
       "      <td>968</td>\n",
       "      <td>N</td>\n",
       "      <td>4</td>\n",
       "      <td>Y</td>\n",
       "      <td>0.209442</td>\n",
       "      <td>0</td>\n",
       "      <td>1</td>\n",
       "    </tr>\n",
       "    <tr>\n",
       "      <th>2</th>\n",
       "      <td>SEOUL_BANK_001</td>\n",
       "      <td>PG02</td>\n",
       "      <td>PRODUCT0010</td>\n",
       "      <td>ITEM0115</td>\n",
       "      <td>201503</td>\n",
       "      <td>2015</td>\n",
       "      <td>3</td>\n",
       "      <td>1209</td>\n",
       "      <td>N</td>\n",
       "      <td>4</td>\n",
       "      <td>Y</td>\n",
       "      <td>0.208155</td>\n",
       "      <td>0</td>\n",
       "      <td>1</td>\n",
       "    </tr>\n",
       "    <tr>\n",
       "      <th>3</th>\n",
       "      <td>SEOUL_BANK_001</td>\n",
       "      <td>PG02</td>\n",
       "      <td>PRODUCT0010</td>\n",
       "      <td>ITEM0115</td>\n",
       "      <td>201504</td>\n",
       "      <td>2015</td>\n",
       "      <td>4</td>\n",
       "      <td>1810</td>\n",
       "      <td>Y</td>\n",
       "      <td>2</td>\n",
       "      <td>Y</td>\n",
       "      <td>0.208155</td>\n",
       "      <td>1</td>\n",
       "      <td>1</td>\n",
       "    </tr>\n",
       "    <tr>\n",
       "      <th>4</th>\n",
       "      <td>SEOUL_BANK_001</td>\n",
       "      <td>PG02</td>\n",
       "      <td>PRODUCT0010</td>\n",
       "      <td>ITEM0115</td>\n",
       "      <td>201505</td>\n",
       "      <td>2015</td>\n",
       "      <td>5</td>\n",
       "      <td>1773</td>\n",
       "      <td>N</td>\n",
       "      <td>4</td>\n",
       "      <td>Y</td>\n",
       "      <td>0.208155</td>\n",
       "      <td>0</td>\n",
       "      <td>1</td>\n",
       "    </tr>\n",
       "  </tbody>\n",
       "</table>\n",
       "</div>"
      ],
      "text/plain": [
       "         REGIONID PRODUCTGROUP      PRODUCT      ITEM  YEARWEEK  YEAR  WEEK  \\\n",
       "0  SEOUL_BANK_001         PG02  PRODUCT0010  ITEM0115    201501  2015     1   \n",
       "1  SEOUL_BANK_001         PG02  PRODUCT0010  ITEM0115    201502  2015     2   \n",
       "2  SEOUL_BANK_001         PG02  PRODUCT0010  ITEM0115    201503  2015     3   \n",
       "3  SEOUL_BANK_001         PG02  PRODUCT0010  ITEM0115    201504  2015     4   \n",
       "4  SEOUL_BANK_001         PG02  PRODUCT0010  ITEM0115    201505  2015     5   \n",
       "\n",
       "    QTY HOLIDAY  HCLUS PROMOTION  PRO_PERCENT  HO_YN  PRO_YN  \n",
       "0  1225       Y      1         Y     0.209442      1       1  \n",
       "1   968       N      4         Y     0.209442      0       1  \n",
       "2  1209       N      4         Y     0.208155      0       1  \n",
       "3  1810       Y      2         Y     0.208155      1       1  \n",
       "4  1773       N      4         Y     0.208155      0       1  "
      ]
     },
     "execution_count": 8,
     "metadata": {},
     "output_type": "execute_result"
    }
   ],
   "source": [
    "targetData.head()"
   ]
  },
  {
   "cell_type": "code",
   "execution_count": 9,
   "id": "9718b0b6-3499-4fc3-897e-7ef7530e61f0",
   "metadata": {},
   "outputs": [],
   "source": [
    "targetData[\"YEARWEEK\"] = targetData[\"YEARWEEK\"].astype(int)\n",
    "targetData[\"YEAR\"] = targetData[\"YEAR\"].astype(int)\n",
    "targetData[\"WEEK\"] = targetData[\"WEEK\"].astype(int)\n",
    "targetData[\"HO_YN\"] = targetData[\"HO_YN\"].astype(int)\n",
    "targetData[\"PRO_YN\"] = targetData[\"PRO_YN\"].astype(int)\n",
    "targetData[\"HCLUS\"] = targetData[\"HCLUS\"].astype(int)"
   ]
  },
  {
   "cell_type": "code",
   "execution_count": 10,
   "id": "6077c35d-218c-49ff-a19c-38524a59bbc6",
   "metadata": {},
   "outputs": [
    {
     "data": {
      "text/plain": [
       "REGIONID         object\n",
       "PRODUCTGROUP     object\n",
       "PRODUCT          object\n",
       "ITEM             object\n",
       "YEARWEEK          int32\n",
       "YEAR              int32\n",
       "WEEK              int32\n",
       "QTY               int64\n",
       "HOLIDAY          object\n",
       "HCLUS             int32\n",
       "PROMOTION        object\n",
       "PRO_PERCENT     float64\n",
       "HO_YN             int32\n",
       "PRO_YN            int32\n",
       "dtype: object"
      ]
     },
     "execution_count": 10,
     "metadata": {},
     "output_type": "execute_result"
    }
   ],
   "source": [
    "targetData.dtypes"
   ]
  },
  {
   "cell_type": "code",
   "execution_count": 11,
   "id": "646f2358-1416-426f-bfba-aac25f6796ba",
   "metadata": {},
   "outputs": [],
   "source": [
    "corrData = targetData.corr()"
   ]
  },
  {
   "cell_type": "code",
   "execution_count": 12,
   "id": "e6b009c3-6f61-4e46-9a14-2165ae1b13fa",
   "metadata": {},
   "outputs": [
    {
     "data": {
      "text/html": [
       "<div>\n",
       "<style scoped>\n",
       "    .dataframe tbody tr th:only-of-type {\n",
       "        vertical-align: middle;\n",
       "    }\n",
       "\n",
       "    .dataframe tbody tr th {\n",
       "        vertical-align: top;\n",
       "    }\n",
       "\n",
       "    .dataframe thead th {\n",
       "        text-align: right;\n",
       "    }\n",
       "</style>\n",
       "<table border=\"1\" class=\"dataframe\">\n",
       "  <thead>\n",
       "    <tr style=\"text-align: right;\">\n",
       "      <th></th>\n",
       "      <th>YEARWEEK</th>\n",
       "      <th>YEAR</th>\n",
       "      <th>WEEK</th>\n",
       "      <th>QTY</th>\n",
       "      <th>HCLUS</th>\n",
       "      <th>PRO_PERCENT</th>\n",
       "      <th>HO_YN</th>\n",
       "      <th>PRO_YN</th>\n",
       "    </tr>\n",
       "  </thead>\n",
       "  <tbody>\n",
       "    <tr>\n",
       "      <th>YEARWEEK</th>\n",
       "      <td>1.000000</td>\n",
       "      <td>0.956598</td>\n",
       "      <td>0.275593</td>\n",
       "      <td>0.112267</td>\n",
       "      <td>-0.071586</td>\n",
       "      <td>0.404889</td>\n",
       "      <td>0.049867</td>\n",
       "      <td>0.205916</td>\n",
       "    </tr>\n",
       "    <tr>\n",
       "      <th>YEAR</th>\n",
       "      <td>0.956598</td>\n",
       "      <td>1.000000</td>\n",
       "      <td>-0.016493</td>\n",
       "      <td>0.028931</td>\n",
       "      <td>0.028593</td>\n",
       "      <td>0.321193</td>\n",
       "      <td>-0.031106</td>\n",
       "      <td>0.195931</td>\n",
       "    </tr>\n",
       "    <tr>\n",
       "      <th>WEEK</th>\n",
       "      <td>0.275593</td>\n",
       "      <td>-0.016493</td>\n",
       "      <td>1.000000</td>\n",
       "      <td>0.289766</td>\n",
       "      <td>-0.339943</td>\n",
       "      <td>0.329705</td>\n",
       "      <td>0.273710</td>\n",
       "      <td>0.060206</td>\n",
       "    </tr>\n",
       "    <tr>\n",
       "      <th>QTY</th>\n",
       "      <td>0.112267</td>\n",
       "      <td>0.028931</td>\n",
       "      <td>0.289766</td>\n",
       "      <td>1.000000</td>\n",
       "      <td>-0.537230</td>\n",
       "      <td>0.700195</td>\n",
       "      <td>0.505932</td>\n",
       "      <td>0.612451</td>\n",
       "    </tr>\n",
       "    <tr>\n",
       "      <th>HCLUS</th>\n",
       "      <td>-0.071586</td>\n",
       "      <td>0.028593</td>\n",
       "      <td>-0.339943</td>\n",
       "      <td>-0.537230</td>\n",
       "      <td>1.000000</td>\n",
       "      <td>-0.545619</td>\n",
       "      <td>-0.974601</td>\n",
       "      <td>-0.374072</td>\n",
       "    </tr>\n",
       "    <tr>\n",
       "      <th>PRO_PERCENT</th>\n",
       "      <td>0.404889</td>\n",
       "      <td>0.321193</td>\n",
       "      <td>0.329705</td>\n",
       "      <td>0.700195</td>\n",
       "      <td>-0.545619</td>\n",
       "      <td>1.000000</td>\n",
       "      <td>0.487062</td>\n",
       "      <td>0.898554</td>\n",
       "    </tr>\n",
       "    <tr>\n",
       "      <th>HO_YN</th>\n",
       "      <td>0.049867</td>\n",
       "      <td>-0.031106</td>\n",
       "      <td>0.273710</td>\n",
       "      <td>0.505932</td>\n",
       "      <td>-0.974601</td>\n",
       "      <td>0.487062</td>\n",
       "      <td>1.000000</td>\n",
       "      <td>0.365148</td>\n",
       "    </tr>\n",
       "    <tr>\n",
       "      <th>PRO_YN</th>\n",
       "      <td>0.205916</td>\n",
       "      <td>0.195931</td>\n",
       "      <td>0.060206</td>\n",
       "      <td>0.612451</td>\n",
       "      <td>-0.374072</td>\n",
       "      <td>0.898554</td>\n",
       "      <td>0.365148</td>\n",
       "      <td>1.000000</td>\n",
       "    </tr>\n",
       "  </tbody>\n",
       "</table>\n",
       "</div>"
      ],
      "text/plain": [
       "             YEARWEEK      YEAR      WEEK       QTY     HCLUS  PRO_PERCENT  \\\n",
       "YEARWEEK     1.000000  0.956598  0.275593  0.112267 -0.071586     0.404889   \n",
       "YEAR         0.956598  1.000000 -0.016493  0.028931  0.028593     0.321193   \n",
       "WEEK         0.275593 -0.016493  1.000000  0.289766 -0.339943     0.329705   \n",
       "QTY          0.112267  0.028931  0.289766  1.000000 -0.537230     0.700195   \n",
       "HCLUS       -0.071586  0.028593 -0.339943 -0.537230  1.000000    -0.545619   \n",
       "PRO_PERCENT  0.404889  0.321193  0.329705  0.700195 -0.545619     1.000000   \n",
       "HO_YN        0.049867 -0.031106  0.273710  0.505932 -0.974601     0.487062   \n",
       "PRO_YN       0.205916  0.195931  0.060206  0.612451 -0.374072     0.898554   \n",
       "\n",
       "                HO_YN    PRO_YN  \n",
       "YEARWEEK     0.049867  0.205916  \n",
       "YEAR        -0.031106  0.195931  \n",
       "WEEK         0.273710  0.060206  \n",
       "QTY          0.505932  0.612451  \n",
       "HCLUS       -0.974601 -0.374072  \n",
       "PRO_PERCENT  0.487062  0.898554  \n",
       "HO_YN        1.000000  0.365148  \n",
       "PRO_YN       0.365148  1.000000  "
      ]
     },
     "execution_count": 12,
     "metadata": {},
     "output_type": "execute_result"
    }
   ],
   "source": [
    "corrData"
   ]
  },
  {
   "cell_type": "code",
   "execution_count": 13,
   "id": "ad268dfa-5fa4-4683-b9d6-58ce2690d54b",
   "metadata": {},
   "outputs": [],
   "source": [
    "targetStd = 0.5"
   ]
  },
  {
   "cell_type": "code",
   "execution_count": 14,
   "id": "d15afa24-2a1c-40a3-a48e-9e02c6bbe1e9",
   "metadata": {},
   "outputs": [],
   "source": [
    "features = list(corrData[(abs(corrData.QTY) > targetStd) & \\\n",
    "                         (abs(corrData.QTY) != 1)].index)"
   ]
  },
  {
   "cell_type": "code",
   "execution_count": 15,
   "id": "8ec46cda-66dc-4eb6-82bf-b1e81aafec6f",
   "metadata": {},
   "outputs": [
    {
     "data": {
      "text/plain": [
       "['HCLUS', 'PRO_PERCENT', 'HO_YN', 'PRO_YN']"
      ]
     },
     "execution_count": 15,
     "metadata": {},
     "output_type": "execute_result"
    }
   ],
   "source": [
    "features"
   ]
  },
  {
   "cell_type": "code",
   "execution_count": 16,
   "id": "924a65f1-430c-4f4a-b0cc-1c98a449e3b0",
   "metadata": {},
   "outputs": [],
   "source": [
    "label = [\"QTY\"]"
   ]
  },
  {
   "cell_type": "code",
   "execution_count": 17,
   "id": "fa869214-dd1d-4731-b492-da08dc92eec9",
   "metadata": {},
   "outputs": [
    {
     "data": {
      "text/plain": [
       "['QTY']"
      ]
     },
     "execution_count": 17,
     "metadata": {},
     "output_type": "execute_result"
    }
   ],
   "source": [
    "label"
   ]
  },
  {
   "cell_type": "code",
   "execution_count": 18,
   "id": "c9afe2fc-5201-403a-b87d-c96b38b67fe1",
   "metadata": {},
   "outputs": [],
   "source": [
    "targetRatio = 0.7"
   ]
  },
  {
   "cell_type": "code",
   "execution_count": 19,
   "id": "283f6319-6f38-44f4-a536-4f9b1e107795",
   "metadata": {},
   "outputs": [],
   "source": [
    "targetIndex = int(targetData.shape[0] * targetRatio)"
   ]
  },
  {
   "cell_type": "code",
   "execution_count": 20,
   "id": "c148520a-1da0-40e4-9ca4-ff540f98a5ff",
   "metadata": {},
   "outputs": [
    {
     "data": {
      "text/plain": [
       "73"
      ]
     },
     "execution_count": 20,
     "metadata": {},
     "output_type": "execute_result"
    }
   ],
   "source": [
    "targetIndex"
   ]
  },
  {
   "cell_type": "code",
   "execution_count": 21,
   "id": "d476e008-4ac9-4a10-b4ce-28c6fc3426c2",
   "metadata": {},
   "outputs": [],
   "source": [
    "training_features = targetData[features][:targetIndex]\n",
    "training_label = targetData[label][:targetIndex]"
   ]
  },
  {
   "cell_type": "code",
   "execution_count": 22,
   "id": "a5a4b341-2f22-45da-89ba-41314b366b56",
   "metadata": {},
   "outputs": [],
   "source": [
    "test_features = targetData[features][targetIndex:]\n",
    "test_label = targetData[label][targetIndex:]"
   ]
  },
  {
   "cell_type": "code",
   "execution_count": 23,
   "id": "c0f2d137-f010-47de-bd59-094726503e6f",
   "metadata": {
    "tags": []
   },
   "outputs": [],
   "source": [
    "training_features = training_features.reset_index(drop=True, inplace = False)\n",
    "training_label = training_label.reset_index(drop=True, inplace = False)\n",
    "test_features = test_features.reset_index(drop=True, inplace = False)\n",
    "test_label = test_label.reset_index(drop=True, inplace = False)"
   ]
  },
  {
   "cell_type": "code",
   "execution_count": 40,
   "id": "9b756c71-9fb9-4543-a4d7-1a9ad9897bdf",
   "metadata": {},
   "outputs": [],
   "source": [
    "model_method = tree.DecisionTreeRegressor()"
   ]
  },
  {
   "cell_type": "code",
   "execution_count": 41,
   "id": "44b3a1df-4a00-4b50-ba59-f86cfd582372",
   "metadata": {},
   "outputs": [],
   "source": [
    "model = model_method.fit(training_features, training_label)"
   ]
  },
  {
   "cell_type": "code",
   "execution_count": 42,
   "id": "b187ef73-e07c-4b1b-8c51-ff119928fc15",
   "metadata": {},
   "outputs": [],
   "source": [
    "predictData = pd.DataFrame(model.predict(test_features), columns = {\"PREDICT\"})"
   ]
  },
  {
   "cell_type": "code",
   "execution_count": 43,
   "id": "0858dbbd-2a8f-4af6-afdd-2619c2d2dc6f",
   "metadata": {
    "tags": []
   },
   "outputs": [
    {
     "data": {
      "text/plain": [
       "32"
      ]
     },
     "execution_count": 43,
     "metadata": {},
     "output_type": "execute_result"
    }
   ],
   "source": [
    "predictData.shape[0]"
   ]
  },
  {
   "cell_type": "code",
   "execution_count": 44,
   "id": "f8fa63fa-be6c-42f3-9ca9-b51b0c482aa2",
   "metadata": {},
   "outputs": [
    {
     "data": {
      "text/plain": [
       "32"
      ]
     },
     "execution_count": 44,
     "metadata": {},
     "output_type": "execute_result"
    }
   ],
   "source": [
    "test_label.shape[0]"
   ]
  },
  {
   "cell_type": "code",
   "execution_count": 45,
   "id": "e5988612-59f2-419c-b37d-83f3e59777bf",
   "metadata": {
    "tags": []
   },
   "outputs": [
    {
     "data": {
      "text/html": [
       "<div>\n",
       "<style scoped>\n",
       "    .dataframe tbody tr th:only-of-type {\n",
       "        vertical-align: middle;\n",
       "    }\n",
       "\n",
       "    .dataframe tbody tr th {\n",
       "        vertical-align: top;\n",
       "    }\n",
       "\n",
       "    .dataframe thead th {\n",
       "        text-align: right;\n",
       "    }\n",
       "</style>\n",
       "<table border=\"1\" class=\"dataframe\">\n",
       "  <thead>\n",
       "    <tr style=\"text-align: right;\">\n",
       "      <th></th>\n",
       "      <th>PREDICT</th>\n",
       "    </tr>\n",
       "  </thead>\n",
       "  <tbody>\n",
       "    <tr>\n",
       "      <th>0</th>\n",
       "      <td>2783.6</td>\n",
       "    </tr>\n",
       "    <tr>\n",
       "      <th>1</th>\n",
       "      <td>2783.6</td>\n",
       "    </tr>\n",
       "    <tr>\n",
       "      <th>2</th>\n",
       "      <td>2783.6</td>\n",
       "    </tr>\n",
       "    <tr>\n",
       "      <th>3</th>\n",
       "      <td>367.2</td>\n",
       "    </tr>\n",
       "    <tr>\n",
       "      <th>4</th>\n",
       "      <td>2783.6</td>\n",
       "    </tr>\n",
       "    <tr>\n",
       "      <th>5</th>\n",
       "      <td>2783.6</td>\n",
       "    </tr>\n",
       "    <tr>\n",
       "      <th>6</th>\n",
       "      <td>2783.6</td>\n",
       "    </tr>\n",
       "    <tr>\n",
       "      <th>7</th>\n",
       "      <td>2783.6</td>\n",
       "    </tr>\n",
       "    <tr>\n",
       "      <th>8</th>\n",
       "      <td>2783.6</td>\n",
       "    </tr>\n",
       "    <tr>\n",
       "      <th>9</th>\n",
       "      <td>2783.6</td>\n",
       "    </tr>\n",
       "    <tr>\n",
       "      <th>10</th>\n",
       "      <td>2783.6</td>\n",
       "    </tr>\n",
       "    <tr>\n",
       "      <th>11</th>\n",
       "      <td>2783.6</td>\n",
       "    </tr>\n",
       "    <tr>\n",
       "      <th>12</th>\n",
       "      <td>367.2</td>\n",
       "    </tr>\n",
       "    <tr>\n",
       "      <th>13</th>\n",
       "      <td>2783.6</td>\n",
       "    </tr>\n",
       "    <tr>\n",
       "      <th>14</th>\n",
       "      <td>2783.6</td>\n",
       "    </tr>\n",
       "    <tr>\n",
       "      <th>15</th>\n",
       "      <td>2783.6</td>\n",
       "    </tr>\n",
       "    <tr>\n",
       "      <th>16</th>\n",
       "      <td>2783.6</td>\n",
       "    </tr>\n",
       "    <tr>\n",
       "      <th>17</th>\n",
       "      <td>2783.6</td>\n",
       "    </tr>\n",
       "    <tr>\n",
       "      <th>18</th>\n",
       "      <td>2783.6</td>\n",
       "    </tr>\n",
       "    <tr>\n",
       "      <th>19</th>\n",
       "      <td>2783.6</td>\n",
       "    </tr>\n",
       "    <tr>\n",
       "      <th>20</th>\n",
       "      <td>2783.6</td>\n",
       "    </tr>\n",
       "    <tr>\n",
       "      <th>21</th>\n",
       "      <td>2783.6</td>\n",
       "    </tr>\n",
       "    <tr>\n",
       "      <th>22</th>\n",
       "      <td>367.2</td>\n",
       "    </tr>\n",
       "    <tr>\n",
       "      <th>23</th>\n",
       "      <td>2193.8</td>\n",
       "    </tr>\n",
       "    <tr>\n",
       "      <th>24</th>\n",
       "      <td>2193.8</td>\n",
       "    </tr>\n",
       "    <tr>\n",
       "      <th>25</th>\n",
       "      <td>2193.8</td>\n",
       "    </tr>\n",
       "    <tr>\n",
       "      <th>26</th>\n",
       "      <td>2193.8</td>\n",
       "    </tr>\n",
       "    <tr>\n",
       "      <th>27</th>\n",
       "      <td>2193.8</td>\n",
       "    </tr>\n",
       "    <tr>\n",
       "      <th>28</th>\n",
       "      <td>2783.6</td>\n",
       "    </tr>\n",
       "    <tr>\n",
       "      <th>29</th>\n",
       "      <td>2783.6</td>\n",
       "    </tr>\n",
       "    <tr>\n",
       "      <th>30</th>\n",
       "      <td>2783.6</td>\n",
       "    </tr>\n",
       "    <tr>\n",
       "      <th>31</th>\n",
       "      <td>2783.6</td>\n",
       "    </tr>\n",
       "  </tbody>\n",
       "</table>\n",
       "</div>"
      ],
      "text/plain": [
       "    PREDICT\n",
       "0    2783.6\n",
       "1    2783.6\n",
       "2    2783.6\n",
       "3     367.2\n",
       "4    2783.6\n",
       "5    2783.6\n",
       "6    2783.6\n",
       "7    2783.6\n",
       "8    2783.6\n",
       "9    2783.6\n",
       "10   2783.6\n",
       "11   2783.6\n",
       "12    367.2\n",
       "13   2783.6\n",
       "14   2783.6\n",
       "15   2783.6\n",
       "16   2783.6\n",
       "17   2783.6\n",
       "18   2783.6\n",
       "19   2783.6\n",
       "20   2783.6\n",
       "21   2783.6\n",
       "22    367.2\n",
       "23   2193.8\n",
       "24   2193.8\n",
       "25   2193.8\n",
       "26   2193.8\n",
       "27   2193.8\n",
       "28   2783.6\n",
       "29   2783.6\n",
       "30   2783.6\n",
       "31   2783.6"
      ]
     },
     "execution_count": 45,
     "metadata": {},
     "output_type": "execute_result"
    }
   ],
   "source": [
    "predictData"
   ]
  },
  {
   "cell_type": "code",
   "execution_count": 46,
   "id": "746049b1-ba09-45ac-85f1-8a56cfbd0008",
   "metadata": {
    "tags": []
   },
   "outputs": [
    {
     "data": {
      "text/html": [
       "<div>\n",
       "<style scoped>\n",
       "    .dataframe tbody tr th:only-of-type {\n",
       "        vertical-align: middle;\n",
       "    }\n",
       "\n",
       "    .dataframe tbody tr th {\n",
       "        vertical-align: top;\n",
       "    }\n",
       "\n",
       "    .dataframe thead th {\n",
       "        text-align: right;\n",
       "    }\n",
       "</style>\n",
       "<table border=\"1\" class=\"dataframe\">\n",
       "  <thead>\n",
       "    <tr style=\"text-align: right;\">\n",
       "      <th></th>\n",
       "      <th>QTY</th>\n",
       "    </tr>\n",
       "  </thead>\n",
       "  <tbody>\n",
       "    <tr>\n",
       "      <th>0</th>\n",
       "      <td>2143</td>\n",
       "    </tr>\n",
       "    <tr>\n",
       "      <th>1</th>\n",
       "      <td>2282</td>\n",
       "    </tr>\n",
       "    <tr>\n",
       "      <th>2</th>\n",
       "      <td>973</td>\n",
       "    </tr>\n",
       "    <tr>\n",
       "      <th>3</th>\n",
       "      <td>21</td>\n",
       "    </tr>\n",
       "    <tr>\n",
       "      <th>4</th>\n",
       "      <td>968</td>\n",
       "    </tr>\n",
       "    <tr>\n",
       "      <th>5</th>\n",
       "      <td>1685</td>\n",
       "    </tr>\n",
       "    <tr>\n",
       "      <th>6</th>\n",
       "      <td>1586</td>\n",
       "    </tr>\n",
       "    <tr>\n",
       "      <th>7</th>\n",
       "      <td>1616</td>\n",
       "    </tr>\n",
       "    <tr>\n",
       "      <th>8</th>\n",
       "      <td>1318</td>\n",
       "    </tr>\n",
       "    <tr>\n",
       "      <th>9</th>\n",
       "      <td>2240</td>\n",
       "    </tr>\n",
       "    <tr>\n",
       "      <th>10</th>\n",
       "      <td>1522</td>\n",
       "    </tr>\n",
       "    <tr>\n",
       "      <th>11</th>\n",
       "      <td>2100</td>\n",
       "    </tr>\n",
       "    <tr>\n",
       "      <th>12</th>\n",
       "      <td>43</td>\n",
       "    </tr>\n",
       "    <tr>\n",
       "      <th>13</th>\n",
       "      <td>1700</td>\n",
       "    </tr>\n",
       "    <tr>\n",
       "      <th>14</th>\n",
       "      <td>1514</td>\n",
       "    </tr>\n",
       "    <tr>\n",
       "      <th>15</th>\n",
       "      <td>1501</td>\n",
       "    </tr>\n",
       "    <tr>\n",
       "      <th>16</th>\n",
       "      <td>1491</td>\n",
       "    </tr>\n",
       "    <tr>\n",
       "      <th>17</th>\n",
       "      <td>806</td>\n",
       "    </tr>\n",
       "    <tr>\n",
       "      <th>18</th>\n",
       "      <td>2111</td>\n",
       "    </tr>\n",
       "    <tr>\n",
       "      <th>19</th>\n",
       "      <td>2400</td>\n",
       "    </tr>\n",
       "    <tr>\n",
       "      <th>20</th>\n",
       "      <td>2010</td>\n",
       "    </tr>\n",
       "    <tr>\n",
       "      <th>21</th>\n",
       "      <td>1900</td>\n",
       "    </tr>\n",
       "    <tr>\n",
       "      <th>22</th>\n",
       "      <td>141</td>\n",
       "    </tr>\n",
       "    <tr>\n",
       "      <th>23</th>\n",
       "      <td>1615</td>\n",
       "    </tr>\n",
       "    <tr>\n",
       "      <th>24</th>\n",
       "      <td>1574</td>\n",
       "    </tr>\n",
       "    <tr>\n",
       "      <th>25</th>\n",
       "      <td>1800</td>\n",
       "    </tr>\n",
       "    <tr>\n",
       "      <th>26</th>\n",
       "      <td>2600</td>\n",
       "    </tr>\n",
       "    <tr>\n",
       "      <th>27</th>\n",
       "      <td>2412</td>\n",
       "    </tr>\n",
       "    <tr>\n",
       "      <th>28</th>\n",
       "      <td>1955</td>\n",
       "    </tr>\n",
       "    <tr>\n",
       "      <th>29</th>\n",
       "      <td>1800</td>\n",
       "    </tr>\n",
       "    <tr>\n",
       "      <th>30</th>\n",
       "      <td>1173</td>\n",
       "    </tr>\n",
       "    <tr>\n",
       "      <th>31</th>\n",
       "      <td>332</td>\n",
       "    </tr>\n",
       "  </tbody>\n",
       "</table>\n",
       "</div>"
      ],
      "text/plain": [
       "     QTY\n",
       "0   2143\n",
       "1   2282\n",
       "2    973\n",
       "3     21\n",
       "4    968\n",
       "5   1685\n",
       "6   1586\n",
       "7   1616\n",
       "8   1318\n",
       "9   2240\n",
       "10  1522\n",
       "11  2100\n",
       "12    43\n",
       "13  1700\n",
       "14  1514\n",
       "15  1501\n",
       "16  1491\n",
       "17   806\n",
       "18  2111\n",
       "19  2400\n",
       "20  2010\n",
       "21  1900\n",
       "22   141\n",
       "23  1615\n",
       "24  1574\n",
       "25  1800\n",
       "26  2600\n",
       "27  2412\n",
       "28  1955\n",
       "29  1800\n",
       "30  1173\n",
       "31   332"
      ]
     },
     "execution_count": 46,
     "metadata": {},
     "output_type": "execute_result"
    }
   ],
   "source": [
    "test_label"
   ]
  },
  {
   "cell_type": "code",
   "execution_count": 52,
   "id": "d559cc2b-b763-4be1-8291-63dcdbfd2175",
   "metadata": {},
   "outputs": [
    {
     "data": {
      "text/plain": [
       "962.30625"
      ]
     },
     "execution_count": 52,
     "metadata": {},
     "output_type": "execute_result"
    }
   ],
   "source": [
    "mean_absolute_error(test_label, predictData)"
   ]
  },
  {
   "cell_type": "code",
   "execution_count": 53,
   "id": "3a8e216a-97ad-4526-9095-4aaeb2a6ce94",
   "metadata": {},
   "outputs": [
    {
     "data": {
      "text/plain": [
       "1229891.4987499998"
      ]
     },
     "execution_count": 53,
     "metadata": {},
     "output_type": "execute_result"
    }
   ],
   "source": [
    "mean_squared_error(test_label, predictData)"
   ]
  }
 ],
 "metadata": {
  "kernelspec": {
   "display_name": "Python 3 (ipykernel)",
   "language": "python",
   "name": "python3"
  },
  "language_info": {
   "codemirror_mode": {
    "name": "ipython",
    "version": 3
   },
   "file_extension": ".py",
   "mimetype": "text/x-python",
   "name": "python",
   "nbconvert_exporter": "python",
   "pygments_lexer": "ipython3",
   "version": "3.9.13"
  }
 },
 "nbformat": 4,
 "nbformat_minor": 5
}
