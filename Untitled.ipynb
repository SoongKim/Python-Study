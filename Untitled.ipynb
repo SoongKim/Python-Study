{
 "cells": [
  {
   "cell_type": "code",
   "execution_count": 41,
   "id": "c135340c-89b5-4ea5-865a-07199d199507",
   "metadata": {},
   "outputs": [],
   "source": [
    "def weekCal(fromWeek, weeksAgo):\n",
    "\n",
    "# fromWeek = 202312\n",
    "# weeksAgo = 100\n",
    "\n",
    "    from isoweek import Week\n",
    "\n",
    "    inputYear = int(str(fromWeek)[:4])\n",
    "    inputWeeks = int(str(fromWeek)[4:])\n",
    "    weeksAgo = int(weeksAgo)\n",
    "\n",
    "    if(inputWeeks - weeksAgo > 0):\n",
    "        if(inputWeeks - weeksAgo >= 10):\n",
    "            result = str(inputYear) + str(inputWeeks - weeksAgo)\n",
    "        else:\n",
    "            result = str(inputYear) + \"0\" + str(inputWeeks - weeksAgo)\n",
    "\n",
    "    else:\n",
    "        remainWeeks = weeksAgo - inputWeeks\n",
    "        inputYear = inputYear - 1\n",
    "        maxWeeks = Week.last_week_of_year(inputYear).week\n",
    "        while remainWeeks >= maxWeeks:\n",
    "            remainWeeks = remainWeeks -maxWeeks\n",
    "            inputYear = inputYear -1\n",
    "            maxWeeks = Week.last_week_of_year(inputYear).week\n",
    "        else:\n",
    "            pass\n",
    "        maxWeeks = remainWeeks\n",
    "\n",
    "        if maxWeeks >= 10:\n",
    "            result = str(inputYear) + str(maxWeeks)\n",
    "        else:\n",
    "            result = str(inputYear) + \"0\" + str(maxWeeks)\n",
    "    return result"
   ]
  },
  {
   "cell_type": "code",
   "execution_count": 39,
   "id": "2e2b8aef-73d1-4097-a292-73b8f918069d",
   "metadata": {},
   "outputs": [
    {
     "data": {
      "text/plain": [
       "'202136'"
      ]
     },
     "execution_count": 39,
     "metadata": {},
     "output_type": "execute_result"
    }
   ],
   "source": [
    "weekCal(202312, 100)"
   ]
  }
 ],
 "metadata": {
  "kernelspec": {
   "display_name": "Python 3 (ipykernel)",
   "language": "python",
   "name": "python3"
  },
  "language_info": {
   "codemirror_mode": {
    "name": "ipython",
    "version": 3
   },
   "file_extension": ".py",
   "mimetype": "text/x-python",
   "name": "python",
   "nbconvert_exporter": "python",
   "pygments_lexer": "ipython3",
   "version": "3.9.13"
  }
 },
 "nbformat": 4,
 "nbformat_minor": 5
}
