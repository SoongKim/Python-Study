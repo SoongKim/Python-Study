{
 "cells": [
  {
   "cell_type": "markdown",
   "id": "167f4f25-f31c-44f0-8664-b37fb8e8b67f",
   "metadata": {},
   "source": [
    "## 골과 높은 상관성을 지니는 요소를 파악하고, \n",
    "## 이를 바탕으로 기대 골 수를 예측하자\n",
    "### (EPL 20-21 리그 데이터 기준)"
   ]
  },
  {
   "cell_type": "markdown",
   "id": "5e05ec3a-7d1e-459a-825c-801075a5ad6d",
   "metadata": {},
   "source": [
    "#### 사용 모듈 호출"
   ]
  },
  {
   "cell_type": "code",
   "execution_count": 1,
   "id": "3e516137-5603-4d17-bc5a-88040a9f7eda",
   "metadata": {},
   "outputs": [],
   "source": [
    "import pandas as pd\n",
    "import numpy as np\n",
    "from sklearn import tree\n",
    "from sklearn import linear_model\n",
    "from sklearn import cluster\n",
    "from sklearn import ensemble\n",
    "from sklearn import svm, neighbors\n",
    "from sklearn.metrics import accuracy_score\n",
    "from sklearn.metrics import classification_report\n",
    "from sklearn.metrics import mean_absolute_error\n",
    "from sklearn.metrics import mean_squared_error\n",
    "from sklearn.cluster import KMeans\n",
    "import matplotlib.pyplot as plt\n",
    "import seaborn as sns"
   ]
  },
  {
   "cell_type": "code",
   "execution_count": 2,
   "id": "fcbdc7f6-4823-4b22-bd60-6b6156c623a5",
   "metadata": {},
   "outputs": [],
   "source": [
    "import warnings\n",
    "warnings.filterwarnings('ignore')\n",
    "# 경고 문구를 잠재우는 구문"
   ]
  },
  {
   "cell_type": "code",
   "execution_count": 3,
   "id": "bfa81470-bd63-4230-bacd-7255de932a31",
   "metadata": {},
   "outputs": [],
   "source": [
    "targetData = pd.read_csv(\"./EPL_20_21.csv\")"
   ]
  },
  {
   "cell_type": "code",
   "execution_count": 4,
   "id": "13e6586e-f231-4a38-ad22-5d7d61346ccd",
   "metadata": {
    "tags": []
   },
   "outputs": [
    {
     "data": {
      "text/html": [
       "<div>\n",
       "<style scoped>\n",
       "    .dataframe tbody tr th:only-of-type {\n",
       "        vertical-align: middle;\n",
       "    }\n",
       "\n",
       "    .dataframe tbody tr th {\n",
       "        vertical-align: top;\n",
       "    }\n",
       "\n",
       "    .dataframe thead th {\n",
       "        text-align: right;\n",
       "    }\n",
       "</style>\n",
       "<table border=\"1\" class=\"dataframe\">\n",
       "  <thead>\n",
       "    <tr style=\"text-align: right;\">\n",
       "      <th></th>\n",
       "      <th>Name</th>\n",
       "      <th>Club</th>\n",
       "      <th>Nationality</th>\n",
       "      <th>Position</th>\n",
       "      <th>Age</th>\n",
       "      <th>Matches</th>\n",
       "      <th>Starts</th>\n",
       "      <th>Mins</th>\n",
       "      <th>Goals</th>\n",
       "      <th>Assists</th>\n",
       "      <th>Passes_Attempted</th>\n",
       "      <th>Perc_Passes_Completed</th>\n",
       "      <th>Penalty_Goals</th>\n",
       "      <th>Penalty_Attempted</th>\n",
       "      <th>xG</th>\n",
       "      <th>xA</th>\n",
       "      <th>Yellow_Cards</th>\n",
       "      <th>Red_Cards</th>\n",
       "    </tr>\n",
       "  </thead>\n",
       "  <tbody>\n",
       "    <tr>\n",
       "      <th>0</th>\n",
       "      <td>Mason Mount</td>\n",
       "      <td>Chelsea</td>\n",
       "      <td>ENG</td>\n",
       "      <td>MF,FW</td>\n",
       "      <td>21</td>\n",
       "      <td>36</td>\n",
       "      <td>32</td>\n",
       "      <td>2890</td>\n",
       "      <td>6</td>\n",
       "      <td>5</td>\n",
       "      <td>1881</td>\n",
       "      <td>82.3</td>\n",
       "      <td>1</td>\n",
       "      <td>1</td>\n",
       "      <td>0.21</td>\n",
       "      <td>0.24</td>\n",
       "      <td>2</td>\n",
       "      <td>0</td>\n",
       "    </tr>\n",
       "    <tr>\n",
       "      <th>1</th>\n",
       "      <td>Edouard Mendy</td>\n",
       "      <td>Chelsea</td>\n",
       "      <td>SEN</td>\n",
       "      <td>GK</td>\n",
       "      <td>28</td>\n",
       "      <td>31</td>\n",
       "      <td>31</td>\n",
       "      <td>2745</td>\n",
       "      <td>0</td>\n",
       "      <td>0</td>\n",
       "      <td>1007</td>\n",
       "      <td>84.6</td>\n",
       "      <td>0</td>\n",
       "      <td>0</td>\n",
       "      <td>0.00</td>\n",
       "      <td>0.00</td>\n",
       "      <td>2</td>\n",
       "      <td>0</td>\n",
       "    </tr>\n",
       "    <tr>\n",
       "      <th>2</th>\n",
       "      <td>Timo Werner</td>\n",
       "      <td>Chelsea</td>\n",
       "      <td>GER</td>\n",
       "      <td>FW</td>\n",
       "      <td>24</td>\n",
       "      <td>35</td>\n",
       "      <td>29</td>\n",
       "      <td>2602</td>\n",
       "      <td>6</td>\n",
       "      <td>8</td>\n",
       "      <td>826</td>\n",
       "      <td>77.2</td>\n",
       "      <td>0</td>\n",
       "      <td>0</td>\n",
       "      <td>0.41</td>\n",
       "      <td>0.21</td>\n",
       "      <td>2</td>\n",
       "      <td>0</td>\n",
       "    </tr>\n",
       "    <tr>\n",
       "      <th>3</th>\n",
       "      <td>Ben Chilwell</td>\n",
       "      <td>Chelsea</td>\n",
       "      <td>ENG</td>\n",
       "      <td>DF</td>\n",
       "      <td>23</td>\n",
       "      <td>27</td>\n",
       "      <td>27</td>\n",
       "      <td>2286</td>\n",
       "      <td>3</td>\n",
       "      <td>5</td>\n",
       "      <td>1806</td>\n",
       "      <td>78.6</td>\n",
       "      <td>0</td>\n",
       "      <td>0</td>\n",
       "      <td>0.10</td>\n",
       "      <td>0.11</td>\n",
       "      <td>3</td>\n",
       "      <td>0</td>\n",
       "    </tr>\n",
       "    <tr>\n",
       "      <th>4</th>\n",
       "      <td>Reece James</td>\n",
       "      <td>Chelsea</td>\n",
       "      <td>ENG</td>\n",
       "      <td>DF</td>\n",
       "      <td>20</td>\n",
       "      <td>32</td>\n",
       "      <td>25</td>\n",
       "      <td>2373</td>\n",
       "      <td>1</td>\n",
       "      <td>2</td>\n",
       "      <td>1987</td>\n",
       "      <td>85.0</td>\n",
       "      <td>0</td>\n",
       "      <td>0</td>\n",
       "      <td>0.06</td>\n",
       "      <td>0.12</td>\n",
       "      <td>3</td>\n",
       "      <td>0</td>\n",
       "    </tr>\n",
       "  </tbody>\n",
       "</table>\n",
       "</div>"
      ],
      "text/plain": [
       "            Name     Club Nationality Position  Age  Matches  Starts  Mins  \\\n",
       "0    Mason Mount  Chelsea         ENG    MF,FW   21       36      32  2890   \n",
       "1  Edouard Mendy  Chelsea         SEN       GK   28       31      31  2745   \n",
       "2    Timo Werner  Chelsea         GER       FW   24       35      29  2602   \n",
       "3   Ben Chilwell  Chelsea         ENG       DF   23       27      27  2286   \n",
       "4    Reece James  Chelsea         ENG       DF   20       32      25  2373   \n",
       "\n",
       "   Goals  Assists  Passes_Attempted  Perc_Passes_Completed  Penalty_Goals  \\\n",
       "0      6        5              1881                   82.3              1   \n",
       "1      0        0              1007                   84.6              0   \n",
       "2      6        8               826                   77.2              0   \n",
       "3      3        5              1806                   78.6              0   \n",
       "4      1        2              1987                   85.0              0   \n",
       "\n",
       "   Penalty_Attempted    xG    xA  Yellow_Cards  Red_Cards  \n",
       "0                  1  0.21  0.24             2          0  \n",
       "1                  0  0.00  0.00             2          0  \n",
       "2                  0  0.41  0.21             2          0  \n",
       "3                  0  0.10  0.11             3          0  \n",
       "4                  0  0.06  0.12             3          0  "
      ]
     },
     "execution_count": 4,
     "metadata": {},
     "output_type": "execute_result"
    }
   ],
   "source": [
    "targetData.head()"
   ]
  },
  {
   "cell_type": "code",
   "execution_count": 5,
   "id": "81ca8e3c-9373-4057-97aa-d1b2f3914eba",
   "metadata": {},
   "outputs": [],
   "source": [
    "pd.set_option(\"display.max_rows\", None)"
   ]
  },
  {
   "cell_type": "markdown",
   "id": "cc7afe92-1a22-4549-8cd0-e78c8be7e9b2",
   "metadata": {},
   "source": [
    "#### 데이터 정제"
   ]
  },
  {
   "cell_type": "code",
   "execution_count": 6,
   "id": "2220b310-75b1-4ee6-8ce6-05e5d8b24725",
   "metadata": {},
   "outputs": [
    {
     "data": {
      "text/plain": [
       "Name                      object\n",
       "Club                      object\n",
       "Nationality               object\n",
       "Position                  object\n",
       "Age                        int64\n",
       "Matches                    int64\n",
       "Starts                     int64\n",
       "Mins                       int64\n",
       "Goals                      int64\n",
       "Assists                    int64\n",
       "Passes_Attempted           int64\n",
       "Perc_Passes_Completed    float64\n",
       "Penalty_Goals              int64\n",
       "Penalty_Attempted          int64\n",
       "xG                       float64\n",
       "xA                       float64\n",
       "Yellow_Cards               int64\n",
       "Red_Cards                  int64\n",
       "dtype: object"
      ]
     },
     "execution_count": 6,
     "metadata": {},
     "output_type": "execute_result"
    }
   ],
   "source": [
    "targetData.dtypes"
   ]
  },
  {
   "cell_type": "markdown",
   "id": "8369969b-0f45-4eb8-b949-35e4e50cd42b",
   "metadata": {},
   "source": [
    "#### 01. 포지선 정의"
   ]
  },
  {
   "cell_type": "code",
   "execution_count": 7,
   "id": "7737e360-4707-407c-9b66-64c8b2759a63",
   "metadata": {
    "tags": []
   },
   "outputs": [
    {
     "data": {
      "text/plain": [
       "FW,DF      6\n",
       "DF,FW      6\n",
       "MF,DF     13\n",
       "DF,MF     15\n",
       "MF,FW     36\n",
       "GK        42\n",
       "FW,MF     47\n",
       "FW        81\n",
       "MF       108\n",
       "DF       178\n",
       "Name: Position, dtype: int64"
      ]
     },
     "execution_count": 7,
     "metadata": {},
     "output_type": "execute_result"
    }
   ],
   "source": [
    "targetData.Position.value_counts(ascending=True)"
   ]
  },
  {
   "cell_type": "code",
   "execution_count": 8,
   "id": "5092b332-c0bd-4a68-8f22-38dc074120e3",
   "metadata": {
    "tags": []
   },
   "outputs": [],
   "source": [
    "for i in range(0, targetData.shape[0]):\n",
    "    if(\"DF\" in targetData.Position[i]):\n",
    "        targetData.Position[i] = \"DF\"\n",
    "    if(\"MF\" in targetData.Position[i]):\n",
    "        targetData.Position[i] = \"MF\""
   ]
  },
  {
   "cell_type": "code",
   "execution_count": null,
   "id": "81275680-9538-4268-a5c7-e3d26bc04f2d",
   "metadata": {},
   "outputs": [],
   "source": [
    "# 두 포지션 이상을 겸할 수 있는 선수의 경우, DF&MF의 경우 DF를, MF&FW의 경우 MF를 기준으로 책정하여 보수적인 포지션 구분을 수행하였음"
   ]
  },
  {
   "cell_type": "code",
   "execution_count": 9,
   "id": "7967e606-a08a-4bc3-bc56-9f18c61695b1",
   "metadata": {},
   "outputs": [
    {
     "data": {
      "text/plain": [
       "GK     42\n",
       "FW     81\n",
       "MF    191\n",
       "DF    218\n",
       "Name: Position, dtype: int64"
      ]
     },
     "execution_count": 9,
     "metadata": {},
     "output_type": "execute_result"
    }
   ],
   "source": [
    "targetData.Position.value_counts(ascending=True)"
   ]
  },
  {
   "cell_type": "code",
   "execution_count": 10,
   "id": "69c0dda8-7238-4940-98ca-04874544d5cc",
   "metadata": {},
   "outputs": [],
   "source": [
    "targetData[\"Position_new\"] = np.where(targetData.Position == \"GK\", 1, \\\n",
    "                                   np.where(targetData.Position == \"DF\", 2, \\\n",
    "                                        np.where(targetData.Position == \"MF\", 3, 4)))"
   ]
  },
  {
   "cell_type": "code",
   "execution_count": null,
   "id": "63c59e72-e5c7-4c65-88cf-9d104097cd4b",
   "metadata": {},
   "outputs": [],
   "source": [
    "# GK는 1, DF는 2, MF는 3, FW는 4의 값으로 데이터를 정제"
   ]
  },
  {
   "cell_type": "code",
   "execution_count": 61,
   "id": "4d74b099-e71c-4d2c-990d-34f5b87c50d2",
   "metadata": {},
   "outputs": [
    {
     "data": {
      "text/plain": [
       "1"
      ]
     },
     "execution_count": 61,
     "metadata": {},
     "output_type": "execute_result"
    }
   ],
   "source": [
    "sum(targetData.loc[targetData.Position_new == 1].Goals)"
   ]
  },
  {
   "cell_type": "code",
   "execution_count": 66,
   "id": "e0bc2808-060c-4656-b546-0ec71007c361",
   "metadata": {},
   "outputs": [
    {
     "data": {
      "text/plain": [
       "<BarContainer object of 532 artists>"
      ]
     },
     "execution_count": 66,
     "metadata": {},
     "output_type": "execute_result"
    },
    {
     "data": {
      "image/png": "[encoded data removed]",
      "text/plain": [
       "<Figure size 640x480 with 1 Axes>"
      ]
     },
     "metadata": {},
     "output_type": "display_data"
    }
   ],
   "source": [
    "plt.bar(x=targetData.Position_new, height=targetData.Goals)"
   ]
  },
  {
   "cell_type": "code",
   "execution_count": null,
   "id": "43da2c93-734e-454a-9331-f09e36bbcff1",
   "metadata": {},
   "outputs": [],
   "source": [
    "# 포지션 별 인원 수를 표현한 차트"
   ]
  },
  {
   "cell_type": "code",
   "execution_count": 52,
   "id": "3cc05a7e-067d-4ca7-a3e0-cd9281066c59",
   "metadata": {},
   "outputs": [
    {
     "data": {
      "text/plain": [
       "<AxesSubplot:xlabel='Goals', ylabel='count'>"
      ]
     },
     "execution_count": 52,
     "metadata": {},
     "output_type": "execute_result"
    },
    {
     "data": {
      "image/png": "[encoded data removed]",
      "text/plain": [
       "<Figure size 640x480 with 1 Axes>"
      ]
     },
     "metadata": {},
     "output_type": "display_data"
    }
   ],
   "source": [
    "sns.countplot(data=targetData, x=targetData.Goals)"
   ]
  },
  {
   "cell_type": "code",
   "execution_count": 58,
   "id": "21a8f11e-b57a-4869-be5f-1cbc30aa3845",
   "metadata": {},
   "outputs": [
    {
     "data": {
      "text/plain": [
       "<AxesSubplot:xlabel='Position_new', ylabel='count'>"
      ]
     },
     "execution_count": 58,
     "metadata": {},
     "output_type": "execute_result"
    },
    {
     "data": {
      "image/png": "[encoded data removed]",
      "text/plain": [
       "<Figure size 640x480 with 1 Axes>"
      ]
     },
     "metadata": {},
     "output_type": "display_data"
    }
   ],
   "source": [
    "sns.countplot(data=targetData.Position_new, x=targetData.Goals)"
   ]
  },
  {
   "cell_type": "code",
   "execution_count": null,
   "id": "04762781-9ea7-42e1-b1ed-f0b6c9b79fe7",
   "metadata": {},
   "outputs": [],
   "source": [
    "# 포지션 별 득점 누계를 표현한 차트"
   ]
  },
  {
   "cell_type": "code",
   "execution_count": 13,
   "id": "0c03c46d-8942-44c9-8e27-ba83445bdc21",
   "metadata": {},
   "outputs": [
    {
     "data": {
      "text/plain": [
       "Name                      object\n",
       "Club                      object\n",
       "Nationality               object\n",
       "Position                  object\n",
       "Age                        int64\n",
       "Matches                    int64\n",
       "Starts                     int64\n",
       "Mins                       int64\n",
       "Goals                      int64\n",
       "Assists                    int64\n",
       "Passes_Attempted           int64\n",
       "Perc_Passes_Completed    float64\n",
       "Penalty_Goals              int64\n",
       "Penalty_Attempted          int64\n",
       "xG                       float64\n",
       "xA                       float64\n",
       "Yellow_Cards               int64\n",
       "Red_Cards                  int64\n",
       "Position_new               int32\n",
       "dtype: object"
      ]
     },
     "execution_count": 13,
     "metadata": {},
     "output_type": "execute_result"
    }
   ],
   "source": [
    "targetData.dtypes"
   ]
  },
  {
   "cell_type": "markdown",
   "id": "6db6ec8b-f7d6-4b6e-b307-ecd163ccba76",
   "metadata": {},
   "source": [
    "#### 2. 상관계수 분석"
   ]
  },
  {
   "cell_type": "code",
   "execution_count": 14,
   "id": "0cc7cb5c-f886-4724-8de8-9f72e3eae1d6",
   "metadata": {},
   "outputs": [],
   "source": [
    "corrData = targetData.corr()"
   ]
  },
  {
   "cell_type": "code",
   "execution_count": 15,
   "id": "127ae0a6-b640-4afc-be91-3fd7b7442020",
   "metadata": {},
   "outputs": [
    {
     "data": {
      "text/html": [
       "<div>\n",
       "<style scoped>\n",
       "    .dataframe tbody tr th:only-of-type {\n",
       "        vertical-align: middle;\n",
       "    }\n",
       "\n",
       "    .dataframe tbody tr th {\n",
       "        vertical-align: top;\n",
       "    }\n",
       "\n",
       "    .dataframe thead th {\n",
       "        text-align: right;\n",
       "    }\n",
       "</style>\n",
       "<table border=\"1\" class=\"dataframe\">\n",
       "  <thead>\n",
       "    <tr style=\"text-align: right;\">\n",
       "      <th></th>\n",
       "      <th>Age</th>\n",
       "      <th>Matches</th>\n",
       "      <th>Starts</th>\n",
       "      <th>Mins</th>\n",
       "      <th>Goals</th>\n",
       "      <th>Assists</th>\n",
       "      <th>Passes_Attempted</th>\n",
       "      <th>Perc_Passes_Completed</th>\n",
       "      <th>Penalty_Goals</th>\n",
       "      <th>Penalty_Attempted</th>\n",
       "      <th>xG</th>\n",
       "      <th>xA</th>\n",
       "      <th>Yellow_Cards</th>\n",
       "      <th>Red_Cards</th>\n",
       "      <th>Position_new</th>\n",
       "    </tr>\n",
       "  </thead>\n",
       "  <tbody>\n",
       "    <tr>\n",
       "      <th>Age</th>\n",
       "      <td>1.000000</td>\n",
       "      <td>0.149628</td>\n",
       "      <td>0.156387</td>\n",
       "      <td>0.158643</td>\n",
       "      <td>0.047022</td>\n",
       "      <td>0.026740</td>\n",
       "      <td>0.120244</td>\n",
       "      <td>0.122812</td>\n",
       "      <td>0.084547</td>\n",
       "      <td>0.083328</td>\n",
       "      <td>-0.056098</td>\n",
       "      <td>-0.047849</td>\n",
       "      <td>0.115191</td>\n",
       "      <td>0.065414</td>\n",
       "      <td>-0.157420</td>\n",
       "    </tr>\n",
       "    <tr>\n",
       "      <th>Matches</th>\n",
       "      <td>0.149628</td>\n",
       "      <td>1.000000</td>\n",
       "      <td>0.938116</td>\n",
       "      <td>0.947351</td>\n",
       "      <td>0.441977</td>\n",
       "      <td>0.508009</td>\n",
       "      <td>0.785362</td>\n",
       "      <td>0.085462</td>\n",
       "      <td>0.227929</td>\n",
       "      <td>0.234389</td>\n",
       "      <td>0.192047</td>\n",
       "      <td>0.227570</td>\n",
       "      <td>0.578093</td>\n",
       "      <td>0.168281</td>\n",
       "      <td>0.065921</td>\n",
       "    </tr>\n",
       "    <tr>\n",
       "      <th>Starts</th>\n",
       "      <td>0.156387</td>\n",
       "      <td>0.938116</td>\n",
       "      <td>1.000000</td>\n",
       "      <td>0.997031</td>\n",
       "      <td>0.405381</td>\n",
       "      <td>0.477704</td>\n",
       "      <td>0.853448</td>\n",
       "      <td>0.086039</td>\n",
       "      <td>0.216877</td>\n",
       "      <td>0.221418</td>\n",
       "      <td>0.072487</td>\n",
       "      <td>0.113446</td>\n",
       "      <td>0.603497</td>\n",
       "      <td>0.195383</td>\n",
       "      <td>-0.087604</td>\n",
       "    </tr>\n",
       "    <tr>\n",
       "      <th>Mins</th>\n",
       "      <td>0.158643</td>\n",
       "      <td>0.947351</td>\n",
       "      <td>0.997031</td>\n",
       "      <td>1.000000</td>\n",
       "      <td>0.400398</td>\n",
       "      <td>0.474677</td>\n",
       "      <td>0.855600</td>\n",
       "      <td>0.085460</td>\n",
       "      <td>0.219027</td>\n",
       "      <td>0.224115</td>\n",
       "      <td>0.075016</td>\n",
       "      <td>0.117602</td>\n",
       "      <td>0.604634</td>\n",
       "      <td>0.193038</td>\n",
       "      <td>-0.087271</td>\n",
       "    </tr>\n",
       "    <tr>\n",
       "      <th>Goals</th>\n",
       "      <td>0.047022</td>\n",
       "      <td>0.441977</td>\n",
       "      <td>0.405381</td>\n",
       "      <td>0.400398</td>\n",
       "      <td>1.000000</td>\n",
       "      <td>0.617831</td>\n",
       "      <td>0.201526</td>\n",
       "      <td>-0.025137</td>\n",
       "      <td>0.594730</td>\n",
       "      <td>0.590492</td>\n",
       "      <td>0.681959</td>\n",
       "      <td>0.348428</td>\n",
       "      <td>0.104413</td>\n",
       "      <td>0.057785</td>\n",
       "      <td>0.459487</td>\n",
       "    </tr>\n",
       "    <tr>\n",
       "      <th>Assists</th>\n",
       "      <td>0.026740</td>\n",
       "      <td>0.508009</td>\n",
       "      <td>0.477704</td>\n",
       "      <td>0.474677</td>\n",
       "      <td>0.617831</td>\n",
       "      <td>1.000000</td>\n",
       "      <td>0.393906</td>\n",
       "      <td>-0.016645</td>\n",
       "      <td>0.408459</td>\n",
       "      <td>0.411784</td>\n",
       "      <td>0.383358</td>\n",
       "      <td>0.558677</td>\n",
       "      <td>0.213691</td>\n",
       "      <td>-0.020855</td>\n",
       "      <td>0.289309</td>\n",
       "    </tr>\n",
       "    <tr>\n",
       "      <th>Passes_Attempted</th>\n",
       "      <td>0.120244</td>\n",
       "      <td>0.785362</td>\n",
       "      <td>0.853448</td>\n",
       "      <td>0.855600</td>\n",
       "      <td>0.201526</td>\n",
       "      <td>0.393906</td>\n",
       "      <td>1.000000</td>\n",
       "      <td>0.228393</td>\n",
       "      <td>0.149533</td>\n",
       "      <td>0.157020</td>\n",
       "      <td>-0.092535</td>\n",
       "      <td>0.105132</td>\n",
       "      <td>0.634567</td>\n",
       "      <td>0.208003</td>\n",
       "      <td>-0.179258</td>\n",
       "    </tr>\n",
       "    <tr>\n",
       "      <th>Perc_Passes_Completed</th>\n",
       "      <td>0.122812</td>\n",
       "      <td>0.085462</td>\n",
       "      <td>0.086039</td>\n",
       "      <td>0.085460</td>\n",
       "      <td>-0.025137</td>\n",
       "      <td>-0.016645</td>\n",
       "      <td>0.228393</td>\n",
       "      <td>1.000000</td>\n",
       "      <td>-0.024517</td>\n",
       "      <td>-0.014934</td>\n",
       "      <td>-0.035313</td>\n",
       "      <td>0.047720</td>\n",
       "      <td>0.162451</td>\n",
       "      <td>0.054068</td>\n",
       "      <td>-0.042912</td>\n",
       "    </tr>\n",
       "    <tr>\n",
       "      <th>Penalty_Goals</th>\n",
       "      <td>0.084547</td>\n",
       "      <td>0.227929</td>\n",
       "      <td>0.216877</td>\n",
       "      <td>0.219027</td>\n",
       "      <td>0.594730</td>\n",
       "      <td>0.408459</td>\n",
       "      <td>0.149533</td>\n",
       "      <td>-0.024517</td>\n",
       "      <td>1.000000</td>\n",
       "      <td>0.982176</td>\n",
       "      <td>0.407251</td>\n",
       "      <td>0.205417</td>\n",
       "      <td>0.057846</td>\n",
       "      <td>0.021109</td>\n",
       "      <td>0.227421</td>\n",
       "    </tr>\n",
       "    <tr>\n",
       "      <th>Penalty_Attempted</th>\n",
       "      <td>0.083328</td>\n",
       "      <td>0.234389</td>\n",
       "      <td>0.221418</td>\n",
       "      <td>0.224115</td>\n",
       "      <td>0.590492</td>\n",
       "      <td>0.411784</td>\n",
       "      <td>0.157020</td>\n",
       "      <td>-0.014934</td>\n",
       "      <td>0.982176</td>\n",
       "      <td>1.000000</td>\n",
       "      <td>0.420159</td>\n",
       "      <td>0.218949</td>\n",
       "      <td>0.063506</td>\n",
       "      <td>0.031073</td>\n",
       "      <td>0.231719</td>\n",
       "    </tr>\n",
       "    <tr>\n",
       "      <th>xG</th>\n",
       "      <td>-0.056098</td>\n",
       "      <td>0.192047</td>\n",
       "      <td>0.072487</td>\n",
       "      <td>0.075016</td>\n",
       "      <td>0.681959</td>\n",
       "      <td>0.383358</td>\n",
       "      <td>-0.092535</td>\n",
       "      <td>-0.035313</td>\n",
       "      <td>0.407251</td>\n",
       "      <td>0.420159</td>\n",
       "      <td>1.000000</td>\n",
       "      <td>0.346551</td>\n",
       "      <td>-0.094216</td>\n",
       "      <td>-0.021578</td>\n",
       "      <td>0.587520</td>\n",
       "    </tr>\n",
       "    <tr>\n",
       "      <th>xA</th>\n",
       "      <td>-0.047849</td>\n",
       "      <td>0.227570</td>\n",
       "      <td>0.113446</td>\n",
       "      <td>0.117602</td>\n",
       "      <td>0.348428</td>\n",
       "      <td>0.558677</td>\n",
       "      <td>0.105132</td>\n",
       "      <td>0.047720</td>\n",
       "      <td>0.205417</td>\n",
       "      <td>0.218949</td>\n",
       "      <td>0.346551</td>\n",
       "      <td>1.000000</td>\n",
       "      <td>0.022375</td>\n",
       "      <td>-0.056837</td>\n",
       "      <td>0.375732</td>\n",
       "    </tr>\n",
       "    <tr>\n",
       "      <th>Yellow_Cards</th>\n",
       "      <td>0.115191</td>\n",
       "      <td>0.578093</td>\n",
       "      <td>0.603497</td>\n",
       "      <td>0.604634</td>\n",
       "      <td>0.104413</td>\n",
       "      <td>0.213691</td>\n",
       "      <td>0.634567</td>\n",
       "      <td>0.162451</td>\n",
       "      <td>0.057846</td>\n",
       "      <td>0.063506</td>\n",
       "      <td>-0.094216</td>\n",
       "      <td>0.022375</td>\n",
       "      <td>1.000000</td>\n",
       "      <td>0.244786</td>\n",
       "      <td>-0.026323</td>\n",
       "    </tr>\n",
       "    <tr>\n",
       "      <th>Red_Cards</th>\n",
       "      <td>0.065414</td>\n",
       "      <td>0.168281</td>\n",
       "      <td>0.195383</td>\n",
       "      <td>0.193038</td>\n",
       "      <td>0.057785</td>\n",
       "      <td>-0.020855</td>\n",
       "      <td>0.208003</td>\n",
       "      <td>0.054068</td>\n",
       "      <td>0.021109</td>\n",
       "      <td>0.031073</td>\n",
       "      <td>-0.021578</td>\n",
       "      <td>-0.056837</td>\n",
       "      <td>0.244786</td>\n",
       "      <td>1.000000</td>\n",
       "      <td>-0.046296</td>\n",
       "    </tr>\n",
       "    <tr>\n",
       "      <th>Position_new</th>\n",
       "      <td>-0.157420</td>\n",
       "      <td>0.065921</td>\n",
       "      <td>-0.087604</td>\n",
       "      <td>-0.087271</td>\n",
       "      <td>0.459487</td>\n",
       "      <td>0.289309</td>\n",
       "      <td>-0.179258</td>\n",
       "      <td>-0.042912</td>\n",
       "      <td>0.227421</td>\n",
       "      <td>0.231719</td>\n",
       "      <td>0.587520</td>\n",
       "      <td>0.375732</td>\n",
       "      <td>-0.026323</td>\n",
       "      <td>-0.046296</td>\n",
       "      <td>1.000000</td>\n",
       "    </tr>\n",
       "  </tbody>\n",
       "</table>\n",
       "</div>"
      ],
      "text/plain": [
       "                            Age   Matches    Starts      Mins     Goals  \\\n",
       "Age                    1.000000  0.149628  0.156387  0.158643  0.047022   \n",
       "Matches                0.149628  1.000000  0.938116  0.947351  0.441977   \n",
       "Starts                 0.156387  0.938116  1.000000  0.997031  0.405381   \n",
       "Mins                   0.158643  0.947351  0.997031  1.000000  0.400398   \n",
       "Goals                  0.047022  0.441977  0.405381  0.400398  1.000000   \n",
       "Assists                0.026740  0.508009  0.477704  0.474677  0.617831   \n",
       "Passes_Attempted       0.120244  0.785362  0.853448  0.855600  0.201526   \n",
       "Perc_Passes_Completed  0.122812  0.085462  0.086039  0.085460 -0.025137   \n",
       "Penalty_Goals          0.084547  0.227929  0.216877  0.219027  0.594730   \n",
       "Penalty_Attempted      0.083328  0.234389  0.221418  0.224115  0.590492   \n",
       "xG                    -0.056098  0.192047  0.072487  0.075016  0.681959   \n",
       "xA                    -0.047849  0.227570  0.113446  0.117602  0.348428   \n",
       "Yellow_Cards           0.115191  0.578093  0.603497  0.604634  0.104413   \n",
       "Red_Cards              0.065414  0.168281  0.195383  0.193038  0.057785   \n",
       "Position_new          -0.157420  0.065921 -0.087604 -0.087271  0.459487   \n",
       "\n",
       "                        Assists  Passes_Attempted  Perc_Passes_Completed  \\\n",
       "Age                    0.026740          0.120244               0.122812   \n",
       "Matches                0.508009          0.785362               0.085462   \n",
       "Starts                 0.477704          0.853448               0.086039   \n",
       "Mins                   0.474677          0.855600               0.085460   \n",
       "Goals                  0.617831          0.201526              -0.025137   \n",
       "Assists                1.000000          0.393906              -0.016645   \n",
       "Passes_Attempted       0.393906          1.000000               0.228393   \n",
       "Perc_Passes_Completed -0.016645          0.228393               1.000000   \n",
       "Penalty_Goals          0.408459          0.149533              -0.024517   \n",
       "Penalty_Attempted      0.411784          0.157020              -0.014934   \n",
       "xG                     0.383358         -0.092535              -0.035313   \n",
       "xA                     0.558677          0.105132               0.047720   \n",
       "Yellow_Cards           0.213691          0.634567               0.162451   \n",
       "Red_Cards             -0.020855          0.208003               0.054068   \n",
       "Position_new           0.289309         -0.179258              -0.042912   \n",
       "\n",
       "                       Penalty_Goals  Penalty_Attempted        xG        xA  \\\n",
       "Age                         0.084547           0.083328 -0.056098 -0.047849   \n",
       "Matches                     0.227929           0.234389  0.192047  0.227570   \n",
       "Starts                      0.216877           0.221418  0.072487  0.113446   \n",
       "Mins                        0.219027           0.224115  0.075016  0.117602   \n",
       "Goals                       0.594730           0.590492  0.681959  0.348428   \n",
       "Assists                     0.408459           0.411784  0.383358  0.558677   \n",
       "Passes_Attempted            0.149533           0.157020 -0.092535  0.105132   \n",
       "Perc_Passes_Completed      -0.024517          -0.014934 -0.035313  0.047720   \n",
       "Penalty_Goals               1.000000           0.982176  0.407251  0.205417   \n",
       "Penalty_Attempted           0.982176           1.000000  0.420159  0.218949   \n",
       "xG                          0.407251           0.420159  1.000000  0.346551   \n",
       "xA                          0.205417           0.218949  0.346551  1.000000   \n",
       "Yellow_Cards                0.057846           0.063506 -0.094216  0.022375   \n",
       "Red_Cards                   0.021109           0.031073 -0.021578 -0.056837   \n",
       "Position_new                0.227421           0.231719  0.587520  0.375732   \n",
       "\n",
       "                       Yellow_Cards  Red_Cards  Position_new  \n",
       "Age                        0.115191   0.065414     -0.157420  \n",
       "Matches                    0.578093   0.168281      0.065921  \n",
       "Starts                     0.603497   0.195383     -0.087604  \n",
       "Mins                       0.604634   0.193038     -0.087271  \n",
       "Goals                      0.104413   0.057785      0.459487  \n",
       "Assists                    0.213691  -0.020855      0.289309  \n",
       "Passes_Attempted           0.634567   0.208003     -0.179258  \n",
       "Perc_Passes_Completed      0.162451   0.054068     -0.042912  \n",
       "Penalty_Goals              0.057846   0.021109      0.227421  \n",
       "Penalty_Attempted          0.063506   0.031073      0.231719  \n",
       "xG                        -0.094216  -0.021578      0.587520  \n",
       "xA                         0.022375  -0.056837      0.375732  \n",
       "Yellow_Cards               1.000000   0.244786     -0.026323  \n",
       "Red_Cards                  0.244786   1.000000     -0.046296  \n",
       "Position_new              -0.026323  -0.046296      1.000000  "
      ]
     },
     "execution_count": 15,
     "metadata": {},
     "output_type": "execute_result"
    }
   ],
   "source": [
    "corrData"
   ]
  },
  {
   "cell_type": "markdown",
   "id": "52cde2b9-c024-42e6-aa1e-6554f1e07a6b",
   "metadata": {},
   "source": [
    "#### 상관계수 기준 설정"
   ]
  },
  {
   "cell_type": "code",
   "execution_count": 16,
   "id": "50c6135c-7cfa-416c-96ff-5a2f61f02492",
   "metadata": {},
   "outputs": [],
   "source": [
    "targetCorrRatio = [3, 4, 5, 6, 7]"
   ]
  },
  {
   "cell_type": "code",
   "execution_count": 17,
   "id": "02276d3a-e87d-4eae-9ea8-8a67917adbd6",
   "metadata": {},
   "outputs": [],
   "source": [
    "for i in range(0, len(targetCorrRatio)):\n",
    "    targetCorrRatio[i] = targetCorrRatio[i] / 10"
   ]
  },
  {
   "cell_type": "markdown",
   "id": "2d392dcb-6030-4f1f-a336-d1da1ea698a2",
   "metadata": {},
   "source": [
    "### 대상 features 선정"
   ]
  },
  {
   "cell_type": "code",
   "execution_count": 18,
   "id": "51c59340-9b8b-4bf3-8a80-bccecbaa1c2b",
   "metadata": {},
   "outputs": [],
   "source": [
    "features = [0 for i in range(0, len(targetCorrRatio))]"
   ]
  },
  {
   "cell_type": "code",
   "execution_count": 19,
   "id": "ee0e3645-8416-4d08-aed3-c836dbcae427",
   "metadata": {},
   "outputs": [],
   "source": [
    "for i in range(0, len(features)):\n",
    "    features[i] = list(corrData[(abs(corrData.Goals) > targetCorrRatio[i]) &\\\n",
    "                         (abs(corrData.Goals) != 1)].index)"
   ]
  },
  {
   "cell_type": "code",
   "execution_count": 20,
   "id": "986f241a-7aaf-4cd1-ad92-9f9075143c8b",
   "metadata": {},
   "outputs": [
    {
     "name": "stdout",
     "output_type": "stream",
     "text": [
      "['Matches', 'Starts', 'Mins', 'Assists', 'Penalty_Goals', 'Penalty_Attempted', 'xG', 'xA', 'Position_new']\n",
      "['Matches', 'Starts', 'Mins', 'Assists', 'Penalty_Goals', 'Penalty_Attempted', 'xG', 'Position_new']\n",
      "['Assists', 'Penalty_Goals', 'Penalty_Attempted', 'xG']\n",
      "['Assists', 'xG']\n",
      "[]\n"
     ]
    }
   ],
   "source": [
    "for i in range(0, len(features)):\n",
    "    print(features[i])"
   ]
  },
  {
   "cell_type": "code",
   "execution_count": null,
   "id": "7da3f85d-93ae-4b67-8636-13f9544916ac",
   "metadata": {},
   "outputs": [],
   "source": [
    "# 기준 상관계수 0.6 수준으로 features를 설정"
   ]
  },
  {
   "cell_type": "code",
   "execution_count": 21,
   "id": "33256c7f-c540-45b4-b320-d45fb88e9a96",
   "metadata": {},
   "outputs": [],
   "source": [
    "features = features[3]"
   ]
  },
  {
   "cell_type": "code",
   "execution_count": 22,
   "id": "40d51012-88b1-43cd-8821-c7ad7e67b1f9",
   "metadata": {},
   "outputs": [
    {
     "data": {
      "text/plain": [
       "['Assists', 'xG']"
      ]
     },
     "execution_count": 22,
     "metadata": {},
     "output_type": "execute_result"
    }
   ],
   "source": [
    "features"
   ]
  },
  {
   "cell_type": "code",
   "execution_count": null,
   "id": "d913a924-a2b6-4800-b339-bae63a3b5a34",
   "metadata": {},
   "outputs": [],
   "source": [
    "# 유의성을 지니는 features 데이터로 Assist 횟수와 xG 값을 선정하였다."
   ]
  },
  {
   "cell_type": "code",
   "execution_count": 23,
   "id": "c61d7fef-c566-4ccb-a59c-fbd2f47ea2de",
   "metadata": {},
   "outputs": [],
   "source": [
    "label = [\"Goals\"]"
   ]
  },
  {
   "cell_type": "markdown",
   "id": "25a45b8d-b99f-4818-b54c-2db36798c043",
   "metadata": {},
   "source": [
    "#### 3. 데이터 분리"
   ]
  },
  {
   "cell_type": "code",
   "execution_count": 24,
   "id": "40344f1f-74e1-44c7-ac9b-066064bf53a4",
   "metadata": {},
   "outputs": [],
   "source": [
    "from sklearn.model_selection import train_test_split"
   ]
  },
  {
   "cell_type": "code",
   "execution_count": 25,
   "id": "3cd21789-3744-43cd-8dbe-3c6b33fc97e3",
   "metadata": {},
   "outputs": [],
   "source": [
    "trainingDataFeatures,\\\n",
    "testDataFeatures,\\\n",
    "trainingDataLabel,\\\n",
    "testDataLabel = train_test_split(targetData.loc[:, features], \\\n",
    "                                 targetData.loc[:, label], \\\n",
    "                                 test_size=0.3, \\\n",
    "                                 random_state=10)"
   ]
  },
  {
   "cell_type": "code",
   "execution_count": null,
   "id": "a548517c-6711-45f5-8aa7-fa3ec65e3d2b",
   "metadata": {},
   "outputs": [],
   "source": [
    "# target : test 비율은 7:3, random_state는 10만큼 설정하였다."
   ]
  },
  {
   "cell_type": "code",
   "execution_count": 26,
   "id": "f906324e-de4c-4688-8d80-b8fda7001d2c",
   "metadata": {},
   "outputs": [],
   "source": [
    "trainingDataFeatures = trainingDataFeatures.reset_index(drop=True, inplace=False)\n",
    "trainingDataLabel = trainingDataLabel.reset_index(drop=True, inplace = False)\n",
    "testDataFeatures = testDataFeatures.reset_index(drop=True, inplace=False)\n",
    "testDataLabel = testDataLabel.reset_index(drop=True, inplace=False)"
   ]
  },
  {
   "cell_type": "markdown",
   "id": "02ac7a00-8588-4d5c-99e9-d768d72f8c5a",
   "metadata": {},
   "source": [
    "#### 4. 모델 선언 및 학습"
   ]
  },
  {
   "cell_type": "code",
   "execution_count": 27,
   "id": "ede21724-9a35-46e8-bdd6-68490809e254",
   "metadata": {},
   "outputs": [],
   "source": [
    "tree_regressor_method = tree.DecisionTreeRegressor(random_state=10)\n",
    "# DecisionTreeClassifier 모델을 호출"
   ]
  },
  {
   "cell_type": "code",
   "execution_count": 28,
   "id": "95ef787c-0ba3-4a04-98b7-4da361c9843e",
   "metadata": {},
   "outputs": [],
   "source": [
    "ensemble_regressor_method = ensemble.RandomForestRegressor(random_state = 10)\n",
    "# RandomForestClassifier 모델을 호출"
   ]
  },
  {
   "cell_type": "code",
   "execution_count": 29,
   "id": "5dccde9e-eafd-4797-a1db-bc7ffe1744bf",
   "metadata": {},
   "outputs": [],
   "source": [
    "knnModel = neighbors.KNeighborsRegressor(n_neighbors=3)\n",
    "# KneighborsClassifier 모델을 호출"
   ]
  },
  {
   "cell_type": "code",
   "execution_count": 30,
   "id": "4cef4611-f4e2-4189-9680-ba7ece428707",
   "metadata": {},
   "outputs": [],
   "source": [
    "svmModel = svm.SVR(C=1)\n",
    "# SVC 모델을 호출"
   ]
  },
  {
   "cell_type": "code",
   "execution_count": 31,
   "id": "2366b1aa-31f0-4fcd-8e07-c3bbdebdf869",
   "metadata": {},
   "outputs": [],
   "source": [
    "tree_regressor_model = tree_regressor_method.fit(X = trainingDataFeatures, y = trainingDataLabel)\n",
    "ensemble_regressor_model = ensemble_regressor_method.fit(X = trainingDataFeatures, y = trainingDataLabel)\n",
    "knn_model = knnModel.fit(X = trainingDataFeatures, y = trainingDataLabel)\n",
    "svm_model = svmModel.fit(X = trainingDataFeatures, y = trainingDataLabel)"
   ]
  },
  {
   "cell_type": "code",
   "execution_count": 32,
   "id": "3234e7f5-ce61-44c0-8d34-a46835039efb",
   "metadata": {},
   "outputs": [],
   "source": [
    "treeCM = tree_regressor_model.predict(testDataFeatures)"
   ]
  },
  {
   "cell_type": "code",
   "execution_count": 33,
   "id": "8b75ce2b-fb8f-46be-855c-47b9758de475",
   "metadata": {},
   "outputs": [],
   "source": [
    "ensembleCM = ensemble_regressor_model.predict(testDataFeatures)"
   ]
  },
  {
   "cell_type": "code",
   "execution_count": 34,
   "id": "421b4c15-1b3e-4414-a658-85ccd8c2005d",
   "metadata": {},
   "outputs": [],
   "source": [
    "knnCM = knn_model.predict(testDataFeatures)"
   ]
  },
  {
   "cell_type": "code",
   "execution_count": 35,
   "id": "eb6ff3b1-45be-4b69-b34f-5c4d84c73946",
   "metadata": {},
   "outputs": [],
   "source": [
    "svmCM = svm_model.predict(testDataFeatures)"
   ]
  },
  {
   "cell_type": "markdown",
   "id": "766a4c8d-0760-495f-9b71-e7f6e907b1da",
   "metadata": {},
   "source": [
    "#### 6. 정답 수치와 비교"
   ]
  },
  {
   "cell_type": "code",
   "execution_count": 36,
   "id": "b2293b0a-9f81-463d-b1bb-105f54f1ea7c",
   "metadata": {},
   "outputs": [],
   "source": [
    "testDataLabel[\"TREE_PRE\"] = treeCM"
   ]
  },
  {
   "cell_type": "code",
   "execution_count": 37,
   "id": "93ff66b8-0e4b-46f7-9e90-ce2073695d96",
   "metadata": {},
   "outputs": [],
   "source": [
    "testDataLabel[\"ENSEMBLE_PRE\"] = ensembleCM"
   ]
  },
  {
   "cell_type": "code",
   "execution_count": 38,
   "id": "4695946a-a242-4e78-9041-e87af7b64378",
   "metadata": {},
   "outputs": [],
   "source": [
    "testDataLabel[\"KNN_PRE\"] = knnCM"
   ]
  },
  {
   "cell_type": "code",
   "execution_count": 39,
   "id": "554c0914-8726-4e8e-adde-3179d07e3d35",
   "metadata": {},
   "outputs": [],
   "source": [
    "testDataLabel[\"SVM_PRE\"] = svmCM"
   ]
  },
  {
   "cell_type": "code",
   "execution_count": 40,
   "id": "1547d243-d53c-43d3-9186-9374b2354b48",
   "metadata": {
    "tags": []
   },
   "outputs": [
    {
     "data": {
      "text/html": [
       "<div>\n",
       "<style scoped>\n",
       "    .dataframe tbody tr th:only-of-type {\n",
       "        vertical-align: middle;\n",
       "    }\n",
       "\n",
       "    .dataframe tbody tr th {\n",
       "        vertical-align: top;\n",
       "    }\n",
       "\n",
       "    .dataframe thead th {\n",
       "        text-align: right;\n",
       "    }\n",
       "</style>\n",
       "<table border=\"1\" class=\"dataframe\">\n",
       "  <thead>\n",
       "    <tr style=\"text-align: right;\">\n",
       "      <th></th>\n",
       "      <th>Goals</th>\n",
       "      <th>TREE_PRE</th>\n",
       "      <th>ENSEMBLE_PRE</th>\n",
       "      <th>KNN_PRE</th>\n",
       "      <th>SVM_PRE</th>\n",
       "    </tr>\n",
       "  </thead>\n",
       "  <tbody>\n",
       "    <tr>\n",
       "      <th>0</th>\n",
       "      <td>0</td>\n",
       "      <td>0.014085</td>\n",
       "      <td>0.012487</td>\n",
       "      <td>0.000000</td>\n",
       "      <td>0.077195</td>\n",
       "    </tr>\n",
       "    <tr>\n",
       "      <th>1</th>\n",
       "      <td>0</td>\n",
       "      <td>0.014085</td>\n",
       "      <td>0.012487</td>\n",
       "      <td>0.000000</td>\n",
       "      <td>0.077195</td>\n",
       "    </tr>\n",
       "    <tr>\n",
       "      <th>2</th>\n",
       "      <td>0</td>\n",
       "      <td>0.014085</td>\n",
       "      <td>0.012487</td>\n",
       "      <td>0.000000</td>\n",
       "      <td>0.077195</td>\n",
       "    </tr>\n",
       "    <tr>\n",
       "      <th>3</th>\n",
       "      <td>2</td>\n",
       "      <td>1.250000</td>\n",
       "      <td>1.238754</td>\n",
       "      <td>1.333333</td>\n",
       "      <td>0.597654</td>\n",
       "    </tr>\n",
       "    <tr>\n",
       "      <th>4</th>\n",
       "      <td>0</td>\n",
       "      <td>16.000000</td>\n",
       "      <td>11.330000</td>\n",
       "      <td>5.666667</td>\n",
       "      <td>1.307329</td>\n",
       "    </tr>\n",
       "  </tbody>\n",
       "</table>\n",
       "</div>"
      ],
      "text/plain": [
       "   Goals   TREE_PRE  ENSEMBLE_PRE   KNN_PRE   SVM_PRE\n",
       "0      0   0.014085      0.012487  0.000000  0.077195\n",
       "1      0   0.014085      0.012487  0.000000  0.077195\n",
       "2      0   0.014085      0.012487  0.000000  0.077195\n",
       "3      2   1.250000      1.238754  1.333333  0.597654\n",
       "4      0  16.000000     11.330000  5.666667  1.307329"
      ]
     },
     "execution_count": 40,
     "metadata": {},
     "output_type": "execute_result"
    }
   ],
   "source": [
    "testDataLabel.head()"
   ]
  },
  {
   "cell_type": "markdown",
   "id": "345a5f95-257e-4fdf-8961-d6924b063239",
   "metadata": {},
   "source": [
    "#### 7. 신뢰도 확인"
   ]
  },
  {
   "cell_type": "code",
   "execution_count": 41,
   "id": "60fe279c-28bc-419b-8ed0-531d545587dd",
   "metadata": {},
   "outputs": [],
   "source": [
    "maeList = [0 for i in range(1, len(testDataLabel.columns))]\n",
    "mseList = [0 for i in range(1, len(testDataLabel.columns))]"
   ]
  },
  {
   "cell_type": "code",
   "execution_count": 42,
   "id": "14714056-331c-4847-8147-17305dd832e3",
   "metadata": {},
   "outputs": [],
   "source": [
    "for i in range(0, len(maeList)):\n",
    "    maeList[i] = mean_absolute_error(y_true=testDataLabel[\"Goals\"], y_pred=testDataLabel[testDataLabel.columns[i+1]])\n",
    "    mseList[i] = mean_squared_error(y_true=testDataLabel[\"Goals\"], y_pred=testDataLabel[testDataLabel.columns[i+1]])"
   ]
  },
  {
   "cell_type": "code",
   "execution_count": 43,
   "id": "446af0eb-fd30-4fc3-bc37-ed676b854aba",
   "metadata": {},
   "outputs": [
    {
     "data": {
      "text/plain": [
       "[1.2663772216633131, 1.228224875731478, 1.2791666666666668, 1.3149477125411542]"
      ]
     },
     "execution_count": 43,
     "metadata": {},
     "output_type": "execute_result"
    }
   ],
   "source": [
    "maeList"
   ]
  },
  {
   "cell_type": "code",
   "execution_count": 44,
   "id": "64171b0e-13b1-4483-997d-93264434ad7f",
   "metadata": {},
   "outputs": [
    {
     "data": {
      "text/plain": [
       "[6.531415029714111, 5.249713507764271, 5.213888888888889, 6.981749465118057]"
      ]
     },
     "execution_count": 44,
     "metadata": {},
     "output_type": "execute_result"
    }
   ],
   "source": [
    "mseList"
   ]
  },
  {
   "cell_type": "code",
   "execution_count": null,
   "id": "66e8c460-73ce-4a1e-9b9d-1d1fda139d07",
   "metadata": {},
   "outputs": [],
   "source": [
    "# MAE는 오차 절댓값의 합, MSE는 MAE의 제곱 합이므로, 가장 평가 기준 요소가 작은 값을 기록한 RandomForestRegressor 모델이 가장 정확한 분석을 수행하였다고 판단한다."
   ]
  },
  {
   "cell_type": "markdown",
   "id": "f5a9638b-e308-4f35-b4b2-7b18c28fe352",
   "metadata": {},
   "source": [
    "#### 테스트"
   ]
  },
  {
   "cell_type": "code",
   "execution_count": 45,
   "id": "f85460a6-f59b-4920-b891-5ec0b414969f",
   "metadata": {},
   "outputs": [],
   "source": [
    "playerDf = pd.DataFrame([[3, 0.7]], columns=[\"Assist\", \"xG\"])"
   ]
  },
  {
   "cell_type": "code",
   "execution_count": 46,
   "id": "ce7a84bd-f6b4-4a73-9c49-6be7ee4ca308",
   "metadata": {},
   "outputs": [
    {
     "data": {
      "text/html": [
       "<div>\n",
       "<style scoped>\n",
       "    .dataframe tbody tr th:only-of-type {\n",
       "        vertical-align: middle;\n",
       "    }\n",
       "\n",
       "    .dataframe tbody tr th {\n",
       "        vertical-align: top;\n",
       "    }\n",
       "\n",
       "    .dataframe thead th {\n",
       "        text-align: right;\n",
       "    }\n",
       "</style>\n",
       "<table border=\"1\" class=\"dataframe\">\n",
       "  <thead>\n",
       "    <tr style=\"text-align: right;\">\n",
       "      <th></th>\n",
       "      <th>Assist</th>\n",
       "      <th>xG</th>\n",
       "    </tr>\n",
       "  </thead>\n",
       "  <tbody>\n",
       "    <tr>\n",
       "      <th>0</th>\n",
       "      <td>3</td>\n",
       "      <td>0.7</td>\n",
       "    </tr>\n",
       "  </tbody>\n",
       "</table>\n",
       "</div>"
      ],
      "text/plain": [
       "   Assist   xG\n",
       "0       3  0.7"
      ]
     },
     "execution_count": 46,
     "metadata": {},
     "output_type": "execute_result"
    }
   ],
   "source": [
    "playerDf"
   ]
  },
  {
   "cell_type": "code",
   "execution_count": 48,
   "id": "7687327d-6a31-468a-894e-74c3f9130349",
   "metadata": {},
   "outputs": [
    {
     "data": {
      "text/html": [
       "<div>\n",
       "<style scoped>\n",
       "    .dataframe tbody tr th:only-of-type {\n",
       "        vertical-align: middle;\n",
       "    }\n",
       "\n",
       "    .dataframe tbody tr th {\n",
       "        vertical-align: top;\n",
       "    }\n",
       "\n",
       "    .dataframe thead th {\n",
       "        text-align: right;\n",
       "    }\n",
       "</style>\n",
       "<table border=\"1\" class=\"dataframe\">\n",
       "  <thead>\n",
       "    <tr style=\"text-align: right;\">\n",
       "      <th></th>\n",
       "      <th>Expected_Goals</th>\n",
       "    </tr>\n",
       "  </thead>\n",
       "  <tbody>\n",
       "    <tr>\n",
       "      <th>count</th>\n",
       "      <td>10.75</td>\n",
       "    </tr>\n",
       "  </tbody>\n",
       "</table>\n",
       "</div>"
      ],
      "text/plain": [
       "       Expected_Goals\n",
       "count           10.75"
      ]
     },
     "execution_count": 48,
     "metadata": {},
     "output_type": "execute_result"
    }
   ],
   "source": [
    "pd.DataFrame(ensemble_regressor_model.predict(playerDf), columns=[\"Expected_Goals\"], index=[\"count\"])"
   ]
  },
  {
   "cell_type": "code",
   "execution_count": null,
   "id": "418ca06e-f7b6-44a1-9736-5800f0bb453c",
   "metadata": {},
   "outputs": [],
   "source": [
    "# Assist 3개, xG값 0.7인 선수의 경우, 약 10.75 개의 기대 득점을 예측하였다."
   ]
  }
 ],
 "metadata": {
  "kernelspec": {
   "display_name": "Python 3 (ipykernel)",
   "language": "python",
   "name": "python3"
  },
  "language_info": {
   "codemirror_mode": {
    "name": "ipython",
    "version": 3
   },
   "file_extension": ".py",
   "mimetype": "text/x-python",
   "name": "python",
   "nbconvert_exporter": "python",
   "pygments_lexer": "ipython3",
   "version": "3.9.13"
  }
 },
 "nbformat": 4,
 "nbformat_minor": 5
}
