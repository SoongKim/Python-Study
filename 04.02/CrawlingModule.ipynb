{
 "cells": [
  {
   "cell_type": "code",
   "execution_count": 1,
   "id": "b9573f76-d6ce-4541-8943-ccc6f6fb2e94",
   "metadata": {},
   "outputs": [],
   "source": [
    "import pandas as pd\n",
    "import bs4, requests\n",
    "\n",
    "targetUrl = \"\"\n",
    "\n",
    "user_agent = 'Mozilla/5.0 (Windows NT 10.0; Win64; x64) AppleWebKit/537.36 (KHTML, like Gecko) Chrome/100.0.4896.75 Safari/537.36'\n",
    "resp = requests.get(targetUrl,headers = {'User-Agent':user_agent} )\n",
    "\n",
    "targetText = resp.text\n",
    "\n",
    "# 크롤링 활용 간 우회 모듈 세트\n",
    "# \"\" 사이에 목표 URL을 기입하자"
   ]
  }
 ],
 "metadata": {
  "kernelspec": {
   "display_name": "Python 3 (ipykernel)",
   "language": "python",
   "name": "python3"
  },
  "language_info": {
   "codemirror_mode": {
    "name": "ipython",
    "version": 3
   },
   "file_extension": ".py",
   "mimetype": "text/x-python",
   "name": "python",
   "nbconvert_exporter": "python",
   "pygments_lexer": "ipython3",
   "version": "3.9.13"
  }
 },
 "nbformat": 4,
 "nbformat_minor": 5
}
