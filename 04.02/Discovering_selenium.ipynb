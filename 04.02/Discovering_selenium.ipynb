{
 "cells": [
  {
   "cell_type": "code",
   "execution_count": null,
   "id": "d0bccbce-5713-4f2a-b6fe-961fd97b28d4",
   "metadata": {},
   "outputs": [],
   "source": [
    "# Selenium 자동화 브라우저 탐사"
   ]
  },
  {
   "cell_type": "code",
   "execution_count": 4,
   "id": "681d4623-df58-42c7-a0f4-80f20923e134",
   "metadata": {},
   "outputs": [],
   "source": [
    "from selenium import webdriver\n",
    "from selenium.webdriver.chrome.service import Service\n",
    "from selenium.webdriver.chrome.options import Options\n",
    "from webdriver_manager.chrome import ChromeDriverManager\n",
    "# selenium, webdriver_manager 기능을 호출"
   ]
  },
  {
   "cell_type": "code",
   "execution_count": 5,
   "id": "7da5127a-fc74-4c41-82be-652c6322cd5a",
   "metadata": {},
   "outputs": [],
   "source": [
    "chromeOption = Options()"
   ]
  },
  {
   "cell_type": "code",
   "execution_count": 6,
   "id": "79cd2af6-5288-48bb-8a81-93575c831b70",
   "metadata": {},
   "outputs": [],
   "source": [
    "chromeOption.add_argument(\"Window-size=1920x1080\")\n",
    "# 화면 창 사이즈 조절 기능"
   ]
  },
  {
   "cell_type": "code",
   "execution_count": 9,
   "id": "ada0a7a3-a4fa-4ca4-89ec-51c6af040e20",
   "metadata": {},
   "outputs": [
    {
     "name": "stderr",
     "output_type": "stream",
     "text": [
      "[WDM] - Downloading: 100%|████████████████████████████████████████████████████████| 6.79M/6.79M [00:00<00:00, 12.8MB/s]\n"
     ]
    }
   ],
   "source": [
    "driver = webdriver.Chrome(service=Service(ChromeDriverManager().install()),\n",
    "                          options = chromeOption)\n",
    "# chrome 드라이버를 항상 최신 버전으로 업데이트하는 기능"
   ]
  },
  {
   "cell_type": "code",
   "execution_count": 10,
   "id": "85caf66c-84ca-4ae9-9641-f3d65bced2a6",
   "metadata": {},
   "outputs": [
    {
     "data": {
      "text/plain": [
       "'C:\\\\Users\\\\golds\\\\Python'"
      ]
     },
     "execution_count": 10,
     "metadata": {},
     "output_type": "execute_result"
    }
   ],
   "source": [
    "pwd\n",
    "# 현재 작업 디렉토리. present working directory"
   ]
  },
  {
   "cell_type": "code",
   "execution_count": 11,
   "id": "047f2179-0c53-49ba-8d28-1dbda75f90a9",
   "metadata": {},
   "outputs": [],
   "source": [
    "driver.implicitly_wait(3)\n",
    "# 요소가 다 표현될 때까지 3초 간의 텀을 둔다."
   ]
  },
  {
   "cell_type": "code",
   "execution_count": 12,
   "id": "854c961a-e5ce-4616-a844-18fa6bc44032",
   "metadata": {},
   "outputs": [],
   "source": [
    "targetUrl = \"https://sparkkorea.com\"\n",
    "# 목표 URL. 이번에는 sparkkorea.com"
   ]
  },
  {
   "cell_type": "code",
   "execution_count": 13,
   "id": "ee5ac12a-719b-4761-af7a-91370f2dc9da",
   "metadata": {},
   "outputs": [],
   "source": [
    "driver.get(targetUrl)\n",
    "# driver 모듈아. targetUrl에 접근해라."
   ]
  },
  {
   "cell_type": "code",
   "execution_count": 14,
   "id": "7c6bf2fd-4c1e-4d35-8d0a-a3501f000047",
   "metadata": {},
   "outputs": [
    {
     "data": {
      "text/plain": [
       "'https://sparkkorea.com/'"
      ]
     },
     "execution_count": 14,
     "metadata": {},
     "output_type": "execute_result"
    }
   ],
   "source": [
    "driver.current_url\n",
    "# driver 모듈아. 현재 있는 url 위치좀 불러봐봐"
   ]
  },
  {
   "cell_type": "code",
   "execution_count": 15,
   "id": "3b09be8f-3ad9-43db-913d-891c27db8f25",
   "metadata": {},
   "outputs": [],
   "source": [
    "quizBtn = '//*[@id=\"menu-item-382\"]/a'\n",
    "# 퀴즈 버튼의 XPATH"
   ]
  },
  {
   "cell_type": "code",
   "execution_count": 24,
   "id": "56695ffc-c449-4a3a-9c59-b2ba41802887",
   "metadata": {},
   "outputs": [],
   "source": [
    "from selenium.webdriver.common.by import By\n",
    "# selenium ~모듈로부터 By 기능을 호출  \n",
    "\n",
    "from selenium.webdriver.common.keys import Keys\n",
    "# selenium ~모듈로부터 Keys 기능을 호출"
   ]
  },
  {
   "cell_type": "code",
   "execution_count": 18,
   "id": "7d500678-7844-4494-9da7-aa006299e20a",
   "metadata": {},
   "outputs": [],
   "source": [
    "driver.find_element(By.XPATH, quizBtn).click()\n",
    "# driver에게 해당 XPATH에 대응하는 요소를 클릭하도록 명령을 하달"
   ]
  },
  {
   "cell_type": "code",
   "execution_count": null,
   "id": "4fdffa59-b90e-4b57-9e64-fa02e2fad1d0",
   "metadata": {},
   "outputs": [],
   "source": []
  },
  {
   "cell_type": "code",
   "execution_count": 19,
   "id": "450963fe-5b14-47d7-81a4-279eb133d635",
   "metadata": {},
   "outputs": [],
   "source": [
    "googleUrl = \"https://www.google.com/\"\n",
    "# 목표 Url. 이번에는 google.com"
   ]
  },
  {
   "cell_type": "code",
   "execution_count": 20,
   "id": "13a927c0-8e1c-4cc0-b90c-ac4f7e392127",
   "metadata": {},
   "outputs": [],
   "source": [
    "searchBar = '//*[@id=\"APjFqb\"]'\n",
    "# searchBAR의 XPATH"
   ]
  },
  {
   "cell_type": "code",
   "execution_count": 21,
   "id": "2561be1b-a99d-4f9b-b3bf-ef17def73560",
   "metadata": {},
   "outputs": [],
   "source": [
    "driver.find_element(By.XPATH, searchBar).send_keys(\"youtube\")\n",
    "# selenium 모듈로부터 keys 기능을 불러왔었다.\n",
    "# 이제 (\"내용\")에 해당하는 키를 입력하도록 명령을 하달하였다."
   ]
  },
  {
   "cell_type": "code",
   "execution_count": 25,
   "id": "f0281b31-15a7-433e-9abc-8d5d53cc34e6",
   "metadata": {},
   "outputs": [],
   "source": [
    "driver.find_element(By.XPATH, searchBar).send_keys(Keys.ENTER)\n",
    "# 마찬가지로, 이번에는 ENTER 키를 입력하도록 명령을 하달하였다."
   ]
  }
 ],
 "metadata": {
  "kernelspec": {
   "display_name": "Python 3 (ipykernel)",
   "language": "python",
   "name": "python3"
  },
  "language_info": {
   "codemirror_mode": {
    "name": "ipython",
    "version": 3
   },
   "file_extension": ".py",
   "mimetype": "text/x-python",
   "name": "python",
   "nbconvert_exporter": "python",
   "pygments_lexer": "ipython3",
   "version": "3.9.13"
  }
 },
 "nbformat": 4,
 "nbformat_minor": 5
}
