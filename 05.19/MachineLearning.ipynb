{
 "cells": [
  {
   "cell_type": "code",
   "execution_count": 1,
   "id": "28237655-8c4a-49fa-8cee-2704938c39e3",
   "metadata": {},
   "outputs": [],
   "source": [
    "import pandas as pd\n",
    "import numpy as np\n",
    "import matplotlib.pylab as plt\n",
    "import seaborn as sns\n",
    "%matplotlib inline\n",
    "from sklearn import tree\n",
    "from sklearn.metrics import mean_squared_error\n",
    "from sklearn.metrics import mean_absolute_error\n",
    "from sklearn.model_selection import train_test_split\n",
    "from sklearn.preprocessing import LabelEncoder"
   ]
  },
  {
   "cell_type": "code",
   "execution_count": 2,
   "id": "12f2f13d-abf6-4be2-9b28-ce324d271cd3",
   "metadata": {},
   "outputs": [],
   "source": [
    "targetData = pd.read_csv(\"../../../stdcode6/dataset/feature_regression_example.csv\")"
   ]
  },
  {
   "cell_type": "code",
   "execution_count": 3,
   "id": "044e8cf2-b38c-42c1-b8ac-948642b69215",
   "metadata": {},
   "outputs": [
    {
     "data": {
      "text/html": [
       "<div>\n",
       "<style scoped>\n",
       "    .dataframe tbody tr th:only-of-type {\n",
       "        vertical-align: middle;\n",
       "    }\n",
       "\n",
       "    .dataframe tbody tr th {\n",
       "        vertical-align: top;\n",
       "    }\n",
       "\n",
       "    .dataframe thead th {\n",
       "        text-align: right;\n",
       "    }\n",
       "</style>\n",
       "<table border=\"1\" class=\"dataframe\">\n",
       "  <thead>\n",
       "    <tr style=\"text-align: right;\">\n",
       "      <th></th>\n",
       "      <th>REGIONID</th>\n",
       "      <th>PRODUCTGROUP</th>\n",
       "      <th>PRODUCT</th>\n",
       "      <th>ITEM</th>\n",
       "      <th>YEARWEEK</th>\n",
       "      <th>YEAR</th>\n",
       "      <th>WEEK</th>\n",
       "      <th>QTY</th>\n",
       "      <th>HOLIDAY</th>\n",
       "      <th>HCLUS</th>\n",
       "      <th>PROMOTION</th>\n",
       "      <th>PRO_PERCENT</th>\n",
       "    </tr>\n",
       "  </thead>\n",
       "  <tbody>\n",
       "    <tr>\n",
       "      <th>0</th>\n",
       "      <td>SEOUL_BANK_001</td>\n",
       "      <td>PG02</td>\n",
       "      <td>PRODUCT0010</td>\n",
       "      <td>ITEM0115</td>\n",
       "      <td>201501</td>\n",
       "      <td>2015</td>\n",
       "      <td>1</td>\n",
       "      <td>1225</td>\n",
       "      <td>Y</td>\n",
       "      <td>1</td>\n",
       "      <td>Y</td>\n",
       "      <td>0.209442</td>\n",
       "    </tr>\n",
       "    <tr>\n",
       "      <th>1</th>\n",
       "      <td>SEOUL_BANK_001</td>\n",
       "      <td>PG02</td>\n",
       "      <td>PRODUCT0010</td>\n",
       "      <td>ITEM0115</td>\n",
       "      <td>201502</td>\n",
       "      <td>2015</td>\n",
       "      <td>2</td>\n",
       "      <td>968</td>\n",
       "      <td>N</td>\n",
       "      <td>4</td>\n",
       "      <td>Y</td>\n",
       "      <td>0.209442</td>\n",
       "    </tr>\n",
       "    <tr>\n",
       "      <th>2</th>\n",
       "      <td>SEOUL_BANK_001</td>\n",
       "      <td>PG02</td>\n",
       "      <td>PRODUCT0010</td>\n",
       "      <td>ITEM0115</td>\n",
       "      <td>201503</td>\n",
       "      <td>2015</td>\n",
       "      <td>3</td>\n",
       "      <td>1209</td>\n",
       "      <td>N</td>\n",
       "      <td>4</td>\n",
       "      <td>Y</td>\n",
       "      <td>0.208155</td>\n",
       "    </tr>\n",
       "    <tr>\n",
       "      <th>3</th>\n",
       "      <td>SEOUL_BANK_001</td>\n",
       "      <td>PG02</td>\n",
       "      <td>PRODUCT0010</td>\n",
       "      <td>ITEM0115</td>\n",
       "      <td>201504</td>\n",
       "      <td>2015</td>\n",
       "      <td>4</td>\n",
       "      <td>1810</td>\n",
       "      <td>Y</td>\n",
       "      <td>2</td>\n",
       "      <td>Y</td>\n",
       "      <td>0.208155</td>\n",
       "    </tr>\n",
       "    <tr>\n",
       "      <th>4</th>\n",
       "      <td>SEOUL_BANK_001</td>\n",
       "      <td>PG02</td>\n",
       "      <td>PRODUCT0010</td>\n",
       "      <td>ITEM0115</td>\n",
       "      <td>201505</td>\n",
       "      <td>2015</td>\n",
       "      <td>5</td>\n",
       "      <td>1773</td>\n",
       "      <td>N</td>\n",
       "      <td>4</td>\n",
       "      <td>Y</td>\n",
       "      <td>0.208155</td>\n",
       "    </tr>\n",
       "  </tbody>\n",
       "</table>\n",
       "</div>"
      ],
      "text/plain": [
       "         REGIONID PRODUCTGROUP      PRODUCT      ITEM  YEARWEEK  YEAR  WEEK  \\\n",
       "0  SEOUL_BANK_001         PG02  PRODUCT0010  ITEM0115    201501  2015     1   \n",
       "1  SEOUL_BANK_001         PG02  PRODUCT0010  ITEM0115    201502  2015     2   \n",
       "2  SEOUL_BANK_001         PG02  PRODUCT0010  ITEM0115    201503  2015     3   \n",
       "3  SEOUL_BANK_001         PG02  PRODUCT0010  ITEM0115    201504  2015     4   \n",
       "4  SEOUL_BANK_001         PG02  PRODUCT0010  ITEM0115    201505  2015     5   \n",
       "\n",
       "    QTY HOLIDAY  HCLUS PROMOTION  PRO_PERCENT  \n",
       "0  1225       Y      1         Y     0.209442  \n",
       "1   968       N      4         Y     0.209442  \n",
       "2  1209       N      4         Y     0.208155  \n",
       "3  1810       Y      2         Y     0.208155  \n",
       "4  1773       N      4         Y     0.208155  "
      ]
     },
     "execution_count": 3,
     "metadata": {},
     "output_type": "execute_result"
    }
   ],
   "source": [
    "targetData.head()"
   ]
  },
  {
   "cell_type": "code",
   "execution_count": 4,
   "id": "9a0ba237-1ec7-4f7f-9ea0-4c4c837a566e",
   "metadata": {},
   "outputs": [],
   "source": [
    "ynLabelEn = LabelEncoder()"
   ]
  },
  {
   "cell_type": "code",
   "execution_count": 5,
   "id": "31d14b35-93b2-4dea-ae8f-951d21c3772d",
   "metadata": {},
   "outputs": [],
   "source": [
    "targetData[\"HO_YN\"] = ynLabelEn.fit_transform(targetData[\"HOLIDAY\"])\n",
    "targetData[\"PRO_YN\"] = ynLabelEn.fit_transform(targetData[\"PROMOTION\"])"
   ]
  },
  {
   "cell_type": "code",
   "execution_count": 6,
   "id": "b2bfd451-123a-409f-9b07-a1f970eb7239",
   "metadata": {},
   "outputs": [
    {
     "data": {
      "text/html": [
       "<div>\n",
       "<style scoped>\n",
       "    .dataframe tbody tr th:only-of-type {\n",
       "        vertical-align: middle;\n",
       "    }\n",
       "\n",
       "    .dataframe tbody tr th {\n",
       "        vertical-align: top;\n",
       "    }\n",
       "\n",
       "    .dataframe thead th {\n",
       "        text-align: right;\n",
       "    }\n",
       "</style>\n",
       "<table border=\"1\" class=\"dataframe\">\n",
       "  <thead>\n",
       "    <tr style=\"text-align: right;\">\n",
       "      <th></th>\n",
       "      <th>REGIONID</th>\n",
       "      <th>PRODUCTGROUP</th>\n",
       "      <th>PRODUCT</th>\n",
       "      <th>ITEM</th>\n",
       "      <th>YEARWEEK</th>\n",
       "      <th>YEAR</th>\n",
       "      <th>WEEK</th>\n",
       "      <th>QTY</th>\n",
       "      <th>HOLIDAY</th>\n",
       "      <th>HCLUS</th>\n",
       "      <th>PROMOTION</th>\n",
       "      <th>PRO_PERCENT</th>\n",
       "      <th>HO_YN</th>\n",
       "      <th>PRO_YN</th>\n",
       "    </tr>\n",
       "  </thead>\n",
       "  <tbody>\n",
       "    <tr>\n",
       "      <th>0</th>\n",
       "      <td>SEOUL_BANK_001</td>\n",
       "      <td>PG02</td>\n",
       "      <td>PRODUCT0010</td>\n",
       "      <td>ITEM0115</td>\n",
       "      <td>201501</td>\n",
       "      <td>2015</td>\n",
       "      <td>1</td>\n",
       "      <td>1225</td>\n",
       "      <td>Y</td>\n",
       "      <td>1</td>\n",
       "      <td>Y</td>\n",
       "      <td>0.209442</td>\n",
       "      <td>1</td>\n",
       "      <td>1</td>\n",
       "    </tr>\n",
       "    <tr>\n",
       "      <th>1</th>\n",
       "      <td>SEOUL_BANK_001</td>\n",
       "      <td>PG02</td>\n",
       "      <td>PRODUCT0010</td>\n",
       "      <td>ITEM0115</td>\n",
       "      <td>201502</td>\n",
       "      <td>2015</td>\n",
       "      <td>2</td>\n",
       "      <td>968</td>\n",
       "      <td>N</td>\n",
       "      <td>4</td>\n",
       "      <td>Y</td>\n",
       "      <td>0.209442</td>\n",
       "      <td>0</td>\n",
       "      <td>1</td>\n",
       "    </tr>\n",
       "    <tr>\n",
       "      <th>2</th>\n",
       "      <td>SEOUL_BANK_001</td>\n",
       "      <td>PG02</td>\n",
       "      <td>PRODUCT0010</td>\n",
       "      <td>ITEM0115</td>\n",
       "      <td>201503</td>\n",
       "      <td>2015</td>\n",
       "      <td>3</td>\n",
       "      <td>1209</td>\n",
       "      <td>N</td>\n",
       "      <td>4</td>\n",
       "      <td>Y</td>\n",
       "      <td>0.208155</td>\n",
       "      <td>0</td>\n",
       "      <td>1</td>\n",
       "    </tr>\n",
       "    <tr>\n",
       "      <th>3</th>\n",
       "      <td>SEOUL_BANK_001</td>\n",
       "      <td>PG02</td>\n",
       "      <td>PRODUCT0010</td>\n",
       "      <td>ITEM0115</td>\n",
       "      <td>201504</td>\n",
       "      <td>2015</td>\n",
       "      <td>4</td>\n",
       "      <td>1810</td>\n",
       "      <td>Y</td>\n",
       "      <td>2</td>\n",
       "      <td>Y</td>\n",
       "      <td>0.208155</td>\n",
       "      <td>1</td>\n",
       "      <td>1</td>\n",
       "    </tr>\n",
       "    <tr>\n",
       "      <th>4</th>\n",
       "      <td>SEOUL_BANK_001</td>\n",
       "      <td>PG02</td>\n",
       "      <td>PRODUCT0010</td>\n",
       "      <td>ITEM0115</td>\n",
       "      <td>201505</td>\n",
       "      <td>2015</td>\n",
       "      <td>5</td>\n",
       "      <td>1773</td>\n",
       "      <td>N</td>\n",
       "      <td>4</td>\n",
       "      <td>Y</td>\n",
       "      <td>0.208155</td>\n",
       "      <td>0</td>\n",
       "      <td>1</td>\n",
       "    </tr>\n",
       "  </tbody>\n",
       "</table>\n",
       "</div>"
      ],
      "text/plain": [
       "         REGIONID PRODUCTGROUP      PRODUCT      ITEM  YEARWEEK  YEAR  WEEK  \\\n",
       "0  SEOUL_BANK_001         PG02  PRODUCT0010  ITEM0115    201501  2015     1   \n",
       "1  SEOUL_BANK_001         PG02  PRODUCT0010  ITEM0115    201502  2015     2   \n",
       "2  SEOUL_BANK_001         PG02  PRODUCT0010  ITEM0115    201503  2015     3   \n",
       "3  SEOUL_BANK_001         PG02  PRODUCT0010  ITEM0115    201504  2015     4   \n",
       "4  SEOUL_BANK_001         PG02  PRODUCT0010  ITEM0115    201505  2015     5   \n",
       "\n",
       "    QTY HOLIDAY  HCLUS PROMOTION  PRO_PERCENT  HO_YN  PRO_YN  \n",
       "0  1225       Y      1         Y     0.209442      1       1  \n",
       "1   968       N      4         Y     0.209442      0       1  \n",
       "2  1209       N      4         Y     0.208155      0       1  \n",
       "3  1810       Y      2         Y     0.208155      1       1  \n",
       "4  1773       N      4         Y     0.208155      0       1  "
      ]
     },
     "execution_count": 6,
     "metadata": {},
     "output_type": "execute_result"
    }
   ],
   "source": [
    "targetData.head()"
   ]
  },
  {
   "cell_type": "code",
   "execution_count": 7,
   "id": "88d8814f-6e66-4ff5-be4c-3b932fc5c0a8",
   "metadata": {},
   "outputs": [],
   "source": [
    "corrData = targetData.corr()"
   ]
  },
  {
   "cell_type": "code",
   "execution_count": 8,
   "id": "1454363d-9665-402c-9382-73e0b1206789",
   "metadata": {},
   "outputs": [
    {
     "data": {
      "text/html": [
       "<div>\n",
       "<style scoped>\n",
       "    .dataframe tbody tr th:only-of-type {\n",
       "        vertical-align: middle;\n",
       "    }\n",
       "\n",
       "    .dataframe tbody tr th {\n",
       "        vertical-align: top;\n",
       "    }\n",
       "\n",
       "    .dataframe thead th {\n",
       "        text-align: right;\n",
       "    }\n",
       "</style>\n",
       "<table border=\"1\" class=\"dataframe\">\n",
       "  <thead>\n",
       "    <tr style=\"text-align: right;\">\n",
       "      <th></th>\n",
       "      <th>YEARWEEK</th>\n",
       "      <th>YEAR</th>\n",
       "      <th>WEEK</th>\n",
       "      <th>QTY</th>\n",
       "      <th>HCLUS</th>\n",
       "      <th>PRO_PERCENT</th>\n",
       "      <th>HO_YN</th>\n",
       "      <th>PRO_YN</th>\n",
       "    </tr>\n",
       "  </thead>\n",
       "  <tbody>\n",
       "    <tr>\n",
       "      <th>YEARWEEK</th>\n",
       "      <td>1.000000</td>\n",
       "      <td>0.956598</td>\n",
       "      <td>0.275593</td>\n",
       "      <td>0.112267</td>\n",
       "      <td>-0.071586</td>\n",
       "      <td>0.404889</td>\n",
       "      <td>0.049867</td>\n",
       "      <td>0.205916</td>\n",
       "    </tr>\n",
       "    <tr>\n",
       "      <th>YEAR</th>\n",
       "      <td>0.956598</td>\n",
       "      <td>1.000000</td>\n",
       "      <td>-0.016493</td>\n",
       "      <td>0.028931</td>\n",
       "      <td>0.028593</td>\n",
       "      <td>0.321193</td>\n",
       "      <td>-0.031106</td>\n",
       "      <td>0.195931</td>\n",
       "    </tr>\n",
       "    <tr>\n",
       "      <th>WEEK</th>\n",
       "      <td>0.275593</td>\n",
       "      <td>-0.016493</td>\n",
       "      <td>1.000000</td>\n",
       "      <td>0.289766</td>\n",
       "      <td>-0.339943</td>\n",
       "      <td>0.329705</td>\n",
       "      <td>0.273710</td>\n",
       "      <td>0.060206</td>\n",
       "    </tr>\n",
       "    <tr>\n",
       "      <th>QTY</th>\n",
       "      <td>0.112267</td>\n",
       "      <td>0.028931</td>\n",
       "      <td>0.289766</td>\n",
       "      <td>1.000000</td>\n",
       "      <td>-0.537230</td>\n",
       "      <td>0.700195</td>\n",
       "      <td>0.505932</td>\n",
       "      <td>0.612451</td>\n",
       "    </tr>\n",
       "    <tr>\n",
       "      <th>HCLUS</th>\n",
       "      <td>-0.071586</td>\n",
       "      <td>0.028593</td>\n",
       "      <td>-0.339943</td>\n",
       "      <td>-0.537230</td>\n",
       "      <td>1.000000</td>\n",
       "      <td>-0.545619</td>\n",
       "      <td>-0.974601</td>\n",
       "      <td>-0.374072</td>\n",
       "    </tr>\n",
       "    <tr>\n",
       "      <th>PRO_PERCENT</th>\n",
       "      <td>0.404889</td>\n",
       "      <td>0.321193</td>\n",
       "      <td>0.329705</td>\n",
       "      <td>0.700195</td>\n",
       "      <td>-0.545619</td>\n",
       "      <td>1.000000</td>\n",
       "      <td>0.487062</td>\n",
       "      <td>0.898554</td>\n",
       "    </tr>\n",
       "    <tr>\n",
       "      <th>HO_YN</th>\n",
       "      <td>0.049867</td>\n",
       "      <td>-0.031106</td>\n",
       "      <td>0.273710</td>\n",
       "      <td>0.505932</td>\n",
       "      <td>-0.974601</td>\n",
       "      <td>0.487062</td>\n",
       "      <td>1.000000</td>\n",
       "      <td>0.365148</td>\n",
       "    </tr>\n",
       "    <tr>\n",
       "      <th>PRO_YN</th>\n",
       "      <td>0.205916</td>\n",
       "      <td>0.195931</td>\n",
       "      <td>0.060206</td>\n",
       "      <td>0.612451</td>\n",
       "      <td>-0.374072</td>\n",
       "      <td>0.898554</td>\n",
       "      <td>0.365148</td>\n",
       "      <td>1.000000</td>\n",
       "    </tr>\n",
       "  </tbody>\n",
       "</table>\n",
       "</div>"
      ],
      "text/plain": [
       "             YEARWEEK      YEAR      WEEK       QTY     HCLUS  PRO_PERCENT  \\\n",
       "YEARWEEK     1.000000  0.956598  0.275593  0.112267 -0.071586     0.404889   \n",
       "YEAR         0.956598  1.000000 -0.016493  0.028931  0.028593     0.321193   \n",
       "WEEK         0.275593 -0.016493  1.000000  0.289766 -0.339943     0.329705   \n",
       "QTY          0.112267  0.028931  0.289766  1.000000 -0.537230     0.700195   \n",
       "HCLUS       -0.071586  0.028593 -0.339943 -0.537230  1.000000    -0.545619   \n",
       "PRO_PERCENT  0.404889  0.321193  0.329705  0.700195 -0.545619     1.000000   \n",
       "HO_YN        0.049867 -0.031106  0.273710  0.505932 -0.974601     0.487062   \n",
       "PRO_YN       0.205916  0.195931  0.060206  0.612451 -0.374072     0.898554   \n",
       "\n",
       "                HO_YN    PRO_YN  \n",
       "YEARWEEK     0.049867  0.205916  \n",
       "YEAR        -0.031106  0.195931  \n",
       "WEEK         0.273710  0.060206  \n",
       "QTY          0.505932  0.612451  \n",
       "HCLUS       -0.974601 -0.374072  \n",
       "PRO_PERCENT  0.487062  0.898554  \n",
       "HO_YN        1.000000  0.365148  \n",
       "PRO_YN       0.365148  1.000000  "
      ]
     },
     "execution_count": 8,
     "metadata": {},
     "output_type": "execute_result"
    }
   ],
   "source": [
    "corrData"
   ]
  },
  {
   "cell_type": "code",
   "execution_count": 9,
   "id": "1273e062-3d54-4005-9609-96b3f8bed045",
   "metadata": {},
   "outputs": [],
   "source": [
    "targetStd = 0.5"
   ]
  },
  {
   "cell_type": "code",
   "execution_count": 10,
   "id": "8e6a34d9-92d7-47c3-8b59-260369be5d32",
   "metadata": {},
   "outputs": [],
   "source": [
    "features = list(corrData[(abs(corrData.QTY) > targetStd) & \\\n",
    "                         (abs(corrData.QTY) != 1)].index)"
   ]
  },
  {
   "cell_type": "code",
   "execution_count": 11,
   "id": "2c8694be-6bf0-4bc4-8f76-1284331adf61",
   "metadata": {},
   "outputs": [
    {
     "data": {
      "text/plain": [
       "['HCLUS', 'PRO_PERCENT', 'HO_YN', 'PRO_YN']"
      ]
     },
     "execution_count": 11,
     "metadata": {},
     "output_type": "execute_result"
    }
   ],
   "source": [
    "features"
   ]
  },
  {
   "cell_type": "code",
   "execution_count": 12,
   "id": "18552d28-704b-48ef-933f-830f87176a8f",
   "metadata": {},
   "outputs": [],
   "source": [
    "label = [\"QTY\"]"
   ]
  },
  {
   "cell_type": "code",
   "execution_count": 13,
   "id": "198848d5-3285-432f-afe7-4e867d6a035a",
   "metadata": {},
   "outputs": [],
   "source": [
    "sortKey = [\"YEARWEEK\"]"
   ]
  },
  {
   "cell_type": "code",
   "execution_count": 14,
   "id": "c2657a61-64b1-4447-b6d2-5601f4608fc9",
   "metadata": {},
   "outputs": [],
   "source": [
    "targetData = targetData.sort_values(sortKey).reset_index(drop=True, inplace = False)"
   ]
  },
  {
   "cell_type": "code",
   "execution_count": 15,
   "id": "240feb82-6eda-4257-b4b6-01686585df92",
   "metadata": {},
   "outputs": [],
   "source": [
    "featuresData = targetData[features]"
   ]
  },
  {
   "cell_type": "code",
   "execution_count": 16,
   "id": "8431391d-6884-4d23-8314-f99487da5703",
   "metadata": {},
   "outputs": [],
   "source": [
    "labelData = targetData[label]"
   ]
  },
  {
   "cell_type": "code",
   "execution_count": 17,
   "id": "14ded9ed-8c5e-4424-87c3-785c657eb96d",
   "metadata": {},
   "outputs": [],
   "source": [
    "trData, tdData = train_test_split(featuresData, test_size=0.2, random_state= 10)"
   ]
  },
  {
   "cell_type": "code",
   "execution_count": 18,
   "id": "ebae3f20-4e92-4ee7-ba4c-04f8534f51ed",
   "metadata": {},
   "outputs": [],
   "source": [
    "trLabel, tdLabel = train_test_split(labelData, test_size = 0.2, random_state = 10)"
   ]
  },
  {
   "cell_type": "code",
   "execution_count": 19,
   "id": "d3d55cc7-7bd6-4c01-b28d-8bca18f8434e",
   "metadata": {
    "tags": []
   },
   "outputs": [],
   "source": [
    "trData = trData.reset_index(drop=True, inplace = False)\n",
    "tdData = tdData.reset_index(drop=True, inplace = False)\n",
    "trLabel = trLabel.reset_index(drop=True, inplace = False)\n",
    "tdLabel = tdLabel.reset_index(drop=True, inplace = False)"
   ]
  },
  {
   "cell_type": "code",
   "execution_count": 20,
   "id": "84e5af69-0a9a-4902-bf8a-4b8a3900b794",
   "metadata": {},
   "outputs": [],
   "source": [
    "model_method = tree.DecisionTreeRegressor()"
   ]
  },
  {
   "cell_type": "code",
   "execution_count": 21,
   "id": "acd440c1-f3fc-4fc6-86b4-69e580cac488",
   "metadata": {},
   "outputs": [],
   "source": [
    "model = model_method.fit(trData, trLabel)"
   ]
  },
  {
   "cell_type": "code",
   "execution_count": 27,
   "id": "3720d214-94d6-4d6c-8202-5ab69a8fa346",
   "metadata": {},
   "outputs": [],
   "source": [
    "from sklearn.tree import plot_tree"
   ]
  },
  {
   "cell_type": "code",
   "execution_count": 28,
   "id": "583e9b8b-1708-421b-9a69-67c63012326b",
   "metadata": {},
   "outputs": [
    {
     "data": {
      "text/plain": [
       "[Text(0.42410714285714285, 0.9166666666666666, 'X[1] <= 0.259\\nsquared_error = 555633.453\\nsamples = 84\\nvalue = 1156.393'),\n",
       " Text(0.19642857142857142, 0.75, 'X[1] <= 0.104\\nsquared_error = 275478.829\\nsamples = 53\\nvalue = 785.962'),\n",
       " Text(0.07142857142857142, 0.5833333333333334, 'X[2] <= 0.5\\nsquared_error = 79692.408\\nsamples = 21\\nvalue = 345.143'),\n",
       " Text(0.03571428571428571, 0.4166666666666667, 'squared_error = 82024.05\\nsamples = 19\\nvalue = 362.947'),\n",
       " Text(0.10714285714285714, 0.4166666666666667, 'X[0] <= 1.5\\nsquared_error = 25921.0\\nsamples = 2\\nvalue = 176.0'),\n",
       " Text(0.07142857142857142, 0.25, 'squared_error = 0.0\\nsamples = 1\\nvalue = 337.0'),\n",
       " Text(0.14285714285714285, 0.25, 'squared_error = 0.0\\nsamples = 1\\nvalue = 15.0'),\n",
       " Text(0.32142857142857145, 0.5833333333333334, 'X[0] <= 2.5\\nsquared_error = 192752.625\\nsamples = 32\\nvalue = 1075.25'),\n",
       " Text(0.25, 0.4166666666666667, 'X[1] <= 0.209\\nsquared_error = 106505.778\\nsamples = 9\\nvalue = 1397.0'),\n",
       " Text(0.21428571428571427, 0.25, 'squared_error = 0.0\\nsamples = 1\\nvalue = 970.0'),\n",
       " Text(0.2857142857142857, 0.25, 'X[1] <= 0.224\\nsquared_error = 94178.984\\nsamples = 8\\nvalue = 1450.375'),\n",
       " Text(0.25, 0.08333333333333333, 'squared_error = 62336.889\\nsamples = 3\\nvalue = 1453.667'),\n",
       " Text(0.32142857142857145, 0.08333333333333333, 'squared_error = 113273.84\\nsamples = 5\\nvalue = 1448.4'),\n",
       " Text(0.39285714285714285, 0.4166666666666667, 'X[1] <= 0.209\\nsquared_error = 170141.009\\nsamples = 23\\nvalue = 949.348'),\n",
       " Text(0.35714285714285715, 0.25, 'squared_error = 163633.438\\nsamples = 8\\nvalue = 984.75'),\n",
       " Text(0.42857142857142855, 0.25, 'X[1] <= 0.224\\nsquared_error = 172586.782\\nsamples = 15\\nvalue = 930.467'),\n",
       " Text(0.39285714285714285, 0.08333333333333333, 'squared_error = 149292.64\\nsamples = 10\\nvalue = 926.6'),\n",
       " Text(0.4642857142857143, 0.08333333333333333, 'squared_error = 219085.36\\nsamples = 5\\nvalue = 938.2'),\n",
       " Text(0.6517857142857143, 0.75, 'X[1] <= 0.294\\nsquared_error = 398917.367\\nsamples = 31\\nvalue = 1789.71'),\n",
       " Text(0.5, 0.5833333333333334, 'X[0] <= 1.5\\nsquared_error = 399064.438\\nsamples = 13\\nvalue = 2101.846'),\n",
       " Text(0.4642857142857143, 0.4166666666666667, 'squared_error = 493206.222\\nsamples = 6\\nvalue = 2384.667'),\n",
       " Text(0.5357142857142857, 0.4166666666666667, 'X[2] <= 0.5\\nsquared_error = 191044.531\\nsamples = 7\\nvalue = 1859.429'),\n",
       " Text(0.5, 0.25, 'squared_error = 218476.889\\nsamples = 6\\nvalue = 1834.333'),\n",
       " Text(0.5714285714285714, 0.25, 'squared_error = 0.0\\nsamples = 1\\nvalue = 2010.0'),\n",
       " Text(0.8035714285714286, 0.5833333333333334, 'X[1] <= 0.355\\nsquared_error = 277626.09\\nsamples = 18\\nvalue = 1564.278'),\n",
       " Text(0.7142857142857143, 0.4166666666666667, 'X[1] <= 0.33\\nsquared_error = 180784.264\\nsamples = 11\\nvalue = 1298.909'),\n",
       " Text(0.6428571428571429, 0.25, 'X[0] <= 2.5\\nsquared_error = 92875.109\\nsamples = 8\\nvalue = 1372.875'),\n",
       " Text(0.6071428571428571, 0.08333333333333333, 'squared_error = 62356.222\\nsamples = 6\\nvalue = 1447.667'),\n",
       " Text(0.6785714285714286, 0.08333333333333333, 'squared_error = 117306.25\\nsamples = 2\\nvalue = 1148.5'),\n",
       " Text(0.7857142857142857, 0.25, 'X[0] <= 2.5\\nsquared_error = 361714.889\\nsamples = 3\\nvalue = 1101.667'),\n",
       " Text(0.75, 0.08333333333333333, 'squared_error = 0.0\\nsamples = 1\\nvalue = 332.0'),\n",
       " Text(0.8214285714285714, 0.08333333333333333, 'squared_error = 98282.25\\nsamples = 2\\nvalue = 1486.5'),\n",
       " Text(0.8928571428571429, 0.4166666666666667, 'X[1] <= 0.39\\nsquared_error = 145249.633\\nsamples = 7\\nvalue = 1981.286'),\n",
       " Text(0.8571428571428571, 0.25, 'squared_error = 83810.25\\nsamples = 2\\nvalue = 1743.5'),\n",
       " Text(0.9285714285714286, 0.25, 'X[0] <= 2.0\\nsquared_error = 138161.84\\nsamples = 5\\nvalue = 2076.4'),\n",
       " Text(0.8928571428571429, 0.08333333333333333, 'squared_error = 168096.688\\nsamples = 4\\nvalue = 2106.75'),\n",
       " Text(0.9642857142857143, 0.08333333333333333, 'squared_error = 0.0\\nsamples = 1\\nvalue = 1955.0')]"
      ]
     },
     "execution_count": 28,
     "metadata": {},
     "output_type": "execute_result"
    },
    {
     "data": {
      "image/png": "[encoded data removed]",
      "text/plain": [
       "<Figure size 640x480 with 1 Axes>"
      ]
     },
     "metadata": {},
     "output_type": "display_data"
    }
   ],
   "source": [
    "plot_tree(model)"
   ]
  },
  {
   "cell_type": "code",
   "execution_count": 29,
   "id": "8f238a21-089b-4983-a5d7-4ca91725e6c6",
   "metadata": {},
   "outputs": [],
   "source": [
    "import matplotlib.pyplot as plt"
   ]
  },
  {
   "cell_type": "code",
   "execution_count": 30,
   "id": "1faba1bf-8dde-47a6-871e-f6186fcaedc7",
   "metadata": {},
   "outputs": [
    {
     "data": {
      "text/plain": [
       "[Text(0.42410714285714285, 0.9166666666666666, 'X[1] <= 0.259\\nsquared_error = 555633.453\\nsamples = 84\\nvalue = 1156.393'),\n",
       " Text(0.19642857142857142, 0.75, 'X[1] <= 0.104\\nsquared_error = 275478.829\\nsamples = 53\\nvalue = 785.962'),\n",
       " Text(0.07142857142857142, 0.5833333333333334, 'X[2] <= 0.5\\nsquared_error = 79692.408\\nsamples = 21\\nvalue = 345.143'),\n",
       " Text(0.03571428571428571, 0.4166666666666667, 'squared_error = 82024.05\\nsamples = 19\\nvalue = 362.947'),\n",
       " Text(0.10714285714285714, 0.4166666666666667, 'X[0] <= 1.5\\nsquared_error = 25921.0\\nsamples = 2\\nvalue = 176.0'),\n",
       " Text(0.07142857142857142, 0.25, 'squared_error = 0.0\\nsamples = 1\\nvalue = 337.0'),\n",
       " Text(0.14285714285714285, 0.25, 'squared_error = 0.0\\nsamples = 1\\nvalue = 15.0'),\n",
       " Text(0.32142857142857145, 0.5833333333333334, 'X[0] <= 2.5\\nsquared_error = 192752.625\\nsamples = 32\\nvalue = 1075.25'),\n",
       " Text(0.25, 0.4166666666666667, 'X[1] <= 0.209\\nsquared_error = 106505.778\\nsamples = 9\\nvalue = 1397.0'),\n",
       " Text(0.21428571428571427, 0.25, 'squared_error = 0.0\\nsamples = 1\\nvalue = 970.0'),\n",
       " Text(0.2857142857142857, 0.25, 'X[1] <= 0.224\\nsquared_error = 94178.984\\nsamples = 8\\nvalue = 1450.375'),\n",
       " Text(0.25, 0.08333333333333333, 'squared_error = 62336.889\\nsamples = 3\\nvalue = 1453.667'),\n",
       " Text(0.32142857142857145, 0.08333333333333333, 'squared_error = 113273.84\\nsamples = 5\\nvalue = 1448.4'),\n",
       " Text(0.39285714285714285, 0.4166666666666667, 'X[1] <= 0.209\\nsquared_error = 170141.009\\nsamples = 23\\nvalue = 949.348'),\n",
       " Text(0.35714285714285715, 0.25, 'squared_error = 163633.438\\nsamples = 8\\nvalue = 984.75'),\n",
       " Text(0.42857142857142855, 0.25, 'X[1] <= 0.224\\nsquared_error = 172586.782\\nsamples = 15\\nvalue = 930.467'),\n",
       " Text(0.39285714285714285, 0.08333333333333333, 'squared_error = 149292.64\\nsamples = 10\\nvalue = 926.6'),\n",
       " Text(0.4642857142857143, 0.08333333333333333, 'squared_error = 219085.36\\nsamples = 5\\nvalue = 938.2'),\n",
       " Text(0.6517857142857143, 0.75, 'X[1] <= 0.294\\nsquared_error = 398917.367\\nsamples = 31\\nvalue = 1789.71'),\n",
       " Text(0.5, 0.5833333333333334, 'X[0] <= 1.5\\nsquared_error = 399064.438\\nsamples = 13\\nvalue = 2101.846'),\n",
       " Text(0.4642857142857143, 0.4166666666666667, 'squared_error = 493206.222\\nsamples = 6\\nvalue = 2384.667'),\n",
       " Text(0.5357142857142857, 0.4166666666666667, 'X[2] <= 0.5\\nsquared_error = 191044.531\\nsamples = 7\\nvalue = 1859.429'),\n",
       " Text(0.5, 0.25, 'squared_error = 218476.889\\nsamples = 6\\nvalue = 1834.333'),\n",
       " Text(0.5714285714285714, 0.25, 'squared_error = 0.0\\nsamples = 1\\nvalue = 2010.0'),\n",
       " Text(0.8035714285714286, 0.5833333333333334, 'X[1] <= 0.355\\nsquared_error = 277626.09\\nsamples = 18\\nvalue = 1564.278'),\n",
       " Text(0.7142857142857143, 0.4166666666666667, 'X[1] <= 0.33\\nsquared_error = 180784.264\\nsamples = 11\\nvalue = 1298.909'),\n",
       " Text(0.6428571428571429, 0.25, 'X[0] <= 2.5\\nsquared_error = 92875.109\\nsamples = 8\\nvalue = 1372.875'),\n",
       " Text(0.6071428571428571, 0.08333333333333333, 'squared_error = 62356.222\\nsamples = 6\\nvalue = 1447.667'),\n",
       " Text(0.6785714285714286, 0.08333333333333333, 'squared_error = 117306.25\\nsamples = 2\\nvalue = 1148.5'),\n",
       " Text(0.7857142857142857, 0.25, 'X[0] <= 2.5\\nsquared_error = 361714.889\\nsamples = 3\\nvalue = 1101.667'),\n",
       " Text(0.75, 0.08333333333333333, 'squared_error = 0.0\\nsamples = 1\\nvalue = 332.0'),\n",
       " Text(0.8214285714285714, 0.08333333333333333, 'squared_error = 98282.25\\nsamples = 2\\nvalue = 1486.5'),\n",
       " Text(0.8928571428571429, 0.4166666666666667, 'X[1] <= 0.39\\nsquared_error = 145249.633\\nsamples = 7\\nvalue = 1981.286'),\n",
       " Text(0.8571428571428571, 0.25, 'squared_error = 83810.25\\nsamples = 2\\nvalue = 1743.5'),\n",
       " Text(0.9285714285714286, 0.25, 'X[0] <= 2.0\\nsquared_error = 138161.84\\nsamples = 5\\nvalue = 2076.4'),\n",
       " Text(0.8928571428571429, 0.08333333333333333, 'squared_error = 168096.688\\nsamples = 4\\nvalue = 2106.75'),\n",
       " Text(0.9642857142857143, 0.08333333333333333, 'squared_error = 0.0\\nsamples = 1\\nvalue = 1955.0')]"
      ]
     },
     "execution_count": 30,
     "metadata": {},
     "output_type": "execute_result"
    },
    {
     "data": {
      "image/png": "[encoded data removed]",
      "text/plain": [
       "<Figure size 1300x800 with 1 Axes>"
      ]
     },
     "metadata": {},
     "output_type": "display_data"
    }
   ],
   "source": [
    "plt.figure(figsize=(13,8))\n",
    "plot_tree(model)"
   ]
  },
  {
   "cell_type": "code",
   "execution_count": 22,
   "id": "46390154-79b4-46cb-831a-22172131953a",
   "metadata": {},
   "outputs": [],
   "source": [
    "predictData = model.predict(tdData)"
   ]
  },
  {
   "cell_type": "code",
   "execution_count": 23,
   "id": "a3a641e5-0902-4af8-9c50-831133105e2c",
   "metadata": {},
   "outputs": [],
   "source": [
    "predictDf = pd.DataFrame(predictData, columns = {\"PREDICTED\"}).reset_index(drop=True, inplace = False)"
   ]
  },
  {
   "cell_type": "code",
   "execution_count": 24,
   "id": "dcea02f6-1516-4cef-9130-0014c93c5142",
   "metadata": {},
   "outputs": [],
   "source": [
    "finalDf = pd.concat([tdLabel, predictDf], axis=1)"
   ]
  },
  {
   "cell_type": "code",
   "execution_count": 25,
   "id": "d780884b-7b75-44fa-bdb8-e6ce4b24b1cb",
   "metadata": {},
   "outputs": [
    {
     "data": {
      "text/html": [
       "<div>\n",
       "<style scoped>\n",
       "    .dataframe tbody tr th:only-of-type {\n",
       "        vertical-align: middle;\n",
       "    }\n",
       "\n",
       "    .dataframe tbody tr th {\n",
       "        vertical-align: top;\n",
       "    }\n",
       "\n",
       "    .dataframe thead th {\n",
       "        text-align: right;\n",
       "    }\n",
       "</style>\n",
       "<table border=\"1\" class=\"dataframe\">\n",
       "  <thead>\n",
       "    <tr style=\"text-align: right;\">\n",
       "      <th></th>\n",
       "      <th>QTY</th>\n",
       "      <th>PREDICTED</th>\n",
       "    </tr>\n",
       "  </thead>\n",
       "  <tbody>\n",
       "    <tr>\n",
       "      <th>0</th>\n",
       "      <td>43</td>\n",
       "      <td>362.947368</td>\n",
       "    </tr>\n",
       "    <tr>\n",
       "      <th>1</th>\n",
       "      <td>2069</td>\n",
       "      <td>1448.400000</td>\n",
       "    </tr>\n",
       "    <tr>\n",
       "      <th>2</th>\n",
       "      <td>1758</td>\n",
       "      <td>1743.500000</td>\n",
       "    </tr>\n",
       "    <tr>\n",
       "      <th>3</th>\n",
       "      <td>3691</td>\n",
       "      <td>1743.500000</td>\n",
       "    </tr>\n",
       "    <tr>\n",
       "      <th>4</th>\n",
       "      <td>2240</td>\n",
       "      <td>1834.333333</td>\n",
       "    </tr>\n",
       "    <tr>\n",
       "      <th>5</th>\n",
       "      <td>572</td>\n",
       "      <td>926.600000</td>\n",
       "    </tr>\n",
       "    <tr>\n",
       "      <th>6</th>\n",
       "      <td>1504</td>\n",
       "      <td>938.200000</td>\n",
       "    </tr>\n",
       "    <tr>\n",
       "      <th>7</th>\n",
       "      <td>1616</td>\n",
       "      <td>1447.666667</td>\n",
       "    </tr>\n",
       "    <tr>\n",
       "      <th>8</th>\n",
       "      <td>1810</td>\n",
       "      <td>970.000000</td>\n",
       "    </tr>\n",
       "    <tr>\n",
       "      <th>9</th>\n",
       "      <td>862</td>\n",
       "      <td>1453.666667</td>\n",
       "    </tr>\n",
       "    <tr>\n",
       "      <th>10</th>\n",
       "      <td>1209</td>\n",
       "      <td>984.750000</td>\n",
       "    </tr>\n",
       "    <tr>\n",
       "      <th>11</th>\n",
       "      <td>4035</td>\n",
       "      <td>2384.666667</td>\n",
       "    </tr>\n",
       "    <tr>\n",
       "      <th>12</th>\n",
       "      <td>230</td>\n",
       "      <td>362.947368</td>\n",
       "    </tr>\n",
       "    <tr>\n",
       "      <th>13</th>\n",
       "      <td>301</td>\n",
       "      <td>362.947368</td>\n",
       "    </tr>\n",
       "    <tr>\n",
       "      <th>14</th>\n",
       "      <td>896</td>\n",
       "      <td>938.200000</td>\n",
       "    </tr>\n",
       "    <tr>\n",
       "      <th>15</th>\n",
       "      <td>2033</td>\n",
       "      <td>1743.500000</td>\n",
       "    </tr>\n",
       "    <tr>\n",
       "      <th>16</th>\n",
       "      <td>862</td>\n",
       "      <td>1453.666667</td>\n",
       "    </tr>\n",
       "    <tr>\n",
       "      <th>17</th>\n",
       "      <td>968</td>\n",
       "      <td>926.600000</td>\n",
       "    </tr>\n",
       "    <tr>\n",
       "      <th>18</th>\n",
       "      <td>1574</td>\n",
       "      <td>2106.750000</td>\n",
       "    </tr>\n",
       "    <tr>\n",
       "      <th>19</th>\n",
       "      <td>1586</td>\n",
       "      <td>1447.666667</td>\n",
       "    </tr>\n",
       "    <tr>\n",
       "      <th>20</th>\n",
       "      <td>79</td>\n",
       "      <td>362.947368</td>\n",
       "    </tr>\n",
       "  </tbody>\n",
       "</table>\n",
       "</div>"
      ],
      "text/plain": [
       "     QTY    PREDICTED\n",
       "0     43   362.947368\n",
       "1   2069  1448.400000\n",
       "2   1758  1743.500000\n",
       "3   3691  1743.500000\n",
       "4   2240  1834.333333\n",
       "5    572   926.600000\n",
       "6   1504   938.200000\n",
       "7   1616  1447.666667\n",
       "8   1810   970.000000\n",
       "9    862  1453.666667\n",
       "10  1209   984.750000\n",
       "11  4035  2384.666667\n",
       "12   230   362.947368\n",
       "13   301   362.947368\n",
       "14   896   938.200000\n",
       "15  2033  1743.500000\n",
       "16   862  1453.666667\n",
       "17   968   926.600000\n",
       "18  1574  2106.750000\n",
       "19  1586  1447.666667\n",
       "20    79   362.947368"
      ]
     },
     "execution_count": 25,
     "metadata": {},
     "output_type": "execute_result"
    }
   ],
   "source": [
    "finalDf"
   ]
  },
  {
   "cell_type": "code",
   "execution_count": 26,
   "id": "b30862a8-94d4-43a9-92ea-8a9e009630ba",
   "metadata": {},
   "outputs": [
    {
     "data": {
      "text/plain": [
       "0.5651271729943226"
      ]
     },
     "execution_count": 26,
     "metadata": {},
     "output_type": "execute_result"
    }
   ],
   "source": [
    "model_method.score(tdData, tdLabel)"
   ]
  }
 ],
 "metadata": {
  "kernelspec": {
   "display_name": "Python 3 (ipykernel)",
   "language": "python",
   "name": "python3"
  },
  "language_info": {
   "codemirror_mode": {
    "name": "ipython",
    "version": 3
   },
   "file_extension": ".py",
   "mimetype": "text/x-python",
   "name": "python",
   "nbconvert_exporter": "python",
   "pygments_lexer": "ipython3",
   "version": "3.9.13"
  }
 },
 "nbformat": 4,
 "nbformat_minor": 5
}
