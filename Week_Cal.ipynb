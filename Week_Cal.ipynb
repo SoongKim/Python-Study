{
 "cells": [
  {
   "cell_type": "code",
   "execution_count": 23,
   "id": "c135340c-89b5-4ea5-865a-07199d199507",
   "metadata": {},
   "outputs": [],
   "source": [
    "from isoweek import Week\n",
    "# isoweek 함수에서 Week 모듈을 호출\n",
    "\n",
    "def weekCal(fromWeek, weeksAgo):\n",
    "    \"\"\"\"\"\n",
    "    fromWeek: YYYYWW형식으로 입력받아 기준 연/주차 데이터를 담는 변수입니다. int/str 타입의 입력이 모두 가능합니다. ex. 202314  ex2. \"202314\"\n",
    "    weeksAgo: 정수 형태로 입력받아 회귀주차 데이터를 담는 변수입니다. int/str 타입의 입력이 모두 가능합니다.        ex. 150     ex2. \"150\"\n",
    "    return result : 입력받은 현재 연/주차(fromWeek)에서 입력받은 회귀주차(weeksAgo)만큼 회귀한 연/주차 정보를 str타입으로 출력합니다. ex. '202135'\n",
    "    \"\"\"\"\"\n",
    "\n",
    "# fromWeek = 202312\n",
    "# weeksAgo = 100\n",
    "\n",
    "    # 01. 기초 변수 설정\n",
    "    \n",
    "    inputYear = int(str(fromWeek)[:4])\n",
    "    # inputYear 변수에 입력받은 fromWeek의 0~3번 인덱스 값을 정수 타입으로 저장. 이후 대상 연도 데이터로 사용.\n",
    "    \n",
    "    inputWeeks = int(str(fromWeek)[4:])\n",
    "    # inputWeeks 변수에 입력받은 fromWeek 변수의 4~마지막 인덱스 값을 정수 타입으로 저장. 이후 기준 주차 데이터로 사용.\n",
    "\n",
    "    weeksAgo = int(weeksAgo)\n",
    "    # weeksAgo 변수의 타입을 int 타입으로 형변환\n",
    "    \n",
    "    \n",
    "    # 02. 연산\n",
    "    \n",
    "    # 02-1. 현재 주차 값이 회귀 주차 값보다 큰 경우\n",
    "    \n",
    "    if(inputWeeks - weeksAgo > 0):\n",
    "            result = str(inputYear) + str(inputWeeks - weeksAgo).zfill(2)\n",
    "    # 01) 현재 주차에서 회귀 주차를 감한 값을 주차 데이터로 사용.\n",
    "    # 02) 연도 데이터와 주차 데이터를 각각 문자열 타입으로 형변환하여 합한다.\n",
    "    # 03) zfill 함수를 사용하여 해당하는 숫자가 10보다 작은 경우, 앞에 0을 붙여 출력하도록 조정한다.\n",
    "            \n",
    "        \n",
    "    # 02-2. 현재 주차 값이 회귀 주차 값보다 작은 경우\n",
    "    \n",
    "    else:\n",
    "        remainWeeks = weeksAgo - inputWeeks\n",
    "        # remainWeeks 변수에 회귀주차 - 현재 주차 값을 저장.\n",
    "        \n",
    "        inputYear = inputYear - 1\n",
    "        # 기준 연도 데이터에서 1을 감하고, 해당 값을 기준 연도 데이터에 저장.\n",
    "        \n",
    "        maxWeeks = Week.last_week_of_year(inputYear).week\n",
    "        # isoweek 함수로부터 last_week_of_year(대상년도).week 함수를 호출하여 대상 년도의 최종 주차 값을 호출\n",
    "        # 이후 해당 값을 maxWeeks 변수에 저장.\n",
    "        \n",
    "        #이하 while문 연산\n",
    "        \n",
    "        while remainWeeks > maxWeeks:\n",
    "        # 만약 남은 필요 회귀 주차가 기준 년도의 최종 주차보다 크거나 같다면\n",
    "        \n",
    "            remainWeeks = remainWeeks -maxWeeks\n",
    "            # remainWeeks(필요회귀주차)에서 대상년도 최종 주차 값을 감한 값을 새로 remainWeeks 변수에 담는다.\n",
    "            \n",
    "            inputYear = inputYear -1\n",
    "            # 이후 기준연도 데이터에서 1을 감한 값을 새로 기준년도 데이터에 담는다.\n",
    "\n",
    "            maxWeeks = Week.last_week_of_year(inputYear).week\n",
    "            # 대상년도 최종 주차 값 또한 새로 담긴 기준년도 데이터에 맞춰 새로 담는다.\n",
    "        \n",
    "        else:\n",
    "            pass\n",
    "        # 필요 회귀 주차가 기준 년도 최종 주차보다 작은 경우  wile문을 종료한다.\n",
    "        \n",
    "        maxWeeks = Week.last_week_of_year(inputYear).week - remainWeeks\n",
    "        # maxWeeks 변수에 대상년도 최종 주차값에서 잔존 회귀 주차를 제한 값을 담는다.\n",
    "        \n",
    "        result = str(inputYear) + str(maxWeeks).zfill(2)\n",
    "        # 대상년도 데이터와 잔존주차 데이터를 각각 문자열로 형변환하여 합한 값을 result에 담는다.\n",
    "        # zfill(2)를 통해 대상 값이 10보다 작은 경우, 앞에 0을 붙여 출력하도록 조정한다.\n",
    "        \n",
    "    return result"
   ]
  },
  {
   "cell_type": "code",
   "execution_count": 25,
   "id": "b57124ee-93c5-4471-901b-4676920712bd",
   "metadata": {},
   "outputs": [
    {
     "data": {
      "text/plain": [
       "'201452'"
      ]
     },
     "execution_count": 25,
     "metadata": {},
     "output_type": "execute_result"
    }
   ],
   "source": [
    "weekCal(201514, 14)"
   ]
  }
 ],
 "metadata": {
  "kernelspec": {
   "display_name": "Python 3 (ipykernel)",
   "language": "python",
   "name": "python3"
  },
  "language_info": {
   "codemirror_mode": {
    "name": "ipython",
    "version": 3
   },
   "file_extension": ".py",
   "mimetype": "text/x-python",
   "name": "python",
   "nbconvert_exporter": "python",
   "pygments_lexer": "ipython3",
   "version": "3.9.13"
  }
 },
 "nbformat": 4,
 "nbformat_minor": 5
}
