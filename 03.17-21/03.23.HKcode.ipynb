{
 "cells": [
  {
   "cell_type": "code",
   "execution_count": 1,
   "id": "bea5d8cc-2d39-433d-a755-05485ed3be4b",
   "metadata": {},
   "outputs": [],
   "source": [
    "# 03.23. 강의 시작."
   ]
  },
  {
   "cell_type": "code",
   "execution_count": null,
   "id": "aa2c5bed-caa1-4458-a56b-5fa9540d3a38",
   "metadata": {},
   "outputs": [],
   "source": [
    "# 분석에서도 2중 포문을 사용할 예정(크롤링)\n",
    "# 그래도 자주 사용하지는 않는다."
   ]
  },
  {
   "cell_type": "code",
   "execution_count": null,
   "id": "47fd1ebc-7388-43d3-86c5-78efe3bfc4c4",
   "metadata": {},
   "outputs": [],
   "source": [
    "# break: 반복문 탈출(성능 향상 코드로 애용한다.) 자신을 감싸고 있는 반복문 단 하나만을 탈출.\n",
    "#        단 한 개의 반복문만을 탈출한다는 의미이다. if문은 탈출 안해.\n",
    "# continue: 반복문에서 다음 단계로 넘어간다. 충족되면 그냥 넘어가! 라는 의미로.\n",
    "# pass: 특정 오류 조건 스킵 시 활용 빈도가 높다."
   ]
  },
  {
   "cell_type": "code",
   "execution_count": null,
   "id": "19c73006-3174-4bef-a38e-30e9d1a8e503",
   "metadata": {},
   "outputs": [],
   "source": [
    "# ex 예시"
   ]
  },
  {
   "cell_type": "code",
   "execution_count": 12,
   "id": "6719ff27-5ae5-4b19-88cd-366d00cb8a57",
   "metadata": {},
   "outputs": [
    {
     "name": "stdout",
     "output_type": "stream",
     "text": [
      "[]\n"
     ]
    }
   ],
   "source": [
    "model = [\"MODEL01\", \"MODEL02\"]\n",
    "attatedModel = []\n",
    "for i in range(0, len(model)):\n",
    "    if(model[i] == \"MODEL01\"):\n",
    "        break\n",
    "        attatedModel.append(model[i])\n",
    "    print(model[i])\n",
    "print(attatedModel)"
   ]
  },
  {
   "cell_type": "code",
   "execution_count": 13,
   "id": "6fb96d81-7904-4d3b-b731-213bd6d7fced",
   "metadata": {},
   "outputs": [],
   "source": [
    "# break를 만난 시점에 바로 for문이 종료돼버린다."
   ]
  },
  {
   "cell_type": "code",
   "execution_count": 23,
   "id": "e364d8a0-35f1-4175-8f34-08510444e4ca",
   "metadata": {},
   "outputs": [],
   "source": [
    "recallProduct = \"MODEL02\""
   ]
  },
  {
   "cell_type": "code",
   "execution_count": 24,
   "id": "c2c40701-f6ea-4785-b905-528afd5c1de1",
   "metadata": {},
   "outputs": [],
   "source": [
    "productList = [\"MODEL01\", \"MODEL02\", \"MODEL03\"]"
   ]
  },
  {
   "cell_type": "code",
   "execution_count": null,
   "id": "a3dac4a9-831a-4e30-bc8d-00ee14482656",
   "metadata": {},
   "outputs": [],
   "source": [
    "# 내 로직"
   ]
  },
  {
   "cell_type": "code",
   "execution_count": 32,
   "id": "c4487775-87ab-4410-b8b6-0721cd0daa9b",
   "metadata": {},
   "outputs": [
    {
     "name": "stdout",
     "output_type": "stream",
     "text": [
      "2 번 제품\n"
     ]
    }
   ],
   "source": [
    "for i in range(0, len(productList)):\n",
    "    \n",
    "    if(productList[i] == recallProduct):\n",
    "        \n",
    "        print((i+1),\"번 제품\")"
   ]
  },
  {
   "cell_type": "code",
   "execution_count": null,
   "id": "f2da2715-b4e6-42dd-9d2a-dfd807e90630",
   "metadata": {},
   "outputs": [],
   "source": [
    "# 교수님 로직"
   ]
  },
  {
   "cell_type": "code",
   "execution_count": 35,
   "id": "e8a18b00-46f8-4505-a08a-97a7bf98b5e6",
   "metadata": {},
   "outputs": [
    {
     "name": "stdout",
     "output_type": "stream",
     "text": [
      "MODEL02\n"
     ]
    }
   ],
   "source": [
    "for i in range(0, len(productList)):\n",
    "    if(productList[i] == recallProduct):\n",
    "        print(productList[i])\n",
    "        break"
   ]
  },
  {
   "cell_type": "code",
   "execution_count": 36,
   "id": "ec044c9a-797d-4bdb-bfa0-08e3c99793e2",
   "metadata": {},
   "outputs": [],
   "source": [
    "# 예시"
   ]
  },
  {
   "cell_type": "code",
   "execution_count": 37,
   "id": "a37a769b-84c3-49be-9889-28c05534ff4c",
   "metadata": {},
   "outputs": [
    {
     "name": "stdout",
     "output_type": "stream",
     "text": [
      "MODEL02\n"
     ]
    }
   ],
   "source": [
    "model2 = [\"MODEL01\", \"MODEL02\"]\n",
    "attatedModel02 = []\n",
    "\n",
    "for i in range(0, len(model2)):\n",
    "    if(model2[i] == \"MODEL01\"):\n",
    "        continue\n",
    "    print(model2[i])"
   ]
  },
  {
   "cell_type": "code",
   "execution_count": 40,
   "id": "ad6e304c-0a7d-445a-84cc-7486d6296365",
   "metadata": {},
   "outputs": [
    {
     "name": "stdout",
     "output_type": "stream",
     "text": [
      "MODEL01\n",
      "MODEL03\n"
     ]
    }
   ],
   "source": [
    "for i in range(0, len(productList)):\n",
    "    if(productList[i] == recallProduct):\n",
    "        continue\n",
    "    print(productList[i])"
   ]
  },
  {
   "cell_type": "code",
   "execution_count": 41,
   "id": "532d52e8-e7ae-4c11-a667-3b86a9c87384",
   "metadata": {},
   "outputs": [
    {
     "name": "stdout",
     "output_type": "stream",
     "text": [
      "MODEL01\n",
      "MODEL02\n",
      "MODEL03\n"
     ]
    }
   ],
   "source": [
    "for i in range(0, len(productList)):\n",
    "    if productList[i] == recallProduct:\n",
    "        pass\n",
    "    print(productList[i])"
   ]
  },
  {
   "cell_type": "code",
   "execution_count": 42,
   "id": "37b3b43f-8b28-43ce-840d-f0616d9e3b16",
   "metadata": {},
   "outputs": [],
   "source": [
    "# 예제 끝"
   ]
  },
  {
   "cell_type": "code",
   "execution_count": 62,
   "id": "d93d0133-6d7b-4ba3-a683-25e8ef2187d7",
   "metadata": {},
   "outputs": [],
   "source": [
    "# 예외 처리를 했을 때와 안 했을 때.\n",
    "\n",
    "# 예외 처리를 잘 하면 프로그램이 죽지 않는다. 살릴 수 있다.\n",
    "\n",
    "# 예외 처리를 하지 않으면 프로그램이 죽어 버린다."
   ]
  },
  {
   "cell_type": "code",
   "execution_count": 63,
   "id": "803dad6c-0efe-4835-b546-cc031eb3c04f",
   "metadata": {},
   "outputs": [],
   "source": [
    "import pandas as pd"
   ]
  },
  {
   "cell_type": "code",
   "execution_count": 64,
   "id": "61e9dfe8-9d5d-4eb3-8894-9c34adf0a393",
   "metadata": {
    "collapsed": true,
    "jupyter": {
     "outputs_hidden": true
    },
    "tags": []
   },
   "outputs": [
    {
     "data": {
      "text/html": [
       "<div>\n",
       "<style scoped>\n",
       "    .dataframe tbody tr th:only-of-type {\n",
       "        vertical-align: middle;\n",
       "    }\n",
       "\n",
       "    .dataframe tbody tr th {\n",
       "        vertical-align: top;\n",
       "    }\n",
       "\n",
       "    .dataframe thead th {\n",
       "        text-align: right;\n",
       "    }\n",
       "</style>\n",
       "<table border=\"1\" class=\"dataframe\">\n",
       "  <thead>\n",
       "    <tr style=\"text-align: right;\">\n",
       "      <th></th>\n",
       "      <th>REGIONID</th>\n",
       "      <th>PRODUCTGROUP</th>\n",
       "      <th>YEARWEEK</th>\n",
       "      <th>VOLUME</th>\n",
       "    </tr>\n",
       "  </thead>\n",
       "  <tbody>\n",
       "    <tr>\n",
       "      <th>0</th>\n",
       "      <td>A01</td>\n",
       "      <td>ST0001</td>\n",
       "      <td>201415</td>\n",
       "      <td>810144</td>\n",
       "    </tr>\n",
       "    <tr>\n",
       "      <th>1</th>\n",
       "      <td>A01</td>\n",
       "      <td>ST0002</td>\n",
       "      <td>201415</td>\n",
       "      <td>128999</td>\n",
       "    </tr>\n",
       "    <tr>\n",
       "      <th>2</th>\n",
       "      <td>A01</td>\n",
       "      <td>ST0001</td>\n",
       "      <td>201418</td>\n",
       "      <td>671464</td>\n",
       "    </tr>\n",
       "    <tr>\n",
       "      <th>3</th>\n",
       "      <td>A01</td>\n",
       "      <td>ST0002</td>\n",
       "      <td>201418</td>\n",
       "      <td>134467</td>\n",
       "    </tr>\n",
       "    <tr>\n",
       "      <th>4</th>\n",
       "      <td>A01</td>\n",
       "      <td>ST0001</td>\n",
       "      <td>201413</td>\n",
       "      <td>470040</td>\n",
       "    </tr>\n",
       "    <tr>\n",
       "      <th>...</th>\n",
       "      <td>...</td>\n",
       "      <td>...</td>\n",
       "      <td>...</td>\n",
       "      <td>...</td>\n",
       "    </tr>\n",
       "    <tr>\n",
       "      <th>260</th>\n",
       "      <td>A01</td>\n",
       "      <td>ST0002</td>\n",
       "      <td>201614</td>\n",
       "      <td>148835</td>\n",
       "    </tr>\n",
       "    <tr>\n",
       "      <th>261</th>\n",
       "      <td>A01</td>\n",
       "      <td>ST0001</td>\n",
       "      <td>201641</td>\n",
       "      <td>746061</td>\n",
       "    </tr>\n",
       "    <tr>\n",
       "      <th>262</th>\n",
       "      <td>A01</td>\n",
       "      <td>ST0002</td>\n",
       "      <td>201412</td>\n",
       "      <td>151750</td>\n",
       "    </tr>\n",
       "    <tr>\n",
       "      <th>263</th>\n",
       "      <td>A01</td>\n",
       "      <td>ST0001</td>\n",
       "      <td>201420</td>\n",
       "      <td>645626</td>\n",
       "    </tr>\n",
       "    <tr>\n",
       "      <th>264</th>\n",
       "      <td>A01</td>\n",
       "      <td>ST0002</td>\n",
       "      <td>201420</td>\n",
       "      <td>125863</td>\n",
       "    </tr>\n",
       "  </tbody>\n",
       "</table>\n",
       "<p>265 rows × 4 columns</p>\n",
       "</div>"
      ],
      "text/plain": [
       "    REGIONID PRODUCTGROUP  YEARWEEK  VOLUME\n",
       "0        A01       ST0001    201415  810144\n",
       "1        A01       ST0002    201415  128999\n",
       "2        A01       ST0001    201418  671464\n",
       "3        A01       ST0002    201418  134467\n",
       "4        A01       ST0001    201413  470040\n",
       "..       ...          ...       ...     ...\n",
       "260      A01       ST0002    201614  148835\n",
       "261      A01       ST0001    201641  746061\n",
       "262      A01       ST0002    201412  151750\n",
       "263      A01       ST0001    201420  645626\n",
       "264      A01       ST0002    201420  125863\n",
       "\n",
       "[265 rows x 4 columns]"
      ]
     },
     "execution_count": 64,
     "metadata": {},
     "output_type": "execute_result"
    }
   ],
   "source": [
    "pd.read_csv(\"../../../SMART16/stdcode6/dataset/kopo_product_volume0.csv\")"
   ]
  },
  {
   "cell_type": "code",
   "execution_count": 65,
   "id": "25c52bb3-b9ed-4f95-aac1-798b95012d03",
   "metadata": {},
   "outputs": [],
   "source": [
    "dataSum = []"
   ]
  },
  {
   "cell_type": "code",
   "execution_count": 71,
   "id": "f3434082-429d-4618-ac08-163d13aad155",
   "metadata": {},
   "outputs": [
    {
     "name": "stdout",
     "output_type": "stream",
     "text": [
      "../../stdcode6/dataset/kopo_product_volume.csv\n",
      "name 'dataSm' is not defined\n",
      "../../stdcode6/dataset/kopo_product_volume.csv\n",
      "name 'dataSm' is not defined\n",
      "../../stdcode6/dataset/kopo_product_volume.csv\n",
      "name 'dataSm' is not defined\n"
     ]
    }
   ],
   "source": [
    "for i in range(0, 3):\n",
    "    #데이터를 시퀀셜하게 읽어서 datasum 리스트에 추가한다.\n",
    "    loadFileName = \"../../stdcode6/dataset/kopo_product_volume.csv\".format(i)\n",
    "    print(loadFileName)\n",
    "    try:\n",
    "        dataSum.append( pd.read_csv(loadFileName))\n",
    "    except Exception as e:\n",
    "        print(e)"
   ]
  },
  {
   "cell_type": "code",
   "execution_count": 74,
   "id": "fb5dae3b-5e3e-4a36-9f80-d5d86d02a598",
   "metadata": {},
   "outputs": [
    {
     "name": "stdout",
     "output_type": "stream",
     "text": [
      "../../stdcode6/dataset/kopo_product_volume.csv\n",
      "../../stdcode6/dataset/kopo_product_volume.csv\n",
      "../../stdcode6/dataset/kopo_product_volume.csv\n"
     ]
    }
   ],
   "source": [
    "for i in range(0, 3):\n",
    "    loadFileName = \"../../stdcode6/dataset/kopo_product_volume.csv\".format(i)\n",
    "    print(loadFileName)\n",
    "    try:\n",
    "        dataSum.append(pd.read_csv(loadFileName))\n",
    "    except Exception as e:\n",
    "        print(e)"
   ]
  },
  {
   "cell_type": "code",
   "execution_count": 75,
   "id": "6f1eeaea-b6df-4a45-88af-2409740c64b2",
   "metadata": {},
   "outputs": [],
   "source": [
    "import pandas as pd"
   ]
  },
  {
   "cell_type": "code",
   "execution_count": 78,
   "id": "fc0f53c9-02e6-45b4-972e-c72b28d5b72b",
   "metadata": {
    "tags": []
   },
   "outputs": [],
   "source": [
    "indata = pd.read_csv(\"../../stdcode6/dataset/kopo_customerdata.csv\")"
   ]
  },
  {
   "cell_type": "code",
   "execution_count": 80,
   "id": "e86db30a-a477-4b47-a044-6698d070e106",
   "metadata": {
    "collapsed": true,
    "jupyter": {
     "outputs_hidden": true
    },
    "tags": []
   },
   "outputs": [
    {
     "data": {
      "text/html": [
       "<div>\n",
       "<style scoped>\n",
       "    .dataframe tbody tr th:only-of-type {\n",
       "        vertical-align: middle;\n",
       "    }\n",
       "\n",
       "    .dataframe tbody tr th {\n",
       "        vertical-align: top;\n",
       "    }\n",
       "\n",
       "    .dataframe thead th {\n",
       "        text-align: right;\n",
       "    }\n",
       "</style>\n",
       "<table border=\"1\" class=\"dataframe\">\n",
       "  <thead>\n",
       "    <tr style=\"text-align: right;\">\n",
       "      <th></th>\n",
       "      <th>CUSTOMERCODE</th>\n",
       "      <th>STATENAME</th>\n",
       "      <th>ST</th>\n",
       "      <th>GENDER</th>\n",
       "      <th>DOB</th>\n",
       "      <th>GENDER1</th>\n",
       "      <th>EMAIL</th>\n",
       "      <th>FEST_CNT</th>\n",
       "      <th>TOTAL_AMOUNT</th>\n",
       "      <th>AC_AMOUNT</th>\n",
       "      <th>AV_AMOUNT</th>\n",
       "      <th>HA_AMOUNT</th>\n",
       "      <th>EMI_CE_AMOUNT</th>\n",
       "      <th>IS_HIGHEND</th>\n",
       "      <th>CNT_VIST</th>\n",
       "      <th>GAP_VISIT</th>\n",
       "    </tr>\n",
       "  </thead>\n",
       "  <tbody>\n",
       "    <tr>\n",
       "      <th>0</th>\n",
       "      <td>1503989</td>\n",
       "      <td>State2</td>\n",
       "      <td>2</td>\n",
       "      <td>Male</td>\n",
       "      <td>0</td>\n",
       "      <td>1</td>\n",
       "      <td>1</td>\n",
       "      <td>0</td>\n",
       "      <td>30300</td>\n",
       "      <td>0</td>\n",
       "      <td>30300</td>\n",
       "      <td>0</td>\n",
       "      <td>0</td>\n",
       "      <td>0</td>\n",
       "      <td>1</td>\n",
       "      <td>0</td>\n",
       "    </tr>\n",
       "    <tr>\n",
       "      <th>1</th>\n",
       "      <td>1190338</td>\n",
       "      <td>State2</td>\n",
       "      <td>2</td>\n",
       "      <td>Male</td>\n",
       "      <td>0</td>\n",
       "      <td>1</td>\n",
       "      <td>0</td>\n",
       "      <td>1</td>\n",
       "      <td>46500</td>\n",
       "      <td>0</td>\n",
       "      <td>46500</td>\n",
       "      <td>0</td>\n",
       "      <td>0</td>\n",
       "      <td>0</td>\n",
       "      <td>1</td>\n",
       "      <td>0</td>\n",
       "    </tr>\n",
       "    <tr>\n",
       "      <th>2</th>\n",
       "      <td>1424715</td>\n",
       "      <td>State2</td>\n",
       "      <td>2</td>\n",
       "      <td>Female</td>\n",
       "      <td>0</td>\n",
       "      <td>2</td>\n",
       "      <td>0</td>\n",
       "      <td>0</td>\n",
       "      <td>22700</td>\n",
       "      <td>0</td>\n",
       "      <td>0</td>\n",
       "      <td>22700</td>\n",
       "      <td>0</td>\n",
       "      <td>0</td>\n",
       "      <td>1</td>\n",
       "      <td>0</td>\n",
       "    </tr>\n",
       "    <tr>\n",
       "      <th>3</th>\n",
       "      <td>2483305</td>\n",
       "      <td>State2</td>\n",
       "      <td>2</td>\n",
       "      <td>Male</td>\n",
       "      <td>0</td>\n",
       "      <td>1</td>\n",
       "      <td>0</td>\n",
       "      <td>1</td>\n",
       "      <td>31400</td>\n",
       "      <td>0</td>\n",
       "      <td>31400</td>\n",
       "      <td>0</td>\n",
       "      <td>0</td>\n",
       "      <td>0</td>\n",
       "      <td>1</td>\n",
       "      <td>0</td>\n",
       "    </tr>\n",
       "    <tr>\n",
       "      <th>4</th>\n",
       "      <td>1178802</td>\n",
       "      <td>State2</td>\n",
       "      <td>2</td>\n",
       "      <td>Male</td>\n",
       "      <td>0</td>\n",
       "      <td>1</td>\n",
       "      <td>0</td>\n",
       "      <td>1</td>\n",
       "      <td>44900</td>\n",
       "      <td>0</td>\n",
       "      <td>0</td>\n",
       "      <td>44900</td>\n",
       "      <td>0</td>\n",
       "      <td>0</td>\n",
       "      <td>1</td>\n",
       "      <td>0</td>\n",
       "    </tr>\n",
       "    <tr>\n",
       "      <th>...</th>\n",
       "      <td>...</td>\n",
       "      <td>...</td>\n",
       "      <td>...</td>\n",
       "      <td>...</td>\n",
       "      <td>...</td>\n",
       "      <td>...</td>\n",
       "      <td>...</td>\n",
       "      <td>...</td>\n",
       "      <td>...</td>\n",
       "      <td>...</td>\n",
       "      <td>...</td>\n",
       "      <td>...</td>\n",
       "      <td>...</td>\n",
       "      <td>...</td>\n",
       "      <td>...</td>\n",
       "      <td>...</td>\n",
       "    </tr>\n",
       "    <tr>\n",
       "      <th>299995</th>\n",
       "      <td>465757</td>\n",
       "      <td>State1</td>\n",
       "      <td>1</td>\n",
       "      <td>Male</td>\n",
       "      <td>0</td>\n",
       "      <td>1</td>\n",
       "      <td>0</td>\n",
       "      <td>0</td>\n",
       "      <td>40600</td>\n",
       "      <td>0</td>\n",
       "      <td>40600</td>\n",
       "      <td>0</td>\n",
       "      <td>0</td>\n",
       "      <td>0</td>\n",
       "      <td>1</td>\n",
       "      <td>0</td>\n",
       "    </tr>\n",
       "    <tr>\n",
       "      <th>299996</th>\n",
       "      <td>1890264</td>\n",
       "      <td>State1</td>\n",
       "      <td>1</td>\n",
       "      <td>Male</td>\n",
       "      <td>0</td>\n",
       "      <td>1</td>\n",
       "      <td>0</td>\n",
       "      <td>1</td>\n",
       "      <td>48000</td>\n",
       "      <td>48000</td>\n",
       "      <td>0</td>\n",
       "      <td>0</td>\n",
       "      <td>0</td>\n",
       "      <td>0</td>\n",
       "      <td>1</td>\n",
       "      <td>0</td>\n",
       "    </tr>\n",
       "    <tr>\n",
       "      <th>299997</th>\n",
       "      <td>1857537</td>\n",
       "      <td>State1</td>\n",
       "      <td>1</td>\n",
       "      <td>Female</td>\n",
       "      <td>0</td>\n",
       "      <td>2</td>\n",
       "      <td>0</td>\n",
       "      <td>0</td>\n",
       "      <td>32300</td>\n",
       "      <td>0</td>\n",
       "      <td>0</td>\n",
       "      <td>32300</td>\n",
       "      <td>0</td>\n",
       "      <td>0</td>\n",
       "      <td>1</td>\n",
       "      <td>0</td>\n",
       "    </tr>\n",
       "    <tr>\n",
       "      <th>299998</th>\n",
       "      <td>2209324</td>\n",
       "      <td>State1</td>\n",
       "      <td>1</td>\n",
       "      <td>Male</td>\n",
       "      <td>0</td>\n",
       "      <td>1</td>\n",
       "      <td>0</td>\n",
       "      <td>1</td>\n",
       "      <td>48500</td>\n",
       "      <td>0</td>\n",
       "      <td>48500</td>\n",
       "      <td>0</td>\n",
       "      <td>0</td>\n",
       "      <td>0</td>\n",
       "      <td>1</td>\n",
       "      <td>0</td>\n",
       "    </tr>\n",
       "    <tr>\n",
       "      <th>299999</th>\n",
       "      <td>1875146</td>\n",
       "      <td>State1</td>\n",
       "      <td>1</td>\n",
       "      <td>Male</td>\n",
       "      <td>0</td>\n",
       "      <td>1</td>\n",
       "      <td>0</td>\n",
       "      <td>1</td>\n",
       "      <td>16500</td>\n",
       "      <td>0</td>\n",
       "      <td>0</td>\n",
       "      <td>16500</td>\n",
       "      <td>0</td>\n",
       "      <td>0</td>\n",
       "      <td>1</td>\n",
       "      <td>0</td>\n",
       "    </tr>\n",
       "  </tbody>\n",
       "</table>\n",
       "<p>300000 rows × 16 columns</p>\n",
       "</div>"
      ],
      "text/plain": [
       "        CUSTOMERCODE STATENAME  ST  GENDER  DOB  GENDER1  EMAIL  FEST_CNT  \\\n",
       "0            1503989    State2   2    Male    0        1      1         0   \n",
       "1            1190338    State2   2    Male    0        1      0         1   \n",
       "2            1424715    State2   2  Female    0        2      0         0   \n",
       "3            2483305    State2   2    Male    0        1      0         1   \n",
       "4            1178802    State2   2    Male    0        1      0         1   \n",
       "...              ...       ...  ..     ...  ...      ...    ...       ...   \n",
       "299995        465757    State1   1    Male    0        1      0         0   \n",
       "299996       1890264    State1   1    Male    0        1      0         1   \n",
       "299997       1857537    State1   1  Female    0        2      0         0   \n",
       "299998       2209324    State1   1    Male    0        1      0         1   \n",
       "299999       1875146    State1   1    Male    0        1      0         1   \n",
       "\n",
       "        TOTAL_AMOUNT  AC_AMOUNT  AV_AMOUNT  HA_AMOUNT  EMI_CE_AMOUNT  \\\n",
       "0              30300          0      30300          0              0   \n",
       "1              46500          0      46500          0              0   \n",
       "2              22700          0          0      22700              0   \n",
       "3              31400          0      31400          0              0   \n",
       "4              44900          0          0      44900              0   \n",
       "...              ...        ...        ...        ...            ...   \n",
       "299995         40600          0      40600          0              0   \n",
       "299996         48000      48000          0          0              0   \n",
       "299997         32300          0          0      32300              0   \n",
       "299998         48500          0      48500          0              0   \n",
       "299999         16500          0          0      16500              0   \n",
       "\n",
       "        IS_HIGHEND  CNT_VIST  GAP_VISIT  \n",
       "0                0         1          0  \n",
       "1                0         1          0  \n",
       "2                0         1          0  \n",
       "3                0         1          0  \n",
       "4                0         1          0  \n",
       "...            ...       ...        ...  \n",
       "299995           0         1          0  \n",
       "299996           0         1          0  \n",
       "299997           0         1          0  \n",
       "299998           0         1          0  \n",
       "299999           0         1          0  \n",
       "\n",
       "[300000 rows x 16 columns]"
      ]
     },
     "execution_count": 80,
     "metadata": {},
     "output_type": "execute_result"
    }
   ],
   "source": [
    "indata"
   ]
  },
  {
   "cell_type": "code",
   "execution_count": 79,
   "id": "246c54a5-c7f0-407f-a280-5157aaa1750f",
   "metadata": {
    "collapsed": true,
    "jupyter": {
     "outputs_hidden": true
    },
    "tags": []
   },
   "outputs": [
    {
     "data": {
      "text/plain": [
       "CUSTOMERCODE      int64\n",
       "STATENAME        object\n",
       "ST                int64\n",
       "GENDER           object\n",
       "DOB               int64\n",
       "GENDER1           int64\n",
       "EMAIL             int64\n",
       "FEST_CNT          int64\n",
       "TOTAL_AMOUNT      int64\n",
       "AC_AMOUNT         int64\n",
       "AV_AMOUNT         int64\n",
       "HA_AMOUNT         int64\n",
       "EMI_CE_AMOUNT     int64\n",
       "IS_HIGHEND        int64\n",
       "CNT_VIST          int64\n",
       "GAP_VISIT         int64\n",
       "dtype: object"
      ]
     },
     "execution_count": 79,
     "metadata": {},
     "output_type": "execute_result"
    }
   ],
   "source": [
    "indata.dtypes"
   ]
  },
  {
   "cell_type": "code",
   "execution_count": 81,
   "id": "f385e84c-8879-4235-b45f-72ee72211898",
   "metadata": {},
   "outputs": [],
   "source": [
    "# 컬럼의 타입을 변경시키는 코드(전체 컬럼을 float로 바꿔보자)\n",
    "indata.CUSTOMERCODE = indata.CUSTOMERCODE.astype(float)"
   ]
  },
  {
   "cell_type": "code",
   "execution_count": 85,
   "id": "350d216f-f9ed-4174-8574-2daf83666f9c",
   "metadata": {
    "tags": []
   },
   "outputs": [],
   "source": [
    "columnList = indata.columns"
   ]
  },
  {
   "cell_type": "code",
   "execution_count": 86,
   "id": "a6b3eb8f-1ee2-466c-9a6c-cc1dfb7f3781",
   "metadata": {
    "tags": []
   },
   "outputs": [
    {
     "data": {
      "text/plain": [
       "Index(['CUSTOMERCODE', 'STATENAME', 'ST', 'GENDER', 'DOB', 'GENDER1', 'EMAIL',\n",
       "       'FEST_CNT', 'TOTAL_AMOUNT', 'AC_AMOUNT', 'AV_AMOUNT', 'HA_AMOUNT',\n",
       "       'EMI_CE_AMOUNT', 'IS_HIGHEND', 'CNT_VIST', 'GAP_VISIT'],\n",
       "      dtype='object')"
      ]
     },
     "execution_count": 86,
     "metadata": {},
     "output_type": "execute_result"
    }
   ],
   "source": [
    "columnList"
   ]
  },
  {
   "cell_type": "code",
   "execution_count": 122,
   "id": "dc308835-a7aa-403b-9986-a7885cca123d",
   "metadata": {},
   "outputs": [
    {
     "data": {
      "text/plain": [
       "16"
      ]
     },
     "execution_count": 122,
     "metadata": {},
     "output_type": "execute_result"
    }
   ],
   "source": [
    "len(columnList)"
   ]
  },
  {
   "cell_type": "code",
   "execution_count": 123,
   "id": "a786674d-ea42-4d7f-bfc5-c067d470a450",
   "metadata": {},
   "outputs": [
    {
     "data": {
      "text/plain": [
       "CUSTOMERCODE     float64\n",
       "STATENAME         object\n",
       "ST                 int64\n",
       "GENDER            object\n",
       "DOB                int64\n",
       "GENDER1            int64\n",
       "EMAIL              int64\n",
       "FEST_CNT           int64\n",
       "TOTAL_AMOUNT       int64\n",
       "AC_AMOUNT          int64\n",
       "AV_AMOUNT          int64\n",
       "HA_AMOUNT          int64\n",
       "EMI_CE_AMOUNT      int64\n",
       "IS_HIGHEND         int64\n",
       "CNT_VIST           int64\n",
       "GAP_VISIT          int64\n",
       "dtype: object"
      ]
     },
     "execution_count": 123,
     "metadata": {},
     "output_type": "execute_result"
    }
   ],
   "source": [
    "indata.dtypes"
   ]
  },
  {
   "cell_type": "code",
   "execution_count": 131,
   "id": "0fa1e4c4-76ca-4c29-8477-a28eb70c78a3",
   "metadata": {
    "tags": []
   },
   "outputs": [
    {
     "name": "stdout",
     "output_type": "stream",
     "text": [
      "CUSTOMERCODE\n",
      "STATENAME\n",
      "could not convert string to float: 'State2'\n",
      "ST\n",
      "GENDER\n",
      "could not convert string to float: 'Male'\n",
      "DOB\n",
      "GENDER1\n",
      "EMAIL\n",
      "FEST_CNT\n",
      "TOTAL_AMOUNT\n",
      "AC_AMOUNT\n",
      "AV_AMOUNT\n",
      "HA_AMOUNT\n",
      "EMI_CE_AMOUNT\n",
      "IS_HIGHEND\n",
      "CNT_VIST\n",
      "GAP_VISIT\n"
     ]
    }
   ],
   "source": [
    "for i in range(0, len(columnList)):\n",
    "    targetColumn = columnList[i]\n",
    "    print(targetColumn)\n",
    "    # 타입 변경(기존 타입 -> float)\n",
    "    try:\n",
    "        indata[targetColumn] = indata[targetColumn].astype(float)\n",
    "    # 타입을 못 바꾸는 경우 오류 메시지 출력. 에러는 발생되지 않음.\n",
    "    except Exception as e:\n",
    "        print(e)"
   ]
  },
  {
   "cell_type": "code",
   "execution_count": 132,
   "id": "44b56958-e94a-45ca-a700-bb81707da4df",
   "metadata": {
    "collapsed": true,
    "jupyter": {
     "outputs_hidden": true
    },
    "tags": []
   },
   "outputs": [
    {
     "data": {
      "text/plain": [
       "CUSTOMERCODE     float64\n",
       "STATENAME         object\n",
       "ST               float64\n",
       "GENDER            object\n",
       "DOB              float64\n",
       "GENDER1          float64\n",
       "EMAIL            float64\n",
       "FEST_CNT         float64\n",
       "TOTAL_AMOUNT     float64\n",
       "AC_AMOUNT        float64\n",
       "AV_AMOUNT        float64\n",
       "HA_AMOUNT        float64\n",
       "EMI_CE_AMOUNT    float64\n",
       "IS_HIGHEND       float64\n",
       "CNT_VIST         float64\n",
       "GAP_VISIT        float64\n",
       "dtype: object"
      ]
     },
     "execution_count": 132,
     "metadata": {},
     "output_type": "execute_result"
    }
   ],
   "source": [
    "indata.dtypes"
   ]
  },
  {
   "cell_type": "code",
   "execution_count": 21,
   "id": "b5ab3f43-9c3b-49bc-8c81-df5abd33538c",
   "metadata": {},
   "outputs": [],
   "source": [
    "import pandas as pd"
   ]
  },
  {
   "cell_type": "code",
   "execution_count": 22,
   "id": "45ac3eb4-7955-4595-9eee-47d8b40b5a1e",
   "metadata": {},
   "outputs": [],
   "source": [
    "custData = pd.read_csv(\"../../stdcode6/dataset/kopo_customerdata.csv\")"
   ]
  },
  {
   "cell_type": "code",
   "execution_count": 23,
   "id": "750d5928-ed62-4a61-9596-fc899b165dfa",
   "metadata": {
    "tags": []
   },
   "outputs": [],
   "source": [
    "columnList02 = custData.columns"
   ]
  },
  {
   "cell_type": "code",
   "execution_count": 24,
   "id": "9822d8c4-451d-42b6-9f38-bb763920a9fb",
   "metadata": {},
   "outputs": [
    {
     "data": {
      "text/plain": [
       "Index(['CUSTOMERCODE', 'STATENAME', 'ST', 'GENDER', 'DOB', 'GENDER1', 'EMAIL',\n",
       "       'FEST_CNT', 'TOTAL_AMOUNT', 'AC_AMOUNT', 'AV_AMOUNT', 'HA_AMOUNT',\n",
       "       'EMI_CE_AMOUNT', 'IS_HIGHEND', 'CNT_VIST', 'GAP_VISIT'],\n",
       "      dtype='object')"
      ]
     },
     "execution_count": 24,
     "metadata": {},
     "output_type": "execute_result"
    }
   ],
   "source": [
    "columnList02"
   ]
  },
  {
   "cell_type": "code",
   "execution_count": 156,
   "id": "706dd11e-6880-4ce1-9bec-13620b8ca419",
   "metadata": {},
   "outputs": [
    {
     "name": "stdout",
     "output_type": "stream",
     "text": [
      "could not convert string to float: 'State2'\n",
      "could not convert string to float: 'Male'\n"
     ]
    }
   ],
   "source": [
    "for i in range(0, len(columnList02)):\n",
    "    #print(columnList02)\n",
    "    try:\n",
    "        custData[columnList02[i]] = custData[columnList02[i]].astype(float)\n",
    "    except Exception as e:\n",
    "        print(e)"
   ]
  },
  {
   "cell_type": "code",
   "execution_count": 26,
   "id": "96c48145-516d-4e20-8c11-650d466b09dc",
   "metadata": {},
   "outputs": [
    {
     "data": {
      "text/plain": [
       "Index(['CUSTOMERCODE', 'STATENAME', 'ST', 'GENDER', 'DOB', 'GENDER1', 'EMAIL',\n",
       "       'FEST_CNT', 'TOTAL_AMOUNT', 'AC_AMOUNT', 'AV_AMOUNT', 'HA_AMOUNT',\n",
       "       'EMI_CE_AMOUNT', 'IS_HIGHEND', 'CNT_VIST', 'GAP_VISIT'],\n",
       "      dtype='object')"
      ]
     },
     "execution_count": 26,
     "metadata": {},
     "output_type": "execute_result"
    }
   ],
   "source": [
    "for i in range(0, len(columnList02)):\n",
    "    try:\n",
    "        custData[columnList02[i]] = custData[columnList02[i]].astype(float)\n",
    "    except:\n",
    "        continue\n",
    "    # 타입이 문자인 경우 오류가 발생할 수 있음\n",
    "columnList02"
   ]
  },
  {
   "cell_type": "code",
   "execution_count": 29,
   "id": "2f085772-3556-42ac-9f57-8e3c33a54ec3",
   "metadata": {},
   "outputs": [],
   "source": [
    "typeData = type(custData.loc[0, \"STATENAME\"])"
   ]
  },
  {
   "cell_type": "code",
   "execution_count": 32,
   "id": "a04d2145-ddbe-41e0-9f7e-4bd38f105188",
   "metadata": {},
   "outputs": [],
   "source": [
    "for i in range(0, len(columnList02)):\n",
    "    targetColumn = columnList02[i]\n",
    "    continue\n",
    "    if(typeData == str):\n",
    "        print(\"{}컬럼은 문자열이기 떄문에 continue 탐\".format(targetColumn))\n",
    "    custData[targetColumn] = custData[targetColumn].astype(float)\n",
    "    ## 위와 같은 코드는 좀..."
   ]
  },
  {
   "cell_type": "code",
   "execution_count": 34,
   "id": "2047b1b3-1c5f-4b4e-9acc-701a068fbdf0",
   "metadata": {
    "collapsed": true,
    "jupyter": {
     "outputs_hidden": true
    },
    "tags": []
   },
   "outputs": [
    {
     "data": {
      "text/plain": [
       "CUSTOMERCODE     float64\n",
       "STATENAME         object\n",
       "ST               float64\n",
       "GENDER            object\n",
       "DOB              float64\n",
       "GENDER1          float64\n",
       "EMAIL            float64\n",
       "FEST_CNT         float64\n",
       "TOTAL_AMOUNT     float64\n",
       "AC_AMOUNT        float64\n",
       "AV_AMOUNT        float64\n",
       "HA_AMOUNT        float64\n",
       "EMI_CE_AMOUNT    float64\n",
       "IS_HIGHEND       float64\n",
       "CNT_VIST         float64\n",
       "GAP_VISIT        float64\n",
       "dtype: object"
      ]
     },
     "execution_count": 34,
     "metadata": {},
     "output_type": "execute_result"
    }
   ],
   "source": [
    "custData.dtypes"
   ]
  },
  {
   "cell_type": "code",
   "execution_count": 37,
   "id": "110ef5b5-4de2-4f28-9c2b-eee76d6c706e",
   "metadata": {},
   "outputs": [
    {
     "data": {
      "text/plain": [
       "Index(['CUSTOMERCODE', 'STATENAME', 'ST', 'GENDER', 'DOB', 'GENDER1', 'EMAIL',\n",
       "       'FEST_CNT', 'TOTAL_AMOUNT', 'AC_AMOUNT', 'AV_AMOUNT', 'HA_AMOUNT',\n",
       "       'EMI_CE_AMOUNT', 'IS_HIGHEND', 'CNT_VIST', 'GAP_VISIT'],\n",
       "      dtype='object')"
      ]
     },
     "execution_count": 37,
     "metadata": {},
     "output_type": "execute_result"
    }
   ],
   "source": [
    "columnList02"
   ]
  },
  {
   "cell_type": "code",
   "execution_count": null,
   "id": "ed11ba1a-a135-45e8-b9e5-e59efa016746",
   "metadata": {},
   "outputs": [],
   "source": []
  },
  {
   "cell_type": "code",
   "execution_count": 112,
   "id": "9109a9cb-ba96-4d10-8628-f49a4936d89b",
   "metadata": {
    "collapsed": true,
    "jupyter": {
     "outputs_hidden": true
    },
    "tags": []
   },
   "outputs": [
    {
     "ename": "AttributeError",
     "evalue": "'DataFrame' object has no attribute 'columnList'",
     "output_type": "error",
     "traceback": [
      "\u001b[1;31m---------------------------------------------------------------------------\u001b[0m",
      "\u001b[1;31mAttributeError\u001b[0m                            Traceback (most recent call last)",
      "\u001b[1;32m~\\AppData\\Local\\Temp\\ipykernel_1128\\1604863388.py\u001b[0m in \u001b[0;36m<module>\u001b[1;34m\u001b[0m\n\u001b[0;32m      1\u001b[0m \u001b[0mnewColumnList\u001b[0m \u001b[1;33m=\u001b[0m \u001b[1;33m[\u001b[0m\u001b[1;33m]\u001b[0m\u001b[1;33m\u001b[0m\u001b[1;33m\u001b[0m\u001b[0m\n\u001b[0;32m      2\u001b[0m \u001b[1;32mfor\u001b[0m \u001b[0mi\u001b[0m \u001b[1;32min\u001b[0m \u001b[0mrange\u001b[0m\u001b[1;33m(\u001b[0m\u001b[1;36m0\u001b[0m\u001b[1;33m,\u001b[0m \u001b[0mlen\u001b[0m\u001b[1;33m(\u001b[0m\u001b[0mcolumnList\u001b[0m\u001b[1;33m)\u001b[0m\u001b[1;33m)\u001b[0m\u001b[1;33m:\u001b[0m\u001b[1;33m\u001b[0m\u001b[1;33m\u001b[0m\u001b[0m\n\u001b[1;32m----> 3\u001b[1;33m         \u001b[0mindata\u001b[0m\u001b[1;33m.\u001b[0m\u001b[0mcolumnList\u001b[0m\u001b[1;33m[\u001b[0m\u001b[0mi\u001b[0m\u001b[1;33m]\u001b[0m \u001b[1;33m=\u001b[0m \u001b[0mindata\u001b[0m\u001b[1;33m.\u001b[0m\u001b[0mcolumnList\u001b[0m\u001b[1;33m[\u001b[0m\u001b[0mi\u001b[0m\u001b[1;33m]\u001b[0m\u001b[1;33m.\u001b[0m\u001b[0mastype\u001b[0m\u001b[1;33m(\u001b[0m\u001b[0mfloat\u001b[0m\u001b[1;33m)\u001b[0m\u001b[1;33m\u001b[0m\u001b[1;33m\u001b[0m\u001b[0m\n\u001b[0m\u001b[0;32m      4\u001b[0m     \u001b[1;31m#try:\u001b[0m\u001b[1;33m\u001b[0m\u001b[1;33m\u001b[0m\u001b[0m\n\u001b[0;32m      5\u001b[0m     \u001b[1;31m#    indata.columnList[i] = indata.columnList[i].astype(float)\u001b[0m\u001b[1;33m\u001b[0m\u001b[1;33m\u001b[0m\u001b[0m\n",
      "\u001b[1;32m~\\anaconda3\\lib\\site-packages\\pandas\\core\\generic.py\u001b[0m in \u001b[0;36m__getattr__\u001b[1;34m(self, name)\u001b[0m\n\u001b[0;32m   5573\u001b[0m         ):\n\u001b[0;32m   5574\u001b[0m             \u001b[1;32mreturn\u001b[0m \u001b[0mself\u001b[0m\u001b[1;33m[\u001b[0m\u001b[0mname\u001b[0m\u001b[1;33m]\u001b[0m\u001b[1;33m\u001b[0m\u001b[1;33m\u001b[0m\u001b[0m\n\u001b[1;32m-> 5575\u001b[1;33m         \u001b[1;32mreturn\u001b[0m \u001b[0mobject\u001b[0m\u001b[1;33m.\u001b[0m\u001b[0m__getattribute__\u001b[0m\u001b[1;33m(\u001b[0m\u001b[0mself\u001b[0m\u001b[1;33m,\u001b[0m \u001b[0mname\u001b[0m\u001b[1;33m)\u001b[0m\u001b[1;33m\u001b[0m\u001b[1;33m\u001b[0m\u001b[0m\n\u001b[0m\u001b[0;32m   5576\u001b[0m \u001b[1;33m\u001b[0m\u001b[0m\n\u001b[0;32m   5577\u001b[0m     \u001b[1;32mdef\u001b[0m \u001b[0m__setattr__\u001b[0m\u001b[1;33m(\u001b[0m\u001b[0mself\u001b[0m\u001b[1;33m,\u001b[0m \u001b[0mname\u001b[0m\u001b[1;33m:\u001b[0m \u001b[0mstr\u001b[0m\u001b[1;33m,\u001b[0m \u001b[0mvalue\u001b[0m\u001b[1;33m)\u001b[0m \u001b[1;33m->\u001b[0m \u001b[1;32mNone\u001b[0m\u001b[1;33m:\u001b[0m\u001b[1;33m\u001b[0m\u001b[1;33m\u001b[0m\u001b[0m\n",
      "\u001b[1;31mAttributeError\u001b[0m: 'DataFrame' object has no attribute 'columnList'"
     ]
    }
   ],
   "source": [
    "# 오류가 출력되는 내 코드...\n",
    "#newColumnList = []\n",
    "#for i in range(0, len(columnList)):\n",
    "#        indata.columnList[i] = indata.columnList[i].astype(float)\n",
    "    #try:\n",
    "    #    indata.columnList[i] = indata.columnList[i].astype(float)\n",
    "        #columnList = newColumnList.append(columnList[i].astype(float))\n",
    "    #except Exception as exception:\n",
    "        # print(e)"
   ]
  },
  {
   "cell_type": "code",
   "execution_count": null,
   "id": "bfb5ac8c-5f02-44c5-b5c9-9c2926f37b86",
   "metadata": {},
   "outputs": [],
   "source": []
  },
  {
   "cell_type": "code",
   "execution_count": null,
   "id": "ee4b140c-d79f-4a04-9fb4-f5cdb7b73a72",
   "metadata": {},
   "outputs": [],
   "source": []
  }
 ],
 "metadata": {
  "kernelspec": {
   "display_name": "Python 3 (ipykernel)",
   "language": "python",
   "name": "python3"
  },
  "language_info": {
   "codemirror_mode": {
    "name": "ipython",
    "version": 3
   },
   "file_extension": ".py",
   "mimetype": "text/x-python",
   "name": "python",
   "nbconvert_exporter": "python",
   "pygments_lexer": "ipython3",
   "version": "3.9.13"
  }
 },
 "nbformat": 4,
 "nbformat_minor": 5
}
