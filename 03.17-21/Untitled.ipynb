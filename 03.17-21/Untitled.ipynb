{
 "cells": [
  {
   "cell_type": "code",
   "execution_count": 1,
   "id": "e87767fd-80ff-46c4-9565-509ddce8172d",
   "metadata": {},
   "outputs": [],
   "source": [
    "from isoweek import Week"
   ]
  },
  {
   "cell_type": "code",
   "execution_count": 2,
   "id": "2f7b1b98-6e66-4366-9889-b5934dbfcd3b",
   "metadata": {},
   "outputs": [],
   "source": [
    "currYear = 2023"
   ]
  },
  {
   "cell_type": "code",
   "execution_count": 5,
   "id": "db270ef1-72ae-4975-8616-9aa8cadc9258",
   "metadata": {},
   "outputs": [
    {
     "data": {
      "text/plain": [
       "52"
      ]
     },
     "execution_count": 5,
     "metadata": {},
     "output_type": "execute_result"
    }
   ],
   "source": [
    "Week.last_week_of_year(currYear).week"
   ]
  },
  {
   "cell_type": "code",
   "execution_count": 6,
   "id": "4bd706cb-82b7-48da-84f2-213c8b114a2e",
   "metadata": {},
   "outputs": [],
   "source": [
    "currYear02 = 2022"
   ]
  },
  {
   "cell_type": "code",
   "execution_count": 9,
   "id": "e4380ad0-909c-4fbb-bdb0-0f752f3f8c0d",
   "metadata": {},
   "outputs": [
    {
     "data": {
      "text/plain": [
       "52"
      ]
     },
     "execution_count": 9,
     "metadata": {},
     "output_type": "execute_result"
    }
   ],
   "source": [
    "Week.last_week_of_year(currYear02).week"
   ]
  },
  {
   "cell_type": "code",
   "execution_count": 8,
   "id": "56c6b720-c09e-4422-98d9-0a399ab7c12d",
   "metadata": {},
   "outputs": [],
   "source": [
    "currYear03 = 2021"
   ]
  },
  {
   "cell_type": "code",
   "execution_count": 10,
   "id": "6a768b49-3e6f-4bb7-98b3-61b561cdb672",
   "metadata": {},
   "outputs": [
    {
     "data": {
      "text/plain": [
       "52"
      ]
     },
     "execution_count": 10,
     "metadata": {},
     "output_type": "execute_result"
    }
   ],
   "source": [
    "Week.last_week_of_year(currYear03).week"
   ]
  },
  {
   "cell_type": "code",
   "execution_count": 11,
   "id": "bd636f1e-c6e2-4698-b9f6-5f5bdd2bcb2c",
   "metadata": {},
   "outputs": [],
   "source": [
    "currYear04 = 2020"
   ]
  },
  {
   "cell_type": "code",
   "execution_count": 72,
   "id": "5159b4f9-0b19-4a42-9e54-a0afb4140e12",
   "metadata": {},
   "outputs": [
    {
     "data": {
      "text/plain": [
       "53"
      ]
     },
     "execution_count": 72,
     "metadata": {},
     "output_type": "execute_result"
    }
   ],
   "source": [
    "Week.last_week_of_year(currYear04).week"
   ]
  },
  {
   "cell_type": "code",
   "execution_count": 70,
   "id": "85d43d3c-6da6-4d41-9d76-0a77c59513d8",
   "metadata": {},
   "outputs": [
    {
     "name": "stdout",
     "output_type": "stream",
     "text": [
      "2000\n",
      "52\n",
      "2001\n",
      "52\n",
      "2002\n",
      "52\n",
      "2003\n",
      "52\n",
      "2004\n",
      "53\n",
      "2005\n",
      "52\n",
      "2006\n",
      "52\n",
      "2007\n",
      "52\n",
      "2008\n",
      "52\n",
      "2009\n",
      "53\n",
      "2010\n",
      "52\n",
      "2011\n",
      "52\n",
      "2012\n",
      "52\n",
      "2013\n",
      "52\n",
      "2014\n",
      "52\n",
      "2015\n",
      "53\n",
      "2016\n",
      "52\n",
      "2017\n",
      "52\n",
      "2018\n",
      "52\n",
      "2019\n",
      "52\n"
     ]
    }
   ],
   "source": [
    "for i in range(targetYear, variable01, -1):\n",
    "    "
   ]
  },
  {
   "cell_type": "code",
   "execution_count": 45,
   "id": "b13f0ebd-3311-45fc-9f7e-5c96aa9509e6",
   "metadata": {},
   "outputs": [],
   "source": [
    "import datetime as dt"
   ]
  },
  {
   "cell_type": "code",
   "execution_count": 46,
   "id": "e4635c07-9a17-4810-9823-076042ee57f3",
   "metadata": {},
   "outputs": [],
   "source": [
    "CurrentNow = dt.datetime.now()"
   ]
  },
  {
   "cell_type": "code",
   "execution_count": 47,
   "id": "d116888a-7bfd-492c-bfbb-cb1d08621897",
   "metadata": {},
   "outputs": [
    {
     "data": {
      "text/plain": [
       "datetime.datetime(2023, 3, 23, 12, 55, 1, 361386)"
      ]
     },
     "execution_count": 47,
     "metadata": {},
     "output_type": "execute_result"
    }
   ],
   "source": [
    "CurrentNow"
   ]
  },
  {
   "cell_type": "code",
   "execution_count": 49,
   "id": "97cb676c-c20b-4260-810f-5bd50ea63c5a",
   "metadata": {},
   "outputs": [
    {
     "data": {
      "text/plain": [
       "2023"
      ]
     },
     "execution_count": 49,
     "metadata": {},
     "output_type": "execute_result"
    }
   ],
   "source": [
    "currentYear = CurrentNow.year\n",
    "currentYear"
   ]
  },
  {
   "cell_type": "code",
   "execution_count": 50,
   "id": "facb77bf-4a4a-4356-a685-1361a6940f06",
   "metadata": {},
   "outputs": [
    {
     "data": {
      "text/plain": [
       "3"
      ]
     },
     "execution_count": 50,
     "metadata": {},
     "output_type": "execute_result"
    }
   ],
   "source": [
    "currentMonth = CurrentNow.month\n",
    "currentMonth"
   ]
  },
  {
   "cell_type": "code",
   "execution_count": 53,
   "id": "da291990-33a9-47e8-9b11-83aa9e3f0eaf",
   "metadata": {},
   "outputs": [
    {
     "data": {
      "text/plain": [
       "23"
      ]
     },
     "execution_count": 53,
     "metadata": {},
     "output_type": "execute_result"
    }
   ],
   "source": [
    "currentDay = CurrentNow.day\n",
    "currentDay"
   ]
  },
  {
   "cell_type": "code",
   "execution_count": 61,
   "id": "711ce742-8b54-476b-b210-5bc4aa53b5fd",
   "metadata": {},
   "outputs": [],
   "source": [
    "currentMonth = 6"
   ]
  },
  {
   "cell_type": "code",
   "execution_count": 62,
   "id": "f8dfc7aa-5efa-41d1-a599-8779cc213942",
   "metadata": {},
   "outputs": [
    {
     "name": "stdout",
     "output_type": "stream",
     "text": [
      "30 일까지 있습니다.\n"
     ]
    }
   ],
   "source": [
    "if(currentMonth%2 == 1):\n",
    "    print(31,\"일까지 있습니다.\")\n",
    "elif(currentMonth != 2):\n",
    "    print(30, \"일까지 있습니다.\")\n",
    "else:\n",
    "    print(28, \"일까지 있습니다.\")"
   ]
  },
  {
   "cell_type": "code",
   "execution_count": 16,
   "id": "11d180b3-8371-4263-bd2c-ee386062d70e",
   "metadata": {},
   "outputs": [
    {
     "data": {
      "text/plain": [
       "52"
      ]
     },
     "execution_count": 16,
     "metadata": {},
     "output_type": "execute_result"
    }
   ],
   "source": [
    "Week.last_week_of_year(currYear05).week"
   ]
  },
  {
   "cell_type": "code",
   "execution_count": 4,
   "id": "b8347763-1a8a-4124-8e01-e06d90a03f7a",
   "metadata": {},
   "outputs": [],
   "source": [
    "lastWeek = Week.last_week_of_year(currYear).week"
   ]
  },
  {
   "cell_type": "code",
   "execution_count": null,
   "id": "f6dee3be-f01a-4826-8f43-78ab942ca820",
   "metadata": {},
   "outputs": [],
   "source": [
    "preWeek(variable01, variable02)"
   ]
  },
  {
   "cell_type": "code",
   "execution_count": null,
   "id": "339f8df3-d520-43e5-96eb-61f42c45ed99",
   "metadata": {},
   "outputs": [],
   "source": [
    "# variable01에 대상 주차를 입력"
   ]
  },
  {
   "cell_type": "code",
   "execution_count": null,
   "id": "8035c8dc-b3d8-4291-93d2-e924d165df63",
   "metadata": {},
   "outputs": [],
   "source": [
    "# variable02에 몇 주 전을 원하는지 입력"
   ]
  },
  {
   "cell_type": "code",
   "execution_count": null,
   "id": "63feea86-a4c5-4ed1-8056-047ce05ba215",
   "metadata": {},
   "outputs": [],
   "source": [
    "# if(lastWeek == 52):\n",
    "#     totalWeek = 52\n",
    "# elif(lastWeek == 53):\n",
    "#     totalWeek = 53"
   ]
  },
  {
   "cell_type": "code",
   "execution_count": null,
   "id": "84d53723-e6d0-4e4e-8c41-b5e0e50d2e2f",
   "metadata": {},
   "outputs": [],
   "source": []
  },
  {
   "cell_type": "code",
   "execution_count": null,
   "id": "efc8cf7d-f5b8-4474-8eca-daf4eb69b4ff",
   "metadata": {},
   "outputs": [],
   "source": []
  },
  {
   "cell_type": "code",
   "execution_count": null,
   "id": "11248df9-4d3c-4047-82a8-a2a2ad482d33",
   "metadata": {},
   "outputs": [],
   "source": []
  },
  {
   "cell_type": "code",
   "execution_count": null,
   "id": "7e206faf-11d5-4a30-b471-82c3c1512fab",
   "metadata": {},
   "outputs": [],
   "source": []
  },
  {
   "cell_type": "code",
   "execution_count": null,
   "id": "0a979bb3-1dfd-4c37-a0a2-629ee42d026c",
   "metadata": {},
   "outputs": [],
   "source": []
  },
  {
   "cell_type": "code",
   "execution_count": 73,
   "id": "4169a4a1-9b4e-41fa-ad52-a5566fc2acef",
   "metadata": {},
   "outputs": [],
   "source": [
    "import datetime as dt"
   ]
  },
  {
   "cell_type": "code",
   "execution_count": 101,
   "id": "83c11fc8-6d37-4130-96d0-82968cf02c03",
   "metadata": {},
   "outputs": [
    {
     "data": {
      "text/plain": [
       "datetime.datetime(2023, 3, 23, 13, 41, 57, 115935)"
      ]
     },
     "execution_count": 101,
     "metadata": {},
     "output_type": "execute_result"
    }
   ],
   "source": [
    "dt.datetime.now()"
   ]
  },
  {
   "cell_type": "code",
   "execution_count": 83,
   "id": "6e90d3a7-5452-4124-949d-c998a1513ff3",
   "metadata": {},
   "outputs": [],
   "source": [
    "isoCalender = dt.datetime.now().isocalendar()"
   ]
  },
  {
   "cell_type": "code",
   "execution_count": 93,
   "id": "db56c02b-f57c-4417-b791-4e2c5da3ed84",
   "metadata": {},
   "outputs": [
    {
     "data": {
      "text/plain": [
       "12"
      ]
     },
     "execution_count": 93,
     "metadata": {},
     "output_type": "execute_result"
    }
   ],
   "source": [
    "isoCalender.week"
   ]
  },
  {
   "cell_type": "code",
   "execution_count": 89,
   "id": "605912e8-3953-44cb-b801-7de12aca620d",
   "metadata": {},
   "outputs": [
    {
     "data": {
      "text/plain": [
       "2023"
      ]
     },
     "execution_count": 89,
     "metadata": {},
     "output_type": "execute_result"
    }
   ],
   "source": [
    "presentYear = dt.datetime.\n",
    "presentYear"
   ]
  },
  {
   "cell_type": "code",
   "execution_count": 84,
   "id": "446a5a0e-3c56-4791-97f2-8779435b8c88",
   "metadata": {},
   "outputs": [
    {
     "data": {
      "text/plain": [
       "12"
      ]
     },
     "execution_count": 84,
     "metadata": {},
     "output_type": "execute_result"
    }
   ],
   "source": [
    "presentWeek.week"
   ]
  },
  {
   "cell_type": "code",
   "execution_count": null,
   "id": "7d9f4200-b975-41e1-baf1-2064ae66a794",
   "metadata": {},
   "outputs": [],
   "source": [
    "userInput = (var01, var02)"
   ]
  },
  {
   "cell_type": "code",
   "execution_count": null,
   "id": "240bf969-6582-4a02-a101-7e4c8cfcc824",
   "metadata": {},
   "outputs": [],
   "source": [
    "# 3-1. Data01 = presentWeek.week"
   ]
  },
  {
   "cell_type": "code",
   "execution_count": null,
   "id": "84f9cf0c-9d00-4f59-aafc-b07256b89606",
   "metadata": {},
   "outputs": [],
   "source": [
    "# 12가 나왔습니다."
   ]
  },
  {
   "cell_type": "code",
   "execution_count": null,
   "id": "41564a05-0e03-4b96-872b-a12f8bcc19d9",
   "metadata": {},
   "outputs": [],
   "source": [
    "# 3-2. 중간에 끼인 년도의 주차수 확인하기."
   ]
  },
  {
   "cell_type": "code",
   "execution_count": null,
   "id": "bba4aa73-2a7f-46df-8ed2-08917996409c",
   "metadata": {},
   "outputs": [],
   "source": [
    "for i in range(presentYear, targetYear, -1):\n",
    "    if(dt.datetime.now(presentYear).isocalendar()"
   ]
  },
  {
   "cell_type": "code",
   "execution_count": null,
   "id": "2dc4b093-d33a-4acb-a4a9-01d9db5c040c",
   "metadata": {},
   "outputs": [],
   "source": []
  },
  {
   "cell_type": "code",
   "execution_count": null,
   "id": "bedc8949-529a-49a3-b960-1dbb4c4f9476",
   "metadata": {},
   "outputs": [],
   "source": []
  },
  {
   "cell_type": "code",
   "execution_count": null,
   "id": "42a19606-f4f7-489a-9729-7cea22f82025",
   "metadata": {},
   "outputs": [],
   "source": []
  },
  {
   "cell_type": "code",
   "execution_count": null,
   "id": "6f55e7e0-0899-4d31-a546-724b40d73807",
   "metadata": {},
   "outputs": [],
   "source": []
  },
  {
   "cell_type": "code",
   "execution_count": null,
   "id": "05c4ff6b-835a-4e1a-bce1-14a196dee676",
   "metadata": {},
   "outputs": [],
   "source": []
  },
  {
   "cell_type": "code",
   "execution_count": null,
   "id": "5d3f8372-7468-429a-a30b-c9342c659e4d",
   "metadata": {},
   "outputs": [],
   "source": []
  },
  {
   "cell_type": "code",
   "execution_count": null,
   "id": "bdd10b50-0087-4eda-8946-79010db16884",
   "metadata": {},
   "outputs": [],
   "source": []
  },
  {
   "cell_type": "code",
   "execution_count": null,
   "id": "dae4a288-7626-4595-a313-465f52ca53ea",
   "metadata": {},
   "outputs": [],
   "source": []
  },
  {
   "cell_type": "code",
   "execution_count": null,
   "id": "a2be14dd-f862-4bf1-8f37-5a5fe584a69f",
   "metadata": {},
   "outputs": [],
   "source": []
  },
  {
   "cell_type": "code",
   "execution_count": null,
   "id": "54e54e4c-f251-43e5-ad7a-94273b0e1a80",
   "metadata": {},
   "outputs": [],
   "source": []
  },
  {
   "cell_type": "code",
   "execution_count": null,
   "id": "162b1b73-ea49-4c24-8be0-7d85a468b3b0",
   "metadata": {},
   "outputs": [],
   "source": []
  },
  {
   "cell_type": "code",
   "execution_count": null,
   "id": "95efb786-02a7-4c7f-b037-653b8edab716",
   "metadata": {},
   "outputs": [],
   "source": []
  },
  {
   "cell_type": "code",
   "execution_count": null,
   "id": "92c5797a-8ba0-407e-82f8-1174b38a7e37",
   "metadata": {},
   "outputs": [],
   "source": []
  },
  {
   "cell_type": "code",
   "execution_count": null,
   "id": "97efd68b-3dcf-4712-a6e4-b5f6bf54fdbe",
   "metadata": {},
   "outputs": [],
   "source": []
  },
  {
   "cell_type": "code",
   "execution_count": null,
   "id": "b222dd87-81e5-4a3f-b09c-9a6dc0216da6",
   "metadata": {},
   "outputs": [],
   "source": []
  },
  {
   "cell_type": "code",
   "execution_count": null,
   "id": "08a97002-5bc0-458c-8af9-ad5aefc3dd1e",
   "metadata": {},
   "outputs": [],
   "source": []
  },
  {
   "cell_type": "code",
   "execution_count": null,
   "id": "a7e62b14-cec6-410b-bf9c-c48c5d135e2b",
   "metadata": {},
   "outputs": [],
   "source": []
  },
  {
   "cell_type": "code",
   "execution_count": null,
   "id": "b98d6836-92ba-4357-9ba8-51f458d0f9bb",
   "metadata": {},
   "outputs": [],
   "source": []
  },
  {
   "cell_type": "code",
   "execution_count": null,
   "id": "1f568a5d-6f15-4b33-891d-c42e704003c9",
   "metadata": {},
   "outputs": [],
   "source": []
  },
  {
   "cell_type": "code",
   "execution_count": null,
   "id": "5621d354-9201-4d62-9abe-37f696236886",
   "metadata": {},
   "outputs": [],
   "source": []
  },
  {
   "cell_type": "code",
   "execution_count": null,
   "id": "7ff94f1a-3bbf-4094-a118-79cb1daf4af5",
   "metadata": {},
   "outputs": [],
   "source": []
  },
  {
   "cell_type": "code",
   "execution_count": null,
   "id": "ae62d7b0-d1d7-40cf-891e-9a17128a45b5",
   "metadata": {},
   "outputs": [],
   "source": []
  },
  {
   "cell_type": "code",
   "execution_count": null,
   "id": "96666e1e-90a0-427e-b022-0df387bd9350",
   "metadata": {},
   "outputs": [],
   "source": []
  },
  {
   "cell_type": "code",
   "execution_count": null,
   "id": "005ab979-f76b-49e4-873b-a7ce7eb60976",
   "metadata": {},
   "outputs": [],
   "source": []
  },
  {
   "cell_type": "code",
   "execution_count": null,
   "id": "b33b9ea5-a36f-455b-8a04-140477848e80",
   "metadata": {},
   "outputs": [],
   "source": []
  },
  {
   "cell_type": "code",
   "execution_count": null,
   "id": "719bcc53-7b56-4aad-8bda-5372b395fe4a",
   "metadata": {},
   "outputs": [],
   "source": []
  },
  {
   "cell_type": "code",
   "execution_count": null,
   "id": "da530d34-74f1-4470-a961-832ef1c9cddd",
   "metadata": {},
   "outputs": [],
   "source": []
  },
  {
   "cell_type": "code",
   "execution_count": null,
   "id": "c413344d-f001-4978-afe1-fbf638d06961",
   "metadata": {},
   "outputs": [],
   "source": []
  }
 ],
 "metadata": {
  "kernelspec": {
   "display_name": "Python 3 (ipykernel)",
   "language": "python",
   "name": "python3"
  },
  "language_info": {
   "codemirror_mode": {
    "name": "ipython",
    "version": 3
   },
   "file_extension": ".py",
   "mimetype": "text/x-python",
   "name": "python",
   "nbconvert_exporter": "python",
   "pygments_lexer": "ipython3",
   "version": "3.9.13"
  }
 },
 "nbformat": 4,
 "nbformat_minor": 5
}
