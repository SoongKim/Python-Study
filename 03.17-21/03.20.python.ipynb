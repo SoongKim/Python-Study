{
 "cells": [
  {
   "cell_type": "code",
   "execution_count": 1,
   "id": "6f8185f6-1508-40b8-a14f-b281922b787d",
   "metadata": {},
   "outputs": [
    {
     "ename": "SyntaxError",
     "evalue": "invalid syntax (1049718020.py, line 1)",
     "output_type": "error",
     "traceback": [
      "\u001b[1;36m  File \u001b[1;32m\"C:\\Users\\SMART16\\AppData\\Local\\Temp\\ipykernel_12464\\1049718020.py\"\u001b[1;36m, line \u001b[1;32m1\u001b[0m\n\u001b[1;33m    int[] num = {10, 11, 12, 13, 14, 15};\u001b[0m\n\u001b[1;37m        ^\u001b[0m\n\u001b[1;31mSyntaxError\u001b[0m\u001b[1;31m:\u001b[0m invalid syntax\n"
     ]
    }
   ],
   "source": [
    "int[] num = {10, 11, 12, 13, 14, 15};\n",
    "String[] weekDay = {\"월\", \"화\", \"수\", \"목\", \"금\", \"토\", \"일\"};"
   ]
  }
 ],
 "metadata": {
  "kernelspec": {
   "display_name": "Python 3 (ipykernel)",
   "language": "python",
   "name": "python3"
  },
  "language_info": {
   "codemirror_mode": {
    "name": "ipython",
    "version": 3
   },
   "file_extension": ".py",
   "mimetype": "text/x-python",
   "name": "python",
   "nbconvert_exporter": "python",
   "pygments_lexer": "ipython3",
   "version": "3.9.13"
  }
 },
 "nbformat": 4,
 "nbformat_minor": 5
}
