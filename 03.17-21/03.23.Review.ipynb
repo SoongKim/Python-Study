{
 "cells": [
  {
   "cell_type": "code",
   "execution_count": 1,
   "id": "bb822b44-ede6-4112-8bca-c9ba88b6f29a",
   "metadata": {},
   "outputs": [],
   "source": [
    "### 1. 함수 만들기"
   ]
  },
  {
   "cell_type": "code",
   "execution_count": null,
   "id": "148f1915-afd9-4801-a8cf-d020eb0f3e82",
   "metadata": {},
   "outputs": [],
   "source": [
    "# 두 변수를 입력받아서 두 수의 곱과 제곱 값을 제출한다."
   ]
  },
  {
   "cell_type": "code",
   "execution_count": 17,
   "id": "0161fd8b-0ce0-4e1b-8131-1aee0ab1f886",
   "metadata": {},
   "outputs": [],
   "source": [
    "def diffPowerFunc():\n",
    "    \"\"\"\n",
    "    _inFirstValue(double) : 첫 번째로 입력한 값.\n",
    "    _inSecondValue(double) : 두 번째로 입력한 값.\n",
    "    return : 두 값의 차를 제곱한 값.\n",
    "    \"\"\"\n",
    "    #디버깅용\n",
    "    #_inFirstValue = 10\n",
    "    #_inSecondValue = 5\n",
    "    #_squareNum = 2\n",
    "    _inFirstValue = int(input())\n",
    "    _inSecondValue = int(input())\n",
    "    _squareNum = int(input())\n",
    "    \n",
    "    _result = (inFirstValue - inSecondValue)**_squareNum\n",
    "\n",
    "    return _result"
   ]
  },
  {
   "cell_type": "code",
   "execution_count": 19,
   "id": "0f6d1fd5-c289-4b35-a800-ba06f729e345",
   "metadata": {},
   "outputs": [
    {
     "name": "stdin",
     "output_type": "stream",
     "text": [
      " 10\n",
      " 5\n",
      " 2\n"
     ]
    },
    {
     "data": {
      "text/plain": [
       "25"
      ]
     },
     "execution_count": 19,
     "metadata": {},
     "output_type": "execute_result"
    }
   ],
   "source": [
    "diffPowerFunc()"
   ]
  }
 ],
 "metadata": {
  "kernelspec": {
   "display_name": "Python 3 (ipykernel)",
   "language": "python",
   "name": "python3"
  },
  "language_info": {
   "codemirror_mode": {
    "name": "ipython",
    "version": 3
   },
   "file_extension": ".py",
   "mimetype": "text/x-python",
   "name": "python",
   "nbconvert_exporter": "python",
   "pygments_lexer": "ipython3",
   "version": "3.9.13"
  }
 },
 "nbformat": 4,
 "nbformat_minor": 5
}
