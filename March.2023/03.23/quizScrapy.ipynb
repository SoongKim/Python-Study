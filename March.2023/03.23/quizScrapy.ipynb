{
 "cells": [
  {
   "cell_type": "code",
   "execution_count": 1,
   "id": "395d3a34-ecd1-4032-bb0e-032b27acb15b",
   "metadata": {},
   "outputs": [],
   "source": [
    "import pandas as pd"
   ]
  },
  {
   "cell_type": "code",
   "execution_count": 2,
   "id": "29a4d811-718e-44bc-87aa-dfa20ec89fb0",
   "metadata": {},
   "outputs": [],
   "source": [
    "import bs4, requests"
   ]
  },
  {
   "cell_type": "code",
   "execution_count": 3,
   "id": "583964a7-3f98-4d6c-85e4-0ea4d5936fcc",
   "metadata": {},
   "outputs": [],
   "source": [
    "targetUrl = \"https://sparkkorea.com/%ed%80%b4%ec%a6%88/\""
   ]
  },
  {
   "cell_type": "code",
   "execution_count": 4,
   "id": "92894543-0e7f-4178-a28c-8b4ceafaab4c",
   "metadata": {},
   "outputs": [],
   "source": [
    "try:\n",
    "    resp = requests.get(targetUrl)\n",
    "except Exception as e:\n",
    "    print(e)"
   ]
  },
  {
   "cell_type": "code",
   "execution_count": 5,
   "id": "50c1baff-4b8e-4214-9d18-2c741945d0dc",
   "metadata": {},
   "outputs": [],
   "source": [
    "webPageSrc = resp.text"
   ]
  },
  {
   "cell_type": "code",
   "execution_count": 6,
   "id": "c3eb55f3-6815-4efa-960c-41dcbd524784",
   "metadata": {},
   "outputs": [],
   "source": [
    "htmlobj = bs4.BeautifulSoup(webPageSrc, \"html.parser\")"
   ]
  },
  {
   "cell_type": "code",
   "execution_count": 7,
   "id": "a3f8a282-714f-4272-8d56-6b369f3970b4",
   "metadata": {},
   "outputs": [],
   "source": [
    "divs = htmlobj.findAll(name = \"div\")"
   ]
  },
  {
   "cell_type": "code",
   "execution_count": 8,
   "id": "16465bd5-da35-4fa4-bcaf-46adf0b56962",
   "metadata": {},
   "outputs": [],
   "source": [
    "aTagFirst = htmlobj.find(name = \"a\")"
   ]
  },
  {
   "cell_type": "code",
   "execution_count": 9,
   "id": "5bf41864-b1ff-4e2a-969d-988967e968ca",
   "metadata": {},
   "outputs": [],
   "source": [
    "aTags = htmlobj.findAll(\"a\")"
   ]
  },
  {
   "cell_type": "code",
   "execution_count": 10,
   "id": "eae875b9-6a0f-4b9e-911f-ffb1eb69b4e4",
   "metadata": {},
   "outputs": [],
   "source": [
    "linkList = []"
   ]
  },
  {
   "cell_type": "code",
   "execution_count": 11,
   "id": "4cd53f26-2d32-4a4b-8e8d-5ba157d32640",
   "metadata": {},
   "outputs": [
    {
     "name": "stdout",
     "output_type": "stream",
     "text": [
      "'href'\n"
     ]
    }
   ],
   "source": [
    "for i in range(0, len(aTags)):\n",
    "    try:\n",
    "        linkList.append(aTags[i].attrs[\"href\"])\n",
    "    except Exception as e:\n",
    "        print(e)"
   ]
  },
  {
   "cell_type": "code",
   "execution_count": 12,
   "id": "a8e98cb1-0949-4bb1-a43a-f2003b7f96b1",
   "metadata": {},
   "outputs": [],
   "source": [
    "targetTag = htmlobj.find(name = \"div\", attrs = {\"id\":\"id_spark_quiz\"})"
   ]
  },
  {
   "cell_type": "code",
   "execution_count": 13,
   "id": "cbc317e7-14e5-420d-b8bb-d4b2520a0f56",
   "metadata": {},
   "outputs": [
    {
     "data": {
      "text/plain": [
       "<div class=\"class_spark_quiz\" id=\"id_spark_quiz\">\n",
       "<h1>Spark 퀴즈 </h1>\n",
       "<a href=\"https://forms.gle/Fw49w9GhWQChDcZm7\"> 6/13 Spark 심화과정 </a>\n",
       "<p></p>\n",
       "<a href=\"https://forms.gle/G4TcXm3fKuHLHA6D6\"> 6/13 Spark 기본과정 </a>\n",
       "<p></p>\n",
       "<a href=\"https://forms.gle/M8gr1kC2ubA3UDVp8\"> 6/18 Spark [MAP_FILTER] </a>\n",
       "<p></p>\n",
       "<a href=\"https://forms.gle/h8w5mZ4MNaPLCPbi6\"> 6/18 Spark GroupBy 심화 </a>\n",
       "<p></p>\n",
       "<a href=\"https://forms.gle/q5yL6QHfueDLM5w27\"> 6/25 Spark RDD 실전 분석 </a>\n",
       "<p></p>\n",
       "<a href=\"https://forms.gle/Gxb4y6LfVYiaLu4M7\"> 6/27 Spark RDD 실전 분석2 </a>\n",
       "<p></p>\n",
       "</div>"
      ]
     },
     "execution_count": 13,
     "metadata": {},
     "output_type": "execute_result"
    }
   ],
   "source": [
    "targetTag"
   ]
  },
  {
   "cell_type": "code",
   "execution_count": 14,
   "id": "f2def08e-730b-4cb7-8b0a-af5cd335aa62",
   "metadata": {},
   "outputs": [],
   "source": [
    "aLinks = targetTag.findAll(name = \"a\")"
   ]
  },
  {
   "cell_type": "code",
   "execution_count": 15,
   "id": "3709bda2-5466-4c2b-a40d-7984ca1585e3",
   "metadata": {},
   "outputs": [
    {
     "name": "stdout",
     "output_type": "stream",
     "text": [
      "https://forms.gle/Fw49w9GhWQChDcZm7\n",
      "https://forms.gle/G4TcXm3fKuHLHA6D6\n",
      "https://forms.gle/M8gr1kC2ubA3UDVp8\n",
      "https://forms.gle/h8w5mZ4MNaPLCPbi6\n",
      "https://forms.gle/q5yL6QHfueDLM5w27\n",
      "https://forms.gle/Gxb4y6LfVYiaLu4M7\n"
     ]
    }
   ],
   "source": [
    "for i in range(0, len(aLinks)):\n",
    "    print(aLinks[i].attrs[\"href\"])"
   ]
  },
  {
   "cell_type": "code",
   "execution_count": 16,
   "id": "e4ecf85b-8a3c-4483-ba21-4e9021d28e91",
   "metadata": {},
   "outputs": [],
   "source": [
    "nameList = []"
   ]
  },
  {
   "cell_type": "code",
   "execution_count": 17,
   "id": "1b06ea03-ff1c-4b10-8a8d-80612c5f556b",
   "metadata": {},
   "outputs": [],
   "source": [
    "quizList = []"
   ]
  },
  {
   "cell_type": "code",
   "execution_count": 18,
   "id": "d1978830-8cbc-4c6f-842b-1d00b535b687",
   "metadata": {},
   "outputs": [],
   "source": [
    "for i in range(0, len(aLinks)):\n",
    "    # 퀴즈 이름 및 링크 정보 수집\n",
    "    quizName = aLinks[i].text\n",
    "    quizLink = aLinks[i].attrs[\"href\"]\n",
    "    # 리스트에 수집한 값 append\n",
    "    nameList.append(quizName)\n",
    "    quizList.append(quizLink)"
   ]
  },
  {
   "cell_type": "code",
   "execution_count": 19,
   "id": "5f4dfcfa-e6d4-4a6e-900f-b6b126f0601f",
   "metadata": {},
   "outputs": [],
   "source": [
    "result = pd.DataFrame(zip (nameList, quizList), columns = [\"퀴즈이름\", \"퀴즈링크\"])"
   ]
  },
  {
   "cell_type": "code",
   "execution_count": 20,
   "id": "79564e63-ccdf-49e4-885d-35fb59a271e4",
   "metadata": {
    "tags": []
   },
   "outputs": [
    {
     "name": "stdout",
     "output_type": "stream",
     "text": [
      "                        퀴즈이름                                 퀴즈링크\n",
      "0           6/13 Spark 심화과정   https://forms.gle/Fw49w9GhWQChDcZm7\n",
      "1           6/13 Spark 기본과정   https://forms.gle/G4TcXm3fKuHLHA6D6\n",
      "2   6/18 Spark [MAP_FILTER]   https://forms.gle/M8gr1kC2ubA3UDVp8\n",
      "3     6/18 Spark GroupBy 심화   https://forms.gle/h8w5mZ4MNaPLCPbi6\n",
      "4      6/25 Spark RDD 실전 분석   https://forms.gle/q5yL6QHfueDLM5w27\n",
      "5     6/27 Spark RDD 실전 분석2   https://forms.gle/Gxb4y6LfVYiaLu4M7\n"
     ]
    }
   ],
   "source": [
    "print(result)"
   ]
  },
  {
   "cell_type": "code",
   "execution_count": 21,
   "id": "4bab139a-7288-4f97-9f17-1bec292f373a",
   "metadata": {},
   "outputs": [],
   "source": [
    "Df = pd.DataFrame(result)"
   ]
  },
  {
   "cell_type": "code",
   "execution_count": 22,
   "id": "d4533760-4d6b-4ecf-aac0-fa7469e39273",
   "metadata": {
    "tags": []
   },
   "outputs": [],
   "source": [
    "Df.to_csv(\"./crawler.csv\", encoding=\"ms949\")"
   ]
  }
 ],
 "metadata": {
  "kernelspec": {
   "display_name": "Python 3 (ipykernel)",
   "language": "python",
   "name": "python3"
  },
  "language_info": {
   "codemirror_mode": {
    "name": "ipython",
    "version": 3
   },
   "file_extension": ".py",
   "mimetype": "text/x-python",
   "name": "python",
   "nbconvert_exporter": "python",
   "pygments_lexer": "ipython3",
   "version": "3.9.13"
  }
 },
 "nbformat": 4,
 "nbformat_minor": 5
}
