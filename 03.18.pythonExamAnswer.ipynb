{
 "cells": [
  {
   "cell_type": "code",
   "execution_count": null,
   "id": "092b7beb-b61c-4247-9075-3f0dc281a383",
   "metadata": {},
   "outputs": [],
   "source": [
    "# 01"
   ]
  },
  {
   "cell_type": "code",
   "execution_count": 232,
   "id": "44eb29b6-ae13-4887-821e-779f12593bde",
   "metadata": {},
   "outputs": [
    {
     "name": "stdout",
     "output_type": "stream",
     "text": [
      "7 X  1  =  7\n",
      "7 X  2  =  14\n",
      "7 X  3  =  21\n",
      "7 X  4  =  28\n",
      "7 X  5  =  35\n",
      "7 X  6  =  42\n",
      "7 X  7  =  49\n",
      "7 X  8  =  56\n",
      "7 X  9  =  63\n",
      "8 x  1  =  8\n",
      "8 x  2  =  16\n",
      "8 x  3  =  24\n",
      "8 x  4  =  32\n",
      "8 x  5  =  40\n",
      "8 x  6  =  48\n",
      "8 x  7  =  56\n",
      "8 x  8  =  64\n",
      "8 x  9  =  72\n"
     ]
    }
   ],
   "source": [
    "numberSeven = 7\n",
    "numberEight = 8\n",
    "\n",
    "for i in range(1, 10):    \n",
    "    print(\"7 X \", i, \" = \", numberSeven * i)\n",
    "\n",
    "for i in range(1, 10):\n",
    "    print(\"8 x \", i, \" = \", numberEight * i)"
   ]
  },
  {
   "cell_type": "code",
   "execution_count": null,
   "id": "f21efd8e-6989-40ea-80b6-4a22d1e540be",
   "metadata": {},
   "outputs": [],
   "source": [
    "# 02"
   ]
  },
  {
   "cell_type": "code",
   "execution_count": 233,
   "id": "c198e2af-ace0-465f-8eb2-78b5672e3dec",
   "metadata": {},
   "outputs": [
    {
     "name": "stdout",
     "output_type": "stream",
     "text": [
      "6 X  1  =  6\n",
      "6 X  3  =  18\n",
      "6 X  5  =  30\n",
      "6 X  7  =  42\n",
      "6 X  9  =  54\n"
     ]
    }
   ],
   "source": [
    "numberValue = 6\n",
    "\n",
    "for i in range(1, 10):\n",
    "    if(i%2 == 1):\n",
    "        print(\"6 X \", i, \" = \", numberValue * i)\n",
    "    else:\n",
    "        pass"
   ]
  },
  {
   "cell_type": "code",
   "execution_count": null,
   "id": "6dfc06e6-0e5a-480a-9975-8b5726b17a3b",
   "metadata": {},
   "outputs": [],
   "source": [
    "# 03"
   ]
  },
  {
   "cell_type": "code",
   "execution_count": 13,
   "id": "9e4c6843-4016-4338-94b1-37210f7dc4b8",
   "metadata": {},
   "outputs": [
    {
     "name": "stdout",
     "output_type": "stream",
     "text": [
      "6 X  1  =  6\n",
      "6 X  3  =  18\n",
      "6 X  5  =  30\n",
      "6 X  7  =  42\n",
      "6 X  9  =  54\n"
     ]
    }
   ],
   "source": [
    "for i in range(1, 10, 2):\n",
    "    print(\"6 X \", i, \" = \", numberValue * i)"
   ]
  },
  {
   "cell_type": "code",
   "execution_count": null,
   "id": "44188629-e4f6-4b5d-b7fc-282944711a25",
   "metadata": {},
   "outputs": [],
   "source": [
    "# 04"
   ]
  },
  {
   "cell_type": "code",
   "execution_count": 274,
   "id": "c2354c46-0870-4176-a802-b67b2124186b",
   "metadata": {},
   "outputs": [
    {
     "name": "stdout",
     "output_type": "stream",
     "text": [
      "숫자입력 :\n"
     ]
    },
    {
     "name": "stdin",
     "output_type": "stream",
     "text": [
      " 20\n"
     ]
    },
    {
     "name": "stdout",
     "output_type": "stream",
     "text": [
      "7 X  20  =  140\n"
     ]
    }
   ],
   "source": [
    "numBase = 7\n",
    "\n",
    "print(\"숫자입력 :\")\n",
    "numNew = int(input())\n",
    "\n",
    "if(numNew >= 21):\n",
    "    print(\"ERROR\")\n",
    "else : \n",
    "    for i in range(numNew, 21, 1):\n",
    "        print(\"7 X \", i, \" = \", i * numBase)"
   ]
  },
  {
   "cell_type": "code",
   "execution_count": null,
   "id": "03838f2e-4c27-40cc-b5b4-1f81388fe022",
   "metadata": {},
   "outputs": [],
   "source": [
    "# 05"
   ]
  },
  {
   "cell_type": "code",
   "execution_count": 276,
   "id": "7345b766-89af-4383-a418-351912ddf6a9",
   "metadata": {},
   "outputs": [
    {
     "name": "stdout",
     "output_type": "stream",
     "text": [
      "랜덤숫자놀이게임\n",
      "0~100사이의 숫자를 입력해주세요.\n",
      "입력\n"
     ]
    },
    {
     "name": "stdin",
     "output_type": "stream",
     "text": [
      " 88\n"
     ]
    },
    {
     "name": "stdout",
     "output_type": "stream",
     "text": [
      "사용자 입력숫자는  88 ,  사용자입력숫자+랜덤숫자는 98 ,  컴퓨터 입력숫자+랜덤숫자는 61 ,  사용자 승리입니다.\n"
     ]
    }
   ],
   "source": [
    "print(\"랜덤숫자놀이게임\")\n",
    "print(\"0~100사이의 숫자를 입력해주세요.\")\n",
    "print(\"입력\")\n",
    "\n",
    "import random\n",
    "    # 난수 생성 기능을 호출\n",
    "ranNum01 = random.randrange(0, 101)\n",
    "    # 0~100 사이 값을 지니는 난수 생성기 01번\n",
    "ranNum02 = random.randrange(0, 101)\n",
    "    # 0~100 사이 값을 지니는 난수 생성기 02번\n",
    "ranNum03 = random.randrange(0, 101)\n",
    "    # 0~100 사이 값을 지니는 난수 생성기 03번\n",
    "\n",
    "userNum = int(input())\n",
    "# 입력 받은 숫자 데이터를 정수로 치환\n",
    "\n",
    "if(0 <= userNum <= 100):\n",
    "    lastNum01 = userNum + ranNum01\n",
    "    lastNum02 = ranNum02 + ranNum03\n",
    "    userWoL = (lastNum01) - (lastNum02)\n",
    "# lastNum01 : 사용자 입력숫자 + 난수01을 더한 값.\n",
    "# lastNum02 : 난수02와 난수03 값을 더한 값.\n",
    "# userWoL : lastNum01 에서 lastNum02 값을 제한 값.\n",
    "\n",
    "    if(userWoL > 0):\n",
    "        print(\"사용자 입력숫자는 \", userNum, \", \", \"사용자입력숫자+랜덤숫자는\", lastNum01, \", \", \"컴퓨터 입력숫자+랜덤숫자는\", lastNum02, \", \", \"사용자 승리입니다.\")\n",
    "    # userWoL 값이 0보다 크다면, 사용자 승리 메시지를 출력한다.\n",
    "    elif(userWoL < 0):\n",
    "        print(\"사용자 입력숫자는 \", userNum, \", \", \"사용자입력숫자+랜덤숫자는\", lastNum01, \", \", \"컴퓨터 입력숫자+랜덤숫자는\", lastNum02, \", \", \"컴퓨터 승리입니다.\")\n",
    "    # userWoL 값이 0보다 작다면, 컴퓨터 승리 메시지를 출력한다.\n",
    "    else:\n",
    "        print(\"무승부입니다.\")\n",
    "    # userWoL 값이 0이라면, 무승부 메시지를 출력한다.\n",
    "else:\n",
    "    print(\"0~100사이의 숫자가 아닙니다.\")"
   ]
  },
  {
   "cell_type": "code",
   "execution_count": null,
   "id": "d619e5d5-cbf9-4d8a-b0d9-e45ea7431846",
   "metadata": {},
   "outputs": [],
   "source": [
    "# 06."
   ]
  },
  {
   "cell_type": "code",
   "execution_count": 277,
   "id": "784c643c-2808-4c64-8045-07d807b50523",
   "metadata": {},
   "outputs": [
    {
     "name": "stdout",
     "output_type": "stream",
     "text": [
      "7 X  1 = 7\n",
      "7 X  2 = 14\n",
      "7 X  3 = 21\n",
      "7 X  4 = 28\n",
      "7 X  5 = 35\n",
      "7 X  6 = 42\n",
      "7 X  7 = 49\n",
      "7 X  8 = 56\n",
      "7 X  9 = 63\n",
      "-----------------------------------\n",
      "8 X  1 = 8\n",
      "8 X  2 = 16\n",
      "8 X  3 = 24\n",
      "8 X  4 = 32\n",
      "8 X  5 = 40\n",
      "8 X  6 = 48\n",
      "8 X  7 = 56\n",
      "8 X  8 = 64\n",
      "8 X  9 = 72\n",
      "-----------------------------------\n",
      "9 X  1 = 9\n",
      "9 X  2 = 18\n",
      "9 X  3 = 27\n",
      "9 X  4 = 36\n",
      "9 X  5 = 45\n",
      "9 X  6 = 54\n",
      "9 X  7 = 63\n",
      "9 X  8 = 72\n",
      "9 X  9 = 81\n"
     ]
    }
   ],
   "source": [
    "mainSeven = 7\n",
    "mainEight = 8\n",
    "mainNine = 9\n",
    "\n",
    "for i in range(1, 10):\n",
    "    print(\"7 X \", i, \"=\", mainSeven * i)\n",
    "\n",
    "print(\"-----------------------------------\")\n",
    "\n",
    "for i in range(1, 10):\n",
    "    print(\"8 X \", i, \"=\", mainEight * i)\n",
    "    \n",
    "print(\"-----------------------------------\")\n",
    "\n",
    "for i in range(1, 10):\n",
    "    print(\"9 X \", i, \"=\", mainNine * i)"
   ]
  },
  {
   "cell_type": "code",
   "execution_count": 121,
   "id": "803dda18-59d8-4ef9-a5ab-a6cf12b9d7c2",
   "metadata": {},
   "outputs": [],
   "source": [
    "# 07."
   ]
  },
  {
   "cell_type": "code",
   "execution_count": 278,
   "id": "653faaf7-ec51-43fe-bf74-0497d2f99e73",
   "metadata": {},
   "outputs": [
    {
     "name": "stdout",
     "output_type": "stream",
     "text": [
      "7 X  1  =  7 , 홀수입니다.\n",
      "7 X  2  =  14 , 짝수입니다.\n",
      "7 X  3  =  21 , 홀수입니다.\n",
      "7 X  4  =  28 , 짝수입니다.\n",
      "7 X  5  =  35 , 홀수입니다.\n",
      "7 X  6  =  42 , 짝수입니다.\n",
      "7 X  7  =  49 , 홀수입니다.\n",
      "7 X  8  =  56 , 짝수입니다.\n",
      "7 X  9  =  63 , 홀수입니다.\n",
      "-----------------------------------\n",
      "8 X  1  =  8 , 홀수입니다.\n",
      "8 X  2  =  16 , 짝수입니다.\n",
      "8 X  3  =  24 , 홀수입니다.\n",
      "8 X  4  =  32 , 짝수입니다.\n",
      "8 X  5  =  40 , 홀수입니다.\n",
      "8 X  6  =  48 , 짝수입니다.\n",
      "8 X  7  =  56 , 홀수입니다.\n",
      "8 X  8  =  64 , 짝수입니다.\n",
      "8 X  9  =  72 , 홀수입니다.\n",
      "-----------------------------------\n",
      "9 X  1  =  9 , 홀수입니다.\n",
      "9 X  2  =  18 , 짝수입니다.\n",
      "9 X  3  =  27 , 홀수입니다.\n",
      "9 X  4  =  36 , 짝수입니다.\n",
      "9 X  5  =  45 , 홀수입니다.\n",
      "9 X  6  =  54 , 짝수입니다.\n",
      "9 X  7  =  63 , 홀수입니다.\n",
      "9 X  8  =  72 , 짝수입니다.\n",
      "9 X  9  =  81 , 홀수입니다.\n"
     ]
    }
   ],
   "source": [
    "mainSeven = 7\n",
    "mainEight = 8\n",
    "mainNine = 9\n",
    "\n",
    "for i in range(1, 10):\n",
    "    if(i%2 == 1):\n",
    "        print(\"7 X \", i, \" = \", mainSeven * i, \", 홀수입니다.\")\n",
    "    else:\n",
    "        print(\"7 X \", i, \" = \", mainSeven * i, \", 짝수입니다.\")\n",
    "\n",
    "print(\"-----------------------------------\")\n",
    "\n",
    "for i in range(1, 10):\n",
    "    if(i%2 == 1):\n",
    "        print(\"8 X \", i, \" = \", mainEight * i, \", 홀수입니다.\")\n",
    "    else:\n",
    "        print(\"8 X \", i, \" = \", mainEight * i, \", 짝수입니다.\")\n",
    "\n",
    "print(\"-----------------------------------\")\n",
    "        \n",
    "for i in range(1, 10):\n",
    "    if(i%2 == 1):\n",
    "        print(\"9 X \", i, \" = \", mainNine * i, \", 홀수입니다.\")\n",
    "    else:\n",
    "        print(\"9 X \", i, \" = \", mainNine * i, \", 짝수입니다.\")"
   ]
  },
  {
   "cell_type": "code",
   "execution_count": 126,
   "id": "33603fae-be7a-4838-8dc4-5eb1798456f8",
   "metadata": {},
   "outputs": [],
   "source": [
    "# 08."
   ]
  },
  {
   "cell_type": "code",
   "execution_count": 136,
   "id": "7c37e163-c070-4d2c-99e3-79f8c11f9c66",
   "metadata": {},
   "outputs": [
    {
     "name": "stdin",
     "output_type": "stream",
     "text": [
      " 105\n"
     ]
    },
    {
     "name": "stdout",
     "output_type": "stream",
     "text": [
      "숫자가 큽니다.\n"
     ]
    }
   ],
   "source": [
    "userNum = int(input())\n",
    "# 사용자가 입력한 숫자를 정수 형식으로 userNum 변수에 저장\n",
    "\n",
    "import random\n",
    "# 난수 생성 기능 불러오기\n",
    "\n",
    "random01 = int(random.randrange(1, 11))\n",
    "# random01 : 1 이상 11 미만의 값을 지니는 난수를 정수값으로 저장.\n",
    "\n",
    "if(0 <= userNum <= 100):\n",
    "    calNum = userNum / random01\n",
    "    calNum = int(calNum)\n",
    "    if(calNum % 2 == 1):\n",
    "        print(\"당신의 숫자 \", userNum, \"에서 임의의 값 \", random01, \"을 나눈 값은\", calNum, \"이고, 해당 숫자는 홀수 입니다.\")\n",
    "    else:\n",
    "        print(\"당신의 숫자 \", userNum, \"에서 임의의 값 \", random01, \"을 나눈 값은\", calNum, \"이고, 해당 숫자는 짝수 입니다.\")\n",
    "else:\n",
    "    print(\"숫자가 큽니다.\")"
   ]
  },
  {
   "cell_type": "code",
   "execution_count": 137,
   "id": "4f0a3e58-d4ba-43d4-b2f5-3a1e01a7705b",
   "metadata": {},
   "outputs": [],
   "source": [
    "# 09"
   ]
  },
  {
   "cell_type": "code",
   "execution_count": 239,
   "id": "b1ebe4dd-248c-472e-b4a8-c3b86be3cb25",
   "metadata": {
    "tags": []
   },
   "outputs": [
    {
     "name": "stdout",
     "output_type": "stream",
     "text": [
      "숫자를 입력해주세요 : \n"
     ]
    },
    {
     "name": "stdin",
     "output_type": "stream",
     "text": [
      " 24\n"
     ]
    },
    {
     "name": "stdout",
     "output_type": "stream",
     "text": [
      "입력하신 숫자 24 를 3으로 나눈 값은  24 입니다.\n",
      "입력하신 숫자 24 를 3으로 나눈 값은  21 입니다.\n",
      "입력하신 숫자 24 를 3으로 나눈 값은  18 입니다.\n",
      "입력하신 숫자 24 를 3으로 나눈 값은  15 입니다.\n",
      "입력하신 숫자 24 를 3으로 나눈 값은  12 입니다.\n",
      "입력하신 숫자 24 를 3으로 나눈 값은  9 입니다.\n",
      "입력하신 숫자 24 를 3으로 나눈 값은  6 입니다.\n",
      "입력하신 숫자 24 를 3으로 나눈 값은  3 입니다.\n"
     ]
    }
   ],
   "source": [
    "print(\"숫자를 입력해주세요 : \")\n",
    "\n",
    "userData = int(input())\n",
    "\n",
    "for i in range(userData, 1, -3):\n",
    "    print(\"입력하신 숫자\", userData, \"를 3으로 나눈 값은 \", i, \"입니다.\")"
   ]
  },
  {
   "cell_type": "code",
   "execution_count": 151,
   "id": "e05bb68e-1653-44e7-a64c-61aa205d0aa7",
   "metadata": {},
   "outputs": [],
   "source": [
    "# 10"
   ]
  },
  {
   "cell_type": "code",
   "execution_count": 258,
   "id": "9ec9abc3-e6de-49c5-b2a4-bafc343d9384",
   "metadata": {},
   "outputs": [],
   "source": [
    "def listAvg(list):\n",
    "    \"\"\"\n",
    "    리스트의 최소 최대값을 제외한 평균\n",
    "    parameter : list(list)\n",
    "    return : _avgList(float)\n",
    "    \n",
    "    \"\"\"\n",
    "\n",
    "    # list = [5, 1, 6, 8, 4, 9, 7, 3, 2, 1, 1, 1, 1, 1, 9, 9, 9, 9, 9, 9]\n",
    "\n",
    "    _maxList = max(list)\n",
    "#   리스트 내 최대값을 찾는다.\n",
    "    \n",
    "    _countMax = list.count(_maxList)\n",
    "#   리스트 내 최대값의 갯수를 찾는다.\n",
    "    \n",
    "    _minList = min(list)\n",
    "#   리스트 내 최소값을 찾는다.\n",
    "    \n",
    "    _countMin = list.count(_minList)\n",
    "#   리스트 내 최소값의 갯수를 찾는다.\n",
    "    \n",
    "    list.sort(reverse = False)\n",
    "#   리스트를 오름차순으로 정렬\n",
    "    \n",
    "    list = list[_countMin:]\n",
    "#   최소값 갯수만큼 리스트 항목 제거\n",
    "#   리스트 내 최소값이 모두 제거된다.\n",
    "    \n",
    "    list.sort(reverse = True)\n",
    "#   리스트를 역순 정렬\n",
    "    list = list[_countMax:]\n",
    "#   최대값 갯수만큼 리스트 항목 제거\n",
    "#   리스트 내 최대값이 모두 제거된다.\n",
    "    _sumList = sum(list)\n",
    "#   리스트 내 모든 데이터의 합을 구한다.\n",
    "    \n",
    "    _lenList = len(list)\n",
    "#   리스트 내 데이터의 갯수를 구한다.\n",
    "\n",
    "    if(_lenList == 0):\n",
    "        _avgList = 0\n",
    "#   만약 리스트 내 데이터가 존재하지 않는다면\n",
    "#   평균을 0으로 산출한다.\n",
    "    else:\n",
    "        _avgList = _sumList / _lenList\n",
    "#   리스트 내 데이터 갯수가 0이 아니라면\n",
    "#   리스트 데이터 합 / 갯수로 평균을 구한다.        \n",
    "    return _avgList"
   ]
  }
 ],
 "metadata": {
  "kernelspec": {
   "display_name": "Python 3 (ipykernel)",
   "language": "python",
   "name": "python3"
  },
  "language_info": {
   "codemirror_mode": {
    "name": "ipython",
    "version": 3
   },
   "file_extension": ".py",
   "mimetype": "text/x-python",
   "name": "python",
   "nbconvert_exporter": "python",
   "pygments_lexer": "ipython3",
   "version": "3.9.13"
  }
 },
 "nbformat": 4,
 "nbformat_minor": 5
}
