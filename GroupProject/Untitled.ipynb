{
 "cells": [
  {
   "cell_type": "code",
   "execution_count": 1,
   "id": "f2e6f167-5c03-452f-a3b6-554aa5c6e9a5",
   "metadata": {},
   "outputs": [],
   "source": [
    "# 사용 모듈\n",
    "import pandas as pd\n",
    "from sqlalchemy import create_engine\n",
    "from sqlalchemy import types\n",
    "import pandas as pd\n",
    "import pickle"
   ]
  },
  {
   "cell_type": "code",
   "execution_count": 9,
   "id": "eaf4d63c-df17-456a-bce2-4665843f097b",
   "metadata": {},
   "outputs": [],
   "source": [
    "# blockchain.csv파일을 읽어와 이를 DataFrame으로 targetData 변수에 저장합니다.\n",
    "targetData = pd.read_csv(\"blockchain.csv\")"
   ]
  },
  {
   "cell_type": "code",
   "execution_count": 10,
   "id": "f0886341-604a-45be-9f85-9a7c81c67a8a",
   "metadata": {},
   "outputs": [
    {
     "data": {
      "text/html": [
       "<div>\n",
       "<style scoped>\n",
       "    .dataframe tbody tr th:only-of-type {\n",
       "        vertical-align: middle;\n",
       "    }\n",
       "\n",
       "    .dataframe tbody tr th {\n",
       "        vertical-align: top;\n",
       "    }\n",
       "\n",
       "    .dataframe thead th {\n",
       "        text-align: right;\n",
       "    }\n",
       "</style>\n",
       "<table border=\"1\" class=\"dataframe\">\n",
       "  <thead>\n",
       "    <tr style=\"text-align: right;\">\n",
       "      <th></th>\n",
       "      <th>0</th>\n",
       "      <th>0.1</th>\n",
       "      <th>1686824250.3353186</th>\n",
       "      <th>Genesis Block</th>\n",
       "      <th>91ee2f941351a761503582a77b51180d8813ded785732ef123b1fbdcd9bce283</th>\n",
       "      <th>0.2</th>\n",
       "    </tr>\n",
       "  </thead>\n",
       "  <tbody>\n",
       "    <tr>\n",
       "      <th>0</th>\n",
       "      <td>1</td>\n",
       "      <td>91ee2f941351a761503582a77b51180d8813ded785732e...</td>\n",
       "      <td>1.686824e+09</td>\n",
       "      <td>[1ca509ef-0495-4ab6-bcb8-2b3cb0fdfb7e]UserID S...</td>\n",
       "      <td>0000095fbc41d81db203698178b4570a455d936feda95e...</td>\n",
       "      <td>1226712</td>\n",
       "    </tr>\n",
       "    <tr>\n",
       "      <th>1</th>\n",
       "      <td>2</td>\n",
       "      <td>0000095fbc41d81db203698178b4570a455d936feda95e...</td>\n",
       "      <td>1.686874e+09</td>\n",
       "      <td>[3325a1cb-ba6b-40f3-8fc3-80bfa9ba7207]UserID S...</td>\n",
       "      <td>00000fb8ca9ef2603bcdc5e483fd16d442f5a2fbc4c8e7...</td>\n",
       "      <td>21663</td>\n",
       "    </tr>\n",
       "    <tr>\n",
       "      <th>2</th>\n",
       "      <td>3</td>\n",
       "      <td>00000fb8ca9ef2603bcdc5e483fd16d442f5a2fbc4c8e7...</td>\n",
       "      <td>1.686874e+09</td>\n",
       "      <td>[0408f9e6-3937-4af5-9e6c-8c4b9a95d529]UserID S...</td>\n",
       "      <td>00000f3a918517f85f07107d63d9a371d1559305096b25...</td>\n",
       "      <td>1340278</td>\n",
       "    </tr>\n",
       "    <tr>\n",
       "      <th>3</th>\n",
       "      <td>4</td>\n",
       "      <td>00000f3a918517f85f07107d63d9a371d1559305096b25...</td>\n",
       "      <td>1.686874e+09</td>\n",
       "      <td>[90cdd30b-6105-4da5-af95-9c36048d085c]UserID S...</td>\n",
       "      <td>0000063f392a7598d69f4059aa3423d4e81625cb5393e8...</td>\n",
       "      <td>996847</td>\n",
       "    </tr>\n",
       "  </tbody>\n",
       "</table>\n",
       "</div>"
      ],
      "text/plain": [
       "   0                                                0.1  1686824250.3353186  \\\n",
       "0  1  91ee2f941351a761503582a77b51180d8813ded785732e...        1.686824e+09   \n",
       "1  2  0000095fbc41d81db203698178b4570a455d936feda95e...        1.686874e+09   \n",
       "2  3  00000fb8ca9ef2603bcdc5e483fd16d442f5a2fbc4c8e7...        1.686874e+09   \n",
       "3  4  00000f3a918517f85f07107d63d9a371d1559305096b25...        1.686874e+09   \n",
       "\n",
       "                                       Genesis Block  \\\n",
       "0  [1ca509ef-0495-4ab6-bcb8-2b3cb0fdfb7e]UserID S...   \n",
       "1  [3325a1cb-ba6b-40f3-8fc3-80bfa9ba7207]UserID S...   \n",
       "2  [0408f9e6-3937-4af5-9e6c-8c4b9a95d529]UserID S...   \n",
       "3  [90cdd30b-6105-4da5-af95-9c36048d085c]UserID S...   \n",
       "\n",
       "  91ee2f941351a761503582a77b51180d8813ded785732ef123b1fbdcd9bce283      0.2  \n",
       "0  0000095fbc41d81db203698178b4570a455d936feda95e...                1226712  \n",
       "1  00000fb8ca9ef2603bcdc5e483fd16d442f5a2fbc4c8e7...                  21663  \n",
       "2  00000f3a918517f85f07107d63d9a371d1559305096b25...                1340278  \n",
       "3  0000063f392a7598d69f4059aa3423d4e81625cb5393e8...                 996847  "
      ]
     },
     "execution_count": 10,
     "metadata": {},
     "output_type": "execute_result"
    }
   ],
   "source": [
    "targetData"
   ]
  },
  {
   "cell_type": "code",
   "execution_count": 11,
   "id": "e2a8e194-2db5-4246-83f0-c30a38a4703f",
   "metadata": {},
   "outputs": [],
   "source": [
    "# genesisBlock의 데이터를 별도로 저장합니다.\n",
    "genesisBlock = pd.DataFrame(targetData.columns)"
   ]
  },
  {
   "cell_type": "code",
   "execution_count": 12,
   "id": "5ad428bd-bb90-46ca-87eb-7eefefe78ff0",
   "metadata": {},
   "outputs": [
    {
     "data": {
      "text/html": [
       "<div>\n",
       "<style scoped>\n",
       "    .dataframe tbody tr th:only-of-type {\n",
       "        vertical-align: middle;\n",
       "    }\n",
       "\n",
       "    .dataframe tbody tr th {\n",
       "        vertical-align: top;\n",
       "    }\n",
       "\n",
       "    .dataframe thead th {\n",
       "        text-align: right;\n",
       "    }\n",
       "</style>\n",
       "<table border=\"1\" class=\"dataframe\">\n",
       "  <thead>\n",
       "    <tr style=\"text-align: right;\">\n",
       "      <th></th>\n",
       "      <th>0</th>\n",
       "    </tr>\n",
       "  </thead>\n",
       "  <tbody>\n",
       "    <tr>\n",
       "      <th>0</th>\n",
       "      <td>0</td>\n",
       "    </tr>\n",
       "    <tr>\n",
       "      <th>1</th>\n",
       "      <td>0.1</td>\n",
       "    </tr>\n",
       "    <tr>\n",
       "      <th>2</th>\n",
       "      <td>1686824250.3353186</td>\n",
       "    </tr>\n",
       "    <tr>\n",
       "      <th>3</th>\n",
       "      <td>Genesis Block</td>\n",
       "    </tr>\n",
       "    <tr>\n",
       "      <th>4</th>\n",
       "      <td>91ee2f941351a761503582a77b51180d8813ded785732e...</td>\n",
       "    </tr>\n",
       "    <tr>\n",
       "      <th>5</th>\n",
       "      <td>0.2</td>\n",
       "    </tr>\n",
       "  </tbody>\n",
       "</table>\n",
       "</div>"
      ],
      "text/plain": [
       "                                                   0\n",
       "0                                                  0\n",
       "1                                                0.1\n",
       "2                                 1686824250.3353186\n",
       "3                                      Genesis Block\n",
       "4  91ee2f941351a761503582a77b51180d8813ded785732e...\n",
       "5                                                0.2"
      ]
     },
     "execution_count": 12,
     "metadata": {},
     "output_type": "execute_result"
    }
   ],
   "source": [
    "genesisBlock"
   ]
  },
  {
   "cell_type": "code",
   "execution_count": 13,
   "id": "42dead68-cccf-4243-9303-5d79efd684c3",
   "metadata": {},
   "outputs": [],
   "source": [
    "# blockchain.csv 데이터가 담긴 데이터프레임의 컬럼 명을 지정합니다.\n",
    "targetData.columns = [\"index\", \"previousHash\", \"timestamp\", \"data\", \"presentHash\", \"proof\"]"
   ]
  },
  {
   "cell_type": "code",
   "execution_count": 14,
   "id": "ab8d5b75-4521-4a24-9224-2af18adfff86",
   "metadata": {},
   "outputs": [
    {
     "data": {
      "text/html": [
       "<div>\n",
       "<style scoped>\n",
       "    .dataframe tbody tr th:only-of-type {\n",
       "        vertical-align: middle;\n",
       "    }\n",
       "\n",
       "    .dataframe tbody tr th {\n",
       "        vertical-align: top;\n",
       "    }\n",
       "\n",
       "    .dataframe thead th {\n",
       "        text-align: right;\n",
       "    }\n",
       "</style>\n",
       "<table border=\"1\" class=\"dataframe\">\n",
       "  <thead>\n",
       "    <tr style=\"text-align: right;\">\n",
       "      <th></th>\n",
       "      <th>index</th>\n",
       "      <th>previousHash</th>\n",
       "      <th>timestamp</th>\n",
       "      <th>data</th>\n",
       "      <th>presentHash</th>\n",
       "      <th>proof</th>\n",
       "    </tr>\n",
       "  </thead>\n",
       "  <tbody>\n",
       "    <tr>\n",
       "      <th>0</th>\n",
       "      <td>1</td>\n",
       "      <td>91ee2f941351a761503582a77b51180d8813ded785732e...</td>\n",
       "      <td>1.686824e+09</td>\n",
       "      <td>[1ca509ef-0495-4ab6-bcb8-2b3cb0fdfb7e]UserID S...</td>\n",
       "      <td>0000095fbc41d81db203698178b4570a455d936feda95e...</td>\n",
       "      <td>1226712</td>\n",
       "    </tr>\n",
       "    <tr>\n",
       "      <th>1</th>\n",
       "      <td>2</td>\n",
       "      <td>0000095fbc41d81db203698178b4570a455d936feda95e...</td>\n",
       "      <td>1.686874e+09</td>\n",
       "      <td>[3325a1cb-ba6b-40f3-8fc3-80bfa9ba7207]UserID S...</td>\n",
       "      <td>00000fb8ca9ef2603bcdc5e483fd16d442f5a2fbc4c8e7...</td>\n",
       "      <td>21663</td>\n",
       "    </tr>\n",
       "    <tr>\n",
       "      <th>2</th>\n",
       "      <td>3</td>\n",
       "      <td>00000fb8ca9ef2603bcdc5e483fd16d442f5a2fbc4c8e7...</td>\n",
       "      <td>1.686874e+09</td>\n",
       "      <td>[0408f9e6-3937-4af5-9e6c-8c4b9a95d529]UserID S...</td>\n",
       "      <td>00000f3a918517f85f07107d63d9a371d1559305096b25...</td>\n",
       "      <td>1340278</td>\n",
       "    </tr>\n",
       "    <tr>\n",
       "      <th>3</th>\n",
       "      <td>4</td>\n",
       "      <td>00000f3a918517f85f07107d63d9a371d1559305096b25...</td>\n",
       "      <td>1.686874e+09</td>\n",
       "      <td>[90cdd30b-6105-4da5-af95-9c36048d085c]UserID S...</td>\n",
       "      <td>0000063f392a7598d69f4059aa3423d4e81625cb5393e8...</td>\n",
       "      <td>996847</td>\n",
       "    </tr>\n",
       "  </tbody>\n",
       "</table>\n",
       "</div>"
      ],
      "text/plain": [
       "   index                                       previousHash     timestamp  \\\n",
       "0      1  91ee2f941351a761503582a77b51180d8813ded785732e...  1.686824e+09   \n",
       "1      2  0000095fbc41d81db203698178b4570a455d936feda95e...  1.686874e+09   \n",
       "2      3  00000fb8ca9ef2603bcdc5e483fd16d442f5a2fbc4c8e7...  1.686874e+09   \n",
       "3      4  00000f3a918517f85f07107d63d9a371d1559305096b25...  1.686874e+09   \n",
       "\n",
       "                                                data  \\\n",
       "0  [1ca509ef-0495-4ab6-bcb8-2b3cb0fdfb7e]UserID S...   \n",
       "1  [3325a1cb-ba6b-40f3-8fc3-80bfa9ba7207]UserID S...   \n",
       "2  [0408f9e6-3937-4af5-9e6c-8c4b9a95d529]UserID S...   \n",
       "3  [90cdd30b-6105-4da5-af95-9c36048d085c]UserID S...   \n",
       "\n",
       "                                         presentHash    proof  \n",
       "0  0000095fbc41d81db203698178b4570a455d936feda95e...  1226712  \n",
       "1  00000fb8ca9ef2603bcdc5e483fd16d442f5a2fbc4c8e7...    21663  \n",
       "2  00000f3a918517f85f07107d63d9a371d1559305096b25...  1340278  \n",
       "3  0000063f392a7598d69f4059aa3423d4e81625cb5393e8...   996847  "
      ]
     },
     "execution_count": 14,
     "metadata": {},
     "output_type": "execute_result"
    }
   ],
   "source": [
    "targetData"
   ]
  },
  {
   "cell_type": "code",
   "execution_count": 15,
   "id": "21ea340d-9da7-4a8a-853e-139afcde0c01",
   "metadata": {},
   "outputs": [],
   "source": [
    "# pickle로 저장된 mariaDB 접속 정보를 불러온다.\n",
    "with open(\"mariaData.pickle\", \"rb\") as mariaData:\n",
    "    mariaDbInfo = pickle.load(mariaData)"
   ]
  },
  {
   "cell_type": "code",
   "execution_count": 17,
   "id": "ee6a7054-e9ba-4806-8137-7345573064ec",
   "metadata": {},
   "outputs": [],
   "source": [
    "mariaId = mariaDbInfo.get(\"mariaId\")\n",
    "mariaPw = mariaDbInfo.get(\"mariaPw\")\n",
    "mariaIp = mariaDbInfo.get(\"mariaIp\")\n",
    "mariaPort = mariaDbInfo.get(\"mariaPort\")\n",
    "mariaDbName = mariaDbInfo.get(\"mariaDbName\")\n",
    "\n",
    "mariaEngine = create_engine('mysql+pymysql://{}:{}@{}:{}/{}'.format(mariaId, mariaPw, mariaIp, mariaPort, mariaDbName))"
   ]
  },
  {
   "cell_type": "code",
   "execution_count": 18,
   "id": "a480a615-e83c-4709-ab42-7845e8d824dc",
   "metadata": {},
   "outputs": [],
   "source": [
    "# ETL 간 사용할 테이블명\n",
    "tableName = \"groupblockdata\"\n",
    "\n",
    "# 전송 처리 향상을 도모 \n",
    "objectColumns = list(targetData.columns[targetData.dtypes == 'object'])\n",
    "typeDict={}\n",
    "maxLen = 500\n",
    "for i in range(0, len(objectColumns)):\n",
    "    typeDict[ objectColumns[i] ] = types.VARCHAR(maxLen)"
   ]
  },
  {
   "cell_type": "code",
   "execution_count": 19,
   "id": "1a00fac4-1855-4c4c-8ab2-9e0e4a359375",
   "metadata": {},
   "outputs": [
    {
     "data": {
      "text/plain": [
       "4"
      ]
     },
     "execution_count": 19,
     "metadata": {},
     "output_type": "execute_result"
    }
   ],
   "source": [
    "# MariaDB와 oracleDB 양 쪽으로 대상 targetData를 전송. 테이블명 : groupblockdata.\n",
    "targetData.to_sql(name=tableName, if_exists=\"replace\", con=mariaEngine, dtype=typeDict, index=False)"
   ]
  },
  {
   "cell_type": "code",
   "execution_count": 20,
   "id": "78347e40-3284-410d-8726-41d086745111",
   "metadata": {},
   "outputs": [],
   "source": [
    "# MariaDB와 oracleDB로부터 groupblockdata 테이블로부터 데이터를 불러와 각각 mariaBlockData와 oracleBlockData 변수에 저장\n",
    "mariaBlockData = pd.read_sql_query(\"SELECT * FROM groupblockdata\", con = mariaEngine)"
   ]
  },
  {
   "cell_type": "code",
   "execution_count": 21,
   "id": "963320b9-0f48-440a-8d8c-2d4eacd874f2",
   "metadata": {},
   "outputs": [
    {
     "data": {
      "text/html": [
       "<div>\n",
       "<style scoped>\n",
       "    .dataframe tbody tr th:only-of-type {\n",
       "        vertical-align: middle;\n",
       "    }\n",
       "\n",
       "    .dataframe tbody tr th {\n",
       "        vertical-align: top;\n",
       "    }\n",
       "\n",
       "    .dataframe thead th {\n",
       "        text-align: right;\n",
       "    }\n",
       "</style>\n",
       "<table border=\"1\" class=\"dataframe\">\n",
       "  <thead>\n",
       "    <tr style=\"text-align: right;\">\n",
       "      <th></th>\n",
       "      <th>index</th>\n",
       "      <th>previousHash</th>\n",
       "      <th>timestamp</th>\n",
       "      <th>data</th>\n",
       "      <th>presentHash</th>\n",
       "      <th>proof</th>\n",
       "    </tr>\n",
       "  </thead>\n",
       "  <tbody>\n",
       "    <tr>\n",
       "      <th>0</th>\n",
       "      <td>1</td>\n",
       "      <td>91ee2f941351a761503582a77b51180d8813ded785732e...</td>\n",
       "      <td>1.686824e+09</td>\n",
       "      <td>[1ca509ef-0495-4ab6-bcb8-2b3cb0fdfb7e]UserID S...</td>\n",
       "      <td>0000095fbc41d81db203698178b4570a455d936feda95e...</td>\n",
       "      <td>1226712</td>\n",
       "    </tr>\n",
       "    <tr>\n",
       "      <th>1</th>\n",
       "      <td>2</td>\n",
       "      <td>0000095fbc41d81db203698178b4570a455d936feda95e...</td>\n",
       "      <td>1.686874e+09</td>\n",
       "      <td>[3325a1cb-ba6b-40f3-8fc3-80bfa9ba7207]UserID S...</td>\n",
       "      <td>00000fb8ca9ef2603bcdc5e483fd16d442f5a2fbc4c8e7...</td>\n",
       "      <td>21663</td>\n",
       "    </tr>\n",
       "    <tr>\n",
       "      <th>2</th>\n",
       "      <td>3</td>\n",
       "      <td>00000fb8ca9ef2603bcdc5e483fd16d442f5a2fbc4c8e7...</td>\n",
       "      <td>1.686874e+09</td>\n",
       "      <td>[0408f9e6-3937-4af5-9e6c-8c4b9a95d529]UserID S...</td>\n",
       "      <td>00000f3a918517f85f07107d63d9a371d1559305096b25...</td>\n",
       "      <td>1340278</td>\n",
       "    </tr>\n",
       "    <tr>\n",
       "      <th>3</th>\n",
       "      <td>4</td>\n",
       "      <td>00000f3a918517f85f07107d63d9a371d1559305096b25...</td>\n",
       "      <td>1.686874e+09</td>\n",
       "      <td>[90cdd30b-6105-4da5-af95-9c36048d085c]UserID S...</td>\n",
       "      <td>0000063f392a7598d69f4059aa3423d4e81625cb5393e8...</td>\n",
       "      <td>996847</td>\n",
       "    </tr>\n",
       "  </tbody>\n",
       "</table>\n",
       "</div>"
      ],
      "text/plain": [
       "   index                                       previousHash     timestamp  \\\n",
       "0      1  91ee2f941351a761503582a77b51180d8813ded785732e...  1.686824e+09   \n",
       "1      2  0000095fbc41d81db203698178b4570a455d936feda95e...  1.686874e+09   \n",
       "2      3  00000fb8ca9ef2603bcdc5e483fd16d442f5a2fbc4c8e7...  1.686874e+09   \n",
       "3      4  00000f3a918517f85f07107d63d9a371d1559305096b25...  1.686874e+09   \n",
       "\n",
       "                                                data  \\\n",
       "0  [1ca509ef-0495-4ab6-bcb8-2b3cb0fdfb7e]UserID S...   \n",
       "1  [3325a1cb-ba6b-40f3-8fc3-80bfa9ba7207]UserID S...   \n",
       "2  [0408f9e6-3937-4af5-9e6c-8c4b9a95d529]UserID S...   \n",
       "3  [90cdd30b-6105-4da5-af95-9c36048d085c]UserID S...   \n",
       "\n",
       "                                         presentHash    proof  \n",
       "0  0000095fbc41d81db203698178b4570a455d936feda95e...  1226712  \n",
       "1  00000fb8ca9ef2603bcdc5e483fd16d442f5a2fbc4c8e7...    21663  \n",
       "2  00000f3a918517f85f07107d63d9a371d1559305096b25...  1340278  \n",
       "3  0000063f392a7598d69f4059aa3423d4e81625cb5393e8...   996847  "
      ]
     },
     "execution_count": 21,
     "metadata": {},
     "output_type": "execute_result"
    }
   ],
   "source": [
    "mariaBlockData"
   ]
  },
  {
   "cell_type": "code",
   "execution_count": null,
   "id": "7b01371b-f753-4cf8-989a-671ff46d5f94",
   "metadata": {},
   "outputs": [],
   "source": [
    "# 두 데이터의 길이가 같다면 targetStr 변수에 True를, 다르다면 False를 저장 \n",
    "if(mariaBlockData.shape[0] == oracleBlockData.shape[0]):\n",
    "    targetStr = \"True\"\n",
    "else:\n",
    "    targetStr = \"False\"\n",
    "\n",
    "# 만약 targetStr이 True라면, 두 테이블의 presentHash 값을 모두 비교하고,\n",
    "# 하나라도 다른 해시값이 존재한다면 \"온전하지 않은 블록이 존재합니다\" 라는 문자열을 return하고 for문을 탈출합니다.\n",
    "# 모든 presentHash 값이 일치한다면 \"온전한 블록으로 구성되어 있습니다.\" 라는 문자열을 return합니다.\n",
    "if(targetStr == \"True\"):\n",
    "    for i in range(0, mariaBlockData.shape[0]):\n",
    "        if(oracleBlockData.presentHash[i] != mariaBlockData.presentHash[i]):\n",
    "            answerStr = \"온전하지 않은 블록이 존재합니다.\"\n",
    "            break\n",
    "        else:\n",
    "            answerStr = \"온전한 블록으로 구성되어있습니다.\"\n",
    "# 만약 answerStr이 False라면, \" 두 DB에 저장된 값이 일치하지 않습니다.\" 라는 문자열을 return합니다.\n",
    "else:\n",
    "    answerStr = \"두 DB에 저장된 값이 일치하지 않습니다.\""
   ]
  }
 ],
 "metadata": {
  "kernelspec": {
   "display_name": "Python 3 (ipykernel)",
   "language": "python",
   "name": "python3"
  },
  "language_info": {
   "codemirror_mode": {
    "name": "ipython",
    "version": 3
   },
   "file_extension": ".py",
   "mimetype": "text/x-python",
   "name": "python",
   "nbconvert_exporter": "python",
   "pygments_lexer": "ipython3",
   "version": "3.9.13"
  }
 },
 "nbformat": 4,
 "nbformat_minor": 5
}
