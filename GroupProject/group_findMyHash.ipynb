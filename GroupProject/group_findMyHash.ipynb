{
 "cells": [
  {
   "cell_type": "code",
   "execution_count": 1,
   "id": "8d3194eb-5d4b-4590-8bdf-fc18e61f8427",
   "metadata": {},
   "outputs": [],
   "source": [
    "def findMyHash(targetCurrentHash):\n",
    "    \"\"\"\"\"\n",
    "    현재 해시 값을 targetHash변수에 입력받아 currentHash 데이터 내에 해당하는 해시 값이 존재하는지\n",
    "    검증하는 함수입니다.\n",
    "    targetCurrentHash : 분석 대상 블록이 지닌 현재 해시값. str type으로 입력\n",
    "    return     : getBlockData 내에 대상 해시값이 존재하는 경우 \"온전한 블록\"을 출력하고,\n",
    "                 해시 값에 이상이 존재하는 경우 \"온전하지 않은 블록\"을 출력합니다.\n",
    "                 return 값은 str type으로 출력됩니다.\n",
    "    \"\"\"\"\"\n",
    "    # 사용 모듈 호출. requests와 bs4\n",
    "    import requests\n",
    "    from bs4 import BeautifulSoup\n",
    "    \n",
    "    # 신뢰 가능한 Host에게 get방식으로 /block/blockData request를 전송하는 Url\n",
    "    _targetUrl = \"http://localhost:8666/block/getBlockData\"\n",
    "\n",
    "    #requests 모듈을 사용하여 대상 Url로부터 모든 데이터를 스크래핑\n",
    "    _response = requests.get(_targetUrl)\n",
    "    # _html 변수에 _response 데이터로부터 text 형식인 데이터만을 취합하여 저장\n",
    "    _html = _response.text\n",
    "    # _soup 변수에 BeautifulSoup를 통해 정제한 데이터를 저장\n",
    "    _soup = BeautifulSoup(_html, \"html.parser\").text\n",
    "\n",
    "    # _noList라는 이름으로 빈 배열을 선언\n",
    "    _noList = []\n",
    "    # for문을 통해 _noList에 \"00000\"을 포함하는 컨텐츠만을 산입\n",
    "    for _i in range(0, len(_soup.split(\" \"))):\n",
    "        if(\"00000\" in _soup.split(\" \")[_i]):\n",
    "            _noList.append(_soup.split(\" \")[_i])\n",
    "\n",
    "    # _targetList라는 이름으로 빈 배열을 선언\n",
    "    _targetList = []\n",
    "    # for문을 통해 _targetList에 중복되지 않는 값만을 산입\n",
    "    # 블록 간 Connection으로 인해 currentHash와 presentHash가 중복될 수 있기에, 중복 사항을 제거하여 presentHash만을 남긴다.\n",
    "    for _i in range(0, len(_noList)):\n",
    "        if(_noList[_i] not in _targetList):\n",
    "            _targetList.append(_noList[_i])\n",
    "    \n",
    "    # 만약 변수로 입력받은 targetCurrentHash가 presentHash값이 담긴 _targetList 내에 위치한다면 _targetString 변수에 \"온전한 블록\" 문자열을 저장하고 for문을 탈출,\n",
    "    # 대응되는 값이 단 하나도 존재하지 않는다면 _targetString에 \"온전하지 않은 블록\" 문자열을 저장.\n",
    "\n",
    "    for _i in range(0, len(_targetList)):\n",
    "        if(targetCurrentHash in _targetList[_i]):\n",
    "            _targetString = \"온전한 블록\"\n",
    "            break\n",
    "        else:\n",
    "            _targetString = \"온전하지 않은 블록\"\n",
    "    \n",
    "    # 이후 설정하였던 _targetString 문자열을 return\n",
    "    return _targetString"
   ]
  },
  {
   "cell_type": "code",
   "execution_count": 3,
   "id": "8313eb22-f22d-4d56-887f-9c8734145507",
   "metadata": {},
   "outputs": [
    {
     "data": {
      "text/plain": [
       "'온전하지 않은 블록'"
      ]
     },
     "execution_count": 3,
     "metadata": {},
     "output_type": "execute_result"
    }
   ],
   "source": [
    "findMyHash(\"00000f38ca9ef2603bcdc5e483fd16d442f5a2fbc4c8e748210f29b5aaa019b7\")"
   ]
  },
  {
   "cell_type": "code",
   "execution_count": 4,
   "id": "692f8d8f-8454-4f07-8133-0fab06da46c5",
   "metadata": {},
   "outputs": [
    {
     "data": {
      "text/plain": [
       "'온전한 블록'"
      ]
     },
     "execution_count": 4,
     "metadata": {},
     "output_type": "execute_result"
    }
   ],
   "source": [
    "findMyHash(\"00000fb8ca9ef2603bcdc5e483fd16d442f5a2fbc4c8e748210f29b5aaa019b7\")"
   ]
  }
 ],
 "metadata": {
  "kernelspec": {
   "display_name": "Python 3 (ipykernel)",
   "language": "python",
   "name": "python3"
  },
  "language_info": {
   "codemirror_mode": {
    "name": "ipython",
    "version": 3
   },
   "file_extension": ".py",
   "mimetype": "text/x-python",
   "name": "python",
   "nbconvert_exporter": "python",
   "pygments_lexer": "ipython3",
   "version": "3.9.13"
  }
 },
 "nbformat": 4,
 "nbformat_minor": 5
}
