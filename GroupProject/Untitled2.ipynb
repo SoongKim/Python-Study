{
 "cells": [
  {
   "cell_type": "code",
   "execution_count": 1,
   "id": "fd9fbe61-9f5f-47ae-afe5-babba847a06c",
   "metadata": {},
   "outputs": [],
   "source": [
    "import requests\n",
    "from bs4 import BeautifulSoup"
   ]
  },
  {
   "cell_type": "code",
   "execution_count": 2,
   "id": "588de950-4d73-47ec-8d89-625ac9e25738",
   "metadata": {},
   "outputs": [],
   "source": [
    "# 신뢰 가능한 Host에게 get방식으로 /block/blockData request를 전송하는 Url\n",
    "_targetUrl = \"http://localhost:8666/block/getBlockData\""
   ]
  },
  {
   "cell_type": "code",
   "execution_count": 3,
   "id": "55843c57-6e35-43bd-8fdb-69b568a3195a",
   "metadata": {},
   "outputs": [
    {
     "data": {
      "text/plain": [
       "'http://localhost:8666/block/getBlockData'"
      ]
     },
     "execution_count": 3,
     "metadata": {},
     "output_type": "execute_result"
    }
   ],
   "source": [
    "_targetUrl"
   ]
  },
  {
   "cell_type": "code",
   "execution_count": 4,
   "id": "1eb1f3ce-239e-4519-8c94-60c7c6fbc559",
   "metadata": {},
   "outputs": [],
   "source": [
    "#requests 모듈을 사용하여 대상 Url로부터 모든 데이터를 스크래핑\n",
    "_response = requests.get(_targetUrl)"
   ]
  },
  {
   "cell_type": "code",
   "execution_count": 5,
   "id": "0dd9812c-009a-4254-bf28-879f8ebf544b",
   "metadata": {},
   "outputs": [
    {
     "data": {
      "text/plain": [
       "<Response [200]>"
      ]
     },
     "execution_count": 5,
     "metadata": {},
     "output_type": "execute_result"
    }
   ],
   "source": [
    "_response"
   ]
  },
  {
   "cell_type": "code",
   "execution_count": 6,
   "id": "ea6d9576-eabb-4cc9-a279-da85a8b720d3",
   "metadata": {},
   "outputs": [],
   "source": [
    "# _html 변수에 _response 데이터로부터 text 형식인 데이터만을 취합하여 저장\n",
    "_html = _response.text"
   ]
  },
  {
   "cell_type": "code",
   "execution_count": 7,
   "id": "5d410de7-2c10-486f-8627-cadb8044cbd8",
   "metadata": {},
   "outputs": [
    {
     "data": {
      "text/plain": [
       "'[\\n    {\\n        \"currentHash\": \"91ee2f941351a761503582a77b51180d8813ded785732ef123b1fbdcd9bce283\",\\n        \"data\": \"Genesis Block\",\\n        \"index\": \"0\",\\n        \"previousHash\": \"0\",\\n        \"proof\": \"0\",\\n        \"timestamp\": \"1686824250.3353186\"\\n    },\\n    {\\n        \"currentHash\": \"0000095fbc41d81db203698178b4570a455d936feda95e7a09472e64b757303d\",\\n        \"data\": \"[1ca509ef-0495-4ab6-bcb8-2b3cb0fdfb7e]UserID Soong sent 160000 bitTokens to UserID Jang. \",\\n        \"index\": \"1\",\\n        \"previousHash\": \"91ee2f941351a761503582a77b51180d8813ded785732ef123b1fbdcd9bce283\",\\n        \"proof\": \"1226712\",\\n        \"timestamp\": \"1686824258.5422654\"\\n    },\\n    {\\n        \"currentHash\": \"00000fb8ca9ef2603bcdc5e483fd16d442f5a2fbc4c8e748210f29b5aaa019b7\",\\n        \"data\": \"[3325a1cb-ba6b-40f3-8fc3-80bfa9ba7207]UserID Soong sent 320000 bitTokens to UserID Woo. \",\\n        \"index\": \"2\",\\n        \"previousHash\": \"0000095fbc41d81db203698178b4570a455d936feda95e7a09472e64b757303d\",\\n        \"proof\": \"21663\",\\n        \"timestamp\": \"1686874246.3817694\"\\n    },\\n    {\\n        \"currentHash\": \"00000f3a918517f85f07107d63d9a371d1559305096b254864e3ea66d465245a\",\\n        \"data\": \"[0408f9e6-3937-4af5-9e6c-8c4b9a95d529]UserID Soong sent 520000 bitTokens to UserID Lee. \",\\n        \"index\": \"3\",\\n        \"previousHash\": \"00000fb8ca9ef2603bcdc5e483fd16d442f5a2fbc4c8e748210f29b5aaa019b7\",\\n        \"proof\": \"1340278\",\\n        \"timestamp\": \"1686874263.7805781\"\\n    },\\n    {\\n        \"currentHash\": \"0000063f392a7598d69f4059aa3423d4e81625cb5393e8e669c6030029d7e9c1\",\\n        \"data\": \"[90cdd30b-6105-4da5-af95-9c36048d085c]UserID Soong sent 500 bitTokens to UserID cho. \",\\n        \"index\": \"4\",\\n        \"previousHash\": \"00000f3a918517f85f07107d63d9a371d1559305096b254864e3ea66d465245a\",\\n        \"proof\": \"996847\",\\n        \"timestamp\": \"1686874274.5096118\"\\n    }\\n]'"
      ]
     },
     "execution_count": 7,
     "metadata": {},
     "output_type": "execute_result"
    }
   ],
   "source": [
    "_html"
   ]
  },
  {
   "cell_type": "code",
   "execution_count": 8,
   "id": "b2cc452a-ecfd-4003-bb20-941a9958bb61",
   "metadata": {},
   "outputs": [],
   "source": [
    "# _soup 변수에 BeautifulSoup를 통해 정제한 데이터를 저장\n",
    "_soup = BeautifulSoup(_html, \"html.parser\").text"
   ]
  },
  {
   "cell_type": "code",
   "execution_count": 9,
   "id": "6e11fb5c-3af5-475b-bb7b-a80301b60faf",
   "metadata": {},
   "outputs": [
    {
     "data": {
      "text/plain": [
       "'[\\n    {\\n        \"currentHash\": \"91ee2f941351a761503582a77b51180d8813ded785732ef123b1fbdcd9bce283\",\\n        \"data\": \"Genesis Block\",\\n        \"index\": \"0\",\\n        \"previousHash\": \"0\",\\n        \"proof\": \"0\",\\n        \"timestamp\": \"1686824250.3353186\"\\n    },\\n    {\\n        \"currentHash\": \"0000095fbc41d81db203698178b4570a455d936feda95e7a09472e64b757303d\",\\n        \"data\": \"[1ca509ef-0495-4ab6-bcb8-2b3cb0fdfb7e]UserID Soong sent 160000 bitTokens to UserID Jang. \",\\n        \"index\": \"1\",\\n        \"previousHash\": \"91ee2f941351a761503582a77b51180d8813ded785732ef123b1fbdcd9bce283\",\\n        \"proof\": \"1226712\",\\n        \"timestamp\": \"1686824258.5422654\"\\n    },\\n    {\\n        \"currentHash\": \"00000fb8ca9ef2603bcdc5e483fd16d442f5a2fbc4c8e748210f29b5aaa019b7\",\\n        \"data\": \"[3325a1cb-ba6b-40f3-8fc3-80bfa9ba7207]UserID Soong sent 320000 bitTokens to UserID Woo. \",\\n        \"index\": \"2\",\\n        \"previousHash\": \"0000095fbc41d81db203698178b4570a455d936feda95e7a09472e64b757303d\",\\n        \"proof\": \"21663\",\\n        \"timestamp\": \"1686874246.3817694\"\\n    },\\n    {\\n        \"currentHash\": \"00000f3a918517f85f07107d63d9a371d1559305096b254864e3ea66d465245a\",\\n        \"data\": \"[0408f9e6-3937-4af5-9e6c-8c4b9a95d529]UserID Soong sent 520000 bitTokens to UserID Lee. \",\\n        \"index\": \"3\",\\n        \"previousHash\": \"00000fb8ca9ef2603bcdc5e483fd16d442f5a2fbc4c8e748210f29b5aaa019b7\",\\n        \"proof\": \"1340278\",\\n        \"timestamp\": \"1686874263.7805781\"\\n    },\\n    {\\n        \"currentHash\": \"0000063f392a7598d69f4059aa3423d4e81625cb5393e8e669c6030029d7e9c1\",\\n        \"data\": \"[90cdd30b-6105-4da5-af95-9c36048d085c]UserID Soong sent 500 bitTokens to UserID cho. \",\\n        \"index\": \"4\",\\n        \"previousHash\": \"00000f3a918517f85f07107d63d9a371d1559305096b254864e3ea66d465245a\",\\n        \"proof\": \"996847\",\\n        \"timestamp\": \"1686874274.5096118\"\\n    }\\n]'"
      ]
     },
     "execution_count": 9,
     "metadata": {},
     "output_type": "execute_result"
    }
   ],
   "source": [
    "_soup"
   ]
  },
  {
   "cell_type": "code",
   "execution_count": 10,
   "id": "a1ed1e47-85e4-4b56-a8d3-48b51a536ec3",
   "metadata": {},
   "outputs": [],
   "source": [
    "# _noList라는 이름으로 빈 배열을 선언\n",
    "_noList = []\n",
    "# for문을 통해 _noList에 \"00000\"을 포함하는 컨텐츠만을 산입\n",
    "for _i in range(0, len(_soup.split(\" \"))):\n",
    "    if(\"00000\" in _soup.split(\" \")[_i]):\n",
    "        _noList.append(_soup.split(\" \")[_i])"
   ]
  },
  {
   "cell_type": "code",
   "execution_count": 11,
   "id": "86d0c9a2-898d-4743-b12b-77e8f4b4d39c",
   "metadata": {},
   "outputs": [
    {
     "data": {
      "text/plain": [
       "['\"0000095fbc41d81db203698178b4570a455d936feda95e7a09472e64b757303d\",\\n',\n",
       " '\"00000fb8ca9ef2603bcdc5e483fd16d442f5a2fbc4c8e748210f29b5aaa019b7\",\\n',\n",
       " '\"0000095fbc41d81db203698178b4570a455d936feda95e7a09472e64b757303d\",\\n',\n",
       " '\"00000f3a918517f85f07107d63d9a371d1559305096b254864e3ea66d465245a\",\\n',\n",
       " '\"00000fb8ca9ef2603bcdc5e483fd16d442f5a2fbc4c8e748210f29b5aaa019b7\",\\n',\n",
       " '\"0000063f392a7598d69f4059aa3423d4e81625cb5393e8e669c6030029d7e9c1\",\\n',\n",
       " '\"00000f3a918517f85f07107d63d9a371d1559305096b254864e3ea66d465245a\",\\n']"
      ]
     },
     "execution_count": 11,
     "metadata": {},
     "output_type": "execute_result"
    }
   ],
   "source": [
    "_noList"
   ]
  },
  {
   "cell_type": "code",
   "execution_count": 12,
   "id": "ba1820b7-a740-4e7a-8187-d1d13ecec492",
   "metadata": {},
   "outputs": [],
   "source": [
    "# _targetList라는 이름으로 빈 배열을 선언\n",
    "_targetList = []\n",
    "# for문을 통해 _targetList에 중복되지 않는 값만을 산입\n",
    "# 블록 간 Connection으로 인해 currentHash와 presentHash가 중복될 수 있기에, 중복 사항을 제거하여 presentHash만을 남긴다.\n",
    "for _i in range(0, len(_noList)):\n",
    "    if(_noList[_i] not in _targetList):\n",
    "        _targetList.append(_noList[_i])"
   ]
  },
  {
   "cell_type": "code",
   "execution_count": 13,
   "id": "99a51173-091c-405f-87a0-c61812297310",
   "metadata": {},
   "outputs": [
    {
     "data": {
      "text/plain": [
       "['\"0000095fbc41d81db203698178b4570a455d936feda95e7a09472e64b757303d\",\\n',\n",
       " '\"00000fb8ca9ef2603bcdc5e483fd16d442f5a2fbc4c8e748210f29b5aaa019b7\",\\n',\n",
       " '\"00000f3a918517f85f07107d63d9a371d1559305096b254864e3ea66d465245a\",\\n',\n",
       " '\"0000063f392a7598d69f4059aa3423d4e81625cb5393e8e669c6030029d7e9c1\",\\n']"
      ]
     },
     "execution_count": 13,
     "metadata": {},
     "output_type": "execute_result"
    }
   ],
   "source": [
    "_targetList"
   ]
  },
  {
   "cell_type": "code",
   "execution_count": 16,
   "id": "25018815-abdc-4a27-b97b-1369e9cb505a",
   "metadata": {},
   "outputs": [],
   "source": [
    "# 만약 변수로 입력받은 targetCurrentHash가 presentHash값이 담긴 _targetList 내에 위치한다면 _targetString 변수에 \"온전한 블록\" 문자열을 저장하고 for문을 탈출,\n",
    "# 대응되는 값이 단 하나도 존재하지 않는다면 _targetString에 \"온전하지 않은 블록\" 문자열을 저장.\n",
    "\n",
    "targetCurrentHash = \"00000fb8ca9ef2603bcdc5e483fd16d442f5a2fbc4c8e748210f29b5aaa019b7\""
   ]
  },
  {
   "cell_type": "code",
   "execution_count": 17,
   "id": "3ad67e06-0a94-480e-addb-4e3d46971c7b",
   "metadata": {},
   "outputs": [
    {
     "data": {
      "text/plain": [
       "'온전한 블록'"
      ]
     },
     "execution_count": 17,
     "metadata": {},
     "output_type": "execute_result"
    }
   ],
   "source": [
    "for _i in range(0, len(_targetList)):\n",
    "    if(targetCurrentHash in _targetList[_i]):\n",
    "        _targetString = \"온전한 블록\"\n",
    "        break\n",
    "    else:\n",
    "        _targetString = \"온전하지 않은 블록\"\n",
    "\n",
    "# 이후 설정하였던 _targetString 문자열을 return\n",
    "_targetString"
   ]
  }
 ],
 "metadata": {
  "kernelspec": {
   "display_name": "Python 3 (ipykernel)",
   "language": "python",
   "name": "python3"
  },
  "language_info": {
   "codemirror_mode": {
    "name": "ipython",
    "version": 3
   },
   "file_extension": ".py",
   "mimetype": "text/x-python",
   "name": "python",
   "nbconvert_exporter": "python",
   "pygments_lexer": "ipython3",
   "version": "3.9.13"
  }
 },
 "nbformat": 4,
 "nbformat_minor": 5
}
