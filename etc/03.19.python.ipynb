{
 "cells": [
  {
   "cell_type": "code",
   "execution_count": 1,
   "id": "e48ddf65-5cda-499b-8e58-5ecfbaf4449c",
   "metadata": {},
   "outputs": [],
   "source": [
    "tvList = [\"UN40EN001\", \"UN40EN002\", \"UN40EN003\", \"UN40EN004\"]"
   ]
  },
  {
   "cell_type": "code",
   "execution_count": 2,
   "id": "b4782542-f397-47e2-92bc-71a7dad2c568",
   "metadata": {},
   "outputs": [],
   "source": [
    "# 제품목록을 전부 붙여야 한다."
   ]
  },
  {
   "cell_type": "code",
   "execution_count": 3,
   "id": "714cf1cc-76c9-43a1-b630-32f715aca5c9",
   "metadata": {},
   "outputs": [],
   "source": [
    "preFix = \"LEDTV_\""
   ]
  },
  {
   "cell_type": "code",
   "execution_count": 4,
   "id": "c7b6a787-6cc3-4e02-aef9-b69043da80ab",
   "metadata": {},
   "outputs": [],
   "source": [
    "# 일괄 적용할 접두어: \"LEDTV_\""
   ]
  },
  {
   "cell_type": "code",
   "execution_count": 5,
   "id": "4defae5a-952f-4337-b1ce-a5ee46f69a6f",
   "metadata": {},
   "outputs": [],
   "source": [
    "lenTvList = len(tvList)"
   ]
  },
  {
   "cell_type": "code",
   "execution_count": 6,
   "id": "fac4ab81-fcec-4098-b71b-9d62111a5351",
   "metadata": {},
   "outputs": [],
   "source": [
    "#lenTvList : tvList 내 데이터의 갯수를 구한다."
   ]
  },
  {
   "cell_type": "code",
   "execution_count": 7,
   "id": "b8f54543-9b90-49e6-8d07-616746cd6cb9",
   "metadata": {},
   "outputs": [],
   "source": [
    "for i in range(0, lenTvList):\n",
    "    tvList[i] = preFix + tvList[i]"
   ]
  },
  {
   "cell_type": "code",
   "execution_count": 8,
   "id": "a57c9c60-2dd1-4442-b26e-e0433a789e95",
   "metadata": {},
   "outputs": [],
   "source": [
    "# for 문의 구성\n",
    "# for i in range(A, B, C) 구문은 다음과 같이 작동한다.\n",
    "# A: i의 시작값을 지정\n",
    "# B: i가 해당 값, 혹은 조건에 이르면 반복을 종료\n",
    "# C: i의 증가폭. 1인 경우 생략 가능하다."
   ]
  },
  {
   "cell_type": "code",
   "execution_count": 9,
   "id": "f4960fba-9ba9-4e91-a15d-24ebc39ce34e",
   "metadata": {},
   "outputs": [
    {
     "data": {
      "text/plain": [
       "['LEDTV_UN40EN001', 'LEDTV_UN40EN002', 'LEDTV_UN40EN003', 'LEDTV_UN40EN004']"
      ]
     },
     "execution_count": 9,
     "metadata": {},
     "output_type": "execute_result"
    }
   ],
   "source": [
    "tvList"
   ]
  },
  {
   "cell_type": "code",
   "execution_count": 10,
   "id": "e60a6039-ab64-4ffa-8fff-6d858ab12117",
   "metadata": {},
   "outputs": [],
   "source": [
    "# 비교 연산자"
   ]
  },
  {
   "cell_type": "code",
   "execution_count": 11,
   "id": "2ab549bb-e99e-435e-b651-5dd6a66f2692",
   "metadata": {},
   "outputs": [],
   "source": [
    "# 1. A == B : A와 B가 같으면 참, 다르면 거짓\n",
    "\n",
    "# 2. A != B : A와 B가 다르면 참, 같으면 거짓\n",
    "\n",
    "# 3.  A > B : A가 B보다 크면 참, 작으면 거짓\n",
    "\n",
    "# 4.  A < B : A가 B보다 작으면 참, 크면 거짓\n",
    "\n",
    "# 5. A >= B : A가 B보다 크거나 같으면 참, 작으면 거짓\n",
    "\n",
    "# 6. A <= B : A가 B보다 작거나 같으면 참, 크면 거짓"
   ]
  },
  {
   "cell_type": "code",
   "execution_count": 12,
   "id": "391a96a8-8d1c-4ecd-807c-e845e6f2b79e",
   "metadata": {},
   "outputs": [],
   "source": [
    "listB = [1, 2, 3, 4, 5]"
   ]
  },
  {
   "cell_type": "code",
   "execution_count": 13,
   "id": "46b324e3-8e26-4d6a-bfe0-2efd916b57b7",
   "metadata": {},
   "outputs": [
    {
     "name": "stdout",
     "output_type": "stream",
     "text": [
      "False\n"
     ]
    }
   ],
   "source": [
    "# 1. ==\n",
    "\n",
    "if(list[0] == list[1]):\n",
    "    print(True)\n",
    "else:\n",
    "    print(False)"
   ]
  },
  {
   "cell_type": "code",
   "execution_count": 14,
   "id": "5e93725e-6871-4d03-8900-d43df52d7bc0",
   "metadata": {},
   "outputs": [],
   "source": [
    "# == ) list[0] = 1, list[1] = 2이므로 다름.\n",
    "# 이에 False가 출력됨."
   ]
  },
  {
   "cell_type": "code",
   "execution_count": 15,
   "id": "8d10f941-f7ee-4e2c-a00a-9769da28d38f",
   "metadata": {},
   "outputs": [
    {
     "name": "stdout",
     "output_type": "stream",
     "text": [
      "True\n"
     ]
    }
   ],
   "source": [
    "# 2. !=\n",
    "\n",
    "if(listB[0] != list[1]):\n",
    "    print(True)\n",
    "else:\n",
    "    print(False)"
   ]
  },
  {
   "cell_type": "code",
   "execution_count": 16,
   "id": "bca2e1a7-3783-4ad7-a0f0-d3570e3c9182",
   "metadata": {},
   "outputs": [],
   "source": [
    "# != ) list[0] = 1, list[1] = 2이므로 다름.\n",
    "# 이에 True가 출력됨."
   ]
  },
  {
   "cell_type": "code",
   "execution_count": 17,
   "id": "3d3eced3-9c4f-41e5-9913-fccdc398eafb",
   "metadata": {},
   "outputs": [
    {
     "name": "stdout",
     "output_type": "stream",
     "text": [
      "False\n"
     ]
    }
   ],
   "source": [
    "# 3. >\n",
    "\n",
    "if(listB[3] > listB[4]):\n",
    "    print(True)\n",
    "else:\n",
    "    print(False)"
   ]
  },
  {
   "cell_type": "code",
   "execution_count": 18,
   "id": "16fd6163-d227-4ab2-9c94-b832e3873558",
   "metadata": {},
   "outputs": [],
   "source": [
    "# >) list[3] = 4, list[4] = 5 이므로 list[3]<list[4]\n",
    "# 그러므로 False가 출력됨"
   ]
  },
  {
   "cell_type": "code",
   "execution_count": 19,
   "id": "34b90d71-9d2c-4f5e-8416-352fe1fe3764",
   "metadata": {},
   "outputs": [
    {
     "name": "stdout",
     "output_type": "stream",
     "text": [
      "True\n"
     ]
    }
   ],
   "source": [
    "# 4. <\n",
    "\n",
    "if(listB[3] < listB[4]):\n",
    "    print(True)\n",
    "else:\n",
    "    print(False)"
   ]
  },
  {
   "cell_type": "code",
   "execution_count": 20,
   "id": "15de136b-f2a1-4c50-96b2-0eaf785ecf96",
   "metadata": {},
   "outputs": [],
   "source": [
    "# >) list[3] = 4, list[4] = 5 이므로 list[3]<list[4]\n",
    "# 그러므로 True 가 출력됨"
   ]
  },
  {
   "cell_type": "code",
   "execution_count": 21,
   "id": "5fd1428c-5cd4-4536-8391-fa6e74e09129",
   "metadata": {},
   "outputs": [
    {
     "name": "stdout",
     "output_type": "stream",
     "text": [
      "False\n"
     ]
    }
   ],
   "source": [
    "# 5. >=\n",
    "\n",
    "if(listB[2] >= listB[4]):\n",
    "    print(True)\n",
    "else:\n",
    "    print(False)"
   ]
  },
  {
   "cell_type": "code",
   "execution_count": 22,
   "id": "0c2bae50-cf15-4c63-ad90-2e84bbcf6c58",
   "metadata": {},
   "outputs": [],
   "source": [
    "# >=) listB[2] = 3, listB[4] = 5\n",
    "# 3<5 이므로 False가 출력됨"
   ]
  },
  {
   "cell_type": "code",
   "execution_count": 23,
   "id": "ff91c7d9-03d1-4cfe-a059-95f59955f559",
   "metadata": {},
   "outputs": [
    {
     "name": "stdout",
     "output_type": "stream",
     "text": [
      "True\n"
     ]
    }
   ],
   "source": [
    "# 6. <=\n",
    "\n",
    "if(listB[2] <= listB[4]):\n",
    "    print(True)\n",
    "else:\n",
    "    print(False)"
   ]
  },
  {
   "cell_type": "code",
   "execution_count": 24,
   "id": "1a2d83c4-cc9c-4d6f-b237-3de071834307",
   "metadata": {},
   "outputs": [],
   "source": [
    "# >=) listB[2] = 3, listB[4] = 5\n",
    "# 3<5 이므로 True가 출력됨"
   ]
  },
  {
   "cell_type": "code",
   "execution_count": null,
   "id": "afa0a1ee-ce9a-4ffe-8522-ba5ff5461c0c",
   "metadata": {},
   "outputs": [],
   "source": []
  },
  {
   "cell_type": "code",
   "execution_count": 25,
   "id": "65fcec89-1a3d-4d48-b682-e7db4d075560",
   "metadata": {},
   "outputs": [],
   "source": [
    "# 논리 연산자"
   ]
  },
  {
   "cell_type": "code",
   "execution_count": 26,
   "id": "760675ff-bcd6-4e1c-85d0-b2cf48add684",
   "metadata": {},
   "outputs": [],
   "source": [
    "# 1. A & B : A와 B가 모두 조건을 충족해야 참, 하나라도 아니면 거짓"
   ]
  },
  {
   "cell_type": "code",
   "execution_count": 27,
   "id": "80e0125a-2492-4ab9-ac29-af39ba7765f2",
   "metadata": {},
   "outputs": [],
   "source": [
    "# 2. A | B : A 혹은 B 중 하나만이라도 조건을 충족하면 참, 모두 아니라면 거짓."
   ]
  },
  {
   "cell_type": "code",
   "execution_count": 28,
   "id": "5f5c93a2-d9fb-4f7d-a8fe-f5f96a189280",
   "metadata": {},
   "outputs": [],
   "source": [
    "# 3. Not A : A가 아님...? 월요일에 물어보자"
   ]
  },
  {
   "cell_type": "code",
   "execution_count": 29,
   "id": "096c3c8a-1a62-46d1-86ba-aaff92bded05",
   "metadata": {},
   "outputs": [],
   "source": [
    "# ex."
   ]
  },
  {
   "cell_type": "code",
   "execution_count": 30,
   "id": "630d586f-74be-49fb-b2be-656db4ff1b42",
   "metadata": {},
   "outputs": [],
   "source": [
    "A = 3\n",
    "B = 5"
   ]
  },
  {
   "cell_type": "code",
   "execution_count": 31,
   "id": "035b0313-f6f4-4f62-8f6e-f12eab3b1c39",
   "metadata": {},
   "outputs": [
    {
     "name": "stdout",
     "output_type": "stream",
     "text": [
      "FALSE\n"
     ]
    }
   ],
   "source": [
    "if(A == 3 & B == 3):\n",
    "    print(\"TRUE\")\n",
    "else:\n",
    "    print(\"FALSE\")"
   ]
  },
  {
   "cell_type": "code",
   "execution_count": 32,
   "id": "34d079fd-424c-44f0-91ea-04ed68f1e460",
   "metadata": {},
   "outputs": [],
   "source": [
    "# A 는 3이나, B가 5이다.\n",
    "# &는 A와 B 모두 3이어야만 참으로 인식하므로\n",
    "# False가 출력되었다."
   ]
  },
  {
   "cell_type": "code",
   "execution_count": 33,
   "id": "a7054c8e-b553-42cc-b15b-fd016e46f5f9",
   "metadata": {},
   "outputs": [],
   "source": [
    "# ex02."
   ]
  },
  {
   "cell_type": "code",
   "execution_count": 34,
   "id": "889cff3a-51c6-47ac-a107-e9cda088a7b6",
   "metadata": {},
   "outputs": [],
   "source": [
    "C = 4\n",
    "D = 6"
   ]
  },
  {
   "cell_type": "code",
   "execution_count": 35,
   "id": "f60da711-7b0c-467a-8f6e-ef8561b097e4",
   "metadata": {},
   "outputs": [
    {
     "name": "stdout",
     "output_type": "stream",
     "text": [
      "FALSE\n"
     ]
    }
   ],
   "source": [
    "if(C == 4| D == 4):\n",
    "    print(\"TRUE\")\n",
    "else:\n",
    "    print(\"FALSE\")"
   ]
  },
  {
   "cell_type": "code",
   "execution_count": 36,
   "id": "dfdc9000-625b-4cbf-ac0f-b7d3612a5299",
   "metadata": {},
   "outputs": [],
   "source": [
    "# C는 4이나 D는 6인 상황에서,\n",
    "# |(or를 의미함)는 앞, 혹은 뒤 조건 중 하나만이라도\n",
    "# 참이라면 참으로 인식하기에\n",
    "# True 가 출력되었다."
   ]
  },
  {
   "cell_type": "code",
   "execution_count": null,
   "id": "f7c0b6d8-0c50-4cf6-abaf-43bc51523111",
   "metadata": {},
   "outputs": [],
   "source": []
  },
  {
   "cell_type": "code",
   "execution_count": null,
   "id": "1cb91eaf-b914-4e72-9ce4-dadcb2c2f265",
   "metadata": {},
   "outputs": [],
   "source": [
    "# for 문"
   ]
  },
  {
   "cell_type": "code",
   "execution_count": 38,
   "id": "18364ad5-b50d-4a21-955f-f59214b0d8ff",
   "metadata": {},
   "outputs": [],
   "source": [
    "tvList02 = [\"UN40EN001\", \"UN40EN002\", \"UN40EN003\", \"UN40EN004\"]"
   ]
  },
  {
   "cell_type": "code",
   "execution_count": 39,
   "id": "0bd8d987-4bed-47ef-9ee6-582416ee64a8",
   "metadata": {},
   "outputs": [],
   "source": [
    "lenTvList02 = len(tvList02)"
   ]
  },
  {
   "cell_type": "code",
   "execution_count": 40,
   "id": "403dc3f6-b625-478a-87d5-6906a3bb4913",
   "metadata": {},
   "outputs": [],
   "source": [
    "preFix02 = \"LED_TV_\""
   ]
  },
  {
   "cell_type": "code",
   "execution_count": 41,
   "id": "2f084518-708f-4c43-8dad-3c7b55faa055",
   "metadata": {},
   "outputs": [],
   "source": [
    "for i in range(0, lenTvList02):\n",
    "    tvList02[i] = preFix02 + tvList02[i]"
   ]
  },
  {
   "cell_type": "code",
   "execution_count": 42,
   "id": "405a5acb-58d7-4403-8186-6d9973f591aa",
   "metadata": {},
   "outputs": [
    {
     "data": {
      "text/plain": [
       "['LED_TV_UN40EN001',\n",
       " 'LED_TV_UN40EN002',\n",
       " 'LED_TV_UN40EN003',\n",
       " 'LED_TV_UN40EN004']"
      ]
     },
     "execution_count": 42,
     "metadata": {},
     "output_type": "execute_result"
    }
   ],
   "source": [
    "tvList02"
   ]
  },
  {
   "cell_type": "code",
   "execution_count": 11,
   "id": "7efcf4f8-2b60-4a48-801d-9e64a0e2abbe",
   "metadata": {},
   "outputs": [],
   "source": [
    "# while 문"
   ]
  },
  {
   "cell_type": "code",
   "execution_count": 43,
   "id": "c5b9df83-f0cb-4433-8fb3-e440b9d28eb8",
   "metadata": {},
   "outputs": [],
   "source": [
    "tvList03 = [\"UN40EN001\", \"UN40EN002\", \"UN40EN003\", \"UN40EN004\"]"
   ]
  },
  {
   "cell_type": "code",
   "execution_count": 44,
   "id": "74a747d8-578e-48c7-8096-35120bcdc0fe",
   "metadata": {},
   "outputs": [],
   "source": [
    "preFix03 = \"LEDTV_\""
   ]
  },
  {
   "cell_type": "code",
   "execution_count": 45,
   "id": "5d4f3c65-409e-4c8e-96ac-89fd5093cf91",
   "metadata": {},
   "outputs": [],
   "source": [
    "i = 0\n",
    "lenTvList03 = len(tvList03)\n",
    "while(i<lenTvList03):\n",
    "    tvList03[i] = preFix03 + tvList03[i]\n",
    "    i = i + 1"
   ]
  },
  {
   "cell_type": "code",
   "execution_count": 46,
   "id": "f56f1f74-fdd4-4665-9d45-97d998858086",
   "metadata": {},
   "outputs": [
    {
     "data": {
      "text/plain": [
       "['LEDTV_UN40EN001', 'LEDTV_UN40EN002', 'LEDTV_UN40EN003', 'LEDTV_UN40EN004']"
      ]
     },
     "execution_count": 46,
     "metadata": {},
     "output_type": "execute_result"
    }
   ],
   "source": [
    "tvList03"
   ]
  },
  {
   "cell_type": "code",
   "execution_count": 47,
   "id": "50cae07d-1199-417f-b5b2-10446e6f09ff",
   "metadata": {},
   "outputs": [],
   "source": [
    "# for 문과 while 문\n",
    "# 반복 횟수 구간, 요청 명령 등\n",
    "# 비슷한 구조를 지니고 있으며, 동일한 명령을 수행 가능하다."
   ]
  },
  {
   "cell_type": "code",
   "execution_count": null,
   "id": "f2ed5897-b5f8-4df0-a513-38a1f4dfed62",
   "metadata": {},
   "outputs": [],
   "source": []
  },
  {
   "cell_type": "code",
   "execution_count": 48,
   "id": "d4e9778e-0ae0-49c0-85e7-cfae2ee5529c",
   "metadata": {},
   "outputs": [],
   "source": [
    "# 실습문제 01"
   ]
  },
  {
   "cell_type": "code",
   "execution_count": 61,
   "id": "1df5172f-fc1b-4766-a442-badb58eede1a",
   "metadata": {},
   "outputs": [],
   "source": [
    "tvListB = [\"'UN40EN001\", \"'LEDTV_UN40EN002\", \"'LEDTV_LEDTV_UN40EN003\", \"UN40EN004\"]"
   ]
  },
  {
   "cell_type": "code",
   "execution_count": 62,
   "id": "db83ca41-1923-4321-b98e-76502dbf5c01",
   "metadata": {},
   "outputs": [],
   "source": [
    "preFixB = \"LEDTV_\""
   ]
  },
  {
   "cell_type": "code",
   "execution_count": 63,
   "id": "5fbe243a-dece-43af-9fd4-fb1309077ccb",
   "metadata": {},
   "outputs": [],
   "source": [
    "lenTvListB = len(tvListB)"
   ]
  },
  {
   "cell_type": "code",
   "execution_count": 66,
   "id": "a3f91f8d-28cf-430f-9781-0e1cdc08ff16",
   "metadata": {},
   "outputs": [],
   "source": [
    "for i in range(0, lenTvListB):\n",
    "    if(tvListB[i].count(preFixB) > 1):\n",
    "        tvListB[i] = preFixB + tvListB[i].replace(preFixB, \"\")\n",
    "    elif(tvListB[i].count(preFixB) == 1):\n",
    "        pass\n",
    "    else:\n",
    "        tvListB[i] = preFixB + tvListB[i]"
   ]
  },
  {
   "cell_type": "code",
   "execution_count": 67,
   "id": "7445fb41-5bb9-4470-961a-6ec9821e38e3",
   "metadata": {},
   "outputs": [
    {
     "name": "stdout",
     "output_type": "stream",
     "text": [
      "[\"LEDTV_'UN40EN001\", \"'LEDTV_UN40EN002\", \"LEDTV_'UN40EN003\", 'LEDTV_UN40EN004']\n"
     ]
    }
   ],
   "source": [
    "print(tvListB)"
   ]
  },
  {
   "cell_type": "code",
   "execution_count": 68,
   "id": "b37d2e8f-18d3-4c6f-874c-dddc170a6737",
   "metadata": {},
   "outputs": [],
   "source": [
    "# for로 반복문 조건을 건 상황에서\n",
    "# 하부 if 문으로 추가 조건을 설정할 수 있다."
   ]
  },
  {
   "cell_type": "code",
   "execution_count": null,
   "id": "32ca5de2-6e1d-470b-8207-56b09aa1472c",
   "metadata": {},
   "outputs": [],
   "source": []
  },
  {
   "cell_type": "code",
   "execution_count": 69,
   "id": "1ff9ded1-c511-4f2d-ae40-2d0dcc99ff56",
   "metadata": {},
   "outputs": [],
   "source": [
    "# 실습문제 02"
   ]
  },
  {
   "cell_type": "code",
   "execution_count": 73,
   "id": "12255b26-221a-4888-9c4d-e405f8a4c8f9",
   "metadata": {},
   "outputs": [],
   "source": [
    "nationList = [\"A01\", \"한국\", \"A02\", \"미국\", \"A03\", \"프랑스\"]"
   ]
  },
  {
   "cell_type": "code",
   "execution_count": 74,
   "id": "dc7dd23e-266d-43fc-a64e-ed6c2540758d",
   "metadata": {},
   "outputs": [],
   "source": [
    "nationCodeList = []"
   ]
  },
  {
   "cell_type": "code",
   "execution_count": 75,
   "id": "d0136984-8e1b-4ea9-92f6-08d808d519da",
   "metadata": {},
   "outputs": [],
   "source": [
    "stdChar = \"A\""
   ]
  },
  {
   "cell_type": "code",
   "execution_count": 76,
   "id": "59f7449c-da96-45f6-a90f-24f91e88643e",
   "metadata": {},
   "outputs": [],
   "source": [
    "lenNationList = len(nationList)"
   ]
  },
  {
   "cell_type": "code",
   "execution_count": 77,
   "id": "b59486e4-b4eb-4ac8-8485-d36bb8b3a9ee",
   "metadata": {},
   "outputs": [],
   "source": [
    "for i in range(0, lenNationList):\n",
    "    if(nationList[i].count(stdChar) > 0):\n",
    "        nationCodeList.append(nationList[i])\n",
    "    else:\n",
    "        pass"
   ]
  },
  {
   "cell_type": "code",
   "execution_count": 81,
   "id": "ba3e8371-ce80-4ea2-b7cf-eaa593eb3251",
   "metadata": {},
   "outputs": [
    {
     "data": {
      "text/plain": [
       "['A01', 'A02', 'A03']"
      ]
     },
     "execution_count": 81,
     "metadata": {},
     "output_type": "execute_result"
    }
   ],
   "source": [
    "nationCodeList"
   ]
  },
  {
   "cell_type": "code",
   "execution_count": 80,
   "id": "fabcb9c8-0ea0-4612-bd49-a6ab298fb5e1",
   "metadata": {},
   "outputs": [
    {
     "data": {
      "text/plain": [
       "['A01', '한국', 'A02', '미국', 'A03', '프랑스']"
      ]
     },
     "execution_count": 80,
     "metadata": {},
     "output_type": "execute_result"
    }
   ],
   "source": [
    "nationList"
   ]
  },
  {
   "cell_type": "code",
   "execution_count": 79,
   "id": "cc7338c0-7e75-4052-8d4d-892112df58c9",
   "metadata": {},
   "outputs": [],
   "source": [
    "# 갯수를 셀 지정 문자로 A를 선정하였다.\n",
    "# 만약 nationList[i] 항목이 A를 지니고 있다면\n",
    "# 해당 데이터를 nationCodeList에 삽입하고,\n",
    "# 지니지 않은 경우 그대로 뒀다.\n",
    "\n",
    "# 이를 통해 국가코드만 존재하는 신규 리스트를 만들고\n",
    "# 기존 데이터는 손대지 않은 채 해결할 수 있었다."
   ]
  },
  {
   "cell_type": "code",
   "execution_count": null,
   "id": "8b6bdd14-f927-49af-b6ac-9f676a3192fb",
   "metadata": {},
   "outputs": [],
   "source": []
  },
  {
   "cell_type": "code",
   "execution_count": 82,
   "id": "650440ba-31cb-4db3-a40c-715b549e67d8",
   "metadata": {},
   "outputs": [],
   "source": [
    "# 실습문제 03"
   ]
  },
  {
   "cell_type": "code",
   "execution_count": 83,
   "id": "2305a3af-beae-4f07-92c3-59383804591d",
   "metadata": {},
   "outputs": [],
   "source": [
    "SCORE = 80"
   ]
  },
  {
   "cell_type": "code",
   "execution_count": 84,
   "id": "020c2d66-1123-4fda-a98a-83e82ba73c43",
   "metadata": {},
   "outputs": [
    {
     "name": "stdout",
     "output_type": "stream",
     "text": [
      "GRADE = B\n"
     ]
    }
   ],
   "source": [
    "if(SCORE >= 90):\n",
    "    print(\"GRADE = A\")\n",
    "elif(SCORE >= 80):\n",
    "    print(\"GRADE = B\")\n",
    "else:\n",
    "    print(\"GRADE = C\")"
   ]
  },
  {
   "cell_type": "code",
   "execution_count": 85,
   "id": "d53ec509-b229-46da-98f3-0e560e4da7f5",
   "metadata": {},
   "outputs": [],
   "source": [
    "# 90점 이상 데이터는 먼저 A 처리하고,\n",
    "# 남은 데이터 중 80 이상을 B,\n",
    "# 나머지 데이터들을 C로 판단하는 구조이다."
   ]
  },
  {
   "cell_type": "code",
   "execution_count": null,
   "id": "3433e9a3-829e-4c5d-8c80-516ebbab1362",
   "metadata": {},
   "outputs": [],
   "source": []
  },
  {
   "cell_type": "code",
   "execution_count": 86,
   "id": "f95cb4c6-73c8-45d9-9e75-06e99282e248",
   "metadata": {},
   "outputs": [],
   "source": [
    "# 실습문제 04"
   ]
  },
  {
   "cell_type": "code",
   "execution_count": 95,
   "id": "ef1e90f2-f157-40d1-a741-4dcc47a9e944",
   "metadata": {},
   "outputs": [],
   "source": [
    "tvListL = [\"UN40EN001\", \"LEDTV_UN40EN002\", \"LEDTV_UN40EN003\", \"ledtv_UN40EN004\"]"
   ]
  },
  {
   "cell_type": "code",
   "execution_count": 96,
   "id": "3207ae3a-817c-4b71-945f-8a1e997a9049",
   "metadata": {},
   "outputs": [],
   "source": [
    "lenTvListL = len(tvListL)"
   ]
  },
  {
   "cell_type": "code",
   "execution_count": 97,
   "id": "cad79223-5276-4669-ac4f-487922ca7115",
   "metadata": {},
   "outputs": [],
   "source": [
    "for i in range(0, lenTvListL):\n",
    "    tvListL[i] = tvListL[i].upper()"
   ]
  },
  {
   "cell_type": "code",
   "execution_count": null,
   "id": "dc22cbf7-d224-4fe9-8ba1-0359ea84e665",
   "metadata": {},
   "outputs": [],
   "source": [
    "# 안의 모든 문자들을 대문자로 변경"
   ]
  },
  {
   "cell_type": "code",
   "execution_count": 98,
   "id": "83f79f6a-82d4-4eb6-ba21-457301e7498f",
   "metadata": {},
   "outputs": [],
   "source": [
    "preFixL = \"LEDTV_\""
   ]
  },
  {
   "cell_type": "code",
   "execution_count": 99,
   "id": "d87be74a-218f-4289-85ce-d935f07ea6ed",
   "metadata": {},
   "outputs": [],
   "source": [
    "for i in range(0, lenTvListL):\n",
    "    if(tvListL[i].count(preFixL) > 1):\n",
    "        tvListL[i] = preFixL + tvListL[i].replace(preFixL, \"\")\n",
    "    elif(tvListL[i].count(preFixL) == 1):\n",
    "        pass\n",
    "    else:\n",
    "        tvListL[i] = preFixL + tvListL[i]"
   ]
  },
  {
   "cell_type": "code",
   "execution_count": 100,
   "id": "402aecd6-ee29-4706-8c03-13946b23b6a4",
   "metadata": {},
   "outputs": [
    {
     "data": {
      "text/plain": [
       "['LEDTV_UN40EN001', 'LEDTV_UN40EN002', 'LEDTV_UN40EN003', 'LEDTV_UN40EN004']"
      ]
     },
     "execution_count": 100,
     "metadata": {},
     "output_type": "execute_result"
    }
   ],
   "source": [
    "tvListL"
   ]
  },
  {
   "cell_type": "code",
   "execution_count": null,
   "id": "a2610df6-1e19-475c-a6fc-4cc77293066b",
   "metadata": {},
   "outputs": [],
   "source": []
  },
  {
   "cell_type": "code",
   "execution_count": null,
   "id": "2af35866-3cde-49b9-83d4-07ac3fe6fe88",
   "metadata": {},
   "outputs": [],
   "source": [
    "# 반복 프로세스의 함수화"
   ]
  },
  {
   "cell_type": "code",
   "execution_count": 101,
   "id": "f33e7857-cbe7-413f-b03f-e15a6c05f0f6",
   "metadata": {},
   "outputs": [],
   "source": [
    "# def : 앞으로 함수를 만들겠다고 선언"
   ]
  },
  {
   "cell_type": "code",
   "execution_count": null,
   "id": "46116954-561d-447d-ab47-af4030dee027",
   "metadata": {},
   "outputs": [],
   "source": [
    "# 함수의 구조"
   ]
  },
  {
   "cell_type": "code",
   "execution_count": null,
   "id": "a19b49ca-1de2-4b48-b952-a5086ea60049",
   "metadata": {},
   "outputs": [],
   "source": [
    "# def FunctionName (Variable):\n",
    "#   step a\n",
    "#   step b\n",
    "#   ...\n",
    "#   outValue\n",
    "#   return = outValue"
   ]
  },
  {
   "cell_type": "code",
   "execution_count": null,
   "id": "ce174d83-8f1b-4f87-a15b-edba51b05770",
   "metadata": {},
   "outputs": [],
   "source": []
  },
  {
   "cell_type": "code",
   "execution_count": null,
   "id": "26e930ee-7480-4584-bac5-c808afcf6bb9",
   "metadata": {},
   "outputs": [],
   "source": [
    "# 만약, 리스트 내 최소 최대값을 모두 제거한 후\n",
    "# 평균을 구하는 함수를 만든다면"
   ]
  },
  {
   "cell_type": "code",
   "execution_count": 106,
   "id": "76708bc9-3187-4d01-b10d-26a034243381",
   "metadata": {},
   "outputs": [
    {
     "data": {
      "text/plain": [
       "3.1666666666666665"
      ]
     },
     "execution_count": 106,
     "metadata": {},
     "output_type": "execute_result"
    }
   ],
   "source": [
    "targetList = [ 1, 1, 2, 2, 3, 4, 4, 4, 5, 5]\n",
    "\n",
    "maxList = max(targetList)\n",
    "    # 최대값 구하기\n",
    "countMax = targetList.count(maxList)\n",
    "    # 최대값 갯수 파악\n",
    "minList = min(targetList)\n",
    "    # 최소값 구하기\n",
    "countMin = targetList.count(minList)\n",
    "    # 최소값 갯수 파악\n",
    "targetList.sort(reverse = False)\n",
    "    # 리스트 오름차순 정렬\n",
    "targetList = targetList[countMin:]\n",
    "    # 리스트에서 최소값을 갯수만큼 제거\n",
    "targetList.sort(reverse = True)\n",
    "    # 리스트 내림차순 정렬\n",
    "targetList = targetList[countMax:]\n",
    "    # 리스트에서 최대값을 갯수만큼 제거\n",
    "sumList = sum(targetList)\n",
    "# 리스트 내 값을 합산\n",
    "lenList = len(targetList)\n",
    "# 리스트 내 값의 갯수 파악\n",
    "average = sumList / lenList\n",
    "# 평균 = 합산값 / 갯수\n",
    "average"
   ]
  },
  {
   "cell_type": "code",
   "execution_count": 107,
   "id": "b806b932-c57c-4ad3-a2ce-b2119fb8e8c7",
   "metadata": {},
   "outputs": [],
   "source": [
    "# 와 같은 구조로 리스트 평균을 구한다 하였을 때"
   ]
  },
  {
   "cell_type": "code",
   "execution_count": 110,
   "id": "76aa657e-c24c-4286-b230-c4b138f40c12",
   "metadata": {},
   "outputs": [],
   "source": [
    "def minMaxAvg(targetList):\n",
    "    \"\"\"\n",
    "    리스트 내 최소 최대값을 모두 제거한 후 평균을 구하는 함수입니다.\n",
    "    parameter : targetList(float)\n",
    "    return : average(float)\n",
    "    \"\"\"\n",
    "# targetList = [ 1, 1, 2, 2, 3, 4, 4, 4, 5, 5]\n",
    "\n",
    "    _maxList = max(targetList)\n",
    "    # 최대값 구하기\n",
    "    _countMax = targetList.count(_maxList)\n",
    "    # 최대값 갯수 파악\n",
    "    _minList = min(targetList)\n",
    "    # 최소값 구하기\n",
    "    _countMin = targetList.count(_minList)\n",
    "    # 최소값 갯수 파악\n",
    "    targetList.sort(reverse = False)\n",
    "    # 리스트 오름차순 정렬\n",
    "    targetList = targetList[_countMin:]\n",
    "    # 리스트에서 최소값을 갯수만큼 제거\n",
    "    targetList.sort(reverse = True)\n",
    "    # 리스트 내림차순 정렬\n",
    "    targetList = targetList[_countMax:]\n",
    "    # 리스트에서 최대값을 갯수만큼 제거\n",
    "    sumList = sum(targetList)\n",
    "    # 리스트 내 값을 합산\n",
    "    lenList = len(targetList)\n",
    "    # 리스트 내 값의 갯수 파악\n",
    "    average = sumList / lenList\n",
    "    # 평균 = 합산값 / 갯수\n",
    "    average\n",
    "    \n",
    "    return average"
   ]
  },
  {
   "cell_type": "code",
   "execution_count": 111,
   "id": "50608872-32ee-4b1e-8f61-441673238eac",
   "metadata": {},
   "outputs": [
    {
     "data": {
      "text/plain": [
       "3.0"
      ]
     },
     "execution_count": 111,
     "metadata": {},
     "output_type": "execute_result"
    }
   ],
   "source": [
    "listG = [1, 1, 2, 3, 4, 5, 5, 5]\n",
    "\n",
    "minMaxAvg(listG)"
   ]
  },
  {
   "cell_type": "code",
   "execution_count": 112,
   "id": "f54b5d7e-dac1-4d10-90e8-5dcfcd96f7b3",
   "metadata": {},
   "outputs": [],
   "source": [
    "# 실습문제"
   ]
  },
  {
   "cell_type": "code",
   "execution_count": 133,
   "id": "83b1e279-1966-47b6-ae73-e6f30d2442c1",
   "metadata": {},
   "outputs": [],
   "source": [
    "def roundFunction (userData, count):\n",
    "    \"\"\"\n",
    "    소수점 * 자리부터 내림하는 함수입니다.\n",
    "    parameter = userData(float), count(int)\n",
    "    return = userData03\n",
    "    \"\"\"\n",
    "\n",
    "    # userData = float(input())\n",
    "    # count = 2\n",
    "    userData01 = userData * (10**count)\n",
    "\n",
    "    userData02 = int(userData01)\n",
    "\n",
    "    userData03 = userData02 / 10**count\n",
    "\n",
    "    return userData03"
   ]
  },
  {
   "cell_type": "code",
   "execution_count": 138,
   "id": "fef40c3e-f051-4554-9f14-3b88d68e65d8",
   "metadata": {},
   "outputs": [
    {
     "data": {
      "text/plain": [
       "153.2565"
      ]
     },
     "execution_count": 138,
     "metadata": {},
     "output_type": "execute_result"
    }
   ],
   "source": [
    "roundFunction(153.256523, 4)"
   ]
  }
 ],
 "metadata": {
  "kernelspec": {
   "display_name": "Python 3 (ipykernel)",
   "language": "python",
   "name": "python3"
  },
  "language_info": {
   "codemirror_mode": {
    "name": "ipython",
    "version": 3
   },
   "file_extension": ".py",
   "mimetype": "text/x-python",
   "name": "python",
   "nbconvert_exporter": "python",
   "pygments_lexer": "ipython3",
   "version": "3.9.13"
  }
 },
 "nbformat": 4,
 "nbformat_minor": 5
}
