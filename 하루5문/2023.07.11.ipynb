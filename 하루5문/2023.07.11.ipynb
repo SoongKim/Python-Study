{
 "cells": [
  {
   "cell_type": "markdown",
   "id": "d90ece3a-9627-4065-b759-677c3e955a64",
   "metadata": {},
   "source": [
    "#### *하루 5문 파이썬 퀴즈 코너는\n",
    "#### *하루 2시간 파이썬 퀴즈 코너로 변경되었습니다."
   ]
  },
  {
   "cell_type": "markdown",
   "id": "ca75f2b2-239e-4848-95ec-0e8cdf64d951",
   "metadata": {},
   "source": [
    "## 2023.07.11."
   ]
  },
  {
   "cell_type": "markdown",
   "id": "e0e2e713-af40-4130-a268-af82cecda2b8",
   "metadata": {},
   "source": [
    "## Programmers : '자연수 뒤집어 배열로 만들기'"
   ]
  },
  {
   "cell_type": "markdown",
   "id": "e505d2a2-c9d1-4e85-820e-1f5b77af4c25",
   "metadata": {},
   "source": [
    "#### 01. 내 답안"
   ]
  },
  {
   "cell_type": "code",
   "execution_count": 1,
   "id": "3dc8e56d-f198-4b18-b2d5-2e9ac584bd7d",
   "metadata": {},
   "outputs": [],
   "source": [
    "n = 1234\n",
    "answer = []"
   ]
  },
  {
   "cell_type": "code",
   "execution_count": 2,
   "id": "31edb985-bbdc-4b69-ad04-e4e3e5501ddc",
   "metadata": {},
   "outputs": [],
   "source": [
    "i = 1\n",
    "while i <= len(str(n)):\n",
    "    temp = n % pow(10, i)\n",
    "    answer.append(int(str(temp)[0]))\n",
    "    n = n - temp\n",
    "    i += 1"
   ]
  },
  {
   "cell_type": "code",
   "execution_count": 3,
   "id": "c218806b-2c09-4db9-abd2-efde9a994406",
   "metadata": {},
   "outputs": [
    {
     "data": {
      "text/plain": [
       "[4, 3, 2, 1]"
      ]
     },
     "execution_count": 3,
     "metadata": {},
     "output_type": "execute_result"
    }
   ],
   "source": [
    "answer"
   ]
  },
  {
   "cell_type": "code",
   "execution_count": null,
   "id": "9c8875f2-8b1d-417b-9d3f-5600c982f780",
   "metadata": {},
   "outputs": [],
   "source": [
    "# Mod연산 -- 10으로 나눠야 1의 자리 연산이 가능하므로, pow(10, i+1)부터.\n",
    "# 문자열 타입 형변환을 통해 총 자릿수를 파악. 해당 길이만큼 반복.\n",
    "# Mod연산 나머지의 앞자리만 잘라 answer 배열에 append."
   ]
  },
  {
   "cell_type": "code",
   "execution_count": null,
   "id": "ceddff24-463b-4e3b-8fcb-342c8edb861e",
   "metadata": {},
   "outputs": [],
   "source": [
    "# Function Binding"
   ]
  },
  {
   "cell_type": "code",
   "execution_count": 4,
   "id": "da8be2de-d9db-416a-90eb-71f9e43454ad",
   "metadata": {},
   "outputs": [],
   "source": [
    "def reverse(n):\n",
    "    answer = []\n",
    "    i = 0\n",
    "    while i < len(str(n)):\n",
    "        temp = n % pow(10, i+1)\n",
    "        answer.append(int(str(temp)[0]))\n",
    "        n = n - temp\n",
    "        i += 1\n",
    "    return answer"
   ]
  },
  {
   "cell_type": "code",
   "execution_count": 5,
   "id": "f330fa00-01a0-4c7b-8ae1-2288fbf2d611",
   "metadata": {},
   "outputs": [
    {
     "data": {
      "text/plain": [
       "[9, 8, 7, 6, 5, 4, 3, 2, 1]"
      ]
     },
     "execution_count": 5,
     "metadata": {},
     "output_type": "execute_result"
    }
   ],
   "source": [
    "reverse(123456789)"
   ]
  },
  {
   "cell_type": "code",
   "execution_count": null,
   "id": "f09cfdab-5eff-4ac8-bc7b-5ce41de314b1",
   "metadata": {},
   "outputs": [],
   "source": [
    "# 생각해보니, 반복 횟수가 정해져 있는 만큼 for문이 더 효율적이지는 않을까?"
   ]
  },
  {
   "cell_type": "markdown",
   "id": "83c89c6e-c83b-46d6-8eba-57971e73d484",
   "metadata": {},
   "source": [
    "#### 01_1. for문 함수 Building"
   ]
  },
  {
   "cell_type": "code",
   "execution_count": 6,
   "id": "ddb19808-7114-41e1-b926-b82503314cfa",
   "metadata": {},
   "outputs": [],
   "source": [
    "def reverseFor(n):\n",
    "    answer = []\n",
    "    for i in range(0, len(str(n))):\n",
    "        temp = n % pow(10, i+1)\n",
    "        answer.append(int(str(temp)[0]))\n",
    "        n = n - temp\n",
    "    return answer"
   ]
  },
  {
   "cell_type": "code",
   "execution_count": 7,
   "id": "6855db99-e2a9-4cec-ba01-7e90b75fb87f",
   "metadata": {},
   "outputs": [
    {
     "data": {
      "text/plain": [
       "[1, 2, 3, 4, 5]"
      ]
     },
     "execution_count": 7,
     "metadata": {},
     "output_type": "execute_result"
    }
   ],
   "source": [
    "reverseFor(54321)"
   ]
  },
  {
   "cell_type": "code",
   "execution_count": null,
   "id": "0679e9fd-df45-4689-9814-324a211b19ce",
   "metadata": {},
   "outputs": [],
   "source": [
    "# 로직, 사용 변수 모두 동일하다. for문과 while문은 취향차이."
   ]
  },
  {
   "cell_type": "markdown",
   "id": "7cd94ebb-9381-48e1-bce6-c612c16cfc9c",
   "metadata": {},
   "source": [
    "#### 02. 모범 답안"
   ]
  },
  {
   "cell_type": "code",
   "execution_count": 8,
   "id": "95894150-0bcc-45a5-b92c-ac9f9eaaf7ef",
   "metadata": {},
   "outputs": [],
   "source": [
    "def digit_reverse(n):\n",
    "    return list(map(int, reversed(str(n))))"
   ]
  },
  {
   "cell_type": "code",
   "execution_count": null,
   "id": "b4b9c493-a257-4cb8-a691-64b3c21e27d4",
   "metadata": {},
   "outputs": [],
   "source": [
    "# map, reversed, reverse의 개념에 관하여 학습해보자."
   ]
  },
  {
   "cell_type": "code",
   "execution_count": null,
   "id": "1440284f-8fa6-4c99-a239-c5d5b540acfe",
   "metadata": {},
   "outputs": [],
   "source": [
    "# n /= 10\n",
    "# 위 표식은 n += 1과 동일한 기능을 한대요."
   ]
  },
  {
   "cell_type": "code",
   "execution_count": null,
   "id": "c839e06b-6425-4392-b54f-e598751e6d54",
   "metadata": {},
   "outputs": [],
   "source": [
    "# reverse, reversed 서로 어떤 차이가 있는지도 학습해보자."
   ]
  },
  {
   "cell_type": "markdown",
   "id": "289be09d-8823-4067-854e-475481b3ca59",
   "metadata": {},
   "source": [
    "####  "
   ]
  },
  {
   "cell_type": "markdown",
   "id": "ec97c9ad-2f0d-4507-bd58-9b99a7dcc07e",
   "metadata": {},
   "source": [
    "## Programmers : '문자열을 정수로 바꾸기'"
   ]
  },
  {
   "cell_type": "markdown",
   "id": "39cbc6eb-d368-4d7d-b9a9-15a48be96773",
   "metadata": {},
   "source": [
    "#### 01. 내 답안"
   ]
  },
  {
   "cell_type": "code",
   "execution_count": 9,
   "id": "c7c0e25b-a844-4d52-8dd9-c27de3dc0c1e",
   "metadata": {},
   "outputs": [
    {
     "name": "stdout",
     "output_type": "stream",
     "text": [
      "1234\n"
     ]
    }
   ],
   "source": [
    "n = \"1234\"\n",
    "answer = 0\n",
    "\n",
    "if(n[0] == \"+\"):\n",
    "    answer = int(n[1:])\n",
    "elif(n[0] == \"-\"):\n",
    "    answer = int(n[1:]) - 2*int(n[1:])\n",
    "else:\n",
    "    answer = int(n[:])\n",
    "\n",
    "print(answer)"
   ]
  },
  {
   "cell_type": "code",
   "execution_count": null,
   "id": "988aa4b8-a9aa-4706-936b-a26a31d83a85",
   "metadata": {},
   "outputs": [],
   "source": [
    "# 문자열 첫 자리가 +라면 잘라내고 2~끝 자리까지 정수 전환,\n",
    "# 문자열 첫 자리가 -라면 잘라내고 2~끝 자리까지 정수 전환, 이후 2*전환값으로 음수화.\n",
    "# 하드 코딩으로 -를 박아넣는 것은 아름답지 못하다.\n",
    "# 나머지 숫자로 구성된 문자열들은 첫 자리 ~ 끝 자리까지 정수 전환."
   ]
  },
  {
   "cell_type": "code",
   "execution_count": null,
   "id": "6344a246-82ac-4d2d-9e91-b99d7237f294",
   "metadata": {},
   "outputs": [],
   "source": [
    "# Function Binding"
   ]
  },
  {
   "cell_type": "code",
   "execution_count": 10,
   "id": "8a6ab00e-a373-4172-a7fc-761e194311f3",
   "metadata": {},
   "outputs": [],
   "source": [
    "def solution(s):\n",
    "    answer = 0\n",
    "    if(s[0] == \"+\"):\n",
    "        answer = int(s[1:])\n",
    "    elif(s[0] == \"-\"):\n",
    "        answer = int(s[1:]) - 2*int(s[1:])\n",
    "    else:\n",
    "        answer = int(s[:])\n",
    "    return answer"
   ]
  },
  {
   "cell_type": "code",
   "execution_count": 11,
   "id": "3bac6f21-1417-4b0d-b483-25757bb2c1ac",
   "metadata": {},
   "outputs": [
    {
     "data": {
      "text/plain": [
       "1234"
      ]
     },
     "execution_count": 11,
     "metadata": {},
     "output_type": "execute_result"
    }
   ],
   "source": [
    "solution(\"+1234\")"
   ]
  },
  {
   "cell_type": "code",
   "execution_count": 12,
   "id": "09c55870-9947-4024-a802-93d8f6b27c4f",
   "metadata": {},
   "outputs": [
    {
     "data": {
      "text/plain": [
       "-1234"
      ]
     },
     "execution_count": 12,
     "metadata": {},
     "output_type": "execute_result"
    }
   ],
   "source": [
    "solution(\"-1234\")"
   ]
  },
  {
   "cell_type": "code",
   "execution_count": 13,
   "id": "327a184d-dd76-438d-b08e-b1bb4027ce06",
   "metadata": {},
   "outputs": [
    {
     "data": {
      "text/plain": [
       "12345"
      ]
     },
     "execution_count": 13,
     "metadata": {},
     "output_type": "execute_result"
    }
   ],
   "source": [
    "solution(\"12345\")"
   ]
  },
  {
   "cell_type": "markdown",
   "id": "21b9a908-9943-4129-8635-50d9f26a549d",
   "metadata": {},
   "source": [
    "#### 모범 답안 코너는 넘어갑니다."
   ]
  },
  {
   "cell_type": "code",
   "execution_count": null,
   "id": "83c2bb8c-7841-4384-9415-9c0259fa2748",
   "metadata": {},
   "outputs": [],
   "source": [
    "# int(str) 기능을 수행하면 알아서 부호까지 인식해준대요."
   ]
  },
  {
   "cell_type": "markdown",
   "id": "83b424f4-1a95-48b0-875a-80e20ef059ab",
   "metadata": {},
   "source": [
    "####  "
   ]
  },
  {
   "cell_type": "markdown",
   "id": "cccafd5b-e689-4542-8a3d-0d2f92a9b16c",
   "metadata": {},
   "source": [
    "## Programmers : '두 정수 사이의 합'"
   ]
  },
  {
   "cell_type": "markdown",
   "id": "c2e9fe93-db8b-48ca-90e8-68dbe6d9e691",
   "metadata": {},
   "source": [
    "#### 01. 내 답안"
   ]
  },
  {
   "cell_type": "code",
   "execution_count": 14,
   "id": "bd38d103-59c6-44bc-a3e3-a537b756e1a0",
   "metadata": {},
   "outputs": [],
   "source": [
    "a = 3\n",
    "b = 7"
   ]
  },
  {
   "cell_type": "code",
   "execution_count": 15,
   "id": "84e5ffb9-d98f-48a9-8ffa-32523b4c31af",
   "metadata": {},
   "outputs": [
    {
     "name": "stdout",
     "output_type": "stream",
     "text": [
      "25\n"
     ]
    }
   ],
   "source": [
    "answer = 0\n",
    "if(a - b > 0):\n",
    "    i = b\n",
    "    while i <= a:\n",
    "        answer += i\n",
    "        i+=1\n",
    "elif(a - b == 0):\n",
    "    answer = 0\n",
    "else:\n",
    "    i = a\n",
    "    while i <= b:\n",
    "        answer += i\n",
    "        i+=1\n",
    "print(answer)"
   ]
  },
  {
   "cell_type": "code",
   "execution_count": null,
   "id": "903b1d67-e5b6-4704-b0a7-378425972010",
   "metadata": {},
   "outputs": [],
   "source": [
    "# a와 b의 대소 비교 후, while문을 사용하여 연산한다.\n",
    "# a == b인 경우, 사이에 정수가 없으므로 0을 return한다.\n",
    "# --> a ==b 인 경우에는 a나 b값을 return하래요."
   ]
  },
  {
   "cell_type": "code",
   "execution_count": null,
   "id": "7c9a146e-a6fb-48f1-add9-13c44138cf9b",
   "metadata": {},
   "outputs": [],
   "source": [
    "# Function Binding"
   ]
  },
  {
   "cell_type": "code",
   "execution_count": 16,
   "id": "4a721804-2ff8-4eeb-a5e6-8dbb6281cd69",
   "metadata": {},
   "outputs": [],
   "source": [
    "def solution(a, b):\n",
    "    answer = 0\n",
    "    if(a - b > 0):\n",
    "        i = b\n",
    "        while i <= a:\n",
    "            answer += i\n",
    "            i+=1\n",
    "    elif(a - b == 0):\n",
    "        answer = a\n",
    "    else:\n",
    "        i = a\n",
    "        while i <= b:\n",
    "            answer += i\n",
    "            i+=1\n",
    "    return answer"
   ]
  },
  {
   "cell_type": "code",
   "execution_count": 17,
   "id": "4991f98d-34a4-4e80-8f33-afed80eddc1e",
   "metadata": {},
   "outputs": [
    {
     "data": {
      "text/plain": [
       "35"
      ]
     },
     "execution_count": 17,
     "metadata": {},
     "output_type": "execute_result"
    }
   ],
   "source": [
    "solution(5, 9)"
   ]
  },
  {
   "cell_type": "code",
   "execution_count": 18,
   "id": "b9e49903-b99e-4d54-9de9-8dc6ab892ec0",
   "metadata": {},
   "outputs": [
    {
     "data": {
      "text/plain": [
       "35"
      ]
     },
     "execution_count": 18,
     "metadata": {},
     "output_type": "execute_result"
    }
   ],
   "source": [
    "solution(9, 5)"
   ]
  },
  {
   "cell_type": "code",
   "execution_count": 19,
   "id": "65c4e9a9-838b-4629-8dcd-63b0f3053cb8",
   "metadata": {},
   "outputs": [
    {
     "data": {
      "text/plain": [
       "9"
      ]
     },
     "execution_count": 19,
     "metadata": {},
     "output_type": "execute_result"
    }
   ],
   "source": [
    "solution(9, 9)"
   ]
  },
  {
   "cell_type": "markdown",
   "id": "5aa28861-2267-410b-9512-11fdca75e7f8",
   "metadata": {},
   "source": [
    "#### 02. 모범 답안"
   ]
  },
  {
   "cell_type": "code",
   "execution_count": 20,
   "id": "d965c7f3-dcf0-48e8-b46f-f95bb49cf06c",
   "metadata": {},
   "outputs": [],
   "source": [
    "def adder(a, b):\n",
    "    if a > b:\n",
    "        a, b = b, a\n",
    "    return sum(range(a, b + 1))"
   ]
  },
  {
   "cell_type": "code",
   "execution_count": null,
   "id": "d51bdf66-628a-4c9d-9992-7fce19137a48",
   "metadata": {},
   "outputs": [],
   "source": [
    "# 만약 a가 b보다 크다면 a, b = b, a ... ?\n",
    "# sum(range(a, b+1)\n",
    "# while문을 sum(range(X, Y))로 간단하게 표현하였다. 배우자.\n",
    "# range로 sum 할 때는 Y + 1까지로 표시하여야 한다."
   ]
  },
  {
   "cell_type": "markdown",
   "id": "c36de9f6-ff42-468d-a4cf-7dfe8116c4de",
   "metadata": {},
   "source": [
    "#### 02-1."
   ]
  },
  {
   "cell_type": "code",
   "execution_count": 21,
   "id": "8efbf397-2c07-4c04-8d53-7ef2879decc9",
   "metadata": {},
   "outputs": [
    {
     "data": {
      "text/plain": [
       "25"
      ]
     },
     "execution_count": 21,
     "metadata": {},
     "output_type": "execute_result"
    }
   ],
   "source": [
    "(abs(a - b)+1) * (a + b) // 2"
   ]
  },
  {
   "cell_type": "code",
   "execution_count": null,
   "id": "66eed743-cd38-48df-a8a0-f5f26d61bc34",
   "metadata": {},
   "outputs": [],
   "source": [
    "# 파이썬 연산에 있어서 //는 어떤 기능을 할까.\n",
    "# -> 연산자 //는 나눈 후 정수 몫을 추려준다. 덕뿐에 코드가 깔끔해지겠다.\n",
    "# 더이상 int(a/b) 같은 누더기 코드를 작성하지 않을 수 있겠다.\n",
    "# 가우스식 접근법. 수학적 지식이 있어야만 코드가 깔끔해진다."
   ]
  },
  {
   "cell_type": "markdown",
   "id": "b677dbc5-6abd-4a2d-91a7-e7a3b735e352",
   "metadata": {},
   "source": [
    "####  "
   ]
  },
  {
   "cell_type": "markdown",
   "id": "3715abf9-9b36-429c-8408-408e78c69d27",
   "metadata": {},
   "source": [
    "## Programmers : '정수 내림차순으로 배치하기'"
   ]
  },
  {
   "cell_type": "markdown",
   "id": "9164d9e8-1188-4739-acaa-c3e790940209",
   "metadata": {},
   "source": [
    "#### 01. 내 답안"
   ]
  },
  {
   "cell_type": "code",
   "execution_count": 22,
   "id": "96228def-4c61-43ec-b619-5ad466f37f6d",
   "metadata": {},
   "outputs": [],
   "source": [
    "n = 118372\n",
    "temp = str(n)\n",
    "newArr = []\n",
    "\n",
    "for i in range(0, len(temp)):\n",
    "    newArr.append(temp[i])\n",
    "\n",
    "newArr.sort(reverse=True)\n",
    "\n",
    "tmp = \"\"\n",
    "for i in range(0, len(newArr)):\n",
    "    tmp +=newArr[i]\n",
    "\n",
    "answer = int(tmp)"
   ]
  },
  {
   "cell_type": "code",
   "execution_count": 23,
   "id": "c9365c6b-d27c-466b-831f-0f23d77d1ea8",
   "metadata": {},
   "outputs": [
    {
     "data": {
      "text/plain": [
       "873211"
      ]
     },
     "execution_count": 23,
     "metadata": {},
     "output_type": "execute_result"
    }
   ],
   "source": [
    "answer"
   ]
  },
  {
   "cell_type": "code",
   "execution_count": null,
   "id": "a60bb231-e1ab-4c43-9fe9-1ad04bf03b77",
   "metadata": {},
   "outputs": [],
   "source": [
    "# for문을 두 번이나 쓰는게 맞나 싶기도 한데....."
   ]
  },
  {
   "cell_type": "code",
   "execution_count": null,
   "id": "f64a161d-bccb-42c9-b179-0ac4007f19bb",
   "metadata": {},
   "outputs": [],
   "source": [
    "# Function Binding"
   ]
  },
  {
   "cell_type": "code",
   "execution_count": 24,
   "id": "52dd6829-54f6-4d8b-85e2-4965f928b917",
   "metadata": {},
   "outputs": [],
   "source": [
    "def solution(n):\n",
    "    answer = 0\n",
    "    temp = str(n)\n",
    "    tempArr = []\n",
    "    for i in range(0, len(temp)):\n",
    "        tempArr.append(temp[i])\n",
    "    tempArr.sort(reverse=True)\n",
    "    tmp=\"\"\n",
    "    for i in range(0, len(tempArr)):\n",
    "        tmp += tempArr[i]\n",
    "    answer = int(tmp)\n",
    "    return answer"
   ]
  },
  {
   "cell_type": "code",
   "execution_count": 25,
   "id": "947dfda2-94bf-4d58-966c-faf53fd0fe17",
   "metadata": {},
   "outputs": [
    {
     "data": {
      "text/plain": [
       "987766555543211"
      ]
     },
     "execution_count": 25,
     "metadata": {},
     "output_type": "execute_result"
    }
   ],
   "source": [
    "solution(115326654958775)"
   ]
  },
  {
   "cell_type": "markdown",
   "id": "c46fa736-da7c-45f2-8422-b876180d281b",
   "metadata": {},
   "source": [
    "#### 02. 모범 답안"
   ]
  },
  {
   "cell_type": "markdown",
   "id": "8ac9a3f6-9d73-461b-a352-214dc517fdc8",
   "metadata": {},
   "source": [
    "#### 02-1."
   ]
  },
  {
   "cell_type": "code",
   "execution_count": 26,
   "id": "a6736daa-6473-4d82-806f-3322a1a0886a",
   "metadata": {},
   "outputs": [],
   "source": [
    "def solution(n):\n",
    "    ls = list(str(n))\n",
    "    ls.sort(reverse = True)\n",
    "    return int(\"\".join(ls))"
   ]
  },
  {
   "cell_type": "code",
   "execution_count": null,
   "id": "6e48de88-8cd6-43d9-b662-fe8cd1e17460",
   "metadata": {},
   "outputs": [],
   "source": [
    "# list(str) : 문자열을 하나 하나 썰어서 배열에 담아준다.\n",
    "# sort(reverse=True)로 sort 해버리면 알아서 큰 순으로 정렬해주고\n",
    "# join 함수는 한 번 배워야 하겠다.\n",
    "# --> join 함수는 내 답안에서 for 문으로 tmp += tempArr[i]를 돌렸던 걸 간편하게 시행해준다.\n",
    "# 배열 내 문자열을 합할 때 사용하는 Library라고 한다."
   ]
  },
  {
   "cell_type": "code",
   "execution_count": 27,
   "id": "e9f92302-9074-4fe3-89db-5323f5d9c0ec",
   "metadata": {},
   "outputs": [],
   "source": [
    "n = 1566278"
   ]
  },
  {
   "cell_type": "code",
   "execution_count": 28,
   "id": "ffeaebab-67a3-49f9-a6fe-16328017431f",
   "metadata": {},
   "outputs": [],
   "source": [
    "tmp = list(str(n))"
   ]
  },
  {
   "cell_type": "code",
   "execution_count": 29,
   "id": "7a70eb02-4495-4910-9d12-8c43cd0eb476",
   "metadata": {},
   "outputs": [
    {
     "data": {
      "text/plain": [
       "['1', '5', '6', '6', '2', '7', '8']"
      ]
     },
     "execution_count": 29,
     "metadata": {},
     "output_type": "execute_result"
    }
   ],
   "source": [
    "tmp"
   ]
  },
  {
   "cell_type": "code",
   "execution_count": 30,
   "id": "705d9c65-3dd9-4919-81e6-53e6711f2de0",
   "metadata": {},
   "outputs": [],
   "source": [
    "tmp.sort(reverse=True)"
   ]
  },
  {
   "cell_type": "code",
   "execution_count": 31,
   "id": "9ffb0e5e-b144-45b9-a612-d1bfcec87df5",
   "metadata": {},
   "outputs": [
    {
     "data": {
      "text/plain": [
       "['8', '7', '6', '6', '5', '2', '1']"
      ]
     },
     "execution_count": 31,
     "metadata": {},
     "output_type": "execute_result"
    }
   ],
   "source": [
    "tmp"
   ]
  },
  {
   "cell_type": "code",
   "execution_count": 32,
   "id": "4f5c4282-2cd5-47d1-b733-4d0bf378ca04",
   "metadata": {},
   "outputs": [],
   "source": [
    "answer = int(\"\".join(tmp))"
   ]
  },
  {
   "cell_type": "code",
   "execution_count": 33,
   "id": "d2208880-1773-4305-84e2-fcd5002e1ca9",
   "metadata": {},
   "outputs": [
    {
     "data": {
      "text/plain": [
       "8766521"
      ]
     },
     "execution_count": 33,
     "metadata": {},
     "output_type": "execute_result"
    }
   ],
   "source": [
    "answer"
   ]
  },
  {
   "cell_type": "code",
   "execution_count": null,
   "id": "5f4e8763-fa92-49a5-953b-38836a67f066",
   "metadata": {},
   "outputs": [],
   "source": [
    "# 아따 편하고 좋구만\n",
    "# list(str)과 \"\".join 기능은 꼭 숙지하고 갑시다."
   ]
  },
  {
   "cell_type": "markdown",
   "id": "895fba7c-046f-4a36-abb4-ef01dd342268",
   "metadata": {},
   "source": [
    "####  "
   ]
  },
  {
   "cell_type": "markdown",
   "id": "3a61891f-f725-4993-8978-d1a4ffd8ef99",
   "metadata": {},
   "source": [
    "## Programmers : '문자열 다루기 기본'"
   ]
  },
  {
   "cell_type": "markdown",
   "id": "98bd91cf-34b0-4bf4-817d-3252a823d6ee",
   "metadata": {},
   "source": [
    "#### 01. 내 답안"
   ]
  },
  {
   "cell_type": "code",
   "execution_count": null,
   "id": "546b5142-445a-4105-af4d-f99af15b5387",
   "metadata": {},
   "outputs": [],
   "source": [
    "# 문자열 s의 길이가 4 ~ 6인지 ... 1.\n",
    "# 문자열 s가 숫자로만 구성되어 있는지 ... 2.\n",
    "# 판별하여 두 조건 모두 합치할 때만 True, 아니라면 False를 return하자"
   ]
  },
  {
   "cell_type": "code",
   "execution_count": 34,
   "id": "097c272a-d21a-49f9-94c0-038033aa11cc",
   "metadata": {},
   "outputs": [],
   "source": [
    "answer = True\n",
    "s = \"a1237\"\n",
    "tmp = list(s)\n",
    "\n",
    "if(len(tmp) < 4 or len(tmp) > 6):\n",
    "    answer = False\n",
    "    \n",
    "for i in range(0, len(tmp)):\n",
    "    try:\n",
    "        tmp[i] = int(tmp[i])\n",
    "    except:\n",
    "        answer = False\n",
    "        break"
   ]
  },
  {
   "cell_type": "code",
   "execution_count": null,
   "id": "ad5d6f70-770e-47a9-98d6-0aedc3de3d48",
   "metadata": {},
   "outputs": [],
   "source": [
    "# len을 사용한 문자열 길이 판별. 대상 조건을 if문 조건절로 걸어 1차 판별\n",
    "# try & catch 문을 사용한 판별. 형변환이 이뤄지지 않는 경우 answer를 False로 전환"
   ]
  },
  {
   "cell_type": "code",
   "execution_count": null,
   "id": "9088605e-3efc-4442-915c-f3ad60491781",
   "metadata": {},
   "outputs": [],
   "source": [
    "# Function Binding"
   ]
  },
  {
   "cell_type": "code",
   "execution_count": 35,
   "id": "92ead7cf-40ab-4c42-9243-82a5121cec19",
   "metadata": {},
   "outputs": [],
   "source": [
    "def solution(s):\n",
    "    answer = True\n",
    "    tmp = list(s)\n",
    "    if(len(tmp) != 4 or len(tmp) != 6):\n",
    "        answer = False\n",
    "        return answer\n",
    "    for i in range(0, len(tmp)):\n",
    "        try:\n",
    "            tmp[i] = int(tmp[i])\n",
    "        except:\n",
    "            answer = False\n",
    "            return answer\n",
    "    return answer"
   ]
  },
  {
   "cell_type": "code",
   "execution_count": 36,
   "id": "cecb431b-f383-4d0c-ac95-eab24df0f8ff",
   "metadata": {},
   "outputs": [
    {
     "data": {
      "text/plain": [
       "False"
      ]
     },
     "execution_count": 36,
     "metadata": {},
     "output_type": "execute_result"
    }
   ],
   "source": [
    "solution(\"5534\")"
   ]
  },
  {
   "cell_type": "code",
   "execution_count": null,
   "id": "355051b3-7c73-4cb9-9c61-d516a490fdf1",
   "metadata": {},
   "outputs": [],
   "source": [
    "# 1차 답안 실패. 문제를 잘못 이해했다.\n",
    "# 문자열 s의 길이가 4 or 6이어야만 한다. 길이가 5인 경우를 제거하자."
   ]
  },
  {
   "cell_type": "code",
   "execution_count": null,
   "id": "0b5fe62b-6bd8-4dd1-82df-07b2095951f4",
   "metadata": {},
   "outputs": [],
   "source": [
    "# 2차 성공. try & catch 문 발상은 참 만족스러웠다."
   ]
  },
  {
   "cell_type": "markdown",
   "id": "f428e491-f80a-4081-84d8-b135e5522a6e",
   "metadata": {},
   "source": [
    "#### 모범 답안 코너는 쉬어갑니다."
   ]
  },
  {
   "cell_type": "markdown",
   "id": "7fe69882-bf42-42ed-8fae-177cffe2b5f4",
   "metadata": {},
   "source": [
    "####  "
   ]
  },
  {
   "cell_type": "markdown",
   "id": "32212307-b146-4ab1-887f-b1121f3d18af",
   "metadata": {},
   "source": [
    "## Programmers : '부족한 금액 계산하기'"
   ]
  },
  {
   "cell_type": "markdown",
   "id": "e4d166eb-f501-410d-81be-114f71a6cf47",
   "metadata": {},
   "source": [
    "#### 01. 내 답안"
   ]
  },
  {
   "cell_type": "code",
   "execution_count": 37,
   "id": "d138a897-0b1d-458a-9066-350a00b5fcc4",
   "metadata": {},
   "outputs": [],
   "source": [
    "price = 3\n",
    "money = 20\n",
    "count = 4\n",
    "\n",
    "answer = -1\n",
    "\n",
    "budget = 0\n",
    "for i in range(0, count):\n",
    "    budget += price * (i + 1)\n",
    "targetMoney = budget - money\n",
    "if(targetMoney > 0):\n",
    "    answer = targetMoney\n",
    "else:\n",
    "    answer = 0"
   ]
  },
  {
   "cell_type": "code",
   "execution_count": 38,
   "id": "1ddd6ddb-f1e0-4a9b-96f4-34c425d2bdcb",
   "metadata": {},
   "outputs": [
    {
     "data": {
      "text/plain": [
       "10"
      ]
     },
     "execution_count": 38,
     "metadata": {},
     "output_type": "execute_result"
    }
   ],
   "source": [
    "answer"
   ]
  },
  {
   "cell_type": "code",
   "execution_count": null,
   "id": "61c47c03-71b0-4c55-8fcc-4623f25af40e",
   "metadata": {},
   "outputs": [],
   "source": [
    "# Function Binding"
   ]
  },
  {
   "cell_type": "code",
   "execution_count": 39,
   "id": "c55128dd-70af-45ee-be68-22c0f2de1e06",
   "metadata": {},
   "outputs": [],
   "source": [
    "def solution(price, money, count):\n",
    "    answer = -1\n",
    "    budget = 0\n",
    "    for i in range(0, count):\n",
    "        budget += price * (i+1)\n",
    "    budget = budget - money\n",
    "    if(budget > 0):\n",
    "        answer = budget\n",
    "        return answer\n",
    "    else:\n",
    "        answer = 0\n",
    "        return answer"
   ]
  },
  {
   "cell_type": "code",
   "execution_count": 40,
   "id": "d60792de-f379-4a5f-9147-cc01033b8c47",
   "metadata": {},
   "outputs": [
    {
     "data": {
      "text/plain": [
       "0"
      ]
     },
     "execution_count": 40,
     "metadata": {},
     "output_type": "execute_result"
    }
   ],
   "source": [
    "solution(3, 30, 4)"
   ]
  },
  {
   "cell_type": "code",
   "execution_count": 41,
   "id": "4af256b9-7cb5-4f6d-9f28-eeba1c992ef8",
   "metadata": {},
   "outputs": [
    {
     "data": {
      "text/plain": [
       "10"
      ]
     },
     "execution_count": 41,
     "metadata": {},
     "output_type": "execute_result"
    }
   ],
   "source": [
    "solution(3, 20, 4)"
   ]
  },
  {
   "cell_type": "markdown",
   "id": "09672f17-1bb9-402c-b79a-2df9da80c706",
   "metadata": {},
   "source": [
    "#### 모범 답안 코너는 쉬어갑니다."
   ]
  },
  {
   "cell_type": "markdown",
   "id": "995dc469-f31c-4d37-a47f-bf3a279712c4",
   "metadata": {},
   "source": [
    "####  "
   ]
  },
  {
   "cell_type": "markdown",
   "id": "7233bb17-586e-490a-9e6b-359dde1cb9af",
   "metadata": {},
   "source": [
    "## Programmers : '문자열 내림차순으로 배치하기'"
   ]
  },
  {
   "cell_type": "markdown",
   "id": "21c46c7e-fd92-4a55-8a1b-a7a8e0eb301d",
   "metadata": {},
   "source": [
    "#### 01. 내 답안"
   ]
  },
  {
   "cell_type": "code",
   "execution_count": 42,
   "id": "de907318-de70-46be-a94f-890555a7ac24",
   "metadata": {},
   "outputs": [],
   "source": [
    "c = \"bcdZefg\""
   ]
  },
  {
   "cell_type": "code",
   "execution_count": 43,
   "id": "57dd1adc-5033-442a-857c-ae6a1c14cfe9",
   "metadata": {},
   "outputs": [],
   "source": [
    "newArr = list(c)"
   ]
  },
  {
   "cell_type": "code",
   "execution_count": 44,
   "id": "f4b03de3-9c0b-4b92-975f-d4e238a0098d",
   "metadata": {},
   "outputs": [
    {
     "data": {
      "text/plain": [
       "98"
      ]
     },
     "execution_count": 44,
     "metadata": {},
     "output_type": "execute_result"
    }
   ],
   "source": [
    "ord(newArr[0])"
   ]
  },
  {
   "cell_type": "code",
   "execution_count": 45,
   "id": "301d65ff-cbfd-4423-a548-bf5dbb5339f0",
   "metadata": {},
   "outputs": [
    {
     "name": "stdout",
     "output_type": "stream",
     "text": [
      "98\n",
      "99\n",
      "100\n",
      "90\n",
      "101\n",
      "102\n",
      "103\n"
     ]
    }
   ],
   "source": [
    "for i in range(0, len(newArr)):\n",
    "    print(ord(newArr[i]))"
   ]
  },
  {
   "cell_type": "code",
   "execution_count": 46,
   "id": "688edff5-98d3-4ef9-b456-0823096c6f6e",
   "metadata": {},
   "outputs": [],
   "source": [
    "newArr.sort(reverse=True)"
   ]
  },
  {
   "cell_type": "code",
   "execution_count": 47,
   "id": "c244f534-5736-4d54-9064-cdf400386e17",
   "metadata": {},
   "outputs": [
    {
     "data": {
      "text/plain": [
       "['g', 'f', 'e', 'd', 'c', 'b', 'Z']"
      ]
     },
     "execution_count": 47,
     "metadata": {},
     "output_type": "execute_result"
    }
   ],
   "source": [
    "newArr"
   ]
  },
  {
   "cell_type": "code",
   "execution_count": null,
   "id": "1829fef0-90ba-4263-ad1f-03ec10f1adba",
   "metadata": {},
   "outputs": [],
   "source": [
    "# ASCII 사용 없이도... sort-reverse=True 하면 나오는구나..."
   ]
  },
  {
   "cell_type": "code",
   "execution_count": null,
   "id": "6d70b096-c661-4ac8-afdb-0436bdeb279a",
   "metadata": {},
   "outputs": [],
   "source": [
    "# Function Binding"
   ]
  },
  {
   "cell_type": "code",
   "execution_count": 48,
   "id": "cc367488-7b4e-4365-b797-8fe12ac3ea1f",
   "metadata": {},
   "outputs": [],
   "source": [
    "s = \"Zbcdefg\""
   ]
  },
  {
   "cell_type": "code",
   "execution_count": 49,
   "id": "02d81858-eea2-43eb-99dc-11661c6a5580",
   "metadata": {},
   "outputs": [
    {
     "data": {
      "text/plain": [
       "'gfedcbZ'"
      ]
     },
     "execution_count": 49,
     "metadata": {},
     "output_type": "execute_result"
    }
   ],
   "source": [
    "\"\".join(sorted(list(s), reverse=True))"
   ]
  },
  {
   "cell_type": "code",
   "execution_count": 50,
   "id": "0f234d1a-99a7-46b5-872c-0043aec11001",
   "metadata": {},
   "outputs": [],
   "source": [
    "def solution(s):\n",
    "    answer = ''\n",
    "    answer = answer.join(sorted(list(s), reverse=True))\n",
    "    return answer"
   ]
  },
  {
   "cell_type": "code",
   "execution_count": 51,
   "id": "1a776ba5-9014-4790-a4ab-6d2646f89d6e",
   "metadata": {},
   "outputs": [
    {
     "data": {
      "text/plain": [
       "'gfedcbZ'"
      ]
     },
     "execution_count": 51,
     "metadata": {},
     "output_type": "execute_result"
    }
   ],
   "source": [
    "solution(\"Zbcdefg\")"
   ]
  },
  {
   "cell_type": "code",
   "execution_count": null,
   "id": "ac10808a-11f0-4e2c-b54e-84621013ee70",
   "metadata": {},
   "outputs": [],
   "source": [
    "# 금일 중에 배운 것들을 적절히 활용한 문제.\n",
    "# 1. ''.join으로 문자열을 합해 return한다.\n",
    "# 2. sorted를 통해 배열을 정렬한다. -- option:reverse=True로 역순 정렬 가능하다.\n",
    "# 3. list(str)을 통해 문자열을 배열에 삽입할 수 있다.\n",
    "\n",
    "# 추가적으로, sort와 sorted의 차이점을 배웠다.\n",
    "# 01) sort : List.sort() 식으로 사용. 존재하는 배열을 정렬해준다.\n",
    "# 02) sorted : sorted(list) 식으로 사용. 정렬된 배열을 신설해준다."
   ]
  },
  {
   "cell_type": "markdown",
   "id": "037b2a47-0141-4017-bec7-c0210214c38e",
   "metadata": {},
   "source": [
    "#### 모범 답안 스킵. 모범 답안과 동일한 풀이를 한 건 이번으로 두 번째다. 굿굿"
   ]
  },
  {
   "cell_type": "markdown",
   "id": "fa026476-15b2-4f4b-aee6-ff138e3550d8",
   "metadata": {},
   "source": [
    "####  "
   ]
  },
  {
   "cell_type": "markdown",
   "id": "cd09a64d-d39d-4007-b926-8d39d6436b1c",
   "metadata": {},
   "source": [
    "## Programmers : '행렬의 덧셈'"
   ]
  },
  {
   "cell_type": "markdown",
   "id": "a3b49acd-53c6-416a-8020-48e12c109fb6",
   "metadata": {},
   "source": [
    "#### 01. 내 답안"
   ]
  },
  {
   "cell_type": "code",
   "execution_count": null,
   "id": "418dbfdd-7af9-473d-939f-7ac48c1898f3",
   "metadata": {},
   "outputs": [],
   "source": [
    "# 두 개의 행렬 arr1, arr2를 입력 받아 덧셈 결과를 return 하라.\n",
    "# 두 개의 행렬은 행과 열의 크기가 같다.\n",
    "# 이중 배열의 합연산. 함수 자체가 어렵기보다는 개념을 익히는 문제로 인식하였다."
   ]
  },
  {
   "cell_type": "code",
   "execution_count": 52,
   "id": "44ef43c2-c146-4872-ab6e-12c30945fe6b",
   "metadata": {},
   "outputs": [],
   "source": [
    "answer = [[]]"
   ]
  },
  {
   "cell_type": "code",
   "execution_count": 53,
   "id": "d477e18b-a5fb-4db7-ad55-f3372d812a1e",
   "metadata": {},
   "outputs": [],
   "source": [
    "arr1 = [[1,2],[3,4]]"
   ]
  },
  {
   "cell_type": "code",
   "execution_count": 54,
   "id": "ea6581b4-5392-4a52-a3aa-4be282e14869",
   "metadata": {},
   "outputs": [
    {
     "name": "stdout",
     "output_type": "stream",
     "text": [
      "0 행 0 열의 값은  1\n",
      "0 행 1 열의 값은  2\n",
      "1 행 0 열의 값은  3\n",
      "1 행 1 열의 값은  4\n"
     ]
    }
   ],
   "source": [
    "for i in range(0, len(arr1)):\n",
    "    for j in range(0, len(arr1[0])):\n",
    "        print(i, \"행\", j, \"열의 값은 \",arr1[i][j])"
   ]
  },
  {
   "cell_type": "code",
   "execution_count": 55,
   "id": "878873ec-1d78-411c-b961-3cb38158e59a",
   "metadata": {},
   "outputs": [],
   "source": [
    "arr1 = [[1,2],[2,3]]\n",
    "arr2 = [[3,4],[5,6]]"
   ]
  },
  {
   "cell_type": "code",
   "execution_count": 56,
   "id": "738bb361-ee0d-4eca-9dbc-d80c622889ac",
   "metadata": {},
   "outputs": [],
   "source": [
    "for i in range(0, len(arr1)):\n",
    "    for j in range(0, len(arr1[0])):\n",
    "        arr1[i][j] = (arr1[i][j]+arr2[i][j])\n",
    "answer = arr1"
   ]
  },
  {
   "cell_type": "code",
   "execution_count": 57,
   "id": "e15657b2-1097-41cf-a715-ccb0746af186",
   "metadata": {},
   "outputs": [
    {
     "data": {
      "text/plain": [
       "[[4, 6], [7, 9]]"
      ]
     },
     "execution_count": 57,
     "metadata": {},
     "output_type": "execute_result"
    }
   ],
   "source": [
    "answer"
   ]
  },
  {
   "cell_type": "code",
   "execution_count": null,
   "id": "88f4300b-0f55-4f07-ae6c-2377d290c1be",
   "metadata": {},
   "outputs": [],
   "source": [
    "# 빈 이중 배열에 산입이 안 되길래... 뒤집어 써버렸다.\n",
    "# 이래도 되는 건가.....?"
   ]
  },
  {
   "cell_type": "code",
   "execution_count": null,
   "id": "4a4bc15a-5d2c-42fe-99f3-fd693dc79c4b",
   "metadata": {},
   "outputs": [],
   "source": [
    "# Function Binding"
   ]
  },
  {
   "cell_type": "code",
   "execution_count": 58,
   "id": "d9901b9e-5aa3-4b0d-aee7-7b9f36663bdf",
   "metadata": {},
   "outputs": [],
   "source": [
    "def solution(arr1, arr2):\n",
    "    answer = [[]]\n",
    "    for i in range(0, len(arr1)):\n",
    "        for j in range(0, len(arr1[0])):\n",
    "            arr1[i][j] = arr1[i][j] + arr2[i][j]\n",
    "    answer = arr1    \n",
    "    return answer"
   ]
  },
  {
   "cell_type": "code",
   "execution_count": 59,
   "id": "d7670fd2-f381-4615-8abf-fb5c41de1312",
   "metadata": {},
   "outputs": [
    {
     "data": {
      "text/plain": [
       "[[4], [6]]"
      ]
     },
     "execution_count": 59,
     "metadata": {},
     "output_type": "execute_result"
    }
   ],
   "source": [
    "solution([[1],[2]], [[3],[4]])"
   ]
  },
  {
   "cell_type": "code",
   "execution_count": 60,
   "id": "7e21dd2f-5e6e-45bf-9c04-544e6fac1318",
   "metadata": {},
   "outputs": [
    {
     "data": {
      "text/plain": [
       "[[4, 6], [7, 9]]"
      ]
     },
     "execution_count": 60,
     "metadata": {},
     "output_type": "execute_result"
    }
   ],
   "source": [
    "solution([[1,2],[2,3]], [[3,4],[5,6]])"
   ]
  },
  {
   "cell_type": "markdown",
   "id": "efd9c936-e45d-40cf-b2a1-a255420d6be8",
   "metadata": {},
   "source": [
    "#### 모범 답안"
   ]
  },
  {
   "cell_type": "code",
   "execution_count": null,
   "id": "2b5eb416-e980-4bd0-8882-fed43d7f6356",
   "metadata": {},
   "outputs": [],
   "source": [
    "# 코드를 직접 옮기는 것보다는, 개념이 중요한 것 같다.\n",
    "# 많은 이들이 map, zip 함수를 사용하고 있다.\n",
    "# map, zip의 개념을 익혀보자"
   ]
  },
  {
   "cell_type": "markdown",
   "id": "91533723-975b-4465-b5c0-bea76c60fcb7",
   "metadata": {},
   "source": [
    "####  "
   ]
  },
  {
   "cell_type": "markdown",
   "id": "cfd80be9-af90-4097-8e0c-af5467184b26",
   "metadata": {},
   "source": [
    "## Programmers : '삼총사'"
   ]
  },
  {
   "cell_type": "markdown",
   "id": "747c1408-6c7c-4f74-80b2-3d95f199b836",
   "metadata": {},
   "source": [
    "#### 01. 내 답안"
   ]
  },
  {
   "cell_type": "code",
   "execution_count": null,
   "id": "a659683a-a394-4d75-930e-fb44ef6dc837",
   "metadata": {},
   "outputs": [],
   "source": [
    "# 학생들은 모두 정수 번호를 지닌다. 셋의 번호를 더했을 때 0이 되면 삼총사로 부른다.\n",
    "# 학생들의 번호가 담긴 배열을 넣엇을 때, 삼총사를 만들 수 있는 경우의 수를 return 하시오."
   ]
  },
  {
   "cell_type": "code",
   "execution_count": 61,
   "id": "98a94ae1-751c-4827-a766-d289fa15d441",
   "metadata": {},
   "outputs": [],
   "source": [
    "dal = [-3, -2, -1, 0, 1, 2, 3]"
   ]
  },
  {
   "cell_type": "code",
   "execution_count": null,
   "id": "c7ca4b8d-22c5-45d0-afd4-6f68ff790168",
   "metadata": {},
   "outputs": [],
   "source": [
    "# 가장 먼저 생각나는 방법은 삼중 for문... 단순 무식하지만 풀 수는 있을 것.\n",
    "# 그러나 문제가 원하는 방법이 과연 그것일까?"
   ]
  },
  {
   "cell_type": "code",
   "execution_count": 62,
   "id": "1d8ec097-4826-49cc-b002-621e0aa472c8",
   "metadata": {},
   "outputs": [],
   "source": [
    "index = 0\n",
    "for i in range(0, len(dal)):\n",
    "    if(i+1 < len(dal)):\n",
    "        for j in range(i+1, len(dal)):\n",
    "            if(j + 1 < len(dal)):\n",
    "                for k in range(j+1, len(dal)):\n",
    "                    if(dal[i]+dal[j]+dal[k] == 0):\n",
    "                        index+=1\n",
    "                    else:\n",
    "                        continue"
   ]
  },
  {
   "cell_type": "code",
   "execution_count": 63,
   "id": "7e008957-6f1c-4355-8352-3780809be75a",
   "metadata": {},
   "outputs": [
    {
     "data": {
      "text/plain": [
       "5"
      ]
     },
     "execution_count": 63,
     "metadata": {},
     "output_type": "execute_result"
    }
   ],
   "source": [
    "index"
   ]
  },
  {
   "cell_type": "code",
   "execution_count": 64,
   "id": "329eaeab-1332-4f50-93b2-827240e8767e",
   "metadata": {},
   "outputs": [],
   "source": [
    "dal = [-1, 1, -1, 1]"
   ]
  },
  {
   "cell_type": "code",
   "execution_count": 65,
   "id": "6eab7106-66b1-4a08-be0c-bc20d173ae9c",
   "metadata": {},
   "outputs": [],
   "source": [
    "index = 0\n",
    "for i in range(0, len(dal)):\n",
    "    if(i+1 < len(dal)):\n",
    "        for j in range(i+1, len(dal)):\n",
    "            if(j + 1 < len(dal)):\n",
    "                for k in range(j+1, len(dal)):\n",
    "                    if(dal[i]+dal[j]+dal[k] == 0):\n",
    "                        index+=1\n",
    "                    else:\n",
    "                        continue"
   ]
  },
  {
   "cell_type": "code",
   "execution_count": 295,
   "id": "ef03f9ab-6811-4620-9401-cc4f8f9d31e2",
   "metadata": {},
   "outputs": [
    {
     "data": {
      "text/plain": [
       "0"
      ]
     },
     "execution_count": 295,
     "metadata": {},
     "output_type": "execute_result"
    }
   ],
   "source": [
    "index"
   ]
  },
  {
   "cell_type": "code",
   "execution_count": null,
   "id": "734e1d84-500b-4482-b0f0-688fc905f08b",
   "metadata": {},
   "outputs": [],
   "source": [
    "# Function Binding"
   ]
  },
  {
   "cell_type": "code",
   "execution_count": 66,
   "id": "27212337-3a45-420d-be97-a60b1fe1b52c",
   "metadata": {},
   "outputs": [],
   "source": [
    "def solution(number):\n",
    "    answer = 0\n",
    "    tmp = len(number)\n",
    "    for i in range(0, tmp):\n",
    "        if i+1 < tmp:\n",
    "            for j in range(i + 1, tmp):\n",
    "                if j+1 < tmp:\n",
    "                    for k in range(j + 1, tmp):\n",
    "                        if number[i] + number[j] + number[k] == 0:\n",
    "                            answer += 1\n",
    "                        else:\n",
    "                            continue\n",
    "    return answer"
   ]
  },
  {
   "cell_type": "code",
   "execution_count": null,
   "id": "732ce431-3ed8-4097-a667-f36f54a1729c",
   "metadata": {},
   "outputs": [],
   "source": [
    "# 모범 풀이의 경우, itertools라는 순열 라이브러리를 사용하고 있다.\n",
    "# 순열에 관한 추가 학습과 함께, 라이브러리를 익혀두도록 하자."
   ]
  },
  {
   "cell_type": "markdown",
   "id": "5d84860f-fd48-42ec-be48-2293ce4308d5",
   "metadata": {},
   "source": [
    "## Programmers : '최소직사각형'"
   ]
  },
  {
   "cell_type": "markdown",
   "id": "996f442a-0bd5-4844-ae0e-5f9adec76860",
   "metadata": {},
   "source": [
    "#### 01. 내 답안"
   ]
  },
  {
   "cell_type": "code",
   "execution_count": null,
   "id": "66bad07d-c857-4f8e-9468-f916da8b7e91",
   "metadata": {},
   "outputs": [],
   "source": [
    "# 명함 번호 / 가로 길이 / 세로 길이 값이 주어진다.\n",
    "# 눕히고 돌려서라도 최소 사이즈를 충족하는 가로/세로 사이즈와 넓이를 구하라"
   ]
  },
  {
   "cell_type": "code",
   "execution_count": null,
   "id": "18e32ef1-de4c-4560-8d11-40ed8aace7b4",
   "metadata": {},
   "outputs": [],
   "source": [
    "# 가로 / 세로를 구분하지 않고 최대값을 구한 후,\n",
    "# 나머지 이중 배열에서 작은 값들을 대상으로 가장 큰 값을 추가로 구한다.\n",
    "# 이후 두 값을 곱하여 return 하면 문제가 해결될 것 같다.\n",
    "# 새로운 값을 담을 1x2 배열을 선언하고, 값을 넣으면 될 듯 싶다."
   ]
  },
  {
   "cell_type": "code",
   "execution_count": 67,
   "id": "42e8da55-33a4-45c5-89ab-272b0f9c4b4b",
   "metadata": {},
   "outputs": [],
   "source": [
    "sizes = [[10, 7], [12, 3], [8, 15], [14, 7], [5, 15]]"
   ]
  },
  {
   "cell_type": "code",
   "execution_count": 68,
   "id": "869b3d1f-6f7f-4acf-bfeb-b5852660b92d",
   "metadata": {},
   "outputs": [
    {
     "name": "stdout",
     "output_type": "stream",
     "text": [
      "[[10, 7], [12, 3], [15, 8], [14, 7], [15, 5]]\n",
      "15\n",
      "8\n"
     ]
    }
   ],
   "source": [
    "maxLen = 0\n",
    "secLen = 0\n",
    "for i in range(0, len(sizes)):\n",
    "    sizes[i] = sorted(sizes[i], reverse=True)\n",
    "    if(sizes[i][0] >= maxLen):\n",
    "        maxLen = sizes[i][0]\n",
    "    if(sizes[i][1] >= secLen):\n",
    "        secLen = sizes[i][1]\n",
    "print(sizes)\n",
    "print(maxLen)\n",
    "print(secLen)"
   ]
  },
  {
   "cell_type": "code",
   "execution_count": 69,
   "id": "b005392a-6074-416e-b302-663f926d2e19",
   "metadata": {},
   "outputs": [
    {
     "name": "stdout",
     "output_type": "stream",
     "text": [
      "120\n"
     ]
    }
   ],
   "source": [
    "print(maxLen * secLen)"
   ]
  },
  {
   "cell_type": "code",
   "execution_count": 70,
   "id": "ea08b349-434b-4766-996c-5eca6acb9628",
   "metadata": {},
   "outputs": [],
   "source": [
    "sizes = [[14, 4], [19, 6], [6, 16], [18, 7], [7, 11]]"
   ]
  },
  {
   "cell_type": "code",
   "execution_count": 71,
   "id": "364b6791-818c-4826-8fa7-331e150163a0",
   "metadata": {},
   "outputs": [
    {
     "name": "stdout",
     "output_type": "stream",
     "text": [
      "[[14, 4], [19, 6], [16, 6], [18, 7], [11, 7]]\n",
      "19\n",
      "7\n"
     ]
    }
   ],
   "source": [
    "maxLen = 0\n",
    "secLen = 0\n",
    "for i in range(0, len(sizes)):\n",
    "    sizes[i] = sorted(sizes[i], reverse=True)\n",
    "    if(sizes[i][0] >= maxLen):\n",
    "        maxLen = sizes[i][0]\n",
    "    if(sizes[i][1] >= secLen):\n",
    "        secLen = sizes[i][1]\n",
    "print(sizes)\n",
    "print(maxLen)\n",
    "print(secLen)"
   ]
  },
  {
   "cell_type": "code",
   "execution_count": 72,
   "id": "6436c3dc-d5f3-4c11-b645-c53d8bc22b27",
   "metadata": {},
   "outputs": [
    {
     "name": "stdout",
     "output_type": "stream",
     "text": [
      "133\n"
     ]
    }
   ],
   "source": [
    "print(maxLen * secLen)"
   ]
  },
  {
   "cell_type": "code",
   "execution_count": null,
   "id": "bb70c1e4-4c4d-48e9-be01-2803d515fa46",
   "metadata": {},
   "outputs": [],
   "source": [
    "# sorted를 사용하여 배열 내에서 가장 큰 수가 [0]에 위치하도록 정렬하여 최대값을 파악하고,\n",
    "# 이후 [1] 위치에서 차순위 값을 파악하여 산출한다.\n",
    "# 이후 [0] * [1] 하여 필요한 지갑의 사이즈를 도출한다."
   ]
  },
  {
   "cell_type": "code",
   "execution_count": null,
   "id": "568e6aef-b052-45cf-a5e9-d64a2ea28e1d",
   "metadata": {},
   "outputs": [],
   "source": [
    "# Function Binding"
   ]
  },
  {
   "cell_type": "code",
   "execution_count": 73,
   "id": "5d4eb7f0-29aa-4210-ac22-4adc3eb39021",
   "metadata": {},
   "outputs": [],
   "source": [
    "def solution(sizes):\n",
    "    answer = 0\n",
    "    width = 0\n",
    "    height = 0\n",
    "    for i in range(0, len(sizes)):\n",
    "        sizes[i] = sorted(sizes[i], reverse=True)\n",
    "        if sizes[i][0] >= width:\n",
    "            width = sizes[i][0]\n",
    "        if sizes[i][1] >=  height:\n",
    "            height = sizes[i][1]\n",
    "    answer = width * height\n",
    "    return answer"
   ]
  },
  {
   "cell_type": "code",
   "execution_count": 74,
   "id": "c662b2cd-8230-47b9-981c-5feefa203802",
   "metadata": {},
   "outputs": [
    {
     "data": {
      "text/plain": [
       "120"
      ]
     },
     "execution_count": 74,
     "metadata": {},
     "output_type": "execute_result"
    }
   ],
   "source": [
    "solution([[10, 7], [12, 3], [8, 15], [14, 7], [5, 15]])"
   ]
  },
  {
   "cell_type": "code",
   "execution_count": 75,
   "id": "0e962a6b-9aa7-4fb8-ad4d-61ad4101eb9e",
   "metadata": {},
   "outputs": [
    {
     "data": {
      "text/plain": [
       "4000"
      ]
     },
     "execution_count": 75,
     "metadata": {},
     "output_type": "execute_result"
    }
   ],
   "source": [
    "solution([[60, 50], [30, 70], [60, 30], [80, 40]])"
   ]
  },
  {
   "cell_type": "code",
   "execution_count": null,
   "id": "48716341-8b25-4175-b1d8-a304ef4c4261",
   "metadata": {},
   "outputs": [],
   "source": [
    "# 모범 답안 중 --> a, b = b, a 치환. 공부해두자"
   ]
  },
  {
   "cell_type": "markdown",
   "id": "7b1672af-441b-4bbd-8fc3-6c65e9505a50",
   "metadata": {},
   "source": [
    "####  "
   ]
  },
  {
   "cell_type": "markdown",
   "id": "79955eb5-ee38-4dc1-b73d-ef9279c586aa",
   "metadata": {},
   "source": [
    "## Programmers : '최댓값과 최솟값'"
   ]
  },
  {
   "cell_type": "markdown",
   "id": "f19ac013-c560-4c6e-9be7-248f3af07516",
   "metadata": {},
   "source": [
    "#### 01. 내 답안"
   ]
  },
  {
   "cell_type": "code",
   "execution_count": 424,
   "id": "ac4cb7a5-5936-43d4-b669-add26e9ccaef",
   "metadata": {},
   "outputs": [],
   "source": [
    "# s = \"1 2 3 4\"\n",
    "\n",
    "# targetStd = \" \"\n",
    "\n",
    "# sorted(s.split(targetStd), reverse=False)[0]+\" \"+sorted(s.split(targetStd), reverse=False)[len(s.split(targetStd))-1]\n",
    "\n",
    "# s = \"-1 -2 1 2\"\n",
    "\n",
    "# ind = s.split(targetStd)\n",
    "\n",
    "# sorted(ind, reverse=True)\n",
    "\n",
    "# sorted(s.split(targetStd), reverse=False)[0]+\" \"+sorted(s.split(targetStd), reverse=False)[len(s.split(targetStd))-1]\n",
    "\n",
    "# s = \"1 2 3 4\"\n",
    "\n",
    "# sorted((map(int, s.split(targetStd))))[len(s.split(targetStd))-1]\n",
    "\n",
    "# str(sorted((map(int, s.split(targetStd))))[0])+targetStd+str(sorted((map(int, s.split(targetStd))))[len(s.split(targetStd))-1])\n",
    "# 한 줄로 코드를 작성하려고 발버둥친 기록들\n",
    "\n",
    "# s = \"-1 -2 -3 -4\"\n",
    "\n",
    "# str(sorted((map(int, s.split(targetStd))))[0])+targetStd+str(sorted((map(int, s.split(targetStd))))[len(s.split(targetStd))-1])\n",
    "\n",
    "# s = \"1 2 3 4\"\n",
    "\n",
    "# str(sorted((map(int, s.split(targetStd))))[0])+targetStd+str(sorted((map(int, s.split(targetStd))))[len(s.split(targetStd))-1])"
   ]
  },
  {
   "cell_type": "code",
   "execution_count": null,
   "id": "c3141698-d4c3-4b78-9683-6f8fec3090e8",
   "metadata": {},
   "outputs": [],
   "source": [
    "# Function Binding"
   ]
  },
  {
   "cell_type": "code",
   "execution_count": 76,
   "id": "053e4d1f-f254-4443-9b09-348c3f7326ec",
   "metadata": {},
   "outputs": [],
   "source": [
    "def solution(s):\n",
    "    answer = ''\n",
    "    targetStd = \" \"\n",
    "    answer = str(sorted((map(int, s.split(targetStd))))[0])+targetStd+str(sorted((map(int, s.split(targetStd))))[len(s.split(targetStd))-1])\n",
    "    return answer"
   ]
  },
  {
   "cell_type": "code",
   "execution_count": 77,
   "id": "b79e4a99-c547-4601-930d-194072ce8007",
   "metadata": {},
   "outputs": [
    {
     "data": {
      "text/plain": [
       "'-4 -1'"
      ]
     },
     "execution_count": 77,
     "metadata": {},
     "output_type": "execute_result"
    }
   ],
   "source": [
    "solution(\"-1 -2 -3 -4\")"
   ]
  },
  {
   "cell_type": "code",
   "execution_count": 78,
   "id": "fe4c5ce9-3f11-4dd5-99c3-a4f4c2d2e33a",
   "metadata": {},
   "outputs": [
    {
     "data": {
      "text/plain": [
       "'1 4'"
      ]
     },
     "execution_count": 78,
     "metadata": {},
     "output_type": "execute_result"
    }
   ],
   "source": [
    "solution(\"1 3 2 4\")"
   ]
  },
  {
   "cell_type": "code",
   "execution_count": null,
   "id": "f9029b1d-03b0-464f-b153-251e48e4d1f3",
   "metadata": {},
   "outputs": [],
   "source": [
    "# 한 줄로 기교를 부려봤다."
   ]
  },
  {
   "cell_type": "code",
   "execution_count": 79,
   "id": "7f5a5cca-37a5-43e4-98ee-836d0cf6ff9e",
   "metadata": {},
   "outputs": [],
   "source": [
    "def solution(s):\n",
    "    targetStd = \" \"\n",
    "    return str(sorted((map(int, s.split(targetStd))))[0])+targetStd+str(sorted((map(int, s.split(targetStd))))[len(s.split(targetStd))-1])"
   ]
  },
  {
   "cell_type": "code",
   "execution_count": 80,
   "id": "e309e125-e381-4ff2-b3b1-d4d040d13148",
   "metadata": {},
   "outputs": [
    {
     "data": {
      "text/plain": [
       "'-4 -1'"
      ]
     },
     "execution_count": 80,
     "metadata": {},
     "output_type": "execute_result"
    }
   ],
   "source": [
    "solution(\"-1 -2 -3 -4\")"
   ]
  },
  {
   "cell_type": "code",
   "execution_count": null,
   "id": "4d127a23-ad28-4d63-ab2b-44d62c356510",
   "metadata": {},
   "outputs": [],
   "source": [
    "# map과 max/min을 사용하면 코드를 더 간결히 작성할 수 있었다. 반성하자."
   ]
  },
  {
   "cell_type": "markdown",
   "id": "4e429ec5-caf0-4fb9-94c4-d0d9a6c1f001",
   "metadata": {},
   "source": [
    "####  "
   ]
  },
  {
   "cell_type": "markdown",
   "id": "d9b61a1f-a303-4d65-a3a9-19dbe46cd437",
   "metadata": {},
   "source": [
    "## Programmers : '최솟값 만들기'"
   ]
  },
  {
   "cell_type": "markdown",
   "id": "2c63e237-21d1-486d-91fa-79069f26904e",
   "metadata": {},
   "source": [
    "#### 01. 내 풀이"
   ]
  },
  {
   "cell_type": "code",
   "execution_count": null,
   "id": "fad6c60f-df41-4015-8e70-7520bf9b6540",
   "metadata": {},
   "outputs": [],
   "source": [
    "# A와 B의 두 1차원 배열이 주어진다.\n",
    "# 한 배열의 최대값과 다른 한 배열의 최소값을 곱해서 더하면 최소값이 충족될 것이다.\n",
    "# sorted 해버리자."
   ]
  },
  {
   "cell_type": "code",
   "execution_count": 81,
   "id": "7261031b-9412-4253-813b-627385be6e5d",
   "metadata": {},
   "outputs": [],
   "source": [
    "A = [1, 4, 2]\n",
    "B = [5, 4, 4]"
   ]
  },
  {
   "cell_type": "code",
   "execution_count": 82,
   "id": "e7d1ac62-1b2b-414a-b2b5-2eae8c5838b7",
   "metadata": {},
   "outputs": [
    {
     "name": "stdout",
     "output_type": "stream",
     "text": [
      "29\n"
     ]
    }
   ],
   "source": [
    "answer = 0\n",
    "for i in range(0, len(A)):\n",
    "    A = sorted(A, reverse=True)\n",
    "    B = sorted(B, reverse=False)\n",
    "    answer += A[i]*B[i]\n",
    "print(answer)"
   ]
  },
  {
   "cell_type": "code",
   "execution_count": 83,
   "id": "589af999-3187-4766-8cc8-01c07eb4bf69",
   "metadata": {},
   "outputs": [],
   "source": [
    "A = [1, 2]\n",
    "B = [3, 4]"
   ]
  },
  {
   "cell_type": "code",
   "execution_count": 84,
   "id": "9c047f39-c3a3-489e-b38b-e042b4070ca2",
   "metadata": {},
   "outputs": [
    {
     "name": "stdout",
     "output_type": "stream",
     "text": [
      "10\n"
     ]
    }
   ],
   "source": [
    "answer = 0\n",
    "for i in range(0, len(A)):\n",
    "    A = sorted(A, reverse=True)\n",
    "    B = sorted(B, reverse=False)\n",
    "    answer += A[i]*B[i]\n",
    "print(answer)"
   ]
  },
  {
   "cell_type": "code",
   "execution_count": null,
   "id": "6db4765a-131e-474c-bb0c-cfd1cc19152d",
   "metadata": {},
   "outputs": [],
   "source": [
    "# Function Binding"
   ]
  },
  {
   "cell_type": "code",
   "execution_count": 85,
   "id": "9c8e5f5e-6b7c-45c0-9161-97725a2f0344",
   "metadata": {},
   "outputs": [],
   "source": [
    "def solution(A, B):\n",
    "    answer = 0\n",
    "    for i in range(0, len(A)):\n",
    "        A = sorted(A, reverse=True)\n",
    "        B = sorted(B, reverse=False)\n",
    "        answer += A[i] * B[i]\n",
    "    return answer"
   ]
  },
  {
   "cell_type": "code",
   "execution_count": 86,
   "id": "1ae9aa62-80d0-4981-a4f0-5a7b05c65cd4",
   "metadata": {
    "tags": []
   },
   "outputs": [
    {
     "data": {
      "text/plain": [
       "10"
      ]
     },
     "execution_count": 86,
     "metadata": {},
     "output_type": "execute_result"
    }
   ],
   "source": [
    "solution([1,2], [3,4])"
   ]
  },
  {
   "cell_type": "code",
   "execution_count": 87,
   "id": "8ab1843e-12f5-4437-bc9c-70cbba4437fb",
   "metadata": {},
   "outputs": [
    {
     "data": {
      "text/plain": [
       "29"
      ]
     },
     "execution_count": 87,
     "metadata": {},
     "output_type": "execute_result"
    }
   ],
   "source": [
    "solution([1, 4, 2], [5, 4, 4])"
   ]
  },
  {
   "cell_type": "code",
   "execution_count": null,
   "id": "528d7b95-69c5-4ac2-8923-1b522432ea8b",
   "metadata": {},
   "outputs": [],
   "source": [
    "# 1차 탈락. 뭐가 문젠가 싶었는데\n",
    "# 매번 for문 돌 때마다 정렬할거냐 이 돌대가리야. 사소한 디테일을 놓치지 말자"
   ]
  },
  {
   "cell_type": "code",
   "execution_count": 88,
   "id": "f5170007-23e8-451e-96c6-3597a1fb72da",
   "metadata": {},
   "outputs": [],
   "source": [
    "def solution(A, B):\n",
    "    answer = 0\n",
    "    A = sorted(A, reverse=True)\n",
    "    B = sorted(B, reverse=False)\n",
    "    for i in range(0, len(A)):    \n",
    "        answer += A[i] * B[i]\n",
    "    return answer"
   ]
  },
  {
   "cell_type": "code",
   "execution_count": null,
   "id": "d986eb3e-f665-4a36-ad41-2c1101ef92ca",
   "metadata": {},
   "outputs": [],
   "source": [
    "# 수정본"
   ]
  },
  {
   "cell_type": "code",
   "execution_count": null,
   "id": "3e38ac5d-a575-4a14-8835-fc106bf0845c",
   "metadata": {},
   "outputs": [],
   "source": [
    "# 모범 답안에서는 lambda와 zip을 사용한 풀이를 확인했다.\n",
    "# zip과 lambda식. 내 것으로 만들도록 노력하자"
   ]
  },
  {
   "cell_type": "markdown",
   "id": "1c46b71e-12df-4bc8-9960-054c44f91f60",
   "metadata": {},
   "source": [
    "## Programmers : '피보나치 수'"
   ]
  },
  {
   "cell_type": "markdown",
   "id": "3a6ebb4d-175b-496f-841b-c926127935a4",
   "metadata": {},
   "source": [
    "#### 01. 내 답안"
   ]
  },
  {
   "cell_type": "code",
   "execution_count": null,
   "id": "b11fbe03-7555-4a7f-80a9-0c07d6ac4841",
   "metadata": {},
   "outputs": [],
   "source": [
    "# 오랫만에 다시 본다. 피보나치\n",
    "# 다시 헤딩해보자"
   ]
  },
  {
   "cell_type": "code",
   "execution_count": null,
   "id": "09e8a7a7-abac-4f45-ae46-c6c674af9220",
   "metadata": {},
   "outputs": [],
   "source": [
    "# a = 0\n",
    "# b = 1\n",
    "# c = a + b\n",
    "# d = a + b + c"
   ]
  },
  {
   "cell_type": "code",
   "execution_count": null,
   "id": "5137e801-20fa-4ab3-967b-6f214884fbf7",
   "metadata": {},
   "outputs": [],
   "source": [
    "# F(10) = F(8) + F(9)"
   ]
  },
  {
   "cell_type": "code",
   "execution_count": 89,
   "id": "32b2fcb3-815f-4225-a152-ac9a7a8ea3c7",
   "metadata": {},
   "outputs": [],
   "source": [
    "arr = [0, 1]\n",
    "\n",
    "n = 5\n",
    "\n",
    "for i in range(2, n+1):\n",
    "    arr.append(arr[i-1]+arr[i-2])"
   ]
  },
  {
   "cell_type": "code",
   "execution_count": 90,
   "id": "71be90d4-fd86-4ea3-99b2-f225613b87c9",
   "metadata": {},
   "outputs": [
    {
     "data": {
      "text/plain": [
       "[0, 1, 1, 2, 3, 5]"
      ]
     },
     "execution_count": 90,
     "metadata": {},
     "output_type": "execute_result"
    }
   ],
   "source": [
    "arr"
   ]
  },
  {
   "cell_type": "code",
   "execution_count": 91,
   "id": "42c3c316-82b0-4176-b3bb-3bb57ba57312",
   "metadata": {},
   "outputs": [
    {
     "name": "stdout",
     "output_type": "stream",
     "text": [
      "5\n"
     ]
    }
   ],
   "source": [
    "print(arr[n] % 1234567)"
   ]
  },
  {
   "cell_type": "code",
   "execution_count": null,
   "id": "d4aa049e-082a-437a-bddc-5769a2bbed8c",
   "metadata": {},
   "outputs": [],
   "source": [
    "# Function Binding"
   ]
  },
  {
   "cell_type": "code",
   "execution_count": 92,
   "id": "6c54acb6-de0d-457d-9f4d-c1a31c87aa72",
   "metadata": {},
   "outputs": [],
   "source": [
    "def solution(n):\n",
    "    answer = 0\n",
    "    arr = [0, 1]\n",
    "    for i in range(2, n+1):\n",
    "        arr.append(arr[i-2]+arr[i-1])\n",
    "    answer = arr[n] % 1234567\n",
    "    return answer"
   ]
  },
  {
   "cell_type": "code",
   "execution_count": 93,
   "id": "4bb5187b-2c79-43e9-b77e-54662d5c5da0",
   "metadata": {},
   "outputs": [
    {
     "data": {
      "text/plain": [
       "2"
      ]
     },
     "execution_count": 93,
     "metadata": {},
     "output_type": "execute_result"
    }
   ],
   "source": [
    "solution(3)"
   ]
  },
  {
   "cell_type": "code",
   "execution_count": 94,
   "id": "2e75396a-84bd-4187-8f2d-ff43bc389be2",
   "metadata": {},
   "outputs": [
    {
     "data": {
      "text/plain": [
       "5"
      ]
     },
     "execution_count": 94,
     "metadata": {},
     "output_type": "execute_result"
    }
   ],
   "source": [
    "solution(5)"
   ]
  },
  {
   "cell_type": "markdown",
   "id": "2786ec39-d3ec-44f9-a7ad-9561fb48f230",
   "metadata": {},
   "source": [
    "#### 모범 답안"
   ]
  },
  {
   "cell_type": "code",
   "execution_count": 95,
   "id": "69da2573-cd14-4d8d-ba7a-ce04532f472c",
   "metadata": {},
   "outputs": [
    {
     "name": "stdout",
     "output_type": "stream",
     "text": [
      "2\n"
     ]
    }
   ],
   "source": [
    "def fibonacci(num):\n",
    "    a, b = 0, 1\n",
    "    for i in range(num):\n",
    "        a, b = b, a+b\n",
    "    return a\n",
    "\n",
    "print(fibonacci(3))"
   ]
  },
  {
   "cell_type": "code",
   "execution_count": 491,
   "id": "3ae4e54f-c0d4-4ac1-8923-f45ec1c252fd",
   "metadata": {},
   "outputs": [
    {
     "name": "stdout",
     "output_type": "stream",
     "text": [
      "---피보나치 수열 ---\n",
      "1\n",
      "1\n",
      "2\n",
      "3\n",
      "5\n",
      "8\n",
      "13\n",
      "21\n",
      "34\n",
      "55\n",
      "---\n",
      "num 번째 피보나치 수열의 값은\n",
      "55\n"
     ]
    }
   ],
   "source": [
    "num = 10\n",
    "a, b = 0, 1\n",
    "# a와 b 변수에 각각 0, 1 값을 산입한다.\n",
    "print(\"---피보나치 수열 ---\")\n",
    "for i in range(num):\n",
    "    a, b = b, a + b\n",
    "    print(a)\n",
    "# i가 0 ~ num-1일 때까지 반복하겠다.\n",
    "# a, b 값에  b, a+b 값을 새로 덧씌운다.\n",
    "# 0, 1 -> 1, 1 -> 1, 2 -> 2, 3 -> 3, 5 -> 5, 8 -> 8, 13 ....\n",
    "# 피보나치의 형태를 띄고 있다.\n",
    "print(\"---\")\n",
    "print(\"num 번째 피보나치 수열의 값은\")\n",
    "print(a)\n",
    "# num 번째 피보나치 a, b 값 중 a 값을 return 하므로 n 번째 피보나치 수열의 값이 출력된다.\n",
    "# 깔끔하고, 아름다운 코드"
   ]
  },
  {
   "cell_type": "markdown",
   "id": "e3f897cf-d407-45a6-8496-09b2a055dfdf",
   "metadata": {},
   "source": [
    "####  "
   ]
  },
  {
   "cell_type": "markdown",
   "id": "a61f1979-b1cb-444c-a991-f97aa29504e4",
   "metadata": {},
   "source": [
    "## Programmers : '카펫'"
   ]
  },
  {
   "cell_type": "markdown",
   "id": "7540e6c9-4f08-4178-a7b7-d6a3857a524c",
   "metadata": {},
   "source": [
    "#### 01. 내 풀이"
   ]
  },
  {
   "cell_type": "code",
   "execution_count": null,
   "id": "eaf8d771-3e66-4d74-a8eb-4efe0e9984f5",
   "metadata": {},
   "outputs": [],
   "source": [
    "ㅁㅁㅁ ㅁ : 8 = (1 + 2) * 2 + 1*2\n",
    "ㅁㅇㅁ ㅇ : 1 = 1 * 1\n",
    "ㅁㅁㅁ ㅁㅁ = 3 * 3 = 9\n",
    "\n",
    "ㅁㅁㅁㅁ ㅁ : 10\n",
    "ㅁㅇㅇㅁ ㅇ : 2\n",
    "ㅁㅁㅁㅁ ㅁㅁ = 3 * 4 = 12\n",
    "\n",
    "ㅁㅁㅁㅁㅁ ㅁ : 16 = (3 + 2)*2 + 3*2 \n",
    "ㅁㅇㅇㅇㅁ ㅇ : 9 = 3 * 3\n",
    "ㅁㅇㅇㅇㅁ ㅁㅁ = 5 * 5 = 25\n",
    "ㅁㅇㅇㅇㅁ\n",
    "ㅁㅁㅁㅁㅁ\n",
    "\n",
    "Yellow의 갯수가 A * B일 때,\n",
    "Brown의 갯수는 2*(A+2) + 2*(B) = 2*(A+B+2)\n",
    "총 넓이 = Y넓이 + B넓이\n",
    "\n",
    "yellow = 24일 때 (1, 24), (2, 12), (3, 8), (4, 6) * 2가지가 존재한다.\n",
    "\n",
    "이 때 Brown = 24를 충족하는 경우는 : (4, 6)인 경우만 해당하지.\n",
    "\n",
    "그러므로 brown, yellow가 주어졌을 때\n",
    "\n",
    "1. yellow 면적이 나올 수 있는 경우의 수를 구하고\n",
    "2. yellow 경우의 수 중에서 2(yellow[i][0]+yellow[i][1]+2) = brown인 친구를 구한다.\n",
    "3. return 값은 1 x 2 행렬에 담기며, yellow[i][0]+2, yellow[i][1]+2가 배열에 담길 것이다."
   ]
  },
  {
   "cell_type": "code",
   "execution_count": 496,
   "id": "14f2e513-b988-4605-b179-cca50a244ab1",
   "metadata": {},
   "outputs": [],
   "source": [
    "brown = 10\n",
    "yellow = 2"
   ]
  },
  {
   "cell_type": "code",
   "execution_count": 520,
   "id": "8c88e04e-4077-4273-bafd-125f7cc00c68",
   "metadata": {},
   "outputs": [],
   "source": [
    "from sympy import symbols, solve\n",
    "\n",
    "a, b = symbols(\"a, b\")\n",
    "answer = solve([\\\n",
    "                a * b -yellow,\n",
    "                2 * (a + b + 2) - brown\n",
    "                ])\n",
    "\n",
    "newArr = []\n",
    "\n",
    "if(answer[0].get(a) > answer[0].get(b)):\n",
    "    newArr.append(answer[0].get(a)+2)\n",
    "    newArr.append(answer[0].get(b)+2)\n",
    "else:\n",
    "    newArr.append(answer[0].get(b)+2)\n",
    "    newArr.append(answer[0].get(a)+2)"
   ]
  },
  {
   "cell_type": "code",
   "execution_count": 521,
   "id": "2bf11b4c-d9f7-4563-bd44-4007d448498a",
   "metadata": {},
   "outputs": [
    {
     "data": {
      "text/plain": [
       "[4, 3]"
      ]
     },
     "execution_count": 521,
     "metadata": {},
     "output_type": "execute_result"
    }
   ],
   "source": [
    "newArr"
   ]
  },
  {
   "cell_type": "code",
   "execution_count": 96,
   "id": "dd514ec9-34ab-43f5-9bac-76a68134c2a9",
   "metadata": {},
   "outputs": [],
   "source": [
    "brown = 24\n",
    "yellow = 24"
   ]
  },
  {
   "cell_type": "code",
   "execution_count": 97,
   "id": "6555fb32-d42f-420a-be0d-9c6311bd3df9",
   "metadata": {},
   "outputs": [],
   "source": [
    "from sympy import symbols, solve\n",
    "\n",
    "a, b = symbols(\"a, b\")\n",
    "answer = solve([\\\n",
    "                a * b -yellow,\n",
    "                2 * (a + b + 2) - brown\n",
    "                ])\n",
    "newArr = []\n",
    "\n",
    "if(answer[0].get(a) > answer[0].get(b)):\n",
    "    newArr.append(answer[0].get(a)+2)\n",
    "    newArr.append(answer[0].get(b)+2)\n",
    "else:\n",
    "    newArr.append(answer[0].get(b)+2)\n",
    "    newArr.append(answer[0].get(a)+2)"
   ]
  },
  {
   "cell_type": "code",
   "execution_count": 98,
   "id": "f8270d38-6247-45e1-a9f4-fa17a0fba2c1",
   "metadata": {},
   "outputs": [
    {
     "data": {
      "text/plain": [
       "[8, 6]"
      ]
     },
     "execution_count": 98,
     "metadata": {},
     "output_type": "execute_result"
    }
   ],
   "source": [
    "newArr"
   ]
  },
  {
   "cell_type": "code",
   "execution_count": null,
   "id": "e4f91fec-1f06-43c6-ba4a-f7548bedcc4a",
   "metadata": {},
   "outputs": [],
   "source": [
    "# Function Binding"
   ]
  },
  {
   "cell_type": "code",
   "execution_count": 99,
   "id": "6f8e929e-c098-460b-b775-e3103d4ee84a",
   "metadata": {},
   "outputs": [],
   "source": [
    "from sympy import symbols, solve\n",
    "def solution(brown, yellow):\n",
    "    answer = []\n",
    "    a, b = symbols(\"a, b\")\n",
    "    sols = solve([\\\n",
    "                  a * b - yellow, \n",
    "                  2 * (a + b + 2) - brown\n",
    "                 ])\n",
    "    if(sols[0].get(a) >= sols[0].get(b)):\n",
    "        answer.append(sols[0].get(a)+2)\n",
    "        answer.append(sols[0].get(b)+2)\n",
    "    else:\n",
    "        answer.append(sols[0].get(b) + 2)\n",
    "        answer.append(sols[0].get(a) + 2)\n",
    "    return answer"
   ]
  },
  {
   "cell_type": "code",
   "execution_count": 100,
   "id": "179e8eba-4ba3-4c14-b0b4-f99dacf52362",
   "metadata": {},
   "outputs": [
    {
     "data": {
      "text/plain": [
       "[8, 6]"
      ]
     },
     "execution_count": 100,
     "metadata": {},
     "output_type": "execute_result"
    }
   ],
   "source": [
    "solution(24, 24)"
   ]
  },
  {
   "cell_type": "code",
   "execution_count": null,
   "id": "bb14a274-f5fc-4b09-ad54-db4b828eb190",
   "metadata": {},
   "outputs": [],
   "source": [
    "# 비상. sympy 모델이 안 먹힌다."
   ]
  },
  {
   "cell_type": "code",
   "execution_count": 187,
   "id": "c41fdea7-8d16-4c18-bdea-8abab7ac49c6",
   "metadata": {},
   "outputs": [],
   "source": [
    "answer = []"
   ]
  },
  {
   "cell_type": "code",
   "execution_count": 188,
   "id": "faa4cc82-c675-443e-b76b-acc75557f0a5",
   "metadata": {},
   "outputs": [],
   "source": [
    "brown = 24\n",
    "yellow = 24"
   ]
  },
  {
   "cell_type": "code",
   "execution_count": 189,
   "id": "c13acf08-6c3b-44bf-ac9f-83b9a4287a9f",
   "metadata": {},
   "outputs": [],
   "source": [
    "newArr = []\n",
    "for i in range(1, yellow+1):\n",
    "    if yellow % i == 0:\n",
    "        newArr.append(i)\n",
    "newArr.sort(reverse=True)"
   ]
  },
  {
   "cell_type": "code",
   "execution_count": 190,
   "id": "869e1995-d27d-4217-bb55-9925b4fc909b",
   "metadata": {},
   "outputs": [
    {
     "data": {
      "text/plain": [
       "[24, 12, 8, 6, 4, 3, 2, 1]"
      ]
     },
     "execution_count": 190,
     "metadata": {},
     "output_type": "execute_result"
    }
   ],
   "source": [
    "newArr"
   ]
  },
  {
   "cell_type": "code",
   "execution_count": 191,
   "id": "8f2c5203-e244-43bd-9eb8-5e0ad9fefb99",
   "metadata": {},
   "outputs": [],
   "source": [
    "if(yellow == 1 and brown == 8):\n",
    "    answer = [3, 3]"
   ]
  },
  {
   "cell_type": "code",
   "execution_count": 192,
   "id": "cccc9ef8-2252-4e0c-8221-480111fcbbd7",
   "metadata": {},
   "outputs": [],
   "source": [
    "for i in range(0, len(newArr)):\n",
    "    if i + 1 < len(newArr):\n",
    "        for j in range(i, len(newArr)):\n",
    "            if(newArr[i] * newArr[j] == yellow and 2 * (newArr[i]+newArr[j]+2) == brown):\n",
    "                answer.append(newArr[i]+2)\n",
    "                answer.append(newArr[j]+2)\n",
    "                break"
   ]
  },
  {
   "cell_type": "code",
   "execution_count": 193,
   "id": "926f2470-12b3-4293-93cd-846f1e19c8f2",
   "metadata": {},
   "outputs": [
    {
     "data": {
      "text/plain": [
       "[8, 6]"
      ]
     },
     "execution_count": 193,
     "metadata": {},
     "output_type": "execute_result"
    }
   ],
   "source": [
    "answer"
   ]
  },
  {
   "cell_type": "code",
   "execution_count": 143,
   "id": "67778166-d401-474c-833f-6b3de2aead92",
   "metadata": {},
   "outputs": [],
   "source": [
    "def solution(brown, yellow):\n",
    "    answer = []\n",
    "    newArr = []\n",
    "    for i in range(yellow):\n",
    "        if yellow%(i+1)==0:\n",
    "            newArr.append(i)\n",
    "    newArr.sort(reverse=True)\n",
    "    temp = len(newArr)\n",
    "    for i in range(temp):\n",
    "        if i+1<temp:\n",
    "            for j in range(i+1, temp):\n",
    "                if (newArr[i]*newArr[j]==yellow and 2*(newArr[i]+newArr[j]+2)==brown):\n",
    "                    answer.append(newArr[i]+2)\n",
    "                    answer.append(newArr[j]+2)\n",
    "                    break\n",
    "    return answer\n",
    "\n",
    "solution(24, 24)"
   ]
  },
  {
   "cell_type": "code",
   "execution_count": null,
   "id": "9bb522ca-79c0-4fe8-89e0-4ae26d577e85",
   "metadata": {},
   "outputs": [],
   "source": [
    "# yellow의 가로 세로가 동일한 경우를 카운트하지 못했다.\n",
    "# 그 덕에 한 시간이 날아갔다. +1 하나를 지우는데 한 시간이 걸렸다.\n",
    "# 디버그를 그렇게 돌려보고도 인지를 못 한것을 보니, 아직 수련이 많이 필요할 것 같다.\n",
    "# 힘내자."
   ]
  },
  {
   "cell_type": "markdown",
   "id": "b42728e1-47af-4559-9224-b29dda2b862d",
   "metadata": {},
   "source": [
    "## Programmers : '점프와 순간 이동'"
   ]
  },
  {
   "cell_type": "markdown",
   "id": "f30ad787-ee2f-4fc5-a809-7ff25c9d046b",
   "metadata": {},
   "source": [
    "#### 01. 내 답안"
   ]
  },
  {
   "cell_type": "code",
   "execution_count": 247,
   "id": "73d08e00-22a8-4605-a8d1-bce1844809f5",
   "metadata": {},
   "outputs": [],
   "source": [
    "#5000 / 2\n",
    "\n",
    "#2500 / 2\n",
    "\n",
    "# 1250 / 2\n",
    "\n",
    "# 625 // 2\n",
    "\n",
    "# 312 // 2\n",
    "\n",
    "# 156 // 2\n",
    "\n",
    "# 78 // 2\n",
    "\n",
    "# 39 // 2"
   ]
  },
  {
   "cell_type": "code",
   "execution_count": 248,
   "id": "06077428-fa22-49a0-883e-53c6312ecc2d",
   "metadata": {},
   "outputs": [
    {
     "name": "stdout",
     "output_type": "stream",
     "text": [
      "5\n"
     ]
    }
   ],
   "source": [
    "index = 0\n",
    "for i in range(0, n):\n",
    "    n = n // 2\n",
    "    if n % 2 != 0:\n",
    "        n = n - 1\n",
    "        index += 1\n",
    "    n = n // 2\n",
    "    if n == 1:\n",
    "        break\n",
    "print(index)"
   ]
  },
  {
   "cell_type": "code",
   "execution_count": 252,
   "id": "ca295f5b-c020-48fe-8c46-4dfb9db63abc",
   "metadata": {},
   "outputs": [
    {
     "name": "stdout",
     "output_type": "stream",
     "text": [
      "1\n"
     ]
    }
   ],
   "source": [
    "n = 5\n",
    "\n",
    "index = 0\n",
    "for i in range(0, n):\n",
    "    if n % 2 != 0:\n",
    "        n -= 1\n",
    "        index += 1\n",
    "    if n == 1:\n",
    "        index+=1\n",
    "        break\n",
    "print(index)"
   ]
  },
  {
   "cell_type": "code",
   "execution_count": null,
   "id": "7c7c6746-cc99-436f-a0ca-fcba4698cf34",
   "metadata": {},
   "outputs": [],
   "source": [
    "# Function Binding"
   ]
  },
  {
   "cell_type": "code",
   "execution_count": 253,
   "id": "75585ba7-6dff-474b-988a-8daea04b96bd",
   "metadata": {},
   "outputs": [],
   "source": [
    "def solution(n):\n",
    "    ans = 0\n",
    "    for i in range(n):\n",
    "        if n % 2 != 0:\n",
    "            n -= 1\n",
    "            ans += 1\n",
    "        n = n // 2\n",
    "        if n == 1:\n",
    "            ans += 1\n",
    "            break\n",
    "    return ans"
   ]
  },
  {
   "cell_type": "code",
   "execution_count": 254,
   "id": "0811d665-16b1-45c5-a135-6285364d6920",
   "metadata": {},
   "outputs": [
    {
     "data": {
      "text/plain": [
       "5"
      ]
     },
     "execution_count": 254,
     "metadata": {},
     "output_type": "execute_result"
    }
   ],
   "source": [
    "solution(5000)"
   ]
  },
  {
   "cell_type": "code",
   "execution_count": 255,
   "id": "3806a14f-baa9-48d7-a1a2-10f3d52d117a",
   "metadata": {},
   "outputs": [
    {
     "data": {
      "text/plain": [
       "2"
      ]
     },
     "execution_count": 255,
     "metadata": {},
     "output_type": "execute_result"
    }
   ],
   "source": [
    "solution(6)"
   ]
  },
  {
   "cell_type": "code",
   "execution_count": 256,
   "id": "cf698e2e-8ec1-474f-bb19-b719a1459567",
   "metadata": {},
   "outputs": [
    {
     "data": {
      "text/plain": [
       "2"
      ]
     },
     "execution_count": 256,
     "metadata": {},
     "output_type": "execute_result"
    }
   ],
   "source": [
    "solution(5)"
   ]
  },
  {
   "cell_type": "code",
   "execution_count": null,
   "id": "6c22c4d2-f8e2-40ac-9985-550508ef3f4b",
   "metadata": {},
   "outputs": [],
   "source": [
    "# 모범 답안 코너 패스. 잘 풀었다."
   ]
  },
  {
   "cell_type": "markdown",
   "id": "33324ce8-ea8f-4abb-8f9e-3748f18e5730",
   "metadata": {},
   "source": [
    "####  "
   ]
  },
  {
   "cell_type": "markdown",
   "id": "398b6f2c-4b26-429d-908d-fa879ebe88cb",
   "metadata": {},
   "source": [
    "## Programmers : 'JadenCase 문자열 만들기'"
   ]
  },
  {
   "cell_type": "markdown",
   "id": "5a4ad7da-8e05-4b65-8d4a-a2723944ac15",
   "metadata": {},
   "source": [
    "#### 01. 내 답안"
   ]
  },
  {
   "cell_type": "code",
   "execution_count": null,
   "id": "a4f71bf7-6cf9-4c43-a6fc-c08c6b836502",
   "metadata": {},
   "outputs": [],
   "source": [
    "# s는 길이 1 이상 200 이하인 문자열\n",
    "# s는 알파벳, 숫자, 공백으로 구성되어 있다.\n",
    "# 숫자는 단어의 첫 문자로만 나온다."
   ]
  },
  {
   "cell_type": "code",
   "execution_count": 257,
   "id": "cb8dd777-9392-4cc8-bfad-fef2f8c4c8c5",
   "metadata": {},
   "outputs": [],
   "source": [
    "s = \"3people unFollowed me\""
   ]
  },
  {
   "cell_type": "code",
   "execution_count": 283,
   "id": "53aa5bef-530c-4640-a975-bfd9d4afe599",
   "metadata": {},
   "outputs": [],
   "source": [
    "sol = list(s)"
   ]
  },
  {
   "cell_type": "code",
   "execution_count": 284,
   "id": "6d0bfb1d-fbaa-4490-93c9-7559e753374e",
   "metadata": {},
   "outputs": [
    {
     "data": {
      "text/plain": [
       "['3',\n",
       " 'p',\n",
       " 'e',\n",
       " 'o',\n",
       " 'p',\n",
       " 'l',\n",
       " 'e',\n",
       " ' ',\n",
       " 'u',\n",
       " 'n',\n",
       " 'F',\n",
       " 'o',\n",
       " 'l',\n",
       " 'l',\n",
       " 'o',\n",
       " 'w',\n",
       " 'e',\n",
       " 'd',\n",
       " ' ',\n",
       " 'm',\n",
       " 'e']"
      ]
     },
     "execution_count": 284,
     "metadata": {},
     "output_type": "execute_result"
    }
   ],
   "source": [
    "sol"
   ]
  },
  {
   "cell_type": "code",
   "execution_count": 292,
   "id": "a2f2a3ad-0244-49a1-a95b-1bcbdd4fcd97",
   "metadata": {},
   "outputs": [
    {
     "name": "stdout",
     "output_type": "stream",
     "text": [
      "3people Unfollowed Me\n"
     ]
    }
   ],
   "source": [
    "index = 0\n",
    "targetStd = \" \"\n",
    "for i in range(len(sol)):\n",
    "    if index == 0:\n",
    "        sol[i] = sol[i].upper()\n",
    "        index+=1\n",
    "        continue\n",
    "    sol[i] = sol[i].lower()\n",
    "    index+=1\n",
    "    if sol[i] == targetStd:\n",
    "        index = 0\n",
    "        continue\n",
    "print(''.join(sol))"
   ]
  },
  {
   "cell_type": "code",
   "execution_count": null,
   "id": "c4130108-8f6a-4ff6-bbf0-56362b463ea4",
   "metadata": {},
   "outputs": [],
   "source": [
    "# Function Binding"
   ]
  },
  {
   "cell_type": "code",
   "execution_count": 305,
   "id": "7dfc5569-ab8c-4e6e-924e-88e7b48d5d3d",
   "metadata": {},
   "outputs": [],
   "source": [
    "def solution(s):\n",
    "    answer = ''\n",
    "    sol = list(s)\n",
    "    index = 0\n",
    "    targetStd = \" \"\n",
    "    for i in range(len(sol)):\n",
    "        if sol[i] == targetStd:\n",
    "            index = 0\n",
    "            continue\n",
    "        if index == 0:\n",
    "            sol[i] = sol[i].upper()\n",
    "            index += 1\n",
    "            continue\n",
    "        sol[i] = sol[i].lower()\n",
    "        index += 1\n",
    "    answer = answer.join(sol)\n",
    "    return answer"
   ]
  },
  {
   "cell_type": "code",
   "execution_count": 306,
   "id": "ba61e2c1-3768-4b56-bbbc-edbd966b0907",
   "metadata": {},
   "outputs": [
    {
     "data": {
      "text/plain": [
       "'3people Unfollowed Me'"
      ]
     },
     "execution_count": 306,
     "metadata": {},
     "output_type": "execute_result"
    }
   ],
   "source": [
    "solution(\"3people unFollowed me\")"
   ]
  },
  {
   "cell_type": "code",
   "execution_count": 309,
   "id": "8ad167dd-863b-4f3b-9ba5-ae6f17d5de80",
   "metadata": {},
   "outputs": [
    {
     "data": {
      "text/plain": [
       "'6dis     No Distance  Ami'"
      ]
     },
     "execution_count": 309,
     "metadata": {},
     "output_type": "execute_result"
    }
   ],
   "source": [
    "solution(\"6Dis     no distance  amI\")"
   ]
  },
  {
   "cell_type": "code",
   "execution_count": 310,
   "id": "f30e0c71-e75d-4586-8829-bb7f8e1aa773",
   "metadata": {},
   "outputs": [
    {
     "data": {
      "text/plain": [
       "'        6dregs Ges  Eed         '"
      ]
     },
     "execution_count": 310,
     "metadata": {},
     "output_type": "execute_result"
    }
   ],
   "source": [
    "solution(\"        6DREGS GES  EED         \")"
   ]
  },
  {
   "cell_type": "code",
   "execution_count": null,
   "id": "0fd110fc-4fe8-440f-ace9-1a5a0c2d9993",
   "metadata": {},
   "outputs": [],
   "source": [
    "# capitzlize() 함수와 title()함수 배워가자"
   ]
  },
  {
   "cell_type": "markdown",
   "id": "2113b7a9-9473-4d85-9203-c4ef1e1db116",
   "metadata": {},
   "source": [
    "### *2023. 07. 11 일정 종료*"
   ]
  },
  {
   "cell_type": "markdown",
   "id": "07ff490b-3cfb-4145-90ea-fb3980f03c1e",
   "metadata": {},
   "source": [
    "#### 하루가 알찼다."
   ]
  }
 ],
 "metadata": {
  "kernelspec": {
   "display_name": "Python 3 (ipykernel)",
   "language": "python",
   "name": "python3"
  },
  "language_info": {
   "codemirror_mode": {
    "name": "ipython",
    "version": 3
   },
   "file_extension": ".py",
   "mimetype": "text/x-python",
   "name": "python",
   "nbconvert_exporter": "python",
   "pygments_lexer": "ipython3",
   "version": "3.9.13"
  }
 },
 "nbformat": 4,
 "nbformat_minor": 5
}
