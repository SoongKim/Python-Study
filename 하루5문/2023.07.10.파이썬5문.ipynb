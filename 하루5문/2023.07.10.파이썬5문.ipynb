{
 "cells": [
  {
   "cell_type": "markdown",
   "id": "4ac06f52-9ed7-498f-872f-056158260720",
   "metadata": {},
   "source": [
    "#### 하루 다섯 문제 Python편. 2023.07.10"
   ]
  },
  {
   "cell_type": "markdown",
   "id": "3b6488fa-5b9a-4917-a4cc-e5c29e571e58",
   "metadata": {},
   "source": [
    "## Programmers 퀴즈 : '모음 제거'"
   ]
  },
  {
   "cell_type": "markdown",
   "id": "d2125ead-f3d1-43ad-b49e-c32a5469e566",
   "metadata": {},
   "source": [
    "#### 내 풀이"
   ]
  },
  {
   "cell_type": "code",
   "execution_count": 1,
   "id": "82a709ba-4f8d-4364-93c1-4c248ad271f8",
   "metadata": {},
   "outputs": [],
   "source": [
    "def vowelRemove(_targetString):\n",
    "    \"\"\"\n",
    "    What are you looking at?\n",
    "    \"\"\"\n",
    "    # 모음을 담을 리스트를 선언\n",
    "    _vowelList = [\"a\", \"e\", \"i\", \"o\", \"u\"]\n",
    "    \n",
    "    # 입력받는 문자열을 _targetString 이라는 문자열에 저장한다.\n",
    "    #targetString = \"nice no meet you\"\n",
    "    \n",
    "    # 타겟 문자열. \" \"(공백)을 기준으로 문자열을 나눠준다.\n",
    "    _targetStd = \" \"\n",
    "    \n",
    "    # _targetStringList 리스트에 타겟 문자열(띄어쓰기)를 기준으로 입력 문자열을 나눠 저장한다.\n",
    "    _targetStringList = list(_targetString.split(_targetStd))\n",
    "\n",
    "    # 2중 for문을 사용하여 targetStringList[i] 내에 모음이 존재한다면 제거한다.\n",
    "    # 해당하지 않는다면 continue.\n",
    "    for i in range(0, len(_targetStringList)):\n",
    "        for j in range(0, len(_vowelList)):\n",
    "            if(_vowelList[j] in _targetStringList[i]):\n",
    "                _targetStringList[i] = _targetStringList[i].replace(_vowelList[j], \"\")\n",
    "            else:\n",
    "                continue\n",
    "    \n",
    "    # 출력 문자열을 정의한다.\n",
    "    _answerString = \"\"\n",
    "    \n",
    "    # for 문을 사용하여 _answerString에 모음을 제거한 _targetStringList값과 공백을 더한다.\n",
    "    # 만약 마지막 순서라면 공백을 더하지 않고, _targetStringList 값만을 더한다.\n",
    "    for i in range(0, len(_targetStringList)):\n",
    "        if(i != len(_targetStringList)-1):\n",
    "            _answerString = _answerString + _targetStringList[i] + _targetStd\n",
    "        else:\n",
    "            _answerString = _answerString + _targetStringList[i]\n",
    "    \n",
    "    # 출력 문자열\n",
    "    return _answerString"
   ]
  },
  {
   "cell_type": "code",
   "execution_count": 2,
   "id": "c8e8ed5f-1dc5-43e1-b553-fbbbb3067a0c",
   "metadata": {},
   "outputs": [
    {
     "data": {
      "text/plain": [
       "' m stdnt f smrt fnnc'"
      ]
     },
     "execution_count": 2,
     "metadata": {},
     "output_type": "execute_result"
    }
   ],
   "source": [
    "vowelRemove(\"i am student of smart finance\")"
   ]
  },
  {
   "cell_type": "markdown",
   "id": "c3bd9c91-a150-4030-b3ab-fc341a36e389",
   "metadata": {},
   "source": [
    "#### Comment : 너무 Java 식으로 생각한다. 개선의 여지가 분명히 존재한다."
   ]
  },
  {
   "cell_type": "markdown",
   "id": "a2af1e54-9504-4854-a62e-a57c2e48bdae",
   "metadata": {},
   "source": [
    "  "
   ]
  },
  {
   "cell_type": "markdown",
   "id": "a4781824-e67b-4e01-bf96-77abc8f608c2",
   "metadata": {},
   "source": [
    "## *** 모범 답안 ***"
   ]
  },
  {
   "cell_type": "markdown",
   "id": "e10ac24d-c9c2-4553-89a9-ced84cdbbbb6",
   "metadata": {},
   "source": [
    "## 01. Tuple"
   ]
  },
  {
   "cell_type": "code",
   "execution_count": 3,
   "id": "d6cddcc6-6a44-4639-9e44-42ad110cfa70",
   "metadata": {},
   "outputs": [],
   "source": [
    "collection = (\"a\", \"e\", \"i\", \"o\", \"u\")"
   ]
  },
  {
   "cell_type": "code",
   "execution_count": 4,
   "id": "a07e5db9-2053-4356-b98b-f6a85fac093a",
   "metadata": {},
   "outputs": [
    {
     "data": {
      "text/plain": [
       "tuple"
      ]
     },
     "execution_count": 4,
     "metadata": {},
     "output_type": "execute_result"
    }
   ],
   "source": [
    "type(collection)"
   ]
  },
  {
   "cell_type": "code",
   "execution_count": 5,
   "id": "abd3b79f-4bcb-4576-b9fc-bdb4fc664f5f",
   "metadata": {},
   "outputs": [],
   "source": [
    "my_string = \"i am student of smart finance\"\n",
    "\n",
    "for i in collection:\n",
    "    my_string = my_string.replace(i, \"\")"
   ]
  },
  {
   "cell_type": "code",
   "execution_count": 6,
   "id": "ab8d53ab-8086-4bc0-b2bb-65df6c7b263b",
   "metadata": {},
   "outputs": [
    {
     "data": {
      "text/plain": [
       "' m stdnt f smrt fnnc'"
      ]
     },
     "execution_count": 6,
     "metadata": {},
     "output_type": "execute_result"
    }
   ],
   "source": [
    "my_string"
   ]
  },
  {
   "cell_type": "markdown",
   "id": "44719907-a864-468f-b18d-0840ad13f65b",
   "metadata": {},
   "source": [
    "  "
   ]
  },
  {
   "cell_type": "code",
   "execution_count": null,
   "id": "43faee18-c7c4-4121-8a38-1ec4124f0af4",
   "metadata": {},
   "outputs": [],
   "source": [
    "# Function Binding"
   ]
  },
  {
   "cell_type": "code",
   "execution_count": 7,
   "id": "20044e4c-9406-4939-9941-d672cb34e0fd",
   "metadata": {},
   "outputs": [],
   "source": [
    "def tupleMaking(targetString):\n",
    "    \"\"\"\n",
    "    this is tuple speaking\n",
    "    \"\"\"\n",
    "    \n",
    "    collection = (\"a\", \"e\", \"i\", \"o\", \"u\")\n",
    "    for i in collection:\n",
    "        targetString = targetString.replace(i, \"\")\n",
    "    \n",
    "    return targetString"
   ]
  },
  {
   "cell_type": "code",
   "execution_count": 8,
   "id": "508061dc-d942-450e-b3a1-56002d39c528",
   "metadata": {},
   "outputs": [
    {
     "data": {
      "text/plain": [
       "' m stdnt f smrt fnnc'"
      ]
     },
     "execution_count": 8,
     "metadata": {},
     "output_type": "execute_result"
    }
   ],
   "source": [
    "tupleMaking(\"i am student of smart finance\")"
   ]
  },
  {
   "cell_type": "code",
   "execution_count": null,
   "id": "73221623-d103-4f9f-885a-7d945d8e9364",
   "metadata": {},
   "outputs": [],
   "source": [
    "# 아름답기 그지 없는 풀이. 튜플과 for문에 관하여 학습해보자."
   ]
  },
  {
   "cell_type": "markdown",
   "id": "1fdbe800-5379-4fe3-9611-95ecd6b4381c",
   "metadata": {},
   "source": [
    "## 02. List"
   ]
  },
  {
   "cell_type": "code",
   "execution_count": 9,
   "id": "0a5f803c-6003-42d3-9390-2364affaa4d0",
   "metadata": {},
   "outputs": [],
   "source": [
    "targetList = [\"a\", \"e\", \"i\", \"o\", \"u\"]"
   ]
  },
  {
   "cell_type": "code",
   "execution_count": 10,
   "id": "265e63e6-08cb-4fae-aa28-f8d7a552bb3e",
   "metadata": {},
   "outputs": [
    {
     "data": {
      "text/plain": [
       "list"
      ]
     },
     "execution_count": 10,
     "metadata": {},
     "output_type": "execute_result"
    }
   ],
   "source": [
    "type(targetList)"
   ]
  },
  {
   "cell_type": "code",
   "execution_count": 11,
   "id": "942f183d-e7fc-437c-ae62-602c836309fe",
   "metadata": {},
   "outputs": [
    {
     "data": {
      "text/plain": [
       "' m stdnt f smrt fnnc'"
      ]
     },
     "execution_count": 11,
     "metadata": {},
     "output_type": "execute_result"
    }
   ],
   "source": [
    "targetStrings = \"i am student of smart finance\"\n",
    "for i in targetList:\n",
    "    targetStrings = targetStrings.replace(i, \"\")\n",
    "targetStrings"
   ]
  },
  {
   "cell_type": "markdown",
   "id": "1ddecd9d-f3e3-4215-9640-30898e56e71f",
   "metadata": {},
   "source": [
    "  "
   ]
  },
  {
   "cell_type": "code",
   "execution_count": null,
   "id": "fa0a100f-a315-42c5-8e58-fcf860509c45",
   "metadata": {},
   "outputs": [],
   "source": [
    "# Function binding"
   ]
  },
  {
   "cell_type": "code",
   "execution_count": 12,
   "id": "afb78407-d537-4e65-b9e4-60ac61447d59",
   "metadata": {},
   "outputs": [],
   "source": [
    "def listMaking(_targetStrings):\n",
    "    \"\"\"\n",
    "    this is list speaking\n",
    "    \"\"\"\n",
    "    _targetList = [\"a\", \"e\", \"i\", \"o\", \"u\"]\n",
    "    for i in _targetList:\n",
    "        _targetStrings = _targetStrings.replace(i, \"\")\n",
    "        \n",
    "    return _targetStrings"
   ]
  },
  {
   "cell_type": "code",
   "execution_count": 13,
   "id": "674f0bc6-2586-47b8-809f-e8fa8ad118bb",
   "metadata": {},
   "outputs": [
    {
     "data": {
      "text/plain": [
       "' m stdnt f smrt fnnc'"
      ]
     },
     "execution_count": 13,
     "metadata": {},
     "output_type": "execute_result"
    }
   ],
   "source": [
    "listMaking(\"i am student of smart finance\")"
   ]
  },
  {
   "cell_type": "code",
   "execution_count": null,
   "id": "e35e02df-3de7-49c7-a7c8-95ced81c503a",
   "metadata": {},
   "outputs": [],
   "source": [
    "# 리스트가 할 수 있는 일은 튜플도 할 수 있다.\n",
    "\n",
    "# 배열 내부 값이 변하지 않는다면, 리스트보다 튜플을 사용하는 습관을 들이자.\n",
    "# 튜플을 사용하는 편이 상대적으로 리소스를 적게 사용한다고 한다.\n",
    "\n",
    "# 생각해보면, 상시 값의 변동이 가능한 배열과 길이 및 구성 요소가 fix 되어있는\n",
    "# 튜플을 비교했을 때, 어느 쪽이 더 효율적인지는 크게 생각하지 않아도 직관적으로 이해 가능하다."
   ]
  },
  {
   "cell_type": "markdown",
   "id": "5159c573-e358-49c6-b084-8316eb125d23",
   "metadata": {},
   "source": [
    "  "
   ]
  },
  {
   "cell_type": "markdown",
   "id": "924e5262-c101-4860-9d5f-4884211af56e",
   "metadata": {},
   "source": [
    "## Programmers : '자릿수 더하기'"
   ]
  },
  {
   "cell_type": "markdown",
   "id": "42e03113-5f22-4c45-afda-b2d282dc1e80",
   "metadata": {},
   "source": [
    "#### 내 풀이"
   ]
  },
  {
   "cell_type": "code",
   "execution_count": null,
   "id": "9523f12e-530f-46d5-8b65-a632333fbc40",
   "metadata": {},
   "outputs": [],
   "source": [
    "# type(inputValue) = 'int', inputValue <= 1000000"
   ]
  },
  {
   "cell_type": "code",
   "execution_count": 14,
   "id": "74fd42cb-9783-4b8b-9d0f-a2d4212a65b6",
   "metadata": {},
   "outputs": [],
   "source": [
    "inputValue = 357489"
   ]
  },
  {
   "cell_type": "code",
   "execution_count": 15,
   "id": "efde77d8-53d6-4361-9277-65ef465928c1",
   "metadata": {},
   "outputs": [
    {
     "data": {
      "text/plain": [
       "36"
      ]
     },
     "execution_count": 15,
     "metadata": {},
     "output_type": "execute_result"
    }
   ],
   "source": [
    "answer = 0\n",
    "for i in str(inputValue):\n",
    "    answer = answer + int(i)\n",
    "answer"
   ]
  },
  {
   "cell_type": "code",
   "execution_count": null,
   "id": "e90dbbd2-74f0-4ea1-8998-6e1ddcbc4359",
   "metadata": {},
   "outputs": [],
   "source": [
    "# Function Binding"
   ]
  },
  {
   "cell_type": "code",
   "execution_count": 16,
   "id": "3a6327b1-fabd-42e9-bfc7-4d06771b2a67",
   "metadata": {},
   "outputs": [],
   "source": [
    "def solution(n):\n",
    "    answer = 0\n",
    "    for i in str(n):\n",
    "        answer += int(i)\n",
    "    return answer"
   ]
  },
  {
   "cell_type": "code",
   "execution_count": 17,
   "id": "7420a6bc-b569-4816-a103-fba4a2eee9d1",
   "metadata": {},
   "outputs": [
    {
     "data": {
      "text/plain": [
       "21"
      ]
     },
     "execution_count": 17,
     "metadata": {},
     "output_type": "execute_result"
    }
   ],
   "source": [
    "solution(123456)"
   ]
  },
  {
   "cell_type": "code",
   "execution_count": null,
   "id": "4c4ba206-0ce8-4e02-96a1-e04080d6f773",
   "metadata": {},
   "outputs": [],
   "source": [
    "# int object is not iterable(정수는 반복될 수 없다.) 오류가 발생하므로\n",
    "# 받을 때 문자열로 치환하고, 더할 때 정수로 치환한다면 코드가 깔끔해지지 않을까?\n",
    "\n",
    "# + 모음 제거 문제에서 배웠던 for문 사용 방식을 적용해봤다.\n",
    "# ++ answer = answer + int(i)를 줄이면 answer += int(i)로 간략화할 수 있다."
   ]
  },
  {
   "cell_type": "markdown",
   "id": "70287a9b-b24f-4b40-b514-338316bd48f5",
   "metadata": {},
   "source": [
    "#### 모범 답안"
   ]
  },
  {
   "cell_type": "code",
   "execution_count": 18,
   "id": "1043e831-5f23-40b5-803f-56b5ab460b95",
   "metadata": {},
   "outputs": [],
   "source": [
    "def solution(n):\n",
    "    return sum(list(map(int, str(n))))"
   ]
  },
  {
   "cell_type": "markdown",
   "id": "e76f27b7-3524-4979-8db4-f2eda8b26e9d",
   "metadata": {},
   "source": [
    "#### 딱히 건질만한 건 없었다. 그나마 건지자면 map함수 정도?\n",
    "\n",
    "#### 이 친구가 뭐 하는 친구인지 알아보자."
   ]
  },
  {
   "cell_type": "markdown",
   "id": "ac33394e-d6eb-4f14-bd5b-e5ceea62da89",
   "metadata": {},
   "source": [
    "  "
   ]
  },
  {
   "cell_type": "markdown",
   "id": "e901c42d-2e1b-4fd4-8b16-a08e39b0355c",
   "metadata": {},
   "source": [
    "## Programmers : '배열의 유사도'"
   ]
  },
  {
   "cell_type": "code",
   "execution_count": null,
   "id": "ca64f3fc-c169-47fa-a148-7420f8c8e36b",
   "metadata": {},
   "outputs": [],
   "source": [
    "# s1과 s2의 배열 내에 얼마나 같은 값이 많은지 확인해보자.\n",
    "# s1과 s2 내 값은 알파벳 소문자로만 이뤄져 있으며, 동일 값이 반복되지는 않는다."
   ]
  },
  {
   "cell_type": "markdown",
   "id": "341c963a-99af-4d51-ac89-92eff0b6a45c",
   "metadata": {},
   "source": [
    "#### 내 풀이"
   ]
  },
  {
   "cell_type": "code",
   "execution_count": 19,
   "id": "6044ca83-fca4-4bf5-9196-c328b539b7c7",
   "metadata": {},
   "outputs": [],
   "source": [
    "s1 = [\"o\", \"e\", \"m\", \"t\"]\n",
    "s2 = [\"e\", \"l\", \"c\", \"m\"]"
   ]
  },
  {
   "cell_type": "code",
   "execution_count": 20,
   "id": "40440a82-6300-4a10-9c95-7addde3364b1",
   "metadata": {},
   "outputs": [],
   "source": [
    "answer = 0\n",
    "for i in s1:\n",
    "    if(i in s2):\n",
    "        answer+=1\n",
    "    else:\n",
    "        continue"
   ]
  },
  {
   "cell_type": "code",
   "execution_count": 21,
   "id": "7e0bc0cc-df5d-4bb0-9a29-17a7386b3706",
   "metadata": {},
   "outputs": [
    {
     "data": {
      "text/plain": [
       "2"
      ]
     },
     "execution_count": 21,
     "metadata": {},
     "output_type": "execute_result"
    }
   ],
   "source": [
    "answer"
   ]
  },
  {
   "cell_type": "code",
   "execution_count": null,
   "id": "94673b45-4d09-48de-91a3-6a005cb2e63e",
   "metadata": {},
   "outputs": [],
   "source": [
    "# Function Binding"
   ]
  },
  {
   "cell_type": "code",
   "execution_count": 22,
   "id": "53410084-252a-4336-ad1d-bd86b7da62bf",
   "metadata": {},
   "outputs": [],
   "source": [
    "def counting(s1, s2):\n",
    "    answer = 0\n",
    "    for i in s1:\n",
    "        if i in s2:\n",
    "            answer+=1\n",
    "    return answer"
   ]
  },
  {
   "cell_type": "markdown",
   "id": "a0b50713-9af1-4606-8a15-d0338e04968b",
   "metadata": {},
   "source": [
    "#### 모범 답안"
   ]
  },
  {
   "cell_type": "code",
   "execution_count": 23,
   "id": "9d9c4e10-4856-4d6a-98b6-a959b171c7a1",
   "metadata": {},
   "outputs": [],
   "source": [
    "def solution(s1, s2):\n",
    "    return len(set(s1)&set(s2));"
   ]
  },
  {
   "cell_type": "code",
   "execution_count": null,
   "id": "13cf7da8-1cad-4176-921b-636f25b97f0f",
   "metadata": {},
   "outputs": [],
   "source": [
    "# set 자료형은 뭐지? 연산자 &는 왜 들어갔지? 파이썬인데 ;는 왜 들어갔지?\n",
    "# 공부해보자"
   ]
  },
  {
   "cell_type": "markdown",
   "id": "2860e20f-9e4a-4490-96ec-3266a017b445",
   "metadata": {},
   "source": [
    "  "
   ]
  },
  {
   "cell_type": "markdown",
   "id": "812fe52a-4c74-424c-9d7f-78f74410cf94",
   "metadata": {},
   "source": [
    "## Programmers : '짝수는 싫어요'"
   ]
  },
  {
   "cell_type": "markdown",
   "id": "a51e1a8a-57d9-4f8b-a0c4-f98d4ff85ade",
   "metadata": {},
   "source": [
    "#### 내 풀이"
   ]
  },
  {
   "cell_type": "code",
   "execution_count": null,
   "id": "c0edd390-9fc6-4ac5-9d87-59d5d3c4d1ad",
   "metadata": {},
   "outputs": [],
   "source": [
    "# 정수 n은 매개변수. 오름차순으로 담긴 배열을 만들자.\n",
    "# 만약 n이 10이라면, 1, 3, 5, 7, 9 가 담긴 배열이 return 되어야 한다."
   ]
  },
  {
   "cell_type": "markdown",
   "id": "36b66cfb-117e-47c7-b9e9-9bf79573399e",
   "metadata": {},
   "source": [
    "#### 01. for문 풀이"
   ]
  },
  {
   "cell_type": "code",
   "execution_count": 24,
   "id": "e8e796a1-4ef0-4aa1-91b5-e48586eaa881",
   "metadata": {},
   "outputs": [],
   "source": [
    "n = 15\n",
    "answer = []"
   ]
  },
  {
   "cell_type": "code",
   "execution_count": 25,
   "id": "6547b206-5d07-4a13-bac1-7294c1426369",
   "metadata": {},
   "outputs": [],
   "source": [
    "for i in range(0, n+1):\n",
    "    if(i % 2 != 0):\n",
    "        answer.append(i)"
   ]
  },
  {
   "cell_type": "code",
   "execution_count": 26,
   "id": "d6b6856e-ec18-4555-88e7-e8b9caba7acf",
   "metadata": {},
   "outputs": [
    {
     "data": {
      "text/plain": [
       "[1, 3, 5, 7, 9, 11, 13, 15]"
      ]
     },
     "execution_count": 26,
     "metadata": {},
     "output_type": "execute_result"
    }
   ],
   "source": [
    "answer"
   ]
  },
  {
   "cell_type": "code",
   "execution_count": null,
   "id": "da21ec67-714d-4524-9706-bb3ab65e9644",
   "metadata": {},
   "outputs": [],
   "source": [
    "# Function Binding"
   ]
  },
  {
   "cell_type": "code",
   "execution_count": 27,
   "id": "e59c3549-4c47-4eb2-9b5b-a179aef2e1d2",
   "metadata": {},
   "outputs": [],
   "source": [
    "def solution(n):\n",
    "    answer = []\n",
    "    for i in range(0, n+1):\n",
    "        if i % 2 != 0:\n",
    "            answer.append(i)\n",
    "    return answer"
   ]
  },
  {
   "cell_type": "code",
   "execution_count": null,
   "id": "25c0aae4-1d90-44e3-b98d-7413f9dfb5b0",
   "metadata": {},
   "outputs": [],
   "source": [
    "# 풀기는 풀었는데.... 분명히 for / while 문 없이 풀 수 있을 것도 같은데..."
   ]
  },
  {
   "cell_type": "markdown",
   "id": "ba5754b2-78f2-4c42-b8df-936750e0569a",
   "metadata": {},
   "source": [
    "#### 02. while문 풀이"
   ]
  },
  {
   "cell_type": "code",
   "execution_count": 28,
   "id": "5b6166b3-47be-4177-a357-03ed908d7bda",
   "metadata": {},
   "outputs": [
    {
     "data": {
      "text/plain": [
       "[1, 3, 5, 7, 9, 11, 13, 15, 17, 19]"
      ]
     },
     "execution_count": 28,
     "metadata": {},
     "output_type": "execute_result"
    }
   ],
   "source": [
    "answer = []\n",
    "n = 19\n",
    "\n",
    "i = 0\n",
    "while i <= n:\n",
    "    if(i%2!=0):\n",
    "        answer.append(i)\n",
    "    i+=1\n",
    "answer"
   ]
  },
  {
   "cell_type": "code",
   "execution_count": null,
   "id": "5f548411-e5dc-4766-ac7e-45d3170846f6",
   "metadata": {},
   "outputs": [],
   "source": [
    "# Function Binding"
   ]
  },
  {
   "cell_type": "code",
   "execution_count": 29,
   "id": "e553711f-fa78-4db5-84f2-c29b12f9bcce",
   "metadata": {},
   "outputs": [],
   "source": [
    "def solution(n):\n",
    "    answer = []\n",
    "    i = 0\n",
    "    while i <= n:\n",
    "        if i % 2 != 0:\n",
    "            answer.append(i)\n",
    "        i+=1\n",
    "    return answer"
   ]
  },
  {
   "cell_type": "code",
   "execution_count": 30,
   "id": "8bc35c44-878d-4168-b0eb-0cf16d6b9326",
   "metadata": {},
   "outputs": [
    {
     "data": {
      "text/plain": [
       "[1, 3, 5, 7, 9, 11, 13, 15, 17, 19, 21]"
      ]
     },
     "execution_count": 30,
     "metadata": {},
     "output_type": "execute_result"
    }
   ],
   "source": [
    "solution(21)"
   ]
  },
  {
   "cell_type": "markdown",
   "id": "1595c670-308f-4824-b33e-cb9319df988e",
   "metadata": {},
   "source": [
    "#### for문이 좋을까? 아니면 while문이 좋을까?\n",
    "\n",
    "#### 찾아본 결과, 반복 횟수가 정해진 경우는 for 문이,\n",
    "#### 특정되지 않은 횟수동안 반복이 이뤄져야 하는 경우는 while문이 좋다고 합니다.\n",
    "\n",
    "#### 따라서, 이번 문제의 경우에는 for 문이 더 효율적이라고 말할 수 있겠습니다."
   ]
  },
  {
   "cell_type": "markdown",
   "id": "33c1ac94-fe89-4a91-b620-c60d7d84aa1a",
   "metadata": {},
   "source": [
    "####     "
   ]
  },
  {
   "cell_type": "markdown",
   "id": "6bb03af5-bad9-4e1c-beaf-fb0848a033e7",
   "metadata": {},
   "source": [
    "#### 이번 모범 답안은 쉬어갑니다.\n",
    "\n",
    "#### 그나마 신기했던 건 아래의 코드"
   ]
  },
  {
   "cell_type": "code",
   "execution_count": 31,
   "id": "f379ce24-1e93-4557-903e-ad381a514d9f",
   "metadata": {},
   "outputs": [],
   "source": [
    "def solution(n):\n",
    "    return [x for x in range(n+1) if x % 2]"
   ]
  },
  {
   "cell_type": "code",
   "execution_count": null,
   "id": "c05d95db-e48f-4d92-9fc2-c82ef2ce6de9",
   "metadata": {},
   "outputs": [],
   "source": [
    "# return값인 answer가 배열이니 아예 배열 채로 return 해버렸다.\n",
    "# 기억해둬야지."
   ]
  },
  {
   "cell_type": "markdown",
   "id": "898971b6-c22d-49f5-960f-2212f6b4923f",
   "metadata": {},
   "source": [
    "##### 결국 이번 문제는 나머지 연산(%)에 관한 개념이 숙지되어 있는지 물어보는 문제였지 않을까 생각."
   ]
  },
  {
   "cell_type": "markdown",
   "id": "c2b2046f-7f1f-4e37-8452-30624ef71a3a",
   "metadata": {},
   "source": [
    "####  "
   ]
  },
  {
   "cell_type": "markdown",
   "id": "4327c2a4-4786-4a61-acd1-66555fa7c45b",
   "metadata": {},
   "source": [
    "## Programmers : '문자열안에 문자열'"
   ]
  },
  {
   "cell_type": "code",
   "execution_count": null,
   "id": "e3310b8d-2e98-4697-abd7-07a043c970f8",
   "metadata": {},
   "outputs": [],
   "source": [
    "# 매개 변수 str1, str2 : 둘 모두 문자열\n",
    "# str1 안에 str2가 있다면 1을, 없다면 2를 return하도록 함수를 구성"
   ]
  },
  {
   "cell_type": "code",
   "execution_count": 32,
   "id": "f5490213-96b3-44ef-b55a-ca1265f6553e",
   "metadata": {},
   "outputs": [],
   "source": [
    "str1 = \"ab6CDE443fgh22iJKlmn1o\"\n",
    "str2 = \"6CD\""
   ]
  },
  {
   "cell_type": "code",
   "execution_count": 33,
   "id": "7907f830-2478-4052-941a-16543043ac90",
   "metadata": {},
   "outputs": [],
   "source": [
    "def solution(str1, str2):\n",
    "    if str2 in str1:\n",
    "        return 1\n",
    "    else:\n",
    "        return 2"
   ]
  },
  {
   "cell_type": "code",
   "execution_count": null,
   "id": "1da201e1-ba3d-4c37-80a8-72dbcf40311b",
   "metadata": {},
   "outputs": [],
   "source": [
    "# answer 변수에 담는 일 없이 바로 return 하면 효율적이겠지만,\n",
    "# 요구 format이 존재하니 다시 맞춰서 만들어보자."
   ]
  },
  {
   "cell_type": "code",
   "execution_count": 34,
   "id": "a614836c-86e8-4d6e-8101-2c276e07d142",
   "metadata": {},
   "outputs": [],
   "source": [
    "def solution(str1, str2):\n",
    "    answer = 0\n",
    "    if str2 in str1:\n",
    "        answer = 1\n",
    "    else:\n",
    "        answer = 2\n",
    "    return answer"
   ]
  },
  {
   "cell_type": "code",
   "execution_count": 35,
   "id": "b1a6b5b4-42b5-46ab-bb35-3e316723b266",
   "metadata": {
    "tags": []
   },
   "outputs": [
    {
     "data": {
      "text/plain": [
       "1"
      ]
     },
     "execution_count": 35,
     "metadata": {},
     "output_type": "execute_result"
    }
   ],
   "source": [
    "solution(\"ppprrrogrammers\", \"ppp\")"
   ]
  },
  {
   "cell_type": "markdown",
   "id": "64dd9e10-2141-438d-aaf0-0419cc27d5e4",
   "metadata": {},
   "source": [
    "#### 모범 답안"
   ]
  },
  {
   "cell_type": "markdown",
   "id": "8432c1fb-a4bc-409d-af2f-e5f1e65594d6",
   "metadata": {},
   "source": [
    "### 모범 답안 01"
   ]
  },
  {
   "cell_type": "code",
   "execution_count": 36,
   "id": "a3726128-0151-405f-98bf-4716c1dd6c60",
   "metadata": {},
   "outputs": [],
   "source": [
    "def solution(str1, str2):\n",
    "    return 1 if str2 in str1 else 2"
   ]
  },
  {
   "cell_type": "code",
   "execution_count": null,
   "id": "c41e4d2f-b910-4cd2-ac60-5aa2556d4db7",
   "metadata": {},
   "outputs": [],
   "source": [
    "# 실상 내가 작성한 답안을 한 줄로 표현한 것에 지나지 않았다.\n",
    "# 요구 형식을 지키지 않았으나, 간결한 것이 마음에 든다."
   ]
  },
  {
   "cell_type": "markdown",
   "id": "c8945f45-7579-4cee-8291-eb101d861c75",
   "metadata": {},
   "source": [
    "### 모범 답안 02"
   ]
  },
  {
   "cell_type": "code",
   "execution_count": 37,
   "id": "f7fd2f32-4078-49df-a565-c914233bfcd1",
   "metadata": {},
   "outputs": [],
   "source": [
    "def solution(str1, str2):\n",
    "    return 1 + int(str2 not in str1)"
   ]
  },
  {
   "cell_type": "markdown",
   "id": "b364cab5-f4ec-4ec8-84ee-86497eb35acf",
   "metadata": {},
   "source": [
    "#### 미쳤다...는 말이 절로 나온 풀이법.\n",
    "#### 그러나 boolean을 int로 형변환하는 과정이 합리적인지는 생각해봄직한 포인트"
   ]
  },
  {
   "cell_type": "code",
   "execution_count": 38,
   "id": "4dd01ae1-adb1-4354-92dc-ff3aaf1570f5",
   "metadata": {},
   "outputs": [
    {
     "name": "stdout",
     "output_type": "stream",
     "text": [
      "1\n"
     ]
    }
   ],
   "source": [
    "print(int(True))"
   ]
  },
  {
   "cell_type": "code",
   "execution_count": 39,
   "id": "20e74353-222c-45c0-bb18-762a68571e00",
   "metadata": {},
   "outputs": [
    {
     "name": "stdout",
     "output_type": "stream",
     "text": [
      "0\n"
     ]
    }
   ],
   "source": [
    "print(int(False))"
   ]
  },
  {
   "cell_type": "code",
   "execution_count": null,
   "id": "acdc88ce-a3ec-4c95-bb01-8e2c38302147",
   "metadata": {},
   "outputs": [],
   "source": [
    "# True를 int로 형변환하면 1이, False는 0이 찍혀나온다.\n",
    "\n",
    "# 기본 값을 1로 두고, not in을 사용하여 True 시 +1을 하는 발상. 놀랍다."
   ]
  },
  {
   "cell_type": "code",
   "execution_count": null,
   "id": "21d9f8e8-704f-416e-8e80-4b3a98df23da",
   "metadata": {},
   "outputs": [],
   "source": [
    "# 배운 점:\n",
    "# int(True) = 1, int(False) = 0"
   ]
  },
  {
   "cell_type": "markdown",
   "id": "ec28d07c-fe0e-4706-be30-72014e137f6f",
   "metadata": {},
   "source": [
    "#### "
   ]
  },
  {
   "cell_type": "markdown",
   "id": "555f1855-1f34-4f6e-b50a-489750df6d66",
   "metadata": {},
   "source": [
    "#### 2023.07.10. 5문제 종료"
   ]
  },
  {
   "cell_type": "markdown",
   "id": "8fec3f64-c2a9-42ed-aceb-28cc5e684f81",
   "metadata": {},
   "source": [
    "#### 01. for문 사용법, while문 기본 형식 복습"
   ]
  },
  {
   "cell_type": "markdown",
   "id": "fef46039-6597-48a9-bfd7-9a300233971f",
   "metadata": {},
   "source": [
    "#### 02. boolean 값을 int로 형변환하면? True는 1, False는 0이 된다!"
   ]
  },
  {
   "cell_type": "markdown",
   "id": "041957fe-bff6-45ff-9bb9-ab70bdb31400",
   "metadata": {},
   "source": [
    "#### 03. 변하지 않는 값을 대상으로 할 때는 Tuple이 List보다 효율적이다!"
   ]
  },
  {
   "cell_type": "markdown",
   "id": "0ff9714e-1fff-4d96-a060-7b705cb57059",
   "metadata": {},
   "source": [
    "#### 04. 반복 횟수가 정해져 있을 때는 For 문이, 그렇지 않을 때는 While문이 더 효율적이다!"
   ]
  }
 ],
 "metadata": {
  "kernelspec": {
   "display_name": "Python 3 (ipykernel)",
   "language": "python",
   "name": "python3"
  },
  "language_info": {
   "codemirror_mode": {
    "name": "ipython",
    "version": 3
   },
   "file_extension": ".py",
   "mimetype": "text/x-python",
   "name": "python",
   "nbconvert_exporter": "python",
   "pygments_lexer": "ipython3",
   "version": "3.9.13"
  }
 },
 "nbformat": 4,
 "nbformat_minor": 5
}
