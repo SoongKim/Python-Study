{
 "cells": [
  {
   "cell_type": "markdown",
   "id": "8a723cf0-6a80-4f71-86ac-0abc5f352e16",
   "metadata": {},
   "source": [
    "## 2023.07.12. 시작합니다."
   ]
  },
  {
   "cell_type": "markdown",
   "id": "074c5223-7750-4cdb-a40f-2b45d14035af",
   "metadata": {},
   "source": [
    "####  "
   ]
  },
  {
   "cell_type": "markdown",
   "id": "597ce2e8-f2d5-4686-bbf1-a69f71d85c1b",
   "metadata": {},
   "source": [
    "## Programmers : '숫자의 표현'"
   ]
  },
  {
   "cell_type": "markdown",
   "id": "7fa34e2a-480e-4889-9e28-23c5caacac6f",
   "metadata": {},
   "source": [
    "#### 01. 내 답안"
   ]
  },
  {
   "cell_type": "code",
   "execution_count": null,
   "id": "d9c9371d-3ba0-4ea8-8f5c-4860ca74bd3f",
   "metadata": {},
   "outputs": [],
   "source": [
    "# 15의 경우\n",
    "# 1, 2, 3, 4, 5, 6, 7, 8, 9, 10, 11, 12, 13, 14, 15 중\n",
    "# [1 + 2 + 3 + 4 + 5], [4 + 5 + 6], [7 + 8], [15]의 4 가지 표현이 가능하다.\n",
    "# 입력 변수 n에 대한 표현 가지 수를 return하라"
   ]
  },
  {
   "cell_type": "code",
   "execution_count": 26,
   "id": "548f5609-7b7f-46a1-bd9c-bed538f0efe0",
   "metadata": {},
   "outputs": [],
   "source": [
    "# n = 15\n",
    "\n",
    "# sol = 0\n",
    "# index = 0\n",
    "\n",
    "# if n == 1:\n",
    "#     answer = 1\n",
    "# print(answer)\n",
    "\n",
    "# for i in range(1, n+1):\n",
    "#     try:\n",
    "#         for j in range(i+1, n+1):\n",
    "#             sol += i + j\n",
    "#             if(sol > n):\n",
    "#                 sol = 0\n",
    "#                 continue\n",
    "#             elif(sol == n):\n",
    "#                 index += 1\n",
    "#                 sol = 0\n",
    "#                 break\n",
    "#             else:\n",
    "#                 continue\n",
    "#     except:\n",
    "#         answer = 1\n",
    "#     answer = sol\n",
    "# print(answer)"
   ]
  },
  {
   "cell_type": "code",
   "execution_count": 27,
   "id": "18cf754b-c9fd-4268-a8d8-9cd582c7c39a",
   "metadata": {},
   "outputs": [],
   "source": [
    "def solution(n):\n",
    "    answer = 0\n",
    "    sol = 0\n",
    "    index = 0\n",
    "    for i in range(1, n+1):\n",
    "        if n == 1:\n",
    "            index = 1\n",
    "            break\n",
    "        try:\n",
    "            sol = i\n",
    "            if sol == n:\n",
    "                index+=1\n",
    "                break\n",
    "            for j in range(i+1, n+1):\n",
    "                sol += j\n",
    "                if(sol > n):\n",
    "                    sol = 0\n",
    "                    break\n",
    "                elif(sol == n):\n",
    "                    index += 1\n",
    "                    sol = 0\n",
    "                    break\n",
    "                else:\n",
    "                    continue\n",
    "        except:\n",
    "            answer = 1\n",
    "    answer = index\n",
    "    return answer"
   ]
  },
  {
   "cell_type": "code",
   "execution_count": 29,
   "id": "d6a14014-ba1e-401d-a773-089914f619aa",
   "metadata": {},
   "outputs": [
    {
     "data": {
      "text/plain": [
       "1"
      ]
     },
     "execution_count": 29,
     "metadata": {},
     "output_type": "execute_result"
    }
   ],
   "source": [
    "solution(1)"
   ]
  },
  {
   "cell_type": "code",
   "execution_count": 31,
   "id": "8436d103-d9f8-4067-9742-36ff38e51dbd",
   "metadata": {},
   "outputs": [
    {
     "data": {
      "text/plain": [
       "4"
      ]
     },
     "execution_count": 31,
     "metadata": {},
     "output_type": "execute_result"
    }
   ],
   "source": [
    "solution(15)"
   ]
  },
  {
   "cell_type": "code",
   "execution_count": null,
   "id": "96e0fc3d-bf80-4b81-81c7-dfaf8b2a5332",
   "metadata": {},
   "outputs": [],
   "source": [
    "# Binding 없이 직격. 예외 케이스를 상정한 이중 for문으로 문제 해결"
   ]
  },
  {
   "cell_type": "code",
   "execution_count": null,
   "id": "f1cca133-0180-49cf-87b1-a3d12abfe93e",
   "metadata": {},
   "outputs": [],
   "source": [
    "## 모범 답안 : 등차수열의 합 공식을 이용한 풀이. 수학적 사고가 필요하구나..."
   ]
  },
  {
   "cell_type": "markdown",
   "id": "16080b73-1a06-4c4b-a302-3c8f36fff9fb",
   "metadata": {},
   "source": [
    "####  "
   ]
  },
  {
   "cell_type": "markdown",
   "id": "55aacfa9-697d-4580-a790-8a10321e40f1",
   "metadata": {},
   "source": [
    "## Programmers : '올바른 괄호'"
   ]
  },
  {
   "cell_type": "markdown",
   "id": "c1051068-1e0a-488a-b95a-689279c7586a",
   "metadata": {},
   "source": [
    "#### 01. 내 답안"
   ]
  },
  {
   "cell_type": "code",
   "execution_count": null,
   "id": "07aaf7d5-327c-4071-ae68-9656f7b4945c",
   "metadata": {},
   "outputs": [],
   "source": [
    "# 소괄호로만 이뤄진 문자열 s가 주어진다. 모든 괄호가 닫겨있는지 체크하라"
   ]
  },
  {
   "cell_type": "code",
   "execution_count": 47,
   "id": "46e24c34-f919-4056-9c0f-f976a52714d9",
   "metadata": {},
   "outputs": [],
   "source": [
    "def solution(s):\n",
    "    stack = []\n",
    "\n",
    "    for i in s:\n",
    "        if i == \"(\":\n",
    "            stack.append(i)\n",
    "        elif not stack or stack.pop() != \"(\":\n",
    "            return False\n",
    "    return False if stack else True"
   ]
  },
  {
   "cell_type": "code",
   "execution_count": 48,
   "id": "4b22036b-edb1-4fb7-9dbb-c9b8ddf1325e",
   "metadata": {},
   "outputs": [
    {
     "data": {
      "text/plain": [
       "True"
      ]
     },
     "execution_count": 48,
     "metadata": {},
     "output_type": "execute_result"
    }
   ],
   "source": [
    "solution(\"(()((()(())))())\")"
   ]
  },
  {
   "cell_type": "code",
   "execution_count": null,
   "id": "e01c1951-2294-413d-aa4e-c0712b7a8ca4",
   "metadata": {},
   "outputs": [],
   "source": []
  },
  {
   "cell_type": "code",
   "execution_count": 49,
   "id": "116a4977-1448-4d68-931e-f2f51c9e6e4a",
   "metadata": {},
   "outputs": [],
   "source": [
    "def solution(s):\n",
    "    answer = True\n",
    "    # 스택 초기화\n",
    "    stack = []\n",
    "    # 문자열 s에 관한 for문\n",
    "    for i in s:\n",
    "        # 만약 i번째 요소가 \"(\"라면\n",
    "        if i == \"(\":\n",
    "            # 빈 배열이었던 stack에 append(산입)\n",
    "            stack.append(i)\n",
    "        # 만약 스택이 비어있거나, 스택에서 뽑아낸 값이 \"(\"가 아니라면\n",
    "        elif not stack or stack.pop() != \"(\":\n",
    "            # False를 return하고 종료\n",
    "            return False\n",
    "    # 만약 stack이 비어 있지 않다면 False를\n",
    "    if stack:\n",
    "        return False\n",
    "    # 스택이 비어 있다면 True를 return한다.\n",
    "    else:\n",
    "        return True"
   ]
  },
  {
   "cell_type": "code",
   "execution_count": null,
   "id": "1d0de47d-0d3a-4a3a-a22e-81df0056809a",
   "metadata": {},
   "outputs": [],
   "source": [
    "# stack과 queue형 자료 구조에 관한 이해가 필요한 문제였다."
   ]
  },
  {
   "cell_type": "code",
   "execution_count": null,
   "id": "0c42840e-4f1b-44ef-9436-bed4c7b57d1a",
   "metadata": {},
   "outputs": [],
   "source": [
    "# GPT의 도움"
   ]
  },
  {
   "cell_type": "code",
   "execution_count": null,
   "id": "43ab5921-e85a-48d0-9803-7777d9a69a5d",
   "metadata": {},
   "outputs": [],
   "source": [
    "# 파이썬에서 스택은 데이터를 저장하는 자료구조 중 하나로, 후입선출 (Last-In, First-Out, LIFO) 원칙을 따릅니다. \n",
    "# 이 말은 가장 마지막에 추가된 요소가 가장 먼저 제거되는 구조를 가진다는 뜻입니다.\n",
    "\n",
    "# 파이썬에서 스택을 구현할 때, 보통 리스트(List)를 사용합니다. 리스트의 append() 메서드를 사용하여 요소를 스택의 맨 뒤에 추가하고, \n",
    "# pop() 메서드를 사용하여 맨 뒤의 요소를 제거할 수 있습니다. 따라서 스택은 리스트의 끝 부분을 가리키는 포인터처럼 동작합니다.\n",
    "\n",
    "# 다음은 스택의 일반적인 연산들입니다:\n",
    "\n",
    "# push(item) 또는 append(item): 스택의 맨 뒤에 요소를 추가합니다.\n",
    "# pop(): 스택의 맨 뒤의 요소를 제거하고 반환합니다.\n",
    "# peek(): 스택의 맨 뒤의 요소를 반환하지만, 제거하지는 않습니다.\n",
    "# is_empty(): 스택이 비어있는지 여부를 확인합니다. 비어있다면 True를 반환하고, 그렇지 않다면 False를 반환합니다.\n",
    "# size(): 스택에 있는 요소의 개수를 반환합니다."
   ]
  },
  {
   "cell_type": "markdown",
   "id": "78b10567-7536-47bd-8341-1aa76fc30fa1",
   "metadata": {},
   "source": [
    "####  "
   ]
  },
  {
   "cell_type": "markdown",
   "id": "f73f899a-d279-4474-9933-630328efbbbc",
   "metadata": {},
   "source": [
    "## Programmers : '핸드폰 번호 가리기'"
   ]
  },
  {
   "cell_type": "markdown",
   "id": "e1e9b460-7082-405d-ac95-2252071f9235",
   "metadata": {},
   "source": [
    "#### 01. 내 풀이"
   ]
  },
  {
   "cell_type": "code",
   "execution_count": null,
   "id": "6d37efa6-19b8-4a6b-bd40-061939376330",
   "metadata": {},
   "outputs": [],
   "source": [
    "# 제일 뒤의 네 자리를 제외한 나머지 번호를 * 표시로 바꿔 return하라"
   ]
  },
  {
   "cell_type": "code",
   "execution_count": 63,
   "id": "7fc76fc8-68c9-4f10-af1e-6b40f33dfe21",
   "metadata": {},
   "outputs": [],
   "source": [
    "s = \"01033334444\""
   ]
  },
  {
   "cell_type": "code",
   "execution_count": 64,
   "id": "ded27b5f-3f35-41cc-a73c-e775b95f8bc2",
   "metadata": {},
   "outputs": [],
   "source": [
    "answer = ''"
   ]
  },
  {
   "cell_type": "code",
   "execution_count": 65,
   "id": "2ba3663f-d21d-452f-8117-30deab56642b",
   "metadata": {},
   "outputs": [],
   "source": [
    "sol = list(s)"
   ]
  },
  {
   "cell_type": "code",
   "execution_count": 66,
   "id": "87b590dc-31cf-4736-afc0-0d971bb0df18",
   "metadata": {},
   "outputs": [],
   "source": [
    "for i in range(len(sol)-4):\n",
    "    sol[i] = \"*\""
   ]
  },
  {
   "cell_type": "code",
   "execution_count": 67,
   "id": "43e4bc14-a0d7-49df-a1c7-a2269ca0dc9c",
   "metadata": {},
   "outputs": [],
   "source": [
    "answer = answer.join(sol)"
   ]
  },
  {
   "cell_type": "code",
   "execution_count": 68,
   "id": "f997766f-8ce9-4098-ad08-f829a0f47fa2",
   "metadata": {},
   "outputs": [
    {
     "data": {
      "text/plain": [
       "'*******4444'"
      ]
     },
     "execution_count": 68,
     "metadata": {},
     "output_type": "execute_result"
    }
   ],
   "source": [
    "answer"
   ]
  },
  {
   "cell_type": "code",
   "execution_count": 71,
   "id": "ceacd896-7677-40bb-8f73-22c522dd3540",
   "metadata": {},
   "outputs": [],
   "source": [
    "def solution(phone_number):\n",
    "    answer = \"\"\n",
    "    sol = list(phone_number)\n",
    "    if len(sol) == 4:\n",
    "        return answer.join(sol)\n",
    "    for i in range(0, len(sol)-4):\n",
    "        sol[i] = \"*\"\n",
    "    return answer.join(sol)"
   ]
  },
  {
   "cell_type": "code",
   "execution_count": 74,
   "id": "4bf1bd9c-9fb4-46a6-9f43-d491ed88194b",
   "metadata": {},
   "outputs": [
    {
     "data": {
      "text/plain": [
       "'*******4444'"
      ]
     },
     "execution_count": 74,
     "metadata": {},
     "output_type": "execute_result"
    }
   ],
   "source": [
    "solution(\"01033334444\")"
   ]
  },
  {
   "cell_type": "markdown",
   "id": "2ab06539-18fc-4504-8dc1-a9f422c01d57",
   "metadata": {},
   "source": [
    "#### 모범 답안에서 착안, 다시 풀어보자"
   ]
  },
  {
   "cell_type": "code",
   "execution_count": 75,
   "id": "355169e3-9b82-46ca-8378-e045c4affa18",
   "metadata": {},
   "outputs": [],
   "source": [
    "s = \"01033334444\""
   ]
  },
  {
   "cell_type": "code",
   "execution_count": 81,
   "id": "fbb8464b-3068-4f40-9d9c-a2d8912ad55f",
   "metadata": {},
   "outputs": [],
   "source": [
    "answer = \"*\" * (len(s)-4) + str(s[-4:])"
   ]
  },
  {
   "cell_type": "code",
   "execution_count": 82,
   "id": "25e73f38-4ed0-4b5e-b61c-a053f8c2cd9c",
   "metadata": {},
   "outputs": [
    {
     "data": {
      "text/plain": [
       "'*******4444'"
      ]
     },
     "execution_count": 82,
     "metadata": {},
     "output_type": "execute_result"
    }
   ],
   "source": [
    "answer"
   ]
  },
  {
   "cell_type": "code",
   "execution_count": null,
   "id": "91964f52-ff7d-43b8-8dfa-979d874e81a0",
   "metadata": {},
   "outputs": [],
   "source": [
    "# 문자열의 곱셈 기능에서 착안, len(s)-4만큼 \"*\"를 곱하고,\n",
    "# - 인덱스 기능을 이용해 [-4:]까지 값을 \"*\" 뒤에 붙여준다."
   ]
  },
  {
   "cell_type": "code",
   "execution_count": 83,
   "id": "987249ba-80e9-422e-99a4-41d8e6030ca7",
   "metadata": {},
   "outputs": [],
   "source": [
    "def solution(phone_number):\n",
    "    return \"*\" * (len(phone_number) -4) + str(phone_number[-4:])"
   ]
  },
  {
   "cell_type": "code",
   "execution_count": 84,
   "id": "3bb758cd-de9e-4d3f-9b7f-ab172dfaefc3",
   "metadata": {},
   "outputs": [
    {
     "data": {
      "text/plain": [
       "'*******4444'"
      ]
     },
     "execution_count": 84,
     "metadata": {},
     "output_type": "execute_result"
    }
   ],
   "source": [
    "solution(\"01033334444\")"
   ]
  },
  {
   "cell_type": "code",
   "execution_count": null,
   "id": "bb00f82a-fd02-4d27-b7c4-5d0cd334b9a5",
   "metadata": {},
   "outputs": [],
   "source": [
    "# 깔끔하고 쾌적한 코드"
   ]
  },
  {
   "cell_type": "markdown",
   "id": "c2737ecb-c09e-494d-b5c3-097dcd4186c2",
   "metadata": {},
   "source": [
    "####  "
   ]
  },
  {
   "cell_type": "markdown",
   "id": "18f658aa-8efe-43c4-ae87-c320928d29f5",
   "metadata": {},
   "source": [
    "## Programmers : '제일 작은 수 제거하기'"
   ]
  },
  {
   "cell_type": "markdown",
   "id": "82a26828-231a-4af3-a632-ffc82aeb6b9b",
   "metadata": {},
   "source": [
    "#### 01. 내 답안"
   ]
  },
  {
   "cell_type": "code",
   "execution_count": 117,
   "id": "1a738a3e-ff4b-4b6b-bfdb-5b541f5d958a",
   "metadata": {},
   "outputs": [],
   "source": [
    "arr = [1, 3, 2, 10, 5]"
   ]
  },
  {
   "cell_type": "code",
   "execution_count": 118,
   "id": "1b687e2a-df04-40cb-9b70-93f99d708328",
   "metadata": {},
   "outputs": [],
   "source": [
    "minArr = min(arr)"
   ]
  },
  {
   "cell_type": "code",
   "execution_count": 119,
   "id": "39e94115-579e-4d3b-aa4d-d882ac578348",
   "metadata": {},
   "outputs": [
    {
     "data": {
      "text/plain": [
       "1"
      ]
     },
     "execution_count": 119,
     "metadata": {},
     "output_type": "execute_result"
    }
   ],
   "source": [
    "minArr"
   ]
  },
  {
   "cell_type": "code",
   "execution_count": 120,
   "id": "652ae997-2cc2-421d-aa32-98b29734c125",
   "metadata": {},
   "outputs": [],
   "source": [
    "for i in arr:\n",
    "    if i == minArr:\n",
    "        arr.remove(i)"
   ]
  },
  {
   "cell_type": "code",
   "execution_count": 121,
   "id": "12a9b40c-f646-4142-a93f-4e38d9c574cc",
   "metadata": {},
   "outputs": [
    {
     "data": {
      "text/plain": [
       "[3, 2, 10, 5]"
      ]
     },
     "execution_count": 121,
     "metadata": {},
     "output_type": "execute_result"
    }
   ],
   "source": [
    "arr"
   ]
  },
  {
   "cell_type": "code",
   "execution_count": null,
   "id": "3587c420-3328-49ad-8a1d-9b4a64c0b910",
   "metadata": {},
   "outputs": [],
   "source": [
    "# Function Binding"
   ]
  },
  {
   "cell_type": "code",
   "execution_count": 124,
   "id": "13970c95-7d2f-4c64-89b0-93a5bf4f2a45",
   "metadata": {},
   "outputs": [],
   "source": [
    "def solution(arr):\n",
    "    answer = []\n",
    "    minArr = min(arr)\n",
    "    if len(arr) == 1:\n",
    "        answer.append(-1)\n",
    "        return answer\n",
    "    for i in arr:\n",
    "        if i == minArr:\n",
    "            arr.remove(i)\n",
    "            answer = arr\n",
    "    return answer"
   ]
  },
  {
   "cell_type": "code",
   "execution_count": 128,
   "id": "7604bda2-5934-4b7a-b14f-0fa3e45fd0fe",
   "metadata": {},
   "outputs": [
    {
     "data": {
      "text/plain": [
       "[-1]"
      ]
     },
     "execution_count": 128,
     "metadata": {},
     "output_type": "execute_result"
    }
   ],
   "source": [
    "solution([10])"
   ]
  },
  {
   "cell_type": "markdown",
   "id": "140d58a6-9231-4656-ab04-7134362bb40d",
   "metadata": {},
   "source": [
    "####  "
   ]
  },
  {
   "cell_type": "markdown",
   "id": "edcea980-01a4-4777-82e0-a34e30c05582",
   "metadata": {},
   "source": [
    "## Programmers : '가운데 글자 가져오기'"
   ]
  },
  {
   "cell_type": "markdown",
   "id": "44f8bb90-efef-45f2-be7d-421c7ddfd0d5",
   "metadata": {},
   "source": [
    "#### 01. 내 답안"
   ]
  },
  {
   "cell_type": "code",
   "execution_count": null,
   "id": "7e0eb657-abd1-4e20-b208-d9f3d585ad58",
   "metadata": {},
   "outputs": [],
   "source": [
    "# 문자열 s의 가운데 글자를 return하라.\n",
    "# s의 길이가 짝수라면 가운데 두 글자를 반환한다."
   ]
  },
  {
   "cell_type": "code",
   "execution_count": 129,
   "id": "5cc64d9c-bb14-4f32-9e34-cadee98861df",
   "metadata": {},
   "outputs": [],
   "source": [
    "s = \"abcde\""
   ]
  },
  {
   "cell_type": "code",
   "execution_count": 130,
   "id": "135f1db9-089b-442c-819a-6990890ff13c",
   "metadata": {},
   "outputs": [
    {
     "data": {
      "text/plain": [
       "5"
      ]
     },
     "execution_count": 130,
     "metadata": {},
     "output_type": "execute_result"
    }
   ],
   "source": [
    "len(s)"
   ]
  },
  {
   "cell_type": "code",
   "execution_count": 132,
   "id": "29528543-2dbc-47ff-9f88-ccb411b2cfbe",
   "metadata": {},
   "outputs": [
    {
     "data": {
      "text/plain": [
       "2"
      ]
     },
     "execution_count": 132,
     "metadata": {},
     "output_type": "execute_result"
    }
   ],
   "source": [
    "len(s)//2"
   ]
  },
  {
   "cell_type": "code",
   "execution_count": 133,
   "id": "d755b2ab-c4ae-4e28-b02f-a85ce2c868f5",
   "metadata": {},
   "outputs": [
    {
     "data": {
      "text/plain": [
       "'c'"
      ]
     },
     "execution_count": 133,
     "metadata": {},
     "output_type": "execute_result"
    }
   ],
   "source": [
    "s[len(s)//2]"
   ]
  },
  {
   "cell_type": "code",
   "execution_count": 134,
   "id": "a53bc4fd-387f-47fa-9e24-2131f61f9a79",
   "metadata": {},
   "outputs": [],
   "source": [
    "c = \"qwer\""
   ]
  },
  {
   "cell_type": "code",
   "execution_count": 135,
   "id": "303bd090-c498-41aa-9d6c-fc1213d55eed",
   "metadata": {},
   "outputs": [
    {
     "data": {
      "text/plain": [
       "4"
      ]
     },
     "execution_count": 135,
     "metadata": {},
     "output_type": "execute_result"
    }
   ],
   "source": [
    "len(c)"
   ]
  },
  {
   "cell_type": "code",
   "execution_count": 136,
   "id": "bfb0ca60-5ab6-4b03-80da-3aadf148ffc5",
   "metadata": {},
   "outputs": [
    {
     "data": {
      "text/plain": [
       "2"
      ]
     },
     "execution_count": 136,
     "metadata": {},
     "output_type": "execute_result"
    }
   ],
   "source": [
    "len(c) // 2"
   ]
  },
  {
   "cell_type": "code",
   "execution_count": 137,
   "id": "c1394b94-55d8-4277-9d54-d193d5b3919b",
   "metadata": {},
   "outputs": [
    {
     "name": "stdout",
     "output_type": "stream",
     "text": [
      "we\n"
     ]
    }
   ],
   "source": [
    "print(c[(len(c) // 2)-1]+c[(len(c) // 2)])"
   ]
  },
  {
   "cell_type": "code",
   "execution_count": null,
   "id": "3af7d5c7-35c9-44f6-8aa4-9c8b46a6d5e8",
   "metadata": {},
   "outputs": [],
   "source": [
    "# Function Binding"
   ]
  },
  {
   "cell_type": "code",
   "execution_count": 142,
   "id": "63c1c840-8996-407a-922e-1b4705fdaffd",
   "metadata": {},
   "outputs": [],
   "source": [
    "def solution(s):\n",
    "    answer = \"\"\n",
    "    sol = len(s)//2\n",
    "    if len(s) % 2 != 0:\n",
    "        return answer+s[sol]\n",
    "    else:\n",
    "        return answer+s[sol-1]+s[sol]"
   ]
  },
  {
   "cell_type": "code",
   "execution_count": 143,
   "id": "a96f8d09-a28f-4cda-adeb-2b68277a4118",
   "metadata": {},
   "outputs": [
    {
     "data": {
      "text/plain": [
       "'c'"
      ]
     },
     "execution_count": 143,
     "metadata": {},
     "output_type": "execute_result"
    }
   ],
   "source": [
    "solution(\"abcde\")"
   ]
  },
  {
   "cell_type": "code",
   "execution_count": 144,
   "id": "1b063bf1-5d7b-45e4-8bf7-209fdbe9bbd9",
   "metadata": {},
   "outputs": [
    {
     "data": {
      "text/plain": [
       "'we'"
      ]
     },
     "execution_count": 144,
     "metadata": {},
     "output_type": "execute_result"
    }
   ],
   "source": [
    "solution(\"qwer\")"
   ]
  },
  {
   "cell_type": "markdown",
   "id": "a7ff1d84-9753-478d-8a65-1a86551ed20d",
   "metadata": {},
   "source": [
    "####  "
   ]
  },
  {
   "cell_type": "markdown",
   "id": "d7e6bd36-c804-4da8-a1c8-83888dd39319",
   "metadata": {},
   "source": [
    "## Programmers : '수박수박수박수박수박수?'"
   ]
  },
  {
   "cell_type": "markdown",
   "id": "e990f032-5ddc-4723-9c9d-df7c5a16620e",
   "metadata": {},
   "source": [
    "#### 01. 내 답안"
   ]
  },
  {
   "cell_type": "code",
   "execution_count": null,
   "id": "a5d2f4b3-705d-4850-9657-765344d0499f",
   "metadata": {},
   "outputs": [],
   "source": [
    "# 길이는 n, n%2=1:\"수\", n%2=0:\"박\""
   ]
  },
  {
   "cell_type": "code",
   "execution_count": 147,
   "id": "b50d8282-762a-45d5-8df5-93d8261643e4",
   "metadata": {},
   "outputs": [
    {
     "name": "stdout",
     "output_type": "stream",
     "text": [
      "수박수박수박\n"
     ]
    }
   ],
   "source": [
    "n = 6\n",
    "answer = ''\n",
    "i = 0\n",
    "while i < n:\n",
    "    if i%2==0:\n",
    "        answer+=\"수\"\n",
    "        i+=1\n",
    "    else:\n",
    "        answer+=\"박\"\n",
    "        i+=1\n",
    "print(answer)"
   ]
  },
  {
   "cell_type": "code",
   "execution_count": null,
   "id": "32e7705c-0ecd-4303-82cc-e41cb8d674a2",
   "metadata": {},
   "outputs": [],
   "source": [
    "# Function Binding"
   ]
  },
  {
   "cell_type": "code",
   "execution_count": 148,
   "id": "9a505b96-1d87-46f7-803c-13ec15df438b",
   "metadata": {},
   "outputs": [],
   "source": [
    "def solution(n):\n",
    "    answer = ''\n",
    "    i = 0\n",
    "    while i < n:\n",
    "        if i % 2 == 0:\n",
    "            answer+=\"수\"\n",
    "            i+=1\n",
    "        else:\n",
    "            answer+=\"박\"\n",
    "            i+=1\n",
    "    return answer"
   ]
  },
  {
   "cell_type": "code",
   "execution_count": 149,
   "id": "5a814021-764d-4a70-95bb-b854a1f32224",
   "metadata": {},
   "outputs": [
    {
     "data": {
      "text/plain": [
       "'수박수'"
      ]
     },
     "execution_count": 149,
     "metadata": {},
     "output_type": "execute_result"
    }
   ],
   "source": [
    "solution(3)"
   ]
  },
  {
   "cell_type": "code",
   "execution_count": 150,
   "id": "8faf6d34-dc70-4e80-8dc0-480b2330b0ba",
   "metadata": {},
   "outputs": [
    {
     "data": {
      "text/plain": [
       "'수박수박'"
      ]
     },
     "execution_count": 150,
     "metadata": {},
     "output_type": "execute_result"
    }
   ],
   "source": [
    "solution(4)"
   ]
  },
  {
   "cell_type": "code",
   "execution_count": null,
   "id": "b0892db6-d1c7-4a9f-be34-ccc87f326e67",
   "metadata": {},
   "outputs": [],
   "source": [
    "## 무난한 답안. 다음으로 넘어가자"
   ]
  },
  {
   "cell_type": "markdown",
   "id": "a682ab45-f6c8-46ed-bd2d-3558c4f0dbee",
   "metadata": {},
   "source": [
    "####  "
   ]
  },
  {
   "cell_type": "markdown",
   "id": "2a9132eb-eb24-4e61-8c7b-949f60b411da",
   "metadata": {},
   "source": [
    "## Programmers : '같은 숫자는 싫어'"
   ]
  },
  {
   "cell_type": "markdown",
   "id": "697ff879-037e-4cfb-8359-38a0af352011",
   "metadata": {},
   "source": [
    "#### 01. 내 답안"
   ]
  },
  {
   "cell_type": "code",
   "execution_count": null,
   "id": "399f0009-0f9a-47e2-9ab1-7bc7aaf0854f",
   "metadata": {},
   "outputs": [],
   "source": [
    "# stack을 사용하는 문제. 배워 왔으니 실험해보자\n",
    "# 연속하여 중복된 숫자를 제거하여 return한다."
   ]
  },
  {
   "cell_type": "code",
   "execution_count": 181,
   "id": "8a77646e-14f5-4ceb-aa00-c1df6702494a",
   "metadata": {},
   "outputs": [],
   "source": [
    "arr = [1,1,3,3,0,1,1]"
   ]
  },
  {
   "cell_type": "code",
   "execution_count": 182,
   "id": "e753637e-042b-4fc4-9e81-3c52ed15361d",
   "metadata": {},
   "outputs": [],
   "source": [
    "stack = []"
   ]
  },
  {
   "cell_type": "code",
   "execution_count": 183,
   "id": "7e243aff-c628-47fd-bee1-5cd02536d74e",
   "metadata": {},
   "outputs": [],
   "source": [
    "for i in arr:\n",
    "    if not stack:\n",
    "        stack.append(i)\n",
    "    elif stack and i != stack[-1]:\n",
    "        stack.append(i)"
   ]
  },
  {
   "cell_type": "code",
   "execution_count": 185,
   "id": "5cf1fdf4-7c58-45b5-9428-224d0f9868a9",
   "metadata": {},
   "outputs": [
    {
     "name": "stdout",
     "output_type": "stream",
     "text": [
      "[1, 3, 0, 1]\n"
     ]
    }
   ],
   "source": [
    "print(stack)"
   ]
  },
  {
   "cell_type": "code",
   "execution_count": null,
   "id": "6cfd4a5c-f800-4071-85b9-9728fb852f6a",
   "metadata": {},
   "outputs": [],
   "source": [
    "# Function Binding"
   ]
  },
  {
   "cell_type": "code",
   "execution_count": 186,
   "id": "4cd8f7db-b1fd-4aa4-bfea-4718e4f644a7",
   "metadata": {},
   "outputs": [],
   "source": [
    "def solution(arr):\n",
    "    answer=[]\n",
    "    for i in arr:\n",
    "        if not answer:\n",
    "            answer.append(i)\n",
    "        elif answer and i != answer[-1]:\n",
    "            answer.append(i)\n",
    "    return answer"
   ]
  },
  {
   "cell_type": "code",
   "execution_count": 187,
   "id": "069dea01-fef2-42a7-bdea-93e5b044a857",
   "metadata": {},
   "outputs": [
    {
     "data": {
      "text/plain": [
       "[1, 3, 0, 1]"
      ]
     },
     "execution_count": 187,
     "metadata": {},
     "output_type": "execute_result"
    }
   ],
   "source": [
    "solution([1,1,3,3,0,1,1])"
   ]
  },
  {
   "cell_type": "code",
   "execution_count": 188,
   "id": "190e0715-3c52-400c-a055-0a5f0a27f747",
   "metadata": {},
   "outputs": [
    {
     "data": {
      "text/plain": [
       "[4, 3]"
      ]
     },
     "execution_count": 188,
     "metadata": {},
     "output_type": "execute_result"
    }
   ],
   "source": [
    "solution([4,4,4,3,3])"
   ]
  },
  {
   "cell_type": "code",
   "execution_count": null,
   "id": "b9626157-73c7-4d6a-90ce-aa713d37e846",
   "metadata": {},
   "outputs": [],
   "source": [
    "## 모범 답안과 유사한 풀이가 이뤄졌다.\n",
    "## stack에 관한 개념을 더 익히자."
   ]
  },
  {
   "cell_type": "code",
   "execution_count": null,
   "id": "34c5e399-8134-4ab3-ac98-2315e5ff0a89",
   "metadata": {},
   "outputs": [],
   "source": [
    "# if not answer:\n",
    "# : answer가 비어있다면.\n",
    "# if answer:\n",
    "# : answer가 비어 있지 않다면"
   ]
  },
  {
   "cell_type": "markdown",
   "id": "701747e4-56e8-43eb-b4b9-962ba48aa91f",
   "metadata": {},
   "source": [
    "####  "
   ]
  },
  {
   "cell_type": "markdown",
   "id": "7c73277c-422c-4bfe-8329-24dcee2c04ff",
   "metadata": {},
   "source": [
    "## Programmers : '직사각형 별찍기'"
   ]
  },
  {
   "cell_type": "markdown",
   "id": "d5c17757-f1cf-4a65-8511-139065535b08",
   "metadata": {},
   "source": [
    "#### 01. 내 풀이"
   ]
  },
  {
   "cell_type": "code",
   "execution_count": 190,
   "id": "dfdb27b1-dbad-4d57-901d-c06d39869f65",
   "metadata": {},
   "outputs": [
    {
     "name": "stdin",
     "output_type": "stream",
     "text": [
      " 5 3\n"
     ]
    },
    {
     "name": "stdout",
     "output_type": "stream",
     "text": [
      "*****\n",
      "*****\n",
      "*****\n"
     ]
    }
   ],
   "source": [
    "a, b = map(int, input().strip().split(' '))\n",
    "for i in range(b):\n",
    "    print(\"*\"*a)"
   ]
  },
  {
   "cell_type": "code",
   "execution_count": null,
   "id": "757d7deb-c734-4b65-a5fe-2748febf7c6c",
   "metadata": {},
   "outputs": [],
   "source": [
    "# 직관적인 문제"
   ]
  },
  {
   "cell_type": "markdown",
   "id": "9bc25d1f-2c45-4ce8-b49d-20dd4dc27b3d",
   "metadata": {},
   "source": [
    "#### "
   ]
  },
  {
   "cell_type": "markdown",
   "id": "f91ef27a-e845-424a-b132-390c77d29230",
   "metadata": {},
   "source": [
    "## Programmers : '푸드 파이트 대회'"
   ]
  },
  {
   "cell_type": "markdown",
   "id": "815bd62f-d51b-4fcf-b325-6544b06a619a",
   "metadata": {},
   "source": [
    "#### 01. 내 답안"
   ]
  },
  {
   "cell_type": "code",
   "execution_count": 191,
   "id": "93f50dd5-e756-45cd-9581-da4e86671f97",
   "metadata": {},
   "outputs": [],
   "source": [
    "s = \"1234\""
   ]
  },
  {
   "cell_type": "code",
   "execution_count": 197,
   "id": "e97cb4fd-5ea3-4adf-96fa-a09012f2c360",
   "metadata": {},
   "outputs": [
    {
     "data": {
      "text/plain": [
       "'4321'"
      ]
     },
     "execution_count": 197,
     "metadata": {},
     "output_type": "execute_result"
    }
   ],
   "source": [
    "''.join(sorted(list(s), reverse=True))"
   ]
  },
  {
   "cell_type": "code",
   "execution_count": 212,
   "id": "485df450-cc3c-412e-a0d7-5ede0bc2bd3c",
   "metadata": {},
   "outputs": [],
   "source": [
    "food = [1, 3, 4, 6]"
   ]
  },
  {
   "cell_type": "code",
   "execution_count": null,
   "id": "6d937dbe-f7b1-4c67-87b6-bb7c2206ea17",
   "metadata": {},
   "outputs": [],
   "source": [
    "# food[0]은 물. 언제나 1이다.\n",
    "# food[x]는 준비한 음식의 갯수. 낮은 칼로리부터 준비되어 있다."
   ]
  },
  {
   "cell_type": "code",
   "execution_count": 214,
   "id": "60091934-8023-4a76-8c6e-67c832a00f77",
   "metadata": {},
   "outputs": [
    {
     "name": "stdout",
     "output_type": "stream",
     "text": [
      "32023\n"
     ]
    }
   ],
   "source": [
    "answer = ''\n",
    "i = 0\n",
    "while i < len(food):\n",
    "    if i == 0:\n",
    "        answer += str(i)\n",
    "        i+=1\n",
    "    answer = str(i) * (i//2) + answer + str(i) * (i//2)\n",
    "    i+=1\n",
    "print(answer)"
   ]
  },
  {
   "cell_type": "code",
   "execution_count": 211,
   "id": "dd8d5091-de2c-4da0-84d2-721b57b599d0",
   "metadata": {},
   "outputs": [
    {
     "data": {
      "text/plain": [
       "'32023'"
      ]
     },
     "execution_count": 211,
     "metadata": {},
     "output_type": "execute_result"
    }
   ],
   "source": [
    "answer"
   ]
  },
  {
   "cell_type": "code",
   "execution_count": 215,
   "id": "39dba9b2-2b57-4be5-812d-f0ed1da3545b",
   "metadata": {},
   "outputs": [
    {
     "data": {
      "text/plain": [
       "1"
      ]
     },
     "execution_count": 215,
     "metadata": {},
     "output_type": "execute_result"
    }
   ],
   "source": [
    "3//2"
   ]
  },
  {
   "cell_type": "code",
   "execution_count": 216,
   "id": "bd7ea94e-8a7b-490d-8c0c-22ce2d1e2a90",
   "metadata": {},
   "outputs": [
    {
     "data": {
      "text/plain": [
       "1"
      ]
     },
     "execution_count": 216,
     "metadata": {},
     "output_type": "execute_result"
    }
   ],
   "source": [
    "1 * (3//2)"
   ]
  },
  {
   "cell_type": "code",
   "execution_count": 219,
   "id": "3871250b-ba15-441c-8d56-e27cf3323323",
   "metadata": {},
   "outputs": [
    {
     "name": "stdout",
     "output_type": "stream",
     "text": [
      "3332210122333\n"
     ]
    }
   ],
   "source": [
    "food = [1, 3, 4, 6]\n",
    "\n",
    "answer = ''\n",
    "\n",
    "i = 0\n",
    "while i < len(food):\n",
    "    if i == 0:\n",
    "        answer += str(i)\n",
    "        i+=1\n",
    "        continue\n",
    "    answer = str(i) * (food[i]//2) + answer + str(i) * (food[i]//2)\n",
    "    i+=1\n",
    "print(answer)"
   ]
  },
  {
   "cell_type": "code",
   "execution_count": null,
   "id": "2bac5cdf-ae06-4093-9ee2-3ee120368ccc",
   "metadata": {},
   "outputs": [],
   "source": [
    "# Function Binding"
   ]
  },
  {
   "cell_type": "code",
   "execution_count": 220,
   "id": "4305a927-e1d1-4dd9-8ce3-96001dc336bf",
   "metadata": {},
   "outputs": [],
   "source": [
    "def solution(food):\n",
    "    answer = ''\n",
    "    i=0\n",
    "    while i < len(food):\n",
    "        if i == 0:\n",
    "            answer += str(i)\n",
    "            i+=1\n",
    "            continue\n",
    "        answer = str(i) * (food[i]//2) + answer + str(i) * (food[i]//2)\n",
    "        i+=1\n",
    "    return answer"
   ]
  },
  {
   "cell_type": "code",
   "execution_count": 221,
   "id": "30db908a-d5ef-454d-b1cb-f4bb61f7ed6d",
   "metadata": {},
   "outputs": [
    {
     "data": {
      "text/plain": [
       "'311101113'"
      ]
     },
     "execution_count": 221,
     "metadata": {},
     "output_type": "execute_result"
    }
   ],
   "source": [
    "solution([1, 7, 1, 2])"
   ]
  },
  {
   "cell_type": "code",
   "execution_count": null,
   "id": "f94cc899-8340-47e2-9e93-67a269b40ebd",
   "metadata": {},
   "outputs": [],
   "source": [
    "# 문제 잘못 이해했다. 낮은 칼로리가 먼저 배치되도록"
   ]
  },
  {
   "cell_type": "code",
   "execution_count": 241,
   "id": "751ecb32-59f5-4732-a10b-55e01d301694",
   "metadata": {},
   "outputs": [],
   "source": [
    "food = [1, 3, 4, 6]"
   ]
  },
  {
   "cell_type": "code",
   "execution_count": 242,
   "id": "a2571ac1-6ca1-42a4-a8cb-a066c6d98e95",
   "metadata": {},
   "outputs": [],
   "source": [
    "answer = ''"
   ]
  },
  {
   "cell_type": "code",
   "execution_count": 243,
   "id": "b422a538-6411-42a7-9e9a-ea391f1120b0",
   "metadata": {},
   "outputs": [
    {
     "name": "stdout",
     "output_type": "stream",
     "text": [
      "1223330333221\n"
     ]
    }
   ],
   "source": [
    "for i in range(0, len(food)):\n",
    "    if i == 0:\n",
    "        tmp = str(i)\n",
    "    answer = answer + str(i) * (food[i]//2)\n",
    "    if i == len(food)-1:\n",
    "        answer = answer + tmp + answer[::-1]\n",
    "print(answer)"
   ]
  },
  {
   "cell_type": "code",
   "execution_count": 234,
   "id": "78b24cd2-713e-45a1-b46e-5f1f67fcac25",
   "metadata": {},
   "outputs": [
    {
     "data": {
      "text/plain": [
       "'333221'"
      ]
     },
     "execution_count": 234,
     "metadata": {},
     "output_type": "execute_result"
    }
   ],
   "source": [
    "answer[::-1]"
   ]
  },
  {
   "cell_type": "code",
   "execution_count": null,
   "id": "a0aeea91-bdad-4b63-b8d5-0c9212360332",
   "metadata": {},
   "outputs": [],
   "source": [
    "# 오늘의 학습 포인트. 문자열[::-1] == 대상 문자열을 거꾸로"
   ]
  },
  {
   "cell_type": "code",
   "execution_count": null,
   "id": "482026aa-9894-4b25-b93a-57f84b91ac45",
   "metadata": {},
   "outputs": [],
   "source": [
    "# 2nd Function Binding"
   ]
  },
  {
   "cell_type": "code",
   "execution_count": 244,
   "id": "17ae520f-4b90-4971-b407-119ceac4c055",
   "metadata": {},
   "outputs": [],
   "source": [
    "def solution(food):\n",
    "    answer = ''\n",
    "    for i in range(0, len(food)):\n",
    "        if i == 0:\n",
    "            tmp = str(i)\n",
    "        answer = answer + str(i) * (food[i] // 2)\n",
    "        if i == len(food)-1:\n",
    "            answer = answer + tmp + answer[::-1]\n",
    "    return answer"
   ]
  },
  {
   "cell_type": "code",
   "execution_count": 245,
   "id": "21fda12c-8ef9-4422-a8d1-5609f7d8138e",
   "metadata": {},
   "outputs": [
    {
     "data": {
      "text/plain": [
       "'111303111'"
      ]
     },
     "execution_count": 245,
     "metadata": {},
     "output_type": "execute_result"
    }
   ],
   "source": [
    "solution([1, 7, 1, 2])"
   ]
  },
  {
   "cell_type": "code",
   "execution_count": null,
   "id": "6e0fa7eb-a713-436e-bb4b-645030e9c9e1",
   "metadata": {},
   "outputs": [],
   "source": [
    "# ::-1을 머리 속에 확실히 박아 두자"
   ]
  },
  {
   "cell_type": "markdown",
   "id": "ee4a78dc-deca-455c-8c6a-1ccc0993b18f",
   "metadata": {},
   "source": [
    "#### 2023.07.12. 파이썬은 여기까지"
   ]
  }
 ],
 "metadata": {
  "kernelspec": {
   "display_name": "Python 3 (ipykernel)",
   "language": "python",
   "name": "python3"
  },
  "language_info": {
   "codemirror_mode": {
    "name": "ipython",
    "version": 3
   },
   "file_extension": ".py",
   "mimetype": "text/x-python",
   "name": "python",
   "nbconvert_exporter": "python",
   "pygments_lexer": "ipython3",
   "version": "3.9.13"
  }
 },
 "nbformat": 4,
 "nbformat_minor": 5
}
