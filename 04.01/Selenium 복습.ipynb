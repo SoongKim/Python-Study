{
 "cells": [
  {
   "cell_type": "code",
   "execution_count": 1,
   "id": "fd37b2a9-1127-476a-a6f3-63105db045ff",
   "metadata": {},
   "outputs": [],
   "source": [
    "from selenium import webdriver"
   ]
  },
  {
   "cell_type": "code",
   "execution_count": 2,
   "id": "cfe74f7a-bca4-481f-98f7-b864c6f9e322",
   "metadata": {},
   "outputs": [],
   "source": [
    "from selenium.webdriver.chrome.service import Service"
   ]
  },
  {
   "cell_type": "code",
   "execution_count": 5,
   "id": "332fc572-d56a-40b7-ba8a-766ca8f56e40",
   "metadata": {},
   "outputs": [],
   "source": [
    "from selenium.webdriver.chrome.options import Options"
   ]
  },
  {
   "cell_type": "code",
   "execution_count": 7,
   "id": "611d10a8-9bf6-4ebb-b132-e3a426f7b4b5",
   "metadata": {},
   "outputs": [],
   "source": [
    "from webdriver_manager.chrome import ChromeDriverManager"
   ]
  },
  {
   "cell_type": "code",
   "execution_count": 8,
   "id": "5a23b01f-188a-4654-9c5b-50f1162d87f8",
   "metadata": {},
   "outputs": [],
   "source": [
    "options = Options()"
   ]
  },
  {
   "cell_type": "code",
   "execution_count": 14,
   "id": "7224b775-8c55-4c89-b12f-0b96c5fe7798",
   "metadata": {},
   "outputs": [],
   "source": [
    "options.add_argument('—headless')"
   ]
  },
  {
   "cell_type": "code",
   "execution_count": 15,
   "id": "11585703-56b1-43fb-a34e-2a7ac1fece91",
   "metadata": {},
   "outputs": [],
   "source": [
    "options.add_argument(\"Window-size=1920x1080\")"
   ]
  },
  {
   "cell_type": "code",
   "execution_count": 17,
   "id": "ef94ed3c-bbd6-451b-936f-752d02e4ae4c",
   "metadata": {},
   "outputs": [],
   "source": [
    "driver = webdriver.Chrome(service=Service(ChromeDriverManager().install()),\n",
    "options= options)"
   ]
  },
  {
   "cell_type": "raw",
   "id": "ff09862b-9b3c-4349-8194-5249ecd0319b",
   "metadata": {},
   "source": [
    "driver = serChromeDriver()"
   ]
  },
  {
   "cell_type": "raw",
   "id": "99f8d806-2a8b-4aff-a541-63a28d9fea43",
   "metadata": {},
   "source": [
    "driver.implicitly_wait(3)"
   ]
  },
  {
   "cell_type": "code",
   "execution_count": 28,
   "id": "be1abed6-9cd6-4a21-ace2-70c7bebf0b6c",
   "metadata": {},
   "outputs": [],
   "source": [
    "targetUrl = \"https://www.google.com\""
   ]
  },
  {
   "cell_type": "code",
   "execution_count": 53,
   "id": "0df1cfe3-a2a8-4602-870c-0338fe06923e",
   "metadata": {},
   "outputs": [],
   "source": [
    "driver.get(targetUrl)"
   ]
  },
  {
   "cell_type": "code",
   "execution_count": 30,
   "id": "ced22217-fe1c-46e9-8be8-8e8afb0e88fe",
   "metadata": {},
   "outputs": [
    {
     "data": {
      "text/plain": [
       "'https://www.google.com/'"
      ]
     },
     "execution_count": 30,
     "metadata": {},
     "output_type": "execute_result"
    }
   ],
   "source": [
    "driver.current_url"
   ]
  },
  {
   "cell_type": "code",
   "execution_count": 31,
   "id": "c3adea0e-de9c-45e8-aa57-c11f709354d9",
   "metadata": {},
   "outputs": [],
   "source": [
    "searchBtn = '/html/body/div[1]/div[3]/form/div[1]/div[1]/div[4]/center/input[1]'"
   ]
  },
  {
   "cell_type": "code",
   "execution_count": 32,
   "id": "a5f104bb-7269-4da2-b7a4-658b3c13fc1d",
   "metadata": {},
   "outputs": [],
   "source": [
    "from selenium.webdriver.common.by import By"
   ]
  },
  {
   "cell_type": "code",
   "execution_count": 35,
   "id": "2f6e0fc2-9a66-43e2-9316-f5290ef621eb",
   "metadata": {},
   "outputs": [],
   "source": [
    "from selenium.webdriver.common.keys import Keys"
   ]
  },
  {
   "cell_type": "code",
   "execution_count": 38,
   "id": "2fa29d6b-38a3-4747-9574-a711e52a7f4d",
   "metadata": {},
   "outputs": [],
   "source": [
    "searchBar = '/html/body/div[1]/div[3]/form/div[1]/div[1]/div[1]/div/div[2]/input'"
   ]
  },
  {
   "cell_type": "code",
   "execution_count": 54,
   "id": "ccd0adba-b5a2-42ee-aca1-cd6fbc2ae90c",
   "metadata": {},
   "outputs": [],
   "source": [
    "driver.find_element(By.XPATH, searchBar).send_keys(\"selenium\")"
   ]
  },
  {
   "cell_type": "code",
   "execution_count": 52,
   "id": "3f31c49f-b3a1-40de-beb6-26945a24f5fd",
   "metadata": {},
   "outputs": [],
   "source": [
    "driver.find_element(By.XPATH, searchBar).send_keys(Keys.ENTER)"
   ]
  },
  {
   "cell_type": "code",
   "execution_count": 55,
   "id": "595c5697-6777-462d-b50f-d43657b565ee",
   "metadata": {},
   "outputs": [],
   "source": [
    "driver.find_element(By.XPATH, searchBtn).click()"
   ]
  }
 ],
 "metadata": {
  "kernelspec": {
   "display_name": "Python 3 (ipykernel)",
   "language": "python",
   "name": "python3"
  },
  "language_info": {
   "codemirror_mode": {
    "name": "ipython",
    "version": 3
   },
   "file_extension": ".py",
   "mimetype": "text/x-python",
   "name": "python",
   "nbconvert_exporter": "python",
   "pygments_lexer": "ipython3",
   "version": "3.9.13"
  }
 },
 "nbformat": 4,
 "nbformat_minor": 5
}
