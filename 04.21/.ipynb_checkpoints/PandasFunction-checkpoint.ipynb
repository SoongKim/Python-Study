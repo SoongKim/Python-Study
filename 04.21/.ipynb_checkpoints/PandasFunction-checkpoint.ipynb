{
 "cells": [
  {
   "cell_type": "code",
   "execution_count": 1,
   "id": "727e7560-f9de-4dc6-b6ee-6b45f4975c2f",
   "metadata": {},
   "outputs": [],
   "source": [
    "import pandas as pd"
   ]
  },
  {
   "cell_type": "code",
   "execution_count": 11,
   "id": "3002d23a-c321-429b-ab9b-7b665d848be9",
   "metadata": {},
   "outputs": [],
   "source": [
    "customerData = pd.read_csv(\"../../../stdcode6/dataset/customerdata.csv\")"
   ]
  },
  {
   "cell_type": "code",
   "execution_count": 12,
   "id": "ce3df721-fa34-4a09-8ea5-021d866b1334",
   "metadata": {},
   "outputs": [
    {
     "data": {
      "text/html": [
       "<div>\n",
       "<style scoped>\n",
       "    .dataframe tbody tr th:only-of-type {\n",
       "        vertical-align: middle;\n",
       "    }\n",
       "\n",
       "    .dataframe tbody tr th {\n",
       "        vertical-align: top;\n",
       "    }\n",
       "\n",
       "    .dataframe thead th {\n",
       "        text-align: right;\n",
       "    }\n",
       "</style>\n",
       "<table border=\"1\" class=\"dataframe\">\n",
       "  <thead>\n",
       "    <tr style=\"text-align: right;\">\n",
       "      <th></th>\n",
       "      <th>AVGPRICE</th>\n",
       "      <th>EMI</th>\n",
       "      <th>DEVICECOUNT</th>\n",
       "      <th>PRODUCTAGE</th>\n",
       "    </tr>\n",
       "  </thead>\n",
       "  <tbody>\n",
       "    <tr>\n",
       "      <th>count</th>\n",
       "      <td>150.000000</td>\n",
       "      <td>150.000000</td>\n",
       "      <td>150.000000</td>\n",
       "      <td>150.000000</td>\n",
       "    </tr>\n",
       "    <tr>\n",
       "      <th>mean</th>\n",
       "      <td>3432.741108</td>\n",
       "      <td>2.053333</td>\n",
       "      <td>4.973333</td>\n",
       "      <td>1.932601</td>\n",
       "    </tr>\n",
       "    <tr>\n",
       "      <th>std</th>\n",
       "      <td>371.571877</td>\n",
       "      <td>0.445510</td>\n",
       "      <td>0.996279</td>\n",
       "      <td>0.807457</td>\n",
       "    </tr>\n",
       "    <tr>\n",
       "      <th>min</th>\n",
       "      <td>2390.083736</td>\n",
       "      <td>1.000000</td>\n",
       "      <td>3.000000</td>\n",
       "      <td>0.800000</td>\n",
       "    </tr>\n",
       "    <tr>\n",
       "      <th>25%</th>\n",
       "      <td>3214.543122</td>\n",
       "      <td>2.000000</td>\n",
       "      <td>4.000000</td>\n",
       "      <td>1.000000</td>\n",
       "    </tr>\n",
       "    <tr>\n",
       "      <th>50%</th>\n",
       "      <td>3408.300000</td>\n",
       "      <td>2.000000</td>\n",
       "      <td>5.000000</td>\n",
       "      <td>2.077000</td>\n",
       "    </tr>\n",
       "    <tr>\n",
       "      <th>75%</th>\n",
       "      <td>3664.767001</td>\n",
       "      <td>2.000000</td>\n",
       "      <td>6.000000</td>\n",
       "      <td>2.574525</td>\n",
       "    </tr>\n",
       "    <tr>\n",
       "      <th>max</th>\n",
       "      <td>4296.873743</td>\n",
       "      <td>3.000000</td>\n",
       "      <td>6.000000</td>\n",
       "      <td>3.483573</td>\n",
       "    </tr>\n",
       "  </tbody>\n",
       "</table>\n",
       "</div>"
      ],
      "text/plain": [
       "          AVGPRICE         EMI  DEVICECOUNT  PRODUCTAGE\n",
       "count   150.000000  150.000000   150.000000  150.000000\n",
       "mean   3432.741108    2.053333     4.973333    1.932601\n",
       "std     371.571877    0.445510     0.996279    0.807457\n",
       "min    2390.083736    1.000000     3.000000    0.800000\n",
       "25%    3214.543122    2.000000     4.000000    1.000000\n",
       "50%    3408.300000    2.000000     5.000000    2.077000\n",
       "75%    3664.767001    2.000000     6.000000    2.574525\n",
       "max    4296.873743    3.000000     6.000000    3.483573"
      ]
     },
     "execution_count": 12,
     "metadata": {},
     "output_type": "execute_result"
    }
   ],
   "source": [
    "customerData.describe()"
   ]
  },
  {
   "cell_type": "code",
   "execution_count": null,
   "id": "24d6029d-812b-402a-8067-fa364421b74c",
   "metadata": {},
   "outputs": [],
   "source": [
    "# describe : 해당 데이터프레임의 정보가 출력된다.\n",
    "# 데이터 개수, 평균값, 표준편차, 최소값, 사분위값, 최대값을 출력 정보 대상으로 한다."
   ]
  },
  {
   "cell_type": "code",
   "execution_count": 13,
   "id": "ca62831d-599c-4d1d-885a-55ef907764f3",
   "metadata": {},
   "outputs": [],
   "source": [
    "groupKey = [\"EMI\"]"
   ]
  },
  {
   "cell_type": "code",
   "execution_count": 18,
   "id": "495f84df-3a58-47ad-b984-578837f02f33",
   "metadata": {},
   "outputs": [],
   "source": [
    "avgData = customerData.groupby(by=groupKey)[\"AVGPRICE\"].agg([\"mean\"]).reset_index().rename(columns={\"mean\":\"평균구매가격\"})"
   ]
  },
  {
   "cell_type": "code",
   "execution_count": 19,
   "id": "0a0ace11-e976-40bb-9e11-01727f214ff8",
   "metadata": {},
   "outputs": [
    {
     "data": {
      "text/html": [
       "<div>\n",
       "<style scoped>\n",
       "    .dataframe tbody tr th:only-of-type {\n",
       "        vertical-align: middle;\n",
       "    }\n",
       "\n",
       "    .dataframe tbody tr th {\n",
       "        vertical-align: top;\n",
       "    }\n",
       "\n",
       "    .dataframe thead th {\n",
       "        text-align: right;\n",
       "    }\n",
       "</style>\n",
       "<table border=\"1\" class=\"dataframe\">\n",
       "  <thead>\n",
       "    <tr style=\"text-align: right;\">\n",
       "      <th></th>\n",
       "      <th>EMI</th>\n",
       "      <th>평균구매가격</th>\n",
       "    </tr>\n",
       "  </thead>\n",
       "  <tbody>\n",
       "    <tr>\n",
       "      <th>0</th>\n",
       "      <td>1</td>\n",
       "      <td>3119.031810</td>\n",
       "    </tr>\n",
       "    <tr>\n",
       "      <th>1</th>\n",
       "      <td>2</td>\n",
       "      <td>3441.429664</td>\n",
       "    </tr>\n",
       "    <tr>\n",
       "      <th>2</th>\n",
       "      <td>3</td>\n",
       "      <td>3559.487188</td>\n",
       "    </tr>\n",
       "  </tbody>\n",
       "</table>\n",
       "</div>"
      ],
      "text/plain": [
       "   EMI       평균구매가격\n",
       "0    1  3119.031810\n",
       "1    2  3441.429664\n",
       "2    3  3559.487188"
      ]
     },
     "execution_count": 19,
     "metadata": {},
     "output_type": "execute_result"
    }
   ],
   "source": [
    "avgData"
   ]
  },
  {
   "cell_type": "code",
   "execution_count": null,
   "id": "2683903f-278e-4e01-bd0a-1ec71f0b655a",
   "metadata": {},
   "outputs": [],
   "source": [
    "# 1. groupby 기능을 통해 groupKey로 지정한 \"EMI'가 같은 친구들을 그룹으로 묶어주었다.\n",
    "# 2. 대상으로 할 값은 \"AVGPRICE\"이다.\n",
    "# 3. .agg([\"mean\"])을 통해 대상값의 평균을 산출한다.\n",
    "# 4. .reset_index()를 통해 각 값이 가지고 있는 고유 인덱스 번호를 지우고, 내림차순으로\n",
    "#    새로운 인덱스 번호를 부여해준다.\n",
    "# 5. .rename(columns={\"mean\":\"평균구매가격\"})을 통해\n",
    "#    mean이라는 컬럼명(=열 이름)을 \"평균구매가격\"으로 변경해주었다."
   ]
  },
  {
   "cell_type": "code",
   "execution_count": 20,
   "id": "695dd931-28eb-4af8-ab92-5df93a84057c",
   "metadata": {},
   "outputs": [
    {
     "data": {
      "text/html": [
       "<div>\n",
       "<style scoped>\n",
       "    .dataframe tbody tr th:only-of-type {\n",
       "        vertical-align: middle;\n",
       "    }\n",
       "\n",
       "    .dataframe tbody tr th {\n",
       "        vertical-align: top;\n",
       "    }\n",
       "\n",
       "    .dataframe thead tr th {\n",
       "        text-align: left;\n",
       "    }\n",
       "\n",
       "    .dataframe thead tr:last-of-type th {\n",
       "        text-align: right;\n",
       "    }\n",
       "</style>\n",
       "<table border=\"1\" class=\"dataframe\">\n",
       "  <thead>\n",
       "    <tr>\n",
       "      <th></th>\n",
       "      <th colspan=\"8\" halign=\"left\">AVGPRICE</th>\n",
       "      <th colspan=\"5\" halign=\"left\">DEVICECOUNT</th>\n",
       "      <th colspan=\"8\" halign=\"left\">PRODUCTAGE</th>\n",
       "    </tr>\n",
       "    <tr>\n",
       "      <th></th>\n",
       "      <th>count</th>\n",
       "      <th>mean</th>\n",
       "      <th>std</th>\n",
       "      <th>min</th>\n",
       "      <th>25%</th>\n",
       "      <th>50%</th>\n",
       "      <th>75%</th>\n",
       "      <th>max</th>\n",
       "      <th>count</th>\n",
       "      <th>mean</th>\n",
       "      <th>...</th>\n",
       "      <th>75%</th>\n",
       "      <th>max</th>\n",
       "      <th>count</th>\n",
       "      <th>mean</th>\n",
       "      <th>std</th>\n",
       "      <th>min</th>\n",
       "      <th>25%</th>\n",
       "      <th>50%</th>\n",
       "      <th>75%</th>\n",
       "      <th>max</th>\n",
       "    </tr>\n",
       "    <tr>\n",
       "      <th>EMI</th>\n",
       "      <th></th>\n",
       "      <th></th>\n",
       "      <th></th>\n",
       "      <th></th>\n",
       "      <th></th>\n",
       "      <th></th>\n",
       "      <th></th>\n",
       "      <th></th>\n",
       "      <th></th>\n",
       "      <th></th>\n",
       "      <th></th>\n",
       "      <th></th>\n",
       "      <th></th>\n",
       "      <th></th>\n",
       "      <th></th>\n",
       "      <th></th>\n",
       "      <th></th>\n",
       "      <th></th>\n",
       "      <th></th>\n",
       "      <th></th>\n",
       "      <th></th>\n",
       "    </tr>\n",
       "  </thead>\n",
       "  <tbody>\n",
       "    <tr>\n",
       "      <th>1</th>\n",
       "      <td>11.0</td>\n",
       "      <td>3119.031810</td>\n",
       "      <td>301.047916</td>\n",
       "      <td>2390.083736</td>\n",
       "      <td>2978.220215</td>\n",
       "      <td>3159.839204</td>\n",
       "      <td>3363.814315</td>\n",
       "      <td>3419.462596</td>\n",
       "      <td>11.0</td>\n",
       "      <td>3.818182</td>\n",
       "      <td>...</td>\n",
       "      <td>4.0</td>\n",
       "      <td>6.0</td>\n",
       "      <td>11.0</td>\n",
       "      <td>2.191810</td>\n",
       "      <td>0.551576</td>\n",
       "      <td>1.0</td>\n",
       "      <td>1.950595</td>\n",
       "      <td>2.139196</td>\n",
       "      <td>2.559718</td>\n",
       "      <td>2.994395</td>\n",
       "    </tr>\n",
       "    <tr>\n",
       "      <th>2</th>\n",
       "      <td>120.0</td>\n",
       "      <td>3441.429664</td>\n",
       "      <td>349.691674</td>\n",
       "      <td>2411.008838</td>\n",
       "      <td>3231.429242</td>\n",
       "      <td>3418.480121</td>\n",
       "      <td>3656.799297</td>\n",
       "      <td>4166.533130</td>\n",
       "      <td>120.0</td>\n",
       "      <td>4.916667</td>\n",
       "      <td>...</td>\n",
       "      <td>6.0</td>\n",
       "      <td>6.0</td>\n",
       "      <td>120.0</td>\n",
       "      <td>2.040539</td>\n",
       "      <td>0.802460</td>\n",
       "      <td>0.8</td>\n",
       "      <td>1.100000</td>\n",
       "      <td>2.137109</td>\n",
       "      <td>2.680352</td>\n",
       "      <td>3.483573</td>\n",
       "    </tr>\n",
       "    <tr>\n",
       "      <th>3</th>\n",
       "      <td>19.0</td>\n",
       "      <td>3559.487188</td>\n",
       "      <td>454.411870</td>\n",
       "      <td>2811.265932</td>\n",
       "      <td>3219.363531</td>\n",
       "      <td>3592.353540</td>\n",
       "      <td>3867.447366</td>\n",
       "      <td>4296.873743</td>\n",
       "      <td>19.0</td>\n",
       "      <td>6.000000</td>\n",
       "      <td>...</td>\n",
       "      <td>6.0</td>\n",
       "      <td>6.0</td>\n",
       "      <td>19.0</td>\n",
       "      <td>1.100819</td>\n",
       "      <td>0.348977</td>\n",
       "      <td>0.8</td>\n",
       "      <td>0.900000</td>\n",
       "      <td>1.000000</td>\n",
       "      <td>1.100000</td>\n",
       "      <td>2.055707</td>\n",
       "    </tr>\n",
       "  </tbody>\n",
       "</table>\n",
       "<p>3 rows × 24 columns</p>\n",
       "</div>"
      ],
      "text/plain": [
       "    AVGPRICE                                                                  \\\n",
       "       count         mean         std          min          25%          50%   \n",
       "EMI                                                                            \n",
       "1       11.0  3119.031810  301.047916  2390.083736  2978.220215  3159.839204   \n",
       "2      120.0  3441.429664  349.691674  2411.008838  3231.429242  3418.480121   \n",
       "3       19.0  3559.487188  454.411870  2811.265932  3219.363531  3592.353540   \n",
       "\n",
       "                              DEVICECOUNT            ...           PRODUCTAGE  \\\n",
       "             75%          max       count      mean  ...  75%  max      count   \n",
       "EMI                                                  ...                        \n",
       "1    3363.814315  3419.462596        11.0  3.818182  ...  4.0  6.0       11.0   \n",
       "2    3656.799297  4166.533130       120.0  4.916667  ...  6.0  6.0      120.0   \n",
       "3    3867.447366  4296.873743        19.0  6.000000  ...  6.0  6.0       19.0   \n",
       "\n",
       "                                                                      \n",
       "         mean       std  min       25%       50%       75%       max  \n",
       "EMI                                                                   \n",
       "1    2.191810  0.551576  1.0  1.950595  2.139196  2.559718  2.994395  \n",
       "2    2.040539  0.802460  0.8  1.100000  2.137109  2.680352  3.483573  \n",
       "3    1.100819  0.348977  0.8  0.900000  1.000000  1.100000  2.055707  \n",
       "\n",
       "[3 rows x 24 columns]"
      ]
     },
     "execution_count": 20,
     "metadata": {},
     "output_type": "execute_result"
    }
   ],
   "source": [
    "customerData.groupby(groupKey).describe()"
   ]
  },
  {
   "cell_type": "code",
   "execution_count": null,
   "id": "9d3e52ee-388e-47ca-8925-25866bcb9ac0",
   "metadata": {},
   "outputs": [],
   "source": [
    "# groupby로 묶은 그룹의 데이터 개수, 평균값, 표준편차, 최소/최대값, 사분위값을 보여준다."
   ]
  },
  {
   "cell_type": "code",
   "execution_count": 21,
   "id": "3c76567f-2539-42f6-9da9-a4d7ab988652",
   "metadata": {},
   "outputs": [
    {
     "data": {
      "text/html": [
       "<div>\n",
       "<style scoped>\n",
       "    .dataframe tbody tr th:only-of-type {\n",
       "        vertical-align: middle;\n",
       "    }\n",
       "\n",
       "    .dataframe tbody tr th {\n",
       "        vertical-align: top;\n",
       "    }\n",
       "\n",
       "    .dataframe thead th {\n",
       "        text-align: right;\n",
       "    }\n",
       "</style>\n",
       "<table border=\"1\" class=\"dataframe\">\n",
       "  <thead>\n",
       "    <tr style=\"text-align: right;\">\n",
       "      <th></th>\n",
       "      <th>count</th>\n",
       "      <th>mean</th>\n",
       "      <th>std</th>\n",
       "      <th>min</th>\n",
       "      <th>25%</th>\n",
       "      <th>50%</th>\n",
       "      <th>75%</th>\n",
       "      <th>max</th>\n",
       "    </tr>\n",
       "    <tr>\n",
       "      <th>EMI</th>\n",
       "      <th></th>\n",
       "      <th></th>\n",
       "      <th></th>\n",
       "      <th></th>\n",
       "      <th></th>\n",
       "      <th></th>\n",
       "      <th></th>\n",
       "      <th></th>\n",
       "    </tr>\n",
       "  </thead>\n",
       "  <tbody>\n",
       "    <tr>\n",
       "      <th>1</th>\n",
       "      <td>11.0</td>\n",
       "      <td>3119.031810</td>\n",
       "      <td>301.047916</td>\n",
       "      <td>2390.083736</td>\n",
       "      <td>2978.220215</td>\n",
       "      <td>3159.839204</td>\n",
       "      <td>3363.814315</td>\n",
       "      <td>3419.462596</td>\n",
       "    </tr>\n",
       "    <tr>\n",
       "      <th>2</th>\n",
       "      <td>120.0</td>\n",
       "      <td>3441.429664</td>\n",
       "      <td>349.691674</td>\n",
       "      <td>2411.008838</td>\n",
       "      <td>3231.429242</td>\n",
       "      <td>3418.480121</td>\n",
       "      <td>3656.799297</td>\n",
       "      <td>4166.533130</td>\n",
       "    </tr>\n",
       "    <tr>\n",
       "      <th>3</th>\n",
       "      <td>19.0</td>\n",
       "      <td>3559.487188</td>\n",
       "      <td>454.411870</td>\n",
       "      <td>2811.265932</td>\n",
       "      <td>3219.363531</td>\n",
       "      <td>3592.353540</td>\n",
       "      <td>3867.447366</td>\n",
       "      <td>4296.873743</td>\n",
       "    </tr>\n",
       "  </tbody>\n",
       "</table>\n",
       "</div>"
      ],
      "text/plain": [
       "     count         mean         std          min          25%          50%  \\\n",
       "EMI                                                                          \n",
       "1     11.0  3119.031810  301.047916  2390.083736  2978.220215  3159.839204   \n",
       "2    120.0  3441.429664  349.691674  2411.008838  3231.429242  3418.480121   \n",
       "3     19.0  3559.487188  454.411870  2811.265932  3219.363531  3592.353540   \n",
       "\n",
       "             75%          max  \n",
       "EMI                            \n",
       "1    3363.814315  3419.462596  \n",
       "2    3656.799297  4166.533130  \n",
       "3    3867.447366  4296.873743  "
      ]
     },
     "execution_count": 21,
     "metadata": {},
     "output_type": "execute_result"
    }
   ],
   "source": [
    "customerData.groupby(groupKey)[\"AVGPRICE\"].describe()"
   ]
  },
  {
   "cell_type": "code",
   "execution_count": null,
   "id": "4716b8cb-7e70-4876-b3c9-d98256384401",
   "metadata": {},
   "outputs": [],
   "source": [
    "# 위의 describe()에서는 대상 그룹의 모든 데이터를 대상으로 통계값을 출력하였고,\n",
    "# 아래 describe()에서는 \"AVGPRICE\" 데이터만을 대상으로 통계값을 출력하였다."
   ]
  },
  {
   "cell_type": "code",
   "execution_count": null,
   "id": "42d99436-8f0a-417c-8a26-bd881b42fe8e",
   "metadata": {},
   "outputs": [],
   "source": [
    "# rolling 함수는 양옆으로 참조할 데이터가 구간 사이즈에 미달할 경우 null 값을 배출한다."
   ]
  },
  {
   "cell_type": "code",
   "execution_count": null,
   "id": "8172f09b-2db2-4c3d-8dd5-4f51e973fac4",
   "metadata": {},
   "outputs": [],
   "source": []
  },
  {
   "cell_type": "code",
   "execution_count": 23,
   "id": "623fdae9-6374-48de-9882-fc87ab201123",
   "metadata": {},
   "outputs": [],
   "source": [
    "selloutData = pd.read_csv(\"../../../stdcode6/dataset/kopo_channel_seasonality_new.csv\")"
   ]
  },
  {
   "cell_type": "code",
   "execution_count": 25,
   "id": "3a96da33-87f7-4743-acb6-19e97aff621b",
   "metadata": {},
   "outputs": [],
   "source": [
    "sortKey = [\"REGIONID\", \"PRODUCT\", \"YEARWEEK\"]"
   ]
  },
  {
   "cell_type": "code",
   "execution_count": 26,
   "id": "5786bfa8-ea62-4936-9c98-8ceb1a6a39e7",
   "metadata": {},
   "outputs": [],
   "source": [
    "sortedData = selloutData.sort_values(by=sortKey)"
   ]
  },
  {
   "cell_type": "code",
   "execution_count": 36,
   "id": "6b336b47-bebc-4055-83ad-e258feb5b383",
   "metadata": {},
   "outputs": [
    {
     "data": {
      "text/html": [
       "<div>\n",
       "<style scoped>\n",
       "    .dataframe tbody tr th:only-of-type {\n",
       "        vertical-align: middle;\n",
       "    }\n",
       "\n",
       "    .dataframe tbody tr th {\n",
       "        vertical-align: top;\n",
       "    }\n",
       "\n",
       "    .dataframe thead th {\n",
       "        text-align: right;\n",
       "    }\n",
       "</style>\n",
       "<table border=\"1\" class=\"dataframe\">\n",
       "  <thead>\n",
       "    <tr style=\"text-align: right;\">\n",
       "      <th></th>\n",
       "      <th>REGIONID</th>\n",
       "      <th>PRODUCT</th>\n",
       "      <th>YEARWEEK</th>\n",
       "      <th>QTY</th>\n",
       "    </tr>\n",
       "  </thead>\n",
       "  <tbody>\n",
       "    <tr>\n",
       "      <th>298</th>\n",
       "      <td>A00</td>\n",
       "      <td>PRODUCT34</td>\n",
       "      <td>201401</td>\n",
       "      <td>661.0</td>\n",
       "    </tr>\n",
       "    <tr>\n",
       "      <th>1757</th>\n",
       "      <td>A00</td>\n",
       "      <td>PRODUCT34</td>\n",
       "      <td>201402</td>\n",
       "      <td>679.0</td>\n",
       "    </tr>\n",
       "    <tr>\n",
       "      <th>3125</th>\n",
       "      <td>A00</td>\n",
       "      <td>PRODUCT34</td>\n",
       "      <td>201403</td>\n",
       "      <td>578.0</td>\n",
       "    </tr>\n",
       "    <tr>\n",
       "      <th>205</th>\n",
       "      <td>A00</td>\n",
       "      <td>PRODUCT34</td>\n",
       "      <td>201404</td>\n",
       "      <td>532.0</td>\n",
       "    </tr>\n",
       "    <tr>\n",
       "      <th>4369</th>\n",
       "      <td>A00</td>\n",
       "      <td>PRODUCT34</td>\n",
       "      <td>201405</td>\n",
       "      <td>516.0</td>\n",
       "    </tr>\n",
       "    <tr>\n",
       "      <th>...</th>\n",
       "      <td>...</td>\n",
       "      <td>...</td>\n",
       "      <td>...</td>\n",
       "      <td>...</td>\n",
       "    </tr>\n",
       "    <tr>\n",
       "      <th>102292</th>\n",
       "      <td>A77</td>\n",
       "      <td>PRODUCT12</td>\n",
       "      <td>201648</td>\n",
       "      <td>4152.0</td>\n",
       "    </tr>\n",
       "    <tr>\n",
       "      <th>97525</th>\n",
       "      <td>A77</td>\n",
       "      <td>PRODUCT12</td>\n",
       "      <td>201649</td>\n",
       "      <td>5086.0</td>\n",
       "    </tr>\n",
       "    <tr>\n",
       "      <th>102329</th>\n",
       "      <td>A77</td>\n",
       "      <td>PRODUCT12</td>\n",
       "      <td>201650</td>\n",
       "      <td>5846.0</td>\n",
       "    </tr>\n",
       "    <tr>\n",
       "      <th>101211</th>\n",
       "      <td>A77</td>\n",
       "      <td>PRODUCT12</td>\n",
       "      <td>201651</td>\n",
       "      <td>4933.0</td>\n",
       "    </tr>\n",
       "    <tr>\n",
       "      <th>92325</th>\n",
       "      <td>A77</td>\n",
       "      <td>PRODUCT12</td>\n",
       "      <td>201652</td>\n",
       "      <td>7551.0</td>\n",
       "    </tr>\n",
       "  </tbody>\n",
       "</table>\n",
       "<p>124658 rows × 4 columns</p>\n",
       "</div>"
      ],
      "text/plain": [
       "       REGIONID    PRODUCT  YEARWEEK     QTY\n",
       "298         A00  PRODUCT34    201401   661.0\n",
       "1757        A00  PRODUCT34    201402   679.0\n",
       "3125        A00  PRODUCT34    201403   578.0\n",
       "205         A00  PRODUCT34    201404   532.0\n",
       "4369        A00  PRODUCT34    201405   516.0\n",
       "...         ...        ...       ...     ...\n",
       "102292      A77  PRODUCT12    201648  4152.0\n",
       "97525       A77  PRODUCT12    201649  5086.0\n",
       "102329      A77  PRODUCT12    201650  5846.0\n",
       "101211      A77  PRODUCT12    201651  4933.0\n",
       "92325       A77  PRODUCT12    201652  7551.0\n",
       "\n",
       "[124658 rows x 4 columns]"
      ]
     },
     "execution_count": 36,
     "metadata": {},
     "output_type": "execute_result"
    }
   ],
   "source": [
    "sortedData"
   ]
  },
  {
   "cell_type": "code",
   "execution_count": 29,
   "id": "ae4f7a00-df7e-4a52-8db1-2fd9aa05c87c",
   "metadata": {},
   "outputs": [
    {
     "data": {
      "text/plain": [
       "298          NaN\n",
       "1757         NaN\n",
       "3125       593.2\n",
       "205        545.6\n",
       "4369       491.2\n",
       "           ...  \n",
       "102292    4582.6\n",
       "97525     4718.2\n",
       "102329    5513.6\n",
       "101211       NaN\n",
       "92325        NaN\n",
       "Name: QTY, Length: 124658, dtype: float64"
      ]
     },
     "execution_count": 29,
     "metadata": {},
     "output_type": "execute_result"
    }
   ],
   "source": [
    "sortedData[\"QTY\"].rolling(window=5, center=True).mean()"
   ]
  },
  {
   "cell_type": "code",
   "execution_count": null,
   "id": "8268cd31-e78b-4667-addd-c7f026499bf2",
   "metadata": {},
   "outputs": [],
   "source": [
    "# 위 rolling은 NaN 값을 뱉는다. 구간 사이즈(window)에 미달하는 참조 데이터 개수가 존재하므로."
   ]
  },
  {
   "cell_type": "code",
   "execution_count": 37,
   "id": "1354195f-1ce6-4eff-acde-227ffb705186",
   "metadata": {},
   "outputs": [],
   "source": [
    "sortedData[\"MA5\"] = sortedData[\"QTY\"].rolling(window=5, center=True, min_periods=3).mean()"
   ]
  },
  {
   "cell_type": "code",
   "execution_count": 38,
   "id": "ad601812-59d9-489d-beab-4cb8b5b9f3cd",
   "metadata": {},
   "outputs": [
    {
     "data": {
      "text/plain": [
       "298        639.333333\n",
       "1757       612.500000\n",
       "3125       593.200000\n",
       "205        545.600000\n",
       "4369       491.200000\n",
       "             ...     \n",
       "102292    4582.600000\n",
       "97525     4718.200000\n",
       "102329    5513.600000\n",
       "101211    5854.000000\n",
       "92325     6110.000000\n",
       "Name: MA5, Length: 124658, dtype: float64"
      ]
     },
     "execution_count": 38,
     "metadata": {},
     "output_type": "execute_result"
    }
   ],
   "source": [
    "sortedData.MA5"
   ]
  },
  {
   "cell_type": "code",
   "execution_count": 39,
   "id": "247c7198-905d-49ee-bd3a-237be9333485",
   "metadata": {},
   "outputs": [],
   "source": [
    "sortedData[\"SEASONALITY\"] = sortedData[\"QTY\"] / sortedData[\"MA5\"]"
   ]
  },
  {
   "cell_type": "code",
   "execution_count": 40,
   "id": "2f50313f-c8d9-4c3c-9b7a-33ff56abb945",
   "metadata": {},
   "outputs": [
    {
     "data": {
      "text/plain": [
       "298       1.033889\n",
       "1757      1.108571\n",
       "3125      0.974376\n",
       "205       0.975073\n",
       "4369      1.050489\n",
       "            ...   \n",
       "102292    0.906036\n",
       "97525     1.077953\n",
       "102329    1.060287\n",
       "101211    0.842672\n",
       "92325     1.235843\n",
       "Name: SEASONALITY, Length: 124658, dtype: float64"
      ]
     },
     "execution_count": 40,
     "metadata": {},
     "output_type": "execute_result"
    }
   ],
   "source": [
    "sortedData.SEASONALITY"
   ]
  },
  {
   "cell_type": "code",
   "execution_count": null,
   "id": "59ffc1a0-677c-4efc-ad47-86d7f35a772b",
   "metadata": {},
   "outputs": [],
   "source": [
    "# seasonality : 계절성 지수"
   ]
  },
  {
   "cell_type": "code",
   "execution_count": null,
   "id": "edbc91f3-ada6-42f9-bec3-6749bd080023",
   "metadata": {},
   "outputs": [],
   "source": [
    "sortedData[\"SEASONALITY_1\"]"
   ]
  }
 ],
 "metadata": {
  "kernelspec": {
   "display_name": "Python 3 (ipykernel)",
   "language": "python",
   "name": "python3"
  },
  "language_info": {
   "codemirror_mode": {
    "name": "ipython",
    "version": 3
   },
   "file_extension": ".py",
   "mimetype": "text/x-python",
   "name": "python",
   "nbconvert_exporter": "python",
   "pygments_lexer": "ipython3",
   "version": "3.9.13"
  }
 },
 "nbformat": 4,
 "nbformat_minor": 5
}
