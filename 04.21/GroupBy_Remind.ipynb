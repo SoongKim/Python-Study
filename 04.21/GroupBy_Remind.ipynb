{
 "cells": [
  {
   "cell_type": "code",
   "execution_count": 11,
   "id": "08714226-d33b-4409-ae07-41ef2d5647ef",
   "metadata": {},
   "outputs": [],
   "source": [
    "import pandas as pd"
   ]
  },
  {
   "cell_type": "code",
   "execution_count": 19,
   "id": "4a71699b-7d6b-4bb0-b18e-fbcce998632c",
   "metadata": {},
   "outputs": [],
   "source": [
    "row1 =  [ \"남성\", \"김효관\", \"42\", \"서울\", 80]\n",
    "row2 =  [ \"여성\", \"안민정\", \"40\", \"창원\", 75]\n",
    "row3 =  [ \"남성\", \"김어진\", \"10\", \"서울\", 65]\n",
    "row4 =  [ \"남성\", \"이종수\", \"42\", \"경기도\", 95]\n",
    "row5 =  [ \"여성\", \"이지슬\", \"26\", \"경기도\", 70]"
   ]
  },
  {
   "cell_type": "code",
   "execution_count": 20,
   "id": "12d49b48-1dc1-4ab5-b1a5-953fd717b649",
   "metadata": {},
   "outputs": [],
   "source": [
    "indata = pd.DataFrame([row1, row2, row3, row4, row5])"
   ]
  },
  {
   "cell_type": "code",
   "execution_count": 21,
   "id": "590e15dd-bfcd-44c6-aa61-e6e9dab419df",
   "metadata": {},
   "outputs": [],
   "source": [
    "indata.columns = [\"성별\", \"이름\", \"나이\", \"거주지\", \"포인트\"]"
   ]
  },
  {
   "cell_type": "code",
   "execution_count": 24,
   "id": "63d4ed12-c8fd-4e95-89ad-c4fa1972fce2",
   "metadata": {},
   "outputs": [
    {
     "data": {
      "text/html": [
       "<div>\n",
       "<style scoped>\n",
       "    .dataframe tbody tr th:only-of-type {\n",
       "        vertical-align: middle;\n",
       "    }\n",
       "\n",
       "    .dataframe tbody tr th {\n",
       "        vertical-align: top;\n",
       "    }\n",
       "\n",
       "    .dataframe thead th {\n",
       "        text-align: right;\n",
       "    }\n",
       "</style>\n",
       "<table border=\"1\" class=\"dataframe\">\n",
       "  <thead>\n",
       "    <tr style=\"text-align: right;\">\n",
       "      <th></th>\n",
       "      <th>성별</th>\n",
       "      <th>이름</th>\n",
       "      <th>나이</th>\n",
       "      <th>거주지</th>\n",
       "      <th>포인트</th>\n",
       "    </tr>\n",
       "  </thead>\n",
       "  <tbody>\n",
       "    <tr>\n",
       "      <th>0</th>\n",
       "      <td>남성</td>\n",
       "      <td>김효관</td>\n",
       "      <td>42</td>\n",
       "      <td>서울</td>\n",
       "      <td>80</td>\n",
       "    </tr>\n",
       "    <tr>\n",
       "      <th>1</th>\n",
       "      <td>여성</td>\n",
       "      <td>안민정</td>\n",
       "      <td>40</td>\n",
       "      <td>창원</td>\n",
       "      <td>75</td>\n",
       "    </tr>\n",
       "    <tr>\n",
       "      <th>2</th>\n",
       "      <td>남성</td>\n",
       "      <td>김어진</td>\n",
       "      <td>10</td>\n",
       "      <td>서울</td>\n",
       "      <td>65</td>\n",
       "    </tr>\n",
       "    <tr>\n",
       "      <th>3</th>\n",
       "      <td>남성</td>\n",
       "      <td>이종수</td>\n",
       "      <td>42</td>\n",
       "      <td>경기도</td>\n",
       "      <td>95</td>\n",
       "    </tr>\n",
       "    <tr>\n",
       "      <th>4</th>\n",
       "      <td>여성</td>\n",
       "      <td>이지슬</td>\n",
       "      <td>26</td>\n",
       "      <td>경기도</td>\n",
       "      <td>70</td>\n",
       "    </tr>\n",
       "  </tbody>\n",
       "</table>\n",
       "</div>"
      ],
      "text/plain": [
       "   성별   이름  나이  거주지  포인트\n",
       "0  남성  김효관  42   서울   80\n",
       "1  여성  안민정  40   창원   75\n",
       "2  남성  김어진  10   서울   65\n",
       "3  남성  이종수  42  경기도   95\n",
       "4  여성  이지슬  26  경기도   70"
      ]
     },
     "execution_count": 24,
     "metadata": {},
     "output_type": "execute_result"
    }
   ],
   "source": [
    "indata"
   ]
  },
  {
   "cell_type": "code",
   "execution_count": 25,
   "id": "b574ed75-40e3-4591-970c-c4ab2e2fe8e7",
   "metadata": {},
   "outputs": [
    {
     "data": {
      "text/plain": [
       "성별     object\n",
       "이름     object\n",
       "나이     object\n",
       "거주지    object\n",
       "포인트     int64\n",
       "dtype: object"
      ]
     },
     "execution_count": 25,
     "metadata": {},
     "output_type": "execute_result"
    }
   ],
   "source": [
    "indata.dtypes"
   ]
  },
  {
   "cell_type": "code",
   "execution_count": null,
   "id": "c3f929f8-b4f3-4e44-992f-c2ba7c8fd18c",
   "metadata": {},
   "outputs": [],
   "source": [
    "### 성별 해피포인트 평균"
   ]
  },
  {
   "cell_type": "code",
   "execution_count": 26,
   "id": "ce5863e7-aac7-459c-ad02-e6cf6149ce1d",
   "metadata": {},
   "outputs": [],
   "source": [
    "import numpy as np"
   ]
  },
  {
   "cell_type": "code",
   "execution_count": null,
   "id": "633971cd-6d53-4441-9a36-7b58a1e607be",
   "metadata": {},
   "outputs": [],
   "source": [
    "### 그룹 키를 성별로 잡고, 해피포인트를 대상으로 집계 함수를 사용한다.\n",
    "### 사용할 집계 함수로 mean을 사용한다."
   ]
  },
  {
   "cell_type": "code",
   "execution_count": 37,
   "id": "45ac778b-830c-4b53-834e-95fb6330b6ee",
   "metadata": {},
   "outputs": [],
   "source": [
    "groupKey = [\"성별\"]"
   ]
  },
  {
   "cell_type": "code",
   "execution_count": 38,
   "id": "5cd9d40e-f84a-4b79-b3ca-21036ac6f801",
   "metadata": {},
   "outputs": [],
   "source": [
    "genderPointMean = indata.groupby(by=groupKey)[\"포인트\"].agg([\"mean\"])"
   ]
  },
  {
   "cell_type": "code",
   "execution_count": 39,
   "id": "dfc26e5b-9983-415c-8468-953fdd86bcce",
   "metadata": {},
   "outputs": [
    {
     "data": {
      "text/html": [
       "<div>\n",
       "<style scoped>\n",
       "    .dataframe tbody tr th:only-of-type {\n",
       "        vertical-align: middle;\n",
       "    }\n",
       "\n",
       "    .dataframe tbody tr th {\n",
       "        vertical-align: top;\n",
       "    }\n",
       "\n",
       "    .dataframe thead th {\n",
       "        text-align: right;\n",
       "    }\n",
       "</style>\n",
       "<table border=\"1\" class=\"dataframe\">\n",
       "  <thead>\n",
       "    <tr style=\"text-align: right;\">\n",
       "      <th></th>\n",
       "      <th>mean</th>\n",
       "    </tr>\n",
       "    <tr>\n",
       "      <th>성별</th>\n",
       "      <th></th>\n",
       "    </tr>\n",
       "  </thead>\n",
       "  <tbody>\n",
       "    <tr>\n",
       "      <th>남성</th>\n",
       "      <td>80.0</td>\n",
       "    </tr>\n",
       "    <tr>\n",
       "      <th>여성</th>\n",
       "      <td>72.5</td>\n",
       "    </tr>\n",
       "  </tbody>\n",
       "</table>\n",
       "</div>"
      ],
      "text/plain": [
       "    mean\n",
       "성별      \n",
       "남성  80.0\n",
       "여성  72.5"
      ]
     },
     "execution_count": 39,
     "metadata": {},
     "output_type": "execute_result"
    }
   ],
   "source": [
    "genderPointMean"
   ]
  },
  {
   "cell_type": "code",
   "execution_count": 40,
   "id": "fd93d60c-ba1f-4921-aa8b-9297be00be33",
   "metadata": {},
   "outputs": [],
   "source": [
    "groupKeys = [\"성별\", \"거주지\"]"
   ]
  },
  {
   "cell_type": "code",
   "execution_count": 48,
   "id": "456ff43b-686a-417f-8fc9-daa9654b3eb3",
   "metadata": {},
   "outputs": [],
   "source": [
    "genRegPmeans = indata.groupby(by=groupKeys)[\"포인트\"].agg([\"mean\"])"
   ]
  },
  {
   "cell_type": "code",
   "execution_count": 49,
   "id": "d287e064-a534-4e02-9f31-7f82f299ae40",
   "metadata": {},
   "outputs": [
    {
     "data": {
      "text/html": [
       "<div>\n",
       "<style scoped>\n",
       "    .dataframe tbody tr th:only-of-type {\n",
       "        vertical-align: middle;\n",
       "    }\n",
       "\n",
       "    .dataframe tbody tr th {\n",
       "        vertical-align: top;\n",
       "    }\n",
       "\n",
       "    .dataframe thead th {\n",
       "        text-align: right;\n",
       "    }\n",
       "</style>\n",
       "<table border=\"1\" class=\"dataframe\">\n",
       "  <thead>\n",
       "    <tr style=\"text-align: right;\">\n",
       "      <th></th>\n",
       "      <th></th>\n",
       "      <th>mean</th>\n",
       "    </tr>\n",
       "    <tr>\n",
       "      <th>성별</th>\n",
       "      <th>거주지</th>\n",
       "      <th></th>\n",
       "    </tr>\n",
       "  </thead>\n",
       "  <tbody>\n",
       "    <tr>\n",
       "      <th rowspan=\"2\" valign=\"top\">남성</th>\n",
       "      <th>경기도</th>\n",
       "      <td>95.0</td>\n",
       "    </tr>\n",
       "    <tr>\n",
       "      <th>서울</th>\n",
       "      <td>72.5</td>\n",
       "    </tr>\n",
       "    <tr>\n",
       "      <th rowspan=\"2\" valign=\"top\">여성</th>\n",
       "      <th>경기도</th>\n",
       "      <td>70.0</td>\n",
       "    </tr>\n",
       "    <tr>\n",
       "      <th>창원</th>\n",
       "      <td>75.0</td>\n",
       "    </tr>\n",
       "  </tbody>\n",
       "</table>\n",
       "</div>"
      ],
      "text/plain": [
       "        mean\n",
       "성별 거주지      \n",
       "남성 경기도  95.0\n",
       "   서울   72.5\n",
       "여성 경기도  70.0\n",
       "   창원   75.0"
      ]
     },
     "execution_count": 49,
     "metadata": {},
     "output_type": "execute_result"
    }
   ],
   "source": [
    "genRegPmeans"
   ]
  },
  {
   "cell_type": "code",
   "execution_count": 55,
   "id": "3ed04d3b-9b54-4562-aabe-2ee941d1044e",
   "metadata": {},
   "outputs": [],
   "source": [
    "indata2 = pd.read_csv(\"../../../stdcode6/dataset/kopo_channel_seasonality_new.csv\")"
   ]
  },
  {
   "cell_type": "code",
   "execution_count": 56,
   "id": "24b2678a-3f5b-4696-ba4a-5b09901d940a",
   "metadata": {},
   "outputs": [
    {
     "data": {
      "text/html": [
       "<div>\n",
       "<style scoped>\n",
       "    .dataframe tbody tr th:only-of-type {\n",
       "        vertical-align: middle;\n",
       "    }\n",
       "\n",
       "    .dataframe tbody tr th {\n",
       "        vertical-align: top;\n",
       "    }\n",
       "\n",
       "    .dataframe thead th {\n",
       "        text-align: right;\n",
       "    }\n",
       "</style>\n",
       "<table border=\"1\" class=\"dataframe\">\n",
       "  <thead>\n",
       "    <tr style=\"text-align: right;\">\n",
       "      <th></th>\n",
       "      <th>REGIONID</th>\n",
       "      <th>PRODUCT</th>\n",
       "      <th>YEARWEEK</th>\n",
       "      <th>QTY</th>\n",
       "    </tr>\n",
       "  </thead>\n",
       "  <tbody>\n",
       "    <tr>\n",
       "      <th>0</th>\n",
       "      <td>A60</td>\n",
       "      <td>PRODUCT4</td>\n",
       "      <td>201402</td>\n",
       "      <td>71.0</td>\n",
       "    </tr>\n",
       "    <tr>\n",
       "      <th>1</th>\n",
       "      <td>A60</td>\n",
       "      <td>PRODUCT59</td>\n",
       "      <td>201402</td>\n",
       "      <td>22275.0</td>\n",
       "    </tr>\n",
       "    <tr>\n",
       "      <th>2</th>\n",
       "      <td>A60</td>\n",
       "      <td>PRODUCT34</td>\n",
       "      <td>201402</td>\n",
       "      <td>4463.0</td>\n",
       "    </tr>\n",
       "    <tr>\n",
       "      <th>3</th>\n",
       "      <td>A60</td>\n",
       "      <td>PRODUCT47</td>\n",
       "      <td>201402</td>\n",
       "      <td>0.0</td>\n",
       "    </tr>\n",
       "    <tr>\n",
       "      <th>4</th>\n",
       "      <td>A60</td>\n",
       "      <td>PRODUCT56</td>\n",
       "      <td>201402</td>\n",
       "      <td>23.0</td>\n",
       "    </tr>\n",
       "  </tbody>\n",
       "</table>\n",
       "</div>"
      ],
      "text/plain": [
       "  REGIONID    PRODUCT  YEARWEEK      QTY\n",
       "0      A60   PRODUCT4    201402     71.0\n",
       "1      A60  PRODUCT59    201402  22275.0\n",
       "2      A60  PRODUCT34    201402   4463.0\n",
       "3      A60  PRODUCT47    201402      0.0\n",
       "4      A60  PRODUCT56    201402     23.0"
      ]
     },
     "execution_count": 56,
     "metadata": {},
     "output_type": "execute_result"
    }
   ],
   "source": [
    "indata2.head()"
   ]
  },
  {
   "cell_type": "code",
   "execution_count": 61,
   "id": "56244966-3c3a-4263-8628-6424760d1d0f",
   "metadata": {},
   "outputs": [],
   "source": [
    "indata2[\"YEAR\"] = indata2.YEARWEEK.astype(str).str[0:4]"
   ]
  },
  {
   "cell_type": "code",
   "execution_count": 72,
   "id": "117a7f7e-4217-46e9-b6c6-da8c8d99997e",
   "metadata": {},
   "outputs": [
    {
     "data": {
      "text/html": [
       "<div>\n",
       "<style scoped>\n",
       "    .dataframe tbody tr th:only-of-type {\n",
       "        vertical-align: middle;\n",
       "    }\n",
       "\n",
       "    .dataframe tbody tr th {\n",
       "        vertical-align: top;\n",
       "    }\n",
       "\n",
       "    .dataframe thead th {\n",
       "        text-align: right;\n",
       "    }\n",
       "</style>\n",
       "<table border=\"1\" class=\"dataframe\">\n",
       "  <thead>\n",
       "    <tr style=\"text-align: right;\">\n",
       "      <th></th>\n",
       "      <th>REGIONID</th>\n",
       "      <th>PRODUCT</th>\n",
       "      <th>YEARWEEK</th>\n",
       "      <th>QTY</th>\n",
       "      <th>YEAR</th>\n",
       "    </tr>\n",
       "  </thead>\n",
       "  <tbody>\n",
       "    <tr>\n",
       "      <th>0</th>\n",
       "      <td>A60</td>\n",
       "      <td>PRODUCT4</td>\n",
       "      <td>201402</td>\n",
       "      <td>71.0</td>\n",
       "      <td>2014</td>\n",
       "    </tr>\n",
       "    <tr>\n",
       "      <th>1</th>\n",
       "      <td>A60</td>\n",
       "      <td>PRODUCT59</td>\n",
       "      <td>201402</td>\n",
       "      <td>22275.0</td>\n",
       "      <td>2014</td>\n",
       "    </tr>\n",
       "    <tr>\n",
       "      <th>2</th>\n",
       "      <td>A60</td>\n",
       "      <td>PRODUCT34</td>\n",
       "      <td>201402</td>\n",
       "      <td>4463.0</td>\n",
       "      <td>2014</td>\n",
       "    </tr>\n",
       "    <tr>\n",
       "      <th>3</th>\n",
       "      <td>A60</td>\n",
       "      <td>PRODUCT47</td>\n",
       "      <td>201402</td>\n",
       "      <td>0.0</td>\n",
       "      <td>2014</td>\n",
       "    </tr>\n",
       "    <tr>\n",
       "      <th>4</th>\n",
       "      <td>A60</td>\n",
       "      <td>PRODUCT56</td>\n",
       "      <td>201402</td>\n",
       "      <td>23.0</td>\n",
       "      <td>2014</td>\n",
       "    </tr>\n",
       "    <tr>\n",
       "      <th>...</th>\n",
       "      <td>...</td>\n",
       "      <td>...</td>\n",
       "      <td>...</td>\n",
       "      <td>...</td>\n",
       "      <td>...</td>\n",
       "    </tr>\n",
       "    <tr>\n",
       "      <th>124653</th>\n",
       "      <td>A10</td>\n",
       "      <td>PRODUCT60</td>\n",
       "      <td>201630</td>\n",
       "      <td>824.0</td>\n",
       "      <td>2016</td>\n",
       "    </tr>\n",
       "    <tr>\n",
       "      <th>124654</th>\n",
       "      <td>A10</td>\n",
       "      <td>PRODUCT56</td>\n",
       "      <td>201630</td>\n",
       "      <td>275.0</td>\n",
       "      <td>2016</td>\n",
       "    </tr>\n",
       "    <tr>\n",
       "      <th>124655</th>\n",
       "      <td>A10</td>\n",
       "      <td>PRODUCT61</td>\n",
       "      <td>201630</td>\n",
       "      <td>0.0</td>\n",
       "      <td>2016</td>\n",
       "    </tr>\n",
       "    <tr>\n",
       "      <th>124656</th>\n",
       "      <td>A10</td>\n",
       "      <td>PRODUCT12</td>\n",
       "      <td>201630</td>\n",
       "      <td>15021.0</td>\n",
       "      <td>2016</td>\n",
       "    </tr>\n",
       "    <tr>\n",
       "      <th>124657</th>\n",
       "      <td>A10</td>\n",
       "      <td>PRODUCT1</td>\n",
       "      <td>201630</td>\n",
       "      <td>568.0</td>\n",
       "      <td>2016</td>\n",
       "    </tr>\n",
       "  </tbody>\n",
       "</table>\n",
       "<p>124658 rows × 5 columns</p>\n",
       "</div>"
      ],
      "text/plain": [
       "       REGIONID    PRODUCT  YEARWEEK      QTY  YEAR\n",
       "0           A60   PRODUCT4    201402     71.0  2014\n",
       "1           A60  PRODUCT59    201402  22275.0  2014\n",
       "2           A60  PRODUCT34    201402   4463.0  2014\n",
       "3           A60  PRODUCT47    201402      0.0  2014\n",
       "4           A60  PRODUCT56    201402     23.0  2014\n",
       "...         ...        ...       ...      ...   ...\n",
       "124653      A10  PRODUCT60    201630    824.0  2016\n",
       "124654      A10  PRODUCT56    201630    275.0  2016\n",
       "124655      A10  PRODUCT61    201630      0.0  2016\n",
       "124656      A10  PRODUCT12    201630  15021.0  2016\n",
       "124657      A10   PRODUCT1    201630    568.0  2016\n",
       "\n",
       "[124658 rows x 5 columns]"
      ]
     },
     "execution_count": 72,
     "metadata": {},
     "output_type": "execute_result"
    }
   ],
   "source": [
    "indata2"
   ]
  },
  {
   "cell_type": "code",
   "execution_count": 63,
   "id": "c9eba78b-e9bb-4f41-ab40-59b9878d49e3",
   "metadata": {},
   "outputs": [],
   "source": [
    "groupKeyss = [\"YEAR\"]"
   ]
  },
  {
   "cell_type": "code",
   "execution_count": 68,
   "id": "9ce0f056-a80d-4a5d-a740-07b6a7ad3c47",
   "metadata": {},
   "outputs": [
    {
     "data": {
      "text/html": [
       "<div>\n",
       "<style scoped>\n",
       "    .dataframe tbody tr th:only-of-type {\n",
       "        vertical-align: middle;\n",
       "    }\n",
       "\n",
       "    .dataframe tbody tr th {\n",
       "        vertical-align: top;\n",
       "    }\n",
       "\n",
       "    .dataframe thead th {\n",
       "        text-align: right;\n",
       "    }\n",
       "</style>\n",
       "<table border=\"1\" class=\"dataframe\">\n",
       "  <thead>\n",
       "    <tr style=\"text-align: right;\">\n",
       "      <th></th>\n",
       "      <th>mean</th>\n",
       "    </tr>\n",
       "    <tr>\n",
       "      <th>YEAR</th>\n",
       "      <th></th>\n",
       "    </tr>\n",
       "  </thead>\n",
       "  <tbody>\n",
       "    <tr>\n",
       "      <th>2014</th>\n",
       "      <td>6923.716801</td>\n",
       "    </tr>\n",
       "    <tr>\n",
       "      <th>2015</th>\n",
       "      <td>9762.377617</td>\n",
       "    </tr>\n",
       "    <tr>\n",
       "      <th>2016</th>\n",
       "      <td>10146.129069</td>\n",
       "    </tr>\n",
       "  </tbody>\n",
       "</table>\n",
       "</div>"
      ],
      "text/plain": [
       "              mean\n",
       "YEAR              \n",
       "2014   6923.716801\n",
       "2015   9762.377617\n",
       "2016  10146.129069"
      ]
     },
     "execution_count": 68,
     "metadata": {},
     "output_type": "execute_result"
    }
   ],
   "source": [
    "indata2.groupby(groupKeyss)[\"QTY\"].agg([\"mean\"])"
   ]
  },
  {
   "cell_type": "code",
   "execution_count": 71,
   "id": "861bb471-13d7-48a1-b988-c1735b8358f1",
   "metadata": {},
   "outputs": [],
   "source": [
    "groupKey1 = [\"REGIONID\", \"PRODUCT\", \"YEAR\"]"
   ]
  },
  {
   "cell_type": "code",
   "execution_count": 73,
   "id": "b32959a4-eedd-4ae0-8fe5-c1ea2044889d",
   "metadata": {},
   "outputs": [],
   "source": [
    "a60p4Data = indata2.loc[(indata2.REGIONID == \"A60\") &\n",
    "            (indata2.PRODUCT == \"PRODUCT4\")]"
   ]
  },
  {
   "cell_type": "code",
   "execution_count": 75,
   "id": "ae12e35a-3f77-4c5d-bf0b-dd939664bdbd",
   "metadata": {},
   "outputs": [
    {
     "data": {
      "text/plain": [
       "(157, 5)"
      ]
     },
     "execution_count": 75,
     "metadata": {},
     "output_type": "execute_result"
    }
   ],
   "source": [
    "a60p4Data.shape"
   ]
  },
  {
   "cell_type": "code",
   "execution_count": 78,
   "id": "1cb717ef-9c9b-4b67-8b63-ab73974f3de8",
   "metadata": {},
   "outputs": [],
   "source": [
    "a60p4Data2 = a60p4Data.loc[a60p4Data.YEARWEEK.astype(str).str[4:]!=\"53\"]"
   ]
  },
  {
   "cell_type": "code",
   "execution_count": 79,
   "id": "d42cd180-c496-4083-9304-311f8cc5d2f1",
   "metadata": {},
   "outputs": [
    {
     "data": {
      "text/html": [
       "<div>\n",
       "<style scoped>\n",
       "    .dataframe tbody tr th:only-of-type {\n",
       "        vertical-align: middle;\n",
       "    }\n",
       "\n",
       "    .dataframe tbody tr th {\n",
       "        vertical-align: top;\n",
       "    }\n",
       "\n",
       "    .dataframe thead th {\n",
       "        text-align: right;\n",
       "    }\n",
       "</style>\n",
       "<table border=\"1\" class=\"dataframe\">\n",
       "  <thead>\n",
       "    <tr style=\"text-align: right;\">\n",
       "      <th></th>\n",
       "      <th>REGIONID</th>\n",
       "      <th>PRODUCT</th>\n",
       "      <th>YEARWEEK</th>\n",
       "      <th>QTY</th>\n",
       "      <th>YEAR</th>\n",
       "    </tr>\n",
       "  </thead>\n",
       "  <tbody>\n",
       "    <tr>\n",
       "      <th>0</th>\n",
       "      <td>A60</td>\n",
       "      <td>PRODUCT4</td>\n",
       "      <td>201402</td>\n",
       "      <td>71.0</td>\n",
       "      <td>2014</td>\n",
       "    </tr>\n",
       "    <tr>\n",
       "      <th>983</th>\n",
       "      <td>A60</td>\n",
       "      <td>PRODUCT4</td>\n",
       "      <td>201401</td>\n",
       "      <td>16.0</td>\n",
       "      <td>2014</td>\n",
       "    </tr>\n",
       "    <tr>\n",
       "      <th>1457</th>\n",
       "      <td>A60</td>\n",
       "      <td>PRODUCT4</td>\n",
       "      <td>201403</td>\n",
       "      <td>51.0</td>\n",
       "      <td>2014</td>\n",
       "    </tr>\n",
       "    <tr>\n",
       "      <th>2784</th>\n",
       "      <td>A60</td>\n",
       "      <td>PRODUCT4</td>\n",
       "      <td>201406</td>\n",
       "      <td>19.0</td>\n",
       "      <td>2014</td>\n",
       "    </tr>\n",
       "    <tr>\n",
       "      <th>3428</th>\n",
       "      <td>A60</td>\n",
       "      <td>PRODUCT4</td>\n",
       "      <td>201404</td>\n",
       "      <td>21.0</td>\n",
       "      <td>2014</td>\n",
       "    </tr>\n",
       "    <tr>\n",
       "      <th>...</th>\n",
       "      <td>...</td>\n",
       "      <td>...</td>\n",
       "      <td>...</td>\n",
       "      <td>...</td>\n",
       "      <td>...</td>\n",
       "    </tr>\n",
       "    <tr>\n",
       "      <th>120309</th>\n",
       "      <td>A60</td>\n",
       "      <td>PRODUCT4</td>\n",
       "      <td>201640</td>\n",
       "      <td>31.0</td>\n",
       "      <td>2016</td>\n",
       "    </tr>\n",
       "    <tr>\n",
       "      <th>120660</th>\n",
       "      <td>A60</td>\n",
       "      <td>PRODUCT4</td>\n",
       "      <td>201609</td>\n",
       "      <td>45.0</td>\n",
       "      <td>2016</td>\n",
       "    </tr>\n",
       "    <tr>\n",
       "      <th>121454</th>\n",
       "      <td>A60</td>\n",
       "      <td>PRODUCT4</td>\n",
       "      <td>201612</td>\n",
       "      <td>45.0</td>\n",
       "      <td>2016</td>\n",
       "    </tr>\n",
       "    <tr>\n",
       "      <th>121967</th>\n",
       "      <td>A60</td>\n",
       "      <td>PRODUCT4</td>\n",
       "      <td>201629</td>\n",
       "      <td>29.0</td>\n",
       "      <td>2016</td>\n",
       "    </tr>\n",
       "    <tr>\n",
       "      <th>124386</th>\n",
       "      <td>A60</td>\n",
       "      <td>PRODUCT4</td>\n",
       "      <td>201633</td>\n",
       "      <td>22.0</td>\n",
       "      <td>2016</td>\n",
       "    </tr>\n",
       "  </tbody>\n",
       "</table>\n",
       "<p>156 rows × 5 columns</p>\n",
       "</div>"
      ],
      "text/plain": [
       "       REGIONID   PRODUCT  YEARWEEK   QTY  YEAR\n",
       "0           A60  PRODUCT4    201402  71.0  2014\n",
       "983         A60  PRODUCT4    201401  16.0  2014\n",
       "1457        A60  PRODUCT4    201403  51.0  2014\n",
       "2784        A60  PRODUCT4    201406  19.0  2014\n",
       "3428        A60  PRODUCT4    201404  21.0  2014\n",
       "...         ...       ...       ...   ...   ...\n",
       "120309      A60  PRODUCT4    201640  31.0  2016\n",
       "120660      A60  PRODUCT4    201609  45.0  2016\n",
       "121454      A60  PRODUCT4    201612  45.0  2016\n",
       "121967      A60  PRODUCT4    201629  29.0  2016\n",
       "124386      A60  PRODUCT4    201633  22.0  2016\n",
       "\n",
       "[156 rows x 5 columns]"
      ]
     },
     "execution_count": 79,
     "metadata": {},
     "output_type": "execute_result"
    }
   ],
   "source": [
    "a60p4Data2"
   ]
  },
  {
   "cell_type": "code",
   "execution_count": 80,
   "id": "574984ff-e585-46ac-96f4-86af45f0d8dc",
   "metadata": {},
   "outputs": [
    {
     "data": {
      "text/plain": [
       "(156, 5)"
      ]
     },
     "execution_count": 80,
     "metadata": {},
     "output_type": "execute_result"
    }
   ],
   "source": [
    "a60p4Data2.shape"
   ]
  },
  {
   "cell_type": "code",
   "execution_count": 84,
   "id": "c4baefe9-5101-421e-bc00-e94926ae02d5",
   "metadata": {},
   "outputs": [],
   "source": [
    "a60p4Data3 = a60p4Data2.groupby([\"REGIONID\", \"YEARWEEK\"])[\"QTY\"].agg([\"mean\"]).reset_index()"
   ]
  },
  {
   "cell_type": "code",
   "execution_count": 85,
   "id": "acc0c858-658a-4bb9-923b-866f4b625871",
   "metadata": {},
   "outputs": [
    {
     "data": {
      "text/html": [
       "<div>\n",
       "<style scoped>\n",
       "    .dataframe tbody tr th:only-of-type {\n",
       "        vertical-align: middle;\n",
       "    }\n",
       "\n",
       "    .dataframe tbody tr th {\n",
       "        vertical-align: top;\n",
       "    }\n",
       "\n",
       "    .dataframe thead th {\n",
       "        text-align: right;\n",
       "    }\n",
       "</style>\n",
       "<table border=\"1\" class=\"dataframe\">\n",
       "  <thead>\n",
       "    <tr style=\"text-align: right;\">\n",
       "      <th></th>\n",
       "      <th>REGIONID</th>\n",
       "      <th>YEARWEEK</th>\n",
       "      <th>mean</th>\n",
       "    </tr>\n",
       "  </thead>\n",
       "  <tbody>\n",
       "    <tr>\n",
       "      <th>0</th>\n",
       "      <td>A60</td>\n",
       "      <td>201401</td>\n",
       "      <td>16.0</td>\n",
       "    </tr>\n",
       "    <tr>\n",
       "      <th>1</th>\n",
       "      <td>A60</td>\n",
       "      <td>201402</td>\n",
       "      <td>71.0</td>\n",
       "    </tr>\n",
       "    <tr>\n",
       "      <th>2</th>\n",
       "      <td>A60</td>\n",
       "      <td>201403</td>\n",
       "      <td>51.0</td>\n",
       "    </tr>\n",
       "    <tr>\n",
       "      <th>3</th>\n",
       "      <td>A60</td>\n",
       "      <td>201404</td>\n",
       "      <td>21.0</td>\n",
       "    </tr>\n",
       "    <tr>\n",
       "      <th>4</th>\n",
       "      <td>A60</td>\n",
       "      <td>201405</td>\n",
       "      <td>18.0</td>\n",
       "    </tr>\n",
       "    <tr>\n",
       "      <th>...</th>\n",
       "      <td>...</td>\n",
       "      <td>...</td>\n",
       "      <td>...</td>\n",
       "    </tr>\n",
       "    <tr>\n",
       "      <th>151</th>\n",
       "      <td>A60</td>\n",
       "      <td>201648</td>\n",
       "      <td>19.0</td>\n",
       "    </tr>\n",
       "    <tr>\n",
       "      <th>152</th>\n",
       "      <td>A60</td>\n",
       "      <td>201649</td>\n",
       "      <td>11.0</td>\n",
       "    </tr>\n",
       "    <tr>\n",
       "      <th>153</th>\n",
       "      <td>A60</td>\n",
       "      <td>201650</td>\n",
       "      <td>11.0</td>\n",
       "    </tr>\n",
       "    <tr>\n",
       "      <th>154</th>\n",
       "      <td>A60</td>\n",
       "      <td>201651</td>\n",
       "      <td>15.0</td>\n",
       "    </tr>\n",
       "    <tr>\n",
       "      <th>155</th>\n",
       "      <td>A60</td>\n",
       "      <td>201652</td>\n",
       "      <td>12.0</td>\n",
       "    </tr>\n",
       "  </tbody>\n",
       "</table>\n",
       "<p>156 rows × 3 columns</p>\n",
       "</div>"
      ],
      "text/plain": [
       "    REGIONID  YEARWEEK  mean\n",
       "0        A60    201401  16.0\n",
       "1        A60    201402  71.0\n",
       "2        A60    201403  51.0\n",
       "3        A60    201404  21.0\n",
       "4        A60    201405  18.0\n",
       "..       ...       ...   ...\n",
       "151      A60    201648  19.0\n",
       "152      A60    201649  11.0\n",
       "153      A60    201650  11.0\n",
       "154      A60    201651  15.0\n",
       "155      A60    201652  12.0\n",
       "\n",
       "[156 rows x 3 columns]"
      ]
     },
     "execution_count": 85,
     "metadata": {},
     "output_type": "execute_result"
    }
   ],
   "source": [
    "a60p4Data3"
   ]
  },
  {
   "cell_type": "code",
   "execution_count": null,
   "id": "f5a1acae-7840-439c-a880-b1b3b7c43a21",
   "metadata": {},
   "outputs": [],
   "source": [
    "## 그룹바이 열심히 하자"
   ]
  },
  {
   "cell_type": "code",
   "execution_count": null,
   "id": "7b020603-c2e5-4740-b314-fea43dd699d2",
   "metadata": {},
   "outputs": [],
   "source": [
    "## Python, DB 열심히 공부하자"
   ]
  },
  {
   "cell_type": "code",
   "execution_count": null,
   "id": "d6ab1382-4d05-43ba-8851-df8e73eb268f",
   "metadata": {},
   "outputs": [],
   "source": []
  },
  {
   "cell_type": "code",
   "execution_count": null,
   "id": "20940600-6761-4ca3-b9fb-7c21457d6feb",
   "metadata": {},
   "outputs": [],
   "source": []
  },
  {
   "cell_type": "code",
   "execution_count": null,
   "id": "d60ed505-6d7d-4bf9-9f60-78c7c81f05a3",
   "metadata": {},
   "outputs": [],
   "source": []
  },
  {
   "cell_type": "code",
   "execution_count": null,
   "id": "0ef31fcd-57c2-4be3-a81a-6d557489a71c",
   "metadata": {},
   "outputs": [],
   "source": []
  }
 ],
 "metadata": {
  "kernelspec": {
   "display_name": "Python 3 (ipykernel)",
   "language": "python",
   "name": "python3"
  },
  "language_info": {
   "codemirror_mode": {
    "name": "ipython",
    "version": 3
   },
   "file_extension": ".py",
   "mimetype": "text/x-python",
   "name": "python",
   "nbconvert_exporter": "python",
   "pygments_lexer": "ipython3",
   "version": "3.9.13"
  }
 },
 "nbformat": 4,
 "nbformat_minor": 5
}
