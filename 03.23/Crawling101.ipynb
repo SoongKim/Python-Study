{
 "cells": [
  {
   "cell_type": "code",
   "execution_count": null,
   "id": "ee70cfec-0c9b-4595-85f3-4a16bdcb86ba",
   "metadata": {},
   "outputs": [],
   "source": [
    "import pandas as pd"
   ]
  },
  {
   "cell_type": "code",
   "execution_count": null,
   "id": "d43e0313-2df7-4fa5-81ac-41abaa7fe549",
   "metadata": {},
   "outputs": [],
   "source": [
    "colList1 = [\"김효관\", \"김어진\", \"안민정\"]\n",
    "colList2 = [41, 10, 39]"
   ]
  },
  {
   "cell_type": "code",
   "execution_count": null,
   "id": "8dd945c2-ed96-475a-bac8-1322278318bb",
   "metadata": {},
   "outputs": [],
   "source": [
    "df1 = pd.DataFrame(zip(colList1, colList2))"
   ]
  },
  {
   "cell_type": "code",
   "execution_count": null,
   "id": "4ddc0b8c-adf0-4cd1-8ff9-d3d10d1cec66",
   "metadata": {},
   "outputs": [
    {
     "data": {
      "text/html": [
       "<div>\n",
       "<style scoped>\n",
       "    .dataframe tbody tr th:only-of-type {\n",
       "        vertical-align: middle;\n",
       "    }\n",
       "\n",
       "    .dataframe tbody tr th {\n",
       "        vertical-align: top;\n",
       "    }\n",
       "\n",
       "    .dataframe thead th {\n",
       "        text-align: right;\n",
       "    }\n",
       "</style>\n",
       "<table border=\"1\" class=\"dataframe\">\n",
       "  <thead>\n",
       "    <tr style=\"text-align: right;\">\n",
       "      <th></th>\n",
       "      <th>0</th>\n",
       "      <th>1</th>\n",
       "    </tr>\n",
       "  </thead>\n",
       "  <tbody>\n",
       "    <tr>\n",
       "      <th>0</th>\n",
       "      <td>김효관</td>\n",
       "      <td>41</td>\n",
       "    </tr>\n",
       "    <tr>\n",
       "      <th>1</th>\n",
       "      <td>김어진</td>\n",
       "      <td>10</td>\n",
       "    </tr>\n",
       "    <tr>\n",
       "      <th>2</th>\n",
       "      <td>안민정</td>\n",
       "      <td>39</td>\n",
       "    </tr>\n",
       "  </tbody>\n",
       "</table>\n",
       "</div>"
      ],
      "text/plain": [
       "     0   1\n",
       "0  김효관  41\n",
       "1  김어진  10\n",
       "2  안민정  39"
      ]
     },
     "execution_count": 4,
     "metadata": {},
     "output_type": "execute_result"
    }
   ],
   "source": [
    "df1"
   ]
  },
  {
   "cell_type": "code",
   "execution_count": null,
   "id": "6ba77f42-3480-44e3-a811-860d8a2e5a5b",
   "metadata": {},
   "outputs": [],
   "source": [
    "rowList1 = [\"김효관\", 41]\n",
    "rowList2 = [\"김어진\", 10]\n",
    "rowList3 = [\"안민정\", 39]"
   ]
  },
  {
   "cell_type": "code",
   "execution_count": null,
   "id": "15952a59-881c-4b43-9ec8-4fb9913294df",
   "metadata": {},
   "outputs": [],
   "source": [
    "mergedList = [rowList1, rowList2, rowList3]"
   ]
  },
  {
   "cell_type": "code",
   "execution_count": null,
   "id": "f35ee64a-7fe2-453a-81f6-39001c0d6c16",
   "metadata": {},
   "outputs": [],
   "source": [
    "df2 = pd.DataFrame(mergedList)\n",
    "df2.columns = [\"컬럼1\", \"컬럼2\"]"
   ]
  },
  {
   "cell_type": "code",
   "execution_count": null,
   "id": "1b03a338-d333-4544-8bee-42af93b69f54",
   "metadata": {},
   "outputs": [
    {
     "data": {
      "text/html": [
       "<div>\n",
       "<style scoped>\n",
       "    .dataframe tbody tr th:only-of-type {\n",
       "        vertical-align: middle;\n",
       "    }\n",
       "\n",
       "    .dataframe tbody tr th {\n",
       "        vertical-align: top;\n",
       "    }\n",
       "\n",
       "    .dataframe thead th {\n",
       "        text-align: right;\n",
       "    }\n",
       "</style>\n",
       "<table border=\"1\" class=\"dataframe\">\n",
       "  <thead>\n",
       "    <tr style=\"text-align: right;\">\n",
       "      <th></th>\n",
       "      <th>컬럼1</th>\n",
       "      <th>컬럼2</th>\n",
       "    </tr>\n",
       "  </thead>\n",
       "  <tbody>\n",
       "    <tr>\n",
       "      <th>0</th>\n",
       "      <td>김효관</td>\n",
       "      <td>41</td>\n",
       "    </tr>\n",
       "    <tr>\n",
       "      <th>1</th>\n",
       "      <td>김어진</td>\n",
       "      <td>10</td>\n",
       "    </tr>\n",
       "    <tr>\n",
       "      <th>2</th>\n",
       "      <td>안민정</td>\n",
       "      <td>39</td>\n",
       "    </tr>\n",
       "  </tbody>\n",
       "</table>\n",
       "</div>"
      ],
      "text/plain": [
       "   컬럼1  컬럼2\n",
       "0  김효관   41\n",
       "1  김어진   10\n",
       "2  안민정   39"
      ]
     },
     "execution_count": 13,
     "metadata": {},
     "output_type": "execute_result"
    }
   ],
   "source": [
    "df2"
   ]
  },
  {
   "cell_type": "code",
   "execution_count": null,
   "id": "a1397665-c123-4a65-997b-ec0d4c1813cf",
   "metadata": {},
   "outputs": [],
   "source": [
    "nameValue = \"김효관\""
   ]
  },
  {
   "cell_type": "code",
   "execution_count": null,
   "id": "e5da44b5-a0ad-4889-a4e6-9dbb7784c9c0",
   "metadata": {},
   "outputs": [
    {
     "data": {
      "text/html": [
       "<div>\n",
       "<style scoped>\n",
       "    .dataframe tbody tr th:only-of-type {\n",
       "        vertical-align: middle;\n",
       "    }\n",
       "\n",
       "    .dataframe tbody tr th {\n",
       "        vertical-align: top;\n",
       "    }\n",
       "\n",
       "    .dataframe thead th {\n",
       "        text-align: right;\n",
       "    }\n",
       "</style>\n",
       "<table border=\"1\" class=\"dataframe\">\n",
       "  <thead>\n",
       "    <tr style=\"text-align: right;\">\n",
       "      <th></th>\n",
       "      <th>0</th>\n",
       "    </tr>\n",
       "  </thead>\n",
       "  <tbody>\n",
       "    <tr>\n",
       "      <th>0</th>\n",
       "      <td>김</td>\n",
       "    </tr>\n",
       "    <tr>\n",
       "      <th>1</th>\n",
       "      <td>효</td>\n",
       "    </tr>\n",
       "    <tr>\n",
       "      <th>2</th>\n",
       "      <td>관</td>\n",
       "    </tr>\n",
       "  </tbody>\n",
       "</table>\n",
       "</div>"
      ],
      "text/plain": [
       "   0\n",
       "0  김\n",
       "1  효\n",
       "2  관"
      ]
     },
     "execution_count": 19,
     "metadata": {},
     "output_type": "execute_result"
    }
   ],
   "source": [
    "pd.DataFrame(list(nameValue))"
   ]
  },
  {
   "cell_type": "code",
   "execution_count": null,
   "id": "9d84c8fc-69a3-4dc5-988d-d868cac38631",
   "metadata": {},
   "outputs": [],
   "source": [
    "testDf = pd.DataFrame([[nameValue]])"
   ]
  },
  {
   "cell_type": "code",
   "execution_count": null,
   "id": "94269a17-a0c9-433e-a2d8-2e21f4518383",
   "metadata": {},
   "outputs": [],
   "source": [
    "testDf.columns = [\"이름\"]"
   ]
  },
  {
   "cell_type": "code",
   "execution_count": null,
   "id": "96d2932a-26f4-4b52-bcd7-e185f06bbfcf",
   "metadata": {},
   "outputs": [],
   "source": []
  },
  {
   "cell_type": "code",
   "execution_count": null,
   "id": "aac55068-a6ad-4393-bcd8-3994ed937050",
   "metadata": {},
   "outputs": [],
   "source": []
  },
  {
   "cell_type": "code",
   "execution_count": null,
   "id": "6e679ead-2bda-4441-849f-08aa0112d2be",
   "metadata": {},
   "outputs": [],
   "source": []
  },
  {
   "cell_type": "code",
   "execution_count": null,
   "id": "c7d1fc56-9189-469b-8cfe-f924d11dbef9",
   "metadata": {},
   "outputs": [],
   "source": []
  },
  {
   "cell_type": "markdown",
   "id": "eea440f7-e344-4d11-becf-0849cf5f1845",
   "metadata": {},
   "source": [
    "# 오후 강의 시작"
   ]
  },
  {
   "cell_type": "markdown",
   "id": "20f14e20-ec6f-43f4-8603-857ac75a1567",
   "metadata": {},
   "source": [
    "## 1. 기능과 데이터 불러오기"
   ]
  },
  {
   "cell_type": "code",
   "execution_count": null,
   "id": "e1b82000-3d6a-4766-8c02-df91ae87633b",
   "metadata": {},
   "outputs": [],
   "source": [
    "import bs4, requests"
   ]
  },
  {
   "cell_type": "code",
   "execution_count": null,
   "id": "634b8653-5b23-4cb5-94b5-5a78fa8cc64c",
   "metadata": {},
   "outputs": [],
   "source": [
    "# bs4, requests 기능을 불러온다."
   ]
  },
  {
   "cell_type": "code",
   "execution_count": null,
   "id": "f0299681-b8cd-4730-9e09-d0938cca04ba",
   "metadata": {},
   "outputs": [],
   "source": [
    "targetUrl = \"https://sparkkorea.com/%ed%80%b4%ec%a6%88/\""
   ]
  },
  {
   "cell_type": "code",
   "execution_count": null,
   "id": "51ccebce-c786-4e75-b05d-f4b5cec44e95",
   "metadata": {},
   "outputs": [],
   "source": [
    "# 데이터를 불러올 목표 Url은 위의 것"
   ]
  },
  {
   "cell_type": "code",
   "execution_count": null,
   "id": "2f82640d-c606-4da6-9fad-e64f4c1323f5",
   "metadata": {},
   "outputs": [],
   "source": [
    "try:\n",
    "    resp = requests.get(targetUrl)\n",
    "except Exception as e:\n",
    "    print(e)"
   ]
  },
  {
   "cell_type": "code",
   "execution_count": null,
   "id": "546b3aed-e204-498e-8d6d-e35b5f0bb204",
   "metadata": {},
   "outputs": [],
   "source": [
    "# resp 기능을 통해서 해당 Url에 있는 데이터를 싹 긁어온다."
   ]
  },
  {
   "cell_type": "code",
   "execution_count": null,
   "id": "83f928f2-0401-4490-b58e-08715a9faa2e",
   "metadata": {},
   "outputs": [
    {
     "data": {
      "text/plain": [
       "<Response [200]>"
      ]
     },
     "execution_count": 64,
     "metadata": {},
     "output_type": "execute_result"
    }
   ],
   "source": [
    "resp"
   ]
  },
  {
   "cell_type": "code",
   "execution_count": null,
   "id": "b9849847-be22-469a-a317-72e94548ef3c",
   "metadata": {},
   "outputs": [],
   "source": [
    "webPageSrc = resp.text"
   ]
  },
  {
   "cell_type": "code",
   "execution_count": null,
   "id": "1a79f6a5-05dd-41b9-8753-edeb9f9656b8",
   "metadata": {
    "collapsed": true,
    "jupyter": {
     "outputs_hidden": true
    },
    "tags": []
   },
   "outputs": [
    {
     "data": {
      "text/plain": [
       "'<!DOCTYPE html>\\n<html lang=\"ko-KR\">\\n<head>\\n<meta charset=\"UTF-8\">\\n<meta name=\"viewport\" content=\"width=device-width, initial-scale=1\">\\n<link rel=\"profile\" href=\"http://gmpg.org/xfn/11\">\\n<link rel=\"pingback\" href=\"https://sparkkorea.com/xmlrpc.php\">\\n\\n<title>퀴즈 &#8211; 스파크 코리아</title>\\n<meta name=\\'robots\\' content=\\'max-image-preview:large\\' />\\n<meta name=\"google-site-verification\" content=\"QRZVgHsoL23RuwmgmXNuXfO-mUaxCkdvhP2rRvLT270\" />\\n\\n<!-- Async WordPress.com Remote Login -->\\n<script id=\"wpcom_remote_login_js\">\\nvar wpcom_remote_login_extra_auth = \\'\\';\\nfunction wpcom_remote_login_remove_dom_node_id( element_id ) {\\n\\tvar dom_node = document.getElementById( element_id );\\n\\tif ( dom_node ) { dom_node.parentNode.removeChild( dom_node ); }\\n}\\nfunction wpcom_remote_login_remove_dom_node_classes( class_name ) {\\n\\tvar dom_nodes = document.querySelectorAll( \\'.\\' + class_name );\\n\\tfor ( var i = 0; i < dom_nodes.length; i++ ) {\\n\\t\\tdom_nodes[ i ].parentNode.removeChild( dom_nodes[ i ] );\\n\\t}\\n}\\nfunction wpcom_remote_login_final_cleanup() {\\n\\twpcom_remote_login_remove_dom_node_classes( \"wpcom_remote_login_msg\" );\\n\\twpcom_remote_login_remove_dom_node_id( \"wpcom_remote_login_key\" );\\n\\twpcom_remote_login_remove_dom_node_id( \"wpcom_remote_login_validate\" );\\n\\twpcom_remote_login_remove_dom_node_id( \"wpcom_remote_login_js\" );\\n\\twpcom_remote_login_remove_dom_node_id( \"wpcom_request_access_iframe\" );\\n\\twpcom_remote_login_remove_dom_node_id( \"wpcom_request_access_styles\" );\\n}\\n\\n// Watch for messages back from the remote login\\nwindow.addEventListener( \"message\", function( e ) {\\n\\tif ( e.origin === \"https://r-login.wordpress.com\" ) {\\n\\t\\tvar data = {};\\n\\t\\ttry {\\n\\t\\t\\tdata = JSON.parse( e.data );\\n\\t\\t} catch( e ) {\\n\\t\\t\\twpcom_remote_login_final_cleanup();\\n\\t\\t\\treturn;\\n\\t\\t}\\n\\n\\t\\tif ( data.msg === \\'LOGIN\\' ) {\\n\\t\\t\\t// Clean up the login check iframe\\n\\t\\t\\twpcom_remote_login_remove_dom_node_id( \"wpcom_remote_login_key\" );\\n\\n\\t\\t\\tvar id_regex = new RegExp( /^[0-9]+$/ );\\n\\t\\t\\tvar token_regex = new RegExp( /^.*|.*|.*$/ );\\n\\t\\t\\tif (\\n\\t\\t\\t\\ttoken_regex.test( data.token )\\n\\t\\t\\t\\t&& id_regex.test( data.wpcomid )\\n\\t\\t\\t) {\\n\\t\\t\\t\\t// We have everything we need to ask for a login\\n\\t\\t\\t\\tvar script = document.createElement( \"script\" );\\n\\t\\t\\t\\tscript.setAttribute( \"id\", \"wpcom_remote_login_validate\" );\\n\\t\\t\\t\\tscript.src = \\'/remote-login.php?wpcom_remote_login=validate\\'\\n\\t\\t\\t\\t\\t+ \\'&wpcomid=\\' + data.wpcomid\\n\\t\\t\\t\\t\\t+ \\'&token=\\' + encodeURIComponent( data.token )\\n\\t\\t\\t\\t\\t+ \\'&host=\\' + window.location.protocol\\n\\t\\t\\t\\t\\t+ \\'//\\' + window.location.hostname\\n\\t\\t\\t\\t\\t+ \\'&postid=102\\'\\n\\t\\t\\t\\t\\t+ \\'&is_singular=\\';\\n\\t\\t\\t\\tdocument.body.appendChild( script );\\n\\t\\t\\t}\\n\\n\\t\\t\\treturn;\\n\\t\\t}\\n\\n\\t\\t// Safari ITP, not logged in, so redirect\\n\\t\\tif ( data.msg === \\'LOGIN-REDIRECT\\' ) {\\n\\t\\t\\twindow.location = \\'https://wordpress.com/log-in?redirect_to=\\' + window.location.href;\\n\\t\\t\\treturn;\\n\\t\\t}\\n\\n\\t\\t// Safari ITP, storage access failed, remove the request\\n\\t\\tif ( data.msg === \\'LOGIN-REMOVE\\' ) {\\n\\t\\t\\tvar css_zap = \\'html { -webkit-transition: margin-top 1s; transition: margin-top 1s; } /* 9001 */ html { margin-top: 0 !important; } * html body { margin-top: 0 !important; } @media screen and ( max-width: 782px ) { html { margin-top: 0 !important; } * html body { margin-top: 0 !important; } }\\';\\n\\t\\t\\tvar style_zap = document.createElement( \\'style\\' );\\n\\t\\t\\tstyle_zap.type = \\'text/css\\';\\n\\t\\t\\tstyle_zap.appendChild( document.createTextNode( css_zap ) );\\n\\t\\t\\tdocument.body.appendChild( style_zap );\\n\\n\\t\\t\\tvar e = document.getElementById( \\'wpcom_request_access_iframe\\' );\\n\\t\\t\\te.parentNode.removeChild( e );\\n\\n\\t\\t\\tdocument.cookie = \\'wordpress_com_login_access=denied; path=/; max-age=31536000\\';\\n\\n\\t\\t\\treturn;\\n\\t\\t}\\n\\n\\t\\t// Safari ITP\\n\\t\\tif ( data.msg === \\'REQUEST_ACCESS\\' ) {\\n\\t\\t\\tconsole.log( \\'request access: safari\\' );\\n\\n\\t\\t\\t// Check ITP iframe enable/disable knob\\n\\t\\t\\tif ( wpcom_remote_login_extra_auth !== \\'safari_itp_iframe\\' ) {\\n\\t\\t\\t\\treturn;\\n\\t\\t\\t}\\n\\n\\t\\t\\t// If we are in a \"private window\" there is no ITP.\\n\\t\\t\\tvar private_window = false;\\n\\t\\t\\ttry {\\n\\t\\t\\t\\tvar opendb = window.openDatabase( null, null, null, null );\\n\\t\\t\\t} catch( e ) {\\n\\t\\t\\t\\tprivate_window = true;\\n\\t\\t\\t}\\n\\n\\t\\t\\tif ( private_window ) {\\n\\t\\t\\t\\tconsole.log( \\'private window\\' );\\n\\t\\t\\t\\treturn;\\n\\t\\t\\t}\\n\\n\\t\\t\\tvar iframe = document.createElement( \\'iframe\\' );\\n\\t\\t\\tiframe.id = \\'wpcom_request_access_iframe\\';\\n\\t\\t\\tiframe.setAttribute( \\'scrolling\\', \\'no\\' );\\n\\t\\t\\tiframe.setAttribute( \\'sandbox\\', \\'allow-storage-access-by-user-activation allow-scripts allow-same-origin allow-top-navigation-by-user-activation\\' );\\n\\t\\t\\tiframe.src = \\'https://r-login.wordpress.com/remote-login.php?wpcom_remote_login=request_access&origin=\\' + encodeURIComponent( data.origin ) + \\'&wpcomid=\\' + encodeURIComponent( data.wpcomid );\\n\\n\\t\\t\\tvar css = \\'html { -webkit-transition: margin-top 1s; transition: margin-top 1s; } /* 9001 */ html { margin-top: 46px !important; } * html body { margin-top: 46px !important; } @media screen and ( max-width: 660px ) { html { margin-top: 71px !important; } * html body { margin-top: 71px !important; } #wpcom_request_access_iframe { display: block; height: 71px !important; } } #wpcom_request_access_iframe { border: 0px; height: 46px; position: fixed; top: 0; left: 0; width: 100%; min-width: 100%; z-index: 99999; background: #23282d; } \\';\\n\\n\\t\\t\\tvar style = document.createElement( \\'style\\' );\\n\\t\\t\\tstyle.type = \\'text/css\\';\\n\\t\\t\\tstyle.id = \\'wpcom_request_access_styles\\';\\n\\t\\t\\tstyle.appendChild( document.createTextNode( css ) );\\n\\t\\t\\tdocument.body.appendChild( style );\\n\\n\\t\\t\\tdocument.body.appendChild( iframe );\\n\\t\\t}\\n\\n\\t\\tif ( data.msg === \\'DONE\\' ) {\\n\\t\\t\\twpcom_remote_login_final_cleanup();\\n\\t\\t}\\n\\t}\\n}, false );\\n\\n// Inject the remote login iframe after the page has had a chance to load\\n// more critical resources\\nwindow.addEventListener( \"DOMContentLoaded\", function( e ) {\\n\\tvar iframe = document.createElement( \"iframe\" );\\n\\tiframe.style.display = \"none\";\\n\\tiframe.setAttribute( \"scrolling\", \"no\" );\\n\\tiframe.setAttribute( \"id\", \"wpcom_remote_login_key\" );\\n\\tiframe.src = \"https://r-login.wordpress.com/remote-login.php\"\\n\\t\\t+ \"?wpcom_remote_login=key\"\\n\\t\\t+ \"&origin=aHR0cHM6Ly9zcGFya2tvcmVhLmNvbQ%3D%3D\"\\n\\t\\t+ \"&wpcomid=163927570\"\\n\\t\\t+ \"&time=1679547890\";\\n\\tdocument.body.appendChild( iframe );\\n}, false );\\n</script>\\n<link rel=\\'dns-prefetch\\' href=\\'//s2.wp.com\\' />\\n<link rel=\\'dns-prefetch\\' href=\\'//s1.wp.com\\' />\\n<link rel=\\'dns-prefetch\\' href=\\'//sparkkorea.wordpress.com\\' />\\n<link rel=\\'dns-prefetch\\' href=\\'//s0.wp.com\\' />\\n<link rel=\\'dns-prefetch\\' href=\\'//wordpress.com\\' />\\n<link rel=\\'dns-prefetch\\' href=\\'//fonts-api.wp.com\\' />\\n<link href=\\'https://fonts.gstatic.com\\' crossorigin rel=\\'preconnect\\' />\\n<link rel=\"alternate\" type=\"application/rss+xml\" title=\"스파크 코리아 &raquo; 피드\" href=\"https://sparkkorea.com/feed/\" />\\n<link rel=\"alternate\" type=\"application/rss+xml\" title=\"스파크 코리아 &raquo; 댓글 피드\" href=\"https://sparkkorea.com/comments/feed/\" />\\n\\t<script type=\"text/javascript\">\\n\\t\\t/* <![CDATA[ */\\n\\t\\tfunction addLoadEvent(func) {\\n\\t\\t\\tvar oldonload = window.onload;\\n\\t\\t\\tif (typeof window.onload != \\'function\\') {\\n\\t\\t\\t\\twindow.onload = func;\\n\\t\\t\\t} else {\\n\\t\\t\\t\\twindow.onload = function () {\\n\\t\\t\\t\\t\\toldonload();\\n\\t\\t\\t\\t\\tfunc();\\n\\t\\t\\t\\t}\\n\\t\\t\\t}\\n\\t\\t}\\n\\t\\t/* ]]> */\\n\\t</script>\\n\\t<script type=\"text/javascript\">\\nwindow._wpemojiSettings = {\"baseUrl\":\"https:\\\\/\\\\/s0.wp.com\\\\/wp-content\\\\/mu-plugins\\\\/wpcom-smileys\\\\/twemoji\\\\/2\\\\/72x72\\\\/\",\"ext\":\".png\",\"svgUrl\":\"https:\\\\/\\\\/s0.wp.com\\\\/wp-content\\\\/mu-plugins\\\\/wpcom-smileys\\\\/twemoji\\\\/2\\\\/svg\\\\/\",\"svgExt\":\".svg\",\"source\":{\"concatemoji\":\"https:\\\\/\\\\/s0.wp.com\\\\/wp-includes\\\\/js\\\\/wp-emoji-release.min.js?m=1677072837h&ver=6.2-RC2-55570\"}};\\n/*! This file is auto-generated */\\n!function(e,a,t){var n,r,o,i=a.createElement(\"canvas\"),p=i.getContext&&i.getContext(\"2d\");function s(e,t){p.clearRect(0,0,i.width,i.height),p.fillText(e,0,0);e=i.toDataURL();return p.clearRect(0,0,i.width,i.height),p.fillText(t,0,0),e===i.toDataURL()}function c(e){var t=a.createElement(\"script\");t.src=e,t.defer=t.type=\"text/javascript\",a.getElementsByTagName(\"head\")[0].appendChild(t)}for(o=Array(\"flag\",\"emoji\"),t.supports={everything:!0,everythingExceptFlag:!0},r=0;r<o.length;r++)t.supports[o[r]]=function(e){if(p&&p.fillText)switch(p.textBaseline=\"top\",p.font=\"600 32px Arial\",e){case\"flag\":return s(\"\\\\ud83c\\\\udff3\\\\ufe0f\\\\u200d\\\\u26a7\\\\ufe0f\",\"\\\\ud83c\\\\udff3\\\\ufe0f\\\\u200b\\\\u26a7\\\\ufe0f\")?!1:!s(\"\\\\ud83c\\\\uddfa\\\\ud83c\\\\uddf3\",\"\\\\ud83c\\\\uddfa\\\\u200b\\\\ud83c\\\\uddf3\")&&!s(\"\\\\ud83c\\\\udff4\\\\udb40\\\\udc67\\\\udb40\\\\udc62\\\\udb40\\\\udc65\\\\udb40\\\\udc6e\\\\udb40\\\\udc67\\\\udb40\\\\udc7f\",\"\\\\ud83c\\\\udff4\\\\u200b\\\\udb40\\\\udc67\\\\u200b\\\\udb40\\\\udc62\\\\u200b\\\\udb40\\\\udc65\\\\u200b\\\\udb40\\\\udc6e\\\\u200b\\\\udb40\\\\udc67\\\\u200b\\\\udb40\\\\udc7f\");case\"emoji\":return!s(\"\\\\ud83e\\\\udef1\\\\ud83c\\\\udffb\\\\u200d\\\\ud83e\\\\udef2\\\\ud83c\\\\udfff\",\"\\\\ud83e\\\\udef1\\\\ud83c\\\\udffb\\\\u200b\\\\ud83e\\\\udef2\\\\ud83c\\\\udfff\")}return!1}(o[r]),t.supports.everything=t.supports.everything&&t.supports[o[r]],\"flag\"!==o[r]&&(t.supports.everythingExceptFlag=t.supports.everythingExceptFlag&&t.supports[o[r]]);t.supports.everythingExceptFlag=t.supports.everythingExceptFlag&&!t.supports.flag,t.DOMReady=!1,t.readyCallback=function(){t.DOMReady=!0},t.supports.everything||(n=function(){t.readyCallback()},a.addEventListener?(a.addEventListener(\"DOMContentLoaded\",n,!1),e.addEventListener(\"load\",n,!1)):(e.attachEvent(\"onload\",n),a.attachEvent(\"onreadystatechange\",function(){\"complete\"===a.readyState&&t.readyCallback()})),(e=t.source||{}).concatemoji?c(e.concatemoji):e.wpemoji&&e.twemoji&&(c(e.twemoji),c(e.wpemoji)))}(window,document,window._wpemojiSettings);\\n</script>\\n<style type=\"text/css\">\\nimg.wp-smiley,\\nimg.emoji {\\n\\tdisplay: inline !important;\\n\\tborder: none !important;\\n\\tbox-shadow: none !important;\\n\\theight: 1em !important;\\n\\twidth: 1em !important;\\n\\tmargin: 0 0.07em !important;\\n\\tvertical-align: -0.1em !important;\\n\\tbackground: none !important;\\n\\tpadding: 0 !important;\\n}\\n</style>\\n\\t<link crossorigin=\\'anonymous\\' rel=\\'stylesheet\\' id=\\'all-css-0-1\\' href=\\'https://s1.wp.com/_static/??-eJytjMsOwiAQRX9IOiWKxoXxWwpOkHZ4hIE2/L0NiRt16fLknntgS8LEUDAU8FUkqtYFhi2Z6AV7R9g+aDDMB/h9I7cgw4wlTWYRnb70t2vrjhqz3ZeMsEo1nIYRdHX0AE2xB3SecgMujfAfofJE30N3f5Pny1VJOarj/AIz1V8/&cssminify=yes\\' type=\\'text/css\\' media=\\'all\\' />\\n<style id=\\'wp-block-library-inline-css\\'>\\n.has-text-align-justify {\\n\\ttext-align:justify;\\n}\\n.wp-block-cover__image-background.has-parallax {\\n\\tbackground-size: cover;\\n}\\n</style>\\n<link crossorigin=\\'anonymous\\' rel=\\'stylesheet\\' id=\\'all-css-2-1\\' href=\\'https://s1.wp.com/_static/??-eJyVj9EKwjAMRX/IrBPU6YP4LV0Ware2K03L2N8bHyZOZeBL4CY5uTdqimADutIRq56Vp85qcuQp5JWITs+UwJHROFfehgqZd2oLl9m7XkE4hvzcia4YG1iZIrKlZKB1Iw5yjHLUOIDYjiWDSbZTnGdH/59IOttg+AN/xZaGQqeZLUK+S1T+mdQXWJxwTCR9H/X3kxvYFIWBto2JmEGqt8UvlsLd/HV/as6Xpq6Ph/4BjgOajA==&cssminify=yes\\' type=\\'text/css\\' media=\\'all\\' />\\n<style id=\\'global-styles-inline-css\\'>\\nbody{--wp--preset--color--black: #000000;--wp--preset--color--cyan-bluish-gray: #abb8c3;--wp--preset--color--white: #fff;--wp--preset--color--pale-pink: #f78da7;--wp--preset--color--vivid-red: #cf2e2e;--wp--preset--color--luminous-vivid-orange: #ff6900;--wp--preset--color--luminous-vivid-amber: #fcb900;--wp--preset--color--light-green-cyan: #7bdcb5;--wp--preset--color--vivid-green-cyan: #00d084;--wp--preset--color--pale-cyan-blue: #8ed1fc;--wp--preset--color--vivid-cyan-blue: #0693e3;--wp--preset--color--vivid-purple: #9b51e0;--wp--preset--color--bright-blue: #678db8;--wp--preset--color--yellow: #e7ae01;--wp--preset--color--light-gray-blue: #abb7c3;--wp--preset--color--medium-gray: #6a6c6e;--wp--preset--color--dark-gray: #1a1c1e;--wp--preset--color--dark-gray-blue: #292c2f;--wp--preset--gradient--vivid-cyan-blue-to-vivid-purple: linear-gradient(135deg,rgba(6,147,227,1) 0%,rgb(155,81,224) 100%);--wp--preset--gradient--light-green-cyan-to-vivid-green-cyan: linear-gradient(135deg,rgb(122,220,180) 0%,rgb(0,208,130) 100%);--wp--preset--gradient--luminous-vivid-amber-to-luminous-vivid-orange: linear-gradient(135deg,rgba(252,185,0,1) 0%,rgba(255,105,0,1) 100%);--wp--preset--gradient--luminous-vivid-orange-to-vivid-red: linear-gradient(135deg,rgba(255,105,0,1) 0%,rgb(207,46,46) 100%);--wp--preset--gradient--very-light-gray-to-cyan-bluish-gray: linear-gradient(135deg,rgb(238,238,238) 0%,rgb(169,184,195) 100%);--wp--preset--gradient--cool-to-warm-spectrum: linear-gradient(135deg,rgb(74,234,220) 0%,rgb(151,120,209) 20%,rgb(207,42,186) 40%,rgb(238,44,130) 60%,rgb(251,105,98) 80%,rgb(254,248,76) 100%);--wp--preset--gradient--blush-light-purple: linear-gradient(135deg,rgb(255,206,236) 0%,rgb(152,150,240) 100%);--wp--preset--gradient--blush-bordeaux: linear-gradient(135deg,rgb(254,205,165) 0%,rgb(254,45,45) 50%,rgb(107,0,62) 100%);--wp--preset--gradient--luminous-dusk: linear-gradient(135deg,rgb(255,203,112) 0%,rgb(199,81,192) 50%,rgb(65,88,208) 100%);--wp--preset--gradient--pale-ocean: linear-gradient(135deg,rgb(255,245,203) 0%,rgb(182,227,212) 50%,rgb(51,167,181) 100%);--wp--preset--gradient--electric-grass: linear-gradient(135deg,rgb(202,248,128) 0%,rgb(113,206,126) 100%);--wp--preset--gradient--midnight: linear-gradient(135deg,rgb(2,3,129) 0%,rgb(40,116,252) 100%);--wp--preset--duotone--dark-grayscale: url(\\'#wp-duotone-dark-grayscale\\');--wp--preset--duotone--grayscale: url(\\'#wp-duotone-grayscale\\');--wp--preset--duotone--purple-yellow: url(\\'#wp-duotone-purple-yellow\\');--wp--preset--duotone--blue-red: url(\\'#wp-duotone-blue-red\\');--wp--preset--duotone--midnight: url(\\'#wp-duotone-midnight\\');--wp--preset--duotone--magenta-yellow: url(\\'#wp-duotone-magenta-yellow\\');--wp--preset--duotone--purple-green: url(\\'#wp-duotone-purple-green\\');--wp--preset--duotone--blue-orange: url(\\'#wp-duotone-blue-orange\\');--wp--preset--font-size--small: 13px;--wp--preset--font-size--medium: 20px;--wp--preset--font-size--large: 36px;--wp--preset--font-size--x-large: 42px;--wp--preset--font-family--albert-sans: \\'Albert Sans\\';--wp--preset--font-family--alegreya: Alegreya;--wp--preset--font-family--arvo: Arvo;--wp--preset--font-family--bodoni-moda: \\'Bodoni Moda\\';--wp--preset--font-family--cabin: Cabin;--wp--preset--font-family--chivo: Chivo;--wp--preset--font-family--commissioner: Commissioner;--wp--preset--font-family--cormorant: Cormorant;--wp--preset--font-family--courier-prime: \\'Courier Prime\\';--wp--preset--font-family--crimson-pro: \\'Crimson Pro\\';--wp--preset--font-family--dm-mono: \\'DM Mono\\';--wp--preset--font-family--dm-sans: \\'DM Sans\\';--wp--preset--font-family--domine: Domine;--wp--preset--font-family--eb-garamond: \\'EB Garamond\\';--wp--preset--font-family--epilogue: Epilogue;--wp--preset--font-family--figtree: Figtree;--wp--preset--font-family--fira-sans: \\'Fira Sans\\';--wp--preset--font-family--fraunces: Fraunces;--wp--preset--font-family--ibm-plex-mono: \\'IBM Plex Mono\\';--wp--preset--font-family--ibm-plex-sans: \\'IBM Plex Sans\\';--wp--preset--font-family--inter: Inter;--wp--preset--font-family--josefin-sans: \\'Josefin Sans\\';--wp--preset--font-family--jost: Jost;--wp--preset--font-family--libre-baskerville: \\'Libre Baskerville\\';--wp--preset--font-family--libre-franklin: \\'Libre Franklin\\';--wp--preset--font-family--literata: Literata;--wp--preset--font-family--lora: Lora;--wp--preset--font-family--merriweather: Merriweather;--wp--preset--font-family--montserrat: Montserrat;--wp--preset--font-family--newsreader: Newsreader;--wp--preset--font-family--nunito: Nunito;--wp--preset--font-family--open-sans: \\'Open Sans\\';--wp--preset--font-family--overpass: Overpass;--wp--preset--font-family--petrona: Petrona;--wp--preset--font-family--piazzolla: Piazzolla;--wp--preset--font-family--playfair-display: \\'Playfair Display\\';--wp--preset--font-family--plus-jakarta-sans: \\'Plus Jakarta Sans\\';--wp--preset--font-family--poppins: Poppins;--wp--preset--font-family--raleway: Raleway;--wp--preset--font-family--roboto-slab: \\'Roboto Slab\\';--wp--preset--font-family--roboto: Roboto;--wp--preset--font-family--rubik: Rubik;--wp--preset--font-family--sora: Sora;--wp--preset--font-family--source-sans-pro: \\'Source Sans Pro\\';--wp--preset--font-family--source-serif-pro: \\'Source Serif Pro\\';--wp--preset--font-family--space-mono: \\'Space Mono\\';--wp--preset--font-family--texturina: Texturina;--wp--preset--font-family--work-sans: \\'Work Sans\\';--wp--preset--spacing--20: 0.44rem;--wp--preset--spacing--30: 0.67rem;--wp--preset--spacing--40: 1rem;--wp--preset--spacing--50: 1.5rem;--wp--preset--spacing--60: 2.25rem;--wp--preset--spacing--70: 3.38rem;--wp--preset--spacing--80: 5.06rem;--wp--preset--shadow--natural: 6px 6px 9px rgba(0, 0, 0, 0.2);--wp--preset--shadow--deep: 12px 12px 50px rgba(0, 0, 0, 0.4);--wp--preset--shadow--sharp: 6px 6px 0px rgba(0, 0, 0, 0.2);--wp--preset--shadow--outlined: 6px 6px 0px -3px rgba(255, 255, 255, 1), 6px 6px rgba(0, 0, 0, 1);--wp--preset--shadow--crisp: 6px 6px 0px rgba(0, 0, 0, 1);}:where(.is-layout-flex){gap: 0.5em;}body .is-layout-flow > .alignleft{float: left;margin-inline-start: 0;margin-inline-end: 2em;}body .is-layout-flow > .alignright{float: right;margin-inline-start: 2em;margin-inline-end: 0;}body .is-layout-flow > .aligncenter{margin-left: auto !important;margin-right: auto !important;}body .is-layout-constrained > .alignleft{float: left;margin-inline-start: 0;margin-inline-end: 2em;}body .is-layout-constrained > .alignright{float: right;margin-inline-start: 2em;margin-inline-end: 0;}body .is-layout-constrained > .aligncenter{margin-left: auto !important;margin-right: auto !important;}body .is-layout-constrained > :where(:not(.alignleft):not(.alignright):not(.alignfull)){max-width: var(--wp--style--global--content-size);margin-left: auto !important;margin-right: auto !important;}body .is-layout-constrained > .alignwide{max-width: var(--wp--style--global--wide-size);}body .is-layout-flex{display: flex;}body .is-layout-flex{flex-wrap: wrap;align-items: center;}body .is-layout-flex > *{margin: 0;}:where(.wp-block-columns.is-layout-flex){gap: 2em;}.has-black-color{color: var(--wp--preset--color--black) !important;}.has-cyan-bluish-gray-color{color: var(--wp--preset--color--cyan-bluish-gray) !important;}.has-white-color{color: var(--wp--preset--color--white) !important;}.has-pale-pink-color{color: var(--wp--preset--color--pale-pink) !important;}.has-vivid-red-color{color: var(--wp--preset--color--vivid-red) !important;}.has-luminous-vivid-orange-color{color: var(--wp--preset--color--luminous-vivid-orange) !important;}.has-luminous-vivid-amber-color{color: var(--wp--preset--color--luminous-vivid-amber) !important;}.has-light-green-cyan-color{color: var(--wp--preset--color--light-green-cyan) !important;}.has-vivid-green-cyan-color{color: var(--wp--preset--color--vivid-green-cyan) !important;}.has-pale-cyan-blue-color{color: var(--wp--preset--color--pale-cyan-blue) !important;}.has-vivid-cyan-blue-color{color: var(--wp--preset--color--vivid-cyan-blue) !important;}.has-vivid-purple-color{color: var(--wp--preset--color--vivid-purple) !important;}.has-black-background-color{background-color: var(--wp--preset--color--black) !important;}.has-cyan-bluish-gray-background-color{background-color: var(--wp--preset--color--cyan-bluish-gray) !important;}.has-white-background-color{background-color: var(--wp--preset--color--white) !important;}.has-pale-pink-background-color{background-color: var(--wp--preset--color--pale-pink) !important;}.has-vivid-red-background-color{background-color: var(--wp--preset--color--vivid-red) !important;}.has-luminous-vivid-orange-background-color{background-color: var(--wp--preset--color--luminous-vivid-orange) !important;}.has-luminous-vivid-amber-background-color{background-color: var(--wp--preset--color--luminous-vivid-amber) !important;}.has-light-green-cyan-background-color{background-color: var(--wp--preset--color--light-green-cyan) !important;}.has-vivid-green-cyan-background-color{background-color: var(--wp--preset--color--vivid-green-cyan) !important;}.has-pale-cyan-blue-background-color{background-color: var(--wp--preset--color--pale-cyan-blue) !important;}.has-vivid-cyan-blue-background-color{background-color: var(--wp--preset--color--vivid-cyan-blue) !important;}.has-vivid-purple-background-color{background-color: var(--wp--preset--color--vivid-purple) !important;}.has-black-border-color{border-color: var(--wp--preset--color--black) !important;}.has-cyan-bluish-gray-border-color{border-color: var(--wp--preset--color--cyan-bluish-gray) !important;}.has-white-border-color{border-color: var(--wp--preset--color--white) !important;}.has-pale-pink-border-color{border-color: var(--wp--preset--color--pale-pink) !important;}.has-vivid-red-border-color{border-color: var(--wp--preset--color--vivid-red) !important;}.has-luminous-vivid-orange-border-color{border-color: var(--wp--preset--color--luminous-vivid-orange) !important;}.has-luminous-vivid-amber-border-color{border-color: var(--wp--preset--color--luminous-vivid-amber) !important;}.has-light-green-cyan-border-color{border-color: var(--wp--preset--color--light-green-cyan) !important;}.has-vivid-green-cyan-border-color{border-color: var(--wp--preset--color--vivid-green-cyan) !important;}.has-pale-cyan-blue-border-color{border-color: var(--wp--preset--color--pale-cyan-blue) !important;}.has-vivid-cyan-blue-border-color{border-color: var(--wp--preset--color--vivid-cyan-blue) !important;}.has-vivid-purple-border-color{border-color: var(--wp--preset--color--vivid-purple) !important;}.has-vivid-cyan-blue-to-vivid-purple-gradient-background{background: var(--wp--preset--gradient--vivid-cyan-blue-to-vivid-purple) !important;}.has-light-green-cyan-to-vivid-green-cyan-gradient-background{background: var(--wp--preset--gradient--light-green-cyan-to-vivid-green-cyan) !important;}.has-luminous-vivid-amber-to-luminous-vivid-orange-gradient-background{background: var(--wp--preset--gradient--luminous-vivid-amber-to-luminous-vivid-orange) !important;}.has-luminous-vivid-orange-to-vivid-red-gradient-background{background: var(--wp--preset--gradient--luminous-vivid-orange-to-vivid-red) !important;}.has-very-light-gray-to-cyan-bluish-gray-gradient-background{background: var(--wp--preset--gradient--very-light-gray-to-cyan-bluish-gray) !important;}.has-cool-to-warm-spectrum-gradient-background{background: var(--wp--preset--gradient--cool-to-warm-spectrum) !important;}.has-blush-light-purple-gradient-background{background: var(--wp--preset--gradient--blush-light-purple) !important;}.has-blush-bordeaux-gradient-background{background: var(--wp--preset--gradient--blush-bordeaux) !important;}.has-luminous-dusk-gradient-background{background: var(--wp--preset--gradient--luminous-dusk) !important;}.has-pale-ocean-gradient-background{background: var(--wp--preset--gradient--pale-ocean) !important;}.has-electric-grass-gradient-background{background: var(--wp--preset--gradient--electric-grass) !important;}.has-midnight-gradient-background{background: var(--wp--preset--gradient--midnight) !important;}.has-small-font-size{font-size: var(--wp--preset--font-size--small) !important;}.has-medium-font-size{font-size: var(--wp--preset--font-size--medium) !important;}.has-large-font-size{font-size: var(--wp--preset--font-size--large) !important;}.has-x-large-font-size{font-size: var(--wp--preset--font-size--x-large) !important;}\\n:where(.wp-block-columns.is-layout-flex){gap: 2em;}\\n.wp-block-pullquote{font-size: 1.5em;line-height: 1.6;}\\n.wp-block-navigation a:where(:not(.wp-element-button)){color: inherit;}\\n</style>\\n<link crossorigin=\\'anonymous\\' rel=\\'stylesheet\\' id=\\'all-css-4-1\\' href=\\'https://s1.wp.com/_static/??/wp-content/mu-plugins/comment-likes/css/comment-likes.css,/i/noticons/noticons.css?m=1436783281j&cssminify=yes\\' type=\\'text/css\\' media=\\'all\\' />\\n<link rel=\\'stylesheet\\' id=\\'dyad-2-fonts-css\\' href=\\'https://fonts-api.wp.com/css?family=Lato%3A400%2C400italic%2C700%2C700italic%7CNoto+Serif%3A400%2C400italic%2C700%2C700italic&#038;subset=latin%2Clatin-ext\\' media=\\'all\\' />\\n<link crossorigin=\\'anonymous\\' rel=\\'stylesheet\\' id=\\'all-css-6-1\\' href=\\'https://s0.wp.com/_static/??-eJyNj9kKwjAURH/IeGtx6Yv4KZLeXGPabGSh9O9Ng2BBkb7NwJxhBibP0NlENoHJzOsslY0wUPIcx7cHH5zImJSzcFcWQZKloAoXf8s9xriDVXV6kqEIPvcgZi5YCzHNmjbkSgJ67XDcUrpsq8Vs8ujMF7F6KMmxUsvrqbVhD81V+IcGKoNkkbKu+9gFupnr4Xy6dF3THpvhBfZwgjk=&cssminify=yes\\' type=\\'text/css\\' media=\\'all\\' />\\n<link crossorigin=\\'anonymous\\' rel=\\'stylesheet\\' id=\\'print-css-7-1\\' href=\\'https://s2.wp.com/wp-content/mu-plugins/global-print/global-print.css?m=1465851035h&cssminify=yes\\' type=\\'text/css\\' media=\\'print\\' />\\n<style id=\\'jetpack-global-styles-frontend-style-inline-css\\'>\\n:root { --font-headings: unset; --font-base: unset; --font-headings-default: -apple-system,BlinkMacSystemFont,\"Segoe UI\",Roboto,Oxygen-Sans,Ubuntu,Cantarell,\"Helvetica Neue\",sans-serif; --font-base-default: -apple-system,BlinkMacSystemFont,\"Segoe UI\",Roboto,Oxygen-Sans,Ubuntu,Cantarell,\"Helvetica Neue\",sans-serif;}\\n</style>\\n<link crossorigin=\\'anonymous\\' rel=\\'stylesheet\\' id=\\'all-css-10-1\\' href=\\'https://s0.wp.com/_static/??-eJyVjUEKwjAQRS9kHAVb60I8isRJSFInM6GTULx9W3Ejrty9B5/3YS4GhavnCrmZQi0kVhh9LRafH4cyiWtYkzDklcgraLSTd9a51xsThz2q7uDf3j0xggomS4YkiH7JT7NGn9f3eIJA8rC0DW75euzPl+7QDUM/Lj+0TlE=&cssminify=yes\\' type=\\'text/css\\' media=\\'all\\' />\\n<script id=\\'wpcom-actionbar-placeholder-js-extra\\'>\\nvar actionbardata = {\"siteID\":\"163927570\",\"siteURL\":\"https:\\\\/\\\\/sparkkorea.com\",\"xhrURL\":\"https:\\\\/\\\\/sparkkorea.com\\\\/wp-admin\\\\/admin-ajax.php\",\"nonce\":\"5663c0bd23\",\"isLoggedIn\":\"\",\"statusMessage\":\"\",\"subsEmailDefault\":\"instantly\",\"proxyScriptUrl\":\"https:\\\\/\\\\/s0.wp.com\\\\/wp-content\\\\/js\\\\/wpcom-proxy-request.js?ver=20211021\",\"shortlink\":\"https:\\\\/\\\\/wp.me\\\\/Pb5P34-1E\",\"i18n\":{\"followedText\":\"\\\\uc774 \\\\uc0ac\\\\uc774\\\\ud2b8\\\\uc758 \\\\uc0c8 \\\\uae00\\\\uc774 \\\\uc774\\\\uc81c <a href=\\\\\"https:\\\\/\\\\/wordpress.com\\\\/read\\\\\">\\\\ub9ac\\\\ub354(Reader)<\\\\/a>\\\\uc5d0 \\\\ud45c\\\\uc2dc\\\\ub429\\\\ub2c8\\\\ub2e4\",\"foldBar\":\"\\\\uc774 \\\\ud45c\\\\uc2dc\\\\uc904 \\\\ucd95\\\\uc18c\",\"unfoldBar\":\"\\\\uc774 \\\\ud45c\\\\uc2dc\\\\uc904 \\\\ud655\\\\uc7a5\"}};\\n</script>\\n<script crossorigin=\\'anonymous\\' type=\\'text/javascript\\' src=\\'https://s1.wp.com/_static/??-eJzTLy/QTc7PK0nNK9HPKtbPzU/KzEnVLS1OLUpMB4rpZual5etlFevoo6oryinRLSjKr6iEyWXmJeeUpqQWgySzCktTiyqhlF5uZh5BRbq5melFiSWpUMX2ubaGZuYWlhYGlhaGWQCPrjue\\'></script>\\n<script type=\\'text/javascript\\'>\\n\\twindow.addEventListener( \\'DOMContentLoaded\\', function() {\\n\\t\\trltInitialize( {\"token\":null,\"iframeOrigins\":[\"https:\\\\/\\\\/widgets.wp.com\"]} );\\n\\t} );\\n</script>\\n<link rel=\"EditURI\" type=\"application/rsd+xml\" title=\"RSD\" href=\"https://sparkkorea.wordpress.com/xmlrpc.php?rsd\" />\\n<link rel=\"wlwmanifest\" type=\"application/wlwmanifest+xml\" href=\"https://s1.wp.com/wp-includes/wlwmanifest.xml\" />\\n<meta name=\"generator\" content=\"WordPress.com\" />\\n<link rel=\"canonical\" href=\"https://sparkkorea.com/%ed%80%b4%ec%a6%88/\" />\\n<link rel=\\'shortlink\\' href=\\'https://wp.me/Pb5P34-1E\\' />\\n<link rel=\"alternate\" type=\"application/json+oembed\" href=\"https://public-api.wordpress.com/oembed/?format=json&amp;url=https%3A%2F%2Fsparkkorea.com%2F%25ed%2580%25b4%25ec%25a6%2588%2F&amp;for=wpcom-auto-discovery\" /><link rel=\"alternate\" type=\"application/xml+oembed\" href=\"https://public-api.wordpress.com/oembed/?format=xml&amp;url=https%3A%2F%2Fsparkkorea.com%2F%25ed%2580%25b4%25ec%25a6%2588%2F&amp;for=wpcom-auto-discovery\" />\\n<!-- Jetpack Open Graph Tags -->\\n<meta property=\"og:type\" content=\"article\" />\\n<meta property=\"og:title\" content=\"퀴즈\" />\\n<meta property=\"og:url\" content=\"https://sparkkorea.com/%ed%80%b4%ec%a6%88/\" />\\n<meta property=\"og:description\" content=\"메인 설문 준비중 Spark 퀴즈 6/13 Spark 심화과정 6/13 Spark 기본과정 6/18 Spark [MAP_FILTER] 6/18 Spark GroupBy 심화 6/25 Spark RDD 실전 분석 6/27 Spark RDD 실전 분석2\" />\\n<meta property=\"article:published_time\" content=\"2019-07-08T09:35:27+00:00\" />\\n<meta property=\"article:modified_time\" content=\"2020-03-20T09:42:15+00:00\" />\\n<meta property=\"og:site_name\" content=\"스파크 코리아\" />\\n<meta property=\"og:image\" content=\"https://s0.wp.com/i/blank.jpg\" />\\n<meta property=\"og:image:alt\" content=\"\" />\\n<meta property=\"og:locale\" content=\"ko_KR\" />\\n<meta property=\"article:publisher\" content=\"https://www.facebook.com/WordPresscom\" />\\n<meta name=\"twitter:text:title\" content=\"퀴즈\" />\\n<meta name=\"twitter:card\" content=\"summary\" />\\n\\n<!-- End Jetpack Open Graph Tags -->\\n<link rel=\"shortcut icon\" type=\"image/x-icon\" href=\"https://s1.wp.com/i/favicon.ico\" sizes=\"16x16 24x24 32x32 48x48\" />\\n<link rel=\"icon\" type=\"image/x-icon\" href=\"https://s1.wp.com/i/favicon.ico\" sizes=\"16x16 24x24 32x32 48x48\" />\\n<link rel=\"apple-touch-icon\" href=\"https://s2.wp.com/i/webclip.png\" />\\n<link rel=\"search\" type=\"application/opensearchdescription+xml\" href=\"https://sparkkorea.com/osd.xml\" title=\"스파크 코리아\" />\\n<link rel=\"search\" type=\"application/opensearchdescription+xml\" href=\"https://s1.wp.com/opensearch.xml\" title=\"WordPress.com\" />\\n<meta name=\"application-name\" content=\"스파크 코리아\" /><meta name=\"msapplication-window\" content=\"width=device-width;height=device-height\" /><meta name=\"msapplication-tooltip\" content=\"스파크코리아 자료공유\" /><meta name=\"msapplication-task\" content=\"name=구독;action-uri=https://sparkkorea.com/feed/;icon-uri=https://s1.wp.com/i/favicon.ico\" /><meta name=\"msapplication-task\" content=\"name=무료 블로그 등록;action-uri=http://wordpress.com/signup/;icon-uri=https://s1.wp.com/i/favicon.ico\" /><meta name=\"msapplication-task\" content=\"name=WordPress.com 지원;action-uri=http://support.wordpress.com/;icon-uri=https://s1.wp.com/i/favicon.ico\" /><meta name=\"msapplication-task\" content=\"name=WordPress.com 포럼;action-uri=http://forums.wordpress.com/;icon-uri=https://s1.wp.com/i/favicon.ico\" /><meta name=\"description\" content=\"메인 설문 준비중 Spark 퀴즈 6/13 Spark 심화과정 6/13 Spark 기본과정 6/18 Spark [MAP_FILTER] 6/18 Spark GroupBy 심화 6/25 Spark RDD 실전 분석 6/27 Spark RDD 실전 분석2\" />\\n</head>\\n\\n<body class=\"page-template-default page page-id-102 wp-embed-responsive customizer-styles-applied is-singular no-js highlander-enabled highlander-light\">\\n<div id=\"page\" class=\"hfeed site\">\\n\\t<a class=\"skip-link screen-reader-text\" href=\"#content\">컨텐츠로 건너뛰기</a>\\n\\n\\t<header id=\"masthead\" class=\"site-header\" role=\"banner\">\\n\\t\\t<div class=\"site-branding\">\\n\\t\\t\\t\\t\\t\\t<h1 class=\"site-title\">\\n\\t\\t\\t\\t<a href=\"https://sparkkorea.com/\" rel=\"home\">\\n\\t\\t\\t\\t\\t스파크 코리아\\t\\t\\t\\t</a>\\n\\t\\t\\t</h1>\\n\\t\\t\\t<p class=\"site-description\">스파크코리아 자료공유</p>\\n\\t\\t</div><!-- .site-branding -->\\n\\n\\t\\t<nav id=\"site-navigation\" class=\"main-navigation\" role=\"navigation\">\\n\\t\\t\\t<button class=\"menu-toggle\" aria-controls=\"primary-menu\" aria-expanded=\"false\">메뉴</button>\\n\\t\\t\\t<div class=\"primary-menu\"><ul id=\"primary-menu\" class=\"menu\"><li id=\"menu-item-27\" class=\"menu-item menu-item-type-post_type menu-item-object-page menu-item-27\"><a href=\"https://sparkkorea.com/%ec%9e%90%eb%a3%8c%ec%8b%a4/\">자료실</a></li>\\n<li id=\"menu-item-382\" class=\"menu-item menu-item-type-post_type menu-item-object-page current-menu-item page_item page-item-102 current_page_item menu-item-382\"><a href=\"https://sparkkorea.com/%ed%80%b4%ec%a6%88/\" aria-current=\"page\">퀴즈</a></li>\\n<li id=\"menu-item-264\" class=\"menu-item menu-item-type-post_type menu-item-object-page menu-item-264\"><a href=\"https://sparkkorea.com/%ec%84%a4%eb%ac%b8-2/\">설문s</a></li>\\n<li id=\"menu-item-383\" class=\"menu-item menu-item-type-post_type menu-item-object-page menu-item-383\"><a href=\"https://sparkkorea.com/%ed%85%8c%ec%8a%a4%ed%8a%b8/\">테스트</a></li>\\n<li id=\"menu-item-397\" class=\"menu-item menu-item-type-post_type menu-item-object-page menu-item-397\"><a href=\"https://sparkkorea.com/%ec%84%a4%eb%ac%b8/\">학생퀴즈</a></li>\\n</ul></div>\\t\\t</nav>\\n\\n\\t</header><!-- #masthead -->\\n\\n\\t<div class=\"site-inner\">\\n\\n\\t\\t\\n\\t\\t<div id=\"content\" class=\"site-content\">\\n\\n\\t<main id=\"primary\" class=\"content-area\" role=\"main\">\\n\\t\\t\\n\\t\\t\\t\\n<article id=\"post-102\" class=\"post-102 page type-page status-publish hentry\">\\n\\n\\t\\n\\t<div class=\"entry-inner\">\\n\\n\\t\\t<header class=\"entry-header\">\\n\\t\\t\\t<h1 class=\"entry-title\">퀴즈</h1>\\t\\t\\t\\t\\t</header><!-- .entry-header -->\\n\\n\\t\\t<div class=\"entry-content\">\\n\\t\\t\\t\\n<div class=\"class_general_main\" id=\"id_general_main\">\\n\\n     <h1> 메인 </h1>\\n    <a href=\"#\"> 설문 준비중 </a>\\n    <p></p>  \\n \\n \\n</div>\\n\\n\\n<div class=\"class_spark_quiz\" id=\"id_spark_quiz\">\\n\\n     <h1>Spark 퀴즈 </h1>\\n    <a href=\"https://forms.gle/Fw49w9GhWQChDcZm7\"> 6/13 Spark 심화과정 </a>\\n    <p></p>  \\n    <a href=\"https://forms.gle/G4TcXm3fKuHLHA6D6\"> 6/13 Spark 기본과정 </a>\\n    <p></p> \\n    <a href=\"https://forms.gle/M8gr1kC2ubA3UDVp8\"> 6/18 Spark [MAP_FILTER] </a>\\n    <p></p> \\n    <a href=\"https://forms.gle/h8w5mZ4MNaPLCPbi6\"> 6/18 Spark GroupBy 심화 </a>\\n    <p></p> \\n    <a href=\"https://forms.gle/q5yL6QHfueDLM5w27\"> 6/25 Spark RDD 실전 분석 </a>\\n\\n    <p></p> \\n    <a href=\"https://forms.gle/Gxb4y6LfVYiaLu4M7\"> 6/27 Spark RDD 실전 분석2 </a>\\n    \\n    \\n    <p></p> \\n</div>\\n<div id=\"jp-post-flair\" class=\"sharedaddy sd-like-enabled sd-sharing-enabled\"><div class=\"sharedaddy sd-sharing-enabled\"><div class=\"robots-nocontent sd-block sd-social sd-social-icon-text sd-sharing\"><h3 class=\"sd-title\">이 글 공유하기:</h3><div class=\"sd-content\"><ul><li class=\"share-twitter\"><a rel=\"nofollow noopener noreferrer\" data-shared=\"sharing-twitter-102\" class=\"share-twitter sd-button share-icon\" href=\"https://sparkkorea.com/%ed%80%b4%ec%a6%88/?share=twitter\" target=\"_blank\" title=\"트위터로 공유하기\" ><span>트위터</span></a></li><li class=\"share-facebook\"><a rel=\"nofollow noopener noreferrer\" data-shared=\"sharing-facebook-102\" class=\"share-facebook sd-button share-icon\" href=\"https://sparkkorea.com/%ed%80%b4%ec%a6%88/?share=facebook\" target=\"_blank\" title=\"페이스북에 공유하려면 클릭하세요.\" ><span>Facebook</span></a></li><li class=\"share-end\"></li></ul></div></div></div><div class=\\'sharedaddy sd-block sd-like jetpack-likes-widget-wrapper jetpack-likes-widget-unloaded\\' id=\\'like-post-wrapper-163927570-102-641bddf2aa81b\\' data-src=\\'//widgets.wp.com/likes/index.html?ver=20230309#blog_id=163927570&amp;post_id=102&amp;origin=sparkkorea.wordpress.com&amp;obj_id=163927570-102-641bddf2aa81b&amp;domain=sparkkorea.com\\' data-name=\\'like-post-frame-163927570-102-641bddf2aa81b\\' data-title=\\'좋아요 또는 리블로깅\\'><h3 class=\\'sd-title\\'>이것이 좋아요:</h3><div class=\\'likes-widget-placeholder post-likes-widget-placeholder\\' style=\\'height: 55px;\\'><span class=\\'button\\'><span>좋아하기</span></span> <span class=\"loading\">가져오는 중...</span></div><span class=\\'sd-text-color\\'></span><a class=\\'sd-link-color\\'></a></div></div>\\t\\t\\t\\t\\t</div><!-- .entry-content -->\\n\\n\\t</div><!-- .entry-inner -->\\n</article><!-- #post-## -->\\n\\n\\n\\t\\t\\n\\t\\t\\n\\t</main><!-- #main -->\\n\\n\\n\\t\\t</div><!-- #content -->\\n\\n\\t\\t<footer id=\"colophon\" class=\"site-footer\" role=\"contentinfo\">\\n\\t\\t\\t\\n\\t\\t\\t<div class=\"footer-bottom-info \">\\n\\n\\t\\t\\t\\t\\n\\t\\t\\t\\t<div class=\"site-info\">\\n\\t\\t\\t\\t\\t<a href=\"https://wordpress.com/?ref=footer_segment_business\" rel=\"nofollow\">워드프레스닷컴 웹사이트.</a>\\n\\t\\t\\t\\t\\t\\n\\t\\t\\t\\t\\t\\t\\t\\t\\t</div><!-- .site-info -->\\n\\t\\t\\t</div><!-- .footer-bottom-info -->\\n\\n\\t\\t</footer><!-- #colophon -->\\n\\n\\t</div><!-- .site-inner -->\\n</div><!-- #page -->\\n\\n<!--  -->\\n<script src=\\'//0.gravatar.com/js/gprofiles.js?ver=202312z\\' id=\\'grofiles-cards-js\\'></script>\\n<script id=\\'wpgroho-js-extra\\'>\\nvar WPGroHo = {\"my_hash\":\"\"};\\n</script>\\n<script crossorigin=\\'anonymous\\' type=\\'text/javascript\\' src=\\'https://s1.wp.com/wp-content/mu-plugins/gravatar-hovercards/wpgroho.js?m=1610363240h\\'></script>\\n\\n\\t<script>\\n\\t\\t// Initialize and attach hovercards to all gravatars\\n\\t\\t( function() {\\n\\t\\t\\tfunction init() {\\n\\t\\t\\t\\tif ( typeof Gravatar === \\'undefined\\' ) {\\n\\t\\t\\t\\t\\treturn;\\n\\t\\t\\t\\t}\\n\\n\\t\\t\\t\\tif ( typeof Gravatar.init !== \\'function\\' ) {\\n\\t\\t\\t\\t\\treturn;\\n\\t\\t\\t\\t}\\n\\n\\t\\t\\t\\tGravatar.profile_cb = function ( hash, id ) {\\n\\t\\t\\t\\t\\tWPGroHo.syncProfileData( hash, id );\\n\\t\\t\\t\\t};\\n\\n\\t\\t\\t\\tGravatar.my_hash = WPGroHo.my_hash;\\n\\t\\t\\t\\tGravatar.init( \\'body\\', \\'#wp-admin-bar-my-account\\' );\\n\\t\\t\\t}\\n\\n\\t\\t\\tif ( document.readyState !== \\'loading\\' ) {\\n\\t\\t\\t\\tinit();\\n\\t\\t\\t} else {\\n\\t\\t\\t\\tdocument.addEventListener( \\'DOMContentLoaded\\', init );\\n\\t\\t\\t}\\n\\t\\t} )();\\n\\t</script>\\n\\n\\t\\t<div style=\"display:none\">\\n\\t</div>\\n\\t<div id=\"actionbar\" style=\"display: none;\"\\n\\t\\t\\tclass=\"actnbr-pub-dyad-2 actnbr-has-follow\">\\n\\t\\t<ul>\\n\\t\\t\\t\\t\\t\\t<li class=\"actnbr-ellipsis actnbr-hidden\">\\n\\t\\t\\t\\t<svg class=\"gridicon gridicons-ellipsis\" height=\"24\" width=\"24\" xmlns=\"http://www.w3.org/2000/svg\" viewBox=\"0 0 24 24\"><g><path d=\"M7 12c0 1.104-.896 2-2 2s-2-.896-2-2 .896-2 2-2 2 .896 2 2zm12-2c-1.104 0-2 .896-2 2s.896 2 2 2 2-.896 2-2-.896-2-2-2zm-7 0c-1.104 0-2 .896-2 2s.896 2 2 2 2-.896 2-2-.896-2-2-2z\"/></g></svg>\\t\\t\\t\\t<div class=\"actnbr-popover tip tip-top-left actnbr-more\">\\n\\t\\t\\t\\t\\t<div class=\"tip-arrow\"></div>\\n\\t\\t\\t\\t\\t<div class=\"tip-inner\">\\n\\t\\t\\t\\t\\t\\t<ul>\\n\\t\\t\\t\\t\\t\\t\\t\\t\\t<li class=\"actnbr-sitename\">\\n\\t\\t\\t<a href=\"https://sparkkorea.com\">\\n\\t\\t\\t\\t<img alt=\\'\\' src=\\'https://s2.wp.com/i/logo/wpcom-gray-white.png\\' class=\\'avatar avatar-50\\' height=\\'50\\' width=\\'50\\' />\\t\\t\\t\\t스파크 코리아\\t\\t\\t</a>\\n\\t\\t</li>\\n\\t\\t\\t\\t\\t\\t\\t\\t<li class=\"actnbr-folded-customize\">\\n\\t\\t\\t\\t\\t\\t\\t\\t<a href=\"https://sparkkorea.wordpress.com/wp-admin/customize.php?url=https%3A%2F%2Fsparkkorea.wordpress.com%2F%25ED%2580%25B4%25EC%25A6%2588%2F\">\\n\\t\\t\\t\\t\\t\\t\\t\\t\\t<svg class=\"gridicon gridicons-customize\" height=\"20\" width=\"20\" xmlns=\"http://www.w3.org/2000/svg\" viewBox=\"0 0 24 24\"><g><path d=\"M2 6c0-1.505.78-3.08 2-4 0 .845.69 2 2 2 1.657 0 3 1.343 3 3 0 .386-.08.752-.212 1.09.74.594 1.476 1.19 2.19 1.81L8.9 11.98c-.62-.716-1.214-1.454-1.807-2.192C6.753 9.92 6.387 10 6 10c-2.21 0-4-1.79-4-4zm12.152 6.848l1.34-1.34c.607.304 1.283.492 2.008.492 2.485 0 4.5-2.015 4.5-4.5 0-.725-.188-1.4-.493-2.007L18 9l-2-2 3.507-3.507C18.9 3.188 18.225 3 17.5 3 15.015 3 13 5.015 13 7.5c0 .725.188 1.4.493 2.007L3 20l2 2 6.848-6.848c1.885 1.928 3.874 3.753 5.977 5.45l1.425 1.148 1.5-1.5-1.15-1.425c-1.695-2.103-3.52-4.092-5.448-5.977z\"/></g></svg>\\t\\t\\t\\t\\t\\t\\t\\t\\t<span>사용자 정의하기</span>\\n\\t\\t\\t\\t\\t\\t\\t\\t</a>\\n\\t\\t\\t\\t\\t\\t\\t</li>\\n\\t\\t\\t\\t\\t\\t\\t\\t\\t\\t\\t\\t\\t\\t\\t\\t<li class=\"actnbr-signup\"><a href=\"https://wordpress.com/start/\">가입</a></li>\\n\\t\\t\\t\\t\\t\\t\\t\\t\\t<li class=\"actnbr-login\"><a href=\"https://wordpress.com/log-in?redirect_to=https%3A%2F%2Fr-login.wordpress.com%2Fremote-login.php%3Faction%3Dlink%26back%3Dhttps%253A%252F%252Fsparkkorea.com%252F%2525ed%252580%2525b4%2525ec%2525a6%252588%252F\">로그인</a></li>\\n\\t\\t\\t\\t\\t\\t\\t\\t\\t\\t\\t\\t\\t\\t\\t\\t\\t<li class=\"actnbr-shortlink\"><a href=\"https://wp.me/Pb5P34-1E\">단축 링크 복사</a></li>\\n\\t\\t\\t\\t\\t\\t\\t\\t\\t\\t\\t\\t\\t\\t\\t\\t\\t<li class=\"flb-report\"><a href=\"http://en.wordpress.com/abuse/\">이 콘텐츠 신고하기</a></li>\\n\\t\\t\\t\\t\\t\\t\\t\\t\\t\\t\\t\\t\\t\\t\\t\\t\\t<li class=\"actnbr-subs\">\\n\\t\\t\\t\\t\\t\\t\\t\\t\\t\\t<a href=\"https://subscribe.wordpress.com/\">구독 관리</a>\\n\\t\\t\\t\\t\\t\\t\\t\\t\\t</li>\\n\\t\\t\\t\\t\\t\\t\\t\\t\\t\\t\\t\\t\\t\\t</ul>\\n\\t\\t\\t\\t\\t</div>\\n\\t\\t\\t\\t</div>\\n\\t\\t\\t</li>\\n\\t\\t</ul>\\n\\t</div>\\n\\t\\n<script>\\nwindow.addEventListener( \"load\", function( event ) {\\n\\tvar link = document.createElement( \"link\" );\\n\\tlink.href = \"https://s0.wp.com/wp-content/mu-plugins/actionbar/actionbar.css?v=20210915\";\\n\\tlink.type = \"text/css\";\\n\\tlink.rel = \"stylesheet\";\\n\\tdocument.head.appendChild( link );\\n\\n\\tvar script = document.createElement( \"script\" );\\n\\tscript.src = \"https://s0.wp.com/wp-content/mu-plugins/actionbar/actionbar.js?v=20220329\";\\n\\tscript.defer = true;\\n\\tdocument.body.appendChild( script );\\n} );\\n</script>\\n\\n\\t\\n\\t<script type=\"text/javascript\">\\n\\t\\twindow.WPCOM_sharing_counts = {\"https:\\\\/\\\\/sparkkorea.com\\\\/%ed%80%b4%ec%a6%88\\\\/\":102};\\n\\t</script>\\n\\t\\t\\t\\t<script id=\\'comment-like-js-extra\\'>\\nvar comment_like_text = {\"loading\":\"\\\\uac00\\\\uc838\\\\uc624\\\\ub294 \\\\uc911...\",\"swipeUrl\":\"https:\\\\/\\\\/s2.wp.com\\\\/wp-content\\\\/mu-plugins\\\\/comment-likes\\\\/js\\\\/lib\\\\/swipe.js?ver=20131008\"};\\n</script>\\n<script id=\\'sharing-js-js-extra\\'>\\nvar sharing_js_options = {\"lang\":\"en\",\"counts\":\"1\",\"is_stats_active\":\"1\"};\\n</script>\\n<script crossorigin=\\'anonymous\\' type=\\'text/javascript\\' src=\\'https://s2.wp.com/_static/??-eJyNUO1OwzAMfCEya0xi4wfiUZAbe63bxAn5GPTtSdmEqoEq/vnj7nw++IjGBi2sBcYMxBexHD93Y36A1cpXE13tRTM4mTjDe+XKAyo5ThtgG7xvI3MljXeDe2IZ2DdYrB3QjGQeF4biRXosEvRf8DxJbOo6mXOwNZuz/Dwjal2lqw/x2HN2AYlp50X/wnjMQdO8Xm+e7l3o0G2kgdSkTIdpkS6cWmVKQjv9SmJFGrnEBrn1EFOgapc44K2Zha6KI8gDJiYkmr9L0f7m+tW/7J+Op8Pp+XjYj18kXrbD\\'></script>\\n<script type=\\'text/javascript\\'>\\nvar windowOpen;\\n\\t\\t\\t( function () {\\n\\t\\t\\t\\tfunction matches( el, sel ) {\\n\\t\\t\\t\\t\\treturn !! (\\n\\t\\t\\t\\t\\t\\tel.matches && el.matches( sel ) ||\\n\\t\\t\\t\\t\\t\\tel.msMatchesSelector && el.msMatchesSelector( sel )\\n\\t\\t\\t\\t\\t);\\n\\t\\t\\t\\t}\\n\\n\\t\\t\\t\\tdocument.body.addEventListener( \\'click\\', function ( event ) {\\n\\t\\t\\t\\t\\tif ( ! event.target ) {\\n\\t\\t\\t\\t\\t\\treturn;\\n\\t\\t\\t\\t\\t}\\n\\n\\t\\t\\t\\t\\tvar el;\\n\\t\\t\\t\\t\\tif ( matches( event.target, \\'a.share-twitter\\' ) ) {\\n\\t\\t\\t\\t\\t\\tel = event.target;\\n\\t\\t\\t\\t\\t} else if ( event.target.parentNode && matches( event.target.parentNode, \\'a.share-twitter\\' ) ) {\\n\\t\\t\\t\\t\\t\\tel = event.target.parentNode;\\n\\t\\t\\t\\t\\t}\\n\\n\\t\\t\\t\\t\\tif ( el ) {\\n\\t\\t\\t\\t\\t\\tevent.preventDefault();\\n\\n\\t\\t\\t\\t\\t\\t// If there\\'s another sharing window open, close it.\\n\\t\\t\\t\\t\\t\\tif ( typeof windowOpen !== \\'undefined\\' ) {\\n\\t\\t\\t\\t\\t\\t\\twindowOpen.close();\\n\\t\\t\\t\\t\\t\\t}\\n\\t\\t\\t\\t\\t\\twindowOpen = window.open( el.getAttribute( \\'href\\' ), \\'wpcomtwitter\\', \\'menubar=1,resizable=1,width=600,height=350\\' );\\n\\t\\t\\t\\t\\t\\treturn false;\\n\\t\\t\\t\\t\\t}\\n\\t\\t\\t\\t} );\\n\\t\\t\\t} )();\\nvar windowOpen;\\n\\t\\t\\t( function () {\\n\\t\\t\\t\\tfunction matches( el, sel ) {\\n\\t\\t\\t\\t\\treturn !! (\\n\\t\\t\\t\\t\\t\\tel.matches && el.matches( sel ) ||\\n\\t\\t\\t\\t\\t\\tel.msMatchesSelector && el.msMatchesSelector( sel )\\n\\t\\t\\t\\t\\t);\\n\\t\\t\\t\\t}\\n\\n\\t\\t\\t\\tdocument.body.addEventListener( \\'click\\', function ( event ) {\\n\\t\\t\\t\\t\\tif ( ! event.target ) {\\n\\t\\t\\t\\t\\t\\treturn;\\n\\t\\t\\t\\t\\t}\\n\\n\\t\\t\\t\\t\\tvar el;\\n\\t\\t\\t\\t\\tif ( matches( event.target, \\'a.share-facebook\\' ) ) {\\n\\t\\t\\t\\t\\t\\tel = event.target;\\n\\t\\t\\t\\t\\t} else if ( event.target.parentNode && matches( event.target.parentNode, \\'a.share-facebook\\' ) ) {\\n\\t\\t\\t\\t\\t\\tel = event.target.parentNode;\\n\\t\\t\\t\\t\\t}\\n\\n\\t\\t\\t\\t\\tif ( el ) {\\n\\t\\t\\t\\t\\t\\tevent.preventDefault();\\n\\n\\t\\t\\t\\t\\t\\t// If there\\'s another sharing window open, close it.\\n\\t\\t\\t\\t\\t\\tif ( typeof windowOpen !== \\'undefined\\' ) {\\n\\t\\t\\t\\t\\t\\t\\twindowOpen.close();\\n\\t\\t\\t\\t\\t\\t}\\n\\t\\t\\t\\t\\t\\twindowOpen = window.open( el.getAttribute( \\'href\\' ), \\'wpcomfacebook\\', \\'menubar=1,resizable=1,width=600,height=400\\' );\\n\\t\\t\\t\\t\\t\\treturn false;\\n\\t\\t\\t\\t\\t}\\n\\t\\t\\t\\t} );\\n\\t\\t\\t} )();\\n</script>\\n<script type=\"text/javascript\">\\n// <![CDATA[\\n(function() {\\ntry{\\n  if ( window.external &&\\'msIsSiteMode\\' in window.external) {\\n    if (window.external.msIsSiteMode()) {\\n      var jl = document.createElement(\\'script\\');\\n      jl.type=\\'text/javascript\\';\\n      jl.async=true;\\n      jl.src=\\'/wp-content/plugins/ie-sitemode/custom-jumplist.php\\';\\n      var s = document.getElementsByTagName(\\'script\\')[0];\\n      s.parentNode.insertBefore(jl, s);\\n    }\\n  }\\n}catch(e){}\\n})();\\n// ]]>\\n</script>\\t<iframe src=\\'https://widgets.wp.com/likes/master.html?ver=20230309#ver=20230309&amp;lang=ko&amp;lang_ver=1629891228&amp;origin=https://sparkkorea.com\\' scrolling=\\'no\\' id=\\'likes-master\\' name=\\'likes-master\\' style=\\'display:none;\\'></iframe>\\n\\t<div id=\\'likes-other-gravatars\\'>\\n\\t\\t<div class=\"likes-text\">\\n\\t\\t\\t<span>%d</span> 블로거가 이것을 좋아합니다:\\t\\t</div>\\n\\t\\t<ul class=\"wpl-avatars sd-like-gravatars\"></ul>\\n\\t</div>\\n\\n\\t\\t<script src=\"//stats.wp.com/w.js?63\" defer></script> <script type=\"text/javascript\">\\n_tkq = window._tkq || [];\\n_stq = window._stq || [];\\n_tkq.push([\\'storeContext\\', {\\'blog_id\\':\\'163927570\\',\\'blog_tz\\':\\'9\\',\\'user_lang\\':\\'ko\\',\\'blog_lang\\':\\'ko\\',\\'user_id\\':\\'0\\'}]);\\n_stq.push([\\'view\\', {\\'blog\\':\\'163927570\\',\\'v\\':\\'wpcom\\',\\'tz\\':\\'9\\',\\'user_id\\':\\'0\\',\\'post\\':\\'102\\',\\'subd\\':\\'sparkkorea\\'}]);\\n_stq.push([\\'extra\\', {\\'crypt\\':\\'UE40eW5QN0p8M2Y/RE1mNzc2NTVTamdsd0xoLz9RQkM2K298TXY9bERQMXc2MjhEaVZfb2wwakRoSj0mUkp1THptM1NdbkV1WjZIcU9mVWQmPUIvMlN6Jk8wW3NYVEJ3dWZOWExuWD8xeVkmK0dUTXo0Y2Zla35pLTE0dlY2QWxQL01fUWNOQUp6Ui1sbnctaHA1W3JNX1ZKel1BfkIvbjM4N1p0TkZyNEtHYXFQN2h0bjRkOG5sb0cyS213bjguOHxOaG9nTVRDbEFlSTRsOWpIaFpzT256UU5JZ19BMkwrXzlXUnwsWWRVeFBNajZleWZFTUpPbz9oN2dvfHBpSDEzY3FoXz1Iclkya0E=\\'}]);\\n_stq.push([ \\'clickTrackerInit\\', \\'163927570\\', \\'102\\' ]);\\n\\t</script>\\n<noscript><img src=\"https://pixel.wp.com/b.gif?v=noscript\" style=\"height:1px;width:1px;overflow:hidden;position:absolute;bottom:1px;\" alt=\"\" /></noscript>\\n<script>\\nif ( \\'object\\' === typeof wpcom_mobile_user_agent_info ) {\\n\\n\\twpcom_mobile_user_agent_info.init();\\n\\tvar mobileStatsQueryString = \"\";\\n\\t\\n\\tif( false !== wpcom_mobile_user_agent_info.matchedPlatformName )\\n\\t\\tmobileStatsQueryString += \"&x_\" + \\'mobile_platforms\\' + \\'=\\' + wpcom_mobile_user_agent_info.matchedPlatformName;\\n\\t\\n\\tif( false !== wpcom_mobile_user_agent_info.matchedUserAgentName )\\n\\t\\tmobileStatsQueryString += \"&x_\" + \\'mobile_devices\\' + \\'=\\' + wpcom_mobile_user_agent_info.matchedUserAgentName;\\n\\t\\n\\tif( wpcom_mobile_user_agent_info.isIPad() )\\n\\t\\tmobileStatsQueryString += \"&x_\" + \\'ipad_views\\' + \\'=\\' + \\'views\\';\\n\\n\\tif( \"\" != mobileStatsQueryString ) {\\n\\t\\tnew Image().src = document.location.protocol + \\'//pixel.wp.com/g.gif?v=wpcom-no-pv\\' + mobileStatsQueryString + \\'&baba=\\' + Math.random();\\n\\t}\\n\\t\\n}\\n</script>\\n</body>\\n</html>\\n'"
      ]
     },
     "execution_count": 66,
     "metadata": {},
     "output_type": "execute_result"
    }
   ],
   "source": [
    "webPageSrc"
   ]
  },
  {
   "cell_type": "code",
   "execution_count": null,
   "id": "d76beeb4-c460-4d38-924d-e7408024f932",
   "metadata": {},
   "outputs": [
    {
     "data": {
      "text/plain": [
       "200"
      ]
     },
     "execution_count": 38,
     "metadata": {},
     "output_type": "execute_result"
    }
   ],
   "source": [
    "resp.status_code"
   ]
  },
  {
   "cell_type": "code",
   "execution_count": null,
   "id": "7cb70070-7c9c-4b9d-8d33-70ff33ae21a8",
   "metadata": {},
   "outputs": [],
   "source": [
    "# status_code : 신호 세기를 확인"
   ]
  },
  {
   "cell_type": "code",
   "execution_count": null,
   "id": "c46fe168-2a39-43d2-b07d-bee1150c6f73",
   "metadata": {},
   "outputs": [],
   "source": [
    "# 정상 신호로 입력을 받으면 200이 출력된다."
   ]
  },
  {
   "cell_type": "code",
   "execution_count": null,
   "id": "affb7dc5-caf3-4d52-8d71-1bab470319a3",
   "metadata": {
    "tags": []
   },
   "outputs": [],
   "source": [
    "htmlobj = bs4.BeautifulSoup(webPageSrc, \"html.parser\")"
   ]
  },
  {
   "cell_type": "code",
   "execution_count": null,
   "id": "3de421d1-2846-4a3b-ae6e-5001172ba81d",
   "metadata": {},
   "outputs": [],
   "source": [
    "# txt 형식으로 받은 정보를 보기 편하게 한 번 정돈해준다."
   ]
  },
  {
   "cell_type": "code",
   "execution_count": null,
   "id": "aeac5364-1755-42fc-b2a6-e0da3b98905c",
   "metadata": {},
   "outputs": [],
   "source": []
  },
  {
   "cell_type": "markdown",
   "id": "7e57d268-c99a-4634-9ce6-5c22a0b1b192",
   "metadata": {},
   "source": [
    "## 2. 태그정보 수집하기."
   ]
  },
  {
   "cell_type": "code",
   "execution_count": null,
   "id": "0de10b89-bdeb-462c-8fcd-247ae96a4791",
   "metadata": {},
   "outputs": [],
   "source": []
  },
  {
   "cell_type": "code",
   "execution_count": null,
   "id": "0286fb2f-d793-46cc-8038-ed02deaed78f",
   "metadata": {},
   "outputs": [],
   "source": [
    "divs = htmlobj.findAll(name = \"div\")"
   ]
  },
  {
   "cell_type": "code",
   "execution_count": null,
   "id": "2aff3df0-f199-44cf-9bce-c8d8f4ba157c",
   "metadata": {},
   "outputs": [],
   "source": [
    "# find는 맨 처음에 등장하는 div 태그를 찾는다."
   ]
  },
  {
   "cell_type": "code",
   "execution_count": null,
   "id": "f7079810-ced3-4cfe-9df0-a52887bbf8f7",
   "metadata": {},
   "outputs": [],
   "source": [
    "# find로 찾으면 하나만 찾기에 리스트 형식으로 담기지 않는다."
   ]
  },
  {
   "cell_type": "code",
   "execution_count": null,
   "id": "46f3e8b0-747b-4f9b-aeb4-44f61a482a5e",
   "metadata": {},
   "outputs": [],
   "source": [
    "# findAll은 div 태그를 모두 담는다."
   ]
  },
  {
   "cell_type": "code",
   "execution_count": null,
   "id": "eae3c30f-1a95-4295-893a-a683f399ef47",
   "metadata": {},
   "outputs": [],
   "source": [
    "# findAll 기능으로 찾은 모든 데이터는 리스트 형식으로 담긴다."
   ]
  },
  {
   "cell_type": "code",
   "execution_count": null,
   "id": "77c0ed12-5950-42f1-98ae-c6ad049ff4f2",
   "metadata": {},
   "outputs": [],
   "source": []
  },
  {
   "cell_type": "code",
   "execution_count": null,
   "id": "e2ec24a3-8a8d-4da8-95cd-9d2b86ce9838",
   "metadata": {},
   "outputs": [],
   "source": [
    "aTagFirst = htmlobj.find(name = \"a\")"
   ]
  },
  {
   "cell_type": "code",
   "execution_count": null,
   "id": "6ba5a17e-7945-496f-adbd-aaa0a2b6a4b0",
   "metadata": {},
   "outputs": [],
   "source": [
    "# 해당 데이터 뭉치에서 처음으로 \"a\"를 사용한(들어간) 데이터를 찾는다."
   ]
  },
  {
   "cell_type": "code",
   "execution_count": null,
   "id": "b7e2ac68-67dc-448f-92be-5b42e785bd7e",
   "metadata": {},
   "outputs": [
    {
     "data": {
      "text/plain": [
       "<a class=\"skip-link screen-reader-text\" href=\"#content\">컨텐츠로 건너뛰기</a>"
      ]
     },
     "execution_count": 61,
     "metadata": {},
     "output_type": "execute_result"
    }
   ],
   "source": [
    "aTagFirst"
   ]
  },
  {
   "cell_type": "code",
   "execution_count": null,
   "id": "17adbded-622f-4011-a83f-a169358d5809",
   "metadata": {},
   "outputs": [
    {
     "data": {
      "text/plain": [
       "'컨텐츠로 건너뛰기'"
      ]
     },
     "execution_count": 62,
     "metadata": {},
     "output_type": "execute_result"
    }
   ],
   "source": [
    "aTagFirst.text"
   ]
  },
  {
   "cell_type": "code",
   "execution_count": null,
   "id": "51690531-178e-4f62-8f52-8ee020996089",
   "metadata": {},
   "outputs": [],
   "source": [
    "# 대상 데이터에서 text 값을 추출한다."
   ]
  },
  {
   "cell_type": "code",
   "execution_count": null,
   "id": "27b72a15-36ed-4bb7-be7c-a1b9ac6812c3",
   "metadata": {},
   "outputs": [],
   "source": []
  },
  {
   "cell_type": "code",
   "execution_count": null,
   "id": "4c8ee19c-8b8f-4dcf-ba42-f198cf146c5b",
   "metadata": {},
   "outputs": [
    {
     "data": {
      "text/plain": [
       "'#content'"
      ]
     },
     "execution_count": 63,
     "metadata": {},
     "output_type": "execute_result"
    }
   ],
   "source": [
    "aTagFirst.attrs[\"href\"]"
   ]
  },
  {
   "cell_type": "code",
   "execution_count": null,
   "id": "88ce7a98-9832-45cb-82f9-21fd6ae9f04f",
   "metadata": {},
   "outputs": [],
   "source": [
    "# 대상 데이터에서 href 태그에 담긴 데이터를 추출한다."
   ]
  },
  {
   "cell_type": "code",
   "execution_count": null,
   "id": "63b9f5ab-ebd5-4711-8555-3b863f1ca0de",
   "metadata": {},
   "outputs": [],
   "source": []
  },
  {
   "cell_type": "code",
   "execution_count": null,
   "id": "2ce96e60-32ae-46f3-9583-5aac560ee8d9",
   "metadata": {},
   "outputs": [],
   "source": [
    "aTags = htmlobj.findAll(\"a\")"
   ]
  },
  {
   "cell_type": "code",
   "execution_count": null,
   "id": "b38b7094-1c77-4004-8d7b-ace718d690db",
   "metadata": {},
   "outputs": [],
   "source": [
    "linkList = []"
   ]
  },
  {
   "cell_type": "code",
   "execution_count": null,
   "id": "df211c58-989e-4fa3-a51e-70d73e43368e",
   "metadata": {},
   "outputs": [
    {
     "name": "stdout",
     "output_type": "stream",
     "text": [
      "'href'\n"
     ]
    }
   ],
   "source": [
    "for i in range(0, len(aTags)):\n",
    "    try:\n",
    "        linkList.append(aTags[i].attrs[\"href\"])\n",
    "    except Exception as e:\n",
    "        print(e)"
   ]
  },
  {
   "cell_type": "code",
   "execution_count": null,
   "id": "421795a1-38e9-49a9-9be8-7c56e7ba8c7f",
   "metadata": {},
   "outputs": [],
   "source": []
  },
  {
   "cell_type": "markdown",
   "id": "37a86c04-395c-4bb8-9f6b-54500025aecc",
   "metadata": {},
   "source": [
    "# 3. 속성값을 활용해서 태그 정보를 수집하자."
   ]
  },
  {
   "cell_type": "code",
   "execution_count": null,
   "id": "f41145c9-297e-4549-927a-532dbd92a3e4",
   "metadata": {},
   "outputs": [],
   "source": []
  },
  {
   "cell_type": "code",
   "execution_count": null,
   "id": "9206c38a-3d1f-4eff-9f86-da75196e5dfb",
   "metadata": {
    "collapsed": true,
    "jupyter": {
     "outputs_hidden": true
    },
    "tags": []
   },
   "outputs": [
    {
     "data": {
      "text/html": [
       "<div>\n",
       "<style scoped>\n",
       "    .dataframe tbody tr th:only-of-type {\n",
       "        vertical-align: middle;\n",
       "    }\n",
       "\n",
       "    .dataframe tbody tr th {\n",
       "        vertical-align: top;\n",
       "    }\n",
       "\n",
       "    .dataframe thead th {\n",
       "        text-align: right;\n",
       "    }\n",
       "</style>\n",
       "<table border=\"1\" class=\"dataframe\">\n",
       "  <thead>\n",
       "    <tr style=\"text-align: right;\">\n",
       "      <th></th>\n",
       "      <th>0</th>\n",
       "    </tr>\n",
       "  </thead>\n",
       "  <tbody>\n",
       "    <tr>\n",
       "      <th>0</th>\n",
       "      <td>#content</td>\n",
       "    </tr>\n",
       "    <tr>\n",
       "      <th>1</th>\n",
       "      <td>https://sparkkorea.com/</td>\n",
       "    </tr>\n",
       "    <tr>\n",
       "      <th>2</th>\n",
       "      <td>https://sparkkorea.com/%ec%9e%90%eb%a3%8c%ec%8...</td>\n",
       "    </tr>\n",
       "    <tr>\n",
       "      <th>3</th>\n",
       "      <td>https://sparkkorea.com/%ed%80%b4%ec%a6%88/</td>\n",
       "    </tr>\n",
       "    <tr>\n",
       "      <th>4</th>\n",
       "      <td>https://sparkkorea.com/%ec%84%a4%eb%ac%b8-2/</td>\n",
       "    </tr>\n",
       "    <tr>\n",
       "      <th>5</th>\n",
       "      <td>https://sparkkorea.com/%ed%85%8c%ec%8a%a4%ed%8...</td>\n",
       "    </tr>\n",
       "    <tr>\n",
       "      <th>6</th>\n",
       "      <td>https://sparkkorea.com/%ec%84%a4%eb%ac%b8/</td>\n",
       "    </tr>\n",
       "    <tr>\n",
       "      <th>7</th>\n",
       "      <td>#</td>\n",
       "    </tr>\n",
       "    <tr>\n",
       "      <th>8</th>\n",
       "      <td>https://forms.gle/Fw49w9GhWQChDcZm7</td>\n",
       "    </tr>\n",
       "    <tr>\n",
       "      <th>9</th>\n",
       "      <td>https://forms.gle/G4TcXm3fKuHLHA6D6</td>\n",
       "    </tr>\n",
       "    <tr>\n",
       "      <th>10</th>\n",
       "      <td>https://forms.gle/M8gr1kC2ubA3UDVp8</td>\n",
       "    </tr>\n",
       "    <tr>\n",
       "      <th>11</th>\n",
       "      <td>https://forms.gle/h8w5mZ4MNaPLCPbi6</td>\n",
       "    </tr>\n",
       "    <tr>\n",
       "      <th>12</th>\n",
       "      <td>https://forms.gle/q5yL6QHfueDLM5w27</td>\n",
       "    </tr>\n",
       "    <tr>\n",
       "      <th>13</th>\n",
       "      <td>https://forms.gle/Gxb4y6LfVYiaLu4M7</td>\n",
       "    </tr>\n",
       "    <tr>\n",
       "      <th>14</th>\n",
       "      <td>https://sparkkorea.com/%ed%80%b4%ec%a6%88/?sha...</td>\n",
       "    </tr>\n",
       "    <tr>\n",
       "      <th>15</th>\n",
       "      <td>https://sparkkorea.com/%ed%80%b4%ec%a6%88/?sha...</td>\n",
       "    </tr>\n",
       "    <tr>\n",
       "      <th>16</th>\n",
       "      <td>https://wordpress.com/?ref=footer_segment_busi...</td>\n",
       "    </tr>\n",
       "    <tr>\n",
       "      <th>17</th>\n",
       "      <td>https://sparkkorea.com</td>\n",
       "    </tr>\n",
       "    <tr>\n",
       "      <th>18</th>\n",
       "      <td>https://sparkkorea.wordpress.com/wp-admin/cust...</td>\n",
       "    </tr>\n",
       "    <tr>\n",
       "      <th>19</th>\n",
       "      <td>https://wordpress.com/start/</td>\n",
       "    </tr>\n",
       "    <tr>\n",
       "      <th>20</th>\n",
       "      <td>https://wordpress.com/log-in?redirect_to=https...</td>\n",
       "    </tr>\n",
       "    <tr>\n",
       "      <th>21</th>\n",
       "      <td>https://wp.me/Pb5P34-1E</td>\n",
       "    </tr>\n",
       "    <tr>\n",
       "      <th>22</th>\n",
       "      <td>http://en.wordpress.com/abuse/</td>\n",
       "    </tr>\n",
       "    <tr>\n",
       "      <th>23</th>\n",
       "      <td>https://subscribe.wordpress.com/</td>\n",
       "    </tr>\n",
       "  </tbody>\n",
       "</table>\n",
       "</div>"
      ],
      "text/plain": [
       "                                                    0\n",
       "0                                            #content\n",
       "1                             https://sparkkorea.com/\n",
       "2   https://sparkkorea.com/%ec%9e%90%eb%a3%8c%ec%8...\n",
       "3          https://sparkkorea.com/%ed%80%b4%ec%a6%88/\n",
       "4        https://sparkkorea.com/%ec%84%a4%eb%ac%b8-2/\n",
       "5   https://sparkkorea.com/%ed%85%8c%ec%8a%a4%ed%8...\n",
       "6          https://sparkkorea.com/%ec%84%a4%eb%ac%b8/\n",
       "7                                                   #\n",
       "8                 https://forms.gle/Fw49w9GhWQChDcZm7\n",
       "9                 https://forms.gle/G4TcXm3fKuHLHA6D6\n",
       "10                https://forms.gle/M8gr1kC2ubA3UDVp8\n",
       "11                https://forms.gle/h8w5mZ4MNaPLCPbi6\n",
       "12                https://forms.gle/q5yL6QHfueDLM5w27\n",
       "13                https://forms.gle/Gxb4y6LfVYiaLu4M7\n",
       "14  https://sparkkorea.com/%ed%80%b4%ec%a6%88/?sha...\n",
       "15  https://sparkkorea.com/%ed%80%b4%ec%a6%88/?sha...\n",
       "16  https://wordpress.com/?ref=footer_segment_busi...\n",
       "17                             https://sparkkorea.com\n",
       "18  https://sparkkorea.wordpress.com/wp-admin/cust...\n",
       "19                       https://wordpress.com/start/\n",
       "20  https://wordpress.com/log-in?redirect_to=https...\n",
       "21                            https://wp.me/Pb5P34-1E\n",
       "22                     http://en.wordpress.com/abuse/\n",
       "23                   https://subscribe.wordpress.com/"
      ]
     },
     "execution_count": 73,
     "metadata": {},
     "output_type": "execute_result"
    }
   ],
   "source": [
    "pd.DataFrame(linkList)"
   ]
  },
  {
   "cell_type": "code",
   "execution_count": null,
   "id": "d748ef0f-d137-4446-b7b9-714fb9ba4e6b",
   "metadata": {},
   "outputs": [],
   "source": [
    "targetTag = htmlobj.find(name = \"div\", attrs = {\"id\":\"id_spark_quiz\"})"
   ]
  },
  {
   "cell_type": "code",
   "execution_count": null,
   "id": "646ceb51-d078-4253-851e-d5ba9cc6165e",
   "metadata": {},
   "outputs": [],
   "source": [
    "{\"ID\":\"id_spark_quiz\"}"
   ]
  },
  {
   "cell_type": "code",
   "execution_count": null,
   "id": "a38da186-b80a-4eb0-b8b7-33820c2105ec",
   "metadata": {},
   "outputs": [],
   "source": [
    "# 딕셔너리(KEY, VALUE) 타입"
   ]
  },
  {
   "cell_type": "code",
   "execution_count": null,
   "id": "af57febc-79c7-45da-b4bd-f6c137ac7c01",
   "metadata": {},
   "outputs": [],
   "source": []
  },
  {
   "cell_type": "code",
   "execution_count": null,
   "id": "ea3fc3cd-c06b-4ab9-80ac-edac510883dd",
   "metadata": {},
   "outputs": [
    {
     "data": {
      "text/plain": [
       "<div class=\"class_spark_quiz\" id=\"id_spark_quiz\">\n",
       "<h1>Spark 퀴즈 </h1>\n",
       "<a href=\"https://forms.gle/Fw49w9GhWQChDcZm7\"> 6/13 Spark 심화과정 </a>\n",
       "<p></p>\n",
       "<a href=\"https://forms.gle/G4TcXm3fKuHLHA6D6\"> 6/13 Spark 기본과정 </a>\n",
       "<p></p>\n",
       "<a href=\"https://forms.gle/M8gr1kC2ubA3UDVp8\"> 6/18 Spark [MAP_FILTER] </a>\n",
       "<p></p>\n",
       "<a href=\"https://forms.gle/h8w5mZ4MNaPLCPbi6\"> 6/18 Spark GroupBy 심화 </a>\n",
       "<p></p>\n",
       "<a href=\"https://forms.gle/q5yL6QHfueDLM5w27\"> 6/25 Spark RDD 실전 분석 </a>\n",
       "<p></p>\n",
       "<a href=\"https://forms.gle/Gxb4y6LfVYiaLu4M7\"> 6/27 Spark RDD 실전 분석2 </a>\n",
       "<p></p>\n",
       "</div>"
      ]
     },
     "execution_count": 75,
     "metadata": {},
     "output_type": "execute_result"
    }
   ],
   "source": [
    "targetTag"
   ]
  },
  {
   "cell_type": "code",
   "execution_count": null,
   "id": "7d37e6cd-6db1-474d-85c8-e6e0a9f74be2",
   "metadata": {},
   "outputs": [],
   "source": []
  },
  {
   "cell_type": "code",
   "execution_count": null,
   "id": "1f75ca96-0707-44c7-a0b6-09147cc22bc4",
   "metadata": {},
   "outputs": [],
   "source": [
    "testDict = {\"address\":\"seoul\",\n",
    "            \"name\":\"haiteam\"}\n",
    "# address가 키, seoul이 value가 된다."
   ]
  },
  {
   "cell_type": "code",
   "execution_count": null,
   "id": "2a55fd39-b95c-42f7-813d-b8cd38187c24",
   "metadata": {},
   "outputs": [
    {
     "data": {
      "text/plain": [
       "'seoul'"
      ]
     },
     "execution_count": 77,
     "metadata": {},
     "output_type": "execute_result"
    }
   ],
   "source": [
    "testDict[\"address\"]"
   ]
  },
  {
   "cell_type": "code",
   "execution_count": null,
   "id": "fa98c087-2df9-4f71-a9bc-7f3d46dab1a8",
   "metadata": {},
   "outputs": [],
   "source": [
    "seasonDict = {\"1\" : 1.5,\n",
    "              \"2\" : 0.8}"
   ]
  },
  {
   "cell_type": "code",
   "execution_count": null,
   "id": "a34d1912-6d24-487d-871d-9af119caa733",
   "metadata": {},
   "outputs": [],
   "source": [
    "# 대강 이런 상태"
   ]
  },
  {
   "cell_type": "code",
   "execution_count": null,
   "id": "926c14c8-59e7-4386-ac70-6a86af386910",
   "metadata": {},
   "outputs": [
    {
     "data": {
      "text/plain": [
       "1.5"
      ]
     },
     "execution_count": 81,
     "metadata": {},
     "output_type": "execute_result"
    }
   ],
   "source": [
    "seasonDict[\"1\"]"
   ]
  },
  {
   "cell_type": "code",
   "execution_count": null,
   "id": "acec6871-ca86-4077-a5d1-57e3bb4a46b7",
   "metadata": {},
   "outputs": [],
   "source": []
  },
  {
   "cell_type": "code",
   "execution_count": null,
   "id": "c9872ac1-f456-4ed0-8da9-93ec330dc68a",
   "metadata": {},
   "outputs": [
    {
     "data": {
      "text/plain": [
       "<div class=\"class_spark_quiz\" id=\"id_spark_quiz\">\n",
       "<h1>Spark 퀴즈 </h1>\n",
       "<a href=\"https://forms.gle/Fw49w9GhWQChDcZm7\"> 6/13 Spark 심화과정 </a>\n",
       "<p></p>\n",
       "<a href=\"https://forms.gle/G4TcXm3fKuHLHA6D6\"> 6/13 Spark 기본과정 </a>\n",
       "<p></p>\n",
       "<a href=\"https://forms.gle/M8gr1kC2ubA3UDVp8\"> 6/18 Spark [MAP_FILTER] </a>\n",
       "<p></p>\n",
       "<a href=\"https://forms.gle/h8w5mZ4MNaPLCPbi6\"> 6/18 Spark GroupBy 심화 </a>\n",
       "<p></p>\n",
       "<a href=\"https://forms.gle/q5yL6QHfueDLM5w27\"> 6/25 Spark RDD 실전 분석 </a>\n",
       "<p></p>\n",
       "<a href=\"https://forms.gle/Gxb4y6LfVYiaLu4M7\"> 6/27 Spark RDD 실전 분석2 </a>\n",
       "<p></p>\n",
       "</div>"
      ]
     },
     "execution_count": 83,
     "metadata": {},
     "output_type": "execute_result"
    }
   ],
   "source": [
    "targetTag"
   ]
  },
  {
   "cell_type": "code",
   "execution_count": null,
   "id": "682e777c-6c3c-4956-96c8-f732634a28d5",
   "metadata": {},
   "outputs": [],
   "source": [
    "aLinks = targetTag.findAll(name = \"a\")"
   ]
  },
  {
   "cell_type": "code",
   "execution_count": null,
   "id": "6d1d6aa6-34e8-451d-b19d-822d68ed181b",
   "metadata": {},
   "outputs": [
    {
     "data": {
      "text/plain": [
       "[<a href=\"https://forms.gle/Fw49w9GhWQChDcZm7\"> 6/13 Spark 심화과정 </a>,\n",
       " <a href=\"https://forms.gle/G4TcXm3fKuHLHA6D6\"> 6/13 Spark 기본과정 </a>,\n",
       " <a href=\"https://forms.gle/M8gr1kC2ubA3UDVp8\"> 6/18 Spark [MAP_FILTER] </a>,\n",
       " <a href=\"https://forms.gle/h8w5mZ4MNaPLCPbi6\"> 6/18 Spark GroupBy 심화 </a>,\n",
       " <a href=\"https://forms.gle/q5yL6QHfueDLM5w27\"> 6/25 Spark RDD 실전 분석 </a>,\n",
       " <a href=\"https://forms.gle/Gxb4y6LfVYiaLu4M7\"> 6/27 Spark RDD 실전 분석2 </a>]"
      ]
     },
     "execution_count": 110,
     "metadata": {},
     "output_type": "execute_result"
    }
   ],
   "source": [
    "aLinks"
   ]
  },
  {
   "cell_type": "code",
   "execution_count": null,
   "id": "ce8be436-c9e2-4cbd-a630-5e71f0d8dccf",
   "metadata": {},
   "outputs": [],
   "source": [
    "# findAll 뒤에는 find를 사용할 수 없다."
   ]
  },
  {
   "cell_type": "code",
   "execution_count": null,
   "id": "811bf2af-c574-40c5-b578-5fb8a47486e3",
   "metadata": {},
   "outputs": [],
   "source": [
    "quizName = aLinks[0].text"
   ]
  },
  {
   "cell_type": "code",
   "execution_count": null,
   "id": "38aca81b-de41-4464-9e35-468e08376028",
   "metadata": {},
   "outputs": [
    {
     "data": {
      "text/plain": [
       "' 6/13 Spark 심화과정 '"
      ]
     },
     "execution_count": 93,
     "metadata": {},
     "output_type": "execute_result"
    }
   ],
   "source": [
    "quizName"
   ]
  },
  {
   "cell_type": "code",
   "execution_count": null,
   "id": "6dc4bf14-8e17-48a2-a8cb-5d12d923e818",
   "metadata": {},
   "outputs": [],
   "source": [
    "quizLink = aLink[0].attrs[\"href\"]"
   ]
  },
  {
   "cell_type": "code",
   "execution_count": null,
   "id": "e8146983-2cb4-466f-b820-76c857ec487d",
   "metadata": {},
   "outputs": [
    {
     "data": {
      "text/plain": [
       "'https://forms.gle/Fw49w9GhWQChDcZm7'"
      ]
     },
     "execution_count": 95,
     "metadata": {},
     "output_type": "execute_result"
    }
   ],
   "source": [
    "quizLink"
   ]
  },
  {
   "cell_type": "code",
   "execution_count": null,
   "id": "cec98c68-3943-4f7a-87a5-156656b02f2a",
   "metadata": {},
   "outputs": [
    {
     "name": "stdout",
     "output_type": "stream",
     "text": [
      "https://forms.gle/Fw49w9GhWQChDcZm7\n",
      "https://forms.gle/G4TcXm3fKuHLHA6D6\n",
      "https://forms.gle/M8gr1kC2ubA3UDVp8\n",
      "https://forms.gle/h8w5mZ4MNaPLCPbi6\n",
      "https://forms.gle/q5yL6QHfueDLM5w27\n",
      "https://forms.gle/Gxb4y6LfVYiaLu4M7\n"
     ]
    }
   ],
   "source": [
    "for i in range(0, len(aLinks)):\n",
    "    print(aLink[i].attrs[\"href\"])"
   ]
  },
  {
   "cell_type": "code",
   "execution_count": null,
   "id": "587feb18-52e4-43b9-b200-1d709f6668f8",
   "metadata": {},
   "outputs": [],
   "source": [
    "nameList = []"
   ]
  },
  {
   "cell_type": "code",
   "execution_count": null,
   "id": "f84df0c2-a707-4ac2-b636-b5bd045c8a65",
   "metadata": {},
   "outputs": [],
   "source": [
    "quizList = []"
   ]
  },
  {
   "cell_type": "code",
   "execution_count": null,
   "id": "b9076ad2-14bd-46e9-b101-7f7a18587c4f",
   "metadata": {},
   "outputs": [],
   "source": [
    "for i in range(0, len(aLinks)):\n",
    "    # 퀴즈 이름 및 링크 정보 수집\n",
    "    quizName = aLinks[i].text\n",
    "    quizLink = aLinks[i].attrs[\"href\"]\n",
    "    # 리스트에 수집한 값 append\n",
    "    nameList.append(quizName)\n",
    "    quizList.append(quizLink)"
   ]
  },
  {
   "cell_type": "code",
   "execution_count": null,
   "id": "4f3d2be8-bc13-4eeb-b291-f29202733387",
   "metadata": {},
   "outputs": [],
   "source": [
    "result = pd.DataFrame(zip (nameList, linkList), columns = [\"퀴즈이름\", \"퀴즈링크\"])"
   ]
  },
  {
   "cell_type": "code",
   "execution_count": null,
   "id": "bc7223d6-a549-4539-90cb-7615326e2c65",
   "metadata": {},
   "outputs": [],
   "source": []
  },
  {
   "cell_type": "code",
   "execution_count": null,
   "id": "9a593935-665b-48e9-9c6f-0517a806e954",
   "metadata": {},
   "outputs": [],
   "source": [
    "rowList = []"
   ]
  },
  {
   "cell_type": "code",
   "execution_count": null,
   "id": "51182a30-30bf-4eec-aedf-98d3a4b18ca0",
   "metadata": {},
   "outputs": [],
   "source": []
  },
  {
   "cell_type": "code",
   "execution_count": null,
   "id": "b71d5ddc-cd70-4223-84f2-07addaaa66a2",
   "metadata": {},
   "outputs": [],
   "source": [
    "rowList = []\n",
    "# 빈 리스트를 생성\n",
    "for i in range(0, len(aLinks)):\n",
    "    rowName = aLinks[i].text, aLinks[i].attrs[\"href\"]\n",
    "    rowList.append(rowName)\n",
    "# RowName : 추출할 데이터로부터, text 형식과 href, 링크 정보를\n",
    "# Rowname 이라는 변수에 저장한다.\n",
    "# 이후 for문을 통해 확보한 데이터를 rowList에 넣어준다.\n",
    "    \n",
    "result02 = pd.DataFrame(rowList, columns = [\"퀴즈이름\", \"퀴즈링크\"])\n",
    "# 이후 열 이름으로 :\"퀴즈이름\", \"퀴즈링크\"를 지정한다."
   ]
  },
  {
   "cell_type": "code",
   "execution_count": null,
   "id": "dc02e9ae-3835-40f5-9cf1-5c668c1302f4",
   "metadata": {},
   "outputs": [
    {
     "data": {
      "text/html": [
       "<div>\n",
       "<style scoped>\n",
       "    .dataframe tbody tr th:only-of-type {\n",
       "        vertical-align: middle;\n",
       "    }\n",
       "\n",
       "    .dataframe tbody tr th {\n",
       "        vertical-align: top;\n",
       "    }\n",
       "\n",
       "    .dataframe thead th {\n",
       "        text-align: right;\n",
       "    }\n",
       "</style>\n",
       "<table border=\"1\" class=\"dataframe\">\n",
       "  <thead>\n",
       "    <tr style=\"text-align: right;\">\n",
       "      <th></th>\n",
       "      <th>퀴즈이름</th>\n",
       "      <th>퀴즈링크</th>\n",
       "    </tr>\n",
       "  </thead>\n",
       "  <tbody>\n",
       "    <tr>\n",
       "      <th>0</th>\n",
       "      <td>6/13 Spark 심화과정</td>\n",
       "      <td>https://forms.gle/Fw49w9GhWQChDcZm7</td>\n",
       "    </tr>\n",
       "    <tr>\n",
       "      <th>1</th>\n",
       "      <td>6/13 Spark 기본과정</td>\n",
       "      <td>https://forms.gle/G4TcXm3fKuHLHA6D6</td>\n",
       "    </tr>\n",
       "    <tr>\n",
       "      <th>2</th>\n",
       "      <td>6/18 Spark [MAP_FILTER]</td>\n",
       "      <td>https://forms.gle/M8gr1kC2ubA3UDVp8</td>\n",
       "    </tr>\n",
       "    <tr>\n",
       "      <th>3</th>\n",
       "      <td>6/18 Spark GroupBy 심화</td>\n",
       "      <td>https://forms.gle/h8w5mZ4MNaPLCPbi6</td>\n",
       "    </tr>\n",
       "    <tr>\n",
       "      <th>4</th>\n",
       "      <td>6/25 Spark RDD 실전 분석</td>\n",
       "      <td>https://forms.gle/q5yL6QHfueDLM5w27</td>\n",
       "    </tr>\n",
       "    <tr>\n",
       "      <th>5</th>\n",
       "      <td>6/27 Spark RDD 실전 분석2</td>\n",
       "      <td>https://forms.gle/Gxb4y6LfVYiaLu4M7</td>\n",
       "    </tr>\n",
       "  </tbody>\n",
       "</table>\n",
       "</div>"
      ],
      "text/plain": [
       "                        퀴즈이름                                 퀴즈링크\n",
       "0           6/13 Spark 심화과정   https://forms.gle/Fw49w9GhWQChDcZm7\n",
       "1           6/13 Spark 기본과정   https://forms.gle/G4TcXm3fKuHLHA6D6\n",
       "2   6/18 Spark [MAP_FILTER]   https://forms.gle/M8gr1kC2ubA3UDVp8\n",
       "3     6/18 Spark GroupBy 심화   https://forms.gle/h8w5mZ4MNaPLCPbi6\n",
       "4      6/25 Spark RDD 실전 분석   https://forms.gle/q5yL6QHfueDLM5w27\n",
       "5     6/27 Spark RDD 실전 분석2   https://forms.gle/Gxb4y6LfVYiaLu4M7"
      ]
     },
     "execution_count": 141,
     "metadata": {},
     "output_type": "execute_result"
    }
   ],
   "source": [
    "result02"
   ]
  },
  {
   "cell_type": "code",
   "execution_count": null,
   "id": "b487ae75-93e9-423c-88e8-e16179e86085",
   "metadata": {},
   "outputs": [
    {
     "data": {
      "text/plain": [
       "[(' 6/13 Spark 심화과정 ', 'https://forms.gle/Fw49w9GhWQChDcZm7'),\n",
       " (' 6/13 Spark 기본과정 ', 'https://forms.gle/G4TcXm3fKuHLHA6D6'),\n",
       " (' 6/18 Spark [MAP_FILTER] ', 'https://forms.gle/M8gr1kC2ubA3UDVp8'),\n",
       " (' 6/18 Spark GroupBy 심화 ', 'https://forms.gle/h8w5mZ4MNaPLCPbi6'),\n",
       " (' 6/25 Spark RDD 실전 분석 ', 'https://forms.gle/q5yL6QHfueDLM5w27'),\n",
       " (' 6/27 Spark RDD 실전 분석2 ', 'https://forms.gle/Gxb4y6LfVYiaLu4M7')]"
      ]
     },
     "execution_count": 140,
     "metadata": {},
     "output_type": "execute_result"
    }
   ],
   "source": [
    "rowList"
   ]
  },
  {
   "cell_type": "code",
   "execution_count": null,
   "id": "e3950c68-f140-405a-89f0-9bda61974743",
   "metadata": {},
   "outputs": [],
   "source": [
    "pd.DataFrame( rowList ,columns=[\"문제\",\"링크\"])"
   ]
  },
  {
   "cell_type": "code",
   "execution_count": null,
   "id": "70d9aa09-a71d-43a4-a329-d7118c530c3c",
   "metadata": {},
   "outputs": [],
   "source": []
  },
  {
   "cell_type": "code",
   "execution_count": null,
   "id": "de5eb0d2-d119-48d1-9719-0c7f5e1a7d80",
   "metadata": {},
   "outputs": [
    {
     "data": {
      "text/html": [
       "<div>\n",
       "<style scoped>\n",
       "    .dataframe tbody tr th:only-of-type {\n",
       "        vertical-align: middle;\n",
       "    }\n",
       "\n",
       "    .dataframe tbody tr th {\n",
       "        vertical-align: top;\n",
       "    }\n",
       "\n",
       "    .dataframe thead th {\n",
       "        text-align: right;\n",
       "    }\n",
       "</style>\n",
       "<table border=\"1\" class=\"dataframe\">\n",
       "  <thead>\n",
       "    <tr style=\"text-align: right;\">\n",
       "      <th></th>\n",
       "      <th>퀴즈이름</th>\n",
       "      <th>퀴즈링크</th>\n",
       "    </tr>\n",
       "  </thead>\n",
       "  <tbody>\n",
       "    <tr>\n",
       "      <th>0</th>\n",
       "      <td>6/13 Spark 심화과정</td>\n",
       "      <td>#content</td>\n",
       "    </tr>\n",
       "    <tr>\n",
       "      <th>1</th>\n",
       "      <td>6/13 Spark 기본과정</td>\n",
       "      <td>https://sparkkorea.com/</td>\n",
       "    </tr>\n",
       "    <tr>\n",
       "      <th>2</th>\n",
       "      <td>6/18 Spark [MAP_FILTER]</td>\n",
       "      <td>https://sparkkorea.com/%ec%9e%90%eb%a3%8c%ec%8...</td>\n",
       "    </tr>\n",
       "    <tr>\n",
       "      <th>3</th>\n",
       "      <td>6/18 Spark GroupBy 심화</td>\n",
       "      <td>https://sparkkorea.com/%ed%80%b4%ec%a6%88/</td>\n",
       "    </tr>\n",
       "    <tr>\n",
       "      <th>4</th>\n",
       "      <td>6/25 Spark RDD 실전 분석</td>\n",
       "      <td>https://sparkkorea.com/%ec%84%a4%eb%ac%b8-2/</td>\n",
       "    </tr>\n",
       "    <tr>\n",
       "      <th>5</th>\n",
       "      <td>6/27 Spark RDD 실전 분석2</td>\n",
       "      <td>https://sparkkorea.com/%ed%85%8c%ec%8a%a4%ed%8...</td>\n",
       "    </tr>\n",
       "    <tr>\n",
       "      <th>6</th>\n",
       "      <td>6/13 Spark 심화과정</td>\n",
       "      <td>https://sparkkorea.com/%ec%84%a4%eb%ac%b8/</td>\n",
       "    </tr>\n",
       "    <tr>\n",
       "      <th>7</th>\n",
       "      <td>6/13 Spark 심화과정</td>\n",
       "      <td>#</td>\n",
       "    </tr>\n",
       "    <tr>\n",
       "      <th>8</th>\n",
       "      <td>6/13 Spark 기본과정</td>\n",
       "      <td>https://forms.gle/Fw49w9GhWQChDcZm7</td>\n",
       "    </tr>\n",
       "    <tr>\n",
       "      <th>9</th>\n",
       "      <td>6/18 Spark [MAP_FILTER]</td>\n",
       "      <td>https://forms.gle/G4TcXm3fKuHLHA6D6</td>\n",
       "    </tr>\n",
       "    <tr>\n",
       "      <th>10</th>\n",
       "      <td>6/18 Spark GroupBy 심화</td>\n",
       "      <td>https://forms.gle/M8gr1kC2ubA3UDVp8</td>\n",
       "    </tr>\n",
       "    <tr>\n",
       "      <th>11</th>\n",
       "      <td>6/25 Spark RDD 실전 분석</td>\n",
       "      <td>https://forms.gle/h8w5mZ4MNaPLCPbi6</td>\n",
       "    </tr>\n",
       "    <tr>\n",
       "      <th>12</th>\n",
       "      <td>6/27 Spark RDD 실전 분석2</td>\n",
       "      <td>https://forms.gle/q5yL6QHfueDLM5w27</td>\n",
       "    </tr>\n",
       "  </tbody>\n",
       "</table>\n",
       "</div>"
      ],
      "text/plain": [
       "                         퀴즈이름  \\\n",
       "0            6/13 Spark 심화과정    \n",
       "1            6/13 Spark 기본과정    \n",
       "2    6/18 Spark [MAP_FILTER]    \n",
       "3      6/18 Spark GroupBy 심화    \n",
       "4       6/25 Spark RDD 실전 분석    \n",
       "5      6/27 Spark RDD 실전 분석2    \n",
       "6            6/13 Spark 심화과정    \n",
       "7            6/13 Spark 심화과정    \n",
       "8            6/13 Spark 기본과정    \n",
       "9    6/18 Spark [MAP_FILTER]    \n",
       "10     6/18 Spark GroupBy 심화    \n",
       "11      6/25 Spark RDD 실전 분석    \n",
       "12     6/27 Spark RDD 실전 분석2    \n",
       "\n",
       "                                                 퀴즈링크  \n",
       "0                                            #content  \n",
       "1                             https://sparkkorea.com/  \n",
       "2   https://sparkkorea.com/%ec%9e%90%eb%a3%8c%ec%8...  \n",
       "3          https://sparkkorea.com/%ed%80%b4%ec%a6%88/  \n",
       "4        https://sparkkorea.com/%ec%84%a4%eb%ac%b8-2/  \n",
       "5   https://sparkkorea.com/%ed%85%8c%ec%8a%a4%ed%8...  \n",
       "6          https://sparkkorea.com/%ec%84%a4%eb%ac%b8/  \n",
       "7                                                   #  \n",
       "8                 https://forms.gle/Fw49w9GhWQChDcZm7  \n",
       "9                 https://forms.gle/G4TcXm3fKuHLHA6D6  \n",
       "10                https://forms.gle/M8gr1kC2ubA3UDVp8  \n",
       "11                https://forms.gle/h8w5mZ4MNaPLCPbi6  \n",
       "12                https://forms.gle/q5yL6QHfueDLM5w27  "
      ]
     },
     "execution_count": 117,
     "metadata": {},
     "output_type": "execute_result"
    }
   ],
   "source": [
    "result"
   ]
  },
  {
   "cell_type": "code",
   "execution_count": null,
   "id": "4b766e23-9e7f-41f0-a180-f49fd1dffbd6",
   "metadata": {},
   "outputs": [
    {
     "data": {
      "text/plain": [
       "[' 6/13 Spark 심화과정 ',\n",
       " ' 6/13 Spark 기본과정 ',\n",
       " ' 6/18 Spark [MAP_FILTER] ',\n",
       " ' 6/18 Spark GroupBy 심화 ',\n",
       " ' 6/25 Spark RDD 실전 분석 ',\n",
       " ' 6/27 Spark RDD 실전 분석2 ',\n",
       " ' 6/13 Spark 심화과정 ',\n",
       " ' 6/13 Spark 심화과정 ',\n",
       " ' 6/13 Spark 기본과정 ',\n",
       " ' 6/18 Spark [MAP_FILTER] ',\n",
       " ' 6/18 Spark GroupBy 심화 ',\n",
       " ' 6/25 Spark RDD 실전 분석 ',\n",
       " ' 6/27 Spark RDD 실전 분석2 ']"
      ]
     },
     "execution_count": 113,
     "metadata": {},
     "output_type": "execute_result"
    }
   ],
   "source": [
    "nameList"
   ]
  },
  {
   "cell_type": "code",
   "execution_count": null,
   "id": "4309bf88-256b-4e66-81a5-08c13fbd4b68",
   "metadata": {},
   "outputs": [
    {
     "data": {
      "text/plain": [
       "['https://forms.gle/Fw49w9GhWQChDcZm7',\n",
       " 'https://forms.gle/G4TcXm3fKuHLHA6D6',\n",
       " 'https://forms.gle/M8gr1kC2ubA3UDVp8',\n",
       " 'https://forms.gle/h8w5mZ4MNaPLCPbi6',\n",
       " 'https://forms.gle/q5yL6QHfueDLM5w27',\n",
       " 'https://forms.gle/Gxb4y6LfVYiaLu4M7']"
      ]
     },
     "execution_count": 114,
     "metadata": {},
     "output_type": "execute_result"
    }
   ],
   "source": [
    "quizList"
   ]
  },
  {
   "cell_type": "code",
   "execution_count": null,
   "id": "419375ed-abe7-45c9-ab9d-9fbe80b17ed4",
   "metadata": {},
   "outputs": [],
   "source": [
    "#sparkkorea.com 퀴즈 내 퀴즈 이름, 링크 정보를 row 별로 수집하자."
   ]
  },
  {
   "cell_type": "code",
   "execution_count": null,
   "id": "451ad909-9a7e-477c-821f-e11a6e74a156",
   "metadata": {},
   "outputs": [],
   "source": [
    "# 열로 구성된 리스트를 만들고, 이를 통해 데이터프레임을 작성하라."
   ]
  },
  {
   "cell_type": "code",
   "execution_count": null,
   "id": "eb355521-ee95-4628-9f6b-ab71f97832c5",
   "metadata": {},
   "outputs": [],
   "source": []
  },
  {
   "cell_type": "code",
   "execution_count": null,
   "id": "f9d30354-1fba-4f54-ac53-7f5daa23ebf3",
   "metadata": {},
   "outputs": [],
   "source": [
    "rowList02 = []\n",
    "# 빈 리스트를 생성\n",
    "for i in range(0, len(aLinks)):\n",
    "    rowName = aLinks[i].text, aLinks[i].attrs[\"href\"]\n",
    "    rowList02.append(rowName)\n",
    "# RowName : 추출할 데이터로부터, text 형식과 href, 링크 정보를\n",
    "# Rowname 이라는 변수에 저장한다.\n",
    "# 이후 for문을 통해 확보한 데이터를 rowList에 넣어준다.\n",
    "    \n",
    "result03 = pd.DataFrame(rowList, columns = [\"퀴즈이름\", \"퀴즈링크\"])\n",
    "# 이후 열 이름으로 :\"퀴즈이름\", \"퀴즈링크\"를 지정한다."
   ]
  },
  {
   "cell_type": "code",
   "execution_count": null,
   "id": "2bb9dd64-5a25-4fa0-8343-501cdcaf283f",
   "metadata": {},
   "outputs": [
    {
     "data": {
      "text/html": [
       "<div>\n",
       "<style scoped>\n",
       "    .dataframe tbody tr th:only-of-type {\n",
       "        vertical-align: middle;\n",
       "    }\n",
       "\n",
       "    .dataframe tbody tr th {\n",
       "        vertical-align: top;\n",
       "    }\n",
       "\n",
       "    .dataframe thead th {\n",
       "        text-align: right;\n",
       "    }\n",
       "</style>\n",
       "<table border=\"1\" class=\"dataframe\">\n",
       "  <thead>\n",
       "    <tr style=\"text-align: right;\">\n",
       "      <th></th>\n",
       "      <th>퀴즈이름</th>\n",
       "      <th>퀴즈링크</th>\n",
       "    </tr>\n",
       "  </thead>\n",
       "  <tbody>\n",
       "    <tr>\n",
       "      <th>0</th>\n",
       "      <td>6/13 Spark 심화과정</td>\n",
       "      <td>https://forms.gle/Fw49w9GhWQChDcZm7</td>\n",
       "    </tr>\n",
       "    <tr>\n",
       "      <th>1</th>\n",
       "      <td>6/13 Spark 기본과정</td>\n",
       "      <td>https://forms.gle/G4TcXm3fKuHLHA6D6</td>\n",
       "    </tr>\n",
       "    <tr>\n",
       "      <th>2</th>\n",
       "      <td>6/18 Spark [MAP_FILTER]</td>\n",
       "      <td>https://forms.gle/M8gr1kC2ubA3UDVp8</td>\n",
       "    </tr>\n",
       "    <tr>\n",
       "      <th>3</th>\n",
       "      <td>6/18 Spark GroupBy 심화</td>\n",
       "      <td>https://forms.gle/h8w5mZ4MNaPLCPbi6</td>\n",
       "    </tr>\n",
       "    <tr>\n",
       "      <th>4</th>\n",
       "      <td>6/25 Spark RDD 실전 분석</td>\n",
       "      <td>https://forms.gle/q5yL6QHfueDLM5w27</td>\n",
       "    </tr>\n",
       "    <tr>\n",
       "      <th>5</th>\n",
       "      <td>6/27 Spark RDD 실전 분석2</td>\n",
       "      <td>https://forms.gle/Gxb4y6LfVYiaLu4M7</td>\n",
       "    </tr>\n",
       "  </tbody>\n",
       "</table>\n",
       "</div>"
      ],
      "text/plain": [
       "                        퀴즈이름                                 퀴즈링크\n",
       "0           6/13 Spark 심화과정   https://forms.gle/Fw49w9GhWQChDcZm7\n",
       "1           6/13 Spark 기본과정   https://forms.gle/G4TcXm3fKuHLHA6D6\n",
       "2   6/18 Spark [MAP_FILTER]   https://forms.gle/M8gr1kC2ubA3UDVp8\n",
       "3     6/18 Spark GroupBy 심화   https://forms.gle/h8w5mZ4MNaPLCPbi6\n",
       "4      6/25 Spark RDD 실전 분석   https://forms.gle/q5yL6QHfueDLM5w27\n",
       "5     6/27 Spark RDD 실전 분석2   https://forms.gle/Gxb4y6LfVYiaLu4M7"
      ]
     },
     "execution_count": 145,
     "metadata": {},
     "output_type": "execute_result"
    }
   ],
   "source": [
    "result03"
   ]
  },
  {
   "cell_type": "code",
   "execution_count": null,
   "id": "7343dafb-784e-4c56-ab68-12347d0f17e7",
   "metadata": {},
   "outputs": [
    {
     "data": {
      "text/plain": [
       "[(' 6/13 Spark 심화과정 ', 'https://forms.gle/Fw49w9GhWQChDcZm7'),\n",
       " (' 6/13 Spark 기본과정 ', 'https://forms.gle/G4TcXm3fKuHLHA6D6'),\n",
       " (' 6/18 Spark [MAP_FILTER] ', 'https://forms.gle/M8gr1kC2ubA3UDVp8'),\n",
       " (' 6/18 Spark GroupBy 심화 ', 'https://forms.gle/h8w5mZ4MNaPLCPbi6'),\n",
       " (' 6/25 Spark RDD 실전 분석 ', 'https://forms.gle/q5yL6QHfueDLM5w27'),\n",
       " (' 6/27 Spark RDD 실전 분석2 ', 'https://forms.gle/Gxb4y6LfVYiaLu4M7')]"
      ]
     },
     "execution_count": 146,
     "metadata": {},
     "output_type": "execute_result"
    }
   ],
   "source": [
    "rowList02"
   ]
  },
  {
   "cell_type": "code",
   "execution_count": null,
   "id": "690fedab-f873-4bc6-bbe5-0c081857bfc9",
   "metadata": {},
   "outputs": [],
   "source": [
    "resultDf = pd.DataFrame(rowList)"
   ]
  },
  {
   "cell_type": "code",
   "execution_count": null,
   "id": "43c0e122-e4b8-4edd-88ec-3d95ee7a304b",
   "metadata": {},
   "outputs": [],
   "source": [
    "resultDf.to_csv(\"./result.csv\")"
   ]
  },
  {
   "cell_type": "code",
   "execution_count": null,
   "id": "d0b30d8b-9cb0-4385-983e-bd36f49a00a8",
   "metadata": {},
   "outputs": [],
   "source": []
  },
  {
   "cell_type": "code",
   "execution_count": null,
   "id": "c437ecce-b8d0-4b0e-981b-c089d754b14d",
   "metadata": {},
   "outputs": [],
   "source": [
    "# row 단위로 데이터를 수집하면 빈 칸 때문에 밀릴 걱정 없이 데이터 수집이 가능하다."
   ]
  },
  {
   "cell_type": "code",
   "execution_count": null,
   "id": "d8cba191-2c60-4379-ae7b-213acebf7ada",
   "metadata": {},
   "outputs": [],
   "source": [
    "# 문제 발생 시 row 단위로 날리면 그만. 짝이 틀어질 일은 없다."
   ]
  },
  {
   "cell_type": "code",
   "execution_count": null,
   "id": "fe2c7b2b-8dca-4cd6-a842-c08e69c66074",
   "metadata": {},
   "outputs": [],
   "source": [
    "# 어지간하면 row 단위로 수집해라 인간들아."
   ]
  },
  {
   "cell_type": "code",
   "execution_count": null,
   "id": "b533fb30-4e01-42a7-8db1-2885cd0d445b",
   "metadata": {},
   "outputs": [],
   "source": [
    "# save and Export Notebook As Executable Script : .py 파일로 저장한다."
   ]
  },
  {
   "cell_type": "code",
   "execution_count": null,
   "id": "dd0ff908-347a-4515-a676-87c83bad7fbb",
   "metadata": {},
   "outputs": [],
   "source": [
    "# .py 파일을 나중에 다른 드라이브에 두고, 해당 파일을 cmd에서 열면 csv 파일이 생성된다."
   ]
  },
  {
   "cell_type": "code",
   "execution_count": null,
   "id": "e48ebb62-639f-46f6-8f51-46714b69d57b",
   "metadata": {},
   "outputs": [],
   "source": [
    "# notepad에 자신이 입력했던 명령어들을 다시 적고, 이를 .bat 파일로 만들어준다."
   ]
  },
  {
   "cell_type": "code",
   "execution_count": null,
   "id": "eafec771-64e9-4c1e-81e5-6fb5fe71d1b0",
   "metadata": {},
   "outputs": [],
   "source": [
    "# .bat 파일을 실행하면 입력했던 코드를 실행ㅎ"
   ]
  },
  {
   "cell_type": "code",
   "execution_count": null,
   "id": "179e7771-4aa2-46d4-bb80-84c951b80622",
   "metadata": {},
   "outputs": [],
   "source": [
    "# d:\n",
    "# cd pyexee\n",
    "# python crawler.py\n"
   ]
  },
  {
   "cell_type": "code",
   "execution_count": null,
   "id": "f683a5d1-67b9-4635-99c1-a1065746287a",
   "metadata": {},
   "outputs": [],
   "source": [
    "# "
   ]
  },
  {
   "cell_type": "code",
   "execution_count": null,
   "id": "0931b8cb-851d-438b-bc35-67a0ca79ca46",
   "metadata": {},
   "outputs": [],
   "source": [
    "import bs4, requests"
   ]
  },
  {
   "cell_type": "code",
   "execution_count": null,
   "id": "09d1fe7e-c887-4fad-900a-652aee8f7809",
   "metadata": {},
   "outputs": [],
   "source": [
    "targetUrl = \"\""
   ]
  },
  {
   "cell_type": "code",
   "execution_count": null,
   "id": "75a35013-ef98-45db-9274-6400be81f66f",
   "metadata": {},
   "outputs": [],
   "source": [
    "try:\n",
    "    resp = requests.get(targetUrl)\n",
    "except Exception as e:\n",
    "    print(e)"
   ]
  },
  {
   "cell_type": "code",
   "execution_count": null,
   "id": "14112af8-8b19-4da3-979d-7c671ecf4693",
   "metadata": {},
   "outputs": [],
   "source": [
    "webPageSrc = resp.text"
   ]
  },
  {
   "cell_type": "code",
   "execution_count": null,
   "id": "39026d1a-db89-4b33-bc56-ebba6fb7956c",
   "metadata": {},
   "outputs": [],
   "source": [
    "htmlobj = bs4.BeautifulSoup(webPageSrc, \"html.parser\")"
   ]
  },
  {
   "cell_type": "code",
   "execution_count": null,
   "id": "c851cd2a-0ae5-40f3-946c-6a0626f9fe76",
   "metadata": {},
   "outputs": [],
   "source": [
    "divs = htmlobj.findAll(name = \"div\")"
   ]
  },
  {
   "cell_type": "code",
   "execution_count": null,
   "id": "c8d02c54-de89-4105-9a6e-679c2ac69f1f",
   "metadata": {},
   "outputs": [],
   "source": [
    "testLine = divs.text"
   ]
  },
  {
   "cell_type": "code",
   "execution_count": null,
   "id": "f9f2f68e-7fcc-4ea7-9e18-821f12544193",
   "metadata": {},
   "outputs": [],
   "source": [
    "testLine.attrs[\"href\"]"
   ]
  },
  {
   "cell_type": "code",
   "execution_count": null,
   "id": "f1cb9359-9969-432e-9870-e5ea388f95c7",
   "metadata": {},
   "outputs": [],
   "source": []
  }
 ],
 "metadata": {
  "kernelspec": {
   "display_name": "Python 3 (ipykernel)",
   "language": "python",
   "name": "python3"
  },
  "language_info": {
   "codemirror_mode": {
    "name": "ipython",
    "version": 3
   },
   "file_extension": ".py",
   "mimetype": "text/x-python",
   "name": "python",
   "nbconvert_exporter": "python",
   "pygments_lexer": "ipython3",
   "version": "3.9.13"
  }
 },
 "nbformat": 4,
 "nbformat_minor": 5
}
