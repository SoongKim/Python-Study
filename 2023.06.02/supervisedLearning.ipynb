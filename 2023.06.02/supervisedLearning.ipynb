{
 "cells": [
  {
   "cell_type": "markdown",
   "id": "09b08bae-7de3-4355-8297-dff7345c857c",
   "metadata": {},
   "source": [
    "#### 라이브러리 선언"
   ]
  },
  {
   "cell_type": "code",
   "execution_count": 1,
   "id": "de8e2a30-6196-4d5f-9f13-c20a5f6c202e",
   "metadata": {},
   "outputs": [],
   "source": [
    "# 데이터 처리 라이브러리\n",
    "import pandas as pd\n",
    "# 숫자 계산 라이브러리\n",
    "import numpy as np"
   ]
  },
  {
   "cell_type": "code",
   "execution_count": 2,
   "id": "c1d8f45a-ac6a-45b1-836a-f75300b0dbd4",
   "metadata": {},
   "outputs": [],
   "source": [
    "# 머신 러닝 라이브러리 tree(decision tree, ensemble decision) -- Classification\n",
    "# DecisionTree는 기학습 분량의 복제판에 지나지 않으며, RanodmForest는 랜덤성이 가미된 모델\n",
    "from sklearn import tree, ensemble"
   ]
  },
  {
   "cell_type": "code",
   "execution_count": 3,
   "id": "14e6e883-6b43-48a8-bd62-a510f4bf9a15",
   "metadata": {},
   "outputs": [],
   "source": [
    "# 머신 러닝 라이브러리 svm (Support Vector Machine, neighbors: knn)\n",
    "from sklearn import svm, neighbors\n",
    "from sklearn.model_selection import train_test_split\n",
    "from sklearn.metrics import accuracy_score\n",
    "from sklearn.metrics import classification_report"
   ]
  },
  {
   "cell_type": "code",
   "execution_count": 4,
   "id": "6043489c-4e0a-467f-8b94-5ccf692da388",
   "metadata": {},
   "outputs": [],
   "source": [
    "# 시각화 라이브러리\n",
    "import matplotlib.pyplot\n",
    "#%maplotlib inline\n",
    "import seaborn as sns"
   ]
  },
  {
   "cell_type": "code",
   "execution_count": 5,
   "id": "d87dc083-af51-4f75-873f-8b74075fc565",
   "metadata": {},
   "outputs": [],
   "source": [
    "#### "
   ]
  },
  {
   "cell_type": "markdown",
   "id": "531aa282-3be6-4294-a579-2f95a5c49243",
   "metadata": {},
   "source": [
    " "
   ]
  },
  {
   "cell_type": "markdown",
   "id": "7790ac9e-b5b8-43c7-802d-19a10b1a7550",
   "metadata": {},
   "source": [
    "#### 분석 대상 데이터 호출"
   ]
  },
  {
   "cell_type": "code",
   "execution_count": 6,
   "id": "f73cf831-c894-4138-a194-8384d0c99ffe",
   "metadata": {},
   "outputs": [],
   "source": [
    "csData = pd.read_csv(\"../../../stdcode6/dataset/customer.csv\")"
   ]
  },
  {
   "cell_type": "code",
   "execution_count": 7,
   "id": "99eeb646-795e-4f4d-9713-2f657f418299",
   "metadata": {},
   "outputs": [
    {
     "data": {
      "text/html": [
       "<div>\n",
       "<style scoped>\n",
       "    .dataframe tbody tr th:only-of-type {\n",
       "        vertical-align: middle;\n",
       "    }\n",
       "\n",
       "    .dataframe tbody tr th {\n",
       "        vertical-align: top;\n",
       "    }\n",
       "\n",
       "    .dataframe thead th {\n",
       "        text-align: right;\n",
       "    }\n",
       "</style>\n",
       "<table border=\"1\" class=\"dataframe\">\n",
       "  <thead>\n",
       "    <tr style=\"text-align: right;\">\n",
       "      <th></th>\n",
       "      <th>BA</th>\n",
       "      <th>ST</th>\n",
       "      <th>LA</th>\n",
       "    </tr>\n",
       "  </thead>\n",
       "  <tbody>\n",
       "    <tr>\n",
       "      <th>0</th>\n",
       "      <td>30000000</td>\n",
       "      <td>22500000</td>\n",
       "      <td>normal</td>\n",
       "    </tr>\n",
       "    <tr>\n",
       "      <th>1</th>\n",
       "      <td>280000000</td>\n",
       "      <td>48000000</td>\n",
       "      <td>diamond</td>\n",
       "    </tr>\n",
       "    <tr>\n",
       "      <th>2</th>\n",
       "      <td>300000000</td>\n",
       "      <td>40666666</td>\n",
       "      <td>diamond</td>\n",
       "    </tr>\n",
       "    <tr>\n",
       "      <th>3</th>\n",
       "      <td>54000000</td>\n",
       "      <td>28000000</td>\n",
       "      <td>normal</td>\n",
       "    </tr>\n",
       "    <tr>\n",
       "      <th>4</th>\n",
       "      <td>768000000</td>\n",
       "      <td>32000000</td>\n",
       "      <td>vip</td>\n",
       "    </tr>\n",
       "  </tbody>\n",
       "</table>\n",
       "</div>"
      ],
      "text/plain": [
       "          BA        ST       LA\n",
       "0   30000000  22500000   normal\n",
       "1  280000000  48000000  diamond\n",
       "2  300000000  40666666  diamond\n",
       "3   54000000  28000000   normal\n",
       "4  768000000  32000000      vip"
      ]
     },
     "execution_count": 7,
     "metadata": {},
     "output_type": "execute_result"
    }
   ],
   "source": [
    "csData.head()"
   ]
  },
  {
   "cell_type": "markdown",
   "id": "d91599c6-a72c-4087-9be9-1bacf2a47689",
   "metadata": {},
   "source": [
    " "
   ]
  },
  {
   "cell_type": "markdown",
   "id": "51b09e50-49bb-4655-8dbc-22553f71072d",
   "metadata": {},
   "source": [
    "#### EDA"
   ]
  },
  {
   "cell_type": "code",
   "execution_count": 8,
   "id": "6455e4fa-fae5-4733-a560-d2b133f1fe03",
   "metadata": {
    "tags": []
   },
   "outputs": [
    {
     "data": {
      "text/plain": [
       "<AxesSubplot:ylabel='count'>"
      ]
     },
     "execution_count": 8,
     "metadata": {},
     "output_type": "execute_result"
    },
    {
     "data": {
      "image/png": "[encoded data removed]",
      "text/plain": [
       "<Figure size 640x480 with 1 Axes>"
      ]
     },
     "metadata": {},
     "output_type": "display_data"
    }
   ],
   "source": [
    "sns.countplot(data=csData)"
   ]
  },
  {
   "cell_type": "code",
   "execution_count": 9,
   "id": "f8eaf8a1-b7ec-45bf-9936-ec967797a84b",
   "metadata": {},
   "outputs": [],
   "source": [
    "# 카테고리 예측 간에는 EDA(Explore Data Analysis. 데이터를 탐색하다.) 기간이 주어진다."
   ]
  },
  {
   "cell_type": "code",
   "execution_count": 10,
   "id": "3032bc99-3876-4db4-a6d6-69ec2c6f212a",
   "metadata": {},
   "outputs": [
    {
     "name": "stdout",
     "output_type": "stream",
     "text": [
      "<class 'pandas.core.frame.DataFrame'>\n",
      "RangeIndex: 20000 entries, 0 to 19999\n",
      "Data columns (total 3 columns):\n",
      " #   Column  Non-Null Count  Dtype \n",
      "---  ------  --------------  ----- \n",
      " 0   BA      20000 non-null  int64 \n",
      " 1   ST      20000 non-null  int64 \n",
      " 2   LA      20000 non-null  object\n",
      "dtypes: int64(2), object(1)\n",
      "memory usage: 468.9+ KB\n"
     ]
    }
   ],
   "source": [
    "csData.info()"
   ]
  },
  {
   "cell_type": "code",
   "execution_count": 11,
   "id": "2ac330eb-9240-4dd7-a6dc-42ad80e2e1d2",
   "metadata": {},
   "outputs": [],
   "source": [
    "# 세 개의 컬럼, Count에는 null값이 존재하지 않음, 데이터 타입\n",
    "# 이 세 가지의 데이터 특성을 확인할 수 있다."
   ]
  },
  {
   "cell_type": "code",
   "execution_count": 12,
   "id": "ad765daf-417f-4dd9-b313-46b69e5126b7",
   "metadata": {},
   "outputs": [
    {
     "data": {
      "text/plain": [
       "0     normal\n",
       "1    diamond\n",
       "4        vip\n",
       "Name: LA, dtype: object"
      ]
     },
     "execution_count": 12,
     "metadata": {},
     "output_type": "execute_result"
    }
   ],
   "source": [
    "csData.LA.drop_duplicates()"
   ]
  },
  {
   "cell_type": "code",
   "execution_count": 13,
   "id": "0209f1fb-6800-4fab-b6cf-89026952fefc",
   "metadata": {},
   "outputs": [],
   "source": [
    "# LA 컬럼의 경우, normal:0, diamond:1, vip:4의 값을 지닌 컬럼임을 확인 가능하다."
   ]
  },
  {
   "cell_type": "code",
   "execution_count": 14,
   "id": "3aeac8c0-d8ea-4584-8b94-16440d636ae9",
   "metadata": {},
   "outputs": [],
   "source": [
    "labelMap = {\"normal\":1, \"diamond\":2, \"vip\":3}"
   ]
  },
  {
   "cell_type": "code",
   "execution_count": 15,
   "id": "5a8888e6-0380-482c-ac38-c4ad5ce50e1e",
   "metadata": {},
   "outputs": [
    {
     "data": {
      "text/plain": [
       "0        1\n",
       "1        2\n",
       "2        2\n",
       "3        1\n",
       "4        3\n",
       "        ..\n",
       "19995    2\n",
       "19996    1\n",
       "19997    2\n",
       "19998    2\n",
       "19999    2\n",
       "Name: LA, Length: 20000, dtype: int64"
      ]
     },
     "execution_count": 15,
     "metadata": {},
     "output_type": "execute_result"
    }
   ],
   "source": [
    "csData.LA.map(labelMap)"
   ]
  },
  {
   "cell_type": "code",
   "execution_count": 16,
   "id": "12e8d97b-d830-45ba-a75a-77872c20f4bf",
   "metadata": {},
   "outputs": [],
   "source": [
    "# 딕셔너리를 사용한 컬럼 데이터 변경"
   ]
  },
  {
   "cell_type": "code",
   "execution_count": 17,
   "id": "1297ca1b-328e-4cc8-adf8-f2cee06faf86",
   "metadata": {},
   "outputs": [],
   "source": [
    "csData[\"LABEL_MAP\"] = csData.LA.map(labelMap)"
   ]
  },
  {
   "cell_type": "code",
   "execution_count": 18,
   "id": "ea0c6d85-b674-43b6-9595-ab0fdf17d4dd",
   "metadata": {},
   "outputs": [
    {
     "data": {
      "text/html": [
       "<div>\n",
       "<style scoped>\n",
       "    .dataframe tbody tr th:only-of-type {\n",
       "        vertical-align: middle;\n",
       "    }\n",
       "\n",
       "    .dataframe tbody tr th {\n",
       "        vertical-align: top;\n",
       "    }\n",
       "\n",
       "    .dataframe thead th {\n",
       "        text-align: right;\n",
       "    }\n",
       "</style>\n",
       "<table border=\"1\" class=\"dataframe\">\n",
       "  <thead>\n",
       "    <tr style=\"text-align: right;\">\n",
       "      <th></th>\n",
       "      <th>BA</th>\n",
       "      <th>ST</th>\n",
       "      <th>LA</th>\n",
       "      <th>LABEL_MAP</th>\n",
       "    </tr>\n",
       "  </thead>\n",
       "  <tbody>\n",
       "    <tr>\n",
       "      <th>0</th>\n",
       "      <td>30000000</td>\n",
       "      <td>22500000</td>\n",
       "      <td>normal</td>\n",
       "      <td>1</td>\n",
       "    </tr>\n",
       "    <tr>\n",
       "      <th>1</th>\n",
       "      <td>280000000</td>\n",
       "      <td>48000000</td>\n",
       "      <td>diamond</td>\n",
       "      <td>2</td>\n",
       "    </tr>\n",
       "    <tr>\n",
       "      <th>2</th>\n",
       "      <td>300000000</td>\n",
       "      <td>40666666</td>\n",
       "      <td>diamond</td>\n",
       "      <td>2</td>\n",
       "    </tr>\n",
       "    <tr>\n",
       "      <th>3</th>\n",
       "      <td>54000000</td>\n",
       "      <td>28000000</td>\n",
       "      <td>normal</td>\n",
       "      <td>1</td>\n",
       "    </tr>\n",
       "    <tr>\n",
       "      <th>4</th>\n",
       "      <td>768000000</td>\n",
       "      <td>32000000</td>\n",
       "      <td>vip</td>\n",
       "      <td>3</td>\n",
       "    </tr>\n",
       "  </tbody>\n",
       "</table>\n",
       "</div>"
      ],
      "text/plain": [
       "          BA        ST       LA  LABEL_MAP\n",
       "0   30000000  22500000   normal          1\n",
       "1  280000000  48000000  diamond          2\n",
       "2  300000000  40666666  diamond          2\n",
       "3   54000000  28000000   normal          1\n",
       "4  768000000  32000000      vip          3"
      ]
     },
     "execution_count": 18,
     "metadata": {},
     "output_type": "execute_result"
    }
   ],
   "source": [
    "csData.head()"
   ]
  },
  {
   "cell_type": "code",
   "execution_count": 19,
   "id": "fc0dc7e3-45d8-40aa-ace6-a18458b41fba",
   "metadata": {
    "tags": []
   },
   "outputs": [
    {
     "data": {
      "text/plain": [
       "<AxesSubplot:xlabel='LABEL_MAP', ylabel='count'>"
      ]
     },
     "execution_count": 19,
     "metadata": {},
     "output_type": "execute_result"
    },
    {
     "data": {
      "image/png": "[encoded data removed]",
      "text/plain": [
       "<Figure size 640x480 with 1 Axes>"
      ]
     },
     "metadata": {},
     "output_type": "display_data"
    }
   ],
   "source": [
    "sns.countplot(data=csData, x=\"LABEL_MAP\")"
   ]
  },
  {
   "cell_type": "code",
   "execution_count": 20,
   "id": "546988ae-a0b8-4635-95ba-021c3ec67488",
   "metadata": {},
   "outputs": [],
   "source": [
    "# label_no(1:normal, 2:diamond, 3:vip)를 기준으로\n",
    "# countplot 기능을 사용하여 분포 비중을 차트로 그려내었다.\n",
    "# 숫자 값이 들어가지 않아도, 알아서 바꿔준다. 아래의 그래프를 참조해보자"
   ]
  },
  {
   "cell_type": "code",
   "execution_count": 21,
   "id": "b81de2d3-a2d6-489a-bb53-0842945d484d",
   "metadata": {
    "tags": []
   },
   "outputs": [
    {
     "data": {
      "text/plain": [
       "<AxesSubplot:xlabel='LA', ylabel='count'>"
      ]
     },
     "execution_count": 21,
     "metadata": {},
     "output_type": "execute_result"
    },
    {
     "data": {
      "image/png": "[encoded data removed]",
      "text/plain": [
       "<Figure size 640x480 with 1 Axes>"
      ]
     },
     "metadata": {},
     "output_type": "display_data"
    }
   ],
   "source": [
    "sns.countplot(data=csData, x=\"LA\")"
   ]
  },
  {
   "cell_type": "code",
   "execution_count": 22,
   "id": "0e3fd5c2-d72e-459a-aa48-192c88ae4de8",
   "metadata": {},
   "outputs": [],
   "source": [
    "# 랜덤 그룹 형성 간 각 그룹이 적정한 비율로 분포되도록 분배하여야 한다.\n",
    "# 한 그룹에는 normal총량 + diamond, 다른 그룹에는 vip + diamond만 편성되어 있다면\n",
    "# Data의 Unbalance함이 극단으로 치솟을 수 있다.\n",
    "# 이는 분석 데이터의 신뢰도에 극단적으로 부정적인 영향을 제공할 수 있다."
   ]
  },
  {
   "cell_type": "markdown",
   "id": "6c916140-d6e7-4764-8be7-f1143f0ca48f",
   "metadata": {},
   "source": [
    " "
   ]
  },
  {
   "cell_type": "markdown",
   "id": "059d85a5-cdba-4ec7-8a53-b622918506f2",
   "metadata": {},
   "source": [
    "#### 1. 타입 통합 / 숫자명 컬럼 변경"
   ]
  },
  {
   "cell_type": "code",
   "execution_count": 23,
   "id": "616544c0-25c0-4ef1-a044-11c39561bb08",
   "metadata": {},
   "outputs": [],
   "source": [
    "### 타입 통합 스킵"
   ]
  },
  {
   "cell_type": "code",
   "execution_count": 24,
   "id": "618cba10-ac09-42ac-85aa-97794f158fa6",
   "metadata": {},
   "outputs": [],
   "source": [
    "### 숫자형 컬럼 변경 스킵"
   ]
  },
  {
   "cell_type": "code",
   "execution_count": 25,
   "id": "355b3ffb-ed55-4544-8aad-3f3e90cf701b",
   "metadata": {},
   "outputs": [],
   "source": [
    "### Scailing : 데이터의 높이를 맞추는 작업"
   ]
  },
  {
   "cell_type": "code",
   "execution_count": 26,
   "id": "8806f1ec-4975-4096-b720-975e96157cec",
   "metadata": {},
   "outputs": [
    {
     "data": {
      "text/plain": [
       "800000000"
      ]
     },
     "execution_count": 26,
     "metadata": {},
     "output_type": "execute_result"
    }
   ],
   "source": [
    "csData.BA.max()"
   ]
  },
  {
   "cell_type": "code",
   "execution_count": 27,
   "id": "5ee5207c-3784-45d0-9d32-5b312df21d21",
   "metadata": {},
   "outputs": [
    {
     "data": {
      "text/plain": [
       "80000000"
      ]
     },
     "execution_count": 27,
     "metadata": {},
     "output_type": "execute_result"
    }
   ],
   "source": [
    "csData.ST.max()"
   ]
  },
  {
   "cell_type": "code",
   "execution_count": 28,
   "id": "19946039-b07d-4c15-85a2-46b01ff8a415",
   "metadata": {},
   "outputs": [],
   "source": [
    "# 머신 러닝 간 컴퓨터는 큰 데이터를 더 중요하게 인식한다. 이에 각 데이터의 가장 큰 수준을 균일하게 형성하는 작업을 Scailing 이라고 한다."
   ]
  },
  {
   "cell_type": "code",
   "execution_count": 29,
   "id": "f938df3b-4726-4730-bd60-7c0fcf493231",
   "metadata": {},
   "outputs": [
    {
     "data": {
      "text/plain": [
       "0        22500000\n",
       "1        48000000\n",
       "2        40666666\n",
       "3        28000000\n",
       "4        32000000\n",
       "           ...   \n",
       "19995    44666666\n",
       "19996    20000000\n",
       "19997    41333333\n",
       "19998    45333333\n",
       "19999    26000000\n",
       "Name: ST, Length: 20000, dtype: int64"
      ]
     },
     "execution_count": 29,
     "metadata": {},
     "output_type": "execute_result"
    }
   ],
   "source": [
    "csData.ST"
   ]
  },
  {
   "cell_type": "code",
   "execution_count": 30,
   "id": "69681689-fd1b-4d3c-af52-fb3c967caa33",
   "metadata": {},
   "outputs": [],
   "source": [
    "maxStockValue = csData.ST.max()"
   ]
  },
  {
   "cell_type": "code",
   "execution_count": 31,
   "id": "9b7251b4-fa43-4ea7-a0f0-6e8486507734",
   "metadata": {},
   "outputs": [
    {
     "data": {
      "text/plain": [
       "80000000"
      ]
     },
     "execution_count": 31,
     "metadata": {},
     "output_type": "execute_result"
    }
   ],
   "source": [
    "maxStockValue"
   ]
  },
  {
   "cell_type": "code",
   "execution_count": 32,
   "id": "19325dc1-26ce-481b-bef1-7d63fbc6148a",
   "metadata": {},
   "outputs": [
    {
     "data": {
      "text/plain": [
       "0        0.281250\n",
       "1        0.600000\n",
       "2        0.508333\n",
       "3        0.350000\n",
       "4        0.400000\n",
       "           ...   \n",
       "19995    0.558333\n",
       "19996    0.250000\n",
       "19997    0.516667\n",
       "19998    0.566667\n",
       "19999    0.325000\n",
       "Name: ST, Length: 20000, dtype: float64"
      ]
     },
     "execution_count": 32,
     "metadata": {},
     "output_type": "execute_result"
    }
   ],
   "source": [
    "csData.ST / maxStockValue"
   ]
  },
  {
   "cell_type": "code",
   "execution_count": 33,
   "id": "99d9731d-83ac-4ebe-8868-9e4d4331adc2",
   "metadata": {},
   "outputs": [],
   "source": [
    "# 이처럼, 퍼센테이지로 데이터를 정제한다면 최대값이 1로 고정된 형태로 모두 취급 가능하다."
   ]
  },
  {
   "cell_type": "code",
   "execution_count": 34,
   "id": "13986309-ad37-4341-b9ef-52cd325e76f6",
   "metadata": {},
   "outputs": [],
   "source": [
    "csData[\"STOCK_SCALE\"] = csData.ST / maxStockValue"
   ]
  },
  {
   "cell_type": "code",
   "execution_count": 35,
   "id": "8455c7bc-9e67-4ade-afa4-208ff6f32d43",
   "metadata": {},
   "outputs": [
    {
     "data": {
      "text/html": [
       "<div>\n",
       "<style scoped>\n",
       "    .dataframe tbody tr th:only-of-type {\n",
       "        vertical-align: middle;\n",
       "    }\n",
       "\n",
       "    .dataframe tbody tr th {\n",
       "        vertical-align: top;\n",
       "    }\n",
       "\n",
       "    .dataframe thead th {\n",
       "        text-align: right;\n",
       "    }\n",
       "</style>\n",
       "<table border=\"1\" class=\"dataframe\">\n",
       "  <thead>\n",
       "    <tr style=\"text-align: right;\">\n",
       "      <th></th>\n",
       "      <th>BA</th>\n",
       "      <th>ST</th>\n",
       "      <th>LA</th>\n",
       "      <th>LABEL_MAP</th>\n",
       "      <th>STOCK_SCALE</th>\n",
       "    </tr>\n",
       "  </thead>\n",
       "  <tbody>\n",
       "    <tr>\n",
       "      <th>0</th>\n",
       "      <td>30000000</td>\n",
       "      <td>22500000</td>\n",
       "      <td>normal</td>\n",
       "      <td>1</td>\n",
       "      <td>0.281250</td>\n",
       "    </tr>\n",
       "    <tr>\n",
       "      <th>1</th>\n",
       "      <td>280000000</td>\n",
       "      <td>48000000</td>\n",
       "      <td>diamond</td>\n",
       "      <td>2</td>\n",
       "      <td>0.600000</td>\n",
       "    </tr>\n",
       "    <tr>\n",
       "      <th>2</th>\n",
       "      <td>300000000</td>\n",
       "      <td>40666666</td>\n",
       "      <td>diamond</td>\n",
       "      <td>2</td>\n",
       "      <td>0.508333</td>\n",
       "    </tr>\n",
       "    <tr>\n",
       "      <th>3</th>\n",
       "      <td>54000000</td>\n",
       "      <td>28000000</td>\n",
       "      <td>normal</td>\n",
       "      <td>1</td>\n",
       "      <td>0.350000</td>\n",
       "    </tr>\n",
       "    <tr>\n",
       "      <th>4</th>\n",
       "      <td>768000000</td>\n",
       "      <td>32000000</td>\n",
       "      <td>vip</td>\n",
       "      <td>3</td>\n",
       "      <td>0.400000</td>\n",
       "    </tr>\n",
       "    <tr>\n",
       "      <th>...</th>\n",
       "      <td>...</td>\n",
       "      <td>...</td>\n",
       "      <td>...</td>\n",
       "      <td>...</td>\n",
       "      <td>...</td>\n",
       "    </tr>\n",
       "    <tr>\n",
       "      <th>19995</th>\n",
       "      <td>628000000</td>\n",
       "      <td>44666666</td>\n",
       "      <td>diamond</td>\n",
       "      <td>2</td>\n",
       "      <td>0.558333</td>\n",
       "    </tr>\n",
       "    <tr>\n",
       "      <th>19996</th>\n",
       "      <td>276000000</td>\n",
       "      <td>20000000</td>\n",
       "      <td>normal</td>\n",
       "      <td>1</td>\n",
       "      <td>0.250000</td>\n",
       "    </tr>\n",
       "    <tr>\n",
       "      <th>19997</th>\n",
       "      <td>652000000</td>\n",
       "      <td>41333333</td>\n",
       "      <td>diamond</td>\n",
       "      <td>2</td>\n",
       "      <td>0.516667</td>\n",
       "    </tr>\n",
       "    <tr>\n",
       "      <th>19998</th>\n",
       "      <td>676000000</td>\n",
       "      <td>45333333</td>\n",
       "      <td>diamond</td>\n",
       "      <td>2</td>\n",
       "      <td>0.566667</td>\n",
       "    </tr>\n",
       "    <tr>\n",
       "      <th>19999</th>\n",
       "      <td>732000000</td>\n",
       "      <td>26000000</td>\n",
       "      <td>diamond</td>\n",
       "      <td>2</td>\n",
       "      <td>0.325000</td>\n",
       "    </tr>\n",
       "  </tbody>\n",
       "</table>\n",
       "<p>20000 rows × 5 columns</p>\n",
       "</div>"
      ],
      "text/plain": [
       "              BA        ST       LA  LABEL_MAP  STOCK_SCALE\n",
       "0       30000000  22500000   normal          1     0.281250\n",
       "1      280000000  48000000  diamond          2     0.600000\n",
       "2      300000000  40666666  diamond          2     0.508333\n",
       "3       54000000  28000000   normal          1     0.350000\n",
       "4      768000000  32000000      vip          3     0.400000\n",
       "...          ...       ...      ...        ...          ...\n",
       "19995  628000000  44666666  diamond          2     0.558333\n",
       "19996  276000000  20000000   normal          1     0.250000\n",
       "19997  652000000  41333333  diamond          2     0.516667\n",
       "19998  676000000  45333333  diamond          2     0.566667\n",
       "19999  732000000  26000000  diamond          2     0.325000\n",
       "\n",
       "[20000 rows x 5 columns]"
      ]
     },
     "execution_count": 35,
     "metadata": {},
     "output_type": "execute_result"
    }
   ],
   "source": [
    "csData"
   ]
  },
  {
   "cell_type": "code",
   "execution_count": 36,
   "id": "20419dc1-20a9-4f05-bbec-5470b1f12960",
   "metadata": {},
   "outputs": [],
   "source": [
    "maxBalanceValue = csData.BA.max()"
   ]
  },
  {
   "cell_type": "code",
   "execution_count": 37,
   "id": "e1d6bb6b-82a8-49c9-8156-574eab07644c",
   "metadata": {},
   "outputs": [
    {
     "data": {
      "text/plain": [
       "800000000"
      ]
     },
     "execution_count": 37,
     "metadata": {},
     "output_type": "execute_result"
    }
   ],
   "source": [
    "maxBalanceValue"
   ]
  },
  {
   "cell_type": "code",
   "execution_count": 38,
   "id": "54ca210d-a100-4bd1-91a9-cfecd75aeb0c",
   "metadata": {},
   "outputs": [],
   "source": [
    "csData[\"BALANCE_SCALE\"] = csData.BA / maxBalanceValue"
   ]
  },
  {
   "cell_type": "code",
   "execution_count": 39,
   "id": "d61d7391-e8ac-4480-b443-df042795460d",
   "metadata": {},
   "outputs": [
    {
     "data": {
      "text/html": [
       "<div>\n",
       "<style scoped>\n",
       "    .dataframe tbody tr th:only-of-type {\n",
       "        vertical-align: middle;\n",
       "    }\n",
       "\n",
       "    .dataframe tbody tr th {\n",
       "        vertical-align: top;\n",
       "    }\n",
       "\n",
       "    .dataframe thead th {\n",
       "        text-align: right;\n",
       "    }\n",
       "</style>\n",
       "<table border=\"1\" class=\"dataframe\">\n",
       "  <thead>\n",
       "    <tr style=\"text-align: right;\">\n",
       "      <th></th>\n",
       "      <th>BA</th>\n",
       "      <th>ST</th>\n",
       "      <th>LA</th>\n",
       "      <th>LABEL_MAP</th>\n",
       "      <th>STOCK_SCALE</th>\n",
       "      <th>BALANCE_SCALE</th>\n",
       "    </tr>\n",
       "  </thead>\n",
       "  <tbody>\n",
       "    <tr>\n",
       "      <th>0</th>\n",
       "      <td>30000000</td>\n",
       "      <td>22500000</td>\n",
       "      <td>normal</td>\n",
       "      <td>1</td>\n",
       "      <td>0.281250</td>\n",
       "      <td>0.0375</td>\n",
       "    </tr>\n",
       "    <tr>\n",
       "      <th>1</th>\n",
       "      <td>280000000</td>\n",
       "      <td>48000000</td>\n",
       "      <td>diamond</td>\n",
       "      <td>2</td>\n",
       "      <td>0.600000</td>\n",
       "      <td>0.3500</td>\n",
       "    </tr>\n",
       "    <tr>\n",
       "      <th>2</th>\n",
       "      <td>300000000</td>\n",
       "      <td>40666666</td>\n",
       "      <td>diamond</td>\n",
       "      <td>2</td>\n",
       "      <td>0.508333</td>\n",
       "      <td>0.3750</td>\n",
       "    </tr>\n",
       "    <tr>\n",
       "      <th>3</th>\n",
       "      <td>54000000</td>\n",
       "      <td>28000000</td>\n",
       "      <td>normal</td>\n",
       "      <td>1</td>\n",
       "      <td>0.350000</td>\n",
       "      <td>0.0675</td>\n",
       "    </tr>\n",
       "    <tr>\n",
       "      <th>4</th>\n",
       "      <td>768000000</td>\n",
       "      <td>32000000</td>\n",
       "      <td>vip</td>\n",
       "      <td>3</td>\n",
       "      <td>0.400000</td>\n",
       "      <td>0.9600</td>\n",
       "    </tr>\n",
       "    <tr>\n",
       "      <th>...</th>\n",
       "      <td>...</td>\n",
       "      <td>...</td>\n",
       "      <td>...</td>\n",
       "      <td>...</td>\n",
       "      <td>...</td>\n",
       "      <td>...</td>\n",
       "    </tr>\n",
       "    <tr>\n",
       "      <th>19995</th>\n",
       "      <td>628000000</td>\n",
       "      <td>44666666</td>\n",
       "      <td>diamond</td>\n",
       "      <td>2</td>\n",
       "      <td>0.558333</td>\n",
       "      <td>0.7850</td>\n",
       "    </tr>\n",
       "    <tr>\n",
       "      <th>19996</th>\n",
       "      <td>276000000</td>\n",
       "      <td>20000000</td>\n",
       "      <td>normal</td>\n",
       "      <td>1</td>\n",
       "      <td>0.250000</td>\n",
       "      <td>0.3450</td>\n",
       "    </tr>\n",
       "    <tr>\n",
       "      <th>19997</th>\n",
       "      <td>652000000</td>\n",
       "      <td>41333333</td>\n",
       "      <td>diamond</td>\n",
       "      <td>2</td>\n",
       "      <td>0.516667</td>\n",
       "      <td>0.8150</td>\n",
       "    </tr>\n",
       "    <tr>\n",
       "      <th>19998</th>\n",
       "      <td>676000000</td>\n",
       "      <td>45333333</td>\n",
       "      <td>diamond</td>\n",
       "      <td>2</td>\n",
       "      <td>0.566667</td>\n",
       "      <td>0.8450</td>\n",
       "    </tr>\n",
       "    <tr>\n",
       "      <th>19999</th>\n",
       "      <td>732000000</td>\n",
       "      <td>26000000</td>\n",
       "      <td>diamond</td>\n",
       "      <td>2</td>\n",
       "      <td>0.325000</td>\n",
       "      <td>0.9150</td>\n",
       "    </tr>\n",
       "  </tbody>\n",
       "</table>\n",
       "<p>20000 rows × 6 columns</p>\n",
       "</div>"
      ],
      "text/plain": [
       "              BA        ST       LA  LABEL_MAP  STOCK_SCALE  BALANCE_SCALE\n",
       "0       30000000  22500000   normal          1     0.281250         0.0375\n",
       "1      280000000  48000000  diamond          2     0.600000         0.3500\n",
       "2      300000000  40666666  diamond          2     0.508333         0.3750\n",
       "3       54000000  28000000   normal          1     0.350000         0.0675\n",
       "4      768000000  32000000      vip          3     0.400000         0.9600\n",
       "...          ...       ...      ...        ...          ...            ...\n",
       "19995  628000000  44666666  diamond          2     0.558333         0.7850\n",
       "19996  276000000  20000000   normal          1     0.250000         0.3450\n",
       "19997  652000000  41333333  diamond          2     0.516667         0.8150\n",
       "19998  676000000  45333333  diamond          2     0.566667         0.8450\n",
       "19999  732000000  26000000  diamond          2     0.325000         0.9150\n",
       "\n",
       "[20000 rows x 6 columns]"
      ]
     },
     "execution_count": 39,
     "metadata": {},
     "output_type": "execute_result"
    }
   ],
   "source": [
    "csData"
   ]
  },
  {
   "cell_type": "markdown",
   "id": "da6a59b0-75dd-4ca5-abca-9edbde617ab0",
   "metadata": {},
   "source": [
    " "
   ]
  },
  {
   "cell_type": "markdown",
   "id": "b40f7770-ec7a-4c23-b537-6c6a74574204",
   "metadata": {},
   "source": [
    "#### 2. 특성 선정 / 데이터 분리"
   ]
  },
  {
   "cell_type": "code",
   "execution_count": 40,
   "id": "63134d9d-1bba-41f2-bc0c-4b8de43b1599",
   "metadata": {},
   "outputs": [],
   "source": [
    "### 특성 선정"
   ]
  },
  {
   "cell_type": "code",
   "execution_count": 41,
   "id": "5f903376-5503-4b9c-9f54-e5d709514062",
   "metadata": {},
   "outputs": [],
   "source": [
    "corrDf = csData.corr()"
   ]
  },
  {
   "cell_type": "code",
   "execution_count": 42,
   "id": "3343b393-34c9-475f-837f-efe0ab0d3957",
   "metadata": {},
   "outputs": [
    {
     "data": {
      "text/html": [
       "<div>\n",
       "<style scoped>\n",
       "    .dataframe tbody tr th:only-of-type {\n",
       "        vertical-align: middle;\n",
       "    }\n",
       "\n",
       "    .dataframe tbody tr th {\n",
       "        vertical-align: top;\n",
       "    }\n",
       "\n",
       "    .dataframe thead th {\n",
       "        text-align: right;\n",
       "    }\n",
       "</style>\n",
       "<table border=\"1\" class=\"dataframe\">\n",
       "  <thead>\n",
       "    <tr style=\"text-align: right;\">\n",
       "      <th></th>\n",
       "      <th>BA</th>\n",
       "      <th>ST</th>\n",
       "      <th>LABEL_MAP</th>\n",
       "      <th>STOCK_SCALE</th>\n",
       "      <th>BALANCE_SCALE</th>\n",
       "    </tr>\n",
       "  </thead>\n",
       "  <tbody>\n",
       "    <tr>\n",
       "      <th>BA</th>\n",
       "      <td>1.000000</td>\n",
       "      <td>0.565942</td>\n",
       "      <td>0.883144</td>\n",
       "      <td>0.565942</td>\n",
       "      <td>1.000000</td>\n",
       "    </tr>\n",
       "    <tr>\n",
       "      <th>ST</th>\n",
       "      <td>0.565942</td>\n",
       "      <td>1.000000</td>\n",
       "      <td>0.824174</td>\n",
       "      <td>1.000000</td>\n",
       "      <td>0.565942</td>\n",
       "    </tr>\n",
       "    <tr>\n",
       "      <th>LABEL_MAP</th>\n",
       "      <td>0.883144</td>\n",
       "      <td>0.824174</td>\n",
       "      <td>1.000000</td>\n",
       "      <td>0.824174</td>\n",
       "      <td>0.883144</td>\n",
       "    </tr>\n",
       "    <tr>\n",
       "      <th>STOCK_SCALE</th>\n",
       "      <td>0.565942</td>\n",
       "      <td>1.000000</td>\n",
       "      <td>0.824174</td>\n",
       "      <td>1.000000</td>\n",
       "      <td>0.565942</td>\n",
       "    </tr>\n",
       "    <tr>\n",
       "      <th>BALANCE_SCALE</th>\n",
       "      <td>1.000000</td>\n",
       "      <td>0.565942</td>\n",
       "      <td>0.883144</td>\n",
       "      <td>0.565942</td>\n",
       "      <td>1.000000</td>\n",
       "    </tr>\n",
       "  </tbody>\n",
       "</table>\n",
       "</div>"
      ],
      "text/plain": [
       "                     BA        ST  LABEL_MAP  STOCK_SCALE  BALANCE_SCALE\n",
       "BA             1.000000  0.565942   0.883144     0.565942       1.000000\n",
       "ST             0.565942  1.000000   0.824174     1.000000       0.565942\n",
       "LABEL_MAP      0.883144  0.824174   1.000000     0.824174       0.883144\n",
       "STOCK_SCALE    0.565942  1.000000   0.824174     1.000000       0.565942\n",
       "BALANCE_SCALE  1.000000  0.565942   0.883144     0.565942       1.000000"
      ]
     },
     "execution_count": 42,
     "metadata": {},
     "output_type": "execute_result"
    }
   ],
   "source": [
    "corrDf"
   ]
  },
  {
   "cell_type": "code",
   "execution_count": 43,
   "id": "8fb6e30b-1117-4f23-9065-b8b86a4d5ff8",
   "metadata": {},
   "outputs": [],
   "source": [
    "STDCORR = 0.5"
   ]
  },
  {
   "cell_type": "code",
   "execution_count": 44,
   "id": "b0817b15-6e5d-4b8a-b14c-93501a231c52",
   "metadata": {},
   "outputs": [],
   "source": [
    "features = list(corrDf.loc[(abs(corrDf.LABEL_MAP) > STDCORR) &\\\n",
    "                           (abs(corrDf.LABEL_MAP) != 1)].index)"
   ]
  },
  {
   "cell_type": "code",
   "execution_count": 45,
   "id": "fd8a561a-528a-4a1f-a527-defb664b2fab",
   "metadata": {},
   "outputs": [
    {
     "data": {
      "text/plain": [
       "['BA', 'ST', 'STOCK_SCALE', 'BALANCE_SCALE']"
      ]
     },
     "execution_count": 45,
     "metadata": {},
     "output_type": "execute_result"
    }
   ],
   "source": [
    "features"
   ]
  },
  {
   "cell_type": "code",
   "execution_count": 46,
   "id": "331cf5dc-7730-46c4-ad9c-c7b3f75110ba",
   "metadata": {},
   "outputs": [],
   "source": [
    "label = [\"LA\"]"
   ]
  },
  {
   "cell_type": "code",
   "execution_count": 47,
   "id": "6fe49dc8-f90f-493e-a9f5-483f617f8b44",
   "metadata": {},
   "outputs": [
    {
     "data": {
      "text/plain": [
       "['LA']"
      ]
     },
     "execution_count": 47,
     "metadata": {},
     "output_type": "execute_result"
    }
   ],
   "source": [
    "label\n",
    "# 임의 변경 컬럼이 아닌, 대상 기준 컬럼을 Label로 지정하라. 주의사항"
   ]
  },
  {
   "cell_type": "markdown",
   "id": "7b6ac1dc-20b0-4d47-a806-53c9f6fdd9c4",
   "metadata": {},
   "source": [
    " "
   ]
  },
  {
   "cell_type": "markdown",
   "id": "817412e9-0bd5-45da-997f-3057242a5f47",
   "metadata": {},
   "source": [
    "#### 3. 데이터 분리"
   ]
  },
  {
   "cell_type": "markdown",
   "id": "3ab743be-0b21-4909-8948-ab1a85f9bdcd",
   "metadata": {},
   "source": [
    " "
   ]
  },
  {
   "cell_type": "code",
   "execution_count": 48,
   "id": "5f43e228-ea2f-4b91-a164-c7d08b31f4a7",
   "metadata": {},
   "outputs": [],
   "source": [
    "from sklearn.model_selection import train_test_split"
   ]
  },
  {
   "cell_type": "code",
   "execution_count": 49,
   "id": "ac81ea17-a324-47e8-8c74-64fb86acdf29",
   "metadata": {},
   "outputs": [],
   "source": [
    "# train_test_split을 통해 데이터를 분리한다."
   ]
  },
  {
   "cell_type": "code",
   "execution_count": 50,
   "id": "fd6050d4-d427-44a6-8f6d-79f60989c44e",
   "metadata": {},
   "outputs": [],
   "source": [
    "trainingDataFeatures,\\\n",
    "testDataFeatures,\\\n",
    "trainigDataLabel,\\\n",
    "testDataLabel = train_test_split(csData.loc[:, features],\\\n",
    "                csData.loc[:, label], \\\n",
    "                test_size=0.3,\\\n",
    "                random_state=5)\n",
    "# training과 test 비중을 7:3으로 구분한다.\n",
    "# 시계열 데이터가 아니므로 무작위로 뽑아버린다."
   ]
  },
  {
   "cell_type": "code",
   "execution_count": 51,
   "id": "e0d74da0-488b-4268-b22c-79a45118db37",
   "metadata": {
    "tags": []
   },
   "outputs": [],
   "source": [
    "trainingDataFeatures = trainingDataFeatures.reset_index(drop=True, inplace=False)"
   ]
  },
  {
   "cell_type": "code",
   "execution_count": 52,
   "id": "cca88b1e-7c68-4aec-a353-cee2e3e16ae8",
   "metadata": {
    "tags": []
   },
   "outputs": [],
   "source": [
    "trainingDataLabel = trainigDataLabel.reset_index(drop=True, inplace=False)"
   ]
  },
  {
   "cell_type": "code",
   "execution_count": 53,
   "id": "bf2cecb2-eaa9-43b6-9e53-f5cd4e27d9cc",
   "metadata": {
    "tags": []
   },
   "outputs": [],
   "source": [
    "testDataFeatures = testDataFeatures.reset_index(drop=True, inplace=False)"
   ]
  },
  {
   "cell_type": "code",
   "execution_count": 54,
   "id": "9d4f1fca-341d-4869-b210-01beb8c42617",
   "metadata": {
    "tags": []
   },
   "outputs": [],
   "source": [
    "testDataLabel = testDataLabel.reset_index(drop=True, inplace=False)"
   ]
  },
  {
   "cell_type": "code",
   "execution_count": 55,
   "id": "7d8d6e80-73bc-494e-afab-8c65519b9f3e",
   "metadata": {},
   "outputs": [
    {
     "data": {
      "text/plain": [
       "14000"
      ]
     },
     "execution_count": 55,
     "metadata": {},
     "output_type": "execute_result"
    }
   ],
   "source": [
    "trainingDataFeatures.shape[0]"
   ]
  },
  {
   "cell_type": "code",
   "execution_count": 56,
   "id": "c1ff944c-7872-466a-ada0-eec3b3d83628",
   "metadata": {},
   "outputs": [
    {
     "data": {
      "text/plain": [
       "14000"
      ]
     },
     "execution_count": 56,
     "metadata": {},
     "output_type": "execute_result"
    }
   ],
   "source": [
    "trainingDataLabel.shape[0]"
   ]
  },
  {
   "cell_type": "code",
   "execution_count": 57,
   "id": "6d79f686-3a46-4c77-8b82-212dd47eb9a6",
   "metadata": {},
   "outputs": [
    {
     "data": {
      "text/plain": [
       "6000"
      ]
     },
     "execution_count": 57,
     "metadata": {},
     "output_type": "execute_result"
    }
   ],
   "source": [
    "testDataFeatures.shape[0]"
   ]
  },
  {
   "cell_type": "code",
   "execution_count": 58,
   "id": "73d6bcb3-9f54-42e0-b0cb-924c8c467e98",
   "metadata": {},
   "outputs": [
    {
     "data": {
      "text/plain": [
       "6000"
      ]
     },
     "execution_count": 58,
     "metadata": {},
     "output_type": "execute_result"
    }
   ],
   "source": [
    "testDataLabel.shape[0]"
   ]
  },
  {
   "cell_type": "markdown",
   "id": "5041992b-290e-47fe-8242-38df992c418c",
   "metadata": {},
   "source": [
    " "
   ]
  },
  {
   "cell_type": "markdown",
   "id": "fac488e0-705c-47f8-b28c-d18c0ac28871",
   "metadata": {},
   "source": [
    "#### 4. 모델 선언 / 학습"
   ]
  },
  {
   "cell_type": "code",
   "execution_count": 59,
   "id": "aa9d7650-c75c-44e6-b2ef-3343fd7072bc",
   "metadata": {},
   "outputs": [],
   "source": [
    "svmModel = svm.SVC(C=1)\n",
    "# c: margin값. 한계값. 1을 기본으로 한다. c 값이 커지면 margin이 작아진다.\n",
    "#                                       c 값이 작아지면 margin이 커진다.\n",
    "treeModel = tree.DecisionTreeClassifier(random_state=10)\n",
    "# tree - DecisionTreeClassifier 모델 선언\n",
    "ensembleModel = ensemble.RandomForestClassifier(random_state=5)\n",
    "# ensemble - RandomForestClassifier 모델 선언\n",
    "knnModel = neighbors.KNeighborsClassifier(n_neighbors = 3)\n",
    "# knn - KNeighborsClassifier 모델 선언"
   ]
  },
  {
   "cell_type": "code",
   "execution_count": 60,
   "id": "8ef21040-8db6-4a2a-9f35-75e7f4202707",
   "metadata": {},
   "outputs": [
    {
     "name": "stderr",
     "output_type": "stream",
     "text": [
      "C:\\Users\\SMART16\\anaconda3\\lib\\site-packages\\sklearn\\utils\\validation.py:993: DataConversionWarning: A column-vector y was passed when a 1d array was expected. Please change the shape of y to (n_samples, ), for example using ravel().\n",
      "  y = column_or_1d(y, warn=True)\n",
      "C:\\Users\\SMART16\\AppData\\Local\\Temp\\ipykernel_888\\2141576844.py:6: DataConversionWarning: A column-vector y was passed when a 1d array was expected. Please change the shape of y to (n_samples,), for example using ravel().\n",
      "  ensembleModelFit = ensembleModel.fit(X = trainingDataFeatures,\\\n",
      "C:\\Users\\SMART16\\anaconda3\\lib\\site-packages\\sklearn\\neighbors\\_classification.py:198: DataConversionWarning: A column-vector y was passed when a 1d array was expected. Please change the shape of y to (n_samples,), for example using ravel().\n",
      "  return self._fit(X, y)\n"
     ]
    }
   ],
   "source": [
    "# x : 훈련, y : 정답\n",
    "svmModelFit = svmModel.fit(X = trainingDataFeatures,\\\n",
    "             y = trainingDataLabel)\n",
    "treeModelFit = treeModel.fit(X = trainingDataFeatures,\\\n",
    "             y = trainingDataLabel)\n",
    "ensembleModelFit = ensembleModel.fit(X = trainingDataFeatures,\\\n",
    "             y = trainingDataLabel)\n",
    "knnModelFit = knnModel.fit(X = trainingDataFeatures,\\\n",
    "             y = trainingDataLabel)"
   ]
  },
  {
   "cell_type": "code",
   "execution_count": 61,
   "id": "522b8c50-44e9-4096-8200-3d031a9c730b",
   "metadata": {},
   "outputs": [
    {
     "name": "stderr",
     "output_type": "stream",
     "text": [
      "C:\\Users\\SMART16\\anaconda3\\lib\\site-packages\\sklearn\\neighbors\\_classification.py:228: FutureWarning: Unlike other reduction functions (e.g. `skew`, `kurtosis`), the default behavior of `mode` typically preserves the axis it acts along. In SciPy 1.11.0, this behavior will change: the default value of `keepdims` will become False, the `axis` over which the statistic is taken will be eliminated, and the value None will no longer be accepted. Set `keepdims` to True or False to avoid this warning.\n",
      "  mode, _ = stats.mode(_y[neigh_ind, k], axis=1)\n"
     ]
    }
   ],
   "source": [
    "svmPredict = svmModelFit.predict(testDataFeatures)\n",
    "treePredict = treeModelFit.predict(testDataFeatures)\n",
    "ensemblePredict = ensembleModelFit.predict(testDataFeatures)\n",
    "knnModelPredict = knnModelFit.predict(testDataFeatures)"
   ]
  },
  {
   "cell_type": "markdown",
   "id": "cf81dc60-4270-4955-ac30-0a95138651c4",
   "metadata": {},
   "source": [
    " "
   ]
  },
  {
   "cell_type": "markdown",
   "id": "54c58f19-8c70-40af-8ed0-005a72b2578b",
   "metadata": {},
   "source": [
    "#### 5. 데이터 정리"
   ]
  },
  {
   "cell_type": "code",
   "execution_count": 62,
   "id": "452756d1-4bf5-4961-b2b7-8f42bd2d3db5",
   "metadata": {},
   "outputs": [],
   "source": [
    "testDataLabel[\"SVM_PREDICT\"] = svmPredict"
   ]
  },
  {
   "cell_type": "code",
   "execution_count": 63,
   "id": "f3fc8de8-8356-4465-8501-d51a52b1d912",
   "metadata": {},
   "outputs": [],
   "source": [
    "testDataLabel[\"DT_PREDICT\"] = treePredict\n",
    "testDataLabel[\"RF_PREDICT\"] = ensemblePredict\n",
    "testDataLabel[\"KNN_PREDICT\"] = knnModelPredict"
   ]
  },
  {
   "cell_type": "code",
   "execution_count": 64,
   "id": "cdea648a-b5f9-4365-892e-9b0ba4818a9f",
   "metadata": {},
   "outputs": [
    {
     "data": {
      "text/html": [
       "<div>\n",
       "<style scoped>\n",
       "    .dataframe tbody tr th:only-of-type {\n",
       "        vertical-align: middle;\n",
       "    }\n",
       "\n",
       "    .dataframe tbody tr th {\n",
       "        vertical-align: top;\n",
       "    }\n",
       "\n",
       "    .dataframe thead th {\n",
       "        text-align: right;\n",
       "    }\n",
       "</style>\n",
       "<table border=\"1\" class=\"dataframe\">\n",
       "  <thead>\n",
       "    <tr style=\"text-align: right;\">\n",
       "      <th></th>\n",
       "      <th>LA</th>\n",
       "      <th>SVM_PREDICT</th>\n",
       "      <th>DT_PREDICT</th>\n",
       "      <th>RF_PREDICT</th>\n",
       "      <th>KNN_PREDICT</th>\n",
       "    </tr>\n",
       "  </thead>\n",
       "  <tbody>\n",
       "    <tr>\n",
       "      <th>0</th>\n",
       "      <td>normal</td>\n",
       "      <td>normal</td>\n",
       "      <td>normal</td>\n",
       "      <td>normal</td>\n",
       "      <td>normal</td>\n",
       "    </tr>\n",
       "    <tr>\n",
       "      <th>1</th>\n",
       "      <td>diamond</td>\n",
       "      <td>diamond</td>\n",
       "      <td>diamond</td>\n",
       "      <td>diamond</td>\n",
       "      <td>diamond</td>\n",
       "    </tr>\n",
       "    <tr>\n",
       "      <th>2</th>\n",
       "      <td>vip</td>\n",
       "      <td>vip</td>\n",
       "      <td>vip</td>\n",
       "      <td>vip</td>\n",
       "      <td>vip</td>\n",
       "    </tr>\n",
       "    <tr>\n",
       "      <th>3</th>\n",
       "      <td>diamond</td>\n",
       "      <td>diamond</td>\n",
       "      <td>diamond</td>\n",
       "      <td>diamond</td>\n",
       "      <td>diamond</td>\n",
       "    </tr>\n",
       "    <tr>\n",
       "      <th>4</th>\n",
       "      <td>diamond</td>\n",
       "      <td>diamond</td>\n",
       "      <td>diamond</td>\n",
       "      <td>diamond</td>\n",
       "      <td>diamond</td>\n",
       "    </tr>\n",
       "    <tr>\n",
       "      <th>...</th>\n",
       "      <td>...</td>\n",
       "      <td>...</td>\n",
       "      <td>...</td>\n",
       "      <td>...</td>\n",
       "      <td>...</td>\n",
       "    </tr>\n",
       "    <tr>\n",
       "      <th>5995</th>\n",
       "      <td>diamond</td>\n",
       "      <td>diamond</td>\n",
       "      <td>diamond</td>\n",
       "      <td>diamond</td>\n",
       "      <td>diamond</td>\n",
       "    </tr>\n",
       "    <tr>\n",
       "      <th>5996</th>\n",
       "      <td>normal</td>\n",
       "      <td>normal</td>\n",
       "      <td>normal</td>\n",
       "      <td>normal</td>\n",
       "      <td>normal</td>\n",
       "    </tr>\n",
       "    <tr>\n",
       "      <th>5997</th>\n",
       "      <td>normal</td>\n",
       "      <td>normal</td>\n",
       "      <td>normal</td>\n",
       "      <td>normal</td>\n",
       "      <td>normal</td>\n",
       "    </tr>\n",
       "    <tr>\n",
       "      <th>5998</th>\n",
       "      <td>normal</td>\n",
       "      <td>normal</td>\n",
       "      <td>normal</td>\n",
       "      <td>normal</td>\n",
       "      <td>normal</td>\n",
       "    </tr>\n",
       "    <tr>\n",
       "      <th>5999</th>\n",
       "      <td>normal</td>\n",
       "      <td>normal</td>\n",
       "      <td>normal</td>\n",
       "      <td>normal</td>\n",
       "      <td>normal</td>\n",
       "    </tr>\n",
       "  </tbody>\n",
       "</table>\n",
       "<p>6000 rows × 5 columns</p>\n",
       "</div>"
      ],
      "text/plain": [
       "           LA SVM_PREDICT DT_PREDICT RF_PREDICT KNN_PREDICT\n",
       "0      normal      normal     normal     normal      normal\n",
       "1     diamond     diamond    diamond    diamond     diamond\n",
       "2         vip         vip        vip        vip         vip\n",
       "3     diamond     diamond    diamond    diamond     diamond\n",
       "4     diamond     diamond    diamond    diamond     diamond\n",
       "...       ...         ...        ...        ...         ...\n",
       "5995  diamond     diamond    diamond    diamond     diamond\n",
       "5996   normal      normal     normal     normal      normal\n",
       "5997   normal      normal     normal     normal      normal\n",
       "5998   normal      normal     normal     normal      normal\n",
       "5999   normal      normal     normal     normal      normal\n",
       "\n",
       "[6000 rows x 5 columns]"
      ]
     },
     "execution_count": 64,
     "metadata": {},
     "output_type": "execute_result"
    }
   ],
   "source": [
    "testDataLabel"
   ]
  },
  {
   "cell_type": "code",
   "execution_count": 65,
   "id": "d3f3136f-69f0-44e3-bb74-113e1b48e38c",
   "metadata": {},
   "outputs": [],
   "source": [
    "from sklearn.metrics import classification_report"
   ]
  },
  {
   "cell_type": "code",
   "execution_count": 66,
   "id": "8d5fa357-d8e0-49c5-928e-5e272cb974db",
   "metadata": {},
   "outputs": [],
   "source": [
    "from sklearn.metrics import accuracy_score"
   ]
  },
  {
   "cell_type": "code",
   "execution_count": 67,
   "id": "badc8be5-72c8-45e6-a326-b95068c0319f",
   "metadata": {},
   "outputs": [],
   "source": [
    "SVMCFP = classification_report(y_true = testDataLabel.LA,\n",
    "                               y_pred = testDataLabel.SVM_PREDICT)"
   ]
  },
  {
   "cell_type": "code",
   "execution_count": null,
   "id": "5001b946-733b-46fa-a6ad-ef6ea280d51b",
   "metadata": {},
   "outputs": [],
   "source": []
  },
  {
   "cell_type": "code",
   "execution_count": 68,
   "id": "6fb9eb9e-b2a8-48af-a85c-d746539bd26a",
   "metadata": {},
   "outputs": [],
   "source": [
    "svmAccuracy = accuracy_score(y_true=testDataLabel.LA,\n",
    "                             y_pred=testDataLabel.SVM_PREDICT)\n",
    "dtAccuracy = accuracy_score(y_true=testDataLabel.LA,\n",
    "                             y_pred=testDataLabel.DT_PREDICT)\n",
    "rfAccuracy = accuracy_score(y_true=testDataLabel.LA,\n",
    "                             y_pred=testDataLabel.RF_PREDICT)\n",
    "knnAccuracy = accuracy_score(y_true=testDataLabel.LA,\n",
    "                             y_pred=testDataLabel.KNN_PREDICT)"
   ]
  },
  {
   "cell_type": "code",
   "execution_count": 69,
   "id": "1aa8a586-ceff-497b-b052-0473af581734",
   "metadata": {},
   "outputs": [],
   "source": [
    "accuracyDf = pd.DataFrame([[svmAccuracy, dtAccuracy, rfAccuracy, knnAccuracy]],\n",
    "                          columns = [\"SVM\", \"DT\", \"RF\", \"KNN\"],\n",
    "                          index = [\"Accuracy\"])"
   ]
  },
  {
   "cell_type": "code",
   "execution_count": 70,
   "id": "08c4a78b-2325-46ed-a9ef-6e510bd4819d",
   "metadata": {},
   "outputs": [
    {
     "data": {
      "text/html": [
       "<div>\n",
       "<style scoped>\n",
       "    .dataframe tbody tr th:only-of-type {\n",
       "        vertical-align: middle;\n",
       "    }\n",
       "\n",
       "    .dataframe tbody tr th {\n",
       "        vertical-align: top;\n",
       "    }\n",
       "\n",
       "    .dataframe thead th {\n",
       "        text-align: right;\n",
       "    }\n",
       "</style>\n",
       "<table border=\"1\" class=\"dataframe\">\n",
       "  <thead>\n",
       "    <tr style=\"text-align: right;\">\n",
       "      <th></th>\n",
       "      <th>SVM</th>\n",
       "      <th>DT</th>\n",
       "      <th>RF</th>\n",
       "      <th>KNN</th>\n",
       "    </tr>\n",
       "  </thead>\n",
       "  <tbody>\n",
       "    <tr>\n",
       "      <th>Accuracy</th>\n",
       "      <td>0.995</td>\n",
       "      <td>0.994</td>\n",
       "      <td>0.9945</td>\n",
       "      <td>0.995</td>\n",
       "    </tr>\n",
       "  </tbody>\n",
       "</table>\n",
       "</div>"
      ],
      "text/plain": [
       "            SVM     DT      RF    KNN\n",
       "Accuracy  0.995  0.994  0.9945  0.995"
      ]
     },
     "execution_count": 70,
     "metadata": {},
     "output_type": "execute_result"
    }
   ],
   "source": [
    "accuracyDf"
   ]
  },
  {
   "cell_type": "code",
   "execution_count": 71,
   "id": "1c9c1ead-2beb-45e7-8d42-05d21a58641d",
   "metadata": {},
   "outputs": [],
   "source": [
    "# 각 모델 정확도를 DataFrame으로 묶어 고객이 이해하기 쉽게 정보를 전달할 것"
   ]
  },
  {
   "cell_type": "code",
   "execution_count": 72,
   "id": "40199cf6-e0ee-4d53-97ba-20dc1d642a9c",
   "metadata": {},
   "outputs": [],
   "source": [
    "accuracyDf.to_csv(\"../../../Desktop/accuracyDf.csv\", encoding=\"ms949\")"
   ]
  },
  {
   "cell_type": "code",
   "execution_count": 73,
   "id": "ea44d1d4-975c-436d-baea-16ce5f6b2863",
   "metadata": {},
   "outputs": [],
   "source": [
    "testDataLabel.to_csv(\"../../../Desktop/testData.csv\", encoding=\"ms949\")"
   ]
  }
 ],
 "metadata": {
  "kernelspec": {
   "display_name": "Python 3 (ipykernel)",
   "language": "python",
   "name": "python3"
  },
  "language_info": {
   "codemirror_mode": {
    "name": "ipython",
    "version": 3
   },
   "file_extension": ".py",
   "mimetype": "text/x-python",
   "name": "python",
   "nbconvert_exporter": "python",
   "pygments_lexer": "ipython3",
   "version": "3.9.13"
  }
 },
 "nbformat": 4,
 "nbformat_minor": 5
}
