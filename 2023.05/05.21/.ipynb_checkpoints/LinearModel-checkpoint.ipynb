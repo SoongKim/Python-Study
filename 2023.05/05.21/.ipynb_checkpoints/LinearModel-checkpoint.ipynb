{
 "cells": [
  {
   "cell_type": "markdown",
   "id": "aa6f85b2-611c-49f8-ae17-72991cf2dc01",
   "metadata": {},
   "source": [
    "## 01. 모듈 호출"
   ]
  },
  {
   "cell_type": "code",
   "execution_count": 1,
   "id": "3b6c6103-ab2d-42b0-99c7-97c9ff8c3e5a",
   "metadata": {},
   "outputs": [],
   "source": [
    "import pandas as pd\n",
    "import numpy as np\n",
    "from sklearn import linear_model\n",
    "from sklearn.metrics import mean_squared_error\n",
    "from sklearn.metrics import mean_absolute_error\n",
    "from sklearn.linear_model import LinearRegression\n",
    "from sklearn.preprocessing import LabelEncoder"
   ]
  },
  {
   "cell_type": "markdown",
   "id": "b79b3da0-4636-497e-aa5b-1196b2f3cfc1",
   "metadata": {},
   "source": [
    "## 02. 목표데이터 불러오기"
   ]
  },
  {
   "cell_type": "code",
   "execution_count": 2,
   "id": "6163e3f0-dbe2-4224-b175-7d9b041e14ba",
   "metadata": {},
   "outputs": [],
   "source": [
    "targetData = pd.read_csv(\"../../Python_Script/dataset/cars.csv\")"
   ]
  },
  {
   "cell_type": "markdown",
   "id": "b985bcfb-bdcf-42ac-af6e-a1f045007bf2",
   "metadata": {},
   "source": [
    "## 03. 데이터 형변환"
   ]
  },
  {
   "cell_type": "code",
   "execution_count": 3,
   "id": "2da34f14-b1d5-43f3-917c-f9dcb08bddb2",
   "metadata": {},
   "outputs": [
    {
     "data": {
      "text/html": [
       "<div>\n",
       "<style scoped>\n",
       "    .dataframe tbody tr th:only-of-type {\n",
       "        vertical-align: middle;\n",
       "    }\n",
       "\n",
       "    .dataframe tbody tr th {\n",
       "        vertical-align: top;\n",
       "    }\n",
       "\n",
       "    .dataframe thead th {\n",
       "        text-align: right;\n",
       "    }\n",
       "</style>\n",
       "<table border=\"1\" class=\"dataframe\">\n",
       "  <thead>\n",
       "    <tr style=\"text-align: right;\">\n",
       "      <th></th>\n",
       "      <th>age</th>\n",
       "      <th>gender</th>\n",
       "      <th>miles</th>\n",
       "      <th>debt</th>\n",
       "      <th>income</th>\n",
       "      <th>sales</th>\n",
       "    </tr>\n",
       "  </thead>\n",
       "  <tbody>\n",
       "    <tr>\n",
       "      <th>0</th>\n",
       "      <td>28</td>\n",
       "      <td>0</td>\n",
       "      <td>23</td>\n",
       "      <td>0</td>\n",
       "      <td>4099</td>\n",
       "      <td>620</td>\n",
       "    </tr>\n",
       "    <tr>\n",
       "      <th>1</th>\n",
       "      <td>26</td>\n",
       "      <td>0</td>\n",
       "      <td>27</td>\n",
       "      <td>0</td>\n",
       "      <td>2677</td>\n",
       "      <td>1792</td>\n",
       "    </tr>\n",
       "    <tr>\n",
       "      <th>2</th>\n",
       "      <td>30</td>\n",
       "      <td>1</td>\n",
       "      <td>58</td>\n",
       "      <td>41576</td>\n",
       "      <td>6215</td>\n",
       "      <td>27754</td>\n",
       "    </tr>\n",
       "    <tr>\n",
       "      <th>3</th>\n",
       "      <td>26</td>\n",
       "      <td>1</td>\n",
       "      <td>25</td>\n",
       "      <td>43172</td>\n",
       "      <td>7626</td>\n",
       "      <td>28256</td>\n",
       "    </tr>\n",
       "    <tr>\n",
       "      <th>4</th>\n",
       "      <td>20</td>\n",
       "      <td>1</td>\n",
       "      <td>17</td>\n",
       "      <td>6979</td>\n",
       "      <td>8071</td>\n",
       "      <td>4438</td>\n",
       "    </tr>\n",
       "  </tbody>\n",
       "</table>\n",
       "</div>"
      ],
      "text/plain": [
       "   age  gender  miles   debt  income  sales\n",
       "0   28       0     23      0    4099    620\n",
       "1   26       0     27      0    2677   1792\n",
       "2   30       1     58  41576    6215  27754\n",
       "3   26       1     25  43172    7626  28256\n",
       "4   20       1     17   6979    8071   4438"
      ]
     },
     "execution_count": 3,
     "metadata": {},
     "output_type": "execute_result"
    }
   ],
   "source": [
    "targetData.head()"
   ]
  },
  {
   "cell_type": "code",
   "execution_count": 4,
   "id": "3cae24e1-c88e-4e51-a986-f70b1f8dff90",
   "metadata": {},
   "outputs": [
    {
     "data": {
      "text/plain": [
       "age       int64\n",
       "gender    int64\n",
       "miles     int64\n",
       "debt      int64\n",
       "income    int64\n",
       "sales     int64\n",
       "dtype: object"
      ]
     },
     "execution_count": 4,
     "metadata": {},
     "output_type": "execute_result"
    }
   ],
   "source": [
    "targetData.dtypes"
   ]
  },
  {
   "cell_type": "code",
   "execution_count": 5,
   "id": "4e8be816-558f-4958-9773-9549c2f12db9",
   "metadata": {},
   "outputs": [],
   "source": [
    "columnList = list(targetData.columns)"
   ]
  },
  {
   "cell_type": "code",
   "execution_count": 6,
   "id": "6efbf58a-a669-46f1-ae88-5bdaa9789fd5",
   "metadata": {},
   "outputs": [
    {
     "data": {
      "text/plain": [
       "['age', 'gender', 'miles', 'debt', 'income', 'sales']"
      ]
     },
     "execution_count": 6,
     "metadata": {},
     "output_type": "execute_result"
    }
   ],
   "source": [
    "columnList"
   ]
  },
  {
   "cell_type": "code",
   "execution_count": 7,
   "id": "bcfb00f0-9b40-4c79-89d3-bc44d4476660",
   "metadata": {},
   "outputs": [],
   "source": [
    "for i in range(0, len(columnList)):\n",
    "    try:\n",
    "        targetData[columnList[i]] = targetData[columnList[i]].astype(int)\n",
    "    except:\n",
    "        print(e)"
   ]
  },
  {
   "cell_type": "code",
   "execution_count": 8,
   "id": "0fb86184-28de-46f1-a115-af3805bb18d6",
   "metadata": {},
   "outputs": [
    {
     "data": {
      "text/plain": [
       "age       int32\n",
       "gender    int32\n",
       "miles     int32\n",
       "debt      int32\n",
       "income    int32\n",
       "sales     int32\n",
       "dtype: object"
      ]
     },
     "execution_count": 8,
     "metadata": {},
     "output_type": "execute_result"
    }
   ],
   "source": [
    "targetData.dtypes"
   ]
  },
  {
   "cell_type": "markdown",
   "id": "30adc8f2-6521-4915-94a8-2103d8b0f6fb",
   "metadata": {},
   "source": [
    "## 04. 상관계수 도출"
   ]
  },
  {
   "cell_type": "code",
   "execution_count": 9,
   "id": "1518a637-b311-49d0-8bb3-b5f7aa60eb87",
   "metadata": {},
   "outputs": [],
   "source": [
    "corrData = targetData.corr()"
   ]
  },
  {
   "cell_type": "code",
   "execution_count": 10,
   "id": "d7e3cfa2-1ed6-41f3-9632-e9957591546e",
   "metadata": {},
   "outputs": [
    {
     "data": {
      "text/html": [
       "<div>\n",
       "<style scoped>\n",
       "    .dataframe tbody tr th:only-of-type {\n",
       "        vertical-align: middle;\n",
       "    }\n",
       "\n",
       "    .dataframe tbody tr th {\n",
       "        vertical-align: top;\n",
       "    }\n",
       "\n",
       "    .dataframe thead th {\n",
       "        text-align: right;\n",
       "    }\n",
       "</style>\n",
       "<table border=\"1\" class=\"dataframe\">\n",
       "  <thead>\n",
       "    <tr style=\"text-align: right;\">\n",
       "      <th></th>\n",
       "      <th>age</th>\n",
       "      <th>gender</th>\n",
       "      <th>miles</th>\n",
       "      <th>debt</th>\n",
       "      <th>income</th>\n",
       "      <th>sales</th>\n",
       "    </tr>\n",
       "  </thead>\n",
       "  <tbody>\n",
       "    <tr>\n",
       "      <th>age</th>\n",
       "      <td>1.000000</td>\n",
       "      <td>-0.000702</td>\n",
       "      <td>0.232399</td>\n",
       "      <td>0.218896</td>\n",
       "      <td>0.239644</td>\n",
       "      <td>0.352609</td>\n",
       "    </tr>\n",
       "    <tr>\n",
       "      <th>gender</th>\n",
       "      <td>-0.000702</td>\n",
       "      <td>1.000000</td>\n",
       "      <td>-0.031355</td>\n",
       "      <td>-0.033181</td>\n",
       "      <td>-0.034317</td>\n",
       "      <td>-0.036350</td>\n",
       "    </tr>\n",
       "    <tr>\n",
       "      <th>miles</th>\n",
       "      <td>0.232399</td>\n",
       "      <td>-0.031355</td>\n",
       "      <td>1.000000</td>\n",
       "      <td>0.544791</td>\n",
       "      <td>0.422141</td>\n",
       "      <td>0.636676</td>\n",
       "    </tr>\n",
       "    <tr>\n",
       "      <th>debt</th>\n",
       "      <td>0.218896</td>\n",
       "      <td>-0.033181</td>\n",
       "      <td>0.544791</td>\n",
       "      <td>1.000000</td>\n",
       "      <td>0.491790</td>\n",
       "      <td>0.835541</td>\n",
       "    </tr>\n",
       "    <tr>\n",
       "      <th>income</th>\n",
       "      <td>0.239644</td>\n",
       "      <td>-0.034317</td>\n",
       "      <td>0.422141</td>\n",
       "      <td>0.491790</td>\n",
       "      <td>1.000000</td>\n",
       "      <td>0.674685</td>\n",
       "    </tr>\n",
       "    <tr>\n",
       "      <th>sales</th>\n",
       "      <td>0.352609</td>\n",
       "      <td>-0.036350</td>\n",
       "      <td>0.636676</td>\n",
       "      <td>0.835541</td>\n",
       "      <td>0.674685</td>\n",
       "      <td>1.000000</td>\n",
       "    </tr>\n",
       "  </tbody>\n",
       "</table>\n",
       "</div>"
      ],
      "text/plain": [
       "             age    gender     miles      debt    income     sales\n",
       "age     1.000000 -0.000702  0.232399  0.218896  0.239644  0.352609\n",
       "gender -0.000702  1.000000 -0.031355 -0.033181 -0.034317 -0.036350\n",
       "miles   0.232399 -0.031355  1.000000  0.544791  0.422141  0.636676\n",
       "debt    0.218896 -0.033181  0.544791  1.000000  0.491790  0.835541\n",
       "income  0.239644 -0.034317  0.422141  0.491790  1.000000  0.674685\n",
       "sales   0.352609 -0.036350  0.636676  0.835541  0.674685  1.000000"
      ]
     },
     "execution_count": 10,
     "metadata": {},
     "output_type": "execute_result"
    }
   ],
   "source": [
    "corrData"
   ]
  },
  {
   "cell_type": "markdown",
   "id": "52df7cb3-7829-4b36-af36-99558f8c388c",
   "metadata": {},
   "source": [
    "## 05. sales기반으로 features와 label 구분"
   ]
  },
  {
   "cell_type": "code",
   "execution_count": 11,
   "id": "b625ab79-1aec-48c8-bd08-e14f62a2e950",
   "metadata": {},
   "outputs": [],
   "source": [
    "targetStd = 0.6"
   ]
  },
  {
   "cell_type": "code",
   "execution_count": 15,
   "id": "f6739a59-a53c-4425-8ada-d4522f6ca7cc",
   "metadata": {},
   "outputs": [],
   "source": [
    "features = list(corrData[(abs(corrData.sales) > targetStd) & \\\n",
    "                         (abs(corrData.sales) != 1)].index)"
   ]
  },
  {
   "cell_type": "code",
   "execution_count": 16,
   "id": "0a181b5d-da1e-4c1f-9a88-684d05c302ce",
   "metadata": {},
   "outputs": [
    {
     "data": {
      "text/plain": [
       "['miles', 'debt', 'income']"
      ]
     },
     "execution_count": 16,
     "metadata": {},
     "output_type": "execute_result"
    }
   ],
   "source": [
    "features"
   ]
  },
  {
   "cell_type": "code",
   "execution_count": 17,
   "id": "7de1b6d2-deea-431a-90a1-2045eb0c8ba5",
   "metadata": {},
   "outputs": [],
   "source": [
    "label = [\"sales\"]"
   ]
  },
  {
   "cell_type": "code",
   "execution_count": 18,
   "id": "174aa3af-3a26-4183-8f0f-5006f19f06ad",
   "metadata": {},
   "outputs": [
    {
     "data": {
      "text/plain": [
       "['sales']"
      ]
     },
     "execution_count": 18,
     "metadata": {},
     "output_type": "execute_result"
    }
   ],
   "source": [
    "label"
   ]
  },
  {
   "cell_type": "markdown",
   "id": "9322753f-4429-4d3a-a5d9-2af6eb71cf34",
   "metadata": {},
   "source": [
    "## 06. trainingData와 testData 구분"
   ]
  },
  {
   "cell_type": "code",
   "execution_count": 19,
   "id": "2cd79efd-78d5-41d7-a4ef-d5a4b3b4e7b5",
   "metadata": {},
   "outputs": [],
   "source": [
    "targetRatio = 0.7"
   ]
  },
  {
   "cell_type": "code",
   "execution_count": 20,
   "id": "80501495-38e1-4728-a41c-2dd49607f8e7",
   "metadata": {},
   "outputs": [],
   "source": [
    "targetIndex = int(targetData.shape[0] * targetRatio)"
   ]
  },
  {
   "cell_type": "code",
   "execution_count": 21,
   "id": "112f4242-7ce5-4bdf-a942-cd7816f61228",
   "metadata": {},
   "outputs": [
    {
     "data": {
      "text/plain": [
       "674"
      ]
     },
     "execution_count": 21,
     "metadata": {},
     "output_type": "execute_result"
    }
   ],
   "source": [
    "targetIndex"
   ]
  },
  {
   "cell_type": "code",
   "execution_count": 22,
   "id": "06e94bbd-466a-4b67-9324-43f1b553ecf5",
   "metadata": {},
   "outputs": [],
   "source": [
    "trainingFeatures = targetData[features][:targetIndex].reset_index(drop=True, inplace = False)\n",
    "trainingLabel = targetData[label][:targetIndex].reset_index(drop=True, inplace = False)\n",
    "testFeatures = targetData[features][targetIndex:].reset_index(drop=True, inplace = False)\n",
    "testLabel = targetData[label][targetIndex:].reset_index(drop=True, inplace = False)"
   ]
  },
  {
   "cell_type": "code",
   "execution_count": 23,
   "id": "1ce3a6ab-5ce1-48e6-9443-b4bc897aa3d0",
   "metadata": {},
   "outputs": [
    {
     "data": {
      "text/html": [
       "<div>\n",
       "<style scoped>\n",
       "    .dataframe tbody tr th:only-of-type {\n",
       "        vertical-align: middle;\n",
       "    }\n",
       "\n",
       "    .dataframe tbody tr th {\n",
       "        vertical-align: top;\n",
       "    }\n",
       "\n",
       "    .dataframe thead th {\n",
       "        text-align: right;\n",
       "    }\n",
       "</style>\n",
       "<table border=\"1\" class=\"dataframe\">\n",
       "  <thead>\n",
       "    <tr style=\"text-align: right;\">\n",
       "      <th></th>\n",
       "      <th>miles</th>\n",
       "      <th>debt</th>\n",
       "      <th>income</th>\n",
       "    </tr>\n",
       "  </thead>\n",
       "  <tbody>\n",
       "    <tr>\n",
       "      <th>0</th>\n",
       "      <td>23</td>\n",
       "      <td>0</td>\n",
       "      <td>4099</td>\n",
       "    </tr>\n",
       "    <tr>\n",
       "      <th>1</th>\n",
       "      <td>27</td>\n",
       "      <td>0</td>\n",
       "      <td>2677</td>\n",
       "    </tr>\n",
       "    <tr>\n",
       "      <th>2</th>\n",
       "      <td>58</td>\n",
       "      <td>41576</td>\n",
       "      <td>6215</td>\n",
       "    </tr>\n",
       "    <tr>\n",
       "      <th>3</th>\n",
       "      <td>25</td>\n",
       "      <td>43172</td>\n",
       "      <td>7626</td>\n",
       "    </tr>\n",
       "    <tr>\n",
       "      <th>4</th>\n",
       "      <td>17</td>\n",
       "      <td>6979</td>\n",
       "      <td>8071</td>\n",
       "    </tr>\n",
       "    <tr>\n",
       "      <th>...</th>\n",
       "      <td>...</td>\n",
       "      <td>...</td>\n",
       "      <td>...</td>\n",
       "    </tr>\n",
       "    <tr>\n",
       "      <th>669</th>\n",
       "      <td>27</td>\n",
       "      <td>9766</td>\n",
       "      <td>5787</td>\n",
       "    </tr>\n",
       "    <tr>\n",
       "      <th>670</th>\n",
       "      <td>12</td>\n",
       "      <td>1411</td>\n",
       "      <td>8381</td>\n",
       "    </tr>\n",
       "    <tr>\n",
       "      <th>671</th>\n",
       "      <td>25</td>\n",
       "      <td>9569</td>\n",
       "      <td>6598</td>\n",
       "    </tr>\n",
       "    <tr>\n",
       "      <th>672</th>\n",
       "      <td>72</td>\n",
       "      <td>55789</td>\n",
       "      <td>10257</td>\n",
       "    </tr>\n",
       "    <tr>\n",
       "      <th>673</th>\n",
       "      <td>29</td>\n",
       "      <td>1427</td>\n",
       "      <td>2214</td>\n",
       "    </tr>\n",
       "  </tbody>\n",
       "</table>\n",
       "<p>674 rows × 3 columns</p>\n",
       "</div>"
      ],
      "text/plain": [
       "     miles   debt  income\n",
       "0       23      0    4099\n",
       "1       27      0    2677\n",
       "2       58  41576    6215\n",
       "3       25  43172    7626\n",
       "4       17   6979    8071\n",
       "..     ...    ...     ...\n",
       "669     27   9766    5787\n",
       "670     12   1411    8381\n",
       "671     25   9569    6598\n",
       "672     72  55789   10257\n",
       "673     29   1427    2214\n",
       "\n",
       "[674 rows x 3 columns]"
      ]
     },
     "execution_count": 23,
     "metadata": {},
     "output_type": "execute_result"
    }
   ],
   "source": [
    "trainingFeatures"
   ]
  },
  {
   "cell_type": "code",
   "execution_count": 24,
   "id": "286ecd3e-cb34-4832-bb5b-5ca1a3f65664",
   "metadata": {},
   "outputs": [
    {
     "data": {
      "text/html": [
       "<div>\n",
       "<style scoped>\n",
       "    .dataframe tbody tr th:only-of-type {\n",
       "        vertical-align: middle;\n",
       "    }\n",
       "\n",
       "    .dataframe tbody tr th {\n",
       "        vertical-align: top;\n",
       "    }\n",
       "\n",
       "    .dataframe thead th {\n",
       "        text-align: right;\n",
       "    }\n",
       "</style>\n",
       "<table border=\"1\" class=\"dataframe\">\n",
       "  <thead>\n",
       "    <tr style=\"text-align: right;\">\n",
       "      <th></th>\n",
       "      <th>sales</th>\n",
       "    </tr>\n",
       "  </thead>\n",
       "  <tbody>\n",
       "    <tr>\n",
       "      <th>0</th>\n",
       "      <td>620</td>\n",
       "    </tr>\n",
       "    <tr>\n",
       "      <th>1</th>\n",
       "      <td>1792</td>\n",
       "    </tr>\n",
       "    <tr>\n",
       "      <th>2</th>\n",
       "      <td>27754</td>\n",
       "    </tr>\n",
       "    <tr>\n",
       "      <th>3</th>\n",
       "      <td>28256</td>\n",
       "    </tr>\n",
       "    <tr>\n",
       "      <th>4</th>\n",
       "      <td>4438</td>\n",
       "    </tr>\n",
       "    <tr>\n",
       "      <th>...</th>\n",
       "      <td>...</td>\n",
       "    </tr>\n",
       "    <tr>\n",
       "      <th>669</th>\n",
       "      <td>9196</td>\n",
       "    </tr>\n",
       "    <tr>\n",
       "      <th>670</th>\n",
       "      <td>3779</td>\n",
       "    </tr>\n",
       "    <tr>\n",
       "      <th>671</th>\n",
       "      <td>8396</td>\n",
       "    </tr>\n",
       "    <tr>\n",
       "      <th>672</th>\n",
       "      <td>29138</td>\n",
       "    </tr>\n",
       "    <tr>\n",
       "      <th>673</th>\n",
       "      <td>3310</td>\n",
       "    </tr>\n",
       "  </tbody>\n",
       "</table>\n",
       "<p>674 rows × 1 columns</p>\n",
       "</div>"
      ],
      "text/plain": [
       "     sales\n",
       "0      620\n",
       "1     1792\n",
       "2    27754\n",
       "3    28256\n",
       "4     4438\n",
       "..     ...\n",
       "669   9196\n",
       "670   3779\n",
       "671   8396\n",
       "672  29138\n",
       "673   3310\n",
       "\n",
       "[674 rows x 1 columns]"
      ]
     },
     "execution_count": 24,
     "metadata": {},
     "output_type": "execute_result"
    }
   ],
   "source": [
    "trainingLabel"
   ]
  },
  {
   "cell_type": "code",
   "execution_count": 25,
   "id": "99029a8b-382e-42e4-85e1-d191286e0a28",
   "metadata": {},
   "outputs": [
    {
     "data": {
      "text/html": [
       "<div>\n",
       "<style scoped>\n",
       "    .dataframe tbody tr th:only-of-type {\n",
       "        vertical-align: middle;\n",
       "    }\n",
       "\n",
       "    .dataframe tbody tr th {\n",
       "        vertical-align: top;\n",
       "    }\n",
       "\n",
       "    .dataframe thead th {\n",
       "        text-align: right;\n",
       "    }\n",
       "</style>\n",
       "<table border=\"1\" class=\"dataframe\">\n",
       "  <thead>\n",
       "    <tr style=\"text-align: right;\">\n",
       "      <th></th>\n",
       "      <th>miles</th>\n",
       "      <th>debt</th>\n",
       "      <th>income</th>\n",
       "    </tr>\n",
       "  </thead>\n",
       "  <tbody>\n",
       "    <tr>\n",
       "      <th>0</th>\n",
       "      <td>23</td>\n",
       "      <td>773</td>\n",
       "      <td>4557</td>\n",
       "    </tr>\n",
       "    <tr>\n",
       "      <th>1</th>\n",
       "      <td>38</td>\n",
       "      <td>41500</td>\n",
       "      <td>11123</td>\n",
       "    </tr>\n",
       "    <tr>\n",
       "      <th>2</th>\n",
       "      <td>13</td>\n",
       "      <td>9933</td>\n",
       "      <td>2538</td>\n",
       "    </tr>\n",
       "    <tr>\n",
       "      <th>3</th>\n",
       "      <td>23</td>\n",
       "      <td>56544</td>\n",
       "      <td>7079</td>\n",
       "    </tr>\n",
       "    <tr>\n",
       "      <th>4</th>\n",
       "      <td>35</td>\n",
       "      <td>7017</td>\n",
       "      <td>5538</td>\n",
       "    </tr>\n",
       "    <tr>\n",
       "      <th>...</th>\n",
       "      <td>...</td>\n",
       "      <td>...</td>\n",
       "      <td>...</td>\n",
       "    </tr>\n",
       "    <tr>\n",
       "      <th>284</th>\n",
       "      <td>11</td>\n",
       "      <td>8778</td>\n",
       "      <td>9829</td>\n",
       "    </tr>\n",
       "    <tr>\n",
       "      <th>285</th>\n",
       "      <td>23</td>\n",
       "      <td>4850</td>\n",
       "      <td>3470</td>\n",
       "    </tr>\n",
       "    <tr>\n",
       "      <th>286</th>\n",
       "      <td>28</td>\n",
       "      <td>9312</td>\n",
       "      <td>2720</td>\n",
       "    </tr>\n",
       "    <tr>\n",
       "      <th>287</th>\n",
       "      <td>29</td>\n",
       "      <td>51343</td>\n",
       "      <td>8713</td>\n",
       "    </tr>\n",
       "    <tr>\n",
       "      <th>288</th>\n",
       "      <td>15</td>\n",
       "      <td>3735</td>\n",
       "      <td>6406</td>\n",
       "    </tr>\n",
       "  </tbody>\n",
       "</table>\n",
       "<p>289 rows × 3 columns</p>\n",
       "</div>"
      ],
      "text/plain": [
       "     miles   debt  income\n",
       "0       23    773    4557\n",
       "1       38  41500   11123\n",
       "2       13   9933    2538\n",
       "3       23  56544    7079\n",
       "4       35   7017    5538\n",
       "..     ...    ...     ...\n",
       "284     11   8778    9829\n",
       "285     23   4850    3470\n",
       "286     28   9312    2720\n",
       "287     29  51343    8713\n",
       "288     15   3735    6406\n",
       "\n",
       "[289 rows x 3 columns]"
      ]
     },
     "execution_count": 25,
     "metadata": {},
     "output_type": "execute_result"
    }
   ],
   "source": [
    "testFeatures"
   ]
  },
  {
   "cell_type": "code",
   "execution_count": 26,
   "id": "942250a9-4e70-476a-8647-f5610fee79c9",
   "metadata": {},
   "outputs": [
    {
     "data": {
      "text/html": [
       "<div>\n",
       "<style scoped>\n",
       "    .dataframe tbody tr th:only-of-type {\n",
       "        vertical-align: middle;\n",
       "    }\n",
       "\n",
       "    .dataframe tbody tr th {\n",
       "        vertical-align: top;\n",
       "    }\n",
       "\n",
       "    .dataframe thead th {\n",
       "        text-align: right;\n",
       "    }\n",
       "</style>\n",
       "<table border=\"1\" class=\"dataframe\">\n",
       "  <thead>\n",
       "    <tr style=\"text-align: right;\">\n",
       "      <th></th>\n",
       "      <th>sales</th>\n",
       "    </tr>\n",
       "  </thead>\n",
       "  <tbody>\n",
       "    <tr>\n",
       "      <th>0</th>\n",
       "      <td>3267</td>\n",
       "    </tr>\n",
       "    <tr>\n",
       "      <th>1</th>\n",
       "      <td>22391</td>\n",
       "    </tr>\n",
       "    <tr>\n",
       "      <th>2</th>\n",
       "      <td>4927</td>\n",
       "    </tr>\n",
       "    <tr>\n",
       "      <th>3</th>\n",
       "      <td>22752</td>\n",
       "    </tr>\n",
       "    <tr>\n",
       "      <th>4</th>\n",
       "      <td>12969</td>\n",
       "    </tr>\n",
       "    <tr>\n",
       "      <th>...</th>\n",
       "      <td>...</td>\n",
       "    </tr>\n",
       "    <tr>\n",
       "      <th>284</th>\n",
       "      <td>1593</td>\n",
       "    </tr>\n",
       "    <tr>\n",
       "      <th>285</th>\n",
       "      <td>4742</td>\n",
       "    </tr>\n",
       "    <tr>\n",
       "      <th>286</th>\n",
       "      <td>12771</td>\n",
       "    </tr>\n",
       "    <tr>\n",
       "      <th>287</th>\n",
       "      <td>28511</td>\n",
       "    </tr>\n",
       "    <tr>\n",
       "      <th>288</th>\n",
       "      <td>6104</td>\n",
       "    </tr>\n",
       "  </tbody>\n",
       "</table>\n",
       "<p>289 rows × 1 columns</p>\n",
       "</div>"
      ],
      "text/plain": [
       "     sales\n",
       "0     3267\n",
       "1    22391\n",
       "2     4927\n",
       "3    22752\n",
       "4    12969\n",
       "..     ...\n",
       "284   1593\n",
       "285   4742\n",
       "286  12771\n",
       "287  28511\n",
       "288   6104\n",
       "\n",
       "[289 rows x 1 columns]"
      ]
     },
     "execution_count": 26,
     "metadata": {},
     "output_type": "execute_result"
    }
   ],
   "source": [
    "testLabel"
   ]
  },
  {
   "cell_type": "markdown",
   "id": "f792df4c-a70c-47e9-853a-77ff71e088e6",
   "metadata": {},
   "source": [
    "## 07. 모델 선언 및 훈련 시행"
   ]
  },
  {
   "cell_type": "code",
   "execution_count": 27,
   "id": "a3cc7a3f-8f58-4106-beb6-e6cd54d0b0d9",
   "metadata": {},
   "outputs": [],
   "source": [
    "model_method = linear_model.LinearRegression()"
   ]
  },
  {
   "cell_type": "code",
   "execution_count": 28,
   "id": "822dc111-7a90-4f62-91c3-49906c230301",
   "metadata": {},
   "outputs": [],
   "source": [
    "model = model_method.fit(trainingFeatures, trainingLabel)"
   ]
  },
  {
   "cell_type": "markdown",
   "id": "5852cf67-74f1-4e6b-84f7-23315d873b17",
   "metadata": {},
   "source": [
    "## 08. 예측 시행"
   ]
  },
  {
   "cell_type": "code",
   "execution_count": 29,
   "id": "3ef33ab9-fa8c-4306-a546-5da1f75c49dc",
   "metadata": {},
   "outputs": [],
   "source": [
    "predict = model.predict(testFeatures)"
   ]
  },
  {
   "cell_type": "code",
   "execution_count": 30,
   "id": "d80c915f-bfdb-432b-93ba-16cdba231032",
   "metadata": {
    "collapsed": true,
    "jupyter": {
     "outputs_hidden": true
    },
    "tags": []
   },
   "outputs": [
    {
     "data": {
      "text/plain": [
       "array([[ 5884.06057081],\n",
       "       [24926.62882415],\n",
       "       [ 5386.17819822],\n",
       "       [23630.96141446],\n",
       "       [ 9973.76914109],\n",
       "       [11574.02133837],\n",
       "       [ 8301.9119241 ],\n",
       "       [ 8130.50897482],\n",
       "       [ 4847.63167211],\n",
       "       [24704.69031964],\n",
       "       [ 5059.36123503],\n",
       "       [ 8250.85005534],\n",
       "       [29042.45316936],\n",
       "       [ 2073.88442977],\n",
       "       [ 2425.80927556],\n",
       "       [ 4355.0114772 ],\n",
       "       [ 6932.07553561],\n",
       "       [11015.76316065],\n",
       "       [ 3580.8416248 ],\n",
       "       [24710.54258289],\n",
       "       [ 7077.53591354],\n",
       "       [10822.55486798],\n",
       "       [ 7824.69571222],\n",
       "       [18807.30276782],\n",
       "       [13530.44510265],\n",
       "       [20620.17030041],\n",
       "       [14126.92102761],\n",
       "       [ 5308.2669902 ],\n",
       "       [23582.5044161 ],\n",
       "       [10414.42181652],\n",
       "       [ 6378.11735545],\n",
       "       [ 5105.36560227],\n",
       "       [15554.41839158],\n",
       "       [ 4052.89592826],\n",
       "       [28450.02861585],\n",
       "       [ 7370.16418711],\n",
       "       [24186.2616422 ],\n",
       "       [ 1438.20957137],\n",
       "       [33386.55116646],\n",
       "       [ 8212.06265044],\n",
       "       [ 5255.14853377],\n",
       "       [16524.45434692],\n",
       "       [ 4182.91582543],\n",
       "       [22889.42244269],\n",
       "       [17406.97916112],\n",
       "       [ 4730.19732656],\n",
       "       [ 5694.37575887],\n",
       "       [25038.5482812 ],\n",
       "       [ 7782.60691731],\n",
       "       [ 3793.09239704],\n",
       "       [ 4233.08339317],\n",
       "       [15664.66493724],\n",
       "       [14519.101173  ],\n",
       "       [ 2693.74038069],\n",
       "       [ 3290.16277593],\n",
       "       [  351.73644581],\n",
       "       [25372.87457976],\n",
       "       [ 6728.14251252],\n",
       "       [ 9923.72821042],\n",
       "       [ 6507.06860905],\n",
       "       [31983.42131034],\n",
       "       [24153.9198788 ],\n",
       "       [ 8970.67602862],\n",
       "       [22929.75473094],\n",
       "       [ 4669.57614893],\n",
       "       [ 2595.72847424],\n",
       "       [ 6738.86537391],\n",
       "       [ 8163.97133233],\n",
       "       [23257.57879862],\n",
       "       [24895.49427931],\n",
       "       [15888.55139174],\n",
       "       [24477.86681854],\n",
       "       [ 9691.98145199],\n",
       "       [27650.58849103],\n",
       "       [31267.02277952],\n",
       "       [ 8927.34817004],\n",
       "       [24952.99924452],\n",
       "       [ 8546.72132001],\n",
       "       [10941.37098492],\n",
       "       [ 2806.40313417],\n",
       "       [ 7992.99400713],\n",
       "       [ 5250.21477686],\n",
       "       [ 4096.07412699],\n",
       "       [ 9942.24900214],\n",
       "       [12800.10494317],\n",
       "       [ 2846.2345795 ],\n",
       "       [ 4899.99643178],\n",
       "       [21448.76202967],\n",
       "       [10660.25605581],\n",
       "       [ 6633.96827824],\n",
       "       [18051.23785965],\n",
       "       [ 7524.12931469],\n",
       "       [25424.21507123],\n",
       "       [ 5668.30947585],\n",
       "       [17453.05576239],\n",
       "       [ 3863.79218516],\n",
       "       [ 8439.20134463],\n",
       "       [20513.2893067 ],\n",
       "       [11146.7333089 ],\n",
       "       [12892.14251188],\n",
       "       [ 8693.60382294],\n",
       "       [ 4641.15667955],\n",
       "       [ 5606.86218749],\n",
       "       [ 2376.68384209],\n",
       "       [ 4238.84800318],\n",
       "       [ 7301.04570519],\n",
       "       [ 8174.64376816],\n",
       "       [10778.31707268],\n",
       "       [ 5298.24046068],\n",
       "       [ 4763.31495437],\n",
       "       [11462.37197202],\n",
       "       [13777.78029481],\n",
       "       [ 8914.74543504],\n",
       "       [ 8560.4123951 ],\n",
       "       [10298.1907267 ],\n",
       "       [ 5930.7206707 ],\n",
       "       [ 8579.65728234],\n",
       "       [ 9791.11144418],\n",
       "       [13867.04691709],\n",
       "       [ 8727.45269875],\n",
       "       [ 8757.9088642 ],\n",
       "       [17434.89828463],\n",
       "       [24198.97904349],\n",
       "       [11683.85977174],\n",
       "       [11660.93637718],\n",
       "       [ 8263.53820594],\n",
       "       [10596.71540455],\n",
       "       [ 4718.17553463],\n",
       "       [ 6765.78455936],\n",
       "       [13702.41266315],\n",
       "       [ 3568.30952   ],\n",
       "       [ 8986.52169905],\n",
       "       [26987.8514165 ],\n",
       "       [25300.92271746],\n",
       "       [ 4463.47361896],\n",
       "       [ 7682.73842475],\n",
       "       [ 6616.06626948],\n",
       "       [ 1700.84032365],\n",
       "       [ 3968.69223536],\n",
       "       [ 2420.19827728],\n",
       "       [24131.50504935],\n",
       "       [ 4736.17993161],\n",
       "       [ 9789.6716378 ],\n",
       "       [24768.39447171],\n",
       "       [ 9246.59121468],\n",
       "       [ 8695.75465253],\n",
       "       [22533.78386443],\n",
       "       [18001.03906086],\n",
       "       [ 2007.92977885],\n",
       "       [26314.42196191],\n",
       "       [20243.12504995],\n",
       "       [12821.37539281],\n",
       "       [ 9213.50092336],\n",
       "       [ 1704.15672233],\n",
       "       [11378.47874788],\n",
       "       [15373.91952159],\n",
       "       [ 2005.79142511],\n",
       "       [10118.2106924 ],\n",
       "       [26635.6414043 ],\n",
       "       [ 8338.71066471],\n",
       "       [19999.34949991],\n",
       "       [ 7043.14902653],\n",
       "       [ 8122.93068414],\n",
       "       [27948.9422149 ],\n",
       "       [ 4685.46210602],\n",
       "       [23277.36255   ],\n",
       "       [ 8319.77028629],\n",
       "       [ 8810.86133438],\n",
       "       [ 6262.43584173],\n",
       "       [26715.66190635],\n",
       "       [27267.24474343],\n",
       "       [14290.91963684],\n",
       "       [23049.67675848],\n",
       "       [20107.52737988],\n",
       "       [19424.87271961],\n",
       "       [ 4832.76671614],\n",
       "       [ 1923.51315004],\n",
       "       [ 8389.09891251],\n",
       "       [24245.19252729],\n",
       "       [ 4803.16569505],\n",
       "       [23531.61160863],\n",
       "       [25509.74960863],\n",
       "       [ 6225.68659559],\n",
       "       [ 1791.66541077],\n",
       "       [ 7676.78344011],\n",
       "       [ 3425.44129417],\n",
       "       [22300.45605507],\n",
       "       [26892.37669024],\n",
       "       [ 8303.92999329],\n",
       "       [ 3379.81698023],\n",
       "       [16759.72496901],\n",
       "       [14229.21178168],\n",
       "       [ 6525.66038545],\n",
       "       [ 5158.8177423 ],\n",
       "       [ 2934.26756862],\n",
       "       [22722.6844805 ],\n",
       "       [ 8219.38739541],\n",
       "       [ 6302.43597965],\n",
       "       [ 3262.16907177],\n",
       "       [10197.72316192],\n",
       "       [24273.75797836],\n",
       "       [17934.4444477 ],\n",
       "       [ 9839.88274647],\n",
       "       [ 3943.58532738],\n",
       "       [22257.50977664],\n",
       "       [21474.21485673],\n",
       "       [20490.51629137],\n",
       "       [ 4771.67281258],\n",
       "       [ 6554.20241474],\n",
       "       [12750.82069244],\n",
       "       [ 9337.79748251],\n",
       "       [ 9812.16770694],\n",
       "       [ 4314.94314688],\n",
       "       [10323.87450698],\n",
       "       [ 4547.72460204],\n",
       "       [ 2473.02756148],\n",
       "       [24845.7696256 ],\n",
       "       [ 8180.84963316],\n",
       "       [ 6981.19266207],\n",
       "       [ 3937.06130149],\n",
       "       [ 1748.23191399],\n",
       "       [12408.161504  ],\n",
       "       [22935.03515714],\n",
       "       [ 4409.3900274 ],\n",
       "       [13985.45786231],\n",
       "       [ 8723.21128937],\n",
       "       [22492.93331451],\n",
       "       [14018.48622874],\n",
       "       [11677.09371788],\n",
       "       [ 9627.1241915 ],\n",
       "       [ 7800.39406889],\n",
       "       [10916.15582639],\n",
       "       [ 8171.21391865],\n",
       "       [11447.09711905],\n",
       "       [ 4026.48173441],\n",
       "       [10472.47743857],\n",
       "       [20217.61316391],\n",
       "       [ 9110.23798569],\n",
       "       [ 2715.78562777],\n",
       "       [20458.64298213],\n",
       "       [12400.11122117],\n",
       "       [ 6873.72321949],\n",
       "       [ 8579.63312153],\n",
       "       [25938.04051647],\n",
       "       [ 7313.0252995 ],\n",
       "       [ 6941.27067736],\n",
       "       [  260.90763648],\n",
       "       [ 8914.00362263],\n",
       "       [31297.34052067],\n",
       "       [ 1840.2986527 ],\n",
       "       [27709.56740533],\n",
       "       [27385.6893743 ],\n",
       "       [ 7394.85859307],\n",
       "       [13607.23191214],\n",
       "       [12050.82642383],\n",
       "       [10262.34120046],\n",
       "       [ 7699.51665686],\n",
       "       [20331.0992174 ],\n",
       "       [11415.53026395],\n",
       "       [21662.80525169],\n",
       "       [26959.76382108],\n",
       "       [ 7426.48429754],\n",
       "       [ 8987.96605949],\n",
       "       [ 3692.42730449],\n",
       "       [ 4128.09346833],\n",
       "       [11725.20362572],\n",
       "       [18869.65619754],\n",
       "       [ 2626.85701607],\n",
       "       [10148.48358165],\n",
       "       [24424.59744534],\n",
       "       [13138.08582287],\n",
       "       [ 7060.79757027],\n",
       "       [ 6992.7481352 ],\n",
       "       [ 3773.68604896],\n",
       "       [22257.37467835],\n",
       "       [ 5538.02874879],\n",
       "       [ 6972.50787607],\n",
       "       [ 3163.44401734],\n",
       "       [ 6137.663147  ],\n",
       "       [ 7273.8866277 ],\n",
       "       [ 9010.70953612],\n",
       "       [ 4537.67223683],\n",
       "       [ 8602.85996387],\n",
       "       [14183.18907149],\n",
       "       [11359.44958975],\n",
       "       [ 6040.99853719],\n",
       "       [ 7222.17030382],\n",
       "       [24390.66609785],\n",
       "       [ 7380.90816245]])"
      ]
     },
     "execution_count": 30,
     "metadata": {},
     "output_type": "execute_result"
    }
   ],
   "source": [
    "predict"
   ]
  },
  {
   "cell_type": "code",
   "execution_count": 47,
   "id": "3c6d6c68-f3f9-4dc9-8c63-77f0da4652fc",
   "metadata": {},
   "outputs": [],
   "source": [
    "predictData = pd.DataFrame(predict, columns = {\"PREDICT\"}).reset_index(drop=True, inplace=False).astype(int)"
   ]
  },
  {
   "cell_type": "code",
   "execution_count": 49,
   "id": "13452a6b-e655-4ade-95b3-1a773f07990a",
   "metadata": {
    "tags": []
   },
   "outputs": [
    {
     "data": {
      "text/html": [
       "<div>\n",
       "<style scoped>\n",
       "    .dataframe tbody tr th:only-of-type {\n",
       "        vertical-align: middle;\n",
       "    }\n",
       "\n",
       "    .dataframe tbody tr th {\n",
       "        vertical-align: top;\n",
       "    }\n",
       "\n",
       "    .dataframe thead th {\n",
       "        text-align: right;\n",
       "    }\n",
       "</style>\n",
       "<table border=\"1\" class=\"dataframe\">\n",
       "  <thead>\n",
       "    <tr style=\"text-align: right;\">\n",
       "      <th></th>\n",
       "      <th>PREDICT</th>\n",
       "    </tr>\n",
       "  </thead>\n",
       "  <tbody>\n",
       "    <tr>\n",
       "      <th>0</th>\n",
       "      <td>5884</td>\n",
       "    </tr>\n",
       "    <tr>\n",
       "      <th>1</th>\n",
       "      <td>24926</td>\n",
       "    </tr>\n",
       "    <tr>\n",
       "      <th>2</th>\n",
       "      <td>5386</td>\n",
       "    </tr>\n",
       "    <tr>\n",
       "      <th>3</th>\n",
       "      <td>23630</td>\n",
       "    </tr>\n",
       "    <tr>\n",
       "      <th>4</th>\n",
       "      <td>9973</td>\n",
       "    </tr>\n",
       "    <tr>\n",
       "      <th>...</th>\n",
       "      <td>...</td>\n",
       "    </tr>\n",
       "    <tr>\n",
       "      <th>284</th>\n",
       "      <td>11359</td>\n",
       "    </tr>\n",
       "    <tr>\n",
       "      <th>285</th>\n",
       "      <td>6040</td>\n",
       "    </tr>\n",
       "    <tr>\n",
       "      <th>286</th>\n",
       "      <td>7222</td>\n",
       "    </tr>\n",
       "    <tr>\n",
       "      <th>287</th>\n",
       "      <td>24390</td>\n",
       "    </tr>\n",
       "    <tr>\n",
       "      <th>288</th>\n",
       "      <td>7380</td>\n",
       "    </tr>\n",
       "  </tbody>\n",
       "</table>\n",
       "<p>289 rows × 1 columns</p>\n",
       "</div>"
      ],
      "text/plain": [
       "     PREDICT\n",
       "0       5884\n",
       "1      24926\n",
       "2       5386\n",
       "3      23630\n",
       "4       9973\n",
       "..       ...\n",
       "284    11359\n",
       "285     6040\n",
       "286     7222\n",
       "287    24390\n",
       "288     7380\n",
       "\n",
       "[289 rows x 1 columns]"
      ]
     },
     "execution_count": 49,
     "metadata": {},
     "output_type": "execute_result"
    }
   ],
   "source": [
    "predictData"
   ]
  },
  {
   "cell_type": "markdown",
   "id": "e0d02e84-ec37-4299-9116-82a779c9b592",
   "metadata": {},
   "source": [
    "## 09. 정확도 분석"
   ]
  },
  {
   "cell_type": "code",
   "execution_count": 44,
   "id": "2cbcaa70-ba16-418b-8542-beeb4113a9a2",
   "metadata": {},
   "outputs": [],
   "source": [
    "from sklearn.metrics import accuracy_score"
   ]
  },
  {
   "cell_type": "code",
   "execution_count": 50,
   "id": "06b4761a-b344-4f8c-bc0a-57267b2ad8d3",
   "metadata": {},
   "outputs": [
    {
     "data": {
      "text/plain": [
       "sales    int32\n",
       "dtype: object"
      ]
     },
     "execution_count": 50,
     "metadata": {},
     "output_type": "execute_result"
    }
   ],
   "source": [
    "testLabel.dtypes"
   ]
  },
  {
   "cell_type": "code",
   "execution_count": 52,
   "id": "4f58c4fc-7a2b-4951-836d-ea9ce1362bc0",
   "metadata": {
    "tags": []
   },
   "outputs": [],
   "source": [
    "testLabel = testLabel.astype(int)"
   ]
  },
  {
   "cell_type": "code",
   "execution_count": 57,
   "id": "21459d56-e7df-4314-bfc5-0b2e06eb17b2",
   "metadata": {},
   "outputs": [
    {
     "data": {
      "text/html": [
       "<div>\n",
       "<style scoped>\n",
       "    .dataframe tbody tr th:only-of-type {\n",
       "        vertical-align: middle;\n",
       "    }\n",
       "\n",
       "    .dataframe tbody tr th {\n",
       "        vertical-align: top;\n",
       "    }\n",
       "\n",
       "    .dataframe thead th {\n",
       "        text-align: right;\n",
       "    }\n",
       "</style>\n",
       "<table border=\"1\" class=\"dataframe\">\n",
       "  <thead>\n",
       "    <tr style=\"text-align: right;\">\n",
       "      <th></th>\n",
       "      <th>sales</th>\n",
       "    </tr>\n",
       "  </thead>\n",
       "  <tbody>\n",
       "    <tr>\n",
       "      <th>0</th>\n",
       "      <td>3267</td>\n",
       "    </tr>\n",
       "    <tr>\n",
       "      <th>1</th>\n",
       "      <td>22391</td>\n",
       "    </tr>\n",
       "    <tr>\n",
       "      <th>2</th>\n",
       "      <td>4927</td>\n",
       "    </tr>\n",
       "    <tr>\n",
       "      <th>3</th>\n",
       "      <td>22752</td>\n",
       "    </tr>\n",
       "    <tr>\n",
       "      <th>4</th>\n",
       "      <td>12969</td>\n",
       "    </tr>\n",
       "    <tr>\n",
       "      <th>...</th>\n",
       "      <td>...</td>\n",
       "    </tr>\n",
       "    <tr>\n",
       "      <th>284</th>\n",
       "      <td>1593</td>\n",
       "    </tr>\n",
       "    <tr>\n",
       "      <th>285</th>\n",
       "      <td>4742</td>\n",
       "    </tr>\n",
       "    <tr>\n",
       "      <th>286</th>\n",
       "      <td>12771</td>\n",
       "    </tr>\n",
       "    <tr>\n",
       "      <th>287</th>\n",
       "      <td>28511</td>\n",
       "    </tr>\n",
       "    <tr>\n",
       "      <th>288</th>\n",
       "      <td>6104</td>\n",
       "    </tr>\n",
       "  </tbody>\n",
       "</table>\n",
       "<p>289 rows × 1 columns</p>\n",
       "</div>"
      ],
      "text/plain": [
       "     sales\n",
       "0     3267\n",
       "1    22391\n",
       "2     4927\n",
       "3    22752\n",
       "4    12969\n",
       "..     ...\n",
       "284   1593\n",
       "285   4742\n",
       "286  12771\n",
       "287  28511\n",
       "288   6104\n",
       "\n",
       "[289 rows x 1 columns]"
      ]
     },
     "execution_count": 57,
     "metadata": {},
     "output_type": "execute_result"
    }
   ],
   "source": [
    "testLabel"
   ]
  },
  {
   "cell_type": "code",
   "execution_count": 80,
   "id": "6a27e01e-3490-446d-9bf0-a7582e00c6c4",
   "metadata": {},
   "outputs": [],
   "source": [
    "MAE1 = mean_absolute_error(testLabel, predictData)"
   ]
  },
  {
   "cell_type": "code",
   "execution_count": null,
   "id": "9f5cd73b-a6ba-4893-b8e8-6f8f2c913a7a",
   "metadata": {},
   "outputs": [],
   "source": [
    "# 평균 절대 오차 : 약 2877.3045"
   ]
  },
  {
   "cell_type": "code",
   "execution_count": 81,
   "id": "54356256-7982-411c-aafc-b2f8b68b293b",
   "metadata": {},
   "outputs": [],
   "source": [
    "MSE1 = mean_squared_error(testLabel, predictData)"
   ]
  },
  {
   "cell_type": "code",
   "execution_count": null,
   "id": "ddb8069a-ecce-43b2-905c-2fe33ca4f13a",
   "metadata": {},
   "outputs": [],
   "source": [
    "# 평균 제곱 오차 : 약 14301010.0173"
   ]
  },
  {
   "cell_type": "markdown",
   "id": "2ea1cd8b-02e2-41a1-9e8c-f278d5a587b8",
   "metadata": {},
   "source": [
    "## 10. tree-model을 사용한 분석"
   ]
  },
  {
   "cell_type": "code",
   "execution_count": 65,
   "id": "1afd784f-6f6a-447d-baa6-32e1ef411b68",
   "metadata": {},
   "outputs": [],
   "source": [
    "from sklearn import tree\n",
    "from sklearn.tree import DecisionTreeRegressor"
   ]
  },
  {
   "cell_type": "code",
   "execution_count": 70,
   "id": "f0d9443f-166a-4c4a-b0e3-0be148334a16",
   "metadata": {},
   "outputs": [],
   "source": [
    "model_method2 = DecisionTreeRegressor()"
   ]
  },
  {
   "cell_type": "code",
   "execution_count": 71,
   "id": "b94f4267-874c-4e95-b413-f01b0b9f06ca",
   "metadata": {},
   "outputs": [],
   "source": [
    "model2 = model_method2.fit(trainingFeatures, trainingLabel)"
   ]
  },
  {
   "cell_type": "code",
   "execution_count": 72,
   "id": "6e194443-7bd5-42f4-bdcf-4fc6d779101e",
   "metadata": {},
   "outputs": [],
   "source": [
    "predict2 = model2.predict(testFeatures)"
   ]
  },
  {
   "cell_type": "code",
   "execution_count": 74,
   "id": "aa349911-b997-4478-8b07-0f7048373c2d",
   "metadata": {},
   "outputs": [],
   "source": [
    "predictData2 = pd.DataFrame(predict2, columns = {\"predict\"}).reset_index(drop=True, inplace = False).astype(int)"
   ]
  },
  {
   "cell_type": "code",
   "execution_count": 75,
   "id": "f16c6313-cc64-4816-8464-3b3363afa661",
   "metadata": {},
   "outputs": [
    {
     "data": {
      "text/html": [
       "<div>\n",
       "<style scoped>\n",
       "    .dataframe tbody tr th:only-of-type {\n",
       "        vertical-align: middle;\n",
       "    }\n",
       "\n",
       "    .dataframe tbody tr th {\n",
       "        vertical-align: top;\n",
       "    }\n",
       "\n",
       "    .dataframe thead th {\n",
       "        text-align: right;\n",
       "    }\n",
       "</style>\n",
       "<table border=\"1\" class=\"dataframe\">\n",
       "  <thead>\n",
       "    <tr style=\"text-align: right;\">\n",
       "      <th></th>\n",
       "      <th>predict</th>\n",
       "    </tr>\n",
       "  </thead>\n",
       "  <tbody>\n",
       "    <tr>\n",
       "      <th>0</th>\n",
       "      <td>2795</td>\n",
       "    </tr>\n",
       "    <tr>\n",
       "      <th>1</th>\n",
       "      <td>25239</td>\n",
       "    </tr>\n",
       "    <tr>\n",
       "      <th>2</th>\n",
       "      <td>1769</td>\n",
       "    </tr>\n",
       "    <tr>\n",
       "      <th>3</th>\n",
       "      <td>27677</td>\n",
       "    </tr>\n",
       "    <tr>\n",
       "      <th>4</th>\n",
       "      <td>1285</td>\n",
       "    </tr>\n",
       "    <tr>\n",
       "      <th>...</th>\n",
       "      <td>...</td>\n",
       "    </tr>\n",
       "    <tr>\n",
       "      <th>284</th>\n",
       "      <td>2620</td>\n",
       "    </tr>\n",
       "    <tr>\n",
       "      <th>285</th>\n",
       "      <td>4487</td>\n",
       "    </tr>\n",
       "    <tr>\n",
       "      <th>286</th>\n",
       "      <td>6801</td>\n",
       "    </tr>\n",
       "    <tr>\n",
       "      <th>287</th>\n",
       "      <td>22987</td>\n",
       "    </tr>\n",
       "    <tr>\n",
       "      <th>288</th>\n",
       "      <td>6263</td>\n",
       "    </tr>\n",
       "  </tbody>\n",
       "</table>\n",
       "<p>289 rows × 1 columns</p>\n",
       "</div>"
      ],
      "text/plain": [
       "     predict\n",
       "0       2795\n",
       "1      25239\n",
       "2       1769\n",
       "3      27677\n",
       "4       1285\n",
       "..       ...\n",
       "284     2620\n",
       "285     4487\n",
       "286     6801\n",
       "287    22987\n",
       "288     6263\n",
       "\n",
       "[289 rows x 1 columns]"
      ]
     },
     "execution_count": 75,
     "metadata": {},
     "output_type": "execute_result"
    }
   ],
   "source": [
    "predictData2"
   ]
  },
  {
   "cell_type": "code",
   "execution_count": 78,
   "id": "5f38123e-c357-427d-9175-fc1a2186fae4",
   "metadata": {},
   "outputs": [],
   "source": [
    "MAE2 = mean_absolute_error(testLabel, predictData2)"
   ]
  },
  {
   "cell_type": "code",
   "execution_count": 79,
   "id": "0d2e0f10-2438-4b93-9fee-e87dce953969",
   "metadata": {},
   "outputs": [],
   "source": [
    "MSE2 = mean_squared_error(testLabel, predictData2)"
   ]
  },
  {
   "cell_type": "code",
   "execution_count": 82,
   "id": "a1032b4f-a781-4838-a98c-e0af69aaa17c",
   "metadata": {},
   "outputs": [
    {
     "name": "stdout",
     "output_type": "stream",
     "text": [
      "2877.304498269896\n",
      "2999.4221453287196\n",
      "14301010.017301038\n",
      "19616815.23529412\n"
     ]
    }
   ],
   "source": [
    "print(MAE1)\n",
    "print(MAE2)\n",
    "print(MSE1)\n",
    "print(MSE2)"
   ]
  },
  {
   "cell_type": "code",
   "execution_count": null,
   "id": "fc3ebb74-95bd-4824-a4f5-d7be284db08e",
   "metadata": {},
   "outputs": [],
   "source": [
    "# MAE2 > MAE1, MSE2 > MSE1.\n",
    "# 따라서 linear_model로 분석한 데이터(1번)가 tree_model로 분석한 데이터(2번)보다 더 정확한 분석이 이뤄졌다."
   ]
  },
  {
   "cell_type": "markdown",
   "id": "a24145bf-63e4-475c-8357-7cceb25e487f",
   "metadata": {},
   "source": [
    "## 11. ensemble 모델을 사용한 분석"
   ]
  },
  {
   "cell_type": "code",
   "execution_count": 84,
   "id": "a8f8a65d-aaa8-47db-ae80-8c8a0d31bbf5",
   "metadata": {},
   "outputs": [],
   "source": [
    "from sklearn import ensemble\n",
    "from sklearn.ensemble import RandomForestRegressor"
   ]
  },
  {
   "cell_type": "code",
   "execution_count": 87,
   "id": "3a2b5d29-c278-48e4-befc-4c8bcb983a87",
   "metadata": {},
   "outputs": [],
   "source": [
    "model_method3 = ensemble.RandomForestRegressor()"
   ]
  },
  {
   "cell_type": "code",
   "execution_count": 89,
   "id": "f8c5459a-cf75-4733-99d4-d4ab03a46420",
   "metadata": {},
   "outputs": [
    {
     "name": "stderr",
     "output_type": "stream",
     "text": [
      "C:\\Users\\golds\\AppData\\Local\\Temp\\ipykernel_7356\\1473347216.py:1: DataConversionWarning: A column-vector y was passed when a 1d array was expected. Please change the shape of y to (n_samples,), for example using ravel().\n",
      "  model3 = model_method3.fit(trainingFeatures, trainingLabel)\n"
     ]
    }
   ],
   "source": [
    "model3 = model_method3.fit(trainingFeatures, trainingLabel)"
   ]
  },
  {
   "cell_type": "code",
   "execution_count": 91,
   "id": "085f58dd-aec9-4523-bef0-eea70421f0a3",
   "metadata": {
    "tags": []
   },
   "outputs": [],
   "source": [
    "predict3 = model3.predict(testFeatures)"
   ]
  },
  {
   "cell_type": "code",
   "execution_count": 92,
   "id": "f43793f8-6e01-4b86-a9ba-70498138bc22",
   "metadata": {},
   "outputs": [],
   "source": [
    "predictData3 = pd.DataFrame(predict3, columns = {\"predict\"}).reset_index(drop = True, inplace= False).astype(int)"
   ]
  },
  {
   "cell_type": "code",
   "execution_count": 93,
   "id": "85bb6afc-8a89-44ad-b538-47acf2562489",
   "metadata": {},
   "outputs": [
    {
     "data": {
      "text/html": [
       "<div>\n",
       "<style scoped>\n",
       "    .dataframe tbody tr th:only-of-type {\n",
       "        vertical-align: middle;\n",
       "    }\n",
       "\n",
       "    .dataframe tbody tr th {\n",
       "        vertical-align: top;\n",
       "    }\n",
       "\n",
       "    .dataframe thead th {\n",
       "        text-align: right;\n",
       "    }\n",
       "</style>\n",
       "<table border=\"1\" class=\"dataframe\">\n",
       "  <thead>\n",
       "    <tr style=\"text-align: right;\">\n",
       "      <th></th>\n",
       "      <th>predict</th>\n",
       "    </tr>\n",
       "  </thead>\n",
       "  <tbody>\n",
       "    <tr>\n",
       "      <th>0</th>\n",
       "      <td>4314</td>\n",
       "    </tr>\n",
       "    <tr>\n",
       "      <th>1</th>\n",
       "      <td>25462</td>\n",
       "    </tr>\n",
       "    <tr>\n",
       "      <th>2</th>\n",
       "      <td>7921</td>\n",
       "    </tr>\n",
       "    <tr>\n",
       "      <th>3</th>\n",
       "      <td>25390</td>\n",
       "    </tr>\n",
       "    <tr>\n",
       "      <th>4</th>\n",
       "      <td>9604</td>\n",
       "    </tr>\n",
       "    <tr>\n",
       "      <th>...</th>\n",
       "      <td>...</td>\n",
       "    </tr>\n",
       "    <tr>\n",
       "      <th>284</th>\n",
       "      <td>3996</td>\n",
       "    </tr>\n",
       "    <tr>\n",
       "      <th>285</th>\n",
       "      <td>5027</td>\n",
       "    </tr>\n",
       "    <tr>\n",
       "      <th>286</th>\n",
       "      <td>5402</td>\n",
       "    </tr>\n",
       "    <tr>\n",
       "      <th>287</th>\n",
       "      <td>25101</td>\n",
       "    </tr>\n",
       "    <tr>\n",
       "      <th>288</th>\n",
       "      <td>10228</td>\n",
       "    </tr>\n",
       "  </tbody>\n",
       "</table>\n",
       "<p>289 rows × 1 columns</p>\n",
       "</div>"
      ],
      "text/plain": [
       "     predict\n",
       "0       4314\n",
       "1      25462\n",
       "2       7921\n",
       "3      25390\n",
       "4       9604\n",
       "..       ...\n",
       "284     3996\n",
       "285     5027\n",
       "286     5402\n",
       "287    25101\n",
       "288    10228\n",
       "\n",
       "[289 rows x 1 columns]"
      ]
     },
     "execution_count": 93,
     "metadata": {},
     "output_type": "execute_result"
    }
   ],
   "source": [
    "predictData3"
   ]
  },
  {
   "cell_type": "code",
   "execution_count": 94,
   "id": "04b9c709-97fe-4c55-826e-c3495f6790c4",
   "metadata": {},
   "outputs": [],
   "source": [
    "MAE3 = mean_absolute_error(testLabel, predictData3)"
   ]
  },
  {
   "cell_type": "code",
   "execution_count": 95,
   "id": "e40c3af9-4aa1-47a8-bdc0-fd122e06831b",
   "metadata": {},
   "outputs": [],
   "source": [
    "MSE3 = mean_squared_error(testLabel, predictData3)"
   ]
  },
  {
   "cell_type": "code",
   "execution_count": 97,
   "id": "c7e28457-28af-4639-a3a3-532d485b9d1c",
   "metadata": {},
   "outputs": [
    {
     "name": "stdout",
     "output_type": "stream",
     "text": [
      "2877.304498269896\n",
      "2999.4221453287196\n",
      "2371.297577854671\n",
      "14301010.017301038\n",
      "19616815.23529412\n",
      "11579000.69550173\n"
     ]
    }
   ],
   "source": [
    "print(MAE1)\n",
    "print(MAE2)\n",
    "print(MAE3)\n",
    "print(MSE1)\n",
    "print(MSE2)\n",
    "print(MSE3)"
   ]
  },
  {
   "cell_type": "code",
   "execution_count": null,
   "id": "ad50646b-370d-4425-a301-c8c5c0e589e8",
   "metadata": {},
   "outputs": [],
   "source": [
    "# 가장 작은 평균 제곱 오차와 평균 표본 오차를 지닌 모델은 ensemble 모델.\n",
    "# 따라서 ensemble 모델의 정확도가 가장 높다!"
   ]
  }
 ],
 "metadata": {
  "kernelspec": {
   "display_name": "Python 3 (ipykernel)",
   "language": "python",
   "name": "python3"
  },
  "language_info": {
   "codemirror_mode": {
    "name": "ipython",
    "version": 3
   },
   "file_extension": ".py",
   "mimetype": "text/x-python",
   "name": "python",
   "nbconvert_exporter": "python",
   "pygments_lexer": "ipython3",
   "version": "3.9.13"
  }
 },
 "nbformat": 4,
 "nbformat_minor": 5
}
