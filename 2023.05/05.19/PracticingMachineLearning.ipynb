{
 "cells": [
  {
   "cell_type": "markdown",
   "id": "583eaccc-53ff-4237-8f08-587779c69495",
   "metadata": {},
   "source": [
    "## 01. 모듈 호출"
   ]
  },
  {
   "cell_type": "code",
   "execution_count": 1,
   "id": "d70826c7-01a2-4782-b06d-54b819dd9baf",
   "metadata": {},
   "outputs": [],
   "source": [
    "import pandas as pd\n",
    "import numpy as np\n",
    "from sklearn.metrics import mean_squared_error\n",
    "from sklearn.metrics import mean_absolute_error\n",
    "from sklearn.preprocessing import LabelEncoder\n",
    "from sklearn.model_selection import train_test_split\n",
    "from sklearn import tree\n",
    "from sklearn.tree import DecisionTreeRegressor"
   ]
  },
  {
   "cell_type": "code",
   "execution_count": 2,
   "id": "3b79b336-44ac-4e3d-9d4d-739aa727caf8",
   "metadata": {},
   "outputs": [],
   "source": [
    "import warnings\n",
    "warnings.simplefilter(action='ignore', category=FutureWarning) # FutureWarning 제거"
   ]
  },
  {
   "cell_type": "markdown",
   "id": "cdb08af2-aebf-48d5-8153-947ba3748cee",
   "metadata": {},
   "source": [
    "## 02. 대상 데이터 호출"
   ]
  },
  {
   "cell_type": "code",
   "execution_count": 3,
   "id": "ef8a188a-e692-4f2b-a6e7-2dfb263cccdb",
   "metadata": {
    "collapsed": true,
    "jupyter": {
     "outputs_hidden": true
    },
    "tags": []
   },
   "outputs": [
    {
     "ename": "FileNotFoundError",
     "evalue": "[Errno 2] No such file or directory: '../../../stdcode6/dataset/cars.csv'",
     "output_type": "error",
     "traceback": [
      "\u001b[1;31m---------------------------------------------------------------------------\u001b[0m",
      "\u001b[1;31mFileNotFoundError\u001b[0m                         Traceback (most recent call last)",
      "\u001b[1;32m~\\AppData\\Local\\Temp\\ipykernel_16908\\2573621473.py\u001b[0m in \u001b[0;36m<module>\u001b[1;34m\u001b[0m\n\u001b[1;32m----> 1\u001b[1;33m \u001b[0mtargetData\u001b[0m \u001b[1;33m=\u001b[0m \u001b[0mpd\u001b[0m\u001b[1;33m.\u001b[0m\u001b[0mread_csv\u001b[0m\u001b[1;33m(\u001b[0m\u001b[1;34m\"../../../stdcode6/dataset/cars.csv\"\u001b[0m\u001b[1;33m)\u001b[0m\u001b[1;33m\u001b[0m\u001b[1;33m\u001b[0m\u001b[0m\n\u001b[0m",
      "\u001b[1;32m~\\anaconda3\\lib\\site-packages\\pandas\\util\\_decorators.py\u001b[0m in \u001b[0;36mwrapper\u001b[1;34m(*args, **kwargs)\u001b[0m\n\u001b[0;32m    309\u001b[0m                     \u001b[0mstacklevel\u001b[0m\u001b[1;33m=\u001b[0m\u001b[0mstacklevel\u001b[0m\u001b[1;33m,\u001b[0m\u001b[1;33m\u001b[0m\u001b[1;33m\u001b[0m\u001b[0m\n\u001b[0;32m    310\u001b[0m                 )\n\u001b[1;32m--> 311\u001b[1;33m             \u001b[1;32mreturn\u001b[0m \u001b[0mfunc\u001b[0m\u001b[1;33m(\u001b[0m\u001b[1;33m*\u001b[0m\u001b[0margs\u001b[0m\u001b[1;33m,\u001b[0m \u001b[1;33m**\u001b[0m\u001b[0mkwargs\u001b[0m\u001b[1;33m)\u001b[0m\u001b[1;33m\u001b[0m\u001b[1;33m\u001b[0m\u001b[0m\n\u001b[0m\u001b[0;32m    312\u001b[0m \u001b[1;33m\u001b[0m\u001b[0m\n\u001b[0;32m    313\u001b[0m         \u001b[1;32mreturn\u001b[0m \u001b[0mwrapper\u001b[0m\u001b[1;33m\u001b[0m\u001b[1;33m\u001b[0m\u001b[0m\n",
      "\u001b[1;32m~\\anaconda3\\lib\\site-packages\\pandas\\io\\parsers\\readers.py\u001b[0m in \u001b[0;36mread_csv\u001b[1;34m(filepath_or_buffer, sep, delimiter, header, names, index_col, usecols, squeeze, prefix, mangle_dupe_cols, dtype, engine, converters, true_values, false_values, skipinitialspace, skiprows, skipfooter, nrows, na_values, keep_default_na, na_filter, verbose, skip_blank_lines, parse_dates, infer_datetime_format, keep_date_col, date_parser, dayfirst, cache_dates, iterator, chunksize, compression, thousands, decimal, lineterminator, quotechar, quoting, doublequote, escapechar, comment, encoding, encoding_errors, dialect, error_bad_lines, warn_bad_lines, on_bad_lines, delim_whitespace, low_memory, memory_map, float_precision, storage_options)\u001b[0m\n\u001b[0;32m    676\u001b[0m     \u001b[0mkwds\u001b[0m\u001b[1;33m.\u001b[0m\u001b[0mupdate\u001b[0m\u001b[1;33m(\u001b[0m\u001b[0mkwds_defaults\u001b[0m\u001b[1;33m)\u001b[0m\u001b[1;33m\u001b[0m\u001b[1;33m\u001b[0m\u001b[0m\n\u001b[0;32m    677\u001b[0m \u001b[1;33m\u001b[0m\u001b[0m\n\u001b[1;32m--> 678\u001b[1;33m     \u001b[1;32mreturn\u001b[0m \u001b[0m_read\u001b[0m\u001b[1;33m(\u001b[0m\u001b[0mfilepath_or_buffer\u001b[0m\u001b[1;33m,\u001b[0m \u001b[0mkwds\u001b[0m\u001b[1;33m)\u001b[0m\u001b[1;33m\u001b[0m\u001b[1;33m\u001b[0m\u001b[0m\n\u001b[0m\u001b[0;32m    679\u001b[0m \u001b[1;33m\u001b[0m\u001b[0m\n\u001b[0;32m    680\u001b[0m \u001b[1;33m\u001b[0m\u001b[0m\n",
      "\u001b[1;32m~\\anaconda3\\lib\\site-packages\\pandas\\io\\parsers\\readers.py\u001b[0m in \u001b[0;36m_read\u001b[1;34m(filepath_or_buffer, kwds)\u001b[0m\n\u001b[0;32m    573\u001b[0m \u001b[1;33m\u001b[0m\u001b[0m\n\u001b[0;32m    574\u001b[0m     \u001b[1;31m# Create the parser.\u001b[0m\u001b[1;33m\u001b[0m\u001b[1;33m\u001b[0m\u001b[0m\n\u001b[1;32m--> 575\u001b[1;33m     \u001b[0mparser\u001b[0m \u001b[1;33m=\u001b[0m \u001b[0mTextFileReader\u001b[0m\u001b[1;33m(\u001b[0m\u001b[0mfilepath_or_buffer\u001b[0m\u001b[1;33m,\u001b[0m \u001b[1;33m**\u001b[0m\u001b[0mkwds\u001b[0m\u001b[1;33m)\u001b[0m\u001b[1;33m\u001b[0m\u001b[1;33m\u001b[0m\u001b[0m\n\u001b[0m\u001b[0;32m    576\u001b[0m \u001b[1;33m\u001b[0m\u001b[0m\n\u001b[0;32m    577\u001b[0m     \u001b[1;32mif\u001b[0m \u001b[0mchunksize\u001b[0m \u001b[1;32mor\u001b[0m \u001b[0miterator\u001b[0m\u001b[1;33m:\u001b[0m\u001b[1;33m\u001b[0m\u001b[1;33m\u001b[0m\u001b[0m\n",
      "\u001b[1;32m~\\anaconda3\\lib\\site-packages\\pandas\\io\\parsers\\readers.py\u001b[0m in \u001b[0;36m__init__\u001b[1;34m(self, f, engine, **kwds)\u001b[0m\n\u001b[0;32m    930\u001b[0m \u001b[1;33m\u001b[0m\u001b[0m\n\u001b[0;32m    931\u001b[0m         \u001b[0mself\u001b[0m\u001b[1;33m.\u001b[0m\u001b[0mhandles\u001b[0m\u001b[1;33m:\u001b[0m \u001b[0mIOHandles\u001b[0m \u001b[1;33m|\u001b[0m \u001b[1;32mNone\u001b[0m \u001b[1;33m=\u001b[0m \u001b[1;32mNone\u001b[0m\u001b[1;33m\u001b[0m\u001b[1;33m\u001b[0m\u001b[0m\n\u001b[1;32m--> 932\u001b[1;33m         \u001b[0mself\u001b[0m\u001b[1;33m.\u001b[0m\u001b[0m_engine\u001b[0m \u001b[1;33m=\u001b[0m \u001b[0mself\u001b[0m\u001b[1;33m.\u001b[0m\u001b[0m_make_engine\u001b[0m\u001b[1;33m(\u001b[0m\u001b[0mf\u001b[0m\u001b[1;33m,\u001b[0m \u001b[0mself\u001b[0m\u001b[1;33m.\u001b[0m\u001b[0mengine\u001b[0m\u001b[1;33m)\u001b[0m\u001b[1;33m\u001b[0m\u001b[1;33m\u001b[0m\u001b[0m\n\u001b[0m\u001b[0;32m    933\u001b[0m \u001b[1;33m\u001b[0m\u001b[0m\n\u001b[0;32m    934\u001b[0m     \u001b[1;32mdef\u001b[0m \u001b[0mclose\u001b[0m\u001b[1;33m(\u001b[0m\u001b[0mself\u001b[0m\u001b[1;33m)\u001b[0m\u001b[1;33m:\u001b[0m\u001b[1;33m\u001b[0m\u001b[1;33m\u001b[0m\u001b[0m\n",
      "\u001b[1;32m~\\anaconda3\\lib\\site-packages\\pandas\\io\\parsers\\readers.py\u001b[0m in \u001b[0;36m_make_engine\u001b[1;34m(self, f, engine)\u001b[0m\n\u001b[0;32m   1214\u001b[0m             \u001b[1;31m# \"Union[str, PathLike[str], ReadCsvBuffer[bytes], ReadCsvBuffer[str]]\"\u001b[0m\u001b[1;33m\u001b[0m\u001b[1;33m\u001b[0m\u001b[0m\n\u001b[0;32m   1215\u001b[0m             \u001b[1;31m# , \"str\", \"bool\", \"Any\", \"Any\", \"Any\", \"Any\", \"Any\"\u001b[0m\u001b[1;33m\u001b[0m\u001b[1;33m\u001b[0m\u001b[0m\n\u001b[1;32m-> 1216\u001b[1;33m             self.handles = get_handle(  # type: ignore[call-overload]\n\u001b[0m\u001b[0;32m   1217\u001b[0m                 \u001b[0mf\u001b[0m\u001b[1;33m,\u001b[0m\u001b[1;33m\u001b[0m\u001b[1;33m\u001b[0m\u001b[0m\n\u001b[0;32m   1218\u001b[0m                 \u001b[0mmode\u001b[0m\u001b[1;33m,\u001b[0m\u001b[1;33m\u001b[0m\u001b[1;33m\u001b[0m\u001b[0m\n",
      "\u001b[1;32m~\\anaconda3\\lib\\site-packages\\pandas\\io\\common.py\u001b[0m in \u001b[0;36mget_handle\u001b[1;34m(path_or_buf, mode, encoding, compression, memory_map, is_text, errors, storage_options)\u001b[0m\n\u001b[0;32m    784\u001b[0m         \u001b[1;32mif\u001b[0m \u001b[0mioargs\u001b[0m\u001b[1;33m.\u001b[0m\u001b[0mencoding\u001b[0m \u001b[1;32mand\u001b[0m \u001b[1;34m\"b\"\u001b[0m \u001b[1;32mnot\u001b[0m \u001b[1;32min\u001b[0m \u001b[0mioargs\u001b[0m\u001b[1;33m.\u001b[0m\u001b[0mmode\u001b[0m\u001b[1;33m:\u001b[0m\u001b[1;33m\u001b[0m\u001b[1;33m\u001b[0m\u001b[0m\n\u001b[0;32m    785\u001b[0m             \u001b[1;31m# Encoding\u001b[0m\u001b[1;33m\u001b[0m\u001b[1;33m\u001b[0m\u001b[0m\n\u001b[1;32m--> 786\u001b[1;33m             handle = open(\n\u001b[0m\u001b[0;32m    787\u001b[0m                 \u001b[0mhandle\u001b[0m\u001b[1;33m,\u001b[0m\u001b[1;33m\u001b[0m\u001b[1;33m\u001b[0m\u001b[0m\n\u001b[0;32m    788\u001b[0m                 \u001b[0mioargs\u001b[0m\u001b[1;33m.\u001b[0m\u001b[0mmode\u001b[0m\u001b[1;33m,\u001b[0m\u001b[1;33m\u001b[0m\u001b[1;33m\u001b[0m\u001b[0m\n",
      "\u001b[1;31mFileNotFoundError\u001b[0m: [Errno 2] No such file or directory: '../../../stdcode6/dataset/cars.csv'"
     ]
    }
   ],
   "source": [
    "targetData = pd.read_csv(\"../../../stdcode6/dataset/cars.csv\")"
   ]
  },
  {
   "cell_type": "markdown",
   "id": "1e22dc04-9b41-431e-befc-2f8ee7196d44",
   "metadata": {},
   "source": [
    "## 03. 데이터 정제"
   ]
  },
  {
   "cell_type": "code",
   "execution_count": 4,
   "id": "ee5cceb5-af9c-4251-9cf1-6de6ccd44e12",
   "metadata": {},
   "outputs": [
    {
     "data": {
      "text/plain": [
       "Index(['age', 'gender', 'miles', 'debt', 'income', 'sales'], dtype='object')"
      ]
     },
     "execution_count": 4,
     "metadata": {},
     "output_type": "execute_result"
    }
   ],
   "source": [
    "targetData.columns"
   ]
  },
  {
   "cell_type": "code",
   "execution_count": 5,
   "id": "e8d04b00-b704-46cb-a431-81b03c95e56c",
   "metadata": {},
   "outputs": [
    {
     "data": {
      "text/plain": [
       "age       int64\n",
       "gender    int64\n",
       "miles     int64\n",
       "debt      int64\n",
       "income    int64\n",
       "sales     int64\n",
       "dtype: object"
      ]
     },
     "execution_count": 5,
     "metadata": {},
     "output_type": "execute_result"
    }
   ],
   "source": [
    "targetData.dtypes"
   ]
  },
  {
   "cell_type": "code",
   "execution_count": 6,
   "id": "3751a2e0-0218-41a7-a209-32935cef0094",
   "metadata": {},
   "outputs": [],
   "source": [
    "targetDataColumns = list(targetData.columns)"
   ]
  },
  {
   "cell_type": "code",
   "execution_count": 7,
   "id": "c414cf3e-01b9-40b6-b01b-24df253892de",
   "metadata": {},
   "outputs": [],
   "source": [
    "for i in range(0, len(targetDataColumns)) :\n",
    "    try:\n",
    "        targetData[targetData.columns[i]] = targetData[targetData.columns[i]].astype(int)\n",
    "    except:\n",
    "        print(Exception)\n",
    "# for문을 활용하여 일체의 데이터를 int type으로 형변환"
   ]
  },
  {
   "cell_type": "code",
   "execution_count": 8,
   "id": "da5f76f6-9c1f-45bc-9987-3ec659113a4c",
   "metadata": {},
   "outputs": [
    {
     "data": {
      "text/plain": [
       "age       int32\n",
       "gender    int32\n",
       "miles     int32\n",
       "debt      int32\n",
       "income    int32\n",
       "sales     int32\n",
       "dtype: object"
      ]
     },
     "execution_count": 8,
     "metadata": {},
     "output_type": "execute_result"
    }
   ],
   "source": [
    "targetData.dtypes"
   ]
  },
  {
   "cell_type": "markdown",
   "id": "26e578a6-77c4-4a07-9356-a870017794da",
   "metadata": {},
   "source": [
    "## 04. 상관계수 도출"
   ]
  },
  {
   "cell_type": "code",
   "execution_count": 9,
   "id": "d690d57f-033f-4329-94f4-b4f4fb9e3377",
   "metadata": {},
   "outputs": [],
   "source": [
    "corrData = targetData.corr()"
   ]
  },
  {
   "cell_type": "code",
   "execution_count": 10,
   "id": "33f78293-5fe0-4486-96ff-a61e06127110",
   "metadata": {},
   "outputs": [
    {
     "data": {
      "text/html": [
       "<div>\n",
       "<style scoped>\n",
       "    .dataframe tbody tr th:only-of-type {\n",
       "        vertical-align: middle;\n",
       "    }\n",
       "\n",
       "    .dataframe tbody tr th {\n",
       "        vertical-align: top;\n",
       "    }\n",
       "\n",
       "    .dataframe thead th {\n",
       "        text-align: right;\n",
       "    }\n",
       "</style>\n",
       "<table border=\"1\" class=\"dataframe\">\n",
       "  <thead>\n",
       "    <tr style=\"text-align: right;\">\n",
       "      <th></th>\n",
       "      <th>age</th>\n",
       "      <th>gender</th>\n",
       "      <th>miles</th>\n",
       "      <th>debt</th>\n",
       "      <th>income</th>\n",
       "      <th>sales</th>\n",
       "    </tr>\n",
       "  </thead>\n",
       "  <tbody>\n",
       "    <tr>\n",
       "      <th>age</th>\n",
       "      <td>1.000000</td>\n",
       "      <td>-0.000702</td>\n",
       "      <td>0.232399</td>\n",
       "      <td>0.218896</td>\n",
       "      <td>0.239644</td>\n",
       "      <td>0.352609</td>\n",
       "    </tr>\n",
       "    <tr>\n",
       "      <th>gender</th>\n",
       "      <td>-0.000702</td>\n",
       "      <td>1.000000</td>\n",
       "      <td>-0.031355</td>\n",
       "      <td>-0.033181</td>\n",
       "      <td>-0.034317</td>\n",
       "      <td>-0.036350</td>\n",
       "    </tr>\n",
       "    <tr>\n",
       "      <th>miles</th>\n",
       "      <td>0.232399</td>\n",
       "      <td>-0.031355</td>\n",
       "      <td>1.000000</td>\n",
       "      <td>0.544791</td>\n",
       "      <td>0.422141</td>\n",
       "      <td>0.636676</td>\n",
       "    </tr>\n",
       "    <tr>\n",
       "      <th>debt</th>\n",
       "      <td>0.218896</td>\n",
       "      <td>-0.033181</td>\n",
       "      <td>0.544791</td>\n",
       "      <td>1.000000</td>\n",
       "      <td>0.491790</td>\n",
       "      <td>0.835541</td>\n",
       "    </tr>\n",
       "    <tr>\n",
       "      <th>income</th>\n",
       "      <td>0.239644</td>\n",
       "      <td>-0.034317</td>\n",
       "      <td>0.422141</td>\n",
       "      <td>0.491790</td>\n",
       "      <td>1.000000</td>\n",
       "      <td>0.674685</td>\n",
       "    </tr>\n",
       "    <tr>\n",
       "      <th>sales</th>\n",
       "      <td>0.352609</td>\n",
       "      <td>-0.036350</td>\n",
       "      <td>0.636676</td>\n",
       "      <td>0.835541</td>\n",
       "      <td>0.674685</td>\n",
       "      <td>1.000000</td>\n",
       "    </tr>\n",
       "  </tbody>\n",
       "</table>\n",
       "</div>"
      ],
      "text/plain": [
       "             age    gender     miles      debt    income     sales\n",
       "age     1.000000 -0.000702  0.232399  0.218896  0.239644  0.352609\n",
       "gender -0.000702  1.000000 -0.031355 -0.033181 -0.034317 -0.036350\n",
       "miles   0.232399 -0.031355  1.000000  0.544791  0.422141  0.636676\n",
       "debt    0.218896 -0.033181  0.544791  1.000000  0.491790  0.835541\n",
       "income  0.239644 -0.034317  0.422141  0.491790  1.000000  0.674685\n",
       "sales   0.352609 -0.036350  0.636676  0.835541  0.674685  1.000000"
      ]
     },
     "execution_count": 10,
     "metadata": {},
     "output_type": "execute_result"
    }
   ],
   "source": [
    "corrData"
   ]
  },
  {
   "cell_type": "markdown",
   "id": "245b44c7-9f0f-4b38-b9cc-f1c89180d4e8",
   "metadata": {},
   "source": [
    "## 05. 유의성을 지닌 데이터 추출"
   ]
  },
  {
   "cell_type": "code",
   "execution_count": 11,
   "id": "d2217590-6cdd-45d3-bd21-5c046f35fbe7",
   "metadata": {},
   "outputs": [],
   "source": [
    "stdCorrRepeat = np.array(list(range(3, 8, 1))) / 10\n",
    "# stdCorrRepeat 배열에 0.3부터 0.7까지 0.1씩 증가하는 기준 상관계수 데이터를 산입"
   ]
  },
  {
   "cell_type": "code",
   "execution_count": 12,
   "id": "5c8ef5e0-5802-49e3-aecb-527593614a6a",
   "metadata": {},
   "outputs": [
    {
     "data": {
      "text/plain": [
       "array([0.3, 0.4, 0.5, 0.6, 0.7])"
      ]
     },
     "execution_count": 12,
     "metadata": {},
     "output_type": "execute_result"
    }
   ],
   "source": [
    "stdCorrRepeat"
   ]
  },
  {
   "cell_type": "code",
   "execution_count": 13,
   "id": "10fea832-1250-4d8b-be6a-7d30df75db5c",
   "metadata": {},
   "outputs": [],
   "source": [
    "featuresList = [0 for i in range(len(stdCorrRepeat))]"
   ]
  },
  {
   "cell_type": "code",
   "execution_count": 14,
   "id": "a79d5587-71e4-4827-8404-c9ca61fb11d7",
   "metadata": {},
   "outputs": [],
   "source": [
    "for i in range(0, len(stdCorrRepeat)):\n",
    "    featuresList[i] = list(corrData[(abs(corrData.sales) > stdCorrRepeat[i]) & \\\n",
    "                                    (abs(corrData.sales) != 1)].index)"
   ]
  },
  {
   "cell_type": "code",
   "execution_count": null,
   "id": "32ebb686-08a3-4e17-befb-4ed440851831",
   "metadata": {},
   "outputs": [],
   "source": [
    "# stdCorrRepeat 내 값들보다 sales와 높은 abs(상관계수)를 지닌 컬럼명만을 추출하여 출력"
   ]
  },
  {
   "cell_type": "code",
   "execution_count": 15,
   "id": "9fc35715-d932-415c-b653-94ae91038674",
   "metadata": {},
   "outputs": [
    {
     "data": {
      "text/plain": [
       "[['age', 'miles', 'debt', 'income'],\n",
       " ['miles', 'debt', 'income'],\n",
       " ['miles', 'debt', 'income'],\n",
       " ['miles', 'debt', 'income'],\n",
       " ['debt']]"
      ]
     },
     "execution_count": 15,
     "metadata": {},
     "output_type": "execute_result"
    }
   ],
   "source": [
    "featuresList"
   ]
  },
  {
   "cell_type": "code",
   "execution_count": 16,
   "id": "2ed45a4a-b422-4d30-9fc3-11d07ddfa8bf",
   "metadata": {},
   "outputs": [],
   "source": [
    "featuresDataFrameList = []"
   ]
  },
  {
   "cell_type": "code",
   "execution_count": 17,
   "id": "3f589c77-99a6-4fb5-8c70-971cde4afa9b",
   "metadata": {},
   "outputs": [],
   "source": [
    "for i in range(0, len(featuresList)):\n",
    "    featuresDataFrame = targetData[featuresList[i]]\n",
    "    featuresDataFrameList.append(featuresDataFrame)"
   ]
  },
  {
   "cell_type": "code",
   "execution_count": 18,
   "id": "02b01935-68e0-450a-b86b-32589a825e87",
   "metadata": {
    "collapsed": true,
    "jupyter": {
     "outputs_hidden": true
    },
    "tags": []
   },
   "outputs": [
    {
     "name": "stdout",
     "output_type": "stream",
     "text": [
      "     age  miles   debt  income\n",
      "0     28     23      0    4099\n",
      "1     26     27      0    2677\n",
      "2     30     58  41576    6215\n",
      "3     26     25  43172    7626\n",
      "4     20     17   6979    8071\n",
      "..   ...    ...    ...     ...\n",
      "958   22     11   8778    9829\n",
      "959   19     23   4850    3470\n",
      "960   28     28   9312    2720\n",
      "961   50     29  51343    8713\n",
      "962   47     15   3735    6406\n",
      "\n",
      "[963 rows x 4 columns]\n",
      "     miles   debt  income\n",
      "0       23      0    4099\n",
      "1       27      0    2677\n",
      "2       58  41576    6215\n",
      "3       25  43172    7626\n",
      "4       17   6979    8071\n",
      "..     ...    ...     ...\n",
      "958     11   8778    9829\n",
      "959     23   4850    3470\n",
      "960     28   9312    2720\n",
      "961     29  51343    8713\n",
      "962     15   3735    6406\n",
      "\n",
      "[963 rows x 3 columns]\n",
      "     miles   debt  income\n",
      "0       23      0    4099\n",
      "1       27      0    2677\n",
      "2       58  41576    6215\n",
      "3       25  43172    7626\n",
      "4       17   6979    8071\n",
      "..     ...    ...     ...\n",
      "958     11   8778    9829\n",
      "959     23   4850    3470\n",
      "960     28   9312    2720\n",
      "961     29  51343    8713\n",
      "962     15   3735    6406\n",
      "\n",
      "[963 rows x 3 columns]\n",
      "     miles   debt  income\n",
      "0       23      0    4099\n",
      "1       27      0    2677\n",
      "2       58  41576    6215\n",
      "3       25  43172    7626\n",
      "4       17   6979    8071\n",
      "..     ...    ...     ...\n",
      "958     11   8778    9829\n",
      "959     23   4850    3470\n",
      "960     28   9312    2720\n",
      "961     29  51343    8713\n",
      "962     15   3735    6406\n",
      "\n",
      "[963 rows x 3 columns]\n",
      "      debt\n",
      "0        0\n",
      "1        0\n",
      "2    41576\n",
      "3    43172\n",
      "4     6979\n",
      "..     ...\n",
      "958   8778\n",
      "959   4850\n",
      "960   9312\n",
      "961  51343\n",
      "962   3735\n",
      "\n",
      "[963 rows x 1 columns]\n"
     ]
    }
   ],
   "source": [
    "for i in range(0, len(featuresDataFrameList)):\n",
    "    print(featuresDataFrameList[i])"
   ]
  },
  {
   "cell_type": "code",
   "execution_count": 19,
   "id": "485755cb-5090-443b-8903-0e172a11dfd4",
   "metadata": {},
   "outputs": [
    {
     "data": {
      "text/plain": [
       "5"
      ]
     },
     "execution_count": 19,
     "metadata": {},
     "output_type": "execute_result"
    }
   ],
   "source": [
    "len(featuresDataFrameList)"
   ]
  },
  {
   "cell_type": "code",
   "execution_count": null,
   "id": "7e7018cf-9ea1-4dfe-bedc-a3eb55626aee",
   "metadata": {},
   "outputs": [],
   "source": [
    "# featuresDataFrameList에 targetData로부터 목표 상관 관계를 형성한 컬럼들의 값만 추출하여 저장.\n",
    "# [0]번이 0.3 적용 ~ [4]번이 0.7 적용"
   ]
  },
  {
   "cell_type": "code",
   "execution_count": 20,
   "id": "0b05c077-4cdc-4af6-8022-ea7798135e15",
   "metadata": {},
   "outputs": [],
   "source": [
    "dataSplitRatio = 0.7\n",
    "# 교육과 테스트 비중은 0.7을 할당"
   ]
  },
  {
   "cell_type": "code",
   "execution_count": 21,
   "id": "17da98c4-a68a-4163-a029-81cd8f91d952",
   "metadata": {},
   "outputs": [],
   "source": [
    "stdIndex = int (targetData.shape[0] * dataSplitRatio)\n",
    "# 총 몇 번째 열까지를 교육 데이터와 테스트 데이터로 삼을 지 판별"
   ]
  },
  {
   "cell_type": "code",
   "execution_count": 22,
   "id": "08eec65a-73bf-434e-9368-7da7102b4832",
   "metadata": {},
   "outputs": [
    {
     "data": {
      "text/plain": [
       "674"
      ]
     },
     "execution_count": 22,
     "metadata": {},
     "output_type": "execute_result"
    }
   ],
   "source": [
    "stdIndex"
   ]
  },
  {
   "cell_type": "code",
   "execution_count": 23,
   "id": "3f7d976f-28aa-4c90-a798-175e2e75e81d",
   "metadata": {},
   "outputs": [],
   "source": [
    "trainingFeatures = []\n",
    "testFeatures = []"
   ]
  },
  {
   "cell_type": "code",
   "execution_count": 24,
   "id": "c6e0bb25-6a94-4090-b386-1bf5e42ece03",
   "metadata": {
    "tags": []
   },
   "outputs": [],
   "source": [
    "for i in range(0, len(featuresDataFrameList)):\n",
    "        trainingDataFrame = featuresDataFrameList[i].loc[featuresDataFrameList[i].index < stdIndex].reset_index(drop=True, inplace = False)\n",
    "        trainingFeatures.append(trainingDataFrame)\n",
    "        testDataFrame = featuresDataFrameList[i].loc[featuresDataFrameList[i].index >= stdIndex].reset_index(drop=True, inplace = False)\n",
    "        testFeatures.append(testDataFrame)"
   ]
  },
  {
   "cell_type": "code",
   "execution_count": 25,
   "id": "804c98a8-7abb-446f-a36c-537d69d4ad5a",
   "metadata": {},
   "outputs": [],
   "source": [
    "label = [\"sales\"]"
   ]
  },
  {
   "cell_type": "code",
   "execution_count": 26,
   "id": "97a87c23-6273-4508-8b69-2aad106d40b3",
   "metadata": {},
   "outputs": [],
   "source": [
    "trainingLabel = targetData.loc[targetData.index < stdIndex, label].reset_index(drop=True, inplace=False)\n",
    "testLabel = targetData.loc[targetData.index >= stdIndex, label].reset_index(drop=True, inplace=False)"
   ]
  },
  {
   "cell_type": "markdown",
   "id": "948a8a68-b0d8-464b-93b5-d3124c788779",
   "metadata": {},
   "source": [
    "## 06. 모델 선언 및 데이터 분석, 예측 수행"
   ]
  },
  {
   "cell_type": "code",
   "execution_count": 37,
   "id": "90ffd564-a60f-4511-9ff5-63ef073af81a",
   "metadata": {},
   "outputs": [],
   "source": [
    "model_method = tree.DecisionTreeRegressor()"
   ]
  },
  {
   "cell_type": "code",
   "execution_count": 42,
   "id": "daad85b4-6920-480f-9bea-677470dcb600",
   "metadata": {
    "tags": []
   },
   "outputs": [],
   "source": [
    "model0 = model_method.fit(trainingFeatures[0], trainingLabel)\n",
    "predict0 = model0.predict(testFeatures[0])\n",
    "preDf0 = pd.DataFrame(predict0, columns = {\"predict0\"}).reset_index(drop=True, inplace = False)"
   ]
  },
  {
   "cell_type": "code",
   "execution_count": 43,
   "id": "eb39c284-6b67-400a-b41e-ab112f6b6347",
   "metadata": {
    "tags": []
   },
   "outputs": [],
   "source": [
    "model1 = model_method.fit(trainingFeatures[1], trainingLabel)\n",
    "predict1 = model1.predict(testFeatures[1])\n",
    "preDf1 = pd.DataFrame(predict1, columns = {\"predict1\"}).reset_index(drop=True, inplace = False)"
   ]
  },
  {
   "cell_type": "code",
   "execution_count": 44,
   "id": "10337640-8260-478f-b857-1c0ec0c76844",
   "metadata": {
    "tags": []
   },
   "outputs": [],
   "source": [
    "model2 = model_method.fit(trainingFeatures[2], trainingLabel)\n",
    "predict2 = model2.predict(testFeatures[2])\n",
    "preDf2 = pd.DataFrame(predict2, columns = {\"predict2\"}).reset_index(drop=True, inplace = False)"
   ]
  },
  {
   "cell_type": "code",
   "execution_count": 45,
   "id": "64f29e4e-d51b-453f-b86f-c9f8b21ba95c",
   "metadata": {
    "tags": []
   },
   "outputs": [],
   "source": [
    "model3 = model_method.fit(trainingFeatures[3], trainingLabel)\n",
    "predict3 = model3.predict(testFeatures[3])\n",
    "preDf3 = pd.DataFrame(predict3, columns = {\"predict3\"}).reset_index(drop=True, inplace = False)"
   ]
  },
  {
   "cell_type": "code",
   "execution_count": 46,
   "id": "6d09e1b6-5dfe-4dbe-b36e-b075a31ae98a",
   "metadata": {
    "tags": []
   },
   "outputs": [],
   "source": [
    "model4 = model_method.fit(trainingFeatures[4], trainingLabel)\n",
    "predict4 = model4.predict(testFeatures[4])\n",
    "preDf4 = pd.DataFrame(predict4, columns = {\"predict4\"}).reset_index(drop=True, inplace = False)"
   ]
  },
  {
   "cell_type": "code",
   "execution_count": null,
   "id": "7004cc7e-94f4-44a8-b18f-bea038ccedb8",
   "metadata": {},
   "outputs": [],
   "source": []
  },
  {
   "cell_type": "code",
   "execution_count": 47,
   "id": "f6bb4ad2-6c07-4717-9d8e-335c59cde8bc",
   "metadata": {},
   "outputs": [
    {
     "data": {
      "text/html": [
       "<div>\n",
       "<style scoped>\n",
       "    .dataframe tbody tr th:only-of-type {\n",
       "        vertical-align: middle;\n",
       "    }\n",
       "\n",
       "    .dataframe tbody tr th {\n",
       "        vertical-align: top;\n",
       "    }\n",
       "\n",
       "    .dataframe thead th {\n",
       "        text-align: right;\n",
       "    }\n",
       "</style>\n",
       "<table border=\"1\" class=\"dataframe\">\n",
       "  <thead>\n",
       "    <tr style=\"text-align: right;\">\n",
       "      <th></th>\n",
       "      <th>sales</th>\n",
       "      <th>predict0</th>\n",
       "      <th>predict1</th>\n",
       "      <th>predict2</th>\n",
       "      <th>predict3</th>\n",
       "      <th>predict4</th>\n",
       "    </tr>\n",
       "  </thead>\n",
       "  <tbody>\n",
       "    <tr>\n",
       "      <th>0</th>\n",
       "      <td>3267</td>\n",
       "      <td>4620.0</td>\n",
       "      <td>2993.0</td>\n",
       "      <td>2235.0</td>\n",
       "      <td>2235.0</td>\n",
       "      <td>1955.0</td>\n",
       "    </tr>\n",
       "    <tr>\n",
       "      <th>1</th>\n",
       "      <td>22391</td>\n",
       "      <td>28228.0</td>\n",
       "      <td>25239.0</td>\n",
       "      <td>25239.0</td>\n",
       "      <td>25239.0</td>\n",
       "      <td>27774.0</td>\n",
       "    </tr>\n",
       "    <tr>\n",
       "      <th>2</th>\n",
       "      <td>4927</td>\n",
       "      <td>4765.0</td>\n",
       "      <td>1769.0</td>\n",
       "      <td>1769.0</td>\n",
       "      <td>1769.0</td>\n",
       "      <td>7165.0</td>\n",
       "    </tr>\n",
       "    <tr>\n",
       "      <th>3</th>\n",
       "      <td>22752</td>\n",
       "      <td>29096.0</td>\n",
       "      <td>28575.0</td>\n",
       "      <td>28575.0</td>\n",
       "      <td>27677.0</td>\n",
       "      <td>24055.0</td>\n",
       "    </tr>\n",
       "    <tr>\n",
       "      <th>4</th>\n",
       "      <td>12969</td>\n",
       "      <td>8205.0</td>\n",
       "      <td>1285.0</td>\n",
       "      <td>1285.0</td>\n",
       "      <td>1285.0</td>\n",
       "      <td>16863.0</td>\n",
       "    </tr>\n",
       "    <tr>\n",
       "      <th>...</th>\n",
       "      <td>...</td>\n",
       "      <td>...</td>\n",
       "      <td>...</td>\n",
       "      <td>...</td>\n",
       "      <td>...</td>\n",
       "      <td>...</td>\n",
       "    </tr>\n",
       "    <tr>\n",
       "      <th>284</th>\n",
       "      <td>1593</td>\n",
       "      <td>3437.0</td>\n",
       "      <td>2620.0</td>\n",
       "      <td>2184.0</td>\n",
       "      <td>2620.0</td>\n",
       "      <td>8240.0</td>\n",
       "    </tr>\n",
       "    <tr>\n",
       "      <th>285</th>\n",
       "      <td>4742</td>\n",
       "      <td>3002.0</td>\n",
       "      <td>4487.0</td>\n",
       "      <td>4487.0</td>\n",
       "      <td>4487.0</td>\n",
       "      <td>841.0</td>\n",
       "    </tr>\n",
       "    <tr>\n",
       "      <th>286</th>\n",
       "      <td>12771</td>\n",
       "      <td>5837.0</td>\n",
       "      <td>6801.0</td>\n",
       "      <td>6801.0</td>\n",
       "      <td>7189.0</td>\n",
       "      <td>12581.0</td>\n",
       "    </tr>\n",
       "    <tr>\n",
       "      <th>287</th>\n",
       "      <td>28511</td>\n",
       "      <td>25118.0</td>\n",
       "      <td>24984.0</td>\n",
       "      <td>22987.0</td>\n",
       "      <td>23527.0</td>\n",
       "      <td>29715.0</td>\n",
       "    </tr>\n",
       "    <tr>\n",
       "      <th>288</th>\n",
       "      <td>6104</td>\n",
       "      <td>6263.0</td>\n",
       "      <td>6263.0</td>\n",
       "      <td>6263.0</td>\n",
       "      <td>6263.0</td>\n",
       "      <td>3240.0</td>\n",
       "    </tr>\n",
       "  </tbody>\n",
       "</table>\n",
       "<p>289 rows × 6 columns</p>\n",
       "</div>"
      ],
      "text/plain": [
       "     sales  predict0  predict1  predict2  predict3  predict4\n",
       "0     3267    4620.0    2993.0    2235.0    2235.0    1955.0\n",
       "1    22391   28228.0   25239.0   25239.0   25239.0   27774.0\n",
       "2     4927    4765.0    1769.0    1769.0    1769.0    7165.0\n",
       "3    22752   29096.0   28575.0   28575.0   27677.0   24055.0\n",
       "4    12969    8205.0    1285.0    1285.0    1285.0   16863.0\n",
       "..     ...       ...       ...       ...       ...       ...\n",
       "284   1593    3437.0    2620.0    2184.0    2620.0    8240.0\n",
       "285   4742    3002.0    4487.0    4487.0    4487.0     841.0\n",
       "286  12771    5837.0    6801.0    6801.0    7189.0   12581.0\n",
       "287  28511   25118.0   24984.0   22987.0   23527.0   29715.0\n",
       "288   6104    6263.0    6263.0    6263.0    6263.0    3240.0\n",
       "\n",
       "[289 rows x 6 columns]"
      ]
     },
     "execution_count": 47,
     "metadata": {},
     "output_type": "execute_result"
    }
   ],
   "source": [
    "pd.concat([testLabel, preDf0, preDf1, preDf2, preDf3, preDf4], axis=1)"
   ]
  },
  {
   "cell_type": "code",
   "execution_count": 52,
   "id": "1737e1f5-0939-4929-b09b-55dc778e7fd6",
   "metadata": {},
   "outputs": [
    {
     "data": {
      "text/plain": [
       "0.3827144527648677"
      ]
     },
     "execution_count": 52,
     "metadata": {},
     "output_type": "execute_result"
    }
   ],
   "source": [
    "model_method.score(preDf0, testLabel)"
   ]
  },
  {
   "cell_type": "code",
   "execution_count": 53,
   "id": "17f40aab-cc1e-48f5-88a6-e5324d46907e",
   "metadata": {},
   "outputs": [
    {
     "data": {
      "text/plain": [
       "0.34809840799760416"
      ]
     },
     "execution_count": 53,
     "metadata": {},
     "output_type": "execute_result"
    }
   ],
   "source": [
    "model_method.score(preDf1, testLabel)"
   ]
  },
  {
   "cell_type": "code",
   "execution_count": 57,
   "id": "762d4bcb-dde7-44aa-9444-fa2e50d85567",
   "metadata": {},
   "outputs": [
    {
     "data": {
      "text/plain": [
       "0.34756112644771053"
      ]
     },
     "execution_count": 57,
     "metadata": {},
     "output_type": "execute_result"
    }
   ],
   "source": [
    "model_method.score(preDf2, testLabel)"
   ]
  },
  {
   "cell_type": "code",
   "execution_count": 58,
   "id": "a547b3ba-3bf3-484a-833a-7fe5946a214d",
   "metadata": {},
   "outputs": [
    {
     "data": {
      "text/plain": [
       "0.3179336307177518"
      ]
     },
     "execution_count": 58,
     "metadata": {},
     "output_type": "execute_result"
    }
   ],
   "source": [
    "model_method.score(preDf3, testLabel)"
   ]
  },
  {
   "cell_type": "code",
   "execution_count": 59,
   "id": "7e205d67-b610-4a28-a4d7-dfacdab6149a",
   "metadata": {},
   "outputs": [
    {
     "data": {
      "text/plain": [
       "0.018428790839834508"
      ]
     },
     "execution_count": 59,
     "metadata": {},
     "output_type": "execute_result"
    }
   ],
   "source": [
    "model_method.score(preDf4, testLabel)"
   ]
  }
 ],
 "metadata": {
  "kernelspec": {
   "display_name": "Python 3 (ipykernel)",
   "language": "python",
   "name": "python3"
  },
  "language_info": {
   "codemirror_mode": {
    "name": "ipython",
    "version": 3
   },
   "file_extension": ".py",
   "mimetype": "text/x-python",
   "name": "python",
   "nbconvert_exporter": "python",
   "pygments_lexer": "ipython3",
   "version": "3.9.13"
  }
 },
 "nbformat": 4,
 "nbformat_minor": 5
}
