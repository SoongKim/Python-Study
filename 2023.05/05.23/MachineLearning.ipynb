{
 "cells": [
  {
   "cell_type": "code",
   "execution_count": 1,
   "id": "69e9b4ee-2dbb-4c99-b366-3c2568e1ca2a",
   "metadata": {},
   "outputs": [],
   "source": [
    "import pandas as pd\n",
    "import numpy as np\n",
    "from sklearn import tree\n",
    "from sklearn.metrics import mean_absolute_error\n",
    "from sklearn.metrics import mean_squared_error\n",
    "from sklearn.preprocessing import LabelEncoder\n",
    "from sklearn.tree import DecisionTreeRegressor"
   ]
  },
  {
   "cell_type": "code",
   "execution_count": 2,
   "id": "52921d1e-b706-4541-91f3-20baef3b9486",
   "metadata": {},
   "outputs": [],
   "source": [
    "targetData = pd.read_csv(\"../../../stdcode6/dataset/cars.csv\")"
   ]
  },
  {
   "cell_type": "code",
   "execution_count": 3,
   "id": "bae8af68-11ff-4f87-bf9c-92c6ef15d299",
   "metadata": {},
   "outputs": [
    {
     "data": {
      "text/html": [
       "<div>\n",
       "<style scoped>\n",
       "    .dataframe tbody tr th:only-of-type {\n",
       "        vertical-align: middle;\n",
       "    }\n",
       "\n",
       "    .dataframe tbody tr th {\n",
       "        vertical-align: top;\n",
       "    }\n",
       "\n",
       "    .dataframe thead th {\n",
       "        text-align: right;\n",
       "    }\n",
       "</style>\n",
       "<table border=\"1\" class=\"dataframe\">\n",
       "  <thead>\n",
       "    <tr style=\"text-align: right;\">\n",
       "      <th></th>\n",
       "      <th>age</th>\n",
       "      <th>gender</th>\n",
       "      <th>miles</th>\n",
       "      <th>debt</th>\n",
       "      <th>income</th>\n",
       "      <th>sales</th>\n",
       "    </tr>\n",
       "  </thead>\n",
       "  <tbody>\n",
       "    <tr>\n",
       "      <th>0</th>\n",
       "      <td>28</td>\n",
       "      <td>0</td>\n",
       "      <td>23</td>\n",
       "      <td>0</td>\n",
       "      <td>4099</td>\n",
       "      <td>620</td>\n",
       "    </tr>\n",
       "    <tr>\n",
       "      <th>1</th>\n",
       "      <td>26</td>\n",
       "      <td>0</td>\n",
       "      <td>27</td>\n",
       "      <td>0</td>\n",
       "      <td>2677</td>\n",
       "      <td>1792</td>\n",
       "    </tr>\n",
       "    <tr>\n",
       "      <th>2</th>\n",
       "      <td>30</td>\n",
       "      <td>1</td>\n",
       "      <td>58</td>\n",
       "      <td>41576</td>\n",
       "      <td>6215</td>\n",
       "      <td>27754</td>\n",
       "    </tr>\n",
       "    <tr>\n",
       "      <th>3</th>\n",
       "      <td>26</td>\n",
       "      <td>1</td>\n",
       "      <td>25</td>\n",
       "      <td>43172</td>\n",
       "      <td>7626</td>\n",
       "      <td>28256</td>\n",
       "    </tr>\n",
       "    <tr>\n",
       "      <th>4</th>\n",
       "      <td>20</td>\n",
       "      <td>1</td>\n",
       "      <td>17</td>\n",
       "      <td>6979</td>\n",
       "      <td>8071</td>\n",
       "      <td>4438</td>\n",
       "    </tr>\n",
       "  </tbody>\n",
       "</table>\n",
       "</div>"
      ],
      "text/plain": [
       "   age  gender  miles   debt  income  sales\n",
       "0   28       0     23      0    4099    620\n",
       "1   26       0     27      0    2677   1792\n",
       "2   30       1     58  41576    6215  27754\n",
       "3   26       1     25  43172    7626  28256\n",
       "4   20       1     17   6979    8071   4438"
      ]
     },
     "execution_count": 3,
     "metadata": {},
     "output_type": "execute_result"
    }
   ],
   "source": [
    "targetData.head()"
   ]
  },
  {
   "cell_type": "code",
   "execution_count": 4,
   "id": "dae89013-75d8-47e9-97f5-eeacbac602ca",
   "metadata": {},
   "outputs": [
    {
     "data": {
      "text/plain": [
       "age       int64\n",
       "gender    int64\n",
       "miles     int64\n",
       "debt      int64\n",
       "income    int64\n",
       "sales     int64\n",
       "dtype: object"
      ]
     },
     "execution_count": 4,
     "metadata": {},
     "output_type": "execute_result"
    }
   ],
   "source": [
    "targetData.dtypes"
   ]
  },
  {
   "cell_type": "code",
   "execution_count": 5,
   "id": "8791ee24-28ee-4327-adb9-f70230165b4d",
   "metadata": {},
   "outputs": [],
   "source": [
    "columnList = list(targetData.columns)"
   ]
  },
  {
   "cell_type": "code",
   "execution_count": 6,
   "id": "4b081d62-a9c5-49c8-9f4f-b89f93641fa8",
   "metadata": {},
   "outputs": [
    {
     "data": {
      "text/plain": [
       "['age', 'gender', 'miles', 'debt', 'income', 'sales']"
      ]
     },
     "execution_count": 6,
     "metadata": {},
     "output_type": "execute_result"
    }
   ],
   "source": [
    "columnList"
   ]
  },
  {
   "cell_type": "code",
   "execution_count": 8,
   "id": "1a072c19-fe29-4ff0-81dd-cb80586cd995",
   "metadata": {},
   "outputs": [],
   "source": [
    "for i in range(0, len(columnList)):\n",
    "    targetData[columnList[i]] = targetData[columnList[i]].astype(int)"
   ]
  },
  {
   "cell_type": "code",
   "execution_count": 9,
   "id": "29e3b19c-777e-4880-8be5-7d5e9f305376",
   "metadata": {},
   "outputs": [
    {
     "data": {
      "text/plain": [
       "age       int32\n",
       "gender    int32\n",
       "miles     int32\n",
       "debt      int32\n",
       "income    int32\n",
       "sales     int32\n",
       "dtype: object"
      ]
     },
     "execution_count": 9,
     "metadata": {},
     "output_type": "execute_result"
    }
   ],
   "source": [
    "targetData.dtypes"
   ]
  },
  {
   "cell_type": "code",
   "execution_count": 10,
   "id": "1313c68d-dfd1-4b38-a844-38e6d0492c54",
   "metadata": {},
   "outputs": [],
   "source": [
    "corrData = targetData.corr()"
   ]
  },
  {
   "cell_type": "code",
   "execution_count": 11,
   "id": "3edd38bb-b7c1-4feb-b1cc-feaeaee94579",
   "metadata": {},
   "outputs": [
    {
     "data": {
      "text/html": [
       "<div>\n",
       "<style scoped>\n",
       "    .dataframe tbody tr th:only-of-type {\n",
       "        vertical-align: middle;\n",
       "    }\n",
       "\n",
       "    .dataframe tbody tr th {\n",
       "        vertical-align: top;\n",
       "    }\n",
       "\n",
       "    .dataframe thead th {\n",
       "        text-align: right;\n",
       "    }\n",
       "</style>\n",
       "<table border=\"1\" class=\"dataframe\">\n",
       "  <thead>\n",
       "    <tr style=\"text-align: right;\">\n",
       "      <th></th>\n",
       "      <th>age</th>\n",
       "      <th>gender</th>\n",
       "      <th>miles</th>\n",
       "      <th>debt</th>\n",
       "      <th>income</th>\n",
       "      <th>sales</th>\n",
       "    </tr>\n",
       "  </thead>\n",
       "  <tbody>\n",
       "    <tr>\n",
       "      <th>age</th>\n",
       "      <td>1.000000</td>\n",
       "      <td>-0.000702</td>\n",
       "      <td>0.232399</td>\n",
       "      <td>0.218896</td>\n",
       "      <td>0.239644</td>\n",
       "      <td>0.352609</td>\n",
       "    </tr>\n",
       "    <tr>\n",
       "      <th>gender</th>\n",
       "      <td>-0.000702</td>\n",
       "      <td>1.000000</td>\n",
       "      <td>-0.031355</td>\n",
       "      <td>-0.033181</td>\n",
       "      <td>-0.034317</td>\n",
       "      <td>-0.036350</td>\n",
       "    </tr>\n",
       "    <tr>\n",
       "      <th>miles</th>\n",
       "      <td>0.232399</td>\n",
       "      <td>-0.031355</td>\n",
       "      <td>1.000000</td>\n",
       "      <td>0.544791</td>\n",
       "      <td>0.422141</td>\n",
       "      <td>0.636676</td>\n",
       "    </tr>\n",
       "    <tr>\n",
       "      <th>debt</th>\n",
       "      <td>0.218896</td>\n",
       "      <td>-0.033181</td>\n",
       "      <td>0.544791</td>\n",
       "      <td>1.000000</td>\n",
       "      <td>0.491790</td>\n",
       "      <td>0.835541</td>\n",
       "    </tr>\n",
       "    <tr>\n",
       "      <th>income</th>\n",
       "      <td>0.239644</td>\n",
       "      <td>-0.034317</td>\n",
       "      <td>0.422141</td>\n",
       "      <td>0.491790</td>\n",
       "      <td>1.000000</td>\n",
       "      <td>0.674685</td>\n",
       "    </tr>\n",
       "    <tr>\n",
       "      <th>sales</th>\n",
       "      <td>0.352609</td>\n",
       "      <td>-0.036350</td>\n",
       "      <td>0.636676</td>\n",
       "      <td>0.835541</td>\n",
       "      <td>0.674685</td>\n",
       "      <td>1.000000</td>\n",
       "    </tr>\n",
       "  </tbody>\n",
       "</table>\n",
       "</div>"
      ],
      "text/plain": [
       "             age    gender     miles      debt    income     sales\n",
       "age     1.000000 -0.000702  0.232399  0.218896  0.239644  0.352609\n",
       "gender -0.000702  1.000000 -0.031355 -0.033181 -0.034317 -0.036350\n",
       "miles   0.232399 -0.031355  1.000000  0.544791  0.422141  0.636676\n",
       "debt    0.218896 -0.033181  0.544791  1.000000  0.491790  0.835541\n",
       "income  0.239644 -0.034317  0.422141  0.491790  1.000000  0.674685\n",
       "sales   0.352609 -0.036350  0.636676  0.835541  0.674685  1.000000"
      ]
     },
     "execution_count": 11,
     "metadata": {},
     "output_type": "execute_result"
    }
   ],
   "source": [
    "corrData"
   ]
  },
  {
   "cell_type": "code",
   "execution_count": 12,
   "id": "dfe86fc4-f087-404c-9e5f-561691fcb849",
   "metadata": {},
   "outputs": [],
   "source": [
    "corrList = list(range(3, 8, 1))"
   ]
  },
  {
   "cell_type": "code",
   "execution_count": 13,
   "id": "8978e362-73f2-41f3-9e3e-234b81988f21",
   "metadata": {},
   "outputs": [],
   "source": [
    "for i in range(0, len(corrList)):\n",
    "    corrList[i] = corrList[i] / 10"
   ]
  },
  {
   "cell_type": "code",
   "execution_count": 14,
   "id": "4da76335-d124-4b25-bdd5-579058a70f2e",
   "metadata": {},
   "outputs": [
    {
     "data": {
      "text/plain": [
       "[0.3, 0.4, 0.5, 0.6, 0.7]"
      ]
     },
     "execution_count": 14,
     "metadata": {},
     "output_type": "execute_result"
    }
   ],
   "source": [
    "corrList"
   ]
  },
  {
   "cell_type": "code",
   "execution_count": 29,
   "id": "985a1545-39cc-46bf-852f-a91733505a12",
   "metadata": {},
   "outputs": [],
   "source": [
    "features = [0 for i in range(0, len(corrList))]"
   ]
  },
  {
   "cell_type": "code",
   "execution_count": 30,
   "id": "c6317ee1-e9ea-409f-852d-108c0ab95f7d",
   "metadata": {},
   "outputs": [
    {
     "data": {
      "text/plain": [
       "[0, 0, 0, 0, 0]"
      ]
     },
     "execution_count": 30,
     "metadata": {},
     "output_type": "execute_result"
    }
   ],
   "source": [
    "features"
   ]
  },
  {
   "cell_type": "code",
   "execution_count": 31,
   "id": "2c8a719b-8f70-4608-8e03-9d232bd51686",
   "metadata": {},
   "outputs": [],
   "source": [
    "for i in range(0, len(features)):\n",
    "    features[i] = list(corrData[(abs(corrData.sales) > corrList[i]) & \\\n",
    "                                (abs(corrData.sales) != 1)].index)"
   ]
  },
  {
   "cell_type": "code",
   "execution_count": 32,
   "id": "2b3295cb-1610-4a6d-a375-068a22318b88",
   "metadata": {},
   "outputs": [
    {
     "data": {
      "text/plain": [
       "[['age', 'miles', 'debt', 'income'],\n",
       " ['miles', 'debt', 'income'],\n",
       " ['miles', 'debt', 'income'],\n",
       " ['miles', 'debt', 'income'],\n",
       " ['debt']]"
      ]
     },
     "execution_count": 32,
     "metadata": {},
     "output_type": "execute_result"
    }
   ],
   "source": [
    "features"
   ]
  },
  {
   "cell_type": "code",
   "execution_count": 33,
   "id": "660450be-2c54-4970-b842-c8f672f38abc",
   "metadata": {},
   "outputs": [],
   "source": [
    "label = [\"sales\"]"
   ]
  },
  {
   "cell_type": "code",
   "execution_count": 35,
   "id": "61fcd933-b610-43c2-9258-a1fca1cb3f07",
   "metadata": {},
   "outputs": [],
   "source": [
    "targetRatio = 0.7"
   ]
  },
  {
   "cell_type": "code",
   "execution_count": 37,
   "id": "ae04fac1-4f70-4c30-8f1f-65117f50c1e0",
   "metadata": {},
   "outputs": [],
   "source": [
    "targetIndex = int(targetData.shape[0])"
   ]
  },
  {
   "cell_type": "code",
   "execution_count": 40,
   "id": "e58c4a73-a6c9-45f4-9eae-60935cebe2f8",
   "metadata": {},
   "outputs": [],
   "source": [
    "targetRatioIndex = int(targetIndex * targetRatio)"
   ]
  },
  {
   "cell_type": "code",
   "execution_count": 41,
   "id": "4f7f5cdb-0d6e-4e0b-add5-1927ce15c882",
   "metadata": {},
   "outputs": [
    {
     "data": {
      "text/plain": [
       "674"
      ]
     },
     "execution_count": 41,
     "metadata": {},
     "output_type": "execute_result"
    }
   ],
   "source": [
    "targetRatioIndex"
   ]
  },
  {
   "cell_type": "code",
   "execution_count": 44,
   "id": "a8b0e49e-312c-4e65-a357-78afeffd7c64",
   "metadata": {},
   "outputs": [],
   "source": [
    "trainingFeatures = [0 for i in range(0, len(features))]"
   ]
  },
  {
   "cell_type": "code",
   "execution_count": 52,
   "id": "1d82fd9c-3647-4481-8475-294d10b71381",
   "metadata": {},
   "outputs": [],
   "source": [
    "testFeatures = [0 for i in range(0, len(features))]"
   ]
  },
  {
   "cell_type": "code",
   "execution_count": 56,
   "id": "1957a5b7-3b5a-4b69-854f-cdb905fd3dda",
   "metadata": {},
   "outputs": [],
   "source": [
    "for i in range(0, len(targetFeatures)):\n",
    "    trainingFeatures[i] = targetData[features[i]][:targetRatioIndex].reset_index(drop=True, inplace=False)\n",
    "    testFeatures[i] = targetData[features[i]][targetRatioIndex:].reset_index(drop=True, inplace=False)\n",
    "trainingLabel = targetData[label][:targetRatioIndex].reset_index(drop=True, inplace=False)\n",
    "testLabel = targetData[label][targetRatioIndex:].reset_index(drop=True, inplace=False)"
   ]
  },
  {
   "cell_type": "code",
   "execution_count": 58,
   "id": "32c4c005-0dc5-4548-86c4-aad8298fefff",
   "metadata": {},
   "outputs": [],
   "source": [
    "model_method = tree.DecisionTreeRegressor()"
   ]
  },
  {
   "cell_type": "code",
   "execution_count": 60,
   "id": "58b16e4f-0f4d-475c-b74c-1e662b2ecb86",
   "metadata": {},
   "outputs": [],
   "source": [
    "predictData = [0 for i in range(0, len(trainingFeatures))]"
   ]
  },
  {
   "cell_type": "code",
   "execution_count": 63,
   "id": "61d90bd1-58b8-4124-b085-e7795a7687f3",
   "metadata": {},
   "outputs": [],
   "source": [
    "for i in range(0, len(model)):\n",
    "    model = model_method.fit(trainingFeatures[i], trainingLabel)\n",
    "    predictData[i] = model.predict(testFeatures[i])"
   ]
  },
  {
   "cell_type": "code",
   "execution_count": 66,
   "id": "287b6944-7d91-48ba-a03a-8aae9d893ee7",
   "metadata": {},
   "outputs": [
    {
     "name": "stdout",
     "output_type": "stream",
     "text": [
      "2416.21107266436\n",
      "3040.325259515571\n",
      "3083.3217993079584\n",
      "3025.899653979239\n",
      "3860.7506665154006\n"
     ]
    }
   ],
   "source": [
    "for i in range(0, len(predictData)):\n",
    "    print(mean_absolute_error(testLabel, predictData[i]))"
   ]
  },
  {
   "cell_type": "code",
   "execution_count": 69,
   "id": "f471e723-c2a4-4e73-8fc1-21241089eccd",
   "metadata": {},
   "outputs": [
    {
     "name": "stdout",
     "output_type": "stream",
     "text": [
      "11801767.892733565\n",
      "20526817.169550173\n",
      "21649191.15570934\n",
      "19735826.93079585\n",
      "29253734.71082089\n"
     ]
    }
   ],
   "source": [
    "for i in range(0, len(predictData)):\n",
    "    print(mean_squared_error(testLabel, predictData[i]))"
   ]
  }
 ],
 "metadata": {
  "kernelspec": {
   "display_name": "Python 3 (ipykernel)",
   "language": "python",
   "name": "python3"
  },
  "language_info": {
   "codemirror_mode": {
    "name": "ipython",
    "version": 3
   },
   "file_extension": ".py",
   "mimetype": "text/x-python",
   "name": "python",
   "nbconvert_exporter": "python",
   "pygments_lexer": "ipython3",
   "version": "3.9.13"
  }
 },
 "nbformat": 4,
 "nbformat_minor": 5
}
