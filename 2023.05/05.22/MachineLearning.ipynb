{
 "cells": [
  {
   "cell_type": "code",
   "execution_count": 1,
   "id": "be83c80b-ba3d-44cd-a529-591547a69b34",
   "metadata": {},
   "outputs": [],
   "source": [
    "import pandas as pd\n",
    "import numpy as np\n",
    "from sklearn import tree\n",
    "from sklearn.tree import DecisionTreeRegressor\n",
    "from sklearn.metrics import mean_absolute_error\n",
    "from sklearn.metrics import mean_squared_error\n",
    "from sklearn.preprocessing import LabelEncoder\n",
    "from sklearn.metrics import accuracy_score"
   ]
  },
  {
   "cell_type": "code",
   "execution_count": 2,
   "id": "0d7f2fae-f279-4756-b4ef-d7fa5012da3a",
   "metadata": {},
   "outputs": [],
   "source": [
    "targetData = pd.read_csv(\"../../../stdcode6/dataset/feature_regression_example.csv\")"
   ]
  },
  {
   "cell_type": "code",
   "execution_count": 3,
   "id": "51d08f99-72fb-4177-a6fc-c18493f22418",
   "metadata": {},
   "outputs": [
    {
     "data": {
      "text/plain": [
       "REGIONID         object\n",
       "PRODUCTGROUP     object\n",
       "PRODUCT          object\n",
       "ITEM             object\n",
       "YEARWEEK          int64\n",
       "YEAR              int64\n",
       "WEEK              int64\n",
       "QTY               int64\n",
       "HOLIDAY          object\n",
       "HCLUS             int64\n",
       "PROMOTION        object\n",
       "PRO_PERCENT     float64\n",
       "dtype: object"
      ]
     },
     "execution_count": 3,
     "metadata": {},
     "output_type": "execute_result"
    }
   ],
   "source": [
    "targetData.dtypes"
   ]
  },
  {
   "cell_type": "code",
   "execution_count": 4,
   "id": "69524255-214a-4099-9772-b1c1fac5dac8",
   "metadata": {},
   "outputs": [],
   "source": [
    "ynLabelEn = LabelEncoder()"
   ]
  },
  {
   "cell_type": "code",
   "execution_count": 7,
   "id": "e97c9b1d-8367-455b-bf20-fb70b7f2b453",
   "metadata": {},
   "outputs": [],
   "source": [
    "targetData[\"HO_YN\"] = ynLabelEn.fit_transform(targetData[\"HOLIDAY\"])"
   ]
  },
  {
   "cell_type": "code",
   "execution_count": 8,
   "id": "656e8ab1-9a59-4afe-9c71-4437412d866b",
   "metadata": {},
   "outputs": [],
   "source": [
    "targetData[\"PRO_YN\"] = ynLabelEn.fit_transform(targetData[\"PROMOTION\"])"
   ]
  },
  {
   "cell_type": "code",
   "execution_count": 9,
   "id": "1fadae2f-d616-4506-bb59-f4973f66f836",
   "metadata": {},
   "outputs": [
    {
     "data": {
      "text/html": [
       "<div>\n",
       "<style scoped>\n",
       "    .dataframe tbody tr th:only-of-type {\n",
       "        vertical-align: middle;\n",
       "    }\n",
       "\n",
       "    .dataframe tbody tr th {\n",
       "        vertical-align: top;\n",
       "    }\n",
       "\n",
       "    .dataframe thead th {\n",
       "        text-align: right;\n",
       "    }\n",
       "</style>\n",
       "<table border=\"1\" class=\"dataframe\">\n",
       "  <thead>\n",
       "    <tr style=\"text-align: right;\">\n",
       "      <th></th>\n",
       "      <th>REGIONID</th>\n",
       "      <th>PRODUCTGROUP</th>\n",
       "      <th>PRODUCT</th>\n",
       "      <th>ITEM</th>\n",
       "      <th>YEARWEEK</th>\n",
       "      <th>YEAR</th>\n",
       "      <th>WEEK</th>\n",
       "      <th>QTY</th>\n",
       "      <th>HOLIDAY</th>\n",
       "      <th>HCLUS</th>\n",
       "      <th>PROMOTION</th>\n",
       "      <th>PRO_PERCENT</th>\n",
       "      <th>HO_YN</th>\n",
       "      <th>PRO_YN</th>\n",
       "    </tr>\n",
       "  </thead>\n",
       "  <tbody>\n",
       "    <tr>\n",
       "      <th>0</th>\n",
       "      <td>SEOUL_BANK_001</td>\n",
       "      <td>PG02</td>\n",
       "      <td>PRODUCT0010</td>\n",
       "      <td>ITEM0115</td>\n",
       "      <td>201501</td>\n",
       "      <td>2015</td>\n",
       "      <td>1</td>\n",
       "      <td>1225</td>\n",
       "      <td>Y</td>\n",
       "      <td>1</td>\n",
       "      <td>Y</td>\n",
       "      <td>0.209442</td>\n",
       "      <td>1</td>\n",
       "      <td>1</td>\n",
       "    </tr>\n",
       "    <tr>\n",
       "      <th>1</th>\n",
       "      <td>SEOUL_BANK_001</td>\n",
       "      <td>PG02</td>\n",
       "      <td>PRODUCT0010</td>\n",
       "      <td>ITEM0115</td>\n",
       "      <td>201502</td>\n",
       "      <td>2015</td>\n",
       "      <td>2</td>\n",
       "      <td>968</td>\n",
       "      <td>N</td>\n",
       "      <td>4</td>\n",
       "      <td>Y</td>\n",
       "      <td>0.209442</td>\n",
       "      <td>0</td>\n",
       "      <td>1</td>\n",
       "    </tr>\n",
       "    <tr>\n",
       "      <th>2</th>\n",
       "      <td>SEOUL_BANK_001</td>\n",
       "      <td>PG02</td>\n",
       "      <td>PRODUCT0010</td>\n",
       "      <td>ITEM0115</td>\n",
       "      <td>201503</td>\n",
       "      <td>2015</td>\n",
       "      <td>3</td>\n",
       "      <td>1209</td>\n",
       "      <td>N</td>\n",
       "      <td>4</td>\n",
       "      <td>Y</td>\n",
       "      <td>0.208155</td>\n",
       "      <td>0</td>\n",
       "      <td>1</td>\n",
       "    </tr>\n",
       "    <tr>\n",
       "      <th>3</th>\n",
       "      <td>SEOUL_BANK_001</td>\n",
       "      <td>PG02</td>\n",
       "      <td>PRODUCT0010</td>\n",
       "      <td>ITEM0115</td>\n",
       "      <td>201504</td>\n",
       "      <td>2015</td>\n",
       "      <td>4</td>\n",
       "      <td>1810</td>\n",
       "      <td>Y</td>\n",
       "      <td>2</td>\n",
       "      <td>Y</td>\n",
       "      <td>0.208155</td>\n",
       "      <td>1</td>\n",
       "      <td>1</td>\n",
       "    </tr>\n",
       "    <tr>\n",
       "      <th>4</th>\n",
       "      <td>SEOUL_BANK_001</td>\n",
       "      <td>PG02</td>\n",
       "      <td>PRODUCT0010</td>\n",
       "      <td>ITEM0115</td>\n",
       "      <td>201505</td>\n",
       "      <td>2015</td>\n",
       "      <td>5</td>\n",
       "      <td>1773</td>\n",
       "      <td>N</td>\n",
       "      <td>4</td>\n",
       "      <td>Y</td>\n",
       "      <td>0.208155</td>\n",
       "      <td>0</td>\n",
       "      <td>1</td>\n",
       "    </tr>\n",
       "  </tbody>\n",
       "</table>\n",
       "</div>"
      ],
      "text/plain": [
       "         REGIONID PRODUCTGROUP      PRODUCT      ITEM  YEARWEEK  YEAR  WEEK  \\\n",
       "0  SEOUL_BANK_001         PG02  PRODUCT0010  ITEM0115    201501  2015     1   \n",
       "1  SEOUL_BANK_001         PG02  PRODUCT0010  ITEM0115    201502  2015     2   \n",
       "2  SEOUL_BANK_001         PG02  PRODUCT0010  ITEM0115    201503  2015     3   \n",
       "3  SEOUL_BANK_001         PG02  PRODUCT0010  ITEM0115    201504  2015     4   \n",
       "4  SEOUL_BANK_001         PG02  PRODUCT0010  ITEM0115    201505  2015     5   \n",
       "\n",
       "    QTY HOLIDAY  HCLUS PROMOTION  PRO_PERCENT  HO_YN  PRO_YN  \n",
       "0  1225       Y      1         Y     0.209442      1       1  \n",
       "1   968       N      4         Y     0.209442      0       1  \n",
       "2  1209       N      4         Y     0.208155      0       1  \n",
       "3  1810       Y      2         Y     0.208155      1       1  \n",
       "4  1773       N      4         Y     0.208155      0       1  "
      ]
     },
     "execution_count": 9,
     "metadata": {},
     "output_type": "execute_result"
    }
   ],
   "source": [
    "targetData.head()"
   ]
  },
  {
   "cell_type": "code",
   "execution_count": 10,
   "id": "ce71b49b-8332-4819-8646-9c89d5875e46",
   "metadata": {},
   "outputs": [],
   "source": [
    "corrData = targetData.corr()"
   ]
  },
  {
   "cell_type": "code",
   "execution_count": 11,
   "id": "99fa42c1-9873-4801-995b-1da5ec6d8fc3",
   "metadata": {},
   "outputs": [
    {
     "data": {
      "text/html": [
       "<div>\n",
       "<style scoped>\n",
       "    .dataframe tbody tr th:only-of-type {\n",
       "        vertical-align: middle;\n",
       "    }\n",
       "\n",
       "    .dataframe tbody tr th {\n",
       "        vertical-align: top;\n",
       "    }\n",
       "\n",
       "    .dataframe thead th {\n",
       "        text-align: right;\n",
       "    }\n",
       "</style>\n",
       "<table border=\"1\" class=\"dataframe\">\n",
       "  <thead>\n",
       "    <tr style=\"text-align: right;\">\n",
       "      <th></th>\n",
       "      <th>YEARWEEK</th>\n",
       "      <th>YEAR</th>\n",
       "      <th>WEEK</th>\n",
       "      <th>QTY</th>\n",
       "      <th>HCLUS</th>\n",
       "      <th>PRO_PERCENT</th>\n",
       "      <th>HO_YN</th>\n",
       "      <th>PRO_YN</th>\n",
       "    </tr>\n",
       "  </thead>\n",
       "  <tbody>\n",
       "    <tr>\n",
       "      <th>YEARWEEK</th>\n",
       "      <td>1.000000</td>\n",
       "      <td>0.956598</td>\n",
       "      <td>0.275593</td>\n",
       "      <td>0.112267</td>\n",
       "      <td>-0.071586</td>\n",
       "      <td>0.404889</td>\n",
       "      <td>0.049867</td>\n",
       "      <td>0.205916</td>\n",
       "    </tr>\n",
       "    <tr>\n",
       "      <th>YEAR</th>\n",
       "      <td>0.956598</td>\n",
       "      <td>1.000000</td>\n",
       "      <td>-0.016493</td>\n",
       "      <td>0.028931</td>\n",
       "      <td>0.028593</td>\n",
       "      <td>0.321193</td>\n",
       "      <td>-0.031106</td>\n",
       "      <td>0.195931</td>\n",
       "    </tr>\n",
       "    <tr>\n",
       "      <th>WEEK</th>\n",
       "      <td>0.275593</td>\n",
       "      <td>-0.016493</td>\n",
       "      <td>1.000000</td>\n",
       "      <td>0.289766</td>\n",
       "      <td>-0.339943</td>\n",
       "      <td>0.329705</td>\n",
       "      <td>0.273710</td>\n",
       "      <td>0.060206</td>\n",
       "    </tr>\n",
       "    <tr>\n",
       "      <th>QTY</th>\n",
       "      <td>0.112267</td>\n",
       "      <td>0.028931</td>\n",
       "      <td>0.289766</td>\n",
       "      <td>1.000000</td>\n",
       "      <td>-0.537230</td>\n",
       "      <td>0.700195</td>\n",
       "      <td>0.505932</td>\n",
       "      <td>0.612451</td>\n",
       "    </tr>\n",
       "    <tr>\n",
       "      <th>HCLUS</th>\n",
       "      <td>-0.071586</td>\n",
       "      <td>0.028593</td>\n",
       "      <td>-0.339943</td>\n",
       "      <td>-0.537230</td>\n",
       "      <td>1.000000</td>\n",
       "      <td>-0.545619</td>\n",
       "      <td>-0.974601</td>\n",
       "      <td>-0.374072</td>\n",
       "    </tr>\n",
       "    <tr>\n",
       "      <th>PRO_PERCENT</th>\n",
       "      <td>0.404889</td>\n",
       "      <td>0.321193</td>\n",
       "      <td>0.329705</td>\n",
       "      <td>0.700195</td>\n",
       "      <td>-0.545619</td>\n",
       "      <td>1.000000</td>\n",
       "      <td>0.487062</td>\n",
       "      <td>0.898554</td>\n",
       "    </tr>\n",
       "    <tr>\n",
       "      <th>HO_YN</th>\n",
       "      <td>0.049867</td>\n",
       "      <td>-0.031106</td>\n",
       "      <td>0.273710</td>\n",
       "      <td>0.505932</td>\n",
       "      <td>-0.974601</td>\n",
       "      <td>0.487062</td>\n",
       "      <td>1.000000</td>\n",
       "      <td>0.365148</td>\n",
       "    </tr>\n",
       "    <tr>\n",
       "      <th>PRO_YN</th>\n",
       "      <td>0.205916</td>\n",
       "      <td>0.195931</td>\n",
       "      <td>0.060206</td>\n",
       "      <td>0.612451</td>\n",
       "      <td>-0.374072</td>\n",
       "      <td>0.898554</td>\n",
       "      <td>0.365148</td>\n",
       "      <td>1.000000</td>\n",
       "    </tr>\n",
       "  </tbody>\n",
       "</table>\n",
       "</div>"
      ],
      "text/plain": [
       "             YEARWEEK      YEAR      WEEK       QTY     HCLUS  PRO_PERCENT  \\\n",
       "YEARWEEK     1.000000  0.956598  0.275593  0.112267 -0.071586     0.404889   \n",
       "YEAR         0.956598  1.000000 -0.016493  0.028931  0.028593     0.321193   \n",
       "WEEK         0.275593 -0.016493  1.000000  0.289766 -0.339943     0.329705   \n",
       "QTY          0.112267  0.028931  0.289766  1.000000 -0.537230     0.700195   \n",
       "HCLUS       -0.071586  0.028593 -0.339943 -0.537230  1.000000    -0.545619   \n",
       "PRO_PERCENT  0.404889  0.321193  0.329705  0.700195 -0.545619     1.000000   \n",
       "HO_YN        0.049867 -0.031106  0.273710  0.505932 -0.974601     0.487062   \n",
       "PRO_YN       0.205916  0.195931  0.060206  0.612451 -0.374072     0.898554   \n",
       "\n",
       "                HO_YN    PRO_YN  \n",
       "YEARWEEK     0.049867  0.205916  \n",
       "YEAR        -0.031106  0.195931  \n",
       "WEEK         0.273710  0.060206  \n",
       "QTY          0.505932  0.612451  \n",
       "HCLUS       -0.974601 -0.374072  \n",
       "PRO_PERCENT  0.487062  0.898554  \n",
       "HO_YN        1.000000  0.365148  \n",
       "PRO_YN       0.365148  1.000000  "
      ]
     },
     "execution_count": 11,
     "metadata": {},
     "output_type": "execute_result"
    }
   ],
   "source": [
    "corrData"
   ]
  },
  {
   "cell_type": "code",
   "execution_count": 12,
   "id": "cfe0d796-202d-411c-9deb-445c4dce8b8f",
   "metadata": {},
   "outputs": [],
   "source": [
    "targetCorr = 0.5"
   ]
  },
  {
   "cell_type": "code",
   "execution_count": 13,
   "id": "62acf837-39cf-493d-bed8-2498fa8c6636",
   "metadata": {},
   "outputs": [],
   "source": [
    "features = list(corrData[((abs(corrData.QTY) >= targetCorr) &\\\n",
    "                          (abs(corrData.QTY) != 1))].index)"
   ]
  },
  {
   "cell_type": "code",
   "execution_count": 14,
   "id": "5b2a677a-06a4-41d2-a34e-1e72a9024d4f",
   "metadata": {},
   "outputs": [
    {
     "data": {
      "text/plain": [
       "['HCLUS', 'PRO_PERCENT', 'HO_YN', 'PRO_YN']"
      ]
     },
     "execution_count": 14,
     "metadata": {},
     "output_type": "execute_result"
    }
   ],
   "source": [
    "features"
   ]
  },
  {
   "cell_type": "code",
   "execution_count": 15,
   "id": "b4d73700-1dd6-4269-9ffd-94f3ba1d0bf5",
   "metadata": {},
   "outputs": [],
   "source": [
    "featuresData = targetData[features]"
   ]
  },
  {
   "cell_type": "code",
   "execution_count": 16,
   "id": "204df507-414e-4793-ad1a-487ec9f7901c",
   "metadata": {},
   "outputs": [],
   "source": [
    "label = [\"QTY\"]"
   ]
  },
  {
   "cell_type": "code",
   "execution_count": 17,
   "id": "88218989-24d8-4feb-85a2-1d4bc757fc61",
   "metadata": {},
   "outputs": [],
   "source": [
    "labelData = targetData[label]"
   ]
  },
  {
   "cell_type": "code",
   "execution_count": 18,
   "id": "bb6b68f9-8ab9-4977-a08a-94d8ced6fe85",
   "metadata": {},
   "outputs": [],
   "source": [
    "targetIndexRatio = 0.7"
   ]
  },
  {
   "cell_type": "code",
   "execution_count": 20,
   "id": "8305678f-1059-489d-b3a2-00a94f4fc853",
   "metadata": {},
   "outputs": [],
   "source": [
    "targetIndex = int(targetData.shape[0] * targetIndexRatio)"
   ]
  },
  {
   "cell_type": "code",
   "execution_count": 21,
   "id": "fd85d9f4-c4ac-4c12-aa65-85dd49c1cadf",
   "metadata": {},
   "outputs": [
    {
     "data": {
      "text/plain": [
       "73"
      ]
     },
     "execution_count": 21,
     "metadata": {},
     "output_type": "execute_result"
    }
   ],
   "source": [
    "targetIndex"
   ]
  },
  {
   "cell_type": "code",
   "execution_count": 22,
   "id": "1b73707b-a1b2-4a11-9cb8-0589040ed368",
   "metadata": {},
   "outputs": [],
   "source": [
    "trainingFeatures = featuresData[:targetIndex]\n",
    "trainingLabel = labelData[:targetIndex]\n",
    "testFeatures = featuresData[targetIndex:]\n",
    "testLabel = labelData[targetIndex:]"
   ]
  },
  {
   "cell_type": "code",
   "execution_count": 23,
   "id": "e3975186-fed7-4f66-b3f2-2d71c41c0eda",
   "metadata": {},
   "outputs": [],
   "source": [
    "model_method = tree.DecisionTreeRegressor()"
   ]
  },
  {
   "cell_type": "code",
   "execution_count": 24,
   "id": "19f8be59-6e35-4503-9e73-c8e606690988",
   "metadata": {},
   "outputs": [],
   "source": [
    "model = model_method.fit(trainingFeatures, trainingLabel)"
   ]
  },
  {
   "cell_type": "code",
   "execution_count": 25,
   "id": "caeb8494-795c-423f-9b79-3e79cfa635df",
   "metadata": {},
   "outputs": [],
   "source": [
    "predict = model.predict(testFeatures)"
   ]
  },
  {
   "cell_type": "code",
   "execution_count": 26,
   "id": "7f2c7bbc-d5f0-4d5c-a588-834c47c324e7",
   "metadata": {},
   "outputs": [],
   "source": [
    "predictData = pd.DataFrame(predict, columns = {\"predict\"})"
   ]
  },
  {
   "cell_type": "code",
   "execution_count": 28,
   "id": "0b04b9d5-35fe-4129-a4b6-ab23d3380b89",
   "metadata": {},
   "outputs": [
    {
     "data": {
      "text/plain": [
       "(32, 1)"
      ]
     },
     "execution_count": 28,
     "metadata": {},
     "output_type": "execute_result"
    }
   ],
   "source": [
    "predictData.shape"
   ]
  },
  {
   "cell_type": "code",
   "execution_count": 29,
   "id": "e7622c94-662a-40e7-8eaa-f69737bda60a",
   "metadata": {},
   "outputs": [
    {
     "data": {
      "text/plain": [
       "(32, 1)"
      ]
     },
     "execution_count": 29,
     "metadata": {},
     "output_type": "execute_result"
    }
   ],
   "source": [
    "testLabel.shape"
   ]
  },
  {
   "cell_type": "code",
   "execution_count": 32,
   "id": "837aa21c-98f8-438a-98f4-f415ff7b09f1",
   "metadata": {},
   "outputs": [],
   "source": [
    "testLabel = testLabel.reset_index(drop=True, inplace=False)"
   ]
  },
  {
   "cell_type": "code",
   "execution_count": 33,
   "id": "e57445e0-174f-4028-a81d-aff6b3ca640e",
   "metadata": {},
   "outputs": [],
   "source": [
    "testLabel[\"DT_PREDICT\"] = predictData"
   ]
  },
  {
   "cell_type": "code",
   "execution_count": 35,
   "id": "49c868a6-a333-4fd5-909e-d5a82099b4d6",
   "metadata": {},
   "outputs": [],
   "source": [
    "finalValue = testLabel"
   ]
  },
  {
   "cell_type": "code",
   "execution_count": 36,
   "id": "6922f2f4-3196-402c-aefa-05098b6543b0",
   "metadata": {
    "collapsed": true,
    "jupyter": {
     "outputs_hidden": true
    },
    "tags": []
   },
   "outputs": [
    {
     "data": {
      "text/html": [
       "<div>\n",
       "<style scoped>\n",
       "    .dataframe tbody tr th:only-of-type {\n",
       "        vertical-align: middle;\n",
       "    }\n",
       "\n",
       "    .dataframe tbody tr th {\n",
       "        vertical-align: top;\n",
       "    }\n",
       "\n",
       "    .dataframe thead th {\n",
       "        text-align: right;\n",
       "    }\n",
       "</style>\n",
       "<table border=\"1\" class=\"dataframe\">\n",
       "  <thead>\n",
       "    <tr style=\"text-align: right;\">\n",
       "      <th></th>\n",
       "      <th>QTY</th>\n",
       "      <th>DT_PREDICT</th>\n",
       "    </tr>\n",
       "  </thead>\n",
       "  <tbody>\n",
       "    <tr>\n",
       "      <th>0</th>\n",
       "      <td>2143</td>\n",
       "      <td>2783.6</td>\n",
       "    </tr>\n",
       "    <tr>\n",
       "      <th>1</th>\n",
       "      <td>2282</td>\n",
       "      <td>2783.6</td>\n",
       "    </tr>\n",
       "    <tr>\n",
       "      <th>2</th>\n",
       "      <td>973</td>\n",
       "      <td>2783.6</td>\n",
       "    </tr>\n",
       "    <tr>\n",
       "      <th>3</th>\n",
       "      <td>21</td>\n",
       "      <td>367.2</td>\n",
       "    </tr>\n",
       "    <tr>\n",
       "      <th>4</th>\n",
       "      <td>968</td>\n",
       "      <td>2783.6</td>\n",
       "    </tr>\n",
       "    <tr>\n",
       "      <th>5</th>\n",
       "      <td>1685</td>\n",
       "      <td>2783.6</td>\n",
       "    </tr>\n",
       "    <tr>\n",
       "      <th>6</th>\n",
       "      <td>1586</td>\n",
       "      <td>2783.6</td>\n",
       "    </tr>\n",
       "    <tr>\n",
       "      <th>7</th>\n",
       "      <td>1616</td>\n",
       "      <td>2783.6</td>\n",
       "    </tr>\n",
       "    <tr>\n",
       "      <th>8</th>\n",
       "      <td>1318</td>\n",
       "      <td>2783.6</td>\n",
       "    </tr>\n",
       "    <tr>\n",
       "      <th>9</th>\n",
       "      <td>2240</td>\n",
       "      <td>2783.6</td>\n",
       "    </tr>\n",
       "    <tr>\n",
       "      <th>10</th>\n",
       "      <td>1522</td>\n",
       "      <td>2783.6</td>\n",
       "    </tr>\n",
       "    <tr>\n",
       "      <th>11</th>\n",
       "      <td>2100</td>\n",
       "      <td>2783.6</td>\n",
       "    </tr>\n",
       "    <tr>\n",
       "      <th>12</th>\n",
       "      <td>43</td>\n",
       "      <td>367.2</td>\n",
       "    </tr>\n",
       "    <tr>\n",
       "      <th>13</th>\n",
       "      <td>1700</td>\n",
       "      <td>2783.6</td>\n",
       "    </tr>\n",
       "    <tr>\n",
       "      <th>14</th>\n",
       "      <td>1514</td>\n",
       "      <td>2783.6</td>\n",
       "    </tr>\n",
       "    <tr>\n",
       "      <th>15</th>\n",
       "      <td>1501</td>\n",
       "      <td>2783.6</td>\n",
       "    </tr>\n",
       "    <tr>\n",
       "      <th>16</th>\n",
       "      <td>1491</td>\n",
       "      <td>2783.6</td>\n",
       "    </tr>\n",
       "    <tr>\n",
       "      <th>17</th>\n",
       "      <td>806</td>\n",
       "      <td>2783.6</td>\n",
       "    </tr>\n",
       "    <tr>\n",
       "      <th>18</th>\n",
       "      <td>2111</td>\n",
       "      <td>2783.6</td>\n",
       "    </tr>\n",
       "    <tr>\n",
       "      <th>19</th>\n",
       "      <td>2400</td>\n",
       "      <td>2783.6</td>\n",
       "    </tr>\n",
       "    <tr>\n",
       "      <th>20</th>\n",
       "      <td>2010</td>\n",
       "      <td>2783.6</td>\n",
       "    </tr>\n",
       "    <tr>\n",
       "      <th>21</th>\n",
       "      <td>1900</td>\n",
       "      <td>2783.6</td>\n",
       "    </tr>\n",
       "    <tr>\n",
       "      <th>22</th>\n",
       "      <td>141</td>\n",
       "      <td>367.2</td>\n",
       "    </tr>\n",
       "    <tr>\n",
       "      <th>23</th>\n",
       "      <td>1615</td>\n",
       "      <td>2193.8</td>\n",
       "    </tr>\n",
       "    <tr>\n",
       "      <th>24</th>\n",
       "      <td>1574</td>\n",
       "      <td>2193.8</td>\n",
       "    </tr>\n",
       "    <tr>\n",
       "      <th>25</th>\n",
       "      <td>1800</td>\n",
       "      <td>2193.8</td>\n",
       "    </tr>\n",
       "    <tr>\n",
       "      <th>26</th>\n",
       "      <td>2600</td>\n",
       "      <td>2193.8</td>\n",
       "    </tr>\n",
       "    <tr>\n",
       "      <th>27</th>\n",
       "      <td>2412</td>\n",
       "      <td>2193.8</td>\n",
       "    </tr>\n",
       "    <tr>\n",
       "      <th>28</th>\n",
       "      <td>1955</td>\n",
       "      <td>2783.6</td>\n",
       "    </tr>\n",
       "    <tr>\n",
       "      <th>29</th>\n",
       "      <td>1800</td>\n",
       "      <td>2783.6</td>\n",
       "    </tr>\n",
       "    <tr>\n",
       "      <th>30</th>\n",
       "      <td>1173</td>\n",
       "      <td>2783.6</td>\n",
       "    </tr>\n",
       "    <tr>\n",
       "      <th>31</th>\n",
       "      <td>332</td>\n",
       "      <td>2783.6</td>\n",
       "    </tr>\n",
       "  </tbody>\n",
       "</table>\n",
       "</div>"
      ],
      "text/plain": [
       "     QTY  DT_PREDICT\n",
       "0   2143      2783.6\n",
       "1   2282      2783.6\n",
       "2    973      2783.6\n",
       "3     21       367.2\n",
       "4    968      2783.6\n",
       "5   1685      2783.6\n",
       "6   1586      2783.6\n",
       "7   1616      2783.6\n",
       "8   1318      2783.6\n",
       "9   2240      2783.6\n",
       "10  1522      2783.6\n",
       "11  2100      2783.6\n",
       "12    43       367.2\n",
       "13  1700      2783.6\n",
       "14  1514      2783.6\n",
       "15  1501      2783.6\n",
       "16  1491      2783.6\n",
       "17   806      2783.6\n",
       "18  2111      2783.6\n",
       "19  2400      2783.6\n",
       "20  2010      2783.6\n",
       "21  1900      2783.6\n",
       "22   141       367.2\n",
       "23  1615      2193.8\n",
       "24  1574      2193.8\n",
       "25  1800      2193.8\n",
       "26  2600      2193.8\n",
       "27  2412      2193.8\n",
       "28  1955      2783.6\n",
       "29  1800      2783.6\n",
       "30  1173      2783.6\n",
       "31   332      2783.6"
      ]
     },
     "execution_count": 36,
     "metadata": {},
     "output_type": "execute_result"
    }
   ],
   "source": [
    "finalValue"
   ]
  },
  {
   "cell_type": "code",
   "execution_count": 39,
   "id": "225615ca-f3f6-4d8b-b2e9-3d42c91f1137",
   "metadata": {},
   "outputs": [],
   "source": [
    "analysisData = pd.read_csv(\"../../../Desktop/targetDatas.csv\")"
   ]
  },
  {
   "cell_type": "code",
   "execution_count": 40,
   "id": "1c940ee9-7fb8-404f-9c4d-c615e42ab8bd",
   "metadata": {},
   "outputs": [
    {
     "data": {
      "text/html": [
       "<div>\n",
       "<style scoped>\n",
       "    .dataframe tbody tr th:only-of-type {\n",
       "        vertical-align: middle;\n",
       "    }\n",
       "\n",
       "    .dataframe tbody tr th {\n",
       "        vertical-align: top;\n",
       "    }\n",
       "\n",
       "    .dataframe thead th {\n",
       "        text-align: right;\n",
       "    }\n",
       "</style>\n",
       "<table border=\"1\" class=\"dataframe\">\n",
       "  <thead>\n",
       "    <tr style=\"text-align: right;\">\n",
       "      <th></th>\n",
       "      <th>모델정확도</th>\n",
       "      <th>15:00~</th>\n",
       "      <th>Unnamed: 2</th>\n",
       "      <th>Unnamed: 3</th>\n",
       "      <th>Unnamed: 4</th>\n",
       "    </tr>\n",
       "  </thead>\n",
       "  <tbody>\n",
       "    <tr>\n",
       "      <th>0</th>\n",
       "      <td>모델</td>\n",
       "      <td>ITEM</td>\n",
       "      <td>연주차정보</td>\n",
       "      <td>정답지</td>\n",
       "      <td>예측값</td>\n",
       "    </tr>\n",
       "    <tr>\n",
       "      <th>1</th>\n",
       "      <td>A</td>\n",
       "      <td>A정석카드</td>\n",
       "      <td>202310</td>\n",
       "      <td>100</td>\n",
       "      <td>50</td>\n",
       "    </tr>\n",
       "    <tr>\n",
       "      <th>2</th>\n",
       "      <td>A</td>\n",
       "      <td>A정석카드</td>\n",
       "      <td>202311</td>\n",
       "      <td>100</td>\n",
       "      <td>50</td>\n",
       "    </tr>\n",
       "    <tr>\n",
       "      <th>3</th>\n",
       "      <td>A</td>\n",
       "      <td>A정석카드</td>\n",
       "      <td>202312</td>\n",
       "      <td>100</td>\n",
       "      <td>50</td>\n",
       "    </tr>\n",
       "    <tr>\n",
       "      <th>4</th>\n",
       "      <td>A</td>\n",
       "      <td>A정석카드</td>\n",
       "      <td>202313</td>\n",
       "      <td>100</td>\n",
       "      <td>50</td>\n",
       "    </tr>\n",
       "    <tr>\n",
       "      <th>5</th>\n",
       "      <td>A</td>\n",
       "      <td>A정석카드</td>\n",
       "      <td>202314</td>\n",
       "      <td>100</td>\n",
       "      <td>50</td>\n",
       "    </tr>\n",
       "    <tr>\n",
       "      <th>6</th>\n",
       "      <td>B</td>\n",
       "      <td>A정석카드</td>\n",
       "      <td>202310</td>\n",
       "      <td>100</td>\n",
       "      <td>100</td>\n",
       "    </tr>\n",
       "    <tr>\n",
       "      <th>7</th>\n",
       "      <td>B</td>\n",
       "      <td>A정석카드</td>\n",
       "      <td>202311</td>\n",
       "      <td>100</td>\n",
       "      <td>100</td>\n",
       "    </tr>\n",
       "    <tr>\n",
       "      <th>8</th>\n",
       "      <td>B</td>\n",
       "      <td>A정석카드</td>\n",
       "      <td>202312</td>\n",
       "      <td>100</td>\n",
       "      <td>100</td>\n",
       "    </tr>\n",
       "    <tr>\n",
       "      <th>9</th>\n",
       "      <td>B</td>\n",
       "      <td>A정석카드</td>\n",
       "      <td>202313</td>\n",
       "      <td>100</td>\n",
       "      <td>100</td>\n",
       "    </tr>\n",
       "    <tr>\n",
       "      <th>10</th>\n",
       "      <td>B</td>\n",
       "      <td>A정석카드</td>\n",
       "      <td>202314</td>\n",
       "      <td>100</td>\n",
       "      <td>350</td>\n",
       "    </tr>\n",
       "  </tbody>\n",
       "</table>\n",
       "</div>"
      ],
      "text/plain": [
       "   모델정확도 15:00~ Unnamed: 2 Unnamed: 3 Unnamed: 4\n",
       "0     모델   ITEM      연주차정보        정답지        예측값\n",
       "1      A  A정석카드     202310        100         50\n",
       "2      A  A정석카드     202311        100         50\n",
       "3      A  A정석카드     202312        100         50\n",
       "4      A  A정석카드     202313        100         50\n",
       "5      A  A정석카드     202314        100         50\n",
       "6      B  A정석카드     202310        100        100\n",
       "7      B  A정석카드     202311        100        100\n",
       "8      B  A정석카드     202312        100        100\n",
       "9      B  A정석카드     202313        100        100\n",
       "10     B  A정석카드     202314        100        350"
      ]
     },
     "execution_count": 40,
     "metadata": {},
     "output_type": "execute_result"
    }
   ],
   "source": [
    "analysisData"
   ]
  },
  {
   "cell_type": "code",
   "execution_count": 42,
   "id": "4c732f60-8323-41d8-8d64-a4511c43836b",
   "metadata": {},
   "outputs": [],
   "source": [
    "model_method2 = tree.DecisionTreeRegressor()"
   ]
  },
  {
   "cell_type": "code",
   "execution_count": 45,
   "id": "262236aa-79fe-421e-83f2-3e35c26761d2",
   "metadata": {},
   "outputs": [],
   "source": [
    "analysisLabel1 = analysisData.iloc[:6]"
   ]
  },
  {
   "cell_type": "code",
   "execution_count": 46,
   "id": "ad9076de-5b93-46f5-a2eb-f4596054d80d",
   "metadata": {},
   "outputs": [
    {
     "data": {
      "text/html": [
       "<div>\n",
       "<style scoped>\n",
       "    .dataframe tbody tr th:only-of-type {\n",
       "        vertical-align: middle;\n",
       "    }\n",
       "\n",
       "    .dataframe tbody tr th {\n",
       "        vertical-align: top;\n",
       "    }\n",
       "\n",
       "    .dataframe thead th {\n",
       "        text-align: right;\n",
       "    }\n",
       "</style>\n",
       "<table border=\"1\" class=\"dataframe\">\n",
       "  <thead>\n",
       "    <tr style=\"text-align: right;\">\n",
       "      <th></th>\n",
       "      <th>모델정확도</th>\n",
       "      <th>15:00~</th>\n",
       "      <th>Unnamed: 2</th>\n",
       "      <th>Unnamed: 3</th>\n",
       "      <th>Unnamed: 4</th>\n",
       "    </tr>\n",
       "  </thead>\n",
       "  <tbody>\n",
       "    <tr>\n",
       "      <th>0</th>\n",
       "      <td>모델</td>\n",
       "      <td>ITEM</td>\n",
       "      <td>연주차정보</td>\n",
       "      <td>정답지</td>\n",
       "      <td>예측값</td>\n",
       "    </tr>\n",
       "    <tr>\n",
       "      <th>1</th>\n",
       "      <td>A</td>\n",
       "      <td>A정석카드</td>\n",
       "      <td>202310</td>\n",
       "      <td>100</td>\n",
       "      <td>50</td>\n",
       "    </tr>\n",
       "    <tr>\n",
       "      <th>2</th>\n",
       "      <td>A</td>\n",
       "      <td>A정석카드</td>\n",
       "      <td>202311</td>\n",
       "      <td>100</td>\n",
       "      <td>50</td>\n",
       "    </tr>\n",
       "    <tr>\n",
       "      <th>3</th>\n",
       "      <td>A</td>\n",
       "      <td>A정석카드</td>\n",
       "      <td>202312</td>\n",
       "      <td>100</td>\n",
       "      <td>50</td>\n",
       "    </tr>\n",
       "    <tr>\n",
       "      <th>4</th>\n",
       "      <td>A</td>\n",
       "      <td>A정석카드</td>\n",
       "      <td>202313</td>\n",
       "      <td>100</td>\n",
       "      <td>50</td>\n",
       "    </tr>\n",
       "    <tr>\n",
       "      <th>5</th>\n",
       "      <td>A</td>\n",
       "      <td>A정석카드</td>\n",
       "      <td>202314</td>\n",
       "      <td>100</td>\n",
       "      <td>50</td>\n",
       "    </tr>\n",
       "  </tbody>\n",
       "</table>\n",
       "</div>"
      ],
      "text/plain": [
       "  모델정확도 15:00~ Unnamed: 2 Unnamed: 3 Unnamed: 4\n",
       "0    모델   ITEM      연주차정보        정답지        예측값\n",
       "1     A  A정석카드     202310        100         50\n",
       "2     A  A정석카드     202311        100         50\n",
       "3     A  A정석카드     202312        100         50\n",
       "4     A  A정석카드     202313        100         50\n",
       "5     A  A정석카드     202314        100         50"
      ]
     },
     "execution_count": 46,
     "metadata": {},
     "output_type": "execute_result"
    }
   ],
   "source": [
    "analysisLabel1"
   ]
  },
  {
   "cell_type": "code",
   "execution_count": 79,
   "id": "3822d9b4-0319-40e4-995c-75c3e4902379",
   "metadata": {},
   "outputs": [],
   "source": [
    "analysis1Features = analysisLabel1[\"Unnamed: 3\"][1:]\n",
    "analysis1Predict = analysisLabel1[\"Unnamed: 4\"][1:]"
   ]
  },
  {
   "cell_type": "code",
   "execution_count": 80,
   "id": "23c8ed96-0158-4e36-9dc3-f946a73b5c54",
   "metadata": {},
   "outputs": [],
   "source": [
    "anal1 = analysis1Features.reset_index(drop=True, inplace = False)\n",
    "pre1 = analysis1Predict.reset_index(drop=True, inplace = False)"
   ]
  },
  {
   "cell_type": "code",
   "execution_count": 69,
   "id": "b5ab2e9e-23ba-4965-8db5-bbfbf79de5b3",
   "metadata": {},
   "outputs": [
    {
     "data": {
      "text/plain": [
       "0    100\n",
       "1    100\n",
       "2    100\n",
       "3    100\n",
       "4    100\n",
       "Name: Unnamed: 3, dtype: object"
      ]
     },
     "execution_count": 69,
     "metadata": {},
     "output_type": "execute_result"
    }
   ],
   "source": [
    "anal1"
   ]
  },
  {
   "cell_type": "code",
   "execution_count": 75,
   "id": "cd2f27e4-4511-4821-a3b3-2ed4c9fa0f84",
   "metadata": {},
   "outputs": [],
   "source": [
    "label1 = pd.DataFrame(anal1)"
   ]
  },
  {
   "cell_type": "code",
   "execution_count": 81,
   "id": "fc67f3a7-794a-44be-8e8e-689c76aea284",
   "metadata": {},
   "outputs": [],
   "source": [
    "predict1 = pd.DataFrame(pre1)"
   ]
  },
  {
   "cell_type": "code",
   "execution_count": 82,
   "id": "a88a388b-0f69-4a45-b6f9-3afbbcbb7852",
   "metadata": {},
   "outputs": [
    {
     "data": {
      "text/html": [
       "<div>\n",
       "<style scoped>\n",
       "    .dataframe tbody tr th:only-of-type {\n",
       "        vertical-align: middle;\n",
       "    }\n",
       "\n",
       "    .dataframe tbody tr th {\n",
       "        vertical-align: top;\n",
       "    }\n",
       "\n",
       "    .dataframe thead th {\n",
       "        text-align: right;\n",
       "    }\n",
       "</style>\n",
       "<table border=\"1\" class=\"dataframe\">\n",
       "  <thead>\n",
       "    <tr style=\"text-align: right;\">\n",
       "      <th></th>\n",
       "      <th>Unnamed: 4</th>\n",
       "    </tr>\n",
       "  </thead>\n",
       "  <tbody>\n",
       "    <tr>\n",
       "      <th>0</th>\n",
       "      <td>50</td>\n",
       "    </tr>\n",
       "    <tr>\n",
       "      <th>1</th>\n",
       "      <td>50</td>\n",
       "    </tr>\n",
       "    <tr>\n",
       "      <th>2</th>\n",
       "      <td>50</td>\n",
       "    </tr>\n",
       "    <tr>\n",
       "      <th>3</th>\n",
       "      <td>50</td>\n",
       "    </tr>\n",
       "    <tr>\n",
       "      <th>4</th>\n",
       "      <td>50</td>\n",
       "    </tr>\n",
       "  </tbody>\n",
       "</table>\n",
       "</div>"
      ],
      "text/plain": [
       "  Unnamed: 4\n",
       "0         50\n",
       "1         50\n",
       "2         50\n",
       "3         50\n",
       "4         50"
      ]
     },
     "execution_count": 82,
     "metadata": {},
     "output_type": "execute_result"
    }
   ],
   "source": [
    "predict1"
   ]
  },
  {
   "cell_type": "code",
   "execution_count": 47,
   "id": "b3e466f4-dcf0-4d3d-ae34-c56b3a31f626",
   "metadata": {},
   "outputs": [],
   "source": [
    "analysisLabel2 = analysisData.iloc[6:]"
   ]
  },
  {
   "cell_type": "code",
   "execution_count": 48,
   "id": "5f36a058-1315-4fd1-a009-5cf4af099b46",
   "metadata": {},
   "outputs": [
    {
     "data": {
      "text/html": [
       "<div>\n",
       "<style scoped>\n",
       "    .dataframe tbody tr th:only-of-type {\n",
       "        vertical-align: middle;\n",
       "    }\n",
       "\n",
       "    .dataframe tbody tr th {\n",
       "        vertical-align: top;\n",
       "    }\n",
       "\n",
       "    .dataframe thead th {\n",
       "        text-align: right;\n",
       "    }\n",
       "</style>\n",
       "<table border=\"1\" class=\"dataframe\">\n",
       "  <thead>\n",
       "    <tr style=\"text-align: right;\">\n",
       "      <th></th>\n",
       "      <th>모델정확도</th>\n",
       "      <th>15:00~</th>\n",
       "      <th>Unnamed: 2</th>\n",
       "      <th>Unnamed: 3</th>\n",
       "      <th>Unnamed: 4</th>\n",
       "    </tr>\n",
       "  </thead>\n",
       "  <tbody>\n",
       "    <tr>\n",
       "      <th>6</th>\n",
       "      <td>B</td>\n",
       "      <td>A정석카드</td>\n",
       "      <td>202310</td>\n",
       "      <td>100</td>\n",
       "      <td>100</td>\n",
       "    </tr>\n",
       "    <tr>\n",
       "      <th>7</th>\n",
       "      <td>B</td>\n",
       "      <td>A정석카드</td>\n",
       "      <td>202311</td>\n",
       "      <td>100</td>\n",
       "      <td>100</td>\n",
       "    </tr>\n",
       "    <tr>\n",
       "      <th>8</th>\n",
       "      <td>B</td>\n",
       "      <td>A정석카드</td>\n",
       "      <td>202312</td>\n",
       "      <td>100</td>\n",
       "      <td>100</td>\n",
       "    </tr>\n",
       "    <tr>\n",
       "      <th>9</th>\n",
       "      <td>B</td>\n",
       "      <td>A정석카드</td>\n",
       "      <td>202313</td>\n",
       "      <td>100</td>\n",
       "      <td>100</td>\n",
       "    </tr>\n",
       "    <tr>\n",
       "      <th>10</th>\n",
       "      <td>B</td>\n",
       "      <td>A정석카드</td>\n",
       "      <td>202314</td>\n",
       "      <td>100</td>\n",
       "      <td>350</td>\n",
       "    </tr>\n",
       "  </tbody>\n",
       "</table>\n",
       "</div>"
      ],
      "text/plain": [
       "   모델정확도 15:00~ Unnamed: 2 Unnamed: 3 Unnamed: 4\n",
       "6      B  A정석카드     202310        100        100\n",
       "7      B  A정석카드     202311        100        100\n",
       "8      B  A정석카드     202312        100        100\n",
       "9      B  A정석카드     202313        100        100\n",
       "10     B  A정석카드     202314        100        350"
      ]
     },
     "execution_count": 48,
     "metadata": {},
     "output_type": "execute_result"
    }
   ],
   "source": [
    "analysisLabel2"
   ]
  },
  {
   "cell_type": "code",
   "execution_count": 83,
   "id": "a5f6f090-0b7b-4e01-b0ef-1c02ee27c42e",
   "metadata": {},
   "outputs": [],
   "source": [
    "anal2 = analysisLabel2[\"Unnamed: 3\"][:].reset_index(drop=True, inplace=False)\n",
    "pre2 = analysisLabel2[\"Unnamed: 4\"][:].reset_index(drop=True, inplace=False)"
   ]
  },
  {
   "cell_type": "code",
   "execution_count": 73,
   "id": "14ba6cf7-055c-4485-94d3-903d7b80def5",
   "metadata": {},
   "outputs": [
    {
     "data": {
      "text/plain": [
       "0    100\n",
       "1    100\n",
       "2    100\n",
       "3    100\n",
       "4    100\n",
       "Name: Unnamed: 3, dtype: object"
      ]
     },
     "execution_count": 73,
     "metadata": {},
     "output_type": "execute_result"
    }
   ],
   "source": [
    "anal2"
   ]
  },
  {
   "cell_type": "code",
   "execution_count": 77,
   "id": "baf3786d-da98-434e-b652-45f0ec4b8a6b",
   "metadata": {},
   "outputs": [],
   "source": [
    "label2 = pd.DataFrame(anal2)"
   ]
  },
  {
   "cell_type": "code",
   "execution_count": 78,
   "id": "dcbb7772-3338-48a9-a7ef-fbe68f2457fd",
   "metadata": {},
   "outputs": [
    {
     "data": {
      "text/html": [
       "<div>\n",
       "<style scoped>\n",
       "    .dataframe tbody tr th:only-of-type {\n",
       "        vertical-align: middle;\n",
       "    }\n",
       "\n",
       "    .dataframe tbody tr th {\n",
       "        vertical-align: top;\n",
       "    }\n",
       "\n",
       "    .dataframe thead th {\n",
       "        text-align: right;\n",
       "    }\n",
       "</style>\n",
       "<table border=\"1\" class=\"dataframe\">\n",
       "  <thead>\n",
       "    <tr style=\"text-align: right;\">\n",
       "      <th></th>\n",
       "      <th>Unnamed: 3</th>\n",
       "    </tr>\n",
       "  </thead>\n",
       "  <tbody>\n",
       "    <tr>\n",
       "      <th>0</th>\n",
       "      <td>100</td>\n",
       "    </tr>\n",
       "    <tr>\n",
       "      <th>1</th>\n",
       "      <td>100</td>\n",
       "    </tr>\n",
       "    <tr>\n",
       "      <th>2</th>\n",
       "      <td>100</td>\n",
       "    </tr>\n",
       "    <tr>\n",
       "      <th>3</th>\n",
       "      <td>100</td>\n",
       "    </tr>\n",
       "    <tr>\n",
       "      <th>4</th>\n",
       "      <td>100</td>\n",
       "    </tr>\n",
       "  </tbody>\n",
       "</table>\n",
       "</div>"
      ],
      "text/plain": [
       "  Unnamed: 3\n",
       "0        100\n",
       "1        100\n",
       "2        100\n",
       "3        100\n",
       "4        100"
      ]
     },
     "execution_count": 78,
     "metadata": {},
     "output_type": "execute_result"
    }
   ],
   "source": [
    "label2"
   ]
  },
  {
   "cell_type": "code",
   "execution_count": 85,
   "id": "13fca955-cd60-4f41-9915-8ddffbab81d7",
   "metadata": {},
   "outputs": [],
   "source": [
    "predict2 = pd.DataFrame(pre2)"
   ]
  },
  {
   "cell_type": "code",
   "execution_count": 86,
   "id": "a40f9447-cfcd-4152-a54e-862b5354d455",
   "metadata": {},
   "outputs": [
    {
     "data": {
      "text/html": [
       "<div>\n",
       "<style scoped>\n",
       "    .dataframe tbody tr th:only-of-type {\n",
       "        vertical-align: middle;\n",
       "    }\n",
       "\n",
       "    .dataframe tbody tr th {\n",
       "        vertical-align: top;\n",
       "    }\n",
       "\n",
       "    .dataframe thead th {\n",
       "        text-align: right;\n",
       "    }\n",
       "</style>\n",
       "<table border=\"1\" class=\"dataframe\">\n",
       "  <thead>\n",
       "    <tr style=\"text-align: right;\">\n",
       "      <th></th>\n",
       "      <th>Unnamed: 4</th>\n",
       "    </tr>\n",
       "  </thead>\n",
       "  <tbody>\n",
       "    <tr>\n",
       "      <th>0</th>\n",
       "      <td>100</td>\n",
       "    </tr>\n",
       "    <tr>\n",
       "      <th>1</th>\n",
       "      <td>100</td>\n",
       "    </tr>\n",
       "    <tr>\n",
       "      <th>2</th>\n",
       "      <td>100</td>\n",
       "    </tr>\n",
       "    <tr>\n",
       "      <th>3</th>\n",
       "      <td>100</td>\n",
       "    </tr>\n",
       "    <tr>\n",
       "      <th>4</th>\n",
       "      <td>350</td>\n",
       "    </tr>\n",
       "  </tbody>\n",
       "</table>\n",
       "</div>"
      ],
      "text/plain": [
       "  Unnamed: 4\n",
       "0        100\n",
       "1        100\n",
       "2        100\n",
       "3        100\n",
       "4        350"
      ]
     },
     "execution_count": 86,
     "metadata": {},
     "output_type": "execute_result"
    }
   ],
   "source": [
    "predict2"
   ]
  },
  {
   "cell_type": "code",
   "execution_count": 87,
   "id": "ff25d6f2-8a4d-4101-b8f3-555d64719fe1",
   "metadata": {},
   "outputs": [
    {
     "data": {
      "text/plain": [
       "50.0"
      ]
     },
     "execution_count": 87,
     "metadata": {},
     "output_type": "execute_result"
    }
   ],
   "source": [
    "mean_absolute_error(label1, predict1)"
   ]
  },
  {
   "cell_type": "code",
   "execution_count": 88,
   "id": "0c560e18-406b-405a-a7d6-a92c7220daaa",
   "metadata": {},
   "outputs": [
    {
     "data": {
      "text/plain": [
       "50.0"
      ]
     },
     "execution_count": 88,
     "metadata": {},
     "output_type": "execute_result"
    }
   ],
   "source": [
    "mean_absolute_error(label2, predict2)"
   ]
  },
  {
   "cell_type": "code",
   "execution_count": 89,
   "id": "f877a2e0-dd20-4a34-869c-b2a1d41797d0",
   "metadata": {},
   "outputs": [
    {
     "data": {
      "text/plain": [
       "2500.0"
      ]
     },
     "execution_count": 89,
     "metadata": {},
     "output_type": "execute_result"
    }
   ],
   "source": [
    "mean_squared_error(label1, predict1)"
   ]
  },
  {
   "cell_type": "code",
   "execution_count": 90,
   "id": "4c076e6a-41e7-4a71-a409-4f54fcf38d38",
   "metadata": {},
   "outputs": [
    {
     "data": {
      "text/plain": [
       "12500.0"
      ]
     },
     "execution_count": 90,
     "metadata": {},
     "output_type": "execute_result"
    }
   ],
   "source": [
    "mean_squared_error(label2, predict2)"
   ]
  },
  {
   "cell_type": "code",
   "execution_count": 91,
   "id": "d50c25bf-7da8-4764-90b6-5a7a95dddb60",
   "metadata": {},
   "outputs": [],
   "source": [
    "from sklearn.metrics import mean_absolute_error\n",
    "from sklearn.metrics import mean_squared_error"
   ]
  },
  {
   "cell_type": "code",
   "execution_count": 95,
   "id": "08d9e1bf-8a08-4ec4-b9e0-742cfec57425",
   "metadata": {},
   "outputs": [
    {
     "data": {
      "text/plain": [
       "962.30625"
      ]
     },
     "execution_count": 95,
     "metadata": {},
     "output_type": "execute_result"
    }
   ],
   "source": [
    "mean_absolute_error(y_true=finalValue[\"QTY\"], \\\n",
    "                    y_pred=finalValue[\"DT_PREDICT\"])"
   ]
  },
  {
   "cell_type": "code",
   "execution_count": 97,
   "id": "eb26f03d-88cb-478b-aa14-7e22ee10542c",
   "metadata": {},
   "outputs": [
    {
     "data": {
      "text/plain": [
       "1109.0047334209173"
      ]
     },
     "execution_count": 97,
     "metadata": {},
     "output_type": "execute_result"
    }
   ],
   "source": [
    "np.sqrt(mean_squared_error(y_true=finalValue[\"QTY\"], \\\n",
    "                           y_pred=finalValue[\"DT_PREDICT\"]))"
   ]
  },
  {
   "cell_type": "code",
   "execution_count": null,
   "id": "fba0c2cf-cdf7-4dfa-8a4e-86f14c248ccb",
   "metadata": {},
   "outputs": [],
   "source": [
    "# 2배 이상 차이가 없다면 그냥저냥 괜찮은 모델"
   ]
  },
  {
   "cell_type": "code",
   "execution_count": 98,
   "id": "6254ef6f-d4b5-44eb-8dd8-84439a68f3b1",
   "metadata": {},
   "outputs": [],
   "source": [
    "from sklearn.metrics import mean_absolute_percentage_error"
   ]
  },
  {
   "cell_type": "code",
   "execution_count": 101,
   "id": "5fd29232-c086-4a46-b43b-42021ebdaf9c",
   "metadata": {},
   "outputs": [],
   "source": [
    "MAPE = mean_absolute_percentage_error(y_true=finalValue[\"QTY\"], \\\n",
    "                                      y_pred=finalValue[\"DT_PREDICT\"])"
   ]
  },
  {
   "cell_type": "code",
   "execution_count": 103,
   "id": "3c075ee0-c6a7-43b9-948c-fe02198329f5",
   "metadata": {},
   "outputs": [
    {
     "data": {
      "text/plain": [
       "0.6390040465654874"
      ]
     },
     "execution_count": 103,
     "metadata": {},
     "output_type": "execute_result"
    }
   ],
   "source": [
    "abs(1-MAPE)"
   ]
  },
  {
   "cell_type": "code",
   "execution_count": null,
   "id": "0e9db92e-c915-4c82-9dff-03df2289574b",
   "metadata": {},
   "outputs": [],
   "source": [
    "# 약 63.9%의 모델 예측 능력을 지닌다."
   ]
  },
  {
   "cell_type": "code",
   "execution_count": 104,
   "id": "a08e924b-fc0c-42f2-b064-5bf7f65565ab",
   "metadata": {},
   "outputs": [],
   "source": [
    "finalValue[\"DIFF\"] = abs(finalValue[\"QTY\"]) - abs(finalValue[\"DT_PREDICT\"])"
   ]
  },
  {
   "cell_type": "code",
   "execution_count": 105,
   "id": "47895911-6b1f-434d-8f92-bafde4948ec0",
   "metadata": {
    "tags": []
   },
   "outputs": [
    {
     "data": {
      "text/html": [
       "<div>\n",
       "<style scoped>\n",
       "    .dataframe tbody tr th:only-of-type {\n",
       "        vertical-align: middle;\n",
       "    }\n",
       "\n",
       "    .dataframe tbody tr th {\n",
       "        vertical-align: top;\n",
       "    }\n",
       "\n",
       "    .dataframe thead th {\n",
       "        text-align: right;\n",
       "    }\n",
       "</style>\n",
       "<table border=\"1\" class=\"dataframe\">\n",
       "  <thead>\n",
       "    <tr style=\"text-align: right;\">\n",
       "      <th></th>\n",
       "      <th>QTY</th>\n",
       "      <th>DT_PREDICT</th>\n",
       "      <th>DIFF</th>\n",
       "    </tr>\n",
       "  </thead>\n",
       "  <tbody>\n",
       "    <tr>\n",
       "      <th>0</th>\n",
       "      <td>2143</td>\n",
       "      <td>2783.6</td>\n",
       "      <td>-640.6</td>\n",
       "    </tr>\n",
       "    <tr>\n",
       "      <th>1</th>\n",
       "      <td>2282</td>\n",
       "      <td>2783.6</td>\n",
       "      <td>-501.6</td>\n",
       "    </tr>\n",
       "    <tr>\n",
       "      <th>2</th>\n",
       "      <td>973</td>\n",
       "      <td>2783.6</td>\n",
       "      <td>-1810.6</td>\n",
       "    </tr>\n",
       "    <tr>\n",
       "      <th>3</th>\n",
       "      <td>21</td>\n",
       "      <td>367.2</td>\n",
       "      <td>-346.2</td>\n",
       "    </tr>\n",
       "    <tr>\n",
       "      <th>4</th>\n",
       "      <td>968</td>\n",
       "      <td>2783.6</td>\n",
       "      <td>-1815.6</td>\n",
       "    </tr>\n",
       "    <tr>\n",
       "      <th>5</th>\n",
       "      <td>1685</td>\n",
       "      <td>2783.6</td>\n",
       "      <td>-1098.6</td>\n",
       "    </tr>\n",
       "    <tr>\n",
       "      <th>6</th>\n",
       "      <td>1586</td>\n",
       "      <td>2783.6</td>\n",
       "      <td>-1197.6</td>\n",
       "    </tr>\n",
       "    <tr>\n",
       "      <th>7</th>\n",
       "      <td>1616</td>\n",
       "      <td>2783.6</td>\n",
       "      <td>-1167.6</td>\n",
       "    </tr>\n",
       "    <tr>\n",
       "      <th>8</th>\n",
       "      <td>1318</td>\n",
       "      <td>2783.6</td>\n",
       "      <td>-1465.6</td>\n",
       "    </tr>\n",
       "    <tr>\n",
       "      <th>9</th>\n",
       "      <td>2240</td>\n",
       "      <td>2783.6</td>\n",
       "      <td>-543.6</td>\n",
       "    </tr>\n",
       "    <tr>\n",
       "      <th>10</th>\n",
       "      <td>1522</td>\n",
       "      <td>2783.6</td>\n",
       "      <td>-1261.6</td>\n",
       "    </tr>\n",
       "    <tr>\n",
       "      <th>11</th>\n",
       "      <td>2100</td>\n",
       "      <td>2783.6</td>\n",
       "      <td>-683.6</td>\n",
       "    </tr>\n",
       "    <tr>\n",
       "      <th>12</th>\n",
       "      <td>43</td>\n",
       "      <td>367.2</td>\n",
       "      <td>-324.2</td>\n",
       "    </tr>\n",
       "    <tr>\n",
       "      <th>13</th>\n",
       "      <td>1700</td>\n",
       "      <td>2783.6</td>\n",
       "      <td>-1083.6</td>\n",
       "    </tr>\n",
       "    <tr>\n",
       "      <th>14</th>\n",
       "      <td>1514</td>\n",
       "      <td>2783.6</td>\n",
       "      <td>-1269.6</td>\n",
       "    </tr>\n",
       "    <tr>\n",
       "      <th>15</th>\n",
       "      <td>1501</td>\n",
       "      <td>2783.6</td>\n",
       "      <td>-1282.6</td>\n",
       "    </tr>\n",
       "    <tr>\n",
       "      <th>16</th>\n",
       "      <td>1491</td>\n",
       "      <td>2783.6</td>\n",
       "      <td>-1292.6</td>\n",
       "    </tr>\n",
       "    <tr>\n",
       "      <th>17</th>\n",
       "      <td>806</td>\n",
       "      <td>2783.6</td>\n",
       "      <td>-1977.6</td>\n",
       "    </tr>\n",
       "    <tr>\n",
       "      <th>18</th>\n",
       "      <td>2111</td>\n",
       "      <td>2783.6</td>\n",
       "      <td>-672.6</td>\n",
       "    </tr>\n",
       "    <tr>\n",
       "      <th>19</th>\n",
       "      <td>2400</td>\n",
       "      <td>2783.6</td>\n",
       "      <td>-383.6</td>\n",
       "    </tr>\n",
       "    <tr>\n",
       "      <th>20</th>\n",
       "      <td>2010</td>\n",
       "      <td>2783.6</td>\n",
       "      <td>-773.6</td>\n",
       "    </tr>\n",
       "    <tr>\n",
       "      <th>21</th>\n",
       "      <td>1900</td>\n",
       "      <td>2783.6</td>\n",
       "      <td>-883.6</td>\n",
       "    </tr>\n",
       "    <tr>\n",
       "      <th>22</th>\n",
       "      <td>141</td>\n",
       "      <td>367.2</td>\n",
       "      <td>-226.2</td>\n",
       "    </tr>\n",
       "    <tr>\n",
       "      <th>23</th>\n",
       "      <td>1615</td>\n",
       "      <td>2193.8</td>\n",
       "      <td>-578.8</td>\n",
       "    </tr>\n",
       "    <tr>\n",
       "      <th>24</th>\n",
       "      <td>1574</td>\n",
       "      <td>2193.8</td>\n",
       "      <td>-619.8</td>\n",
       "    </tr>\n",
       "    <tr>\n",
       "      <th>25</th>\n",
       "      <td>1800</td>\n",
       "      <td>2193.8</td>\n",
       "      <td>-393.8</td>\n",
       "    </tr>\n",
       "    <tr>\n",
       "      <th>26</th>\n",
       "      <td>2600</td>\n",
       "      <td>2193.8</td>\n",
       "      <td>406.2</td>\n",
       "    </tr>\n",
       "    <tr>\n",
       "      <th>27</th>\n",
       "      <td>2412</td>\n",
       "      <td>2193.8</td>\n",
       "      <td>218.2</td>\n",
       "    </tr>\n",
       "    <tr>\n",
       "      <th>28</th>\n",
       "      <td>1955</td>\n",
       "      <td>2783.6</td>\n",
       "      <td>-828.6</td>\n",
       "    </tr>\n",
       "    <tr>\n",
       "      <th>29</th>\n",
       "      <td>1800</td>\n",
       "      <td>2783.6</td>\n",
       "      <td>-983.6</td>\n",
       "    </tr>\n",
       "    <tr>\n",
       "      <th>30</th>\n",
       "      <td>1173</td>\n",
       "      <td>2783.6</td>\n",
       "      <td>-1610.6</td>\n",
       "    </tr>\n",
       "    <tr>\n",
       "      <th>31</th>\n",
       "      <td>332</td>\n",
       "      <td>2783.6</td>\n",
       "      <td>-2451.6</td>\n",
       "    </tr>\n",
       "  </tbody>\n",
       "</table>\n",
       "</div>"
      ],
      "text/plain": [
       "     QTY  DT_PREDICT    DIFF\n",
       "0   2143      2783.6  -640.6\n",
       "1   2282      2783.6  -501.6\n",
       "2    973      2783.6 -1810.6\n",
       "3     21       367.2  -346.2\n",
       "4    968      2783.6 -1815.6\n",
       "5   1685      2783.6 -1098.6\n",
       "6   1586      2783.6 -1197.6\n",
       "7   1616      2783.6 -1167.6\n",
       "8   1318      2783.6 -1465.6\n",
       "9   2240      2783.6  -543.6\n",
       "10  1522      2783.6 -1261.6\n",
       "11  2100      2783.6  -683.6\n",
       "12    43       367.2  -324.2\n",
       "13  1700      2783.6 -1083.6\n",
       "14  1514      2783.6 -1269.6\n",
       "15  1501      2783.6 -1282.6\n",
       "16  1491      2783.6 -1292.6\n",
       "17   806      2783.6 -1977.6\n",
       "18  2111      2783.6  -672.6\n",
       "19  2400      2783.6  -383.6\n",
       "20  2010      2783.6  -773.6\n",
       "21  1900      2783.6  -883.6\n",
       "22   141       367.2  -226.2\n",
       "23  1615      2193.8  -578.8\n",
       "24  1574      2193.8  -619.8\n",
       "25  1800      2193.8  -393.8\n",
       "26  2600      2193.8   406.2\n",
       "27  2412      2193.8   218.2\n",
       "28  1955      2783.6  -828.6\n",
       "29  1800      2783.6  -983.6\n",
       "30  1173      2783.6 -1610.6\n",
       "31   332      2783.6 -2451.6"
      ]
     },
     "execution_count": 105,
     "metadata": {},
     "output_type": "execute_result"
    }
   ],
   "source": [
    "finalValue"
   ]
  },
  {
   "cell_type": "code",
   "execution_count": 106,
   "id": "6181fdef-55af-47c4-9cb4-e6f85a0191a5",
   "metadata": {},
   "outputs": [],
   "source": [
    "from sklearn import tree\n",
    "from sklearn import linear_model"
   ]
  },
  {
   "cell_type": "code",
   "execution_count": 107,
   "id": "d8ebc7fb-24d1-4f54-b8fe-8c4640097b67",
   "metadata": {},
   "outputs": [],
   "source": [
    "lrModel = linear_model.LinearRegression()"
   ]
  },
  {
   "cell_type": "code",
   "execution_count": 108,
   "id": "7ed7e2ec-1170-4e41-88d9-2506a56e263a",
   "metadata": {},
   "outputs": [],
   "source": [
    "dtModel = tree.DecisionTreeRegressor(random_state=10)"
   ]
  },
  {
   "cell_type": "code",
   "execution_count": 109,
   "id": "a95b359a-deb9-4090-a452-295242921632",
   "metadata": {},
   "outputs": [
    {
     "data": {
      "text/plain": [
       "['HCLUS', 'PRO_PERCENT', 'HO_YN', 'PRO_YN']"
      ]
     },
     "execution_count": 109,
     "metadata": {},
     "output_type": "execute_result"
    }
   ],
   "source": [
    "features"
   ]
  },
  {
   "cell_type": "code",
   "execution_count": 129,
   "id": "cffcac17-d54f-40eb-8e90-b8024fed1c75",
   "metadata": {},
   "outputs": [],
   "source": [
    "inHculs = 1 # 대휴일\n",
    "inPropercent = 0.4 # 프로모션 비율\n",
    "inPRO_YN = 0 # Y : 1, N : 0\n",
    "inHO_YN = 0 # Y : 1, N : 0\n",
    "\n",
    "simulData = pd.DataFrame([[inHculs, inPropercent, inPRO_YN, inHO_YN]])"
   ]
  },
  {
   "cell_type": "code",
   "execution_count": 130,
   "id": "bb21f06b-8c18-46d3-8702-78035c5fca7c",
   "metadata": {},
   "outputs": [
    {
     "data": {
      "text/html": [
       "<div>\n",
       "<style scoped>\n",
       "    .dataframe tbody tr th:only-of-type {\n",
       "        vertical-align: middle;\n",
       "    }\n",
       "\n",
       "    .dataframe tbody tr th {\n",
       "        vertical-align: top;\n",
       "    }\n",
       "\n",
       "    .dataframe thead th {\n",
       "        text-align: right;\n",
       "    }\n",
       "</style>\n",
       "<table border=\"1\" class=\"dataframe\">\n",
       "  <thead>\n",
       "    <tr style=\"text-align: right;\">\n",
       "      <th></th>\n",
       "      <th>0</th>\n",
       "      <th>1</th>\n",
       "      <th>2</th>\n",
       "      <th>3</th>\n",
       "    </tr>\n",
       "  </thead>\n",
       "  <tbody>\n",
       "    <tr>\n",
       "      <th>0</th>\n",
       "      <td>1</td>\n",
       "      <td>0.4</td>\n",
       "      <td>0</td>\n",
       "      <td>0</td>\n",
       "    </tr>\n",
       "  </tbody>\n",
       "</table>\n",
       "</div>"
      ],
      "text/plain": [
       "   0    1  2  3\n",
       "0  1  0.4  0  0"
      ]
     },
     "execution_count": 130,
     "metadata": {},
     "output_type": "execute_result"
    }
   ],
   "source": [
    "simulData"
   ]
  },
  {
   "cell_type": "code",
   "execution_count": 131,
   "id": "8b6257ee-ff5d-446d-8223-e780edcd412b",
   "metadata": {},
   "outputs": [],
   "source": [
    "dtModels = dtModel.fit(trainingFeatures, trainingLabel)"
   ]
  },
  {
   "cell_type": "code",
   "execution_count": 132,
   "id": "31918248-d17a-418e-96c4-9c76bd19a74a",
   "metadata": {},
   "outputs": [
    {
     "name": "stderr",
     "output_type": "stream",
     "text": [
      "C:\\Users\\SMART16\\anaconda3\\lib\\site-packages\\sklearn\\base.py:450: UserWarning: X does not have valid feature names, but DecisionTreeRegressor was fitted with feature names\n",
      "  warnings.warn(\n"
     ]
    },
    {
     "data": {
      "text/plain": [
       "array([2193.8])"
      ]
     },
     "execution_count": 132,
     "metadata": {},
     "output_type": "execute_result"
    }
   ],
   "source": [
    "dtModels.predict(simulData)"
   ]
  },
  {
   "cell_type": "code",
   "execution_count": 133,
   "id": "7061c6d2-44e5-427a-99b9-ca5d306887eb",
   "metadata": {},
   "outputs": [],
   "source": [
    "from sklearn.tree import plot_tree"
   ]
  },
  {
   "cell_type": "code",
   "execution_count": 134,
   "id": "a73c1c40-3902-44e5-a9be-aeec81ffa7a6",
   "metadata": {},
   "outputs": [
    {
     "data": {
      "text/plain": [
       "[Text(0.6346153846153846, 0.9285714285714286, 'X[1] <= 0.259\\nsquared_error = 687177.89\\nsamples = 73\\nvalue = 1064.973'),\n",
       " Text(0.4230769230769231, 0.7857142857142857, 'X[3] <= 0.5\\nsquared_error = 285050.27\\nsamples = 63\\nvalue = 838.984'),\n",
       " Text(0.23076923076923078, 0.6428571428571429, 'X[0] <= 3.0\\nsquared_error = 73288.876\\nsamples = 22\\nvalue = 349.818'),\n",
       " Text(0.15384615384615385, 0.5, 'X[0] <= 1.5\\nsquared_error = 25921.0\\nsamples = 2\\nvalue = 176.0'),\n",
       " Text(0.07692307692307693, 0.35714285714285715, 'squared_error = 0.0\\nsamples = 1\\nvalue = 337.0'),\n",
       " Text(0.23076923076923078, 0.35714285714285715, 'squared_error = 0.0\\nsamples = 1\\nvalue = 15.0'),\n",
       " Text(0.3076923076923077, 0.5, 'squared_error = 74702.26\\nsamples = 20\\nvalue = 367.2'),\n",
       " Text(0.6153846153846154, 0.6428571428571429, 'X[0] <= 3.0\\nsquared_error = 201387.029\\nsamples = 41\\nvalue = 1101.463'),\n",
       " Text(0.46153846153846156, 0.5, 'X[1] <= 0.224\\nsquared_error = 165625.976\\nsamples = 13\\nvalue = 1398.154'),\n",
       " Text(0.38461538461538464, 0.35714285714285715, 'X[1] <= 0.209\\nsquared_error = 143235.673\\nsamples = 7\\nvalue = 1266.429'),\n",
       " Text(0.23076923076923078, 0.21428571428571427, 'X[0] <= 1.5\\nsquared_error = 176400.0\\nsamples = 2\\nvalue = 1390.0'),\n",
       " Text(0.15384615384615385, 0.07142857142857142, 'squared_error = 0.0\\nsamples = 1\\nvalue = 970.0'),\n",
       " Text(0.3076923076923077, 0.07142857142857142, 'squared_error = 0.0\\nsamples = 1\\nvalue = 1810.0'),\n",
       " Text(0.5384615384615384, 0.21428571428571427, 'X[0] <= 1.5\\nsquared_error = 121418.8\\nsamples = 5\\nvalue = 1217.0'),\n",
       " Text(0.46153846153846156, 0.07142857142857142, 'squared_error = 112390.688\\nsamples = 4\\nvalue = 1305.75'),\n",
       " Text(0.6153846153846154, 0.07142857142857142, 'squared_error = 0.0\\nsamples = 1\\nvalue = 862.0'),\n",
       " Text(0.5384615384615384, 0.35714285714285715, 'squared_error = 147887.139\\nsamples = 6\\nvalue = 1551.833'),\n",
       " Text(0.7692307692307693, 0.5, 'X[1] <= 0.209\\nsquared_error = 158146.704\\nsamples = 28\\nvalue = 963.714'),\n",
       " Text(0.6923076923076923, 0.35714285714285715, 'squared_error = 150418.667\\nsamples = 9\\nvalue = 1009.667'),\n",
       " Text(0.8461538461538461, 0.35714285714285715, 'X[1] <= 0.224\\nsquared_error = 160333.313\\nsamples = 19\\nvalue = 941.947'),\n",
       " Text(0.7692307692307693, 0.21428571428571427, 'squared_error = 134350.583\\nsamples = 12\\nvalue = 900.5'),\n",
       " Text(0.9230769230769231, 0.21428571428571427, 'squared_error = 196881.714\\nsamples = 7\\nvalue = 1013.0'),\n",
       " Text(0.8461538461538461, 0.7857142857142857, 'X[1] <= 0.319\\nsquared_error = 871836.21\\nsamples = 10\\nvalue = 2488.7'),\n",
       " Text(0.7692307692307693, 0.6428571428571429, 'squared_error = 963631.04\\nsamples = 5\\nvalue = 2783.6'),\n",
       " Text(0.9230769230769231, 0.6428571428571429, 'squared_error = 606109.36\\nsamples = 5\\nvalue = 2193.8')]"
      ]
     },
     "execution_count": 134,
     "metadata": {},
     "output_type": "execute_result"
    },
    {
     "data": {
      "image/png": "[encoded data removed]",
      "text/plain": [
       "<Figure size 640x480 with 1 Axes>"
      ]
     },
     "metadata": {},
     "output_type": "display_data"
    }
   ],
   "source": [
    "plot_tree(dtModels)"
   ]
  },
  {
   "cell_type": "markdown",
   "id": "5c3788ef-1513-4e64-9722-0de63af92a22",
   "metadata": {},
   "source": [
    "### 훈련된 모델을 저장할 수 있다. 확장자 : pickle로!"
   ]
  },
  {
   "cell_type": "code",
   "execution_count": null,
   "id": "f07325b0-3c9e-4db7-9fd2-7f3c6673e145",
   "metadata": {},
   "outputs": [],
   "source": [
    "### Groupby + @. "
   ]
  },
  {
   "cell_type": "code",
   "execution_count": null,
   "id": "eb3f6d01-54fd-410d-a7aa-6e3a8fe29301",
   "metadata": {},
   "outputs": [],
   "source": [
    "# Groupby 없는 분석은 존재할 수 없다!"
   ]
  },
  {
   "cell_type": "code",
   "execution_count": 135,
   "id": "b9df101b-c03e-453e-9988-4d4c836c1a6c",
   "metadata": {},
   "outputs": [],
   "source": [
    "# import pandas as pd\n",
    "\n",
    "# data450 = pd.read_csv(\"../dataset/kopo_450data.csv\")\n",
    "\n",
    "# data450.shape\n",
    "\n",
    "# ### 피클 파일 저장하기 (바이너리) ###\n",
    "# with open(\"data450.pickle\",\"wb\") as fw:\n",
    "#     pickle.dump(data450,fw)\n",
    "\n",
    "# ### 피클 파일 불러오기 (바이너리) ###\n",
    "# with open(\"data450.pickle\",\"rb\") as fr:\n",
    "#     data = pickle.load(fr)\n",
    "\n",
    "# data.head(2)"
   ]
  },
  {
   "cell_type": "code",
   "execution_count": 136,
   "id": "e372ef19-92c9-4563-afdc-15e7b64a58a6",
   "metadata": {},
   "outputs": [],
   "source": [
    "import pickle"
   ]
  },
  {
   "cell_type": "code",
   "execution_count": 139,
   "id": "59d2fd7f-e4e0-4262-9bf9-08086062c9bf",
   "metadata": {},
   "outputs": [],
   "source": [
    "with open(\"dtModels.pickle\", \"wb\") as fw:\n",
    "    pickle.dump(dtModels, fw)"
   ]
  },
  {
   "cell_type": "code",
   "execution_count": 138,
   "id": "a4ddb463-5237-44c4-804a-6de4e4684451",
   "metadata": {},
   "outputs": [],
   "source": [
    "with open(\"dtModels.pickle\", \"rb\") as fr:\n",
    "    data = pickle.load(fr)"
   ]
  }
 ],
 "metadata": {
  "kernelspec": {
   "display_name": "Python 3 (ipykernel)",
   "language": "python",
   "name": "python3"
  },
  "language_info": {
   "codemirror_mode": {
    "name": "ipython",
    "version": 3
   },
   "file_extension": ".py",
   "mimetype": "text/x-python",
   "name": "python",
   "nbconvert_exporter": "python",
   "pygments_lexer": "ipython3",
   "version": "3.9.13"
  }
 },
 "nbformat": 4,
 "nbformat_minor": 5
}
