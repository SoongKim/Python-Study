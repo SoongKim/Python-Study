{
 "cells": [
  {
   "cell_type": "code",
   "execution_count": 1,
   "id": "fa830d66-ff63-42f9-947a-baf961a7c8d7",
   "metadata": {},
   "outputs": [],
   "source": [
    "import pandas as pd"
   ]
  },
  {
   "cell_type": "code",
   "execution_count": 2,
   "id": "475c2e02-9c08-4860-b4f5-667496605de2",
   "metadata": {},
   "outputs": [],
   "source": [
    "import pickle"
   ]
  },
  {
   "cell_type": "code",
   "execution_count": 3,
   "id": "6b531058-1b45-4e9b-ae48-044eaafcdb97",
   "metadata": {},
   "outputs": [],
   "source": [
    "with open(\"dtModels.pickle\", \"rb\") as fr:\n",
    "    inModel = pickle.load(fr)"
   ]
  },
  {
   "cell_type": "code",
   "execution_count": 4,
   "id": "23f0e6d2-798c-4288-aa0e-27460c114d73",
   "metadata": {},
   "outputs": [],
   "source": [
    "inHculs = 1 # 대휴일\n",
    "inPropercent = 0.4 # 프로모션 비율\n",
    "inPRO_YN = 0 # Y : 1, N : 0\n",
    "inHO_YN = 0 # Y : 1, N : 0\n",
    "\n",
    "simulData = pd.DataFrame([[inHculs, inPropercent, inPRO_YN, inHO_YN]])"
   ]
  },
  {
   "cell_type": "code",
   "execution_count": 5,
   "id": "4ee04517-c622-4871-a59a-eff54053adbe",
   "metadata": {},
   "outputs": [
    {
     "name": "stderr",
     "output_type": "stream",
     "text": [
      "C:\\Users\\SMART16\\anaconda3\\lib\\site-packages\\sklearn\\base.py:450: UserWarning: X does not have valid feature names, but DecisionTreeRegressor was fitted with feature names\n",
      "  warnings.warn(\n"
     ]
    },
    {
     "data": {
      "text/plain": [
       "array([2193.8])"
      ]
     },
     "execution_count": 5,
     "metadata": {},
     "output_type": "execute_result"
    }
   ],
   "source": [
    "inModel.predict(simulData)"
   ]
  },
  {
   "cell_type": "code",
   "execution_count": 6,
   "id": "d85281f2-9900-4f8a-af08-d5bbdcfda4cd",
   "metadata": {},
   "outputs": [],
   "source": [
    "inHclus = 2\n",
    "inPromotion = 0.3\n",
    "inPromotionYN = 1\n",
    "inHolyYn = 1"
   ]
  },
  {
   "cell_type": "code",
   "execution_count": 7,
   "id": "a3ce8f07-52d4-4448-8d23-eb32c5db0dfb",
   "metadata": {},
   "outputs": [],
   "source": [
    "simulsData = pd.DataFrame([[inHclus, inPromotion, inPromotionYN, inHolyYn]])"
   ]
  },
  {
   "cell_type": "code",
   "execution_count": 8,
   "id": "88670d63-5e1e-4719-b1e1-4db5580ddaef",
   "metadata": {},
   "outputs": [
    {
     "name": "stderr",
     "output_type": "stream",
     "text": [
      "C:\\Users\\SMART16\\anaconda3\\lib\\site-packages\\sklearn\\base.py:450: UserWarning: X does not have valid feature names, but DecisionTreeRegressor was fitted with feature names\n",
      "  warnings.warn(\n"
     ]
    },
    {
     "data": {
      "text/plain": [
       "array([2783.6])"
      ]
     },
     "execution_count": 8,
     "metadata": {},
     "output_type": "execute_result"
    }
   ],
   "source": [
    "inModel.predict(simulsData)"
   ]
  }
 ],
 "metadata": {
  "kernelspec": {
   "display_name": "Python 3 (ipykernel)",
   "language": "python",
   "name": "python3"
  },
  "language_info": {
   "codemirror_mode": {
    "name": "ipython",
    "version": 3
   },
   "file_extension": ".py",
   "mimetype": "text/x-python",
   "name": "python",
   "nbconvert_exporter": "python",
   "pygments_lexer": "ipython3",
   "version": "3.9.13"
  }
 },
 "nbformat": 4,
 "nbformat_minor": 5
}
