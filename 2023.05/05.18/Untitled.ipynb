{
 "cells": [
  {
   "cell_type": "code",
   "execution_count": 1,
   "id": "10bbc41b-c3c6-424d-a281-021d84f739db",
   "metadata": {},
   "outputs": [],
   "source": [
    "import pandas as pd\n",
    "import numpy as np\n",
    "from sklearn import ensemble\n",
    "from sklearn.metrics import mean_squared_error\n",
    "from sklearn.metrics import mean_absolute_error"
   ]
  },
  {
   "cell_type": "code",
   "execution_count": 2,
   "id": "a09011c2-3c6a-4bde-96fc-11d3b2180873",
   "metadata": {},
   "outputs": [],
   "source": [
    "targetData = pd.read_csv(\"../../../stdcode6/dataset/cars.csv\")"
   ]
  },
  {
   "cell_type": "code",
   "execution_count": 6,
   "id": "539da3ab-18b7-4e95-88cd-07872b3acb58",
   "metadata": {},
   "outputs": [
    {
     "data": {
      "text/html": [
       "<div>\n",
       "<style scoped>\n",
       "    .dataframe tbody tr th:only-of-type {\n",
       "        vertical-align: middle;\n",
       "    }\n",
       "\n",
       "    .dataframe tbody tr th {\n",
       "        vertical-align: top;\n",
       "    }\n",
       "\n",
       "    .dataframe thead th {\n",
       "        text-align: right;\n",
       "    }\n",
       "</style>\n",
       "<table border=\"1\" class=\"dataframe\">\n",
       "  <thead>\n",
       "    <tr style=\"text-align: right;\">\n",
       "      <th></th>\n",
       "      <th>age</th>\n",
       "      <th>gender</th>\n",
       "      <th>miles</th>\n",
       "      <th>debt</th>\n",
       "      <th>income</th>\n",
       "      <th>sales</th>\n",
       "    </tr>\n",
       "  </thead>\n",
       "  <tbody>\n",
       "    <tr>\n",
       "      <th>0</th>\n",
       "      <td>28</td>\n",
       "      <td>0</td>\n",
       "      <td>23</td>\n",
       "      <td>0</td>\n",
       "      <td>4099</td>\n",
       "      <td>620</td>\n",
       "    </tr>\n",
       "    <tr>\n",
       "      <th>1</th>\n",
       "      <td>26</td>\n",
       "      <td>0</td>\n",
       "      <td>27</td>\n",
       "      <td>0</td>\n",
       "      <td>2677</td>\n",
       "      <td>1792</td>\n",
       "    </tr>\n",
       "    <tr>\n",
       "      <th>2</th>\n",
       "      <td>30</td>\n",
       "      <td>1</td>\n",
       "      <td>58</td>\n",
       "      <td>41576</td>\n",
       "      <td>6215</td>\n",
       "      <td>27754</td>\n",
       "    </tr>\n",
       "    <tr>\n",
       "      <th>3</th>\n",
       "      <td>26</td>\n",
       "      <td>1</td>\n",
       "      <td>25</td>\n",
       "      <td>43172</td>\n",
       "      <td>7626</td>\n",
       "      <td>28256</td>\n",
       "    </tr>\n",
       "    <tr>\n",
       "      <th>4</th>\n",
       "      <td>20</td>\n",
       "      <td>1</td>\n",
       "      <td>17</td>\n",
       "      <td>6979</td>\n",
       "      <td>8071</td>\n",
       "      <td>4438</td>\n",
       "    </tr>\n",
       "    <tr>\n",
       "      <th>...</th>\n",
       "      <td>...</td>\n",
       "      <td>...</td>\n",
       "      <td>...</td>\n",
       "      <td>...</td>\n",
       "      <td>...</td>\n",
       "      <td>...</td>\n",
       "    </tr>\n",
       "    <tr>\n",
       "      <th>958</th>\n",
       "      <td>22</td>\n",
       "      <td>0</td>\n",
       "      <td>11</td>\n",
       "      <td>8778</td>\n",
       "      <td>9829</td>\n",
       "      <td>1593</td>\n",
       "    </tr>\n",
       "    <tr>\n",
       "      <th>959</th>\n",
       "      <td>19</td>\n",
       "      <td>1</td>\n",
       "      <td>23</td>\n",
       "      <td>4850</td>\n",
       "      <td>3470</td>\n",
       "      <td>4742</td>\n",
       "    </tr>\n",
       "    <tr>\n",
       "      <th>960</th>\n",
       "      <td>28</td>\n",
       "      <td>1</td>\n",
       "      <td>28</td>\n",
       "      <td>9312</td>\n",
       "      <td>2720</td>\n",
       "      <td>12771</td>\n",
       "    </tr>\n",
       "    <tr>\n",
       "      <th>961</th>\n",
       "      <td>50</td>\n",
       "      <td>0</td>\n",
       "      <td>29</td>\n",
       "      <td>51343</td>\n",
       "      <td>8713</td>\n",
       "      <td>28511</td>\n",
       "    </tr>\n",
       "    <tr>\n",
       "      <th>962</th>\n",
       "      <td>47</td>\n",
       "      <td>1</td>\n",
       "      <td>15</td>\n",
       "      <td>3735</td>\n",
       "      <td>6406</td>\n",
       "      <td>6104</td>\n",
       "    </tr>\n",
       "  </tbody>\n",
       "</table>\n",
       "<p>963 rows × 6 columns</p>\n",
       "</div>"
      ],
      "text/plain": [
       "     age  gender  miles   debt  income  sales\n",
       "0     28       0     23      0    4099    620\n",
       "1     26       0     27      0    2677   1792\n",
       "2     30       1     58  41576    6215  27754\n",
       "3     26       1     25  43172    7626  28256\n",
       "4     20       1     17   6979    8071   4438\n",
       "..   ...     ...    ...    ...     ...    ...\n",
       "958   22       0     11   8778    9829   1593\n",
       "959   19       1     23   4850    3470   4742\n",
       "960   28       1     28   9312    2720  12771\n",
       "961   50       0     29  51343    8713  28511\n",
       "962   47       1     15   3735    6406   6104\n",
       "\n",
       "[963 rows x 6 columns]"
      ]
     },
     "execution_count": 6,
     "metadata": {},
     "output_type": "execute_result"
    }
   ],
   "source": [
    "targetData"
   ]
  },
  {
   "cell_type": "code",
   "execution_count": 8,
   "id": "316e5632-6e87-496b-b688-f2d10e3afc1a",
   "metadata": {},
   "outputs": [],
   "source": [
    "corrData = targetData.corr()"
   ]
  },
  {
   "cell_type": "code",
   "execution_count": 9,
   "id": "63c281a6-3d4e-4e7b-85fe-3e98f4b1aa40",
   "metadata": {},
   "outputs": [
    {
     "data": {
      "text/html": [
       "<div>\n",
       "<style scoped>\n",
       "    .dataframe tbody tr th:only-of-type {\n",
       "        vertical-align: middle;\n",
       "    }\n",
       "\n",
       "    .dataframe tbody tr th {\n",
       "        vertical-align: top;\n",
       "    }\n",
       "\n",
       "    .dataframe thead th {\n",
       "        text-align: right;\n",
       "    }\n",
       "</style>\n",
       "<table border=\"1\" class=\"dataframe\">\n",
       "  <thead>\n",
       "    <tr style=\"text-align: right;\">\n",
       "      <th></th>\n",
       "      <th>age</th>\n",
       "      <th>gender</th>\n",
       "      <th>miles</th>\n",
       "      <th>debt</th>\n",
       "      <th>income</th>\n",
       "      <th>sales</th>\n",
       "    </tr>\n",
       "  </thead>\n",
       "  <tbody>\n",
       "    <tr>\n",
       "      <th>age</th>\n",
       "      <td>1.000000</td>\n",
       "      <td>-0.000702</td>\n",
       "      <td>0.232399</td>\n",
       "      <td>0.218896</td>\n",
       "      <td>0.239644</td>\n",
       "      <td>0.352609</td>\n",
       "    </tr>\n",
       "    <tr>\n",
       "      <th>gender</th>\n",
       "      <td>-0.000702</td>\n",
       "      <td>1.000000</td>\n",
       "      <td>-0.031355</td>\n",
       "      <td>-0.033181</td>\n",
       "      <td>-0.034317</td>\n",
       "      <td>-0.036350</td>\n",
       "    </tr>\n",
       "    <tr>\n",
       "      <th>miles</th>\n",
       "      <td>0.232399</td>\n",
       "      <td>-0.031355</td>\n",
       "      <td>1.000000</td>\n",
       "      <td>0.544791</td>\n",
       "      <td>0.422141</td>\n",
       "      <td>0.636676</td>\n",
       "    </tr>\n",
       "    <tr>\n",
       "      <th>debt</th>\n",
       "      <td>0.218896</td>\n",
       "      <td>-0.033181</td>\n",
       "      <td>0.544791</td>\n",
       "      <td>1.000000</td>\n",
       "      <td>0.491790</td>\n",
       "      <td>0.835541</td>\n",
       "    </tr>\n",
       "    <tr>\n",
       "      <th>income</th>\n",
       "      <td>0.239644</td>\n",
       "      <td>-0.034317</td>\n",
       "      <td>0.422141</td>\n",
       "      <td>0.491790</td>\n",
       "      <td>1.000000</td>\n",
       "      <td>0.674685</td>\n",
       "    </tr>\n",
       "    <tr>\n",
       "      <th>sales</th>\n",
       "      <td>0.352609</td>\n",
       "      <td>-0.036350</td>\n",
       "      <td>0.636676</td>\n",
       "      <td>0.835541</td>\n",
       "      <td>0.674685</td>\n",
       "      <td>1.000000</td>\n",
       "    </tr>\n",
       "  </tbody>\n",
       "</table>\n",
       "</div>"
      ],
      "text/plain": [
       "             age    gender     miles      debt    income     sales\n",
       "age     1.000000 -0.000702  0.232399  0.218896  0.239644  0.352609\n",
       "gender -0.000702  1.000000 -0.031355 -0.033181 -0.034317 -0.036350\n",
       "miles   0.232399 -0.031355  1.000000  0.544791  0.422141  0.636676\n",
       "debt    0.218896 -0.033181  0.544791  1.000000  0.491790  0.835541\n",
       "income  0.239644 -0.034317  0.422141  0.491790  1.000000  0.674685\n",
       "sales   0.352609 -0.036350  0.636676  0.835541  0.674685  1.000000"
      ]
     },
     "execution_count": 9,
     "metadata": {},
     "output_type": "execute_result"
    }
   ],
   "source": [
    "corrData"
   ]
  },
  {
   "cell_type": "code",
   "execution_count": 13,
   "id": "15351444-310e-4418-9bf3-0f5bf87fdbfd",
   "metadata": {},
   "outputs": [],
   "source": [
    "targetStd = 0.5"
   ]
  },
  {
   "cell_type": "code",
   "execution_count": 20,
   "id": "d6ccde0f-88a4-4305-a7de-c67b8523234b",
   "metadata": {},
   "outputs": [],
   "source": [
    "features = list(corrData[(abs(corrData.sales) >= targetStd) & \\\n",
    "                         (corrData.sales != 1)].index)"
   ]
  },
  {
   "cell_type": "code",
   "execution_count": 21,
   "id": "9671f385-4dc9-4621-be63-4c37edf52084",
   "metadata": {},
   "outputs": [
    {
     "data": {
      "text/plain": [
       "['miles', 'debt', 'income']"
      ]
     },
     "execution_count": 21,
     "metadata": {},
     "output_type": "execute_result"
    }
   ],
   "source": [
    "features"
   ]
  },
  {
   "cell_type": "code",
   "execution_count": 22,
   "id": "4ccd99c5-6f3d-490e-bf11-19c4b5c7819b",
   "metadata": {},
   "outputs": [],
   "source": [
    "label = [\"sales\"]"
   ]
  },
  {
   "cell_type": "code",
   "execution_count": 24,
   "id": "93670534-6a2a-4425-a08c-1d27d4e44970",
   "metadata": {},
   "outputs": [
    {
     "data": {
      "text/plain": [
       "770.4000000000001"
      ]
     },
     "execution_count": 24,
     "metadata": {},
     "output_type": "execute_result"
    }
   ],
   "source": [
    "963* 0.8"
   ]
  },
  {
   "cell_type": "code",
   "execution_count": 29,
   "id": "460a1a7d-d4d8-4bd2-a64b-fccfafd12909",
   "metadata": {},
   "outputs": [],
   "source": [
    "trainingData_features = targetData[:770][features].reset_index(drop=True, inplace = False)"
   ]
  },
  {
   "cell_type": "code",
   "execution_count": 32,
   "id": "26218535-d101-4d78-8642-7da9b4b3cbc7",
   "metadata": {},
   "outputs": [],
   "source": [
    "trainingData_label = targetData[:770][label].reset_index(drop=True, inplace = False)"
   ]
  },
  {
   "cell_type": "code",
   "execution_count": 33,
   "id": "2f8534b8-0f94-4b03-ad75-16289951ab2a",
   "metadata": {},
   "outputs": [],
   "source": [
    "testData_features = targetData[770:][features].reset_index(drop=True, inplace = False)"
   ]
  },
  {
   "cell_type": "code",
   "execution_count": 34,
   "id": "0581204d-29ef-4fcc-8aad-8ac63df934de",
   "metadata": {},
   "outputs": [],
   "source": [
    "testData_label = targetData[770:][label].reset_index(drop=True, inplace = False)"
   ]
  },
  {
   "cell_type": "code",
   "execution_count": 48,
   "id": "8326eedd-438a-4e84-96bd-37bc446a893a",
   "metadata": {},
   "outputs": [],
   "source": [
    "model_method = ensemble.RandomForestClassifier()"
   ]
  },
  {
   "cell_type": "code",
   "execution_count": 55,
   "id": "49a978ee-3ef1-4c6d-abeb-a1ece67b5a47",
   "metadata": {},
   "outputs": [],
   "source": [
    "model = model_method.fit(trainingData_label,\n",
    "                         trainingData_features)"
   ]
  },
  {
   "cell_type": "code",
   "execution_count": 56,
   "id": "2c175f40-cf02-4523-a840-37fca6a44e3a",
   "metadata": {},
   "outputs": [
    {
     "data": {
      "text/plain": [
       "array([1.])"
      ]
     },
     "execution_count": 56,
     "metadata": {},
     "output_type": "execute_result"
    }
   ],
   "source": [
    "model.feature_importances_"
   ]
  },
  {
   "cell_type": "code",
   "execution_count": 65,
   "id": "adf7d74c-3a4b-4fa6-8807-c64ce407b8df",
   "metadata": {
    "tags": []
   },
   "outputs": [],
   "source": [
    "predict = model.predict(testData_label)"
   ]
  },
  {
   "cell_type": "code",
   "execution_count": 69,
   "id": "4c7886fe-c8c2-4de1-afca-1db50e7a60a6",
   "metadata": {},
   "outputs": [
    {
     "ename": "ValueError",
     "evalue": "multiclass-multioutput is not supported",
     "output_type": "error",
     "traceback": [
      "\u001b[1;31m---------------------------------------------------------------------------\u001b[0m",
      "\u001b[1;31mValueError\u001b[0m                                Traceback (most recent call last)",
      "\u001b[1;32m~\\AppData\\Local\\Temp\\ipykernel_8364\\1737557829.py\u001b[0m in \u001b[0;36m<module>\u001b[1;34m\u001b[0m\n\u001b[1;32m----> 1\u001b[1;33m \u001b[0mmodel\u001b[0m\u001b[1;33m.\u001b[0m\u001b[0mscore\u001b[0m\u001b[1;33m(\u001b[0m\u001b[0mtestData_label\u001b[0m\u001b[1;33m,\u001b[0m \u001b[0mpredict\u001b[0m\u001b[1;33m)\u001b[0m\u001b[1;33m\u001b[0m\u001b[1;33m\u001b[0m\u001b[0m\n\u001b[0m",
      "\u001b[1;32m~\\anaconda3\\lib\\site-packages\\sklearn\\base.py\u001b[0m in \u001b[0;36mscore\u001b[1;34m(self, X, y, sample_weight)\u001b[0m\n\u001b[0;32m    649\u001b[0m         \u001b[1;32mfrom\u001b[0m \u001b[1;33m.\u001b[0m\u001b[0mmetrics\u001b[0m \u001b[1;32mimport\u001b[0m \u001b[0maccuracy_score\u001b[0m\u001b[1;33m\u001b[0m\u001b[1;33m\u001b[0m\u001b[0m\n\u001b[0;32m    650\u001b[0m \u001b[1;33m\u001b[0m\u001b[0m\n\u001b[1;32m--> 651\u001b[1;33m         \u001b[1;32mreturn\u001b[0m \u001b[0maccuracy_score\u001b[0m\u001b[1;33m(\u001b[0m\u001b[0my\u001b[0m\u001b[1;33m,\u001b[0m \u001b[0mself\u001b[0m\u001b[1;33m.\u001b[0m\u001b[0mpredict\u001b[0m\u001b[1;33m(\u001b[0m\u001b[0mX\u001b[0m\u001b[1;33m)\u001b[0m\u001b[1;33m,\u001b[0m \u001b[0msample_weight\u001b[0m\u001b[1;33m=\u001b[0m\u001b[0msample_weight\u001b[0m\u001b[1;33m)\u001b[0m\u001b[1;33m\u001b[0m\u001b[1;33m\u001b[0m\u001b[0m\n\u001b[0m\u001b[0;32m    652\u001b[0m \u001b[1;33m\u001b[0m\u001b[0m\n\u001b[0;32m    653\u001b[0m     \u001b[1;32mdef\u001b[0m \u001b[0m_more_tags\u001b[0m\u001b[1;33m(\u001b[0m\u001b[0mself\u001b[0m\u001b[1;33m)\u001b[0m\u001b[1;33m:\u001b[0m\u001b[1;33m\u001b[0m\u001b[1;33m\u001b[0m\u001b[0m\n",
      "\u001b[1;32m~\\anaconda3\\lib\\site-packages\\sklearn\\metrics\\_classification.py\u001b[0m in \u001b[0;36maccuracy_score\u001b[1;34m(y_true, y_pred, normalize, sample_weight)\u001b[0m\n\u001b[0;32m    209\u001b[0m \u001b[1;33m\u001b[0m\u001b[0m\n\u001b[0;32m    210\u001b[0m     \u001b[1;31m# Compute accuracy for each possible representation\u001b[0m\u001b[1;33m\u001b[0m\u001b[1;33m\u001b[0m\u001b[0m\n\u001b[1;32m--> 211\u001b[1;33m     \u001b[0my_type\u001b[0m\u001b[1;33m,\u001b[0m \u001b[0my_true\u001b[0m\u001b[1;33m,\u001b[0m \u001b[0my_pred\u001b[0m \u001b[1;33m=\u001b[0m \u001b[0m_check_targets\u001b[0m\u001b[1;33m(\u001b[0m\u001b[0my_true\u001b[0m\u001b[1;33m,\u001b[0m \u001b[0my_pred\u001b[0m\u001b[1;33m)\u001b[0m\u001b[1;33m\u001b[0m\u001b[1;33m\u001b[0m\u001b[0m\n\u001b[0m\u001b[0;32m    212\u001b[0m     \u001b[0mcheck_consistent_length\u001b[0m\u001b[1;33m(\u001b[0m\u001b[0my_true\u001b[0m\u001b[1;33m,\u001b[0m \u001b[0my_pred\u001b[0m\u001b[1;33m,\u001b[0m \u001b[0msample_weight\u001b[0m\u001b[1;33m)\u001b[0m\u001b[1;33m\u001b[0m\u001b[1;33m\u001b[0m\u001b[0m\n\u001b[0;32m    213\u001b[0m     \u001b[1;32mif\u001b[0m \u001b[0my_type\u001b[0m\u001b[1;33m.\u001b[0m\u001b[0mstartswith\u001b[0m\u001b[1;33m(\u001b[0m\u001b[1;34m\"multilabel\"\u001b[0m\u001b[1;33m)\u001b[0m\u001b[1;33m:\u001b[0m\u001b[1;33m\u001b[0m\u001b[1;33m\u001b[0m\u001b[0m\n",
      "\u001b[1;32m~\\anaconda3\\lib\\site-packages\\sklearn\\metrics\\_classification.py\u001b[0m in \u001b[0;36m_check_targets\u001b[1;34m(y_true, y_pred)\u001b[0m\n\u001b[0;32m    102\u001b[0m     \u001b[1;31m# No metrics support \"multiclass-multioutput\" format\u001b[0m\u001b[1;33m\u001b[0m\u001b[1;33m\u001b[0m\u001b[0m\n\u001b[0;32m    103\u001b[0m     \u001b[1;32mif\u001b[0m \u001b[0my_type\u001b[0m \u001b[1;32mnot\u001b[0m \u001b[1;32min\u001b[0m \u001b[1;33m[\u001b[0m\u001b[1;34m\"binary\"\u001b[0m\u001b[1;33m,\u001b[0m \u001b[1;34m\"multiclass\"\u001b[0m\u001b[1;33m,\u001b[0m \u001b[1;34m\"multilabel-indicator\"\u001b[0m\u001b[1;33m]\u001b[0m\u001b[1;33m:\u001b[0m\u001b[1;33m\u001b[0m\u001b[1;33m\u001b[0m\u001b[0m\n\u001b[1;32m--> 104\u001b[1;33m         \u001b[1;32mraise\u001b[0m \u001b[0mValueError\u001b[0m\u001b[1;33m(\u001b[0m\u001b[1;34m\"{0} is not supported\"\u001b[0m\u001b[1;33m.\u001b[0m\u001b[0mformat\u001b[0m\u001b[1;33m(\u001b[0m\u001b[0my_type\u001b[0m\u001b[1;33m)\u001b[0m\u001b[1;33m)\u001b[0m\u001b[1;33m\u001b[0m\u001b[1;33m\u001b[0m\u001b[0m\n\u001b[0m\u001b[0;32m    105\u001b[0m \u001b[1;33m\u001b[0m\u001b[0m\n\u001b[0;32m    106\u001b[0m     \u001b[1;32mif\u001b[0m \u001b[0my_type\u001b[0m \u001b[1;32min\u001b[0m \u001b[1;33m[\u001b[0m\u001b[1;34m\"binary\"\u001b[0m\u001b[1;33m,\u001b[0m \u001b[1;34m\"multiclass\"\u001b[0m\u001b[1;33m]\u001b[0m\u001b[1;33m:\u001b[0m\u001b[1;33m\u001b[0m\u001b[1;33m\u001b[0m\u001b[0m\n",
      "\u001b[1;31mValueError\u001b[0m: multiclass-multioutput is not supported"
     ]
    }
   ],
   "source": [
    "model.score(testData_label, predict)"
   ]
  }
 ],
 "metadata": {
  "kernelspec": {
   "display_name": "Python 3 (ipykernel)",
   "language": "python",
   "name": "python3"
  },
  "language_info": {
   "codemirror_mode": {
    "name": "ipython",
    "version": 3
   },
   "file_extension": ".py",
   "mimetype": "text/x-python",
   "name": "python",
   "nbconvert_exporter": "python",
   "pygments_lexer": "ipython3",
   "version": "3.9.13"
  }
 },
 "nbformat": 4,
 "nbformat_minor": 5
}
