{
 "cells": [
  {
   "cell_type": "code",
   "execution_count": 77,
   "id": "a499194b-a2b9-4568-b510-e8b98a709217",
   "metadata": {},
   "outputs": [],
   "source": [
    "from selenium import webdriver\n",
    "from selenium.webdriver.chrome.service import Service\n",
    "from selenium.webdriver.chrome.options import Options\n",
    "from webdriver_manager.chrome import ChromeDriverManager"
   ]
  },
  {
   "cell_type": "code",
   "execution_count": null,
   "id": "4e273bfd-8809-49ff-81dc-a7bcde477d71",
   "metadata": {},
   "outputs": [],
   "source": [
    "## 집에서 복습할 때는 Windows cmd에서 \n",
    "##pip install selenium, pip install webdriver_manager\n",
    "## 를 통해 해당 기능들을 설치하자.\n",
    "## selenium 사용 간에는 해당 컴퓨터에 Java가 설치되어 있는지 꼭 확인하자."
   ]
  },
  {
   "cell_type": "code",
   "execution_count": 78,
   "id": "5d97f64f-ad35-476b-b04a-01104215ff1e",
   "metadata": {},
   "outputs": [],
   "source": [
    "chromeOption = Options()"
   ]
  },
  {
   "cell_type": "code",
   "execution_count": 79,
   "id": "d2254bbc-1eb0-421a-a2c8-0e8d66db0980",
   "metadata": {},
   "outputs": [],
   "source": [
    "chromeOption.add_argument(\"Window-size=1920x1080\")"
   ]
  },
  {
   "cell_type": "code",
   "execution_count": 80,
   "id": "b85bfa27-521f-4e32-b2e5-8cfa4314dfd1",
   "metadata": {},
   "outputs": [],
   "source": [
    "driver = webdriver.Chrome(service=Service(ChromeDriverManager().install() ) ,\n",
    "                          options=chromeOption)\n",
    "## 드라이버 매니저가 최신 드라이버로 자동 업데이트 수행.\n",
    "## 실무 간 인터넷이 연결되지 않은 환경에서는 이러한 기능을 활용할 수 없을 수 있다.\n",
    "## 이 때에는 저장 장치 등에 드라이버를 받아다가 손수 업데이트를 해줘야만 한다."
   ]
  },
  {
   "cell_type": "code",
   "execution_count": 7,
   "id": "f2d4440f-c196-4234-8c2b-2c16b530b982",
   "metadata": {},
   "outputs": [
    {
     "data": {
      "text/plain": [
       "'C:\\\\Users\\\\SMART16\\\\workSpace\\\\02. python'"
      ]
     },
     "execution_count": 7,
     "metadata": {},
     "output_type": "execute_result"
    }
   ],
   "source": [
    "pwd"
   ]
  },
  {
   "cell_type": "code",
   "execution_count": 6,
   "id": "bf84362c-ed01-443b-b1af-6f6ca1b281c5",
   "metadata": {},
   "outputs": [
    {
     "name": "stderr",
     "output_type": "stream",
     "text": [
      "C:\\Users\\SMART16\\AppData\\Local\\Temp\\ipykernel_5208\\3700034356.py:1: DeprecationWarning: executable_path has been deprecated, please pass in a Service object\n",
      "  driver = webdriver.Chrome(executable_path=\"../external/chromedriver.exe\",\n"
     ]
    }
   ],
   "source": [
    "# driver = webdriver.Chrome(executable_path=\"../external/chromedriver.exe\",\n",
    "#                           options=chromeOption)"
   ]
  },
  {
   "cell_type": "code",
   "execution_count": null,
   "id": "1a39b942-c1c4-426d-86f7-a17b20bde408",
   "metadata": {},
   "outputs": [],
   "source": [
    "## Warning 문구 출력됨. 위와 아래는 다음과 같은 차이를 지닌다.\n",
    "## 위는 자동 / 아래는 수동으로 chromedriver.exe 파일을 신규 버전 출시 시 업데이트 한다.\n",
    "## 위는 언제나 인터넷과 연결되어야만 사용 가능하며, 아래는 온라인 상태와 무관히 사용 가능하다.\n",
    "## 실례로 금융권의 경우, 바이러스 감염의 위험을 막고자 온라인 액세스를 모두 차단한다.\n",
    "## 그러니 향후 업무 환경에 맞춰 적합한 방법을 사용하여 드라이버를 업데이트하자."
   ]
  },
  {
   "cell_type": "code",
   "execution_count": 23,
   "id": "d63681a7-d2a0-4a74-9a5b-77408dab37c0",
   "metadata": {},
   "outputs": [],
   "source": [
    "driver.implicitly_wait(3)\n",
    "## 매크로처럼. 화면이 뜨지도 않았는데 빈 화면 요소를 누르는 등의 사고를 방지해주는 기능.\n",
    "## html의 구성 컴포넌트가 다 올라올 때까지 최대 3초를 기다린다.\n",
    "## 절대 시간 3초가 아니다. 해당 태그가 다 올라왔다면 3초를 억지로 기다리지는 않는다."
   ]
  },
  {
   "cell_type": "code",
   "execution_count": null,
   "id": "b9c7ff3b-c292-4301-b2c8-d1e9f3e3419d",
   "metadata": {},
   "outputs": [],
   "source": [
    "import time\n",
    "time.sleep(3)\n",
    "## 위 방식처럼 상대 방식 3초가 아닌, 절대 시간 3초를 기다리고 싶다면\n",
    "## time.sleep(3) 방식을 사용한다. 뜨건 말건 무조건 정해진 3초를 기다려준다."
   ]
  },
  {
   "cell_type": "code",
   "execution_count": 81,
   "id": "6be8df68-16c6-434d-97e9-e0770254a848",
   "metadata": {},
   "outputs": [],
   "source": [
    "targetUrl = \"https://sparkkorea.com/\""
   ]
  },
  {
   "cell_type": "code",
   "execution_count": 82,
   "id": "936469a6-938b-4e1c-b066-38dcfffa97c3",
   "metadata": {},
   "outputs": [],
   "source": [
    "driver.get(targetUrl)\n",
    "## 자동화된 크롬을 목표 url로 이동시킨다."
   ]
  },
  {
   "cell_type": "code",
   "execution_count": 83,
   "id": "af4635b0-7e4d-4c0f-946f-c73ca5b85b81",
   "metadata": {},
   "outputs": [
    {
     "data": {
      "text/plain": [
       "'https://sparkkorea.com/'"
      ]
     },
     "execution_count": 83,
     "metadata": {},
     "output_type": "execute_result"
    }
   ],
   "source": [
    "driver.current_url\n",
    "## 현재 자동화된 크롬이 어느 url에 위치하였는지 알려준다."
   ]
  },
  {
   "cell_type": "code",
   "execution_count": 86,
   "id": "99a49110-712a-41f8-8dd7-0fc57f7ba8e9",
   "metadata": {
    "tags": []
   },
   "outputs": [],
   "source": [
    "targetSource = driver.page_source\n",
    "## 현재 위치한 페이지의 모든 소스를 가져온다."
   ]
  },
  {
   "cell_type": "code",
   "execution_count": 84,
   "id": "9015fe7e-0445-4888-a0a2-0ffa87012171",
   "metadata": {},
   "outputs": [],
   "source": [
    "import bs4"
   ]
  },
  {
   "cell_type": "code",
   "execution_count": 87,
   "id": "c6f715bc-7cf6-4d5b-919b-af9b00b11639",
   "metadata": {
    "collapsed": true,
    "jupyter": {
     "outputs_hidden": true
    },
    "tags": []
   },
   "outputs": [
    {
     "data": {
      "text/plain": [
       "<html lang=\"ko-KR\"><head>\n",
       "<meta charset=\"utf-8\"/>\n",
       "<meta content=\"width=device-width, initial-scale=1\" name=\"viewport\"/>\n",
       "<link href=\"http://gmpg.org/xfn/11\" rel=\"profile\"/>\n",
       "<link href=\"https://sparkkorea.com/xmlrpc.php\" rel=\"pingback\"/>\n",
       "<title>스파크 코리아 – 스파크코리아 자료공유</title>\n",
       "<meta content=\"max-image-preview:large\" name=\"robots\"/>\n",
       "<meta content=\"QRZVgHsoL23RuwmgmXNuXfO-mUaxCkdvhP2rRvLT270\" name=\"google-site-verification\"/>\n",
       "<!-- Async WordPress.com Remote Login -->\n",
       "<link href=\"//s0.wp.com\" rel=\"dns-prefetch\"/>\n",
       "<link href=\"//sparkkorea.wordpress.com\" rel=\"dns-prefetch\"/>\n",
       "<link href=\"//wordpress.com\" rel=\"dns-prefetch\"/>\n",
       "<link href=\"//fonts-api.wp.com\" rel=\"dns-prefetch\"/>\n",
       "<link crossorigin=\"\" href=\"https://fonts.gstatic.com\" rel=\"preconnect\"/>\n",
       "<link href=\"https://sparkkorea.com/feed/\" rel=\"alternate\" title=\"스파크 코리아 » 피드\" type=\"application/rss+xml\"/>\n",
       "<link href=\"https://sparkkorea.com/comments/feed/\" rel=\"alternate\" title=\"스파크 코리아 » 댓글 피드\" type=\"application/rss+xml\"/>\n",
       "<script type=\"text/javascript\">\n",
       "\t\t/* <![CDATA[ */\n",
       "\t\tfunction addLoadEvent(func) {\n",
       "\t\t\tvar oldonload = window.onload;\n",
       "\t\t\tif (typeof window.onload != 'function') {\n",
       "\t\t\t\twindow.onload = func;\n",
       "\t\t\t} else {\n",
       "\t\t\t\twindow.onload = function () {\n",
       "\t\t\t\t\toldonload();\n",
       "\t\t\t\t\tfunc();\n",
       "\t\t\t\t}\n",
       "\t\t\t}\n",
       "\t\t}\n",
       "\t\t/* ]]> */\n",
       "\t</script>\n",
       "<script type=\"text/javascript\">\n",
       "window._wpemojiSettings = {\"baseUrl\":\"https:\\/\\/s0.wp.com\\/wp-content\\/mu-plugins\\/wpcom-smileys\\/twemoji\\/2\\/72x72\\/\",\"ext\":\".png\",\"svgUrl\":\"https:\\/\\/s0.wp.com\\/wp-content\\/mu-plugins\\/wpcom-smileys\\/twemoji\\/2\\/svg\\/\",\"svgExt\":\".svg\",\"source\":{\"concatemoji\":\"https:\\/\\/s0.wp.com\\/wp-includes\\/js\\/wp-emoji-release.min.js?m=1677072837h&ver=6.2-RC2-55570\"}};\n",
       "/*! This file is auto-generated */\n",
       "!function(e,a,t){var n,r,o,i=a.createElement(\"canvas\"),p=i.getContext&&i.getContext(\"2d\");function s(e,t){p.clearRect(0,0,i.width,i.height),p.fillText(e,0,0);e=i.toDataURL();return p.clearRect(0,0,i.width,i.height),p.fillText(t,0,0),e===i.toDataURL()}function c(e){var t=a.createElement(\"script\");t.src=e,t.defer=t.type=\"text/javascript\",a.getElementsByTagName(\"head\")[0].appendChild(t)}for(o=Array(\"flag\",\"emoji\"),t.supports={everything:!0,everythingExceptFlag:!0},r=0;r<o.length;r++)t.supports[o[r]]=function(e){if(p&&p.fillText)switch(p.textBaseline=\"top\",p.font=\"600 32px Arial\",e){case\"flag\":return s(\"\\ud83c\\udff3\\ufe0f\\u200d\\u26a7\\ufe0f\",\"\\ud83c\\udff3\\ufe0f\\u200b\\u26a7\\ufe0f\")?!1:!s(\"\\ud83c\\uddfa\\ud83c\\uddf3\",\"\\ud83c\\uddfa\\u200b\\ud83c\\uddf3\")&&!s(\"\\ud83c\\udff4\\udb40\\udc67\\udb40\\udc62\\udb40\\udc65\\udb40\\udc6e\\udb40\\udc67\\udb40\\udc7f\",\"\\ud83c\\udff4\\u200b\\udb40\\udc67\\u200b\\udb40\\udc62\\u200b\\udb40\\udc65\\u200b\\udb40\\udc6e\\u200b\\udb40\\udc67\\u200b\\udb40\\udc7f\");case\"emoji\":return!s(\"\\ud83e\\udef1\\ud83c\\udffb\\u200d\\ud83e\\udef2\\ud83c\\udfff\",\"\\ud83e\\udef1\\ud83c\\udffb\\u200b\\ud83e\\udef2\\ud83c\\udfff\")}return!1}(o[r]),t.supports.everything=t.supports.everything&&t.supports[o[r]],\"flag\"!==o[r]&&(t.supports.everythingExceptFlag=t.supports.everythingExceptFlag&&t.supports[o[r]]);t.supports.everythingExceptFlag=t.supports.everythingExceptFlag&&!t.supports.flag,t.DOMReady=!1,t.readyCallback=function(){t.DOMReady=!0},t.supports.everything||(n=function(){t.readyCallback()},a.addEventListener?(a.addEventListener(\"DOMContentLoaded\",n,!1),e.addEventListener(\"load\",n,!1)):(e.attachEvent(\"onload\",n),a.attachEvent(\"onreadystatechange\",function(){\"complete\"===a.readyState&&t.readyCallback()})),(e=t.source||{}).concatemoji?c(e.concatemoji):e.wpemoji&&e.twemoji&&(c(e.twemoji),c(e.wpemoji)))}(window,document,window._wpemojiSettings);\n",
       "</script><script defer=\"\" src=\"https://s0.wp.com/wp-includes/js/wp-emoji-release.min.js?m=1677072837h&amp;ver=6.2-RC2-55570\" type=\"text/javascript\"></script>\n",
       "<style type=\"text/css\">\n",
       "img.wp-smiley,\n",
       "img.emoji {\n",
       "\tdisplay: inline !important;\n",
       "\tborder: none !important;\n",
       "\tbox-shadow: none !important;\n",
       "\theight: 1em !important;\n",
       "\twidth: 1em !important;\n",
       "\tmargin: 0 0.07em !important;\n",
       "\tvertical-align: -0.1em !important;\n",
       "\tbackground: none !important;\n",
       "\tpadding: 0 !important;\n",
       "}\n",
       "</style>\n",
       "<link crossorigin=\"anonymous\" href=\"https://s0.wp.com/_static/??-eJytjNEKAiEQAH8o3ZOy6CH6lrTFrF0VVzv8+46D4Oi5x2GYgbkon1PD1IC7KtRDTAJz8ZmVcCQcP6S9yA422bcJfUGHNSymIryN1Qc9geuR7uAo+5ei6OqtDpA2CP8xag/kdXTlizmeztaYye6fH54mTYE=&amp;cssminify=yes\" id=\"all-css-0-1\" media=\"all\" rel=\"stylesheet\" type=\"text/css\"/>\n",
       "<style id=\"wp-block-library-inline-css\">\n",
       ".has-text-align-justify {\n",
       "\ttext-align:justify;\n",
       "}\n",
       ".wp-block-cover__image-background.has-parallax {\n",
       "\tbackground-size: cover;\n",
       "}\n",
       "</style>\n",
       "<link crossorigin=\"anonymous\" href=\"https://s0.wp.com/_static/??-eJyVkF1OAzEMhC+Eky5/LQ+oZ8l6reDWyUZxQrW3x0hQWLUq4iXS2P5mNPGnApxR+kTqD+oTTRxIKFFuK1EkLFRBKAZcXOLsUPXO38Jt91uvIJxz+7wp0iNn9bGbHKlGGGXGo5lRKwGPYLFzbxArT17bIvR/ixoa56h/4Dh/Yfdu2LkBlFMRgkrv7sFPrO18AWujc38beJSgygjtzTrr1cqpw09mJZunEi5/6wZ2KsbAOJZKqmBv4p6+I43bp9fhebt72W42T4+HDwGetMY=&amp;cssminify=yes\" id=\"all-css-2-1\" media=\"all\" rel=\"stylesheet\" type=\"text/css\"/>\n",
       "<style id=\"global-styles-inline-css\">\n",
       "body{--wp--preset--color--black: #000000;--wp--preset--color--cyan-bluish-gray: #abb8c3;--wp--preset--color--white: #fff;--wp--preset--color--pale-pink: #f78da7;--wp--preset--color--vivid-red: #cf2e2e;--wp--preset--color--luminous-vivid-orange: #ff6900;--wp--preset--color--luminous-vivid-amber: #fcb900;--wp--preset--color--light-green-cyan: #7bdcb5;--wp--preset--color--vivid-green-cyan: #00d084;--wp--preset--color--pale-cyan-blue: #8ed1fc;--wp--preset--color--vivid-cyan-blue: #0693e3;--wp--preset--color--vivid-purple: #9b51e0;--wp--preset--color--bright-blue: #678db8;--wp--preset--color--yellow: #e7ae01;--wp--preset--color--light-gray-blue: #abb7c3;--wp--preset--color--medium-gray: #6a6c6e;--wp--preset--color--dark-gray: #1a1c1e;--wp--preset--color--dark-gray-blue: #292c2f;--wp--preset--gradient--vivid-cyan-blue-to-vivid-purple: linear-gradient(135deg,rgba(6,147,227,1) 0%,rgb(155,81,224) 100%);--wp--preset--gradient--light-green-cyan-to-vivid-green-cyan: linear-gradient(135deg,rgb(122,220,180) 0%,rgb(0,208,130) 100%);--wp--preset--gradient--luminous-vivid-amber-to-luminous-vivid-orange: linear-gradient(135deg,rgba(252,185,0,1) 0%,rgba(255,105,0,1) 100%);--wp--preset--gradient--luminous-vivid-orange-to-vivid-red: linear-gradient(135deg,rgba(255,105,0,1) 0%,rgb(207,46,46) 100%);--wp--preset--gradient--very-light-gray-to-cyan-bluish-gray: linear-gradient(135deg,rgb(238,238,238) 0%,rgb(169,184,195) 100%);--wp--preset--gradient--cool-to-warm-spectrum: linear-gradient(135deg,rgb(74,234,220) 0%,rgb(151,120,209) 20%,rgb(207,42,186) 40%,rgb(238,44,130) 60%,rgb(251,105,98) 80%,rgb(254,248,76) 100%);--wp--preset--gradient--blush-light-purple: linear-gradient(135deg,rgb(255,206,236) 0%,rgb(152,150,240) 100%);--wp--preset--gradient--blush-bordeaux: linear-gradient(135deg,rgb(254,205,165) 0%,rgb(254,45,45) 50%,rgb(107,0,62) 100%);--wp--preset--gradient--luminous-dusk: linear-gradient(135deg,rgb(255,203,112) 0%,rgb(199,81,192) 50%,rgb(65,88,208) 100%);--wp--preset--gradient--pale-ocean: linear-gradient(135deg,rgb(255,245,203) 0%,rgb(182,227,212) 50%,rgb(51,167,181) 100%);--wp--preset--gradient--electric-grass: linear-gradient(135deg,rgb(202,248,128) 0%,rgb(113,206,126) 100%);--wp--preset--gradient--midnight: linear-gradient(135deg,rgb(2,3,129) 0%,rgb(40,116,252) 100%);--wp--preset--duotone--dark-grayscale: url('#wp-duotone-dark-grayscale');--wp--preset--duotone--grayscale: url('#wp-duotone-grayscale');--wp--preset--duotone--purple-yellow: url('#wp-duotone-purple-yellow');--wp--preset--duotone--blue-red: url('#wp-duotone-blue-red');--wp--preset--duotone--midnight: url('#wp-duotone-midnight');--wp--preset--duotone--magenta-yellow: url('#wp-duotone-magenta-yellow');--wp--preset--duotone--purple-green: url('#wp-duotone-purple-green');--wp--preset--duotone--blue-orange: url('#wp-duotone-blue-orange');--wp--preset--font-size--small: 13px;--wp--preset--font-size--medium: 20px;--wp--preset--font-size--large: 36px;--wp--preset--font-size--x-large: 42px;--wp--preset--font-family--albert-sans: 'Albert Sans';--wp--preset--font-family--alegreya: Alegreya;--wp--preset--font-family--arvo: Arvo;--wp--preset--font-family--bodoni-moda: 'Bodoni Moda';--wp--preset--font-family--cabin: Cabin;--wp--preset--font-family--chivo: Chivo;--wp--preset--font-family--commissioner: Commissioner;--wp--preset--font-family--cormorant: Cormorant;--wp--preset--font-family--courier-prime: 'Courier Prime';--wp--preset--font-family--crimson-pro: 'Crimson Pro';--wp--preset--font-family--dm-mono: 'DM Mono';--wp--preset--font-family--dm-sans: 'DM Sans';--wp--preset--font-family--domine: Domine;--wp--preset--font-family--eb-garamond: 'EB Garamond';--wp--preset--font-family--epilogue: Epilogue;--wp--preset--font-family--figtree: Figtree;--wp--preset--font-family--fira-sans: 'Fira Sans';--wp--preset--font-family--fraunces: Fraunces;--wp--preset--font-family--ibm-plex-mono: 'IBM Plex Mono';--wp--preset--font-family--ibm-plex-sans: 'IBM Plex Sans';--wp--preset--font-family--inter: Inter;--wp--preset--font-family--josefin-sans: 'Josefin Sans';--wp--preset--font-family--jost: Jost;--wp--preset--font-family--libre-baskerville: 'Libre Baskerville';--wp--preset--font-family--libre-franklin: 'Libre Franklin';--wp--preset--font-family--literata: Literata;--wp--preset--font-family--lora: Lora;--wp--preset--font-family--merriweather: Merriweather;--wp--preset--font-family--montserrat: Montserrat;--wp--preset--font-family--newsreader: Newsreader;--wp--preset--font-family--nunito: Nunito;--wp--preset--font-family--open-sans: 'Open Sans';--wp--preset--font-family--overpass: Overpass;--wp--preset--font-family--petrona: Petrona;--wp--preset--font-family--piazzolla: Piazzolla;--wp--preset--font-family--playfair-display: 'Playfair Display';--wp--preset--font-family--plus-jakarta-sans: 'Plus Jakarta Sans';--wp--preset--font-family--poppins: Poppins;--wp--preset--font-family--raleway: Raleway;--wp--preset--font-family--roboto-slab: 'Roboto Slab';--wp--preset--font-family--roboto: Roboto;--wp--preset--font-family--rubik: Rubik;--wp--preset--font-family--sora: Sora;--wp--preset--font-family--source-sans-pro: 'Source Sans Pro';--wp--preset--font-family--source-serif-pro: 'Source Serif Pro';--wp--preset--font-family--space-mono: 'Space Mono';--wp--preset--font-family--texturina: Texturina;--wp--preset--font-family--work-sans: 'Work Sans';--wp--preset--spacing--20: 0.44rem;--wp--preset--spacing--30: 0.67rem;--wp--preset--spacing--40: 1rem;--wp--preset--spacing--50: 1.5rem;--wp--preset--spacing--60: 2.25rem;--wp--preset--spacing--70: 3.38rem;--wp--preset--spacing--80: 5.06rem;--wp--preset--shadow--natural: 6px 6px 9px rgba(0, 0, 0, 0.2);--wp--preset--shadow--deep: 12px 12px 50px rgba(0, 0, 0, 0.4);--wp--preset--shadow--sharp: 6px 6px 0px rgba(0, 0, 0, 0.2);--wp--preset--shadow--outlined: 6px 6px 0px -3px rgba(255, 255, 255, 1), 6px 6px rgba(0, 0, 0, 1);--wp--preset--shadow--crisp: 6px 6px 0px rgba(0, 0, 0, 1);}:where(.is-layout-flex){gap: 0.5em;}body .is-layout-flow > .alignleft{float: left;margin-inline-start: 0;margin-inline-end: 2em;}body .is-layout-flow > .alignright{float: right;margin-inline-start: 2em;margin-inline-end: 0;}body .is-layout-flow > .aligncenter{margin-left: auto !important;margin-right: auto !important;}body .is-layout-constrained > .alignleft{float: left;margin-inline-start: 0;margin-inline-end: 2em;}body .is-layout-constrained > .alignright{float: right;margin-inline-start: 2em;margin-inline-end: 0;}body .is-layout-constrained > .aligncenter{margin-left: auto !important;margin-right: auto !important;}body .is-layout-constrained > :where(:not(.alignleft):not(.alignright):not(.alignfull)){max-width: var(--wp--style--global--content-size);margin-left: auto !important;margin-right: auto !important;}body .is-layout-constrained > .alignwide{max-width: var(--wp--style--global--wide-size);}body .is-layout-flex{display: flex;}body .is-layout-flex{flex-wrap: wrap;align-items: center;}body .is-layout-flex > *{margin: 0;}:where(.wp-block-columns.is-layout-flex){gap: 2em;}.has-black-color{color: var(--wp--preset--color--black) !important;}.has-cyan-bluish-gray-color{color: var(--wp--preset--color--cyan-bluish-gray) !important;}.has-white-color{color: var(--wp--preset--color--white) !important;}.has-pale-pink-color{color: var(--wp--preset--color--pale-pink) !important;}.has-vivid-red-color{color: var(--wp--preset--color--vivid-red) !important;}.has-luminous-vivid-orange-color{color: var(--wp--preset--color--luminous-vivid-orange) !important;}.has-luminous-vivid-amber-color{color: var(--wp--preset--color--luminous-vivid-amber) !important;}.has-light-green-cyan-color{color: var(--wp--preset--color--light-green-cyan) !important;}.has-vivid-green-cyan-color{color: var(--wp--preset--color--vivid-green-cyan) !important;}.has-pale-cyan-blue-color{color: var(--wp--preset--color--pale-cyan-blue) !important;}.has-vivid-cyan-blue-color{color: var(--wp--preset--color--vivid-cyan-blue) !important;}.has-vivid-purple-color{color: var(--wp--preset--color--vivid-purple) !important;}.has-black-background-color{background-color: var(--wp--preset--color--black) !important;}.has-cyan-bluish-gray-background-color{background-color: var(--wp--preset--color--cyan-bluish-gray) !important;}.has-white-background-color{background-color: var(--wp--preset--color--white) !important;}.has-pale-pink-background-color{background-color: var(--wp--preset--color--pale-pink) !important;}.has-vivid-red-background-color{background-color: var(--wp--preset--color--vivid-red) !important;}.has-luminous-vivid-orange-background-color{background-color: var(--wp--preset--color--luminous-vivid-orange) !important;}.has-luminous-vivid-amber-background-color{background-color: var(--wp--preset--color--luminous-vivid-amber) !important;}.has-light-green-cyan-background-color{background-color: var(--wp--preset--color--light-green-cyan) !important;}.has-vivid-green-cyan-background-color{background-color: var(--wp--preset--color--vivid-green-cyan) !important;}.has-pale-cyan-blue-background-color{background-color: var(--wp--preset--color--pale-cyan-blue) !important;}.has-vivid-cyan-blue-background-color{background-color: var(--wp--preset--color--vivid-cyan-blue) !important;}.has-vivid-purple-background-color{background-color: var(--wp--preset--color--vivid-purple) !important;}.has-black-border-color{border-color: var(--wp--preset--color--black) !important;}.has-cyan-bluish-gray-border-color{border-color: var(--wp--preset--color--cyan-bluish-gray) !important;}.has-white-border-color{border-color: var(--wp--preset--color--white) !important;}.has-pale-pink-border-color{border-color: var(--wp--preset--color--pale-pink) !important;}.has-vivid-red-border-color{border-color: var(--wp--preset--color--vivid-red) !important;}.has-luminous-vivid-orange-border-color{border-color: var(--wp--preset--color--luminous-vivid-orange) !important;}.has-luminous-vivid-amber-border-color{border-color: var(--wp--preset--color--luminous-vivid-amber) !important;}.has-light-green-cyan-border-color{border-color: var(--wp--preset--color--light-green-cyan) !important;}.has-vivid-green-cyan-border-color{border-color: var(--wp--preset--color--vivid-green-cyan) !important;}.has-pale-cyan-blue-border-color{border-color: var(--wp--preset--color--pale-cyan-blue) !important;}.has-vivid-cyan-blue-border-color{border-color: var(--wp--preset--color--vivid-cyan-blue) !important;}.has-vivid-purple-border-color{border-color: var(--wp--preset--color--vivid-purple) !important;}.has-vivid-cyan-blue-to-vivid-purple-gradient-background{background: var(--wp--preset--gradient--vivid-cyan-blue-to-vivid-purple) !important;}.has-light-green-cyan-to-vivid-green-cyan-gradient-background{background: var(--wp--preset--gradient--light-green-cyan-to-vivid-green-cyan) !important;}.has-luminous-vivid-amber-to-luminous-vivid-orange-gradient-background{background: var(--wp--preset--gradient--luminous-vivid-amber-to-luminous-vivid-orange) !important;}.has-luminous-vivid-orange-to-vivid-red-gradient-background{background: var(--wp--preset--gradient--luminous-vivid-orange-to-vivid-red) !important;}.has-very-light-gray-to-cyan-bluish-gray-gradient-background{background: var(--wp--preset--gradient--very-light-gray-to-cyan-bluish-gray) !important;}.has-cool-to-warm-spectrum-gradient-background{background: var(--wp--preset--gradient--cool-to-warm-spectrum) !important;}.has-blush-light-purple-gradient-background{background: var(--wp--preset--gradient--blush-light-purple) !important;}.has-blush-bordeaux-gradient-background{background: var(--wp--preset--gradient--blush-bordeaux) !important;}.has-luminous-dusk-gradient-background{background: var(--wp--preset--gradient--luminous-dusk) !important;}.has-pale-ocean-gradient-background{background: var(--wp--preset--gradient--pale-ocean) !important;}.has-electric-grass-gradient-background{background: var(--wp--preset--gradient--electric-grass) !important;}.has-midnight-gradient-background{background: var(--wp--preset--gradient--midnight) !important;}.has-small-font-size{font-size: var(--wp--preset--font-size--small) !important;}.has-medium-font-size{font-size: var(--wp--preset--font-size--medium) !important;}.has-large-font-size{font-size: var(--wp--preset--font-size--large) !important;}.has-x-large-font-size{font-size: var(--wp--preset--font-size--x-large) !important;}\n",
       ":where(.wp-block-columns.is-layout-flex){gap: 2em;}\n",
       ".wp-block-pullquote{font-size: 1.5em;line-height: 1.6;}\n",
       ".wp-block-navigation a:where(:not(.wp-element-button)){color: inherit;}\n",
       "</style>\n",
       "<link crossorigin=\"anonymous\" href=\"https://s0.wp.com/_static/??/wp-content/mu-plugins/comment-likes/css/comment-likes.css,/i/noticons/noticons.css?m=1436783281j&amp;cssminify=yes\" id=\"all-css-4-1\" media=\"all\" rel=\"stylesheet\" type=\"text/css\"/>\n",
       "<link href=\"https://fonts-api.wp.com/css?family=Lato%3A400%2C400italic%2C700%2C700italic%7CNoto+Serif%3A400%2C400italic%2C700%2C700italic&amp;subset=latin%2Clatin-ext\" id=\"dyad-2-fonts-css\" media=\"all\" rel=\"stylesheet\"/>\n",
       "<link crossorigin=\"anonymous\" href=\"https://s0.wp.com/_static/??-eJyNj9kKwjAURH/IeGtx6Yv4KZLeXGPabGSh9O9Ng2BBkb7NwJxhBibP0NlENoHJzOsslY0wUPIcx7cHH5zImJSzcFcWQZKloAoXf8s9xriDVXV6kqEIPvcgZi5YCzHNmjbkSgJ67XDcUrpsq8Vs8ujMF7F6KMmxUsvrqbVhD81V+IcGKoNkkbKu+9gFupnr4Xy6dF3THpvhBfZwgjk=&amp;cssminify=yes\" id=\"all-css-6-1\" media=\"all\" rel=\"stylesheet\" type=\"text/css\"/>\n",
       "<link crossorigin=\"anonymous\" href=\"https://s0.wp.com/wp-content/mu-plugins/global-print/global-print.css?m=1465851035h&amp;cssminify=yes\" id=\"print-css-7-1\" media=\"print\" rel=\"stylesheet\" type=\"text/css\"/>\n",
       "<style id=\"jetpack-global-styles-frontend-style-inline-css\">\n",
       ":root { --font-headings: unset; --font-base: unset; --font-headings-default: -apple-system,BlinkMacSystemFont,\"Segoe UI\",Roboto,Oxygen-Sans,Ubuntu,Cantarell,\"Helvetica Neue\",sans-serif; --font-base-default: -apple-system,BlinkMacSystemFont,\"Segoe UI\",Roboto,Oxygen-Sans,Ubuntu,Cantarell,\"Helvetica Neue\",sans-serif;}\n",
       "</style>\n",
       "<link crossorigin=\"anonymous\" href=\"https://s0.wp.com/_static/??-eJyVjUEKwjAQRS9kHAVb60I8isRJSFInM6GTULx9W3Ejrty9B5/3YS4GhavnCrmZQi0kVhh9LRafH4cyiWtYkzDklcgraLSTd9a51xsThz2q7uDf3j0xggomS4YkiH7JT7NGn9f3eIJA8rC0DW75euzPl+7QDUM/Lj+0TlE=&amp;cssminify=yes\" id=\"all-css-10-1\" media=\"all\" rel=\"stylesheet\" type=\"text/css\"/>\n",
       "<script id=\"wpcom-actionbar-placeholder-js-extra\">\n",
       "var actionbardata = {\"siteID\":\"163927570\",\"siteURL\":\"https:\\/\\/sparkkorea.com\",\"xhrURL\":\"https:\\/\\/sparkkorea.com\\/wp-admin\\/admin-ajax.php\",\"nonce\":\"6ea6710aaa\",\"isLoggedIn\":\"\",\"statusMessage\":\"\",\"subsEmailDefault\":\"instantly\",\"proxyScriptUrl\":\"https:\\/\\/s0.wp.com\\/wp-content\\/js\\/wpcom-proxy-request.js?ver=20211021\",\"shortlink\":\"https:\\/\\/wp.me\\/Pb5P34-2\",\"i18n\":{\"followedText\":\"\\uc774 \\uc0ac\\uc774\\ud2b8\\uc758 \\uc0c8 \\uae00\\uc774 \\uc774\\uc81c <a href=\\\"https:\\/\\/wordpress.com\\/read\\\">\\ub9ac\\ub354(Reader)<\\/a>\\uc5d0 \\ud45c\\uc2dc\\ub429\\ub2c8\\ub2e4\",\"foldBar\":\"\\uc774 \\ud45c\\uc2dc\\uc904 \\ucd95\\uc18c\",\"unfoldBar\":\"\\uc774 \\ud45c\\uc2dc\\uc904 \\ud655\\uc7a5\"}};\n",
       "</script>\n",
       "<script crossorigin=\"anonymous\" src=\"https://s0.wp.com/_static/??-eJzTLy/QTc7PK0nNK9HPKtbPzU/KzEnVLS1OLUpMB4rpZual5etlFevoo6oryinRLSjKr6iEyWXmJeeUpqQWgySzCktTiyqhlF5uZh5BRbq5melFiSWpUMX2ubaGZuYWlhYGlhaGWQCPrjue\" type=\"text/javascript\"></script>\n",
       "<script type=\"text/javascript\">\n",
       "\twindow.addEventListener( 'DOMContentLoaded', function() {\n",
       "\t\trltInitialize( {\"token\":null,\"iframeOrigins\":[\"https:\\/\\/widgets.wp.com\"]} );\n",
       "\t} );\n",
       "</script>\n",
       "<link href=\"https://sparkkorea.wordpress.com/xmlrpc.php?rsd\" rel=\"EditURI\" title=\"RSD\" type=\"application/rsd+xml\"/>\n",
       "<link href=\"https://s0.wp.com/wp-includes/wlwmanifest.xml\" rel=\"wlwmanifest\" type=\"application/wlwmanifest+xml\"/>\n",
       "<meta content=\"WordPress.com\" name=\"generator\"/>\n",
       "<link href=\"https://sparkkorea.com/\" rel=\"canonical\"/>\n",
       "<link href=\"https://wp.me/Pb5P34-2\" rel=\"shortlink\"/>\n",
       "<link href=\"https://public-api.wordpress.com/oembed/?format=json&amp;url=https%3A%2F%2Fsparkkorea.com%2F&amp;for=wpcom-auto-discovery\" rel=\"alternate\" type=\"application/json+oembed\"/><link href=\"https://public-api.wordpress.com/oembed/?format=xml&amp;url=https%3A%2F%2Fsparkkorea.com%2F&amp;for=wpcom-auto-discovery\" rel=\"alternate\" type=\"application/xml+oembed\"/>\n",
       "<!-- Jetpack Open Graph Tags -->\n",
       "<meta content=\"website\" property=\"og:type\"/>\n",
       "<meta content=\"스파크 코리아\" property=\"og:title\"/>\n",
       "<meta content=\"스파크코리아 자료공유\" property=\"og:description\"/>\n",
       "<meta content=\"https://sparkkorea.com/\" property=\"og:url\"/>\n",
       "<meta content=\"스파크 코리아\" property=\"og:site_name\"/>\n",
       "<meta content=\"https://sparkkorea.files.wordpress.com/2019/10/ec82aceca784ec9eaceba38c.jpg\" property=\"og:image\"/>\n",
       "<meta content=\"996\" property=\"og:image:width\"/>\n",
       "<meta content=\"532\" property=\"og:image:height\"/>\n",
       "<meta content=\"\" property=\"og:image:alt\"/>\n",
       "<meta content=\"ko_KR\" property=\"og:locale\"/>\n",
       "<meta content=\"https://www.facebook.com/WordPresscom\" property=\"article:publisher\"/>\n",
       "<meta content=\"스파크코리아 소개\" name=\"twitter:text:title\"/>\n",
       "<meta content=\"https://sparkkorea.files.wordpress.com/2019/10/ec82aceca784ec9eaceba38c.jpg?w=640\" name=\"twitter:image\"/>\n",
       "<meta content=\"summary_large_image\" name=\"twitter:card\"/>\n",
       "<!-- End Jetpack Open Graph Tags -->\n",
       "<link href=\"https://s0.wp.com/i/favicon.ico\" rel=\"shortcut icon\" sizes=\"16x16 24x24 32x32 48x48\" type=\"image/x-icon\"/>\n",
       "<link href=\"https://s0.wp.com/i/favicon.ico\" rel=\"icon\" sizes=\"16x16 24x24 32x32 48x48\" type=\"image/x-icon\"/>\n",
       "<link href=\"https://s0.wp.com/i/webclip.png\" rel=\"apple-touch-icon\"/>\n",
       "<link href=\"https://sparkkorea.com/osd.xml\" rel=\"search\" title=\"스파크 코리아\" type=\"application/opensearchdescription+xml\"/>\n",
       "<link href=\"https://s1.wp.com/opensearch.xml\" rel=\"search\" title=\"WordPress.com\" type=\"application/opensearchdescription+xml\"/>\n",
       "<meta content=\"스파크 코리아\" name=\"application-name\"/><meta content=\"width=device-width;height=device-height\" name=\"msapplication-window\"/><meta content=\"스파크코리아 자료공유\" name=\"msapplication-tooltip\"/><meta content=\"name=구독;action-uri=https://sparkkorea.com/feed/;icon-uri=https://s0.wp.com/i/favicon.ico\" name=\"msapplication-task\"/><meta content=\"name=무료 블로그 등록;action-uri=http://wordpress.com/signup/;icon-uri=https://s0.wp.com/i/favicon.ico\" name=\"msapplication-task\"/><meta content=\"name=WordPress.com 지원;action-uri=http://support.wordpress.com/;icon-uri=https://s0.wp.com/i/favicon.ico\" name=\"msapplication-task\"/><meta content=\"name=WordPress.com 포럼;action-uri=http://forums.wordpress.com/;icon-uri=https://s0.wp.com/i/favicon.ico\" name=\"msapplication-task\"/><meta content=\"스마트 금융과는 금융/IT 융합 학과입니다. 대졸자 또는 동등이상 자격자만 지원 가능한 하이테크 과정 [2023년도 교육생 모집 예정] 원서접수 사이트로 이동 국비지원과정 스마트금융과를 선택해햐하는 이유는? 전문교수진 빅데이터, 블록체인 등 최근 기술인력 부족으로 수요가 많지만 전문적인 강의를 듣기 힘듭니다. 스마트금융과는 삼성, LG등 대기업에서 근무하신 실무경험이 풍부한 교수진들이 직접 수행한 프로젝트 경험을 살려 강의합니다. 높은 취업률 1기 88.9%,…\" name=\"description\"/>\n",
       "<link href=\"https://0.gravatar.com/dist/css/hovercard.min.css?ver=202313z\" id=\"gravatar-card-css\" rel=\"stylesheet\" type=\"text/css\"/><link href=\"https://0.gravatar.com/dist/css/services.min.css?ver=202313z\" id=\"gravatar-card-services-css\" rel=\"stylesheet\" type=\"text/css\"/><link href=\"https://s0.wp.com/wp-content/mu-plugins/actionbar/actionbar.css?v=20210915\" rel=\"stylesheet\" type=\"text/css\"/></head>\n",
       "<body class=\"home page-template-default page page-id-2 wp-embed-responsive customizer-styles-applied is-singular highlander-enabled highlander-light not-scrolled\">\n",
       "<div class=\"hfeed site\" id=\"page\">\n",
       "<a class=\"skip-link screen-reader-text\" href=\"#content\">컨텐츠로 건너뛰기</a>\n",
       "<header class=\"site-header\" id=\"masthead\" role=\"banner\">\n",
       "<div class=\"site-branding\">\n",
       "<h1 class=\"site-title\">\n",
       "<a href=\"https://sparkkorea.com/\" rel=\"home\">\n",
       "\t\t\t\t\t스파크 코리아\t\t\t\t</a>\n",
       "</h1>\n",
       "<p class=\"site-description\">스파크코리아 자료공유</p>\n",
       "</div><!-- .site-branding -->\n",
       "<nav class=\"main-navigation\" id=\"site-navigation\" role=\"navigation\">\n",
       "<button aria-controls=\"primary-menu\" aria-expanded=\"false\" class=\"menu-toggle\">메뉴</button>\n",
       "<div class=\"primary-menu\"><ul aria-expanded=\"false\" class=\"menu nav-menu\" id=\"primary-menu\"><li class=\"menu-item menu-item-type-post_type menu-item-object-page menu-item-27\" id=\"menu-item-27\"><a href=\"https://sparkkorea.com/%ec%9e%90%eb%a3%8c%ec%8b%a4/\">자료실</a></li>\n",
       "<li class=\"menu-item menu-item-type-post_type menu-item-object-page menu-item-382\" id=\"menu-item-382\"><a href=\"https://sparkkorea.com/%ed%80%b4%ec%a6%88/\">퀴즈</a></li>\n",
       "<li class=\"menu-item menu-item-type-post_type menu-item-object-page menu-item-264\" id=\"menu-item-264\"><a href=\"https://sparkkorea.com/%ec%84%a4%eb%ac%b8-2/\">설문s</a></li>\n",
       "<li class=\"menu-item menu-item-type-post_type menu-item-object-page menu-item-383\" id=\"menu-item-383\"><a href=\"https://sparkkorea.com/%ed%85%8c%ec%8a%a4%ed%8a%b8/\">테스트</a></li>\n",
       "<li class=\"menu-item menu-item-type-post_type menu-item-object-page menu-item-397\" id=\"menu-item-397\"><a href=\"https://sparkkorea.com/%ec%84%a4%eb%ac%b8/\">학생퀴즈</a></li>\n",
       "</ul></div> </nav>\n",
       "</header><!-- #masthead -->\n",
       "<div class=\"site-inner\">\n",
       "<div class=\"featured-content\">\n",
       "<div class=\"site-banner no-slider\" id=\"site-banner\">\n",
       "<div class=\"site-banner-inner\">\n",
       "<div class=\"site-banner-content banner-custom-header\">\n",
       "<div class=\"site-banner-media\">\n",
       "<div class=\"site-banner-thumbnail\" style=\"background-image: url(https://defaultcustomheadersdata.files.wordpress.com/2016/07/blur.jpg?resize=1800,720);\"></div>\n",
       "</div>\n",
       "<div class=\"site-banner-header banner-description\">\n",
       "<h1 class=\"entry-title site-description\">\n",
       "\t\t\t\t스파크코리아 자료공유\t\t\t</h1>\n",
       "</div><!-- .site-banner-header -->\n",
       "</div><!-- .site-banner-content -->\n",
       "</div><!-- .site-banner-inner -->\n",
       "</div><!-- #site-banner -->\n",
       "</div>\n",
       "<div class=\"site-content\" id=\"content\">\n",
       "<main class=\"content-area\" id=\"primary\" role=\"main\">\n",
       "<article class=\"post-2 page type-page status-publish hentry\" id=\"post-2\">\n",
       "<div class=\"entry-inner\">\n",
       "<header class=\"entry-header\">\n",
       "<h1 class=\"entry-title\">스파크코리아 소개</h1> </header><!-- .entry-header -->\n",
       "<div class=\"entry-content\">\n",
       "<blockquote class=\"wp-block-quote has-text-align-center is-style-large\">\n",
       "<p><strong>스마트 금융과는 금융/IT 융합 학과입니다.</strong></p>\n",
       "<p>대졸자 또는 동등이상 자격자만 지원 가능한 하이테크 과정</p>\n",
       "<p>[2023년도 교육생 모집 예정]</p>\n",
       "</blockquote>\n",
       "<div class=\"wp-block-button aligncenter\"><a class=\"wp-block-button__link wp-element-button\" href=\"https://ipsi.kopo.ac.kr/poly/wonseo/wonseoSearch.do?daehag_cd=1200000&amp;gwajeong_gb=34\">원서접수 사이트로 이동 </a></div>\n",
       "<hr class=\"wp-block-separator has-css-opacity\"/>\n",
       "<hr class=\"wp-block-separator has-css-opacity is-style-wide\"/>\n",
       "<h3 class=\"has-text-align-center has-text-color wp-block-heading\" style=\"color:#093499;\"><strong>국비지원과정 스마트금융과를 선택해햐하는 이유는?</strong></h3>\n",
       "<div class=\"wp-block-columns is-layout-flex wp-container-3 wp-block-columns-is-layout-flex\">\n",
       "<div class=\"wp-block-column is-layout-flow wp-block-column-is-layout-flow\">\n",
       "<h4 class=\"has-text-align-center wp-block-heading\">전문교수진</h4>\n",
       "<p>빅데이터, 블록체인 등 최근 기술인력 부족으로 수요가 많지만 전문적인 강의를 듣기 힘듭니다. 스마트금융과는 삼성, LG등 대기업에서 근무하신 실무경험이 풍부한 교수진들이 직접 수행한 프로젝트 경험을 살려 강의합니다.</p>\n",
       "</div>\n",
       "<div class=\"wp-block-column is-layout-flow wp-block-column-is-layout-flow\">\n",
       "<h4 class=\"has-text-align-center wp-block-heading\">높은 취업률</h4>\n",
       "<p>1기 88.9%, 2기 95.7%, 3기 현재 94%달성 및 진행중 이며  현장에서 바로 사용할 수 있는 기술을 배울 정도로 학생들의 실력이 현장 맞춤형 교육으로 진행됩니다.</p>\n",
       "</div>\n",
       "</div>\n",
       "<h3 class=\"has-text-align-center has-text-color wp-block-heading\" style=\"color:#093499;\"><strong>주요 전담업체</strong></h3>\n",
       "<hr class=\"wp-block-separator has-css-opacity\"/>\n",
       "<div class=\"wp-block-columns is-layout-flex wp-container-7 wp-block-columns-is-layout-flex\">\n",
       "<div class=\"wp-block-column is-layout-flow wp-block-column-is-layout-flow\">\n",
       "<h4 class=\"has-text-align-center wp-block-heading\">현대페이</h4>\n",
       "<p>현대페이 대표님이 1기 대상으로 교육기간 중 특강을 진행해 주셨으며 관련IT 업체 프로젝트 사이트에 웹개발 성적이 우수한 수료생이 프로그램을 개발중에 있습니다.</p>\n",
       "</div>\n",
       "<div class=\"wp-block-column is-layout-flow wp-block-column-is-layout-flow\">\n",
       "<h4 class=\"has-text-align-center wp-block-heading\">데이터스트림즈</h4>\n",
       "<p>데이터분석 및 오픈소스프로그램 성적이 우수한 수료생은 데이터스트림즈 업체에 다수가 동반입사하여 금융결제원, 국세청등 빅데이터 분석 작업을 맡아서 진행하고 있습니다.</p>\n",
       "</div>\n",
       "<div class=\"wp-block-column is-layout-flow wp-block-column-is-layout-flow\">\n",
       "<h4 class=\"has-text-align-center wp-block-heading\">베스핀글로벌</h4>\n",
       "<p>빅데이터 처리환경을 이해한 1기생 다수가 동반입사하여 클라우드 기반 솔루션을 개발 중에 있습니다.</p>\n",
       "</div>\n",
       "</div>\n",
       "<h2 class=\"has-text-align-left wp-block-heading\">스마트금융과 <strong>커리큘럼</strong></h2>\n",
       "<hr class=\"wp-block-separator has-css-opacity\"/>\n",
       "<div class=\"wp-block-media-text alignwide is-stacked-on-mobile\" style=\"grid-template-columns:57% auto;\"><figure class=\"wp-block-media-text__media\"><img alt=\"\" class=\"wp-image-42 size-full\" data-attachment-id=\"42\" data-comments-opened=\"1\" data-image-caption=\"\" data-image-description=\"\" data-image-meta='{\"aperture\":\"0\",\"credit\":\"\",\"camera\":\"\",\"caption\":\"\",\"created_timestamp\":\"0\",\"copyright\":\"\",\"focal_length\":\"0\",\"iso\":\"0\",\"shutter_speed\":\"0\",\"title\":\"\",\"orientation\":\"0\"}' data-image-title=\"curriculum\" data-large-file=\"https://sparkkorea.files.wordpress.com/2019/07/curriculum.jpg?w=1000\" data-medium-file=\"https://sparkkorea.files.wordpress.com/2019/07/curriculum.jpg?w=300\" data-orig-file=\"https://sparkkorea.files.wordpress.com/2019/07/curriculum.jpg\" data-orig-size=\"1741,972\" data-permalink=\"https://sparkkorea.com/curriculum/\" sizes=\"(max-width: 736px) 100vw, 736px\" src=\"https://sparkkorea.files.wordpress.com/2019/07/curriculum.jpg?w=736\" srcset=\"https://sparkkorea.files.wordpress.com/2019/07/curriculum.jpg?w=736 736w, https://sparkkorea.files.wordpress.com/2019/07/curriculum.jpg?w=1472 1472w, https://sparkkorea.files.wordpress.com/2019/07/curriculum.jpg?w=150 150w, https://sparkkorea.files.wordpress.com/2019/07/curriculum.jpg?w=300 300w, https://sparkkorea.files.wordpress.com/2019/07/curriculum.jpg?w=768 768w, https://sparkkorea.files.wordpress.com/2019/07/curriculum.jpg?w=1024 1024w\"/></figure><div class=\"wp-block-media-text__content\">\n",
       "<p class=\"has-medium-font-size\"><strong><em>전반적인 소프트웨어 중심 커리큘럼</em></strong></p>\n",
       "<p class=\"has-medium-font-size\"><strong>소프트웨어가 구동되는 운영체제 실습          빅데이터 활용 및 분석을 위한 실습                       블록체인의 구동원리를 이해하는 실습               웹 기반 시각화 및 데이터 조작 실습                 </strong></p>\n",
       "</div></div>\n",
       "<h2 class=\"has-text-align-left wp-block-heading\">스마트금융과 <strong>학사일정</strong> (1년, [3월시작 시 10월말 취업가능] )</h2>\n",
       "<hr class=\"wp-block-separator has-css-opacity\"/>\n",
       "<div class=\"wp-block-media-text alignwide has-media-on-the-right is-stacked-on-mobile\" style=\"grid-template-columns:auto 64%;\"><div class=\"wp-block-media-text__content\">\n",
       "<p style=\"font-size:17px;\"><strong>1학기: 실습중심의 핀테크 이해                            </strong></p>\n",
       "<p style=\"font-size:17px;\"><strong>2학기: 팀별 실습프로젝트 수행</strong></p>\n",
       "</div><figure class=\"wp-block-media-text__media\"><img alt=\"\" class=\"wp-image-158 size-full\" data-attachment-id=\"158\" data-comments-opened=\"1\" data-image-caption=\"\" data-image-description=\"\" data-image-meta='{\"aperture\":\"0\",\"credit\":\"\",\"camera\":\"\",\"caption\":\"\",\"created_timestamp\":\"0\",\"copyright\":\"\",\"focal_length\":\"0\",\"iso\":\"0\",\"shutter_speed\":\"0\",\"title\":\"\",\"orientation\":\"0\"}' data-image-title=\"스마트금융과시간표\" data-large-file=\"https://sparkkorea.files.wordpress.com/2019/10/ec8aa4eba788ed8ab8eab888ec9cb5eab3bcec8b9ceab084ed919c-1.jpg?w=1000\" data-medium-file=\"https://sparkkorea.files.wordpress.com/2019/10/ec8aa4eba788ed8ab8eab888ec9cb5eab3bcec8b9ceab084ed919c-1.jpg?w=300\" data-orig-file=\"https://sparkkorea.files.wordpress.com/2019/10/ec8aa4eba788ed8ab8eab888ec9cb5eab3bcec8b9ceab084ed919c-1.jpg\" data-orig-size=\"1747,543\" data-permalink=\"https://sparkkorea.com/home/%ec%8a%a4%eb%a7%88%ed%8a%b8%ea%b8%88%ec%9c%b5%ea%b3%bc%ec%8b%9c%ea%b0%84%ed%91%9c/\" sizes=\"(max-width: 1024px) 100vw, 1024px\" src=\"https://sparkkorea.files.wordpress.com/2019/10/ec8aa4eba788ed8ab8eab888ec9cb5eab3bcec8b9ceab084ed919c-1.jpg?w=1024\" srcset=\"https://sparkkorea.files.wordpress.com/2019/10/ec8aa4eba788ed8ab8eab888ec9cb5eab3bcec8b9ceab084ed919c-1.jpg?w=1024 1024w, https://sparkkorea.files.wordpress.com/2019/10/ec8aa4eba788ed8ab8eab888ec9cb5eab3bcec8b9ceab084ed919c-1.jpg?w=150 150w, https://sparkkorea.files.wordpress.com/2019/10/ec8aa4eba788ed8ab8eab888ec9cb5eab3bcec8b9ceab084ed919c-1.jpg?w=300 300w, https://sparkkorea.files.wordpress.com/2019/10/ec8aa4eba788ed8ab8eab888ec9cb5eab3bcec8b9ceab084ed919c-1.jpg?w=768 768w, https://sparkkorea.files.wordpress.com/2019/10/ec8aa4eba788ed8ab8eab888ec9cb5eab3bcec8b9ceab084ed919c-1.jpg 1747w\"/></figure></div>\n",
       "<h3 class=\"has-text-align-center has-text-color wp-block-heading\" style=\"color:#093499;\"><strong>1기 교육생 후기</strong></h3>\n",
       "<p>1기 교육생들이 교육과정 중 교수님에게 전달한 편지에 담겨진 내용들 입니다.</p>\n",
       "<div class=\"wp-block-columns is-layout-flex wp-container-11 wp-block-columns-is-layout-flex\">\n",
       "<div class=\"wp-block-column is-layout-flow wp-block-column-is-layout-flow\">\n",
       "<h4 class=\"has-text-align-center wp-block-heading\">박OO (29세)</h4>\n",
       "<p>처음 입과시 비전공자라서 수업을 따라갈 수 있을까 걱정을 많이 했는데 교수님들이 정말 상세히 알려주시고 하나를 물어보면 그 이상을 알려주셔서 수업을 쉽게 이해할 수 있었습니다.</p>\n",
       "</div>\n",
       "<div class=\"wp-block-column is-layout-flow wp-block-column-is-layout-flow\">\n",
       "<h4 class=\"has-text-align-center wp-block-heading\">성OO (27세)</h4>\n",
       "<p>사람은 항상 선택을 하며 산다고 하는데 폴리텍 스마트금융과는 가장 훌륭한 선택이였습니다. 교수님의 유쾌한 설명은 학교를 다니는 또 하나의 큰 재미였습니다.</p>\n",
       "</div>\n",
       "<div class=\"wp-block-column is-layout-flow wp-block-column-is-layout-flow\">\n",
       "<h4 class=\"has-text-align-center wp-block-heading\">이OO (26세)</h4>\n",
       "<p>타 학교나 교육과정에서 느껴보지 못했던 교수님들의 열정에 항상 감사합니다. 교수님들을 만난 것이 행운이였습니다. 한명 한명 가르쳐 주시느라 늦게까지 남아계셔서 힘드실까봐 마음에 걸립니다.</p>\n",
       "</div>\n",
       "</div>\n",
       "<div class=\"wp-block-media-text alignwide is-stacked-on-mobile is-vertically-aligned-center\" style=\"grid-template-columns:55% auto;\"><figure class=\"wp-block-media-text__media\"><img alt=\"\" class=\"wp-image-202 size-full\" data-attachment-id=\"202\" data-comments-opened=\"1\" data-image-caption=\"\" data-image-description=\"\" data-image-meta='{\"aperture\":\"0\",\"credit\":\"\",\"camera\":\"\",\"caption\":\"\",\"created_timestamp\":\"0\",\"copyright\":\"\",\"focal_length\":\"0\",\"iso\":\"0\",\"shutter_speed\":\"0\",\"title\":\"\",\"orientation\":\"0\"}' data-image-title=\"사진재료\" data-large-file=\"https://sparkkorea.files.wordpress.com/2019/10/ec82aceca784ec9eaceba38c.jpg?w=996\" data-medium-file=\"https://sparkkorea.files.wordpress.com/2019/10/ec82aceca784ec9eaceba38c.jpg?w=300\" data-orig-file=\"https://sparkkorea.files.wordpress.com/2019/10/ec82aceca784ec9eaceba38c.jpg\" data-orig-size=\"996,532\" data-permalink=\"https://sparkkorea.com/home/%ec%82%ac%ec%a7%84%ec%9e%ac%eb%a3%8c/\" sizes=\"(max-width: 996px) 100vw, 996px\" src=\"https://sparkkorea.files.wordpress.com/2019/10/ec82aceca784ec9eaceba38c.jpg?w=996\" srcset=\"https://sparkkorea.files.wordpress.com/2019/10/ec82aceca784ec9eaceba38c.jpg 996w, https://sparkkorea.files.wordpress.com/2019/10/ec82aceca784ec9eaceba38c.jpg?w=150 150w, https://sparkkorea.files.wordpress.com/2019/10/ec82aceca784ec9eaceba38c.jpg?w=300 300w, https://sparkkorea.files.wordpress.com/2019/10/ec82aceca784ec9eaceba38c.jpg?w=768 768w\"/></figure><div class=\"wp-block-media-text__content\">\n",
       "<p class=\"has-medium-font-size\"><strong> 전문 교수진 (대기업 및 CEO 대상 강의) <br/> 제 1 금융권 및 우수IT기업 지속 교류</strong> </p>\n",
       "<p></p>\n",
       "</div></div>\n",
       "<div class=\"wp-block-media-text alignwide has-media-on-the-right is-stacked-on-mobile\" style=\"grid-template-columns:auto 45%;\"><div class=\"wp-block-media-text__content\">\n",
       "<p><strong><em>혼자가 아닌 팀 프로젝트 실습</em></strong></p>\n",
       "<p><strong>코드 작성 전 설계를하고 팀원간 설계자료를  공유함으로써 모든 프로세스를 이해한 상태에서  코드를 작성하는 방법을 배웁니다.</strong> </p>\n",
       "<div class=\"wp-block-button\"><a class=\"wp-block-button__link wp-element-button\" href=\"https://o365kopo-my.sharepoint.com/:v:/g/personal/haiteam_office_kopo_ac_kr/EWeqSeFODKVEhi9k7A-webEBmKFfi8d-i3Osg2MRW2NXMg?e=351BRP\">영상 링크</a></div>\n",
       "<p></p>\n",
       "</div><figure class=\"wp-block-media-text__media\"><img alt=\"\" class=\"wp-image-72 size-full\" data-attachment-id=\"72\" data-comments-opened=\"1\" data-image-caption=\"\" data-image-description=\"\" data-image-meta='{\"aperture\":\"1.8\",\"credit\":\"\",\"camera\":\"iPhone 7 Plus\",\"caption\":\"\",\"created_timestamp\":\"1553768691\",\"copyright\":\"\",\"focal_length\":\"3.99\",\"iso\":\"32\",\"shutter_speed\":\"0.016666666666667\",\"title\":\"\",\"orientation\":\"1\",\"latitude\":\"37.546463888889\",\"longitude\":\"126.84137777778\"}' data-image-title=\"IMG_1211\" data-large-file=\"https://sparkkorea.files.wordpress.com/2019/07/img_1211.jpg?w=1000\" data-medium-file=\"https://sparkkorea.files.wordpress.com/2019/07/img_1211.jpg?w=300\" data-orig-file=\"https://sparkkorea.files.wordpress.com/2019/07/img_1211.jpg\" data-orig-size=\"4032,3024\" data-permalink=\"https://sparkkorea.com/img_1211/\" sizes=\"(max-width: 736px) 100vw, 736px\" src=\"https://sparkkorea.files.wordpress.com/2019/07/img_1211.jpg?w=736\" srcset=\"https://sparkkorea.files.wordpress.com/2019/07/img_1211.jpg?w=736 736w, https://sparkkorea.files.wordpress.com/2019/07/img_1211.jpg?w=1472 1472w, https://sparkkorea.files.wordpress.com/2019/07/img_1211.jpg?w=150 150w, https://sparkkorea.files.wordpress.com/2019/07/img_1211.jpg?w=300 300w, https://sparkkorea.files.wordpress.com/2019/07/img_1211.jpg?w=768 768w, https://sparkkorea.files.wordpress.com/2019/07/img_1211.jpg?w=1024 1024w\"/></figure></div>\n",
       "<hr class=\"wp-block-separator has-css-opacity\"/>\n",
       "<hr class=\"wp-block-separator has-css-opacity\"/>\n",
       "<div class=\"wp-block-media-text alignwide\"><figure class=\"wp-block-media-text__media\"><img alt=\"\" class=\"wp-image-448 size-full\" data-attachment-id=\"448\" data-comments-opened=\"1\" data-image-caption=\"\" data-image-description=\"\" data-image-meta='{\"aperture\":\"0\",\"credit\":\"\",\"camera\":\"\",\"caption\":\"\",\"created_timestamp\":\"0\",\"copyright\":\"\",\"focal_length\":\"0\",\"iso\":\"0\",\"shutter_speed\":\"0\",\"title\":\"\",\"orientation\":\"0\"}' data-image-title=\"hkcode\" data-large-file=\"https://sparkkorea.files.wordpress.com/2020/05/hkcode.png?w=1000\" data-medium-file=\"https://sparkkorea.files.wordpress.com/2020/05/hkcode.png?w=300\" data-orig-file=\"https://sparkkorea.files.wordpress.com/2020/05/hkcode.png\" data-orig-size=\"1154,672\" data-permalink=\"https://sparkkorea.com/hkcode/\" sizes=\"(max-width: 1024px) 100vw, 1024px\" src=\"https://sparkkorea.files.wordpress.com/2020/05/hkcode.png?w=1024\" srcset=\"https://sparkkorea.files.wordpress.com/2020/05/hkcode.png?w=1024 1024w, https://sparkkorea.files.wordpress.com/2020/05/hkcode.png?w=150 150w, https://sparkkorea.files.wordpress.com/2020/05/hkcode.png?w=300 300w, https://sparkkorea.files.wordpress.com/2020/05/hkcode.png?w=768 768w, https://sparkkorea.files.wordpress.com/2020/05/hkcode.png 1154w\"/></figure><div class=\"wp-block-media-text__content\">\n",
       "<h4 class=\"wp-block-heading\"><strong>4차 산업혁명</strong> 대비 교육과정</h4>\n",
       "<p>쉽게 접하는 빅데이터/인공지능 세상</p>\n",
       "<p>블록체인과 께하는 거래모듈 학습</p>\n",
       "</div></div>\n",
       "<h2 class=\"wp-block-heading\"><strong>스마트금융과 홍보영상</strong></h2>\n",
       "<figure class=\"wp-block-embed-youtube wp-block-embed is-type-rich wp-embed-aspect-16-9 wp-has-aspect-ratio\"><div class=\"wp-block-embed__wrapper\">\n",
       "<div class=\"jetpack-video-wrapper\"><span class=\"embed-youtube\" style=\"text-align:center; display: block;\"><iframe allowfullscreen=\"true\" class=\"youtube-player\" data-height=\"563\" data-ratio=\"0.563\" data-width=\"1000\" sandbox=\"allow-scripts allow-same-origin allow-popups allow-presentation\" src=\"https://www.youtube.com/embed/19_GM-FoZRQ?version=3&amp;rel=1&amp;showsearch=0&amp;showinfo=1&amp;iv_load_policy=1&amp;fs=1&amp;hl=ko&amp;autohide=2&amp;wmode=transparent\" style=\"border: 0px; display: block; margin: 0px; width: 700px; height: 394.1px;\"></iframe></span></div>\n",
       "</div></figure>\n",
       "<h2 class=\"wp-block-heading\">문의하기</h2>\n",
       "<p>한국폴리텍대학 스마트금융과<br/>서울시 강서구 우장산로 10길 제1교육관<br/>haiteam@kopo.ac.kr<br/></p>\n",
       "<hr class=\"wp-block-separator has-css-opacity\"/>\n",
       "<h2 class=\"wp-block-heading\">메시지 보내기</h2>\n",
       "<div class=\"wp-block-jetpack-contact-form-container\" data-test=\"contact-form\" id=\"contact-form-2\" style='--jetpack--contact-form--primary-color:rgb(106, 108, 110); --jetpack--contact-form--background-color:rgb(36, 38, 41); --jetpack--contact-form--text-color:rgb(106, 108, 110); --jetpack--contact-form--border:1px solid rgb(221, 221, 221); --jetpack--contact-form--border-color:rgb(221, 221, 221); --jetpack--contact-form--border-size:1px; --jetpack--contact-form--border-style:solid; --jetpack--contact-form--border-radius:0px; --jetpack--contact-form--input-background:rgb(255, 255, 255); --jetpack--contact-form--input-padding:9.92px; --jetpack--contact-form--input-padding-top:9.92px; --jetpack--contact-form--input-padding-left:9.92px; --jetpack--contact-form--font-size:16px; --jetpack--contact-form--font-family:Lato, \"Helvetica Neue\", Helvetica, Arial, sans-serif; --jetpack--contact-form--line-height:24px;'>\n",
       "<form action=\"https://sparkkorea.com/#contact-form-2\" class=\"contact-form commentsblock\" method=\"post\">\n",
       "<script>\n",
       "\t\t\t( function () {\n",
       "\t\t\t\tconst contact_forms = document.getElementsByClassName('contact-form');\n",
       "\n",
       "\t\t\t\tfor ( const form of contact_forms ) {\n",
       "\t\t\t\t\tform.onsubmit = function() {\n",
       "\t\t\t\t\t\tconst buttons = form.getElementsByTagName('button');\n",
       "\n",
       "\t\t\t\t\t\tfor( const button of buttons ) {\n",
       "\t\t\t\t\t\t\tbutton.setAttribute('disabled', true);\n",
       "\t\t\t\t\t\t}\n",
       "\t\t\t\t\t}\n",
       "\t\t\t\t}\n",
       "\t\t\t} )();\n",
       "\t\t</script>\n",
       "<div class=\"wp-block-jetpack-contact-form\">\n",
       "<div class=\"grunion-field-name-wrap grunion-field-wrap\" style=\"\">\n",
       "<label class=\"grunion-field-label name\" for=\"g2\">이름<span>(필수)</span></label>\n",
       "<input aria-required=\"true\" class=\"name grunion-field\" id=\"g2\" name=\"g2\" required=\"\" type=\"text\" value=\"\"/>\n",
       "</div>\n",
       "<div class=\"grunion-field-email-wrap grunion-field-wrap\" style=\"\">\n",
       "<label class=\"grunion-field-label email\" for=\"g2-1\">이메일<span>(필수)</span></label>\n",
       "<input aria-required=\"true\" class=\"email grunion-field\" id=\"g2-1\" name=\"g2-1\" required=\"\" type=\"email\" value=\"\"/>\n",
       "</div>\n",
       "<div class=\"grunion-field-textarea-wrap grunion-field-wrap\" style=\"\">\n",
       "<label class=\"grunion-field-label textarea\" for=\"contact-form-comment-g2-2\">메시지</label>\n",
       "<textarea class=\"textarea grunion-field\" id=\"contact-form-comment-g2-2\" name=\"g2-2\" rows=\"20\" style=\"\"></textarea>\n",
       "</div>\n",
       "</div>\n",
       "<p class=\"contact-submit\">\n",
       "<button class=\"pushbutton-wide\" type=\"submit\">전송</button> <input name=\"contact-form-id\" type=\"hidden\" value=\"2\"/>\n",
       "<input name=\"action\" type=\"hidden\" value=\"grunion-contact-form\"/>\n",
       "<input name=\"contact-form-hash\" type=\"hidden\" value=\"34effdc48c07ec790be4a5c8004b4f93b091e8ed\"/>\n",
       "</p>\n",
       "<p style=\"display: none !important;\"><label>Δ<textarea cols=\"45\" maxlength=\"100\" name=\"ak_hp_textarea\" rows=\"8\"></textarea></label><input id=\"ak_js_1\" name=\"ak_js\" type=\"hidden\" value=\"1680248295607\"/><script>document.getElementById( \"ak_js_1\" ).setAttribute( \"value\", ( new Date() ).getTime() );</script></p></form>\n",
       "</div>\n",
       "<hr class=\"wp-block-separator has-css-opacity\"/>\n",
       "<p class=\"has-small-font-size\">Copyright 스마트금융과 2019, 김효관 – All rights reserved (haiteam@kopo.ac.kr)<br/></p>\n",
       "</div><!-- .entry-content -->\n",
       "</div><!-- .entry-inner -->\n",
       "</article><!-- #post-## -->\n",
       "</main><!-- #main -->\n",
       "</div><!-- #content -->\n",
       "<footer class=\"site-footer\" id=\"colophon\" role=\"contentinfo\">\n",
       "<div class=\"footer-bottom-info\">\n",
       "<div class=\"site-info\">\n",
       "<a href=\"https://wordpress.com/?ref=footer_segment_business\" rel=\"nofollow\">워드프레스닷컴 웹사이트.</a>\n",
       "</div><!-- .site-info -->\n",
       "</div><!-- .footer-bottom-info -->\n",
       "</footer><!-- #colophon -->\n",
       "</div><!-- .site-inner -->\n",
       "</div><!-- #page -->\n",
       "<!-- -->\n",
       "<script id=\"grofiles-cards-js\" src=\"//0.gravatar.com/js/gprofiles.js?ver=202313z\"></script>\n",
       "<script id=\"wpgroho-js-extra\">\n",
       "var WPGroHo = {\"my_hash\":\"\"};\n",
       "</script>\n",
       "<script crossorigin=\"anonymous\" src=\"https://s0.wp.com/wp-content/mu-plugins/gravatar-hovercards/wpgroho.js?m=1610363240h\" type=\"text/javascript\"></script>\n",
       "<script>\n",
       "\t\t// Initialize and attach hovercards to all gravatars\n",
       "\t\t( function() {\n",
       "\t\t\tfunction init() {\n",
       "\t\t\t\tif ( typeof Gravatar === 'undefined' ) {\n",
       "\t\t\t\t\treturn;\n",
       "\t\t\t\t}\n",
       "\n",
       "\t\t\t\tif ( typeof Gravatar.init !== 'function' ) {\n",
       "\t\t\t\t\treturn;\n",
       "\t\t\t\t}\n",
       "\n",
       "\t\t\t\tGravatar.profile_cb = function ( hash, id ) {\n",
       "\t\t\t\t\tWPGroHo.syncProfileData( hash, id );\n",
       "\t\t\t\t};\n",
       "\n",
       "\t\t\t\tGravatar.my_hash = WPGroHo.my_hash;\n",
       "\t\t\t\tGravatar.init( 'body', '#wp-admin-bar-my-account' );\n",
       "\t\t\t}\n",
       "\n",
       "\t\t\tif ( document.readyState !== 'loading' ) {\n",
       "\t\t\t\tinit();\n",
       "\t\t\t} else {\n",
       "\t\t\t\tdocument.addEventListener( 'DOMContentLoaded', init );\n",
       "\t\t\t}\n",
       "\t\t} )();\n",
       "\t</script>\n",
       "<div style=\"display:none\">\n",
       "</div>\n",
       "<div class=\"actnbr-pub-dyad-2 actnbr-has-follow\" id=\"actionbar\">\n",
       "<ul>\n",
       "<li class=\"actnbr-ellipsis actnbr-hidden\">\n",
       "<svg class=\"gridicon gridicons-ellipsis\" height=\"24\" viewbox=\"0 0 24 24\" width=\"24\" xmlns=\"http://www.w3.org/2000/svg\"><g><path d=\"M7 12c0 1.104-.896 2-2 2s-2-.896-2-2 .896-2 2-2 2 .896 2 2zm12-2c-1.104 0-2 .896-2 2s.896 2 2 2 2-.896 2-2-.896-2-2-2zm-7 0c-1.104 0-2 .896-2 2s.896 2 2 2 2-.896 2-2-.896-2-2-2z\"></path></g></svg> <div class=\"actnbr-popover tip tip-top-left actnbr-more\">\n",
       "<div class=\"tip-arrow\"></div>\n",
       "<div class=\"tip-inner\">\n",
       "<ul>\n",
       "<li class=\"actnbr-sitename\">\n",
       "<a href=\"https://sparkkorea.com\">\n",
       "<img alt=\"\" class=\"avatar avatar-50\" height=\"50\" src=\"https://s0.wp.com/i/logo/wpcom-gray-white.png\" width=\"50\"/>\t\t\t\t스파크 코리아\t\t\t</a>\n",
       "</li>\n",
       "<li class=\"actnbr-folded-customize\">\n",
       "<a href=\"https://sparkkorea.wordpress.com/wp-admin/customize.php?url=https%3A%2F%2Fsparkkorea.wordpress.com%2F\">\n",
       "<svg class=\"gridicon gridicons-customize\" height=\"20\" viewbox=\"0 0 24 24\" width=\"20\" xmlns=\"http://www.w3.org/2000/svg\"><g><path d=\"M2 6c0-1.505.78-3.08 2-4 0 .845.69 2 2 2 1.657 0 3 1.343 3 3 0 .386-.08.752-.212 1.09.74.594 1.476 1.19 2.19 1.81L8.9 11.98c-.62-.716-1.214-1.454-1.807-2.192C6.753 9.92 6.387 10 6 10c-2.21 0-4-1.79-4-4zm12.152 6.848l1.34-1.34c.607.304 1.283.492 2.008.492 2.485 0 4.5-2.015 4.5-4.5 0-.725-.188-1.4-.493-2.007L18 9l-2-2 3.507-3.507C18.9 3.188 18.225 3 17.5 3 15.015 3 13 5.015 13 7.5c0 .725.188 1.4.493 2.007L3 20l2 2 6.848-6.848c1.885 1.928 3.874 3.753 5.977 5.45l1.425 1.148 1.5-1.5-1.15-1.425c-1.695-2.103-3.52-4.092-5.448-5.977z\"></path></g></svg> <span>사용자 정의하기</span>\n",
       "</a>\n",
       "</li>\n",
       "<li class=\"actnbr-signup\"><a href=\"https://wordpress.com/start/\">가입</a></li>\n",
       "<li class=\"actnbr-login\"><a href=\"https://wordpress.com/log-in?redirect_to=https%3A%2F%2Fr-login.wordpress.com%2Fremote-login.php%3Faction%3Dlink%26back%3Dhttps%253A%252F%252Fsparkkorea.com%252F\">로그인</a></li>\n",
       "<li class=\"actnbr-shortlink\"><a href=\"https://wp.me/Pb5P34-2\">단축 링크 복사</a></li>\n",
       "<li class=\"flb-report\"><a href=\"http://en.wordpress.com/abuse/\">이 콘텐츠 신고하기</a></li>\n",
       "<li class=\"actnbr-subs\">\n",
       "<a href=\"https://subscribe.wordpress.com/\">구독 관리</a>\n",
       "</li>\n",
       "</ul>\n",
       "</div>\n",
       "</div>\n",
       "</li>\n",
       "</ul>\n",
       "</div>\n",
       "<script>\n",
       "window.addEventListener( \"load\", function( event ) {\n",
       "\tvar link = document.createElement( \"link\" );\n",
       "\tlink.href = \"https://s0.wp.com/wp-content/mu-plugins/actionbar/actionbar.css?v=20210915\";\n",
       "\tlink.type = \"text/css\";\n",
       "\tlink.rel = \"stylesheet\";\n",
       "\tdocument.head.appendChild( link );\n",
       "\n",
       "\tvar script = document.createElement( \"script\" );\n",
       "\tscript.src = \"https://s0.wp.com/wp-content/mu-plugins/actionbar/actionbar.js?v=20220329\";\n",
       "\tscript.defer = true;\n",
       "\tdocument.body.appendChild( script );\n",
       "} );\n",
       "</script>\n",
       "<div id=\"jp-carousel-loading-overlay\">\n",
       "<div id=\"jp-carousel-loading-wrapper\">\n",
       "<span id=\"jp-carousel-library-loading\"> </span>\n",
       "</div>\n",
       "</div>\n",
       "<div class=\"jp-carousel-overlay\" style=\"display: none;\">\n",
       "<div class=\"jp-carousel-container\">\n",
       "<!-- The Carousel Swiper -->\n",
       "<div class=\"jp-carousel-wrap swiper-container jp-carousel-swiper-container jp-carousel-transitions\" itemscope=\"\" itemtype=\"https://schema.org/ImageGallery\">\n",
       "<div class=\"jp-carousel swiper-wrapper\"></div>\n",
       "<div class=\"jp-swiper-button-prev swiper-button-prev\">\n",
       "<svg fill=\"none\" height=\"24\" viewbox=\"0 0 25 24\" width=\"25\" xmlns=\"http://www.w3.org/2000/svg\">\n",
       "<mask height=\"12\" id=\"maskPrev\" mask-type=\"alpha\" maskunits=\"userSpaceOnUse\" width=\"9\" x=\"8\" y=\"6\">\n",
       "<path d=\"M16.2072 16.59L11.6496 12L16.2072 7.41L14.8041 6L8.8335 12L14.8041 18L16.2072 16.59Z\" fill=\"white\"></path>\n",
       "</mask>\n",
       "<g mask=\"url(#maskPrev)\">\n",
       "<rect fill=\"#FFFFFF\" height=\"24\" width=\"23.8823\" x=\"0.579102\"></rect>\n",
       "</g>\n",
       "</svg>\n",
       "</div>\n",
       "<div class=\"jp-swiper-button-next swiper-button-next\">\n",
       "<svg fill=\"none\" height=\"24\" viewbox=\"0 0 25 24\" width=\"25\" xmlns=\"http://www.w3.org/2000/svg\">\n",
       "<mask height=\"12\" id=\"maskNext\" mask-type=\"alpha\" maskunits=\"userSpaceOnUse\" width=\"8\" x=\"8\" y=\"6\">\n",
       "<path d=\"M8.59814 16.59L13.1557 12L8.59814 7.41L10.0012 6L15.9718 12L10.0012 18L8.59814 16.59Z\" fill=\"white\"></path>\n",
       "</mask>\n",
       "<g mask=\"url(#maskNext)\">\n",
       "<rect fill=\"#FFFFFF\" height=\"24\" width=\"23.8822\" x=\"0.34375\"></rect>\n",
       "</g>\n",
       "</svg>\n",
       "</div>\n",
       "</div>\n",
       "<!-- The main close buton -->\n",
       "<div class=\"jp-carousel-close-hint\">\n",
       "<svg fill=\"none\" height=\"24\" viewbox=\"0 0 25 24\" width=\"25\" xmlns=\"http://www.w3.org/2000/svg\">\n",
       "<mask height=\"14\" id=\"maskClose\" mask-type=\"alpha\" maskunits=\"userSpaceOnUse\" width=\"15\" x=\"5\" y=\"5\">\n",
       "<path d=\"M19.3166 6.41L17.9135 5L12.3509 10.59L6.78834 5L5.38525 6.41L10.9478 12L5.38525 17.59L6.78834 19L12.3509 13.41L17.9135 19L19.3166 17.59L13.754 12L19.3166 6.41Z\" fill=\"white\"></path>\n",
       "</mask>\n",
       "<g mask=\"url(#maskClose)\">\n",
       "<rect fill=\"#FFFFFF\" height=\"24\" width=\"23.8823\" x=\"0.409668\"></rect>\n",
       "</g>\n",
       "</svg>\n",
       "</div>\n",
       "<!-- Image info, comments and meta -->\n",
       "<div class=\"jp-carousel-info\">\n",
       "<div class=\"jp-carousel-info-footer\">\n",
       "<div class=\"jp-carousel-pagination-container\">\n",
       "<div class=\"jp-swiper-pagination swiper-pagination\"></div>\n",
       "<div class=\"jp-carousel-pagination\"></div>\n",
       "</div>\n",
       "<div class=\"jp-carousel-photo-title-container\">\n",
       "<h2 class=\"jp-carousel-photo-caption\"></h2>\n",
       "</div>\n",
       "<div class=\"jp-carousel-photo-icons-container\">\n",
       "<a aria-label=\"사진 메타데이터 표시/숨기기 전환\" class=\"jp-carousel-icon-btn jp-carousel-icon-info\" href=\"#\">\n",
       "<span class=\"jp-carousel-icon\">\n",
       "<svg fill=\"none\" height=\"24\" viewbox=\"0 0 25 24\" width=\"25\" xmlns=\"http://www.w3.org/2000/svg\">\n",
       "<mask height=\"20\" id=\"maskInfo\" mask-type=\"alpha\" maskunits=\"userSpaceOnUse\" width=\"21\" x=\"2\" y=\"2\">\n",
       "<path clip-rule=\"evenodd\" d=\"M12.7537 2C7.26076 2 2.80273 6.48 2.80273 12C2.80273 17.52 7.26076 22 12.7537 22C18.2466 22 22.7046 17.52 22.7046 12C22.7046 6.48 18.2466 2 12.7537 2ZM11.7586 7V9H13.7488V7H11.7586ZM11.7586 11V17H13.7488V11H11.7586ZM4.79292 12C4.79292 16.41 8.36531 20 12.7537 20C17.142 20 20.7144 16.41 20.7144 12C20.7144 7.59 17.142 4 12.7537 4C8.36531 4 4.79292 7.59 4.79292 12Z\" fill=\"white\" fill-rule=\"evenodd\"></path>\n",
       "</mask>\n",
       "<g mask=\"url(#maskInfo)\">\n",
       "<rect fill=\"#FFFFFF\" height=\"24\" width=\"23.8823\" x=\"0.8125\"></rect>\n",
       "</g>\n",
       "</svg>\n",
       "</span>\n",
       "</a>\n",
       "<a aria-label=\"사진 댓글 표시/숨기기 전환\" class=\"jp-carousel-icon-btn jp-carousel-icon-comments\" href=\"#\">\n",
       "<span class=\"jp-carousel-icon\">\n",
       "<svg fill=\"none\" height=\"24\" viewbox=\"0 0 25 24\" width=\"25\" xmlns=\"http://www.w3.org/2000/svg\">\n",
       "<mask height=\"20\" id=\"maskComments\" mask-type=\"alpha\" maskunits=\"userSpaceOnUse\" width=\"21\" x=\"2\" y=\"2\">\n",
       "<path clip-rule=\"evenodd\" d=\"M4.3271 2H20.2486C21.3432 2 22.2388 2.9 22.2388 4V16C22.2388 17.1 21.3432 18 20.2486 18H6.31729L2.33691 22V4C2.33691 2.9 3.2325 2 4.3271 2ZM6.31729 16H20.2486V4H4.3271V18L6.31729 16Z\" fill=\"white\" fill-rule=\"evenodd\"></path>\n",
       "</mask>\n",
       "<g mask=\"url(#maskComments)\">\n",
       "<rect fill=\"#FFFFFF\" height=\"24\" width=\"23.8823\" x=\"0.34668\"></rect>\n",
       "</g>\n",
       "</svg>\n",
       "<span aria-label=\"이 이미지에는 댓글이 있습니다.\" class=\"jp-carousel-has-comments-indicator\"></span>\n",
       "</span>\n",
       "</a>\n",
       "</div>\n",
       "</div>\n",
       "<div class=\"jp-carousel-info-extra\">\n",
       "<div class=\"jp-carousel-info-content-wrapper\">\n",
       "<div class=\"jp-carousel-photo-title-container\">\n",
       "<h2 class=\"jp-carousel-photo-title\"></h2>\n",
       "</div>\n",
       "<div class=\"jp-carousel-comments-wrapper\">\n",
       "<div id=\"jp-carousel-comments-loading\">\n",
       "<span>댓글 로드중...</span>\n",
       "</div>\n",
       "<div class=\"jp-carousel-comments\"></div>\n",
       "<div id=\"jp-carousel-comment-form-container\">\n",
       "<span id=\"jp-carousel-comment-form-spinner\"> </span>\n",
       "<div id=\"jp-carousel-comment-post-results\"></div>\n",
       "<form id=\"jp-carousel-comment-form\">\n",
       "<label class=\"screen-reader-text\" for=\"jp-carousel-comment-form-comment-field\">댓글 달기...</label>\n",
       "<textarea class=\"jp-carousel-comment-form-field jp-carousel-comment-form-textarea\" id=\"jp-carousel-comment-form-comment-field\" name=\"comment\" placeholder=\"댓글 달기...\"></textarea>\n",
       "<div id=\"jp-carousel-comment-form-submit-and-info-wrapper\">\n",
       "<div id=\"jp-carousel-comment-form-commenting-as\">\n",
       "<fieldset>\n",
       "<label for=\"jp-carousel-comment-form-email-field\">이메일 (필수)</label>\n",
       "<input class=\"jp-carousel-comment-form-field jp-carousel-comment-form-text-field\" id=\"jp-carousel-comment-form-email-field\" name=\"email\" type=\"text\"/>\n",
       "</fieldset>\n",
       "<fieldset>\n",
       "<label for=\"jp-carousel-comment-form-author-field\">이름 (필수)</label>\n",
       "<input class=\"jp-carousel-comment-form-field jp-carousel-comment-form-text-field\" id=\"jp-carousel-comment-form-author-field\" name=\"author\" type=\"text\"/>\n",
       "</fieldset>\n",
       "<fieldset>\n",
       "<label for=\"jp-carousel-comment-form-url-field\">웹사이트</label>\n",
       "<input class=\"jp-carousel-comment-form-field jp-carousel-comment-form-text-field\" id=\"jp-carousel-comment-form-url-field\" name=\"url\" type=\"text\"/>\n",
       "</fieldset>\n",
       "</div>\n",
       "<input class=\"jp-carousel-comment-form-button\" id=\"jp-carousel-comment-form-button-submit\" name=\"submit\" type=\"submit\" value=\"댓글 달기\"/>\n",
       "</div>\n",
       "</form>\n",
       "</div>\n",
       "</div>\n",
       "<div class=\"jp-carousel-image-meta\">\n",
       "<div class=\"jp-carousel-title-and-caption\">\n",
       "<div class=\"jp-carousel-photo-info\">\n",
       "<h3 class=\"jp-carousel-caption\" itemprop=\"caption description\"></h3>\n",
       "</div>\n",
       "<div class=\"jp-carousel-photo-description\"></div>\n",
       "</div>\n",
       "<ul class=\"jp-carousel-image-exif\" style=\"display: none;\"></ul>\n",
       "<a class=\"jp-carousel-image-download\" style=\"display: none;\" target=\"_blank\">\n",
       "<svg fill=\"none\" height=\"24\" viewbox=\"0 0 25 24\" width=\"25\" xmlns=\"http://www.w3.org/2000/svg\">\n",
       "<mask height=\"18\" id=\"mask0\" mask-type=\"alpha\" maskunits=\"userSpaceOnUse\" width=\"19\" x=\"3\" y=\"3\">\n",
       "<path clip-rule=\"evenodd\" d=\"M5.84615 5V19H19.7775V12H21.7677V19C21.7677 20.1 20.8721 21 19.7775 21H5.84615C4.74159 21 3.85596 20.1 3.85596 19V5C3.85596 3.9 4.74159 3 5.84615 3H12.8118V5H5.84615ZM14.802 5V3H21.7677V10H19.7775V6.41L9.99569 16.24L8.59261 14.83L18.3744 5H14.802Z\" fill=\"white\" fill-rule=\"evenodd\"></path>\n",
       "</mask>\n",
       "<g mask=\"url(#mask0)\">\n",
       "<rect fill=\"#FFFFFF\" height=\"24\" width=\"23.8823\" x=\"0.870605\"></rect>\n",
       "</g>\n",
       "</svg>\n",
       "<span class=\"jp-carousel-download-text\"></span>\n",
       "</a>\n",
       "<div class=\"jp-carousel-image-map\" style=\"display: none;\"></div>\n",
       "</div>\n",
       "</div>\n",
       "</div>\n",
       "</div>\n",
       "</div>\n",
       "</div>\n",
       "<link crossorigin=\"anonymous\" href=\"https://s0.wp.com/_static/??-eJytjcESwiAMRH9IjF60HBy/BSFWKiQMCe3vS2fszZN6293ZfQtLMZ5JkRRyMyW1MZLAhFqcf749lMqheY1MkLtKKKAPzGiUOQlUlMIkcUYzx4D8Idl7kR18e7aOnFdz55qhk2CsjXrhR6qr3AQTyBILVnNrFBL+iblVt2DFXvPleDoP1g4Ha6cXQMiRTQ==&amp;cssminify=yes\" id=\"all-css-0-2\" media=\"all\" rel=\"stylesheet\" type=\"text/css\"/>\n",
       "<style id=\"core-block-supports-inline-css\">\n",
       ".wp-container-3.wp-container-3,.wp-container-7.wp-container-7,.wp-container-11.wp-container-11{flex-wrap:nowrap;}\n",
       "</style>\n",
       "<script id=\"comment-like-js-extra\">\n",
       "var comment_like_text = {\"loading\":\"\\uac00\\uc838\\uc624\\ub294 \\uc911...\",\"swipeUrl\":\"https:\\/\\/s0.wp.com\\/wp-content\\/mu-plugins\\/comment-likes\\/js\\/lib\\/swipe.js?ver=20131008\"};\n",
       "</script>\n",
       "<script id=\"jetpack-block-contact-form-js-extra\">\n",
       "var Jetpack_Block_Assets_Base_Url = {\"url\":\"https:\\/\\/s0.wp.com\\/wp-content\\/mu-plugins\\/jetpack-plugin\\/production\\/_inc\\/blocks\\/\"};\n",
       "</script>\n",
       "<script id=\"jetpack-carousel-js-extra\">\n",
       "var jetpackSwiperLibraryPath = {\"url\":\"https:\\/\\/s0.wp.com\\/wp-content\\/mu-plugins\\/jetpack-plugin\\/production\\/_inc\\/build\\/carousel\\/swiper-bundle.min.js\"};\n",
       "var jetpackCarouselStrings = {\"widths\":[370,700,1000,1200,1400,2000],\"is_logged_in\":\"\",\"lang\":\"ko\",\"ajaxurl\":\"https:\\/\\/sparkkorea.com\\/wp-admin\\/admin-ajax.php\",\"nonce\":\"d42128df90\",\"display_exif\":\"1\",\"display_comments\":\"1\",\"single_image_gallery\":\"1\",\"single_image_gallery_media_file\":\"\",\"background_color\":\"black\",\"comment\":\"\\ub313\\uae00\",\"post_comment\":\"\\ub313\\uae00 \\ub2ec\\uae30\",\"write_comment\":\"\\ub313\\uae00 \\ub2ec\\uae30...\",\"loading_comments\":\"\\ub313\\uae00 \\ub85c\\ub4dc\\uc911...\",\"download_original\":\"\\uc804\\uccb4 \\ud06c\\uae30 <span class=\\\"photo-size\\\">{0}<span class=\\\"photo-size-times\\\">\\u00d7<\\/span>{1}<\\/span> \\ubcf4\\uae30\",\"no_comment_text\":\"\\ub313\\uae00\\ub85c \\uba87\\uac1c\\uc758 \\uae00\\uc790\\ub97c \\uaf2d \\uc62c\\ub824\\uc8fc\\uc138\\uc694.\",\"no_comment_email\":\"\\ub313\\uae00\\uc5d0 \\uc774\\uba54\\uc77c \\uc8fc\\uc18c\\ub97c \\ub123\\uc5b4\\uc8fc\\uc138\\uc694.\",\"no_comment_author\":\"\\ub313\\uae00\\uc5d0 \\uc774\\ub984\\uc744 \\ub123\\uc5b4\\uc8fc\\uc138\\uc694.\",\"comment_post_error\":\"\\uc8c4\\uc1a1\\ud569\\ub2c8\\ub2e4. \\ub313\\uae00\\uc744 \\uc62c\\ub9ac\\ub294\\ub370 \\uc5d0\\ub7ec\\uac00 \\ubc1c\\uc0dd\\ud588\\uc2b5\\ub2c8\\ub2e4. \\ub098\\uc911\\uc5d0 \\ub2e4\\uc2dc \\ud574\\uc8fc\\uc138\\uc694.\",\"comment_approved\":\"\\ub313\\uae00\\uc774 \\uc2b9\\uc778\\ub410\\uc2b5\\ub2c8\\ub2e4.\",\"comment_unapproved\":\"\\ub313\\uae00\\uc774 \\uc2b9\\uc778 \\uad00\\ub9ac \\uc911\\uc785\\ub2c8\\ub2e4.\",\"camera\":\"\\uce74\\uba54\\ub77c\",\"aperture\":\"\\uc870\\ub9ac\\uac1c\",\"shutter_speed\":\"\\uc154\\ud130 \\uc18d\\ub3c4\",\"focal_length\":\"\\ucd1b\\uc810 \\uac70\\ub9ac\",\"copyright\":\"\\uc800\\uc791\\uad8c\",\"comment_registration\":\"0\",\"require_name_email\":\"1\",\"login_url\":\"https:\\/\\/sparkkorea.wordpress.com\\/wp-login.php?redirect_to=https%3A%2F%2Fsparkkorea.com%2F\",\"blog_id\":\"163927570\",\"meta_data\":[\"camera\",\"aperture\",\"shutter_speed\",\"focal_length\",\"copyright\"],\"stats_query_args\":\"blog=163927570&v=wpcom&tz=9&user_id=0&subd=sparkkorea\",\"is_public\":\"1\"};\n",
       "</script>\n",
       "<script crossorigin=\"anonymous\" src=\"https://s0.wp.com/_static/??-eJylU9FSAyEM/CEpPbU6Pjh+isNBeuYOCBPgav/eXG07tZ61jm8k2d1sAuhNUpZigVh0n7WDES2k90Wfb/RJKVSVfO0wZm0pBEkpjwPkifMlcU4sbxAElmqr3dY4dTsxohmxMwUpXgXPAyZRj4Nak61ZrfHoD6P11X36wGA6yJ6MA7cIGOcwwWSKvD0tX2zdeWqNv7AN40RKtYYn6QIsJ1XY2OHbJk5IPZQkkH2sE5OrdlqHDnLy4mJnRhUinzVDThQzjqBGdEAzmZ/GdZiLHiE64qmUyG/X6L1ggMs1JIYOBGsKseIaCwaY291hsK5K2AJ3UmHQY7Na3C+Wuq3o3V5S7mlqfvTyR+tz3a/a7KuI69aT3IyeiMYWeU4c9Iiw+YfibjRrmGoGf0QfEr/YPcDUJskvOguF9xKem4fHp1XTLFd3/QcM5WA2\" type=\"text/javascript\"></script>\n",
       "<script type=\"text/javascript\">\n",
       "// <![CDATA[\n",
       "(function() {\n",
       "try{\n",
       "  if ( window.external &&'msIsSiteMode' in window.external) {\n",
       "    if (window.external.msIsSiteMode()) {\n",
       "      var jl = document.createElement('script');\n",
       "      jl.type='text/javascript';\n",
       "      jl.async=true;\n",
       "      jl.src='/wp-content/plugins/ie-sitemode/custom-jumplist.php';\n",
       "      var s = document.getElementsByTagName('script')[0];\n",
       "      s.parentNode.insertBefore(jl, s);\n",
       "    }\n",
       "  }\n",
       "}catch(e){}\n",
       "})();\n",
       "// ]]>\n",
       "</script><script defer=\"\" src=\"//stats.wp.com/w.js?63\"></script> <script type=\"text/javascript\">\n",
       "_tkq = window._tkq || [];\n",
       "_stq = window._stq || [];\n",
       "_tkq.push(['storeContext', {'blog_id':'163927570','blog_tz':'9','user_lang':'ko','blog_lang':'ko','user_id':'0'}]);\n",
       "_stq.push(['view', {'blog':'163927570','v':'wpcom','tz':'9','user_id':'0','post':'2','subd':'sparkkorea'}]);\n",
       "_stq.push(['extra', {'crypt':'UE40eW5QN0p8M2Y/RE1mNzc2NTVTamdsd0xoLz9RQkM2K298TXY9bERQMXc2MjhEaVZfb2wwakRoSj0mUkp1THptM1NdbkV1WjZIcU9mVWQmPUIvMlN6Jk8wW3NYVEJ3dWZOWExuWD8xeVkmK0dUTXo0Y2Zla35pLTE0dlY2QWxQL01fUWNOQUp6Ui1sbnctaHA1W3JNX1ZKel1BfkIvQXpNbStIfHB3THE/Y3oub2YuZ2hJLEVYN2I0MVprWVs1aFJHJVR0aUJ5MUxKUixHbUp0fkJNRjVYc198cHk9OGtzWDdFYlI2T3lOfnUrWSVKRzNPdldIVnlbdmE5VXRCdV9+RiYsRkNXOS54bnw='}]);\n",
       "_stq.push([ 'clickTrackerInit', '163927570', '2' ]);\n",
       "\t</script>\n",
       "<noscript><img alt=\"\" src=\"https://pixel.wp.com/b.gif?v=noscript\" style=\"height:1px;width:1px;overflow:hidden;position:absolute;bottom:1px;\"/></noscript>\n",
       "<script>\n",
       "if ( 'object' === typeof wpcom_mobile_user_agent_info ) {\n",
       "\n",
       "\twpcom_mobile_user_agent_info.init();\n",
       "\tvar mobileStatsQueryString = \"\";\n",
       "\t\n",
       "\tif( false !== wpcom_mobile_user_agent_info.matchedPlatformName )\n",
       "\t\tmobileStatsQueryString += \"&x_\" + 'mobile_platforms' + '=' + wpcom_mobile_user_agent_info.matchedPlatformName;\n",
       "\t\n",
       "\tif( false !== wpcom_mobile_user_agent_info.matchedUserAgentName )\n",
       "\t\tmobileStatsQueryString += \"&x_\" + 'mobile_devices' + '=' + wpcom_mobile_user_agent_info.matchedUserAgentName;\n",
       "\t\n",
       "\tif( wpcom_mobile_user_agent_info.isIPad() )\n",
       "\t\tmobileStatsQueryString += \"&x_\" + 'ipad_views' + '=' + 'views';\n",
       "\n",
       "\tif( \"\" != mobileStatsQueryString ) {\n",
       "\t\tnew Image().src = document.location.protocol + '//pixel.wp.com/g.gif?v=wpcom-no-pv' + mobileStatsQueryString + '&baba=' + Math.random();\n",
       "\t}\n",
       "\t\n",
       "}\n",
       "</script>\n",
       "<style>img#wpstats {\n",
       "\t\t\tposition: absolute !important;\n",
       "\t\t\tclip: rect(0, 0, 0, 0);\n",
       "\t\t\tpadding: 0 !important;\n",
       "\t\t\tborder: 0 !important;\n",
       "\t\t\theight: 0 !important;\n",
       "\t\t\twidth: 0 !important;\n",
       "\t\t\toverflow: hidden;\n",
       "\t\t}</style><img alt=\"\" id=\"wpstats\" src=\"https://pixel.wp.com/g.gif?blog=163927570&amp;v=wpcom&amp;tz=9&amp;user_id=0&amp;post=2&amp;subd=sparkkorea&amp;host=sparkkorea.com&amp;ref=&amp;rand=0.11942418086780249\"/><div class=\"comment-likes-overlay\" style=\"display: none;\"></div><script defer=\"\" src=\"https://s0.wp.com/wp-content/mu-plugins/actionbar/actionbar.js?v=20220329\"></script></body></html>"
      ]
     },
     "execution_count": 87,
     "metadata": {},
     "output_type": "execute_result"
    }
   ],
   "source": [
    "bs4.BeautifulSoup(targetSource, \"html.parser\")"
   ]
  },
  {
   "cell_type": "code",
   "execution_count": 25,
   "id": "bcc7c611-fb81-4db2-bdfd-abb99bb0beb8",
   "metadata": {},
   "outputs": [],
   "source": [
    "## 만약 자동화된 크롬에서 요소를 클릭하고 싶으면 어떡할까?"
   ]
  },
  {
   "cell_type": "code",
   "execution_count": 26,
   "id": "0fd044aa-d504-4ad6-83dd-ea2a40571a77",
   "metadata": {},
   "outputs": [],
   "source": [
    "## 크롬 개발자 도구에서 원하는 요소를 검사 - 검사 - copy - copyXpath\n",
    "## 이를 통해 해당 요소가 지닌 고유 경로 정보를 가져올 수 있다."
   ]
  },
  {
   "cell_type": "code",
   "execution_count": 88,
   "id": "9d46ed3c-620c-45ea-8778-03e5d46e5b76",
   "metadata": {},
   "outputs": [],
   "source": [
    "quizBtn = '//*[@id=\"menu-item-382\"]/a'\n",
    "## Xpath는 기본적으로 큰 따옴표를 지니고 있는 경우가 많으므로 작은 따옴표로 묶어주자."
   ]
  },
  {
   "cell_type": "code",
   "execution_count": 89,
   "id": "7180d108-7432-456f-b30a-bbf4d1bea9c9",
   "metadata": {},
   "outputs": [],
   "source": [
    "from selenium.webdriver.common.by import By"
   ]
  },
  {
   "cell_type": "code",
   "execution_count": 91,
   "id": "4316b07e-7e7a-4eda-802e-9c95379de3ff",
   "metadata": {
    "tags": []
   },
   "outputs": [],
   "source": [
    "driver.find_element(By.XPATH, '//*[@id=\"menu-item-382\"]/a').click()\n",
    "## 기준 코드"
   ]
  },
  {
   "cell_type": "code",
   "execution_count": 78,
   "id": "ea6e83fe-37b1-4026-8910-eeb7491c9710",
   "metadata": {},
   "outputs": [],
   "source": [
    "googleUrl = \"https://www.google.co.kr/\""
   ]
  },
  {
   "cell_type": "code",
   "execution_count": 79,
   "id": "5f946f0a-a1a8-4fe2-99d0-237a6a686ba8",
   "metadata": {},
   "outputs": [],
   "source": [
    "driver.get(googleUrl)"
   ]
  },
  {
   "cell_type": "code",
   "execution_count": 80,
   "id": "c81c9c42-6c48-4bc8-9a76-b237cee136d4",
   "metadata": {},
   "outputs": [],
   "source": [
    "googleInputXpath = '/html/body/div[1]/div[3]/form/div[1]/div[1]/div[1]/div/div[2]/input'"
   ]
  },
  {
   "cell_type": "code",
   "execution_count": 81,
   "id": "8544e641-e24d-4e3a-adc6-b59b40057a03",
   "metadata": {},
   "outputs": [],
   "source": [
    "from selenium.webdriver.common.keys import Keys"
   ]
  },
  {
   "cell_type": "code",
   "execution_count": 82,
   "id": "bcbb309b-9b60-4425-b894-73467050d259",
   "metadata": {},
   "outputs": [],
   "source": [
    "driver.find_element(By.XPATH, googleInputXpath).send_keys(\"selenium\")"
   ]
  },
  {
   "cell_type": "code",
   "execution_count": 86,
   "id": "073c2c8e-380c-435e-9cf7-a73b67d835bb",
   "metadata": {},
   "outputs": [],
   "source": [
    "driver.find_element(By.XPATH, googleInputXpath).send_keys(Keys.ENTER)"
   ]
  },
  {
   "cell_type": "code",
   "execution_count": null,
   "id": "e708ab55-0e13-4b64-bc51-9fe39254ad0d",
   "metadata": {},
   "outputs": [],
   "source": [
    "## capcha 는 뚫을 수 없다. 다른 곳을 찾아보자."
   ]
  },
  {
   "cell_type": "code",
   "execution_count": null,
   "id": "60c9c78c-a244-4281-aeb5-871489f1f577",
   "metadata": {},
   "outputs": [],
   "source": [
    "## requests : 웹에 접근해서 가장 원시적인 페이지 소스를 가져오는 기능을 수행하는 라이브러리."
   ]
  },
  {
   "cell_type": "code",
   "execution_count": null,
   "id": "ab8acee0-eb4b-4e2b-be11-519ab002690d",
   "metadata": {},
   "outputs": [],
   "source": [
    "## bs4.BeautifulSoup : (\"html.parser\") 불러온 페이지 소스들을 태그 형태로 정돈해주는 기능을 수행.\n",
    "##                                    크롤링이 가능하도록 도와주는 라이브러리."
   ]
  },
  {
   "cell_type": "code",
   "execution_count": null,
   "id": "bdddabd5-a81e-43fa-a5ca-fab631117f9e",
   "metadata": {},
   "outputs": [],
   "source": [
    "## selenium : 브라우저 자동화 라이브러리."
   ]
  },
  {
   "cell_type": "code",
   "execution_count": null,
   "id": "3cf92eb8-50c7-4736-aa1a-c1f485e00c49",
   "metadata": {},
   "outputs": [],
   "source": [
    "# gmail - 비밀번호 들어가서 메일 작성. 계속 사용할 수 있다.\n",
    "# api oauth : 시잇팔 뭔지 모르겠다. 제한 사항이 있다는데 별 얘기 없었다."
   ]
  },
  {
   "cell_type": "code",
   "execution_count": null,
   "id": "d0d1ccd0-153c-440b-86be-f2ad7036b23a",
   "metadata": {},
   "outputs": [],
   "source": [
    "# Google계정-보안-보안-하단에 앱 비밀번호 - 앱에서 메일 선택 - Windows 컴퓨터 - 앱 비밀번호가 생성됨"
   ]
  },
  {
   "cell_type": "code",
   "execution_count": null,
   "id": "9a938fb0-3e0e-4cd4-aa08-0fc464142c65",
   "metadata": {},
   "outputs": [],
   "source": [
    "# 앱 비밀번호를 생성한다. 이를 통해 g메일에서 사용하는 16자리 비밀번호를 생성할 수 있다."
   ]
  },
  {
   "cell_type": "code",
   "execution_count": null,
   "id": "83f72524-750d-40ab-829b-10fc2d67f2fa",
   "metadata": {},
   "outputs": [],
   "source": []
  },
  {
   "cell_type": "code",
   "execution_count": null,
   "id": "2b38933a-ce76-47e5-997b-ee00e159c7dd",
   "metadata": {},
   "outputs": [],
   "source": [
    "## 외부 연동 데이터 수집 - 공공데이터 포털을 활용한 데이터 수집 방법."
   ]
  },
  {
   "cell_type": "code",
   "execution_count": null,
   "id": "bae48b7a-56bc-4d8e-bd47-da32d156667e",
   "metadata": {
    "tags": []
   },
   "outputs": [],
   "source": [
    "# data.go.kr 에서 오픈한 정보들을 확보할 수 있다."
   ]
  },
  {
   "cell_type": "code",
   "execution_count": null,
   "id": "2dcbc861-04ba-450c-b4d9-d23e35e41e1e",
   "metadata": {
    "tags": []
   },
   "outputs": [],
   "source": [
    "# 1. 파일 데이터 불러오기"
   ]
  },
  {
   "cell_type": "code",
   "execution_count": null,
   "id": "5c4c50bf-c6a5-4729-8e67-ab78da9dc6d4",
   "metadata": {},
   "outputs": [],
   "source": [
    "# 파일데이터는 정기적으로 의미 있는 자료를 전달,\n",
    "# 오픈API는 실시간으로 정보가 업로드된다."
   ]
  },
  {
   "cell_type": "code",
   "execution_count": 1,
   "id": "c9810340-e99e-4277-98af-06f36ce2cdd8",
   "metadata": {},
   "outputs": [],
   "source": [
    "mainUrl = \"http://openapi.molit.go.kr/OpenAPI_ToolInstallPackage/service/rest/RTMSOBJSvc/getRTMSDataSvcAptTradeDev?LAWD_CD=11110&DEAL_YMD=201512&serviceKey=AT33s775KYpJOkUBJu0dxkJuUeIfDIOJRzAH084EQS3JN%2BzFjErLHuk%2FGZa9L4gBTSGCzeA69tI9PwLp7B37IQ%3D%3D\""
   ]
  },
  {
   "cell_type": "code",
   "execution_count": 2,
   "id": "04f3efed-6a01-4718-bbb1-0cce0a42013f",
   "metadata": {},
   "outputs": [],
   "source": [
    "import requests\n",
    "import bs4"
   ]
  },
  {
   "cell_type": "code",
   "execution_count": 4,
   "id": "39e7cf09-b415-4d14-b21d-59e0860d3084",
   "metadata": {},
   "outputs": [],
   "source": [
    "resp = requests.get(mainUrl)"
   ]
  },
  {
   "cell_type": "code",
   "execution_count": 5,
   "id": "942d6312-9a21-45c6-a243-dfda8b448c97",
   "metadata": {},
   "outputs": [],
   "source": [
    "xmlObj = resp.text"
   ]
  },
  {
   "cell_type": "code",
   "execution_count": 6,
   "id": "0b688be8-d107-4359-8f6b-d9a83e5ba036",
   "metadata": {
    "collapsed": true,
    "jupyter": {
     "outputs_hidden": true
    },
    "tags": []
   },
   "outputs": [
    {
     "data": {
      "text/plain": [
       "'<?xml version=\"1.0\" encoding=\"UTF-8\" standalone=\"yes\"?><response><header><resultCode>00</resultCode><resultMsg>NORMAL SERVICE.</resultMsg></header><body><items><item><거래금액>    82,500</거래금액><거래유형> </거래유형><건축년도>2008</건축년도><년>2015</년><도로명>사직로8길</도로명><도로명건물본번호코드>00004</도로명건물본번호코드><도로명건물부번호코드>00000</도로명건물부번호코드><도로명시군구코드>11110</도로명시군구코드><도로명일련번호코드>03</도로명일련번호코드><도로명지상지하코드>0</도로명지상지하코드><도로명코드>4100135</도로명코드><법정동> 사직동</법정동><법정동본번코드>0009</법정동본번코드><법정동부번코드>0000</법정동부번코드><법정동시군구코드>11110</법정동시군구코드><법정동읍면동코드>11500</법정동읍면동코드><법정동지번코드>1</법정동지번코드><아파트>광화문스페이스본(101동~105동)</아파트><월>12</월><일>10</일><일련번호>11110-2203</일련번호><전용면적>94.51</전용면적><중개사소재지> </중개사소재지><지번>9</지번><지역코드>11110</지역코드><층>11</층><해제사유발생일> </해제사유발생일><해제여부> </해제여부></item><item><거래금액>    60,000</거래금액><거래유형> </거래유형><건축년도>1981</건축년도><년>2015</년><도로명>세종대로23길</도로명><도로명건물본번호코드>00047</도로명건물본번호코드><도로명건물부번호코드>00000</도로명건물부번호코드><도로명시군구코드>11110</도로명시군구코드><도로명일련번호코드>02</도로명일련번호코드><도로명지상지하코드>0</도로명지상지하코드><도로명코드>4100190</도로명코드><법정동> 당주동</법정동><법정동본번코드>0145</법정동본번코드><법정동부번코드>0000</법정동부번코드><법정동시군구코드>11110</법정동시군구코드><법정동읍면동코드>11700</법정동읍면동코드><법정동지번코드>1</법정동지번코드><아파트>롯데미도파광화문빌딩</아파트><월>12</월><일>22</일><일련번호>11110-12</일련번호><전용면적>149.95</전용면적><중개사소재지> </중개사소재지><지번>145</지번><지역코드>11110</지역코드><층>8</층><해제사유발생일> </해제사유발생일><해제여부> </해제여부></item><item><거래금액>   130,000</거래금액><거래유형> </거래유형><건축년도>2004</건축년도><년>2015</년><도로명>경희궁2길</도로명><도로명건물본번호코드>00005</도로명건물본번호코드><도로명건물부번호코드>00005</도로명건물부번호코드><도로명시군구코드>11110</도로명시군구코드><도로명일련번호코드>01</도로명일련번호코드><도로명지상지하코드>0</도로명지상지하코드><도로명코드>4100005</도로명코드><법정동> 내수동</법정동><법정동본번코드>0110</법정동본번코드><법정동부번코드>0015</법정동부번코드><법정동시군구코드>11110</법정동시군구코드><법정동읍면동코드>11800</법정동읍면동코드><법정동지번코드>1</법정동지번코드><아파트>킹스매너</아파트><월>12</월><일>8</일><일련번호>11110-118</일련번호><전용면적>194.43</전용면적><중개사소재지> </중개사소재지><지번>110-15</지번><지역코드>11110</지역코드><층>6</층><해제사유발생일> </해제사유발생일><해제여부> </해제여부></item><item><거래금액>   105,000</거래금액><거래유형> </거래유형><건축년도>2004</건축년도><년>2015</년><도로명>사직로8길</도로명><도로명건물본번호코드>00024</도로명건물본번호코드><도로명건물부번호코드>00000</도로명건물부번호코드><도로명시군구코드>11110</도로명시군구코드><도로명일련번호코드>05</도로명일련번호코드><도로명지상지하코드>0</도로명지상지하코드><도로명코드>4100135</도로명코드><법정동> 내수동</법정동><법정동본번코드>0071</법정동본번코드><법정동부번코드>0000</법정동부번코드><법정동시군구코드>11110</법정동시군구코드><법정동읍면동코드>11800</법정동읍면동코드><법정동지번코드>1</법정동지번코드><아파트>경희궁의아침2단지</아파트><월>12</월><일>14</일><일련번호>11110-115</일련번호><전용면적>124.17</전용면적><중개사소재지> </중개사소재지><지번>71</지번><지역코드>11110</지역코드><층>8</층><해제사유발생일> </해제사유발생일><해제여부> </해제여부></item><item><거래금액>   120,000</거래금액><거래유형> </거래유형><건축년도>2003</건축년도><년>2015</년><도로명>사직로8길</도로명><도로명건물본번호코드>00020</도로명건물본번호코드><도로명건물부번호코드>00000</도로명건물부번호코드><도로명시군구코드>11110</도로명시군구코드><도로명일련번호코드>05</도로명일련번호코드><도로명지상지하코드>0</도로명지상지하코드><도로명코드>4100135</도로명코드><법정동> 내수동</법정동><법정동본번코드>0095</법정동본번코드><법정동부번코드>0000</법정동부번코드><법정동시군구코드>11110</법정동시군구코드><법정동읍면동코드>11800</법정동읍면동코드><법정동지번코드>1</법정동지번코드><아파트>경희궁파크팰리스</아파트><월>12</월><일>24</일><일련번호>11110-107</일련번호><전용면적>146.33</전용면적><중개사소재지> </중개사소재지><지번>95</지번><지역코드>11110</지역코드><층>4</층><해제사유발생일> </해제사유발생일><해제여부> </해제여부></item><item><거래금액>    17,000</거래금액><거래유형> </거래유형><건축년도>2014</건축년도><년>2015</년><도로명>대학로</도로명><도로명건물본번호코드>00047</도로명건물본번호코드><도로명건물부번호코드>00000</도로명건물부번호코드><도로명시군구코드>11110</도로명시군구코드><도로명일련번호코드>05</도로명일련번호코드><도로명지상지하코드>0</도로명지상지하코드><도로명코드>3100002</도로명코드><법정동> 연건동</법정동><법정동본번코드>0195</법정동본번코드><법정동부번코드>0010</법정동부번코드><법정동시군구코드>11110</법정동시군구코드><법정동읍면동코드>16600</법정동읍면동코드><법정동지번코드>1</법정동지번코드><아파트>이화에수풀</아파트><월>12</월><일>17</일><일련번호>11110-2359</일련번호><전용면적>16.98</전용면적><중개사소재지> </중개사소재지><지번>195-10</지번><지역코드>11110</지역코드><층>8</층><해제사유발생일> </해제사유발생일><해제여부> </해제여부></item><item><거래금액>    17,000</거래금액><거래유형> </거래유형><건축년도>2014</건축년도><년>2015</년><도로명>대학로</도로명><도로명건물본번호코드>00047</도로명건물본번호코드><도로명건물부번호코드>00000</도로명건물부번호코드><도로명시군구코드>11110</도로명시군구코드><도로명일련번호코드>05</도로명일련번호코드><도로명지상지하코드>0</도로명지상지하코드><도로명코드>3100002</도로명코드><법정동> 연건동</법정동><법정동본번코드>0195</법정동본번코드><법정동부번코드>0010</법정동부번코드><법정동시군구코드>11110</법정동시군구코드><법정동읍면동코드>16600</법정동읍면동코드><법정동지번코드>1</법정동지번코드><아파트>이화에수풀</아파트><월>12</월><일>18</일><일련번호>11110-2359</일련번호><전용면적>16.98</전용면적><중개사소재지> </중개사소재지><지번>195-10</지번><지역코드>11110</지역코드><층>4</층><해제사유발생일> </해제사유발생일><해제여부> </해제여부></item><item><거래금액>    57,000</거래금액><거래유형> </거래유형><건축년도>2006</건축년도><년>2015</년><도로명>혜화로3가길</도로명><도로명건물본번호코드>00030</도로명건물본번호코드><도로명건물부번호코드>00000</도로명건물부번호코드><도로명시군구코드>11110</도로명시군구코드><도로명일련번호코드>01</도로명일련번호코드><도로명지상지하코드>0</도로명지상지하코드><도로명코드>4100544</도로명코드><법정동> 명륜1가</법정동><법정동본번코드>0019</법정동본번코드><법정동부번코드>0000</법정동부번코드><법정동시군구코드>11110</법정동시군구코드><법정동읍면동코드>17000</법정동읍면동코드><법정동지번코드>1</법정동지번코드><아파트>렉스빌</아파트><월>12</월><일>29</일><일련번호>11110-973</일련번호><전용면적>106.98</전용면적><중개사소재지> </중개사소재지><지번>19</지번><지역코드>11110</지역코드><층>3</층><해제사유발생일> </해제사유발생일><해제여부> </해제여부></item><item><거래금액>    44,000</거래금액><거래유형> </거래유형><건축년도>1995</건축년도><년>2015</년><도로명>창경궁로</도로명><도로명건물본번호코드>00265</도로명건물본번호코드><도로명건물부번호코드>00000</도로명건물부번호코드><도로명시군구코드>11110</도로명시군구코드><도로명일련번호코드>07</도로명일련번호코드><도로명지상지하코드>0</도로명지상지하코드><도로명코드>3005008</도로명코드><법정동> 명륜2가</법정동><법정동본번코드>0004</법정동본번코드><법정동부번코드>0000</법정동부번코드><법정동시군구코드>11110</법정동시군구코드><법정동읍면동코드>17100</법정동읍면동코드><법정동지번코드>1</법정동지번코드><아파트>아남1</아파트><월>12</월><일>1</일><일련번호>11110-25</일련번호><전용면적>84.8</전용면적><중개사소재지> </중개사소재지><지번>4</지번><지역코드>11110</지역코드><층>18</층><해제사유발생일> </해제사유발생일><해제여부> </해제여부></item><item><거래금액>    52,000</거래금액><거래유형> </거래유형><건축년도>1995</건축년도><년>2015</년><도로명>창경궁로</도로명><도로명건물본번호코드>00265</도로명건물본번호코드><도로명건물부번호코드>00000</도로명건물부번호코드><도로명시군구코드>11110</도로명시군구코드><도로명일련번호코드>07</도로명일련번호코드><도로명지상지하코드>0</도로명지상지하코드><도로명코드>3005008</도로명코드><법정동> 명륜2가</법정동><법정동본번코드>0004</법정동본번코드><법정동부번코드>0000</법정동부번코드><법정동시군구코드>11110</법정동시군구코드><법정동읍면동코드>17100</법정동읍면동코드><법정동지번코드>1</법정동지번코드><아파트>아남1</아파트><월>12</월><일>10</일><일련번호>11110-25</일련번호><전용면적>84.9</전용면적><중개사소재지> </중개사소재지><지번>4</지번><지역코드>11110</지역코드><층>12</층><해제사유발생일> </해제사유발생일><해제여부> </해제여부></item></items><numOfRows>10</numOfRows><pageNo>1</pageNo><totalCount>49</totalCount></body></response>'"
      ]
     },
     "execution_count": 6,
     "metadata": {},
     "output_type": "execute_result"
    }
   ],
   "source": [
    "xmlObj"
   ]
  },
  {
   "cell_type": "code",
   "execution_count": 10,
   "id": "a0a408bf-a4be-4bb6-8af5-eb77ee92b0f8",
   "metadata": {},
   "outputs": [],
   "source": [
    "targetObject = bs4.BeautifulSoup(xmlObj, \"lxml-xml\")"
   ]
  },
  {
   "cell_type": "code",
   "execution_count": 11,
   "id": "38475cff-3509-4753-9e81-eb81b3005c2c",
   "metadata": {
    "collapsed": true,
    "jupyter": {
     "outputs_hidden": true
    },
    "tags": []
   },
   "outputs": [
    {
     "data": {
      "text/plain": [
       "<?xml version=\"1.0\" encoding=\"utf-8\"?>\n",
       "<response><header><resultCode>00</resultCode><resultMsg>NORMAL SERVICE.</resultMsg></header><body><items><item><거래금액>    82,500</거래금액><거래유형> </거래유형><건축년도>2008</건축년도><년>2015</년><도로명>사직로8길</도로명><도로명건물본번호코드>00004</도로명건물본번호코드><도로명건물부번호코드>00000</도로명건물부번호코드><도로명시군구코드>11110</도로명시군구코드><도로명일련번호코드>03</도로명일련번호코드><도로명지상지하코드>0</도로명지상지하코드><도로명코드>4100135</도로명코드><법정동> 사직동</법정동><법정동본번코드>0009</법정동본번코드><법정동부번코드>0000</법정동부번코드><법정동시군구코드>11110</법정동시군구코드><법정동읍면동코드>11500</법정동읍면동코드><법정동지번코드>1</법정동지번코드><아파트>광화문스페이스본(101동~105동)</아파트><월>12</월><일>10</일><일련번호>11110-2203</일련번호><전용면적>94.51</전용면적><중개사소재지> </중개사소재지><지번>9</지번><지역코드>11110</지역코드><층>11</층><해제사유발생일> </해제사유발생일><해제여부> </해제여부></item><item><거래금액>    60,000</거래금액><거래유형> </거래유형><건축년도>1981</건축년도><년>2015</년><도로명>세종대로23길</도로명><도로명건물본번호코드>00047</도로명건물본번호코드><도로명건물부번호코드>00000</도로명건물부번호코드><도로명시군구코드>11110</도로명시군구코드><도로명일련번호코드>02</도로명일련번호코드><도로명지상지하코드>0</도로명지상지하코드><도로명코드>4100190</도로명코드><법정동> 당주동</법정동><법정동본번코드>0145</법정동본번코드><법정동부번코드>0000</법정동부번코드><법정동시군구코드>11110</법정동시군구코드><법정동읍면동코드>11700</법정동읍면동코드><법정동지번코드>1</법정동지번코드><아파트>롯데미도파광화문빌딩</아파트><월>12</월><일>22</일><일련번호>11110-12</일련번호><전용면적>149.95</전용면적><중개사소재지> </중개사소재지><지번>145</지번><지역코드>11110</지역코드><층>8</층><해제사유발생일> </해제사유발생일><해제여부> </해제여부></item><item><거래금액>   130,000</거래금액><거래유형> </거래유형><건축년도>2004</건축년도><년>2015</년><도로명>경희궁2길</도로명><도로명건물본번호코드>00005</도로명건물본번호코드><도로명건물부번호코드>00005</도로명건물부번호코드><도로명시군구코드>11110</도로명시군구코드><도로명일련번호코드>01</도로명일련번호코드><도로명지상지하코드>0</도로명지상지하코드><도로명코드>4100005</도로명코드><법정동> 내수동</법정동><법정동본번코드>0110</법정동본번코드><법정동부번코드>0015</법정동부번코드><법정동시군구코드>11110</법정동시군구코드><법정동읍면동코드>11800</법정동읍면동코드><법정동지번코드>1</법정동지번코드><아파트>킹스매너</아파트><월>12</월><일>8</일><일련번호>11110-118</일련번호><전용면적>194.43</전용면적><중개사소재지> </중개사소재지><지번>110-15</지번><지역코드>11110</지역코드><층>6</층><해제사유발생일> </해제사유발생일><해제여부> </해제여부></item><item><거래금액>   105,000</거래금액><거래유형> </거래유형><건축년도>2004</건축년도><년>2015</년><도로명>사직로8길</도로명><도로명건물본번호코드>00024</도로명건물본번호코드><도로명건물부번호코드>00000</도로명건물부번호코드><도로명시군구코드>11110</도로명시군구코드><도로명일련번호코드>05</도로명일련번호코드><도로명지상지하코드>0</도로명지상지하코드><도로명코드>4100135</도로명코드><법정동> 내수동</법정동><법정동본번코드>0071</법정동본번코드><법정동부번코드>0000</법정동부번코드><법정동시군구코드>11110</법정동시군구코드><법정동읍면동코드>11800</법정동읍면동코드><법정동지번코드>1</법정동지번코드><아파트>경희궁의아침2단지</아파트><월>12</월><일>14</일><일련번호>11110-115</일련번호><전용면적>124.17</전용면적><중개사소재지> </중개사소재지><지번>71</지번><지역코드>11110</지역코드><층>8</층><해제사유발생일> </해제사유발생일><해제여부> </해제여부></item><item><거래금액>   120,000</거래금액><거래유형> </거래유형><건축년도>2003</건축년도><년>2015</년><도로명>사직로8길</도로명><도로명건물본번호코드>00020</도로명건물본번호코드><도로명건물부번호코드>00000</도로명건물부번호코드><도로명시군구코드>11110</도로명시군구코드><도로명일련번호코드>05</도로명일련번호코드><도로명지상지하코드>0</도로명지상지하코드><도로명코드>4100135</도로명코드><법정동> 내수동</법정동><법정동본번코드>0095</법정동본번코드><법정동부번코드>0000</법정동부번코드><법정동시군구코드>11110</법정동시군구코드><법정동읍면동코드>11800</법정동읍면동코드><법정동지번코드>1</법정동지번코드><아파트>경희궁파크팰리스</아파트><월>12</월><일>24</일><일련번호>11110-107</일련번호><전용면적>146.33</전용면적><중개사소재지> </중개사소재지><지번>95</지번><지역코드>11110</지역코드><층>4</층><해제사유발생일> </해제사유발생일><해제여부> </해제여부></item><item><거래금액>    17,000</거래금액><거래유형> </거래유형><건축년도>2014</건축년도><년>2015</년><도로명>대학로</도로명><도로명건물본번호코드>00047</도로명건물본번호코드><도로명건물부번호코드>00000</도로명건물부번호코드><도로명시군구코드>11110</도로명시군구코드><도로명일련번호코드>05</도로명일련번호코드><도로명지상지하코드>0</도로명지상지하코드><도로명코드>3100002</도로명코드><법정동> 연건동</법정동><법정동본번코드>0195</법정동본번코드><법정동부번코드>0010</법정동부번코드><법정동시군구코드>11110</법정동시군구코드><법정동읍면동코드>16600</법정동읍면동코드><법정동지번코드>1</법정동지번코드><아파트>이화에수풀</아파트><월>12</월><일>17</일><일련번호>11110-2359</일련번호><전용면적>16.98</전용면적><중개사소재지> </중개사소재지><지번>195-10</지번><지역코드>11110</지역코드><층>8</층><해제사유발생일> </해제사유발생일><해제여부> </해제여부></item><item><거래금액>    17,000</거래금액><거래유형> </거래유형><건축년도>2014</건축년도><년>2015</년><도로명>대학로</도로명><도로명건물본번호코드>00047</도로명건물본번호코드><도로명건물부번호코드>00000</도로명건물부번호코드><도로명시군구코드>11110</도로명시군구코드><도로명일련번호코드>05</도로명일련번호코드><도로명지상지하코드>0</도로명지상지하코드><도로명코드>3100002</도로명코드><법정동> 연건동</법정동><법정동본번코드>0195</법정동본번코드><법정동부번코드>0010</법정동부번코드><법정동시군구코드>11110</법정동시군구코드><법정동읍면동코드>16600</법정동읍면동코드><법정동지번코드>1</법정동지번코드><아파트>이화에수풀</아파트><월>12</월><일>18</일><일련번호>11110-2359</일련번호><전용면적>16.98</전용면적><중개사소재지> </중개사소재지><지번>195-10</지번><지역코드>11110</지역코드><층>4</층><해제사유발생일> </해제사유발생일><해제여부> </해제여부></item><item><거래금액>    57,000</거래금액><거래유형> </거래유형><건축년도>2006</건축년도><년>2015</년><도로명>혜화로3가길</도로명><도로명건물본번호코드>00030</도로명건물본번호코드><도로명건물부번호코드>00000</도로명건물부번호코드><도로명시군구코드>11110</도로명시군구코드><도로명일련번호코드>01</도로명일련번호코드><도로명지상지하코드>0</도로명지상지하코드><도로명코드>4100544</도로명코드><법정동> 명륜1가</법정동><법정동본번코드>0019</법정동본번코드><법정동부번코드>0000</법정동부번코드><법정동시군구코드>11110</법정동시군구코드><법정동읍면동코드>17000</법정동읍면동코드><법정동지번코드>1</법정동지번코드><아파트>렉스빌</아파트><월>12</월><일>29</일><일련번호>11110-973</일련번호><전용면적>106.98</전용면적><중개사소재지> </중개사소재지><지번>19</지번><지역코드>11110</지역코드><층>3</층><해제사유발생일> </해제사유발생일><해제여부> </해제여부></item><item><거래금액>    44,000</거래금액><거래유형> </거래유형><건축년도>1995</건축년도><년>2015</년><도로명>창경궁로</도로명><도로명건물본번호코드>00265</도로명건물본번호코드><도로명건물부번호코드>00000</도로명건물부번호코드><도로명시군구코드>11110</도로명시군구코드><도로명일련번호코드>07</도로명일련번호코드><도로명지상지하코드>0</도로명지상지하코드><도로명코드>3005008</도로명코드><법정동> 명륜2가</법정동><법정동본번코드>0004</법정동본번코드><법정동부번코드>0000</법정동부번코드><법정동시군구코드>11110</법정동시군구코드><법정동읍면동코드>17100</법정동읍면동코드><법정동지번코드>1</법정동지번코드><아파트>아남1</아파트><월>12</월><일>1</일><일련번호>11110-25</일련번호><전용면적>84.8</전용면적><중개사소재지> </중개사소재지><지번>4</지번><지역코드>11110</지역코드><층>18</층><해제사유발생일> </해제사유발생일><해제여부> </해제여부></item><item><거래금액>    52,000</거래금액><거래유형> </거래유형><건축년도>1995</건축년도><년>2015</년><도로명>창경궁로</도로명><도로명건물본번호코드>00265</도로명건물본번호코드><도로명건물부번호코드>00000</도로명건물부번호코드><도로명시군구코드>11110</도로명시군구코드><도로명일련번호코드>07</도로명일련번호코드><도로명지상지하코드>0</도로명지상지하코드><도로명코드>3005008</도로명코드><법정동> 명륜2가</법정동><법정동본번코드>0004</법정동본번코드><법정동부번코드>0000</법정동부번코드><법정동시군구코드>11110</법정동시군구코드><법정동읍면동코드>17100</법정동읍면동코드><법정동지번코드>1</법정동지번코드><아파트>아남1</아파트><월>12</월><일>10</일><일련번호>11110-25</일련번호><전용면적>84.9</전용면적><중개사소재지> </중개사소재지><지번>4</지번><지역코드>11110</지역코드><층>12</층><해제사유발생일> </해제사유발생일><해제여부> </해제여부></item></items><numOfRows>10</numOfRows><pageNo>1</pageNo><totalCount>49</totalCount></body></response>"
      ]
     },
     "execution_count": 11,
     "metadata": {},
     "output_type": "execute_result"
    }
   ],
   "source": [
    "targetObject"
   ]
  },
  {
   "cell_type": "raw",
   "id": "626a66db-9dfe-4d27-81d9-a8784cbcf0e7",
   "metadata": {},
   "source": [
    "target01 = targetObject.find(name = \"건축년도\")"
   ]
  },
  {
   "cell_type": "code",
   "execution_count": 18,
   "id": "63c3a83a-c605-4fff-b229-4cb0177da6f0",
   "metadata": {},
   "outputs": [],
   "source": [
    "target01 = targetObject.findAll(\"거래금액\")"
   ]
  },
  {
   "cell_type": "code",
   "execution_count": 19,
   "id": "8cbbd546-ca03-4dec-944e-e4ef74999c84",
   "metadata": {},
   "outputs": [
    {
     "data": {
      "text/plain": [
       "[<거래금액>    82,500</거래금액>,\n",
       " <거래금액>    60,000</거래금액>,\n",
       " <거래금액>   130,000</거래금액>,\n",
       " <거래금액>   105,000</거래금액>,\n",
       " <거래금액>   120,000</거래금액>,\n",
       " <거래금액>    17,000</거래금액>,\n",
       " <거래금액>    17,000</거래금액>,\n",
       " <거래금액>    57,000</거래금액>,\n",
       " <거래금액>    44,000</거래금액>,\n",
       " <거래금액>    52,000</거래금액>]"
      ]
     },
     "execution_count": 19,
     "metadata": {},
     "output_type": "execute_result"
    }
   ],
   "source": [
    "target01"
   ]
  },
  {
   "cell_type": "code",
   "execution_count": 20,
   "id": "8867d0a5-6976-4896-88d8-ec929f812cb4",
   "metadata": {},
   "outputs": [],
   "source": [
    "rows = targetObject.findAll(\"item\")"
   ]
  },
  {
   "cell_type": "code",
   "execution_count": 27,
   "id": "bbcbfa42-c319-431b-9f59-40307849eaf8",
   "metadata": {},
   "outputs": [],
   "source": [
    "rowList = []\n",
    "columnList = []"
   ]
  },
  {
   "cell_type": "code",
   "execution_count": 28,
   "id": "cbfe2646-cd97-4a2b-a1ce-7de62be9c999",
   "metadata": {},
   "outputs": [],
   "source": [
    "eachrow =rows[0]"
   ]
  },
  {
   "cell_type": "code",
   "execution_count": 29,
   "id": "156e86ab-e902-4214-a8e9-6e376d9e06ed",
   "metadata": {
    "collapsed": true,
    "jupyter": {
     "outputs_hidden": true
    },
    "tags": []
   },
   "outputs": [
    {
     "data": {
      "text/plain": [
       "<item><거래금액>    82,500</거래금액><거래유형> </거래유형><건축년도>2008</건축년도><년>2015</년><도로명>사직로8길</도로명><도로명건물본번호코드>00004</도로명건물본번호코드><도로명건물부번호코드>00000</도로명건물부번호코드><도로명시군구코드>11110</도로명시군구코드><도로명일련번호코드>03</도로명일련번호코드><도로명지상지하코드>0</도로명지상지하코드><도로명코드>4100135</도로명코드><법정동> 사직동</법정동><법정동본번코드>0009</법정동본번코드><법정동부번코드>0000</법정동부번코드><법정동시군구코드>11110</법정동시군구코드><법정동읍면동코드>11500</법정동읍면동코드><법정동지번코드>1</법정동지번코드><아파트>광화문스페이스본(101동~105동)</아파트><월>12</월><일>10</일><일련번호>11110-2203</일련번호><전용면적>94.51</전용면적><중개사소재지> </중개사소재지><지번>9</지번><지역코드>11110</지역코드><층>11</층><해제사유발생일> </해제사유발생일><해제여부> </해제여부></item>"
      ]
     },
     "execution_count": 29,
     "metadata": {},
     "output_type": "execute_result"
    }
   ],
   "source": [
    "eachrow"
   ]
  },
  {
   "cell_type": "code",
   "execution_count": 30,
   "id": "574cd31d-0496-4ff1-ba11-dda1fe578bfa",
   "metadata": {},
   "outputs": [
    {
     "data": {
      "text/plain": [
       "28"
      ]
     },
     "execution_count": 30,
     "metadata": {},
     "output_type": "execute_result"
    }
   ],
   "source": [
    "len(eachrow)"
   ]
  },
  {
   "cell_type": "code",
   "execution_count": 31,
   "id": "90aaa039-8d3a-46d0-bb35-d9fea1be9963",
   "metadata": {},
   "outputs": [],
   "source": [
    "totalColumnLen = 28"
   ]
  },
  {
   "cell_type": "code",
   "execution_count": 44,
   "id": "9e2fcf29-e26b-420a-b944-effc69aa08c4",
   "metadata": {},
   "outputs": [],
   "source": [
    "columns = eachrow.findAll()\n",
    "# findAll()은 한 줄에 있는 모든 컬럼을 수집한다. 리스트로 저장한다."
   ]
  },
  {
   "cell_type": "code",
   "execution_count": 45,
   "id": "73dac6a3-3067-4df5-88c3-e8cec8571ac6",
   "metadata": {},
   "outputs": [
    {
     "data": {
      "text/plain": [
       "<거래금액>    82,500</거래금액>"
      ]
     },
     "execution_count": 45,
     "metadata": {},
     "output_type": "execute_result"
    }
   ],
   "source": [
    "columns[0]"
   ]
  },
  {
   "cell_type": "code",
   "execution_count": 46,
   "id": "f84ead87-24b7-46f4-a06b-2cbd4fedbf83",
   "metadata": {},
   "outputs": [
    {
     "data": {
      "text/plain": [
       "<거래유형> </거래유형>"
      ]
     },
     "execution_count": 46,
     "metadata": {},
     "output_type": "execute_result"
    }
   ],
   "source": [
    "columns[1]"
   ]
  },
  {
   "cell_type": "code",
   "execution_count": 47,
   "id": "f266fe17-9ff7-4291-8ee6-358fe7985eaa",
   "metadata": {},
   "outputs": [],
   "source": [
    "columnLen = len(columns)"
   ]
  },
  {
   "cell_type": "code",
   "execution_count": 51,
   "id": "a4fb0bb9-740f-4e22-b9f6-e9e434876e49",
   "metadata": {},
   "outputs": [],
   "source": [
    "for i in range(0, columnLen):\n",
    "    try:\n",
    "        columnValue = columns[i].txt\n",
    "        columnList.append(columns[i])\n",
    "    except Exception as e:\n",
    "        print(e)"
   ]
  },
  {
   "cell_type": "code",
   "execution_count": 54,
   "id": "e826afcf-3293-4b08-80ef-0e187ea78299",
   "metadata": {
    "tags": []
   },
   "outputs": [],
   "source": [
    "rowList.append(columnList)"
   ]
  },
  {
   "cell_type": "code",
   "execution_count": 57,
   "id": "78a66a5b-71a5-4e90-8a43-2665293b05cc",
   "metadata": {},
   "outputs": [],
   "source": [
    "import pandas as pd"
   ]
  },
  {
   "cell_type": "code",
   "execution_count": 58,
   "id": "03ad6384-ccee-49ca-b19d-bf75994877d0",
   "metadata": {},
   "outputs": [
    {
     "data": {
      "text/html": [
       "<div>\n",
       "<style scoped>\n",
       "    .dataframe tbody tr th:only-of-type {\n",
       "        vertical-align: middle;\n",
       "    }\n",
       "\n",
       "    .dataframe tbody tr th {\n",
       "        vertical-align: top;\n",
       "    }\n",
       "\n",
       "    .dataframe thead th {\n",
       "        text-align: right;\n",
       "    }\n",
       "</style>\n",
       "<table border=\"1\" class=\"dataframe\">\n",
       "  <thead>\n",
       "    <tr style=\"text-align: right;\">\n",
       "      <th></th>\n",
       "      <th>0</th>\n",
       "      <th>1</th>\n",
       "      <th>2</th>\n",
       "      <th>3</th>\n",
       "      <th>4</th>\n",
       "      <th>5</th>\n",
       "      <th>6</th>\n",
       "      <th>7</th>\n",
       "      <th>8</th>\n",
       "      <th>9</th>\n",
       "      <th>...</th>\n",
       "      <th>18</th>\n",
       "      <th>19</th>\n",
       "      <th>20</th>\n",
       "      <th>21</th>\n",
       "      <th>22</th>\n",
       "      <th>23</th>\n",
       "      <th>24</th>\n",
       "      <th>25</th>\n",
       "      <th>26</th>\n",
       "      <th>27</th>\n",
       "    </tr>\n",
       "  </thead>\n",
       "  <tbody>\n",
       "    <tr>\n",
       "      <th>0</th>\n",
       "      <td>[    82,500]</td>\n",
       "      <td>[ ]</td>\n",
       "      <td>[2008]</td>\n",
       "      <td>[2015]</td>\n",
       "      <td>[사직로8길]</td>\n",
       "      <td>[00004]</td>\n",
       "      <td>[00000]</td>\n",
       "      <td>[11110]</td>\n",
       "      <td>[03]</td>\n",
       "      <td>[0]</td>\n",
       "      <td>...</td>\n",
       "      <td>[12]</td>\n",
       "      <td>[10]</td>\n",
       "      <td>[11110-2203]</td>\n",
       "      <td>[94.51]</td>\n",
       "      <td>[ ]</td>\n",
       "      <td>[9]</td>\n",
       "      <td>[11110]</td>\n",
       "      <td>[11]</td>\n",
       "      <td>[ ]</td>\n",
       "      <td>[ ]</td>\n",
       "    </tr>\n",
       "  </tbody>\n",
       "</table>\n",
       "<p>1 rows × 28 columns</p>\n",
       "</div>"
      ],
      "text/plain": [
       "             0    1       2       3        4        5        6        7   \\\n",
       "0  [    82,500]  [ ]  [2008]  [2015]  [사직로8길]  [00004]  [00000]  [11110]   \n",
       "\n",
       "     8    9   ...    18    19            20       21   22   23       24    25  \\\n",
       "0  [03]  [0]  ...  [12]  [10]  [11110-2203]  [94.51]  [ ]  [9]  [11110]  [11]   \n",
       "\n",
       "    26   27  \n",
       "0  [ ]  [ ]  \n",
       "\n",
       "[1 rows x 28 columns]"
      ]
     },
     "execution_count": 58,
     "metadata": {},
     "output_type": "execute_result"
    }
   ],
   "source": [
    "pd.DataFrame(rowList)"
   ]
  },
  {
   "cell_type": "code",
   "execution_count": 59,
   "id": "6e7d6d18-8771-4eeb-9f5f-d4dc1e767323",
   "metadata": {},
   "outputs": [],
   "source": [
    "for j in range(0, len(rows)):\n",
    "    eachRow = rows[j];\n",
    "    columns = eachRow.findAll()\n",
    "    columnLen = len(columns)\n",
    "    for i in range(0, columnLen):\n",
    "        columnValue = columns[i].txt\n",
    "        columnList.append(columnValue)\n",
    "    \n",
    "    rowList.append(columnList)\n",
    "    columnList = []"
   ]
  },
  {
   "cell_type": "code",
   "execution_count": 61,
   "id": "21478b9c-1d35-4700-a6c0-3903df42b903",
   "metadata": {
    "collapsed": true,
    "jupyter": {
     "outputs_hidden": true
    },
    "tags": []
   },
   "outputs": [
    {
     "data": {
      "text/html": [
       "<div>\n",
       "<style scoped>\n",
       "    .dataframe tbody tr th:only-of-type {\n",
       "        vertical-align: middle;\n",
       "    }\n",
       "\n",
       "    .dataframe tbody tr th {\n",
       "        vertical-align: top;\n",
       "    }\n",
       "\n",
       "    .dataframe thead th {\n",
       "        text-align: right;\n",
       "    }\n",
       "</style>\n",
       "<table border=\"1\" class=\"dataframe\">\n",
       "  <thead>\n",
       "    <tr style=\"text-align: right;\">\n",
       "      <th></th>\n",
       "      <th>0</th>\n",
       "      <th>1</th>\n",
       "      <th>2</th>\n",
       "      <th>3</th>\n",
       "      <th>4</th>\n",
       "      <th>5</th>\n",
       "      <th>6</th>\n",
       "      <th>7</th>\n",
       "      <th>8</th>\n",
       "      <th>9</th>\n",
       "      <th>...</th>\n",
       "      <th>46</th>\n",
       "      <th>47</th>\n",
       "      <th>48</th>\n",
       "      <th>49</th>\n",
       "      <th>50</th>\n",
       "      <th>51</th>\n",
       "      <th>52</th>\n",
       "      <th>53</th>\n",
       "      <th>54</th>\n",
       "      <th>55</th>\n",
       "    </tr>\n",
       "  </thead>\n",
       "  <tbody>\n",
       "    <tr>\n",
       "      <th>0</th>\n",
       "      <td>[    82,500]</td>\n",
       "      <td>[ ]</td>\n",
       "      <td>[2008]</td>\n",
       "      <td>[2015]</td>\n",
       "      <td>[사직로8길]</td>\n",
       "      <td>[00004]</td>\n",
       "      <td>[00000]</td>\n",
       "      <td>[11110]</td>\n",
       "      <td>[03]</td>\n",
       "      <td>[0]</td>\n",
       "      <td>...</td>\n",
       "      <td>None</td>\n",
       "      <td>None</td>\n",
       "      <td>None</td>\n",
       "      <td>None</td>\n",
       "      <td>None</td>\n",
       "      <td>None</td>\n",
       "      <td>None</td>\n",
       "      <td>None</td>\n",
       "      <td>None</td>\n",
       "      <td>None</td>\n",
       "    </tr>\n",
       "    <tr>\n",
       "      <th>1</th>\n",
       "      <td>[    82,500]</td>\n",
       "      <td>[ ]</td>\n",
       "      <td>[2008]</td>\n",
       "      <td>[2015]</td>\n",
       "      <td>[사직로8길]</td>\n",
       "      <td>[00004]</td>\n",
       "      <td>[00000]</td>\n",
       "      <td>[11110]</td>\n",
       "      <td>[03]</td>\n",
       "      <td>[0]</td>\n",
       "      <td>...</td>\n",
       "      <td>None</td>\n",
       "      <td>None</td>\n",
       "      <td>None</td>\n",
       "      <td>None</td>\n",
       "      <td>None</td>\n",
       "      <td>None</td>\n",
       "      <td>None</td>\n",
       "      <td>None</td>\n",
       "      <td>None</td>\n",
       "      <td>None</td>\n",
       "    </tr>\n",
       "    <tr>\n",
       "      <th>2</th>\n",
       "      <td>None</td>\n",
       "      <td>None</td>\n",
       "      <td>None</td>\n",
       "      <td>None</td>\n",
       "      <td>None</td>\n",
       "      <td>None</td>\n",
       "      <td>None</td>\n",
       "      <td>None</td>\n",
       "      <td>None</td>\n",
       "      <td>None</td>\n",
       "      <td>...</td>\n",
       "      <td>None</td>\n",
       "      <td>None</td>\n",
       "      <td>None</td>\n",
       "      <td>None</td>\n",
       "      <td>None</td>\n",
       "      <td>None</td>\n",
       "      <td>None</td>\n",
       "      <td>None</td>\n",
       "      <td>None</td>\n",
       "      <td>None</td>\n",
       "    </tr>\n",
       "    <tr>\n",
       "      <th>3</th>\n",
       "      <td>None</td>\n",
       "      <td>None</td>\n",
       "      <td>None</td>\n",
       "      <td>None</td>\n",
       "      <td>None</td>\n",
       "      <td>None</td>\n",
       "      <td>None</td>\n",
       "      <td>None</td>\n",
       "      <td>None</td>\n",
       "      <td>None</td>\n",
       "      <td>...</td>\n",
       "      <td>None</td>\n",
       "      <td>None</td>\n",
       "      <td>None</td>\n",
       "      <td>None</td>\n",
       "      <td>None</td>\n",
       "      <td>None</td>\n",
       "      <td>None</td>\n",
       "      <td>None</td>\n",
       "      <td>None</td>\n",
       "      <td>None</td>\n",
       "    </tr>\n",
       "    <tr>\n",
       "      <th>4</th>\n",
       "      <td>None</td>\n",
       "      <td>None</td>\n",
       "      <td>None</td>\n",
       "      <td>None</td>\n",
       "      <td>None</td>\n",
       "      <td>None</td>\n",
       "      <td>None</td>\n",
       "      <td>None</td>\n",
       "      <td>None</td>\n",
       "      <td>None</td>\n",
       "      <td>...</td>\n",
       "      <td>None</td>\n",
       "      <td>None</td>\n",
       "      <td>None</td>\n",
       "      <td>None</td>\n",
       "      <td>None</td>\n",
       "      <td>None</td>\n",
       "      <td>None</td>\n",
       "      <td>None</td>\n",
       "      <td>None</td>\n",
       "      <td>None</td>\n",
       "    </tr>\n",
       "    <tr>\n",
       "      <th>5</th>\n",
       "      <td>None</td>\n",
       "      <td>None</td>\n",
       "      <td>None</td>\n",
       "      <td>None</td>\n",
       "      <td>None</td>\n",
       "      <td>None</td>\n",
       "      <td>None</td>\n",
       "      <td>None</td>\n",
       "      <td>None</td>\n",
       "      <td>None</td>\n",
       "      <td>...</td>\n",
       "      <td>None</td>\n",
       "      <td>None</td>\n",
       "      <td>None</td>\n",
       "      <td>None</td>\n",
       "      <td>None</td>\n",
       "      <td>None</td>\n",
       "      <td>None</td>\n",
       "      <td>None</td>\n",
       "      <td>None</td>\n",
       "      <td>None</td>\n",
       "    </tr>\n",
       "    <tr>\n",
       "      <th>6</th>\n",
       "      <td>None</td>\n",
       "      <td>None</td>\n",
       "      <td>None</td>\n",
       "      <td>None</td>\n",
       "      <td>None</td>\n",
       "      <td>None</td>\n",
       "      <td>None</td>\n",
       "      <td>None</td>\n",
       "      <td>None</td>\n",
       "      <td>None</td>\n",
       "      <td>...</td>\n",
       "      <td>None</td>\n",
       "      <td>None</td>\n",
       "      <td>None</td>\n",
       "      <td>None</td>\n",
       "      <td>None</td>\n",
       "      <td>None</td>\n",
       "      <td>None</td>\n",
       "      <td>None</td>\n",
       "      <td>None</td>\n",
       "      <td>None</td>\n",
       "    </tr>\n",
       "    <tr>\n",
       "      <th>7</th>\n",
       "      <td>None</td>\n",
       "      <td>None</td>\n",
       "      <td>None</td>\n",
       "      <td>None</td>\n",
       "      <td>None</td>\n",
       "      <td>None</td>\n",
       "      <td>None</td>\n",
       "      <td>None</td>\n",
       "      <td>None</td>\n",
       "      <td>None</td>\n",
       "      <td>...</td>\n",
       "      <td>None</td>\n",
       "      <td>None</td>\n",
       "      <td>None</td>\n",
       "      <td>None</td>\n",
       "      <td>None</td>\n",
       "      <td>None</td>\n",
       "      <td>None</td>\n",
       "      <td>None</td>\n",
       "      <td>None</td>\n",
       "      <td>None</td>\n",
       "    </tr>\n",
       "    <tr>\n",
       "      <th>8</th>\n",
       "      <td>None</td>\n",
       "      <td>None</td>\n",
       "      <td>None</td>\n",
       "      <td>None</td>\n",
       "      <td>None</td>\n",
       "      <td>None</td>\n",
       "      <td>None</td>\n",
       "      <td>None</td>\n",
       "      <td>None</td>\n",
       "      <td>None</td>\n",
       "      <td>...</td>\n",
       "      <td>None</td>\n",
       "      <td>None</td>\n",
       "      <td>None</td>\n",
       "      <td>None</td>\n",
       "      <td>None</td>\n",
       "      <td>None</td>\n",
       "      <td>None</td>\n",
       "      <td>None</td>\n",
       "      <td>None</td>\n",
       "      <td>None</td>\n",
       "    </tr>\n",
       "    <tr>\n",
       "      <th>9</th>\n",
       "      <td>None</td>\n",
       "      <td>None</td>\n",
       "      <td>None</td>\n",
       "      <td>None</td>\n",
       "      <td>None</td>\n",
       "      <td>None</td>\n",
       "      <td>None</td>\n",
       "      <td>None</td>\n",
       "      <td>None</td>\n",
       "      <td>None</td>\n",
       "      <td>...</td>\n",
       "      <td>None</td>\n",
       "      <td>None</td>\n",
       "      <td>None</td>\n",
       "      <td>None</td>\n",
       "      <td>None</td>\n",
       "      <td>None</td>\n",
       "      <td>None</td>\n",
       "      <td>None</td>\n",
       "      <td>None</td>\n",
       "      <td>None</td>\n",
       "    </tr>\n",
       "    <tr>\n",
       "      <th>10</th>\n",
       "      <td>None</td>\n",
       "      <td>None</td>\n",
       "      <td>None</td>\n",
       "      <td>None</td>\n",
       "      <td>None</td>\n",
       "      <td>None</td>\n",
       "      <td>None</td>\n",
       "      <td>None</td>\n",
       "      <td>None</td>\n",
       "      <td>None</td>\n",
       "      <td>...</td>\n",
       "      <td>None</td>\n",
       "      <td>None</td>\n",
       "      <td>None</td>\n",
       "      <td>None</td>\n",
       "      <td>None</td>\n",
       "      <td>None</td>\n",
       "      <td>None</td>\n",
       "      <td>None</td>\n",
       "      <td>None</td>\n",
       "      <td>None</td>\n",
       "    </tr>\n",
       "  </tbody>\n",
       "</table>\n",
       "<p>11 rows × 56 columns</p>\n",
       "</div>"
      ],
      "text/plain": [
       "              0     1       2       3        4        5        6        7   \\\n",
       "0   [    82,500]   [ ]  [2008]  [2015]  [사직로8길]  [00004]  [00000]  [11110]   \n",
       "1   [    82,500]   [ ]  [2008]  [2015]  [사직로8길]  [00004]  [00000]  [11110]   \n",
       "2           None  None    None    None     None     None     None     None   \n",
       "3           None  None    None    None     None     None     None     None   \n",
       "4           None  None    None    None     None     None     None     None   \n",
       "5           None  None    None    None     None     None     None     None   \n",
       "6           None  None    None    None     None     None     None     None   \n",
       "7           None  None    None    None     None     None     None     None   \n",
       "8           None  None    None    None     None     None     None     None   \n",
       "9           None  None    None    None     None     None     None     None   \n",
       "10          None  None    None    None     None     None     None     None   \n",
       "\n",
       "      8     9   ...    46    47    48    49    50    51    52    53    54  \\\n",
       "0   [03]   [0]  ...  None  None  None  None  None  None  None  None  None   \n",
       "1   [03]   [0]  ...  None  None  None  None  None  None  None  None  None   \n",
       "2   None  None  ...  None  None  None  None  None  None  None  None  None   \n",
       "3   None  None  ...  None  None  None  None  None  None  None  None  None   \n",
       "4   None  None  ...  None  None  None  None  None  None  None  None  None   \n",
       "5   None  None  ...  None  None  None  None  None  None  None  None  None   \n",
       "6   None  None  ...  None  None  None  None  None  None  None  None  None   \n",
       "7   None  None  ...  None  None  None  None  None  None  None  None  None   \n",
       "8   None  None  ...  None  None  None  None  None  None  None  None  None   \n",
       "9   None  None  ...  None  None  None  None  None  None  None  None  None   \n",
       "10  None  None  ...  None  None  None  None  None  None  None  None  None   \n",
       "\n",
       "      55  \n",
       "0   None  \n",
       "1   None  \n",
       "2   None  \n",
       "3   None  \n",
       "4   None  \n",
       "5   None  \n",
       "6   None  \n",
       "7   None  \n",
       "8   None  \n",
       "9   None  \n",
       "10  None  \n",
       "\n",
       "[11 rows x 56 columns]"
      ]
     },
     "execution_count": 61,
     "metadata": {},
     "output_type": "execute_result"
    }
   ],
   "source": [
    "pd.DataFrame(rowList)"
   ]
  },
  {
   "cell_type": "code",
   "execution_count": 62,
   "id": "d64ece31-3fdc-44c3-9c96-ada1b3124c5d",
   "metadata": {},
   "outputs": [
    {
     "data": {
      "text/plain": [
       "'거래금액'"
      ]
     },
     "execution_count": 62,
     "metadata": {},
     "output_type": "execute_result"
    }
   ],
   "source": [
    "columns[0].name"
   ]
  },
  {
   "cell_type": "code",
   "execution_count": 63,
   "id": "5b955115-717e-43ae-a577-4912d82a9f71",
   "metadata": {},
   "outputs": [],
   "source": [
    "nameList = []"
   ]
  },
  {
   "cell_type": "code",
   "execution_count": 65,
   "id": "a8e75091-eeda-4912-b0bf-b14dbe448928",
   "metadata": {},
   "outputs": [],
   "source": [
    "j = 0;"
   ]
  },
  {
   "cell_type": "code",
   "execution_count": 72,
   "id": "e639838d-d839-4318-bb5b-8bb637ba56ec",
   "metadata": {},
   "outputs": [],
   "source": [
    "for i in range(0, columnLen):\n",
    "    if(j == 0):\n",
    "        tagName = columns[i].name\n",
    "        nameList.append(tagName)\n",
    "    columnValue = columns[i].txt\n",
    "    columnList.append(columnValue)\n",
    "    \n",
    "    rowList.append(columnList)"
   ]
  },
  {
   "cell_type": "code",
   "execution_count": 73,
   "id": "110d3257-9849-41d2-930e-3bbca13af2a0",
   "metadata": {},
   "outputs": [],
   "source": [
    "collectedData = pd.DataFrame(rowList)"
   ]
  },
  {
   "cell_type": "code",
   "execution_count": null,
   "id": "6ba81fa8-a3ce-4a7f-887e-f25b2510937b",
   "metadata": {},
   "outputs": [],
   "source": [
    "# 대다수의 공공 기관의 API 데이터는 XML 형식으로 제공된다."
   ]
  },
  {
   "cell_type": "code",
   "execution_count": null,
   "id": "e85ddd9b-b5d8-4268-ab82-3ac030579515",
   "metadata": {},
   "outputs": [],
   "source": [
    "# 데이터 분석을 기반으로 각 산업에서 활용한다."
   ]
  },
  {
   "cell_type": "code",
   "execution_count": null,
   "id": "e0d881ac-3308-4ecd-9e3d-608080d035c9",
   "metadata": {},
   "outputs": [],
   "source": [
    "# 크롤링은 이 정도만 하면 된다."
   ]
  },
  {
   "cell_type": "code",
   "execution_count": null,
   "id": "e6351027-f33e-492e-8791-1be96fb21972",
   "metadata": {},
   "outputs": [],
   "source": []
  },
  {
   "cell_type": "code",
   "execution_count": null,
   "id": "1ea57186-a02e-4425-b435-69458770129b",
   "metadata": {},
   "outputs": [],
   "source": [
    "# 데이터 레이크는 파일 드라이브에 무작위로 쌓아 두는 것"
   ]
  },
  {
   "cell_type": "code",
   "execution_count": null,
   "id": "006bc720-86f6-4700-b990-2e2362bd1057",
   "metadata": {},
   "outputs": [],
   "source": [
    "# 데이터 웨어하우스는 목적에 맞게 데이터를 정리하여 두는 것"
   ]
  },
  {
   "cell_type": "code",
   "execution_count": null,
   "id": "16835293-1961-440b-bd21-2e7cd354ccc0",
   "metadata": {},
   "outputs": [],
   "source": [
    "# Python의 핵심은 ETL. ETL 추출 및 변형. 그래서 ETL이 뭔데"
   ]
  },
  {
   "cell_type": "code",
   "execution_count": null,
   "id": "ebd335c2-c07b-4f81-a070-3fcf556b7e32",
   "metadata": {},
   "outputs": [],
   "source": [
    "# DB링크는 같은 DB 간에만 활용 가능한 기법이다."
   ]
  },
  {
   "cell_type": "code",
   "execution_count": null,
   "id": "d9be23bd-2ddf-48e7-aa59-36d2aefd4672",
   "metadata": {},
   "outputs": [],
   "source": [
    "# 파이썬은 상이한 데이터베이스에 존재하는 데이터들을 모두 수집하고, 이를 바탕으로 의미 있는 결과를 만들어낼 수 있다."
   ]
  },
  {
   "cell_type": "code",
   "execution_count": null,
   "id": "1367e9a8-3f4e-4dd2-9eea-7c55bed96d1a",
   "metadata": {},
   "outputs": [],
   "source": [
    "# Oracle도, Postgre도, 파일 시스템도, MySQL도 다 인식할 수 있다."
   ]
  },
  {
   "cell_type": "code",
   "execution_count": null,
   "id": "8a855a61-a2a7-40e3-94e9-515efde5b0f1",
   "metadata": {},
   "outputs": [],
   "source": [
    "# Python은 그저 데이터프레임(DataFrame)으로 데이터들을 인식할 뿐.(분석 서버로서의 Python)"
   ]
  },
  {
   "cell_type": "code",
   "execution_count": null,
   "id": "cf4ee1e8-a105-4305-8190-330ba9d7245f",
   "metadata": {},
   "outputs": [],
   "source": [
    "# Pandas 라이브러리를 활용한 데이터 수집 및 저장."
   ]
  },
  {
   "cell_type": "code",
   "execution_count": null,
   "id": "bd573320-ebf6-457f-9976-804d9eec5d43",
   "metadata": {},
   "outputs": [],
   "source": [
    "# Load - Processing - Unload 과정을 거친다."
   ]
  },
  {
   "cell_type": "code",
   "execution_count": null,
   "id": "6718f021-de0d-4f6e-af20-bf02ec7bbf26",
   "metadata": {},
   "outputs": [],
   "source": [
    "# 01. 파일 데이터의 수집과 저장"
   ]
  },
  {
   "cell_type": "code",
   "execution_count": 92,
   "id": "1b99a3cc-f6e1-4afb-8444-9bb29b122a2e",
   "metadata": {},
   "outputs": [],
   "source": [
    "import pandas as pd"
   ]
  },
  {
   "cell_type": "code",
   "execution_count": null,
   "id": "be6e5352-3592-4286-b402-5a44773c4e6d",
   "metadata": {},
   "outputs": [],
   "source": [
    "# 상대경로 :\n",
    "# pd.read_csv(\"../../stdcode6/dataset/attach.csv\")와 같은 형식의 접근경로 설정법"
   ]
  },
  {
   "cell_type": "code",
   "execution_count": null,
   "id": "274b481a-ea90-4a8c-ac56-3aaa025d8571",
   "metadata": {},
   "outputs": [],
   "source": [
    "# 절대경로 : d:/devo/... 모든 경로를 기입한다.\n",
    "# 단 하나라도 디렉토리가 다른 사람은 해당 코드가 작동하지 않을 수 있다.\n",
    "# 가능하면 상대 경로로 접근하자."
   ]
  },
  {
   "cell_type": "code",
   "execution_count": null,
   "id": "c9393f94-ab52-4002-8709-83d1e0ee55d5",
   "metadata": {},
   "outputs": [],
   "source": []
  }
 ],
 "metadata": {
  "kernelspec": {
   "display_name": "Python 3 (ipykernel)",
   "language": "python",
   "name": "python3"
  },
  "language_info": {
   "codemirror_mode": {
    "name": "ipython",
    "version": 3
   },
   "file_extension": ".py",
   "mimetype": "text/x-python",
   "name": "python",
   "nbconvert_exporter": "python",
   "pygments_lexer": "ipython3",
   "version": "3.9.13"
  }
 },
 "nbformat": 4,
 "nbformat_minor": 5
}
