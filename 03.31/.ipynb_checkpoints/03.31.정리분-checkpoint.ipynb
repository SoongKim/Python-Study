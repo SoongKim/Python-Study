{
 "cells": [
  {
   "cell_type": "code",
   "execution_count": null,
   "id": "1a85d25a-3d73-4771-b450-73e15c192adf",
   "metadata": {},
   "outputs": [],
   "source": [
    "# 1. 모듈 불러오기"
   ]
  },
  {
   "cell_type": "code",
   "execution_count": 1,
   "id": "4e151ba9-eb3f-4e4e-b991-3a74d147889b",
   "metadata": {},
   "outputs": [],
   "source": [
    "from selenium import webdriver\n",
    "# selenium 모듈에서 webdriver 기능을 호출\n",
    "\n",
    "from selenium.webdriver.chrome.service import Service\n",
    "# selenium.webdriver.chrome.service 모듈에서 Service 기능을 호출\n",
    "\n",
    "from selenium.webdriver.chrome.options import Options\n",
    "# selenium.webdriver.chrome.option 모듈에서 Options 기능을 호출\n",
    "\n",
    "from selenium.webdriver.common.by import By\n",
    "# selenium.webdriver.common.by 모듈에서 By 기능을 호출\n",
    "\n",
    "from webdriver_manager.chrome import ChromeDriverManager\n",
    "# webdrover_manager.chrome 모듈에서 ChromeDriverManager 기능을 호출"
   ]
  },
  {
   "cell_type": "code",
   "execution_count": null,
   "id": "ab1b1503-cde6-43a2-a175-e739d94e6af3",
   "metadata": {},
   "outputs": [],
   "source": []
  },
  {
   "cell_type": "code",
   "execution_count": null,
   "id": "783b26db-f35d-4997-bf9a-95976ed69f62",
   "metadata": {},
   "outputs": [],
   "source": [
    "#2.자동화 크롬의 사이즈 조절과 드라이버 업데이트"
   ]
  },
  {
   "cell_type": "code",
   "execution_count": 3,
   "id": "4a43e396-4d75-40e4-b7b4-66476e638021",
   "metadata": {},
   "outputs": [],
   "source": [
    "chromeOption = Options()\n",
    "# Option() 기능을 chromeOption 이라는 변수로 설정"
   ]
  },
  {
   "cell_type": "code",
   "execution_count": 4,
   "id": "c1e1e9ba-de24-4603-aa20-b80634b60458",
   "metadata": {},
   "outputs": [],
   "source": [
    "chromeOption.add_argument(\"Window-size = 1920x1080\")\n",
    "# chromeOption에서 자동화 크롬의 사이즈 기능 설정"
   ]
  },
  {
   "cell_type": "code",
   "execution_count": 5,
   "id": "149d1c8f-d462-435d-b138-d7870cf48816",
   "metadata": {},
   "outputs": [],
   "source": [
    "driver = webdriver.Chrome(service=Service(ChromeDriverManager().install()),\n",
    "                          options=chromeOption)\n",
    "# Google Chrome의 드라이버 자동 업데이트 기능"
   ]
  },
  {
   "cell_type": "code",
   "execution_count": null,
   "id": "05a785aa-61ca-4b7c-a132-53f73a4be187",
   "metadata": {},
   "outputs": [],
   "source": []
  },
  {
   "cell_type": "code",
   "execution_count": null,
   "id": "1f3b4b5c-7531-4cee-9fb0-7c89a0c30a13",
   "metadata": {},
   "outputs": [],
   "source": [
    "# 3. 목표 Url로의 접근과 목표 조작 대상의 조작"
   ]
  },
  {
   "cell_type": "code",
   "execution_count": 6,
   "id": "2bc52ca3-67bc-4794-adfc-54e5dd40ddc1",
   "metadata": {},
   "outputs": [],
   "source": [
    "targetUrl = \"https://sparkkorea.com/\"\n",
    "\n",
    "# 접근하고자 하는 목표 Url"
   ]
  },
  {
   "cell_type": "code",
   "execution_count": 7,
   "id": "24b8c99a-4b74-4feb-b217-a4508d683933",
   "metadata": {},
   "outputs": [],
   "source": [
    "driver.get(targetUrl)\n",
    "\n",
    "# driver.get 기능으로 자동화된 크롬을 목표 Url로 이동시킨다."
   ]
  },
  {
   "cell_type": "code",
   "execution_count": 8,
   "id": "cda642ed-a062-480d-99a2-4ec0dc5d8013",
   "metadata": {},
   "outputs": [],
   "source": [
    "copyXpath = '//*[@id=\"menu-item-382\"]/a'\n",
    "\n",
    "# 조작 목표인 SPARKKOREA 페이지 퀴즈 탭의 Xpath. 대상 우클릭 - 검사 - 개발자 도구에서 확인 가능\n",
    "# 복사 시에는 개발자 도구 - Copy - Copy XPath를 클릭한다.\n",
    "# Xpath는 기본적으로 큰 따옴표를 가지고 있는 경우가 많으므로, 작은 따옴표로 묶어주자."
   ]
  },
  {
   "cell_type": "code",
   "execution_count": 9,
   "id": "f97a592b-7218-4d9c-b6c7-35cbefd1f9f0",
   "metadata": {},
   "outputs": [],
   "source": [
    "from selenium.webdriver.common.by import By\n",
    "\n",
    "# selenium.webdriver.common.by 모듈에서 By 기능을 호출"
   ]
  },
  {
   "cell_type": "code",
   "execution_count": 10,
   "id": "7cd202e8-9ce7-4ed3-acdf-4f7ddf4dc8ea",
   "metadata": {
    "tags": []
   },
   "outputs": [],
   "source": [
    "driver.find_element(By.XPATH, '//*[@id=\"menu-item-382\"]/a').click()\n",
    "\n",
    "# driver 모듈에서 find_element 기능을 통해 대상 XPATH를 지닌 컨텐츠를 클릭하도록 명령 하달. "
   ]
  },
  {
   "cell_type": "code",
   "execution_count": null,
   "id": "77e33ef1-656a-4620-9bae-d373f6863717",
   "metadata": {},
   "outputs": [],
   "source": [
    "# 해당 명령을 통해 마우스 조작 없이 Sparkkorea 페이지의 퀴즈 탭을 클릭하였다."
   ]
  },
  {
   "cell_type": "code",
   "execution_count": null,
   "id": "c9e01a2b-40ca-4686-985e-c83ce88e8a6d",
   "metadata": {},
   "outputs": [],
   "source": []
  },
  {
   "cell_type": "code",
   "execution_count": null,
   "id": "5888e624-d7be-4390-a902-e5a9d6d42d62",
   "metadata": {},
   "outputs": [],
   "source": [
    "# 03 -1. 목표 Url로의 접근 및 검색어 입력, 엔터 키 누르기"
   ]
  },
  {
   "cell_type": "code",
   "execution_count": 11,
   "id": "ad337ae1-572f-4f07-a225-f17c077d377f",
   "metadata": {},
   "outputs": [],
   "source": [
    "targetUrl2 = \"https://www.google.com/\"\n",
    "# 목표 접근 Url 2번. google의 메인 페이지"
   ]
  },
  {
   "cell_type": "code",
   "execution_count": 12,
   "id": "1bbe2663-8f63-4e88-a739-123a5ab02b57",
   "metadata": {},
   "outputs": [],
   "source": [
    "driver.get(targetUrl2)\n",
    "# 자동화 Chrome을 targetUrl2 로 위치시킨다."
   ]
  },
  {
   "cell_type": "code",
   "execution_count": 13,
   "id": "48fc8e92-00e0-4c08-b04e-e405dc34aca5",
   "metadata": {},
   "outputs": [],
   "source": [
    "targetContent = '/html/body/div[1]/div[3]/form/div[1]/div[1]/div[1]/div/div[2]/input'\n",
    "# targetContent는 구글 메인 페이지의 검색창. 해당 컨텐츠의 Xpath를 찾아왔다."
   ]
  },
  {
   "cell_type": "code",
   "execution_count": 14,
   "id": "877f99c2-894e-4820-95d5-c724cfa21e00",
   "metadata": {},
   "outputs": [],
   "source": [
    "from selenium.webdriver.common.keys import Keys\n",
    "## 원격 조종 크롬에서의 키 입력 모듈을 호출."
   ]
  },
  {
   "cell_type": "code",
   "execution_count": 15,
   "id": "d0ac0a67-2c69-42da-a47c-4ff6dfa9f025",
   "metadata": {},
   "outputs": [],
   "source": [
    "driver.find_element(By.XPATH, targetContent).send_keys(\"selenium\")\n",
    "## 해당 명령 수행 시 targetContent(현재의 경우 구글 검색창) 에 selenium을 입력한다."
   ]
  },
  {
   "cell_type": "code",
   "execution_count": 16,
   "id": "97ce324e-b847-4afd-a137-07663fa4c1a2",
   "metadata": {},
   "outputs": [],
   "source": [
    "driver.find_element(By.XPATH, targetContent).send_keys(Keys.ENTER)\n",
    "## 해당 명령 수행 시 targetContent에 ENTER 키를 누르라고 명령을 전달한다."
   ]
  }
 ],
 "metadata": {
  "kernelspec": {
   "display_name": "Python 3 (ipykernel)",
   "language": "python",
   "name": "python3"
  },
  "language_info": {
   "codemirror_mode": {
    "name": "ipython",
    "version": 3
   },
   "file_extension": ".py",
   "mimetype": "text/x-python",
   "name": "python",
   "nbconvert_exporter": "python",
   "pygments_lexer": "ipython3",
   "version": "3.9.13"
  }
 },
 "nbformat": 4,
 "nbformat_minor": 5
}
