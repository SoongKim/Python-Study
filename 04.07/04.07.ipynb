{
 "cells": [
  {
   "cell_type": "code",
   "execution_count": 1,
   "id": "1cdbc4c6-fc0d-4aa8-8c5a-10097d4fcc6d",
   "metadata": {},
   "outputs": [],
   "source": [
    "# 유통/판매 부문에서는 수요 예측,\n",
    "# 금융 부문에서는 부정거래 탐지,\n",
    "# 마케팅 부문에서는 고객 맞춤형 상품 개발 등,\n",
    "# 다양한 부문에서 분석 데이터를 활용할 수 있다."
   ]
  },
  {
   "cell_type": "code",
   "execution_count": 2,
   "id": "59f24b8e-e01d-4231-8b3e-05aa3d9780a1",
   "metadata": {},
   "outputs": [],
   "source": [
    "# 단순히 ETL 컬럼만 변경하여도\n",
    "# 데이터 ETL 처리를 한 것으로 의제할 수 있다.\n",
    "# 분석 결과를 예측 결과로..."
   ]
  },
  {
   "cell_type": "code",
   "execution_count": 3,
   "id": "de918963-61c3-4a0c-9652-6a08b1fd9cc3",
   "metadata": {},
   "outputs": [],
   "source": [
    "# OpenWeather. 기상 정보\n",
    "# TimeAndDate. 각국 연휴 정보"
   ]
  },
  {
   "cell_type": "code",
   "execution_count": 4,
   "id": "403f7c25-0d1a-482e-9620-944c72c47854",
   "metadata": {},
   "outputs": [],
   "source": [
    "# 연동정보(Interface Data) 정의\n",
    "# ex. 대상 정보, 저장 타입, 시스템명, 데이터 크기, 획득 주기 등.\n",
    "# 필요한 정보를 파악하고 확보한다."
   ]
  },
  {
   "cell_type": "code",
   "execution_count": 5,
   "id": "1d42df19-a635-4f27-a38f-3a66f2c48c07",
   "metadata": {},
   "outputs": [],
   "source": [
    "# 상황에 따라 데이터 분석가가 데이터 엔지니어 역할을 병행하기도 한다."
   ]
  },
  {
   "cell_type": "code",
   "execution_count": 6,
   "id": "d9b19f16-bffc-46c5-9a7e-f3b6475a9def",
   "metadata": {},
   "outputs": [],
   "source": [
    "# 기간이 타이트하다면 머신러닝/딥러닝 적용\n",
    "# 데이터 전처리가 확실히 이뤄진다면 하루 내에 분석 활동을 완수할 수 있다.\n",
    "# 반면, 기간이 여유가 있다면 분석 모델을 설계하고, 이를 적용한다.\n",
    "# 이러한 구분은 명확한 규정이 존재하는 것은 아니며, 이 둘을 혼용한 하이브리드 방식을 활용할 수도 있다."
   ]
  },
  {
   "cell_type": "code",
   "execution_count": 7,
   "id": "7602bbdb-f1d8-44fd-b75b-645198d00e0c",
   "metadata": {},
   "outputs": [],
   "source": [
    "# 분석 방법 중 통계적 접근 방법에 관하여 학습해보자."
   ]
  },
  {
   "cell_type": "code",
   "execution_count": 8,
   "id": "081d88db-8050-4290-99a8-a7f6a1c8fdf9",
   "metadata": {},
   "outputs": [],
   "source": [
    "# Time-Series, Clustering using quantile, Moving average 등이 이에 속한다."
   ]
  },
  {
   "cell_type": "code",
   "execution_count": 9,
   "id": "dc4d5d1d-343e-4ebe-8e1d-d06673a36760",
   "metadata": {},
   "outputs": [],
   "source": [
    "# 카이제곱함수 : 설정한 옵션(Parameter)에 따라 서로 다른 값을 도출하는 함수.\n",
    "# PLC.\n",
    "# Quantile(25%를 단위로 다루는 모델) 1-100 중 25%단위로 나눠 1, 2, 3, 4그룹을 형성하여 구분"
   ]
  },
  {
   "cell_type": "code",
   "execution_count": 10,
   "id": "751475f7-c2c6-4a82-a016-f9dd44c92975",
   "metadata": {},
   "outputs": [],
   "source": [
    "# explainable AI(설명 가능한 AI), Domain Knoledge(업의 지식)"
   ]
  },
  {
   "cell_type": "code",
   "execution_count": 11,
   "id": "85631655-3fcb-4e04-a225-8129c9e1a95e",
   "metadata": {},
   "outputs": [],
   "source": [
    "# 통계 모델의 적용이 어렵다면 머신/딥러닝 개발자로 Turn Around."
   ]
  },
  {
   "cell_type": "code",
   "execution_count": 12,
   "id": "8b6f4d4a-641e-4703-9cd3-c5a617b08790",
   "metadata": {},
   "outputs": [],
   "source": [
    "# 분석과 웹 개발. 이원화 투 트랙 전략으로 진행될 예정"
   ]
  },
  {
   "cell_type": "code",
   "execution_count": 13,
   "id": "482320b9-e39d-4c2d-8bae-89b04f312516",
   "metadata": {},
   "outputs": [],
   "source": [
    "import pandas as pd"
   ]
  },
  {
   "cell_type": "code",
   "execution_count": 14,
   "id": "89d81a75-87f0-4cc3-b30c-e037069ca33e",
   "metadata": {},
   "outputs": [],
   "source": [
    "customerData = pd.read_csv(\"./../../../stdcode6/dataset/customerdata.csv\")"
   ]
  },
  {
   "cell_type": "code",
   "execution_count": 16,
   "id": "f299abad-7b76-4db7-bacc-56c25811b3f5",
   "metadata": {},
   "outputs": [
    {
     "data": {
      "text/html": [
       "<div>\n",
       "<style scoped>\n",
       "    .dataframe tbody tr th:only-of-type {\n",
       "        vertical-align: middle;\n",
       "    }\n",
       "\n",
       "    .dataframe tbody tr th {\n",
       "        vertical-align: top;\n",
       "    }\n",
       "\n",
       "    .dataframe thead th {\n",
       "        text-align: right;\n",
       "    }\n",
       "</style>\n",
       "<table border=\"1\" class=\"dataframe\">\n",
       "  <thead>\n",
       "    <tr style=\"text-align: right;\">\n",
       "      <th></th>\n",
       "      <th>CUSTID</th>\n",
       "      <th>AVGPRICE</th>\n",
       "      <th>EMI</th>\n",
       "      <th>DEVICECOUNT</th>\n",
       "      <th>PRODUCTAGE</th>\n",
       "      <th>CUSTTYPE</th>\n",
       "    </tr>\n",
       "  </thead>\n",
       "  <tbody>\n",
       "    <tr>\n",
       "      <th>0</th>\n",
       "      <td>A13566</td>\n",
       "      <td>4273.900000</td>\n",
       "      <td>3</td>\n",
       "      <td>6</td>\n",
       "      <td>1.679181</td>\n",
       "      <td>Big-Screen-lover</td>\n",
       "    </tr>\n",
       "    <tr>\n",
       "      <th>1</th>\n",
       "      <td>A14219</td>\n",
       "      <td>3642.441950</td>\n",
       "      <td>2</td>\n",
       "      <td>4</td>\n",
       "      <td>2.682023</td>\n",
       "      <td>Sleeping-dog</td>\n",
       "    </tr>\n",
       "    <tr>\n",
       "      <th>2</th>\n",
       "      <td>A15312</td>\n",
       "      <td>3653.884565</td>\n",
       "      <td>2</td>\n",
       "      <td>5</td>\n",
       "      <td>3.208202</td>\n",
       "      <td>Sleeping-dog</td>\n",
       "    </tr>\n",
       "    <tr>\n",
       "      <th>3</th>\n",
       "      <td>A16605</td>\n",
       "      <td>3713.211107</td>\n",
       "      <td>2</td>\n",
       "      <td>6</td>\n",
       "      <td>0.900000</td>\n",
       "      <td>Early-bird</td>\n",
       "    </tr>\n",
       "    <tr>\n",
       "      <th>4</th>\n",
       "      <td>B10634</td>\n",
       "      <td>3391.074215</td>\n",
       "      <td>2</td>\n",
       "      <td>4</td>\n",
       "      <td>2.453656</td>\n",
       "      <td>Sleeping-dog</td>\n",
       "    </tr>\n",
       "  </tbody>\n",
       "</table>\n",
       "</div>"
      ],
      "text/plain": [
       "   CUSTID     AVGPRICE  EMI  DEVICECOUNT  PRODUCTAGE          CUSTTYPE\n",
       "0  A13566  4273.900000    3            6    1.679181  Big-Screen-lover\n",
       "1  A14219  3642.441950    2            4    2.682023      Sleeping-dog\n",
       "2  A15312  3653.884565    2            5    3.208202      Sleeping-dog\n",
       "3  A16605  3713.211107    2            6    0.900000        Early-bird\n",
       "4  B10634  3391.074215    2            4    2.453656      Sleeping-dog"
      ]
     },
     "execution_count": 16,
     "metadata": {},
     "output_type": "execute_result"
    }
   ],
   "source": [
    "customerData.head()"
   ]
  },
  {
   "cell_type": "code",
   "execution_count": 18,
   "id": "bc29dbaf-9524-4e4b-9d36-a22e9addcf5e",
   "metadata": {},
   "outputs": [],
   "source": [
    "# 테이블 정의서를 작성하자"
   ]
  },
  {
   "cell_type": "markdown",
   "id": "a13b017c-6c85-44bc-9e2d-b3ff467ecfbd",
   "metadata": {},
   "source": [
    "검은 밤의 가운데 서있어\n",
    "한 치 앞도 보이질 않아\n",
    "어디로 가야 하나 어디에 있을까\n",
    "둘러봐도 소용없겠지.\n",
    "\n",
    "인생이란 강물 위를 뜻 없이\n",
    "부초처럼 떠다니다가\n",
    "어느 고요한 호수가에 닿으면\n",
    "물과 함께 썩어가겠지.\n",
    "\n",
    "일어나 일어나\n",
    "다시 한 번 해보는거야.\n",
    "\n",
    "일어나 일어나\n",
    "봄의 새싹들처럼\n",
    "\n",
    "끝이 없는 날들 속에\n",
    "나와 너는 지쳐가고\n",
    "또 다른 말들로, 또 다른 행동으로\n",
    "스스로를 안심시키지.\n",
    "\n",
    "아름다운 꽃일 수록\n",
    "빨리 시들어가고\n",
    "햇살이 비치면 투명하던 이슬도\n",
    "한 순간에 말라버리지.\n",
    "\n",
    "일어나 일어나\n",
    "다시 한 번 해보는거야\n",
    "\n",
    "일어나 일어나 봄의 새싹들 처럼\n",
    "\n",
    "일어나 일어나 다시 한 번 해보는거야\n",
    "일어나 일어나 봄의 새싹들 처럼"
   ]
  },
  {
   "cell_type": "code",
   "execution_count": 20,
   "id": "0b574ca0-dbaf-4e1e-852a-6a2d927e7b17",
   "metadata": {},
   "outputs": [],
   "source": [
    "# List로 DataFrame 만들기"
   ]
  },
  {
   "cell_type": "code",
   "execution_count": 22,
   "id": "9ce1effc-1e84-4452-b1c1-21ecf4dd91c9",
   "metadata": {},
   "outputs": [],
   "source": [
    "stNo = [1, 2, 3]\n",
    "stName = [\"Hello\", \"Nice to\", \"Meet you\"]"
   ]
  },
  {
   "cell_type": "code",
   "execution_count": 25,
   "id": "55b1a18f-6a34-4784-abfa-9b4ee622f6ee",
   "metadata": {},
   "outputs": [],
   "source": [
    "testDf = pd.DataFrame(zip(stNo, stName))"
   ]
  },
  {
   "cell_type": "code",
   "execution_count": 27,
   "id": "042d9bef-6d00-40da-ab49-d51c9b2a378b",
   "metadata": {},
   "outputs": [
    {
     "data": {
      "text/html": [
       "<div>\n",
       "<style scoped>\n",
       "    .dataframe tbody tr th:only-of-type {\n",
       "        vertical-align: middle;\n",
       "    }\n",
       "\n",
       "    .dataframe tbody tr th {\n",
       "        vertical-align: top;\n",
       "    }\n",
       "\n",
       "    .dataframe thead th {\n",
       "        text-align: right;\n",
       "    }\n",
       "</style>\n",
       "<table border=\"1\" class=\"dataframe\">\n",
       "  <thead>\n",
       "    <tr style=\"text-align: right;\">\n",
       "      <th></th>\n",
       "      <th>0</th>\n",
       "      <th>1</th>\n",
       "    </tr>\n",
       "  </thead>\n",
       "  <tbody>\n",
       "    <tr>\n",
       "      <th>0</th>\n",
       "      <td>1</td>\n",
       "      <td>Hello</td>\n",
       "    </tr>\n",
       "    <tr>\n",
       "      <th>1</th>\n",
       "      <td>2</td>\n",
       "      <td>Nice to</td>\n",
       "    </tr>\n",
       "    <tr>\n",
       "      <th>2</th>\n",
       "      <td>3</td>\n",
       "      <td>Meet you</td>\n",
       "    </tr>\n",
       "  </tbody>\n",
       "</table>\n",
       "</div>"
      ],
      "text/plain": [
       "   0         1\n",
       "0  1     Hello\n",
       "1  2   Nice to\n",
       "2  3  Meet you"
      ]
     },
     "execution_count": 27,
     "metadata": {},
     "output_type": "execute_result"
    }
   ],
   "source": [
    "testDf"
   ]
  },
  {
   "cell_type": "code",
   "execution_count": null,
   "id": "115c5d92-0fd8-40c2-8152-14a1e2179c37",
   "metadata": {},
   "outputs": [
    {
     "data": {
      "text/html": [
       "<div>\n",
       "<style scoped>\n",
       "    .dataframe tbody tr th:only-of-type {\n",
       "        vertical-align: middle;\n",
       "    }\n",
       "\n",
       "    .dataframe tbody tr th {\n",
       "        vertical-align: top;\n",
       "    }\n",
       "\n",
       "    .dataframe thead th {\n",
       "        text-align: right;\n",
       "    }\n",
       "</style>\n",
       "<table border=\"1\" class=\"dataframe\">\n",
       "  <thead>\n",
       "    <tr style=\"text-align: right;\">\n",
       "      <th></th>\n",
       "      <th>0</th>\n",
       "      <th>1</th>\n",
       "      <th>2</th>\n",
       "    </tr>\n",
       "  </thead>\n",
       "  <tbody>\n",
       "    <tr>\n",
       "      <th>0</th>\n",
       "      <td>1</td>\n",
       "      <td>2</td>\n",
       "      <td>3</td>\n",
       "    </tr>\n",
       "    <tr>\n",
       "      <th>1</th>\n",
       "      <td>Hello</td>\n",
       "      <td>Nice to</td>\n",
       "      <td>Meet you</td>\n",
       "    </tr>\n",
       "  </tbody>\n",
       "</table>\n",
       "</div>"
      ],
      "text/plain": [
       "       0        1         2\n",
       "0      1        2         3\n",
       "1  Hello  Nice to  Meet you"
      ]
     },
     "execution_count": 28,
     "metadata": {},
     "output_type": "execute_result"
    }
   ],
   "source": [
    "test2Df = pd.DataFrame([stNo, stName])\n",
    "test2Df"
   ]
  },
  {
   "cell_type": "code",
   "execution_count": 30,
   "id": "e8283e25-388d-4e79-b209-ae2e8d488298",
   "metadata": {},
   "outputs": [],
   "source": [
    "row1 = [1, \"haiteam\"]\n",
    "row2 = [2, \"curse\"]"
   ]
  },
  {
   "cell_type": "code",
   "execution_count": 31,
   "id": "43801f9a-c7ea-4715-a686-7cf5f7fed3ef",
   "metadata": {},
   "outputs": [
    {
     "data": {
      "text/html": [
       "<div>\n",
       "<style scoped>\n",
       "    .dataframe tbody tr th:only-of-type {\n",
       "        vertical-align: middle;\n",
       "    }\n",
       "\n",
       "    .dataframe tbody tr th {\n",
       "        vertical-align: top;\n",
       "    }\n",
       "\n",
       "    .dataframe thead th {\n",
       "        text-align: right;\n",
       "    }\n",
       "</style>\n",
       "<table border=\"1\" class=\"dataframe\">\n",
       "  <thead>\n",
       "    <tr style=\"text-align: right;\">\n",
       "      <th></th>\n",
       "      <th>0</th>\n",
       "      <th>1</th>\n",
       "    </tr>\n",
       "  </thead>\n",
       "  <tbody>\n",
       "    <tr>\n",
       "      <th>0</th>\n",
       "      <td>1</td>\n",
       "      <td>haiteam</td>\n",
       "    </tr>\n",
       "    <tr>\n",
       "      <th>1</th>\n",
       "      <td>2</td>\n",
       "      <td>curse</td>\n",
       "    </tr>\n",
       "  </tbody>\n",
       "</table>\n",
       "</div>"
      ],
      "text/plain": [
       "   0        1\n",
       "0  1  haiteam\n",
       "1  2    curse"
      ]
     },
     "execution_count": 31,
     "metadata": {},
     "output_type": "execute_result"
    }
   ],
   "source": [
    "testDf2 = pd.DataFrame([row1, row2])\n",
    "testDf2"
   ]
  },
  {
   "cell_type": "code",
   "execution_count": 32,
   "id": "2ac811c5-84dc-4d89-bb7b-6f70ee4b3be9",
   "metadata": {},
   "outputs": [],
   "source": [
    "# 딕셔너리는 주로 사용하지 않는 타입이다."
   ]
  },
  {
   "cell_type": "code",
   "execution_count": 39,
   "id": "f0160d5a-5e42-41a1-b9d0-23a44398aef6",
   "metadata": {},
   "outputs": [
    {
     "name": "stdout",
     "output_type": "stream",
     "text": [
      "<class 'pandas.core.frame.DataFrame'>\n",
      "RangeIndex: 150 entries, 0 to 149\n",
      "Data columns (total 6 columns):\n",
      " #   Column       Non-Null Count  Dtype  \n",
      "---  ------       --------------  -----  \n",
      " 0   CUSTID       150 non-null    object \n",
      " 1   AVGPRICE     150 non-null    float64\n",
      " 2   EMI          150 non-null    int64  \n",
      " 3   DEVICECOUNT  150 non-null    int64  \n",
      " 4   PRODUCTAGE   150 non-null    float64\n",
      " 5   CUSTTYPE     150 non-null    object \n",
      "dtypes: float64(2), int64(2), object(2)\n",
      "memory usage: 7.2+ KB\n"
     ]
    }
   ],
   "source": [
    "customerData.info()"
   ]
  },
  {
   "cell_type": "code",
   "execution_count": null,
   "id": "1744b5d4-7fda-483e-81e4-140e41322a20",
   "metadata": {},
   "outputs": [],
   "source": [
    "# .info()를 통해 컬럼의 갯수, 각 컬럼 별 이름, Null-Check, 데이터 타입을 확인할 수 있다.\n",
    "# Object = String이라고 이해하면 된다.\n",
    "# 해당 데이터프레임에 관한 정보를 확인할 수 있다."
   ]
  },
  {
   "cell_type": "code",
   "execution_count": 40,
   "id": "6f263626-7b13-415a-bd8d-38a45136daad",
   "metadata": {},
   "outputs": [
    {
     "data": {
      "text/plain": [
       "CUSTID          object\n",
       "AVGPRICE       float64\n",
       "EMI              int64\n",
       "DEVICECOUNT      int64\n",
       "PRODUCTAGE     float64\n",
       "CUSTTYPE        object\n",
       "dtype: object"
      ]
     },
     "execution_count": 40,
     "metadata": {},
     "output_type": "execute_result"
    }
   ],
   "source": [
    "customerData.dtypes"
   ]
  },
  {
   "cell_type": "code",
   "execution_count": null,
   "id": "cde37b0e-0723-41d6-8c79-8dbca9b70c48",
   "metadata": {},
   "outputs": [],
   "source": [
    "# 컬럼의 타입만 확인해준다."
   ]
  },
  {
   "cell_type": "code",
   "execution_count": 42,
   "id": "1651c311-a7bf-4ea4-8cc3-9dcb5bb4987e",
   "metadata": {},
   "outputs": [],
   "source": [
    "tableDefine = pd.DataFrame(customerData.dtypes)"
   ]
  },
  {
   "cell_type": "code",
   "execution_count": null,
   "id": "30b90d1a-8974-40d7-8081-869b28a58958",
   "metadata": {},
   "outputs": [],
   "source": [
    "# 해당 컬럼 정보들을 DataFrame으로 말아버렸다."
   ]
  },
  {
   "cell_type": "code",
   "execution_count": null,
   "id": "fe97721e-4f94-434a-aeb1-3aec5bfb8984",
   "metadata": {},
   "outputs": [],
   "source": [
    "# tableDefine.to_csv(\"./tabledefine.csv\")\n",
    "# 해당 명령어를 입력하면 csv파일로 저장된다."
   ]
  },
  {
   "cell_type": "code",
   "execution_count": 43,
   "id": "e419a421-0eb3-468f-9ae8-e5de5b6396e4",
   "metadata": {
    "collapsed": true,
    "jupyter": {
     "outputs_hidden": true
    },
    "tags": []
   },
   "outputs": [
    {
     "data": {
      "text/html": [
       "<div>\n",
       "<style scoped>\n",
       "    .dataframe tbody tr th:only-of-type {\n",
       "        vertical-align: middle;\n",
       "    }\n",
       "\n",
       "    .dataframe tbody tr th {\n",
       "        vertical-align: top;\n",
       "    }\n",
       "\n",
       "    .dataframe thead th {\n",
       "        text-align: right;\n",
       "    }\n",
       "</style>\n",
       "<table border=\"1\" class=\"dataframe\">\n",
       "  <thead>\n",
       "    <tr style=\"text-align: right;\">\n",
       "      <th></th>\n",
       "      <th>0</th>\n",
       "      <th>비고</th>\n",
       "    </tr>\n",
       "  </thead>\n",
       "  <tbody>\n",
       "    <tr>\n",
       "      <th>CUSTID</th>\n",
       "      <td>object</td>\n",
       "      <td></td>\n",
       "    </tr>\n",
       "    <tr>\n",
       "      <th>AVGPRICE</th>\n",
       "      <td>float64</td>\n",
       "      <td></td>\n",
       "    </tr>\n",
       "    <tr>\n",
       "      <th>EMI</th>\n",
       "      <td>int64</td>\n",
       "      <td></td>\n",
       "    </tr>\n",
       "    <tr>\n",
       "      <th>DEVICECOUNT</th>\n",
       "      <td>int64</td>\n",
       "      <td></td>\n",
       "    </tr>\n",
       "    <tr>\n",
       "      <th>PRODUCTAGE</th>\n",
       "      <td>float64</td>\n",
       "      <td></td>\n",
       "    </tr>\n",
       "    <tr>\n",
       "      <th>CUSTTYPE</th>\n",
       "      <td>object</td>\n",
       "      <td></td>\n",
       "    </tr>\n",
       "  </tbody>\n",
       "</table>\n",
       "</div>"
      ],
      "text/plain": [
       "                   0 비고\n",
       "CUSTID        object   \n",
       "AVGPRICE     float64   \n",
       "EMI            int64   \n",
       "DEVICECOUNT    int64   \n",
       "PRODUCTAGE   float64   \n",
       "CUSTTYPE      object   "
      ]
     },
     "execution_count": 43,
     "metadata": {},
     "output_type": "execute_result"
    }
   ],
   "source": [
    "tableDefine[\"비고\"] = \"\"\n",
    "tableDefine"
   ]
  },
  {
   "cell_type": "code",
   "execution_count": null,
   "id": "a1c6bef1-c074-4b97-80d9-02fc146a967c",
   "metadata": {},
   "outputs": [],
   "source": [
    "# 아무런 값도 지니지 않은 '비고' 탭을 만들었다.\n",
    "# 추가로 값을 삽입할 수 있다는 점 정도만 알고 넘어가자."
   ]
  },
  {
   "cell_type": "code",
   "execution_count": null,
   "id": "41f86407-98c6-4532-baea-6035b3a0252d",
   "metadata": {},
   "outputs": [],
   "source": [
    "# 행 조회 방법?\n",
    "# DataFrame명.loc[조건식 or  인덱스]"
   ]
  },
  {
   "cell_type": "code",
   "execution_count": 44,
   "id": "34912410-77f3-41e6-9db1-46dccb1ceba0",
   "metadata": {
    "collapsed": true,
    "jupyter": {
     "outputs_hidden": true
    },
    "tags": []
   },
   "outputs": [
    {
     "data": {
      "text/html": [
       "<div>\n",
       "<style scoped>\n",
       "    .dataframe tbody tr th:only-of-type {\n",
       "        vertical-align: middle;\n",
       "    }\n",
       "\n",
       "    .dataframe tbody tr th {\n",
       "        vertical-align: top;\n",
       "    }\n",
       "\n",
       "    .dataframe thead th {\n",
       "        text-align: right;\n",
       "    }\n",
       "</style>\n",
       "<table border=\"1\" class=\"dataframe\">\n",
       "  <thead>\n",
       "    <tr style=\"text-align: right;\">\n",
       "      <th></th>\n",
       "      <th>CUSTID</th>\n",
       "      <th>AVGPRICE</th>\n",
       "      <th>EMI</th>\n",
       "      <th>DEVICECOUNT</th>\n",
       "      <th>PRODUCTAGE</th>\n",
       "      <th>CUSTTYPE</th>\n",
       "    </tr>\n",
       "  </thead>\n",
       "  <tbody>\n",
       "    <tr>\n",
       "      <th>0</th>\n",
       "      <td>A13566</td>\n",
       "      <td>4273.900000</td>\n",
       "      <td>3</td>\n",
       "      <td>6</td>\n",
       "      <td>1.679181</td>\n",
       "      <td>Big-Screen-lover</td>\n",
       "    </tr>\n",
       "    <tr>\n",
       "      <th>27</th>\n",
       "      <td>F17131</td>\n",
       "      <td>3179.708359</td>\n",
       "      <td>3</td>\n",
       "      <td>6</td>\n",
       "      <td>1.100000</td>\n",
       "      <td>Early-bird</td>\n",
       "    </tr>\n",
       "    <tr>\n",
       "      <th>33</th>\n",
       "      <td>G16437</td>\n",
       "      <td>3787.328898</td>\n",
       "      <td>3</td>\n",
       "      <td>6</td>\n",
       "      <td>1.000000</td>\n",
       "      <td>Early-bird</td>\n",
       "    </tr>\n",
       "    <tr>\n",
       "      <th>36</th>\n",
       "      <td>G18402</td>\n",
       "      <td>3402.199381</td>\n",
       "      <td>3</td>\n",
       "      <td>6</td>\n",
       "      <td>1.000000</td>\n",
       "      <td>Early-bird</td>\n",
       "    </tr>\n",
       "    <tr>\n",
       "      <th>40</th>\n",
       "      <td>H16326</td>\n",
       "      <td>3988.935304</td>\n",
       "      <td>3</td>\n",
       "      <td>6</td>\n",
       "      <td>0.900000</td>\n",
       "      <td>Early-bird</td>\n",
       "    </tr>\n",
       "    <tr>\n",
       "      <th>45</th>\n",
       "      <td>I12899</td>\n",
       "      <td>3018.895637</td>\n",
       "      <td>3</td>\n",
       "      <td>6</td>\n",
       "      <td>0.900000</td>\n",
       "      <td>Early-bird</td>\n",
       "    </tr>\n",
       "    <tr>\n",
       "      <th>51</th>\n",
       "      <td>J10809</td>\n",
       "      <td>3676.135627</td>\n",
       "      <td>3</td>\n",
       "      <td>6</td>\n",
       "      <td>0.800000</td>\n",
       "      <td>Early-bird</td>\n",
       "    </tr>\n",
       "    <tr>\n",
       "      <th>52</th>\n",
       "      <td>J15083</td>\n",
       "      <td>2811.265932</td>\n",
       "      <td>3</td>\n",
       "      <td>6</td>\n",
       "      <td>0.900000</td>\n",
       "      <td>Early-bird</td>\n",
       "    </tr>\n",
       "    <tr>\n",
       "      <th>53</th>\n",
       "      <td>J16445</td>\n",
       "      <td>3041.848186</td>\n",
       "      <td>3</td>\n",
       "      <td>6</td>\n",
       "      <td>0.800000</td>\n",
       "      <td>Early-bird</td>\n",
       "    </tr>\n",
       "    <tr>\n",
       "      <th>60</th>\n",
       "      <td>L13892</td>\n",
       "      <td>3263.515145</td>\n",
       "      <td>3</td>\n",
       "      <td>6</td>\n",
       "      <td>1.100000</td>\n",
       "      <td>Early-bird</td>\n",
       "    </tr>\n",
       "    <tr>\n",
       "      <th>67</th>\n",
       "      <td>N13273</td>\n",
       "      <td>3839.694732</td>\n",
       "      <td>3</td>\n",
       "      <td>6</td>\n",
       "      <td>1.100000</td>\n",
       "      <td>Early-bird</td>\n",
       "    </tr>\n",
       "    <tr>\n",
       "      <th>95</th>\n",
       "      <td>R16364</td>\n",
       "      <td>3592.353540</td>\n",
       "      <td>3</td>\n",
       "      <td>6</td>\n",
       "      <td>0.900000</td>\n",
       "      <td>Early-bird</td>\n",
       "    </tr>\n",
       "    <tr>\n",
       "      <th>107</th>\n",
       "      <td>S17396</td>\n",
       "      <td>3895.200000</td>\n",
       "      <td>3</td>\n",
       "      <td>6</td>\n",
       "      <td>2.055707</td>\n",
       "      <td>Big-Screen-lover</td>\n",
       "    </tr>\n",
       "    <tr>\n",
       "      <th>113</th>\n",
       "      <td>T11473</td>\n",
       "      <td>4165.700000</td>\n",
       "      <td>3</td>\n",
       "      <td>6</td>\n",
       "      <td>1.780674</td>\n",
       "      <td>Big-Screen-lover</td>\n",
       "    </tr>\n",
       "    <tr>\n",
       "      <th>126</th>\n",
       "      <td>V18566</td>\n",
       "      <td>3527.701867</td>\n",
       "      <td>3</td>\n",
       "      <td>6</td>\n",
       "      <td>0.900000</td>\n",
       "      <td>Early-bird</td>\n",
       "    </tr>\n",
       "    <tr>\n",
       "      <th>130</th>\n",
       "      <td>W13404</td>\n",
       "      <td>4296.873743</td>\n",
       "      <td>3</td>\n",
       "      <td>6</td>\n",
       "      <td>1.100000</td>\n",
       "      <td>Early-bird</td>\n",
       "    </tr>\n",
       "    <tr>\n",
       "      <th>135</th>\n",
       "      <td>X13390</td>\n",
       "      <td>2947.543982</td>\n",
       "      <td>3</td>\n",
       "      <td>6</td>\n",
       "      <td>1.100000</td>\n",
       "      <td>Early-bird</td>\n",
       "    </tr>\n",
       "    <tr>\n",
       "      <th>142</th>\n",
       "      <td>Z11525</td>\n",
       "      <td>3259.018704</td>\n",
       "      <td>3</td>\n",
       "      <td>6</td>\n",
       "      <td>0.900000</td>\n",
       "      <td>Early-bird</td>\n",
       "    </tr>\n",
       "    <tr>\n",
       "      <th>146</th>\n",
       "      <td>Z13534</td>\n",
       "      <td>3662.437527</td>\n",
       "      <td>3</td>\n",
       "      <td>6</td>\n",
       "      <td>0.900000</td>\n",
       "      <td>Early-bird</td>\n",
       "    </tr>\n",
       "  </tbody>\n",
       "</table>\n",
       "</div>"
      ],
      "text/plain": [
       "     CUSTID     AVGPRICE  EMI  DEVICECOUNT  PRODUCTAGE          CUSTTYPE\n",
       "0    A13566  4273.900000    3            6    1.679181  Big-Screen-lover\n",
       "27   F17131  3179.708359    3            6    1.100000        Early-bird\n",
       "33   G16437  3787.328898    3            6    1.000000        Early-bird\n",
       "36   G18402  3402.199381    3            6    1.000000        Early-bird\n",
       "40   H16326  3988.935304    3            6    0.900000        Early-bird\n",
       "45   I12899  3018.895637    3            6    0.900000        Early-bird\n",
       "51   J10809  3676.135627    3            6    0.800000        Early-bird\n",
       "52   J15083  2811.265932    3            6    0.900000        Early-bird\n",
       "53   J16445  3041.848186    3            6    0.800000        Early-bird\n",
       "60   L13892  3263.515145    3            6    1.100000        Early-bird\n",
       "67   N13273  3839.694732    3            6    1.100000        Early-bird\n",
       "95   R16364  3592.353540    3            6    0.900000        Early-bird\n",
       "107  S17396  3895.200000    3            6    2.055707  Big-Screen-lover\n",
       "113  T11473  4165.700000    3            6    1.780674  Big-Screen-lover\n",
       "126  V18566  3527.701867    3            6    0.900000        Early-bird\n",
       "130  W13404  4296.873743    3            6    1.100000        Early-bird\n",
       "135  X13390  2947.543982    3            6    1.100000        Early-bird\n",
       "142  Z11525  3259.018704    3            6    0.900000        Early-bird\n",
       "146  Z13534  3662.437527    3            6    0.900000        Early-bird"
      ]
     },
     "execution_count": 44,
     "metadata": {},
     "output_type": "execute_result"
    }
   ],
   "source": [
    "customerData.loc[customerData.EMI > 2]"
   ]
  },
  {
   "cell_type": "code",
   "execution_count": null,
   "id": "5b43a001-0e5d-43b0-a0db-9e004b44d9e9",
   "metadata": {},
   "outputs": [],
   "source": [
    "# 위 명령어를 통해 EMI 값이 2를 초과하는 값들만 데이터를 확보하였다."
   ]
  },
  {
   "cell_type": "code",
   "execution_count": 46,
   "id": "009a02a7-eeeb-4212-915f-158be66fe23c",
   "metadata": {},
   "outputs": [],
   "source": [
    "refinedData = customerData.loc[customerData.EMI > 2]"
   ]
  },
  {
   "cell_type": "code",
   "execution_count": null,
   "id": "5154cf94-c383-4694-a64a-5b6a8c9a9211",
   "metadata": {},
   "outputs": [],
   "source": [
    "# 데이터프레임 이름. 까지 입력하고 tab을 누르면 확인 가능한 탭 목록이 표시된다.\n",
    "# refinedData라는 변수에 EMI값이 2를 초과하는 customerData의 데이터를 저장하였다."
   ]
  },
  {
   "cell_type": "code",
   "execution_count": null,
   "id": "9d7343aa-b2c1-43dc-8866-2dfacff9a7ff",
   "metadata": {},
   "outputs": [],
   "source": [
    "refinedData = /\n",
    "    customerData.loc[customerData[\"EMI\"] > 2]\n",
    "# 현재 존재하지 않는 칼럼이라도 조회 가능하다. + for문 돌리기 용이한 구조.\n",
    "# 위의 방식과 온전히 동일한 결과값을 도출하나, 가능하면 아래 방식을 사용하자."
   ]
  },
  {
   "cell_type": "code",
   "execution_count": 50,
   "id": "39db5495-b3e3-4009-80a4-e498b5a8c0bd",
   "metadata": {
    "collapsed": true,
    "jupyter": {
     "outputs_hidden": true
    },
    "tags": []
   },
   "outputs": [
    {
     "data": {
      "text/html": [
       "<div>\n",
       "<style scoped>\n",
       "    .dataframe tbody tr th:only-of-type {\n",
       "        vertical-align: middle;\n",
       "    }\n",
       "\n",
       "    .dataframe tbody tr th {\n",
       "        vertical-align: top;\n",
       "    }\n",
       "\n",
       "    .dataframe thead th {\n",
       "        text-align: right;\n",
       "    }\n",
       "</style>\n",
       "<table border=\"1\" class=\"dataframe\">\n",
       "  <thead>\n",
       "    <tr style=\"text-align: right;\">\n",
       "      <th></th>\n",
       "      <th>CUSTID</th>\n",
       "      <th>AVGPRICE</th>\n",
       "      <th>EMI</th>\n",
       "      <th>DEVICECOUNT</th>\n",
       "      <th>PRODUCTAGE</th>\n",
       "      <th>CUSTTYPE</th>\n",
       "    </tr>\n",
       "  </thead>\n",
       "  <tbody>\n",
       "    <tr>\n",
       "      <th>0</th>\n",
       "      <td>A13566</td>\n",
       "      <td>4273.900000</td>\n",
       "      <td>3</td>\n",
       "      <td>6</td>\n",
       "      <td>1.679181</td>\n",
       "      <td>Big-Screen-lover</td>\n",
       "    </tr>\n",
       "    <tr>\n",
       "      <th>1</th>\n",
       "      <td>A14219</td>\n",
       "      <td>3642.441950</td>\n",
       "      <td>2</td>\n",
       "      <td>4</td>\n",
       "      <td>2.682023</td>\n",
       "      <td>Sleeping-dog</td>\n",
       "    </tr>\n",
       "    <tr>\n",
       "      <th>2</th>\n",
       "      <td>A15312</td>\n",
       "      <td>3653.884565</td>\n",
       "      <td>2</td>\n",
       "      <td>5</td>\n",
       "      <td>3.208202</td>\n",
       "      <td>Sleeping-dog</td>\n",
       "    </tr>\n",
       "  </tbody>\n",
       "</table>\n",
       "</div>"
      ],
      "text/plain": [
       "   CUSTID     AVGPRICE  EMI  DEVICECOUNT  PRODUCTAGE          CUSTTYPE\n",
       "0  A13566  4273.900000    3            6    1.679181  Big-Screen-lover\n",
       "1  A14219  3642.441950    2            4    2.682023      Sleeping-dog\n",
       "2  A15312  3653.884565    2            5    3.208202      Sleeping-dog"
      ]
     },
     "execution_count": 50,
     "metadata": {},
     "output_type": "execute_result"
    }
   ],
   "source": [
    "customerData.loc[ [0, 1, 2] ]"
   ]
  },
  {
   "cell_type": "code",
   "execution_count": null,
   "id": "58e60cfd-0e8a-4a7b-ae80-f7469e5353d9",
   "metadata": {},
   "outputs": [],
   "source": [
    "# customerData.loc[ [ 인덱스 번호 1, 인덱스 번호 2, 인덱스 번호 3 ] ]\n",
    "\n",
    "# 인덱스 번호 1, 2, 3에 속하는 값들을 가져온다."
   ]
  },
  {
   "cell_type": "code",
   "execution_count": 52,
   "id": "a10c1ce2-0c75-4ed8-986a-f9371c33d95a",
   "metadata": {
    "collapsed": true,
    "jupyter": {
     "outputs_hidden": true
    },
    "tags": []
   },
   "outputs": [
    {
     "data": {
      "text/html": [
       "<div>\n",
       "<style scoped>\n",
       "    .dataframe tbody tr th:only-of-type {\n",
       "        vertical-align: middle;\n",
       "    }\n",
       "\n",
       "    .dataframe tbody tr th {\n",
       "        vertical-align: top;\n",
       "    }\n",
       "\n",
       "    .dataframe thead th {\n",
       "        text-align: right;\n",
       "    }\n",
       "</style>\n",
       "<table border=\"1\" class=\"dataframe\">\n",
       "  <thead>\n",
       "    <tr style=\"text-align: right;\">\n",
       "      <th></th>\n",
       "      <th>CUSTID</th>\n",
       "      <th>AVGPRICE</th>\n",
       "      <th>EMI</th>\n",
       "      <th>DEVICECOUNT</th>\n",
       "      <th>PRODUCTAGE</th>\n",
       "      <th>CUSTTYPE</th>\n",
       "    </tr>\n",
       "  </thead>\n",
       "  <tbody>\n",
       "    <tr>\n",
       "      <th>0</th>\n",
       "      <td>A13566</td>\n",
       "      <td>4273.900000</td>\n",
       "      <td>3</td>\n",
       "      <td>6</td>\n",
       "      <td>1.679181</td>\n",
       "      <td>Big-Screen-lover</td>\n",
       "    </tr>\n",
       "    <tr>\n",
       "      <th>1</th>\n",
       "      <td>A14219</td>\n",
       "      <td>3642.441950</td>\n",
       "      <td>2</td>\n",
       "      <td>4</td>\n",
       "      <td>2.682023</td>\n",
       "      <td>Sleeping-dog</td>\n",
       "    </tr>\n",
       "    <tr>\n",
       "      <th>2</th>\n",
       "      <td>A15312</td>\n",
       "      <td>3653.884565</td>\n",
       "      <td>2</td>\n",
       "      <td>5</td>\n",
       "      <td>3.208202</td>\n",
       "      <td>Sleeping-dog</td>\n",
       "    </tr>\n",
       "    <tr>\n",
       "      <th>3</th>\n",
       "      <td>A16605</td>\n",
       "      <td>3713.211107</td>\n",
       "      <td>2</td>\n",
       "      <td>6</td>\n",
       "      <td>0.900000</td>\n",
       "      <td>Early-bird</td>\n",
       "    </tr>\n",
       "    <tr>\n",
       "      <th>4</th>\n",
       "      <td>B10634</td>\n",
       "      <td>3391.074215</td>\n",
       "      <td>2</td>\n",
       "      <td>4</td>\n",
       "      <td>2.453656</td>\n",
       "      <td>Sleeping-dog</td>\n",
       "    </tr>\n",
       "    <tr>\n",
       "      <th>5</th>\n",
       "      <td>B16849</td>\n",
       "      <td>3755.263391</td>\n",
       "      <td>2</td>\n",
       "      <td>4</td>\n",
       "      <td>2.786665</td>\n",
       "      <td>Sleeping-dog</td>\n",
       "    </tr>\n",
       "    <tr>\n",
       "      <th>6</th>\n",
       "      <td>B18816</td>\n",
       "      <td>3213.911446</td>\n",
       "      <td>2</td>\n",
       "      <td>6</td>\n",
       "      <td>0.900000</td>\n",
       "      <td>Early-bird</td>\n",
       "    </tr>\n",
       "    <tr>\n",
       "      <th>7</th>\n",
       "      <td>C10639</td>\n",
       "      <td>3516.500000</td>\n",
       "      <td>2</td>\n",
       "      <td>5</td>\n",
       "      <td>2.564830</td>\n",
       "      <td>Big-Screen-lover</td>\n",
       "    </tr>\n",
       "    <tr>\n",
       "      <th>8</th>\n",
       "      <td>C12717</td>\n",
       "      <td>3732.900000</td>\n",
       "      <td>2</td>\n",
       "      <td>5</td>\n",
       "      <td>2.069995</td>\n",
       "      <td>Big-Screen-lover</td>\n",
       "    </tr>\n",
       "    <tr>\n",
       "      <th>9</th>\n",
       "      <td>C15050</td>\n",
       "      <td>4020.173425</td>\n",
       "      <td>2</td>\n",
       "      <td>4</td>\n",
       "      <td>3.013440</td>\n",
       "      <td>Sleeping-dog</td>\n",
       "    </tr>\n",
       "    <tr>\n",
       "      <th>10</th>\n",
       "      <td>C18306</td>\n",
       "      <td>4005.005142</td>\n",
       "      <td>2</td>\n",
       "      <td>4</td>\n",
       "      <td>3.113618</td>\n",
       "      <td>Sleeping-dog</td>\n",
       "    </tr>\n",
       "  </tbody>\n",
       "</table>\n",
       "</div>"
      ],
      "text/plain": [
       "    CUSTID     AVGPRICE  EMI  DEVICECOUNT  PRODUCTAGE          CUSTTYPE\n",
       "0   A13566  4273.900000    3            6    1.679181  Big-Screen-lover\n",
       "1   A14219  3642.441950    2            4    2.682023      Sleeping-dog\n",
       "2   A15312  3653.884565    2            5    3.208202      Sleeping-dog\n",
       "3   A16605  3713.211107    2            6    0.900000        Early-bird\n",
       "4   B10634  3391.074215    2            4    2.453656      Sleeping-dog\n",
       "5   B16849  3755.263391    2            4    2.786665      Sleeping-dog\n",
       "6   B18816  3213.911446    2            6    0.900000        Early-bird\n",
       "7   C10639  3516.500000    2            5    2.564830  Big-Screen-lover\n",
       "8   C12717  3732.900000    2            5    2.069995  Big-Screen-lover\n",
       "9   C15050  4020.173425    2            4    3.013440      Sleeping-dog\n",
       "10  C18306  4005.005142    2            4    3.113618      Sleeping-dog"
      ]
     },
     "execution_count": 52,
     "metadata": {},
     "output_type": "execute_result"
    }
   ],
   "source": [
    "customerData.loc[ 0:10 ]"
   ]
  },
  {
   "cell_type": "code",
   "execution_count": 53,
   "id": "dc93960f-2d97-47dd-a403-13f7239f05bd",
   "metadata": {
    "collapsed": true,
    "jupyter": {
     "outputs_hidden": true
    },
    "tags": []
   },
   "outputs": [
    {
     "data": {
      "text/html": [
       "<div>\n",
       "<style scoped>\n",
       "    .dataframe tbody tr th:only-of-type {\n",
       "        vertical-align: middle;\n",
       "    }\n",
       "\n",
       "    .dataframe tbody tr th {\n",
       "        vertical-align: top;\n",
       "    }\n",
       "\n",
       "    .dataframe thead th {\n",
       "        text-align: right;\n",
       "    }\n",
       "</style>\n",
       "<table border=\"1\" class=\"dataframe\">\n",
       "  <thead>\n",
       "    <tr style=\"text-align: right;\">\n",
       "      <th></th>\n",
       "      <th>CUSTID</th>\n",
       "      <th>AVGPRICE</th>\n",
       "      <th>EMI</th>\n",
       "      <th>DEVICECOUNT</th>\n",
       "      <th>PRODUCTAGE</th>\n",
       "      <th>CUSTTYPE</th>\n",
       "    </tr>\n",
       "  </thead>\n",
       "  <tbody>\n",
       "    <tr>\n",
       "      <th>0</th>\n",
       "      <td>A13566</td>\n",
       "      <td>4273.900000</td>\n",
       "      <td>3</td>\n",
       "      <td>6</td>\n",
       "      <td>1.679181</td>\n",
       "      <td>Big-Screen-lover</td>\n",
       "    </tr>\n",
       "    <tr>\n",
       "      <th>1</th>\n",
       "      <td>A14219</td>\n",
       "      <td>3642.441950</td>\n",
       "      <td>2</td>\n",
       "      <td>4</td>\n",
       "      <td>2.682023</td>\n",
       "      <td>Sleeping-dog</td>\n",
       "    </tr>\n",
       "    <tr>\n",
       "      <th>2</th>\n",
       "      <td>A15312</td>\n",
       "      <td>3653.884565</td>\n",
       "      <td>2</td>\n",
       "      <td>5</td>\n",
       "      <td>3.208202</td>\n",
       "      <td>Sleeping-dog</td>\n",
       "    </tr>\n",
       "    <tr>\n",
       "      <th>3</th>\n",
       "      <td>A16605</td>\n",
       "      <td>3713.211107</td>\n",
       "      <td>2</td>\n",
       "      <td>6</td>\n",
       "      <td>0.900000</td>\n",
       "      <td>Early-bird</td>\n",
       "    </tr>\n",
       "    <tr>\n",
       "      <th>4</th>\n",
       "      <td>B10634</td>\n",
       "      <td>3391.074215</td>\n",
       "      <td>2</td>\n",
       "      <td>4</td>\n",
       "      <td>2.453656</td>\n",
       "      <td>Sleeping-dog</td>\n",
       "    </tr>\n",
       "    <tr>\n",
       "      <th>...</th>\n",
       "      <td>...</td>\n",
       "      <td>...</td>\n",
       "      <td>...</td>\n",
       "      <td>...</td>\n",
       "      <td>...</td>\n",
       "      <td>...</td>\n",
       "    </tr>\n",
       "    <tr>\n",
       "      <th>145</th>\n",
       "      <td>Z13253</td>\n",
       "      <td>3678.800000</td>\n",
       "      <td>2</td>\n",
       "      <td>5</td>\n",
       "      <td>2.463670</td>\n",
       "      <td>Big-Screen-lover</td>\n",
       "    </tr>\n",
       "    <tr>\n",
       "      <th>146</th>\n",
       "      <td>Z13534</td>\n",
       "      <td>3662.437527</td>\n",
       "      <td>3</td>\n",
       "      <td>6</td>\n",
       "      <td>0.900000</td>\n",
       "      <td>Early-bird</td>\n",
       "    </tr>\n",
       "    <tr>\n",
       "      <th>147</th>\n",
       "      <td>Z16428</td>\n",
       "      <td>3516.500000</td>\n",
       "      <td>2</td>\n",
       "      <td>5</td>\n",
       "      <td>2.371301</td>\n",
       "      <td>Big-Screen-lover</td>\n",
       "    </tr>\n",
       "    <tr>\n",
       "      <th>148</th>\n",
       "      <td>Z16735</td>\n",
       "      <td>3300.100000</td>\n",
       "      <td>2</td>\n",
       "      <td>5</td>\n",
       "      <td>1.704942</td>\n",
       "      <td>Big-Screen-lover</td>\n",
       "    </tr>\n",
       "    <tr>\n",
       "      <th>149</th>\n",
       "      <td>Z19835</td>\n",
       "      <td>3326.526183</td>\n",
       "      <td>2</td>\n",
       "      <td>6</td>\n",
       "      <td>1.200000</td>\n",
       "      <td>Early-bird</td>\n",
       "    </tr>\n",
       "  </tbody>\n",
       "</table>\n",
       "<p>150 rows × 6 columns</p>\n",
       "</div>"
      ],
      "text/plain": [
       "     CUSTID     AVGPRICE  EMI  DEVICECOUNT  PRODUCTAGE          CUSTTYPE\n",
       "0    A13566  4273.900000    3            6    1.679181  Big-Screen-lover\n",
       "1    A14219  3642.441950    2            4    2.682023      Sleeping-dog\n",
       "2    A15312  3653.884565    2            5    3.208202      Sleeping-dog\n",
       "3    A16605  3713.211107    2            6    0.900000        Early-bird\n",
       "4    B10634  3391.074215    2            4    2.453656      Sleeping-dog\n",
       "..      ...          ...  ...          ...         ...               ...\n",
       "145  Z13253  3678.800000    2            5    2.463670  Big-Screen-lover\n",
       "146  Z13534  3662.437527    3            6    0.900000        Early-bird\n",
       "147  Z16428  3516.500000    2            5    2.371301  Big-Screen-lover\n",
       "148  Z16735  3300.100000    2            5    1.704942  Big-Screen-lover\n",
       "149  Z19835  3326.526183    2            6    1.200000        Early-bird\n",
       "\n",
       "[150 rows x 6 columns]"
      ]
     },
     "execution_count": 53,
     "metadata": {},
     "output_type": "execute_result"
    }
   ],
   "source": [
    "customerData.loc[0:]"
   ]
  },
  {
   "cell_type": "code",
   "execution_count": null,
   "id": "ea0049c1-21fb-4b98-ad9e-5fd773488dda",
   "metadata": {},
   "outputs": [],
   "source": [
    "# 인덱스 번호를 사용하여 0번부터 모든 데이터를 출력해봤다."
   ]
  },
  {
   "cell_type": "code",
   "execution_count": null,
   "id": "28d95c76-8cc6-4fe8-b7b7-3bd6bf0d9023",
   "metadata": {},
   "outputs": [],
   "source": []
  },
  {
   "cell_type": "code",
   "execution_count": 4,
   "id": "cab8aa23-e802-45c1-8191-14e01c565ce5",
   "metadata": {
    "tags": []
   },
   "outputs": [],
   "source": [
    "import pandas as pd\n",
    "customerData = pd.read_csv(\"../../../stdcode6/dataset/customerdata.csv\")"
   ]
  },
  {
   "cell_type": "code",
   "execution_count": 5,
   "id": "ff64b594-0d44-4ae5-98b6-284c8c9138fa",
   "metadata": {},
   "outputs": [],
   "source": [
    "emiCondition = 3\n",
    "deviceCondition = 5"
   ]
  },
  {
   "cell_type": "code",
   "execution_count": 8,
   "id": "5143c6fe-7d55-4e84-9684-2f63031b06ad",
   "metadata": {},
   "outputs": [],
   "source": [
    "csData = customerData.loc[(customerData.EMI >= emiCondition) &\n",
    "                 (customerData.DEVICECOUNT > deviceCondition)]"
   ]
  },
  {
   "cell_type": "code",
   "execution_count": null,
   "id": "ba078865-0586-40b2-b2a6-81ebc68ad8de",
   "metadata": {},
   "outputs": [],
   "source": [
    "# 다중 조건문을 사용하여 데이터를 파악할 때는\n",
    "# 각 조건들을 () 소괄호로 묶어줘야 한다."
   ]
  },
  {
   "cell_type": "code",
   "execution_count": 9,
   "id": "70c1517c-98c8-48b2-8bf2-ae0ece7ce9ab",
   "metadata": {},
   "outputs": [
    {
     "data": {
      "text/html": [
       "<div>\n",
       "<style scoped>\n",
       "    .dataframe tbody tr th:only-of-type {\n",
       "        vertical-align: middle;\n",
       "    }\n",
       "\n",
       "    .dataframe tbody tr th {\n",
       "        vertical-align: top;\n",
       "    }\n",
       "\n",
       "    .dataframe thead th {\n",
       "        text-align: right;\n",
       "    }\n",
       "</style>\n",
       "<table border=\"1\" class=\"dataframe\">\n",
       "  <thead>\n",
       "    <tr style=\"text-align: right;\">\n",
       "      <th></th>\n",
       "      <th>CUSTID</th>\n",
       "      <th>AVGPRICE</th>\n",
       "      <th>EMI</th>\n",
       "      <th>DEVICECOUNT</th>\n",
       "      <th>PRODUCTAGE</th>\n",
       "      <th>CUSTTYPE</th>\n",
       "    </tr>\n",
       "  </thead>\n",
       "  <tbody>\n",
       "    <tr>\n",
       "      <th>0</th>\n",
       "      <td>A13566</td>\n",
       "      <td>4273.900000</td>\n",
       "      <td>3</td>\n",
       "      <td>6</td>\n",
       "      <td>1.679181</td>\n",
       "      <td>Big-Screen-lover</td>\n",
       "    </tr>\n",
       "    <tr>\n",
       "      <th>27</th>\n",
       "      <td>F17131</td>\n",
       "      <td>3179.708359</td>\n",
       "      <td>3</td>\n",
       "      <td>6</td>\n",
       "      <td>1.100000</td>\n",
       "      <td>Early-bird</td>\n",
       "    </tr>\n",
       "    <tr>\n",
       "      <th>33</th>\n",
       "      <td>G16437</td>\n",
       "      <td>3787.328898</td>\n",
       "      <td>3</td>\n",
       "      <td>6</td>\n",
       "      <td>1.000000</td>\n",
       "      <td>Early-bird</td>\n",
       "    </tr>\n",
       "    <tr>\n",
       "      <th>36</th>\n",
       "      <td>G18402</td>\n",
       "      <td>3402.199381</td>\n",
       "      <td>3</td>\n",
       "      <td>6</td>\n",
       "      <td>1.000000</td>\n",
       "      <td>Early-bird</td>\n",
       "    </tr>\n",
       "    <tr>\n",
       "      <th>40</th>\n",
       "      <td>H16326</td>\n",
       "      <td>3988.935304</td>\n",
       "      <td>3</td>\n",
       "      <td>6</td>\n",
       "      <td>0.900000</td>\n",
       "      <td>Early-bird</td>\n",
       "    </tr>\n",
       "    <tr>\n",
       "      <th>45</th>\n",
       "      <td>I12899</td>\n",
       "      <td>3018.895637</td>\n",
       "      <td>3</td>\n",
       "      <td>6</td>\n",
       "      <td>0.900000</td>\n",
       "      <td>Early-bird</td>\n",
       "    </tr>\n",
       "    <tr>\n",
       "      <th>51</th>\n",
       "      <td>J10809</td>\n",
       "      <td>3676.135627</td>\n",
       "      <td>3</td>\n",
       "      <td>6</td>\n",
       "      <td>0.800000</td>\n",
       "      <td>Early-bird</td>\n",
       "    </tr>\n",
       "    <tr>\n",
       "      <th>52</th>\n",
       "      <td>J15083</td>\n",
       "      <td>2811.265932</td>\n",
       "      <td>3</td>\n",
       "      <td>6</td>\n",
       "      <td>0.900000</td>\n",
       "      <td>Early-bird</td>\n",
       "    </tr>\n",
       "    <tr>\n",
       "      <th>53</th>\n",
       "      <td>J16445</td>\n",
       "      <td>3041.848186</td>\n",
       "      <td>3</td>\n",
       "      <td>6</td>\n",
       "      <td>0.800000</td>\n",
       "      <td>Early-bird</td>\n",
       "    </tr>\n",
       "    <tr>\n",
       "      <th>60</th>\n",
       "      <td>L13892</td>\n",
       "      <td>3263.515145</td>\n",
       "      <td>3</td>\n",
       "      <td>6</td>\n",
       "      <td>1.100000</td>\n",
       "      <td>Early-bird</td>\n",
       "    </tr>\n",
       "    <tr>\n",
       "      <th>67</th>\n",
       "      <td>N13273</td>\n",
       "      <td>3839.694732</td>\n",
       "      <td>3</td>\n",
       "      <td>6</td>\n",
       "      <td>1.100000</td>\n",
       "      <td>Early-bird</td>\n",
       "    </tr>\n",
       "    <tr>\n",
       "      <th>95</th>\n",
       "      <td>R16364</td>\n",
       "      <td>3592.353540</td>\n",
       "      <td>3</td>\n",
       "      <td>6</td>\n",
       "      <td>0.900000</td>\n",
       "      <td>Early-bird</td>\n",
       "    </tr>\n",
       "    <tr>\n",
       "      <th>107</th>\n",
       "      <td>S17396</td>\n",
       "      <td>3895.200000</td>\n",
       "      <td>3</td>\n",
       "      <td>6</td>\n",
       "      <td>2.055707</td>\n",
       "      <td>Big-Screen-lover</td>\n",
       "    </tr>\n",
       "    <tr>\n",
       "      <th>113</th>\n",
       "      <td>T11473</td>\n",
       "      <td>4165.700000</td>\n",
       "      <td>3</td>\n",
       "      <td>6</td>\n",
       "      <td>1.780674</td>\n",
       "      <td>Big-Screen-lover</td>\n",
       "    </tr>\n",
       "    <tr>\n",
       "      <th>126</th>\n",
       "      <td>V18566</td>\n",
       "      <td>3527.701867</td>\n",
       "      <td>3</td>\n",
       "      <td>6</td>\n",
       "      <td>0.900000</td>\n",
       "      <td>Early-bird</td>\n",
       "    </tr>\n",
       "    <tr>\n",
       "      <th>130</th>\n",
       "      <td>W13404</td>\n",
       "      <td>4296.873743</td>\n",
       "      <td>3</td>\n",
       "      <td>6</td>\n",
       "      <td>1.100000</td>\n",
       "      <td>Early-bird</td>\n",
       "    </tr>\n",
       "    <tr>\n",
       "      <th>135</th>\n",
       "      <td>X13390</td>\n",
       "      <td>2947.543982</td>\n",
       "      <td>3</td>\n",
       "      <td>6</td>\n",
       "      <td>1.100000</td>\n",
       "      <td>Early-bird</td>\n",
       "    </tr>\n",
       "    <tr>\n",
       "      <th>142</th>\n",
       "      <td>Z11525</td>\n",
       "      <td>3259.018704</td>\n",
       "      <td>3</td>\n",
       "      <td>6</td>\n",
       "      <td>0.900000</td>\n",
       "      <td>Early-bird</td>\n",
       "    </tr>\n",
       "    <tr>\n",
       "      <th>146</th>\n",
       "      <td>Z13534</td>\n",
       "      <td>3662.437527</td>\n",
       "      <td>3</td>\n",
       "      <td>6</td>\n",
       "      <td>0.900000</td>\n",
       "      <td>Early-bird</td>\n",
       "    </tr>\n",
       "  </tbody>\n",
       "</table>\n",
       "</div>"
      ],
      "text/plain": [
       "     CUSTID     AVGPRICE  EMI  DEVICECOUNT  PRODUCTAGE          CUSTTYPE\n",
       "0    A13566  4273.900000    3            6    1.679181  Big-Screen-lover\n",
       "27   F17131  3179.708359    3            6    1.100000        Early-bird\n",
       "33   G16437  3787.328898    3            6    1.000000        Early-bird\n",
       "36   G18402  3402.199381    3            6    1.000000        Early-bird\n",
       "40   H16326  3988.935304    3            6    0.900000        Early-bird\n",
       "45   I12899  3018.895637    3            6    0.900000        Early-bird\n",
       "51   J10809  3676.135627    3            6    0.800000        Early-bird\n",
       "52   J15083  2811.265932    3            6    0.900000        Early-bird\n",
       "53   J16445  3041.848186    3            6    0.800000        Early-bird\n",
       "60   L13892  3263.515145    3            6    1.100000        Early-bird\n",
       "67   N13273  3839.694732    3            6    1.100000        Early-bird\n",
       "95   R16364  3592.353540    3            6    0.900000        Early-bird\n",
       "107  S17396  3895.200000    3            6    2.055707  Big-Screen-lover\n",
       "113  T11473  4165.700000    3            6    1.780674  Big-Screen-lover\n",
       "126  V18566  3527.701867    3            6    0.900000        Early-bird\n",
       "130  W13404  4296.873743    3            6    1.100000        Early-bird\n",
       "135  X13390  2947.543982    3            6    1.100000        Early-bird\n",
       "142  Z11525  3259.018704    3            6    0.900000        Early-bird\n",
       "146  Z13534  3662.437527    3            6    0.900000        Early-bird"
      ]
     },
     "execution_count": 9,
     "metadata": {},
     "output_type": "execute_result"
    }
   ],
   "source": [
    "csData"
   ]
  },
  {
   "cell_type": "code",
   "execution_count": 11,
   "id": "be0c54ab-75c1-4596-875a-3c6739efc359",
   "metadata": {},
   "outputs": [
    {
     "data": {
      "text/html": [
       "<div>\n",
       "<style scoped>\n",
       "    .dataframe tbody tr th:only-of-type {\n",
       "        vertical-align: middle;\n",
       "    }\n",
       "\n",
       "    .dataframe tbody tr th {\n",
       "        vertical-align: top;\n",
       "    }\n",
       "\n",
       "    .dataframe thead th {\n",
       "        text-align: right;\n",
       "    }\n",
       "</style>\n",
       "<table border=\"1\" class=\"dataframe\">\n",
       "  <thead>\n",
       "    <tr style=\"text-align: right;\">\n",
       "      <th></th>\n",
       "      <th>CUSTID</th>\n",
       "      <th>AVGPRICE</th>\n",
       "      <th>EMI</th>\n",
       "      <th>DEVICECOUNT</th>\n",
       "      <th>PRODUCTAGE</th>\n",
       "      <th>CUSTTYPE</th>\n",
       "    </tr>\n",
       "  </thead>\n",
       "  <tbody>\n",
       "  </tbody>\n",
       "</table>\n",
       "</div>"
      ],
      "text/plain": [
       "Empty DataFrame\n",
       "Columns: [CUSTID, AVGPRICE, EMI, DEVICECOUNT, PRODUCTAGE, CUSTTYPE]\n",
       "Index: []"
      ]
     },
     "execution_count": 11,
     "metadata": {},
     "output_type": "execute_result"
    }
   ],
   "source": [
    "csData.loc[ (customerData.EMI != 3) |\n",
    "           (customerData.DEVICECOUNT <= deviceCondition) ]"
   ]
  },
  {
   "cell_type": "code",
   "execution_count": null,
   "id": "44f40c2c-7e29-44c6-82ba-024e1545fde9",
   "metadata": {},
   "outputs": [],
   "source": [
    "# 조건문으로 데이터를 추출한 이후에는, 반대 조건으로 다시 한 번 확인하여\n",
    "# 반대 조건에 해당하는 데이터가 없음을 확인하여야 한다.\n",
    "# 데이터 추출 간 정확도 향상을 위해!"
   ]
  },
  {
   "cell_type": "code",
   "execution_count": null,
   "id": "f2ef3f9d-1264-4e28-937c-233764de08c2",
   "metadata": {},
   "outputs": [],
   "source": [
    "# 다중 조건 설정 간에는 문자와 숫자를 혼용하여 사용할 수 없다."
   ]
  },
  {
   "cell_type": "code",
   "execution_count": 12,
   "id": "b244620a-772f-4c2b-829d-d4b126b22331",
   "metadata": {},
   "outputs": [
    {
     "data": {
      "text/plain": [
       "CUSTID          object\n",
       "AVGPRICE       float64\n",
       "EMI              int64\n",
       "DEVICECOUNT      int64\n",
       "PRODUCTAGE     float64\n",
       "CUSTTYPE        object\n",
       "dtype: object"
      ]
     },
     "execution_count": 12,
     "metadata": {},
     "output_type": "execute_result"
    }
   ],
   "source": [
    "customerData.dtypes"
   ]
  },
  {
   "cell_type": "code",
   "execution_count": null,
   "id": "68ab70ee-1993-4869-8414-6ad464b3d986",
   "metadata": {},
   "outputs": [],
   "source": [
    "# customerData에 다양한 파일 형식이 혼용되어 있음을 확인할 수 있다."
   ]
  },
  {
   "cell_type": "code",
   "execution_count": 14,
   "id": "090173b4-2f5b-407b-96c0-a483bf7f0e68",
   "metadata": {},
   "outputs": [
    {
     "data": {
      "text/plain": [
       "0      A13566\n",
       "1      A14219\n",
       "2      A15312\n",
       "3      A16605\n",
       "4      B10634\n",
       "        ...  \n",
       "145    Z13253\n",
       "146    Z13534\n",
       "147    Z16428\n",
       "148    Z16735\n",
       "149    Z19835\n",
       "Name: CUSTID, Length: 150, dtype: object"
      ]
     },
     "execution_count": 14,
     "metadata": {},
     "output_type": "execute_result"
    }
   ],
   "source": [
    "# str, int, float 만 사용 가능하다.\n",
    "customerData.CUSTID.astype(str)"
   ]
  },
  {
   "cell_type": "code",
   "execution_count": null,
   "id": "3797bfc2-b5f2-4bb6-8dd6-475db6e72767",
   "metadata": {},
   "outputs": [],
   "source": [
    "# 숫자는 문자로 바꿀 수 있으나, 문자 혹은 문자+숫자 혼용 형태를 숫자로 변환할 수는 없다."
   ]
  },
  {
   "cell_type": "code",
   "execution_count": 17,
   "id": "861d8021-9b8e-4aad-903d-565738ee8b52",
   "metadata": {},
   "outputs": [
    {
     "data": {
      "text/plain": [
       "0      3\n",
       "1      2\n",
       "2      2\n",
       "3      2\n",
       "4      2\n",
       "      ..\n",
       "145    2\n",
       "146    3\n",
       "147    2\n",
       "148    2\n",
       "149    2\n",
       "Name: EMI, Length: 150, dtype: int32"
      ]
     },
     "execution_count": 17,
     "metadata": {},
     "output_type": "execute_result"
    }
   ],
   "source": [
    "customerData[\"EMI_STR\"] = customerData.EMI.astype(str)"
   ]
  },
  {
   "cell_type": "code",
   "execution_count": null,
   "id": "bd1dbfb2-fd38-4d6d-b53f-58630676726e",
   "metadata": {},
   "outputs": [],
   "source": [
    "# \"EMI_STR\"이라는 탭을 새로 만들고, EMI 탭에 있던 정수 데이터를 문자열로 치환하여 저장하였다."
   ]
  },
  {
   "cell_type": "code",
   "execution_count": 18,
   "id": "f4f80b85-62fd-4a31-8c0a-dfc09d0aef01",
   "metadata": {},
   "outputs": [
    {
     "data": {
      "text/plain": [
       "CUSTID          object\n",
       "AVGPRICE       float64\n",
       "EMI              int64\n",
       "DEVICECOUNT      int64\n",
       "PRODUCTAGE     float64\n",
       "CUSTTYPE        object\n",
       "EMI_STR         object\n",
       "dtype: object"
      ]
     },
     "execution_count": 18,
     "metadata": {},
     "output_type": "execute_result"
    }
   ],
   "source": [
    "customerData.dtypes"
   ]
  },
  {
   "cell_type": "code",
   "execution_count": 19,
   "id": "55cd9250-b6c5-409b-a9a6-764338a8454d",
   "metadata": {},
   "outputs": [],
   "source": [
    "customerData[\"DEVICECOUNT_float\"] = customerData.DEVICECOUNT.astype(float)"
   ]
  },
  {
   "cell_type": "code",
   "execution_count": 21,
   "id": "f1c51c74-2800-4075-be07-939d7664aaf1",
   "metadata": {},
   "outputs": [
    {
     "data": {
      "text/plain": [
       "CUSTID                object\n",
       "AVGPRICE             float64\n",
       "EMI                    int64\n",
       "DEVICECOUNT            int64\n",
       "PRODUCTAGE           float64\n",
       "CUSTTYPE              object\n",
       "EMI_STR               object\n",
       "DEVICECOUNT_float    float64\n",
       "dtype: object"
      ]
     },
     "execution_count": 21,
     "metadata": {},
     "output_type": "execute_result"
    }
   ],
   "source": [
    "customerData.dtypes"
   ]
  },
  {
   "cell_type": "code",
   "execution_count": 22,
   "id": "eec4117a-5759-45b4-b2ac-6932aec0f66f",
   "metadata": {},
   "outputs": [],
   "source": [
    "customerData[\"PRODUCTAGE_STR\"] = customerData.PRODUCTAGE.astype(str)"
   ]
  },
  {
   "cell_type": "code",
   "execution_count": 23,
   "id": "8948bcb3-e59d-4d79-ab0f-c9f967c670fb",
   "metadata": {},
   "outputs": [
    {
     "data": {
      "text/plain": [
       "CUSTID                object\n",
       "AVGPRICE             float64\n",
       "EMI                    int64\n",
       "DEVICECOUNT            int64\n",
       "PRODUCTAGE           float64\n",
       "CUSTTYPE              object\n",
       "EMI_STR               object\n",
       "DEVICECOUNT_float    float64\n",
       "PRODUCTAGE_STR        object\n",
       "dtype: object"
      ]
     },
     "execution_count": 23,
     "metadata": {},
     "output_type": "execute_result"
    }
   ],
   "source": [
    "customerData.dtypes"
   ]
  },
  {
   "cell_type": "code",
   "execution_count": 24,
   "id": "b43bce07-99f0-4bc6-80a2-6a6f935be8ff",
   "metadata": {},
   "outputs": [],
   "source": [
    "specificIndex = [1, 3]"
   ]
  },
  {
   "cell_type": "code",
   "execution_count": 25,
   "id": "68db1945-c66d-4b9c-9092-bffd512b5bf4",
   "metadata": {},
   "outputs": [],
   "source": [
    "answer1 = customerData.loc[specificIndex]"
   ]
  },
  {
   "cell_type": "code",
   "execution_count": 27,
   "id": "fdea6eb5-6efe-4ab3-bd7e-93940beb5d9d",
   "metadata": {},
   "outputs": [],
   "source": [
    "answer2 = customerData.loc[1:3]"
   ]
  },
  {
   "cell_type": "code",
   "execution_count": 28,
   "id": "fb2a3269-87aa-42a1-a40a-c38efe2afedb",
   "metadata": {},
   "outputs": [],
   "source": [
    "answer3 = customerData.loc[:]"
   ]
  },
  {
   "cell_type": "code",
   "execution_count": 29,
   "id": "d31eae4e-9c6e-41f1-8ad6-3a7e3729937d",
   "metadata": {},
   "outputs": [
    {
     "name": "stdout",
     "output_type": "stream",
     "text": [
      "2\n",
      "3\n",
      "150\n"
     ]
    }
   ],
   "source": [
    "print(len(answer1))\n",
    "print(len(answer2))\n",
    "print(len(answer3))"
   ]
  },
  {
   "cell_type": "code",
   "execution_count": 32,
   "id": "1c24f94d-aa2f-4cd1-8580-92975b779457",
   "metadata": {},
   "outputs": [],
   "source": [
    "selloutData = pd.read_csv(\"../../../stdcode6/dataset/kopo_channel_seasonality_new.csv\")"
   ]
  },
  {
   "cell_type": "code",
   "execution_count": 36,
   "id": "018802c6-4b2d-4e91-90b4-3eaa107e6fb6",
   "metadata": {},
   "outputs": [
    {
     "data": {
      "text/plain": [
       "REGIONID     object\n",
       "PRODUCT      object\n",
       "YEARWEEK      int64\n",
       "QTY         float64\n",
       "dtype: object"
      ]
     },
     "execution_count": 36,
     "metadata": {},
     "output_type": "execute_result"
    }
   ],
   "source": [
    "selloutData.dtypes"
   ]
  },
  {
   "cell_type": "code",
   "execution_count": 37,
   "id": "ba7bb9ce-0299-4570-8063-1f250778a4b1",
   "metadata": {},
   "outputs": [],
   "source": [
    "selloutData[\"QTY_float\"] = selloutData.QTY.astype(float)\n",
    "selloutData[\"YEARWEEK_str\"] = selloutData.YEARWEEK.astype(str)"
   ]
  },
  {
   "cell_type": "code",
   "execution_count": null,
   "id": "16197721-0396-405a-be3e-75f49fe9580b",
   "metadata": {},
   "outputs": [],
   "source": [
    "# selloutData.QTY.astype(float)\n",
    "# selloutData.YEARWEEK.astype(str)\n",
    "# 실습코드 내라고 하면 이거 내면 된다."
   ]
  },
  {
   "cell_type": "code",
   "execution_count": 38,
   "id": "c332ffe4-68b7-4d48-b885-ea005f081a83",
   "metadata": {},
   "outputs": [
    {
     "data": {
      "text/plain": [
       "REGIONID         object\n",
       "PRODUCT          object\n",
       "YEARWEEK          int64\n",
       "QTY             float64\n",
       "QTY_float       float64\n",
       "YEARWEEK_str     object\n",
       "dtype: object"
      ]
     },
     "execution_count": 38,
     "metadata": {},
     "output_type": "execute_result"
    }
   ],
   "source": [
    "selloutData.dtypes"
   ]
  },
  {
   "cell_type": "code",
   "execution_count": null,
   "id": "0ffca42f-2576-4e7b-a0e5-cd3810682a8a",
   "metadata": {},
   "outputs": [],
   "source": [
    "customerData = pd.read_csv(\"../../../stdcode6/dataset/customerdata.csv\")"
   ]
  },
  {
   "cell_type": "code",
   "execution_count": null,
   "id": "98e9e0c7-7ea1-4521-a646-a9850b55dbb9",
   "metadata": {},
   "outputs": [],
   "source": [
    "csColumns = list(customerData.columns)"
   ]
  },
  {
   "cell_type": "code",
   "execution_count": null,
   "id": "8c1c912c-2127-411a-af46-517bab0be19e",
   "metadata": {},
   "outputs": [
    {
     "data": {
      "text/plain": [
       "['CUSTID', 'AVGPRICE', 'EMI', 'DEVICECOUNT', 'PRODUCTAGE', 'CUSTTYPE']"
      ]
     },
     "execution_count": 46,
     "metadata": {},
     "output_type": "execute_result"
    }
   ],
   "source": [
    "csColumns"
   ]
  },
  {
   "cell_type": "code",
   "execution_count": null,
   "id": "a474174a-c92a-4591-8ef9-e17fb5e83f57",
   "metadata": {},
   "outputs": [
    {
     "name": "stdout",
     "output_type": "stream",
     "text": [
      "'str' object has no attribute 'astype'\n",
      "'str' object has no attribute 'astype'\n",
      "'str' object has no attribute 'astype'\n",
      "'str' object has no attribute 'astype'\n",
      "'str' object has no attribute 'astype'\n",
      "'str' object has no attribute 'astype'\n"
     ]
    }
   ],
   "source": [
    "# for i in range(0, len(csColumns)):\n",
    "#     try:\n",
    "#         customerData[csColumns[i]] = customerData[csColumns[i].astype(str)]\n",
    "#     except Exception as e:\n",
    "#         print(e)"
   ]
  },
  {
   "cell_type": "code",
   "execution_count": 51,
   "id": "e23f8445-933e-4f02-b622-a1c5be729354",
   "metadata": {},
   "outputs": [
    {
     "data": {
      "text/plain": [
       "CUSTID          object\n",
       "AVGPRICE       float64\n",
       "EMI              int64\n",
       "DEVICECOUNT      int64\n",
       "PRODUCTAGE     float64\n",
       "CUSTTYPE        object\n",
       "dtype: object"
      ]
     },
     "execution_count": 51,
     "metadata": {},
     "output_type": "execute_result"
    }
   ],
   "source": [
    "customerData.dtypes"
   ]
  },
  {
   "cell_type": "code",
   "execution_count": 42,
   "id": "841d6740-3a52-4800-b4f7-21060fcf5522",
   "metadata": {
    "collapsed": true,
    "jupyter": {
     "outputs_hidden": true
    },
    "tags": []
   },
   "outputs": [
    {
     "data": {
      "text/html": [
       "<div>\n",
       "<style scoped>\n",
       "    .dataframe tbody tr th:only-of-type {\n",
       "        vertical-align: middle;\n",
       "    }\n",
       "\n",
       "    .dataframe tbody tr th {\n",
       "        vertical-align: top;\n",
       "    }\n",
       "\n",
       "    .dataframe thead th {\n",
       "        text-align: right;\n",
       "    }\n",
       "</style>\n",
       "<table border=\"1\" class=\"dataframe\">\n",
       "  <thead>\n",
       "    <tr style=\"text-align: right;\">\n",
       "      <th></th>\n",
       "      <th>CUSTID</th>\n",
       "      <th>AVGPRICE</th>\n",
       "      <th>EMI</th>\n",
       "      <th>DEVICECOUNT</th>\n",
       "      <th>PRODUCTAGE</th>\n",
       "      <th>CUSTTYPE</th>\n",
       "    </tr>\n",
       "  </thead>\n",
       "  <tbody>\n",
       "    <tr>\n",
       "      <th>0</th>\n",
       "      <td>A13566</td>\n",
       "      <td>4273.900000</td>\n",
       "      <td>3</td>\n",
       "      <td>6</td>\n",
       "      <td>1.679181</td>\n",
       "      <td>Big-Screen-lover</td>\n",
       "    </tr>\n",
       "    <tr>\n",
       "      <th>1</th>\n",
       "      <td>A14219</td>\n",
       "      <td>3642.441950</td>\n",
       "      <td>2</td>\n",
       "      <td>4</td>\n",
       "      <td>2.682023</td>\n",
       "      <td>Sleeping-dog</td>\n",
       "    </tr>\n",
       "    <tr>\n",
       "      <th>2</th>\n",
       "      <td>A15312</td>\n",
       "      <td>3653.884565</td>\n",
       "      <td>2</td>\n",
       "      <td>5</td>\n",
       "      <td>3.208202</td>\n",
       "      <td>Sleeping-dog</td>\n",
       "    </tr>\n",
       "    <tr>\n",
       "      <th>3</th>\n",
       "      <td>A16605</td>\n",
       "      <td>3713.211107</td>\n",
       "      <td>2</td>\n",
       "      <td>6</td>\n",
       "      <td>0.900000</td>\n",
       "      <td>Early-bird</td>\n",
       "    </tr>\n",
       "    <tr>\n",
       "      <th>4</th>\n",
       "      <td>B10634</td>\n",
       "      <td>3391.074215</td>\n",
       "      <td>2</td>\n",
       "      <td>4</td>\n",
       "      <td>2.453656</td>\n",
       "      <td>Sleeping-dog</td>\n",
       "    </tr>\n",
       "    <tr>\n",
       "      <th>...</th>\n",
       "      <td>...</td>\n",
       "      <td>...</td>\n",
       "      <td>...</td>\n",
       "      <td>...</td>\n",
       "      <td>...</td>\n",
       "      <td>...</td>\n",
       "    </tr>\n",
       "    <tr>\n",
       "      <th>145</th>\n",
       "      <td>Z13253</td>\n",
       "      <td>3678.800000</td>\n",
       "      <td>2</td>\n",
       "      <td>5</td>\n",
       "      <td>2.463670</td>\n",
       "      <td>Big-Screen-lover</td>\n",
       "    </tr>\n",
       "    <tr>\n",
       "      <th>146</th>\n",
       "      <td>Z13534</td>\n",
       "      <td>3662.437527</td>\n",
       "      <td>3</td>\n",
       "      <td>6</td>\n",
       "      <td>0.900000</td>\n",
       "      <td>Early-bird</td>\n",
       "    </tr>\n",
       "    <tr>\n",
       "      <th>147</th>\n",
       "      <td>Z16428</td>\n",
       "      <td>3516.500000</td>\n",
       "      <td>2</td>\n",
       "      <td>5</td>\n",
       "      <td>2.371301</td>\n",
       "      <td>Big-Screen-lover</td>\n",
       "    </tr>\n",
       "    <tr>\n",
       "      <th>148</th>\n",
       "      <td>Z16735</td>\n",
       "      <td>3300.100000</td>\n",
       "      <td>2</td>\n",
       "      <td>5</td>\n",
       "      <td>1.704942</td>\n",
       "      <td>Big-Screen-lover</td>\n",
       "    </tr>\n",
       "    <tr>\n",
       "      <th>149</th>\n",
       "      <td>Z19835</td>\n",
       "      <td>3326.526183</td>\n",
       "      <td>2</td>\n",
       "      <td>6</td>\n",
       "      <td>1.200000</td>\n",
       "      <td>Early-bird</td>\n",
       "    </tr>\n",
       "  </tbody>\n",
       "</table>\n",
       "<p>150 rows × 6 columns</p>\n",
       "</div>"
      ],
      "text/plain": [
       "     CUSTID     AVGPRICE  EMI  DEVICECOUNT  PRODUCTAGE          CUSTTYPE\n",
       "0    A13566  4273.900000    3            6    1.679181  Big-Screen-lover\n",
       "1    A14219  3642.441950    2            4    2.682023      Sleeping-dog\n",
       "2    A15312  3653.884565    2            5    3.208202      Sleeping-dog\n",
       "3    A16605  3713.211107    2            6    0.900000        Early-bird\n",
       "4    B10634  3391.074215    2            4    2.453656      Sleeping-dog\n",
       "..      ...          ...  ...          ...         ...               ...\n",
       "145  Z13253  3678.800000    2            5    2.463670  Big-Screen-lover\n",
       "146  Z13534  3662.437527    3            6    0.900000        Early-bird\n",
       "147  Z16428  3516.500000    2            5    2.371301  Big-Screen-lover\n",
       "148  Z16735  3300.100000    2            5    1.704942  Big-Screen-lover\n",
       "149  Z19835  3326.526183    2            6    1.200000        Early-bird\n",
       "\n",
       "[150 rows x 6 columns]"
      ]
     },
     "execution_count": 42,
     "metadata": {},
     "output_type": "execute_result"
    }
   ],
   "source": [
    "customerData[\"CUSTID\"] = customerData[\"CUSTID\"].astype(str)"
   ]
  },
  {
   "cell_type": "code",
   "execution_count": 2,
   "id": "36a306da-24bf-4065-a589-4acad8cb5235",
   "metadata": {},
   "outputs": [],
   "source": [
    "import pandas as pd"
   ]
  },
  {
   "cell_type": "code",
   "execution_count": 3,
   "id": "dfa95731-2ea6-4c50-88d3-71b9a6d4107a",
   "metadata": {},
   "outputs": [],
   "source": [
    "customerData = pd.read_csv(\"../../../stdcode6/dataset/customerdata.csv\")"
   ]
  },
  {
   "cell_type": "code",
   "execution_count": 4,
   "id": "b6126e2f-8456-46ab-9c1a-8cbe9d0aefcc",
   "metadata": {},
   "outputs": [],
   "source": [
    "csColumns = list(customerData.columns)"
   ]
  },
  {
   "cell_type": "code",
   "execution_count": 5,
   "id": "61eef9fc-2abc-453a-ac8f-aa4920ac03f7",
   "metadata": {},
   "outputs": [
    {
     "data": {
      "text/plain": [
       "['CUSTID', 'AVGPRICE', 'EMI', 'DEVICECOUNT', 'PRODUCTAGE', 'CUSTTYPE']"
      ]
     },
     "execution_count": 5,
     "metadata": {},
     "output_type": "execute_result"
    }
   ],
   "source": [
    "csColumns"
   ]
  },
  {
   "cell_type": "code",
   "execution_count": 6,
   "id": "134691f8-5b85-4bf6-8837-b73dcadaab39",
   "metadata": {},
   "outputs": [
    {
     "name": "stdout",
     "output_type": "stream",
     "text": [
      "'str' object has no attribute 'astype'\n",
      "'str' object has no attribute 'astype'\n",
      "'str' object has no attribute 'astype'\n",
      "'str' object has no attribute 'astype'\n",
      "'str' object has no attribute 'astype'\n",
      "'str' object has no attribute 'astype'\n"
     ]
    }
   ],
   "source": [
    "for i in range(0, len(csColumns)):\n",
    "    try:\n",
    "        customerData[csColumns[i]] = customerData[csColumns[i].astype(str)]\n",
    "    except Exception as e:\n",
    "        print(e)"
   ]
  },
  {
   "cell_type": "code",
   "execution_count": 11,
   "id": "6a1e57b2-602c-4bb4-8250-a4b83eb26651",
   "metadata": {},
   "outputs": [],
   "source": [
    "emiCondition = [2,3]"
   ]
  },
  {
   "cell_type": "code",
   "execution_count": 12,
   "id": "f78d41c7-7516-43c4-a2e7-e8b5e6578087",
   "metadata": {},
   "outputs": [],
   "source": [
    "answer1 = customerData[customerData.EMI.isin(emiCondition)]\n",
    "answer2 = customerData[~customerData.EMI.isin(emiCondition)]"
   ]
  },
  {
   "cell_type": "code",
   "execution_count": null,
   "id": "367643d0-32c8-4dca-b801-422b107c342d",
   "metadata": {},
   "outputs": [],
   "source": [
    "# ~ 표시는 반대를 의미한다."
   ]
  },
  {
   "cell_type": "code",
   "execution_count": 13,
   "id": "b16d610d-4465-4d91-a5aa-29f17442eaf3",
   "metadata": {},
   "outputs": [],
   "source": [
    "csData = customerData.loc[customerData.EMI.isin(emiCondition)]"
   ]
  },
  {
   "cell_type": "code",
   "execution_count": 14,
   "id": "036b247b-2ab2-4f5c-810c-4a3aa834f1f9",
   "metadata": {},
   "outputs": [
    {
     "data": {
      "text/html": [
       "<div>\n",
       "<style scoped>\n",
       "    .dataframe tbody tr th:only-of-type {\n",
       "        vertical-align: middle;\n",
       "    }\n",
       "\n",
       "    .dataframe tbody tr th {\n",
       "        vertical-align: top;\n",
       "    }\n",
       "\n",
       "    .dataframe thead th {\n",
       "        text-align: right;\n",
       "    }\n",
       "</style>\n",
       "<table border=\"1\" class=\"dataframe\">\n",
       "  <thead>\n",
       "    <tr style=\"text-align: right;\">\n",
       "      <th></th>\n",
       "      <th>CUSTID</th>\n",
       "      <th>AVGPRICE</th>\n",
       "      <th>EMI</th>\n",
       "      <th>DEVICECOUNT</th>\n",
       "      <th>PRODUCTAGE</th>\n",
       "      <th>CUSTTYPE</th>\n",
       "    </tr>\n",
       "  </thead>\n",
       "  <tbody>\n",
       "    <tr>\n",
       "      <th>0</th>\n",
       "      <td>A13566</td>\n",
       "      <td>4273.900000</td>\n",
       "      <td>3</td>\n",
       "      <td>6</td>\n",
       "      <td>1.679181</td>\n",
       "      <td>Big-Screen-lover</td>\n",
       "    </tr>\n",
       "    <tr>\n",
       "      <th>1</th>\n",
       "      <td>A14219</td>\n",
       "      <td>3642.441950</td>\n",
       "      <td>2</td>\n",
       "      <td>4</td>\n",
       "      <td>2.682023</td>\n",
       "      <td>Sleeping-dog</td>\n",
       "    </tr>\n",
       "    <tr>\n",
       "      <th>2</th>\n",
       "      <td>A15312</td>\n",
       "      <td>3653.884565</td>\n",
       "      <td>2</td>\n",
       "      <td>5</td>\n",
       "      <td>3.208202</td>\n",
       "      <td>Sleeping-dog</td>\n",
       "    </tr>\n",
       "    <tr>\n",
       "      <th>3</th>\n",
       "      <td>A16605</td>\n",
       "      <td>3713.211107</td>\n",
       "      <td>2</td>\n",
       "      <td>6</td>\n",
       "      <td>0.900000</td>\n",
       "      <td>Early-bird</td>\n",
       "    </tr>\n",
       "    <tr>\n",
       "      <th>4</th>\n",
       "      <td>B10634</td>\n",
       "      <td>3391.074215</td>\n",
       "      <td>2</td>\n",
       "      <td>4</td>\n",
       "      <td>2.453656</td>\n",
       "      <td>Sleeping-dog</td>\n",
       "    </tr>\n",
       "    <tr>\n",
       "      <th>...</th>\n",
       "      <td>...</td>\n",
       "      <td>...</td>\n",
       "      <td>...</td>\n",
       "      <td>...</td>\n",
       "      <td>...</td>\n",
       "      <td>...</td>\n",
       "    </tr>\n",
       "    <tr>\n",
       "      <th>145</th>\n",
       "      <td>Z13253</td>\n",
       "      <td>3678.800000</td>\n",
       "      <td>2</td>\n",
       "      <td>5</td>\n",
       "      <td>2.463670</td>\n",
       "      <td>Big-Screen-lover</td>\n",
       "    </tr>\n",
       "    <tr>\n",
       "      <th>146</th>\n",
       "      <td>Z13534</td>\n",
       "      <td>3662.437527</td>\n",
       "      <td>3</td>\n",
       "      <td>6</td>\n",
       "      <td>0.900000</td>\n",
       "      <td>Early-bird</td>\n",
       "    </tr>\n",
       "    <tr>\n",
       "      <th>147</th>\n",
       "      <td>Z16428</td>\n",
       "      <td>3516.500000</td>\n",
       "      <td>2</td>\n",
       "      <td>5</td>\n",
       "      <td>2.371301</td>\n",
       "      <td>Big-Screen-lover</td>\n",
       "    </tr>\n",
       "    <tr>\n",
       "      <th>148</th>\n",
       "      <td>Z16735</td>\n",
       "      <td>3300.100000</td>\n",
       "      <td>2</td>\n",
       "      <td>5</td>\n",
       "      <td>1.704942</td>\n",
       "      <td>Big-Screen-lover</td>\n",
       "    </tr>\n",
       "    <tr>\n",
       "      <th>149</th>\n",
       "      <td>Z19835</td>\n",
       "      <td>3326.526183</td>\n",
       "      <td>2</td>\n",
       "      <td>6</td>\n",
       "      <td>1.200000</td>\n",
       "      <td>Early-bird</td>\n",
       "    </tr>\n",
       "  </tbody>\n",
       "</table>\n",
       "<p>139 rows × 6 columns</p>\n",
       "</div>"
      ],
      "text/plain": [
       "     CUSTID     AVGPRICE  EMI  DEVICECOUNT  PRODUCTAGE          CUSTTYPE\n",
       "0    A13566  4273.900000    3            6    1.679181  Big-Screen-lover\n",
       "1    A14219  3642.441950    2            4    2.682023      Sleeping-dog\n",
       "2    A15312  3653.884565    2            5    3.208202      Sleeping-dog\n",
       "3    A16605  3713.211107    2            6    0.900000        Early-bird\n",
       "4    B10634  3391.074215    2            4    2.453656      Sleeping-dog\n",
       "..      ...          ...  ...          ...         ...               ...\n",
       "145  Z13253  3678.800000    2            5    2.463670  Big-Screen-lover\n",
       "146  Z13534  3662.437527    3            6    0.900000        Early-bird\n",
       "147  Z16428  3516.500000    2            5    2.371301  Big-Screen-lover\n",
       "148  Z16735  3300.100000    2            5    1.704942  Big-Screen-lover\n",
       "149  Z19835  3326.526183    2            6    1.200000        Early-bird\n",
       "\n",
       "[139 rows x 6 columns]"
      ]
     },
     "execution_count": 14,
     "metadata": {},
     "output_type": "execute_result"
    }
   ],
   "source": [
    "csData"
   ]
  },
  {
   "cell_type": "code",
   "execution_count": 15,
   "id": "ead3163f-7f92-47a4-8019-1a67156ef645",
   "metadata": {},
   "outputs": [
    {
     "data": {
      "text/plain": [
       "(139, 6)"
      ]
     },
     "execution_count": 15,
     "metadata": {},
     "output_type": "execute_result"
    }
   ],
   "source": [
    "csData.shape"
   ]
  },
  {
   "cell_type": "code",
   "execution_count": null,
   "id": "d0d2c906-c320-42b7-b90b-c1166d10bfa8",
   "metadata": {},
   "outputs": [],
   "source": [
    "# 몇 행, 몇 열로 구성된 DataFrame인지 정보를 뱉어준다."
   ]
  },
  {
   "cell_type": "code",
   "execution_count": 17,
   "id": "4a6e5960-67ff-479f-937d-03e4d5f6bb5b",
   "metadata": {},
   "outputs": [],
   "source": [
    "selloutData = pd.read_csv(\"../../../stdcode6/dataset/kopo_channel_seasonality_new.csv\")"
   ]
  },
  {
   "cell_type": "code",
   "execution_count": 18,
   "id": "b2783a5f-850f-4611-b80e-975a76850201",
   "metadata": {},
   "outputs": [
    {
     "data": {
      "text/plain": [
       "REGIONID     object\n",
       "PRODUCT      object\n",
       "YEARWEEK      int64\n",
       "QTY         float64\n",
       "dtype: object"
      ]
     },
     "execution_count": 18,
     "metadata": {},
     "output_type": "execute_result"
    }
   ],
   "source": [
    "selloutData.dtypes"
   ]
  },
  {
   "cell_type": "code",
   "execution_count": null,
   "id": "195ede9b-2f6f-48d8-a016-82fb24f72dec",
   "metadata": {},
   "outputs": [],
   "source": [
    "# customerData.loc[0:] : 0부터 모두 다 조회\n",
    "# customerData.loc[0:2] : 인덱스 0부터 2까지 조회\n",
    "# customerData[:] : 전체 조회\n",
    "# 행 단위 조회가 가능하다. Machine Learning 때 자주 보게 될 것."
   ]
  },
  {
   "cell_type": "code",
   "execution_count": 21,
   "id": "82142aee-f94c-40be-b23f-edb4e829895f",
   "metadata": {},
   "outputs": [],
   "source": [
    "custIdData = customerData.loc[:,[\"CUSTID\"]]"
   ]
  },
  {
   "cell_type": "code",
   "execution_count": 22,
   "id": "d158b4c5-d0dd-43f3-aa38-35189af99543",
   "metadata": {},
   "outputs": [
    {
     "data": {
      "text/html": [
       "<div>\n",
       "<style scoped>\n",
       "    .dataframe tbody tr th:only-of-type {\n",
       "        vertical-align: middle;\n",
       "    }\n",
       "\n",
       "    .dataframe tbody tr th {\n",
       "        vertical-align: top;\n",
       "    }\n",
       "\n",
       "    .dataframe thead th {\n",
       "        text-align: right;\n",
       "    }\n",
       "</style>\n",
       "<table border=\"1\" class=\"dataframe\">\n",
       "  <thead>\n",
       "    <tr style=\"text-align: right;\">\n",
       "      <th></th>\n",
       "      <th>CUSTID</th>\n",
       "    </tr>\n",
       "  </thead>\n",
       "  <tbody>\n",
       "    <tr>\n",
       "      <th>0</th>\n",
       "      <td>A13566</td>\n",
       "    </tr>\n",
       "    <tr>\n",
       "      <th>1</th>\n",
       "      <td>A14219</td>\n",
       "    </tr>\n",
       "    <tr>\n",
       "      <th>2</th>\n",
       "      <td>A15312</td>\n",
       "    </tr>\n",
       "    <tr>\n",
       "      <th>3</th>\n",
       "      <td>A16605</td>\n",
       "    </tr>\n",
       "    <tr>\n",
       "      <th>4</th>\n",
       "      <td>B10634</td>\n",
       "    </tr>\n",
       "    <tr>\n",
       "      <th>...</th>\n",
       "      <td>...</td>\n",
       "    </tr>\n",
       "    <tr>\n",
       "      <th>145</th>\n",
       "      <td>Z13253</td>\n",
       "    </tr>\n",
       "    <tr>\n",
       "      <th>146</th>\n",
       "      <td>Z13534</td>\n",
       "    </tr>\n",
       "    <tr>\n",
       "      <th>147</th>\n",
       "      <td>Z16428</td>\n",
       "    </tr>\n",
       "    <tr>\n",
       "      <th>148</th>\n",
       "      <td>Z16735</td>\n",
       "    </tr>\n",
       "    <tr>\n",
       "      <th>149</th>\n",
       "      <td>Z19835</td>\n",
       "    </tr>\n",
       "  </tbody>\n",
       "</table>\n",
       "<p>150 rows × 1 columns</p>\n",
       "</div>"
      ],
      "text/plain": [
       "     CUSTID\n",
       "0    A13566\n",
       "1    A14219\n",
       "2    A15312\n",
       "3    A16605\n",
       "4    B10634\n",
       "..      ...\n",
       "145  Z13253\n",
       "146  Z13534\n",
       "147  Z16428\n",
       "148  Z16735\n",
       "149  Z19835\n",
       "\n",
       "[150 rows x 1 columns]"
      ]
     },
     "execution_count": 22,
     "metadata": {},
     "output_type": "execute_result"
    }
   ],
   "source": [
    "custIdData"
   ]
  },
  {
   "cell_type": "code",
   "execution_count": null,
   "id": "4644e826-fe46-4f30-9a47-b8ae14585a6c",
   "metadata": {},
   "outputs": [],
   "source": [
    "# CUSTID 컬럼 데이터만 모아서 출력했다."
   ]
  },
  {
   "cell_type": "code",
   "execution_count": 23,
   "id": "94ca2b16-b9d1-4e94-a108-119d8e796c23",
   "metadata": {},
   "outputs": [],
   "source": [
    "targetColumns = [\"CUSTID\", \"EMI\"]"
   ]
  },
  {
   "cell_type": "code",
   "execution_count": 27,
   "id": "4a342799-fba2-4e71-90a8-c8ddab20a43d",
   "metadata": {},
   "outputs": [],
   "source": [
    "custidNo = 0\n",
    "avgPriceNo = 1\n",
    "emiNo = 2\n",
    "deviceCountNo = 3\n",
    "productAgeNo = 4\n",
    "custTypeNo = 5"
   ]
  },
  {
   "cell_type": "code",
   "execution_count": 28,
   "id": "a4a445c7-566f-4cc6-b160-32f8bc4cfbaa",
   "metadata": {},
   "outputs": [],
   "source": [
    "emiData = customerData.iloc[:, [0, 2, 3] ]"
   ]
  },
  {
   "cell_type": "code",
   "execution_count": null,
   "id": "05d3d55f-2053-48e0-b8ac-0204f7438a81",
   "metadata": {},
   "outputs": [],
   "source": [
    "# 이런 형태로 만들어보자"
   ]
  },
  {
   "cell_type": "code",
   "execution_count": null,
   "id": "0ce666fb-3bd6-41a5-bbd4-87d0f59ba447",
   "metadata": {},
   "outputs": [],
   "source": [
    "# loc -> iloc : 인덱스 번호로 조회한다!"
   ]
  },
  {
   "cell_type": "code",
   "execution_count": null,
   "id": "3d8de083-6c73-410e-afb3-802d6ca6b3eb",
   "metadata": {},
   "outputs": [],
   "source": [
    "sortKey = [\"AVGPRICE']\n",
    "sortedData = customerData.sort_value(sortKey)\n",
    "# 해당 열값을 기준으로 sort 해준다."
   ]
  },
  {
   "cell_type": "code",
   "execution_count": 30,
   "id": "1bbf6f34-7647-4980-9a29-c9ceb116e9a8",
   "metadata": {},
   "outputs": [
    {
     "data": {
      "text/html": [
       "<div>\n",
       "<style scoped>\n",
       "    .dataframe tbody tr th:only-of-type {\n",
       "        vertical-align: middle;\n",
       "    }\n",
       "\n",
       "    .dataframe tbody tr th {\n",
       "        vertical-align: top;\n",
       "    }\n",
       "\n",
       "    .dataframe thead th {\n",
       "        text-align: right;\n",
       "    }\n",
       "</style>\n",
       "<table border=\"1\" class=\"dataframe\">\n",
       "  <thead>\n",
       "    <tr style=\"text-align: right;\">\n",
       "      <th></th>\n",
       "      <th>index</th>\n",
       "      <th>CUSTID</th>\n",
       "      <th>EMI</th>\n",
       "      <th>DEVICECOUNT</th>\n",
       "    </tr>\n",
       "  </thead>\n",
       "  <tbody>\n",
       "    <tr>\n",
       "      <th>0</th>\n",
       "      <td>0</td>\n",
       "      <td>A13566</td>\n",
       "      <td>3</td>\n",
       "      <td>6</td>\n",
       "    </tr>\n",
       "    <tr>\n",
       "      <th>1</th>\n",
       "      <td>1</td>\n",
       "      <td>A14219</td>\n",
       "      <td>2</td>\n",
       "      <td>4</td>\n",
       "    </tr>\n",
       "    <tr>\n",
       "      <th>2</th>\n",
       "      <td>2</td>\n",
       "      <td>A15312</td>\n",
       "      <td>2</td>\n",
       "      <td>5</td>\n",
       "    </tr>\n",
       "    <tr>\n",
       "      <th>3</th>\n",
       "      <td>3</td>\n",
       "      <td>A16605</td>\n",
       "      <td>2</td>\n",
       "      <td>6</td>\n",
       "    </tr>\n",
       "    <tr>\n",
       "      <th>4</th>\n",
       "      <td>4</td>\n",
       "      <td>B10634</td>\n",
       "      <td>2</td>\n",
       "      <td>4</td>\n",
       "    </tr>\n",
       "    <tr>\n",
       "      <th>...</th>\n",
       "      <td>...</td>\n",
       "      <td>...</td>\n",
       "      <td>...</td>\n",
       "      <td>...</td>\n",
       "    </tr>\n",
       "    <tr>\n",
       "      <th>145</th>\n",
       "      <td>145</td>\n",
       "      <td>Z13253</td>\n",
       "      <td>2</td>\n",
       "      <td>5</td>\n",
       "    </tr>\n",
       "    <tr>\n",
       "      <th>146</th>\n",
       "      <td>146</td>\n",
       "      <td>Z13534</td>\n",
       "      <td>3</td>\n",
       "      <td>6</td>\n",
       "    </tr>\n",
       "    <tr>\n",
       "      <th>147</th>\n",
       "      <td>147</td>\n",
       "      <td>Z16428</td>\n",
       "      <td>2</td>\n",
       "      <td>5</td>\n",
       "    </tr>\n",
       "    <tr>\n",
       "      <th>148</th>\n",
       "      <td>148</td>\n",
       "      <td>Z16735</td>\n",
       "      <td>2</td>\n",
       "      <td>5</td>\n",
       "    </tr>\n",
       "    <tr>\n",
       "      <th>149</th>\n",
       "      <td>149</td>\n",
       "      <td>Z19835</td>\n",
       "      <td>2</td>\n",
       "      <td>6</td>\n",
       "    </tr>\n",
       "  </tbody>\n",
       "</table>\n",
       "<p>150 rows × 4 columns</p>\n",
       "</div>"
      ],
      "text/plain": [
       "     index  CUSTID  EMI  DEVICECOUNT\n",
       "0        0  A13566    3            6\n",
       "1        1  A14219    2            4\n",
       "2        2  A15312    2            5\n",
       "3        3  A16605    2            6\n",
       "4        4  B10634    2            4\n",
       "..     ...     ...  ...          ...\n",
       "145    145  Z13253    2            5\n",
       "146    146  Z13534    3            6\n",
       "147    147  Z16428    2            5\n",
       "148    148  Z16735    2            5\n",
       "149    149  Z19835    2            6\n",
       "\n",
       "[150 rows x 4 columns]"
      ]
     },
     "execution_count": 30,
     "metadata": {},
     "output_type": "execute_result"
    }
   ],
   "source": [
    "emiData.reset_index()\n",
    "# 괄호 안에 drop = True를 입력하면 열로 빼주는 인덱스 번호도 다 없애버린다.\n",
    "# True 뒤에 option 하나를 추가로 더 달아줄 수 있다.\n",
    "# inplace 라는 친구인데, 기본 타입은 False이다.\n",
    "# inplace를 True로 설정해주면 본체 데이터를 바꿔버린다.\n",
    "# ex. customerData.reset_index(drop=True, inplace=True)\n",
    "# 알아만 두고 쓰지는 말자."
   ]
  },
  {
   "cell_type": "code",
   "execution_count": 25,
   "id": "cb7a518f-dbae-403c-b48c-5d0a36149a60",
   "metadata": {},
   "outputs": [],
   "source": [
    "targetData = customerData.loc[:, targetColumns]"
   ]
  },
  {
   "cell_type": "code",
   "execution_count": 26,
   "id": "69eafdf1-5f01-42fe-af49-1ebcc0d624e9",
   "metadata": {},
   "outputs": [
    {
     "data": {
      "text/html": [
       "<div>\n",
       "<style scoped>\n",
       "    .dataframe tbody tr th:only-of-type {\n",
       "        vertical-align: middle;\n",
       "    }\n",
       "\n",
       "    .dataframe tbody tr th {\n",
       "        vertical-align: top;\n",
       "    }\n",
       "\n",
       "    .dataframe thead th {\n",
       "        text-align: right;\n",
       "    }\n",
       "</style>\n",
       "<table border=\"1\" class=\"dataframe\">\n",
       "  <thead>\n",
       "    <tr style=\"text-align: right;\">\n",
       "      <th></th>\n",
       "      <th>CUSTID</th>\n",
       "      <th>EMI</th>\n",
       "    </tr>\n",
       "  </thead>\n",
       "  <tbody>\n",
       "    <tr>\n",
       "      <th>0</th>\n",
       "      <td>A13566</td>\n",
       "      <td>3</td>\n",
       "    </tr>\n",
       "    <tr>\n",
       "      <th>1</th>\n",
       "      <td>A14219</td>\n",
       "      <td>2</td>\n",
       "    </tr>\n",
       "    <tr>\n",
       "      <th>2</th>\n",
       "      <td>A15312</td>\n",
       "      <td>2</td>\n",
       "    </tr>\n",
       "    <tr>\n",
       "      <th>3</th>\n",
       "      <td>A16605</td>\n",
       "      <td>2</td>\n",
       "    </tr>\n",
       "    <tr>\n",
       "      <th>4</th>\n",
       "      <td>B10634</td>\n",
       "      <td>2</td>\n",
       "    </tr>\n",
       "    <tr>\n",
       "      <th>...</th>\n",
       "      <td>...</td>\n",
       "      <td>...</td>\n",
       "    </tr>\n",
       "    <tr>\n",
       "      <th>145</th>\n",
       "      <td>Z13253</td>\n",
       "      <td>2</td>\n",
       "    </tr>\n",
       "    <tr>\n",
       "      <th>146</th>\n",
       "      <td>Z13534</td>\n",
       "      <td>3</td>\n",
       "    </tr>\n",
       "    <tr>\n",
       "      <th>147</th>\n",
       "      <td>Z16428</td>\n",
       "      <td>2</td>\n",
       "    </tr>\n",
       "    <tr>\n",
       "      <th>148</th>\n",
       "      <td>Z16735</td>\n",
       "      <td>2</td>\n",
       "    </tr>\n",
       "    <tr>\n",
       "      <th>149</th>\n",
       "      <td>Z19835</td>\n",
       "      <td>2</td>\n",
       "    </tr>\n",
       "  </tbody>\n",
       "</table>\n",
       "<p>150 rows × 2 columns</p>\n",
       "</div>"
      ],
      "text/plain": [
       "     CUSTID  EMI\n",
       "0    A13566    3\n",
       "1    A14219    2\n",
       "2    A15312    2\n",
       "3    A16605    2\n",
       "4    B10634    2\n",
       "..      ...  ...\n",
       "145  Z13253    2\n",
       "146  Z13534    3\n",
       "147  Z16428    2\n",
       "148  Z16735    2\n",
       "149  Z19835    2\n",
       "\n",
       "[150 rows x 2 columns]"
      ]
     },
     "execution_count": 26,
     "metadata": {},
     "output_type": "execute_result"
    }
   ],
   "source": [
    "targetData"
   ]
  },
  {
   "cell_type": "code",
   "execution_count": null,
   "id": "595dd5de-6c62-45ce-b05b-1d5af0d4b820",
   "metadata": {},
   "outputs": [],
   "source": []
  }
 ],
 "metadata": {
  "kernelspec": {
   "display_name": "Python 3 (ipykernel)",
   "language": "python",
   "name": "python3"
  },
  "language_info": {
   "codemirror_mode": {
    "name": "ipython",
    "version": 3
   },
   "file_extension": ".py",
   "mimetype": "text/x-python",
   "name": "python",
   "nbconvert_exporter": "python",
   "pygments_lexer": "ipython3",
   "version": "3.9.13"
  }
 },
 "nbformat": 4,
 "nbformat_minor": 5
}
