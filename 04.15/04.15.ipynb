{
 "cells": [
  {
   "cell_type": "code",
   "execution_count": 1,
   "id": "c9f71c42-3611-422d-a01c-188256f990a7",
   "metadata": {},
   "outputs": [],
   "source": [
    "List = ['A01' , '한국' , 'A02' , '미국' , 'A03' , '프랑스'] "
   ]
  },
  {
   "cell_type": "code",
   "execution_count": 2,
   "id": "eea615e6-e24b-4528-9473-0c1d1230ef56",
   "metadata": {},
   "outputs": [
    {
     "name": "stdout",
     "output_type": "stream",
     "text": [
      "A01\n",
      "A02\n",
      "A03\n"
     ]
    }
   ],
   "source": [
    "for i in range(0, len(List)):\n",
    "    if(i % 2 == 0):\n",
    "        print(List[i])\n",
    "    else:\n",
    "        pass"
   ]
  },
  {
   "cell_type": "code",
   "execution_count": 3,
   "id": "426677ba-404c-4b15-a062-89051a236809",
   "metadata": {},
   "outputs": [],
   "source": [
    "SCORE = 80"
   ]
  },
  {
   "cell_type": "code",
   "execution_count": 4,
   "id": "ddd9742d-e923-4bf7-b8ce-eb282e5b6300",
   "metadata": {},
   "outputs": [
    {
     "name": "stdout",
     "output_type": "stream",
     "text": [
      "B\n"
     ]
    }
   ],
   "source": [
    "if(SCORE >= 90):\n",
    "    print(\"A\")\n",
    "elif(SCORE >= 80):\n",
    "    print(\"B\")\n",
    "else:\n",
    "    print(\"C\")"
   ]
  },
  {
   "cell_type": "code",
   "execution_count": 5,
   "id": "0594a638-aa78-4864-a990-54e2613023fa",
   "metadata": {},
   "outputs": [],
   "source": [
    "tvList3 = [ 'UN40EN001', 'LEDTV_UN40EN002', 'ledtv_LEDTV_UN40EN003', 'ledtv_UN40EN004'] \n",
    "#리스트에서 LEDTV_가 한 개만 앞에 붙도록 하세요"
   ]
  },
  {
   "cell_type": "code",
   "execution_count": 9,
   "id": "7e549f97-a969-4881-a6c1-2a5c4fec30eb",
   "metadata": {},
   "outputs": [],
   "source": [
    "for i in range(0, len(tvList3)):\n",
    "    tvList3[i] = tvList3[i].upper()"
   ]
  },
  {
   "cell_type": "code",
   "execution_count": 10,
   "id": "c4a4a76a-944e-4e35-aef0-56eae2bc1830",
   "metadata": {},
   "outputs": [
    {
     "data": {
      "text/plain": [
       "['UN40EN001', 'LEDTV_UN40EN002', 'LEDTV_LEDTV_UN40EN003', 'LEDTV_UN40EN004']"
      ]
     },
     "execution_count": 10,
     "metadata": {},
     "output_type": "execute_result"
    }
   ],
   "source": [
    "tvList3"
   ]
  },
  {
   "cell_type": "code",
   "execution_count": 11,
   "id": "98d467c3-7d70-4a3a-bf2c-11e916d8c4fa",
   "metadata": {},
   "outputs": [],
   "source": [
    "preFix = \"LEDTV_\""
   ]
  },
  {
   "cell_type": "code",
   "execution_count": 13,
   "id": "d5b55235-b2a2-426c-a6f2-b4e23453f924",
   "metadata": {},
   "outputs": [],
   "source": [
    "for i in range(0, len(tvList3)):\n",
    "    if(tvList3[i].count(preFix) > 1):\n",
    "        tvList3[i] = tvList3[i].replace(preFix, \"\")\n",
    "        tvList3[i] = preFix + tvList3[i]\n",
    "    elif(tvList3[i].count(preFix) == 1):\n",
    "        pass\n",
    "    else:\n",
    "        tvList3[i] = preFix + tvList3[i]"
   ]
  },
  {
   "cell_type": "code",
   "execution_count": 14,
   "id": "14e5955d-fc46-48ae-ac2a-166883bab6c1",
   "metadata": {},
   "outputs": [
    {
     "data": {
      "text/plain": [
       "['LEDTV_UN40EN001', 'LEDTV_UN40EN002', 'LEDTV_UN40EN003', 'LEDTV_UN40EN004']"
      ]
     },
     "execution_count": 14,
     "metadata": {},
     "output_type": "execute_result"
    }
   ],
   "source": [
    "tvList3"
   ]
  },
  {
   "cell_type": "code",
   "execution_count": 17,
   "id": "86e3504d-d64d-4d22-aa62-5a721bffd2cf",
   "metadata": {},
   "outputs": [],
   "source": [
    "def roundFunction(inValue):\n",
    "    step1 = inValue * 100\n",
    "    step2 = int(step1 + 0.5)\n",
    "    outValue = step2 / 100\n",
    "    return outValue"
   ]
  },
  {
   "cell_type": "code",
   "execution_count": 19,
   "id": "c2edf72f-5033-4402-a831-c41903b8a8fd",
   "metadata": {},
   "outputs": [],
   "source": [
    "a = 10\n",
    "b = 5.3\n",
    "c = 1.7\n",
    "displayDigitOne = a/b\n",
    "displayDigitTwo = a/c\n",
    "answer = roundFunction(displayDigitOne)\n",
    "answer2 = roundFunction(displayDigitTwo)"
   ]
  },
  {
   "cell_type": "code",
   "execution_count": 20,
   "id": "89381f61-960b-4cd5-9514-2ee909108bb6",
   "metadata": {},
   "outputs": [
    {
     "data": {
      "text/plain": [
       "1.89"
      ]
     },
     "execution_count": 20,
     "metadata": {},
     "output_type": "execute_result"
    }
   ],
   "source": [
    "answer"
   ]
  },
  {
   "cell_type": "code",
   "execution_count": 21,
   "id": "705391df-a0a1-4bb7-899d-aa772740e0e7",
   "metadata": {},
   "outputs": [
    {
     "data": {
      "text/plain": [
       "5.88"
      ]
     },
     "execution_count": 21,
     "metadata": {},
     "output_type": "execute_result"
    }
   ],
   "source": [
    "answer2"
   ]
  },
  {
   "cell_type": "code",
   "execution_count": 29,
   "id": "80a477fc-6c4a-4d50-8632-5117b81766cb",
   "metadata": {},
   "outputs": [],
   "source": [
    "import math\n",
    "def roundFunctions(inValue, option):\n",
    "    stdVal = 0.5\n",
    "    step1 = inValue * math.pow(10, option)\n",
    "    step2 = int(step1 + stdVal)\n",
    "    step3 = step1 / 100\n",
    "    step4 = step2 / math.pow(10, option)\n",
    "    return step4"
   ]
  },
  {
   "cell_type": "code",
   "execution_count": 30,
   "id": "624e37a7-5a28-47cf-9b4c-fc8bc0b94243",
   "metadata": {},
   "outputs": [
    {
     "data": {
      "text/plain": [
       "103.57"
      ]
     },
     "execution_count": 30,
     "metadata": {},
     "output_type": "execute_result"
    }
   ],
   "source": [
    "roundFunctions(103.566, 2)"
   ]
  },
  {
   "cell_type": "code",
   "execution_count": 31,
   "id": "4e1d568d-44f1-4086-bb30-a88ef1a8dadd",
   "metadata": {},
   "outputs": [],
   "source": [
    "def listSorting(inputList):\n",
    "    # inputList = []\n",
    "    maxList = max(inputList)\n",
    "    minList = min(inputList)\n",
    "\n",
    "    inputList.remove(maxList)\n",
    "    inputList.remove(minList)\n",
    "\n",
    "    return inputList"
   ]
  },
  {
   "cell_type": "code",
   "execution_count": null,
   "id": "a955ab6f-94a9-499b-8dd5-9529afb36bb4",
   "metadata": {},
   "outputs": [
    {
     "data": {
      "text/plain": [
       "[100, 34, 56, 3000]"
      ]
     },
     "execution_count": 33,
     "metadata": {},
     "output_type": "execute_result"
    }
   ],
   "source": [
    "listSorting([100, 20, 3000, 34, 56])"
   ]
  },
  {
   "cell_type": "code",
   "execution_count": null,
   "id": "5483e6c7-0c5c-485b-b78f-01032ae7f328",
   "metadata": {},
   "outputs": [],
   "source": [
    "# break구문 연습"
   ]
  },
  {
   "cell_type": "code",
   "execution_count": 41,
   "id": "85c5fa8e-e58c-46d5-bfa6-23fc9397b86e",
   "metadata": {},
   "outputs": [],
   "source": [
    "model = [\"MODEL1\", \"MODEL2\"]\n",
    "attatedModel = []"
   ]
  },
  {
   "cell_type": "code",
   "execution_count": 42,
   "id": "7fb27d93-4b13-498f-84b9-e36986511c15",
   "metadata": {},
   "outputs": [],
   "source": [
    "for i in range(0, len(model)):\n",
    "    if(model[i] == \"MODEL1\"):\n",
    "        break;\n",
    "    attatedModel.append(model[i])\n",
    "    print(model[i])"
   ]
  },
  {
   "cell_type": "code",
   "execution_count": 43,
   "id": "907ca2f3-dc7c-4586-8959-291e4422f7f6",
   "metadata": {},
   "outputs": [
    {
     "name": "stdout",
     "output_type": "stream",
     "text": [
      "[]\n"
     ]
    }
   ],
   "source": [
    "print(attatedModel)"
   ]
  },
  {
   "cell_type": "code",
   "execution_count": 44,
   "id": "a016ff78-f02c-4014-95e7-f318f03244f2",
   "metadata": {},
   "outputs": [
    {
     "name": "stdout",
     "output_type": "stream",
     "text": [
      "MODEL2\n"
     ]
    }
   ],
   "source": [
    "for i in range(0, len(model)):\n",
    "    if(model[i] == \"MODEL1\"):\n",
    "        continue;\n",
    "    attatedModel.append(model[i])\n",
    "    print(model[i])"
   ]
  },
  {
   "cell_type": "code",
   "execution_count": 45,
   "id": "861b2465-f5be-4ca1-8b4d-6165d54c28c7",
   "metadata": {},
   "outputs": [
    {
     "name": "stdout",
     "output_type": "stream",
     "text": [
      "['MODEL2']\n"
     ]
    }
   ],
   "source": [
    "print(attatedModel)"
   ]
  },
  {
   "cell_type": "code",
   "execution_count": null,
   "id": "d10c974a-e374-4d6d-9cc1-fa9854329ae6",
   "metadata": {},
   "outputs": [],
   "source": [
    "# break는 해당하는 조건에 부합하는 경우 \n",
    "# 반복문을 거기서 종료해버린다.\n",
    "\n",
    "# 반면, conmtinue는 해당 조건에 부합하여도\n",
    "# 다음 반복문으로 넘어가버린다.\n",
    "\n",
    "#이와 같은 차이를 인식하고, 코드를 작성하자"
   ]
  },
  {
   "cell_type": "code",
   "execution_count": 46,
   "id": "b9c47b4e-4414-48bb-8960-9d69da89b209",
   "metadata": {},
   "outputs": [],
   "source": [
    "tvList = [\"LEDTV_UN40EN001\", \"LEDTV_UN40EN002\", \"LEDTV_UN40EN003\"]\n",
    "mobileList = [\"G3_MO001\", \"G3_MO002\",\"G3_MO003\"]\n",
    "speakerList = [\"BL_SP001\", \"BL_SP002\", \"BL_SP003\"]\n",
    "\n",
    "productList = [tvList, mobileList, speakerList]"
   ]
  },
  {
   "cell_type": "code",
   "execution_count": 47,
   "id": "12160153-47ce-41c3-8652-11f364ea97aa",
   "metadata": {},
   "outputs": [
    {
     "name": "stdout",
     "output_type": "stream",
     "text": [
      "LEDTV_UN40EN001\n",
      "LEDTV_UN40EN002\n",
      "LEDTV_UN40EN003\n",
      "G3_MO001\n",
      "BL_SP001\n",
      "BL_SP002\n",
      "BL_SP003\n"
     ]
    }
   ],
   "source": [
    "for i in range (0, len(productList)):\n",
    "    productlength = len(productList[i])\n",
    "    \n",
    "    for j in range (0, productlength):\n",
    "        if  (productList[i][j].split(\"_\")[0] == \"G3\") &\\\n",
    "            (productList[i][j].split(\"_\")[1] == \"MO002\"):\n",
    "            break\n",
    "        print(productList[i][j])"
   ]
  },
  {
   "cell_type": "code",
   "execution_count": null,
   "id": "75a70546-78b8-4776-9a43-43eb1c8b1fa5",
   "metadata": {},
   "outputs": [],
   "source": [
    "# 솔직히 이해 잘 안감. 코더가 된 기분"
   ]
  }
 ],
 "metadata": {
  "kernelspec": {
   "display_name": "Python 3 (ipykernel)",
   "language": "python",
   "name": "python3"
  },
  "language_info": {
   "codemirror_mode": {
    "name": "ipython",
    "version": 3
   },
   "file_extension": ".py",
   "mimetype": "text/x-python",
   "name": "python",
   "nbconvert_exporter": "python",
   "pygments_lexer": "ipython3",
   "version": "3.9.13"
  }
 },
 "nbformat": 4,
 "nbformat_minor": 5
}
