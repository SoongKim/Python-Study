{
 "cells": [
  {
   "cell_type": "code",
   "execution_count": null,
   "id": "c9911f6e-9222-4dd0-b5ad-87938530f81b",
   "metadata": {},
   "outputs": [],
   "source": [
    "# 001"
   ]
  },
  {
   "cell_type": "code",
   "execution_count": 1,
   "id": "8ff36300-1746-4164-b615-c65b9d395813",
   "metadata": {},
   "outputs": [
    {
     "name": "stdout",
     "output_type": "stream",
     "text": [
      "Hello world\n"
     ]
    }
   ],
   "source": [
    "print(\"Hello world\")"
   ]
  },
  {
   "cell_type": "code",
   "execution_count": 2,
   "id": "3bdb3d4b-e941-41bb-bc89-7ee49476ad59",
   "metadata": {},
   "outputs": [],
   "source": [
    "# 002"
   ]
  },
  {
   "cell_type": "code",
   "execution_count": 3,
   "id": "2a9619c1-f0eb-4e9e-8e8c-0daf743425fb",
   "metadata": {},
   "outputs": [
    {
     "name": "stdout",
     "output_type": "stream",
     "text": [
      "Mary's cosmetics\n"
     ]
    }
   ],
   "source": [
    "print(\"Mary's cosmetics\")"
   ]
  },
  {
   "cell_type": "code",
   "execution_count": null,
   "id": "30864d08-a13f-41a3-93ba-9c3d39d2e4ac",
   "metadata": {},
   "outputs": [],
   "source": [
    "# 003"
   ]
  },
  {
   "cell_type": "code",
   "execution_count": 5,
   "id": "5459c30b-5ad4-4015-8cab-5aeabdbd87ca",
   "metadata": {},
   "outputs": [
    {
     "name": "stdout",
     "output_type": "stream",
     "text": [
      "신씨가 소리질렀다. \"도둑이야\".\n"
     ]
    }
   ],
   "source": [
    "print('신씨가 소리질렀다. \"도둑이야\".')"
   ]
  },
  {
   "cell_type": "code",
   "execution_count": null,
   "id": "fec1aa86-6a48-417c-b8c3-4a41b8db00fb",
   "metadata": {},
   "outputs": [],
   "source": [
    "# 004"
   ]
  },
  {
   "cell_type": "code",
   "execution_count": 6,
   "id": "01cac71a-dff6-4311-9fb7-f77e6b688904",
   "metadata": {},
   "outputs": [
    {
     "name": "stdout",
     "output_type": "stream",
     "text": [
      "\"C:\\Windows\"\n"
     ]
    }
   ],
   "source": [
    "print('\"C:\\Windows\"')"
   ]
  },
  {
   "cell_type": "code",
   "execution_count": null,
   "id": "f1a39949-bacd-4e36-89c6-2e1ca4ab984a",
   "metadata": {},
   "outputs": [],
   "source": [
    "# 005"
   ]
  },
  {
   "cell_type": "code",
   "execution_count": 7,
   "id": "837afde9-8280-4233-9a63-034e7d7ef4c5",
   "metadata": {},
   "outputs": [
    {
     "name": "stdout",
     "output_type": "stream",
     "text": [
      "안녕하세요.\n",
      "만나서\t\t반갑습니다.\n"
     ]
    }
   ],
   "source": [
    "print(\"안녕하세요.\\n만나서\\t\\t반갑습니다.\")"
   ]
  },
  {
   "cell_type": "code",
   "execution_count": null,
   "id": "bafd6ed0-c74f-4472-ab6f-274414c1adef",
   "metadata": {},
   "outputs": [],
   "source": [
    "# 006"
   ]
  },
  {
   "cell_type": "code",
   "execution_count": 8,
   "id": "4a4d6aca-4701-4e04-8f6c-13241db4f16b",
   "metadata": {},
   "outputs": [
    {
     "name": "stdout",
     "output_type": "stream",
     "text": [
      "오늘은 일요일\n"
     ]
    }
   ],
   "source": [
    "print(\"오늘은\", \"일요일\")"
   ]
  },
  {
   "cell_type": "code",
   "execution_count": null,
   "id": "af65c15d-e295-4852-839e-838f44db69d6",
   "metadata": {},
   "outputs": [],
   "source": [
    "# 007"
   ]
  },
  {
   "cell_type": "code",
   "execution_count": 11,
   "id": "cb36bfcf-ea15-4c46-b62a-3cf86cf238c6",
   "metadata": {},
   "outputs": [
    {
     "name": "stdout",
     "output_type": "stream",
     "text": [
      "naver/kakao/sk/samsung\n"
     ]
    }
   ],
   "source": [
    "print(\"naver/kakao/sk/samsung\")"
   ]
  },
  {
   "cell_type": "code",
   "execution_count": null,
   "id": "a40c6cec-bffa-4ccd-b968-43c3a3e16d11",
   "metadata": {},
   "outputs": [],
   "source": [
    "# 008"
   ]
  },
  {
   "cell_type": "code",
   "execution_count": 12,
   "id": "b67289c5-9846-4ffd-b6f7-5d1fbb1849c8",
   "metadata": {},
   "outputs": [
    {
     "name": "stdout",
     "output_type": "stream",
     "text": [
      "naver;kakao;sk;samsung\n"
     ]
    }
   ],
   "source": [
    "print(\"naver;kakao;sk;samsung\")"
   ]
  },
  {
   "cell_type": "code",
   "execution_count": 13,
   "id": "3ab448f4-d77a-4a8e-9b00-4b051a4ab55a",
   "metadata": {},
   "outputs": [],
   "source": [
    "# 009"
   ]
  },
  {
   "cell_type": "code",
   "execution_count": 14,
   "id": "bef9f5c9-8507-4e7c-b493-ad6ffa07087d",
   "metadata": {},
   "outputs": [
    {
     "name": "stdout",
     "output_type": "stream",
     "text": [
      "first\n",
      "Second\n"
     ]
    }
   ],
   "source": [
    "print(\"first\");print(\"Second\")"
   ]
  },
  {
   "cell_type": "code",
   "execution_count": 15,
   "id": "30870a8f-d8f2-48f5-bb85-842e563f3d7f",
   "metadata": {},
   "outputs": [],
   "source": [
    "# 010"
   ]
  },
  {
   "cell_type": "code",
   "execution_count": 25,
   "id": "1f02001e-23e7-4339-b095-1356bd078a5f",
   "metadata": {
    "tags": []
   },
   "outputs": [
    {
     "name": "stdout",
     "output_type": "stream",
     "text": [
      "1.6666666666666667\n"
     ]
    }
   ],
   "source": [
    "print(5/3)"
   ]
  },
  {
   "cell_type": "code",
   "execution_count": 26,
   "id": "5b23ebff-b5b7-4e91-b5f2-52abbffe54c7",
   "metadata": {},
   "outputs": [],
   "source": [
    "# 011"
   ]
  },
  {
   "cell_type": "code",
   "execution_count": 27,
   "id": "4ffaf1f6-615f-4006-a6c3-60115b7705df",
   "metadata": {},
   "outputs": [],
   "source": [
    "listA = [\"시가총액\", \"현재가\", \"PER\"]"
   ]
  },
  {
   "cell_type": "code",
   "execution_count": 28,
   "id": "fb8aaef6-be30-4be9-992c-82539cb1c0b6",
   "metadata": {},
   "outputs": [],
   "source": [
    "listB = [\"298조\", \"50,000원\", 15.79]"
   ]
  },
  {
   "cell_type": "code",
   "execution_count": 54,
   "id": "685cba82-b89c-47de-970c-4880d5fb3451",
   "metadata": {},
   "outputs": [],
   "source": [
    "nationList = ['A01', '한국', 'A02', '미국', 'A03', '프랑스']"
   ]
  },
  {
   "cell_type": "code",
   "execution_count": 55,
   "id": "75e9bc3e-9dfa-4d35-a823-37490f6f3e6c",
   "metadata": {},
   "outputs": [],
   "source": [
    "lenList = len(nationList)"
   ]
  },
  {
   "cell_type": "code",
   "execution_count": 56,
   "id": "242265de-a5c7-4638-9b35-e3ceaf9cbb02",
   "metadata": {},
   "outputs": [],
   "source": [
    "newList = []"
   ]
  },
  {
   "cell_type": "code",
   "execution_count": 57,
   "id": "b4bc9c88-6cc0-49e5-ab07-0d62b42a6373",
   "metadata": {},
   "outputs": [],
   "source": [
    "for i in range(0, lenList):\n",
    "    if(nationList[i].count(\"A\") != 0):\n",
    "        newList.append(nationList[i])"
   ]
  },
  {
   "cell_type": "code",
   "execution_count": 58,
   "id": "8a79b909-90da-406c-bed2-b6e5e2530894",
   "metadata": {},
   "outputs": [
    {
     "data": {
      "text/plain": [
       "['A01', 'A02', 'A03']"
      ]
     },
     "execution_count": 58,
     "metadata": {},
     "output_type": "execute_result"
    }
   ],
   "source": [
    "newList"
   ]
  },
  {
   "cell_type": "code",
   "execution_count": 61,
   "id": "b9e9b8e2-0f80-43b2-b2bb-9beeb4ac8a5a",
   "metadata": {},
   "outputs": [],
   "source": [
    "SCORE = 80"
   ]
  },
  {
   "cell_type": "code",
   "execution_count": 62,
   "id": "2e35b5cc-e75f-4cc4-849d-61bc6bc4c67d",
   "metadata": {},
   "outputs": [
    {
     "name": "stdout",
     "output_type": "stream",
     "text": [
      "B\n"
     ]
    }
   ],
   "source": [
    "if(SCORE >= 90):\n",
    "    print(\"A\")\n",
    "elif(SCORE >= 80):\n",
    "    print(\"B\")\n",
    "else:\n",
    "    print(\"C\")"
   ]
  },
  {
   "cell_type": "code",
   "execution_count": 81,
   "id": "a7b861eb-eaa1-4c38-8dcf-1677b3b75060",
   "metadata": {},
   "outputs": [],
   "source": [
    "tvList2 = ['UN40EN001', 'LEDTV_UN40EN002', 'LEDTV_LEDTV_UN40EN003', 'ledtv_UN40EN004']"
   ]
  },
  {
   "cell_type": "code",
   "execution_count": 82,
   "id": "94123398-5724-4160-a147-8eba9eaf272e",
   "metadata": {},
   "outputs": [],
   "source": [
    "lenTvList = len(tvList2)"
   ]
  },
  {
   "cell_type": "code",
   "execution_count": 83,
   "id": "ca88173c-4b8e-4e5d-be41-4652b0cf6e0f",
   "metadata": {},
   "outputs": [],
   "source": [
    "preFix = \"LEDTV_\""
   ]
  },
  {
   "cell_type": "code",
   "execution_count": 84,
   "id": "0d81426b-b636-4dc9-bc8d-cc53bb1986e2",
   "metadata": {},
   "outputs": [],
   "source": [
    "for i in range(0, lenTvList):\n",
    "    tvList2[i] = tvList2[i].upper()\n",
    "    if(tvList2[i].count(preFix) > 1):\n",
    "        tvList2[i] = preFix + tvList2[i].replace(preFix, \"\")\n",
    "    elif(tvList2[i].count(preFix) == 1):\n",
    "        pass\n",
    "    else:\n",
    "        tvList2[i] = preFix + tvList2[i]"
   ]
  },
  {
   "cell_type": "code",
   "execution_count": 85,
   "id": "44f8de70-4178-4806-b412-e0c364d1c362",
   "metadata": {},
   "outputs": [
    {
     "data": {
      "text/plain": [
       "['LEDTV_UN40EN001', 'LEDTV_UN40EN002', 'LEDTV_UN40EN003', 'LEDTV_UN40EN004']"
      ]
     },
     "execution_count": 85,
     "metadata": {},
     "output_type": "execute_result"
    }
   ],
   "source": [
    "tvList2"
   ]
  },
  {
   "cell_type": "code",
   "execution_count": null,
   "id": "808714da-eace-4ef0-bc2d-ad6609fcc303",
   "metadata": {},
   "outputs": [],
   "source": []
  },
  {
   "cell_type": "code",
   "execution_count": 115,
   "id": "6d8d63d6-e0ec-40ae-a720-2852418543d5",
   "metadata": {},
   "outputs": [],
   "source": [
    "def roundFunction(inputValue, userValue):\n",
    "    \"\"\"\n",
    "사용자로부터 inputValue 값을 입력받고, 이를 소수점 userValue 까지 나타내는 함수입니다.\n",
    "inputValue(float), userValue(int)\n",
    "return = targetValue\n",
    "    \"\"\"\n",
    "\n",
    "\n",
    "    # inputValue = 12.25333\n",
    "\n",
    "    # userValue = 2\n",
    "\n",
    "    inputValue = inputValue * 10**int(userValue)\n",
    "\n",
    "    inputValue = int(inputValue)\n",
    "\n",
    "    targetValue = inputValue / 10**userValue\n",
    "\n",
    "    return targetValue"
   ]
  },
  {
   "cell_type": "code",
   "execution_count": null,
   "id": "4264adcb-9268-4025-a578-a219fe819b12",
   "metadata": {},
   "outputs": [],
   "source": []
  },
  {
   "cell_type": "code",
   "execution_count": null,
   "id": "10567eda-3c66-4a9b-9761-effd4f4bce42",
   "metadata": {},
   "outputs": [],
   "source": []
  }
 ],
 "metadata": {
  "kernelspec": {
   "display_name": "Python 3 (ipykernel)",
   "language": "python",
   "name": "python3"
  },
  "language_info": {
   "codemirror_mode": {
    "name": "ipython",
    "version": 3
   },
   "file_extension": ".py",
   "mimetype": "text/x-python",
   "name": "python",
   "nbconvert_exporter": "python",
   "pygments_lexer": "ipython3",
   "version": "3.9.13"
  }
 },
 "nbformat": 4,
 "nbformat_minor": 5
}
