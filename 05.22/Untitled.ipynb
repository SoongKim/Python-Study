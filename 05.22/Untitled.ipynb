{
 "cells": [
  {
   "cell_type": "code",
   "execution_count": 1,
   "id": "3ea59681-7fff-4d92-a862-9833c4a59687",
   "metadata": {},
   "outputs": [],
   "source": [
    "import pandas as pd\n",
    "import numpy as np\n",
    "from sklearn import linear_model\n",
    "from sklearn.metrics import mean_squared_error\n",
    "from sklearn.metrics import mean_absolute_error\n",
    "from sklearn.linear_model import LinearRegression\n",
    "from sklearn.preprocessing import LabelEncoder\n",
    "from sklearn.metrics import accuracy_score\n",
    "import warnings\n",
    "warnings.simplefilter(action='ignore', category=FutureWarning) # FutureWarning 제거"
   ]
  },
  {
   "cell_type": "code",
   "execution_count": 2,
   "id": "2647b1ae-dec7-4e06-8bf4-cef43ec01bf5",
   "metadata": {},
   "outputs": [],
   "source": [
    "# 필요한 모듈은 기억해두자."
   ]
  },
  {
   "cell_type": "code",
   "execution_count": 3,
   "id": "937740f1-92ed-43a1-98bc-7fa7f5c8fda9",
   "metadata": {},
   "outputs": [],
   "source": [
    "targetData = pd.read_csv(\"../../../stdcode6/dataset/cars.csv\")"
   ]
  },
  {
   "cell_type": "code",
   "execution_count": 4,
   "id": "c7b6dc4b-fc32-4488-9f2e-458a98159a90",
   "metadata": {},
   "outputs": [
    {
     "data": {
      "text/html": [
       "<div>\n",
       "<style scoped>\n",
       "    .dataframe tbody tr th:only-of-type {\n",
       "        vertical-align: middle;\n",
       "    }\n",
       "\n",
       "    .dataframe tbody tr th {\n",
       "        vertical-align: top;\n",
       "    }\n",
       "\n",
       "    .dataframe thead th {\n",
       "        text-align: right;\n",
       "    }\n",
       "</style>\n",
       "<table border=\"1\" class=\"dataframe\">\n",
       "  <thead>\n",
       "    <tr style=\"text-align: right;\">\n",
       "      <th></th>\n",
       "      <th>age</th>\n",
       "      <th>gender</th>\n",
       "      <th>miles</th>\n",
       "      <th>debt</th>\n",
       "      <th>income</th>\n",
       "      <th>sales</th>\n",
       "    </tr>\n",
       "  </thead>\n",
       "  <tbody>\n",
       "    <tr>\n",
       "      <th>0</th>\n",
       "      <td>28</td>\n",
       "      <td>0</td>\n",
       "      <td>23</td>\n",
       "      <td>0</td>\n",
       "      <td>4099</td>\n",
       "      <td>620</td>\n",
       "    </tr>\n",
       "    <tr>\n",
       "      <th>1</th>\n",
       "      <td>26</td>\n",
       "      <td>0</td>\n",
       "      <td>27</td>\n",
       "      <td>0</td>\n",
       "      <td>2677</td>\n",
       "      <td>1792</td>\n",
       "    </tr>\n",
       "    <tr>\n",
       "      <th>2</th>\n",
       "      <td>30</td>\n",
       "      <td>1</td>\n",
       "      <td>58</td>\n",
       "      <td>41576</td>\n",
       "      <td>6215</td>\n",
       "      <td>27754</td>\n",
       "    </tr>\n",
       "    <tr>\n",
       "      <th>3</th>\n",
       "      <td>26</td>\n",
       "      <td>1</td>\n",
       "      <td>25</td>\n",
       "      <td>43172</td>\n",
       "      <td>7626</td>\n",
       "      <td>28256</td>\n",
       "    </tr>\n",
       "    <tr>\n",
       "      <th>4</th>\n",
       "      <td>20</td>\n",
       "      <td>1</td>\n",
       "      <td>17</td>\n",
       "      <td>6979</td>\n",
       "      <td>8071</td>\n",
       "      <td>4438</td>\n",
       "    </tr>\n",
       "  </tbody>\n",
       "</table>\n",
       "</div>"
      ],
      "text/plain": [
       "   age  gender  miles   debt  income  sales\n",
       "0   28       0     23      0    4099    620\n",
       "1   26       0     27      0    2677   1792\n",
       "2   30       1     58  41576    6215  27754\n",
       "3   26       1     25  43172    7626  28256\n",
       "4   20       1     17   6979    8071   4438"
      ]
     },
     "execution_count": 4,
     "metadata": {},
     "output_type": "execute_result"
    }
   ],
   "source": [
    "targetData.head()"
   ]
  },
  {
   "cell_type": "code",
   "execution_count": 5,
   "id": "48a33150-b2dc-498d-ac94-3924a4ed2a9d",
   "metadata": {},
   "outputs": [
    {
     "data": {
      "text/plain": [
       "age       int64\n",
       "gender    int64\n",
       "miles     int64\n",
       "debt      int64\n",
       "income    int64\n",
       "sales     int64\n",
       "dtype: object"
      ]
     },
     "execution_count": 5,
     "metadata": {},
     "output_type": "execute_result"
    }
   ],
   "source": [
    "targetData.dtypes"
   ]
  },
  {
   "cell_type": "code",
   "execution_count": 6,
   "id": "f9a039e2-95d1-4365-8590-d8b9cbdda1e4",
   "metadata": {},
   "outputs": [],
   "source": [
    "columnList = list(targetData.columns)"
   ]
  },
  {
   "cell_type": "code",
   "execution_count": 7,
   "id": "f064bcbe-29d7-4502-b179-2fe82a50e1ba",
   "metadata": {},
   "outputs": [
    {
     "data": {
      "text/plain": [
       "['age', 'gender', 'miles', 'debt', 'income', 'sales']"
      ]
     },
     "execution_count": 7,
     "metadata": {},
     "output_type": "execute_result"
    }
   ],
   "source": [
    "columnList"
   ]
  },
  {
   "cell_type": "code",
   "execution_count": 8,
   "id": "f0b406e2-612d-4bf1-b80c-4bba4c24e458",
   "metadata": {},
   "outputs": [],
   "source": [
    "for i in range(0, len(columnList)):\n",
    "    try:\n",
    "        targetData[columnList[i]] = targetData[columnList[i]].astype(int)\n",
    "    except:\n",
    "        print(e)"
   ]
  },
  {
   "cell_type": "code",
   "execution_count": 9,
   "id": "669dcf1a-892e-42aa-8a4a-b3a84e8f5a44",
   "metadata": {},
   "outputs": [
    {
     "data": {
      "text/plain": [
       "age       int32\n",
       "gender    int32\n",
       "miles     int32\n",
       "debt      int32\n",
       "income    int32\n",
       "sales     int32\n",
       "dtype: object"
      ]
     },
     "execution_count": 9,
     "metadata": {},
     "output_type": "execute_result"
    }
   ],
   "source": [
    "targetData.dtypes"
   ]
  },
  {
   "cell_type": "code",
   "execution_count": 10,
   "id": "a404ea9c-07fe-4532-82d8-ef2348e1278d",
   "metadata": {},
   "outputs": [],
   "source": [
    "# columnList를 만들어서 필요한 데이터 타입을 자동 변환"
   ]
  },
  {
   "cell_type": "code",
   "execution_count": 11,
   "id": "c6ace5aa-54cc-440b-a89a-584e229972ca",
   "metadata": {},
   "outputs": [],
   "source": [
    "corrData = targetData.corr()"
   ]
  },
  {
   "cell_type": "code",
   "execution_count": 12,
   "id": "5fed2f8f-e5bc-495d-8e3f-6deafa61a327",
   "metadata": {},
   "outputs": [
    {
     "data": {
      "text/html": [
       "<div>\n",
       "<style scoped>\n",
       "    .dataframe tbody tr th:only-of-type {\n",
       "        vertical-align: middle;\n",
       "    }\n",
       "\n",
       "    .dataframe tbody tr th {\n",
       "        vertical-align: top;\n",
       "    }\n",
       "\n",
       "    .dataframe thead th {\n",
       "        text-align: right;\n",
       "    }\n",
       "</style>\n",
       "<table border=\"1\" class=\"dataframe\">\n",
       "  <thead>\n",
       "    <tr style=\"text-align: right;\">\n",
       "      <th></th>\n",
       "      <th>age</th>\n",
       "      <th>gender</th>\n",
       "      <th>miles</th>\n",
       "      <th>debt</th>\n",
       "      <th>income</th>\n",
       "      <th>sales</th>\n",
       "    </tr>\n",
       "  </thead>\n",
       "  <tbody>\n",
       "    <tr>\n",
       "      <th>age</th>\n",
       "      <td>1.000000</td>\n",
       "      <td>-0.000702</td>\n",
       "      <td>0.232399</td>\n",
       "      <td>0.218896</td>\n",
       "      <td>0.239644</td>\n",
       "      <td>0.352609</td>\n",
       "    </tr>\n",
       "    <tr>\n",
       "      <th>gender</th>\n",
       "      <td>-0.000702</td>\n",
       "      <td>1.000000</td>\n",
       "      <td>-0.031355</td>\n",
       "      <td>-0.033181</td>\n",
       "      <td>-0.034317</td>\n",
       "      <td>-0.036350</td>\n",
       "    </tr>\n",
       "    <tr>\n",
       "      <th>miles</th>\n",
       "      <td>0.232399</td>\n",
       "      <td>-0.031355</td>\n",
       "      <td>1.000000</td>\n",
       "      <td>0.544791</td>\n",
       "      <td>0.422141</td>\n",
       "      <td>0.636676</td>\n",
       "    </tr>\n",
       "    <tr>\n",
       "      <th>debt</th>\n",
       "      <td>0.218896</td>\n",
       "      <td>-0.033181</td>\n",
       "      <td>0.544791</td>\n",
       "      <td>1.000000</td>\n",
       "      <td>0.491790</td>\n",
       "      <td>0.835541</td>\n",
       "    </tr>\n",
       "    <tr>\n",
       "      <th>income</th>\n",
       "      <td>0.239644</td>\n",
       "      <td>-0.034317</td>\n",
       "      <td>0.422141</td>\n",
       "      <td>0.491790</td>\n",
       "      <td>1.000000</td>\n",
       "      <td>0.674685</td>\n",
       "    </tr>\n",
       "    <tr>\n",
       "      <th>sales</th>\n",
       "      <td>0.352609</td>\n",
       "      <td>-0.036350</td>\n",
       "      <td>0.636676</td>\n",
       "      <td>0.835541</td>\n",
       "      <td>0.674685</td>\n",
       "      <td>1.000000</td>\n",
       "    </tr>\n",
       "  </tbody>\n",
       "</table>\n",
       "</div>"
      ],
      "text/plain": [
       "             age    gender     miles      debt    income     sales\n",
       "age     1.000000 -0.000702  0.232399  0.218896  0.239644  0.352609\n",
       "gender -0.000702  1.000000 -0.031355 -0.033181 -0.034317 -0.036350\n",
       "miles   0.232399 -0.031355  1.000000  0.544791  0.422141  0.636676\n",
       "debt    0.218896 -0.033181  0.544791  1.000000  0.491790  0.835541\n",
       "income  0.239644 -0.034317  0.422141  0.491790  1.000000  0.674685\n",
       "sales   0.352609 -0.036350  0.636676  0.835541  0.674685  1.000000"
      ]
     },
     "execution_count": 12,
     "metadata": {},
     "output_type": "execute_result"
    }
   ],
   "source": [
    "corrData"
   ]
  },
  {
   "cell_type": "code",
   "execution_count": 13,
   "id": "615115f9-453f-4733-9420-0861d23c7512",
   "metadata": {},
   "outputs": [],
   "source": [
    "targetCorr = list(range(3, 8, 1))"
   ]
  },
  {
   "cell_type": "code",
   "execution_count": 14,
   "id": "3952e10e-1194-4697-95a0-cd58cdb3e81c",
   "metadata": {},
   "outputs": [
    {
     "data": {
      "text/plain": [
       "[3, 4, 5, 6, 7]"
      ]
     },
     "execution_count": 14,
     "metadata": {},
     "output_type": "execute_result"
    }
   ],
   "source": [
    "targetCorr"
   ]
  },
  {
   "cell_type": "code",
   "execution_count": 15,
   "id": "b11e518b-d721-4dc6-a9a2-43c910135b52",
   "metadata": {},
   "outputs": [],
   "source": [
    "for i in range(0, len(targetCorr)):\n",
    "    try:\n",
    "        targetCorr[i] = targetCorr[i] / 10\n",
    "    except:\n",
    "        print(e)"
   ]
  },
  {
   "cell_type": "code",
   "execution_count": 16,
   "id": "477f95e8-6cd7-4a41-b409-be607d80d7d8",
   "metadata": {},
   "outputs": [
    {
     "data": {
      "text/plain": [
       "[0.3, 0.4, 0.5, 0.6, 0.7]"
      ]
     },
     "execution_count": 16,
     "metadata": {},
     "output_type": "execute_result"
    }
   ],
   "source": [
    "targetCorr"
   ]
  },
  {
   "cell_type": "code",
   "execution_count": 17,
   "id": "4c7bbcf6-8221-4e99-93b5-93af86ced118",
   "metadata": {},
   "outputs": [],
   "source": [
    "# /10 해서 원하는 기준 상관계수 형성하기"
   ]
  },
  {
   "cell_type": "code",
   "execution_count": 18,
   "id": "c65ebe7e-e31a-4f73-98dd-fdc8f4dff061",
   "metadata": {},
   "outputs": [],
   "source": [
    "featuresList = [0 for i in range(len(targetCorr))]"
   ]
  },
  {
   "cell_type": "code",
   "execution_count": 19,
   "id": "c028d812-567e-4752-875f-4b55c47ae39c",
   "metadata": {},
   "outputs": [
    {
     "data": {
      "text/plain": [
       "[0, 0, 0, 0, 0]"
      ]
     },
     "execution_count": 19,
     "metadata": {},
     "output_type": "execute_result"
    }
   ],
   "source": [
    "featuresList"
   ]
  },
  {
   "cell_type": "code",
   "execution_count": 20,
   "id": "5008cf43-5e43-4ec6-8606-562e1e908b16",
   "metadata": {},
   "outputs": [],
   "source": [
    "# 배열은 어떤 값이 들어가 있어도 새로 뒤집어쓸 수 있다.\n",
    "# 0 for i in range(길이)로 0값만 지니는 배열을 생성하고, 여기에 append하거나 대체해버리자."
   ]
  },
  {
   "cell_type": "code",
   "execution_count": 21,
   "id": "98d60b2e-3cfa-4f5c-83e7-70b940b34079",
   "metadata": {},
   "outputs": [],
   "source": [
    "for i in range(0, len(targetCorr)):\n",
    "    featuresList[i] = list(corrData[(abs(corrData.sales) > targetCorr[i]) & \\\n",
    "                                    (abs(corrData.sales) != 1)].index)"
   ]
  },
  {
   "cell_type": "code",
   "execution_count": 22,
   "id": "124708d4-b410-4b81-a28d-4dfcba9287e1",
   "metadata": {},
   "outputs": [
    {
     "data": {
      "text/plain": [
       "[['age', 'miles', 'debt', 'income'],\n",
       " ['miles', 'debt', 'income'],\n",
       " ['miles', 'debt', 'income'],\n",
       " ['miles', 'debt', 'income'],\n",
       " ['debt']]"
      ]
     },
     "execution_count": 22,
     "metadata": {},
     "output_type": "execute_result"
    }
   ],
   "source": [
    "featuresList"
   ]
  },
  {
   "cell_type": "code",
   "execution_count": 23,
   "id": "d93d98b5-1e07-4df7-bd99-c8098f0957db",
   "metadata": {},
   "outputs": [],
   "source": [
    "newFeatures = [0 for i in range(len(featuresList))]"
   ]
  },
  {
   "cell_type": "code",
   "execution_count": 24,
   "id": "584307c5-7559-41a3-9222-95bce881278e",
   "metadata": {},
   "outputs": [],
   "source": [
    "# 마찬가지로 빈 배열 생성"
   ]
  },
  {
   "cell_type": "code",
   "execution_count": 25,
   "id": "338503c1-35c6-4e1a-a514-8050f6227731",
   "metadata": {},
   "outputs": [],
   "source": [
    "for i in range(0, len(featuresList)):\n",
    "    newFeatures[i] = targetData[featuresList[i]]"
   ]
  },
  {
   "cell_type": "code",
   "execution_count": 26,
   "id": "922ac130-d1c7-4866-8221-d25cbfbca252",
   "metadata": {
    "collapsed": true,
    "jupyter": {
     "outputs_hidden": true
    },
    "tags": []
   },
   "outputs": [
    {
     "data": {
      "text/plain": [
       "[     age  miles   debt  income\n",
       " 0     28     23      0    4099\n",
       " 1     26     27      0    2677\n",
       " 2     30     58  41576    6215\n",
       " 3     26     25  43172    7626\n",
       " 4     20     17   6979    8071\n",
       " ..   ...    ...    ...     ...\n",
       " 958   22     11   8778    9829\n",
       " 959   19     23   4850    3470\n",
       " 960   28     28   9312    2720\n",
       " 961   50     29  51343    8713\n",
       " 962   47     15   3735    6406\n",
       " \n",
       " [963 rows x 4 columns],\n",
       "      miles   debt  income\n",
       " 0       23      0    4099\n",
       " 1       27      0    2677\n",
       " 2       58  41576    6215\n",
       " 3       25  43172    7626\n",
       " 4       17   6979    8071\n",
       " ..     ...    ...     ...\n",
       " 958     11   8778    9829\n",
       " 959     23   4850    3470\n",
       " 960     28   9312    2720\n",
       " 961     29  51343    8713\n",
       " 962     15   3735    6406\n",
       " \n",
       " [963 rows x 3 columns],\n",
       "      miles   debt  income\n",
       " 0       23      0    4099\n",
       " 1       27      0    2677\n",
       " 2       58  41576    6215\n",
       " 3       25  43172    7626\n",
       " 4       17   6979    8071\n",
       " ..     ...    ...     ...\n",
       " 958     11   8778    9829\n",
       " 959     23   4850    3470\n",
       " 960     28   9312    2720\n",
       " 961     29  51343    8713\n",
       " 962     15   3735    6406\n",
       " \n",
       " [963 rows x 3 columns],\n",
       "      miles   debt  income\n",
       " 0       23      0    4099\n",
       " 1       27      0    2677\n",
       " 2       58  41576    6215\n",
       " 3       25  43172    7626\n",
       " 4       17   6979    8071\n",
       " ..     ...    ...     ...\n",
       " 958     11   8778    9829\n",
       " 959     23   4850    3470\n",
       " 960     28   9312    2720\n",
       " 961     29  51343    8713\n",
       " 962     15   3735    6406\n",
       " \n",
       " [963 rows x 3 columns],\n",
       "       debt\n",
       " 0        0\n",
       " 1        0\n",
       " 2    41576\n",
       " 3    43172\n",
       " 4     6979\n",
       " ..     ...\n",
       " 958   8778\n",
       " 959   4850\n",
       " 960   9312\n",
       " 961  51343\n",
       " 962   3735\n",
       " \n",
       " [963 rows x 1 columns]]"
      ]
     },
     "execution_count": 26,
     "metadata": {},
     "output_type": "execute_result"
    }
   ],
   "source": [
    "newFeatures"
   ]
  },
  {
   "cell_type": "code",
   "execution_count": 27,
   "id": "a760d652-cac9-48e4-9535-38d24867bcac",
   "metadata": {},
   "outputs": [],
   "source": [
    "# 각 상관 컬럼과 연관된 features데이터들을 newFeatures에 집어넣었다."
   ]
  },
  {
   "cell_type": "code",
   "execution_count": 28,
   "id": "2b1280b5-89ef-49fa-81ea-24b505ee5541",
   "metadata": {},
   "outputs": [],
   "source": [
    "# 이제 혼재된 데이터에서 training과 test를 구분해 넣으면 된다."
   ]
  },
  {
   "cell_type": "code",
   "execution_count": 29,
   "id": "5c90d3a0-8ed5-4ba4-a086-fc640157f75b",
   "metadata": {},
   "outputs": [],
   "source": [
    "targetRatio = 0.7"
   ]
  },
  {
   "cell_type": "code",
   "execution_count": 30,
   "id": "51934af8-2313-4aa4-96ae-a95315c2a500",
   "metadata": {},
   "outputs": [],
   "source": [
    "targetIndex = int(targetData.shape[0] * targetRatio)"
   ]
  },
  {
   "cell_type": "code",
   "execution_count": 31,
   "id": "38e950cf-550a-421d-80c5-191a7267361e",
   "metadata": {},
   "outputs": [
    {
     "data": {
      "text/plain": [
       "674"
      ]
     },
     "execution_count": 31,
     "metadata": {},
     "output_type": "execute_result"
    }
   ],
   "source": [
    "targetIndex"
   ]
  },
  {
   "cell_type": "code",
   "execution_count": 32,
   "id": "7cd48c73-864a-463b-a42a-1842b7bcf3fa",
   "metadata": {},
   "outputs": [],
   "source": [
    "trainingFeatures = [0 for i in range(len(newFeatures))]"
   ]
  },
  {
   "cell_type": "code",
   "execution_count": 33,
   "id": "f72aee93-2618-4663-83ee-f09ae7394f0c",
   "metadata": {},
   "outputs": [],
   "source": [
    "testFeatures = [0 for i in range(0, len(newFeatures))]"
   ]
  },
  {
   "cell_type": "code",
   "execution_count": 34,
   "id": "3c03fd5b-8672-48b7-ab9b-755e670adbc6",
   "metadata": {},
   "outputs": [],
   "source": [
    "label = [\"sales\"]"
   ]
  },
  {
   "cell_type": "code",
   "execution_count": 35,
   "id": "6a174b4e-7686-4a64-ac40-16899c6c81fd",
   "metadata": {},
   "outputs": [],
   "source": [
    "newLabel = targetData[\"sales\"]"
   ]
  },
  {
   "cell_type": "code",
   "execution_count": 36,
   "id": "3ee0e05d-193e-4cec-86f7-95f14fcd9cf2",
   "metadata": {},
   "outputs": [],
   "source": [
    "for i in range(0, len(newFeatures)):\n",
    "    trainingFeatures[i] = newFeatures[i][:targetIndex].reset_index(drop=True, inplace = False).astype(int)\n",
    "    testFeatures[i] = newFeatures[i][targetIndex:].reset_index(drop=True, inplace = False).astype(int)"
   ]
  },
  {
   "cell_type": "code",
   "execution_count": 37,
   "id": "11057b71-ff1f-40d7-a8c3-c770a3182837",
   "metadata": {},
   "outputs": [],
   "source": [
    "trainingLabel = newLabel[:targetIndex].reset_index(drop=True, inplace=False).astype(int)\n",
    "testLabel = newLabel[targetIndex:].reset_index(drop=True, inplace=False).astype(int)"
   ]
  },
  {
   "cell_type": "code",
   "execution_count": 38,
   "id": "a182c004-bcd9-459d-a3a5-87294dd44763",
   "metadata": {
    "collapsed": true,
    "jupyter": {
     "outputs_hidden": true
    },
    "tags": []
   },
   "outputs": [
    {
     "data": {
      "text/plain": [
       "[     age  miles   debt  income\n",
       " 0     28     23      0    4099\n",
       " 1     26     27      0    2677\n",
       " 2     30     58  41576    6215\n",
       " 3     26     25  43172    7626\n",
       " 4     20     17   6979    8071\n",
       " ..   ...    ...    ...     ...\n",
       " 669   30     27   9766    5787\n",
       " 670   25     12   1411    8381\n",
       " 671   33     25   9569    6598\n",
       " 672   48     72  55789   10257\n",
       " 673   30     29   1427    2214\n",
       " \n",
       " [674 rows x 4 columns],\n",
       "      miles   debt  income\n",
       " 0       23      0    4099\n",
       " 1       27      0    2677\n",
       " 2       58  41576    6215\n",
       " 3       25  43172    7626\n",
       " 4       17   6979    8071\n",
       " ..     ...    ...     ...\n",
       " 669     27   9766    5787\n",
       " 670     12   1411    8381\n",
       " 671     25   9569    6598\n",
       " 672     72  55789   10257\n",
       " 673     29   1427    2214\n",
       " \n",
       " [674 rows x 3 columns],\n",
       "      miles   debt  income\n",
       " 0       23      0    4099\n",
       " 1       27      0    2677\n",
       " 2       58  41576    6215\n",
       " 3       25  43172    7626\n",
       " 4       17   6979    8071\n",
       " ..     ...    ...     ...\n",
       " 669     27   9766    5787\n",
       " 670     12   1411    8381\n",
       " 671     25   9569    6598\n",
       " 672     72  55789   10257\n",
       " 673     29   1427    2214\n",
       " \n",
       " [674 rows x 3 columns],\n",
       "      miles   debt  income\n",
       " 0       23      0    4099\n",
       " 1       27      0    2677\n",
       " 2       58  41576    6215\n",
       " 3       25  43172    7626\n",
       " 4       17   6979    8071\n",
       " ..     ...    ...     ...\n",
       " 669     27   9766    5787\n",
       " 670     12   1411    8381\n",
       " 671     25   9569    6598\n",
       " 672     72  55789   10257\n",
       " 673     29   1427    2214\n",
       " \n",
       " [674 rows x 3 columns],\n",
       "       debt\n",
       " 0        0\n",
       " 1        0\n",
       " 2    41576\n",
       " 3    43172\n",
       " 4     6979\n",
       " ..     ...\n",
       " 669   9766\n",
       " 670   1411\n",
       " 671   9569\n",
       " 672  55789\n",
       " 673   1427\n",
       " \n",
       " [674 rows x 1 columns]]"
      ]
     },
     "execution_count": 38,
     "metadata": {},
     "output_type": "execute_result"
    }
   ],
   "source": [
    "trainingFeatures"
   ]
  },
  {
   "cell_type": "code",
   "execution_count": 39,
   "id": "abe3fdd4-e5ba-4808-a42d-32be0c38130a",
   "metadata": {
    "collapsed": true,
    "jupyter": {
     "outputs_hidden": true
    },
    "tags": []
   },
   "outputs": [
    {
     "data": {
      "text/html": [
       "<div>\n",
       "<style scoped>\n",
       "    .dataframe tbody tr th:only-of-type {\n",
       "        vertical-align: middle;\n",
       "    }\n",
       "\n",
       "    .dataframe tbody tr th {\n",
       "        vertical-align: top;\n",
       "    }\n",
       "\n",
       "    .dataframe thead th {\n",
       "        text-align: right;\n",
       "    }\n",
       "</style>\n",
       "<table border=\"1\" class=\"dataframe\">\n",
       "  <thead>\n",
       "    <tr style=\"text-align: right;\">\n",
       "      <th></th>\n",
       "      <th>age</th>\n",
       "      <th>miles</th>\n",
       "      <th>debt</th>\n",
       "      <th>income</th>\n",
       "    </tr>\n",
       "  </thead>\n",
       "  <tbody>\n",
       "    <tr>\n",
       "      <th>0</th>\n",
       "      <td>28</td>\n",
       "      <td>23</td>\n",
       "      <td>0</td>\n",
       "      <td>4099</td>\n",
       "    </tr>\n",
       "    <tr>\n",
       "      <th>1</th>\n",
       "      <td>26</td>\n",
       "      <td>27</td>\n",
       "      <td>0</td>\n",
       "      <td>2677</td>\n",
       "    </tr>\n",
       "    <tr>\n",
       "      <th>2</th>\n",
       "      <td>30</td>\n",
       "      <td>58</td>\n",
       "      <td>41576</td>\n",
       "      <td>6215</td>\n",
       "    </tr>\n",
       "    <tr>\n",
       "      <th>3</th>\n",
       "      <td>26</td>\n",
       "      <td>25</td>\n",
       "      <td>43172</td>\n",
       "      <td>7626</td>\n",
       "    </tr>\n",
       "    <tr>\n",
       "      <th>4</th>\n",
       "      <td>20</td>\n",
       "      <td>17</td>\n",
       "      <td>6979</td>\n",
       "      <td>8071</td>\n",
       "    </tr>\n",
       "    <tr>\n",
       "      <th>...</th>\n",
       "      <td>...</td>\n",
       "      <td>...</td>\n",
       "      <td>...</td>\n",
       "      <td>...</td>\n",
       "    </tr>\n",
       "    <tr>\n",
       "      <th>669</th>\n",
       "      <td>30</td>\n",
       "      <td>27</td>\n",
       "      <td>9766</td>\n",
       "      <td>5787</td>\n",
       "    </tr>\n",
       "    <tr>\n",
       "      <th>670</th>\n",
       "      <td>25</td>\n",
       "      <td>12</td>\n",
       "      <td>1411</td>\n",
       "      <td>8381</td>\n",
       "    </tr>\n",
       "    <tr>\n",
       "      <th>671</th>\n",
       "      <td>33</td>\n",
       "      <td>25</td>\n",
       "      <td>9569</td>\n",
       "      <td>6598</td>\n",
       "    </tr>\n",
       "    <tr>\n",
       "      <th>672</th>\n",
       "      <td>48</td>\n",
       "      <td>72</td>\n",
       "      <td>55789</td>\n",
       "      <td>10257</td>\n",
       "    </tr>\n",
       "    <tr>\n",
       "      <th>673</th>\n",
       "      <td>30</td>\n",
       "      <td>29</td>\n",
       "      <td>1427</td>\n",
       "      <td>2214</td>\n",
       "    </tr>\n",
       "  </tbody>\n",
       "</table>\n",
       "<p>674 rows × 4 columns</p>\n",
       "</div>"
      ],
      "text/plain": [
       "     age  miles   debt  income\n",
       "0     28     23      0    4099\n",
       "1     26     27      0    2677\n",
       "2     30     58  41576    6215\n",
       "3     26     25  43172    7626\n",
       "4     20     17   6979    8071\n",
       "..   ...    ...    ...     ...\n",
       "669   30     27   9766    5787\n",
       "670   25     12   1411    8381\n",
       "671   33     25   9569    6598\n",
       "672   48     72  55789   10257\n",
       "673   30     29   1427    2214\n",
       "\n",
       "[674 rows x 4 columns]"
      ]
     },
     "execution_count": 39,
     "metadata": {},
     "output_type": "execute_result"
    }
   ],
   "source": [
    "trainingFeatures[0]"
   ]
  },
  {
   "cell_type": "code",
   "execution_count": 40,
   "id": "aef689b0-5700-45f2-af4b-cd3e193a9e27",
   "metadata": {
    "collapsed": true,
    "jupyter": {
     "outputs_hidden": true
    },
    "tags": []
   },
   "outputs": [
    {
     "data": {
      "text/plain": [
       "0        620\n",
       "1       1792\n",
       "2      27754\n",
       "3      28256\n",
       "4       4438\n",
       "       ...  \n",
       "669     9196\n",
       "670     3779\n",
       "671     8396\n",
       "672    29138\n",
       "673     3310\n",
       "Name: sales, Length: 674, dtype: int32"
      ]
     },
     "execution_count": 40,
     "metadata": {},
     "output_type": "execute_result"
    }
   ],
   "source": [
    "trainingLabel"
   ]
  },
  {
   "cell_type": "code",
   "execution_count": 41,
   "id": "3d265f6f-90e8-440f-9d4a-846a42210d02",
   "metadata": {
    "collapsed": true,
    "jupyter": {
     "outputs_hidden": true
    },
    "tags": []
   },
   "outputs": [
    {
     "data": {
      "text/plain": [
       "[     age  miles   debt  income\n",
       " 0     30     23    773    4557\n",
       " 1     37     38  41500   11123\n",
       " 2     20     13   9933    2538\n",
       " 3     33     23  56544    7079\n",
       " 4     43     35   7017    5538\n",
       " ..   ...    ...    ...     ...\n",
       " 284   22     11   8778    9829\n",
       " 285   19     23   4850    3470\n",
       " 286   28     28   9312    2720\n",
       " 287   50     29  51343    8713\n",
       " 288   47     15   3735    6406\n",
       " \n",
       " [289 rows x 4 columns],\n",
       "      miles   debt  income\n",
       " 0       23    773    4557\n",
       " 1       38  41500   11123\n",
       " 2       13   9933    2538\n",
       " 3       23  56544    7079\n",
       " 4       35   7017    5538\n",
       " ..     ...    ...     ...\n",
       " 284     11   8778    9829\n",
       " 285     23   4850    3470\n",
       " 286     28   9312    2720\n",
       " 287     29  51343    8713\n",
       " 288     15   3735    6406\n",
       " \n",
       " [289 rows x 3 columns],\n",
       "      miles   debt  income\n",
       " 0       23    773    4557\n",
       " 1       38  41500   11123\n",
       " 2       13   9933    2538\n",
       " 3       23  56544    7079\n",
       " 4       35   7017    5538\n",
       " ..     ...    ...     ...\n",
       " 284     11   8778    9829\n",
       " 285     23   4850    3470\n",
       " 286     28   9312    2720\n",
       " 287     29  51343    8713\n",
       " 288     15   3735    6406\n",
       " \n",
       " [289 rows x 3 columns],\n",
       "      miles   debt  income\n",
       " 0       23    773    4557\n",
       " 1       38  41500   11123\n",
       " 2       13   9933    2538\n",
       " 3       23  56544    7079\n",
       " 4       35   7017    5538\n",
       " ..     ...    ...     ...\n",
       " 284     11   8778    9829\n",
       " 285     23   4850    3470\n",
       " 286     28   9312    2720\n",
       " 287     29  51343    8713\n",
       " 288     15   3735    6406\n",
       " \n",
       " [289 rows x 3 columns],\n",
       "       debt\n",
       " 0      773\n",
       " 1    41500\n",
       " 2     9933\n",
       " 3    56544\n",
       " 4     7017\n",
       " ..     ...\n",
       " 284   8778\n",
       " 285   4850\n",
       " 286   9312\n",
       " 287  51343\n",
       " 288   3735\n",
       " \n",
       " [289 rows x 1 columns]]"
      ]
     },
     "execution_count": 41,
     "metadata": {},
     "output_type": "execute_result"
    }
   ],
   "source": [
    "testFeatures"
   ]
  },
  {
   "cell_type": "code",
   "execution_count": 42,
   "id": "8c9ea8f1-2ee2-4d03-bb61-53a87635cdb5",
   "metadata": {
    "collapsed": true,
    "jupyter": {
     "outputs_hidden": true
    },
    "tags": []
   },
   "outputs": [
    {
     "data": {
      "text/plain": [
       "0        620\n",
       "1       1792\n",
       "2      27754\n",
       "3      28256\n",
       "4       4438\n",
       "       ...  \n",
       "669     9196\n",
       "670     3779\n",
       "671     8396\n",
       "672    29138\n",
       "673     3310\n",
       "Name: sales, Length: 674, dtype: int32"
      ]
     },
     "execution_count": 42,
     "metadata": {},
     "output_type": "execute_result"
    }
   ],
   "source": [
    "trainingLabel"
   ]
  },
  {
   "cell_type": "code",
   "execution_count": 43,
   "id": "cafd8819-174f-4be5-a46f-4abc6ce319d7",
   "metadata": {
    "collapsed": true,
    "jupyter": {
     "outputs_hidden": true
    },
    "tags": []
   },
   "outputs": [
    {
     "data": {
      "text/plain": [
       "0       3267\n",
       "1      22391\n",
       "2       4927\n",
       "3      22752\n",
       "4      12969\n",
       "       ...  \n",
       "284     1593\n",
       "285     4742\n",
       "286    12771\n",
       "287    28511\n",
       "288     6104\n",
       "Name: sales, Length: 289, dtype: int32"
      ]
     },
     "execution_count": 43,
     "metadata": {},
     "output_type": "execute_result"
    }
   ],
   "source": [
    "testLabel"
   ]
  },
  {
   "cell_type": "code",
   "execution_count": 44,
   "id": "a28c1c3e-0a2d-45a7-be67-5e18ebd07ed8",
   "metadata": {},
   "outputs": [],
   "source": [
    "from sklearn import tree\n",
    "from sklearn.tree import DecisionTreeRegressor"
   ]
  },
  {
   "cell_type": "code",
   "execution_count": 45,
   "id": "8590f02d-08cb-4973-bb51-b6b7f6ab0e08",
   "metadata": {},
   "outputs": [],
   "source": [
    "model_method = tree.DecisionTreeRegressor()"
   ]
  },
  {
   "cell_type": "code",
   "execution_count": 46,
   "id": "43fcf199-47e1-4cda-a228-e660248b40a6",
   "metadata": {},
   "outputs": [],
   "source": [
    "model = [0 for i in range(len(trainingFeatures))]"
   ]
  },
  {
   "cell_type": "code",
   "execution_count": 47,
   "id": "b58dfbeb-8a9a-4770-9f31-99089561f8d6",
   "metadata": {},
   "outputs": [
    {
     "data": {
      "text/plain": [
       "[0, 0, 0, 0, 0]"
      ]
     },
     "execution_count": 47,
     "metadata": {},
     "output_type": "execute_result"
    }
   ],
   "source": [
    "model"
   ]
  },
  {
   "cell_type": "code",
   "execution_count": 48,
   "id": "14c9f1e4-249d-4139-9f29-0fd2afab8f64",
   "metadata": {},
   "outputs": [],
   "source": [
    "predict = [0 for i in range(len(model))]"
   ]
  },
  {
   "cell_type": "code",
   "execution_count": 56,
   "id": "d013e5e4-c146-4bfd-8965-9068ace51b19",
   "metadata": {},
   "outputs": [],
   "source": [
    "for i in range(0, len(model)):\n",
    "    model[i] = model_method.fit(trainingFeatures[i], trainingLabel)"
   ]
  },
  {
   "cell_type": "code",
   "execution_count": 49,
   "id": "02f4f11e-64ef-4cb8-a102-74ba7b30a63b",
   "metadata": {},
   "outputs": [],
   "source": [
    "for i in range(0, len(model)):\n",
    "    modelAdjust = model_method.fit(trainingFeatures[i], trainingLabel)\n",
    "    predict[i] = pd.DataFrame(modelAdjust.predict(testFeatures[i]), columns = {\"predict\"})"
   ]
  },
  {
   "cell_type": "code",
   "execution_count": 60,
   "id": "8f231bb4-e8ab-480c-be1d-8da7e424830a",
   "metadata": {},
   "outputs": [
    {
     "data": {
      "text/plain": [
       "DecisionTreeRegressor()"
      ]
     },
     "execution_count": 60,
     "metadata": {},
     "output_type": "execute_result"
    }
   ],
   "source": [
    "# DataFrame 말고 List 형식으로 append 시키라!"
   ]
  },
  {
   "cell_type": "code",
   "execution_count": 58,
   "id": "00eb52ff-e3da-4398-93c9-86936436f8ef",
   "metadata": {},
   "outputs": [
    {
     "ename": "ValueError",
     "evalue": "X has 4 features, but DecisionTreeRegressor is expecting 1 features as input.",
     "output_type": "error",
     "traceback": [
      "\u001b[1;31m---------------------------------------------------------------------------\u001b[0m",
      "\u001b[1;31mValueError\u001b[0m                                Traceback (most recent call last)",
      "\u001b[1;32m~\\AppData\\Local\\Temp\\ipykernel_4100\\3748963034.py\u001b[0m in \u001b[0;36m<module>\u001b[1;34m\u001b[0m\n\u001b[1;32m----> 1\u001b[1;33m \u001b[0mmodel\u001b[0m\u001b[1;33m[\u001b[0m\u001b[1;36m0\u001b[0m\u001b[1;33m]\u001b[0m\u001b[1;33m.\u001b[0m\u001b[0mpredict\u001b[0m\u001b[1;33m(\u001b[0m\u001b[0mtestFeatures\u001b[0m\u001b[1;33m[\u001b[0m\u001b[1;36m0\u001b[0m\u001b[1;33m]\u001b[0m\u001b[1;33m)\u001b[0m\u001b[1;33m\u001b[0m\u001b[1;33m\u001b[0m\u001b[0m\n\u001b[0m",
      "\u001b[1;32m~\\anaconda3\\lib\\site-packages\\sklearn\\tree\\_classes.py\u001b[0m in \u001b[0;36mpredict\u001b[1;34m(self, X, check_input)\u001b[0m\n\u001b[0;32m    465\u001b[0m         \"\"\"\n\u001b[0;32m    466\u001b[0m         \u001b[0mcheck_is_fitted\u001b[0m\u001b[1;33m(\u001b[0m\u001b[0mself\u001b[0m\u001b[1;33m)\u001b[0m\u001b[1;33m\u001b[0m\u001b[1;33m\u001b[0m\u001b[0m\n\u001b[1;32m--> 467\u001b[1;33m         \u001b[0mX\u001b[0m \u001b[1;33m=\u001b[0m \u001b[0mself\u001b[0m\u001b[1;33m.\u001b[0m\u001b[0m_validate_X_predict\u001b[0m\u001b[1;33m(\u001b[0m\u001b[0mX\u001b[0m\u001b[1;33m,\u001b[0m \u001b[0mcheck_input\u001b[0m\u001b[1;33m)\u001b[0m\u001b[1;33m\u001b[0m\u001b[1;33m\u001b[0m\u001b[0m\n\u001b[0m\u001b[0;32m    468\u001b[0m         \u001b[0mproba\u001b[0m \u001b[1;33m=\u001b[0m \u001b[0mself\u001b[0m\u001b[1;33m.\u001b[0m\u001b[0mtree_\u001b[0m\u001b[1;33m.\u001b[0m\u001b[0mpredict\u001b[0m\u001b[1;33m(\u001b[0m\u001b[0mX\u001b[0m\u001b[1;33m)\u001b[0m\u001b[1;33m\u001b[0m\u001b[1;33m\u001b[0m\u001b[0m\n\u001b[0;32m    469\u001b[0m         \u001b[0mn_samples\u001b[0m \u001b[1;33m=\u001b[0m \u001b[0mX\u001b[0m\u001b[1;33m.\u001b[0m\u001b[0mshape\u001b[0m\u001b[1;33m[\u001b[0m\u001b[1;36m0\u001b[0m\u001b[1;33m]\u001b[0m\u001b[1;33m\u001b[0m\u001b[1;33m\u001b[0m\u001b[0m\n",
      "\u001b[1;32m~\\anaconda3\\lib\\site-packages\\sklearn\\tree\\_classes.py\u001b[0m in \u001b[0;36m_validate_X_predict\u001b[1;34m(self, X, check_input)\u001b[0m\n\u001b[0;32m    431\u001b[0m         \u001b[1;34m\"\"\"Validate the training data on predict (probabilities).\"\"\"\u001b[0m\u001b[1;33m\u001b[0m\u001b[1;33m\u001b[0m\u001b[0m\n\u001b[0;32m    432\u001b[0m         \u001b[1;32mif\u001b[0m \u001b[0mcheck_input\u001b[0m\u001b[1;33m:\u001b[0m\u001b[1;33m\u001b[0m\u001b[1;33m\u001b[0m\u001b[0m\n\u001b[1;32m--> 433\u001b[1;33m             \u001b[0mX\u001b[0m \u001b[1;33m=\u001b[0m \u001b[0mself\u001b[0m\u001b[1;33m.\u001b[0m\u001b[0m_validate_data\u001b[0m\u001b[1;33m(\u001b[0m\u001b[0mX\u001b[0m\u001b[1;33m,\u001b[0m \u001b[0mdtype\u001b[0m\u001b[1;33m=\u001b[0m\u001b[0mDTYPE\u001b[0m\u001b[1;33m,\u001b[0m \u001b[0maccept_sparse\u001b[0m\u001b[1;33m=\u001b[0m\u001b[1;34m\"csr\"\u001b[0m\u001b[1;33m,\u001b[0m \u001b[0mreset\u001b[0m\u001b[1;33m=\u001b[0m\u001b[1;32mFalse\u001b[0m\u001b[1;33m)\u001b[0m\u001b[1;33m\u001b[0m\u001b[1;33m\u001b[0m\u001b[0m\n\u001b[0m\u001b[0;32m    434\u001b[0m             if issparse(X) and (\n\u001b[0;32m    435\u001b[0m                 \u001b[0mX\u001b[0m\u001b[1;33m.\u001b[0m\u001b[0mindices\u001b[0m\u001b[1;33m.\u001b[0m\u001b[0mdtype\u001b[0m \u001b[1;33m!=\u001b[0m \u001b[0mnp\u001b[0m\u001b[1;33m.\u001b[0m\u001b[0mintc\u001b[0m \u001b[1;32mor\u001b[0m \u001b[0mX\u001b[0m\u001b[1;33m.\u001b[0m\u001b[0mindptr\u001b[0m\u001b[1;33m.\u001b[0m\u001b[0mdtype\u001b[0m \u001b[1;33m!=\u001b[0m \u001b[0mnp\u001b[0m\u001b[1;33m.\u001b[0m\u001b[0mintc\u001b[0m\u001b[1;33m\u001b[0m\u001b[1;33m\u001b[0m\u001b[0m\n",
      "\u001b[1;32m~\\anaconda3\\lib\\site-packages\\sklearn\\base.py\u001b[0m in \u001b[0;36m_validate_data\u001b[1;34m(self, X, y, reset, validate_separately, **check_params)\u001b[0m\n\u001b[0;32m    583\u001b[0m \u001b[1;33m\u001b[0m\u001b[0m\n\u001b[0;32m    584\u001b[0m         \u001b[1;32mif\u001b[0m \u001b[1;32mnot\u001b[0m \u001b[0mno_val_X\u001b[0m \u001b[1;32mand\u001b[0m \u001b[0mcheck_params\u001b[0m\u001b[1;33m.\u001b[0m\u001b[0mget\u001b[0m\u001b[1;33m(\u001b[0m\u001b[1;34m\"ensure_2d\"\u001b[0m\u001b[1;33m,\u001b[0m \u001b[1;32mTrue\u001b[0m\u001b[1;33m)\u001b[0m\u001b[1;33m:\u001b[0m\u001b[1;33m\u001b[0m\u001b[1;33m\u001b[0m\u001b[0m\n\u001b[1;32m--> 585\u001b[1;33m             \u001b[0mself\u001b[0m\u001b[1;33m.\u001b[0m\u001b[0m_check_n_features\u001b[0m\u001b[1;33m(\u001b[0m\u001b[0mX\u001b[0m\u001b[1;33m,\u001b[0m \u001b[0mreset\u001b[0m\u001b[1;33m=\u001b[0m\u001b[0mreset\u001b[0m\u001b[1;33m)\u001b[0m\u001b[1;33m\u001b[0m\u001b[1;33m\u001b[0m\u001b[0m\n\u001b[0m\u001b[0;32m    586\u001b[0m \u001b[1;33m\u001b[0m\u001b[0m\n\u001b[0;32m    587\u001b[0m         \u001b[1;32mreturn\u001b[0m \u001b[0mout\u001b[0m\u001b[1;33m\u001b[0m\u001b[1;33m\u001b[0m\u001b[0m\n",
      "\u001b[1;32m~\\anaconda3\\lib\\site-packages\\sklearn\\base.py\u001b[0m in \u001b[0;36m_check_n_features\u001b[1;34m(self, X, reset)\u001b[0m\n\u001b[0;32m    398\u001b[0m \u001b[1;33m\u001b[0m\u001b[0m\n\u001b[0;32m    399\u001b[0m         \u001b[1;32mif\u001b[0m \u001b[0mn_features\u001b[0m \u001b[1;33m!=\u001b[0m \u001b[0mself\u001b[0m\u001b[1;33m.\u001b[0m\u001b[0mn_features_in_\u001b[0m\u001b[1;33m:\u001b[0m\u001b[1;33m\u001b[0m\u001b[1;33m\u001b[0m\u001b[0m\n\u001b[1;32m--> 400\u001b[1;33m             raise ValueError(\n\u001b[0m\u001b[0;32m    401\u001b[0m                 \u001b[1;34mf\"X has {n_features} features, but {self.__class__.__name__} \"\u001b[0m\u001b[1;33m\u001b[0m\u001b[1;33m\u001b[0m\u001b[0m\n\u001b[0;32m    402\u001b[0m                 \u001b[1;34mf\"is expecting {self.n_features_in_} features as input.\"\u001b[0m\u001b[1;33m\u001b[0m\u001b[1;33m\u001b[0m\u001b[0m\n",
      "\u001b[1;31mValueError\u001b[0m: X has 4 features, but DecisionTreeRegressor is expecting 1 features as input."
     ]
    }
   ],
   "source": [
    "model[0].predict(testFeatures[0])"
   ]
  },
  {
   "cell_type": "code",
   "execution_count": null,
   "id": "eed0d07e-ab05-4374-a0a6-96de852e3ab4",
   "metadata": {},
   "outputs": [],
   "source": []
  },
  {
   "cell_type": "code",
   "execution_count": null,
   "id": "fa8ceda9-cac5-472e-a90e-145b5458155c",
   "metadata": {},
   "outputs": [],
   "source": []
  },
  {
   "cell_type": "code",
   "execution_count": null,
   "id": "3592bc46-b3be-4996-a57b-4b21573d47c7",
   "metadata": {},
   "outputs": [],
   "source": []
  },
  {
   "cell_type": "code",
   "execution_count": null,
   "id": "aeda2408-15fb-4519-8ae6-64b1a3caabad",
   "metadata": {},
   "outputs": [],
   "source": []
  },
  {
   "cell_type": "code",
   "execution_count": 50,
   "id": "4dd7ca37-66b0-4158-9392-3e90e179a9a9",
   "metadata": {
    "collapsed": true,
    "jupyter": {
     "outputs_hidden": true
    },
    "tags": []
   },
   "outputs": [
    {
     "data": {
      "text/html": [
       "<div>\n",
       "<style scoped>\n",
       "    .dataframe tbody tr th:only-of-type {\n",
       "        vertical-align: middle;\n",
       "    }\n",
       "\n",
       "    .dataframe tbody tr th {\n",
       "        vertical-align: top;\n",
       "    }\n",
       "\n",
       "    .dataframe thead th {\n",
       "        text-align: right;\n",
       "    }\n",
       "</style>\n",
       "<table border=\"1\" class=\"dataframe\">\n",
       "  <thead>\n",
       "    <tr style=\"text-align: right;\">\n",
       "      <th></th>\n",
       "      <th>predict</th>\n",
       "    </tr>\n",
       "  </thead>\n",
       "  <tbody>\n",
       "    <tr>\n",
       "      <th>0</th>\n",
       "      <td>5277.0</td>\n",
       "    </tr>\n",
       "    <tr>\n",
       "      <th>1</th>\n",
       "      <td>28228.0</td>\n",
       "    </tr>\n",
       "    <tr>\n",
       "      <th>2</th>\n",
       "      <td>4765.0</td>\n",
       "    </tr>\n",
       "    <tr>\n",
       "      <th>3</th>\n",
       "      <td>29096.0</td>\n",
       "    </tr>\n",
       "    <tr>\n",
       "      <th>4</th>\n",
       "      <td>6776.0</td>\n",
       "    </tr>\n",
       "    <tr>\n",
       "      <th>...</th>\n",
       "      <td>...</td>\n",
       "    </tr>\n",
       "    <tr>\n",
       "      <th>284</th>\n",
       "      <td>3437.0</td>\n",
       "    </tr>\n",
       "    <tr>\n",
       "      <th>285</th>\n",
       "      <td>3002.0</td>\n",
       "    </tr>\n",
       "    <tr>\n",
       "      <th>286</th>\n",
       "      <td>9143.0</td>\n",
       "    </tr>\n",
       "    <tr>\n",
       "      <th>287</th>\n",
       "      <td>26148.0</td>\n",
       "    </tr>\n",
       "    <tr>\n",
       "      <th>288</th>\n",
       "      <td>6263.0</td>\n",
       "    </tr>\n",
       "  </tbody>\n",
       "</table>\n",
       "<p>289 rows × 1 columns</p>\n",
       "</div>"
      ],
      "text/plain": [
       "     predict\n",
       "0     5277.0\n",
       "1    28228.0\n",
       "2     4765.0\n",
       "3    29096.0\n",
       "4     6776.0\n",
       "..       ...\n",
       "284   3437.0\n",
       "285   3002.0\n",
       "286   9143.0\n",
       "287  26148.0\n",
       "288   6263.0\n",
       "\n",
       "[289 rows x 1 columns]"
      ]
     },
     "execution_count": 50,
     "metadata": {},
     "output_type": "execute_result"
    }
   ],
   "source": [
    "predict[0]"
   ]
  },
  {
   "cell_type": "code",
   "execution_count": 51,
   "id": "c2f2f752-bcbb-4100-9c35-fe07e8472848",
   "metadata": {
    "tags": []
   },
   "outputs": [
    {
     "data": {
      "text/html": [
       "<div>\n",
       "<style scoped>\n",
       "    .dataframe tbody tr th:only-of-type {\n",
       "        vertical-align: middle;\n",
       "    }\n",
       "\n",
       "    .dataframe tbody tr th {\n",
       "        vertical-align: top;\n",
       "    }\n",
       "\n",
       "    .dataframe thead th {\n",
       "        text-align: right;\n",
       "    }\n",
       "</style>\n",
       "<table border=\"1\" class=\"dataframe\">\n",
       "  <thead>\n",
       "    <tr style=\"text-align: right;\">\n",
       "      <th></th>\n",
       "      <th>predict</th>\n",
       "    </tr>\n",
       "  </thead>\n",
       "  <tbody>\n",
       "    <tr>\n",
       "      <th>0</th>\n",
       "      <td>2993.0</td>\n",
       "    </tr>\n",
       "    <tr>\n",
       "      <th>1</th>\n",
       "      <td>25239.0</td>\n",
       "    </tr>\n",
       "    <tr>\n",
       "      <th>2</th>\n",
       "      <td>1769.0</td>\n",
       "    </tr>\n",
       "    <tr>\n",
       "      <th>3</th>\n",
       "      <td>28575.0</td>\n",
       "    </tr>\n",
       "    <tr>\n",
       "      <th>4</th>\n",
       "      <td>1285.0</td>\n",
       "    </tr>\n",
       "    <tr>\n",
       "      <th>...</th>\n",
       "      <td>...</td>\n",
       "    </tr>\n",
       "    <tr>\n",
       "      <th>284</th>\n",
       "      <td>2184.0</td>\n",
       "    </tr>\n",
       "    <tr>\n",
       "      <th>285</th>\n",
       "      <td>4936.0</td>\n",
       "    </tr>\n",
       "    <tr>\n",
       "      <th>286</th>\n",
       "      <td>6801.0</td>\n",
       "    </tr>\n",
       "    <tr>\n",
       "      <th>287</th>\n",
       "      <td>24984.0</td>\n",
       "    </tr>\n",
       "    <tr>\n",
       "      <th>288</th>\n",
       "      <td>6263.0</td>\n",
       "    </tr>\n",
       "  </tbody>\n",
       "</table>\n",
       "<p>289 rows × 1 columns</p>\n",
       "</div>"
      ],
      "text/plain": [
       "     predict\n",
       "0     2993.0\n",
       "1    25239.0\n",
       "2     1769.0\n",
       "3    28575.0\n",
       "4     1285.0\n",
       "..       ...\n",
       "284   2184.0\n",
       "285   4936.0\n",
       "286   6801.0\n",
       "287  24984.0\n",
       "288   6263.0\n",
       "\n",
       "[289 rows x 1 columns]"
      ]
     },
     "execution_count": 51,
     "metadata": {},
     "output_type": "execute_result"
    }
   ],
   "source": [
    "predict[1]"
   ]
  },
  {
   "cell_type": "code",
   "execution_count": null,
   "id": "aca9388a-5992-4b34-b64a-d6881ca507c7",
   "metadata": {},
   "outputs": [],
   "source": [
    "# model이 새로 선언될 때마다, 기존에 호출되었던 모델과 호환이 이뤄지지는 않는다.\n",
    "# 새로운 예측값을 담을 배열을 신설하고, 여기에 모델 생성 및 예측 시마다 변하는 값을 저장하자.\n",
    "# for문 하나만 돌려서는 문제가 발생할 수 있다."
   ]
  },
  {
   "cell_type": "code",
   "execution_count": 52,
   "id": "464b0b3f-8e54-4f28-b40b-2bde701b9741",
   "metadata": {},
   "outputs": [],
   "source": [
    "mae = [0 for i in range(len(predict))]\n",
    "mse = [0 for i in range(len(predict))]"
   ]
  },
  {
   "cell_type": "code",
   "execution_count": 53,
   "id": "ecabaa69-86a0-4dbb-9458-dbcb8a13058e",
   "metadata": {},
   "outputs": [],
   "source": [
    "for i in range(0, len(mae)):\n",
    "    mae[i] = mean_absolute_error(testLabel, predict[i])\n",
    "    mse[i] = mean_squared_error(testLabel, predict[i])"
   ]
  },
  {
   "cell_type": "code",
   "execution_count": 54,
   "id": "6cbb9386-9995-4509-b88e-ae1d790cf588",
   "metadata": {},
   "outputs": [
    {
     "name": "stdout",
     "output_type": "stream",
     "text": [
      "2519.8477508650517\n",
      "3037.823529411765\n",
      "3093.0484429065746\n",
      "3039.8512110726642\n",
      "3860.7506665154006\n"
     ]
    }
   ],
   "source": [
    "for i in range(0, len(mae)):\n",
    "    print(mae[i])"
   ]
  },
  {
   "cell_type": "code",
   "execution_count": 55,
   "id": "251bd1c2-547d-48d4-b9be-6b56c72fa860",
   "metadata": {},
   "outputs": [
    {
     "name": "stdout",
     "output_type": "stream",
     "text": [
      "13173316.560553633\n",
      "20735559.88581315\n",
      "21568045.6366782\n",
      "19973435.435986158\n",
      "29253734.71082089\n"
     ]
    }
   ],
   "source": [
    "for i in range(0, len(mse)):\n",
    "    print(mse[i])"
   ]
  }
 ],
 "metadata": {
  "kernelspec": {
   "display_name": "Python 3 (ipykernel)",
   "language": "python",
   "name": "python3"
  },
  "language_info": {
   "codemirror_mode": {
    "name": "ipython",
    "version": 3
   },
   "file_extension": ".py",
   "mimetype": "text/x-python",
   "name": "python",
   "nbconvert_exporter": "python",
   "pygments_lexer": "ipython3",
   "version": "3.9.13"
  }
 },
 "nbformat": 4,
 "nbformat_minor": 5
}
