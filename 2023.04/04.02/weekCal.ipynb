{
 "cells": [
  {
   "cell_type": "code",
   "execution_count": 2,
   "id": "dba30849-53f3-48a4-ab2a-a039337a5ffe",
   "metadata": {},
   "outputs": [],
   "source": [
    "from isoweek import Week"
   ]
  },
  {
   "cell_type": "code",
   "execution_count": 3,
   "id": "cc6c840b-e416-4a37-a98d-8ca8b73afb27",
   "metadata": {},
   "outputs": [],
   "source": [
    "fromWeek = 202314"
   ]
  },
  {
   "cell_type": "code",
   "execution_count": 4,
   "id": "2dcd3dcf-cf3c-4516-bc29-216935b1bb42",
   "metadata": {},
   "outputs": [],
   "source": [
    "weekAgo = 100"
   ]
  },
  {
   "cell_type": "code",
   "execution_count": 7,
   "id": "755264b4-a5f7-4530-81f4-042de763136c",
   "metadata": {},
   "outputs": [],
   "source": [
    "inputYear = int(str(fromWeek)[0:4])\n",
    "inputWeek = int(str(fromWeek)[4:])\n",
    "weekAgo = int(weekAgo)"
   ]
  },
  {
   "cell_type": "code",
   "execution_count": 14,
   "id": "7cb3e198-b09a-472f-98c2-e358f60c52c9",
   "metadata": {},
   "outputs": [],
   "source": [
    "def weekCal(fromWeek, weekAgo):\n",
    "\n",
    "# fromWeek = 202314\n",
    "# weekAgo = 100\n",
    "\n",
    "    inputYear = int(str(fromWeek)[0:4])\n",
    "    inputWeek = int(str(fromWeek)[4:])\n",
    "    weekAgo = int(weekAgo)\n",
    "\n",
    "    if(inputWeek - weekAgo > 0):\n",
    "        if(inputWeeks - weekAgo >=10):\n",
    "            result = str(inputYear) + str(inputWeeks - weeksAgo)\n",
    "        else:\n",
    "            result = str(inputYear) + \"0\" + str(inputWeeks - weeksAgo)\n",
    "    else:\n",
    "        remainWeeks = weekAgo - inputWeek\n",
    "        inputYear = inputYear - 1\n",
    "        maxWeeks = Week.last_week_of_year(inputYear).week\n",
    "        while remainWeeks >= maxWeeks:\n",
    "            remainWeeks = remainWeeks - maxWeeks\n",
    "            inputYeasr = inputYear - 1\n",
    "            maxWeeks = Week.last_week_of_year(inputYear).week\n",
    "        else:\n",
    "            pass\n",
    "        maxWeeks = remainWeeks\n",
    "\n",
    "        if(maxWeeks >= 10):\n",
    "            result = str(inputYear) + str(maxWeeks)\n",
    "        else:\n",
    "            result = str(inputYear) + \"0\" + str(maxWeeks)\n",
    "    return result"
   ]
  }
 ],
 "metadata": {
  "kernelspec": {
   "display_name": "Python 3 (ipykernel)",
   "language": "python",
   "name": "python3"
  },
  "language_info": {
   "codemirror_mode": {
    "name": "ipython",
    "version": 3
   },
   "file_extension": ".py",
   "mimetype": "text/x-python",
   "name": "python",
   "nbconvert_exporter": "python",
   "pygments_lexer": "ipython3",
   "version": "3.9.13"
  }
 },
 "nbformat": 4,
 "nbformat_minor": 5
}
