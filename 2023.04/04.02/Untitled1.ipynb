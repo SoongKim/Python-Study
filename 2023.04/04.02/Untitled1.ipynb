{
 "cells": [
  {
   "cell_type": "code",
   "execution_count": null,
   "id": "c8801f3d-2c87-4cdc-919a-1e814eb1e6ac",
   "metadata": {},
   "outputs": [],
   "source": [
    "# 오름차순 Selection 알고리즘. 이번 경우에는 사용 불가.\n",
    "for x in range(0, len(priceList)-1):\n",
    "    for y in range(i+1, len(priceList)):\n",
    "        if(priceList[i] < priceList[j]):\n",
    "            priceList[i], priceList[j] = priceList[j], priceList[i]\n",
    "            nameList[i], nameList[j] = nameList[j], nameList[i]"
   ]
  }
 ],
 "metadata": {
  "kernelspec": {
   "display_name": "Python 3 (ipykernel)",
   "language": "python",
   "name": "python3"
  },
  "language_info": {
   "codemirror_mode": {
    "name": "ipython",
    "version": 3
   },
   "file_extension": ".py",
   "mimetype": "text/x-python",
   "name": "python",
   "nbconvert_exporter": "python",
   "pygments_lexer": "ipython3",
   "version": "3.9.13"
  }
 },
 "nbformat": 4,
 "nbformat_minor": 5
}
