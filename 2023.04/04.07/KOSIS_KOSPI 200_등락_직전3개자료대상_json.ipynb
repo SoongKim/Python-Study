{
 "cells": [
  {
   "cell_type": "code",
   "execution_count": 20,
   "id": "f09161f4-e387-4135-b76a-8053c03408a2",
   "metadata": {},
   "outputs": [],
   "source": [
    "import pandas as pd\n",
    "\n",
    "url = \"https://kosis.kr/openapi/statisticsData.do?method=getList&apiKey=MGM1MDdjYTUzYzQ2YzQ4OGFhZDhlYTA5YjQ2ZGUxMzQ=&format=json&jsonVD=Y&userStatsId=soongrk/343/DT_343_2010_S0028/2/1/20230407130459&prdSe=M&newEstPrdCnt=3\"\n",
    "\n",
    "json = pd.DataFrame()\n",
    "try:\n",
    "    json = pd.read_json(url)\n",
    "except Exception as e:\n",
    "    print(e)\n",
    "\n",
    "json.to_csv(\"../kospi.csv\", encoding=\"ms949\")\n",
    "json.to_csv(\"../kospiUTF.csv\", encoding=\"UTF-8\")"
   ]
  }
 ],
 "metadata": {
  "kernelspec": {
   "display_name": "Python 3 (ipykernel)",
   "language": "python",
   "name": "python3"
  },
  "language_info": {
   "codemirror_mode": {
    "name": "ipython",
    "version": 3
   },
   "file_extension": ".py",
   "mimetype": "text/x-python",
   "name": "python",
   "nbconvert_exporter": "python",
   "pygments_lexer": "ipython3",
   "version": "3.9.13"
  }
 },
 "nbformat": 4,
 "nbformat_minor": 5
}
