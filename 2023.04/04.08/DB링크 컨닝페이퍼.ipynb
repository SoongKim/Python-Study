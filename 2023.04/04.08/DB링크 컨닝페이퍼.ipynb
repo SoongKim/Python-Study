{
 "cells": [
  {
   "cell_type": "code",
   "execution_count": null,
   "id": "2512d839-424e-44cf-98c5-fbf8c60933bb",
   "metadata": {},
   "outputs": [],
   "source": [
    "# 1. postgre DB와의 연결 구축"
   ]
  },
  {
   "cell_type": "code",
   "execution_count": null,
   "id": "8b3020a2-a078-4693-b0c3-49589c9a5018",
   "metadata": {},
   "outputs": [],
   "source": []
  },
  {
   "cell_type": "code",
   "execution_count": 1,
   "id": "834b97e2-f8f1-4b60-bf6a-0cd99dd1a00e",
   "metadata": {},
   "outputs": [],
   "source": [
    "import psycopg2\n",
    "import pandas as pd\n",
    "from sqlalchemy import create_engine"
   ]
  },
  {
   "cell_type": "code",
   "execution_count": null,
   "id": "6bac6730-64e6-4f3f-9a05-780281f048b4",
   "metadata": {},
   "outputs": [],
   "source": [
    "# psycopg2, pandas, sqlalchemy 호출. 없다면 윈도우 cmd에서 'pip install 모듈명'으로 다운로드."
   ]
  },
  {
   "cell_type": "code",
   "execution_count": 7,
   "id": "65fa7048-ff9c-4029-8a1f-763259831573",
   "metadata": {},
   "outputs": [],
   "source": [
    "postgreId = \"\"\n",
    "postgrePw = \"\"\n",
    "postgreIp = \"\"\n",
    "postgrePort = \"\"\n",
    "postgreDbName = \"\""
   ]
  },
  {
   "cell_type": "code",
   "execution_count": null,
   "id": "98454695-9bcd-4d9f-948f-a697dff00f23",
   "metadata": {},
   "outputs": [],
   "source": [
    "# postgreId : postgreDB 아이디\n",
    "# postgrePw : postgreDB 비밀번호\n",
    "# postgreIp : postgreDB IP번호\n",
    "# postgrePort : postgreDB 포트 번호\n",
    "# postgreDbName : postgreDB DB 이름\n",
    "# 큰 따옴표 사이에 해당하는 정보를 입력하자."
   ]
  },
  {
   "cell_type": "code",
   "execution_count": 8,
   "id": "3756cd4b-43d8-4c10-b11f-aa297b805649",
   "metadata": {
    "collapsed": true,
    "jupyter": {
     "outputs_hidden": true
    },
    "tags": []
   },
   "outputs": [
    {
     "ename": "ValueError",
     "evalue": "invalid literal for int() with base 10: ''",
     "output_type": "error",
     "traceback": [
      "\u001b[1;31m---------------------------------------------------------------------------\u001b[0m",
      "\u001b[1;31mValueError\u001b[0m                                Traceback (most recent call last)",
      "\u001b[1;32m~\\AppData\\Local\\Temp\\ipykernel_10648\\2399671353.py\u001b[0m in \u001b[0;36m<module>\u001b[1;34m\u001b[0m\n\u001b[1;32m----> 1\u001b[1;33m \u001b[0mengine\u001b[0m \u001b[1;33m=\u001b[0m \u001b[0mcreate_engine\u001b[0m\u001b[1;33m(\u001b[0m\u001b[1;34m'postgresql://{}:{}@{}:{}/{}'\u001b[0m\u001b[1;33m.\u001b[0m\u001b[0mformat\u001b[0m\u001b[1;33m(\u001b[0m\u001b[0mpostgreId\u001b[0m\u001b[1;33m,\u001b[0m \u001b[0mpostgrePw\u001b[0m\u001b[1;33m,\u001b[0m \u001b[0mpostgreIp\u001b[0m\u001b[1;33m,\u001b[0m \u001b[0mpostgrePort\u001b[0m\u001b[1;33m,\u001b[0m \u001b[0mpostgreDbName\u001b[0m\u001b[1;33m)\u001b[0m\u001b[1;33m)\u001b[0m\u001b[1;33m\u001b[0m\u001b[1;33m\u001b[0m\u001b[0m\n\u001b[0m",
      "\u001b[1;32m<string>\u001b[0m in \u001b[0;36mcreate_engine\u001b[1;34m(url, **kwargs)\u001b[0m\n",
      "\u001b[1;32m~\\anaconda3\\lib\\site-packages\\sqlalchemy\\util\\deprecations.py\u001b[0m in \u001b[0;36mwarned\u001b[1;34m(fn, *args, **kwargs)\u001b[0m\n\u001b[0;32m    307\u001b[0m                         \u001b[0mstacklevel\u001b[0m\u001b[1;33m=\u001b[0m\u001b[1;36m3\u001b[0m\u001b[1;33m,\u001b[0m\u001b[1;33m\u001b[0m\u001b[1;33m\u001b[0m\u001b[0m\n\u001b[0;32m    308\u001b[0m                     )\n\u001b[1;32m--> 309\u001b[1;33m             \u001b[1;32mreturn\u001b[0m \u001b[0mfn\u001b[0m\u001b[1;33m(\u001b[0m\u001b[1;33m*\u001b[0m\u001b[0margs\u001b[0m\u001b[1;33m,\u001b[0m \u001b[1;33m**\u001b[0m\u001b[0mkwargs\u001b[0m\u001b[1;33m)\u001b[0m\u001b[1;33m\u001b[0m\u001b[1;33m\u001b[0m\u001b[0m\n\u001b[0m\u001b[0;32m    310\u001b[0m \u001b[1;33m\u001b[0m\u001b[0m\n\u001b[0;32m    311\u001b[0m         \u001b[0mdoc\u001b[0m \u001b[1;33m=\u001b[0m \u001b[0mfn\u001b[0m\u001b[1;33m.\u001b[0m\u001b[0m__doc__\u001b[0m \u001b[1;32mis\u001b[0m \u001b[1;32mnot\u001b[0m \u001b[1;32mNone\u001b[0m \u001b[1;32mand\u001b[0m \u001b[0mfn\u001b[0m\u001b[1;33m.\u001b[0m\u001b[0m__doc__\u001b[0m \u001b[1;32mor\u001b[0m \u001b[1;34m\"\"\u001b[0m\u001b[1;33m\u001b[0m\u001b[1;33m\u001b[0m\u001b[0m\n",
      "\u001b[1;32m~\\anaconda3\\lib\\site-packages\\sqlalchemy\\engine\\create.py\u001b[0m in \u001b[0;36mcreate_engine\u001b[1;34m(url, **kwargs)\u001b[0m\n\u001b[0;32m    528\u001b[0m \u001b[1;33m\u001b[0m\u001b[0m\n\u001b[0;32m    529\u001b[0m     \u001b[1;31m# create url.URL object\u001b[0m\u001b[1;33m\u001b[0m\u001b[1;33m\u001b[0m\u001b[0m\n\u001b[1;32m--> 530\u001b[1;33m     \u001b[0mu\u001b[0m \u001b[1;33m=\u001b[0m \u001b[0m_url\u001b[0m\u001b[1;33m.\u001b[0m\u001b[0mmake_url\u001b[0m\u001b[1;33m(\u001b[0m\u001b[0murl\u001b[0m\u001b[1;33m)\u001b[0m\u001b[1;33m\u001b[0m\u001b[1;33m\u001b[0m\u001b[0m\n\u001b[0m\u001b[0;32m    531\u001b[0m \u001b[1;33m\u001b[0m\u001b[0m\n\u001b[0;32m    532\u001b[0m     \u001b[0mu\u001b[0m\u001b[1;33m,\u001b[0m \u001b[0mplugins\u001b[0m\u001b[1;33m,\u001b[0m \u001b[0mkwargs\u001b[0m \u001b[1;33m=\u001b[0m \u001b[0mu\u001b[0m\u001b[1;33m.\u001b[0m\u001b[0m_instantiate_plugins\u001b[0m\u001b[1;33m(\u001b[0m\u001b[0mkwargs\u001b[0m\u001b[1;33m)\u001b[0m\u001b[1;33m\u001b[0m\u001b[1;33m\u001b[0m\u001b[0m\n",
      "\u001b[1;32m~\\anaconda3\\lib\\site-packages\\sqlalchemy\\engine\\url.py\u001b[0m in \u001b[0;36mmake_url\u001b[1;34m(name_or_url)\u001b[0m\n\u001b[0;32m    723\u001b[0m \u001b[1;33m\u001b[0m\u001b[0m\n\u001b[0;32m    724\u001b[0m     \u001b[1;32mif\u001b[0m \u001b[0misinstance\u001b[0m\u001b[1;33m(\u001b[0m\u001b[0mname_or_url\u001b[0m\u001b[1;33m,\u001b[0m \u001b[0mutil\u001b[0m\u001b[1;33m.\u001b[0m\u001b[0mstring_types\u001b[0m\u001b[1;33m)\u001b[0m\u001b[1;33m:\u001b[0m\u001b[1;33m\u001b[0m\u001b[1;33m\u001b[0m\u001b[0m\n\u001b[1;32m--> 725\u001b[1;33m         \u001b[1;32mreturn\u001b[0m \u001b[0m_parse_rfc1738_args\u001b[0m\u001b[1;33m(\u001b[0m\u001b[0mname_or_url\u001b[0m\u001b[1;33m)\u001b[0m\u001b[1;33m\u001b[0m\u001b[1;33m\u001b[0m\u001b[0m\n\u001b[0m\u001b[0;32m    726\u001b[0m     \u001b[1;32melse\u001b[0m\u001b[1;33m:\u001b[0m\u001b[1;33m\u001b[0m\u001b[1;33m\u001b[0m\u001b[0m\n\u001b[0;32m    727\u001b[0m         \u001b[1;32mreturn\u001b[0m \u001b[0mname_or_url\u001b[0m\u001b[1;33m\u001b[0m\u001b[1;33m\u001b[0m\u001b[0m\n",
      "\u001b[1;32m~\\anaconda3\\lib\\site-packages\\sqlalchemy\\engine\\url.py\u001b[0m in \u001b[0;36m_parse_rfc1738_args\u001b[1;34m(name)\u001b[0m\n\u001b[0;32m    781\u001b[0m             \u001b[0mcomponents\u001b[0m\u001b[1;33m[\u001b[0m\u001b[1;34m\"port\"\u001b[0m\u001b[1;33m]\u001b[0m \u001b[1;33m=\u001b[0m \u001b[0mint\u001b[0m\u001b[1;33m(\u001b[0m\u001b[0mcomponents\u001b[0m\u001b[1;33m[\u001b[0m\u001b[1;34m\"port\"\u001b[0m\u001b[1;33m]\u001b[0m\u001b[1;33m)\u001b[0m\u001b[1;33m\u001b[0m\u001b[1;33m\u001b[0m\u001b[0m\n\u001b[0;32m    782\u001b[0m \u001b[1;33m\u001b[0m\u001b[0m\n\u001b[1;32m--> 783\u001b[1;33m         \u001b[1;32mreturn\u001b[0m \u001b[0mURL\u001b[0m\u001b[1;33m.\u001b[0m\u001b[0mcreate\u001b[0m\u001b[1;33m(\u001b[0m\u001b[0mname\u001b[0m\u001b[1;33m,\u001b[0m \u001b[1;33m**\u001b[0m\u001b[0mcomponents\u001b[0m\u001b[1;33m)\u001b[0m\u001b[1;33m\u001b[0m\u001b[1;33m\u001b[0m\u001b[0m\n\u001b[0m\u001b[0;32m    784\u001b[0m \u001b[1;33m\u001b[0m\u001b[0m\n\u001b[0;32m    785\u001b[0m     \u001b[1;32melse\u001b[0m\u001b[1;33m:\u001b[0m\u001b[1;33m\u001b[0m\u001b[1;33m\u001b[0m\u001b[0m\n",
      "\u001b[1;32m~\\anaconda3\\lib\\site-packages\\sqlalchemy\\engine\\url.py\u001b[0m in \u001b[0;36mcreate\u001b[1;34m(cls, drivername, username, password, host, port, database, query)\u001b[0m\n\u001b[0;32m    143\u001b[0m             \u001b[0mpassword\u001b[0m\u001b[1;33m,\u001b[0m\u001b[1;33m\u001b[0m\u001b[1;33m\u001b[0m\u001b[0m\n\u001b[0;32m    144\u001b[0m             \u001b[0mcls\u001b[0m\u001b[1;33m.\u001b[0m\u001b[0m_assert_none_str\u001b[0m\u001b[1;33m(\u001b[0m\u001b[0mhost\u001b[0m\u001b[1;33m,\u001b[0m \u001b[1;34m\"host\"\u001b[0m\u001b[1;33m)\u001b[0m\u001b[1;33m,\u001b[0m\u001b[1;33m\u001b[0m\u001b[1;33m\u001b[0m\u001b[0m\n\u001b[1;32m--> 145\u001b[1;33m             \u001b[0mcls\u001b[0m\u001b[1;33m.\u001b[0m\u001b[0m_assert_port\u001b[0m\u001b[1;33m(\u001b[0m\u001b[0mport\u001b[0m\u001b[1;33m)\u001b[0m\u001b[1;33m,\u001b[0m\u001b[1;33m\u001b[0m\u001b[1;33m\u001b[0m\u001b[0m\n\u001b[0m\u001b[0;32m    146\u001b[0m             \u001b[0mcls\u001b[0m\u001b[1;33m.\u001b[0m\u001b[0m_assert_none_str\u001b[0m\u001b[1;33m(\u001b[0m\u001b[0mdatabase\u001b[0m\u001b[1;33m,\u001b[0m \u001b[1;34m\"database\"\u001b[0m\u001b[1;33m)\u001b[0m\u001b[1;33m,\u001b[0m\u001b[1;33m\u001b[0m\u001b[1;33m\u001b[0m\u001b[0m\n\u001b[0;32m    147\u001b[0m             \u001b[0mcls\u001b[0m\u001b[1;33m.\u001b[0m\u001b[0m_str_dict\u001b[0m\u001b[1;33m(\u001b[0m\u001b[0mquery\u001b[0m\u001b[1;33m)\u001b[0m\u001b[1;33m,\u001b[0m\u001b[1;33m\u001b[0m\u001b[1;33m\u001b[0m\u001b[0m\n",
      "\u001b[1;32m~\\anaconda3\\lib\\site-packages\\sqlalchemy\\engine\\url.py\u001b[0m in \u001b[0;36m_assert_port\u001b[1;34m(cls, port)\u001b[0m\n\u001b[0;32m    154\u001b[0m             \u001b[1;32mreturn\u001b[0m \u001b[1;32mNone\u001b[0m\u001b[1;33m\u001b[0m\u001b[1;33m\u001b[0m\u001b[0m\n\u001b[0;32m    155\u001b[0m         \u001b[1;32mtry\u001b[0m\u001b[1;33m:\u001b[0m\u001b[1;33m\u001b[0m\u001b[1;33m\u001b[0m\u001b[0m\n\u001b[1;32m--> 156\u001b[1;33m             \u001b[1;32mreturn\u001b[0m \u001b[0mint\u001b[0m\u001b[1;33m(\u001b[0m\u001b[0mport\u001b[0m\u001b[1;33m)\u001b[0m\u001b[1;33m\u001b[0m\u001b[1;33m\u001b[0m\u001b[0m\n\u001b[0m\u001b[0;32m    157\u001b[0m         \u001b[1;32mexcept\u001b[0m \u001b[0mTypeError\u001b[0m\u001b[1;33m:\u001b[0m\u001b[1;33m\u001b[0m\u001b[1;33m\u001b[0m\u001b[0m\n\u001b[0;32m    158\u001b[0m             \u001b[1;32mraise\u001b[0m \u001b[0mTypeError\u001b[0m\u001b[1;33m(\u001b[0m\u001b[1;34m\"Port argument must be an integer or None\"\u001b[0m\u001b[1;33m)\u001b[0m\u001b[1;33m\u001b[0m\u001b[1;33m\u001b[0m\u001b[0m\n",
      "\u001b[1;31mValueError\u001b[0m: invalid literal for int() with base 10: ''"
     ]
    }
   ],
   "source": [
    "postEngine = create_engine('postgresql://{}:{}@{}:{}/{}'.format(postgreId, postgrePw, postgreIp, postgrePort, postgreDbName))"
   ]
  },
  {
   "cell_type": "code",
   "execution_count": null,
   "id": "91030264-f56a-487c-a28b-577983dfe9ad",
   "metadata": {},
   "outputs": [],
   "source": [
    "# 1-1. DB로부터 데이터를 조회할 때"
   ]
  },
  {
   "cell_type": "code",
   "execution_count": null,
   "id": "df0be28b-455d-4fbf-9210-1c0881f924ce",
   "metadata": {},
   "outputs": [],
   "source": [
    "resultName = '테이블명'"
   ]
  },
  {
   "cell_type": "code",
   "execution_count": null,
   "id": "22d2c505-daea-49e5-b260-996b203faa1d",
   "metadata": {},
   "outputs": [],
   "source": [
    "conDb = pd.read_sql_query(\"SELECT * FROM resultName\", con = postEngine)"
   ]
  },
  {
   "cell_type": "code",
   "execution_count": null,
   "id": "64dc0647-2018-4fa3-a07c-7a324dcd8ea1",
   "metadata": {},
   "outputs": [],
   "source": [
    "# resultName 테이블에 존재하는 모든 데이터(SELECT *)를 조회하여 conDb 변수에 데이터프레임으로 담는다."
   ]
  },
  {
   "cell_type": "code",
   "execution_count": null,
   "id": "c38cb0f0-b7b5-404e-b94a-93deab2b4ddf",
   "metadata": {},
   "outputs": [],
   "source": [
    "# 1-2. 데이터프레임을 DB에 삽입할 때"
   ]
  },
  {
   "cell_type": "code",
   "execution_count": null,
   "id": "c91ae5fd-76cc-40b5-ab6f-ce8bc4edc1c5",
   "metadata": {},
   "outputs": [],
   "source": [
    "resultName = '테이블명'\n",
    "DataFrameName.to_sql(name = '테이블명', con = postEngine, if_exists='replace')"
   ]
  },
  {
   "cell_type": "code",
   "execution_count": null,
   "id": "c688ba05-895c-4b1d-85e1-514b8de4150d",
   "metadata": {},
   "outputs": [],
   "source": [
    "# 데이터를 삽입할 테이블명을 '테이블명'에 설정\n",
    "# to_sql 기능을 사용하여 데이터를 테이블에 세팅"
   ]
  },
  {
   "cell_type": "code",
   "execution_count": null,
   "id": "250e9f05-c257-4a01-83cb-392c9829a6e9",
   "metadata": {},
   "outputs": [],
   "source": []
  },
  {
   "cell_type": "code",
   "execution_count": null,
   "id": "408d7569-fb81-4b36-942e-c0e56a9daec5",
   "metadata": {},
   "outputs": [],
   "source": [
    "# 2. MariaDB와의 연결 구축"
   ]
  },
  {
   "cell_type": "code",
   "execution_count": 10,
   "id": "a45dca17-73dd-4d3e-a952-72fc66b600f2",
   "metadata": {},
   "outputs": [],
   "source": [
    "import pandas as pd\n",
    "import pymysql\n",
    "from sqlalchemy import create_engine"
   ]
  },
  {
   "cell_type": "code",
   "execution_count": null,
   "id": "86180366-f718-4966-a8f1-e598af52cba1",
   "metadata": {},
   "outputs": [],
   "source": [
    "# pandas, pymysql, sqlalchemy 모듈 호출. 없다면 윈도우 cmd에서 'pip install 모듈명'으로 다운로드."
   ]
  },
  {
   "cell_type": "code",
   "execution_count": 13,
   "id": "5b646952-3c60-49b8-a820-93724efb39bc",
   "metadata": {},
   "outputs": [],
   "source": [
    "mariaID = ''\n",
    "mariaPW = ''\n",
    "mariaIP = ''\n",
    "mariaPort = ''\n",
    "mariaName = ''"
   ]
  },
  {
   "cell_type": "code",
   "execution_count": null,
   "id": "dead1517-9743-4f6b-bafb-5dbb9569a106",
   "metadata": {},
   "outputs": [],
   "source": [
    "# 위부터 아래로 아이디, 비밀번호, IP, 포트 번호, DB이름.\n",
    "# 해당하는 칸의 따옴표 안에 정보를 입력하자."
   ]
  },
  {
   "cell_type": "code",
   "execution_count": 14,
   "id": "5c50b686-ddb7-4c33-aed1-a9495ed4a90c",
   "metadata": {},
   "outputs": [],
   "source": [
    "engine_mariaDb = create_engine('mysql+pymysql://{}:{}@{}:{}/{}'.format(mariaID,mariaPW,mariaIP,mariaPort,mariaName))"
   ]
  },
  {
   "cell_type": "code",
   "execution_count": null,
   "id": "1db74268-9e7d-4355-98d9-b127981e296c",
   "metadata": {},
   "outputs": [],
   "source": [
    "# 마리아DB와의 연결 구축"
   ]
  },
  {
   "cell_type": "code",
   "execution_count": null,
   "id": "6e265249-ced6-47b2-ac5b-686c28fd2b9d",
   "metadata": {},
   "outputs": [],
   "source": [
    "selloutData = pd.read_sql_query('SELECT * FROM 테이블명', engine = engine_mariaDb)"
   ]
  },
  {
   "cell_type": "code",
   "execution_count": null,
   "id": "b8baa71f-8893-48e8-83b8-be79be45fd48",
   "metadata": {},
   "outputs": [],
   "source": [
    "# '테이블명' 에 해당하는 테이블에서 모든 데이터(SELECT *)를 데이터프레임에 가져온다."
   ]
  },
  {
   "cell_type": "code",
   "execution_count": null,
   "id": "93141550-5ad3-412c-bc14-d56cc2861fa4",
   "metadata": {},
   "outputs": [],
   "source": []
  },
  {
   "cell_type": "code",
   "execution_count": null,
   "id": "0e12dbb3-23de-4d10-85ac-ff0775fd00a5",
   "metadata": {},
   "outputs": [],
   "source": [
    "# 3. Oracle DB와의 연결 구축"
   ]
  },
  {
   "cell_type": "code",
   "execution_count": 16,
   "id": "84ad1c7e-1340-469c-86c8-d01ea31a651f",
   "metadata": {},
   "outputs": [],
   "source": [
    "import pandas as pd\n",
    "from sqlalchemy import create_engine"
   ]
  },
  {
   "cell_type": "code",
   "execution_count": null,
   "id": "dd84b9c0-725c-44bb-bb29-9fcf7119b882",
   "metadata": {},
   "outputs": [],
   "source": [
    "# pandas, sqlalchemy, cx_Oracle 모듈이 필요하다. 없다면 윈도우 cmd에서 'pip install 모듈명'으로 다운로드"
   ]
  },
  {
   "cell_type": "code",
   "execution_count": 18,
   "id": "77fb2815-5e76-4cbd-937f-735c0fca3dbc",
   "metadata": {},
   "outputs": [],
   "source": [
    "orclID = 'haiteam'\n",
    "orclPW = 'haiteam'\n",
    "orclIP = '127.0.0.1'\n",
    "orclPort = '1521'\n",
    "orclDbName = 'xe'"
   ]
  },
  {
   "cell_type": "code",
   "execution_count": 20,
   "id": "c1877dcc-823f-4ab5-b701-278a45f35851",
   "metadata": {
    "tags": []
   },
   "outputs": [],
   "source": [
    "engine = create_engine('oracle+cx_oracle://{}:{}@{}:{}/{}'.format(orclID, orclPW, orclIP, orclPort, orclDbName))"
   ]
  },
  {
   "cell_type": "code",
   "execution_count": null,
   "id": "8ad2e75d-160e-4861-a06f-775be5b16ab1",
   "metadata": {},
   "outputs": [],
   "source": [
    "# 마찬가지로 pd.read_sql_query와\n",
    "# to_sql 기능을 사용하여 데이터를 입력할 수 있다."
   ]
  }
 ],
 "metadata": {
  "kernelspec": {
   "display_name": "Python 3 (ipykernel)",
   "language": "python",
   "name": "python3"
  },
  "language_info": {
   "codemirror_mode": {
    "name": "ipython",
    "version": 3
   },
   "file_extension": ".py",
   "mimetype": "text/x-python",
   "name": "python",
   "nbconvert_exporter": "python",
   "pygments_lexer": "ipython3",
   "version": "3.9.13"
  }
 },
 "nbformat": 4,
 "nbformat_minor": 5
}
