{
 "cells": [
  {
   "cell_type": "code",
   "execution_count": 1,
   "id": "94d64cc8-353c-402c-b5ee-e40b5fef5b8b",
   "metadata": {},
   "outputs": [],
   "source": [
    "import pandas as pd\n",
    "from sqlalchemy import create_engine,types\n",
    "id = \"\"\n",
    "pw = \"\"\n",
    "ip = \"\"\n",
    "port = \"\"\n",
    "dbName = \"\"\n",
    "# DB 커넥션 열기\n",
    "engine = create_engine('oracle+cx_oracle://{}:{}@{}:{}/{}'.format(id,pw,ip,port,dbName)) "
   ]
  },
  {
   "cell_type": "code",
   "execution_count": null,
   "id": "3103bc3d-f7b9-4ccb-a081-e1f717103706",
   "metadata": {},
   "outputs": [],
   "source": [
    "tableName = \"JIKGB_TEST\"\n",
    "tableName = tableName.lower()\n",
    "objectColumns = list(testData.columns[testData.dtypes == 'object'])\n",
    "typeDict={}\n",
    "maxLen = 100\n",
    "\n",
    "for i in range(0, len(objectColumns)):\n",
    "    typeDict[ objectColumns[i] ] = types.VARCHAR(100)\n",
    "\n",
    "testData.to_sql(name=tableName, if_exists=\"replace\", con=engine,dtype=typeDict, index=False)"
   ]
  },
  {
   "cell_type": "code",
   "execution_count": null,
   "id": "11c8c60f-b94a-4ffc-9e46-c9bdc3b71c66",
   "metadata": {},
   "outputs": [],
   "source": [
    "objectColumns = list(selloutData.columns[selloutData.dtypes == 'object'])\n",
    "typeDict={}\n",
    "maxLen = 100\n",
    "\n",
    "for i in range(0, len(objectColumns)):\n",
    "    typeDict[ objectColumns[i] ] = types.VARCHAR(100)\n",
    "selloutData.to_sql(name=tableName, if_exists=\"replace\", con=engine,dtype=typeDict, index=False)"
   ]
  }
 ],
 "metadata": {
  "kernelspec": {
   "display_name": "Python 3 (ipykernel)",
   "language": "python",
   "name": "python3"
  },
  "language_info": {
   "codemirror_mode": {
    "name": "ipython",
    "version": 3
   },
   "file_extension": ".py",
   "mimetype": "text/x-python",
   "name": "python",
   "nbconvert_exporter": "python",
   "pygments_lexer": "ipython3",
   "version": "3.9.13"
  }
 },
 "nbformat": 4,
 "nbformat_minor": 5
}
