{
 "cells": [
  {
   "cell_type": "code",
   "execution_count": 1,
   "id": "f2748b10-440f-43f8-89bf-6ba7c5673639",
   "metadata": {},
   "outputs": [],
   "source": [
    "import pandas as pd"
   ]
  },
  {
   "cell_type": "code",
   "execution_count": 2,
   "id": "ed14255f-8b55-4e37-9acb-602b92e72167",
   "metadata": {},
   "outputs": [],
   "source": [
    "regionList = [\"A01\", \"A02\", \"A03\", \"A04\", \"A05\"]\n",
    "yearWeekList = list(range(201501, 201506, 1))\n",
    "qtyList = list(range(100, 600, 100))"
   ]
  },
  {
   "cell_type": "code",
   "execution_count": 3,
   "id": "4e0780dc-ca81-4e7b-8007-00a3287df066",
   "metadata": {},
   "outputs": [
    {
     "data": {
      "text/plain": [
       "['A01', 'A02', 'A03', 'A04', 'A05']"
      ]
     },
     "execution_count": 3,
     "metadata": {},
     "output_type": "execute_result"
    }
   ],
   "source": [
    "regionList"
   ]
  },
  {
   "cell_type": "code",
   "execution_count": 4,
   "id": "224b5b5a-3620-4c35-bfe0-7fd2fdd5658d",
   "metadata": {},
   "outputs": [
    {
     "data": {
      "text/plain": [
       "[201501, 201502, 201503, 201504, 201505]"
      ]
     },
     "execution_count": 4,
     "metadata": {},
     "output_type": "execute_result"
    }
   ],
   "source": [
    "yearWeekList"
   ]
  },
  {
   "cell_type": "code",
   "execution_count": 5,
   "id": "41d7b311-821c-4694-b968-8808b164b755",
   "metadata": {},
   "outputs": [
    {
     "data": {
      "text/plain": [
       "[100, 200, 300, 400, 500]"
      ]
     },
     "execution_count": 5,
     "metadata": {},
     "output_type": "execute_result"
    }
   ],
   "source": [
    "qtyList"
   ]
  },
  {
   "cell_type": "code",
   "execution_count": 11,
   "id": "9e9a1896-8e4c-4dcc-bd82-994a21ea52d8",
   "metadata": {},
   "outputs": [],
   "source": [
    "eachDf = pd.DataFrame(zip(regionList, yearWeekList, qtyList))"
   ]
  },
  {
   "cell_type": "code",
   "execution_count": 13,
   "id": "d70d8f6b-e5fe-4420-a79f-d22b201b2795",
   "metadata": {},
   "outputs": [],
   "source": [
    "eachDf.columns = [\"REGIONID\", \"YEARWEEK\", \"QTY\"]"
   ]
  },
  {
   "cell_type": "code",
   "execution_count": 14,
   "id": "1e0c0849-5fda-413d-9ce3-06a34a70e537",
   "metadata": {},
   "outputs": [
    {
     "data": {
      "text/html": [
       "<div>\n",
       "<style scoped>\n",
       "    .dataframe tbody tr th:only-of-type {\n",
       "        vertical-align: middle;\n",
       "    }\n",
       "\n",
       "    .dataframe tbody tr th {\n",
       "        vertical-align: top;\n",
       "    }\n",
       "\n",
       "    .dataframe thead th {\n",
       "        text-align: right;\n",
       "    }\n",
       "</style>\n",
       "<table border=\"1\" class=\"dataframe\">\n",
       "  <thead>\n",
       "    <tr style=\"text-align: right;\">\n",
       "      <th></th>\n",
       "      <th>REGIONID</th>\n",
       "      <th>YEARWEEK</th>\n",
       "      <th>QTY</th>\n",
       "    </tr>\n",
       "  </thead>\n",
       "  <tbody>\n",
       "    <tr>\n",
       "      <th>0</th>\n",
       "      <td>A01</td>\n",
       "      <td>201501</td>\n",
       "      <td>100</td>\n",
       "    </tr>\n",
       "    <tr>\n",
       "      <th>1</th>\n",
       "      <td>A02</td>\n",
       "      <td>201502</td>\n",
       "      <td>200</td>\n",
       "    </tr>\n",
       "    <tr>\n",
       "      <th>2</th>\n",
       "      <td>A03</td>\n",
       "      <td>201503</td>\n",
       "      <td>300</td>\n",
       "    </tr>\n",
       "    <tr>\n",
       "      <th>3</th>\n",
       "      <td>A04</td>\n",
       "      <td>201504</td>\n",
       "      <td>400</td>\n",
       "    </tr>\n",
       "    <tr>\n",
       "      <th>4</th>\n",
       "      <td>A05</td>\n",
       "      <td>201505</td>\n",
       "      <td>500</td>\n",
       "    </tr>\n",
       "  </tbody>\n",
       "</table>\n",
       "</div>"
      ],
      "text/plain": [
       "  REGIONID  YEARWEEK  QTY\n",
       "0      A01    201501  100\n",
       "1      A02    201502  200\n",
       "2      A03    201503  300\n",
       "3      A04    201504  400\n",
       "4      A05    201505  500"
      ]
     },
     "execution_count": 14,
     "metadata": {},
     "output_type": "execute_result"
    }
   ],
   "source": [
    "eachDf"
   ]
  },
  {
   "cell_type": "code",
   "execution_count": 15,
   "id": "0286f55f-f2e9-42ea-b478-87d7e354c583",
   "metadata": {},
   "outputs": [],
   "source": [
    "DaFm = pd.read_csv(\"../../../stdcode6/dataset/customerdata.csv\")"
   ]
  },
  {
   "cell_type": "code",
   "execution_count": 16,
   "id": "9d16c12d-6824-4fa9-8480-e2fc9588855f",
   "metadata": {},
   "outputs": [
    {
     "data": {
      "text/html": [
       "<div>\n",
       "<style scoped>\n",
       "    .dataframe tbody tr th:only-of-type {\n",
       "        vertical-align: middle;\n",
       "    }\n",
       "\n",
       "    .dataframe tbody tr th {\n",
       "        vertical-align: top;\n",
       "    }\n",
       "\n",
       "    .dataframe thead th {\n",
       "        text-align: right;\n",
       "    }\n",
       "</style>\n",
       "<table border=\"1\" class=\"dataframe\">\n",
       "  <thead>\n",
       "    <tr style=\"text-align: right;\">\n",
       "      <th></th>\n",
       "      <th>CUSTID</th>\n",
       "      <th>AVGPRICE</th>\n",
       "      <th>EMI</th>\n",
       "      <th>DEVICECOUNT</th>\n",
       "      <th>PRODUCTAGE</th>\n",
       "      <th>CUSTTYPE</th>\n",
       "    </tr>\n",
       "  </thead>\n",
       "  <tbody>\n",
       "    <tr>\n",
       "      <th>0</th>\n",
       "      <td>A13566</td>\n",
       "      <td>4273.900000</td>\n",
       "      <td>3</td>\n",
       "      <td>6</td>\n",
       "      <td>1.679181</td>\n",
       "      <td>Big-Screen-lover</td>\n",
       "    </tr>\n",
       "    <tr>\n",
       "      <th>1</th>\n",
       "      <td>A14219</td>\n",
       "      <td>3642.441950</td>\n",
       "      <td>2</td>\n",
       "      <td>4</td>\n",
       "      <td>2.682023</td>\n",
       "      <td>Sleeping-dog</td>\n",
       "    </tr>\n",
       "    <tr>\n",
       "      <th>2</th>\n",
       "      <td>A15312</td>\n",
       "      <td>3653.884565</td>\n",
       "      <td>2</td>\n",
       "      <td>5</td>\n",
       "      <td>3.208202</td>\n",
       "      <td>Sleeping-dog</td>\n",
       "    </tr>\n",
       "    <tr>\n",
       "      <th>3</th>\n",
       "      <td>A16605</td>\n",
       "      <td>3713.211107</td>\n",
       "      <td>2</td>\n",
       "      <td>6</td>\n",
       "      <td>0.900000</td>\n",
       "      <td>Early-bird</td>\n",
       "    </tr>\n",
       "    <tr>\n",
       "      <th>4</th>\n",
       "      <td>B10634</td>\n",
       "      <td>3391.074215</td>\n",
       "      <td>2</td>\n",
       "      <td>4</td>\n",
       "      <td>2.453656</td>\n",
       "      <td>Sleeping-dog</td>\n",
       "    </tr>\n",
       "    <tr>\n",
       "      <th>...</th>\n",
       "      <td>...</td>\n",
       "      <td>...</td>\n",
       "      <td>...</td>\n",
       "      <td>...</td>\n",
       "      <td>...</td>\n",
       "      <td>...</td>\n",
       "    </tr>\n",
       "    <tr>\n",
       "      <th>145</th>\n",
       "      <td>Z13253</td>\n",
       "      <td>3678.800000</td>\n",
       "      <td>2</td>\n",
       "      <td>5</td>\n",
       "      <td>2.463670</td>\n",
       "      <td>Big-Screen-lover</td>\n",
       "    </tr>\n",
       "    <tr>\n",
       "      <th>146</th>\n",
       "      <td>Z13534</td>\n",
       "      <td>3662.437527</td>\n",
       "      <td>3</td>\n",
       "      <td>6</td>\n",
       "      <td>0.900000</td>\n",
       "      <td>Early-bird</td>\n",
       "    </tr>\n",
       "    <tr>\n",
       "      <th>147</th>\n",
       "      <td>Z16428</td>\n",
       "      <td>3516.500000</td>\n",
       "      <td>2</td>\n",
       "      <td>5</td>\n",
       "      <td>2.371301</td>\n",
       "      <td>Big-Screen-lover</td>\n",
       "    </tr>\n",
       "    <tr>\n",
       "      <th>148</th>\n",
       "      <td>Z16735</td>\n",
       "      <td>3300.100000</td>\n",
       "      <td>2</td>\n",
       "      <td>5</td>\n",
       "      <td>1.704942</td>\n",
       "      <td>Big-Screen-lover</td>\n",
       "    </tr>\n",
       "    <tr>\n",
       "      <th>149</th>\n",
       "      <td>Z19835</td>\n",
       "      <td>3326.526183</td>\n",
       "      <td>2</td>\n",
       "      <td>6</td>\n",
       "      <td>1.200000</td>\n",
       "      <td>Early-bird</td>\n",
       "    </tr>\n",
       "  </tbody>\n",
       "</table>\n",
       "<p>150 rows × 6 columns</p>\n",
       "</div>"
      ],
      "text/plain": [
       "     CUSTID     AVGPRICE  EMI  DEVICECOUNT  PRODUCTAGE          CUSTTYPE\n",
       "0    A13566  4273.900000    3            6    1.679181  Big-Screen-lover\n",
       "1    A14219  3642.441950    2            4    2.682023      Sleeping-dog\n",
       "2    A15312  3653.884565    2            5    3.208202      Sleeping-dog\n",
       "3    A16605  3713.211107    2            6    0.900000        Early-bird\n",
       "4    B10634  3391.074215    2            4    2.453656      Sleeping-dog\n",
       "..      ...          ...  ...          ...         ...               ...\n",
       "145  Z13253  3678.800000    2            5    2.463670  Big-Screen-lover\n",
       "146  Z13534  3662.437527    3            6    0.900000        Early-bird\n",
       "147  Z16428  3516.500000    2            5    2.371301  Big-Screen-lover\n",
       "148  Z16735  3300.100000    2            5    1.704942  Big-Screen-lover\n",
       "149  Z19835  3326.526183    2            6    1.200000        Early-bird\n",
       "\n",
       "[150 rows x 6 columns]"
      ]
     },
     "execution_count": 16,
     "metadata": {},
     "output_type": "execute_result"
    }
   ],
   "source": [
    "DaFm"
   ]
  },
  {
   "cell_type": "code",
   "execution_count": 17,
   "id": "d5df7d7f-46cd-44f4-bb75-49288f52b176",
   "metadata": {},
   "outputs": [
    {
     "data": {
      "text/plain": [
       "CUSTID          object\n",
       "AVGPRICE       float64\n",
       "EMI              int64\n",
       "DEVICECOUNT      int64\n",
       "PRODUCTAGE     float64\n",
       "CUSTTYPE        object\n",
       "dtype: object"
      ]
     },
     "execution_count": 17,
     "metadata": {},
     "output_type": "execute_result"
    }
   ],
   "source": [
    "DaFm.dtypes"
   ]
  },
  {
   "cell_type": "code",
   "execution_count": 18,
   "id": "4317a854-820a-43f6-84f3-1377001679a7",
   "metadata": {},
   "outputs": [],
   "source": [
    "emiCount = 3\n",
    "deviceCount = 5"
   ]
  },
  {
   "cell_type": "code",
   "execution_count": 21,
   "id": "194d4955-0294-49f3-aa8a-c04cb7127c83",
   "metadata": {},
   "outputs": [],
   "source": [
    "answer01 = DaFm.loc[(DaFm.EMI == emiCount)&\n",
    "         (DaFm.DEVICECOUNT > 5)]"
   ]
  },
  {
   "cell_type": "code",
   "execution_count": 22,
   "id": "97e541dd-f9e8-42d1-923e-d7e24357680e",
   "metadata": {},
   "outputs": [
    {
     "data": {
      "text/html": [
       "<div>\n",
       "<style scoped>\n",
       "    .dataframe tbody tr th:only-of-type {\n",
       "        vertical-align: middle;\n",
       "    }\n",
       "\n",
       "    .dataframe tbody tr th {\n",
       "        vertical-align: top;\n",
       "    }\n",
       "\n",
       "    .dataframe thead th {\n",
       "        text-align: right;\n",
       "    }\n",
       "</style>\n",
       "<table border=\"1\" class=\"dataframe\">\n",
       "  <thead>\n",
       "    <tr style=\"text-align: right;\">\n",
       "      <th></th>\n",
       "      <th>CUSTID</th>\n",
       "      <th>AVGPRICE</th>\n",
       "      <th>EMI</th>\n",
       "      <th>DEVICECOUNT</th>\n",
       "      <th>PRODUCTAGE</th>\n",
       "      <th>CUSTTYPE</th>\n",
       "    </tr>\n",
       "  </thead>\n",
       "  <tbody>\n",
       "    <tr>\n",
       "      <th>0</th>\n",
       "      <td>A13566</td>\n",
       "      <td>4273.900000</td>\n",
       "      <td>3</td>\n",
       "      <td>6</td>\n",
       "      <td>1.679181</td>\n",
       "      <td>Big-Screen-lover</td>\n",
       "    </tr>\n",
       "    <tr>\n",
       "      <th>27</th>\n",
       "      <td>F17131</td>\n",
       "      <td>3179.708359</td>\n",
       "      <td>3</td>\n",
       "      <td>6</td>\n",
       "      <td>1.100000</td>\n",
       "      <td>Early-bird</td>\n",
       "    </tr>\n",
       "    <tr>\n",
       "      <th>33</th>\n",
       "      <td>G16437</td>\n",
       "      <td>3787.328898</td>\n",
       "      <td>3</td>\n",
       "      <td>6</td>\n",
       "      <td>1.000000</td>\n",
       "      <td>Early-bird</td>\n",
       "    </tr>\n",
       "    <tr>\n",
       "      <th>36</th>\n",
       "      <td>G18402</td>\n",
       "      <td>3402.199381</td>\n",
       "      <td>3</td>\n",
       "      <td>6</td>\n",
       "      <td>1.000000</td>\n",
       "      <td>Early-bird</td>\n",
       "    </tr>\n",
       "    <tr>\n",
       "      <th>40</th>\n",
       "      <td>H16326</td>\n",
       "      <td>3988.935304</td>\n",
       "      <td>3</td>\n",
       "      <td>6</td>\n",
       "      <td>0.900000</td>\n",
       "      <td>Early-bird</td>\n",
       "    </tr>\n",
       "  </tbody>\n",
       "</table>\n",
       "</div>"
      ],
      "text/plain": [
       "    CUSTID     AVGPRICE  EMI  DEVICECOUNT  PRODUCTAGE          CUSTTYPE\n",
       "0   A13566  4273.900000    3            6    1.679181  Big-Screen-lover\n",
       "27  F17131  3179.708359    3            6    1.100000        Early-bird\n",
       "33  G16437  3787.328898    3            6    1.000000        Early-bird\n",
       "36  G18402  3402.199381    3            6    1.000000        Early-bird\n",
       "40  H16326  3988.935304    3            6    0.900000        Early-bird"
      ]
     },
     "execution_count": 22,
     "metadata": {},
     "output_type": "execute_result"
    }
   ],
   "source": [
    "answer01.head()"
   ]
  },
  {
   "cell_type": "code",
   "execution_count": 23,
   "id": "4900efa4-f2f8-4e52-a49f-f111079d489c",
   "metadata": {},
   "outputs": [
    {
     "data": {
      "text/plain": [
       "CUSTID          object\n",
       "AVGPRICE       float64\n",
       "EMI              int64\n",
       "DEVICECOUNT      int64\n",
       "PRODUCTAGE     float64\n",
       "CUSTTYPE        object\n",
       "dtype: object"
      ]
     },
     "execution_count": 23,
     "metadata": {},
     "output_type": "execute_result"
    }
   ],
   "source": [
    "DaFm.dtypes"
   ]
  },
  {
   "cell_type": "code",
   "execution_count": 24,
   "id": "d2f953c9-feab-4973-8ae6-4aee8a63ee25",
   "metadata": {},
   "outputs": [],
   "source": [
    "DaFm = DaFm.astype(\n",
    "    {\"CUSTID\":str,\n",
    "     \"DEVICECOUNT\":float})"
   ]
  },
  {
   "cell_type": "code",
   "execution_count": 25,
   "id": "2adc51cc-3a87-4bb9-8cb4-e9f1a965f233",
   "metadata": {},
   "outputs": [
    {
     "data": {
      "text/plain": [
       "CUSTID          object\n",
       "AVGPRICE       float64\n",
       "EMI              int64\n",
       "DEVICECOUNT    float64\n",
       "PRODUCTAGE     float64\n",
       "CUSTTYPE        object\n",
       "dtype: object"
      ]
     },
     "execution_count": 25,
     "metadata": {},
     "output_type": "execute_result"
    }
   ],
   "source": [
    "DaFm.dtypes"
   ]
  },
  {
   "cell_type": "code",
   "execution_count": 26,
   "id": "22fd6cfd-e7bc-4130-9c38-ca8b5f15a016",
   "metadata": {},
   "outputs": [],
   "source": [
    "customerData = pd.read_csv(\"../../../stdcode6/dataset/customerdata.csv\")"
   ]
  },
  {
   "cell_type": "code",
   "execution_count": 27,
   "id": "37982479-a139-45ac-8478-26b3c57aae4c",
   "metadata": {},
   "outputs": [],
   "source": [
    "emiCondition = [2, 3]"
   ]
  },
  {
   "cell_type": "code",
   "execution_count": 28,
   "id": "4fe10b9a-8b21-408e-8301-1e8813d2df9f",
   "metadata": {},
   "outputs": [],
   "source": [
    "answer1 = customerData.loc[customerData.EMI.isin(emiCondition)]"
   ]
  },
  {
   "cell_type": "code",
   "execution_count": 29,
   "id": "f70a0f0d-63b7-4fe9-be84-5bb654a9bfb8",
   "metadata": {},
   "outputs": [],
   "source": [
    "answer2 = customerData.loc[~customerData.EMI.isin(emiCondition)]"
   ]
  },
  {
   "cell_type": "code",
   "execution_count": 30,
   "id": "61e71b07-02c2-41a6-914f-b780002c4d71",
   "metadata": {},
   "outputs": [
    {
     "data": {
      "text/html": [
       "<div>\n",
       "<style scoped>\n",
       "    .dataframe tbody tr th:only-of-type {\n",
       "        vertical-align: middle;\n",
       "    }\n",
       "\n",
       "    .dataframe tbody tr th {\n",
       "        vertical-align: top;\n",
       "    }\n",
       "\n",
       "    .dataframe thead th {\n",
       "        text-align: right;\n",
       "    }\n",
       "</style>\n",
       "<table border=\"1\" class=\"dataframe\">\n",
       "  <thead>\n",
       "    <tr style=\"text-align: right;\">\n",
       "      <th></th>\n",
       "      <th>CUSTID</th>\n",
       "      <th>AVGPRICE</th>\n",
       "      <th>EMI</th>\n",
       "      <th>DEVICECOUNT</th>\n",
       "      <th>PRODUCTAGE</th>\n",
       "      <th>CUSTTYPE</th>\n",
       "    </tr>\n",
       "  </thead>\n",
       "  <tbody>\n",
       "    <tr>\n",
       "      <th>11</th>\n",
       "      <td>C18622</td>\n",
       "      <td>3246.000000</td>\n",
       "      <td>1</td>\n",
       "      <td>5</td>\n",
       "      <td>1.891624</td>\n",
       "      <td>Big-Screen-lover</td>\n",
       "    </tr>\n",
       "    <tr>\n",
       "      <th>46</th>\n",
       "      <td>I14835</td>\n",
       "      <td>3374.091339</td>\n",
       "      <td>1</td>\n",
       "      <td>4</td>\n",
       "      <td>2.749678</td>\n",
       "      <td>Sleeping-dog</td>\n",
       "    </tr>\n",
       "    <tr>\n",
       "      <th>47</th>\n",
       "      <td>I17056</td>\n",
       "      <td>2963.370122</td>\n",
       "      <td>1</td>\n",
       "      <td>3</td>\n",
       "      <td>2.139196</td>\n",
       "      <td>Sleeping-dog</td>\n",
       "    </tr>\n",
       "    <tr>\n",
       "      <th>56</th>\n",
       "      <td>K10712</td>\n",
       "      <td>3419.462596</td>\n",
       "      <td>1</td>\n",
       "      <td>4</td>\n",
       "      <td>2.825790</td>\n",
       "      <td>Sleeping-dog</td>\n",
       "    </tr>\n",
       "    <tr>\n",
       "      <th>57</th>\n",
       "      <td>K13300</td>\n",
       "      <td>3159.839204</td>\n",
       "      <td>1</td>\n",
       "      <td>3</td>\n",
       "      <td>1.960833</td>\n",
       "      <td>Sleeping-dog</td>\n",
       "    </tr>\n",
       "    <tr>\n",
       "      <th>65</th>\n",
       "      <td>M16452</td>\n",
       "      <td>3353.537290</td>\n",
       "      <td>1</td>\n",
       "      <td>4</td>\n",
       "      <td>1.940357</td>\n",
       "      <td>Sleeping-dog</td>\n",
       "    </tr>\n",
       "    <tr>\n",
       "      <th>68</th>\n",
       "      <td>N14862</td>\n",
       "      <td>2390.083736</td>\n",
       "      <td>1</td>\n",
       "      <td>6</td>\n",
       "      <td>1.000000</td>\n",
       "      <td>Early-bird</td>\n",
       "    </tr>\n",
       "    <tr>\n",
       "      <th>72</th>\n",
       "      <td>O13037</td>\n",
       "      <td>3398.216334</td>\n",
       "      <td>1</td>\n",
       "      <td>4</td>\n",
       "      <td>2.994395</td>\n",
       "      <td>Sleeping-dog</td>\n",
       "    </tr>\n",
       "    <tr>\n",
       "      <th>73</th>\n",
       "      <td>O13586</td>\n",
       "      <td>2980.229239</td>\n",
       "      <td>1</td>\n",
       "      <td>3</td>\n",
       "      <td>2.038603</td>\n",
       "      <td>Sleeping-dog</td>\n",
       "    </tr>\n",
       "    <tr>\n",
       "      <th>86</th>\n",
       "      <td>Q16449</td>\n",
       "      <td>3048.308860</td>\n",
       "      <td>1</td>\n",
       "      <td>3</td>\n",
       "      <td>2.369758</td>\n",
       "      <td>Sleeping-dog</td>\n",
       "    </tr>\n",
       "    <tr>\n",
       "      <th>140</th>\n",
       "      <td>Y12458</td>\n",
       "      <td>2976.211190</td>\n",
       "      <td>1</td>\n",
       "      <td>3</td>\n",
       "      <td>2.199677</td>\n",
       "      <td>Sleeping-dog</td>\n",
       "    </tr>\n",
       "  </tbody>\n",
       "</table>\n",
       "</div>"
      ],
      "text/plain": [
       "     CUSTID     AVGPRICE  EMI  DEVICECOUNT  PRODUCTAGE          CUSTTYPE\n",
       "11   C18622  3246.000000    1            5    1.891624  Big-Screen-lover\n",
       "46   I14835  3374.091339    1            4    2.749678      Sleeping-dog\n",
       "47   I17056  2963.370122    1            3    2.139196      Sleeping-dog\n",
       "56   K10712  3419.462596    1            4    2.825790      Sleeping-dog\n",
       "57   K13300  3159.839204    1            3    1.960833      Sleeping-dog\n",
       "65   M16452  3353.537290    1            4    1.940357      Sleeping-dog\n",
       "68   N14862  2390.083736    1            6    1.000000        Early-bird\n",
       "72   O13037  3398.216334    1            4    2.994395      Sleeping-dog\n",
       "73   O13586  2980.229239    1            3    2.038603      Sleeping-dog\n",
       "86   Q16449  3048.308860    1            3    2.369758      Sleeping-dog\n",
       "140  Y12458  2976.211190    1            3    2.199677      Sleeping-dog"
      ]
     },
     "execution_count": 30,
     "metadata": {},
     "output_type": "execute_result"
    }
   ],
   "source": [
    "answer2"
   ]
  },
  {
   "cell_type": "code",
   "execution_count": 31,
   "id": "4b3b40e4-e4bf-4fd5-b295-a7d467e86a9a",
   "metadata": {},
   "outputs": [
    {
     "data": {
      "text/html": [
       "<div>\n",
       "<style scoped>\n",
       "    .dataframe tbody tr th:only-of-type {\n",
       "        vertical-align: middle;\n",
       "    }\n",
       "\n",
       "    .dataframe tbody tr th {\n",
       "        vertical-align: top;\n",
       "    }\n",
       "\n",
       "    .dataframe thead th {\n",
       "        text-align: right;\n",
       "    }\n",
       "</style>\n",
       "<table border=\"1\" class=\"dataframe\">\n",
       "  <thead>\n",
       "    <tr style=\"text-align: right;\">\n",
       "      <th></th>\n",
       "      <th>CUSTID</th>\n",
       "      <th>AVGPRICE</th>\n",
       "      <th>EMI</th>\n",
       "      <th>DEVICECOUNT</th>\n",
       "      <th>PRODUCTAGE</th>\n",
       "      <th>CUSTTYPE</th>\n",
       "    </tr>\n",
       "  </thead>\n",
       "  <tbody>\n",
       "    <tr>\n",
       "      <th>0</th>\n",
       "      <td>A13566</td>\n",
       "      <td>4273.900000</td>\n",
       "      <td>3</td>\n",
       "      <td>6</td>\n",
       "      <td>1.679181</td>\n",
       "      <td>Big-Screen-lover</td>\n",
       "    </tr>\n",
       "    <tr>\n",
       "      <th>1</th>\n",
       "      <td>A14219</td>\n",
       "      <td>3642.441950</td>\n",
       "      <td>2</td>\n",
       "      <td>4</td>\n",
       "      <td>2.682023</td>\n",
       "      <td>Sleeping-dog</td>\n",
       "    </tr>\n",
       "    <tr>\n",
       "      <th>2</th>\n",
       "      <td>A15312</td>\n",
       "      <td>3653.884565</td>\n",
       "      <td>2</td>\n",
       "      <td>5</td>\n",
       "      <td>3.208202</td>\n",
       "      <td>Sleeping-dog</td>\n",
       "    </tr>\n",
       "    <tr>\n",
       "      <th>3</th>\n",
       "      <td>A16605</td>\n",
       "      <td>3713.211107</td>\n",
       "      <td>2</td>\n",
       "      <td>6</td>\n",
       "      <td>0.900000</td>\n",
       "      <td>Early-bird</td>\n",
       "    </tr>\n",
       "    <tr>\n",
       "      <th>4</th>\n",
       "      <td>B10634</td>\n",
       "      <td>3391.074215</td>\n",
       "      <td>2</td>\n",
       "      <td>4</td>\n",
       "      <td>2.453656</td>\n",
       "      <td>Sleeping-dog</td>\n",
       "    </tr>\n",
       "    <tr>\n",
       "      <th>...</th>\n",
       "      <td>...</td>\n",
       "      <td>...</td>\n",
       "      <td>...</td>\n",
       "      <td>...</td>\n",
       "      <td>...</td>\n",
       "      <td>...</td>\n",
       "    </tr>\n",
       "    <tr>\n",
       "      <th>145</th>\n",
       "      <td>Z13253</td>\n",
       "      <td>3678.800000</td>\n",
       "      <td>2</td>\n",
       "      <td>5</td>\n",
       "      <td>2.463670</td>\n",
       "      <td>Big-Screen-lover</td>\n",
       "    </tr>\n",
       "    <tr>\n",
       "      <th>146</th>\n",
       "      <td>Z13534</td>\n",
       "      <td>3662.437527</td>\n",
       "      <td>3</td>\n",
       "      <td>6</td>\n",
       "      <td>0.900000</td>\n",
       "      <td>Early-bird</td>\n",
       "    </tr>\n",
       "    <tr>\n",
       "      <th>147</th>\n",
       "      <td>Z16428</td>\n",
       "      <td>3516.500000</td>\n",
       "      <td>2</td>\n",
       "      <td>5</td>\n",
       "      <td>2.371301</td>\n",
       "      <td>Big-Screen-lover</td>\n",
       "    </tr>\n",
       "    <tr>\n",
       "      <th>148</th>\n",
       "      <td>Z16735</td>\n",
       "      <td>3300.100000</td>\n",
       "      <td>2</td>\n",
       "      <td>5</td>\n",
       "      <td>1.704942</td>\n",
       "      <td>Big-Screen-lover</td>\n",
       "    </tr>\n",
       "    <tr>\n",
       "      <th>149</th>\n",
       "      <td>Z19835</td>\n",
       "      <td>3326.526183</td>\n",
       "      <td>2</td>\n",
       "      <td>6</td>\n",
       "      <td>1.200000</td>\n",
       "      <td>Early-bird</td>\n",
       "    </tr>\n",
       "  </tbody>\n",
       "</table>\n",
       "<p>139 rows × 6 columns</p>\n",
       "</div>"
      ],
      "text/plain": [
       "     CUSTID     AVGPRICE  EMI  DEVICECOUNT  PRODUCTAGE          CUSTTYPE\n",
       "0    A13566  4273.900000    3            6    1.679181  Big-Screen-lover\n",
       "1    A14219  3642.441950    2            4    2.682023      Sleeping-dog\n",
       "2    A15312  3653.884565    2            5    3.208202      Sleeping-dog\n",
       "3    A16605  3713.211107    2            6    0.900000        Early-bird\n",
       "4    B10634  3391.074215    2            4    2.453656      Sleeping-dog\n",
       "..      ...          ...  ...          ...         ...               ...\n",
       "145  Z13253  3678.800000    2            5    2.463670  Big-Screen-lover\n",
       "146  Z13534  3662.437527    3            6    0.900000        Early-bird\n",
       "147  Z16428  3516.500000    2            5    2.371301  Big-Screen-lover\n",
       "148  Z16735  3300.100000    2            5    1.704942  Big-Screen-lover\n",
       "149  Z19835  3326.526183    2            6    1.200000        Early-bird\n",
       "\n",
       "[139 rows x 6 columns]"
      ]
     },
     "execution_count": 31,
     "metadata": {},
     "output_type": "execute_result"
    }
   ],
   "source": [
    "answer1"
   ]
  },
  {
   "cell_type": "code",
   "execution_count": 32,
   "id": "f6614f67-7cbc-45c5-924f-2214bed0206d",
   "metadata": {},
   "outputs": [],
   "source": [
    "specificindex = [1, 3]"
   ]
  },
  {
   "cell_type": "code",
   "execution_count": null,
   "id": "6e1b28df-abe1-4502-8d6d-3144aa3884ad",
   "metadata": {},
   "outputs": [],
   "source": []
  }
 ],
 "metadata": {
  "kernelspec": {
   "display_name": "Python 3 (ipykernel)",
   "language": "python",
   "name": "python3"
  },
  "language_info": {
   "codemirror_mode": {
    "name": "ipython",
    "version": 3
   },
   "file_extension": ".py",
   "mimetype": "text/x-python",
   "name": "python",
   "nbconvert_exporter": "python",
   "pygments_lexer": "ipython3",
   "version": "3.9.13"
  }
 },
 "nbformat": 4,
 "nbformat_minor": 5
}
