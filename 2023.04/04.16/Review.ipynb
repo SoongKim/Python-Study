{
 "cells": [
  {
   "cell_type": "code",
   "execution_count": 1,
   "id": "373208c8-a05c-4c01-b80e-4f0915d4d676",
   "metadata": {},
   "outputs": [],
   "source": [
    "import numpy as np"
   ]
  },
  {
   "cell_type": "code",
   "execution_count": 2,
   "id": "1feea100-ad78-4471-8a65-dafe68a74382",
   "metadata": {},
   "outputs": [
    {
     "data": {
      "text/plain": [
       "array([  1.        ,   6.21052632,  11.42105263,  16.63157895,\n",
       "        21.84210526,  27.05263158,  32.26315789,  37.47368421,\n",
       "        42.68421053,  47.89473684,  53.10526316,  58.31578947,\n",
       "        63.52631579,  68.73684211,  73.94736842,  79.15789474,\n",
       "        84.36842105,  89.57894737,  94.78947368, 100.        ])"
      ]
     },
     "execution_count": 2,
     "metadata": {},
     "output_type": "execute_result"
    }
   ],
   "source": [
    "np.linspace(start=1, stop=100, num=20)"
   ]
  },
  {
   "cell_type": "code",
   "execution_count": 3,
   "id": "d637d0e1-0a91-47f7-b5f9-96ee9bae9bcd",
   "metadata": {},
   "outputs": [],
   "source": [
    "import pandas as pd"
   ]
  },
  {
   "cell_type": "code",
   "execution_count": 7,
   "id": "68a6f341-182d-482b-9c20-034f4288b1db",
   "metadata": {},
   "outputs": [],
   "source": [
    "data = {\"name\":[\"A고객\", \"B고객\", \"C고객\", \"D고객\"],\n",
    "        \"age\" : [27, 40, 33, 29],\n",
    "        \"stock_age\" : [2, 10, 5, 1]}"
   ]
  },
  {
   "cell_type": "code",
   "execution_count": 8,
   "id": "fec30c97-2f3d-4859-9020-14a166ef67a9",
   "metadata": {},
   "outputs": [],
   "source": [
    "dataFrame = pd.DataFrame(data)"
   ]
  },
  {
   "cell_type": "code",
   "execution_count": 9,
   "id": "daf3e778-df35-4f9d-ad6a-4ac497860ac2",
   "metadata": {},
   "outputs": [
    {
     "data": {
      "text/html": [
       "<div>\n",
       "<style scoped>\n",
       "    .dataframe tbody tr th:only-of-type {\n",
       "        vertical-align: middle;\n",
       "    }\n",
       "\n",
       "    .dataframe tbody tr th {\n",
       "        vertical-align: top;\n",
       "    }\n",
       "\n",
       "    .dataframe thead th {\n",
       "        text-align: right;\n",
       "    }\n",
       "</style>\n",
       "<table border=\"1\" class=\"dataframe\">\n",
       "  <thead>\n",
       "    <tr style=\"text-align: right;\">\n",
       "      <th></th>\n",
       "      <th>name</th>\n",
       "      <th>age</th>\n",
       "      <th>stock_age</th>\n",
       "    </tr>\n",
       "  </thead>\n",
       "  <tbody>\n",
       "    <tr>\n",
       "      <th>0</th>\n",
       "      <td>A고객</td>\n",
       "      <td>27</td>\n",
       "      <td>2</td>\n",
       "    </tr>\n",
       "    <tr>\n",
       "      <th>1</th>\n",
       "      <td>B고객</td>\n",
       "      <td>40</td>\n",
       "      <td>10</td>\n",
       "    </tr>\n",
       "    <tr>\n",
       "      <th>2</th>\n",
       "      <td>C고객</td>\n",
       "      <td>33</td>\n",
       "      <td>5</td>\n",
       "    </tr>\n",
       "    <tr>\n",
       "      <th>3</th>\n",
       "      <td>D고객</td>\n",
       "      <td>29</td>\n",
       "      <td>1</td>\n",
       "    </tr>\n",
       "  </tbody>\n",
       "</table>\n",
       "</div>"
      ],
      "text/plain": [
       "  name  age  stock_age\n",
       "0  A고객   27          2\n",
       "1  B고객   40         10\n",
       "2  C고객   33          5\n",
       "3  D고객   29          1"
      ]
     },
     "execution_count": 9,
     "metadata": {},
     "output_type": "execute_result"
    }
   ],
   "source": [
    "dataFrame"
   ]
  },
  {
   "cell_type": "code",
   "execution_count": 10,
   "id": "1cd28258-7d0e-42c7-b3b9-64cf6b97b1bd",
   "metadata": {},
   "outputs": [],
   "source": [
    "import warnings\n",
    "warnings.filterwarnings(action=\"ignore\")"
   ]
  },
  {
   "cell_type": "code",
   "execution_count": 11,
   "id": "9716fa42-1d1f-4dfa-998c-8651b4c0d0c1",
   "metadata": {},
   "outputs": [],
   "source": [
    "import matplotlib.pyplot as plt\n",
    "%matplotlib inline"
   ]
  },
  {
   "cell_type": "code",
   "execution_count": 12,
   "id": "8587f57e-24b1-4ccb-bc31-658d9a2e42f0",
   "metadata": {},
   "outputs": [
    {
     "data": {
      "text/plain": [
       "Text(0.5, 1.0, 'chart')"
      ]
     },
     "execution_count": 12,
     "metadata": {},
     "output_type": "execute_result"
    },
    {
     "data": {
      "image/png": "[encoded data removed]",
      "text/plain": [
       "<Figure size 640x480 with 1 Axes>"
      ]
     },
     "metadata": {},
     "output_type": "display_data"
    }
   ],
   "source": [
    "import numpy as np\n",
    "x = np.linspace(start=1, stop = 5, num = 5)\n",
    "y = [100, 150, 130, 200, 180]\n",
    "plt.plot(x, y)\n",
    "plt.title(\"chart\")\n",
    "\n",
    "# linspace를 통해 선형 그래프를 그린다.\n",
    "# x, y축을 지정해주고 대상으로 지정, 차트를 그린다?"
   ]
  },
  {
   "cell_type": "code",
   "execution_count": null,
   "id": "2f2e4f73-8179-4a0f-a081-0df2500b3a6a",
   "metadata": {},
   "outputs": [],
   "source": []
  },
  {
   "cell_type": "code",
   "execution_count": null,
   "id": "325601db-6e75-4858-9b27-5edef61e8baf",
   "metadata": {},
   "outputs": [],
   "source": [
    " # 모든 리스트에 preFix 붙이기"
   ]
  },
  {
   "cell_type": "code",
   "execution_count": 14,
   "id": "4bee2246-cdae-4a98-84ab-073b014a813a",
   "metadata": {},
   "outputs": [],
   "source": [
    "tvList = [\"UN40EN001\", \"UN40EN002\", \"UN40EN003\", \"UN40EN004\"]"
   ]
  },
  {
   "cell_type": "code",
   "execution_count": 16,
   "id": "5eb9ecbb-a0c7-4bc2-b723-ea00928257f8",
   "metadata": {},
   "outputs": [],
   "source": [
    "preFix = \"LED_TV\""
   ]
  },
  {
   "cell_type": "code",
   "execution_count": 21,
   "id": "1ff3ea2f-dcd7-40b5-b4a1-edad927d3fc7",
   "metadata": {},
   "outputs": [],
   "source": [
    "for i in range(0, len(tvList)):\n",
    "    try:\n",
    "        tvList[i] = preFix + tvList[i]\n",
    "    except Exception as e:\n",
    "        print(e)"
   ]
  },
  {
   "cell_type": "code",
   "execution_count": 22,
   "id": "8c110da9-d998-4d3f-92f3-3708b6cd0580",
   "metadata": {},
   "outputs": [
    {
     "data": {
      "text/plain": [
       "['LED_TVUN40EN001', 'LED_TVUN40EN002', 'LED_TVUN40EN003', 'LED_TVUN40EN004']"
      ]
     },
     "execution_count": 22,
     "metadata": {},
     "output_type": "execute_result"
    }
   ],
   "source": [
    "tvList"
   ]
  },
  {
   "cell_type": "code",
   "execution_count": null,
   "id": "270ac6cb-e448-4bb7-829e-a7b628fa012d",
   "metadata": {},
   "outputs": [],
   "source": [
    "# while문과 친해지기"
   ]
  },
  {
   "cell_type": "code",
   "execution_count": null,
   "id": "020c151a-8332-4eb5-803a-98393914c3ce",
   "metadata": {},
   "outputs": [],
   "source": [
    "tvList2 = [\"UN40EN001\", \"UN40EN002\", \"UN40EN003\", \"UN40EN004\"]"
   ]
  },
  {
   "cell_type": "code",
   "execution_count": null,
   "id": "c56686e2-c17a-49ea-b584-848c1c8e5909",
   "metadata": {},
   "outputs": [],
   "source": [
    "preFix2 = \"LED_TV_\""
   ]
  },
  {
   "cell_type": "code",
   "execution_count": null,
   "id": "93ac45db-c850-460e-9755-eda4711c2874",
   "metadata": {},
   "outputs": [],
   "source": [
    "i = 0\n",
    "lenTvList2 = len(tvList2)\n",
    "while(i < lenTvList2):\n",
    "    tvList2[i] = preFix2 + tvList2[i]"
   ]
  },
  {
   "cell_type": "code",
   "execution_count": null,
   "id": "6d60983e-57a0-4d07-8c24-13b53dac7ccb",
   "metadata": {},
   "outputs": [],
   "source": [
    "# tvList2"
   ]
  },
  {
   "cell_type": "code",
   "execution_count": null,
   "id": "8a05c001-507a-40ab-946f-3700b840010f",
   "metadata": {},
   "outputs": [],
   "source": [
    "# 왜인지 모르겠지만 커널 오류 발생. 천천히 나중에 다시 풀어보자"
   ]
  },
  {
   "cell_type": "code",
   "execution_count": 2,
   "id": "0944beae-32a2-477a-8366-2b6b004812c9",
   "metadata": {},
   "outputs": [],
   "source": [
    "tvList3 = [ 'UN40EN001', 'UN40EN002', 'UN40EN003', 'UN40EN004']"
   ]
  },
  {
   "cell_type": "code",
   "execution_count": 4,
   "id": "8061cfa0-f242-4a02-9029-9d96383db62c",
   "metadata": {},
   "outputs": [],
   "source": [
    "preFix = \"LEDTV_\""
   ]
  },
  {
   "cell_type": "code",
   "execution_count": 5,
   "id": "84eb0218-e666-4ac1-aa0b-0b0043d33231",
   "metadata": {},
   "outputs": [],
   "source": [
    "for i in range(0, len(tvList3)):\n",
    "    tvList3[i] = preFix + tvList3[i]"
   ]
  },
  {
   "cell_type": "code",
   "execution_count": 6,
   "id": "c4acc4e2-5beb-4962-9cd7-147e95b5b4ea",
   "metadata": {},
   "outputs": [
    {
     "data": {
      "text/plain": [
       "['LEDTV_UN40EN001', 'LEDTV_UN40EN002', 'LEDTV_UN40EN003', 'LEDTV_UN40EN004']"
      ]
     },
     "execution_count": 6,
     "metadata": {},
     "output_type": "execute_result"
    }
   ],
   "source": [
    "tvList3"
   ]
  },
  {
   "cell_type": "code",
   "execution_count": 7,
   "id": "02a29fee-9deb-4ed7-9961-7b9a56e7df43",
   "metadata": {},
   "outputs": [],
   "source": [
    "testModel = \"UN40EN001\"\n",
    "preFix = \"LEDTV_\"\n",
    "\n",
    "if testModel.count(preFix) == 0:\n",
    "    testModel = preFix + testModel\n",
    "else:\n",
    "    pass"
   ]
  },
  {
   "cell_type": "code",
   "execution_count": 8,
   "id": "331d1726-96e6-4be1-a646-7423008dc5da",
   "metadata": {},
   "outputs": [
    {
     "data": {
      "text/plain": [
       "'LEDTV_UN40EN001'"
      ]
     },
     "execution_count": 8,
     "metadata": {},
     "output_type": "execute_result"
    }
   ],
   "source": [
    "testModel"
   ]
  },
  {
   "cell_type": "code",
   "execution_count": 2,
   "id": "51d4137c-6a2e-4694-ab11-05e0168b5f09",
   "metadata": {},
   "outputs": [],
   "source": [
    "tvList2 = [ 'UN40EN001', 'LEDTV_UN40EN002', 'LEDTV_LEDTV_UN40EN003', 'UN40EN004'] \n",
    "           # 리스트에서 LEDTV_가 한 개만 앞에 붙도록 하세요"
   ]
  },
  {
   "cell_type": "code",
   "execution_count": 3,
   "id": "3826d116-7a87-41ee-82f3-f9da42674da2",
   "metadata": {},
   "outputs": [],
   "source": [
    "preFix = \"LEDTV_\""
   ]
  },
  {
   "cell_type": "code",
   "execution_count": null,
   "id": "e315957a-afb1-4845-8187-7a778788a529",
   "metadata": {},
   "outputs": [],
   "source": [
    "i = 0\n",
    "lenTvList2 = len(tvList2)\n",
    "while (i < lenTvList2):\n",
    "    if(tvList2[i].count(preFix) > 1):\n",
    "       tvList2[i] = tvList2[i].replace(preFix, \"\")\n",
    "       tvList2[i] = preFix + tvList2[i]\n",
    "    elif(tvList2[i].count(preFix) == 1):\n",
    "         tvList2[i] = tvList2[i]\n",
    "    elif(tvList2[i].count(preFix) < 1):\n",
    "         tvList2[i] = preFix + tvList2[i]"
   ]
  },
  {
   "cell_type": "code",
   "execution_count": null,
   "id": "aa35f8ed-8905-4605-8150-3d16685d95bf",
   "metadata": {},
   "outputs": [],
   "source": [
    "tvList2"
   ]
  }
 ],
 "metadata": {
  "kernelspec": {
   "display_name": "Python 3 (ipykernel)",
   "language": "python",
   "name": "python3"
  },
  "language_info": {
   "codemirror_mode": {
    "name": "ipython",
    "version": 3
   },
   "file_extension": ".py",
   "mimetype": "text/x-python",
   "name": "python",
   "nbconvert_exporter": "python",
   "pygments_lexer": "ipython3",
   "version": "3.9.13"
  }
 },
 "nbformat": 4,
 "nbformat_minor": 5
}
