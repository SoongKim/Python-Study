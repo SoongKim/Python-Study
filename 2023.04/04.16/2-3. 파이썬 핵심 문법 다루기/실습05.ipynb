{
 "cells": [
  {
   "cell_type": "markdown",
   "id": "e3548841-817c-4a71-88e8-b545fee9352e",
   "metadata": {},
   "source": [
    "tvList2 = [ 'UN40EN001', 'LEDTV_UN40EN002',\n",
    "'LEDTV_LEDTV_UN40EN003’, ‘ledtv_UN40EN004’]\n",
    "리스트에서 LEDTV_가 한 개만 앞에 붙도록 하세요\n",
    "(* 대소문자 구분없이 전부 처리!)"
   ]
  },
  {
   "cell_type": "code",
   "execution_count": 1,
   "id": "5e0019c6-fe3a-4157-80db-f92b64f7f5a7",
   "metadata": {},
   "outputs": [],
   "source": [
    "tvList2 = [\"UN40EN001\", \"LEDTV_UN40EN002\", \\\n",
    "           \"LEDTV_LEDTV_UN40EN003\", \"ledtv_UN40EN002\"]"
   ]
  },
  {
   "cell_type": "code",
   "execution_count": 2,
   "id": "9c5e6640-c4bd-4f9f-95dd-e5a673cc43d6",
   "metadata": {},
   "outputs": [],
   "source": [
    "for i in range(0, len(tvList2)):\n",
    "    tvList2[i] = tvList2[i].upper()"
   ]
  },
  {
   "cell_type": "code",
   "execution_count": 3,
   "id": "daeb8a8c-2b46-4f3b-a43d-90c052bc19cd",
   "metadata": {},
   "outputs": [
    {
     "data": {
      "text/plain": [
       "['UN40EN001', 'LEDTV_UN40EN002', 'LEDTV_LEDTV_UN40EN003', 'LEDTV_UN40EN002']"
      ]
     },
     "execution_count": 3,
     "metadata": {},
     "output_type": "execute_result"
    }
   ],
   "source": [
    "tvList2"
   ]
  },
  {
   "cell_type": "code",
   "execution_count": 4,
   "id": "30afc58c-e5d4-4d05-a36f-c4b11db2107f",
   "metadata": {},
   "outputs": [],
   "source": [
    "preFix = \"LEDTV_\""
   ]
  },
  {
   "cell_type": "code",
   "execution_count": 5,
   "id": "d74c1b10-588e-4ed5-be71-fc02aadbe229",
   "metadata": {},
   "outputs": [],
   "source": [
    "for i in range(0, len(tvList2)):\n",
    "    if(tvList2[i].count(preFix) > 1):\n",
    "        tvList2[i] = tvList2[i].replace(preFix, \"\")\n",
    "        tvList2[i] = preFix + tvList2[i]\n",
    "    elif(tvList2[i].count(preFix) == 1):\n",
    "        pass\n",
    "    else:\n",
    "        tvList2[i] = preFix + tvList2[i]"
   ]
  },
  {
   "cell_type": "code",
   "execution_count": 6,
   "id": "1366d68d-e222-4f68-bba5-4b73f1613694",
   "metadata": {},
   "outputs": [
    {
     "data": {
      "text/plain": [
       "['LEDTV_UN40EN001', 'LEDTV_UN40EN002', 'LEDTV_UN40EN003', 'LEDTV_UN40EN002']"
      ]
     },
     "execution_count": 6,
     "metadata": {},
     "output_type": "execute_result"
    }
   ],
   "source": [
    "tvList2"
   ]
  }
 ],
 "metadata": {
  "kernelspec": {
   "display_name": "Python 3 (ipykernel)",
   "language": "python",
   "name": "python3"
  },
  "language_info": {
   "codemirror_mode": {
    "name": "ipython",
    "version": 3
   },
   "file_extension": ".py",
   "mimetype": "text/x-python",
   "name": "python",
   "nbconvert_exporter": "python",
   "pygments_lexer": "ipython3",
   "version": "3.9.13"
  }
 },
 "nbformat": 4,
 "nbformat_minor": 5
}
