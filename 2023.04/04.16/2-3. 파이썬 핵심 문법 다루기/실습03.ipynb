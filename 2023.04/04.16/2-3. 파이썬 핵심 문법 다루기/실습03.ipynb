{
 "cells": [
  {
   "cell_type": "markdown",
   "id": "12f54f47-bba7-4f72-a3ca-9f30983e3e6e",
   "metadata": {},
   "source": [
    "nationList [‘A01’ , ‘한국’ , ‘A02’ , ‘미국’ , ‘A03’ , ‘프랑스’]\n",
    "국가코드만 출력하세요"
   ]
  },
  {
   "cell_type": "code",
   "execution_count": 2,
   "id": "94db92b5-48f0-47be-a6f1-f6e45ace3c24",
   "metadata": {},
   "outputs": [],
   "source": [
    "nationList = ['A01' , '한국' , 'A02' , '미국' , 'A03' , '프랑스']"
   ]
  },
  {
   "cell_type": "code",
   "execution_count": 3,
   "id": "77e31fa4-60fc-4d27-abfd-fb75b293ece6",
   "metadata": {},
   "outputs": [
    {
     "data": {
      "text/plain": [
       "['A01', '한국', 'A02', '미국', 'A03', '프랑스']"
      ]
     },
     "execution_count": 3,
     "metadata": {},
     "output_type": "execute_result"
    }
   ],
   "source": [
    "nationList"
   ]
  },
  {
   "cell_type": "code",
   "execution_count": 5,
   "id": "3930cfcf-db9e-44dd-870b-ad11fabf12e5",
   "metadata": {},
   "outputs": [
    {
     "name": "stdout",
     "output_type": "stream",
     "text": [
      "A01\n",
      "A02\n",
      "A03\n"
     ]
    }
   ],
   "source": [
    "i = 0\n",
    "targetNum = len(nationList)\n",
    "while(i < targetNum):\n",
    "    if(i % 2 == 0):\n",
    "        print(nationList[i])\n",
    "    else:\n",
    "        pass\n",
    "    i = i+1"
   ]
  },
  {
   "cell_type": "code",
   "execution_count": null,
   "id": "2a71304b-2844-4613-ac1c-b737009181c0",
   "metadata": {},
   "outputs": [],
   "source": [
    "# 이번에는 for 문으로 풀어보자"
   ]
  },
  {
   "cell_type": "code",
   "execution_count": 6,
   "id": "be75724b-90ab-470e-ac38-47b49ba0302e",
   "metadata": {},
   "outputs": [
    {
     "name": "stdout",
     "output_type": "stream",
     "text": [
      "A01\n",
      "A02\n",
      "A03\n"
     ]
    }
   ],
   "source": [
    "for i in range(0, len(nationList)):\n",
    "    if(i % 2 == 0):\n",
    "        print(nationList[i])\n",
    "    else:\n",
    "        pass"
   ]
  }
 ],
 "metadata": {
  "kernelspec": {
   "display_name": "Python 3 (ipykernel)",
   "language": "python",
   "name": "python3"
  },
  "language_info": {
   "codemirror_mode": {
    "name": "ipython",
    "version": 3
   },
   "file_extension": ".py",
   "mimetype": "text/x-python",
   "name": "python",
   "nbconvert_exporter": "python",
   "pygments_lexer": "ipython3",
   "version": "3.9.13"
  }
 },
 "nbformat": 4,
 "nbformat_minor": 5
}
