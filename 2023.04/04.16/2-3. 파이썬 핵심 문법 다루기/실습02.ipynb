{
 "cells": [
  {
   "cell_type": "markdown",
   "id": "358c3303-e565-4d08-9624-096f697f315a",
   "metadata": {},
   "source": [
    "tvList2 = [ 'UN40EN001', 'LEDTV_UN40EN002',\n",
    "'LEDTV_LEDTV_UN40EN003’, ‘UN40EN004’]\n",
    "리스트에서 LEDTV_가 한 개만 앞에 붙도록 하세요\n",
    "(* 대소문자 구분없이 전부 처리!)"
   ]
  },
  {
   "cell_type": "code",
   "execution_count": 15,
   "id": "5b561d18-1540-4f80-ba8c-b8ad51339e0a",
   "metadata": {},
   "outputs": [],
   "source": [
    "tvList2 = [ 'UN40EN001', 'LEDTV_UN40EN002',\n",
    "'LEDTV_LEDTV_UN40EN003', 'UN40EN004']"
   ]
  },
  {
   "cell_type": "code",
   "execution_count": 16,
   "id": "b8ebd919-3253-4df1-a234-f99f5281b1e7",
   "metadata": {},
   "outputs": [],
   "source": [
    "preFix = \"LEDTV_\""
   ]
  },
  {
   "cell_type": "code",
   "execution_count": 17,
   "id": "936e4999-a409-42b5-a2e2-0b65fda6d1b9",
   "metadata": {},
   "outputs": [],
   "source": [
    "for i in range(0, len(tvList2)):\n",
    "    if(tvList2[i].count(preFix) > 1):\n",
    "        tvList2[i] = tvList2[i].replace(preFix, \"\")\n",
    "        tvList2[i] = preFix + tvList2[i]\n",
    "    elif(tvList2[i].count(preFix) == 1):\n",
    "        tvList2[i] = tvList2[i]\n",
    "    else:\n",
    "        tvList2[i] = preFix + tvList2[i]"
   ]
  },
  {
   "cell_type": "code",
   "execution_count": 18,
   "id": "2eb1eddf-bb37-470e-8371-71078df6f589",
   "metadata": {},
   "outputs": [
    {
     "data": {
      "text/plain": [
       "['LEDTV_UN40EN001', 'LEDTV_UN40EN002', 'LEDTV_UN40EN003', 'LEDTV_UN40EN004']"
      ]
     },
     "execution_count": 18,
     "metadata": {},
     "output_type": "execute_result"
    }
   ],
   "source": [
    "tvList2"
   ]
  }
 ],
 "metadata": {
  "kernelspec": {
   "display_name": "Python 3 (ipykernel)",
   "language": "python",
   "name": "python3"
  },
  "language_info": {
   "codemirror_mode": {
    "name": "ipython",
    "version": 3
   },
   "file_extension": ".py",
   "mimetype": "text/x-python",
   "name": "python",
   "nbconvert_exporter": "python",
   "pygments_lexer": "ipython3",
   "version": "3.9.13"
  }
 },
 "nbformat": 4,
 "nbformat_minor": 5
}
