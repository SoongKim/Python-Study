{
 "cells": [
  {
   "cell_type": "code",
   "execution_count": 1,
   "id": "dd888ba8-ce7d-4373-8678-93d7688cbf44",
   "metadata": {},
   "outputs": [],
   "source": [
    "integer_value = 123\n",
    "float_value = 12.456"
   ]
  },
  {
   "cell_type": "code",
   "execution_count": 2,
   "id": "eafb31a5-eb25-484a-ae88-b1d9dac0e762",
   "metadata": {},
   "outputs": [],
   "source": [
    "sumation = integer_value + float_value"
   ]
  },
  {
   "cell_type": "code",
   "execution_count": 4,
   "id": "47252d26-ac34-4688-b2f4-e0e91c893fe8",
   "metadata": {},
   "outputs": [
    {
     "data": {
      "text/plain": [
       "float"
      ]
     },
     "execution_count": 4,
     "metadata": {},
     "output_type": "execute_result"
    }
   ],
   "source": [
    "type(sumation)"
   ]
  },
  {
   "cell_type": "code",
   "execution_count": null,
   "id": "ed7668ee-a849-47f2-9e34-017831150884",
   "metadata": {},
   "outputs": [],
   "source": [
    "# integer + float = float value로 산출된다."
   ]
  },
  {
   "cell_type": "code",
   "execution_count": 5,
   "id": "4d32aebe-fd7c-45af-8dbd-ee237ed8e138",
   "metadata": {},
   "outputs": [],
   "source": [
    "String01 = \"This is 'string' value\""
   ]
  },
  {
   "cell_type": "code",
   "execution_count": 6,
   "id": "e9ac083c-9cc5-4c9b-8c7a-6c3c2e08ee90",
   "metadata": {},
   "outputs": [
    {
     "data": {
      "text/plain": [
       "\"This is 'string' value\""
      ]
     },
     "execution_count": 6,
     "metadata": {},
     "output_type": "execute_result"
    }
   ],
   "source": [
    "String01"
   ]
  },
  {
   "cell_type": "code",
   "execution_count": 7,
   "id": "b9216c3a-5846-468c-bef3-75d2b0623a23",
   "metadata": {},
   "outputs": [],
   "source": [
    "String02 = 'This is \"string\" value'"
   ]
  },
  {
   "cell_type": "code",
   "execution_count": 8,
   "id": "03dea01a-d452-4f28-9c06-57b21205abaf",
   "metadata": {},
   "outputs": [
    {
     "data": {
      "text/plain": [
       "'This is \"string\" value'"
      ]
     },
     "execution_count": 8,
     "metadata": {},
     "output_type": "execute_result"
    }
   ],
   "source": [
    "String02"
   ]
  },
  {
   "cell_type": "code",
   "execution_count": 9,
   "id": "b4d7a4ef-dae8-4ba8-ac63-33a890a301c7",
   "metadata": {},
   "outputs": [],
   "source": [
    "String03 = \"\"\"This is 'String' value\"\"\""
   ]
  },
  {
   "cell_type": "code",
   "execution_count": 10,
   "id": "9e16dc20-f9f6-4c66-8591-fa3b1ace983b",
   "metadata": {},
   "outputs": [
    {
     "data": {
      "text/plain": [
       "\"This is 'String' value\""
      ]
     },
     "execution_count": 10,
     "metadata": {},
     "output_type": "execute_result"
    }
   ],
   "source": [
    "String03"
   ]
  },
  {
   "cell_type": "code",
   "execution_count": null,
   "id": "3c9d62dd-5bf3-4892-8b99-393c73961ca6",
   "metadata": {},
   "outputs": [],
   "source": [
    "# 01과 03 사이에는 무슨 차이점이 있나요?"
   ]
  },
  {
   "cell_type": "code",
   "execution_count": 12,
   "id": "1daf1c00-2783-4f22-bf5b-0c4478078277",
   "metadata": {},
   "outputs": [],
   "source": [
    "head = \"SMART\"\n",
    "side = \"_\"\n",
    "tail = \"Finance\""
   ]
  },
  {
   "cell_type": "code",
   "execution_count": 13,
   "id": "0f374bcc-7497-4353-9da3-0ba74689646a",
   "metadata": {},
   "outputs": [
    {
     "data": {
      "text/plain": [
       "'SMART_Finance'"
      ]
     },
     "execution_count": 13,
     "metadata": {},
     "output_type": "execute_result"
    }
   ],
   "source": [
    "head+side+tail"
   ]
  },
  {
   "cell_type": "code",
   "execution_count": 16,
   "id": "20a21279-29e1-4ab2-bf25-b273cbb9eb05",
   "metadata": {},
   "outputs": [],
   "source": [
    "starPoint = \"*\""
   ]
  },
  {
   "cell_type": "code",
   "execution_count": 17,
   "id": "625db751-01a5-471f-acaf-575db5f1af9a",
   "metadata": {},
   "outputs": [
    {
     "data": {
      "text/plain": [
       "'**********'"
      ]
     },
     "execution_count": 17,
     "metadata": {},
     "output_type": "execute_result"
    }
   ],
   "source": [
    "starPoint * 10"
   ]
  },
  {
   "cell_type": "code",
   "execution_count": 18,
   "id": "bbafaf60-1067-46cf-9bc5-4fce74bbaa65",
   "metadata": {},
   "outputs": [],
   "source": [
    "yearWeek = \"202304\""
   ]
  },
  {
   "cell_type": "code",
   "execution_count": 19,
   "id": "1547373a-c447-4509-8933-dd969b21f058",
   "metadata": {},
   "outputs": [
    {
     "data": {
      "text/plain": [
       "'2023'"
      ]
     },
     "execution_count": 19,
     "metadata": {},
     "output_type": "execute_result"
    }
   ],
   "source": [
    "yearWeek[0:4]"
   ]
  },
  {
   "cell_type": "code",
   "execution_count": 20,
   "id": "9c767808-69ed-454b-a930-03623bcd423a",
   "metadata": {},
   "outputs": [
    {
     "data": {
      "text/plain": [
       "'04'"
      ]
     },
     "execution_count": 20,
     "metadata": {},
     "output_type": "execute_result"
    }
   ],
   "source": [
    "yearWeek[4:]"
   ]
  },
  {
   "cell_type": "code",
   "execution_count": null,
   "id": "658fdede-8c54-44f3-991d-4232a4523f97",
   "metadata": {},
   "outputs": [],
   "source": [
    "# 문자열도 합과 곱 연산이 가능하다.\n",
    "# 문자열은 인덱스 번호로 출력이 가능하다."
   ]
  },
  {
   "cell_type": "code",
   "execution_count": 21,
   "id": "c5b2b7d7-899a-4a26-9b5a-ae4c20d4a46d",
   "metadata": {},
   "outputs": [],
   "source": [
    "lowerLetter = \"aaa\""
   ]
  },
  {
   "cell_type": "code",
   "execution_count": 23,
   "id": "4d436f0c-7898-4db6-94dd-8466a4e7c4d3",
   "metadata": {},
   "outputs": [],
   "source": [
    "upperLetter = lowerLetter.upper()"
   ]
  },
  {
   "cell_type": "code",
   "execution_count": 24,
   "id": "00e2d1a2-c4d8-4577-9e50-5b64684eed0d",
   "metadata": {},
   "outputs": [
    {
     "data": {
      "text/plain": [
       "'AAA'"
      ]
     },
     "execution_count": 24,
     "metadata": {},
     "output_type": "execute_result"
    }
   ],
   "source": [
    "upperLetter"
   ]
  },
  {
   "cell_type": "code",
   "execution_count": 26,
   "id": "240e4304-4140-45dd-8345-57ef3cd1b340",
   "metadata": {},
   "outputs": [],
   "source": [
    "BigLetter = \"AAAAA\"\n",
    "smallLetter = BigLetter.lower()"
   ]
  },
  {
   "cell_type": "code",
   "execution_count": 27,
   "id": "e5f49860-61b7-4273-b291-e00c4d7891a9",
   "metadata": {},
   "outputs": [
    {
     "data": {
      "text/plain": [
       "'aaaaa'"
      ]
     },
     "execution_count": 27,
     "metadata": {},
     "output_type": "execute_result"
    }
   ],
   "source": [
    "smallLetter"
   ]
  },
  {
   "cell_type": "code",
   "execution_count": null,
   "id": "ec952fe1-8a18-4de4-8236-a7cc500ec5ea",
   "metadata": {},
   "outputs": [],
   "source": [
    "# 문자열은 문자열.upper()로 대문자화가 가능하며,\n",
    "# 문자열.lower()로 소문자화가 가능하다."
   ]
  },
  {
   "cell_type": "code",
   "execution_count": 28,
   "id": "bac78d87-ea63-4ba1-aa31-61311b3f415f",
   "metadata": {},
   "outputs": [],
   "source": [
    "orgLetter = \"2023w04\""
   ]
  },
  {
   "cell_type": "code",
   "execution_count": 29,
   "id": "b28070cb-21a8-40cf-bb0a-f4a40b995c82",
   "metadata": {},
   "outputs": [],
   "source": [
    "splitter = \"w\""
   ]
  },
  {
   "cell_type": "code",
   "execution_count": 30,
   "id": "5459380a-e83c-4daa-8be1-107872aedbe8",
   "metadata": {},
   "outputs": [],
   "source": [
    "answer = orgLetter.split(splitter)"
   ]
  },
  {
   "cell_type": "code",
   "execution_count": 31,
   "id": "b611e525-1de7-483a-8066-85776c80116e",
   "metadata": {},
   "outputs": [
    {
     "data": {
      "text/plain": [
       "'2023'"
      ]
     },
     "execution_count": 31,
     "metadata": {},
     "output_type": "execute_result"
    }
   ],
   "source": [
    "answer[0]"
   ]
  },
  {
   "cell_type": "code",
   "execution_count": 32,
   "id": "ba8e4a44-3215-4c59-b086-b0b54aab550a",
   "metadata": {},
   "outputs": [
    {
     "data": {
      "text/plain": [
       "'04'"
      ]
     },
     "execution_count": 32,
     "metadata": {},
     "output_type": "execute_result"
    }
   ],
   "source": [
    "answer[1]"
   ]
  },
  {
   "cell_type": "code",
   "execution_count": 33,
   "id": "68b6f22e-d7a0-4e81-91f5-85ffff6d52c3",
   "metadata": {},
   "outputs": [],
   "source": [
    "stockName = [\"SEC\"]\n",
    "priceList = [120, 130]\n",
    "dateList = [201712, 201713]"
   ]
  },
  {
   "cell_type": "code",
   "execution_count": 34,
   "id": "65c66224-44ad-4fb9-a3ec-ca69012c7934",
   "metadata": {},
   "outputs": [],
   "source": [
    "secinfo = stockName + priceList + [dateList]"
   ]
  },
  {
   "cell_type": "code",
   "execution_count": 35,
   "id": "251a0600-5b28-4c37-b5ff-add05dc058c5",
   "metadata": {},
   "outputs": [
    {
     "data": {
      "text/plain": [
       "['SEC', 120, 130, [201712, 201713]]"
      ]
     },
     "execution_count": 35,
     "metadata": {},
     "output_type": "execute_result"
    }
   ],
   "source": [
    "secinfo"
   ]
  },
  {
   "cell_type": "code",
   "execution_count": null,
   "id": "c8e9f47c-1a3d-4bac-a243-4c7a701f4ee0",
   "metadata": {},
   "outputs": [],
   "source": [
    "# list 자체를 합연산하여 더해버릴 수도 있다."
   ]
  },
  {
   "cell_type": "code",
   "execution_count": 36,
   "id": "7a6ab07a-f9b9-4b49-bde3-d2db6ec6152e",
   "metadata": {},
   "outputs": [],
   "source": [
    "updateList = [120, 130, 140, 150]"
   ]
  },
  {
   "cell_type": "code",
   "execution_count": 37,
   "id": "8e24e62d-d4f3-405b-a2c4-7d0979c0386f",
   "metadata": {},
   "outputs": [],
   "source": [
    "updateList[2] = 180"
   ]
  },
  {
   "cell_type": "code",
   "execution_count": 38,
   "id": "cf892be9-5859-48f3-8c70-755485222c3f",
   "metadata": {},
   "outputs": [
    {
     "data": {
      "text/plain": [
       "[120, 130, 180, 150]"
      ]
     },
     "execution_count": 38,
     "metadata": {},
     "output_type": "execute_result"
    }
   ],
   "source": [
    "updateList"
   ]
  },
  {
   "cell_type": "code",
   "execution_count": null,
   "id": "6e97e10b-a6e9-49b7-9010-efd05dd67dad",
   "metadata": {},
   "outputs": [],
   "source": [
    "# index 번호로 지정하고 리스트 내 해당 인덱스 값을 변경 가능"
   ]
  },
  {
   "cell_type": "code",
   "execution_count": 39,
   "id": "4537014b-1e4d-40df-8dbf-73021f43dff8",
   "metadata": {},
   "outputs": [],
   "source": [
    "updateList.append(111)"
   ]
  },
  {
   "cell_type": "code",
   "execution_count": 40,
   "id": "38715ec1-c3ce-488d-91ce-8f3e3f250630",
   "metadata": {},
   "outputs": [
    {
     "data": {
      "text/plain": [
       "[120, 130, 180, 150, 111]"
      ]
     },
     "execution_count": 40,
     "metadata": {},
     "output_type": "execute_result"
    }
   ],
   "source": [
    "updateList"
   ]
  },
  {
   "cell_type": "code",
   "execution_count": null,
   "id": "4dce54bd-6247-4016-8064-d7d819355076",
   "metadata": {},
   "outputs": [],
   "source": [
    "# append. 리스트 가장 뒤에 값을 추가"
   ]
  },
  {
   "cell_type": "code",
   "execution_count": null,
   "id": "ed6ecd7d-313e-4845-803d-b229ff39378b",
   "metadata": {},
   "outputs": [],
   "source": [
    "# Java에서는 한 번 리스트가 형성되면 fix됨.\n",
    "# 반면, Python에서는 유동적으로 리스트 변경 가능."
   ]
  },
  {
   "cell_type": "code",
   "execution_count": 41,
   "id": "a3ec20ef-6d9a-4bc2-8ed2-364565d35b15",
   "metadata": {},
   "outputs": [],
   "source": [
    "updateList.sort(reverse = True)"
   ]
  },
  {
   "cell_type": "code",
   "execution_count": 42,
   "id": "db0ac693-d360-4362-a515-82d2999d3081",
   "metadata": {},
   "outputs": [
    {
     "data": {
      "text/plain": [
       "[180, 150, 130, 120, 111]"
      ]
     },
     "execution_count": 42,
     "metadata": {},
     "output_type": "execute_result"
    }
   ],
   "source": [
    "updateList"
   ]
  },
  {
   "cell_type": "code",
   "execution_count": null,
   "id": "7892bc7c-8c08-4b76-86d4-5b01e6fa366f",
   "metadata": {},
   "outputs": [],
   "source": [
    "# reverse : 역순정렬. True면 실행, False면 오름차순"
   ]
  },
  {
   "cell_type": "code",
   "execution_count": null,
   "id": "73d82694-b244-49fb-8c56-fee8e78dd3e7",
   "metadata": {},
   "outputs": [],
   "source": [
    "# 이외에도 max, min, len, sum 등을 주로 사용한다."
   ]
  },
  {
   "cell_type": "code",
   "execution_count": 43,
   "id": "07230fc9-f192-4e8d-b5fd-4a3903936fc2",
   "metadata": {},
   "outputs": [],
   "source": [
    "functionList = [120, 130, 140, 150, 120]"
   ]
  },
  {
   "cell_type": "code",
   "execution_count": 44,
   "id": "0386ae88-abb3-4c0b-9042-550ab930b473",
   "metadata": {},
   "outputs": [
    {
     "data": {
      "text/plain": [
       "2"
      ]
     },
     "execution_count": 44,
     "metadata": {},
     "output_type": "execute_result"
    }
   ],
   "source": [
    "functionList.count(functionList[0])"
   ]
  },
  {
   "cell_type": "code",
   "execution_count": null,
   "id": "eb5026ac-f901-495a-af44-034707849598",
   "metadata": {},
   "outputs": [],
   "source": [
    "# functionList[0]은 120\n",
    "# 120이 몇 개 있는지 확인해봤다. 두 개 있음을 출력해줬다."
   ]
  },
  {
   "cell_type": "code",
   "execution_count": null,
   "id": "ebf2a651-6f77-4c7c-90f7-16d56b777388",
   "metadata": {},
   "outputs": [],
   "source": [
    "# 튜플\n",
    "# 리스트와 유사하지만, 설정된 값을 변경할 수 없다.\n",
    "# Java식 리스트 개념으로 볼 수 있나?"
   ]
  },
  {
   "cell_type": "code",
   "execution_count": 47,
   "id": "09e00e14-31f7-4d6b-bec4-3c3c76c48eee",
   "metadata": {},
   "outputs": [],
   "source": [
    "tuple1 = (\"미국\", \"LEDTV\", \"01\")\n",
    "tuple2 = (\"미국\", \"LEDTV\", \"02\")"
   ]
  },
  {
   "cell_type": "code",
   "execution_count": 48,
   "id": "3f8e6e91-d6ec-4a5b-8a46-ac33e65e4d87",
   "metadata": {},
   "outputs": [],
   "source": [
    "dic = {tuple1:2.5,\n",
    "       tuple2:1.2}"
   ]
  },
  {
   "cell_type": "code",
   "execution_count": 49,
   "id": "7c1468da-3e66-4e55-933c-151a0a5c12ce",
   "metadata": {},
   "outputs": [
    {
     "name": "stdout",
     "output_type": "stream",
     "text": [
      "{('미국', 'LEDTV', '01'): 2.5, ('미국', 'LEDTV', '02'): 1.2}\n"
     ]
    }
   ],
   "source": [
    "print(dic)"
   ]
  },
  {
   "cell_type": "code",
   "execution_count": null,
   "id": "95738ff2-8e01-47cb-9d76-26d189f49170",
   "metadata": {},
   "outputs": [],
   "source": [
    "# :부터 뒤에 이어진 숫자들을 같이 출력해줬다."
   ]
  },
  {
   "cell_type": "code",
   "execution_count": 50,
   "id": "c39992ed-cce1-41fe-85db-78198abd8014",
   "metadata": {},
   "outputs": [
    {
     "data": {
      "text/plain": [
       "2.5"
      ]
     },
     "execution_count": 50,
     "metadata": {},
     "output_type": "execute_result"
    }
   ],
   "source": [
    "dic[\"미국\", \"LEDTV\", \"01\"]"
   ]
  },
  {
   "cell_type": "code",
   "execution_count": 51,
   "id": "13e780c6-629b-4482-be50-56cd7d70fa3b",
   "metadata": {},
   "outputs": [],
   "source": [
    "import pandas as pd\n",
    "test = [10,100,1000,10000]"
   ]
  },
  {
   "cell_type": "code",
   "execution_count": 55,
   "id": "3f86c7e9-2274-46a5-829e-c7f79b22fb32",
   "metadata": {},
   "outputs": [],
   "source": [
    "testDf = pd.DataFrame(test)"
   ]
  },
  {
   "cell_type": "code",
   "execution_count": 56,
   "id": "9ab8319c-6373-483f-b415-87c16b90d6a1",
   "metadata": {},
   "outputs": [
    {
     "data": {
      "text/html": [
       "<div>\n",
       "<style scoped>\n",
       "    .dataframe tbody tr th:only-of-type {\n",
       "        vertical-align: middle;\n",
       "    }\n",
       "\n",
       "    .dataframe tbody tr th {\n",
       "        vertical-align: top;\n",
       "    }\n",
       "\n",
       "    .dataframe thead th {\n",
       "        text-align: right;\n",
       "    }\n",
       "</style>\n",
       "<table border=\"1\" class=\"dataframe\">\n",
       "  <thead>\n",
       "    <tr style=\"text-align: right;\">\n",
       "      <th></th>\n",
       "      <th>0</th>\n",
       "    </tr>\n",
       "  </thead>\n",
       "  <tbody>\n",
       "    <tr>\n",
       "      <th>0</th>\n",
       "      <td>10</td>\n",
       "    </tr>\n",
       "    <tr>\n",
       "      <th>1</th>\n",
       "      <td>100</td>\n",
       "    </tr>\n",
       "    <tr>\n",
       "      <th>2</th>\n",
       "      <td>1000</td>\n",
       "    </tr>\n",
       "    <tr>\n",
       "      <th>3</th>\n",
       "      <td>10000</td>\n",
       "    </tr>\n",
       "  </tbody>\n",
       "</table>\n",
       "</div>"
      ],
      "text/plain": [
       "       0\n",
       "0     10\n",
       "1    100\n",
       "2   1000\n",
       "3  10000"
      ]
     },
     "execution_count": 56,
     "metadata": {},
     "output_type": "execute_result"
    }
   ],
   "source": [
    "testDf"
   ]
  },
  {
   "cell_type": "code",
   "execution_count": 57,
   "id": "bcc47fc2-a071-441d-a7e4-99bd4db85a25",
   "metadata": {},
   "outputs": [],
   "source": [
    "testDf.columns = [\"숫자\"]"
   ]
  },
  {
   "cell_type": "code",
   "execution_count": 58,
   "id": "f7be4b10-33e5-47b7-b967-705e254c113a",
   "metadata": {},
   "outputs": [
    {
     "data": {
      "text/html": [
       "<div>\n",
       "<style scoped>\n",
       "    .dataframe tbody tr th:only-of-type {\n",
       "        vertical-align: middle;\n",
       "    }\n",
       "\n",
       "    .dataframe tbody tr th {\n",
       "        vertical-align: top;\n",
       "    }\n",
       "\n",
       "    .dataframe thead th {\n",
       "        text-align: right;\n",
       "    }\n",
       "</style>\n",
       "<table border=\"1\" class=\"dataframe\">\n",
       "  <thead>\n",
       "    <tr style=\"text-align: right;\">\n",
       "      <th></th>\n",
       "      <th>숫자</th>\n",
       "    </tr>\n",
       "  </thead>\n",
       "  <tbody>\n",
       "    <tr>\n",
       "      <th>0</th>\n",
       "      <td>10</td>\n",
       "    </tr>\n",
       "    <tr>\n",
       "      <th>1</th>\n",
       "      <td>100</td>\n",
       "    </tr>\n",
       "    <tr>\n",
       "      <th>2</th>\n",
       "      <td>1000</td>\n",
       "    </tr>\n",
       "    <tr>\n",
       "      <th>3</th>\n",
       "      <td>10000</td>\n",
       "    </tr>\n",
       "  </tbody>\n",
       "</table>\n",
       "</div>"
      ],
      "text/plain": [
       "      숫자\n",
       "0     10\n",
       "1    100\n",
       "2   1000\n",
       "3  10000"
      ]
     },
     "execution_count": 58,
     "metadata": {},
     "output_type": "execute_result"
    }
   ],
   "source": [
    "testDf"
   ]
  },
  {
   "cell_type": "code",
   "execution_count": 60,
   "id": "f6ac4610-c038-4685-8b66-cafe56d92651",
   "metadata": {},
   "outputs": [],
   "source": [
    "import pandas as pd\n",
    "date = ['16.02.29', '16.02.26', '16.02.25', '16.02.24', '16.02.23']\n",
    "date2 = ['17.02.29', '17.02.26', '17.02.25', '17.02.24', '17.02.23']"
   ]
  },
  {
   "cell_type": "code",
   "execution_count": 61,
   "id": "cae958e1-0737-4cd1-b879-d7398ca1095b",
   "metadata": {},
   "outputs": [
    {
     "data": {
      "text/plain": [
       "['16.02.29', '16.02.26', '16.02.25', '16.02.24', '16.02.23']"
      ]
     },
     "execution_count": 61,
     "metadata": {},
     "output_type": "execute_result"
    }
   ],
   "source": [
    "date"
   ]
  },
  {
   "cell_type": "code",
   "execution_count": 62,
   "id": "29cbf245-16c2-4910-94cd-ceaea19be8f9",
   "metadata": {},
   "outputs": [
    {
     "data": {
      "text/plain": [
       "['17.02.29', '17.02.26', '17.02.25', '17.02.24', '17.02.23']"
      ]
     },
     "execution_count": 62,
     "metadata": {},
     "output_type": "execute_result"
    }
   ],
   "source": [
    "date2"
   ]
  },
  {
   "cell_type": "code",
   "execution_count": 63,
   "id": "87a4ea6d-dee7-430b-b4ea-b3b43e774069",
   "metadata": {},
   "outputs": [],
   "source": [
    "tortDf = pd.DataFrame(date, date2)"
   ]
  },
  {
   "cell_type": "code",
   "execution_count": 64,
   "id": "2f0515f0-900e-45da-90f2-3b75042b5187",
   "metadata": {},
   "outputs": [
    {
     "data": {
      "text/html": [
       "<div>\n",
       "<style scoped>\n",
       "    .dataframe tbody tr th:only-of-type {\n",
       "        vertical-align: middle;\n",
       "    }\n",
       "\n",
       "    .dataframe tbody tr th {\n",
       "        vertical-align: top;\n",
       "    }\n",
       "\n",
       "    .dataframe thead th {\n",
       "        text-align: right;\n",
       "    }\n",
       "</style>\n",
       "<table border=\"1\" class=\"dataframe\">\n",
       "  <thead>\n",
       "    <tr style=\"text-align: right;\">\n",
       "      <th></th>\n",
       "      <th>0</th>\n",
       "    </tr>\n",
       "  </thead>\n",
       "  <tbody>\n",
       "    <tr>\n",
       "      <th>17.02.29</th>\n",
       "      <td>16.02.29</td>\n",
       "    </tr>\n",
       "    <tr>\n",
       "      <th>17.02.26</th>\n",
       "      <td>16.02.26</td>\n",
       "    </tr>\n",
       "    <tr>\n",
       "      <th>17.02.25</th>\n",
       "      <td>16.02.25</td>\n",
       "    </tr>\n",
       "    <tr>\n",
       "      <th>17.02.24</th>\n",
       "      <td>16.02.24</td>\n",
       "    </tr>\n",
       "    <tr>\n",
       "      <th>17.02.23</th>\n",
       "      <td>16.02.23</td>\n",
       "    </tr>\n",
       "  </tbody>\n",
       "</table>\n",
       "</div>"
      ],
      "text/plain": [
       "                 0\n",
       "17.02.29  16.02.29\n",
       "17.02.26  16.02.26\n",
       "17.02.25  16.02.25\n",
       "17.02.24  16.02.24\n",
       "17.02.23  16.02.23"
      ]
     },
     "execution_count": 64,
     "metadata": {},
     "output_type": "execute_result"
    }
   ],
   "source": [
    "tortDf"
   ]
  },
  {
   "cell_type": "code",
   "execution_count": 65,
   "id": "548faabb-8e67-4abf-8a80-e057be4b0661",
   "metadata": {},
   "outputs": [],
   "source": [
    "tortDf.columns = [\"DATEINFO\"]"
   ]
  },
  {
   "cell_type": "code",
   "execution_count": 66,
   "id": "b69bc65b-f7c6-4689-8246-f0cf338dc087",
   "metadata": {},
   "outputs": [
    {
     "data": {
      "text/html": [
       "<div>\n",
       "<style scoped>\n",
       "    .dataframe tbody tr th:only-of-type {\n",
       "        vertical-align: middle;\n",
       "    }\n",
       "\n",
       "    .dataframe tbody tr th {\n",
       "        vertical-align: top;\n",
       "    }\n",
       "\n",
       "    .dataframe thead th {\n",
       "        text-align: right;\n",
       "    }\n",
       "</style>\n",
       "<table border=\"1\" class=\"dataframe\">\n",
       "  <thead>\n",
       "    <tr style=\"text-align: right;\">\n",
       "      <th></th>\n",
       "      <th>DATEINFO</th>\n",
       "    </tr>\n",
       "  </thead>\n",
       "  <tbody>\n",
       "    <tr>\n",
       "      <th>17.02.29</th>\n",
       "      <td>16.02.29</td>\n",
       "    </tr>\n",
       "    <tr>\n",
       "      <th>17.02.26</th>\n",
       "      <td>16.02.26</td>\n",
       "    </tr>\n",
       "    <tr>\n",
       "      <th>17.02.25</th>\n",
       "      <td>16.02.25</td>\n",
       "    </tr>\n",
       "    <tr>\n",
       "      <th>17.02.24</th>\n",
       "      <td>16.02.24</td>\n",
       "    </tr>\n",
       "    <tr>\n",
       "      <th>17.02.23</th>\n",
       "      <td>16.02.23</td>\n",
       "    </tr>\n",
       "  </tbody>\n",
       "</table>\n",
       "</div>"
      ],
      "text/plain": [
       "          DATEINFO\n",
       "17.02.29  16.02.29\n",
       "17.02.26  16.02.26\n",
       "17.02.25  16.02.25\n",
       "17.02.24  16.02.24\n",
       "17.02.23  16.02.23"
      ]
     },
     "execution_count": 66,
     "metadata": {},
     "output_type": "execute_result"
    }
   ],
   "source": [
    "tortDf"
   ]
  },
  {
   "cell_type": "code",
   "execution_count": 67,
   "id": "a5b8c055-e8f6-449d-ae57-e27b7dd4f9aa",
   "metadata": {},
   "outputs": [],
   "source": [
    "senDf = pd.DataFrame(zip(date, date2))"
   ]
  },
  {
   "cell_type": "code",
   "execution_count": 68,
   "id": "9284aecb-eb7c-4225-930b-d70592ea281b",
   "metadata": {},
   "outputs": [
    {
     "data": {
      "text/html": [
       "<div>\n",
       "<style scoped>\n",
       "    .dataframe tbody tr th:only-of-type {\n",
       "        vertical-align: middle;\n",
       "    }\n",
       "\n",
       "    .dataframe tbody tr th {\n",
       "        vertical-align: top;\n",
       "    }\n",
       "\n",
       "    .dataframe thead th {\n",
       "        text-align: right;\n",
       "    }\n",
       "</style>\n",
       "<table border=\"1\" class=\"dataframe\">\n",
       "  <thead>\n",
       "    <tr style=\"text-align: right;\">\n",
       "      <th></th>\n",
       "      <th>0</th>\n",
       "      <th>1</th>\n",
       "    </tr>\n",
       "  </thead>\n",
       "  <tbody>\n",
       "    <tr>\n",
       "      <th>0</th>\n",
       "      <td>16.02.29</td>\n",
       "      <td>17.02.29</td>\n",
       "    </tr>\n",
       "    <tr>\n",
       "      <th>1</th>\n",
       "      <td>16.02.26</td>\n",
       "      <td>17.02.26</td>\n",
       "    </tr>\n",
       "    <tr>\n",
       "      <th>2</th>\n",
       "      <td>16.02.25</td>\n",
       "      <td>17.02.25</td>\n",
       "    </tr>\n",
       "    <tr>\n",
       "      <th>3</th>\n",
       "      <td>16.02.24</td>\n",
       "      <td>17.02.24</td>\n",
       "    </tr>\n",
       "    <tr>\n",
       "      <th>4</th>\n",
       "      <td>16.02.23</td>\n",
       "      <td>17.02.23</td>\n",
       "    </tr>\n",
       "  </tbody>\n",
       "</table>\n",
       "</div>"
      ],
      "text/plain": [
       "          0         1\n",
       "0  16.02.29  17.02.29\n",
       "1  16.02.26  17.02.26\n",
       "2  16.02.25  17.02.25\n",
       "3  16.02.24  17.02.24\n",
       "4  16.02.23  17.02.23"
      ]
     },
     "execution_count": 68,
     "metadata": {},
     "output_type": "execute_result"
    }
   ],
   "source": [
    "senDf"
   ]
  },
  {
   "cell_type": "code",
   "execution_count": null,
   "id": "85a60a04-a47f-4936-91fc-a386642c4c85",
   "metadata": {},
   "outputs": [],
   "source": [
    "# zip으로 묶어주면 인덱스 번호를 생성해주고,\n",
    "# 각각의 컬럼명을 붙여줄 수 있다."
   ]
  },
  {
   "cell_type": "code",
   "execution_count": 69,
   "id": "7a75b846-4486-4645-9f03-7a98d7144f24",
   "metadata": {},
   "outputs": [],
   "source": [
    "import numpy as np"
   ]
  },
  {
   "cell_type": "code",
   "execution_count": 73,
   "id": "a5ac00d3-fba2-4996-99b2-9f227c490fbd",
   "metadata": {},
   "outputs": [
    {
     "data": {
      "text/plain": [
       "1"
      ]
     },
     "execution_count": 73,
     "metadata": {},
     "output_type": "execute_result"
    }
   ],
   "source": [
    "np.random.randint(10)"
   ]
  },
  {
   "cell_type": "code",
   "execution_count": 74,
   "id": "cdfeaf34-0ea5-4f8c-ae74-569780dd9ed1",
   "metadata": {},
   "outputs": [
    {
     "name": "stdout",
     "output_type": "stream",
     "text": [
      "5\n",
      "5\n",
      "2\n",
      "9\n",
      "5\n",
      "0\n",
      "4\n",
      "9\n",
      "1\n",
      "2\n"
     ]
    }
   ],
   "source": [
    "for i in range(0, 10):\n",
    "    print(np.random.randint(10))"
   ]
  },
  {
   "cell_type": "code",
   "execution_count": null,
   "id": "7acdc111-5d14-4364-bdf0-3b0858047d5e",
   "metadata": {},
   "outputs": [],
   "source": [
    "# 10을 한도로 하는 무작위 정수값 10개를 출력하였다."
   ]
  },
  {
   "cell_type": "code",
   "execution_count": null,
   "id": "50286955-8527-4ab6-a375-ba6d90bad178",
   "metadata": {},
   "outputs": [],
   "source": []
  },
  {
   "cell_type": "code",
   "execution_count": 80,
   "id": "acf0cad3-ade1-49a9-a8e2-9633a9ca810e",
   "metadata": {},
   "outputs": [],
   "source": [
    "import pandas as pd"
   ]
  },
  {
   "cell_type": "code",
   "execution_count": 96,
   "id": "e7a5f3e7-256b-4870-9484-defc2d52d97e",
   "metadata": {},
   "outputs": [],
   "source": [
    "regionList = [\"A01\", \"A02\", \"A03\", \"A04\", \"A05\"]"
   ]
  },
  {
   "cell_type": "code",
   "execution_count": 95,
   "id": "1eeed2a4-90ee-4975-98e7-ed7a30630275",
   "metadata": {},
   "outputs": [],
   "source": [
    "yearWeekList = list(range(201501, 201506, 1))"
   ]
  },
  {
   "cell_type": "code",
   "execution_count": 93,
   "id": "bbd60916-a8e6-4687-9fe0-111f2680dc16",
   "metadata": {},
   "outputs": [],
   "source": [
    "qtyList = list(range(100, 600, 100))"
   ]
  },
  {
   "cell_type": "code",
   "execution_count": 94,
   "id": "e2225522-3eab-4ad9-9a49-f75abdfb3204",
   "metadata": {},
   "outputs": [
    {
     "data": {
      "text/plain": [
       "[100, 200, 300, 400, 500]"
      ]
     },
     "execution_count": 94,
     "metadata": {},
     "output_type": "execute_result"
    }
   ],
   "source": [
    "qtyList"
   ]
  },
  {
   "cell_type": "code",
   "execution_count": 97,
   "id": "9124c416-a60e-4a09-b0aa-53c379f0b0d2",
   "metadata": {},
   "outputs": [],
   "source": [
    "eachDf = pd.DataFrame(regionList, columns = [\"REGIONID\"])"
   ]
  },
  {
   "cell_type": "code",
   "execution_count": 99,
   "id": "d3a8d530-f488-490e-adce-412d5b79c0f1",
   "metadata": {},
   "outputs": [],
   "source": [
    "listDf = pd.DataFrame(\n",
    "    zip(regionList, yearWeekList, qtyList),\n",
    "    columns = [\"REGIONID\", \"YEARWEEK\", \"QTY\"])"
   ]
  },
  {
   "cell_type": "code",
   "execution_count": 100,
   "id": "d5f583a9-b4ae-4925-9630-aba2c592bc64",
   "metadata": {},
   "outputs": [
    {
     "data": {
      "text/html": [
       "<div>\n",
       "<style scoped>\n",
       "    .dataframe tbody tr th:only-of-type {\n",
       "        vertical-align: middle;\n",
       "    }\n",
       "\n",
       "    .dataframe tbody tr th {\n",
       "        vertical-align: top;\n",
       "    }\n",
       "\n",
       "    .dataframe thead th {\n",
       "        text-align: right;\n",
       "    }\n",
       "</style>\n",
       "<table border=\"1\" class=\"dataframe\">\n",
       "  <thead>\n",
       "    <tr style=\"text-align: right;\">\n",
       "      <th></th>\n",
       "      <th>REGIONID</th>\n",
       "      <th>YEARWEEK</th>\n",
       "      <th>QTY</th>\n",
       "    </tr>\n",
       "  </thead>\n",
       "  <tbody>\n",
       "    <tr>\n",
       "      <th>0</th>\n",
       "      <td>A01</td>\n",
       "      <td>201501</td>\n",
       "      <td>100</td>\n",
       "    </tr>\n",
       "    <tr>\n",
       "      <th>1</th>\n",
       "      <td>A02</td>\n",
       "      <td>201502</td>\n",
       "      <td>200</td>\n",
       "    </tr>\n",
       "    <tr>\n",
       "      <th>2</th>\n",
       "      <td>A03</td>\n",
       "      <td>201503</td>\n",
       "      <td>300</td>\n",
       "    </tr>\n",
       "    <tr>\n",
       "      <th>3</th>\n",
       "      <td>A04</td>\n",
       "      <td>201504</td>\n",
       "      <td>400</td>\n",
       "    </tr>\n",
       "    <tr>\n",
       "      <th>4</th>\n",
       "      <td>A05</td>\n",
       "      <td>201505</td>\n",
       "      <td>500</td>\n",
       "    </tr>\n",
       "  </tbody>\n",
       "</table>\n",
       "</div>"
      ],
      "text/plain": [
       "  REGIONID  YEARWEEK  QTY\n",
       "0      A01    201501  100\n",
       "1      A02    201502  200\n",
       "2      A03    201503  300\n",
       "3      A04    201504  400\n",
       "4      A05    201505  500"
      ]
     },
     "execution_count": 100,
     "metadata": {},
     "output_type": "execute_result"
    }
   ],
   "source": [
    "listDf"
   ]
  },
  {
   "cell_type": "code",
   "execution_count": 102,
   "id": "4c92740a-c585-4fbb-acde-8a98edadcbdc",
   "metadata": {},
   "outputs": [
    {
     "name": "stdout",
     "output_type": "stream",
     "text": [
      "<class 'pandas.core.frame.DataFrame'>\n",
      "RangeIndex: 5 entries, 0 to 4\n",
      "Data columns (total 3 columns):\n",
      " #   Column    Non-Null Count  Dtype \n",
      "---  ------    --------------  ----- \n",
      " 0   REGIONID  5 non-null      object\n",
      " 1   YEARWEEK  5 non-null      int64 \n",
      " 2   QTY       5 non-null      int64 \n",
      "dtypes: int64(2), object(1)\n",
      "memory usage: 248.0+ bytes\n"
     ]
    }
   ],
   "source": [
    "listDf.info()"
   ]
  },
  {
   "cell_type": "code",
   "execution_count": 103,
   "id": "b19213be-051b-41b9-a2b3-8d7b51183099",
   "metadata": {},
   "outputs": [],
   "source": [
    "import pandas as pd\n",
    "\n",
    "customerData = pd.read_csv(\"../../Python_Script/dataset/customerdata.csv\")"
   ]
  },
  {
   "cell_type": "code",
   "execution_count": 104,
   "id": "0ef25d16-a44e-4460-b212-21f0d8fbafa2",
   "metadata": {},
   "outputs": [
    {
     "data": {
      "text/html": [
       "<div>\n",
       "<style scoped>\n",
       "    .dataframe tbody tr th:only-of-type {\n",
       "        vertical-align: middle;\n",
       "    }\n",
       "\n",
       "    .dataframe tbody tr th {\n",
       "        vertical-align: top;\n",
       "    }\n",
       "\n",
       "    .dataframe thead th {\n",
       "        text-align: right;\n",
       "    }\n",
       "</style>\n",
       "<table border=\"1\" class=\"dataframe\">\n",
       "  <thead>\n",
       "    <tr style=\"text-align: right;\">\n",
       "      <th></th>\n",
       "      <th>CUSTID</th>\n",
       "      <th>AVGPRICE</th>\n",
       "      <th>EMI</th>\n",
       "      <th>DEVICECOUNT</th>\n",
       "      <th>PRODUCTAGE</th>\n",
       "      <th>CUSTTYPE</th>\n",
       "    </tr>\n",
       "  </thead>\n",
       "  <tbody>\n",
       "    <tr>\n",
       "      <th>0</th>\n",
       "      <td>A13566</td>\n",
       "      <td>4273.900000</td>\n",
       "      <td>3</td>\n",
       "      <td>6</td>\n",
       "      <td>1.679181</td>\n",
       "      <td>Big-Screen-lover</td>\n",
       "    </tr>\n",
       "    <tr>\n",
       "      <th>1</th>\n",
       "      <td>A14219</td>\n",
       "      <td>3642.441950</td>\n",
       "      <td>2</td>\n",
       "      <td>4</td>\n",
       "      <td>2.682023</td>\n",
       "      <td>Sleeping-dog</td>\n",
       "    </tr>\n",
       "    <tr>\n",
       "      <th>2</th>\n",
       "      <td>A15312</td>\n",
       "      <td>3653.884565</td>\n",
       "      <td>2</td>\n",
       "      <td>5</td>\n",
       "      <td>3.208202</td>\n",
       "      <td>Sleeping-dog</td>\n",
       "    </tr>\n",
       "    <tr>\n",
       "      <th>3</th>\n",
       "      <td>A16605</td>\n",
       "      <td>3713.211107</td>\n",
       "      <td>2</td>\n",
       "      <td>6</td>\n",
       "      <td>0.900000</td>\n",
       "      <td>Early-bird</td>\n",
       "    </tr>\n",
       "    <tr>\n",
       "      <th>4</th>\n",
       "      <td>B10634</td>\n",
       "      <td>3391.074215</td>\n",
       "      <td>2</td>\n",
       "      <td>4</td>\n",
       "      <td>2.453656</td>\n",
       "      <td>Sleeping-dog</td>\n",
       "    </tr>\n",
       "  </tbody>\n",
       "</table>\n",
       "</div>"
      ],
      "text/plain": [
       "   CUSTID     AVGPRICE  EMI  DEVICECOUNT  PRODUCTAGE          CUSTTYPE\n",
       "0  A13566  4273.900000    3            6    1.679181  Big-Screen-lover\n",
       "1  A14219  3642.441950    2            4    2.682023      Sleeping-dog\n",
       "2  A15312  3653.884565    2            5    3.208202      Sleeping-dog\n",
       "3  A16605  3713.211107    2            6    0.900000        Early-bird\n",
       "4  B10634  3391.074215    2            4    2.453656      Sleeping-dog"
      ]
     },
     "execution_count": 104,
     "metadata": {},
     "output_type": "execute_result"
    }
   ],
   "source": [
    "customerData.head()"
   ]
  },
  {
   "cell_type": "code",
   "execution_count": 105,
   "id": "b780d592-8427-4e91-b258-2f927618664f",
   "metadata": {},
   "outputs": [
    {
     "name": "stdout",
     "output_type": "stream",
     "text": [
      "<class 'pandas.core.frame.DataFrame'>\n",
      "RangeIndex: 150 entries, 0 to 149\n",
      "Data columns (total 6 columns):\n",
      " #   Column       Non-Null Count  Dtype  \n",
      "---  ------       --------------  -----  \n",
      " 0   CUSTID       150 non-null    object \n",
      " 1   AVGPRICE     150 non-null    float64\n",
      " 2   EMI          150 non-null    int64  \n",
      " 3   DEVICECOUNT  150 non-null    int64  \n",
      " 4   PRODUCTAGE   150 non-null    float64\n",
      " 5   CUSTTYPE     150 non-null    object \n",
      "dtypes: float64(2), int64(2), object(2)\n",
      "memory usage: 7.2+ KB\n"
     ]
    }
   ],
   "source": [
    "customerData.info()"
   ]
  },
  {
   "cell_type": "code",
   "execution_count": 106,
   "id": "1877f5d3-edf0-477b-8950-3c0455f1aa3a",
   "metadata": {},
   "outputs": [
    {
     "data": {
      "text/plain": [
       "CUSTID          object\n",
       "AVGPRICE       float64\n",
       "EMI              int64\n",
       "DEVICECOUNT      int64\n",
       "PRODUCTAGE     float64\n",
       "CUSTTYPE        object\n",
       "dtype: object"
      ]
     },
     "execution_count": 106,
     "metadata": {},
     "output_type": "execute_result"
    }
   ],
   "source": [
    "customerData.dtypes"
   ]
  },
  {
   "cell_type": "code",
   "execution_count": 109,
   "id": "59146fc3-f378-4b4d-afac-6f7bfe5a6dc5",
   "metadata": {},
   "outputs": [],
   "source": [
    "answer = customerData.loc[(customerData.EMI == 3) &\n",
    "                 (customerData.DEVICECOUNT >= 5)]"
   ]
  },
  {
   "cell_type": "code",
   "execution_count": 110,
   "id": "f3154d6d-f3b7-4831-bae9-5b7b32cd9671",
   "metadata": {},
   "outputs": [
    {
     "data": {
      "text/html": [
       "<div>\n",
       "<style scoped>\n",
       "    .dataframe tbody tr th:only-of-type {\n",
       "        vertical-align: middle;\n",
       "    }\n",
       "\n",
       "    .dataframe tbody tr th {\n",
       "        vertical-align: top;\n",
       "    }\n",
       "\n",
       "    .dataframe thead th {\n",
       "        text-align: right;\n",
       "    }\n",
       "</style>\n",
       "<table border=\"1\" class=\"dataframe\">\n",
       "  <thead>\n",
       "    <tr style=\"text-align: right;\">\n",
       "      <th></th>\n",
       "      <th>CUSTID</th>\n",
       "      <th>AVGPRICE</th>\n",
       "      <th>EMI</th>\n",
       "      <th>DEVICECOUNT</th>\n",
       "      <th>PRODUCTAGE</th>\n",
       "      <th>CUSTTYPE</th>\n",
       "    </tr>\n",
       "  </thead>\n",
       "  <tbody>\n",
       "    <tr>\n",
       "      <th>0</th>\n",
       "      <td>A13566</td>\n",
       "      <td>4273.900000</td>\n",
       "      <td>3</td>\n",
       "      <td>6</td>\n",
       "      <td>1.679181</td>\n",
       "      <td>Big-Screen-lover</td>\n",
       "    </tr>\n",
       "    <tr>\n",
       "      <th>27</th>\n",
       "      <td>F17131</td>\n",
       "      <td>3179.708359</td>\n",
       "      <td>3</td>\n",
       "      <td>6</td>\n",
       "      <td>1.100000</td>\n",
       "      <td>Early-bird</td>\n",
       "    </tr>\n",
       "    <tr>\n",
       "      <th>33</th>\n",
       "      <td>G16437</td>\n",
       "      <td>3787.328898</td>\n",
       "      <td>3</td>\n",
       "      <td>6</td>\n",
       "      <td>1.000000</td>\n",
       "      <td>Early-bird</td>\n",
       "    </tr>\n",
       "    <tr>\n",
       "      <th>36</th>\n",
       "      <td>G18402</td>\n",
       "      <td>3402.199381</td>\n",
       "      <td>3</td>\n",
       "      <td>6</td>\n",
       "      <td>1.000000</td>\n",
       "      <td>Early-bird</td>\n",
       "    </tr>\n",
       "    <tr>\n",
       "      <th>40</th>\n",
       "      <td>H16326</td>\n",
       "      <td>3988.935304</td>\n",
       "      <td>3</td>\n",
       "      <td>6</td>\n",
       "      <td>0.900000</td>\n",
       "      <td>Early-bird</td>\n",
       "    </tr>\n",
       "  </tbody>\n",
       "</table>\n",
       "</div>"
      ],
      "text/plain": [
       "    CUSTID     AVGPRICE  EMI  DEVICECOUNT  PRODUCTAGE          CUSTTYPE\n",
       "0   A13566  4273.900000    3            6    1.679181  Big-Screen-lover\n",
       "27  F17131  3179.708359    3            6    1.100000        Early-bird\n",
       "33  G16437  3787.328898    3            6    1.000000        Early-bird\n",
       "36  G18402  3402.199381    3            6    1.000000        Early-bird\n",
       "40  H16326  3988.935304    3            6    0.900000        Early-bird"
      ]
     },
     "execution_count": 110,
     "metadata": {},
     "output_type": "execute_result"
    }
   ],
   "source": [
    "answer.head()"
   ]
  },
  {
   "cell_type": "code",
   "execution_count": 111,
   "id": "16fb15ee-c494-46b3-abd8-2973f11f3276",
   "metadata": {},
   "outputs": [
    {
     "data": {
      "text/plain": [
       "CUSTID          object\n",
       "AVGPRICE       float64\n",
       "EMI              int64\n",
       "DEVICECOUNT      int64\n",
       "PRODUCTAGE     float64\n",
       "CUSTTYPE        object\n",
       "dtype: object"
      ]
     },
     "execution_count": 111,
     "metadata": {},
     "output_type": "execute_result"
    }
   ],
   "source": [
    "customerData.dtypes"
   ]
  },
  {
   "cell_type": "code",
   "execution_count": 114,
   "id": "966edd3f-2ebb-402e-b88a-ab6912ddfd47",
   "metadata": {},
   "outputs": [],
   "source": [
    "customerData.CUSTID = customerData.CUSTID.astype(str)"
   ]
  },
  {
   "cell_type": "code",
   "execution_count": 116,
   "id": "ad6f685d-40ce-4b61-a2d4-3131c107cb45",
   "metadata": {},
   "outputs": [],
   "source": [
    "customerData = customerData.astype(\n",
    "    {\"CUSTID\":str,\n",
    "     \"DEVICECOUNT\":float})"
   ]
  },
  {
   "cell_type": "code",
   "execution_count": 117,
   "id": "1a1700cb-0c47-4ceb-a447-38ab59e3fed4",
   "metadata": {},
   "outputs": [
    {
     "data": {
      "text/plain": [
       "CUSTID          object\n",
       "AVGPRICE       float64\n",
       "EMI              int64\n",
       "DEVICECOUNT    float64\n",
       "PRODUCTAGE     float64\n",
       "CUSTTYPE        object\n",
       "dtype: object"
      ]
     },
     "execution_count": 117,
     "metadata": {},
     "output_type": "execute_result"
    }
   ],
   "source": [
    "customerData.dtypes"
   ]
  },
  {
   "cell_type": "code",
   "execution_count": 122,
   "id": "af1dcd73-af79-4fe9-b27f-46ea1ce1af67",
   "metadata": {},
   "outputs": [],
   "source": [
    "emiCondition = [2, 3]\n",
    "answer2 = customerData.loc[(customerData.EMI.isin(emiCondition))]\n",
    "answer3 = customerData.loc[~(customerData.EMI.isin(emiCondition))]"
   ]
  },
  {
   "cell_type": "code",
   "execution_count": 123,
   "id": "3905974b-9c64-466e-9e1e-7c3e8a5899a5",
   "metadata": {
    "collapsed": true,
    "jupyter": {
     "outputs_hidden": true
    },
    "tags": []
   },
   "outputs": [
    {
     "data": {
      "text/html": [
       "<div>\n",
       "<style scoped>\n",
       "    .dataframe tbody tr th:only-of-type {\n",
       "        vertical-align: middle;\n",
       "    }\n",
       "\n",
       "    .dataframe tbody tr th {\n",
       "        vertical-align: top;\n",
       "    }\n",
       "\n",
       "    .dataframe thead th {\n",
       "        text-align: right;\n",
       "    }\n",
       "</style>\n",
       "<table border=\"1\" class=\"dataframe\">\n",
       "  <thead>\n",
       "    <tr style=\"text-align: right;\">\n",
       "      <th></th>\n",
       "      <th>CUSTID</th>\n",
       "      <th>AVGPRICE</th>\n",
       "      <th>EMI</th>\n",
       "      <th>DEVICECOUNT</th>\n",
       "      <th>PRODUCTAGE</th>\n",
       "      <th>CUSTTYPE</th>\n",
       "    </tr>\n",
       "  </thead>\n",
       "  <tbody>\n",
       "    <tr>\n",
       "      <th>0</th>\n",
       "      <td>A13566</td>\n",
       "      <td>4273.900000</td>\n",
       "      <td>3</td>\n",
       "      <td>6.0</td>\n",
       "      <td>1.679181</td>\n",
       "      <td>Big-Screen-lover</td>\n",
       "    </tr>\n",
       "    <tr>\n",
       "      <th>1</th>\n",
       "      <td>A14219</td>\n",
       "      <td>3642.441950</td>\n",
       "      <td>2</td>\n",
       "      <td>4.0</td>\n",
       "      <td>2.682023</td>\n",
       "      <td>Sleeping-dog</td>\n",
       "    </tr>\n",
       "    <tr>\n",
       "      <th>2</th>\n",
       "      <td>A15312</td>\n",
       "      <td>3653.884565</td>\n",
       "      <td>2</td>\n",
       "      <td>5.0</td>\n",
       "      <td>3.208202</td>\n",
       "      <td>Sleeping-dog</td>\n",
       "    </tr>\n",
       "    <tr>\n",
       "      <th>3</th>\n",
       "      <td>A16605</td>\n",
       "      <td>3713.211107</td>\n",
       "      <td>2</td>\n",
       "      <td>6.0</td>\n",
       "      <td>0.900000</td>\n",
       "      <td>Early-bird</td>\n",
       "    </tr>\n",
       "    <tr>\n",
       "      <th>4</th>\n",
       "      <td>B10634</td>\n",
       "      <td>3391.074215</td>\n",
       "      <td>2</td>\n",
       "      <td>4.0</td>\n",
       "      <td>2.453656</td>\n",
       "      <td>Sleeping-dog</td>\n",
       "    </tr>\n",
       "    <tr>\n",
       "      <th>...</th>\n",
       "      <td>...</td>\n",
       "      <td>...</td>\n",
       "      <td>...</td>\n",
       "      <td>...</td>\n",
       "      <td>...</td>\n",
       "      <td>...</td>\n",
       "    </tr>\n",
       "    <tr>\n",
       "      <th>145</th>\n",
       "      <td>Z13253</td>\n",
       "      <td>3678.800000</td>\n",
       "      <td>2</td>\n",
       "      <td>5.0</td>\n",
       "      <td>2.463670</td>\n",
       "      <td>Big-Screen-lover</td>\n",
       "    </tr>\n",
       "    <tr>\n",
       "      <th>146</th>\n",
       "      <td>Z13534</td>\n",
       "      <td>3662.437527</td>\n",
       "      <td>3</td>\n",
       "      <td>6.0</td>\n",
       "      <td>0.900000</td>\n",
       "      <td>Early-bird</td>\n",
       "    </tr>\n",
       "    <tr>\n",
       "      <th>147</th>\n",
       "      <td>Z16428</td>\n",
       "      <td>3516.500000</td>\n",
       "      <td>2</td>\n",
       "      <td>5.0</td>\n",
       "      <td>2.371301</td>\n",
       "      <td>Big-Screen-lover</td>\n",
       "    </tr>\n",
       "    <tr>\n",
       "      <th>148</th>\n",
       "      <td>Z16735</td>\n",
       "      <td>3300.100000</td>\n",
       "      <td>2</td>\n",
       "      <td>5.0</td>\n",
       "      <td>1.704942</td>\n",
       "      <td>Big-Screen-lover</td>\n",
       "    </tr>\n",
       "    <tr>\n",
       "      <th>149</th>\n",
       "      <td>Z19835</td>\n",
       "      <td>3326.526183</td>\n",
       "      <td>2</td>\n",
       "      <td>6.0</td>\n",
       "      <td>1.200000</td>\n",
       "      <td>Early-bird</td>\n",
       "    </tr>\n",
       "  </tbody>\n",
       "</table>\n",
       "<p>139 rows × 6 columns</p>\n",
       "</div>"
      ],
      "text/plain": [
       "     CUSTID     AVGPRICE  EMI  DEVICECOUNT  PRODUCTAGE          CUSTTYPE\n",
       "0    A13566  4273.900000    3          6.0    1.679181  Big-Screen-lover\n",
       "1    A14219  3642.441950    2          4.0    2.682023      Sleeping-dog\n",
       "2    A15312  3653.884565    2          5.0    3.208202      Sleeping-dog\n",
       "3    A16605  3713.211107    2          6.0    0.900000        Early-bird\n",
       "4    B10634  3391.074215    2          4.0    2.453656      Sleeping-dog\n",
       "..      ...          ...  ...          ...         ...               ...\n",
       "145  Z13253  3678.800000    2          5.0    2.463670  Big-Screen-lover\n",
       "146  Z13534  3662.437527    3          6.0    0.900000        Early-bird\n",
       "147  Z16428  3516.500000    2          5.0    2.371301  Big-Screen-lover\n",
       "148  Z16735  3300.100000    2          5.0    1.704942  Big-Screen-lover\n",
       "149  Z19835  3326.526183    2          6.0    1.200000        Early-bird\n",
       "\n",
       "[139 rows x 6 columns]"
      ]
     },
     "execution_count": 123,
     "metadata": {},
     "output_type": "execute_result"
    }
   ],
   "source": [
    "answer2"
   ]
  },
  {
   "cell_type": "code",
   "execution_count": 124,
   "id": "e2008c93-ad85-4ddc-99be-d2340a491245",
   "metadata": {
    "collapsed": true,
    "jupyter": {
     "outputs_hidden": true
    },
    "tags": []
   },
   "outputs": [
    {
     "data": {
      "text/html": [
       "<div>\n",
       "<style scoped>\n",
       "    .dataframe tbody tr th:only-of-type {\n",
       "        vertical-align: middle;\n",
       "    }\n",
       "\n",
       "    .dataframe tbody tr th {\n",
       "        vertical-align: top;\n",
       "    }\n",
       "\n",
       "    .dataframe thead th {\n",
       "        text-align: right;\n",
       "    }\n",
       "</style>\n",
       "<table border=\"1\" class=\"dataframe\">\n",
       "  <thead>\n",
       "    <tr style=\"text-align: right;\">\n",
       "      <th></th>\n",
       "      <th>CUSTID</th>\n",
       "      <th>AVGPRICE</th>\n",
       "      <th>EMI</th>\n",
       "      <th>DEVICECOUNT</th>\n",
       "      <th>PRODUCTAGE</th>\n",
       "      <th>CUSTTYPE</th>\n",
       "    </tr>\n",
       "  </thead>\n",
       "  <tbody>\n",
       "    <tr>\n",
       "      <th>11</th>\n",
       "      <td>C18622</td>\n",
       "      <td>3246.000000</td>\n",
       "      <td>1</td>\n",
       "      <td>5.0</td>\n",
       "      <td>1.891624</td>\n",
       "      <td>Big-Screen-lover</td>\n",
       "    </tr>\n",
       "    <tr>\n",
       "      <th>46</th>\n",
       "      <td>I14835</td>\n",
       "      <td>3374.091339</td>\n",
       "      <td>1</td>\n",
       "      <td>4.0</td>\n",
       "      <td>2.749678</td>\n",
       "      <td>Sleeping-dog</td>\n",
       "    </tr>\n",
       "    <tr>\n",
       "      <th>47</th>\n",
       "      <td>I17056</td>\n",
       "      <td>2963.370122</td>\n",
       "      <td>1</td>\n",
       "      <td>3.0</td>\n",
       "      <td>2.139196</td>\n",
       "      <td>Sleeping-dog</td>\n",
       "    </tr>\n",
       "    <tr>\n",
       "      <th>56</th>\n",
       "      <td>K10712</td>\n",
       "      <td>3419.462596</td>\n",
       "      <td>1</td>\n",
       "      <td>4.0</td>\n",
       "      <td>2.825790</td>\n",
       "      <td>Sleeping-dog</td>\n",
       "    </tr>\n",
       "    <tr>\n",
       "      <th>57</th>\n",
       "      <td>K13300</td>\n",
       "      <td>3159.839204</td>\n",
       "      <td>1</td>\n",
       "      <td>3.0</td>\n",
       "      <td>1.960833</td>\n",
       "      <td>Sleeping-dog</td>\n",
       "    </tr>\n",
       "    <tr>\n",
       "      <th>65</th>\n",
       "      <td>M16452</td>\n",
       "      <td>3353.537290</td>\n",
       "      <td>1</td>\n",
       "      <td>4.0</td>\n",
       "      <td>1.940357</td>\n",
       "      <td>Sleeping-dog</td>\n",
       "    </tr>\n",
       "    <tr>\n",
       "      <th>68</th>\n",
       "      <td>N14862</td>\n",
       "      <td>2390.083736</td>\n",
       "      <td>1</td>\n",
       "      <td>6.0</td>\n",
       "      <td>1.000000</td>\n",
       "      <td>Early-bird</td>\n",
       "    </tr>\n",
       "    <tr>\n",
       "      <th>72</th>\n",
       "      <td>O13037</td>\n",
       "      <td>3398.216334</td>\n",
       "      <td>1</td>\n",
       "      <td>4.0</td>\n",
       "      <td>2.994395</td>\n",
       "      <td>Sleeping-dog</td>\n",
       "    </tr>\n",
       "    <tr>\n",
       "      <th>73</th>\n",
       "      <td>O13586</td>\n",
       "      <td>2980.229239</td>\n",
       "      <td>1</td>\n",
       "      <td>3.0</td>\n",
       "      <td>2.038603</td>\n",
       "      <td>Sleeping-dog</td>\n",
       "    </tr>\n",
       "    <tr>\n",
       "      <th>86</th>\n",
       "      <td>Q16449</td>\n",
       "      <td>3048.308860</td>\n",
       "      <td>1</td>\n",
       "      <td>3.0</td>\n",
       "      <td>2.369758</td>\n",
       "      <td>Sleeping-dog</td>\n",
       "    </tr>\n",
       "    <tr>\n",
       "      <th>140</th>\n",
       "      <td>Y12458</td>\n",
       "      <td>2976.211190</td>\n",
       "      <td>1</td>\n",
       "      <td>3.0</td>\n",
       "      <td>2.199677</td>\n",
       "      <td>Sleeping-dog</td>\n",
       "    </tr>\n",
       "  </tbody>\n",
       "</table>\n",
       "</div>"
      ],
      "text/plain": [
       "     CUSTID     AVGPRICE  EMI  DEVICECOUNT  PRODUCTAGE          CUSTTYPE\n",
       "11   C18622  3246.000000    1          5.0    1.891624  Big-Screen-lover\n",
       "46   I14835  3374.091339    1          4.0    2.749678      Sleeping-dog\n",
       "47   I17056  2963.370122    1          3.0    2.139196      Sleeping-dog\n",
       "56   K10712  3419.462596    1          4.0    2.825790      Sleeping-dog\n",
       "57   K13300  3159.839204    1          3.0    1.960833      Sleeping-dog\n",
       "65   M16452  3353.537290    1          4.0    1.940357      Sleeping-dog\n",
       "68   N14862  2390.083736    1          6.0    1.000000        Early-bird\n",
       "72   O13037  3398.216334    1          4.0    2.994395      Sleeping-dog\n",
       "73   O13586  2980.229239    1          3.0    2.038603      Sleeping-dog\n",
       "86   Q16449  3048.308860    1          3.0    2.369758      Sleeping-dog\n",
       "140  Y12458  2976.211190    1          3.0    2.199677      Sleeping-dog"
      ]
     },
     "execution_count": 124,
     "metadata": {},
     "output_type": "execute_result"
    }
   ],
   "source": [
    "answer3"
   ]
  },
  {
   "cell_type": "code",
   "execution_count": 125,
   "id": "0a2e1a09-ab60-4a88-b5d1-574509b9197d",
   "metadata": {},
   "outputs": [],
   "source": [
    "specificIndex = [1,3]"
   ]
  },
  {
   "cell_type": "code",
   "execution_count": 126,
   "id": "fcb96b13-328a-4770-9122-71357d1eb088",
   "metadata": {},
   "outputs": [],
   "source": [
    "answer01 = customerData.loc[specificIndex]"
   ]
  },
  {
   "cell_type": "code",
   "execution_count": 127,
   "id": "4dbc2baa-96c1-49d6-b1bf-509f5a68acff",
   "metadata": {
    "collapsed": true,
    "jupyter": {
     "outputs_hidden": true
    },
    "tags": []
   },
   "outputs": [
    {
     "data": {
      "text/html": [
       "<div>\n",
       "<style scoped>\n",
       "    .dataframe tbody tr th:only-of-type {\n",
       "        vertical-align: middle;\n",
       "    }\n",
       "\n",
       "    .dataframe tbody tr th {\n",
       "        vertical-align: top;\n",
       "    }\n",
       "\n",
       "    .dataframe thead th {\n",
       "        text-align: right;\n",
       "    }\n",
       "</style>\n",
       "<table border=\"1\" class=\"dataframe\">\n",
       "  <thead>\n",
       "    <tr style=\"text-align: right;\">\n",
       "      <th></th>\n",
       "      <th>CUSTID</th>\n",
       "      <th>AVGPRICE</th>\n",
       "      <th>EMI</th>\n",
       "      <th>DEVICECOUNT</th>\n",
       "      <th>PRODUCTAGE</th>\n",
       "      <th>CUSTTYPE</th>\n",
       "    </tr>\n",
       "  </thead>\n",
       "  <tbody>\n",
       "    <tr>\n",
       "      <th>1</th>\n",
       "      <td>A14219</td>\n",
       "      <td>3642.441950</td>\n",
       "      <td>2</td>\n",
       "      <td>4.0</td>\n",
       "      <td>2.682023</td>\n",
       "      <td>Sleeping-dog</td>\n",
       "    </tr>\n",
       "    <tr>\n",
       "      <th>3</th>\n",
       "      <td>A16605</td>\n",
       "      <td>3713.211107</td>\n",
       "      <td>2</td>\n",
       "      <td>6.0</td>\n",
       "      <td>0.900000</td>\n",
       "      <td>Early-bird</td>\n",
       "    </tr>\n",
       "  </tbody>\n",
       "</table>\n",
       "</div>"
      ],
      "text/plain": [
       "   CUSTID     AVGPRICE  EMI  DEVICECOUNT  PRODUCTAGE      CUSTTYPE\n",
       "1  A14219  3642.441950    2          4.0    2.682023  Sleeping-dog\n",
       "3  A16605  3713.211107    2          6.0    0.900000    Early-bird"
      ]
     },
     "execution_count": 127,
     "metadata": {},
     "output_type": "execute_result"
    }
   ],
   "source": [
    "answer01"
   ]
  },
  {
   "cell_type": "code",
   "execution_count": 128,
   "id": "2cb0071f-da61-489a-b161-2f430f73e6d0",
   "metadata": {},
   "outputs": [],
   "source": [
    "answer2 = customerData.loc[1:3]"
   ]
  },
  {
   "cell_type": "code",
   "execution_count": 129,
   "id": "f30eac78-9b7f-45f8-a734-819d687ec573",
   "metadata": {
    "collapsed": true,
    "jupyter": {
     "outputs_hidden": true
    },
    "tags": []
   },
   "outputs": [
    {
     "data": {
      "text/html": [
       "<div>\n",
       "<style scoped>\n",
       "    .dataframe tbody tr th:only-of-type {\n",
       "        vertical-align: middle;\n",
       "    }\n",
       "\n",
       "    .dataframe tbody tr th {\n",
       "        vertical-align: top;\n",
       "    }\n",
       "\n",
       "    .dataframe thead th {\n",
       "        text-align: right;\n",
       "    }\n",
       "</style>\n",
       "<table border=\"1\" class=\"dataframe\">\n",
       "  <thead>\n",
       "    <tr style=\"text-align: right;\">\n",
       "      <th></th>\n",
       "      <th>CUSTID</th>\n",
       "      <th>AVGPRICE</th>\n",
       "      <th>EMI</th>\n",
       "      <th>DEVICECOUNT</th>\n",
       "      <th>PRODUCTAGE</th>\n",
       "      <th>CUSTTYPE</th>\n",
       "    </tr>\n",
       "  </thead>\n",
       "  <tbody>\n",
       "    <tr>\n",
       "      <th>1</th>\n",
       "      <td>A14219</td>\n",
       "      <td>3642.441950</td>\n",
       "      <td>2</td>\n",
       "      <td>4.0</td>\n",
       "      <td>2.682023</td>\n",
       "      <td>Sleeping-dog</td>\n",
       "    </tr>\n",
       "    <tr>\n",
       "      <th>2</th>\n",
       "      <td>A15312</td>\n",
       "      <td>3653.884565</td>\n",
       "      <td>2</td>\n",
       "      <td>5.0</td>\n",
       "      <td>3.208202</td>\n",
       "      <td>Sleeping-dog</td>\n",
       "    </tr>\n",
       "    <tr>\n",
       "      <th>3</th>\n",
       "      <td>A16605</td>\n",
       "      <td>3713.211107</td>\n",
       "      <td>2</td>\n",
       "      <td>6.0</td>\n",
       "      <td>0.900000</td>\n",
       "      <td>Early-bird</td>\n",
       "    </tr>\n",
       "  </tbody>\n",
       "</table>\n",
       "</div>"
      ],
      "text/plain": [
       "   CUSTID     AVGPRICE  EMI  DEVICECOUNT  PRODUCTAGE      CUSTTYPE\n",
       "1  A14219  3642.441950    2          4.0    2.682023  Sleeping-dog\n",
       "2  A15312  3653.884565    2          5.0    3.208202  Sleeping-dog\n",
       "3  A16605  3713.211107    2          6.0    0.900000    Early-bird"
      ]
     },
     "execution_count": 129,
     "metadata": {},
     "output_type": "execute_result"
    }
   ],
   "source": [
    "answer2"
   ]
  },
  {
   "cell_type": "code",
   "execution_count": 130,
   "id": "eb1737b9-61b6-4663-b05a-d0299d0bbd50",
   "metadata": {},
   "outputs": [],
   "source": [
    "answer3 = customerData.loc[:]"
   ]
  },
  {
   "cell_type": "code",
   "execution_count": 131,
   "id": "c3b7ea6d-5456-4b04-8ead-12a436431813",
   "metadata": {
    "collapsed": true,
    "jupyter": {
     "outputs_hidden": true
    },
    "tags": []
   },
   "outputs": [
    {
     "data": {
      "text/html": [
       "<div>\n",
       "<style scoped>\n",
       "    .dataframe tbody tr th:only-of-type {\n",
       "        vertical-align: middle;\n",
       "    }\n",
       "\n",
       "    .dataframe tbody tr th {\n",
       "        vertical-align: top;\n",
       "    }\n",
       "\n",
       "    .dataframe thead th {\n",
       "        text-align: right;\n",
       "    }\n",
       "</style>\n",
       "<table border=\"1\" class=\"dataframe\">\n",
       "  <thead>\n",
       "    <tr style=\"text-align: right;\">\n",
       "      <th></th>\n",
       "      <th>CUSTID</th>\n",
       "      <th>AVGPRICE</th>\n",
       "      <th>EMI</th>\n",
       "      <th>DEVICECOUNT</th>\n",
       "      <th>PRODUCTAGE</th>\n",
       "      <th>CUSTTYPE</th>\n",
       "    </tr>\n",
       "  </thead>\n",
       "  <tbody>\n",
       "    <tr>\n",
       "      <th>0</th>\n",
       "      <td>A13566</td>\n",
       "      <td>4273.900000</td>\n",
       "      <td>3</td>\n",
       "      <td>6.0</td>\n",
       "      <td>1.679181</td>\n",
       "      <td>Big-Screen-lover</td>\n",
       "    </tr>\n",
       "    <tr>\n",
       "      <th>1</th>\n",
       "      <td>A14219</td>\n",
       "      <td>3642.441950</td>\n",
       "      <td>2</td>\n",
       "      <td>4.0</td>\n",
       "      <td>2.682023</td>\n",
       "      <td>Sleeping-dog</td>\n",
       "    </tr>\n",
       "    <tr>\n",
       "      <th>2</th>\n",
       "      <td>A15312</td>\n",
       "      <td>3653.884565</td>\n",
       "      <td>2</td>\n",
       "      <td>5.0</td>\n",
       "      <td>3.208202</td>\n",
       "      <td>Sleeping-dog</td>\n",
       "    </tr>\n",
       "    <tr>\n",
       "      <th>3</th>\n",
       "      <td>A16605</td>\n",
       "      <td>3713.211107</td>\n",
       "      <td>2</td>\n",
       "      <td>6.0</td>\n",
       "      <td>0.900000</td>\n",
       "      <td>Early-bird</td>\n",
       "    </tr>\n",
       "    <tr>\n",
       "      <th>4</th>\n",
       "      <td>B10634</td>\n",
       "      <td>3391.074215</td>\n",
       "      <td>2</td>\n",
       "      <td>4.0</td>\n",
       "      <td>2.453656</td>\n",
       "      <td>Sleeping-dog</td>\n",
       "    </tr>\n",
       "    <tr>\n",
       "      <th>...</th>\n",
       "      <td>...</td>\n",
       "      <td>...</td>\n",
       "      <td>...</td>\n",
       "      <td>...</td>\n",
       "      <td>...</td>\n",
       "      <td>...</td>\n",
       "    </tr>\n",
       "    <tr>\n",
       "      <th>145</th>\n",
       "      <td>Z13253</td>\n",
       "      <td>3678.800000</td>\n",
       "      <td>2</td>\n",
       "      <td>5.0</td>\n",
       "      <td>2.463670</td>\n",
       "      <td>Big-Screen-lover</td>\n",
       "    </tr>\n",
       "    <tr>\n",
       "      <th>146</th>\n",
       "      <td>Z13534</td>\n",
       "      <td>3662.437527</td>\n",
       "      <td>3</td>\n",
       "      <td>6.0</td>\n",
       "      <td>0.900000</td>\n",
       "      <td>Early-bird</td>\n",
       "    </tr>\n",
       "    <tr>\n",
       "      <th>147</th>\n",
       "      <td>Z16428</td>\n",
       "      <td>3516.500000</td>\n",
       "      <td>2</td>\n",
       "      <td>5.0</td>\n",
       "      <td>2.371301</td>\n",
       "      <td>Big-Screen-lover</td>\n",
       "    </tr>\n",
       "    <tr>\n",
       "      <th>148</th>\n",
       "      <td>Z16735</td>\n",
       "      <td>3300.100000</td>\n",
       "      <td>2</td>\n",
       "      <td>5.0</td>\n",
       "      <td>1.704942</td>\n",
       "      <td>Big-Screen-lover</td>\n",
       "    </tr>\n",
       "    <tr>\n",
       "      <th>149</th>\n",
       "      <td>Z19835</td>\n",
       "      <td>3326.526183</td>\n",
       "      <td>2</td>\n",
       "      <td>6.0</td>\n",
       "      <td>1.200000</td>\n",
       "      <td>Early-bird</td>\n",
       "    </tr>\n",
       "  </tbody>\n",
       "</table>\n",
       "<p>150 rows × 6 columns</p>\n",
       "</div>"
      ],
      "text/plain": [
       "     CUSTID     AVGPRICE  EMI  DEVICECOUNT  PRODUCTAGE          CUSTTYPE\n",
       "0    A13566  4273.900000    3          6.0    1.679181  Big-Screen-lover\n",
       "1    A14219  3642.441950    2          4.0    2.682023      Sleeping-dog\n",
       "2    A15312  3653.884565    2          5.0    3.208202      Sleeping-dog\n",
       "3    A16605  3713.211107    2          6.0    0.900000        Early-bird\n",
       "4    B10634  3391.074215    2          4.0    2.453656      Sleeping-dog\n",
       "..      ...          ...  ...          ...         ...               ...\n",
       "145  Z13253  3678.800000    2          5.0    2.463670  Big-Screen-lover\n",
       "146  Z13534  3662.437527    3          6.0    0.900000        Early-bird\n",
       "147  Z16428  3516.500000    2          5.0    2.371301  Big-Screen-lover\n",
       "148  Z16735  3300.100000    2          5.0    1.704942  Big-Screen-lover\n",
       "149  Z19835  3326.526183    2          6.0    1.200000        Early-bird\n",
       "\n",
       "[150 rows x 6 columns]"
      ]
     },
     "execution_count": 131,
     "metadata": {},
     "output_type": "execute_result"
    }
   ],
   "source": [
    "answer3"
   ]
  },
  {
   "cell_type": "code",
   "execution_count": 140,
   "id": "55415015-dba9-49cd-8ae3-10d585ef8575",
   "metadata": {},
   "outputs": [],
   "source": [
    "customerDataCIndex = customerData.iloc[0:3, 0:2]"
   ]
  },
  {
   "cell_type": "code",
   "execution_count": 141,
   "id": "974daac1-408e-444b-9987-db2037edbda8",
   "metadata": {},
   "outputs": [
    {
     "data": {
      "text/html": [
       "<div>\n",
       "<style scoped>\n",
       "    .dataframe tbody tr th:only-of-type {\n",
       "        vertical-align: middle;\n",
       "    }\n",
       "\n",
       "    .dataframe tbody tr th {\n",
       "        vertical-align: top;\n",
       "    }\n",
       "\n",
       "    .dataframe thead th {\n",
       "        text-align: right;\n",
       "    }\n",
       "</style>\n",
       "<table border=\"1\" class=\"dataframe\">\n",
       "  <thead>\n",
       "    <tr style=\"text-align: right;\">\n",
       "      <th></th>\n",
       "      <th>CUSTID</th>\n",
       "      <th>AVGPRICE</th>\n",
       "    </tr>\n",
       "  </thead>\n",
       "  <tbody>\n",
       "    <tr>\n",
       "      <th>0</th>\n",
       "      <td>A13566</td>\n",
       "      <td>4273.900000</td>\n",
       "    </tr>\n",
       "    <tr>\n",
       "      <th>1</th>\n",
       "      <td>A14219</td>\n",
       "      <td>3642.441950</td>\n",
       "    </tr>\n",
       "    <tr>\n",
       "      <th>2</th>\n",
       "      <td>A15312</td>\n",
       "      <td>3653.884565</td>\n",
       "    </tr>\n",
       "  </tbody>\n",
       "</table>\n",
       "</div>"
      ],
      "text/plain": [
       "   CUSTID     AVGPRICE\n",
       "0  A13566  4273.900000\n",
       "1  A14219  3642.441950\n",
       "2  A15312  3653.884565"
      ]
     },
     "execution_count": 141,
     "metadata": {},
     "output_type": "execute_result"
    }
   ],
   "source": [
    "customerDataCIndex"
   ]
  },
  {
   "cell_type": "code",
   "execution_count": 142,
   "id": "7bbd514b-335a-49bc-9420-ee077a9b7cdd",
   "metadata": {},
   "outputs": [],
   "source": [
    "customerDataIndex = customerData.loc[[2, 4, 6]]"
   ]
  },
  {
   "cell_type": "code",
   "execution_count": 143,
   "id": "884625b2-b270-4b3f-a364-d7ef4645202a",
   "metadata": {},
   "outputs": [
    {
     "data": {
      "text/html": [
       "<div>\n",
       "<style scoped>\n",
       "    .dataframe tbody tr th:only-of-type {\n",
       "        vertical-align: middle;\n",
       "    }\n",
       "\n",
       "    .dataframe tbody tr th {\n",
       "        vertical-align: top;\n",
       "    }\n",
       "\n",
       "    .dataframe thead th {\n",
       "        text-align: right;\n",
       "    }\n",
       "</style>\n",
       "<table border=\"1\" class=\"dataframe\">\n",
       "  <thead>\n",
       "    <tr style=\"text-align: right;\">\n",
       "      <th></th>\n",
       "      <th>CUSTID</th>\n",
       "      <th>AVGPRICE</th>\n",
       "      <th>EMI</th>\n",
       "      <th>DEVICECOUNT</th>\n",
       "      <th>PRODUCTAGE</th>\n",
       "      <th>CUSTTYPE</th>\n",
       "    </tr>\n",
       "  </thead>\n",
       "  <tbody>\n",
       "    <tr>\n",
       "      <th>2</th>\n",
       "      <td>A15312</td>\n",
       "      <td>3653.884565</td>\n",
       "      <td>2</td>\n",
       "      <td>5.0</td>\n",
       "      <td>3.208202</td>\n",
       "      <td>Sleeping-dog</td>\n",
       "    </tr>\n",
       "    <tr>\n",
       "      <th>4</th>\n",
       "      <td>B10634</td>\n",
       "      <td>3391.074215</td>\n",
       "      <td>2</td>\n",
       "      <td>4.0</td>\n",
       "      <td>2.453656</td>\n",
       "      <td>Sleeping-dog</td>\n",
       "    </tr>\n",
       "    <tr>\n",
       "      <th>6</th>\n",
       "      <td>B18816</td>\n",
       "      <td>3213.911446</td>\n",
       "      <td>2</td>\n",
       "      <td>6.0</td>\n",
       "      <td>0.900000</td>\n",
       "      <td>Early-bird</td>\n",
       "    </tr>\n",
       "  </tbody>\n",
       "</table>\n",
       "</div>"
      ],
      "text/plain": [
       "   CUSTID     AVGPRICE  EMI  DEVICECOUNT  PRODUCTAGE      CUSTTYPE\n",
       "2  A15312  3653.884565    2          5.0    3.208202  Sleeping-dog\n",
       "4  B10634  3391.074215    2          4.0    2.453656  Sleeping-dog\n",
       "6  B18816  3213.911446    2          6.0    0.900000    Early-bird"
      ]
     },
     "execution_count": 143,
     "metadata": {},
     "output_type": "execute_result"
    }
   ],
   "source": [
    "customerDataIndex"
   ]
  },
  {
   "cell_type": "code",
   "execution_count": 144,
   "id": "74ccfeaa-a060-45a4-828c-0ef572ca3894",
   "metadata": {},
   "outputs": [],
   "source": [
    "csDataNewIndex = customerData.set_index(keys=[\"CUSTID\"])"
   ]
  },
  {
   "cell_type": "code",
   "execution_count": 146,
   "id": "9f4f6b93-fd67-4db3-b902-9a9deadd3812",
   "metadata": {
    "tags": []
   },
   "outputs": [],
   "source": [
    "# csDataNewIndex"
   ]
  },
  {
   "cell_type": "code",
   "execution_count": null,
   "id": "0211c42e-a428-4129-bec7-02e9b060aa2b",
   "metadata": {},
   "outputs": [],
   "source": [
    "# 데이터 조작하기"
   ]
  },
  {
   "cell_type": "code",
   "execution_count": null,
   "id": "34dcc67d-e20b-4647-8ec5-cb2a86de20d1",
   "metadata": {},
   "outputs": [],
   "source": [
    "# 1. numpy"
   ]
  },
  {
   "cell_type": "code",
   "execution_count": 147,
   "id": "0c4c80d1-0d54-42f3-bc8f-50ed32b98c88",
   "metadata": {},
   "outputs": [],
   "source": [
    "import pandas as pd\n",
    "import numpy as np"
   ]
  },
  {
   "cell_type": "code",
   "execution_count": 148,
   "id": "7ecf71eb-5dad-4eda-8ad9-6693f9909a24",
   "metadata": {},
   "outputs": [],
   "source": [
    "customerData = pd.read_csv(\"../../Python_Script/dataset/customerdata.csv\")"
   ]
  },
  {
   "cell_type": "code",
   "execution_count": 151,
   "id": "5043f493-ce19-4f07-be43-3158d8912742",
   "metadata": {},
   "outputs": [],
   "source": [
    "customerData.PRODUCTAGE=\\\n",
    "np.where(customerData.PRODUCTAGE <= 1, 1, \\\n",
    "         np.where(customerData.PRODUCTAGE <=2, 2, \\\n",
    "                  np.where(customerData.PRODUCTAGE <3, 3, 4)))"
   ]
  },
  {
   "cell_type": "code",
   "execution_count": 152,
   "id": "4938c330-13f1-4624-b0e6-5f798b6cae5e",
   "metadata": {},
   "outputs": [
    {
     "data": {
      "text/plain": [
       "0      2\n",
       "1      3\n",
       "2      4\n",
       "3      1\n",
       "4      3\n",
       "      ..\n",
       "145    3\n",
       "146    1\n",
       "147    3\n",
       "148    2\n",
       "149    2\n",
       "Name: PRODUCTAGE, Length: 150, dtype: int32"
      ]
     },
     "execution_count": 152,
     "metadata": {},
     "output_type": "execute_result"
    }
   ],
   "source": [
    "customerData.PRODUCTAGE"
   ]
  },
  {
   "cell_type": "code",
   "execution_count": 155,
   "id": "d5aef83e-8e61-4c97-b5bf-7615413c3166",
   "metadata": {},
   "outputs": [],
   "source": [
    "def agePeriods(inAge):\n",
    "\n",
    "    if inAge <= 1:\n",
    "        return 1\n",
    "    elif inAge <= 2:\n",
    "        return 2\n",
    "    else:\n",
    "        return 3"
   ]
  },
  {
   "cell_type": "code",
   "execution_count": 156,
   "id": "a526b5b9-79cb-4e80-8e79-f34f9c1deb3c",
   "metadata": {},
   "outputs": [],
   "source": [
    "customerData[\"NEW_AGE\"] = customerData.PRODUCTAGE.apply(agePeriods)"
   ]
  },
  {
   "cell_type": "code",
   "execution_count": 158,
   "id": "573d58db-d060-4f58-acc6-0128eb9c87e2",
   "metadata": {},
   "outputs": [
    {
     "data": {
      "text/html": [
       "<div>\n",
       "<style scoped>\n",
       "    .dataframe tbody tr th:only-of-type {\n",
       "        vertical-align: middle;\n",
       "    }\n",
       "\n",
       "    .dataframe tbody tr th {\n",
       "        vertical-align: top;\n",
       "    }\n",
       "\n",
       "    .dataframe thead th {\n",
       "        text-align: right;\n",
       "    }\n",
       "</style>\n",
       "<table border=\"1\" class=\"dataframe\">\n",
       "  <thead>\n",
       "    <tr style=\"text-align: right;\">\n",
       "      <th></th>\n",
       "      <th>CUSTID</th>\n",
       "      <th>AVGPRICE</th>\n",
       "      <th>EMI</th>\n",
       "      <th>DEVICECOUNT</th>\n",
       "      <th>PRODUCTAGE</th>\n",
       "      <th>CUSTTYPE</th>\n",
       "      <th>NEW_AGE</th>\n",
       "    </tr>\n",
       "  </thead>\n",
       "  <tbody>\n",
       "    <tr>\n",
       "      <th>0</th>\n",
       "      <td>A13566</td>\n",
       "      <td>4273.900000</td>\n",
       "      <td>3</td>\n",
       "      <td>6</td>\n",
       "      <td>2</td>\n",
       "      <td>Big-Screen-lover</td>\n",
       "      <td>2</td>\n",
       "    </tr>\n",
       "    <tr>\n",
       "      <th>1</th>\n",
       "      <td>A14219</td>\n",
       "      <td>3642.441950</td>\n",
       "      <td>2</td>\n",
       "      <td>4</td>\n",
       "      <td>3</td>\n",
       "      <td>Sleeping-dog</td>\n",
       "      <td>3</td>\n",
       "    </tr>\n",
       "    <tr>\n",
       "      <th>2</th>\n",
       "      <td>A15312</td>\n",
       "      <td>3653.884565</td>\n",
       "      <td>2</td>\n",
       "      <td>5</td>\n",
       "      <td>4</td>\n",
       "      <td>Sleeping-dog</td>\n",
       "      <td>3</td>\n",
       "    </tr>\n",
       "    <tr>\n",
       "      <th>3</th>\n",
       "      <td>A16605</td>\n",
       "      <td>3713.211107</td>\n",
       "      <td>2</td>\n",
       "      <td>6</td>\n",
       "      <td>1</td>\n",
       "      <td>Early-bird</td>\n",
       "      <td>1</td>\n",
       "    </tr>\n",
       "    <tr>\n",
       "      <th>4</th>\n",
       "      <td>B10634</td>\n",
       "      <td>3391.074215</td>\n",
       "      <td>2</td>\n",
       "      <td>4</td>\n",
       "      <td>3</td>\n",
       "      <td>Sleeping-dog</td>\n",
       "      <td>3</td>\n",
       "    </tr>\n",
       "  </tbody>\n",
       "</table>\n",
       "</div>"
      ],
      "text/plain": [
       "   CUSTID     AVGPRICE  EMI  DEVICECOUNT  PRODUCTAGE          CUSTTYPE  \\\n",
       "0  A13566  4273.900000    3            6           2  Big-Screen-lover   \n",
       "1  A14219  3642.441950    2            4           3      Sleeping-dog   \n",
       "2  A15312  3653.884565    2            5           4      Sleeping-dog   \n",
       "3  A16605  3713.211107    2            6           1        Early-bird   \n",
       "4  B10634  3391.074215    2            4           3      Sleeping-dog   \n",
       "\n",
       "   NEW_AGE  \n",
       "0        2  \n",
       "1        3  \n",
       "2        3  \n",
       "3        1  \n",
       "4        3  "
      ]
     },
     "execution_count": 158,
     "metadata": {},
     "output_type": "execute_result"
    }
   ],
   "source": [
    "customerData.head()"
   ]
  },
  {
   "cell_type": "code",
   "execution_count": 159,
   "id": "4eab1c46-377b-40d1-abef-6acbb664f2c1",
   "metadata": {},
   "outputs": [],
   "source": [
    "import pandas as pd\n",
    "\n",
    "customerData = pd.read_csv(\"../../Python_Script/dataset/customerdata.csv\")"
   ]
  },
  {
   "cell_type": "code",
   "execution_count": 160,
   "id": "3a1b8f4d-159a-4d0d-9d2d-f7447c74a81e",
   "metadata": {},
   "outputs": [],
   "source": [
    "sortKey = [\"EMI\", \"AVGPRICE\"]"
   ]
  },
  {
   "cell_type": "code",
   "execution_count": 163,
   "id": "d3e1e58d-11bc-4f45-956d-d3f6bbd9c73d",
   "metadata": {},
   "outputs": [
    {
     "data": {
      "text/html": [
       "<div>\n",
       "<style scoped>\n",
       "    .dataframe tbody tr th:only-of-type {\n",
       "        vertical-align: middle;\n",
       "    }\n",
       "\n",
       "    .dataframe tbody tr th {\n",
       "        vertical-align: top;\n",
       "    }\n",
       "\n",
       "    .dataframe thead th {\n",
       "        text-align: right;\n",
       "    }\n",
       "</style>\n",
       "<table border=\"1\" class=\"dataframe\">\n",
       "  <thead>\n",
       "    <tr style=\"text-align: right;\">\n",
       "      <th></th>\n",
       "      <th>CUSTID</th>\n",
       "      <th>AVGPRICE</th>\n",
       "      <th>EMI</th>\n",
       "      <th>DEVICECOUNT</th>\n",
       "      <th>PRODUCTAGE</th>\n",
       "      <th>CUSTTYPE</th>\n",
       "    </tr>\n",
       "  </thead>\n",
       "  <tbody>\n",
       "    <tr>\n",
       "      <th>68</th>\n",
       "      <td>N14862</td>\n",
       "      <td>2390.083736</td>\n",
       "      <td>1</td>\n",
       "      <td>6</td>\n",
       "      <td>1.000000</td>\n",
       "      <td>Early-bird</td>\n",
       "    </tr>\n",
       "    <tr>\n",
       "      <th>47</th>\n",
       "      <td>I17056</td>\n",
       "      <td>2963.370122</td>\n",
       "      <td>1</td>\n",
       "      <td>3</td>\n",
       "      <td>2.139196</td>\n",
       "      <td>Sleeping-dog</td>\n",
       "    </tr>\n",
       "    <tr>\n",
       "      <th>140</th>\n",
       "      <td>Y12458</td>\n",
       "      <td>2976.211190</td>\n",
       "      <td>1</td>\n",
       "      <td>3</td>\n",
       "      <td>2.199677</td>\n",
       "      <td>Sleeping-dog</td>\n",
       "    </tr>\n",
       "    <tr>\n",
       "      <th>73</th>\n",
       "      <td>O13586</td>\n",
       "      <td>2980.229239</td>\n",
       "      <td>1</td>\n",
       "      <td>3</td>\n",
       "      <td>2.038603</td>\n",
       "      <td>Sleeping-dog</td>\n",
       "    </tr>\n",
       "    <tr>\n",
       "      <th>86</th>\n",
       "      <td>Q16449</td>\n",
       "      <td>3048.308860</td>\n",
       "      <td>1</td>\n",
       "      <td>3</td>\n",
       "      <td>2.369758</td>\n",
       "      <td>Sleeping-dog</td>\n",
       "    </tr>\n",
       "    <tr>\n",
       "      <th>...</th>\n",
       "      <td>...</td>\n",
       "      <td>...</td>\n",
       "      <td>...</td>\n",
       "      <td>...</td>\n",
       "      <td>...</td>\n",
       "      <td>...</td>\n",
       "    </tr>\n",
       "    <tr>\n",
       "      <th>107</th>\n",
       "      <td>S17396</td>\n",
       "      <td>3895.200000</td>\n",
       "      <td>3</td>\n",
       "      <td>6</td>\n",
       "      <td>2.055707</td>\n",
       "      <td>Big-Screen-lover</td>\n",
       "    </tr>\n",
       "    <tr>\n",
       "      <th>40</th>\n",
       "      <td>H16326</td>\n",
       "      <td>3988.935304</td>\n",
       "      <td>3</td>\n",
       "      <td>6</td>\n",
       "      <td>0.900000</td>\n",
       "      <td>Early-bird</td>\n",
       "    </tr>\n",
       "    <tr>\n",
       "      <th>113</th>\n",
       "      <td>T11473</td>\n",
       "      <td>4165.700000</td>\n",
       "      <td>3</td>\n",
       "      <td>6</td>\n",
       "      <td>1.780674</td>\n",
       "      <td>Big-Screen-lover</td>\n",
       "    </tr>\n",
       "    <tr>\n",
       "      <th>0</th>\n",
       "      <td>A13566</td>\n",
       "      <td>4273.900000</td>\n",
       "      <td>3</td>\n",
       "      <td>6</td>\n",
       "      <td>1.679181</td>\n",
       "      <td>Big-Screen-lover</td>\n",
       "    </tr>\n",
       "    <tr>\n",
       "      <th>130</th>\n",
       "      <td>W13404</td>\n",
       "      <td>4296.873743</td>\n",
       "      <td>3</td>\n",
       "      <td>6</td>\n",
       "      <td>1.100000</td>\n",
       "      <td>Early-bird</td>\n",
       "    </tr>\n",
       "  </tbody>\n",
       "</table>\n",
       "<p>150 rows × 6 columns</p>\n",
       "</div>"
      ],
      "text/plain": [
       "     CUSTID     AVGPRICE  EMI  DEVICECOUNT  PRODUCTAGE          CUSTTYPE\n",
       "68   N14862  2390.083736    1            6    1.000000        Early-bird\n",
       "47   I17056  2963.370122    1            3    2.139196      Sleeping-dog\n",
       "140  Y12458  2976.211190    1            3    2.199677      Sleeping-dog\n",
       "73   O13586  2980.229239    1            3    2.038603      Sleeping-dog\n",
       "86   Q16449  3048.308860    1            3    2.369758      Sleeping-dog\n",
       "..      ...          ...  ...          ...         ...               ...\n",
       "107  S17396  3895.200000    3            6    2.055707  Big-Screen-lover\n",
       "40   H16326  3988.935304    3            6    0.900000        Early-bird\n",
       "113  T11473  4165.700000    3            6    1.780674  Big-Screen-lover\n",
       "0    A13566  4273.900000    3            6    1.679181  Big-Screen-lover\n",
       "130  W13404  4296.873743    3            6    1.100000        Early-bird\n",
       "\n",
       "[150 rows x 6 columns]"
      ]
     },
     "execution_count": 163,
     "metadata": {},
     "output_type": "execute_result"
    }
   ],
   "source": [
    "customerData.sort_values(by=sortKey,\n",
    "                         ascending=True,\n",
    "                         ignore_index=False)"
   ]
  }
 ],
 "metadata": {
  "kernelspec": {
   "display_name": "Python 3 (ipykernel)",
   "language": "python",
   "name": "python3"
  },
  "language_info": {
   "codemirror_mode": {
    "name": "ipython",
    "version": 3
   },
   "file_extension": ".py",
   "mimetype": "text/x-python",
   "name": "python",
   "nbconvert_exporter": "python",
   "pygments_lexer": "ipython3",
   "version": "3.9.13"
  }
 },
 "nbformat": 4,
 "nbformat_minor": 5
}
