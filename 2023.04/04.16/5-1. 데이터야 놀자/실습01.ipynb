{
 "cells": [
  {
   "cell_type": "markdown",
   "id": "bf78ca11-f911-4b9e-bf38-e526d3bf73a0",
   "metadata": {},
   "source": [
    "[데이터타입 통합]\n",
    "kopo_channel_seasonality_new.csv 파일을 불러온 후\n",
    "selloutData 변수에 담으세요 이후 \n",
    "QTY컬럼→실수(float), 이외컬럼→문자(str)로 변경하세요"
   ]
  },
  {
   "cell_type": "code",
   "execution_count": 2,
   "id": "e5ec8bd4-e1d7-4a0c-a838-a423b2164d88",
   "metadata": {},
   "outputs": [],
   "source": [
    "import pandas as pd"
   ]
  },
  {
   "cell_type": "code",
   "execution_count": 3,
   "id": "464a9075-1a5a-4f45-8d99-619d2c6675a0",
   "metadata": {},
   "outputs": [],
   "source": [
    "selloutData = pd.read_csv(\"../../../Python_Script/dataset/kopo_channel_seasonality_new.csv\")"
   ]
  },
  {
   "cell_type": "code",
   "execution_count": 4,
   "id": "eb052188-578c-455e-8483-75ceaeaf0199",
   "metadata": {},
   "outputs": [
    {
     "data": {
      "text/plain": [
       "REGIONID     object\n",
       "PRODUCT      object\n",
       "YEARWEEK      int64\n",
       "QTY         float64\n",
       "dtype: object"
      ]
     },
     "execution_count": 4,
     "metadata": {},
     "output_type": "execute_result"
    }
   ],
   "source": [
    "selloutData.dtypes"
   ]
  },
  {
   "cell_type": "code",
   "execution_count": 6,
   "id": "6e83a61b-245a-42e6-a8af-e22fa7d16563",
   "metadata": {},
   "outputs": [],
   "source": [
    "selloutData = selloutData.astype(\n",
    "    {\"QTY\":float,\n",
    "     \"REGIONID\":str,\n",
    "     \"YEARWEEK\":str,\n",
    "     \"PRODUCT\":str})"
   ]
  },
  {
   "cell_type": "code",
   "execution_count": 7,
   "id": "bb57aa5b-1d6d-4723-a1fe-d11042a98d6c",
   "metadata": {},
   "outputs": [
    {
     "data": {
      "text/plain": [
       "REGIONID     object\n",
       "PRODUCT      object\n",
       "YEARWEEK     object\n",
       "QTY         float64\n",
       "dtype: object"
      ]
     },
     "execution_count": 7,
     "metadata": {},
     "output_type": "execute_result"
    }
   ],
   "source": [
    "selloutData.dtypes"
   ]
  }
 ],
 "metadata": {
  "kernelspec": {
   "display_name": "Python 3 (ipykernel)",
   "language": "python",
   "name": "python3"
  },
  "language_info": {
   "codemirror_mode": {
    "name": "ipython",
    "version": 3
   },
   "file_extension": ".py",
   "mimetype": "text/x-python",
   "name": "python",
   "nbconvert_exporter": "python",
   "pygments_lexer": "ipython3",
   "version": "3.9.13"
  }
 },
 "nbformat": 4,
 "nbformat_minor": 5
}
