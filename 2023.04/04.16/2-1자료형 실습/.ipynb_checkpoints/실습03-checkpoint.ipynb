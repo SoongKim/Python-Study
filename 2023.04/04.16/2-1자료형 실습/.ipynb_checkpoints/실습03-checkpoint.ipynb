{
 "cells": [
  {
   "cell_type": "code",
   "execution_count": 1,
   "id": "4f737ca8-ec98-42ec-893a-bc5ac59349ea",
   "metadata": {},
   "outputs": [],
   "source": [
    "listA = [120, 150, 300, 500, 1000, 100, 2000]"
   ]
  },
  {
   "cell_type": "code",
   "execution_count": 2,
   "id": "51d1330a-7a19-4abc-86dc-43541785ca2f",
   "metadata": {},
   "outputs": [],
   "source": [
    "maxListA = max(listA)"
   ]
  },
  {
   "cell_type": "code",
   "execution_count": 3,
   "id": "c60834ca-14db-42eb-9e70-a60d1f20d2b2",
   "metadata": {},
   "outputs": [],
   "source": [
    "minListA = min(listA)"
   ]
  },
  {
   "cell_type": "code",
   "execution_count": 5,
   "id": "58a48d5f-8232-4ef3-9aa2-3d2bd0bb99c1",
   "metadata": {},
   "outputs": [],
   "source": [
    "listA.remove(maxListA)"
   ]
  },
  {
   "cell_type": "code",
   "execution_count": 6,
   "id": "464e3548-1548-462e-8474-7d54425ca041",
   "metadata": {},
   "outputs": [],
   "source": [
    "listA.remove(minListA)"
   ]
  },
  {
   "cell_type": "code",
   "execution_count": 7,
   "id": "3187db97-77f3-4370-ae4e-d51dea7762e8",
   "metadata": {},
   "outputs": [
    {
     "data": {
      "text/plain": [
       "[120, 150, 300, 500, 1000]"
      ]
     },
     "execution_count": 7,
     "metadata": {},
     "output_type": "execute_result"
    }
   ],
   "source": [
    "listA"
   ]
  },
  {
   "cell_type": "code",
   "execution_count": 8,
   "id": "80393f00-f766-4945-8bce-167aeb4deecb",
   "metadata": {},
   "outputs": [],
   "source": [
    "avgList = sum(listA)"
   ]
  },
  {
   "cell_type": "code",
   "execution_count": 10,
   "id": "69795fbd-ad65-4ce8-af1c-81a824f124c1",
   "metadata": {},
   "outputs": [],
   "source": [
    "lenListA = len(listA)"
   ]
  },
  {
   "cell_type": "code",
   "execution_count": 11,
   "id": "f6065574-f19d-472b-b06d-06ca8983649a",
   "metadata": {},
   "outputs": [],
   "source": [
    "average = avgList / len(listA)"
   ]
  },
  {
   "cell_type": "code",
   "execution_count": 12,
   "id": "e3445f1b-8f77-44c4-a86f-10a41fc5250a",
   "metadata": {},
   "outputs": [
    {
     "data": {
      "text/plain": [
       "414.0"
      ]
     },
     "execution_count": 12,
     "metadata": {},
     "output_type": "execute_result"
    }
   ],
   "source": [
    "average"
   ]
  },
  {
   "cell_type": "code",
   "execution_count": null,
   "id": "743effdc-349d-4398-81d4-3ca821aa7c4c",
   "metadata": {},
   "outputs": [],
   "source": [
    "# 자 그럼 이걸 함수로 만들어보자.\n",
    "# 만들 때, 최소 최대값이 중복된 경우도 제거해보도록 하자"
   ]
  },
  {
   "cell_type": "code",
   "execution_count": 13,
   "id": "46d29e08-ed76-4201-8416-8a8a2b66f536",
   "metadata": {},
   "outputs": [],
   "source": [
    "targetList = [120, 150, 300, 500, 1000, 100, 200]"
   ]
  },
  {
   "cell_type": "code",
   "execution_count": 34,
   "id": "41f57ca0-583c-4d7a-8cce-53defcc35cfd",
   "metadata": {},
   "outputs": [],
   "source": [
    "def listAverage(targetList):\n",
    "    \n",
    "    \"\"\"\n",
    "    리스트 내 값의 최대, 최소값을 모두 제거하고\n",
    "    평균을 출력하는 함수입니다.\n",
    "    targetList : 숫자 타입의 값을 지닌 리스트\n",
    "    \"\"\"\n",
    "    \n",
    "    # targetList = [120, 150, 300, 500, 1000, 100, 200]\n",
    "    \n",
    "    maxTargetList = max(targetList)\n",
    "\n",
    "    # maxTargetList\n",
    "\n",
    "    countMax = targetList.count(maxTargetList)\n",
    "\n",
    "    # countMax\n",
    "\n",
    "    minTargetList = min(targetList)\n",
    "\n",
    "    # minTargetList\n",
    "\n",
    "    countMin = targetList.count(minTargetList)\n",
    "\n",
    "    # countMin\n",
    "\n",
    "    targetList.sort(reverse = False)\n",
    "\n",
    "    targetList = targetList[countMin:]\n",
    "    # 최소값 개수만큼 리스트 내 값을 제거\n",
    "\n",
    "    targetList.sort(reverse = True)\n",
    "\n",
    "    targetList = targetList[countMax:]\n",
    "    # 최대값 개수만큼 리스트 내 값을 제거\n",
    "\n",
    "    avgList = sum(targetList)\n",
    "    lenList = len(targetList)\n",
    "    average = avgList / lenList\n",
    "\n",
    "    return average"
   ]
  },
  {
   "cell_type": "code",
   "execution_count": 35,
   "id": "cf79cbfb-105c-48d6-87b1-544c72a61751",
   "metadata": {},
   "outputs": [
    {
     "data": {
      "text/plain": [
       "280.0"
      ]
     },
     "execution_count": 35,
     "metadata": {},
     "output_type": "execute_result"
    }
   ],
   "source": [
    "listAverage([100, 200, 300, 100, 200, 500, 600, 200])"
   ]
  }
 ],
 "metadata": {
  "kernelspec": {
   "display_name": "Python 3 (ipykernel)",
   "language": "python",
   "name": "python3"
  },
  "language_info": {
   "codemirror_mode": {
    "name": "ipython",
    "version": 3
   },
   "file_extension": ".py",
   "mimetype": "text/x-python",
   "name": "python",
   "nbconvert_exporter": "python",
   "pygments_lexer": "ipython3",
   "version": "3.9.13"
  }
 },
 "nbformat": 4,
 "nbformat_minor": 5
}
