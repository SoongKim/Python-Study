{
 "cells": [
  {
   "cell_type": "markdown",
   "id": "89bf2aee-150b-4d33-b7ad-423a090dd739",
   "metadata": {},
   "source": [
    "“SEC 20180212 250” 문자열 생성 후\n",
    "stock_name, date, value로 각각 의미하는\n",
    "문자열을 생성하세요"
   ]
  },
  {
   "cell_type": "code",
   "execution_count": 1,
   "id": "c7da982d-ca72-4b58-b0c5-673e100d8f6d",
   "metadata": {},
   "outputs": [],
   "source": [
    "targetString = \"SEC 20180212 250\""
   ]
  },
  {
   "cell_type": "code",
   "execution_count": 2,
   "id": "6fcf3a20-f130-4ce4-9cf0-f038d20d8699",
   "metadata": {},
   "outputs": [],
   "source": [
    "splitLetter = \" \""
   ]
  },
  {
   "cell_type": "code",
   "execution_count": 4,
   "id": "a332e1bd-2df7-49fb-80a9-fd40fc66c0ce",
   "metadata": {},
   "outputs": [],
   "source": [
    "strings = targetString.split(splitLetter)"
   ]
  },
  {
   "cell_type": "code",
   "execution_count": 5,
   "id": "7779c3a3-726a-455a-81cc-a6597795c81b",
   "metadata": {},
   "outputs": [
    {
     "data": {
      "text/plain": [
       "['SEC', '20180212', '250']"
      ]
     },
     "execution_count": 5,
     "metadata": {},
     "output_type": "execute_result"
    }
   ],
   "source": [
    "strings"
   ]
  },
  {
   "cell_type": "code",
   "execution_count": 6,
   "id": "81fe8a82-ef04-4459-abe8-e49209382e97",
   "metadata": {},
   "outputs": [],
   "source": [
    "stock_name = strings[0]"
   ]
  },
  {
   "cell_type": "code",
   "execution_count": 7,
   "id": "3260332a-4e92-42e1-bfd9-f4ecf02033b9",
   "metadata": {},
   "outputs": [
    {
     "data": {
      "text/plain": [
       "'SEC'"
      ]
     },
     "execution_count": 7,
     "metadata": {},
     "output_type": "execute_result"
    }
   ],
   "source": [
    "stock_name"
   ]
  },
  {
   "cell_type": "code",
   "execution_count": 8,
   "id": "97496d65-5782-4fe3-9327-ec0c92118851",
   "metadata": {},
   "outputs": [],
   "source": [
    "date = strings[1]"
   ]
  },
  {
   "cell_type": "code",
   "execution_count": 9,
   "id": "15f3129f-9453-433e-9a6d-a3beac0b977c",
   "metadata": {},
   "outputs": [
    {
     "data": {
      "text/plain": [
       "'20180212'"
      ]
     },
     "execution_count": 9,
     "metadata": {},
     "output_type": "execute_result"
    }
   ],
   "source": [
    "date"
   ]
  },
  {
   "cell_type": "code",
   "execution_count": 11,
   "id": "04995a54-492f-45b0-8785-7340de1b3f91",
   "metadata": {},
   "outputs": [],
   "source": [
    "value = strings[2]"
   ]
  },
  {
   "cell_type": "code",
   "execution_count": 12,
   "id": "c636f590-4bdb-4c40-9046-15dc5a35f3aa",
   "metadata": {},
   "outputs": [
    {
     "data": {
      "text/plain": [
       "'250'"
      ]
     },
     "execution_count": 12,
     "metadata": {},
     "output_type": "execute_result"
    }
   ],
   "source": [
    "value"
   ]
  },
  {
   "cell_type": "code",
   "execution_count": null,
   "id": "b696bf48-fa0a-49e7-9d6f-c247b9cd18bf",
   "metadata": {},
   "outputs": [],
   "source": []
  },
  {
   "cell_type": "markdown",
   "id": "8e086b93-45e5-4f6e-ac4e-654c607f0e11",
   "metadata": {},
   "source": [
    "“Sec 2018W28 250” 문자열 생성 후\n",
    "stock_name, date, value로 각각 의미하는\n",
    "문자열을 생성하세요\n",
    "(단 모두 대문자여야 하며, ‘W’를 삭제해야함)"
   ]
  },
  {
   "cell_type": "code",
   "execution_count": 13,
   "id": "2c56f5d2-7c04-4591-812d-d1c1f43df5a3",
   "metadata": {},
   "outputs": [],
   "source": [
    "target = \"Sec 2018W28 250\""
   ]
  },
  {
   "cell_type": "code",
   "execution_count": 14,
   "id": "b996ed6e-6bbf-4ef6-8153-c4cbbc84d150",
   "metadata": {},
   "outputs": [],
   "source": [
    "target2 = target.upper()"
   ]
  },
  {
   "cell_type": "code",
   "execution_count": 18,
   "id": "83ea6052-ac6d-4208-94d5-acd95d69ae02",
   "metadata": {},
   "outputs": [
    {
     "data": {
      "text/plain": [
       "'SEC 2018W28 250'"
      ]
     },
     "execution_count": 18,
     "metadata": {},
     "output_type": "execute_result"
    }
   ],
   "source": [
    "target2"
   ]
  },
  {
   "cell_type": "code",
   "execution_count": 16,
   "id": "079de876-2ace-46cc-95da-558a6e88803a",
   "metadata": {},
   "outputs": [],
   "source": [
    "targetLetter = \"W\""
   ]
  },
  {
   "cell_type": "code",
   "execution_count": 19,
   "id": "fe9df287-1caa-4a16-8852-06f06212242f",
   "metadata": {},
   "outputs": [],
   "source": [
    "target3 = target2.replace(targetLetter, \"\")"
   ]
  },
  {
   "cell_type": "code",
   "execution_count": 20,
   "id": "d44380ad-f09d-4741-bfbf-58cd7efb9862",
   "metadata": {},
   "outputs": [
    {
     "data": {
      "text/plain": [
       "'SEC 201828 250'"
      ]
     },
     "execution_count": 20,
     "metadata": {},
     "output_type": "execute_result"
    }
   ],
   "source": [
    "target3"
   ]
  },
  {
   "cell_type": "code",
   "execution_count": 21,
   "id": "22cb7b2c-4c96-48a6-b764-c40ff6cd7a94",
   "metadata": {},
   "outputs": [],
   "source": [
    "splitPoint = \" \""
   ]
  },
  {
   "cell_type": "code",
   "execution_count": 22,
   "id": "a4a1c1c1-5835-4ac3-91ad-080d786bef96",
   "metadata": {},
   "outputs": [],
   "source": [
    "target4 = target3.split(splitPoint)"
   ]
  },
  {
   "cell_type": "code",
   "execution_count": 23,
   "id": "6b98504d-99cb-4466-a775-133e92759c3b",
   "metadata": {},
   "outputs": [
    {
     "data": {
      "text/plain": [
       "['SEC', '201828', '250']"
      ]
     },
     "execution_count": 23,
     "metadata": {},
     "output_type": "execute_result"
    }
   ],
   "source": [
    "target4"
   ]
  },
  {
   "cell_type": "code",
   "execution_count": 24,
   "id": "1d6cda0d-52cb-49fa-b077-daee561353a0",
   "metadata": {},
   "outputs": [],
   "source": [
    "stock_name02 = target4[0]"
   ]
  },
  {
   "cell_type": "code",
   "execution_count": 25,
   "id": "796de389-676d-4f19-af84-006335e85d58",
   "metadata": {},
   "outputs": [
    {
     "data": {
      "text/plain": [
       "'SEC'"
      ]
     },
     "execution_count": 25,
     "metadata": {},
     "output_type": "execute_result"
    }
   ],
   "source": [
    "stock_name02"
   ]
  },
  {
   "cell_type": "code",
   "execution_count": 26,
   "id": "7889844c-52e2-48c1-bdc9-f33933c73d4d",
   "metadata": {},
   "outputs": [],
   "source": [
    "date02 = target4[1]"
   ]
  },
  {
   "cell_type": "code",
   "execution_count": 27,
   "id": "9a150f1d-fc59-40b6-9ce3-025df11c8aef",
   "metadata": {},
   "outputs": [
    {
     "data": {
      "text/plain": [
       "'201828'"
      ]
     },
     "execution_count": 27,
     "metadata": {},
     "output_type": "execute_result"
    }
   ],
   "source": [
    "date02"
   ]
  },
  {
   "cell_type": "code",
   "execution_count": 28,
   "id": "ce5418d9-cddb-4804-9cb2-815cabd41000",
   "metadata": {},
   "outputs": [],
   "source": [
    "value = target4[2]"
   ]
  },
  {
   "cell_type": "code",
   "execution_count": 29,
   "id": "e72c7e96-3196-4e20-98cf-5f8b542e6ebd",
   "metadata": {},
   "outputs": [
    {
     "data": {
      "text/plain": [
       "'250'"
      ]
     },
     "execution_count": 29,
     "metadata": {},
     "output_type": "execute_result"
    }
   ],
   "source": [
    "value"
   ]
  }
 ],
 "metadata": {
  "kernelspec": {
   "display_name": "Python 3 (ipykernel)",
   "language": "python",
   "name": "python3"
  },
  "language_info": {
   "codemirror_mode": {
    "name": "ipython",
    "version": 3
   },
   "file_extension": ".py",
   "mimetype": "text/x-python",
   "name": "python",
   "nbconvert_exporter": "python",
   "pygments_lexer": "ipython3",
   "version": "3.9.13"
  }
 },
 "nbformat": 4,
 "nbformat_minor": 5
}
