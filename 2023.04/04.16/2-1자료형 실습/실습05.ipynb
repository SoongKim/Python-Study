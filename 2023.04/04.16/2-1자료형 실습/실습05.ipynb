{
 "cells": [
  {
   "cell_type": "markdown",
   "id": "381d5045-3033-443c-83f0-2be45c8561e7",
   "metadata": {},
   "source": [
    "np.random 하위의 함수를 검색하여\n",
    "예: random 또는 randint\n",
    "0~10사이의 random함수를 생성하세요"
   ]
  },
  {
   "cell_type": "code",
   "execution_count": 1,
   "id": "99e7626a-5766-43de-93c3-b9432ec86970",
   "metadata": {},
   "outputs": [],
   "source": [
    "import numpy as np"
   ]
  },
  {
   "cell_type": "code",
   "execution_count": 3,
   "id": "a57ab65d-b58b-42f4-ac89-49109b363a34",
   "metadata": {},
   "outputs": [
    {
     "name": "stdout",
     "output_type": "stream",
     "text": [
      "5\n",
      "9\n",
      "5\n",
      "9\n",
      "1\n",
      "9\n",
      "8\n",
      "1\n",
      "6\n",
      "5\n"
     ]
    }
   ],
   "source": [
    "i = 0\n",
    "targetNum = 10\n",
    "while(i < targetNum):\n",
    "    print(np.random.randint(10))\n",
    "    i = i+1"
   ]
  },
  {
   "cell_type": "code",
   "execution_count": null,
   "id": "6d8da235-ed15-4db8-b3b6-7272f955ea3c",
   "metadata": {},
   "outputs": [],
   "source": [
    "# while문을 사용하였다. true / false 구분을 위해\n",
    "# i가 1씩 성장하도록 설정. 이거 없으면 무한 루프행이다."
   ]
  }
 ],
 "metadata": {
  "kernelspec": {
   "display_name": "Python 3 (ipykernel)",
   "language": "python",
   "name": "python3"
  },
  "language_info": {
   "codemirror_mode": {
    "name": "ipython",
    "version": 3
   },
   "file_extension": ".py",
   "mimetype": "text/x-python",
   "name": "python",
   "nbconvert_exporter": "python",
   "pygments_lexer": "ipython3",
   "version": "3.9.13"
  }
 },
 "nbformat": 4,
 "nbformat_minor": 5
}
