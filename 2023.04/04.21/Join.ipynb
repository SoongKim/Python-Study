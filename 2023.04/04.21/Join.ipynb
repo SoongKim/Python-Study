{
 "cells": [
  {
   "cell_type": "code",
   "execution_count": null,
   "id": "0420f499-369b-46ae-b605-2329d2b2a099",
   "metadata": {},
   "outputs": [],
   "source": [
    "# 데이터의 병합\n",
    "# 1. 속성 값을 추가하는 경우\n",
    "# 2. 동일한 컬럼 데이터를 합치는 경우(Database의 Union과 같은 개념)"
   ]
  },
  {
   "cell_type": "markdown",
   "id": "71164f1b-d75a-492f-b7f3-e7ea8722aaad",
   "metadata": {},
   "source": [
    "1. Join 함수"
   ]
  },
  {
   "cell_type": "code",
   "execution_count": 1,
   "id": "07292bb6-0162-4229-8ffa-72fdab17471f",
   "metadata": {},
   "outputs": [],
   "source": [
    "import pandas as pd"
   ]
  },
  {
   "cell_type": "code",
   "execution_count": 15,
   "id": "7ebaca87-4640-4387-84cd-f3ceb499f510",
   "metadata": {},
   "outputs": [],
   "source": [
    "joinMaster = pd.read_csv(\"../../stdcode6/dataset/join_region_master.csv\", encoding = 'ms949')"
   ]
  },
  {
   "cell_type": "code",
   "execution_count": 16,
   "id": "e7cba003-9eb0-4504-92b5-1e016e74e880",
   "metadata": {},
   "outputs": [
    {
     "data": {
      "text/html": [
       "<div>\n",
       "<style scoped>\n",
       "    .dataframe tbody tr th:only-of-type {\n",
       "        vertical-align: middle;\n",
       "    }\n",
       "\n",
       "    .dataframe tbody tr th {\n",
       "        vertical-align: top;\n",
       "    }\n",
       "\n",
       "    .dataframe thead th {\n",
       "        text-align: right;\n",
       "    }\n",
       "</style>\n",
       "<table border=\"1\" class=\"dataframe\">\n",
       "  <thead>\n",
       "    <tr style=\"text-align: right;\">\n",
       "      <th></th>\n",
       "      <th>REGIONID</th>\n",
       "      <th>REGIONNAME</th>\n",
       "    </tr>\n",
       "  </thead>\n",
       "  <tbody>\n",
       "    <tr>\n",
       "      <th>0</th>\n",
       "      <td>A01</td>\n",
       "      <td>한국</td>\n",
       "    </tr>\n",
       "    <tr>\n",
       "      <th>1</th>\n",
       "      <td>A02</td>\n",
       "      <td>미국</td>\n",
       "    </tr>\n",
       "    <tr>\n",
       "      <th>2</th>\n",
       "      <td>A03</td>\n",
       "      <td>프랑스</td>\n",
       "    </tr>\n",
       "    <tr>\n",
       "      <th>3</th>\n",
       "      <td>A04</td>\n",
       "      <td>독일</td>\n",
       "    </tr>\n",
       "  </tbody>\n",
       "</table>\n",
       "</div>"
      ],
      "text/plain": [
       "  REGIONID REGIONNAME\n",
       "0      A01         한국\n",
       "1      A02         미국\n",
       "2      A03        프랑스\n",
       "3      A04         독일"
      ]
     },
     "execution_count": 16,
     "metadata": {},
     "output_type": "execute_result"
    }
   ],
   "source": [
    "joinMaster"
   ]
  },
  {
   "cell_type": "code",
   "execution_count": 8,
   "id": "c99547ad-6495-4173-b107-7b790449cd75",
   "metadata": {},
   "outputs": [],
   "source": [
    "volDf = pd.read_csv(\"../../stdcode6/dataset/join_kopo_product_volume.csv\")"
   ]
  },
  {
   "cell_type": "code",
   "execution_count": 17,
   "id": "f7fa954a-e856-46bf-8238-ae6131ed1dbb",
   "metadata": {},
   "outputs": [
    {
     "data": {
      "text/html": [
       "<div>\n",
       "<style scoped>\n",
       "    .dataframe tbody tr th:only-of-type {\n",
       "        vertical-align: middle;\n",
       "    }\n",
       "\n",
       "    .dataframe tbody tr th {\n",
       "        vertical-align: top;\n",
       "    }\n",
       "\n",
       "    .dataframe thead th {\n",
       "        text-align: right;\n",
       "    }\n",
       "</style>\n",
       "<table border=\"1\" class=\"dataframe\">\n",
       "  <thead>\n",
       "    <tr style=\"text-align: right;\">\n",
       "      <th></th>\n",
       "      <th>REGIONID</th>\n",
       "      <th>PRODUCT</th>\n",
       "      <th>YEARWEEK</th>\n",
       "      <th>QTY</th>\n",
       "    </tr>\n",
       "  </thead>\n",
       "  <tbody>\n",
       "    <tr>\n",
       "      <th>0</th>\n",
       "      <td>A01</td>\n",
       "      <td>ST0001</td>\n",
       "      <td>201901</td>\n",
       "      <td>3000</td>\n",
       "    </tr>\n",
       "    <tr>\n",
       "      <th>1</th>\n",
       "      <td>A01</td>\n",
       "      <td>ST0001</td>\n",
       "      <td>201902</td>\n",
       "      <td>3500</td>\n",
       "    </tr>\n",
       "    <tr>\n",
       "      <th>2</th>\n",
       "      <td>A02</td>\n",
       "      <td>ST0002</td>\n",
       "      <td>201901</td>\n",
       "      <td>4000</td>\n",
       "    </tr>\n",
       "    <tr>\n",
       "      <th>3</th>\n",
       "      <td>A02</td>\n",
       "      <td>ST0003</td>\n",
       "      <td>201902</td>\n",
       "      <td>7000</td>\n",
       "    </tr>\n",
       "  </tbody>\n",
       "</table>\n",
       "</div>"
      ],
      "text/plain": [
       "  REGIONID PRODUCT  YEARWEEK   QTY\n",
       "0      A01  ST0001    201901  3000\n",
       "1      A01  ST0001    201902  3500\n",
       "2      A02  ST0002    201901  4000\n",
       "3      A02  ST0003    201902  7000"
      ]
     },
     "execution_count": 17,
     "metadata": {},
     "output_type": "execute_result"
    }
   ],
   "source": [
    "volDf"
   ]
  },
  {
   "cell_type": "code",
   "execution_count": 24,
   "id": "dc155ca4-b8a3-40a9-84f0-6d95ea7b76e7",
   "metadata": {},
   "outputs": [],
   "source": [
    "mergeResult = pd.merge(left=joinMaster,\n",
    "                       right=volDf,\n",
    "                       left_on=\"REGIONID\",\n",
    "                       right_on=\"REGIONID\",\n",
    "                       how=\"inner\")\\\n",
    "[[\"REGIONID\", \"REGIONNAME\", \"PRODUCT\", \"YEARWEEK\", \"QTY\"]]"
   ]
  },
  {
   "cell_type": "code",
   "execution_count": 25,
   "id": "2b60003c-0a76-4d36-a666-fcc3654be816",
   "metadata": {},
   "outputs": [
    {
     "data": {
      "text/html": [
       "<div>\n",
       "<style scoped>\n",
       "    .dataframe tbody tr th:only-of-type {\n",
       "        vertical-align: middle;\n",
       "    }\n",
       "\n",
       "    .dataframe tbody tr th {\n",
       "        vertical-align: top;\n",
       "    }\n",
       "\n",
       "    .dataframe thead th {\n",
       "        text-align: right;\n",
       "    }\n",
       "</style>\n",
       "<table border=\"1\" class=\"dataframe\">\n",
       "  <thead>\n",
       "    <tr style=\"text-align: right;\">\n",
       "      <th></th>\n",
       "      <th>REGIONID</th>\n",
       "      <th>REGIONNAME</th>\n",
       "      <th>PRODUCT</th>\n",
       "      <th>YEARWEEK</th>\n",
       "      <th>QTY</th>\n",
       "    </tr>\n",
       "  </thead>\n",
       "  <tbody>\n",
       "    <tr>\n",
       "      <th>0</th>\n",
       "      <td>A01</td>\n",
       "      <td>한국</td>\n",
       "      <td>ST0001</td>\n",
       "      <td>201901</td>\n",
       "      <td>3000</td>\n",
       "    </tr>\n",
       "    <tr>\n",
       "      <th>1</th>\n",
       "      <td>A01</td>\n",
       "      <td>한국</td>\n",
       "      <td>ST0001</td>\n",
       "      <td>201902</td>\n",
       "      <td>3500</td>\n",
       "    </tr>\n",
       "    <tr>\n",
       "      <th>2</th>\n",
       "      <td>A02</td>\n",
       "      <td>미국</td>\n",
       "      <td>ST0002</td>\n",
       "      <td>201901</td>\n",
       "      <td>4000</td>\n",
       "    </tr>\n",
       "    <tr>\n",
       "      <th>3</th>\n",
       "      <td>A02</td>\n",
       "      <td>미국</td>\n",
       "      <td>ST0003</td>\n",
       "      <td>201902</td>\n",
       "      <td>7000</td>\n",
       "    </tr>\n",
       "  </tbody>\n",
       "</table>\n",
       "</div>"
      ],
      "text/plain": [
       "  REGIONID REGIONNAME PRODUCT  YEARWEEK   QTY\n",
       "0      A01         한국  ST0001    201901  3000\n",
       "1      A01         한국  ST0001    201902  3500\n",
       "2      A02         미국  ST0002    201901  4000\n",
       "3      A02         미국  ST0003    201902  7000"
      ]
     },
     "execution_count": 25,
     "metadata": {},
     "output_type": "execute_result"
    }
   ],
   "source": [
    "mergeResult"
   ]
  },
  {
   "cell_type": "code",
   "execution_count": null,
   "id": "2332c8aa-d7d3-4888-892d-a05f71d803e0",
   "metadata": {},
   "outputs": [],
   "source": []
  }
 ],
 "metadata": {
  "kernelspec": {
   "display_name": "Python 3 (ipykernel)",
   "language": "python",
   "name": "python3"
  },
  "language_info": {
   "codemirror_mode": {
    "name": "ipython",
    "version": 3
   },
   "file_extension": ".py",
   "mimetype": "text/x-python",
   "name": "python",
   "nbconvert_exporter": "python",
   "pygments_lexer": "ipython3",
   "version": "3.9.13"
  }
 },
 "nbformat": 4,
 "nbformat_minor": 5
}
