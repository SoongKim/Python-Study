{
 "cells": [
  {
   "cell_type": "code",
   "execution_count": 29,
   "id": "1ca50c15-8340-4a64-adc0-8a4897a203e2",
   "metadata": {},
   "outputs": [],
   "source": [
    "def dayCalc(_inputData, _pastData):\n",
    "    \"\"\"\n",
    "    8자리 정수 형태로 현재 연월일 정보를 입력받아 회귀일수 만큼 이전의 연월일 형태로 정보를 출력하는 함수입니다.\n",
    "    결과값을 정수 형태로 출력합니다.\n",
    "    사용변수:\n",
    "    inputData(int) : year+month+days 정보로 구성된 8자리 연월일 데이터로, 정수 타입 데이터 입력을 요합니다.\n",
    "    pastData(int) : inputData로부터 회귀하고자 하는 일자 데이터로, 정수 타입 데이터 입력을 요합니다.\n",
    "    본 함수는 연산 간 calendar와 zfill 함수를 사용합니다.\n",
    "    \"\"\"\n",
    "\n",
    "    import calendar\n",
    "\n",
    "    _yearData = int(str(_inputData)[0:4])\n",
    "    _monthData = int(str(_inputData)[4:6])\n",
    "    _dateData = int(str(_inputData)[6:])\n",
    "    _target01 = _dateData - _pastData\n",
    "\n",
    "    if(_target01 > 0):\n",
    "        _result = str(_yearData) + str(_monthData).zfill(2) + str(_target01).zfill(2)\n",
    "\n",
    "    elif(_target01 == 0):\n",
    "        _monthData = _monthData - 1\n",
    "        if(_monthData == 0):\n",
    "           _yearData = _yearData - 1\n",
    "           _monthData = _monthData + 12\n",
    "        else:\n",
    "            pass\n",
    "        _target02 = calendar.monthrange(_yearData, _monthData)[1]\n",
    "        \n",
    "        _result = str(_yearData) + str(_monthData).zfill(2) + str(_target02).zfill(2)\n",
    "    \n",
    "    else:\n",
    "        _remainDays = _pastData - _dateData\n",
    "        _monthData = _monthData - 1\n",
    "        if(_monthData == 0):\n",
    "            _yearData = _yearData - 1\n",
    "            _monthData = _monthData + 12\n",
    "\n",
    "        while(_remainDays > 31):\n",
    "            _remainDays = _remainDays - calendar.monthrange(_yearData, _monthData)[1]\n",
    "            _monthData = _monthData - 1\n",
    "            if(_monthData == 0):\n",
    "                _yearData = _yearData - 1\n",
    "                _monthData = _monthData + 12\n",
    "        else:\n",
    "            _target03 = calendar.monthrange(_yearData, _monthData)[1] - _remainDays\n",
    "            if(_target03 == 0):\n",
    "                _monthData = _monthData - 1\n",
    "                if(_monthData == 0):\n",
    "                    _yearData = _yearData - 1\n",
    "                    _monthData = _monthData + 12\n",
    "                    _target03 = calendar.monthrange(_yearData, _monthData)[1]\n",
    "            else:\n",
    "                pass\n",
    "        \n",
    "        _result = str(_yearData) + str(_monthData).zfill(2) + str(_target03).zfill(2)\n",
    "\n",
    "    return int(_result)"
   ]
  },
  {
   "cell_type": "code",
   "execution_count": 32,
   "id": "47c0e4ea-9e33-49e1-a1a7-a95ebd969912",
   "metadata": {},
   "outputs": [
    {
     "data": {
      "text/plain": [
       "20141231"
      ]
     },
     "execution_count": 32,
     "metadata": {},
     "output_type": "execute_result"
    }
   ],
   "source": [
    "dayCalc(20150331, 90)"
   ]
  }
 ],
 "metadata": {
  "kernelspec": {
   "display_name": "Python 3 (ipykernel)",
   "language": "python",
   "name": "python3"
  },
  "language_info": {
   "codemirror_mode": {
    "name": "ipython",
    "version": 3
   },
   "file_extension": ".py",
   "mimetype": "text/x-python",
   "name": "python",
   "nbconvert_exporter": "python",
   "pygments_lexer": "ipython3",
   "version": "3.9.13"
  }
 },
 "nbformat": 4,
 "nbformat_minor": 5
}
