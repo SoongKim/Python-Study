{
 "cells": [
  {
   "cell_type": "code",
   "execution_count": 1,
   "id": "8335698a-4f68-43e3-993f-33d1eeb6b7c6",
   "metadata": {},
   "outputs": [],
   "source": [
    "def dayCalc(_inputData, _pastData):\n",
    "    \"\"\"\n",
    "    8자리 정수 형태로 현재 연월일 정보를 입력받아 회귀일수 만큼 이전의 연월일 형태로 정보를 출력하는 함수입니다.\n",
    "    결과값을 문자열 형태로 출력합니다.\n",
    "    사용변수:\n",
    "    inputData(int) : year+month+days 정보로 구성된 8자리 연월일 데이터로, 정수 타입 데이터 입력을 요합니다.\n",
    "    pastData(int) : inputData로부터 회귀하고자 하는 일자 데이터로, 정수 타입 데이터 입력을 요합니다.\n",
    "    본 함수 사용을 위해서는 calendar 함수가 필요합니다.\n",
    "    \"\"\"\n",
    "\n",
    "\n",
    "    # inputData = 20230130\n",
    "\n",
    "    # pastData = 32\n",
    "\n",
    "    import calendar\n",
    "\n",
    "    _yearData = int(str(_inputData)[0:4])\n",
    "\n",
    "    _monthData = int(str(_inputData)[4:6])\n",
    "\n",
    "    _dateData = int(str(_inputData)[6:])\n",
    "\n",
    "    _target01 = _dateData - _pastData\n",
    "\n",
    "    if(_target01 > 0):\n",
    "        if(_target01 < 10):\n",
    "            if(_monthData < 10):\n",
    "                _result = str(_yearData) + \"0\" + str(_monthData) + \"0\" + str(_target01)\n",
    "            else:\n",
    "                _result = str(_yearData) + str(_monthData) + \"0\" + str(_target01)    \n",
    "        else:\n",
    "            if(monthData < 10):\n",
    "                _result = str(_yearData) + \"0\" + str(_monthData) + str(_target01)\n",
    "            else:\n",
    "                _result = str(_yearData) + str(_monthData) + str(_target01)\n",
    "\n",
    "    elif(_target01 == 0):\n",
    "        _monthData = _monthData - 1\n",
    "        if(_monthData == 0):\n",
    "           _yearData = _yearData - 1\n",
    "           _monthData = _monthData + 12\n",
    "        else:\n",
    "            pass\n",
    "        _target02 = calendar.monthrange(_yearData, _monthData)[1]\n",
    "        if(_monthData < 10):\n",
    "            _result = str(_yearData) + \"0\" + str(_monthData) + str(_target02)\n",
    "        else:\n",
    "            _result = str(_yearData) + str(_monthData) + str(_target02)\n",
    "    \n",
    "    else:\n",
    "        _remainDays = _pastData - _dateData\n",
    "        _monthData = _monthData - 1\n",
    "        if(_monthData == 0):\n",
    "            _yearData = _yearData - 1\n",
    "            _monthData = _monthData + 12\n",
    "\n",
    "        while(_remainDays > 31):\n",
    "            _remainDays = _remainDays - calendar.monthrange(_yearData, _monthData)[1]\n",
    "            _monthData = _monthData - 1\n",
    "            if(_monthData == 0):\n",
    "                _yearData = _yearData - 1\n",
    "                _monthData = _monthData + 12    \n",
    "        else:\n",
    "            _target03 = calendar.monthrange(_yearData, _monthData)[1] - _remainDays\n",
    "            pass\n",
    "        if(_target03 < 10):\n",
    "            if(_monthData < 10):\n",
    "                _result = str(_yearData) + \"0\" + str(_monthData) + \"0\" + str(_target03)\n",
    "            else:\n",
    "                _result = str(_yearData) + str(_monthData) + \"0\" + str(_target03)\n",
    "        else:\n",
    "            if(_monthData < 10):\n",
    "                _result = str(_yearData) + \"0\" + str(_monthData) + str(_target03)\n",
    "            else:\n",
    "                _result = str(_yearData) + str(_monthData) + str(_target03)\n",
    "\n",
    "    return _result"
   ]
  },
  {
   "cell_type": "code",
   "execution_count": 77,
   "id": "5371ec8a-593e-4243-af98-92ff26f28353",
   "metadata": {},
   "outputs": [
    {
     "data": {
      "text/plain": [
       "'20150228'"
      ]
     },
     "execution_count": 77,
     "metadata": {},
     "output_type": "execute_result"
    }
   ],
   "source": [
    "dayCals(20150330, 30)"
   ]
  }
 ],
 "metadata": {
  "kernelspec": {
   "display_name": "Python 3 (ipykernel)",
   "language": "python",
   "name": "python3"
  },
  "language_info": {
   "codemirror_mode": {
    "name": "ipython",
    "version": 3
   },
   "file_extension": ".py",
   "mimetype": "text/x-python",
   "name": "python",
   "nbconvert_exporter": "python",
   "pygments_lexer": "ipython3",
   "version": "3.9.13"
  }
 },
 "nbformat": 4,
 "nbformat_minor": 5
}
